{
  "nbformat": 4,
  "nbformat_minor": 0,
  "metadata": {
    "colab": {
      "name": "Aula_8_Exercício.ipynb",
      "provenance": [],
      "collapsed_sections": [],
      "include_colab_link": true
    },
    "kernelspec": {
      "name": "python3",
      "display_name": "Python 3"
    },
    "accelerator": "GPU",
    "widgets": {
      "application/vnd.jupyter.widget-state+json": {
        "5a87aea6357a4b1a9fa58f50de1ed5e5": {
          "model_module": "@jupyter-widgets/controls",
          "model_name": "HBoxModel",
          "model_module_version": "1.5.0",
          "state": {
            "_dom_classes": [],
            "_model_module": "@jupyter-widgets/controls",
            "_model_module_version": "1.5.0",
            "_model_name": "HBoxModel",
            "_view_count": null,
            "_view_module": "@jupyter-widgets/controls",
            "_view_module_version": "1.5.0",
            "_view_name": "HBoxView",
            "box_style": "",
            "children": [
              "IPY_MODEL_ca82f3a233c2451f97b6a937e9c1e491",
              "IPY_MODEL_d39632e2708e4bcb814ac5d6b02b61a4",
              "IPY_MODEL_6d207dd4c3824eec959e4f012a8294e2"
            ],
            "layout": "IPY_MODEL_70ad6ac6254f4d9eb3e940204d6f70f7"
          }
        },
        "ca82f3a233c2451f97b6a937e9c1e491": {
          "model_module": "@jupyter-widgets/controls",
          "model_name": "HTMLModel",
          "model_module_version": "1.5.0",
          "state": {
            "_dom_classes": [],
            "_model_module": "@jupyter-widgets/controls",
            "_model_module_version": "1.5.0",
            "_model_name": "HTMLModel",
            "_view_count": null,
            "_view_module": "@jupyter-widgets/controls",
            "_view_module_version": "1.5.0",
            "_view_name": "HTMLView",
            "description": "",
            "description_tooltip": null,
            "layout": "IPY_MODEL_9adaffac76ad4c3cb4584db8e1b5a8a9",
            "placeholder": "​",
            "style": "IPY_MODEL_5456edbf9af944cba83686492f67a763",
            "value": "100%"
          }
        },
        "d39632e2708e4bcb814ac5d6b02b61a4": {
          "model_module": "@jupyter-widgets/controls",
          "model_name": "FloatProgressModel",
          "model_module_version": "1.5.0",
          "state": {
            "_dom_classes": [],
            "_model_module": "@jupyter-widgets/controls",
            "_model_module_version": "1.5.0",
            "_model_name": "FloatProgressModel",
            "_view_count": null,
            "_view_module": "@jupyter-widgets/controls",
            "_view_module_version": "1.5.0",
            "_view_name": "ProgressView",
            "bar_style": "success",
            "description": "",
            "description_tooltip": null,
            "layout": "IPY_MODEL_5d5520a34f5a409f9be5d00ea4536465",
            "max": 2,
            "min": 0,
            "orientation": "horizontal",
            "style": "IPY_MODEL_2930946e27244ed59c6271a08a6e8c8e",
            "value": 2
          }
        },
        "6d207dd4c3824eec959e4f012a8294e2": {
          "model_module": "@jupyter-widgets/controls",
          "model_name": "HTMLModel",
          "model_module_version": "1.5.0",
          "state": {
            "_dom_classes": [],
            "_model_module": "@jupyter-widgets/controls",
            "_model_module_version": "1.5.0",
            "_model_name": "HTMLModel",
            "_view_count": null,
            "_view_module": "@jupyter-widgets/controls",
            "_view_module_version": "1.5.0",
            "_view_name": "HTMLView",
            "description": "",
            "description_tooltip": null,
            "layout": "IPY_MODEL_ce1700d8b0504134835db342dc9a13eb",
            "placeholder": "​",
            "style": "IPY_MODEL_8990c56ccd0c47bb94fb10c75f8943c0",
            "value": " 2/2 [00:00&lt;00:00, 21.20it/s]"
          }
        },
        "70ad6ac6254f4d9eb3e940204d6f70f7": {
          "model_module": "@jupyter-widgets/base",
          "model_name": "LayoutModel",
          "model_module_version": "1.2.0",
          "state": {
            "_model_module": "@jupyter-widgets/base",
            "_model_module_version": "1.2.0",
            "_model_name": "LayoutModel",
            "_view_count": null,
            "_view_module": "@jupyter-widgets/base",
            "_view_module_version": "1.2.0",
            "_view_name": "LayoutView",
            "align_content": null,
            "align_items": null,
            "align_self": null,
            "border": null,
            "bottom": null,
            "display": null,
            "flex": null,
            "flex_flow": null,
            "grid_area": null,
            "grid_auto_columns": null,
            "grid_auto_flow": null,
            "grid_auto_rows": null,
            "grid_column": null,
            "grid_gap": null,
            "grid_row": null,
            "grid_template_areas": null,
            "grid_template_columns": null,
            "grid_template_rows": null,
            "height": null,
            "justify_content": null,
            "justify_items": null,
            "left": null,
            "margin": null,
            "max_height": null,
            "max_width": null,
            "min_height": null,
            "min_width": null,
            "object_fit": null,
            "object_position": null,
            "order": null,
            "overflow": null,
            "overflow_x": null,
            "overflow_y": null,
            "padding": null,
            "right": null,
            "top": null,
            "visibility": null,
            "width": null
          }
        },
        "9adaffac76ad4c3cb4584db8e1b5a8a9": {
          "model_module": "@jupyter-widgets/base",
          "model_name": "LayoutModel",
          "model_module_version": "1.2.0",
          "state": {
            "_model_module": "@jupyter-widgets/base",
            "_model_module_version": "1.2.0",
            "_model_name": "LayoutModel",
            "_view_count": null,
            "_view_module": "@jupyter-widgets/base",
            "_view_module_version": "1.2.0",
            "_view_name": "LayoutView",
            "align_content": null,
            "align_items": null,
            "align_self": null,
            "border": null,
            "bottom": null,
            "display": null,
            "flex": null,
            "flex_flow": null,
            "grid_area": null,
            "grid_auto_columns": null,
            "grid_auto_flow": null,
            "grid_auto_rows": null,
            "grid_column": null,
            "grid_gap": null,
            "grid_row": null,
            "grid_template_areas": null,
            "grid_template_columns": null,
            "grid_template_rows": null,
            "height": null,
            "justify_content": null,
            "justify_items": null,
            "left": null,
            "margin": null,
            "max_height": null,
            "max_width": null,
            "min_height": null,
            "min_width": null,
            "object_fit": null,
            "object_position": null,
            "order": null,
            "overflow": null,
            "overflow_x": null,
            "overflow_y": null,
            "padding": null,
            "right": null,
            "top": null,
            "visibility": null,
            "width": null
          }
        },
        "5456edbf9af944cba83686492f67a763": {
          "model_module": "@jupyter-widgets/controls",
          "model_name": "DescriptionStyleModel",
          "model_module_version": "1.5.0",
          "state": {
            "_model_module": "@jupyter-widgets/controls",
            "_model_module_version": "1.5.0",
            "_model_name": "DescriptionStyleModel",
            "_view_count": null,
            "_view_module": "@jupyter-widgets/base",
            "_view_module_version": "1.2.0",
            "_view_name": "StyleView",
            "description_width": ""
          }
        },
        "5d5520a34f5a409f9be5d00ea4536465": {
          "model_module": "@jupyter-widgets/base",
          "model_name": "LayoutModel",
          "model_module_version": "1.2.0",
          "state": {
            "_model_module": "@jupyter-widgets/base",
            "_model_module_version": "1.2.0",
            "_model_name": "LayoutModel",
            "_view_count": null,
            "_view_module": "@jupyter-widgets/base",
            "_view_module_version": "1.2.0",
            "_view_name": "LayoutView",
            "align_content": null,
            "align_items": null,
            "align_self": null,
            "border": null,
            "bottom": null,
            "display": null,
            "flex": null,
            "flex_flow": null,
            "grid_area": null,
            "grid_auto_columns": null,
            "grid_auto_flow": null,
            "grid_auto_rows": null,
            "grid_column": null,
            "grid_gap": null,
            "grid_row": null,
            "grid_template_areas": null,
            "grid_template_columns": null,
            "grid_template_rows": null,
            "height": null,
            "justify_content": null,
            "justify_items": null,
            "left": null,
            "margin": null,
            "max_height": null,
            "max_width": null,
            "min_height": null,
            "min_width": null,
            "object_fit": null,
            "object_position": null,
            "order": null,
            "overflow": null,
            "overflow_x": null,
            "overflow_y": null,
            "padding": null,
            "right": null,
            "top": null,
            "visibility": null,
            "width": null
          }
        },
        "2930946e27244ed59c6271a08a6e8c8e": {
          "model_module": "@jupyter-widgets/controls",
          "model_name": "ProgressStyleModel",
          "model_module_version": "1.5.0",
          "state": {
            "_model_module": "@jupyter-widgets/controls",
            "_model_module_version": "1.5.0",
            "_model_name": "ProgressStyleModel",
            "_view_count": null,
            "_view_module": "@jupyter-widgets/base",
            "_view_module_version": "1.2.0",
            "_view_name": "StyleView",
            "bar_color": null,
            "description_width": ""
          }
        },
        "ce1700d8b0504134835db342dc9a13eb": {
          "model_module": "@jupyter-widgets/base",
          "model_name": "LayoutModel",
          "model_module_version": "1.2.0",
          "state": {
            "_model_module": "@jupyter-widgets/base",
            "_model_module_version": "1.2.0",
            "_model_name": "LayoutModel",
            "_view_count": null,
            "_view_module": "@jupyter-widgets/base",
            "_view_module_version": "1.2.0",
            "_view_name": "LayoutView",
            "align_content": null,
            "align_items": null,
            "align_self": null,
            "border": null,
            "bottom": null,
            "display": null,
            "flex": null,
            "flex_flow": null,
            "grid_area": null,
            "grid_auto_columns": null,
            "grid_auto_flow": null,
            "grid_auto_rows": null,
            "grid_column": null,
            "grid_gap": null,
            "grid_row": null,
            "grid_template_areas": null,
            "grid_template_columns": null,
            "grid_template_rows": null,
            "height": null,
            "justify_content": null,
            "justify_items": null,
            "left": null,
            "margin": null,
            "max_height": null,
            "max_width": null,
            "min_height": null,
            "min_width": null,
            "object_fit": null,
            "object_position": null,
            "order": null,
            "overflow": null,
            "overflow_x": null,
            "overflow_y": null,
            "padding": null,
            "right": null,
            "top": null,
            "visibility": null,
            "width": null
          }
        },
        "8990c56ccd0c47bb94fb10c75f8943c0": {
          "model_module": "@jupyter-widgets/controls",
          "model_name": "DescriptionStyleModel",
          "model_module_version": "1.5.0",
          "state": {
            "_model_module": "@jupyter-widgets/controls",
            "_model_module_version": "1.5.0",
            "_model_name": "DescriptionStyleModel",
            "_view_count": null,
            "_view_module": "@jupyter-widgets/base",
            "_view_module_version": "1.2.0",
            "_view_name": "StyleView",
            "description_width": ""
          }
        },
        "c8fbe318596a42048d3e29045177a0f9": {
          "model_module": "@jupyter-widgets/controls",
          "model_name": "HBoxModel",
          "model_module_version": "1.5.0",
          "state": {
            "_dom_classes": [],
            "_model_module": "@jupyter-widgets/controls",
            "_model_module_version": "1.5.0",
            "_model_name": "HBoxModel",
            "_view_count": null,
            "_view_module": "@jupyter-widgets/controls",
            "_view_module_version": "1.5.0",
            "_view_name": "HBoxView",
            "box_style": "",
            "children": [
              "IPY_MODEL_495ca772742f48129c9fc46708311fa2",
              "IPY_MODEL_9ad9fd47996e431c8ef722160bd58a71",
              "IPY_MODEL_cd2b121140164e6f8e7bbfea496b8ac1"
            ],
            "layout": "IPY_MODEL_42fb497ff36541c796246420665bc836"
          }
        },
        "495ca772742f48129c9fc46708311fa2": {
          "model_module": "@jupyter-widgets/controls",
          "model_name": "HTMLModel",
          "model_module_version": "1.5.0",
          "state": {
            "_dom_classes": [],
            "_model_module": "@jupyter-widgets/controls",
            "_model_module_version": "1.5.0",
            "_model_name": "HTMLModel",
            "_view_count": null,
            "_view_module": "@jupyter-widgets/controls",
            "_view_module_version": "1.5.0",
            "_view_name": "HTMLView",
            "description": "",
            "description_tooltip": null,
            "layout": "IPY_MODEL_63ee3f9e532e4335b03f6673b108df1a",
            "placeholder": "​",
            "style": "IPY_MODEL_f1456b65d981425c940841a0559d2974",
            "value": "100%"
          }
        },
        "9ad9fd47996e431c8ef722160bd58a71": {
          "model_module": "@jupyter-widgets/controls",
          "model_name": "FloatProgressModel",
          "model_module_version": "1.5.0",
          "state": {
            "_dom_classes": [],
            "_model_module": "@jupyter-widgets/controls",
            "_model_module_version": "1.5.0",
            "_model_name": "FloatProgressModel",
            "_view_count": null,
            "_view_module": "@jupyter-widgets/controls",
            "_view_module_version": "1.5.0",
            "_view_name": "ProgressView",
            "bar_style": "success",
            "description": "",
            "description_tooltip": null,
            "layout": "IPY_MODEL_951c81efe72b4a80b87f471e67182e7d",
            "max": 24800,
            "min": 0,
            "orientation": "horizontal",
            "style": "IPY_MODEL_b67c7c065b374107a973dc2af2cf85c4",
            "value": 24800
          }
        },
        "cd2b121140164e6f8e7bbfea496b8ac1": {
          "model_module": "@jupyter-widgets/controls",
          "model_name": "HTMLModel",
          "model_module_version": "1.5.0",
          "state": {
            "_dom_classes": [],
            "_model_module": "@jupyter-widgets/controls",
            "_model_module_version": "1.5.0",
            "_model_name": "HTMLModel",
            "_view_count": null,
            "_view_module": "@jupyter-widgets/controls",
            "_view_module_version": "1.5.0",
            "_view_name": "HTMLView",
            "description": "",
            "description_tooltip": null,
            "layout": "IPY_MODEL_2d2c352508ec49629a41690fa2ff1183",
            "placeholder": "​",
            "style": "IPY_MODEL_7e893851ff654e5aab8e8e29916ca58c",
            "value": " 24800/24800 [08:41&lt;00:00, 82.64it/s]"
          }
        },
        "42fb497ff36541c796246420665bc836": {
          "model_module": "@jupyter-widgets/base",
          "model_name": "LayoutModel",
          "model_module_version": "1.2.0",
          "state": {
            "_model_module": "@jupyter-widgets/base",
            "_model_module_version": "1.2.0",
            "_model_name": "LayoutModel",
            "_view_count": null,
            "_view_module": "@jupyter-widgets/base",
            "_view_module_version": "1.2.0",
            "_view_name": "LayoutView",
            "align_content": null,
            "align_items": null,
            "align_self": null,
            "border": null,
            "bottom": null,
            "display": null,
            "flex": null,
            "flex_flow": null,
            "grid_area": null,
            "grid_auto_columns": null,
            "grid_auto_flow": null,
            "grid_auto_rows": null,
            "grid_column": null,
            "grid_gap": null,
            "grid_row": null,
            "grid_template_areas": null,
            "grid_template_columns": null,
            "grid_template_rows": null,
            "height": null,
            "justify_content": null,
            "justify_items": null,
            "left": null,
            "margin": null,
            "max_height": null,
            "max_width": null,
            "min_height": null,
            "min_width": null,
            "object_fit": null,
            "object_position": null,
            "order": null,
            "overflow": null,
            "overflow_x": null,
            "overflow_y": null,
            "padding": null,
            "right": null,
            "top": null,
            "visibility": null,
            "width": null
          }
        },
        "63ee3f9e532e4335b03f6673b108df1a": {
          "model_module": "@jupyter-widgets/base",
          "model_name": "LayoutModel",
          "model_module_version": "1.2.0",
          "state": {
            "_model_module": "@jupyter-widgets/base",
            "_model_module_version": "1.2.0",
            "_model_name": "LayoutModel",
            "_view_count": null,
            "_view_module": "@jupyter-widgets/base",
            "_view_module_version": "1.2.0",
            "_view_name": "LayoutView",
            "align_content": null,
            "align_items": null,
            "align_self": null,
            "border": null,
            "bottom": null,
            "display": null,
            "flex": null,
            "flex_flow": null,
            "grid_area": null,
            "grid_auto_columns": null,
            "grid_auto_flow": null,
            "grid_auto_rows": null,
            "grid_column": null,
            "grid_gap": null,
            "grid_row": null,
            "grid_template_areas": null,
            "grid_template_columns": null,
            "grid_template_rows": null,
            "height": null,
            "justify_content": null,
            "justify_items": null,
            "left": null,
            "margin": null,
            "max_height": null,
            "max_width": null,
            "min_height": null,
            "min_width": null,
            "object_fit": null,
            "object_position": null,
            "order": null,
            "overflow": null,
            "overflow_x": null,
            "overflow_y": null,
            "padding": null,
            "right": null,
            "top": null,
            "visibility": null,
            "width": null
          }
        },
        "f1456b65d981425c940841a0559d2974": {
          "model_module": "@jupyter-widgets/controls",
          "model_name": "DescriptionStyleModel",
          "model_module_version": "1.5.0",
          "state": {
            "_model_module": "@jupyter-widgets/controls",
            "_model_module_version": "1.5.0",
            "_model_name": "DescriptionStyleModel",
            "_view_count": null,
            "_view_module": "@jupyter-widgets/base",
            "_view_module_version": "1.2.0",
            "_view_name": "StyleView",
            "description_width": ""
          }
        },
        "951c81efe72b4a80b87f471e67182e7d": {
          "model_module": "@jupyter-widgets/base",
          "model_name": "LayoutModel",
          "model_module_version": "1.2.0",
          "state": {
            "_model_module": "@jupyter-widgets/base",
            "_model_module_version": "1.2.0",
            "_model_name": "LayoutModel",
            "_view_count": null,
            "_view_module": "@jupyter-widgets/base",
            "_view_module_version": "1.2.0",
            "_view_name": "LayoutView",
            "align_content": null,
            "align_items": null,
            "align_self": null,
            "border": null,
            "bottom": null,
            "display": null,
            "flex": null,
            "flex_flow": null,
            "grid_area": null,
            "grid_auto_columns": null,
            "grid_auto_flow": null,
            "grid_auto_rows": null,
            "grid_column": null,
            "grid_gap": null,
            "grid_row": null,
            "grid_template_areas": null,
            "grid_template_columns": null,
            "grid_template_rows": null,
            "height": null,
            "justify_content": null,
            "justify_items": null,
            "left": null,
            "margin": null,
            "max_height": null,
            "max_width": null,
            "min_height": null,
            "min_width": null,
            "object_fit": null,
            "object_position": null,
            "order": null,
            "overflow": null,
            "overflow_x": null,
            "overflow_y": null,
            "padding": null,
            "right": null,
            "top": null,
            "visibility": null,
            "width": null
          }
        },
        "b67c7c065b374107a973dc2af2cf85c4": {
          "model_module": "@jupyter-widgets/controls",
          "model_name": "ProgressStyleModel",
          "model_module_version": "1.5.0",
          "state": {
            "_model_module": "@jupyter-widgets/controls",
            "_model_module_version": "1.5.0",
            "_model_name": "ProgressStyleModel",
            "_view_count": null,
            "_view_module": "@jupyter-widgets/base",
            "_view_module_version": "1.2.0",
            "_view_name": "StyleView",
            "bar_color": null,
            "description_width": ""
          }
        },
        "2d2c352508ec49629a41690fa2ff1183": {
          "model_module": "@jupyter-widgets/base",
          "model_name": "LayoutModel",
          "model_module_version": "1.2.0",
          "state": {
            "_model_module": "@jupyter-widgets/base",
            "_model_module_version": "1.2.0",
            "_model_name": "LayoutModel",
            "_view_count": null,
            "_view_module": "@jupyter-widgets/base",
            "_view_module_version": "1.2.0",
            "_view_name": "LayoutView",
            "align_content": null,
            "align_items": null,
            "align_self": null,
            "border": null,
            "bottom": null,
            "display": null,
            "flex": null,
            "flex_flow": null,
            "grid_area": null,
            "grid_auto_columns": null,
            "grid_auto_flow": null,
            "grid_auto_rows": null,
            "grid_column": null,
            "grid_gap": null,
            "grid_row": null,
            "grid_template_areas": null,
            "grid_template_columns": null,
            "grid_template_rows": null,
            "height": null,
            "justify_content": null,
            "justify_items": null,
            "left": null,
            "margin": null,
            "max_height": null,
            "max_width": null,
            "min_height": null,
            "min_width": null,
            "object_fit": null,
            "object_position": null,
            "order": null,
            "overflow": null,
            "overflow_x": null,
            "overflow_y": null,
            "padding": null,
            "right": null,
            "top": null,
            "visibility": null,
            "width": null
          }
        },
        "7e893851ff654e5aab8e8e29916ca58c": {
          "model_module": "@jupyter-widgets/controls",
          "model_name": "DescriptionStyleModel",
          "model_module_version": "1.5.0",
          "state": {
            "_model_module": "@jupyter-widgets/controls",
            "_model_module_version": "1.5.0",
            "_model_name": "DescriptionStyleModel",
            "_view_count": null,
            "_view_module": "@jupyter-widgets/base",
            "_view_module_version": "1.2.0",
            "_view_name": "StyleView",
            "description_width": ""
          }
        },
        "1414bb53dece4e90b349f91c6834562c": {
          "model_module": "@jupyter-widgets/controls",
          "model_name": "HBoxModel",
          "model_module_version": "1.5.0",
          "state": {
            "_dom_classes": [],
            "_model_module": "@jupyter-widgets/controls",
            "_model_module_version": "1.5.0",
            "_model_name": "HBoxModel",
            "_view_count": null,
            "_view_module": "@jupyter-widgets/controls",
            "_view_module_version": "1.5.0",
            "_view_name": "HBoxView",
            "box_style": "",
            "children": [
              "IPY_MODEL_3f73e5c344ce440bb14234108335371f",
              "IPY_MODEL_9900fe39958049b48fd31db2f5b10456",
              "IPY_MODEL_dbe978d267e343ca9822b9a6f6de659b"
            ],
            "layout": "IPY_MODEL_08289d29b0cb4a95962b6515e61a10cf"
          }
        },
        "3f73e5c344ce440bb14234108335371f": {
          "model_module": "@jupyter-widgets/controls",
          "model_name": "HTMLModel",
          "model_module_version": "1.5.0",
          "state": {
            "_dom_classes": [],
            "_model_module": "@jupyter-widgets/controls",
            "_model_module_version": "1.5.0",
            "_model_name": "HTMLModel",
            "_view_count": null,
            "_view_module": "@jupyter-widgets/controls",
            "_view_module_version": "1.5.0",
            "_view_name": "HTMLView",
            "description": "",
            "description_tooltip": null,
            "layout": "IPY_MODEL_ee2778ecc5d24914a8a971277278bcfa",
            "placeholder": "​",
            "style": "IPY_MODEL_42672f6f510c4db49bc0caa2b200c0b2",
            "value": "100%"
          }
        },
        "9900fe39958049b48fd31db2f5b10456": {
          "model_module": "@jupyter-widgets/controls",
          "model_name": "FloatProgressModel",
          "model_module_version": "1.5.0",
          "state": {
            "_dom_classes": [],
            "_model_module": "@jupyter-widgets/controls",
            "_model_module_version": "1.5.0",
            "_model_name": "FloatProgressModel",
            "_view_count": null,
            "_view_module": "@jupyter-widgets/controls",
            "_view_module_version": "1.5.0",
            "_view_name": "ProgressView",
            "bar_style": "success",
            "description": "",
            "description_tooltip": null,
            "layout": "IPY_MODEL_5081784f8b5e44f28c56218b9835592d",
            "max": 100,
            "min": 0,
            "orientation": "horizontal",
            "style": "IPY_MODEL_c142efae493f45438c7ce18b5d48112d",
            "value": 100
          }
        },
        "dbe978d267e343ca9822b9a6f6de659b": {
          "model_module": "@jupyter-widgets/controls",
          "model_name": "HTMLModel",
          "model_module_version": "1.5.0",
          "state": {
            "_dom_classes": [],
            "_model_module": "@jupyter-widgets/controls",
            "_model_module_version": "1.5.0",
            "_model_name": "HTMLModel",
            "_view_count": null,
            "_view_module": "@jupyter-widgets/controls",
            "_view_module_version": "1.5.0",
            "_view_name": "HTMLView",
            "description": "",
            "description_tooltip": null,
            "layout": "IPY_MODEL_0f7700c20a7d4cbd834ac345d3e5741f",
            "placeholder": "​",
            "style": "IPY_MODEL_56ea8e03cc84461c9ab0516bbe2c10d3",
            "value": " 100/100 [00:01&lt;00:00, 58.82it/s]"
          }
        },
        "08289d29b0cb4a95962b6515e61a10cf": {
          "model_module": "@jupyter-widgets/base",
          "model_name": "LayoutModel",
          "model_module_version": "1.2.0",
          "state": {
            "_model_module": "@jupyter-widgets/base",
            "_model_module_version": "1.2.0",
            "_model_name": "LayoutModel",
            "_view_count": null,
            "_view_module": "@jupyter-widgets/base",
            "_view_module_version": "1.2.0",
            "_view_name": "LayoutView",
            "align_content": null,
            "align_items": null,
            "align_self": null,
            "border": null,
            "bottom": null,
            "display": null,
            "flex": null,
            "flex_flow": null,
            "grid_area": null,
            "grid_auto_columns": null,
            "grid_auto_flow": null,
            "grid_auto_rows": null,
            "grid_column": null,
            "grid_gap": null,
            "grid_row": null,
            "grid_template_areas": null,
            "grid_template_columns": null,
            "grid_template_rows": null,
            "height": null,
            "justify_content": null,
            "justify_items": null,
            "left": null,
            "margin": null,
            "max_height": null,
            "max_width": null,
            "min_height": null,
            "min_width": null,
            "object_fit": null,
            "object_position": null,
            "order": null,
            "overflow": null,
            "overflow_x": null,
            "overflow_y": null,
            "padding": null,
            "right": null,
            "top": null,
            "visibility": null,
            "width": null
          }
        },
        "ee2778ecc5d24914a8a971277278bcfa": {
          "model_module": "@jupyter-widgets/base",
          "model_name": "LayoutModel",
          "model_module_version": "1.2.0",
          "state": {
            "_model_module": "@jupyter-widgets/base",
            "_model_module_version": "1.2.0",
            "_model_name": "LayoutModel",
            "_view_count": null,
            "_view_module": "@jupyter-widgets/base",
            "_view_module_version": "1.2.0",
            "_view_name": "LayoutView",
            "align_content": null,
            "align_items": null,
            "align_self": null,
            "border": null,
            "bottom": null,
            "display": null,
            "flex": null,
            "flex_flow": null,
            "grid_area": null,
            "grid_auto_columns": null,
            "grid_auto_flow": null,
            "grid_auto_rows": null,
            "grid_column": null,
            "grid_gap": null,
            "grid_row": null,
            "grid_template_areas": null,
            "grid_template_columns": null,
            "grid_template_rows": null,
            "height": null,
            "justify_content": null,
            "justify_items": null,
            "left": null,
            "margin": null,
            "max_height": null,
            "max_width": null,
            "min_height": null,
            "min_width": null,
            "object_fit": null,
            "object_position": null,
            "order": null,
            "overflow": null,
            "overflow_x": null,
            "overflow_y": null,
            "padding": null,
            "right": null,
            "top": null,
            "visibility": null,
            "width": null
          }
        },
        "42672f6f510c4db49bc0caa2b200c0b2": {
          "model_module": "@jupyter-widgets/controls",
          "model_name": "DescriptionStyleModel",
          "model_module_version": "1.5.0",
          "state": {
            "_model_module": "@jupyter-widgets/controls",
            "_model_module_version": "1.5.0",
            "_model_name": "DescriptionStyleModel",
            "_view_count": null,
            "_view_module": "@jupyter-widgets/base",
            "_view_module_version": "1.2.0",
            "_view_name": "StyleView",
            "description_width": ""
          }
        },
        "5081784f8b5e44f28c56218b9835592d": {
          "model_module": "@jupyter-widgets/base",
          "model_name": "LayoutModel",
          "model_module_version": "1.2.0",
          "state": {
            "_model_module": "@jupyter-widgets/base",
            "_model_module_version": "1.2.0",
            "_model_name": "LayoutModel",
            "_view_count": null,
            "_view_module": "@jupyter-widgets/base",
            "_view_module_version": "1.2.0",
            "_view_name": "LayoutView",
            "align_content": null,
            "align_items": null,
            "align_self": null,
            "border": null,
            "bottom": null,
            "display": null,
            "flex": null,
            "flex_flow": null,
            "grid_area": null,
            "grid_auto_columns": null,
            "grid_auto_flow": null,
            "grid_auto_rows": null,
            "grid_column": null,
            "grid_gap": null,
            "grid_row": null,
            "grid_template_areas": null,
            "grid_template_columns": null,
            "grid_template_rows": null,
            "height": null,
            "justify_content": null,
            "justify_items": null,
            "left": null,
            "margin": null,
            "max_height": null,
            "max_width": null,
            "min_height": null,
            "min_width": null,
            "object_fit": null,
            "object_position": null,
            "order": null,
            "overflow": null,
            "overflow_x": null,
            "overflow_y": null,
            "padding": null,
            "right": null,
            "top": null,
            "visibility": null,
            "width": null
          }
        },
        "c142efae493f45438c7ce18b5d48112d": {
          "model_module": "@jupyter-widgets/controls",
          "model_name": "ProgressStyleModel",
          "model_module_version": "1.5.0",
          "state": {
            "_model_module": "@jupyter-widgets/controls",
            "_model_module_version": "1.5.0",
            "_model_name": "ProgressStyleModel",
            "_view_count": null,
            "_view_module": "@jupyter-widgets/base",
            "_view_module_version": "1.2.0",
            "_view_name": "StyleView",
            "bar_color": null,
            "description_width": ""
          }
        },
        "0f7700c20a7d4cbd834ac345d3e5741f": {
          "model_module": "@jupyter-widgets/base",
          "model_name": "LayoutModel",
          "model_module_version": "1.2.0",
          "state": {
            "_model_module": "@jupyter-widgets/base",
            "_model_module_version": "1.2.0",
            "_model_name": "LayoutModel",
            "_view_count": null,
            "_view_module": "@jupyter-widgets/base",
            "_view_module_version": "1.2.0",
            "_view_name": "LayoutView",
            "align_content": null,
            "align_items": null,
            "align_self": null,
            "border": null,
            "bottom": null,
            "display": null,
            "flex": null,
            "flex_flow": null,
            "grid_area": null,
            "grid_auto_columns": null,
            "grid_auto_flow": null,
            "grid_auto_rows": null,
            "grid_column": null,
            "grid_gap": null,
            "grid_row": null,
            "grid_template_areas": null,
            "grid_template_columns": null,
            "grid_template_rows": null,
            "height": null,
            "justify_content": null,
            "justify_items": null,
            "left": null,
            "margin": null,
            "max_height": null,
            "max_width": null,
            "min_height": null,
            "min_width": null,
            "object_fit": null,
            "object_position": null,
            "order": null,
            "overflow": null,
            "overflow_x": null,
            "overflow_y": null,
            "padding": null,
            "right": null,
            "top": null,
            "visibility": null,
            "width": null
          }
        },
        "56ea8e03cc84461c9ab0516bbe2c10d3": {
          "model_module": "@jupyter-widgets/controls",
          "model_name": "DescriptionStyleModel",
          "model_module_version": "1.5.0",
          "state": {
            "_model_module": "@jupyter-widgets/controls",
            "_model_module_version": "1.5.0",
            "_model_name": "DescriptionStyleModel",
            "_view_count": null,
            "_view_module": "@jupyter-widgets/base",
            "_view_module_version": "1.2.0",
            "_view_name": "StyleView",
            "description_width": ""
          }
        },
        "117ddfb76540495dadad1f19929b8f93": {
          "model_module": "@jupyter-widgets/controls",
          "model_name": "HBoxModel",
          "model_module_version": "1.5.0",
          "state": {
            "_dom_classes": [],
            "_model_module": "@jupyter-widgets/controls",
            "_model_module_version": "1.5.0",
            "_model_name": "HBoxModel",
            "_view_count": null,
            "_view_module": "@jupyter-widgets/controls",
            "_view_module_version": "1.5.0",
            "_view_name": "HBoxView",
            "box_style": "",
            "children": [
              "IPY_MODEL_2d432b2743324b53bdeced8e0d8baf5a",
              "IPY_MODEL_c6ff148fa63849a9a80efa4331fe4c17",
              "IPY_MODEL_f17cf0a0a7174590b4eff06414f0a51e"
            ],
            "layout": "IPY_MODEL_19ad203b23494c18adedc4996ef86c29"
          }
        },
        "2d432b2743324b53bdeced8e0d8baf5a": {
          "model_module": "@jupyter-widgets/controls",
          "model_name": "HTMLModel",
          "model_module_version": "1.5.0",
          "state": {
            "_dom_classes": [],
            "_model_module": "@jupyter-widgets/controls",
            "_model_module_version": "1.5.0",
            "_model_name": "HTMLModel",
            "_view_count": null,
            "_view_module": "@jupyter-widgets/controls",
            "_view_module_version": "1.5.0",
            "_view_name": "HTMLView",
            "description": "",
            "description_tooltip": null,
            "layout": "IPY_MODEL_c3598bfd92694869b161d9e3d8c5d638",
            "placeholder": "​",
            "style": "IPY_MODEL_9c9e897604744cf88d9a75a36ae03641",
            "value": "100%"
          }
        },
        "c6ff148fa63849a9a80efa4331fe4c17": {
          "model_module": "@jupyter-widgets/controls",
          "model_name": "FloatProgressModel",
          "model_module_version": "1.5.0",
          "state": {
            "_dom_classes": [],
            "_model_module": "@jupyter-widgets/controls",
            "_model_module_version": "1.5.0",
            "_model_name": "FloatProgressModel",
            "_view_count": null,
            "_view_module": "@jupyter-widgets/controls",
            "_view_module_version": "1.5.0",
            "_view_name": "ProgressView",
            "bar_style": "success",
            "description": "",
            "description_tooltip": null,
            "layout": "IPY_MODEL_d342112942bb42bf9f123a0b2dc6e0dd",
            "max": 100,
            "min": 0,
            "orientation": "horizontal",
            "style": "IPY_MODEL_50fd7ed15e024981afe382a6c812e1b6",
            "value": 100
          }
        },
        "f17cf0a0a7174590b4eff06414f0a51e": {
          "model_module": "@jupyter-widgets/controls",
          "model_name": "HTMLModel",
          "model_module_version": "1.5.0",
          "state": {
            "_dom_classes": [],
            "_model_module": "@jupyter-widgets/controls",
            "_model_module_version": "1.5.0",
            "_model_name": "HTMLModel",
            "_view_count": null,
            "_view_module": "@jupyter-widgets/controls",
            "_view_module_version": "1.5.0",
            "_view_name": "HTMLView",
            "description": "",
            "description_tooltip": null,
            "layout": "IPY_MODEL_cb3131466e8b49fabf82b01439470f9e",
            "placeholder": "​",
            "style": "IPY_MODEL_ee1237cc219e470f9943a939c348fbe7",
            "value": " 100/100 [00:02&lt;00:00, 60.51it/s]"
          }
        },
        "19ad203b23494c18adedc4996ef86c29": {
          "model_module": "@jupyter-widgets/base",
          "model_name": "LayoutModel",
          "model_module_version": "1.2.0",
          "state": {
            "_model_module": "@jupyter-widgets/base",
            "_model_module_version": "1.2.0",
            "_model_name": "LayoutModel",
            "_view_count": null,
            "_view_module": "@jupyter-widgets/base",
            "_view_module_version": "1.2.0",
            "_view_name": "LayoutView",
            "align_content": null,
            "align_items": null,
            "align_self": null,
            "border": null,
            "bottom": null,
            "display": null,
            "flex": null,
            "flex_flow": null,
            "grid_area": null,
            "grid_auto_columns": null,
            "grid_auto_flow": null,
            "grid_auto_rows": null,
            "grid_column": null,
            "grid_gap": null,
            "grid_row": null,
            "grid_template_areas": null,
            "grid_template_columns": null,
            "grid_template_rows": null,
            "height": null,
            "justify_content": null,
            "justify_items": null,
            "left": null,
            "margin": null,
            "max_height": null,
            "max_width": null,
            "min_height": null,
            "min_width": null,
            "object_fit": null,
            "object_position": null,
            "order": null,
            "overflow": null,
            "overflow_x": null,
            "overflow_y": null,
            "padding": null,
            "right": null,
            "top": null,
            "visibility": null,
            "width": null
          }
        },
        "c3598bfd92694869b161d9e3d8c5d638": {
          "model_module": "@jupyter-widgets/base",
          "model_name": "LayoutModel",
          "model_module_version": "1.2.0",
          "state": {
            "_model_module": "@jupyter-widgets/base",
            "_model_module_version": "1.2.0",
            "_model_name": "LayoutModel",
            "_view_count": null,
            "_view_module": "@jupyter-widgets/base",
            "_view_module_version": "1.2.0",
            "_view_name": "LayoutView",
            "align_content": null,
            "align_items": null,
            "align_self": null,
            "border": null,
            "bottom": null,
            "display": null,
            "flex": null,
            "flex_flow": null,
            "grid_area": null,
            "grid_auto_columns": null,
            "grid_auto_flow": null,
            "grid_auto_rows": null,
            "grid_column": null,
            "grid_gap": null,
            "grid_row": null,
            "grid_template_areas": null,
            "grid_template_columns": null,
            "grid_template_rows": null,
            "height": null,
            "justify_content": null,
            "justify_items": null,
            "left": null,
            "margin": null,
            "max_height": null,
            "max_width": null,
            "min_height": null,
            "min_width": null,
            "object_fit": null,
            "object_position": null,
            "order": null,
            "overflow": null,
            "overflow_x": null,
            "overflow_y": null,
            "padding": null,
            "right": null,
            "top": null,
            "visibility": null,
            "width": null
          }
        },
        "9c9e897604744cf88d9a75a36ae03641": {
          "model_module": "@jupyter-widgets/controls",
          "model_name": "DescriptionStyleModel",
          "model_module_version": "1.5.0",
          "state": {
            "_model_module": "@jupyter-widgets/controls",
            "_model_module_version": "1.5.0",
            "_model_name": "DescriptionStyleModel",
            "_view_count": null,
            "_view_module": "@jupyter-widgets/base",
            "_view_module_version": "1.2.0",
            "_view_name": "StyleView",
            "description_width": ""
          }
        },
        "d342112942bb42bf9f123a0b2dc6e0dd": {
          "model_module": "@jupyter-widgets/base",
          "model_name": "LayoutModel",
          "model_module_version": "1.2.0",
          "state": {
            "_model_module": "@jupyter-widgets/base",
            "_model_module_version": "1.2.0",
            "_model_name": "LayoutModel",
            "_view_count": null,
            "_view_module": "@jupyter-widgets/base",
            "_view_module_version": "1.2.0",
            "_view_name": "LayoutView",
            "align_content": null,
            "align_items": null,
            "align_self": null,
            "border": null,
            "bottom": null,
            "display": null,
            "flex": null,
            "flex_flow": null,
            "grid_area": null,
            "grid_auto_columns": null,
            "grid_auto_flow": null,
            "grid_auto_rows": null,
            "grid_column": null,
            "grid_gap": null,
            "grid_row": null,
            "grid_template_areas": null,
            "grid_template_columns": null,
            "grid_template_rows": null,
            "height": null,
            "justify_content": null,
            "justify_items": null,
            "left": null,
            "margin": null,
            "max_height": null,
            "max_width": null,
            "min_height": null,
            "min_width": null,
            "object_fit": null,
            "object_position": null,
            "order": null,
            "overflow": null,
            "overflow_x": null,
            "overflow_y": null,
            "padding": null,
            "right": null,
            "top": null,
            "visibility": null,
            "width": null
          }
        },
        "50fd7ed15e024981afe382a6c812e1b6": {
          "model_module": "@jupyter-widgets/controls",
          "model_name": "ProgressStyleModel",
          "model_module_version": "1.5.0",
          "state": {
            "_model_module": "@jupyter-widgets/controls",
            "_model_module_version": "1.5.0",
            "_model_name": "ProgressStyleModel",
            "_view_count": null,
            "_view_module": "@jupyter-widgets/base",
            "_view_module_version": "1.2.0",
            "_view_name": "StyleView",
            "bar_color": null,
            "description_width": ""
          }
        },
        "cb3131466e8b49fabf82b01439470f9e": {
          "model_module": "@jupyter-widgets/base",
          "model_name": "LayoutModel",
          "model_module_version": "1.2.0",
          "state": {
            "_model_module": "@jupyter-widgets/base",
            "_model_module_version": "1.2.0",
            "_model_name": "LayoutModel",
            "_view_count": null,
            "_view_module": "@jupyter-widgets/base",
            "_view_module_version": "1.2.0",
            "_view_name": "LayoutView",
            "align_content": null,
            "align_items": null,
            "align_self": null,
            "border": null,
            "bottom": null,
            "display": null,
            "flex": null,
            "flex_flow": null,
            "grid_area": null,
            "grid_auto_columns": null,
            "grid_auto_flow": null,
            "grid_auto_rows": null,
            "grid_column": null,
            "grid_gap": null,
            "grid_row": null,
            "grid_template_areas": null,
            "grid_template_columns": null,
            "grid_template_rows": null,
            "height": null,
            "justify_content": null,
            "justify_items": null,
            "left": null,
            "margin": null,
            "max_height": null,
            "max_width": null,
            "min_height": null,
            "min_width": null,
            "object_fit": null,
            "object_position": null,
            "order": null,
            "overflow": null,
            "overflow_x": null,
            "overflow_y": null,
            "padding": null,
            "right": null,
            "top": null,
            "visibility": null,
            "width": null
          }
        },
        "ee1237cc219e470f9943a939c348fbe7": {
          "model_module": "@jupyter-widgets/controls",
          "model_name": "DescriptionStyleModel",
          "model_module_version": "1.5.0",
          "state": {
            "_model_module": "@jupyter-widgets/controls",
            "_model_module_version": "1.5.0",
            "_model_name": "DescriptionStyleModel",
            "_view_count": null,
            "_view_module": "@jupyter-widgets/base",
            "_view_module_version": "1.2.0",
            "_view_name": "StyleView",
            "description_width": ""
          }
        }
      }
    }
  },
  "cells": [
    {
      "cell_type": "markdown",
      "metadata": {
        "id": "view-in-github",
        "colab_type": "text"
      },
      "source": [
        "<a href=\"https://colab.research.google.com/github/unicamp-dl/IA025_2022S1/blob/main/ex08/rodrigo_cabrera_castaldoni/Aula_8_Exerc%C3%ADcio.ipynb\" target=\"_parent\"><img src=\"https://colab.research.google.com/assets/colab-badge.svg\" alt=\"Open In Colab\"/></a>"
      ]
    },
    {
      "cell_type": "code",
      "source": [
        "nome = \"Rodrigo Cabrera Castaldoni\"\n",
        "print(f'Meu nome é {nome}')"
      ],
      "metadata": {
        "id": "jOdQB41_4ZxG",
        "colab": {
          "base_uri": "https://localhost:8080/"
        },
        "outputId": "5ecc816a-72c6-42e4-a59c-f100b4c4ca11"
      },
      "execution_count": 1,
      "outputs": [
        {
          "output_type": "stream",
          "name": "stdout",
          "text": [
            "Meu nome é Rodrigo Cabrera Castaldoni\n"
          ]
        }
      ]
    },
    {
      "cell_type": "markdown",
      "metadata": {
        "id": "2IbuChoAPMEn"
      },
      "source": [
        "#  Exercício: Modelo de Linguagem com auto-atenção"
      ]
    },
    {
      "cell_type": "markdown",
      "metadata": {
        "id": "p_DBb0-Klwf2"
      },
      "source": [
        "Este exercício é similar ao da Aula 7, mas iremos agora treinar uma rede neural *com auto-atenção* para prever a próxima palavra de um texto, data as palavras anteriores como entrada. \n",
        "\n",
        "Na camada de auto-atenção, não se esqueça de implementar:\n",
        "- Embeddings de posição\n",
        "- Projeções lineares (WQ, WK, WV, WO)\n",
        "- Conexões residuais\n",
        "- Camada de feed forward (2-layer MLP)\n",
        "\n",
        "\n",
        "\n",
        "O dataset usado neste exercício (BrWaC) possui um tamanho razoável e você vai precisar rodar seus experimentos com GPU.\n",
        "\n",
        "Alguns conselhos úteis:\n",
        "- **ATENÇÃO:** o dataset é bem grande. Não dê comando de imprimí-lo.\n",
        "- Durante a depuração, faça seu dataset ficar bem pequeno, para que a depuração seja mais rápida e não precise de GPU. Somente ligue a GPU quando o seu laço de treinamento já está funcionando\n",
        "- Não deixe para fazer esse exercício na véspera. Ele é trabalhoso."
      ]
    },
    {
      "cell_type": "code",
      "source": [
        "# iremos utilizar a biblioteca dos transformers para ter acesso ao tokenizador do BERT.\n",
        "!pip install transformers"
      ],
      "metadata": {
        "id": "3twP0YJC4jmJ",
        "colab": {
          "base_uri": "https://localhost:8080/"
        },
        "outputId": "ca03d089-cf3c-4067-f643-e62bd3243b72"
      },
      "execution_count": 2,
      "outputs": [
        {
          "output_type": "stream",
          "name": "stdout",
          "text": [
            "Looking in indexes: https://pypi.org/simple, https://us-python.pkg.dev/colab-wheels/public/simple/\n",
            "Requirement already satisfied: transformers in /usr/local/lib/python3.7/dist-packages (4.19.2)\n",
            "Requirement already satisfied: requests in /usr/local/lib/python3.7/dist-packages (from transformers) (2.23.0)\n",
            "Requirement already satisfied: tqdm>=4.27 in /usr/local/lib/python3.7/dist-packages (from transformers) (4.64.0)\n",
            "Requirement already satisfied: importlib-metadata in /usr/local/lib/python3.7/dist-packages (from transformers) (4.11.3)\n",
            "Requirement already satisfied: filelock in /usr/local/lib/python3.7/dist-packages (from transformers) (3.7.0)\n",
            "Requirement already satisfied: tokenizers!=0.11.3,<0.13,>=0.11.1 in /usr/local/lib/python3.7/dist-packages (from transformers) (0.12.1)\n",
            "Requirement already satisfied: packaging>=20.0 in /usr/local/lib/python3.7/dist-packages (from transformers) (21.3)\n",
            "Requirement already satisfied: pyyaml>=5.1 in /usr/local/lib/python3.7/dist-packages (from transformers) (6.0)\n",
            "Requirement already satisfied: huggingface-hub<1.0,>=0.1.0 in /usr/local/lib/python3.7/dist-packages (from transformers) (0.6.0)\n",
            "Requirement already satisfied: numpy>=1.17 in /usr/local/lib/python3.7/dist-packages (from transformers) (1.21.6)\n",
            "Requirement already satisfied: regex!=2019.12.17 in /usr/local/lib/python3.7/dist-packages (from transformers) (2019.12.20)\n",
            "Requirement already satisfied: typing-extensions>=3.7.4.3 in /usr/local/lib/python3.7/dist-packages (from huggingface-hub<1.0,>=0.1.0->transformers) (4.2.0)\n",
            "Requirement already satisfied: pyparsing!=3.0.5,>=2.0.2 in /usr/local/lib/python3.7/dist-packages (from packaging>=20.0->transformers) (3.0.9)\n",
            "Requirement already satisfied: zipp>=0.5 in /usr/local/lib/python3.7/dist-packages (from importlib-metadata->transformers) (3.8.0)\n",
            "Requirement already satisfied: chardet<4,>=3.0.2 in /usr/local/lib/python3.7/dist-packages (from requests->transformers) (3.0.4)\n",
            "Requirement already satisfied: urllib3!=1.25.0,!=1.25.1,<1.26,>=1.21.1 in /usr/local/lib/python3.7/dist-packages (from requests->transformers) (1.24.3)\n",
            "Requirement already satisfied: idna<3,>=2.5 in /usr/local/lib/python3.7/dist-packages (from requests->transformers) (2.10)\n",
            "Requirement already satisfied: certifi>=2017.4.17 in /usr/local/lib/python3.7/dist-packages (from requests->transformers) (2022.5.18.1)\n"
          ]
        }
      ]
    },
    {
      "cell_type": "markdown",
      "metadata": {
        "id": "YnyhJZtTRNMx"
      },
      "source": [
        "## Importação dos pacotes"
      ]
    },
    {
      "cell_type": "code",
      "metadata": {
        "id": "qlIOVCajPWcU"
      },
      "source": [
        "import collections\n",
        "import itertools\n",
        "import functools\n",
        "import math\n",
        "import random\n",
        "\n",
        "import torch\n",
        "import torch.nn as nn\n",
        "import numpy as np\n",
        "from torch.utils.data import DataLoader\n",
        "from tqdm import tqdm_notebook\n"
      ],
      "execution_count": 3,
      "outputs": []
    },
    {
      "cell_type": "code",
      "source": [
        "# Check which GPU we are using\n",
        "!nvidia-smi"
      ],
      "metadata": {
        "id": "w9f3PfifAwpU",
        "colab": {
          "base_uri": "https://localhost:8080/"
        },
        "outputId": "38d9382a-6a10-4b33-858c-f53ff695ea86"
      },
      "execution_count": 4,
      "outputs": [
        {
          "output_type": "stream",
          "name": "stdout",
          "text": [
            "Wed May 25 01:02:13 2022       \n",
            "+-----------------------------------------------------------------------------+\n",
            "| NVIDIA-SMI 460.32.03    Driver Version: 460.32.03    CUDA Version: 11.2     |\n",
            "|-------------------------------+----------------------+----------------------+\n",
            "| GPU  Name        Persistence-M| Bus-Id        Disp.A | Volatile Uncorr. ECC |\n",
            "| Fan  Temp  Perf  Pwr:Usage/Cap|         Memory-Usage | GPU-Util  Compute M. |\n",
            "|                               |                      |               MIG M. |\n",
            "|===============================+======================+======================|\n",
            "|   0  Tesla P100-PCIE...  Off  | 00000000:00:04.0 Off |                    0 |\n",
            "| N/A   34C    P0    26W / 250W |      0MiB / 16280MiB |      0%      Default |\n",
            "|                               |                      |                  N/A |\n",
            "+-------------------------------+----------------------+----------------------+\n",
            "                                                                               \n",
            "+-----------------------------------------------------------------------------+\n",
            "| Processes:                                                                  |\n",
            "|  GPU   GI   CI        PID   Type   Process name                  GPU Memory |\n",
            "|        ID   ID                                                   Usage      |\n",
            "|=============================================================================|\n",
            "|  No running processes found                                                 |\n",
            "+-----------------------------------------------------------------------------+\n"
          ]
        }
      ]
    },
    {
      "cell_type": "code",
      "source": [
        "if torch.cuda.is_available(): \n",
        "   dev = \"cuda:0\"\n",
        "else: \n",
        "   dev = \"cpu\"\n",
        "device = torch.device(dev)\n",
        "print('Using {}'.format(device))"
      ],
      "metadata": {
        "id": "whTCe2i7AtoV",
        "colab": {
          "base_uri": "https://localhost:8080/"
        },
        "outputId": "578c7871-8393-4177-8688-9060ee326f0d"
      },
      "execution_count": 5,
      "outputs": [
        {
          "output_type": "stream",
          "name": "stdout",
          "text": [
            "Using cuda:0\n"
          ]
        }
      ]
    },
    {
      "cell_type": "markdown",
      "metadata": {
        "id": "9ZfxgV2DUk58"
      },
      "source": [
        "## Implementação do MyDataset"
      ]
    },
    {
      "cell_type": "code",
      "metadata": {
        "id": "n_xhKm1EZ3bQ"
      },
      "source": [
        "from typing import List\n",
        "\n",
        "\n",
        "def tokenize(text: str, tokenizer):\n",
        "    return tokenizer(text, return_tensors=None, add_special_tokens=False).input_ids\n",
        "\n",
        "\n",
        "class MyDataset():\n",
        "    def __init__(self, texts: List[str], tokenizer, context_size: int):\n",
        "        self.examples = []\n",
        "        for text in tqdm_notebook(texts):\n",
        "            token_ids = tokenize(text=text, tokenizer=tokenizer)\n",
        "            if len(token_ids) < context_size + 1:\n",
        "                continue\n",
        "            # Compute n-grams:\n",
        "            for i in range(len(token_ids) - context_size):\n",
        "                input_ids = token_ids[i:i + context_size]\n",
        "                target_id = token_ids[i + context_size]\n",
        "                self.examples.append((input_ids, target_id)) \n",
        "\n",
        "    def __len__(self):\n",
        "        return len(self.examples)\n",
        "\n",
        "    def __getitem__(self, idx):\n",
        "        input_ids, target_id = self.examples[idx]\n",
        "        return torch.LongTensor(input_ids), target_id"
      ],
      "execution_count": 6,
      "outputs": []
    },
    {
      "cell_type": "markdown",
      "source": [
        "## Testando se a implementação do MyDataset está correta"
      ],
      "metadata": {
        "id": "wew-gFbWeBTq"
      }
    },
    {
      "cell_type": "code",
      "source": [
        "from transformers import BertTokenizer\n",
        "\n",
        "tokenizer = BertTokenizer.from_pretrained(\"neuralmind/bert-base-portuguese-cased\")\n",
        "\n",
        "dummy_texts = ['Eu gosto de correr', 'Ela gosta muito de comer pizza']\n",
        "\n",
        "dummy_dataset = MyDataset(texts=dummy_texts, tokenizer=tokenizer, context_size=3)\n",
        "dummy_loader = DataLoader(dummy_dataset, batch_size=6, shuffle=False)\n",
        "assert len(dummy_dataset) == 5\n",
        "print('passou no assert de tamanho do dataset')\n",
        "\n",
        "first_batch_input, first_batch_target = next(iter(dummy_loader))\n",
        "\n",
        "correct_first_batch_input = torch.LongTensor(\n",
        "    [[ 3396, 10303,   125],\n",
        "     [ 1660,  5971,   785],\n",
        "     [ 5971,   785,   125],\n",
        "     [  785,   125,  1847],\n",
        "     [  125,  1847, 13779]])\n",
        "\n",
        "correct_first_batch_target = torch.LongTensor([13239,   125,  1847, 13779, 15616])\n",
        "\n",
        "assert torch.equal(first_batch_input, correct_first_batch_input)\n",
        "print('Passou no assert de input')\n",
        "assert torch.equal(first_batch_target, correct_first_batch_target)\n",
        "print('Passou no assert de target')"
      ],
      "metadata": {
        "id": "8r7jBFFUeApe",
        "colab": {
          "base_uri": "https://localhost:8080/",
          "height": 157,
          "referenced_widgets": [
            "5a87aea6357a4b1a9fa58f50de1ed5e5",
            "ca82f3a233c2451f97b6a937e9c1e491",
            "d39632e2708e4bcb814ac5d6b02b61a4",
            "6d207dd4c3824eec959e4f012a8294e2",
            "70ad6ac6254f4d9eb3e940204d6f70f7",
            "9adaffac76ad4c3cb4584db8e1b5a8a9",
            "5456edbf9af944cba83686492f67a763",
            "5d5520a34f5a409f9be5d00ea4536465",
            "2930946e27244ed59c6271a08a6e8c8e",
            "ce1700d8b0504134835db342dc9a13eb",
            "8990c56ccd0c47bb94fb10c75f8943c0"
          ]
        },
        "outputId": "c5c27f77-945e-46f1-a090-dee5a9f89128"
      },
      "execution_count": 7,
      "outputs": [
        {
          "output_type": "stream",
          "name": "stderr",
          "text": [
            "/usr/local/lib/python3.7/dist-packages/ipykernel_launcher.py:11: TqdmDeprecationWarning: This function will be removed in tqdm==5.0.0\n",
            "Please use `tqdm.notebook.tqdm` instead of `tqdm.tqdm_notebook`\n",
            "  # This is added back by InteractiveShellApp.init_path()\n"
          ]
        },
        {
          "output_type": "display_data",
          "data": {
            "text/plain": [
              "  0%|          | 0/2 [00:00<?, ?it/s]"
            ],
            "application/vnd.jupyter.widget-view+json": {
              "version_major": 2,
              "version_minor": 0,
              "model_id": "5a87aea6357a4b1a9fa58f50de1ed5e5"
            }
          },
          "metadata": {}
        },
        {
          "output_type": "stream",
          "name": "stdout",
          "text": [
            "passou no assert de tamanho do dataset\n",
            "Passou no assert de input\n",
            "Passou no assert de target\n"
          ]
        }
      ]
    },
    {
      "cell_type": "markdown",
      "metadata": {
        "id": "4LfrHHouleJ0"
      },
      "source": [
        "# Carregamento do dataset "
      ]
    },
    {
      "cell_type": "markdown",
      "metadata": {
        "id": "V2vFWjsSkmop"
      },
      "source": [
        "Iremos usar uma pequena amostra do dataset [BrWaC](https://www.inf.ufrgs.br/pln/wiki/index.php?title=BrWaC) para treinar e avaliar nosso modelo de linguagem."
      ]
    },
    {
      "cell_type": "code",
      "source": [
        "!wget -nc https://storage.googleapis.com/unicamp-dl/ia025a_2022s1/aula7/sample_brwac.txt"
      ],
      "metadata": {
        "id": "vGlN1WqrXPA6",
        "colab": {
          "base_uri": "https://localhost:8080/"
        },
        "outputId": "34ae241e-4609-4e0b-a074-b93f871f4724"
      },
      "execution_count": 8,
      "outputs": [
        {
          "output_type": "stream",
          "name": "stdout",
          "text": [
            "File ‘sample_brwac.txt’ already there; not retrieving.\n",
            "\n"
          ]
        }
      ]
    },
    {
      "cell_type": "code",
      "source": [
        "# Load datasets\n",
        "context_size = 9\n",
        "\n",
        "valid_examples = 100\n",
        "test_examples = 100\n",
        "texts = open('sample_brwac.txt').readlines()\n",
        "\n",
        "print('Truncating for debugging purposes.')\n",
        "texts = texts#[:500]  \n",
        "\n",
        "training_texts = texts[:-(valid_examples + test_examples)]\n",
        "valid_texts = texts[-(valid_examples + test_examples):-test_examples]\n",
        "test_texts = texts[-test_examples:]\n",
        "\n",
        "training_dataset = MyDataset(texts=training_texts, tokenizer=tokenizer, context_size=context_size)\n",
        "valid_dataset = MyDataset(texts=valid_texts, tokenizer=tokenizer, context_size=context_size)\n",
        "test_dataset = MyDataset(texts=test_texts, tokenizer=tokenizer, context_size=context_size)"
      ],
      "metadata": {
        "id": "gxa_4gmiA-wE",
        "colab": {
          "base_uri": "https://localhost:8080/",
          "height": 184,
          "referenced_widgets": [
            "c8fbe318596a42048d3e29045177a0f9",
            "495ca772742f48129c9fc46708311fa2",
            "9ad9fd47996e431c8ef722160bd58a71",
            "cd2b121140164e6f8e7bbfea496b8ac1",
            "42fb497ff36541c796246420665bc836",
            "63ee3f9e532e4335b03f6673b108df1a",
            "f1456b65d981425c940841a0559d2974",
            "951c81efe72b4a80b87f471e67182e7d",
            "b67c7c065b374107a973dc2af2cf85c4",
            "2d2c352508ec49629a41690fa2ff1183",
            "7e893851ff654e5aab8e8e29916ca58c",
            "1414bb53dece4e90b349f91c6834562c",
            "3f73e5c344ce440bb14234108335371f",
            "9900fe39958049b48fd31db2f5b10456",
            "dbe978d267e343ca9822b9a6f6de659b",
            "08289d29b0cb4a95962b6515e61a10cf",
            "ee2778ecc5d24914a8a971277278bcfa",
            "42672f6f510c4db49bc0caa2b200c0b2",
            "5081784f8b5e44f28c56218b9835592d",
            "c142efae493f45438c7ce18b5d48112d",
            "0f7700c20a7d4cbd834ac345d3e5741f",
            "56ea8e03cc84461c9ab0516bbe2c10d3",
            "117ddfb76540495dadad1f19929b8f93",
            "2d432b2743324b53bdeced8e0d8baf5a",
            "c6ff148fa63849a9a80efa4331fe4c17",
            "f17cf0a0a7174590b4eff06414f0a51e",
            "19ad203b23494c18adedc4996ef86c29",
            "c3598bfd92694869b161d9e3d8c5d638",
            "9c9e897604744cf88d9a75a36ae03641",
            "d342112942bb42bf9f123a0b2dc6e0dd",
            "50fd7ed15e024981afe382a6c812e1b6",
            "cb3131466e8b49fabf82b01439470f9e",
            "ee1237cc219e470f9943a939c348fbe7"
          ]
        },
        "outputId": "2fff90c4-7a19-4f83-9290-2e7f7f3388cf"
      },
      "execution_count": 9,
      "outputs": [
        {
          "output_type": "stream",
          "name": "stdout",
          "text": [
            "Truncating for debugging purposes.\n"
          ]
        },
        {
          "output_type": "stream",
          "name": "stderr",
          "text": [
            "/usr/local/lib/python3.7/dist-packages/ipykernel_launcher.py:11: TqdmDeprecationWarning: This function will be removed in tqdm==5.0.0\n",
            "Please use `tqdm.notebook.tqdm` instead of `tqdm.tqdm_notebook`\n",
            "  # This is added back by InteractiveShellApp.init_path()\n"
          ]
        },
        {
          "output_type": "display_data",
          "data": {
            "text/plain": [
              "  0%|          | 0/24800 [00:00<?, ?it/s]"
            ],
            "application/vnd.jupyter.widget-view+json": {
              "version_major": 2,
              "version_minor": 0,
              "model_id": "c8fbe318596a42048d3e29045177a0f9"
            }
          },
          "metadata": {}
        },
        {
          "output_type": "display_data",
          "data": {
            "text/plain": [
              "  0%|          | 0/100 [00:00<?, ?it/s]"
            ],
            "application/vnd.jupyter.widget-view+json": {
              "version_major": 2,
              "version_minor": 0,
              "model_id": "1414bb53dece4e90b349f91c6834562c"
            }
          },
          "metadata": {}
        },
        {
          "output_type": "display_data",
          "data": {
            "text/plain": [
              "  0%|          | 0/100 [00:00<?, ?it/s]"
            ],
            "application/vnd.jupyter.widget-view+json": {
              "version_major": 2,
              "version_minor": 0,
              "model_id": "117ddfb76540495dadad1f19929b8f93"
            }
          },
          "metadata": {}
        }
      ]
    },
    {
      "cell_type": "code",
      "source": [
        "print(f'training examples: {len(training_dataset)}')\n",
        "print(f'valid examples: {len(valid_dataset)}')\n",
        "print(f'test examples: {len(test_dataset)}')"
      ],
      "metadata": {
        "id": "KCSGJ5m7py4c",
        "colab": {
          "base_uri": "https://localhost:8080/"
        },
        "outputId": "71ad03fc-4b2e-4033-ffc5-843afbbf8691"
      },
      "execution_count": 10,
      "outputs": [
        {
          "output_type": "stream",
          "name": "stdout",
          "text": [
            "training examples: 27675945\n",
            "valid examples: 82070\n",
            "test examples: 166726\n"
          ]
        }
      ]
    },
    {
      "cell_type": "markdown",
      "source": [
        "Vou utilizar o formato descrito no artigo, denominado post layer normalization. Entretanto não vai ter o último LayerNorm\n",
        "\n",
        "![2022-05-24-142310_979x158_scrot.png](data:image/png;base64,iVBORw0KGgoAAAANSUhEUgAAA9MAAACeCAIAAAC+Qc49AAAAA3NCSVQICAjb4U/gAAAgAElEQVR4XuxdB3gc1dWdsl3SqndZxZbce8dgDIZQAoQaID+ETkgghIQkhFBDCYQeCIQSAqEEAiQUG9OrMe7dluUmq/e2q+1lZv4zGnm91havtCqr9Z1vP32rN6+emb1z5r5bWEmSGDoIAUKAECAECAFCgBAgBAgBQmCIEeCGuH/qnhAgBAgBQoAQIAQIAUKAECAEZASIedN9QAgQAoQAIUAIEAKEACFACAwHAsS8hwNlGoMQIAQIAUKAECAECAFCgBAg5k33ACFACBAChAAhQAgQAoQAITAcCBDzHg6UaQxCgBAgBAgBQoAQIAQIAUKAmDfdA4QAIUAIEAKEACFACBAChMBwIEDMezhQpjEIAUKAECAECAFCgBAgBAgBYt50DxAChAAhQAgQAoQAIUAIEALDgYBq6AZ57rnnfvGLXwxd/9QzIRBTCKxdu3bBggUxNSWazFGCQGdn5/HHH19eXn6UrJeWeRQicOWVV7744oscR+rCo/Dix9uSh5B5K1Dp9frk5GSe5+MNOVoPIdCDgCAIbW1t+Et4EAIjjkBGRoZWqx3xadAECIHBQgBpti09x2B1SP0QAiOOwJAz7/nz5994440pKSkjvlSaACEwFAh0dHT87ne/q6urG4rOqU9CoF8I/OEPf5g1a1a/mlBlQiCWEXC73W+++eZrr70Wy5OkuREC/UJgyJl3dnb24sWLs7Ky+jUtqkwIjBYEGhsbExMTR8tsaZ7xjcDs2bOXLl0a32uk1R1VCDidznXr1h1VS6bFxj0CZDIV95eYFkgIEAKEACFACBAChAAhEBMIEPOOictAkyAECAFCgBAgBAgBQoAQiHsEiHnH/SWmBRIChAAhQAgQAoQAIUAIxAQCxLxj4jLQJAgBQoAQIAQIAUKAECAE4h4BYt5xf4lpgYQAIUAIEAKEACFACBACMYEAMe+YuAw0CUKAECAECAFCgBAgBAiBuEeAmHfcX2JaICFACBAChAAhQAgQAoRATCBAzDsmLgNNghAgBAgBQoAQIAQIAUIg7hEg5h33l5gWSAgQAoQAIUAIEAKEACEQEwgQ846Jy0CTIAQIAUKAECAECAFCgBCIewSIecf9JaYFEgKEACFACBAChAAhQAjEBALEvGPiMtAkCAFCgBAgBAgBQoAQIATiHgFi3nF/iWmBhAAhQAgQAoQAIUAIEAIxgQAx75i4DDQJQoAQIAQIAUKAECAECIG4R4CYd9xfYlogIUAIEAKEACFACBAChEBMIEDMOyYuA02CECAECAFCgBAgBAgBQiDuESDmHfeXmBZICBAChAAhQAgQAoQAIRATCBDzjonLQJMgBAgBQoAQIAQIAUKAEIh7BIh5x/0lpgUSAoQAIUAIEAKEACFACMQEAsS8Y+Iy0CQIAUKAECAECAFCgBAgBOIeAWLecX+JaYGEACFACBAChAAhQAgQAjGBADHvmLgMNAlCgBAgBAgBQoAQIAQIgbhHgJh33F9iWiAhQAgQAoQAIUAIEAKEQEwgQMw7Ji4DTYIQIAQIAUKAECAECAFCIO4RIOYd95eYFkgIEAKEACFACBAChAAhEBMIEPOOictAkyAECAFCgBAgBAgBQoAQiHsEiHnH/SWmBRIChAAhQAgQAoQAIUAIxAQCo5V5u1wur9cbExDSJAgBQoAQIAQIAUKAECAECIEIEFBFUCcWq6xZs2bDhg1XX311WlragOcnSZK3y2SrrDRv2ChYbQPuhxoONQJ8giFx0qSEyRM1GRmcarTetEONUmD/oiTZXEJNl7O60+n0ioEVqCRGEFDz7PhMQ65RY9SqOI6NkVlFOQ0IWMZtkSz1QsN6xtoQZW/UfAgR4NRs2nguZxabkMWq9EM4UHx1jTvc4RGbul2V7Y5ulxBfi4ur1ag4pjBVV5CiTTOoIWFHfG2jlcQIgvDss882NDTccMMNZWVlA8BR9HrNGzY1vPq6ac060ekcQA/UZJgRSJw2Jf+yS9NPXKJKTBzmoUfjcC6vuLvF9m1l164WuzQaF3CUzfnj3R1FKbofjE+bVZDIx8CzIXr4xfZdwvZXxKrPGWdn9L1RD0OOQFK+auql3IRz2YRslh15djLk641uAK8oQqmxusq8vrbbLZCIjQ7NYWmdmaA+sSzl2OIUnZoflgFDDjJambeyIJDvpqam++67b/z48SGXGOwEaHf7F19VP/m0s6o62Hkqi0UErDvKqx5+zGsy51xwLq8nxUy4aySI4sa67g93tXfaySgrHFCxcw4K4uou51tbW9yiuKDQONrJt9Cy3bv6AalhTewgTDM5AgKWBu+mZ7iuStWiW1lD5hEqH92nRVHa12Z/b0dbXZeLNhNHy73QZvO8t6Pd6RaXlqXpNSNJvkf3e63b7f7ggw9uvfVWKL/lnc3IDtS07dnT8NIrzuqayFpQrVhBwN3WXvP0s+aNm2JlQrE6jxaLe3k50e5YvTyh54U9648qOuRtiogFWujORuyMaG32bn5Oalw/YjOggQeGgNsq7lsm7HhtVN9+A1t6v1rBeO/9nW01RLv7hVoMVPYI0pf7utbXmgUxUsY4FLMe3cwbiMDV8r333jvvvPO2bdsGE5RIMBLsjrYVn1i272BG87MtkpXGZR2v2Vz1+FOixxOXqxuURXlFaUVFR5eDtN2DAudwd9Jm9ayuNnc7I5Jmwz25CMaTRK9Y9YVU/QUjjdYlRLDK+K0iuIVtL0mWxvhd4SCsbFWVqbrTNQgdURfDjoDNI66qMjd3u4d95EMDjnrmrSwF3pbXX3/92rVrIyHfnq7OrtVrRxB0GjpKBOwHqmx79kbZSRw3b7O697bZ43iBcb+0mk5Hl2PUvlu6LWLzRkYgXjJq71OPTTzwyaid/ZBPHKqNzfWWIR+GBhgyBBq73c0W1whu7MQJ8waC69ev/8Mf/rB69eojkm/BZreTefeQ3dPD0bEo0hUMg3Or1e0lj58wAMX8KexXIGZCzE8z+AQlj13q3Bf8HJWOCgQkSezaPypmOiKTNDk8JtpRHBHoB2lQvDt12D0jaG8SJ8wblwOEG6EGL7rooi+++OIIob7hHOEifcwg3cIj1Y0wWnnJMABG2AwDyEM6BB4JI2mEGOXaYGTioS2XKEEc2eYSYyYnqJCXALbCo/jnGXJZR9eJkb2E8cO8cdeIoohQJ1ddddWKFStg/3103Ue0WkKAECAECAFCYFAQIBv9QYGROiEEgiEQV8xbWWBjY+Pvfve7V1991Wq1BlsylREChAAhQAgQAoQAIUAIEAIjgEAcMm+guH///ttuu+21114bAURpSEKAECAECAFCgBAgBAgBQiAYArGYScdisTz11FPvv/9+sAn3lnV3dyOGd5gK7e3tv/zlLzmO++lPf2owGMLUpFOEACFACBAChAAhQAgQAoTAMCAQi8wbvpK1tbUbN26Mcv0w+0bAk7POOouYd5RIUnNCgBAgBAgBQoAQIAQIgegRiEXm7VsV8uOce+65QRdZXl7+z3/+s62tLehZpRBt77333ry8vDB16BQhQAgQAoQAIUAIEAKEACEwPAjENPOeMWPGpZdeGhSIL7/88q233grFvNVqNVj7n//85/z8/KDNqZAQIAQIAUKAECAECAFCgBAYZgRimnkPDIvExERYeP/2t7/NyMgYWA/UihAgBAgBQoAQIAQIAUKAEBh0BOKNeUPbDdqNZJYpKSmDDhZ1eBQi4Ha7V61aFWbhHR0dNpsNFeCZoHwJVXny5Mk5OTmhzlI5IUAIEAJHGwJw69q9e3dLS0uohUMCV1VV4SziBX/11VeImhCqZmZm5rRp00KdpXJCIHYQiCvmDbb9s5/9DNpuot2xc4eN9pkgH+q777778ccfh1oIKiB/E84+8MADOp0uVDXQ7r/97W+hzlI5IUAIEAJHJwLV1dV33XWXyWQKunxJkrq6unDq+++/37t3L8uyQathi/uxxx4LeooKCYFYQyB+mHdubu6dd955xRVXhGE/sYY+zSf2EdDr9Xidg0cvNN8g2WEmDJVM0LN4VMyePfuPf/xjYWFh0ApUSAgQAoTA0YkAdNgnnXRSfX09yHdra2sYEJAaL1R2vLS0tBtvvBFiNkxzOkUIxA4CITduYmeKkcwkPT39T3/609VXXw2eFOqdOJJ+qA4h0AcB3E7Tp09/5JFHTjjhhIHdWmPHjr399tsXLVoUZp+UYCcECAFC4ChEAEIVyjKk3bjhhhvw+B4AAqDdELDXXHMNhQ8eAHrUZEQQiAfmDWbzl7/85corr9RoNCMCIg0a9wjMnTv30UcfHYDSGqaHDz/8MILKxz1EtEBCgBAgBAaGAEjzr3/9a+it4anV3x5gX4ptSURW6G9Dqk8IjBQCo555K7T7sssuG8AvdqRAP/K4LMvpdPiw/RdDoTrntBq5T62WCWEnF6rhYJZjXVqtvK5R+I6EGJfPPPNMQUFB5IDA3wB8HbRbpYofs67Il081CQFCgBCIEAGj0fj73//+F7/4ReR7gzzPY6P7+uuvJ9odIchULUYQGN2EYM6cOffdd9/pp58+nGiyPG+ce9CeTJJczS3O2ro+E1CnpRnKximFkttjqzwgdHdHPknjzBkz33wV9Tu+/a78uhvCNASLTZohe3MLVpu1fFeYmnOWv6cvHONoaKz41c3ha4bpJMpTSdOnTXriEV1erm1/5aYzg+dIinKIIW1+2mmnIX/Tb37zm4qKCvj9hB8L2u477rjjggsuiKt3wvBrprOEQMQIsGllrL5v4FfJ62ScJsnSwIjuiHsKW1Fj5DKnoIbk6JQ694SpyuYtgGYAE5DadzGCK0zNETulSeQyZWkvAaKOihGbxpANDC/JW265BRGiXn/9dZfrCJcAbPvaa6+97bbbKKDCkF0Q6nioEBjFzHvBggXYn8LfocImRL98YuKMV/6pnBQFofnd9yvve1By+z0neD7zzNNLb/uDUsfV0rr71tvNa9aF6C+iYlVaKp+UBKdud3uH2BPDTjm0uTnKZMzbd2y78JKI+qJKA0UAKpalS5eCT2N/U4lnEqqn5ORkPBJgAUWmh6EgovKjHAHVvJv4sr5WWKK9UzLVCFVfiPuXM5aa6CEC7dac+x/0I+z/zPPJtXKHunRGbWQgTO2tjPeQLNWc9Qqr1oud1Z7ll0iW+uiHHvQe2LTxvWup+taz4rJB7z8WOkTyO7haiqL48ssvh5kPRPE555wDHTll7QiDEp2KWQRGK/OeOHEitN0wNRlZZDme1xcVanKyXX5qb06vS5gqa1kG8cg6+0eZp57MclzN0892rQwXXnoQB6WuAhGA3cjZZ5/tdDqxKxpGK4Oz0MckJCQE9kAlhAAhEAoBzpDGGNK4zIlCcqF33aOMI1ywi1CdhC/nJ17IjT0Vjn2edY9K9d+Fr0xnhx8BuNPcc889CDX49ddfhxod/u6IqYCAZqEqUDkhEMsIjFbmnZeXB1gHFmtisK6H6PXC8gRaZ5hP+DNvXqc3TpuKUZQKgzKcLj/POH0amLc6LdW/Q3dX14GnnkGJx2QelIGokyMiADX2JZdc4vF4br31ViXQrH8T+OmDc0MZQ7T7iEhSBUIACHgr3hMPfC5DAcuQ4hO4ouM5jYGfdJ7Uul2oeIORxGhQEs21ntWPowepu0HphzWO4XJn4tnB6lP9LcY8a59iebXktkkuSzQjDl1bqbuxdy3WkHlnhm704ewZ7jR//etff/WrXyGWK1Lt+A8NbffJJ5/87LPPlpSUDOeUaCxCYBARGK3Me2Q5t3IBrHv3JY4v02ZlwX7avH4jI/Y+IdQZ6QklxYLTaa+rTyzttfYexGvm35VgMtf//fkh6py6DYUAouhcfPHFiD6L3A3+CSBgeggve6RQRaCrUG2pnBAgBPwRkLr2iFUrlBJx37uq057lxp4EEswVnyzs+R8jOKKCy9ogbH4ykh7EbX+PpNpI1rE3R7iWkZzkYIytxHJ94oknoN348ssvfeQbtBvhWRHKjGj3YMBMfYwYAqOVeY8YYH4Dw+SaKSvltdqESZM4w6ei1aqcNM6bgy/OhkZO0zdAUtqS41MWLZQ8ns7vvjevW6/UT5w2JeOkpZxeb9lZ3ra89wnkG0c7piD77DOT58xWYpJknXlG4qRJni5T68cfu2rq4Mo55rpr5OEamxpfeS1CWBKmTE6ZP0eTlSV5vBjUtG69YD7MAVRbNCZlwQJD4RhWpXJ3dXZv22HdtkN0HHoEqjMzk2ZO1+Xl6XKzGZYTnQ57TZ1p/QZ3fa9iSZkJqqUuPtZQNIbT6d1tbYLLjV2CCCcZ49XgiX/ddddB8/3QQw/5zE7OPPNMaLuzsrJifPI0PUIgRhEQXWL1t8zYkzA9Nr2M4XgGGk9Ow2bN4nJmsYnyL0s01UlN66WO8sOWkFzGjVnEJuawKq2st27fK7ZuZaz1bHIRP002iRbb96AVN/4cLleWzzj4iedx2TMle4ew70PYlPOL/shyasneKZS/xrgObiFq07j8Y9mMMlaTKHldUsc+EQYqjjbf0Pyxt7MsL2K4yg/ZtElc3hzGkMF4HGLzVqlpHePpfSgcNlUMPe83rDZJEj3CpmcZV2/uRq7kNC5/viR6hS0vMI52pQlXdDLWBb9PYccrDKdWzbhKXktnpbjr30oFNmMGmzuHTcxmeDXjNEsde8WWLYy9uXdETRpXdAKbXsqqdJLbLjVvkc+6OvvMJzb/nTVrFmxKYXaC1JXKDFFy//33U4r42LxeNKvIESDmHTlWfWt6bTYYe+iysgylY/kEg495J02XTU0cDQ0JZaV9dPPG2TMLLr9UsDvQ0Me8DePG5l58oToluWXZh0GYd052zgXn6XJylOHTjluEj722zrxlC5i3KtmIDnEKHpaRMG9Wrcq/8rKkKZM12Vk8Up0jNkt7e9M7/2t4+TWf46bx2GPG3vwr/ZgxKkRIZVnR5fJ0drV+8ln1Y08wQo9eX6XKu+KnOT86kzcYeIOcugh2NQiuYinfdeCRx+27ewMIGCZOKLn5JhjJ8IkJnEolOByC3a4yGvviOGr/R/SSm2++2eFwIM8OFgFlDL7kHLxSo3ZZNHFCYEQRsDYpw8tskuUYTTI/9Qp+0rkyq1bLmVYkl1Xsrhd3vi7s/q+iEWdzj1Et+iOXNo5R61mOlwQPOKh3x7+Frc+xibmqmVejFTwsBUu9avJP2KRspX++6ESm6ESx84DYuFGy1KimXa54WIr73pcU5p04RrX4bj5nFqNLlg1RRIFxdYsde73f/0Vq26x0opp+BctrhLp1bPYcvvAYFrRbpYOhoWRtFbb8Q7aWCRYmhctdyBculERRqPyCadnQO5/Jl/Alx6NQrFklNaxUCrmJF6nKThHbdosVbzP6tN61VH2rMG92zMmqxbdzAAqDAivBjRl6Njwrlr/CSF4mY7pq3o183jxGm8RyKhkWR6e3dpWw9iHGPjrsVRC+7Mknn4SrenNzM0xQXnjhBeQ1g+Z7RG9QGpwQiBYBYt4DR1Dyei0Vu8G8kyZOgPm1p0V2BmK12pTZsyE9rdt3ajMymKhdQLxImLurguVVmox0cFxHbR14sLOlBeUDmDpmqz7pRHdnl7ulFUG1YSqjy87OPusMeG1iwugwac6sCffeDct1b3e3bfceUGptbi7+LbzqckddXcubb8uDIviWRuPp6HA1yPnSWY1am52tTk1JO/YYd9eVlff/RTCZdCXFpXf+MWXObNHjcdY3oDdGYjRZGTBVH8C0Y7YJYpggLTzMTuBzidDd/Yr2HbOLookRAiOJgM+wG19UBn7aFarZ1zAgjt31krOTYXk2qYDPnMgtvhNKaHHP20xymeqYW7ic6QxU3R17JMGJOowujeG1EE7+C5HcFrFtBwc9ukGWpaKpinF2id2NkjuYLE0qVp/0MJc/j4Gq21yDtjBDZ5Py+IIF7OlPu9/7iX/oFX7MAi57qhy4EK8NvJZNyuWS85kpFws1XzCWukAwxbZdYN4QhlzaRFFh3ryOzZb98uXCnLmCwrzxT/ZkFMJaHYp8Vn+YDRu03erFt7GpJdDQS+1VchxGTs3oUnsWzjDGserj7oASnfE6pM5KCVFc9Jlc8hj15PNZweP99la8wgROLNZKQLJPOeWUN954AxYmyLMzc6ZsoB9rk6T5EAL9RYCYd38RO6y+ZfvOzCXHq5KSEKnaXiHrehOnTcW/UIeDIh8WanCg46DbXdffNPaOP+b/30WgvDV/f671/eUD7YwBX4eGu/2rb7wmsyo5ufT2W5MmTdDl56tTZMdNvDZk/OAkbWam12preOM/Df96DZrsrPPPKbnpl9r09Jyzz2r/8CPBYmW83ua3/1v37AveTnnXkk9KzDj9tOKbbkCdhPFlcAa1WSwpC+cn9QR46Vj5Xc3fnrXv2w/9egaCLf7hd5r09AHPPwYbpqamgnN7vV7Sdsfg1aEpjT4EoDbuOURTLZsyjp98IfTNYle154vfSm3bGF7PjT9XvegWVpuomv1zd+VyLmM8mzqWEQXvnmUCwqG4OmTrlMzpDFS8hwcFl9q2ez66WnX8A/y0/0P/3nWPi/uWBceH03ClZ3BZ06C9FvZ/Kmx4UuquZpLHquZcz48/i03I5Kf+VFj7ICP1Ov9JULFvflGsX82AxOvT1Kc8wSblsGnjWE1CUHorNa1hGNluhMuYorgHsRnTWXVvKCQ2Y1LvrAx5SqEcvVtWw4/xny0rm99kw7LFu+M/wpZnGHc3XlTQj/wFBD5/vjx/SRL2fuRd/xhja8TOgPrkR7nkAn78md51jzHOwY8bExzM6ErxJrJ48WJYmOAxS7Q7OiypdawgEFcKyOEHtXv9RrEnknfSzBnK6ImTJ8K8GybgruaDlnbDP63QI3rM3W0ffmzZsMmxb79l4yb7gQOoC1MQlpfvBIRHlG3WMf+WltblH8nG34JgWrXasmt3z9kcGJDIfUsSmiu0G/+Bi7d9+JGnTTZMVBuNKoMB+X2S58+DBTxK6l9+VbY/gX+6KMI8RnQNUoIMeR6xciCmLNHuWLkYNI9RjQCn5cad0rsCcw035kQuQX5RF7b/W2qBF7uH8XSL+94TGjaikEsfx2bNYXQprNYIEiy1lcu0G4foRmWpfZtcf2AH1MNIrKMxMA6TsO0lqRtyUmTM+2HfIlkaYV4iG4snFfr6lq3D9/5Xat0omXZLTaslcz1O4YVBtgAJdkjdNaJVFphsZo9ExZeUsczB/UAuR06XIxemT4L1NmKtSOYelfbhB5uQwagNjJz6p7yHbeNlApbca6XOXTA+4XLmy/PHG8mO10G7cVJq2yrAhl7WsCRyeQv79BbL/yKWK2SstueBQgchEAcIBJcLcbCw4VkCGKqtqhpjJc+aIctNjoMJNVK+u5qaHDW1wzOHvqNwHCYAC5DeT9i85dLhAZtgTQ5vSGRntNfUOKt701i4m1sc+/ZhFF4rW6f0HQ7/syx8RmFg4zsF7p7QE9TFA1OZHiMWOggBQoAQCI4A6COSWeoz2MwZ/OJ7uQKZFIouq7BvGZvdk7LRbRebVh9qC67Z0mtmzaaWQekrfzg1N/YHTEoZo5JtwaM8YNch69ExtL1N6jgkwSTTAdmeBDIPlt/6zJCjHNSF91ZgVVDDH/owLHTkUpuchJJNLmTUyfIXWb8uiuYGWLGzsBjJmCkXpk/AuiRLs2QO9jRxYfvRDRturuQkJqmY4XWH5qNOYLNlZZBkxfy395bD7KS5N6EbQiuGnDydIAQIgSFGgKxNogIYvpKILZg0Ybw+N1c/vlRyuvQlxaCzCBiimH1H1fuAGhvKStNOOhF22EprvBs0K8bZEfQGW+1eUxCJQQZ7Xws1DNZl5q3VZh9i3rzRqM2RzbuhC9eNyddk9u4RoyanViPSIr44GxpgDR/ByFSFECAEjlIE1PN+hY9v8Xjzl5zdQvl/xNpvVcfdjnLJ1sZ47IfQgUrbJOsCcHCZk4TyN0RTDZc1SVVyApcxUaz9Xqj8QOa10WThgVY4SXZql0y1PpMSeTzEDOkJDCJT86RcKRI3RbWRK/khm3JIQS6Uv454JmLXPr5kMUKOsBlToY3mMsrgiynWrZFjjacUcZlTxfbtnBzdRSU52qVgAbxhLC7ZWsDdVRPP4XJmizUrhcrlUudextmJAC9cSg+3hnV49mz5S8/BGnunwaYU+wrpCyFACAwzAsS8owIc9ty2HeXiD0+DtjtxymR3U7M6NVV0ukDHo+o3isb60nGFV1+hOpg90bJjZ+TMGyH/QJrx4EtdtBDKe98sVEmJh82IZROnT80+95ykaVN0ubmaw5P7yDURX4B2BqO4iNSUEDgKEZC8bsnRJXVVCfs/FKs/Z9wmMMgj4iB17RX2vCfbVSP5ZVION+V8ftwPhKovhc1/x6kjNg9aAQJMthUZlENr5CeczRct8nUm1n4p2Zokc6XkcTK8CjnhGQ+8JzMkORbhFtBuOE1yaaWiLh2BWdBKTmVvlxXtfQ6pdYuw5wPV7GsR0YVLKWSTL+HLThcqP/VufhoSWIEOjF9zyt8ONUQIFDoIAUJgpBEYrczbYrEgm8nIG34JXkd1taezE3G1EydMsMHQOSVZdDit5btG+soOfHx4scBWG59QXWgL8sffe5dh3DgYiJs2b2n7+htPR2fu2Wf5a8RDtaVyQoAQIAT8EfDufEPxdIQ3IAMy6jRJ1obDNM3h8fLaxd3/8Zor+amXwa0Qxs2szgg/SMQk8a55IHzTkTsrMZYGxEJhE7LYtLFygHCNkXGbxaqPuII5DDuXTStlU0vlYCaCC7HJg6PhsQjb/yl1HeAnXyxrytU6xGzhJ18gR13c846yNFalYYyUYn3krjONTAgEQ2C0Mu8NGza8+uqr99xzT1FRUbB1DV+Zs7nF2dSsycgwIoy314sY2KaKCldVr5H08M3j4EgdH3+69ouvlLQ7KPM3vz7iZGAnA1d+eFs2v/dB5b0BD8mFXf4AACAASURBVC0ow3tMR/KvuDRh/HhUrnr2+YYXXpI8bpxJP/YYH/PGvwhHKDtuqgdJb3TEqR+pwmeffVZYWFhWVjZYsWDlLXGnsxuxF202fFfGR8Z4ZNhBAnn44x9pRkc439TUtH79+tNOO23kXy+PMFM6HesIfPfdd7gzp06dCm1FDM5V6q4VGxDrI8iBDDJyDDkOzyn/WHKsbDPdc0iOnjQ07m6x5kuxbiWbVMRNu5yfehEHc4vC45gtcsimARwI3Y3o17Lau4/mGxbbCFmIcWFr7m8AE2YMa4NnxeUef4HgdaG6aGmCFU1P/MExoqMdbwtC1VcwZRFbdvJjT2ENmXCRZDRJeH8Qu2Q/+OAHrFb2vy8e+JBNKeNnX8eP/xG8P9Fc3P+BMn+xpcL93jlB2iI2+aAeEFaI74Tw24Mor5CnDAIWWjZfDkt0jggnSBUcvRhva2tbvXr1iSeeSCFTBvVGiNvO9u3bV1VVdcIJJwyKFB2tzBtcZ+XKlQjwidwlEyb0uoePyDVHTGtHZZVx6hRdQQFiekBh3L11x4jMpHdQuOm4ZMk+gMNjMrnb20GgYcANhKUQ/SRNmYJlujs7TStX+Se2PDSi4HW3tetyc/T5+UijI3RbBjCZwW2yadOmBx988LbbboOohad8lJ3jYYDbb+PGjZs3b0Z+Nd+DYfz48TNmzJg7d+6SJUuiTCDf2NiILPRdXV0XXXSRXj8ITmNRLpmaj14EamtrH3jggbvuuutHP/rR6LqXpJZdDBLoJGQhVB9jruy9BLyGTZcjluKQOv3s+kSPhPAja/7MFx7LpI1D+DxZDTywAx6Q5no2rQS2H4hjeCiDfWJBr2Olq5uxRRiVT5LDkhzyPz84IWuDJIccmc4aizhVAoxDxKZNvSty2+WALfnzELNFwg4AYimGO9C/B/FMvKvgnIosnllcWrGcyqerhs0ohREOPHQYBPMe4gOaAmQ2QAZfyCtD6P3SCGeBrMCg8lu3bl23bt2uXbvgqK80zM3NxQvkwoULjz/++CiVbmazGTHCQb5/97vfISdahBOjakctAnjQ44mM4yc/+Un0FCJaCjKyl+HTTz91u9133333ggULotcyDmwtSP1oqahAGGz4GqqNSejEvGXrEbqS7TliEXnQZWdTky4n21BSnDx3tun74IoodZK8TCwB1pBBV4rsOQj5AuYNa2/jvLldX34dtNowF0KUQ8hC2v7gBz+I5pezZcuWZ555BvceyDFec/xXgdfiFStWIDcRmPfPf/7z4447Th2F1n/Pnj233347WD7eMIcNqzEp2hNLZU1hh82zoqInRltMHlCB/nRub2LXdpvno8OnWpCsXVSSrFNxWxss25uGnHbEJEKHTQraGtxLeJs+99xzB1ErOdQLF9sr+HFLWZWaKz5VaO7N9YhQetyYYzG0nEmnaW3fOSCTDiJ+4Cz460A1u5KrW7I0MGDe+nQ2b6FU1yvB4MHJGBH9SRS76+QI39EcHgty0TPFS5GdBwHC5Qm3yUFIJBPsv+1yyp682bCcEVu2M862iMbxOuQQ5ujBZUUPyLXJZZQyOiM79ofS3l7jk4j6GWil9vb2O++8E5rvSy65JBryjRfFv//97++//z5uWjzf/acDAQuVx7///W888S+//PJzzjknmoE6OjogybF1+dBDD2GjcqDr7l87iKalZbKA7XJ4lpfHroDFDC87KGA7bZ4P+wpYzaLiFJ2a295o3doYLBFV/1AZHbXLy8tvvfVW7Lf83//JCQGiOWKR/0W+Hvwsv/jiC2QQfPHFF2fNmjVSYfbtB6oEu02VmMDwPNLC23aWh1qCu6PDa3fwOm3q4uMc9Y2CzWooG5d16il9XRgD2nvtdkTRRrFx/tyu1WtFpxNmIRIKB/Vw1tSa121ImjwJ0QOLf31jfXpa17erGK8HYUwSZ81Injmj6Y23EG3QXlePjPfq5OT0U0+27d2HkILa4kIeqeYPHgj5Ylq9Om3BPLhsIgsPirs3bsYaM88+S52SMqhT7kdnoB07d+787W9/i3TE2DMaACfG/bZs2bI//elPu3fv9um5A2fQ0tLyzjvvQMv+y1/+8oorrkCeywHfmSD39957L6gS8ifjbWHA/QROMlRJeoL62BL5GtV2OWOaebOMMk9M1ez07mq2VXc5fYtKN6gXFBoTtaoOu4eYtwJLZWUl3jyh6rv66qujefMMdecMRblYuUyadjEL8+WpF0kdu0UwYHUiP/M6LnMC6K+w/3PGWs8WLOayZok1X8tRt3kdV3A80xNIBLxWgucicyjmkjJDJINUvrB5xzL1a+SM66K3r1bY1oTIKnLQbl2yas4NXrh+duxgM2fyM69FFG30IO7/BGbZUS5Z6tiLaNwIUMgwOjmeoLXHRhHOl12VXGoxMijgP7Hh4PtGwGDcuLOYhHyY2TD2RjnB0Liz2KRsuUlrOcKbiNWfSsXHM5oE9fxfeTVJsCBnkIaT18uhG4uXeiveYdqPpCEKGPGIBQ0NDSDfuMd+8YtfwMDpiPX7VIAiA0pu7EyuWbMGau9QzdE/rAehAcGWI+Q5cikMWDDCVvAf//gHaDcGhaHggPsJNdXA8jRDr4BtMDtjnHn7BKzF6d15uIDFKuYXGpN0KpPDe/Qwb1xNPJFxq+DLj3/842ieyKObeWP9IED4BQKF119/ffbs2SOizrHu2AnTCyXWdfeOnYItJCHu3lGODDvQKKfOnY0P5g97aG+3BX/DG651b94iXn4p6uSddy4+HrO58qFHW9/9IPCHHU0JzLiR4dJQOi79xCXGaVMnP/ygf2/WygNN/5F1J01v/zdl/ly4YI657NKMpScgOQ5CCh6WFt7r7fjsy5QF89MWHZM4vmzaM0+ilWz8fbgCI5qpDqwtJHtFRcVZZ5313HPP9deKAxfqpZdeuummm/qoYYLOBIsF0bnllluwCQtvhGgUKtAkYYcLeiBovrOysobh2RB0RbFcmKDm5hUm1ZqcYtCEgbE89eGdG4gRKJHdbr/qqqvwQji8gw9kNMlU5d34nGreDaCnmlMf83UBI2axcZN3/SOQK1xqiXrRbxl8Dh6ypZzT5K14WzYISe7rCCQ1bmBmXYWgIuppF+MDS3HPd/eIe989bH7wYkE08awZfOkpfME8vuCNQ5277cKeZeJgaJGRyl5Wb8vMmxEbN0LH0TOKKLbs4MeepIwotYXMh8BlTUZOTYb546G5SaJk7xC2/wvBUsTald5db6umXIiwJ5oT7mbwOXhIgtu7+z3fv4P7BXoH2JzATA6vecjv26/O4ZBwww03QLMYSSsYaj/22GM1NTVPPfUUrFAiaRK0jsPhQBJiaNNhjghHoJHaPA86txgpNKi5BUVGErDK5cAthw1taN9uvvnmlIFqEqP1A4uRO+PAgQN4lkAfiZ2j4Z8Scj1a9/SGr7Lu2g0dcKg52HbsrP/Xq7bKA6DaqOOor29Z8XHNs887G2DwF+4wr17b8v4ymILgiYCtTnttHSxDwjUY6Dl3Q2Plgw83vvm2ZfceweFAN5iqs6Wla+Omhn+9gqw6KIF5d92LL1n3V4JJ6/LyeIOh46tvWj/7wn9MZ31D3QsvtX76mdsku0AJTiciLTa+8R9LuZw/YmQPaFOwZ/TGG2+AgkQ+k6+++uq+++4LpN3Y7sSLH24/ZFnr0xs8hJ544on33ov2IWcymf7617/iweCzd4x82kdDTRXPlWbocxJjxZ03ljEHKb3//vtfeOEF3FSxPM/euYku5Ib0rH4Iga6RfQaFMufurBIq3vOuuofplvPLiJ2VQs0q6IyVJqgmNm31rP2reOAT2KMErlFs+FaoeFfsbpLdKPEx1Uj2YLLU3iysf8K75SWxHbpzh8zmXRaxeYd38wvCOjD+wTgs1dJBY3GpvcIXwASxBXvXAqMRZOIMcYitO4W6tZK119wceTTF+vWe1Y+IDauAE5w1hU1/965/Umza1gsdeLmtXWja6t30PPJxhuh1cIqxrwha3NyfRM54iEOBHUi74dB2yimnQMDChSZwcv/9738hYyFpA09FXgKNDMgDdJl4NY281dFTE9GGS9P1OUmx6J89IlcBJqC4w3HjBfKBCOcz6nXevnXiFQS/HJgQnHnmmUO6lyrYbDuvuwHjOltaJU+vZK9//p8dH32KQtu+/T7mfeChx1TGJKiEbUif3nNAqdzyv/etO3dp0tOgJHZ3mVyNTejQVl4BYwxXS68MtVceUIaAKr23odtd/cRTLe8tQ4coAe121Nbhi6u5RanpsRzBi3HvHX/i9TrB6fJPrtnw0ivtKz5GP0j9owwkd97QiLF0BfmYpBzeWxQRttzT2eXLaolVNLz0auc338mRvDkOOntHbS2vN3R++rmAxSqxzGEJuWEjQi5Cwc/r9aLHi9iLoOO6MQXarEyhP5TXN7FB/ALFDIxGoJj52c9+hk3GI/YMlTP0IthpCqyJ5rjxiouL4Q8E/XSfCngkPPzwwzNnzpw0aVJg28hLlF1RbOlgrFGhrYx8aVHWbO52wUImJ0lbmmlosphJ631EPDs7O3FP1tfX400ykpv/iB0OrIJ307PCblnTLHaFZYEwnNj9ltiwGmFAWOSnRJZ4xPy2NDLO3t+a1LTB880fWUMGq5OtpCSYO9s7JHO1km4dluLu5VfK5fa23nkKcrRBtmIsq5VlKQKMIJc7vng+vg5xS6CE9hFx2V9z45Pi/uWsHoJOjXgmcs+WWgZDHDw8K65F8Gw5zonjkM2ud+1fhK09kwmae9LXGOneV94lwHkUIIB5H3TDlFo2KHOWLWEQcPDgIXXt711Lz1hi9ZdiWzmioPQuxGOTeTyCf4sHaaizTdj+sljzDaINytBh39FtA3ryG4sY0pbDb3YD/wp59fTTT4N54zUP1iBH7AgMBsoFbF8H1oRP8LXXXnvyySejq23bgryHwOwbfvOnn356YNvIS7B5Dsty1McWJZw4I28Y9zVbLC7YlmQlacZDwHa7ScAqVxxRd8C88T6ObfD09PT+3gbxw7yx8v37919zzTXwloD9+9C58IN3dn77XR+gHQeq8OlT2B3U1VIQbLsq+vh8wZjEv623uztwCK/JbNnaV+4gtEhgzaA3gXn9hsByvBL43gr8z8Jt1L5nbxiFMAzN+6zCy3S5AhQGnrZ28+G6eVvFbnwCZzL8JWAed9xxB1gIPM/CmyRCKL/11lurVkGTFOTA7iToC3adQr3vwTf/5ZdfxmMjymhE0NDjPbu6uhrKbxD9EdwVxebj3IKkqbmJEMdJWl4QmVaLq7zFtr62u8PunZabcP70LJQf6HC8uqHJ4j7khHrV/JwpOYkwDXx9U1NVp4tnmaxE9dwC41zZJpv3CNLunk72tTs8Bw1HLpyZBYvtNpvngx2tRq1qSWmKQaP677bWXS29v6F6k1Ov5ow61az8pB1Nti5HEDWn77KpOGZcuh4dlmUaDBre7hb2ttlXHjCjE6HnkZKg4e49TU4bjmmsrDSdWJoyOTuhqdv1zOrGk0pTfzg53e4R39/RanEK2H6dnJPAsywM4pfv6mi1usvS9bN6YIE4rjM5P67o3N9xiKIFuXVGrgiviHBiwxYKFJMD3jCNcvpSezk+EXWCON/d1fBoDP7UR+QQSy0IcfCziLtX81XfUVxdUsumPvVh2N23Gv732qX2ncF77qkt1n4T2ArJ7cM08a8vtW4NUtNrCzJnNHMheKLfWuBLGgYWZRiEPUE6oS7owIf7gDX2K6+8Ai+sf/3rX0cM9AS/yQ8//LCPw7oyY9jXQT7jLg1lsweLvueffx6OXpFQ/DAoYHSQbyhloGSZN29eePvPMP0MyqlkHX/CuJTCVFnTDEdGtyA1ml07m6xrauDVIp1Ulnry+FQNz62pNi8vb3cpwothVCxz60lFqQY1xNHfVtXb3aKKY/OM6hPHpUHi6TUcJN7WBuvmegtMR5RGF8zIOqbICCd1CFg4xkDAJmhU/9vWuqPZJ2BdWhUHd/WZeYk7mqyQ8GEWyHMMtOP+AnafImAx64PPgQlZhp8tzEMny8rbIXhPKE0tzTCsrTZ9UN5xxbycabmJzRYXFoXVLRmXmp+ixb27q9m6oqLT5RWm5STMGWMsSdfjYQHRjR4w8zDzGdJT0Hwjth5uP2jx8vLy+mUIGlfMGyjDW/k3v/kNEIFn20g9UYb0YlPng4gAzE7wngZFMoxfYUIdqmdsQX777bcwBwxVIXw51DmwVAH/huY7fM0jnsWE//e//4HYIUhcaWnpEesPUYWx6fozpmSk6A9ZdyTrVWVZCTD5eH5NY5vVA/mea9TiU5Ciq2jtfYPDs6QoVQ/hXm9yWV0CyzITswznTsvMT0b4895ozceUpICaLytvW1PT7e0h34hPgib4fmJpGvpP0Kq6nV48TnxLQyU8kI4dmzo2w1CUoutyhHS0B+1eVJx87rQscG6lOXrGK8LsAuM7W1vW1nZjQEhPFOJsnlGDx0BxupxPCq8K+KvpmYmGF39QloZXDsxE6WSaXp2dpKnudOKZoT/Yc7JenWfU/nVlXYt1xB4M4a8+/BZee+01vL/B8qqkpGQEX+TCz5POjl4EcI8tX74cptuIaImIq6G4LEQrPCZhPjuwlUIewi8TMV6x3T2wHnytQL6///57GL1A8w0te5S9RdN8Wk7iDydn+vcAxTPe6lP0quW72ms7HRybBnEEPQJKfEImI0E9JlUOQbuj0YoQDGqOnV+YdObkDHBxhReiySkTtTPyEt/a2lLeIktmRcAKonRCaRp6S9T1CFgoRQ4eioA9bmxqSY+A7bCHE7ALi4znT8/uI2BnFRhB5VfXmBV1CqS3ImMnZRmWlqbmGLWiJIHcy5NR8ziVLTHnTcvC4wMiV5nFMcUp+NfhEcoy8V7QWwgXT6OO/9eGJpNjkIPTR37hYN6MF0vo5qDFGztWVtlEeMQb88ayQbsROQ4cBXRqBPdSI7wAVG1kEYCoffzxx6GYgRcjUu0EnUxdXV3QXc6glYMWwtsSVozRM290jh/5u+++i2cV3hkmT54cdLihLrS5hXU15s6Dyg/EyZpdkAQmOjU3CeR4X5ujxeIuSdNDDw1K6mPeRak6g5oXRQlO/ZCVBhV38vg0PCc8gvjtvq5mixtC9bixyUa9CqqO/e32Jsshzoqu8NSB5N3ZZIEix+I6TO+ypcE6v0iOIQi5v63JGkq9B6J/2sR0PBVaLe4tDRaT05Nv1M7IT0rSqk6dlA7FdlXXoS14qIgQTKje5Oiye7Hf6oMUcj8nWVvb6Wy1WtQ8hz5T5K1YLWYI5Td6hk0kCvGoQ8mU7IQWa+yaU8MUCo7p0FZgFwXEqF86m6G+x6j/uEEAygLY9UFZAAEY9AUPWkPYmQRVeEcIAgT4jh07EC52UEIsIMg39HfQfJ966qkRTmDQq5mdns/2dCC0K3rmObYsQz8pOwHEdO4Y46Z6S53ZbXZ4ofvINsqSx8e8IXlQXxDFfe12aIUhmREiNi1B02X3YBOv0+6B7gPhVtHq1Anpe9rsPj00opQoAra8yQrx3lfA1lsW9AjY+UXGrU3WUI7sEzINp0/KgIBts7q31FsQNrFXwOpUp05Ma+x2Heg8zA1vWl4i3NYOtNsxHCSnD0NMBpZRe1pteMRAXzM+KwF9QrFidXn3ttk6bN4kHY+x8MSBkSEeKyZHHxuCQb8a4TpUVBgwPlE8dMNV9TsXKfNG7xH26Kum/JDwF1yhX81R2dc2VEP0iTfdUFPChhHIN2xz//a3vwX9qYdqSOWjFwHZBSr0LRHmLH4zCFqCvVEYJgbuk+BWxIMBhw+ZPgTF9y++9Dnlmw86Rxx+vA32eTCEmVWY5xBufkQNx9s2LCNBvoefMEFpDYM/3/ZhooZzecWTJ8i2brDN2NVir2x3wPYDCuDiNF1CLWfzyBuNY7BdrOFsbi/UwzAmGZeug+Egyrc1WN7f2Y7etDyLz+LS1LxkLYi7P/OGSmZTXfe3lSZECcRFhjGK/42K+exutU3LTZoi64T4rmAqEL2KmzsmOVWvRoSsL/Z2QKeODVyYzUD7vrQsDaQfm5g1pkM2teD372xrOdDhdAsizGl8B94T1lSZPtvbhQlD+YIH2A8mpHsFcV2t+ZOKThRCHX/S+LQfTsrAdTHqgwe8H9ivLPzdotxsuG0C7xyUhPpp4C7CLj/uT3iq4eYf/ntpYFBQqxFBIJI7MHBieMH78ssvf/WrX+E1D+lvAu8xvPshdLd/Q/86ob6jvu+uxh0O10xYT/VLwIb6UaBnxJ9FbBZUUMh34JwDlzm4JXvaHPhARindImz2BdPZmQVJBg1XkqarNblATIvS9AkavizDAHmriKjxmQmo3271wDQFm4plmfq8ZDlO+TeVXV/t60JvyTpLukE1ITsBXjGwY6k39/JdCFhw5W/2d8GYBMLC4aPkPcM3mN2wA5yWl4QNyVQ9QrUGYYN6FYu3gjS9Gvz4i72dq6vNioDtdgnQsKQnaHC2pqvXxEVZVLPZ/f7O1sZuN4b0rRSnbC4v8jPgBcPtlWBpc8mcbMh2u9v76e6OdbWoLWnV3MWzsmblG9U8C22O0tug/A0Unr5uw5wCTf3ggw9QAcYn0HxHcrdEyrwHEPxYmTEEOo6BgYIdHxwDawvPfRgyYnsLqsGhs/ke2Nyo1VAggPseHmN43QraOZTWYfzfwT/gpgOvIJi99jGhxo8KAadAdn3dwinTfyMSsl6JavLnP/8Zqh1fNbTCi59C2SHBcQpd9Xkw4FH09ddfB51woLOmfzV0iEj28GrAG+axxx4bysQ8aM/RF4I3++yw0ZvVLVZ2OpWtWWXTcGez9fRJ6WDe0HlAaQHmDfvpMalamO5BHdJgllXIsM1ATBJI/LWy5aL84IC14sb6bjBv6HhAyhXzD2W2kMvQ0PirTPzsTRg031jbjacORgcVfmtrr6ey/0pzjZqiVC2eRtDHQ/2jCHoYbcPkEQp7KK2hO8FeLUqUViaHZ3O91X+ZSjmehBaX4LMm930Bg+88aGIONblSmcN4g3eAoCAmCbxZArvES53i/osbGEF7+lTAlkuYmx+nYA2FUJu4l5CgZMCiPnBWVBJnCMBuGwbZQRcFWxHsNgc9hUKIPlhx4B6DsmDx4sV9PF7wsPaX22effTaiRflEJYTb9OnT0ckFF1zgv20I/Rp+Dtu3y+mHcODtMVBPB8aPHcKgEc+gcEEPoSaMcpDv66+/Hok5o0wMFGaIMKf8mSiqwdGlxSqzZIgUbLXhC4QYlB34F6Ly832dCNKTZuDzYBXNMHA6h1zS9my+QZbC7GR1lcyDcQoOKtubrGDeKJ+YafAxbyjIIWAhxoNOySWIGyBgs3oF7JtbguAGHl+cihze8PlxY0fUJ2C39ghYmJQU9ghYf+u7hm7XjuYg3mTQqcPAz+yUn7l4B1D0LCjEc8JXaHPJghocd3Bl7LPPPotEHEFBwNZ30HKlEPcegpjhJwDKumjRojA1lVORMu+CgoIj9tWnAjbE8Q6K31hSUlK/FM+gUPgVgQahYagwDvgtgcr486HA6eERAhNb9EPMOxCcuCzBeycCjAx4aR9//DECV8HhMvztOmfOHDwDAkc56aTeELzKKaTMxIPKX1ke2GTt2rVwvgwsj7AEzWFkhvkk+qUxirDtIFaDMyU+/h3CewdSNSNRA4ELbUejxQMjRahD8MIA5g2nS1SGsTj+QgPtr0GB/kPpJ0UHZ6FIDzxSoJyu6XTg2QCvx8yEIOEFsUGJ7VLU7LC7Hd5eTRIGaLV5FMmeoOWhAvcx70jHHsZ6EGXY68BWeJgxP/nkkzBnw5zC7Qo3Ytz/xLzDoHSUnwJ7jkZewdcFu4tIu9GHeeM57v9mOHHiRGRaDUxOCdrtz7yhJkcoQB/zDnppkL0B2o0wrwRBW/kKMQS0J4iaEjiZ8A0H9ywkIfQXMPbw7xYUts3qyk7SlaTrkNDAJAj5Rh18zaE/ru92gaFCJmObEU067W4oC5S2oKsKg8e//o464ScsC9hOZ3WnY0JWAoxe4BYfWB/22fD2QTm2JYMLWA0HhX1gw5gqgQ4Cr2oDnhLUYaDKg8m84YvT39lADQPyDTkO4hueyvTpGXwdrsrYAz3//PORITbouHgvgRlWmHChGBeZR7BhFBhlOWiHVDjaEcDr73XXXRfqlkCOBmhrApUi/qtGaKpLL730iMwDzkDQl/gagvVCQwPnfWjN/UeHFgdKyvCo/vCHP8zMPMyNxlcflB0anfDN4c7/k5/8JJTLf/i20Z+dmZcAMzuoOmDoDC+fPh3uarLNyEuCVTR2PBH2BHuUMH2G2mVvq10xE8S/aAJXnuPHpljdvQ8G6GmUfhJ1iBrCKnlbI5lqp8MD00b4vINew2BRsY/0b6hX84r7I5TT/uWg3crOKnYtYUYJ9Vwkw41IHaghENUYxqz9HR0msOAo4W9+BHNAntTwQX76Oy7VjzMEoLTOz88Puqg9e/bgHgufIQGUGml9A52vQA+g2Pbdn3CXRBAnHzuH8hsmH8hx88033/jrIxGWCoGegk7GVzh//nw4EAcNuozmkNj4G6YHsCgYyYRxvg/TNvpTMJCbkmOA8gJiFq6EWYmHhdPGbuGeFgeYN6QW1N7r6yzwQdSreBh71Ha5wJXhtg4/b0wDO4FnTk73KRuyD/YDZUTkk4TRNmKJwNAFZuXYrkTslD5tQfqDC1gvBKw8OAQshHDkI45IzQsvvHDatGlBh4a96Jtvvhn0lK8Q+8+IgBm+jnK27/MyVBtk2w51atDLsfcEh2h0C4/7UOPiLTmMJhtkCLQbHsoDiLM46MuhDocHARA1UIdQpnuwO4KyMBT5gHAHCcZOaKCTJYg4Hhjo3NczNOtQPfoWhfRpIENg3nhdhH+9rxxbN/4SH2+AgZweGSL6aMp9zeFyFIZ5Yz5oCKsyhJ4dZlMTzDA3mbGd5gAAIABJREFUSX3O1EwomGHyAZkKw2t/2w9lCVsaLedMy9BrVIgYhUcINiKhg4HNtC8aILY7URN2iovHphxSQQ/0XgF7Lm+ywVYbzxX4NZY393XAV/YlYcI40BFGvh2Y909/+tMw5oahpvif//zno48+CnXz47acMmXKq6++ShFOQgFI5QoC0P5CZAVFA49sKPxCMW/IqAkTJmCDDgrvQDUcuDiCsvkMThC/FeTbNwrcD0C7FeaNOPS+cghkfwGLh35g7BTsBwbNv4NOYIKFH0UY5j1u3DiEZEGq4yijwQaFK3whJGNxqvbSObnpiWp8V2Ssf7wRNIcWY2ujZUExQq3K7oaQq8VpCAbCNlvAvGWjETRUZCy48qkTDwWcjsQKOXB6ELC7mm1zxyThNQDOPPAc6VNHEbChnr+BHcZmCTZbYOwUdG7YEg/DvHGHwwb13nvvxR0etHmfwkiZdyR9xUid7OxsvKciklEoS5UYmSdNY3ARwC8/jGM7fhihJA5ENky3EdskqG4DraCWxoPBl94MG6P+e6M+I0JlkyfoovDwgONFoAQH6Qmk40oPgZV9PePRBfU8qFI0OZODzjOSwhQdf860zOl5SfCLQWhYuDbC/A5O9OfPyPZvDidK+P1MzUsal2HITNQUp+mBZHM3TE0Oi7IH10wYihyK9Xqwiw6bu78sGUaKIN9ZZRqEgIVJSSRr8a8jOyHGNi8HgGHuijDrxT0W6uaH/gJbi4hHG6FjUJhR6FTcIxBeXoW6x3DTnnHGGbB/xQteIO0GaNBKgOb6mDdeEf3fEiHVlbdNFIYK7YqhYYgC89Q+lwBiP5RiAt0GnYzSAzzXIWBB3EfkmkK1cencHIRkRQCTTfXdlXL0D2FhUfKiEjk9k+9A6A94ukO0js8y5CdroRQHHYYXo8/hRKmJbb09rfa+TJlhqnsIeuQHDE52NtmzE7XwgId8jryhUhMCtr8ivb9DRF8/jIANcwqvfDBAxUZNUAoRdFbxxrxTU1PxC4fuMwxMQYGgwqMTAQhf2KjAKinMbwY+lxDB0SQWhr4HUdsGBWE8/LD3Cme4EaHdWALEbnGqHgoVEGtktLH0GIr02GkcdshpcdrsYN4onZKTkJssu/7A1MRXyer0QhmDpwJCiPjMu/t00t9/4ay5pDQVdiyIZtjH88bpERCUEBuvsOf27xabpIr9JKJw4W2hvyOO6vogJQrtBu8Z1QuhyccyAthORB6xMCFQIcqgmUbOhAHs5ygLB3fHzmQYzUu/8IEVHwTsSNFuTBUekHCPQcQk0O4PdrYhdQ4KEVekzyrgBY5MNGDeEGvIX4bATVAdIHONUg1qaQSSQvhr2J88v6YhkHn3CxOlMlwnTyhN6RGw2iAC1i0gFElfAauCgJW3N+FCE5cCFrT7nHPOwQ0ThkIEQh3rBu+BMw5TAs3i3XfffdlllxHtDoMSnfIhgPsE2j7kYw+f/AxnYfU0YC9G/DLnzp2L3dLokQftxu4nrGLwmIm+t4H1gGSTYMxo22p1KbQ7aD/gsMhhqahG5hQkKYbgvtjeaFJvljUu6ApRroL2MIDCOpML+iE0RO43JcqKrxM49SNDBJ4AiDeLAFi+8qwENcg3/rU6BQSyHcCgo7cJbFfwwCDaPXqvYOzPXIlnEoZ2YwnwLsAmXjSqBAhYOCpEjwZ05zDVhfIS84m+twH3kG5Qw58SyosWOXhrSM4MR0bIWMTgg/00nGpAeVEV1tjKuIjLhLB9+J5mkDMND3gy/g3rzS5kWkAJApWAZPufgv8MBCxKMgxqfwELf/deAeuCgI031Qb2DKHnhRHUmDFj+oXwoD3z+jXqUFSGwSvCup122mmhtu+HYtAB9AmTCE4t+z0gATsS0R/qAfFx9HqWk+9mwdrXSnUAAwVtwsLoQqdlGVb0eCTXofwgqDz/68816an2uvpdN/7GeaAqaPN4KoSa5M4770RgviP6rUM1iL0kGAXCkDEQAbgcwJMSG52hArfhqQPbp+j9IPGegB85HIvxoAq1sRs4vQGXgJz28aZHVzDUhtUh5DvOQqBreFaJHoW4qoEDwc0RKhkob6Amx4SrOxyN3Yf2N3c0wiw7GZaIZ0zOqDfjDIJfyX2gTxh/Y6ABiGl0gPQTiJriS6LmmxWSDMPWBRuyUIcjsixCFuLBhkcCEtdDhePxIveEo93uxXtF4ELirwS3669//etbbrllwO+TowUTNm+B5uzXQ81WqFnl/ehKnFWd9SpfcEzQapKtw7Pybqn6U/+zbMkpmtOekUsEpHf6t3ftIwyS2B88+AW3qWbL3brePovp2C33f+oz/NgeC2mX1f3J9VLjGl9lxliiXvIAVzBX7NjrefuMQ+Wj/BvkKqz4ECoqkiAHMB/HsxuBUwLV3kqss7a2NsT2CQoJNCPwPI6GuCvdQkbBY+fFF1+EY+UIClhYUEOO4QPD7lSDCjtysLGG1vig8/lhGNR0OhFAEKYmsOjDnHc1IUFYr/oAIhRGJiUZ8Lpkz56a8cHOdjiyo3NIaq1KlrH41xWa1geFGrP6dHen7LpzMFmvrxqEJ7YukdwXH2SXVBImyFkUCpPSE9RIgwBlPGIjBu12lBaCdiPjEjR3uNX7e8PECfOGQnFkM05Ffuuknbgkef48RKFseX+5des2X0M+MTHv8ks1GemSKB6494HIO+xXzYTpUzNOOZnX6bo3bWlbfshNEJ1wGjWn0eCtoL/3UL8mECOV8YaK3wzk9RFptzJh1IchOCJYIVlanyUgAiYU52AwQbMfw3kInr6TJk2KcuHwFYa2G3ngho0qQUsNF8k+0/5mvwmJ0Nptbuw2guCeNiGt1uREQJL5Y4yBC4RtInQkU3JExO3G2TqT03+3cVerDfppuGlit/Sq+bnwEALVRjgT6Ejgjok0Ct9UmnqoeP8OBAuv6pDDC/ZpZnJ6kbcSKTaRIO2UCekZyOvm9BQYtTPzkxAft6rDjo3d/o00amvjXkJ+35tuumnY7qURhEoO+MsfFhTCfzIs1xsfjeXVIavx4DRcn1vxULc4m38sm7ZMat/h65nlVEpvvoa+EsaQxk+82OvHvCFvldHxdwSBGtyhQUpAu/FqFwntxtBQTCByNkKXBIaFhW03UnMgWDJC9AROEmoR6CN+9KMfRfnYwoSPP/74Z555pr/Ky8ApRViC7b5AAfvtfhOCriIPjt0tIE4fpBNUEojTh8rImBPYc6scW9AN5q0sf/9BhTdqgq9vbbLMLEhEMp35hcmQe+C+oNqw/UBYQEjvd7e3wSAwsM/wJUhFWdXuGJ/dV8DC2wcCFrk2kX8egcahl5FzWCZrkVINAramEwI2ZLj38CPG5llIUewZQnk3MJ1aPDBv6BSh7R7BRK/9ujOSZ8/Mv+jHLM9Zd+w8jHkb9FlnnJZQUiIJwhAy73Fjc887R200IoxTH+bd8d0qlTHJ3WUW7I5+rWjUVcbDAO9psD7sF/NYsmQJfmbwdvdPl4O1w8MS6vCgIMDH9/e//z0CFQU9G3khzKgQqwd+w8PpNAxJfWJpWp9J7myyYbdxR5MVNoUyhZ2YDuNpxP8DL4E1IR4V/vWhw4a7D/h3qoGDO2Z1l8N/5xTpdT7c1X4Oz8JqHETZnyvD7RIp0AZAuzF6d0+qCKTAVB8e/hantjZa84yaE8vSoJU5bdIhZ/8Oq3tZeXvz4a6fkV+d0VUTzwlkOYYL/9EW90lyWYRdfXO6iZ2VfS4ftOBS5z7/QsltE03VYa4ylzaWzZwudexipIislfiSE7zadMZ1hJCjYUaM8VPYnYOq++qrrw5vxddnFbB6gmYBL4TIQeZ/CnuJiAkbasnQlGP3Jkr7UhiIX3zxxdCtILxPqIEGvRzSMlDAIn4ImPfOZtusfMeMfDkBzY+mZkJVreIgQqGi7mutAT90mJcgjip2HaHX2NtjCuI7Gs1uJIOEwhuKBpij4OM7hfSYds9AIqjCqmRbk7UYedICBCwSbeYbNUvHp2Fr8TABa5MFrJLGYdBhHJEOYdINhRoCCA6MdmPOo5t54z3vuOOOw4MEqddG5ALE06AHHnwE6iG4Hw+drcuIw4UbBlFKYJUFl4j+CmtYMUFHjlZ4zauvrw/cFfVfHQYCv7/55puRBW3AP06lQ7weoB88XQI994cCT8RehbolVM/YrQR7XrGrA073C4qMUGwgl+/2Rgs01ieNTy1K1YNh+7dFoni4AcGcA5YnMPbwJ9OyM1C7459rG5HhDHoRPGPQEJXRBHklfY8QPGwwH3x6jVEO9o7myjxRwT8mCeg+VDvQrysdYpfTNx94c66o6Njb5ji2OBmKdrWKxXB4bq2u6oZuXqmGrpRu5QT3h4c6QVc4haegf59KIXyh/AvxL2oCK9k4J5YO7MBAWiJJQn9v/lhaxADnIrnM3nWHYtL19hLAlcUDHwt7+qTSkBghZCQHSfSyaj1feoYIcxRHe/jJIboDzAhYfQo38UJx27PhK4/Ss5BX2H+HpqBfeg1lsTD2gHobrB3K7/Bp8lAfRndQOoIuh0qJECGAivMMpDreE6JUnEcyIsRCeAGLTqCteG1TM6TTxOyEJK0K2oT1NZ2wKgGdhf2Gv6hB5Z1NVrBzuLjXdTm67IeJbsgwyFJ4vywZl4yY3xDXEGqwu0NOnHU13cgJj+aQ2EEFLE6FErCQmRCwCB+OOocJWK/40e6Ove2O44qTkdkeNi1Qe+9rc0CNgjn4wPEhEPgioUh7aHOUEOBKk95HwOGFYaYdyVWIpg6e7NifwZZOhBvmQcca3cwbbhBPPfUUYhUFXdsIFHKcOi1Vk5WpSkjktPJ9KdjtrvZ2d3MLQo/yxqTECRO0ebnKxBLKSlOPO1ZwOm379mtSUxKnTub1clY/HCjHX3d7O04xPXnLYR2uLxqjSUuHoTasw10tLa7mFtFxSDltnDWDT0j0WLrte/fzBoOuIJ9PTECkZXdrm6O+XnK6GJ43zpieUFrK8rIlqzY7G6PgSWDbX+lpkS0oEidOgKkJ5mMt3+XrGWHMdGMKNOlpnEYriYIHP/+6etHP3o7T6ZLnyqGXnM3NzuoaTW4OeuZ1WsHpcjU1YZLK/HuWNcIHpCpibSL0DbZHQoWaCj9FxXIRrjxPPPEEsr4jb05gjGSMgriWCxcuhPImVDT68KP4n4XFIcIChMonFXk/kdeEVvs3HxymcwpsCy/1z/Z24eN/akdzECtMePYgYzwobJvN3Wbta+QHo0NYBwZ25d8tUsEHzQYPEh9qntVdroe+rg2cNkrw2oB5Bp2qUh8WL6G6/WJfFz59ul15wIxPn8LVNd34BJ3ASBXitiwtLb3jjjtGJD7xSK368HElxhvB3jrMtSOpdrBroWa1quR4Ln8umzVLqvk8/EolSxPjcbDppfz4M8T9HzC2xvD1R91ZmGpAFwjnmYGlZIJYRlBkuI9DwCIvD/J1I1RrIAiIYIZQUXCeif5mxnYi6PtDDz0UJj1I4ASiKUFasVASxr9bkO83tvS1bES6nMChodfArxuUGlECwVn7VIAmotnifmtrW2BDpeTtba34BD0bap61JtfDoQUsFPb4BO1QKdzdag/V88vrmwIbvr6pBZ8+5W9ta8UnsPJQlyDQGYJ2456JcqDRyrzxE4VpF/azYoh2g84W5OdfeXnqwnnajAxVT2xRd0cnqG3zex+0f/QJWO+Ehx/Q5eYo16zgisvwAZHdc+c9accdg++wAMEpMONpL8rqkJZPP99/+93QQGvycjPPPD3r9NMMJcUw0ZbJccXu9q++afnvu94uk9Jb6Z23J06e2F2+q3XZh0nTpoINazMzYDJu3bO38T9vt6/4GJS99N47E0tLlfppi4/FB36We+6+t+3dD1A46fGHwbDttXXlv7jRUXkAJarUlOzzz8089RRDSZEqMRGV7dU1XavXNL/9P6UC6mizs5TZNq/4GPYz6ScsSZw0AWv3WizmrdvqnvuHZcshW3Zl6JH6i8BVMDKJJLNr+Bki5hSS5sDbEgm3ke8GjweYeqMJdNJQqMP2Cd7xUN5EbxmCrU8llUP4+cTsWbjywOoDOYrhywgffPPhySNjdtpxOTEwFbzCDfidMy4xGZxFmWslWzubkKGafLHnSMyb8dglU62UXMAlF/KFJwgVbwzOHGKjF/g4QtuN53KULBbqBuQIQ0ITGJmUl5cfOHBAyQ2MjZqioiJIRWSmhO1f9NGiYHCFHMAIKRvlhEcQfnheTs1JRJQRm0tAmFeX4qU+ghOK66HxTggpig3z6Fc5Wpn39OnTEcwEiQOjh2AQe4C2O3Xh/ISSYl+f4LL46IuL7IfbrkU+KJ9szL/sktwfnw9NtrIXBvKdPGumoXSc6HY1vf4m47ejbSguKvz5terkZCVGCkh80pTJuReeb91Z7mron36FMxjyr7ws7ycXqQ+mJ4BGPLGsFEMkTCgr/8VNkp/GHctJO2ZBxpLFIOjK0jCH9MXHeUwmy9btkecAjxyW/taEthtJHyGy+9swaH1IakTLgj9+S0sLUq4q+R1gLAi2DQuwgel7+gyExxisHjFKlMYqQec/PIVILD87P8mg4eB8A6ec4RmURglEAHoaRKLEC+HAtnoCO6QSHwKSq1ts2cmPPYHNm82mT5U6doYHR2yrYDMnsUk57JjFTPXnjCOkMjJ8P7F2FlnlQZeXLl06KPcY0izA3/GYY46BUw0iR3V3yztI6BnabtBl6DjCJMGJEBnIajjZQ8U+PFZ8Ec6qX9Xgt16arp+ai1zCLGxIWiwhbaL61S1VDooA9gyxN4KHfmCq1KD1wxeOVuaNX2D4hY3IWXdTc+VDj1q375B6fBcSJk0Ye8tvjVOn6LKzMk4/reaJpzaddW7x736d92PZw3LffQ+0LlvBiKKsw96yteW9Dyb//amEoiJ4WK5eeDyaw6oEkQdTj1uUddYZqoQE09btVY88BmOSlCXHTbjnbhDiwmuualu2wqf2RhOYuFh3VbR++rmrsUmVnlZ0zZX6wkKYuOiLiuy792676KdZ551dfOP18LBs/mB55f1/QRMMEQQrlk1fekLO+ediXPOOndVP/d22Y6dh0vji63+ePHtW8uzZeBmof+Gf/pSa1xtaln1o2rQZSvqEyZOKf34tVPgZJy3dx94VC8wbtHtQfjD+WIFqI9t8YML5IHj2vwhGhwhlOCiPsf4PHm2LS2ZnI3IfngcIEQizkK0Nlr0dxLyjRXXA7WH7hJf26MnKgCcQzw3tbULlh2zBPFZr5Cec510DP8twxv1i/Uo2o5RPyuHz5oqZU8Xar+MDHOwEDvo9BgtsKDL6laAkcjBhrXveeeeNUgGLZd66tBABphCVVfGtXF9rjicXxsiv47DVxB4LyPdgsYjRyryHDe5+DQS9sr9quXv9xrp/vDTlycfQCayoYfEsWG2Su9faFZRXsPSabYk9p8DCleF85TDvTj5moTZdjsNQ/9LLlk1b8KXzsy9aFy3KO+9sbWamcf7czk8PBZmGaXj1k093b9ys9JM8cwaYN6/V8j0RxAWbzcezJY/HN0rgGvnk5NQlx2Fcj9Va9/yL5u9WoU73mvW1HF927936/DzwckRF9LQcsr6y7d+//+57la6sW7fn/OhMQ+EYdWIixPHAglQEziqaklEnYcGTRi9VgnkJEtkgRCAc4as77V/s7YJJNx0jhcBgPS1Gav6DM67awE08/1BXHqfYtIGx9zUVZXPmcH5ul1J3g9S4NuwEJLF5s9RWAVNvrmAhk1zKmPaGqw/NSvnb/LhT2MQsbswJYuO6cJVHz7lRd4/hwTTqHgr+twMSKSBrARJVwtl9a0P3hloLidgh/bkM7uOYmPeQXiwGWvBoBuC0GrhFogcwYPO6jUpXUKib128A88a/hnFjO0MPALfO0CfDnVGnJCf2ZDv3dltM3x9K+uCornHU1oF5q1KSdYUF/sz78O4kMPtwA9C5uEbg+2pTQ7cL1Nvi9CKwILzy43q5tLhRgACnT9ec/LhvopKlxfPFzWIA81ZNuZjB5+Ah7P3YcwTmjVAUdWLDWi5rKptawhcuEcz7w8MhNa0V2/fymRP5sh96y1+Rk6bQQQj0E4Hl5e0b6yxwrDQ5vLDwdgQEHOxnf1R9WBEg5j0EcHOgHCyyTumKihKmTY1mAIQWSSgbhx5cLa2Sy4mXdKU3r6k3xgJU2tH0H6otn5Cgzc/HWUdtrX8EFcQqcfekklEnGXU5OUEcrUP1SOVHEwKIV6WErDqaFk1rjWkE5BiR/sps0SvH+As4EMGpJ4Fg79Hz75EO0S1WfSVN/jGXmM2OOY6pDB7d/1AvXpu49yMuYwLU3nzJGeKBwzKaHWkwOk8IyAggJCs+hMUoRYCY92BeOFat1hWOybnoAkQXSSgd5/NNHPAY2OCATTaa6/LzZrz1b18/fIJB+Y6skwPuPExDTq1SIyghHkF9VNcIcahEOeT5IRo6zKzoFCFACBACA0NAsrd6VtxwqK3gkbrlCE59Du+m50GjfYWSq28cyb4Nev6X2jaJtd9zk8/j8+YJWdMQoSpoNV+hcGAZN/FsPn0cP/l8sT5kmpjwndBZQoAQGKUIEPMevAun4lOOW1R8042J40sFRLuorbNYLBDAqfPnRT+GSqdLmiCbf9BBCBAChAAh0G8EBLfUuuHIrbqrIqoW0JFQ8RZfejqrTeBLTmNc1oDzhxfYWsWqz7mUQjYhmxtz4hEq02lCgBCILwSIeQ/a9dRkZeX930Wg3V67veaZ50xr18NOA9Ygg8K8HQ2NVQ8/hvjcfaYrp6oZiQNuQgjvPRIj05iEACFACMQcAlLrVrFxE198HF98vFB9JDU2DE7qvpNKf8ga87niJTG3GJoQIUAIDCUCxLwHDV1NZiaMTBC7y1K+C2G2FTsNxVZkwGOA3ToaGvT5+ZxO2/HNSilYQq8Bdx6mIQKtOOob9AX5SGDJcJwv6Io6I13VE2jFa7O6egy+6SAECAFCgBBgBJew5x1uzALWkM4mZh8REKlli9i6jUdWHWM+goIfsT5VIAQIgbhBALHY6RgcBBC8T5OSgr5El7uvefRARwDzRhJKtEaAv+SFg2C1EuFEoLZ3NjSgsjo1NXHaFF8rXVGhrqAAvkqejk5nXX2EvVE1QoAQIATiHQE5vKDYIBu08IXHHHmxUHvvWcY4zXJ4wfTSI9enGoQAIRAvCBDzHrQrKXrcXqts3mcoLtSNLVH61UJnfPghyvG8Zd95XXERp9NBo6xELIElic9+w4Dg33DS0WhEp6vru++FHlV30c9/BjtyzqCXT6lV+tJxWWef5Ruozyih/hW9XsVkRdZeZ8jaa4QMD6zs6ew0b9yE+SCTTv4Vl+lKSjBPbeGY7HPPNhQWSF6ha/Vadz+TYgaOQiWEACFACMQPAtZG2YbEE2nECbFhldhZGT/Lp5UQAoRAZAiQtUlkOEVQy93WbtlVAatuXV7ehAfvt+3ZA0qdPH9un6aw4gD3RV733PPPQ2WvxdL4xtudX32NKN0w2k5CFG2Om/zEI56uLmdTy/577u/6fo15y9a0hQuM06aOv+9P7rY25LaETQuflKROS9v9xzucB6oimF1vFXd7h2C3MykpKfPmTnvh74LN3v7lV43/eq1PD5LT1f7F1+knnpA0eVLGiUuQNB7z5BMT9PkFyCFvq6xqRNZ6OggBQoAQIAR8CEhesXG9ZGli08ZGhIrXLuz/hM/v+4yIqC1VIgQIgVGLwGjVebe1tVVVVUFNHDvIu+ob6l58GeQbHNo4fWrOeeeAubqamq2Vh2k1WpevgCG412ZDtpqk6dP0JSWcXodVeM3mlv++Z6+thaWKoaQYJuPa3GwwbFdt3b677m1e9qGrq0udlmqcPs04a2bCxAlobt+/31ld3S8EkFazc+Uqt8nE6/Vg1YmTJqgSE4P2YK/Yvf/Pf+n8fg307vriouRZMw3FxYLT0bHyu/Jf3uTtDJPAJ2h/VEgIEAKEQJwjILVsFOtWRRQFvAcJcc9bYldNnINCyyMECIHDERitOu/t27c//fTTv/71r5csiSHHcNPKVXs7OlMXLdRmZyOwoK2y0vT92vSTlyaMG2ur7I0dK9lsu3//x7QTl8BvEgl3LBW7zZt6kr1LUuc3Kz0mU8qC+erkZK+l27xlG/K944xMvu+8J2XxsYnjyzRpaYwkuto7kE7SvHad19zrmtP60SfmzVu83d3ulkOOj0h12RN+m7VXVSvXHT6a1Y8/ad2xM6G0FNHHnY2NcNxUTjX/910k0HF3deEdQClBsvqK3/w+/aQTDSVFvCEBam/bvv3m9Rs97e2+uwhJLht69N/oylcoOJ14wdBkZKAkMB6Lrxp9IQQIAUJgSBGQrE3e7f+SBZHTFGYg4cCnUqfsUSN27gtTzXdKMtco3Yodu/rUF3b/jxHdDC8/WyVHr4ZCqPlasjVLtjbJfng0Kq/Du/FvXLaccE2ykc96JNhTHUJg1CPAypm9YuwwmUx/+MMfXnjhhXvuueeuu+4KOrsvv/zy2muvTU9Pf/TRR/tLvq0Vuzefe2HQbqlwVCCAdwYY3mSfc9aomO3wT3JzveW1jU12TwztCA0/CKN9xJuOHzM5W85mNeoOsbvWs+xyyRQkT82oW8tRO2Euf6Hm3LeO2uWHX3hTt+uvK+uQtj18NTobywicNy3z5PFpPHeEpFdDtITRam2iwLF58+Ybb7zx/fffdw1XuL0hugzULSFACBAChAAhQAgQAoRA3CMwupk37Lx37NhxzTXXvPnmm14vvYDG/e1KCyQECAFCgBAgBAgBQmAUIzC6mbcCfEdHx6233vrOO+8gZfsovhQ0dUKAECAECAFCgBAgBAiBuEYgHpg3LlBLS8vvf//75557ztbjkkgHIUAIEAKEACFACBAChAAhEGsIxAnzBqwNDQ133HHH448/3t1NmXhj7Taj+RAChAAhQAgQAoQAIUAIMKN1nsxXAAAHg0lEQVQ1qmDQS2e32++//36e56+88src3NygdaiQECAECAFCgBAgBAgBQoAQGBEE4kfnrcDndrv/0nM0+oWXHhFkaVBCgBAgBAgBQoAQIAQIAULAH4F4Y95Ym8ViefHFFx988EEYf9PFJgQIAUKAECAECAFCgBAgBGIEgZi2Njlw4MBXX30VFKktW7aEiWQCsxNkuERz/C0pKQnaAxUSAoQAIUAIEAKEACFACBACw4lATDPvV3qOAcPx0Ucf3Xbbbc8880waMq7TQQgQAoQAIUAIEAKEACFACIwoAjHNvDMzM7OysoLiY7VaYcnt8XiCnvUVzpo1S6PRhK9DZwkBQoAQIAQIAUKAECAECIFhQCAWmbfRaHzkkUfuvfdejuMQqCQoCiv/v7172WnjCgM47jMXXxjfzaUxwQZaykW0JKlUSAQKQqrSSu0iRZGqSkUVVRcVUumOLpHYs2GJeAKWvEGeoNuKNJFYVEFpoGkKKTH29DiLqGrAx/bInjPO38uZb87ld8Yzn89cfP/+6urqwcHBhWvlQpmyr62traysRCKRy2JYjgACCCCAAAIIIIBA2wR0zLxlwi2Tb/mpoZBIJC5LyuVWxWJxY2Pj3r17pN01DFmFAAIIIIAAAggg0E6BDny3SaFQkPPli4uL0Wi0nZTUhQACCCCAAAIIIIBADQEd57xrNFe5Sv6Bzs7OztzcHLPdSisCEEAAAQQQQAABBNop0Dlz3vIelampqd3d3YWFBUXabRiCxy7buZe1oi5DtKLUzijT7JyvdWcMSMO9ECIU4P1bWKFwouE+s4FGAiKUflej5mjWFNuUX1A+wRbwdwQ75BQthJifn9/c3JyZmZEpeO09worHndGR2jGs1VpAiNjAVa1b6GvjriQj8tzgaxOo3JNAOmpFLcVxzFMFrdxY2I7IjbayBspusYA8oebGWlxHgIvvdsLZWKfdLxDg8Wi86fL0mO6yfDxHBvXg/j/q6enpra0tOdtd47HL15tYqVTqxvXGB4stdBGIFgeciXFdWqNfO3Jd9lA2pl+7aFG9AiPdsW7Hrjdat7hw3OifYdpbt2FpoD1Wl1mcbyD+7Qv9IB9/+zrdOT1+JxHOJyLy7ge/uhT4zNuyrNu3b29vb09MTNSJaDpd3Z/dccb5TV8nmF5hZjw+9NOPJi+LvHxYTEPcGc06duC/3Zd3sZPXdHdZHxeS8cjFL1TVv+fCMI3+m0Z+JhRiD9R/uN5ooWEZk1+LJBcV35D5z4Jbg6lCmhcW1yLSdl3MFrPD6SspP4cv2EdG+faSpaUl+T+Xk5OT9Q+zvJKWujY18P1ybHio/q2I1EHAzmblwGVuTuvQGJ3bUMhEv/ywJ80lUZ0H6aK2paLmwvuZ8T5HHqYuWh+MZUYib936WQzMBqO5tPK1gO0Yo4v2jR+ECHZu0OohTUatr673XU2F/Zs2bXUXO7P8sClmB9PThaScn/Kxh+b6+rqP1Tdd9aNHj/b29u7evSvbL18j2EQ5scFi19Bg6dmfL5/84ZbOmyiBTdoskPzo+sB33/Z+8bmV4Pkthb28jtYbj/Qm7Bel8vGL84qriGe17wLy1vzhXOzTsZycTrOC/5CsiGWNnkm3/NI9fRIqnfjOSwOUAiIzYk5+Y11bNpyL/zpaWcLbEyB/GMt5jWImeu66T09KHGH1H3o5lZFPhuffy3wymnMiPt+mL1w3kOdk+R+W8rO8vJzP55secrdSOXt8ePrbw9P9Byf7D0LBpGi6+wHa0O7pjo+PxSfGo/15ww7s/a9tF6+47vFp6fHzlw+fvjg6LZF/t30E6q0w59hDmVhfMizv0fd3MqbeFtcRVz25nP1VOdp3j36tHP4Scst1bESIHwKRlJEdFX1TRmpQ2Dwi0sAQPD87//3Z2cHxP4d/l0rlSgNbEtpGASdsyuvAA+loT9wOazCvEdTMu1wuy8O6fJ7S+zXZ6umhUnGrWUkgf4S0ce/1rarqKJvV2169D7dvffCvYrmHy32cndu/EVDXLC98Vt8kGOQ7TC7r5KvJHXmMJe2+TEiD5dWdT95eIndAPy/BawDRTBNeHV+ZuGuGrp3byLtL9Nm9g5p5t3PAqAsBBBBAAAEEEEAAAe8CPEXh3ZASEEAAAQQQQAABBBBQC5B5q42IQAABBBBAAAEEEEDAuwCZt3dDSkAAAQQQQAABBBBAQC1A5q02IgIBBBBAAAEEEEAAAe8CZN7eDSkBAQQQQAABBBBAAAG1AJm32ogIBBBAAAEEEEAAAQS8C5B5ezekBAQQQAABBBBAAAEE1AJk3mojIhBAAAEEEEAAAQQQ8C5A5u3dkBIQQAABBBBAAAEEEFALkHmrjYhAAAEEEEAAAQQQQMC7AJm3d0NKQAABBBBAAAEEEEBALUDmrTYiAgEEEEAAAQQQQAAB7wJk3t4NKQEBBBBAAAEEEEAAAbUAmbfaiAgEEEAAAQQQQAABBLwLkHl7N6QEBBBAAAEEEEAAAQTUAmTeaiMiEEAAAQQQQAABBBDwLkDm7d2QEhBAAAEEEEAAAQQQUAuQeauNiEAAAQQQQAABBBBAwLvAv/+PRVWloxjHAAAAAElFTkSuQmCC)"
      ],
      "metadata": {
        "id": "VeclGdJeGFdv"
      }
    },
    {
      "cell_type": "code",
      "source": [
        "class AttentionHead(torch.nn.Module):\n",
        "\n",
        "  def __init__(self, embedding_dim, head_dim):\n",
        "    super(AttentionHead, self).__init__()\n",
        "    self.head_dim = torch.tensor([head_dim], device=device)\n",
        "    self.WQ = nn.Linear(embedding_dim, head_dim, bias=False)\n",
        "    self.WK = nn.Linear(embedding_dim, head_dim, bias=False)\n",
        "    self.WV = nn.Linear(embedding_dim, head_dim, bias=False)\n",
        "\n",
        "  def forward(self, inputs):\n",
        "\n",
        "    keys = self.WK(inputs) # size: (batch_size, num_tokens, head_dim)\n",
        "    querys = self.WQ(inputs) # size: (batch_size, num_tokens, head_dim)\n",
        "    values = self.WV(inputs) # size: (batch_size, num_tokens, head_dim)\n",
        "\n",
        "    # aplica multiplicação matricial em batch \n",
        "    scores = torch.bmm(querys, keys.transpose(dim0=1, dim1=2)) / torch.sqrt(self.head_dim) # size: (batch_size, num_tokens, num_tokens)\n",
        "    weights = torch.nn.functional.softmax(scores, dim=-1) # size: (batch_size, num_tokens, num_tokens); transforma os scores em probas ao longo do último eixo\n",
        "    attention_scores = torch.bmm(weights, values) # size: (batch_size, num_tokens, head_dim)\n",
        "    \n",
        "    return attention_scores"
      ],
      "metadata": {
        "id": "yJF5V92lKdJ0"
      },
      "execution_count": 11,
      "outputs": []
    },
    {
      "cell_type": "code",
      "metadata": {
        "id": "hGaAjYDfWdd1"
      },
      "source": [
        "class LanguageModel(torch.nn.Module):\n",
        "\n",
        "    def __init__(self, vocab_size, context_size, embedding_dim, num_attention_heads):\n",
        "        \"\"\"\n",
        "        Implements the Self-attention, decoder-only.\"\n",
        "\n",
        "        Args:\n",
        "            vocab_size (int): Size of the input vocabulary.\n",
        "            context_size (int): Size of the sequence to consider as context for prediction.\n",
        "            embedding_dim (int): Dimension of the embedding layer for each word in the context.\n",
        "        \"\"\"\n",
        "        # Escreva seu código aqui.\n",
        "\n",
        "        super(LanguageModel, self).__init__()\n",
        "\n",
        "        self.vocab_size = vocab_size\n",
        "        self.context_size = context_size\n",
        "        self.embedding_dim = embedding_dim\n",
        "        self.num_attention_heads = num_attention_heads\n",
        "        self.head_dim = self.embedding_dim // self.num_attention_heads\n",
        "\n",
        "        self.token_embeddings = nn.Embedding(self.vocab_size, self.embedding_dim)\n",
        "        self.position_embeddings = nn.Embedding(self.context_size, self.embedding_dim)     \n",
        "        self.position_ids = torch.arange(self.context_size, dtype=torch.long, device=device).unsqueeze(0)\n",
        "\n",
        "        self.attentions_heads = nn.ModuleList([AttentionHead(self.embedding_dim, self.head_dim) for _ in range(self.num_attention_heads)])\n",
        "        self.WO = nn.Linear(self.embedding_dim, self.embedding_dim)\n",
        "\n",
        "        self.layer_norm_1 = nn.LayerNorm(self.embedding_dim)\n",
        "\n",
        "        feed_forward_input_dim = self.context_size*self.embedding_dim\n",
        "\n",
        "        self.feed_forward = nn.Sequential(\n",
        "            torch.nn.Linear(feed_forward_input_dim, feed_forward_input_dim//2),\n",
        "            torch.nn.ReLU(),\n",
        "            torch.nn.Linear(feed_forward_input_dim//2, self.vocab_size)\n",
        "        )\n",
        "\n",
        "    def forward(self, inputs):\n",
        "        \"\"\"\n",
        "        Args:\n",
        "            inputs is a LongTensor of shape (batch_size, context_size)\n",
        "            \n",
        "        Returns:\n",
        "            logits of shape (batch_size, vocab_size)\n",
        "        \"\"\"\n",
        "        # Escreva seu código aqui.\n",
        "        seq_length = inputs.size(1)\n",
        "        token_embeddings = self.token_embeddings(inputs) \n",
        "        position_embeddings = self.position_embeddings(self.position_ids)\n",
        "        input_embeddings = position_embeddings + token_embeddings\n",
        "        # No caso em que o numero de cabecas seja multiplo de embedding_dim\n",
        "        concat_heads = torch.cat([h(input_embeddings) for h in self.attentions_heads], dim=-1) # size: (batch_size, num_tokens, embedding_dim) \n",
        "        out = self.layer_norm_1(self.WO(concat_heads) + input_embeddings)\n",
        "        return self.feed_forward(out.flatten(start_dim=1))\n"
      ],
      "execution_count": 12,
      "outputs": []
    },
    {
      "cell_type": "markdown",
      "source": [
        "## Teste o modelo com um exemplo"
      ],
      "metadata": {
        "id": "Rm6_PTH2i98e"
      }
    },
    {
      "cell_type": "code",
      "metadata": {
        "id": "RwnxfZlrZoT_",
        "colab": {
          "base_uri": "https://localhost:8080/"
        },
        "outputId": "c1e142ee-b351-4a6f-80c6-f3ad6d3cfb39"
      },
      "source": [
        "model = LanguageModel(\n",
        "    vocab_size=tokenizer.vocab_size,\n",
        "    context_size=context_size,\n",
        "    embedding_dim=256,\n",
        "    num_attention_heads=16 # precisa ser multiplo do embedding_dim\n",
        ").to(device)\n",
        "\n",
        "sample_train, _ = next(iter(DataLoader(training_dataset, batch_size=4)))\n",
        "sample_train_gpu = sample_train.to(device)\n",
        "test = model(sample_train_gpu); test.shape"
      ],
      "execution_count": 15,
      "outputs": [
        {
          "output_type": "execute_result",
          "data": {
            "text/plain": [
              "torch.Size([4, 29794])"
            ]
          },
          "metadata": {},
          "execution_count": 15
        }
      ]
    },
    {
      "cell_type": "code",
      "metadata": {
        "id": "I3Vh6B-VkA01",
        "colab": {
          "base_uri": "https://localhost:8080/"
        },
        "outputId": "7cee7448-7d3f-4e02-9e30-dad846196df5"
      },
      "source": [
        "num_params = sum(p.numel() for p in model.parameters() if p.requires_grad)\n",
        "print(f'Number of model parameters: {num_params}')"
      ],
      "execution_count": 16,
      "outputs": [
        {
          "output_type": "stream",
          "name": "stdout",
          "text": [
            "Number of model parameters: 44900322\n"
          ]
        }
      ]
    },
    {
      "cell_type": "markdown",
      "source": [
        "## Assert da Perplexidade\n"
      ],
      "metadata": {
        "id": "8nhbUVsYnVAp"
      }
    },
    {
      "cell_type": "code",
      "source": [
        "random.seed(123)\n",
        "np.random.seed(123)\n",
        "torch.manual_seed(123)\n",
        "\n",
        "\n",
        "def perplexity(logits, target):\n",
        "    \"\"\"\n",
        "    Computes the perplexity.\n",
        "\n",
        "    Args:\n",
        "        logits: a FloatTensor of shape (batch_size, vocab_size)\n",
        "        target: a LongTensor of shape (batch_size,)\n",
        "\n",
        "    Returns:\n",
        "        A float corresponding to the perplexity\n",
        "    \"\"\"\n",
        "    loss = nn.functional.cross_entropy(logits, target, reduction='mean')\n",
        "    return torch.exp(loss)\n",
        "\n",
        "\n",
        "n_examples = 1000\n",
        "\n",
        "sample_train, target_token_ids = next(iter(DataLoader(training_dataset, batch_size=n_examples)))\n",
        "sample_train_gpu = sample_train.to(device)\n",
        "target_token_ids = target_token_ids.to(device)\n",
        "logits = model(sample_train_gpu)\n",
        "\n",
        "my_perplexity = perplexity(logits=logits, target=target_token_ids)\n",
        "\n",
        "print(f'my perplexity:              {int(my_perplexity)}')\n",
        "print(f'correct initial perplexity: {tokenizer.vocab_size}')\n",
        "\n",
        "assert math.isclose(my_perplexity, tokenizer.vocab_size, abs_tol=7000)\n",
        "print('Passou o no assert da perplexidade')"
      ],
      "metadata": {
        "id": "gbMP8VAUncfX",
        "colab": {
          "base_uri": "https://localhost:8080/"
        },
        "outputId": "29f99af5-3f39-44d6-efa4-2258c88969fb"
      },
      "execution_count": 17,
      "outputs": [
        {
          "output_type": "stream",
          "name": "stdout",
          "text": [
            "my perplexity:              30684\n",
            "correct initial perplexity: 29794\n",
            "Passou o no assert da perplexidade\n"
          ]
        }
      ]
    },
    {
      "cell_type": "markdown",
      "source": [
        "## Laço de Treinamento e Validação"
      ],
      "metadata": {
        "id": "KiJtrsqPnE_l"
      }
    },
    {
      "cell_type": "code",
      "metadata": {
        "id": "zIMSaY-UUGUE",
        "colab": {
          "base_uri": "https://localhost:8080/",
          "height": 1000
        },
        "outputId": "db857d16-eba3-4d9d-ce37-657c54fcacd9"
      },
      "source": [
        "max_examples = 200_000_000\n",
        "eval_every_steps = 10000\n",
        "lr = 4e-4\n",
        "\n",
        "\n",
        "model = LanguageModel(\n",
        "    vocab_size=tokenizer.vocab_size,\n",
        "    context_size=context_size,\n",
        "    embedding_dim=256,\n",
        "    num_attention_heads=32 # precisa ser multiplo do embedding_dim\n",
        ").to(device)\n",
        "\n",
        "train_loader = DataLoader(training_dataset, batch_size=256, shuffle=True, drop_last=True)\n",
        "validation_loader = DataLoader(valid_dataset, batch_size=256)\n",
        "\n",
        "optimizer = torch.optim.Adam(model.parameters(), lr=lr)\n",
        "\n",
        "\n",
        "def train_step(input, target):\n",
        "    model.train()\n",
        "    model.zero_grad()\n",
        "\n",
        "    logits = model(input.to(device))\n",
        "    loss = nn.functional.cross_entropy(logits, target.to(device))\n",
        "    loss.backward()\n",
        "    optimizer.step()\n",
        "\n",
        "    return loss.item()\n",
        "\n",
        "\n",
        "def validation_step(input, target):\n",
        "    model.eval()\n",
        "    logits = model(input)\n",
        "    loss = nn.functional.cross_entropy(logits, target)\n",
        "    return loss.item()\n",
        "\n",
        "\n",
        "train_losses = []\n",
        "n_examples = 0\n",
        "step = 0\n",
        "while n_examples < max_examples:\n",
        "    for input, target in train_loader:\n",
        "        loss = train_step(input.to(device), target.to(device)) \n",
        "        train_losses.append(loss)\n",
        "        \n",
        "        if step % eval_every_steps == 0:\n",
        "            train_ppl = np.exp(np.average(train_losses))\n",
        "\n",
        "            with torch.no_grad():\n",
        "                valid_ppl = np.exp(np.average([\n",
        "                    validation_step(input.to(device), target.to(device))\n",
        "                    for input, target in validation_loader]))\n",
        "\n",
        "            print(f'{step} steps; {n_examples} examples so far; train ppl: {train_ppl:.2f}, valid ppl: {valid_ppl:.2f}')\n",
        "            train_losses = []\n",
        "\n",
        "        n_examples += len(input)  # Increment of batch size\n",
        "        step += 1\n",
        "        if n_examples >= max_examples:\n",
        "            break"
      ],
      "execution_count": 20,
      "outputs": [
        {
          "output_type": "stream",
          "name": "stdout",
          "text": [
            "0 steps; 0 examples so far; train ppl: 31712.82, valid ppl: 24002.56\n",
            "10000 steps; 2560000 examples so far; train ppl: 732.25, valid ppl: 497.35\n",
            "20000 steps; 5120000 examples so far; train ppl: 431.46, valid ppl: 387.94\n",
            "30000 steps; 7680000 examples so far; train ppl: 361.00, valid ppl: 339.04\n",
            "40000 steps; 10240000 examples so far; train ppl: 323.41, valid ppl: 311.62\n",
            "50000 steps; 12800000 examples so far; train ppl: 297.52, valid ppl: 287.04\n",
            "60000 steps; 15360000 examples so far; train ppl: 277.08, valid ppl: 269.85\n",
            "70000 steps; 17920000 examples so far; train ppl: 261.45, valid ppl: 254.89\n",
            "80000 steps; 20480000 examples so far; train ppl: 247.92, valid ppl: 243.02\n",
            "90000 steps; 23040000 examples so far; train ppl: 238.64, valid ppl: 233.70\n",
            "100000 steps; 25600000 examples so far; train ppl: 229.43, valid ppl: 225.67\n",
            "110000 steps; 28160000 examples so far; train ppl: 218.98, valid ppl: 217.27\n",
            "120000 steps; 30720000 examples so far; train ppl: 204.52, valid ppl: 214.02\n",
            "130000 steps; 33280000 examples so far; train ppl: 201.86, valid ppl: 208.05\n",
            "140000 steps; 35840000 examples so far; train ppl: 198.99, valid ppl: 204.59\n",
            "150000 steps; 38400000 examples so far; train ppl: 195.27, valid ppl: 199.40\n",
            "160000 steps; 40960000 examples so far; train ppl: 192.58, valid ppl: 195.50\n",
            "170000 steps; 43520000 examples so far; train ppl: 189.33, valid ppl: 192.74\n",
            "180000 steps; 46080000 examples so far; train ppl: 187.49, valid ppl: 190.07\n",
            "190000 steps; 48640000 examples so far; train ppl: 184.81, valid ppl: 189.03\n",
            "200000 steps; 51200000 examples so far; train ppl: 182.79, valid ppl: 186.02\n",
            "210000 steps; 53760000 examples so far; train ppl: 180.22, valid ppl: 181.66\n",
            "220000 steps; 56320000 examples so far; train ppl: 173.81, valid ppl: 179.65\n",
            "230000 steps; 58880000 examples so far; train ppl: 166.96, valid ppl: 177.90\n",
            "240000 steps; 61440000 examples so far; train ppl: 166.50, valid ppl: 176.53\n",
            "250000 steps; 64000000 examples so far; train ppl: 166.06, valid ppl: 176.12\n",
            "260000 steps; 66560000 examples so far; train ppl: 165.07, valid ppl: 174.41\n",
            "270000 steps; 69120000 examples so far; train ppl: 164.26, valid ppl: 171.96\n",
            "280000 steps; 71680000 examples so far; train ppl: 163.88, valid ppl: 170.86\n",
            "290000 steps; 74240000 examples so far; train ppl: 163.54, valid ppl: 168.93\n",
            "300000 steps; 76800000 examples so far; train ppl: 162.73, valid ppl: 167.98\n",
            "310000 steps; 79360000 examples so far; train ppl: 161.57, valid ppl: 168.36\n",
            "320000 steps; 81920000 examples so far; train ppl: 160.92, valid ppl: 165.80\n",
            "330000 steps; 84480000 examples so far; train ppl: 155.33, valid ppl: 165.75\n",
            "340000 steps; 87040000 examples so far; train ppl: 151.92, valid ppl: 164.26\n",
            "350000 steps; 89600000 examples so far; train ppl: 151.99, valid ppl: 165.30\n",
            "360000 steps; 92160000 examples so far; train ppl: 151.59, valid ppl: 162.97\n",
            "370000 steps; 94720000 examples so far; train ppl: 151.65, valid ppl: 163.14\n",
            "380000 steps; 97280000 examples so far; train ppl: 151.46, valid ppl: 161.49\n"
          ]
        },
        {
          "output_type": "error",
          "ename": "KeyboardInterrupt",
          "evalue": "ignored",
          "traceback": [
            "\u001b[0;31m---------------------------------------------------------------------------\u001b[0m",
            "\u001b[0;31mKeyboardInterrupt\u001b[0m                         Traceback (most recent call last)",
            "\u001b[0;32m<ipython-input-20-a6a2aef9b5c1>\u001b[0m in \u001b[0;36m<module>\u001b[0;34m()\u001b[0m\n\u001b[1;32m     41\u001b[0m \u001b[0;32mwhile\u001b[0m \u001b[0mn_examples\u001b[0m \u001b[0;34m<\u001b[0m \u001b[0mmax_examples\u001b[0m\u001b[0;34m:\u001b[0m\u001b[0;34m\u001b[0m\u001b[0;34m\u001b[0m\u001b[0m\n\u001b[1;32m     42\u001b[0m     \u001b[0;32mfor\u001b[0m \u001b[0minput\u001b[0m\u001b[0;34m,\u001b[0m \u001b[0mtarget\u001b[0m \u001b[0;32min\u001b[0m \u001b[0mtrain_loader\u001b[0m\u001b[0;34m:\u001b[0m\u001b[0;34m\u001b[0m\u001b[0;34m\u001b[0m\u001b[0m\n\u001b[0;32m---> 43\u001b[0;31m         \u001b[0mloss\u001b[0m \u001b[0;34m=\u001b[0m \u001b[0mtrain_step\u001b[0m\u001b[0;34m(\u001b[0m\u001b[0minput\u001b[0m\u001b[0;34m.\u001b[0m\u001b[0mto\u001b[0m\u001b[0;34m(\u001b[0m\u001b[0mdevice\u001b[0m\u001b[0;34m)\u001b[0m\u001b[0;34m,\u001b[0m \u001b[0mtarget\u001b[0m\u001b[0;34m.\u001b[0m\u001b[0mto\u001b[0m\u001b[0;34m(\u001b[0m\u001b[0mdevice\u001b[0m\u001b[0;34m)\u001b[0m\u001b[0;34m)\u001b[0m\u001b[0;34m\u001b[0m\u001b[0;34m\u001b[0m\u001b[0m\n\u001b[0m\u001b[1;32m     44\u001b[0m         \u001b[0mtrain_losses\u001b[0m\u001b[0;34m.\u001b[0m\u001b[0mappend\u001b[0m\u001b[0;34m(\u001b[0m\u001b[0mloss\u001b[0m\u001b[0;34m)\u001b[0m\u001b[0;34m\u001b[0m\u001b[0;34m\u001b[0m\u001b[0m\n\u001b[1;32m     45\u001b[0m \u001b[0;34m\u001b[0m\u001b[0m\n",
            "\u001b[0;32m<ipython-input-20-a6a2aef9b5c1>\u001b[0m in \u001b[0;36mtrain_step\u001b[0;34m(input, target)\u001b[0m\n\u001b[1;32m     23\u001b[0m     \u001b[0mlogits\u001b[0m \u001b[0;34m=\u001b[0m \u001b[0mmodel\u001b[0m\u001b[0;34m(\u001b[0m\u001b[0minput\u001b[0m\u001b[0;34m.\u001b[0m\u001b[0mto\u001b[0m\u001b[0;34m(\u001b[0m\u001b[0mdevice\u001b[0m\u001b[0;34m)\u001b[0m\u001b[0;34m)\u001b[0m\u001b[0;34m\u001b[0m\u001b[0;34m\u001b[0m\u001b[0m\n\u001b[1;32m     24\u001b[0m     \u001b[0mloss\u001b[0m \u001b[0;34m=\u001b[0m \u001b[0mnn\u001b[0m\u001b[0;34m.\u001b[0m\u001b[0mfunctional\u001b[0m\u001b[0;34m.\u001b[0m\u001b[0mcross_entropy\u001b[0m\u001b[0;34m(\u001b[0m\u001b[0mlogits\u001b[0m\u001b[0;34m,\u001b[0m \u001b[0mtarget\u001b[0m\u001b[0;34m.\u001b[0m\u001b[0mto\u001b[0m\u001b[0;34m(\u001b[0m\u001b[0mdevice\u001b[0m\u001b[0;34m)\u001b[0m\u001b[0;34m)\u001b[0m\u001b[0;34m\u001b[0m\u001b[0;34m\u001b[0m\u001b[0m\n\u001b[0;32m---> 25\u001b[0;31m     \u001b[0mloss\u001b[0m\u001b[0;34m.\u001b[0m\u001b[0mbackward\u001b[0m\u001b[0;34m(\u001b[0m\u001b[0;34m)\u001b[0m\u001b[0;34m\u001b[0m\u001b[0;34m\u001b[0m\u001b[0m\n\u001b[0m\u001b[1;32m     26\u001b[0m     \u001b[0moptimizer\u001b[0m\u001b[0;34m.\u001b[0m\u001b[0mstep\u001b[0m\u001b[0;34m(\u001b[0m\u001b[0;34m)\u001b[0m\u001b[0;34m\u001b[0m\u001b[0;34m\u001b[0m\u001b[0m\n\u001b[1;32m     27\u001b[0m \u001b[0;34m\u001b[0m\u001b[0m\n",
            "\u001b[0;32m/usr/local/lib/python3.7/dist-packages/torch/_tensor.py\u001b[0m in \u001b[0;36mbackward\u001b[0;34m(self, gradient, retain_graph, create_graph, inputs)\u001b[0m\n\u001b[1;32m    361\u001b[0m                 \u001b[0mcreate_graph\u001b[0m\u001b[0;34m=\u001b[0m\u001b[0mcreate_graph\u001b[0m\u001b[0;34m,\u001b[0m\u001b[0;34m\u001b[0m\u001b[0;34m\u001b[0m\u001b[0m\n\u001b[1;32m    362\u001b[0m                 inputs=inputs)\n\u001b[0;32m--> 363\u001b[0;31m         \u001b[0mtorch\u001b[0m\u001b[0;34m.\u001b[0m\u001b[0mautograd\u001b[0m\u001b[0;34m.\u001b[0m\u001b[0mbackward\u001b[0m\u001b[0;34m(\u001b[0m\u001b[0mself\u001b[0m\u001b[0;34m,\u001b[0m \u001b[0mgradient\u001b[0m\u001b[0;34m,\u001b[0m \u001b[0mretain_graph\u001b[0m\u001b[0;34m,\u001b[0m \u001b[0mcreate_graph\u001b[0m\u001b[0;34m,\u001b[0m \u001b[0minputs\u001b[0m\u001b[0;34m=\u001b[0m\u001b[0minputs\u001b[0m\u001b[0;34m)\u001b[0m\u001b[0;34m\u001b[0m\u001b[0;34m\u001b[0m\u001b[0m\n\u001b[0m\u001b[1;32m    364\u001b[0m \u001b[0;34m\u001b[0m\u001b[0m\n\u001b[1;32m    365\u001b[0m     \u001b[0;32mdef\u001b[0m \u001b[0mregister_hook\u001b[0m\u001b[0;34m(\u001b[0m\u001b[0mself\u001b[0m\u001b[0;34m,\u001b[0m \u001b[0mhook\u001b[0m\u001b[0;34m)\u001b[0m\u001b[0;34m:\u001b[0m\u001b[0;34m\u001b[0m\u001b[0;34m\u001b[0m\u001b[0m\n",
            "\u001b[0;32m/usr/local/lib/python3.7/dist-packages/torch/autograd/__init__.py\u001b[0m in \u001b[0;36mbackward\u001b[0;34m(tensors, grad_tensors, retain_graph, create_graph, grad_variables, inputs)\u001b[0m\n\u001b[1;32m    173\u001b[0m     Variable._execution_engine.run_backward(  # Calls into the C++ engine to run the backward pass\n\u001b[1;32m    174\u001b[0m         \u001b[0mtensors\u001b[0m\u001b[0;34m,\u001b[0m \u001b[0mgrad_tensors_\u001b[0m\u001b[0;34m,\u001b[0m \u001b[0mretain_graph\u001b[0m\u001b[0;34m,\u001b[0m \u001b[0mcreate_graph\u001b[0m\u001b[0;34m,\u001b[0m \u001b[0minputs\u001b[0m\u001b[0;34m,\u001b[0m\u001b[0;34m\u001b[0m\u001b[0;34m\u001b[0m\u001b[0m\n\u001b[0;32m--> 175\u001b[0;31m         allow_unreachable=True, accumulate_grad=True)  # Calls into the C++ engine to run the backward pass\n\u001b[0m\u001b[1;32m    176\u001b[0m \u001b[0;34m\u001b[0m\u001b[0m\n\u001b[1;32m    177\u001b[0m def grad(\n",
            "\u001b[0;31mKeyboardInterrupt\u001b[0m: "
          ]
        }
      ]
    },
    {
      "cell_type": "markdown",
      "source": [
        "## Avaliação final no dataset de teste\n",
        "\n",
        "\n",
        "Bonus: o modelo com menor perplexidade no dataset de testes ganhará 0.5 ponto na nota final."
      ],
      "metadata": {
        "id": "VgdNymJdNPXP"
      }
    },
    {
      "cell_type": "code",
      "metadata": {
        "id": "nxN5YytzZ7Tn",
        "colab": {
          "base_uri": "https://localhost:8080/"
        },
        "outputId": "72f84bb7-13c4-41d1-9c49-8f3e0436644a"
      },
      "source": [
        "test_loader = DataLoader(test_dataset, batch_size=64)\n",
        "\n",
        "with torch.no_grad():\n",
        "    test_ppl = np.exp(np.average([\n",
        "        validation_step(input.to(device), target.to(device))\n",
        "        for input, target in test_loader\n",
        "    ]))\n",
        "\n",
        "print(f'test perplexity: {test_ppl}')"
      ],
      "execution_count": 21,
      "outputs": [
        {
          "output_type": "stream",
          "name": "stdout",
          "text": [
            "test perplexity: 147.59552491076272\n"
          ]
        }
      ]
    },
    {
      "cell_type": "markdown",
      "source": [
        "## Teste seu modelo com uma sentença\n",
        "\n",
        "Escolha uma sentença gerada pelo modelo que ache interessante."
      ],
      "metadata": {
        "id": "BHvEs8mPszy_"
      }
    },
    {
      "cell_type": "code",
      "source": [
        "prompt = 'Eu gosto de comer pizza pois me faz'\n",
        "max_output_tokens = 20\n",
        "model.eval()\n",
        "\n",
        "for _ in range(max_output_tokens):\n",
        "    input_ids = tokenize(text=prompt, tokenizer=tokenizer)\n",
        "    input_ids_truncated = input_ids[-context_size:]  # Usamos apenas os últimos <context_size> tokens como entrada para o modelo.\n",
        "    logits = model(torch.LongTensor([input_ids_truncated]).to(device))\n",
        "    # Ao usarmos o argmax, a saída do modelo em cada passo é o token de maior probabilidade.\n",
        "    # Isso se chama decodificação gulosa (greedy decoding).\n",
        "    predicted_id = torch.argmax(logits).item()\n",
        "    input_ids += [predicted_id]  # Concatenamos a entrada com o token escolhido nesse passo.\n",
        "    prompt = tokenizer.decode(input_ids)\n",
        "    print(prompt)"
      ],
      "metadata": {
        "id": "-CFElf4tsytW",
        "colab": {
          "base_uri": "https://localhost:8080/"
        },
        "outputId": "25911ad9-0c8f-443a-c3ad-6286ba3db304"
      },
      "execution_count": 22,
      "outputs": [
        {
          "output_type": "stream",
          "name": "stdout",
          "text": [
            "Eu gosto de comer pizza pois me faz um\n",
            "Eu gosto de comer pizza pois me faz um pouco\n",
            "Eu gosto de comer pizza pois me faz um pouco mais\n",
            "Eu gosto de comer pizza pois me faz um pouco mais de\n",
            "Eu gosto de comer pizza pois me faz um pouco mais de um\n",
            "Eu gosto de comer pizza pois me faz um pouco mais de um lado\n",
            "Eu gosto de comer pizza pois me faz um pouco mais de um lado,\n",
            "Eu gosto de comer pizza pois me faz um pouco mais de um lado, mas\n",
            "Eu gosto de comer pizza pois me faz um pouco mais de um lado, mas não\n",
            "Eu gosto de comer pizza pois me faz um pouco mais de um lado, mas não é\n",
            "Eu gosto de comer pizza pois me faz um pouco mais de um lado, mas não é a\n",
            "Eu gosto de comer pizza pois me faz um pouco mais de um lado, mas não é a mesma\n",
            "Eu gosto de comer pizza pois me faz um pouco mais de um lado, mas não é a mesma coisa\n",
            "Eu gosto de comer pizza pois me faz um pouco mais de um lado, mas não é a mesma coisa.\n",
            "Eu gosto de comer pizza pois me faz um pouco mais de um lado, mas não é a mesma coisa..\n",
            "Eu gosto de comer pizza pois me faz um pouco mais de um lado, mas não é a mesma coisa...\n",
            "Eu gosto de comer pizza pois me faz um pouco mais de um lado, mas não é a mesma coisa....\n",
            "Eu gosto de comer pizza pois me faz um pouco mais de um lado, mas não é a mesma coisa.....\n",
            "Eu gosto de comer pizza pois me faz um pouco mais de um lado, mas não é a mesma coisa......\n",
            "Eu gosto de comer pizza pois me faz um pouco mais de um lado, mas não é a mesma coisa.......\n"
          ]
        }
      ]
    },
    {
      "cell_type": "code",
      "source": [
        ""
      ],
      "metadata": {
        "id": "NymJ0P1iu-X_"
      },
      "execution_count": null,
      "outputs": []
    }
  ]
}