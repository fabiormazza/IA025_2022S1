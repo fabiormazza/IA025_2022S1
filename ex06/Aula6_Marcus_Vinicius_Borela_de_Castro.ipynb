{
  "nbformat": 4,
  "nbformat_minor": 0,
  "metadata": {
    "anaconda-cloud": {},
    "kernelspec": {
      "display_name": "Python 3",
      "language": "python",
      "name": "python3"
    },
    "language_info": {
      "codemirror_mode": {
        "name": "ipython",
        "version": 3
      },
      "file_extension": ".py",
      "mimetype": "text/x-python",
      "name": "python",
      "nbconvert_exporter": "python",
      "pygments_lexer": "ipython3",
      "version": "3.6.5"
    },
    "toc": {
      "nav_menu": {
        "height": "318px",
        "width": "252px"
      },
      "number_sections": true,
      "sideBar": true,
      "skip_h1_title": false,
      "toc_cell": false,
      "toc_position": {},
      "toc_section_display": "block",
      "toc_window_display": false
    },
    "colab": {
      "name": "Aula 6 - Exercício - Marcus Vinicius Borela de Castro",
      "provenance": [],
      "collapsed_sections": [
        "iElOLxevKJJy"
      ],
      "machine_shape": "hm",
      "include_colab_link": true
    },
    "accelerator": "GPU",
    "widgets": {
      "application/vnd.jupyter.widget-state+json": {
        "86d4f13bb9a84ca5992e88fa4af26eca": {
          "model_module": "@jupyter-widgets/controls",
          "model_name": "HBoxModel",
          "model_module_version": "1.5.0",
          "state": {
            "_dom_classes": [],
            "_model_module": "@jupyter-widgets/controls",
            "_model_module_version": "1.5.0",
            "_model_name": "HBoxModel",
            "_view_count": null,
            "_view_module": "@jupyter-widgets/controls",
            "_view_module_version": "1.5.0",
            "_view_name": "HBoxView",
            "box_style": "",
            "children": [
              "IPY_MODEL_e5382b67a34d40ae943bed32938b2c48",
              "IPY_MODEL_4d92d08b51a049ca915f83720723a4d4",
              "IPY_MODEL_cef7d51996674accb02feda5d0c2f78c"
            ],
            "layout": "IPY_MODEL_1955c1a874274807b7c1bed94ec92005"
          }
        },
        "e5382b67a34d40ae943bed32938b2c48": {
          "model_module": "@jupyter-widgets/controls",
          "model_name": "HTMLModel",
          "model_module_version": "1.5.0",
          "state": {
            "_dom_classes": [],
            "_model_module": "@jupyter-widgets/controls",
            "_model_module_version": "1.5.0",
            "_model_name": "HTMLModel",
            "_view_count": null,
            "_view_module": "@jupyter-widgets/controls",
            "_view_module_version": "1.5.0",
            "_view_name": "HTMLView",
            "description": "",
            "description_tooltip": null,
            "layout": "IPY_MODEL_8f066e35c25e450f80d3d3ef39cb1dcc",
            "placeholder": "​",
            "style": "IPY_MODEL_d24361c7055b41bf9e882c1b2db5c136",
            "value": ""
          }
        },
        "4d92d08b51a049ca915f83720723a4d4": {
          "model_module": "@jupyter-widgets/controls",
          "model_name": "FloatProgressModel",
          "model_module_version": "1.5.0",
          "state": {
            "_dom_classes": [],
            "_model_module": "@jupyter-widgets/controls",
            "_model_module_version": "1.5.0",
            "_model_name": "FloatProgressModel",
            "_view_count": null,
            "_view_module": "@jupyter-widgets/controls",
            "_view_module_version": "1.5.0",
            "_view_name": "ProgressView",
            "bar_style": "success",
            "description": "",
            "description_tooltip": null,
            "layout": "IPY_MODEL_1071891b11994ce3a1beb6472788b0e1",
            "max": 170498071,
            "min": 0,
            "orientation": "horizontal",
            "style": "IPY_MODEL_b316bd3aa644487389357fc4ea0ffe6c",
            "value": 170498071
          }
        },
        "cef7d51996674accb02feda5d0c2f78c": {
          "model_module": "@jupyter-widgets/controls",
          "model_name": "HTMLModel",
          "model_module_version": "1.5.0",
          "state": {
            "_dom_classes": [],
            "_model_module": "@jupyter-widgets/controls",
            "_model_module_version": "1.5.0",
            "_model_name": "HTMLModel",
            "_view_count": null,
            "_view_module": "@jupyter-widgets/controls",
            "_view_module_version": "1.5.0",
            "_view_name": "HTMLView",
            "description": "",
            "description_tooltip": null,
            "layout": "IPY_MODEL_03daf1f9d5b443db85bd5e6ad5a7a50b",
            "placeholder": "​",
            "style": "IPY_MODEL_6fd4b0bd9296449c8072ed34f17ad98e",
            "value": " 170499072/? [00:10&lt;00:00, 17530810.12it/s]"
          }
        },
        "1955c1a874274807b7c1bed94ec92005": {
          "model_module": "@jupyter-widgets/base",
          "model_name": "LayoutModel",
          "model_module_version": "1.2.0",
          "state": {
            "_model_module": "@jupyter-widgets/base",
            "_model_module_version": "1.2.0",
            "_model_name": "LayoutModel",
            "_view_count": null,
            "_view_module": "@jupyter-widgets/base",
            "_view_module_version": "1.2.0",
            "_view_name": "LayoutView",
            "align_content": null,
            "align_items": null,
            "align_self": null,
            "border": null,
            "bottom": null,
            "display": null,
            "flex": null,
            "flex_flow": null,
            "grid_area": null,
            "grid_auto_columns": null,
            "grid_auto_flow": null,
            "grid_auto_rows": null,
            "grid_column": null,
            "grid_gap": null,
            "grid_row": null,
            "grid_template_areas": null,
            "grid_template_columns": null,
            "grid_template_rows": null,
            "height": null,
            "justify_content": null,
            "justify_items": null,
            "left": null,
            "margin": null,
            "max_height": null,
            "max_width": null,
            "min_height": null,
            "min_width": null,
            "object_fit": null,
            "object_position": null,
            "order": null,
            "overflow": null,
            "overflow_x": null,
            "overflow_y": null,
            "padding": null,
            "right": null,
            "top": null,
            "visibility": null,
            "width": null
          }
        },
        "8f066e35c25e450f80d3d3ef39cb1dcc": {
          "model_module": "@jupyter-widgets/base",
          "model_name": "LayoutModel",
          "model_module_version": "1.2.0",
          "state": {
            "_model_module": "@jupyter-widgets/base",
            "_model_module_version": "1.2.0",
            "_model_name": "LayoutModel",
            "_view_count": null,
            "_view_module": "@jupyter-widgets/base",
            "_view_module_version": "1.2.0",
            "_view_name": "LayoutView",
            "align_content": null,
            "align_items": null,
            "align_self": null,
            "border": null,
            "bottom": null,
            "display": null,
            "flex": null,
            "flex_flow": null,
            "grid_area": null,
            "grid_auto_columns": null,
            "grid_auto_flow": null,
            "grid_auto_rows": null,
            "grid_column": null,
            "grid_gap": null,
            "grid_row": null,
            "grid_template_areas": null,
            "grid_template_columns": null,
            "grid_template_rows": null,
            "height": null,
            "justify_content": null,
            "justify_items": null,
            "left": null,
            "margin": null,
            "max_height": null,
            "max_width": null,
            "min_height": null,
            "min_width": null,
            "object_fit": null,
            "object_position": null,
            "order": null,
            "overflow": null,
            "overflow_x": null,
            "overflow_y": null,
            "padding": null,
            "right": null,
            "top": null,
            "visibility": null,
            "width": null
          }
        },
        "d24361c7055b41bf9e882c1b2db5c136": {
          "model_module": "@jupyter-widgets/controls",
          "model_name": "DescriptionStyleModel",
          "model_module_version": "1.5.0",
          "state": {
            "_model_module": "@jupyter-widgets/controls",
            "_model_module_version": "1.5.0",
            "_model_name": "DescriptionStyleModel",
            "_view_count": null,
            "_view_module": "@jupyter-widgets/base",
            "_view_module_version": "1.2.0",
            "_view_name": "StyleView",
            "description_width": ""
          }
        },
        "1071891b11994ce3a1beb6472788b0e1": {
          "model_module": "@jupyter-widgets/base",
          "model_name": "LayoutModel",
          "model_module_version": "1.2.0",
          "state": {
            "_model_module": "@jupyter-widgets/base",
            "_model_module_version": "1.2.0",
            "_model_name": "LayoutModel",
            "_view_count": null,
            "_view_module": "@jupyter-widgets/base",
            "_view_module_version": "1.2.0",
            "_view_name": "LayoutView",
            "align_content": null,
            "align_items": null,
            "align_self": null,
            "border": null,
            "bottom": null,
            "display": null,
            "flex": null,
            "flex_flow": null,
            "grid_area": null,
            "grid_auto_columns": null,
            "grid_auto_flow": null,
            "grid_auto_rows": null,
            "grid_column": null,
            "grid_gap": null,
            "grid_row": null,
            "grid_template_areas": null,
            "grid_template_columns": null,
            "grid_template_rows": null,
            "height": null,
            "justify_content": null,
            "justify_items": null,
            "left": null,
            "margin": null,
            "max_height": null,
            "max_width": null,
            "min_height": null,
            "min_width": null,
            "object_fit": null,
            "object_position": null,
            "order": null,
            "overflow": null,
            "overflow_x": null,
            "overflow_y": null,
            "padding": null,
            "right": null,
            "top": null,
            "visibility": null,
            "width": null
          }
        },
        "b316bd3aa644487389357fc4ea0ffe6c": {
          "model_module": "@jupyter-widgets/controls",
          "model_name": "ProgressStyleModel",
          "model_module_version": "1.5.0",
          "state": {
            "_model_module": "@jupyter-widgets/controls",
            "_model_module_version": "1.5.0",
            "_model_name": "ProgressStyleModel",
            "_view_count": null,
            "_view_module": "@jupyter-widgets/base",
            "_view_module_version": "1.2.0",
            "_view_name": "StyleView",
            "bar_color": null,
            "description_width": ""
          }
        },
        "03daf1f9d5b443db85bd5e6ad5a7a50b": {
          "model_module": "@jupyter-widgets/base",
          "model_name": "LayoutModel",
          "model_module_version": "1.2.0",
          "state": {
            "_model_module": "@jupyter-widgets/base",
            "_model_module_version": "1.2.0",
            "_model_name": "LayoutModel",
            "_view_count": null,
            "_view_module": "@jupyter-widgets/base",
            "_view_module_version": "1.2.0",
            "_view_name": "LayoutView",
            "align_content": null,
            "align_items": null,
            "align_self": null,
            "border": null,
            "bottom": null,
            "display": null,
            "flex": null,
            "flex_flow": null,
            "grid_area": null,
            "grid_auto_columns": null,
            "grid_auto_flow": null,
            "grid_auto_rows": null,
            "grid_column": null,
            "grid_gap": null,
            "grid_row": null,
            "grid_template_areas": null,
            "grid_template_columns": null,
            "grid_template_rows": null,
            "height": null,
            "justify_content": null,
            "justify_items": null,
            "left": null,
            "margin": null,
            "max_height": null,
            "max_width": null,
            "min_height": null,
            "min_width": null,
            "object_fit": null,
            "object_position": null,
            "order": null,
            "overflow": null,
            "overflow_x": null,
            "overflow_y": null,
            "padding": null,
            "right": null,
            "top": null,
            "visibility": null,
            "width": null
          }
        },
        "6fd4b0bd9296449c8072ed34f17ad98e": {
          "model_module": "@jupyter-widgets/controls",
          "model_name": "DescriptionStyleModel",
          "model_module_version": "1.5.0",
          "state": {
            "_model_module": "@jupyter-widgets/controls",
            "_model_module_version": "1.5.0",
            "_model_name": "DescriptionStyleModel",
            "_view_count": null,
            "_view_module": "@jupyter-widgets/base",
            "_view_module_version": "1.2.0",
            "_view_name": "StyleView",
            "description_width": ""
          }
        }
      }
    }
  },
  "cells": [
    {
      "cell_type": "markdown",
      "metadata": {
        "id": "view-in-github",
        "colab_type": "text"
      },
      "source": [
        "<a href=\"https://colab.research.google.com/github/unicamp-dl/IA025_2022S1/blob/main/ex06/Aula6_Marcus_Vinicius_Borela_de_Castro.ipynb\" target=\"_parent\"><img src=\"https://colab.research.google.com/assets/colab-badge.svg\" alt=\"Open In Colab\"/></a>"
      ]
    },
    {
      "cell_type": "markdown",
      "source": [
        "# Treinamento de uma CNN no CIFAR 10"
      ],
      "metadata": {
        "id": "iElOLxevKJJy"
      }
    },
    {
      "cell_type": "code",
      "source": [
        "nome = 'Marcus Vinicius Borela de Castro'\n",
        "\n",
        "print(f'Meu nome é {nome}')"
      ],
      "metadata": {
        "id": "CdORg7oe68oq",
        "colab": {
          "base_uri": "https://localhost:8080/"
        },
        "outputId": "4ee4ddd5-2145-4907-a398-aa94b14da017"
      },
      "execution_count": 1,
      "outputs": [
        {
          "output_type": "stream",
          "name": "stdout",
          "text": [
            "Meu nome é Marcus Vinicius Borela de Castro\n"
          ]
        }
      ]
    },
    {
      "cell_type": "markdown",
      "metadata": {
        "id": "WkfGTqMVQT1u"
      },
      "source": [
        "Este exercicío consiste em implementar e treinar no CIFAR-10 vários blocos de uma Resnet seguido de uma camada linear de classificação."
      ]
    },
    {
      "cell_type": "markdown",
      "source": [
        "# Preparação Ambiente"
      ],
      "metadata": {
        "id": "wmYvZ-UmxUxE"
      }
    },
    {
      "cell_type": "markdown",
      "metadata": {
        "id": "wFNf4RPxQT1w"
      },
      "source": [
        "## Importação das bibliotecas"
      ]
    },
    {
      "cell_type": "code",
      "metadata": {
        "ExecuteTime": {
          "end_time": "2018-08-21T14:08:14.033692Z",
          "start_time": "2018-08-21T14:08:11.179981Z"
        },
        "id": "-fLUSHaCQT1x"
      },
      "source": [
        "%matplotlib inline\n",
        "import numpy as np\n",
        "import matplotlib.pyplot as plt\n",
        "import time\n",
        "import random\n",
        "import torch\n",
        "from torch import nn\n",
        "from torch import Tensor\n",
        "import torchvision\n",
        "from torch.utils.data import DataLoader\n",
        "from torchvision.datasets import MNIST\n",
        "from tqdm import tqdm"
      ],
      "execution_count": 2,
      "outputs": []
    },
    {
      "cell_type": "markdown",
      "source": [
        "## Fixando as seeds"
      ],
      "metadata": {
        "id": "achvQ78sa3p3"
      }
    },
    {
      "cell_type": "code",
      "metadata": {
        "id": "bkETIyWGkbOf"
      },
      "source": [
        "def inicializa_seed(num_semente:int=123):\n",
        "  \"\"\"\n",
        "  É recomendado reiniciar as seeds antes de inicializar o modelo, pois assim\n",
        "  garantimos que os pesos vao ser sempre os mesmos.\n",
        "  fontes de apoio: \n",
        "      http://nlp.seas.harvard.edu/2018/04/03/attention.html\n",
        "      https://github.com/CyberZHG/torch-multi-head-attention/blob/master/torch_multi_head_attention/multi_head_attention.py#L15\n",
        "  \"\"\"\n",
        "  random.seed(num_semente)\n",
        "  np.random.seed(num_semente)\n",
        "  torch.manual_seed(num_semente)\n",
        "  #torch.cuda.manual_seed(num_semente)\n",
        "  #Cuda algorithms\n",
        "  #torch.backends.cudnn.deterministic = True "
      ],
      "execution_count": 3,
      "outputs": []
    },
    {
      "cell_type": "code",
      "metadata": {
        "id": "ViMcw_kVkbOf"
      },
      "source": [
        "inicializa_seed(123)"
      ],
      "execution_count": 4,
      "outputs": []
    },
    {
      "cell_type": "markdown",
      "source": [
        "## Definindo Hiperparâmetros iniciais"
      ],
      "metadata": {
        "id": "hABkY5GRtH9H"
      }
    },
    {
      "cell_type": "code",
      "source": [
        "def inicia_hparam()->dict:\n",
        "  # Inicialização dos parâmetros\n",
        "  hparam = {}\n",
        "  hparam['max_epochs'] = 10\n",
        "  hparam[\"num_classes\"]= 2\n",
        "  hparam[\"num_workers_dataloader\"] = 2\n",
        "  hparam['batch_size']= 50\n",
        "  hparam['early_stop']= 4\n",
        "  hparam[\"learning_rate\"] = 0.001\n",
        "  hparam['criterion'] = torch.nn.CrossEntropyLoss()  \n",
        "  hparam[\"device\"] = torch.device('cuda:0' if torch.cuda.is_available() else 'cpu')\n",
        "  if torch.cuda.is_available(): print(torch. cuda. get_device_name(hparam[\"device\"]))    \n",
        "  return hparam"
      ],
      "metadata": {
        "id": "6OOO6ogjtG3Y"
      },
      "execution_count": 5,
      "outputs": []
    },
    {
      "cell_type": "code",
      "source": [
        "hparam=inicia_hparam()\n",
        "hparam['batch_size']= 50"
      ],
      "metadata": {
        "colab": {
          "base_uri": "https://localhost:8080/"
        },
        "id": "MkTH4FkstTFn",
        "outputId": "12938ac4-8160-43b0-8b2b-157607753ed3"
      },
      "execution_count": 6,
      "outputs": [
        {
          "output_type": "stream",
          "name": "stdout",
          "text": [
            "Tesla T4\n"
          ]
        }
      ]
    },
    {
      "cell_type": "code",
      "source": [
        "hparam['train_size'] = 40000\n",
        "hparam['val_size'] = 10000"
      ],
      "metadata": {
        "id": "zLz2KpBDuYU3"
      },
      "execution_count": 7,
      "outputs": []
    },
    {
      "cell_type": "code",
      "source": [
        ""
      ],
      "metadata": {
        "id": "HXciPWaX-Xe7"
      },
      "execution_count": 7,
      "outputs": []
    },
    {
      "cell_type": "markdown",
      "source": [
        "## Preparando para debug"
      ],
      "metadata": {
        "id": "8v2gtkEPhA0t"
      }
    },
    {
      "cell_type": "markdown",
      "source": [
        "https://zohaib.me/debugging-in-google-collab-notebook/"
      ],
      "metadata": {
        "id": "4ZEqQ7mKg5fs"
      }
    },
    {
      "cell_type": "code",
      "source": [
        "!pip install -Uqq ipdb\n",
        "import ipdb\n",
        "# %pdb off # desativa debug em exceção\n",
        "# %pdb on  # ativa debug em exceção"
      ],
      "metadata": {
        "id": "LjrlXHq1hC8n"
      },
      "execution_count": 8,
      "outputs": []
    },
    {
      "cell_type": "code",
      "source": [
        "# %xmode Verbose \n",
        "# %xmode Plain"
      ],
      "metadata": {
        "id": "qQkwh-z_D3V5"
      },
      "execution_count": 9,
      "outputs": []
    },
    {
      "cell_type": "markdown",
      "metadata": {
        "id": "7wEkY_g7kgp-"
      },
      "source": [
        "## Rastro (neptune.ai)\n",
        "\n",
        "Gerado rastro da execução no Neptune (detalhes no artigo [Rastro-DM: Mineração de Dados com Rastro](https://revista.tcu.gov.br/ojs/index.php/RTCU/article/view/1664))\n"
      ]
    },
    {
      "cell_type": "markdown",
      "metadata": {
        "id": "anygzoSagczS"
      },
      "source": [
        "### Importação de libraries para Rastro"
      ]
    },
    {
      "cell_type": "code",
      "metadata": {
        "id": "Gt72QMXJdmsZ"
      },
      "source": [
        "try:\n",
        "  import neptune.new as neptune  \n",
        "except ImportError:\n",
        "  !pip install neptune-client\n",
        "  raise Exception('Stopping RUNTIME! Please run again.')\n",
        "\n"
      ],
      "execution_count": 10,
      "outputs": []
    },
    {
      "cell_type": "code",
      "metadata": {
        "colab": {
          "base_uri": "https://localhost:8080/"
        },
        "id": "TsylYpdWdmsZ",
        "outputId": "d3fa356b-2b26-4483-907a-05ff98a7da57"
      },
      "source": [
        "try:\n",
        "  from torchviz import make_dot \n",
        "except ImportError:\n",
        "  !pip install torchviz\n",
        "  from torchviz import make_dot \n"
      ],
      "execution_count": 11,
      "outputs": [
        {
          "output_type": "stream",
          "name": "stdout",
          "text": [
            "Collecting torchviz\n",
            "  Downloading torchviz-0.0.2.tar.gz (4.9 kB)\n",
            "Requirement already satisfied: torch in /usr/local/lib/python3.7/dist-packages (from torchviz) (1.11.0+cu113)\n",
            "Requirement already satisfied: graphviz in /usr/local/lib/python3.7/dist-packages (from torchviz) (0.10.1)\n",
            "Requirement already satisfied: typing-extensions in /usr/local/lib/python3.7/dist-packages (from torch->torchviz) (4.2.0)\n",
            "Building wheels for collected packages: torchviz\n",
            "  Building wheel for torchviz (setup.py) ... \u001b[?25l\u001b[?25hdone\n",
            "  Created wheel for torchviz: filename=torchviz-0.0.2-py3-none-any.whl size=4150 sha256=5e9e68bbca67c4f654633bf28cf6dd1ffdf9bac6aa6061b86bef54d4cd61f9c9\n",
            "  Stored in directory: /root/.cache/pip/wheels/04/38/f5/dc4f85c3909051823df49901e72015d2d750bd26b086480ec2\n",
            "Successfully built torchviz\n",
            "Installing collected packages: torchviz\n",
            "Successfully installed torchviz-0.0.2\n"
          ]
        }
      ]
    },
    {
      "cell_type": "code",
      "metadata": {
        "id": "DotwpZ4JdmsZ"
      },
      "source": [
        "import getpass\n",
        "import copy\n",
        "import time\n",
        "import re\n",
        "import tempfile\n",
        "import os\n"
      ],
      "execution_count": 12,
      "outputs": []
    },
    {
      "cell_type": "markdown",
      "metadata": {
        "id": "V2glxk01UfDk"
      },
      "source": [
        "### Código Rastro\n",
        "\n",
        "Busca implementar o rastro proposto em [Rastro-DM: Mineração de Dados com Rastro](https://revista.tcu.gov.br/ojs/index.php/RTCU/article/view/1664), autores Marcus Vinícius Borela de Castro e Remis Balaniuk, com o apoio da [solução Neptune](https://app.neptune.ai/)\n",
        "\n"
      ]
    },
    {
      "cell_type": "code",
      "metadata": {
        "id": "Q-iQwMPiLXO3"
      },
      "source": [
        "def converte_optimizer_state_dict(parm_optimizer)-> dict:\n",
        "  # return str(hparam['optimizer'])\n",
        "  return parm_optimizer.state_dict()['param_groups'][0]"
      ],
      "execution_count": 13,
      "outputs": []
    },
    {
      "cell_type": "code",
      "metadata": {
        "id": "GwnX3SrGfq4Z"
      },
      "source": [
        "class NeptuneRastroRun():\n",
        "    se_geracao_rastro = True \n",
        "    neptune_project = \"\"\n",
        "    tag_contexto_rastro = \"\"\n",
        "    neptune_api_token = \"\"\n",
        "\n",
        "    def __init__(self, parm_params:dict,  parm_lista_tag:list = None):\n",
        "      # print(f\"NeptuneRastroRun.init: se_geracao_rastro {self.__class__.se_geracao_rastro} parm_params `{parm_params} \")\n",
        "      if self.__class__.se_geracao_rastro:      \n",
        "        self.run_neptune = neptune.init(project=self.__class__.neptune_project, api_token=self.__class__.neptune_api_token, capture_hardware_metrics=True)\n",
        "        self.run_neptune['sys/name'] = self.__class__.tag_contexto_rastro\n",
        "        vparams = copy.deepcopy(parm_params)\n",
        "        if \"optimizer\" in vparams:\n",
        "          vparams[\"optimizer\"] = converte_optimizer_state_dict(vparams[\"optimizer\"])\n",
        "        if 'criterion'  in vparams:\n",
        "          vparams[\"criterion\"] = str(vparams[\"criterion\"])\n",
        "        if 'device' in vparams:\n",
        "          vparams['device'] = str(vparams[\"device\"])\n",
        "        self.device = vparams[\"device\"]\n",
        "        for tag in parm_lista_tag:\n",
        "          self.run_neptune['sys/tags'].add(tag)\n",
        "        self.run_neptune['parameters'] = vparams\n",
        "        self.tmpDir = tempfile.mkdtemp()\n",
        "\n",
        "    @property\n",
        "    def run():\n",
        "      return self.run_neptune\n",
        "\n",
        "    @classmethod\n",
        "    def ativa_geracao_rastro(cls):\n",
        "     cls.se_geracao_rastro = True      \n",
        "\n",
        "    @classmethod\n",
        "    def def_contexto(cls):\n",
        "     cls.se_geracao_rastro = True      \n",
        "\n",
        "    @classmethod\n",
        "    def desativa_geracao_rastro(cls):\n",
        "     cls.se_geracao_rastro = False      \n",
        "\n",
        "    @classmethod\n",
        "    def retorna_status_geracao_rastro(cls):\n",
        "     return cls.se_geracao_rastro      \n",
        "\n",
        "    @classmethod\n",
        "    def retorna_tag_contexto_rastro(cls):\n",
        "     return cls.tag_contexto_rastro \n",
        "\n",
        "    @classmethod\n",
        "    def inicia_contexto(cls, neptune_project, tag_contexto_rastro, neptune_api_token):\n",
        "      assert '.' not in tag_contexto_rastro, \"NeptuneRastroRun.init(): tag_contexto_rastro não pode possuir ponto, pois será usado para gravar nome de arquivo\"      \n",
        "      cls.neptune_api_token = neptune_api_token\n",
        "      cls.tag_contexto_rastro = tag_contexto_rastro\n",
        "      cls.neptune_project = neptune_project\n",
        "\n",
        "    def salva_metrica(self, parm_metricas={}):\n",
        "      #print(f\"NeptuneRastroRun.salva_metrica: se_geracao_rastro {self.__class__.se_geracao_rastro} parm_metricas:{parm_metricas} \")\n",
        "      if self.__class__.se_geracao_rastro:\n",
        "        for metrica, valor in parm_metricas.items(): \n",
        "          self.run_neptune[metrica].log(valor)\n",
        " \n",
        "    def gera_grafico_modelo(self, loader_train, model):\n",
        "      if self.__class__.se_geracao_rastro: \n",
        "        # efetuar um forward \n",
        "        \"\"\"\n",
        "        se dataloader devolver x e y:\n",
        "        \"\"\"\n",
        "        x_, y_ = next(iter(loader_train))\n",
        "        x_ = x_.to(self.device)\n",
        "        outputs = model(x_)\n",
        "        \"\"\"\n",
        "        # se dataloader devolver dict:\n",
        "        dados_ = next(iter(loader_train))\n",
        "        outputs = model(dados_['x'].to(self.device))\n",
        "        #outputs = model(x_['input_ids'].to(self.device), x_['attention_mask'].to(self.device))\n",
        "        \"\"\"\n",
        "        nome_arquivo = os.path.join(self.tmpDir, \"modelo \"+ self.__class__.tag_contexto_rastro + time.strftime(\"%Y-%b-%d %H:%M:%S\"))\n",
        "        make_dot(outputs, params=dict(model.named_parameters()), show_attrs=True, show_saved=True).render(nome_arquivo, format=\"png\")\n",
        "        self.run_neptune[\"parameters/model_graph\"].upload(nome_arquivo+'.png')\n",
        "        self.run_neptune['parameters/model'] = re.sub('<bound method Module.state_dict of ', '',str(model.state_dict))      \n",
        "\n",
        "\n",
        "\n",
        "    def stop(self):\n",
        "      if self.__class__.se_geracao_rastro:         \n",
        "        self.run_neptune.stop()\n"
      ],
      "execution_count": 14,
      "outputs": []
    },
    {
      "cell_type": "markdown",
      "metadata": {
        "id": "O488oyu5l8kC"
      },
      "source": [
        "### Definindo parâmetros para o rastro\n",
        "\n"
      ]
    },
    {
      "cell_type": "code",
      "metadata": {
        "id": "zY4Hjvp1wR9k",
        "colab": {
          "base_uri": "https://localhost:8080/"
        },
        "outputId": "58d0dd72-b241-41c4-9db0-f7c0db9fd7d3"
      },
      "source": [
        "NeptuneRastroRun.inicia_contexto('marcusborela/IA025', 'Aula 6 - Resnet',   getpass.getpass('Informe NEPTUNE_API_TOKEN'))\n",
        "#NeptuneRastroRun.desativa_geracao_rastro()"
      ],
      "execution_count": 15,
      "outputs": [
        {
          "name": "stdout",
          "output_type": "stream",
          "text": [
            "Informe NEPTUNE_API_TOKEN··········\n"
          ]
        }
      ]
    },
    {
      "cell_type": "markdown",
      "source": [
        "# Preparação dos dados"
      ],
      "metadata": {
        "id": "j1xIsMACyJNk"
      }
    },
    {
      "cell_type": "markdown",
      "metadata": {
        "id": "jEMUsfJpQT11"
      },
      "source": [
        "## Dataset e dataloader"
      ]
    },
    {
      "cell_type": "markdown",
      "metadata": {
        "id": "dc7Rv_2BQT16"
      },
      "source": [
        "## Download do CIFAR-10"
      ]
    },
    {
      "cell_type": "code",
      "metadata": {
        "id": "TRgD9zSDMBc4",
        "colab": {
          "base_uri": "https://localhost:8080/",
          "height": 104,
          "referenced_widgets": [
            "86d4f13bb9a84ca5992e88fa4af26eca",
            "e5382b67a34d40ae943bed32938b2c48",
            "4d92d08b51a049ca915f83720723a4d4",
            "cef7d51996674accb02feda5d0c2f78c",
            "1955c1a874274807b7c1bed94ec92005",
            "8f066e35c25e450f80d3d3ef39cb1dcc",
            "d24361c7055b41bf9e882c1b2db5c136",
            "1071891b11994ce3a1beb6472788b0e1",
            "b316bd3aa644487389357fc4ea0ffe6c",
            "03daf1f9d5b443db85bd5e6ad5a7a50b",
            "6fd4b0bd9296449c8072ed34f17ad98e"
          ]
        },
        "outputId": "264d96a7-6f39-4fcb-ad06-c74177b51be7"
      },
      "source": [
        "!mkdir ./data\n",
        "\n",
        "transform = torchvision.transforms.Compose(\n",
        "    [torchvision.transforms.ToTensor(),\n",
        "     torchvision.transforms.Normalize((0.5, 0.5, 0.5), (0.5, 0.5, 0.5))])\n",
        "\n",
        "train_dataset = torchvision.datasets.CIFAR10(root='./data', train=True,\n",
        "                                             download=True, transform=transform)\n",
        "\n",
        "test_dataset = torchvision.datasets.CIFAR10(root='./data', train=False,\n",
        "                                            download=True, transform=transform)\n"
      ],
      "execution_count": 16,
      "outputs": [
        {
          "output_type": "stream",
          "name": "stdout",
          "text": [
            "Downloading https://www.cs.toronto.edu/~kriz/cifar-10-python.tar.gz to ./data/cifar-10-python.tar.gz\n"
          ]
        },
        {
          "output_type": "display_data",
          "data": {
            "text/plain": [
              "  0%|          | 0/170498071 [00:00<?, ?it/s]"
            ],
            "application/vnd.jupyter.widget-view+json": {
              "version_major": 2,
              "version_minor": 0,
              "model_id": "86d4f13bb9a84ca5992e88fa4af26eca"
            }
          },
          "metadata": {}
        },
        {
          "output_type": "stream",
          "name": "stdout",
          "text": [
            "Extracting ./data/cifar-10-python.tar.gz to ./data\n",
            "Files already downloaded and verified\n"
          ]
        }
      ]
    },
    {
      "cell_type": "markdown",
      "metadata": {
        "id": "CKjEufC1MdvP"
      },
      "source": [
        "## Criação do dataloader"
      ]
    },
    {
      "cell_type": "code",
      "metadata": {
        "id": "K9sXttHBTzCM"
      },
      "source": [
        "train_dataset, val_dataset = torch.utils.data.random_split(train_dataset, [hparam['train_size'], hparam['val_size']])"
      ],
      "execution_count": 17,
      "outputs": []
    },
    {
      "cell_type": "code",
      "metadata": {
        "id": "80JCOzh7MdvQ",
        "colab": {
          "base_uri": "https://localhost:8080/"
        },
        "outputId": "690d22f5-5995-4807-e15f-bd02b4adb81a"
      },
      "source": [
        "train_dataloader = DataLoader(train_dataset, batch_size=hparam['batch_size'], shuffle=True, num_workers=hparam[\"num_workers_dataloader\"])\n",
        "val_dataloader = DataLoader(val_dataset, batch_size=hparam['batch_size'], shuffle=False, num_workers=hparam[\"num_workers_dataloader\"])\n",
        "test_dataloader = DataLoader(test_dataset, batch_size=hparam['batch_size'], shuffle=False, num_workers=hparam[\"num_workers_dataloader\"])\n",
        "\n",
        "print('Número de minibatches de trenamento:', len(train_dataloader))\n",
        "print('Número de minibatches de validação:', len(val_dataloader))\n",
        "print('Número de minibatches de teste:', len(test_dataloader))\n",
        "\n",
        "x_train, y_train = next(iter(train_dataloader))\n",
        "print(\"\\nDimensões dos dados de um minibatch:\", x_train.size())\n",
        "print(\"Valores mínimo e máximo dos pixels: \", torch.min(x_train), torch.max(x_train))\n",
        "print(\"Tipo dos dados das imagens:         \", type(x_train))\n",
        "print(\"Tipo das classes das imagens:       \", type(y_train))"
      ],
      "execution_count": 18,
      "outputs": [
        {
          "output_type": "stream",
          "name": "stdout",
          "text": [
            "Número de minibatches de trenamento: 800\n",
            "Número de minibatches de validação: 200\n",
            "Número de minibatches de teste: 200\n",
            "\n",
            "Dimensões dos dados de um minibatch: torch.Size([50, 3, 32, 32])\n",
            "Valores mínimo e máximo dos pixels:  tensor(-1.) tensor(1.)\n",
            "Tipo dos dados das imagens:          <class 'torch.Tensor'>\n",
            "Tipo das classes das imagens:        <class 'torch.Tensor'>\n"
          ]
        }
      ]
    },
    {
      "cell_type": "markdown",
      "source": [
        "## Investigando o dataset"
      ],
      "metadata": {
        "id": "NIji4DIs-gRG"
      }
    },
    {
      "cell_type": "code",
      "source": [
        "#fonte: https://www.codetd.com/pt/article/10351232\n",
        "label_dict_cifar10={0:'airplane',1:'automobile',2:'bird',3:'cat',4:'deer',5:'dog',6:'frog',\n",
        "\t\t\t\t\t\t\t\t\t\t\t\t\t7:'horse',8:'ship',9:'truck'}"
      ],
      "metadata": {
        "id": "g4eYZhfxchDB"
      },
      "execution_count": 19,
      "outputs": []
    },
    {
      "cell_type": "code",
      "source": [
        "x_train.shape, y_train.shape"
      ],
      "metadata": {
        "colab": {
          "base_uri": "https://localhost:8080/"
        },
        "id": "wejNvQ9Y_1Cv",
        "outputId": "f67a0272-22f1-4a29-f522-a424935a7480"
      },
      "execution_count": 20,
      "outputs": [
        {
          "output_type": "execute_result",
          "data": {
            "text/plain": [
              "(torch.Size([50, 3, 32, 32]), torch.Size([50]))"
            ]
          },
          "metadata": {},
          "execution_count": 20
        }
      ]
    },
    {
      "cell_type": "code",
      "source": [
        "y_train[0],label_dict_cifar10[y_train[0].item()], x_train[0]"
      ],
      "metadata": {
        "colab": {
          "base_uri": "https://localhost:8080/"
        },
        "id": "pUOXGkde_29c",
        "outputId": "02195309-8d19-40d4-9f02-03c8593dd49b"
      },
      "execution_count": 21,
      "outputs": [
        {
          "output_type": "execute_result",
          "data": {
            "text/plain": [
              "(tensor(5),\n",
              " 'dog',\n",
              " tensor([[[-0.1922, -0.2235, -0.2157,  ..., -0.1608, -0.1529, -0.2078],\n",
              "          [-0.2392, -0.1529, -0.1451,  ..., -0.2314, -0.2235, -0.1686],\n",
              "          [-0.1765, -0.2078, -0.1529,  ..., -0.2235, -0.2157, -0.1608],\n",
              "          ...,\n",
              "          [-0.2078, -0.1451, -0.0902,  ..., -0.2392, -0.2157, -0.2706],\n",
              "          [-0.0196, -0.1608, -0.2471,  ..., -0.2000, -0.2549, -0.3255],\n",
              "          [-0.0118, -0.0510, -0.0275,  ..., -0.2863, -0.2314, -0.2941]],\n",
              " \n",
              "         [[-0.0902, -0.1216, -0.1137,  ..., -0.0431, -0.0431, -0.0980],\n",
              "          [-0.1294, -0.0510, -0.0431,  ..., -0.1294, -0.1137, -0.0588],\n",
              "          [-0.0824, -0.1137, -0.0510,  ..., -0.1294, -0.1137, -0.0588],\n",
              "          ...,\n",
              "          [-0.2000, -0.1294, -0.0824,  ..., -0.2078, -0.1843, -0.2392],\n",
              "          [-0.0118, -0.1529, -0.2314,  ..., -0.1686, -0.2235, -0.2863],\n",
              "          [ 0.0118, -0.0353, -0.0039,  ..., -0.2392, -0.1922, -0.2549]],\n",
              " \n",
              "         [[-0.2471, -0.2627, -0.2314,  ..., -0.2157, -0.1843, -0.2157],\n",
              "          [-0.2784, -0.2000, -0.1843,  ..., -0.2235, -0.2078, -0.1529],\n",
              "          [-0.1608, -0.2078, -0.1686,  ..., -0.1451, -0.1608, -0.1216],\n",
              "          ...,\n",
              "          [-0.1686, -0.1216, -0.0980,  ..., -0.2157, -0.1922, -0.2471],\n",
              "          [ 0.0431, -0.1137, -0.2157,  ..., -0.1765, -0.2314, -0.2941],\n",
              "          [ 0.0588,  0.0353,  0.0275,  ..., -0.2471, -0.1843, -0.2471]]]))"
            ]
          },
          "metadata": {},
          "execution_count": 21
        }
      ]
    },
    {
      "cell_type": "code",
      "source": [
        "def plot_images_labels_prediction(images,labels,prediction,idx,num=10):\n",
        "  \"\"\"\n",
        "  fonte: https://www.codetd.com/pt/article/10351232\n",
        "  \"\"\"\n",
        "  fig=plt.gcf()\n",
        "  fig.set_size_inches(12,14)\n",
        "  if num>25: num=25\n",
        "  for i in range(0,num):\n",
        "      ax=plt.subplot(5,5,1+i)\n",
        "\n",
        "      # Matplotlib exige canais na última dimensão. Então é necessário copiar e inveter\n",
        "      image_print = images[idx].T\n",
        "      # Canais estavam entre -1 e 1. Matplotlib exige \n",
        "      #  valid range for imshow with RGB data ([0..1] for floats or [0..255] for integers).\n",
        "      image_print = np.clip(image_print, 0, 1)\n",
        "      # print(f\"image_print.shape {image_print.shape}\")\n",
        "      ax.imshow(image_print,cmap='binary')\n",
        "      title=str(i)+','+label_dict_cifar10[labels[i].item()]\n",
        "      if len(prediction)>0:\n",
        "          title+='=>'+label_dict_cifar10[prediction[i].item()]\n",
        "          \n",
        "      ax.set_title(title,fontsize=10)\n",
        "      ax.set_xticks([]);ax.set_yticks([])\n",
        "      idx+=1\n",
        "  plt.show()\n",
        "  \n",
        "# plot_images_labels_prediction(x_image_train,y_label_train,[],0)"
      ],
      "metadata": {
        "id": "qyKOI3lscoN4"
      },
      "execution_count": 22,
      "outputs": []
    },
    {
      "cell_type": "code",
      "source": [
        "plt.figure()\n",
        "plot_images_labels_prediction(x_train,y_train,[],0,10)"
      ],
      "metadata": {
        "id": "5NXvq8vZc545",
        "colab": {
          "base_uri": "https://localhost:8080/",
          "height": 378
        },
        "outputId": "9f3af261-1c82-4b9e-cb9f-dfd53a95e37f"
      },
      "execution_count": 23,
      "outputs": [
        {
          "output_type": "stream",
          "name": "stderr",
          "text": [
            "/usr/local/lib/python3.7/dist-packages/ipykernel_launcher.py:12: UserWarning: The use of `x.T` on tensors of dimension other than 2 to reverse their shape is deprecated and it will throw an error in a future release. Consider `x.mT` to transpose batches of matricesor `x.permute(*torch.arange(x.ndim - 1, -1, -1))` to reverse the dimensions of a tensor. (Triggered internally at  ../aten/src/ATen/native/TensorShape.cpp:2318.)\n",
            "  if sys.path[0] == '':\n"
          ]
        },
        {
          "output_type": "display_data",
          "data": {
            "text/plain": [
              "<Figure size 864x1008 with 10 Axes>"
            ],
            "image/png": "[encoded data removed]"
          },
          "metadata": {}
        }
      ]
    },
    {
      "cell_type": "markdown",
      "source": [
        "# Estudando resnet34"
      ],
      "metadata": {
        "id": "QBweVlz2wY05"
      }
    },
    {
      "cell_type": "markdown",
      "source": [
        "![image.png](data:image/png;base64,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)"
      ],
      "metadata": {
        "id": "pXBr8lrt1FMZ"
      }
    },
    {
      "cell_type": "markdown",
      "source": [
        "Fonte figura: https://www.analyticsvidhya.com/blog/2021/09/building-resnet-34-model-using-pytorch-a-guide-for-beginners/"
      ],
      "metadata": {
        "id": "pBSk9C_11oVZ"
      }
    },
    {
      "cell_type": "code",
      "source": [
        "from torchvision import models"
      ],
      "metadata": {
        "id": "MMSldFr7v_FF"
      },
      "execution_count": 24,
      "outputs": []
    },
    {
      "cell_type": "code",
      "source": [
        "# para ver uma layer específica: \n",
        "# list(models.resnet34().children())[4]\n",
        "models.resnet34().parameters"
      ],
      "metadata": {
        "colab": {
          "base_uri": "https://localhost:8080/"
        },
        "id": "_A1MBxHpwK5B",
        "outputId": "bf9c175f-5618-429a-a50f-ce3ba80474ea"
      },
      "execution_count": 25,
      "outputs": [
        {
          "output_type": "execute_result",
          "data": {
            "text/plain": [
              "<bound method Module.parameters of ResNet(\n",
              "  (conv1): Conv2d(3, 64, kernel_size=(7, 7), stride=(2, 2), padding=(3, 3), bias=False)\n",
              "  (bn1): BatchNorm2d(64, eps=1e-05, momentum=0.1, affine=True, track_running_stats=True)\n",
              "  (relu): ReLU(inplace=True)\n",
              "  (maxpool): MaxPool2d(kernel_size=3, stride=2, padding=1, dilation=1, ceil_mode=False)\n",
              "  (layer1): Sequential(\n",
              "    (0): BasicBlock(\n",
              "      (conv1): Conv2d(64, 64, kernel_size=(3, 3), stride=(1, 1), padding=(1, 1), bias=False)\n",
              "      (bn1): BatchNorm2d(64, eps=1e-05, momentum=0.1, affine=True, track_running_stats=True)\n",
              "      (relu): ReLU(inplace=True)\n",
              "      (conv2): Conv2d(64, 64, kernel_size=(3, 3), stride=(1, 1), padding=(1, 1), bias=False)\n",
              "      (bn2): BatchNorm2d(64, eps=1e-05, momentum=0.1, affine=True, track_running_stats=True)\n",
              "    )\n",
              "    (1): BasicBlock(\n",
              "      (conv1): Conv2d(64, 64, kernel_size=(3, 3), stride=(1, 1), padding=(1, 1), bias=False)\n",
              "      (bn1): BatchNorm2d(64, eps=1e-05, momentum=0.1, affine=True, track_running_stats=True)\n",
              "      (relu): ReLU(inplace=True)\n",
              "      (conv2): Conv2d(64, 64, kernel_size=(3, 3), stride=(1, 1), padding=(1, 1), bias=False)\n",
              "      (bn2): BatchNorm2d(64, eps=1e-05, momentum=0.1, affine=True, track_running_stats=True)\n",
              "    )\n",
              "    (2): BasicBlock(\n",
              "      (conv1): Conv2d(64, 64, kernel_size=(3, 3), stride=(1, 1), padding=(1, 1), bias=False)\n",
              "      (bn1): BatchNorm2d(64, eps=1e-05, momentum=0.1, affine=True, track_running_stats=True)\n",
              "      (relu): ReLU(inplace=True)\n",
              "      (conv2): Conv2d(64, 64, kernel_size=(3, 3), stride=(1, 1), padding=(1, 1), bias=False)\n",
              "      (bn2): BatchNorm2d(64, eps=1e-05, momentum=0.1, affine=True, track_running_stats=True)\n",
              "    )\n",
              "  )\n",
              "  (layer2): Sequential(\n",
              "    (0): BasicBlock(\n",
              "      (conv1): Conv2d(64, 128, kernel_size=(3, 3), stride=(2, 2), padding=(1, 1), bias=False)\n",
              "      (bn1): BatchNorm2d(128, eps=1e-05, momentum=0.1, affine=True, track_running_stats=True)\n",
              "      (relu): ReLU(inplace=True)\n",
              "      (conv2): Conv2d(128, 128, kernel_size=(3, 3), stride=(1, 1), padding=(1, 1), bias=False)\n",
              "      (bn2): BatchNorm2d(128, eps=1e-05, momentum=0.1, affine=True, track_running_stats=True)\n",
              "      (downsample): Sequential(\n",
              "        (0): Conv2d(64, 128, kernel_size=(1, 1), stride=(2, 2), bias=False)\n",
              "        (1): BatchNorm2d(128, eps=1e-05, momentum=0.1, affine=True, track_running_stats=True)\n",
              "      )\n",
              "    )\n",
              "    (1): BasicBlock(\n",
              "      (conv1): Conv2d(128, 128, kernel_size=(3, 3), stride=(1, 1), padding=(1, 1), bias=False)\n",
              "      (bn1): BatchNorm2d(128, eps=1e-05, momentum=0.1, affine=True, track_running_stats=True)\n",
              "      (relu): ReLU(inplace=True)\n",
              "      (conv2): Conv2d(128, 128, kernel_size=(3, 3), stride=(1, 1), padding=(1, 1), bias=False)\n",
              "      (bn2): BatchNorm2d(128, eps=1e-05, momentum=0.1, affine=True, track_running_stats=True)\n",
              "    )\n",
              "    (2): BasicBlock(\n",
              "      (conv1): Conv2d(128, 128, kernel_size=(3, 3), stride=(1, 1), padding=(1, 1), bias=False)\n",
              "      (bn1): BatchNorm2d(128, eps=1e-05, momentum=0.1, affine=True, track_running_stats=True)\n",
              "      (relu): ReLU(inplace=True)\n",
              "      (conv2): Conv2d(128, 128, kernel_size=(3, 3), stride=(1, 1), padding=(1, 1), bias=False)\n",
              "      (bn2): BatchNorm2d(128, eps=1e-05, momentum=0.1, affine=True, track_running_stats=True)\n",
              "    )\n",
              "    (3): BasicBlock(\n",
              "      (conv1): Conv2d(128, 128, kernel_size=(3, 3), stride=(1, 1), padding=(1, 1), bias=False)\n",
              "      (bn1): BatchNorm2d(128, eps=1e-05, momentum=0.1, affine=True, track_running_stats=True)\n",
              "      (relu): ReLU(inplace=True)\n",
              "      (conv2): Conv2d(128, 128, kernel_size=(3, 3), stride=(1, 1), padding=(1, 1), bias=False)\n",
              "      (bn2): BatchNorm2d(128, eps=1e-05, momentum=0.1, affine=True, track_running_stats=True)\n",
              "    )\n",
              "  )\n",
              "  (layer3): Sequential(\n",
              "    (0): BasicBlock(\n",
              "      (conv1): Conv2d(128, 256, kernel_size=(3, 3), stride=(2, 2), padding=(1, 1), bias=False)\n",
              "      (bn1): BatchNorm2d(256, eps=1e-05, momentum=0.1, affine=True, track_running_stats=True)\n",
              "      (relu): ReLU(inplace=True)\n",
              "      (conv2): Conv2d(256, 256, kernel_size=(3, 3), stride=(1, 1), padding=(1, 1), bias=False)\n",
              "      (bn2): BatchNorm2d(256, eps=1e-05, momentum=0.1, affine=True, track_running_stats=True)\n",
              "      (downsample): Sequential(\n",
              "        (0): Conv2d(128, 256, kernel_size=(1, 1), stride=(2, 2), bias=False)\n",
              "        (1): BatchNorm2d(256, eps=1e-05, momentum=0.1, affine=True, track_running_stats=True)\n",
              "      )\n",
              "    )\n",
              "    (1): BasicBlock(\n",
              "      (conv1): Conv2d(256, 256, kernel_size=(3, 3), stride=(1, 1), padding=(1, 1), bias=False)\n",
              "      (bn1): BatchNorm2d(256, eps=1e-05, momentum=0.1, affine=True, track_running_stats=True)\n",
              "      (relu): ReLU(inplace=True)\n",
              "      (conv2): Conv2d(256, 256, kernel_size=(3, 3), stride=(1, 1), padding=(1, 1), bias=False)\n",
              "      (bn2): BatchNorm2d(256, eps=1e-05, momentum=0.1, affine=True, track_running_stats=True)\n",
              "    )\n",
              "    (2): BasicBlock(\n",
              "      (conv1): Conv2d(256, 256, kernel_size=(3, 3), stride=(1, 1), padding=(1, 1), bias=False)\n",
              "      (bn1): BatchNorm2d(256, eps=1e-05, momentum=0.1, affine=True, track_running_stats=True)\n",
              "      (relu): ReLU(inplace=True)\n",
              "      (conv2): Conv2d(256, 256, kernel_size=(3, 3), stride=(1, 1), padding=(1, 1), bias=False)\n",
              "      (bn2): BatchNorm2d(256, eps=1e-05, momentum=0.1, affine=True, track_running_stats=True)\n",
              "    )\n",
              "    (3): BasicBlock(\n",
              "      (conv1): Conv2d(256, 256, kernel_size=(3, 3), stride=(1, 1), padding=(1, 1), bias=False)\n",
              "      (bn1): BatchNorm2d(256, eps=1e-05, momentum=0.1, affine=True, track_running_stats=True)\n",
              "      (relu): ReLU(inplace=True)\n",
              "      (conv2): Conv2d(256, 256, kernel_size=(3, 3), stride=(1, 1), padding=(1, 1), bias=False)\n",
              "      (bn2): BatchNorm2d(256, eps=1e-05, momentum=0.1, affine=True, track_running_stats=True)\n",
              "    )\n",
              "    (4): BasicBlock(\n",
              "      (conv1): Conv2d(256, 256, kernel_size=(3, 3), stride=(1, 1), padding=(1, 1), bias=False)\n",
              "      (bn1): BatchNorm2d(256, eps=1e-05, momentum=0.1, affine=True, track_running_stats=True)\n",
              "      (relu): ReLU(inplace=True)\n",
              "      (conv2): Conv2d(256, 256, kernel_size=(3, 3), stride=(1, 1), padding=(1, 1), bias=False)\n",
              "      (bn2): BatchNorm2d(256, eps=1e-05, momentum=0.1, affine=True, track_running_stats=True)\n",
              "    )\n",
              "    (5): BasicBlock(\n",
              "      (conv1): Conv2d(256, 256, kernel_size=(3, 3), stride=(1, 1), padding=(1, 1), bias=False)\n",
              "      (bn1): BatchNorm2d(256, eps=1e-05, momentum=0.1, affine=True, track_running_stats=True)\n",
              "      (relu): ReLU(inplace=True)\n",
              "      (conv2): Conv2d(256, 256, kernel_size=(3, 3), stride=(1, 1), padding=(1, 1), bias=False)\n",
              "      (bn2): BatchNorm2d(256, eps=1e-05, momentum=0.1, affine=True, track_running_stats=True)\n",
              "    )\n",
              "  )\n",
              "  (layer4): Sequential(\n",
              "    (0): BasicBlock(\n",
              "      (conv1): Conv2d(256, 512, kernel_size=(3, 3), stride=(2, 2), padding=(1, 1), bias=False)\n",
              "      (bn1): BatchNorm2d(512, eps=1e-05, momentum=0.1, affine=True, track_running_stats=True)\n",
              "      (relu): ReLU(inplace=True)\n",
              "      (conv2): Conv2d(512, 512, kernel_size=(3, 3), stride=(1, 1), padding=(1, 1), bias=False)\n",
              "      (bn2): BatchNorm2d(512, eps=1e-05, momentum=0.1, affine=True, track_running_stats=True)\n",
              "      (downsample): Sequential(\n",
              "        (0): Conv2d(256, 512, kernel_size=(1, 1), stride=(2, 2), bias=False)\n",
              "        (1): BatchNorm2d(512, eps=1e-05, momentum=0.1, affine=True, track_running_stats=True)\n",
              "      )\n",
              "    )\n",
              "    (1): BasicBlock(\n",
              "      (conv1): Conv2d(512, 512, kernel_size=(3, 3), stride=(1, 1), padding=(1, 1), bias=False)\n",
              "      (bn1): BatchNorm2d(512, eps=1e-05, momentum=0.1, affine=True, track_running_stats=True)\n",
              "      (relu): ReLU(inplace=True)\n",
              "      (conv2): Conv2d(512, 512, kernel_size=(3, 3), stride=(1, 1), padding=(1, 1), bias=False)\n",
              "      (bn2): BatchNorm2d(512, eps=1e-05, momentum=0.1, affine=True, track_running_stats=True)\n",
              "    )\n",
              "    (2): BasicBlock(\n",
              "      (conv1): Conv2d(512, 512, kernel_size=(3, 3), stride=(1, 1), padding=(1, 1), bias=False)\n",
              "      (bn1): BatchNorm2d(512, eps=1e-05, momentum=0.1, affine=True, track_running_stats=True)\n",
              "      (relu): ReLU(inplace=True)\n",
              "      (conv2): Conv2d(512, 512, kernel_size=(3, 3), stride=(1, 1), padding=(1, 1), bias=False)\n",
              "      (bn2): BatchNorm2d(512, eps=1e-05, momentum=0.1, affine=True, track_running_stats=True)\n",
              "    )\n",
              "  )\n",
              "  (avgpool): AdaptiveAvgPool2d(output_size=(1, 1))\n",
              "  (fc): Linear(in_features=512, out_features=1000, bias=True)\n",
              ")>"
            ]
          },
          "metadata": {},
          "execution_count": 25
        }
      ]
    },
    {
      "cell_type": "markdown",
      "source": [
        "### Fórmula do tamanho da saída (F = Kernel size)"
      ],
      "metadata": {
        "id": "kU23moylgMWD"
      }
    },
    {
      "cell_type": "markdown",
      "source": [
        "![image.png](data:image/png;base64,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)"
      ],
      "metadata": {
        "id": "WUHumgLhgJqY"
      }
    },
    {
      "cell_type": "markdown",
      "source": [
        "Maxpool "
      ],
      "metadata": {
        "id": "g8Pvms3mivh8"
      }
    },
    {
      "cell_type": "markdown",
      "source": [
        "![image.png](data:image/png;base64,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)"
      ],
      "metadata": {
        "id": "xR_2aWPhjfWh"
      }
    },
    {
      "cell_type": "markdown",
      "source": [
        "Somar ao W = W + 2*padding"
      ],
      "metadata": {
        "id": "s8mxH4bkjzJU"
      }
    },
    {
      "cell_type": "markdown",
      "source": [
        "# Implementações"
      ],
      "metadata": {
        "id": "5gqAlTf2yRAU"
      }
    },
    {
      "cell_type": "markdown",
      "source": [
        "## Implementando o Bloco Básico da Resnet"
      ],
      "metadata": {
        "id": "g-kdiLu_SM_2"
      }
    },
    {
      "cell_type": "markdown",
      "source": [
        "![Captura de Tela 2022-05-04 às 14.55.34.png](data:image/png;base64,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)"
      ],
      "metadata": {
        "id": "bfdeGBNfNvWe"
      }
    },
    {
      "cell_type": "code",
      "source": [
        "class MyBasicBlock(nn.Module):\n",
        "\n",
        "    def __init__(\n",
        "        self,\n",
        "        inplanes: int,\n",
        "        planes: int,\n",
        "        stride: int = 1\n",
        "    ) -> None:\n",
        "        \"\"\"\n",
        "        Percebido na descrição da resnet acima que: torchvision.models.resnet34().parameters\n",
        "         as convoluções não possuem bias\n",
        "         redução (opcional) ocorre na primeira conv3x3 e padding=1 e sem bias\n",
        "         e padding=0 na conv 1x1 \n",
        "\n",
        "        \n",
        "        Nomes alterados para que dê certo load_state_dict\n",
        "          conv3x3_x -> convx\n",
        "          batchnorm_x -> bnx\n",
        "          conv1x1 -> downsample\n",
        "\n",
        "        Fonte apoio https://www.kaggle.com/code/poonaml/building-resnet34-from-scratch-using-pytorch/notebook\n",
        "\n",
        "        Se há divergência nos canais de entrada e de saída ou stride (caso de mudança de dimensão), \n",
        "                cria-se uma projeção linear na identidade (indicado na figura da Resnet34 pela linha pontilhada)\n",
        "        \"\"\"\n",
        "        super().__init__()\n",
        "        # Escreva seu código aqui.\n",
        "        self.in_channels = inplanes\n",
        "        self.out_channels = planes\n",
        "        self.stride = stride\n",
        "        self.conv1 = nn.Conv2d(in_channels=self.in_channels, out_channels=self.out_channels, kernel_size=3 , stride=self.stride, \n",
        "                                   padding=1, dilation=1, groups=1,  bias=False, padding_mode='zeros')\n",
        "        self.bn1 = nn.BatchNorm2d(num_features=self.out_channels, eps=1e-05, momentum=0.1, affine=True, track_running_stats=True)\n",
        "        self.relu = torch.nn.ReLU(inplace=False)\n",
        "        self.conv2 = nn.Conv2d(in_channels=self.out_channels, out_channels=self.out_channels, kernel_size=3 , stride=1, \n",
        "                                   padding=1, dilation=1, groups=1, bias=False, padding_mode='zeros')\n",
        "        self.bn2 = nn.BatchNorm2d(num_features=self.out_channels, eps=1e-05, momentum=0.1, affine=True, track_running_stats=True)\n",
        "        if (self.stride > 1 or inplanes != planes):\n",
        "          self.se_downsample = True\n",
        "          self.downsample = nn.Conv2d(in_channels=self.in_channels, out_channels=self.out_channels, kernel_size=1 , stride=self.stride, \n",
        "                                 padding=0, dilation=1, groups=1, bias=False, padding_mode='zeros')\n",
        "          # Outra opção dita no site seria  nn.Sequential(     conv2d +       nn.BatchNorm2d(planes),      )          \n",
        "        else:\n",
        "          self.se_downsample = False\n",
        "\n",
        "    def forward(self, x: Tensor) -> Tensor:\n",
        "        # Escreva seu código aqui.\n",
        "        x_out = self.conv1(x)\n",
        "        x_out = self.bn1(x_out)\n",
        "        x_out = self.relu(x_out)\n",
        "        x_out = self.conv2(x_out)\n",
        "        x_out = self.bn2(x_out)\n",
        "        if self.se_downsample:\n",
        "          x_out += self.downsample(x)\n",
        "        else:\n",
        "          x_out += x\n",
        "        x_out = self.relu(x_out)\n",
        "        return x_out"
      ],
      "metadata": {
        "id": "8nPklpkxSQpR"
      },
      "execution_count": 26,
      "outputs": []
    },
    {
      "cell_type": "markdown",
      "source": [
        "### Compare se sua implementação está igual à do pytorch usando um exemplo aleatório"
      ],
      "metadata": {
        "id": "cUpvt6G5b3aL"
      }
    },
    {
      "cell_type": "code",
      "source": [
        "height_in = 5\n",
        "width_in = 5\n",
        "inplanes = 2\n",
        "planes = 3\n",
        "stride = 2\n",
        "\n",
        "x = torch.rand(1, inplanes, height_in, width_in)"
      ],
      "metadata": {
        "id": "GIT2IIJW0rgS"
      },
      "execution_count": 27,
      "outputs": []
    },
    {
      "cell_type": "code",
      "source": [
        "x.shape"
      ],
      "metadata": {
        "colab": {
          "base_uri": "https://localhost:8080/"
        },
        "id": "k83y6D-o0wma",
        "outputId": "d79897da-5357-4563-ad98-ad1413eb5545"
      },
      "execution_count": 28,
      "outputs": [
        {
          "output_type": "execute_result",
          "data": {
            "text/plain": [
              "torch.Size([1, 2, 5, 5])"
            ]
          },
          "metadata": {},
          "execution_count": 28
        }
      ]
    },
    {
      "cell_type": "code",
      "source": [
        "downsample = nn.Conv2d(inplanes, planes, kernel_size=1, stride=stride, padding=0, groups=1, bias=False, dilation=1)"
      ],
      "metadata": {
        "id": "ymvgi1uK1AIC"
      },
      "execution_count": 29,
      "outputs": []
    },
    {
      "cell_type": "code",
      "source": [
        "block_pt = torchvision.models.resnet.BasicBlock(inplanes=inplanes, planes=planes, stride=stride, downsample=downsample)\n",
        "target_out = block_pt(x)\n",
        "print(f'target_out.shape:\\n{target_out.shape} target_out:\\n{target_out}')\n"
      ],
      "metadata": {
        "colab": {
          "base_uri": "https://localhost:8080/"
        },
        "id": "h7ntrnjG1N5B",
        "outputId": "a2259ae4-b587-44a0-a893-f5441703c759"
      },
      "execution_count": 30,
      "outputs": [
        {
          "output_type": "stream",
          "name": "stdout",
          "text": [
            "target_out.shape:\n",
            "torch.Size([1, 3, 3, 3]) target_out:\n",
            "tensor([[[[1.0362, 0.0000, 0.5027],\n",
            "          [0.0000, 0.0000, 1.0111],\n",
            "          [0.0969, 0.0000, 0.0000]],\n",
            "\n",
            "         [[0.0000, 0.0000, 0.0000],\n",
            "          [1.3555, 1.7515, 0.0000],\n",
            "          [0.0000, 0.0000, 0.1958]],\n",
            "\n",
            "         [[0.0000, 0.2767, 0.4580],\n",
            "          [0.7391, 1.1939, 1.0586],\n",
            "          [0.9291, 0.0000, 0.0000]]]], grad_fn=<ReluBackward0>)\n"
          ]
        }
      ]
    },
    {
      "cell_type": "code",
      "source": [
        "block = MyBasicBlock(inplanes=inplanes, planes=planes, stride=stride)\n"
      ],
      "metadata": {
        "id": "IMXgImxc0uQR"
      },
      "execution_count": 31,
      "outputs": []
    },
    {
      "cell_type": "code",
      "source": [
        "block_pt.parameters"
      ],
      "metadata": {
        "colab": {
          "base_uri": "https://localhost:8080/"
        },
        "id": "bfD3pKTlwUZH",
        "outputId": "11be2620-fb67-4b45-c24a-84445bff2feb"
      },
      "execution_count": 32,
      "outputs": [
        {
          "output_type": "execute_result",
          "data": {
            "text/plain": [
              "<bound method Module.parameters of BasicBlock(\n",
              "  (conv1): Conv2d(2, 3, kernel_size=(3, 3), stride=(2, 2), padding=(1, 1), bias=False)\n",
              "  (bn1): BatchNorm2d(3, eps=1e-05, momentum=0.1, affine=True, track_running_stats=True)\n",
              "  (relu): ReLU(inplace=True)\n",
              "  (conv2): Conv2d(3, 3, kernel_size=(3, 3), stride=(1, 1), padding=(1, 1), bias=False)\n",
              "  (bn2): BatchNorm2d(3, eps=1e-05, momentum=0.1, affine=True, track_running_stats=True)\n",
              "  (downsample): Conv2d(2, 3, kernel_size=(1, 1), stride=(2, 2), bias=False)\n",
              ")>"
            ]
          },
          "metadata": {},
          "execution_count": 32
        }
      ]
    },
    {
      "cell_type": "code",
      "source": [
        "block.parameters"
      ],
      "metadata": {
        "colab": {
          "base_uri": "https://localhost:8080/"
        },
        "id": "HviacUtRtGjN",
        "outputId": "a19b1f33-acc2-4209-aadc-3327a91e75aa"
      },
      "execution_count": 33,
      "outputs": [
        {
          "output_type": "execute_result",
          "data": {
            "text/plain": [
              "<bound method Module.parameters of MyBasicBlock(\n",
              "  (conv1): Conv2d(2, 3, kernel_size=(3, 3), stride=(2, 2), padding=(1, 1), bias=False)\n",
              "  (bn1): BatchNorm2d(3, eps=1e-05, momentum=0.1, affine=True, track_running_stats=True)\n",
              "  (relu): ReLU()\n",
              "  (conv2): Conv2d(3, 3, kernel_size=(3, 3), stride=(1, 1), padding=(1, 1), bias=False)\n",
              "  (bn2): BatchNorm2d(3, eps=1e-05, momentum=0.1, affine=True, track_running_stats=True)\n",
              "  (downsample): Conv2d(2, 3, kernel_size=(1, 1), stride=(2, 2), bias=False)\n",
              ")>"
            ]
          },
          "metadata": {},
          "execution_count": 33
        }
      ]
    },
    {
      "cell_type": "code",
      "source": [
        "# Usa os mesmos pesos para minha implementação e a do pytorch\n",
        "block.load_state_dict(block_pt.state_dict())"
      ],
      "metadata": {
        "colab": {
          "base_uri": "https://localhost:8080/"
        },
        "id": "TGuzSaGs_50K",
        "outputId": "5141b015-8d74-4f05-ea52-a7303052c35a"
      },
      "execution_count": 34,
      "outputs": [
        {
          "output_type": "execute_result",
          "data": {
            "text/plain": [
              "<All keys matched successfully>"
            ]
          },
          "metadata": {},
          "execution_count": 34
        }
      ]
    },
    {
      "cell_type": "code",
      "source": [
        "out = block(x)\n",
        "print(f'out.shape:\\n{out.shape} out:\\n{out}')\n"
      ],
      "metadata": {
        "colab": {
          "base_uri": "https://localhost:8080/"
        },
        "id": "M843g0Xe_7lj",
        "outputId": "4173fbfe-3135-46da-efae-2e4c11c4fe97"
      },
      "execution_count": 35,
      "outputs": [
        {
          "output_type": "stream",
          "name": "stdout",
          "text": [
            "out.shape:\n",
            "torch.Size([1, 3, 3, 3]) out:\n",
            "tensor([[[[1.0362, 0.0000, 0.5027],\n",
            "          [0.0000, 0.0000, 1.0111],\n",
            "          [0.0969, 0.0000, 0.0000]],\n",
            "\n",
            "         [[0.0000, 0.0000, 0.0000],\n",
            "          [1.3555, 1.7515, 0.0000],\n",
            "          [0.0000, 0.0000, 0.1958]],\n",
            "\n",
            "         [[0.0000, 0.2767, 0.4580],\n",
            "          [0.7391, 1.1939, 1.0586],\n",
            "          [0.9291, 0.0000, 0.0000]]]], grad_fn=<ReluBackward0>)\n"
          ]
        }
      ]
    },
    {
      "cell_type": "code",
      "source": [
        "assert torch.allclose(out, target_out, atol=1e-6)"
      ],
      "metadata": {
        "id": "vvQ_b8oK_V9E"
      },
      "execution_count": 36,
      "outputs": []
    },
    {
      "cell_type": "markdown",
      "metadata": {
        "id": "nqs2JhJoQT2L"
      },
      "source": [
        "## Definição de funções de apoio ao treinamento"
      ]
    },
    {
      "cell_type": "code",
      "source": [
        "def count_parameters(model):\n",
        "  return sum(p.numel() for p in model.parameters() if p.requires_grad)"
      ],
      "metadata": {
        "id": "Ty5BEoeBJvPv"
      },
      "execution_count": 143,
      "outputs": []
    },
    {
      "cell_type": "code",
      "source": [
        "def calcula_acertos(outputs, target, parm_criterion):\n",
        "  # print(f'entrei calcula_acuracia outputs type: {type(outputs)} shape: {outputs.shape} target type: {type(target)} shape: {target.shape}')\n",
        "  if isinstance(parm_criterion, torch.nn.CrossEntropyLoss):\n",
        "    #print('é instancia de torch.nn.CrossEntropyLoss')\n",
        "    preds = outputs.argmax(dim=1)\n",
        "    return (preds == target).sum().item()  \n",
        "  else:\n",
        "    raise Exception(\"Critério não programado para cálculo de acertos\")"
      ],
      "metadata": {
        "id": "VsjvAf4S5SNJ"
      },
      "execution_count": 160,
      "outputs": []
    },
    {
      "cell_type": "code",
      "source": [
        "def calcula_loss_tensor(outputs, target, parm_criterion):\n",
        "  # print(f'entrei calcula_loss outputs type: {type(outputs)} shape: {outputs.shape} target type: {type(target)} shape: {target.shape}')\n",
        "  if isinstance(parm_criterion, torch.nn.CrossEntropyLoss):\n",
        "    #print('é instancia de torch.nn.CrossEntropyLoss')\n",
        "    return parm_criterion(outputs, target)\n",
        "  else:\n",
        "    raise Exception(\"Critério não programado para cálculo de loss\")    "
      ],
      "metadata": {
        "id": "HRDdnQr-AdOr"
      },
      "execution_count": 145,
      "outputs": []
    },
    {
      "cell_type": "code",
      "source": [
        "def evaluation(model, loader, parm_criterion):\n",
        "    # Escreva seu código aqui.\n",
        "    model.eval()\n",
        "    loss_total = 0\n",
        "    acertos_total = 0\n",
        "    with torch.no_grad():\n",
        "        for cnt, (x_batch_valid, y_batch_valid) in enumerate(loader):\n",
        "            x_batch_valid = x_batch_valid.to(hparam['device'])\n",
        "            y_batch_valid = y_batch_valid.to(hparam['device'])\n",
        "\n",
        "            # predict da rede\n",
        "            outputs = model(x_batch_valid)\n",
        "\n",
        "            # calcula a perda\n",
        "            loss_batch = calcula_loss_tensor(outputs, y_batch_valid, parm_criterion)              \n",
        "            acertos_batch = calcula_acertos(outputs, y_batch_valid, parm_criterion)\n",
        "            \n",
        "            # acumula nos batchs\n",
        "            loss_total += loss_batch.item() \n",
        "            acertos_total += acertos_batch\n",
        "\n",
        "        loss_validacao = loss_total / len(loader)\n",
        "        acuracia_validacao = acertos_total / len(loader.dataset)\n",
        "    print(f\"loss_total/ len(loader.dataset): {loss_total}/{len(loader)} = {loss_validacao} #loss_validacao\")\n",
        "    print(f\"acertos_total/ len(loader.dataset): {acertos_total}/{len(loader.dataset)} = {acuracia_validacao} #acuracia_validacao\")\n",
        "    # print(f'Evaluation: accuracy: {acuracia_validacao}, loss: {loss_validacao}')\n",
        "    return loss_validacao, acuracia_validacao\n",
        "   "
      ],
      "metadata": {
        "id": "3CaFvrKRh3L7"
      },
      "execution_count": 161,
      "outputs": []
    },
    {
      "cell_type": "code",
      "source": [
        "def treina_modelo (parm_model, parm_loader_train, parm_loader_valid, parm_loader_test, hparam:dict, parm_tags_rastro:list, parm_se_um_batch_por_epoca:bool=False, parm_verbose:bool = True, parm_intervalo_print = 10):\n",
        "  \"\"\"\n",
        "  \"\"\"\n",
        "  rastro_neptune = NeptuneRastroRun(hparam, parm_lista_tag=parm_tags_rastro)\n",
        "  try:\n",
        "    epochs = []\n",
        "    loss_history = []\n",
        "    total_trained_samples = 0\n",
        "    history = []\n",
        "    best_acuracia_validacao =0\n",
        "    best_epoch = 0\n",
        "    # Primeira avaliação com pesos aleatórios\n",
        "    loss_validacao, acuracia_validacao =  evaluation(model=parm_model, loader=parm_loader_valid, parm_criterion= hparam['criterion'])\n",
        "    metrica_rastro = {\"valid/loss\": loss_validacao,\n",
        "                      \"valid/acc\": acuracia_validacao,\n",
        "                      }  \n",
        "    history.append(metrica_rastro)\n",
        "    rastro_neptune.salva_metrica(metrica_rastro)\n",
        "\n",
        "    time_inicio_treino = time.time()\n",
        "\n",
        "    print(f'Momento: {time.strftime(\"[%Y-%b-%d %H:%M:%S]\")} Métricas iniciais em validação: loss_validacao={loss_validacao}, acuracia_validacao={acuracia_validacao}')\n",
        "\n",
        "    for cnt_epoca in range(1,hparam['max_epochs']+1):\n",
        "        ultima_epoca_treinada = cnt_epoca\n",
        "        accumulated_loss = 0\n",
        "        acertos_total = 0\n",
        "        parm_model.train()\n",
        "        for x_batch_train, y_batch_train in tqdm(parm_loader_train, total=len(parm_loader_train), desc='Training'):\n",
        "            x_batch_train = x_batch_train.to(hparam['device'])\n",
        "            y_batch_train = y_batch_train.to(hparam['device'])\n",
        "\n",
        "            \n",
        "            # predict da rede\n",
        "            outputs = parm_model(x_batch_train)\n",
        "\n",
        "            # calcula a perda\n",
        "            batch_loss = calcula_loss_tensor(outputs, y_batch_train, hparam['criterion'])\n",
        "\n",
        "            # zero, backpropagation, ajusta parâmetros pelo gradiente descendente\n",
        "            hparam['optimizer'].zero_grad()\n",
        "            batch_loss.backward()\n",
        "            hparam['optimizer'].step()\n",
        "\n",
        "            total_trained_samples += x_batch_train.size(0)\n",
        "            epochs.append(total_trained_samples / len(parm_loader_train.dataset))\n",
        "            loss_history.append(batch_loss.item())\n",
        "\n",
        "\n",
        "            with torch.no_grad():\n",
        "              # calcula a acurácia do batch\n",
        "              acertos_batch = calcula_acertos(outputs, y_batch_train, hparam['criterion'])\n",
        "              # acumula métricas\n",
        "              accumulated_loss += batch_loss.item()\n",
        "              acertos_total += acertos_batch \n",
        "            \n",
        "            # apenas para teste da lógica, tratar um batch por época\n",
        "            if parm_se_um_batch_por_epoca:\n",
        "              break\n",
        "\n",
        "        # ipdb.set_trace(context=8)\n",
        "        loss_treino = accumulated_loss / len(parm_loader_train)\n",
        "        acuracia_treino = acertos_total / len(parm_loader_train.dataset)\n",
        "\n",
        "        # Chama a função de validação no final de cada época\n",
        "        loss_validacao, acuracia_validacao = evaluation(model=parm_model, loader=parm_loader_valid, parm_criterion= hparam['criterion'])\n",
        "\n",
        "        metrica_rastro = {\"train/loss\": loss_treino, \n",
        "                          \"valid/loss\": loss_validacao,\n",
        "                          \"train/acc\": acuracia_treino, \n",
        "                          \"valid/acc\": acuracia_validacao,\n",
        "                          }  \n",
        "\n",
        "        history.append(metrica_rastro)\n",
        "\n",
        "        rastro_neptune.salva_metrica(metrica_rastro)\n",
        "\n",
        "        if parm_intervalo_print > 0:\n",
        "          if (cnt_epoca)%parm_intervalo_print == 0: \n",
        "            print(f'Época: {(cnt_epoca):d}/{hparam[\"max_epochs\"]:d}  Momento: {time.strftime(\"[%Y-%b-%d %H:%M:%S]\")} Train Loss: {loss_treino:.6f} accuracy: {acuracia_treino:.6f} Valid Loss: {loss_validacao:.6f} accuracy: {acuracia_validacao:.6f} ')\n",
        "\n",
        "\n",
        "        # Salvando o melhor modelo de acordo com a loss de validação\n",
        "        if acuracia_validacao > best_acuracia_validacao:\n",
        "            best_model_dict = parm_model.state_dict()\n",
        "            # torch.save(parm_model.state_dict(), 'best_model' + NeptuneRastroRun.retorna_tag_contexto_rastro() + '.pt')\n",
        "            best_acuracia_validacao = acuracia_validacao\n",
        "            best_epoch = cnt_epoca\n",
        "            # print('best model')\n",
        "        elif hparam['early_stop'] <= (cnt_epoca - best_epoch):\n",
        "            print(f\"Parando por critério de early_stop\")\n",
        "            break\n",
        "    \n",
        "    # calculando tempo gasto e médio por época\n",
        "    tempo_treino = time.time() - time_inicio_treino   \n",
        "    rastro_neptune.run_neptune[\"tempo_treino\"].log(tempo_treino)\n",
        "    rastro_neptune.run_neptune[\"tempo_treino_por_epoca\"].log(tempo_treino/ultima_epoca_treinada)\n",
        "    print(f\"Tempo gasto total {tempo_treino:9.5f}, por época {tempo_treino/ultima_epoca_treinada:9.5f}\")\n",
        "\n",
        "    print(f'Final: {ultima_epoca_treinada:d}/{hparam[\"max_epochs\"]:d}  Momento: {time.strftime(\"[%Y-%b-%d %H:%M:%S]\")} Train Loss: {loss_treino:.6f} accuracy: {acuracia_treino:.6f} Valid Loss: {loss_validacao:.6f} accuracy: {acuracia_validacao:.6f} ')\n",
        "\n",
        "    rastro_neptune.run_neptune[\"valid/best_epoch\"].log(best_epoch)\n",
        "\n",
        "\n",
        "    parm_model.load_state_dict(best_model_dict)\n",
        "    parm_model.to(hparam['device'])\n",
        "    loss_test, acuracia_test = evaluation(model=parm_model, loader=parm_loader_test, parm_criterion=hparam['criterion'] )\n",
        "\n",
        "    metrica_rastro = {\"teste/loss\": loss_test,\n",
        "                    \"teste/acc\": acuracia_test,\n",
        "                    }  \n",
        "\n",
        "    print(f\" Resultado com dados de teste: {metrica_rastro}\")\n",
        "    rastro_neptune.salva_metrica(metrica_rastro)\n",
        "    rastro_neptune.gera_grafico_modelo(parm_loader_train, parm_model)\n",
        "  finally:\n",
        "    rastro_neptune.stop()\n",
        "\n",
        "  if parm_verbose:\n",
        "  # Visualização usual da perda, somente no final de cada minibatch\n",
        "    n_batches_train = len(train_dataloader)\n",
        "    plt.plot(epochs[::n_batches_train], loss_history[::n_batches_train])\n",
        "    plt.xlabel('época')\n",
        "\n",
        "  return {\"acuracia_test\":acuracia_test, \"acuracia_treino\":acuracia_treino, \"best_acuracia_validacao\":best_acuracia_validacao,  \"best_epoch\": best_epoch} #, \"best_model_dict\": best_model_dict}"
      ],
      "metadata": {
        "id": "5friMgOb5RV4"
      },
      "execution_count": 179,
      "outputs": []
    },
    {
      "cell_type": "markdown",
      "metadata": {
        "id": "BQA9Zg7GQT2G"
      },
      "source": [
        "## Modelo\n",
        "\n",
        "Implemente um modelo de classificação que será treinado no CIFAR-10."
      ]
    },
    {
      "cell_type": "code",
      "source": [
        "def make_layer(inplanes, planes, blocks, stride=1):\n",
        "    \"\"\" \n",
        "    Para facilitar criação das camadas da rede, como em torchvision.models.resnet34() \n",
        "    Fonte: https://www.kaggle.com/code/poonaml/building-resnet34-from-scratch-using-pytorch/notebook\n",
        "    \"\"\"\n",
        "    layers = []\n",
        "    layers.append(MyBasicBlock(inplanes, planes, stride))\n",
        "    inplanes = planes\n",
        "    for _ in range(1, blocks):\n",
        "        layers.append(MyBasicBlock(planes, planes))\n",
        "    return nn.Sequential(*layers)"
      ],
      "metadata": {
        "id": "9hzIvPeJmuPk"
      },
      "execution_count": 163,
      "outputs": []
    },
    {
      "cell_type": "markdown",
      "source": [
        "### Possíveis caminhos para tratar overfit (avaliar os casos)"
      ],
      "metadata": {
        "id": "FaODAkImEIVR"
      }
    },
    {
      "cell_type": "markdown",
      "source": [
        "data augmentation - translation of image"
      ],
      "metadata": {
        "id": "_Rcc50riPDJb"
      }
    },
    {
      "cell_type": "markdown",
      "source": [
        "experimentar menos parâmetros\n",
        "\n"
      ],
      "metadata": {
        "id": "TYcuKAWxxoBK"
      }
    },
    {
      "cell_type": "markdown",
      "source": [
        "\n",
        "experimentar +dropout apos fc \n",
        "\n"
      ],
      "metadata": {
        "id": "rxfpDNL05o-y"
      }
    },
    {
      "cell_type": "markdown",
      "source": [
        "experimentar antes dropout: nn.Threshold(0, 1e-06)  # para evitar que pesos se aproximem muito dos dados\n",
        "\n"
      ],
      "metadata": {
        "id": "KS0coqvU5tHi"
      }
    },
    {
      "cell_type": "markdown",
      "source": [
        "experimentar maxpool2d (não se prende ao detalhe, mas ao máximo)\n",
        "\n"
      ],
      "metadata": {
        "id": "VFlkyFhW50WZ"
      }
    },
    {
      "cell_type": "markdown",
      "source": [
        "kernel_regularizer é a função Regularizer que é aplicada à matriz de pesos do kernel.\n",
        "\n"
      ],
      "metadata": {
        "id": "tP8TGvcozXvB"
      }
    },
    {
      "cell_type": "markdown",
      "source": [
        "bias_regularizer é a função Regularizer que é aplicada ao vetor de polarização.\n",
        "activity_regularizer é a função Regularizer que é aplicada à saída da camada (ou seja, ativação)."
      ],
      "metadata": {
        "id": "CeWle64H59-D"
      }
    },
    {
      "cell_type": "markdown",
      "source": [
        "### Criação Modelo"
      ],
      "metadata": {
        "id": "qXqV2n8tELd5"
      }
    },
    {
      "cell_type": "markdown",
      "source": [
        "#### Sobre Adaptive Pooling \n",
        "\n",
        "In average-pooling or max-pooling, you essentially set the stride and kernel-size by your own, setting them as hyper-parameters. You will have to re-configure them if you happen to change your input size.\n",
        "\n",
        "In Adaptive Pooling on the other hand, we specify the output size instead. And the stride and kernel-size are automatically selected to adapt to the needs. The following equations are used to calculate the value in the source code.\n",
        "\n"
      ],
      "metadata": {
        "id": "EDMbVYVR8K1_"
      }
    },
    {
      "cell_type": "code",
      "source": [
        "class ResNet34Like(torch.nn.Module):\n",
        "    def __init__(self, verbose=False):\n",
        "      \"\"\"\n",
        "      Se vai ser treinado no Cifar10, terá entrada torch.Size([n, 3, 32, 32])\n",
        "      num_canais = 3\n",
        "      image_height = 32, \n",
        "      image_weight = 32\n",
        "      num_classes = 10\n",
        "\n",
        "      Tentando implementar resnet34 conforme\n",
        "      https://www.kaggle.com/code/poonaml/building-resnet34-from-scratch-using-pytorch/notebook \n",
        "\n",
        "         https://www.analyticsvidhya.com/blog/2021/09/building-resnet-34-model-using-pytorch-a-guide-for-beginners/\n",
        "\n",
        "      \"\"\"\n",
        "      super().__init__()\n",
        "      self.verbose = verbose\n",
        "      self.num_canais_entrada = 3\n",
        "      self.image_height = 32 \n",
        "      self.image_width = 32\n",
        "      self.num_classes = 10\n",
        "\n",
        "      \"\"\"\n",
        "      original\n",
        "      self.layer1 = nn.Sequential(nn.Conv2d(3,64,kernel_size=7, stride=2, padding=3, bias=False), #16,16\n",
        "                       nn.BatchNorm2d(64),\n",
        "                       nn.ReLU(inplace=True),\n",
        "                       nn.MaxPool2d(kernel_size=3, stride=2, padding=1)) # 8, 8\n",
        "      \"\"\"\n",
        "      #para evitar overfit: não reduzindo as dimensões altura e largura e sem maxpool2d\n",
        "      self.layer1 = nn.Sequential(nn.Conv2d(3,64,kernel_size=7, stride=1, padding=3, bias=False), #32, 32\n",
        "                       nn.BatchNorm2d(64),\n",
        "                       nn.ReLU(inplace=True))\n",
        "\n",
        "      self.layer2 = make_layer(inplanes=64,planes=64, stride=1, blocks=3) # sai 8 x 8\n",
        "      self.layer3 = make_layer(64, 128, stride=1,blocks=4) # deveria ser stride=2, mas iria diminuir muito as dimensões\n",
        "\n",
        "      self.layer4 = make_layer(128, 256, stride=1,blocks=6) # deveria ser stride=2, mas iria diminuir muito as dimensões\n",
        "      self.layer5 = make_layer(256, 512, stride=1, blocks=3) # deveria ser stride=2, mas iria diminuir muito as dimensões\n",
        "        \n",
        "      self.avgpool = nn.AdaptiveAvgPool2d((1, 1))\n",
        "      self.full_connected = nn.Linear(512, self.num_classes)  # era para ser 512???\n",
        "      \n",
        "    def forward(self, x):\n",
        "      assert x.shape[1]==self.num_canais_entrada, f\"Numero de canais de entrada {x.shape[1]} diverge do esperado {self.num_canais_entrada} \" \n",
        "      assert x.shape[2]==self.image_height, f\"Image height de entrada {x.shape[1]} diverge do esperado {self.image_height} \" \n",
        "      assert x.shape[3]==self.image_width, f\"Image width de entrada {x.shape[1]} diverge do esperado {self.image_width} \" \n",
        "      # Escreva seu código aqui.\n",
        "      out = self.layer1(x)          # 32x32 anes:                             de 32x32 para 8x8 \n",
        "      if self.verbose:\n",
        "        print(f\"Após layer1: out.shape = {out.shape}\")\n",
        "      out = self.layer2(out)          # mantido - original reduz pela metade\n",
        "      if self.verbose:\n",
        "        print(f\"Após layer2: out.shape = {out.shape}\")\n",
        "      out = self.layer3(out)          # mantido - original reduz pela metade\n",
        "      if self.verbose:\n",
        "        print(f\"Após layer3: out.shape = {out.shape}\")\n",
        "      \n",
        "      out = self.layer4(out)          # mantido - original reduz pela metade\n",
        "      if self.verbose:\n",
        "        print(f\"Após layer4: out.shape = {out.shape}\")\n",
        "      out = self.layer5(out)          # mantido - original reduz pela metade\n",
        "      if self.verbose:\n",
        "        print(f\"Após layer5: out.shape = {out.shape}\")\n",
        "\n",
        "      out = self.avgpool(out)         # 1x1\n",
        "      if self.verbose:\n",
        "        print(f\"Após avgpool: out.shape = {out.shape}\")\n",
        "      out = torch.flatten(out, 1)     # remove 1 X 1 grid and make vector of tensor shape \n",
        "      if self.verbose:\n",
        "        print(f\"Após flatten: out.shape = {out.shape}\")\n",
        "      out = self.full_connected(out)\n",
        "      if self.verbose:\n",
        "        print(f\"Após full_connected: out.shape = {out.shape}\")\n",
        "      if self.verbose:\n",
        "        raise Exception(\"Fim 1a passagem\")\n",
        "      return out"
      ],
      "metadata": {
        "id": "bP3hNUgOYHN7"
      },
      "execution_count": 164,
      "outputs": []
    },
    {
      "cell_type": "markdown",
      "source": [
        "# Treinamento"
      ],
      "metadata": {
        "id": "tuL-IqhQs7AY"
      }
    },
    {
      "cell_type": "markdown",
      "source": [
        "## resnet 34 like: sem reduzir dimensões 32x32\n",
        "\n",
        "https://app.neptune.ai/marcusborela/IA025/e/COUNTXEMBE-60\n",
        "\n",
        "{'acuracia_test': 0.8674, 'acuracia_treino': 1, 'best_acuracia_validacao': 0.8731, 'best_epoch': 58}"
      ],
      "metadata": {
        "id": "5UY4HO850Qp5"
      }
    },
    {
      "cell_type": "markdown",
      "metadata": {
        "id": "7aCbsOaxfMxA"
      },
      "source": [
        "### Laço de treinamento"
      ]
    },
    {
      "cell_type": "code",
      "source": [
        "# sempre inicializar os seeds antes para tornar os resultados comparáveis\n",
        "inicializa_seed(123)\n",
        "model = ResNet34Like()\n",
        "model.to(hparam['device'])\n",
        "print(f\"modelo no device {hparam['device']}\")"
      ],
      "metadata": {
        "colab": {
          "base_uri": "https://localhost:8080/"
        },
        "outputId": "e65f25b7-9146-4dbf-c6dd-da43f67f0b98",
        "id": "YEhQbI_SfMxA"
      },
      "execution_count": null,
      "outputs": [
        {
          "output_type": "stream",
          "name": "stdout",
          "text": [
            "modelo no device cuda:0\n"
          ]
        }
      ]
    },
    {
      "cell_type": "code",
      "source": [
        "tag_rastro_experiencia_treino = 'resnet 34: sem reduzir dimensões 32x32'"
      ],
      "metadata": {
        "id": "tCp9CiY5fMxB"
      },
      "execution_count": null,
      "outputs": []
    },
    {
      "cell_type": "code",
      "source": [
        "hparam['max_epochs'] = 60\n",
        "hparam['early_stop'] = 8\n",
        "hparam[\"learning_rate\"] = 0.01\n",
        "hparam['criterion'] = torch.nn.CrossEntropyLoss()\n",
        "hparam['optimizer'] = torch.optim.SGD(model.parameters(), hparam[\"learning_rate\"])\n",
        "# só documentando:\n",
        "hparam['num_classes']=10\n",
        "hparam['tag_experimento_especifica'] = tag_rastro_experiencia_treino\n",
        "hparam['num_parametros'] = count_parameters(model)\n",
        "hparam['num_batchs_por_epoca'] = len(train_dataloader)\n",
        "hparam['num_registros_dados_treino'] = len(train_dataloader.dataset)"
      ],
      "metadata": {
        "id": "cy24xsiEfMxB"
      },
      "execution_count": null,
      "outputs": []
    },
    {
      "cell_type": "code",
      "source": [
        "hparam"
      ],
      "metadata": {
        "colab": {
          "base_uri": "https://localhost:8080/"
        },
        "outputId": "1e1ed276-1d67-42aa-df81-c456b7681e40",
        "id": "wRVnRS4lfMxB"
      },
      "execution_count": null,
      "outputs": [
        {
          "output_type": "execute_result",
          "data": {
            "text/plain": [
              "{'max_epochs': 60,\n",
              " 'num_classes': 10,\n",
              " 'num_workers_dataloader': 2,\n",
              " 'batch_size': 50,\n",
              " 'early_stop': 8,\n",
              " 'learning_rate': 0.01,\n",
              " 'criterion': CrossEntropyLoss(),\n",
              " 'device': device(type='cuda', index=0),\n",
              " 'train_size': 40000,\n",
              " 'val_size': 10000,\n",
              " 'optimizer': SGD (\n",
              " Parameter Group 0\n",
              "     dampening: 0\n",
              "     lr: 0.01\n",
              "     maximize: False\n",
              "     momentum: 0\n",
              "     nesterov: False\n",
              "     weight_decay: 0\n",
              " ),\n",
              " 'tag_experimento_especifica': 'resnet 34: sem reduzir dimensões 32x32',\n",
              " 'num_parametros': 21288010,\n",
              " 'num_batchs_por_epoca': 800,\n",
              " 'num_registros_dados_treino': 40000}"
            ]
          },
          "metadata": {},
          "execution_count": 127
        }
      ]
    },
    {
      "cell_type": "code",
      "source": [
        "resultado = treina_modelo(model, parm_loader_train=train_dataloader, parm_loader_valid=val_dataloader,\n",
        "                          parm_loader_test=test_dataloader, hparam=hparam,\n",
        "                          parm_tags_rastro=[\"aula6\", tag_rastro_experiencia_treino],\n",
        "                          parm_verbose=True, parm_intervalo_print=1)"
      ],
      "metadata": {
        "colab": {
          "base_uri": "https://localhost:8080/",
          "height": 1000
        },
        "outputId": "8baf7c7d-bd5f-44a0-bd5a-db8c7a91d21f",
        "id": "3NXhR0XufMxB"
      },
      "execution_count": null,
      "outputs": [
        {
          "output_type": "stream",
          "name": "stdout",
          "text": [
            "https://app.neptune.ai/marcusborela/IA025/e/COUNTXEMBE-60\n",
            "Remember to stop your run once you’ve finished logging your metadata (https://docs.neptune.ai/api-reference/run#.stop). It will be stopped automatically only when the notebook kernel/interactive console is terminated.\n",
            "Momento: [2022-May-11 15:08:10] Métricas iniciais em validação: loss_validacao=2.303433355093002, acuracia_validacao=0.0849\n"
          ]
        },
        {
          "output_type": "stream",
          "name": "stderr",
          "text": [
            "Training: 100%|██████████| 800/800 [07:27<00:00,  1.79it/s]\n"
          ]
        },
        {
          "output_type": "stream",
          "name": "stdout",
          "text": [
            "Época: 1/60  Momento: [2022-May-11 15:16:19] Train Loss: 1.480765 accuracy: 0.450175 Valid Loss: 1.749488 accuracy: 0.438800 \n"
          ]
        },
        {
          "output_type": "stream",
          "name": "stderr",
          "text": [
            "Training: 100%|██████████| 800/800 [07:27<00:00,  1.79it/s]\n"
          ]
        },
        {
          "output_type": "stream",
          "name": "stdout",
          "text": [
            "Época: 2/60  Momento: [2022-May-11 15:24:27] Train Loss: 1.043775 accuracy: 0.624850 Valid Loss: 1.230097 accuracy: 0.578100 \n"
          ]
        },
        {
          "output_type": "stream",
          "name": "stderr",
          "text": [
            "Training: 100%|██████████| 800/800 [07:27<00:00,  1.79it/s]\n"
          ]
        },
        {
          "output_type": "stream",
          "name": "stdout",
          "text": [
            "Época: 3/60  Momento: [2022-May-11 15:32:36] Train Loss: 0.834914 accuracy: 0.706275 Valid Loss: 1.579629 accuracy: 0.513100 \n"
          ]
        },
        {
          "output_type": "stream",
          "name": "stderr",
          "text": [
            "Training: 100%|██████████| 800/800 [07:27<00:00,  1.79it/s]\n"
          ]
        },
        {
          "output_type": "stream",
          "name": "stdout",
          "text": [
            "Época: 4/60  Momento: [2022-May-11 15:40:44] Train Loss: 0.701298 accuracy: 0.755200 Valid Loss: 0.778138 accuracy: 0.729500 \n"
          ]
        },
        {
          "output_type": "stream",
          "name": "stderr",
          "text": [
            "Training: 100%|██████████| 800/800 [07:27<00:00,  1.79it/s]\n"
          ]
        },
        {
          "output_type": "stream",
          "name": "stdout",
          "text": [
            "Época: 5/60  Momento: [2022-May-11 15:48:52] Train Loss: 0.594156 accuracy: 0.790800 Valid Loss: 0.967672 accuracy: 0.677100 \n"
          ]
        },
        {
          "output_type": "stream",
          "name": "stderr",
          "text": [
            "Training: 100%|██████████| 800/800 [07:27<00:00,  1.79it/s]\n"
          ]
        },
        {
          "output_type": "stream",
          "name": "stdout",
          "text": [
            "Época: 6/60  Momento: [2022-May-11 15:57:00] Train Loss: 0.507043 accuracy: 0.823750 Valid Loss: 1.090741 accuracy: 0.661200 \n"
          ]
        },
        {
          "output_type": "stream",
          "name": "stderr",
          "text": [
            "Training: 100%|██████████| 800/800 [07:27<00:00,  1.79it/s]\n"
          ]
        },
        {
          "output_type": "stream",
          "name": "stdout",
          "text": [
            "Época: 7/60  Momento: [2022-May-11 16:05:08] Train Loss: 0.440887 accuracy: 0.847575 Valid Loss: 0.714104 accuracy: 0.753400 \n"
          ]
        },
        {
          "output_type": "stream",
          "name": "stderr",
          "text": [
            "Training: 100%|██████████| 800/800 [07:27<00:00,  1.79it/s]\n"
          ]
        },
        {
          "output_type": "stream",
          "name": "stdout",
          "text": [
            "Época: 8/60  Momento: [2022-May-11 16:13:16] Train Loss: 0.377756 accuracy: 0.867325 Valid Loss: 1.071104 accuracy: 0.667200 \n"
          ]
        },
        {
          "output_type": "stream",
          "name": "stderr",
          "text": [
            "Training: 100%|██████████| 800/800 [07:27<00:00,  1.79it/s]\n"
          ]
        },
        {
          "output_type": "stream",
          "name": "stdout",
          "text": [
            "Época: 9/60  Momento: [2022-May-11 16:21:24] Train Loss: 0.326462 accuracy: 0.887700 Valid Loss: 0.693681 accuracy: 0.776500 \n"
          ]
        },
        {
          "output_type": "stream",
          "name": "stderr",
          "text": [
            "Training: 100%|██████████| 800/800 [07:27<00:00,  1.79it/s]\n"
          ]
        },
        {
          "output_type": "stream",
          "name": "stdout",
          "text": [
            "Época: 10/60  Momento: [2022-May-11 16:29:32] Train Loss: 0.283370 accuracy: 0.901150 Valid Loss: 1.766953 accuracy: 0.630700 \n"
          ]
        },
        {
          "output_type": "stream",
          "name": "stderr",
          "text": [
            "Training: 100%|██████████| 800/800 [07:27<00:00,  1.79it/s]\n"
          ]
        },
        {
          "output_type": "stream",
          "name": "stdout",
          "text": [
            "Época: 11/60  Momento: [2022-May-11 16:37:40] Train Loss: 0.237927 accuracy: 0.917600 Valid Loss: 0.685727 accuracy: 0.783200 \n"
          ]
        },
        {
          "output_type": "stream",
          "name": "stderr",
          "text": [
            "Training: 100%|██████████| 800/800 [07:27<00:00,  1.79it/s]\n"
          ]
        },
        {
          "output_type": "stream",
          "name": "stdout",
          "text": [
            "Época: 12/60  Momento: [2022-May-11 16:45:49] Train Loss: 0.200444 accuracy: 0.930250 Valid Loss: 0.692107 accuracy: 0.791800 \n"
          ]
        },
        {
          "output_type": "stream",
          "name": "stderr",
          "text": [
            "Training: 100%|██████████| 800/800 [07:27<00:00,  1.79it/s]\n"
          ]
        },
        {
          "output_type": "stream",
          "name": "stdout",
          "text": [
            "Época: 13/60  Momento: [2022-May-11 16:53:57] Train Loss: 0.174266 accuracy: 0.940350 Valid Loss: 0.723508 accuracy: 0.788000 \n"
          ]
        },
        {
          "output_type": "stream",
          "name": "stderr",
          "text": [
            "Training: 100%|██████████| 800/800 [07:28<00:00,  1.79it/s]\n"
          ]
        },
        {
          "output_type": "stream",
          "name": "stdout",
          "text": [
            "Época: 14/60  Momento: [2022-May-11 17:02:06] Train Loss: 0.146535 accuracy: 0.950175 Valid Loss: 0.811267 accuracy: 0.779400 \n"
          ]
        },
        {
          "output_type": "stream",
          "name": "stderr",
          "text": [
            "Training: 100%|██████████| 800/800 [07:28<00:00,  1.79it/s]\n"
          ]
        },
        {
          "output_type": "stream",
          "name": "stdout",
          "text": [
            "Época: 15/60  Momento: [2022-May-11 17:10:15] Train Loss: 0.125681 accuracy: 0.956175 Valid Loss: 0.660601 accuracy: 0.813900 \n"
          ]
        },
        {
          "output_type": "stream",
          "name": "stderr",
          "text": [
            "Training: 100%|██████████| 800/800 [07:27<00:00,  1.79it/s]\n"
          ]
        },
        {
          "output_type": "stream",
          "name": "stdout",
          "text": [
            "Época: 16/60  Momento: [2022-May-11 17:18:23] Train Loss: 0.105010 accuracy: 0.963675 Valid Loss: 0.861953 accuracy: 0.779100 \n"
          ]
        },
        {
          "output_type": "stream",
          "name": "stderr",
          "text": [
            "Training: 100%|██████████| 800/800 [07:27<00:00,  1.79it/s]\n"
          ]
        },
        {
          "output_type": "stream",
          "name": "stdout",
          "text": [
            "Época: 17/60  Momento: [2022-May-11 17:26:31] Train Loss: 0.090202 accuracy: 0.968575 Valid Loss: 1.357802 accuracy: 0.712100 \n"
          ]
        },
        {
          "output_type": "stream",
          "name": "stderr",
          "text": [
            "Training: 100%|██████████| 800/800 [07:27<00:00,  1.79it/s]\n"
          ]
        },
        {
          "output_type": "stream",
          "name": "stdout",
          "text": [
            "Época: 18/60  Momento: [2022-May-11 17:34:39] Train Loss: 0.077163 accuracy: 0.974125 Valid Loss: 0.656363 accuracy: 0.821800 \n"
          ]
        },
        {
          "output_type": "stream",
          "name": "stderr",
          "text": [
            "Training: 100%|██████████| 800/800 [07:27<00:00,  1.79it/s]\n"
          ]
        },
        {
          "output_type": "stream",
          "name": "stdout",
          "text": [
            "Época: 19/60  Momento: [2022-May-11 17:42:47] Train Loss: 0.069904 accuracy: 0.976300 Valid Loss: 0.738044 accuracy: 0.816600 \n"
          ]
        },
        {
          "output_type": "stream",
          "name": "stderr",
          "text": [
            "Training: 100%|██████████| 800/800 [07:27<00:00,  1.79it/s]\n"
          ]
        },
        {
          "output_type": "stream",
          "name": "stdout",
          "text": [
            "Época: 20/60  Momento: [2022-May-11 17:50:55] Train Loss: 0.049355 accuracy: 0.984500 Valid Loss: 1.102996 accuracy: 0.760600 \n"
          ]
        },
        {
          "output_type": "stream",
          "name": "stderr",
          "text": [
            "Training: 100%|██████████| 800/800 [07:27<00:00,  1.79it/s]\n"
          ]
        },
        {
          "output_type": "stream",
          "name": "stdout",
          "text": [
            "Época: 21/60  Momento: [2022-May-11 17:59:03] Train Loss: 0.048145 accuracy: 0.984300 Valid Loss: 0.905040 accuracy: 0.795500 \n"
          ]
        },
        {
          "output_type": "stream",
          "name": "stderr",
          "text": [
            "Training: 100%|██████████| 800/800 [07:27<00:00,  1.79it/s]\n"
          ]
        },
        {
          "output_type": "stream",
          "name": "stdout",
          "text": [
            "Época: 22/60  Momento: [2022-May-11 18:07:11] Train Loss: 0.045893 accuracy: 0.984650 Valid Loss: 0.632501 accuracy: 0.841300 \n"
          ]
        },
        {
          "output_type": "stream",
          "name": "stderr",
          "text": [
            "Training: 100%|██████████| 800/800 [07:27<00:00,  1.79it/s]\n"
          ]
        },
        {
          "output_type": "stream",
          "name": "stdout",
          "text": [
            "Época: 23/60  Momento: [2022-May-11 18:15:20] Train Loss: 0.034645 accuracy: 0.989025 Valid Loss: 0.962567 accuracy: 0.794000 \n"
          ]
        },
        {
          "output_type": "stream",
          "name": "stderr",
          "text": [
            "Training: 100%|██████████| 800/800 [07:28<00:00,  1.79it/s]\n"
          ]
        },
        {
          "output_type": "stream",
          "name": "stdout",
          "text": [
            "Época: 24/60  Momento: [2022-May-11 18:23:29] Train Loss: 0.039301 accuracy: 0.987000 Valid Loss: 0.716548 accuracy: 0.817300 \n"
          ]
        },
        {
          "output_type": "stream",
          "name": "stderr",
          "text": [
            "Training: 100%|██████████| 800/800 [07:27<00:00,  1.79it/s]\n"
          ]
        },
        {
          "output_type": "stream",
          "name": "stdout",
          "text": [
            "Época: 25/60  Momento: [2022-May-11 18:31:37] Train Loss: 0.039628 accuracy: 0.986925 Valid Loss: 0.791007 accuracy: 0.822300 \n"
          ]
        },
        {
          "output_type": "stream",
          "name": "stderr",
          "text": [
            "Training: 100%|██████████| 800/800 [07:27<00:00,  1.79it/s]\n"
          ]
        },
        {
          "output_type": "stream",
          "name": "stdout",
          "text": [
            "Época: 26/60  Momento: [2022-May-11 18:39:45] Train Loss: 0.026608 accuracy: 0.991950 Valid Loss: 0.859270 accuracy: 0.804900 \n"
          ]
        },
        {
          "output_type": "stream",
          "name": "stderr",
          "text": [
            "Training: 100%|██████████| 800/800 [07:27<00:00,  1.79it/s]\n"
          ]
        },
        {
          "output_type": "stream",
          "name": "stdout",
          "text": [
            "Época: 27/60  Momento: [2022-May-11 18:47:54] Train Loss: 0.018844 accuracy: 0.994675 Valid Loss: 0.707962 accuracy: 0.846400 \n"
          ]
        },
        {
          "output_type": "stream",
          "name": "stderr",
          "text": [
            "Training: 100%|██████████| 800/800 [07:27<00:00,  1.79it/s]\n"
          ]
        },
        {
          "output_type": "stream",
          "name": "stdout",
          "text": [
            "Época: 28/60  Momento: [2022-May-11 18:56:02] Train Loss: 0.008084 accuracy: 0.998425 Valid Loss: 0.627778 accuracy: 0.852800 \n"
          ]
        },
        {
          "output_type": "stream",
          "name": "stderr",
          "text": [
            "Training: 100%|██████████| 800/800 [07:27<00:00,  1.79it/s]\n"
          ]
        },
        {
          "output_type": "stream",
          "name": "stdout",
          "text": [
            "Época: 29/60  Momento: [2022-May-11 19:04:11] Train Loss: 0.004187 accuracy: 0.999500 Valid Loss: 0.595736 accuracy: 0.863200 \n"
          ]
        },
        {
          "output_type": "stream",
          "name": "stderr",
          "text": [
            "Training: 100%|██████████| 800/800 [07:27<00:00,  1.79it/s]\n"
          ]
        },
        {
          "output_type": "stream",
          "name": "stdout",
          "text": [
            "Época: 30/60  Momento: [2022-May-11 19:12:19] Train Loss: 0.002301 accuracy: 0.999800 Valid Loss: 0.613713 accuracy: 0.862500 \n"
          ]
        },
        {
          "output_type": "stream",
          "name": "stderr",
          "text": [
            "Training: 100%|██████████| 800/800 [07:27<00:00,  1.79it/s]\n"
          ]
        },
        {
          "output_type": "stream",
          "name": "stdout",
          "text": [
            "Época: 31/60  Momento: [2022-May-11 19:20:27] Train Loss: 0.002182 accuracy: 0.999750 Valid Loss: 0.614905 accuracy: 0.864600 \n"
          ]
        },
        {
          "output_type": "stream",
          "name": "stderr",
          "text": [
            "Training: 100%|██████████| 800/800 [07:27<00:00,  1.79it/s]\n"
          ]
        },
        {
          "output_type": "stream",
          "name": "stdout",
          "text": [
            "Época: 32/60  Momento: [2022-May-11 19:28:36] Train Loss: 0.001430 accuracy: 0.999950 Valid Loss: 0.593462 accuracy: 0.867300 \n"
          ]
        },
        {
          "output_type": "stream",
          "name": "stderr",
          "text": [
            "Training: 100%|██████████| 800/800 [07:27<00:00,  1.79it/s]\n"
          ]
        },
        {
          "output_type": "stream",
          "name": "stdout",
          "text": [
            "Época: 33/60  Momento: [2022-May-11 19:36:44] Train Loss: 0.001146 accuracy: 0.999925 Valid Loss: 0.585894 accuracy: 0.869200 \n"
          ]
        },
        {
          "output_type": "stream",
          "name": "stderr",
          "text": [
            "Training: 100%|██████████| 800/800 [07:27<00:00,  1.79it/s]\n"
          ]
        },
        {
          "output_type": "stream",
          "name": "stdout",
          "text": [
            "Época: 34/60  Momento: [2022-May-11 19:44:52] Train Loss: 0.000756 accuracy: 0.999975 Valid Loss: 0.591978 accuracy: 0.869100 \n"
          ]
        },
        {
          "output_type": "stream",
          "name": "stderr",
          "text": [
            "Training: 100%|██████████| 800/800 [07:27<00:00,  1.79it/s]\n"
          ]
        },
        {
          "output_type": "stream",
          "name": "stdout",
          "text": [
            "Época: 35/60  Momento: [2022-May-11 19:53:00] Train Loss: 0.000729 accuracy: 0.999950 Valid Loss: 0.602472 accuracy: 0.867700 \n"
          ]
        },
        {
          "output_type": "stream",
          "name": "stderr",
          "text": [
            "Training: 100%|██████████| 800/800 [07:27<00:00,  1.79it/s]\n"
          ]
        },
        {
          "output_type": "stream",
          "name": "stdout",
          "text": [
            "Época: 36/60  Momento: [2022-May-11 20:01:08] Train Loss: 0.000808 accuracy: 0.999950 Valid Loss: 0.601498 accuracy: 0.869100 \n"
          ]
        },
        {
          "output_type": "stream",
          "name": "stderr",
          "text": [
            "Training: 100%|██████████| 800/800 [07:27<00:00,  1.79it/s]\n"
          ]
        },
        {
          "output_type": "stream",
          "name": "stdout",
          "text": [
            "Época: 37/60  Momento: [2022-May-11 20:09:16] Train Loss: 0.000499 accuracy: 1.000000 Valid Loss: 0.607243 accuracy: 0.869900 \n"
          ]
        },
        {
          "output_type": "stream",
          "name": "stderr",
          "text": [
            "Training: 100%|██████████| 800/800 [07:27<00:00,  1.79it/s]\n"
          ]
        },
        {
          "output_type": "stream",
          "name": "stdout",
          "text": [
            "Época: 38/60  Momento: [2022-May-11 20:17:25] Train Loss: 0.000557 accuracy: 0.999975 Valid Loss: 0.606159 accuracy: 0.870500 \n"
          ]
        },
        {
          "output_type": "stream",
          "name": "stderr",
          "text": [
            "Training: 100%|██████████| 800/800 [07:27<00:00,  1.79it/s]\n"
          ]
        },
        {
          "output_type": "stream",
          "name": "stdout",
          "text": [
            "Época: 39/60  Momento: [2022-May-11 20:25:33] Train Loss: 0.000609 accuracy: 0.999975 Valid Loss: 0.604899 accuracy: 0.870100 \n"
          ]
        },
        {
          "output_type": "stream",
          "name": "stderr",
          "text": [
            "Training: 100%|██████████| 800/800 [07:27<00:00,  1.79it/s]\n"
          ]
        },
        {
          "output_type": "stream",
          "name": "stdout",
          "text": [
            "Época: 40/60  Momento: [2022-May-11 20:33:42] Train Loss: 0.000500 accuracy: 1.000000 Valid Loss: 0.603927 accuracy: 0.870900 \n"
          ]
        },
        {
          "output_type": "stream",
          "name": "stderr",
          "text": [
            "Training: 100%|██████████| 800/800 [07:27<00:00,  1.79it/s]\n"
          ]
        },
        {
          "output_type": "stream",
          "name": "stdout",
          "text": [
            "Época: 41/60  Momento: [2022-May-11 20:41:50] Train Loss: 0.000454 accuracy: 1.000000 Valid Loss: 0.608015 accuracy: 0.867800 \n"
          ]
        },
        {
          "output_type": "stream",
          "name": "stderr",
          "text": [
            "Training: 100%|██████████| 800/800 [07:27<00:00,  1.79it/s]\n"
          ]
        },
        {
          "output_type": "stream",
          "name": "stdout",
          "text": [
            "Época: 42/60  Momento: [2022-May-11 20:49:58] Train Loss: 0.000427 accuracy: 1.000000 Valid Loss: 0.610150 accuracy: 0.871000 \n"
          ]
        },
        {
          "output_type": "stream",
          "name": "stderr",
          "text": [
            "Training: 100%|██████████| 800/800 [07:27<00:00,  1.79it/s]\n"
          ]
        },
        {
          "output_type": "stream",
          "name": "stdout",
          "text": [
            "Época: 43/60  Momento: [2022-May-11 20:58:07] Train Loss: 0.000484 accuracy: 0.999975 Valid Loss: 0.617600 accuracy: 0.869800 \n"
          ]
        },
        {
          "output_type": "stream",
          "name": "stderr",
          "text": [
            "Training: 100%|██████████| 800/800 [07:27<00:00,  1.79it/s]\n"
          ]
        },
        {
          "output_type": "stream",
          "name": "stdout",
          "text": [
            "Época: 44/60  Momento: [2022-May-11 21:06:15] Train Loss: 0.000408 accuracy: 1.000000 Valid Loss: 0.624497 accuracy: 0.867000 \n"
          ]
        },
        {
          "output_type": "stream",
          "name": "stderr",
          "text": [
            "Training: 100%|██████████| 800/800 [07:27<00:00,  1.79it/s]\n"
          ]
        },
        {
          "output_type": "stream",
          "name": "stdout",
          "text": [
            "Época: 45/60  Momento: [2022-May-11 21:14:23] Train Loss: 0.000349 accuracy: 1.000000 Valid Loss: 0.611214 accuracy: 0.871200 \n"
          ]
        },
        {
          "output_type": "stream",
          "name": "stderr",
          "text": [
            "Training: 100%|██████████| 800/800 [07:27<00:00,  1.79it/s]\n"
          ]
        },
        {
          "output_type": "stream",
          "name": "stdout",
          "text": [
            "Época: 46/60  Momento: [2022-May-11 21:22:32] Train Loss: 0.000303 accuracy: 1.000000 Valid Loss: 0.613775 accuracy: 0.870700 \n"
          ]
        },
        {
          "output_type": "stream",
          "name": "stderr",
          "text": [
            "Training: 100%|██████████| 800/800 [07:28<00:00,  1.79it/s]\n"
          ]
        },
        {
          "output_type": "stream",
          "name": "stdout",
          "text": [
            "Época: 47/60  Momento: [2022-May-11 21:30:41] Train Loss: 0.000309 accuracy: 1.000000 Valid Loss: 0.621366 accuracy: 0.868800 \n"
          ]
        },
        {
          "output_type": "stream",
          "name": "stderr",
          "text": [
            "Training: 100%|██████████| 800/800 [07:27<00:00,  1.79it/s]\n"
          ]
        },
        {
          "output_type": "stream",
          "name": "stdout",
          "text": [
            "Época: 48/60  Momento: [2022-May-11 21:38:49] Train Loss: 0.000225 accuracy: 1.000000 Valid Loss: 0.613885 accuracy: 0.871500 \n"
          ]
        },
        {
          "output_type": "stream",
          "name": "stderr",
          "text": [
            "Training: 100%|██████████| 800/800 [07:27<00:00,  1.79it/s]\n"
          ]
        },
        {
          "output_type": "stream",
          "name": "stdout",
          "text": [
            "Época: 49/60  Momento: [2022-May-11 21:46:58] Train Loss: 0.000220 accuracy: 1.000000 Valid Loss: 0.614631 accuracy: 0.871700 \n"
          ]
        },
        {
          "output_type": "stream",
          "name": "stderr",
          "text": [
            "Training: 100%|██████████| 800/800 [07:27<00:00,  1.79it/s]\n"
          ]
        },
        {
          "output_type": "stream",
          "name": "stdout",
          "text": [
            "Época: 50/60  Momento: [2022-May-11 21:55:06] Train Loss: 0.000261 accuracy: 1.000000 Valid Loss: 0.615886 accuracy: 0.870200 \n"
          ]
        },
        {
          "output_type": "stream",
          "name": "stderr",
          "text": [
            "Training: 100%|██████████| 800/800 [07:27<00:00,  1.79it/s]\n"
          ]
        },
        {
          "output_type": "stream",
          "name": "stdout",
          "text": [
            "Época: 51/60  Momento: [2022-May-11 22:03:15] Train Loss: 0.000217 accuracy: 1.000000 Valid Loss: 0.625583 accuracy: 0.868600 \n"
          ]
        },
        {
          "output_type": "stream",
          "name": "stderr",
          "text": [
            "Training: 100%|██████████| 800/800 [07:27<00:00,  1.79it/s]\n"
          ]
        },
        {
          "output_type": "stream",
          "name": "stdout",
          "text": [
            "Época: 52/60  Momento: [2022-May-11 22:11:23] Train Loss: 0.000211 accuracy: 1.000000 Valid Loss: 0.628798 accuracy: 0.868700 \n"
          ]
        },
        {
          "output_type": "stream",
          "name": "stderr",
          "text": [
            "Training: 100%|██████████| 800/800 [07:27<00:00,  1.79it/s]\n"
          ]
        },
        {
          "output_type": "stream",
          "name": "stdout",
          "text": [
            "Época: 53/60  Momento: [2022-May-11 22:19:31] Train Loss: 0.000196 accuracy: 1.000000 Valid Loss: 0.619437 accuracy: 0.870000 \n"
          ]
        },
        {
          "output_type": "stream",
          "name": "stderr",
          "text": [
            "Training: 100%|██████████| 800/800 [07:27<00:00,  1.79it/s]\n"
          ]
        },
        {
          "output_type": "stream",
          "name": "stdout",
          "text": [
            "Época: 54/60  Momento: [2022-May-11 22:27:39] Train Loss: 0.000221 accuracy: 1.000000 Valid Loss: 0.619001 accuracy: 0.870200 \n"
          ]
        },
        {
          "output_type": "stream",
          "name": "stderr",
          "text": [
            "Training: 100%|██████████| 800/800 [07:27<00:00,  1.79it/s]\n"
          ]
        },
        {
          "output_type": "stream",
          "name": "stdout",
          "text": [
            "Época: 55/60  Momento: [2022-May-11 22:35:48] Train Loss: 0.000186 accuracy: 1.000000 Valid Loss: 0.616524 accuracy: 0.871100 \n"
          ]
        },
        {
          "output_type": "stream",
          "name": "stderr",
          "text": [
            "Training: 100%|██████████| 800/800 [07:27<00:00,  1.79it/s]\n"
          ]
        },
        {
          "output_type": "stream",
          "name": "stdout",
          "text": [
            "Época: 56/60  Momento: [2022-May-11 22:43:56] Train Loss: 0.000201 accuracy: 1.000000 Valid Loss: 0.620769 accuracy: 0.870400 \n"
          ]
        },
        {
          "output_type": "stream",
          "name": "stderr",
          "text": [
            "Training: 100%|██████████| 800/800 [07:27<00:00,  1.79it/s]\n"
          ]
        },
        {
          "output_type": "stream",
          "name": "stdout",
          "text": [
            "Época: 57/60  Momento: [2022-May-11 22:52:04] Train Loss: 0.000192 accuracy: 1.000000 Valid Loss: 0.623737 accuracy: 0.871900 \n"
          ]
        },
        {
          "output_type": "stream",
          "name": "stderr",
          "text": [
            "Training: 100%|██████████| 800/800 [07:27<00:00,  1.79it/s]\n"
          ]
        },
        {
          "output_type": "stream",
          "name": "stdout",
          "text": [
            "Época: 58/60  Momento: [2022-May-11 23:00:12] Train Loss: 0.000178 accuracy: 1.000000 Valid Loss: 0.616341 accuracy: 0.873100 \n"
          ]
        },
        {
          "output_type": "stream",
          "name": "stderr",
          "text": [
            "Training: 100%|██████████| 800/800 [07:27<00:00,  1.79it/s]\n"
          ]
        },
        {
          "output_type": "stream",
          "name": "stdout",
          "text": [
            "Época: 59/60  Momento: [2022-May-11 23:08:21] Train Loss: 0.000168 accuracy: 1.000000 Valid Loss: 0.616631 accuracy: 0.872100 \n"
          ]
        },
        {
          "output_type": "stream",
          "name": "stderr",
          "text": [
            "Training: 100%|██████████| 800/800 [07:27<00:00,  1.79it/s]\n"
          ]
        },
        {
          "output_type": "stream",
          "name": "stdout",
          "text": [
            "Época: 60/60  Momento: [2022-May-11 23:16:29] Train Loss: 0.000165 accuracy: 1.000000 Valid Loss: 0.635033 accuracy: 0.869000 \n",
            "Tempo gasto total 29298.64693, por época 488.31078\n",
            "Final: 60/60  Momento: [2022-May-11 23:16:29] Train Loss: 0.000165 accuracy: 1.000000 Valid Loss: 0.635033 accuracy: 0.869000 \n",
            " Resultado com dados de teste: {'teste/loss': 0.6199026496522129, 'teste/acc': 0.8674}\n",
            "Shutting down background jobs, please wait a moment...\n",
            "Done!\n"
          ]
        },
        {
          "output_type": "stream",
          "name": "stderr",
          "text": [
            "Waiting for the remaining 3 operations to synchronize with Neptune. Do not kill this process.\n"
          ]
        },
        {
          "output_type": "stream",
          "name": "stdout",
          "text": [
            "All 3 operations synced, thanks for waiting!\n",
            "Explore the metadata in Neptune UI:\n",
            "https://app.neptune.ai/marcusborela/IA025/e/COUNTXEMBE-60\n"
          ]
        },
        {
          "output_type": "display_data",
          "data": {
            "text/plain": [
              "<Figure size 432x288 with 1 Axes>"
            ],
            "image/png": "[encoded data removed]"
          },
          "metadata": {
            "needs_background": "light"
          }
        }
      ]
    },
    {
      "cell_type": "code",
      "source": [
        "history, best_epoch, best_model_dict = resultado"
      ],
      "metadata": {
        "id": "nKFPdw_adwda"
      },
      "execution_count": null,
      "outputs": []
    },
    {
      "cell_type": "code",
      "source": [
        "model.load_state_dict(best_model_dict)\n",
        "model.to(hparam['device'])\n",
        "best_epoch"
      ],
      "metadata": {
        "colab": {
          "base_uri": "https://localhost:8080/"
        },
        "id": "UIl_THF3dxIx",
        "outputId": "1465c9c8-c723-4964-e1f0-cc078a7fd78f"
      },
      "execution_count": null,
      "outputs": [
        {
          "output_type": "execute_result",
          "data": {
            "text/plain": [
              "58"
            ]
          },
          "metadata": {},
          "execution_count": 131
        }
      ]
    },
    {
      "cell_type": "code",
      "source": [
        "loss_test, acuracia_test = evaluation(model=model, loader=test_dataloader, parm_criterion=hparam['criterion'] )"
      ],
      "metadata": {
        "id": "yjJKC0VXd4R4"
      },
      "execution_count": null,
      "outputs": []
    },
    {
      "cell_type": "code",
      "source": [
        "loss_test, acuracia_test"
      ],
      "metadata": {
        "colab": {
          "base_uri": "https://localhost:8080/"
        },
        "id": "o59hMstXd_La",
        "outputId": "9542a614-90dd-4719-941d-810c321b55ee"
      },
      "execution_count": null,
      "outputs": [
        {
          "output_type": "execute_result",
          "data": {
            "text/plain": [
              "(0.6199026496522129, 0.8674)"
            ]
          },
          "metadata": {},
          "execution_count": 133
        }
      ]
    },
    {
      "cell_type": "code",
      "source": [
        ""
      ],
      "metadata": {
        "id": "yQwKo69Ws8WO"
      },
      "execution_count": null,
      "outputs": []
    },
    {
      "cell_type": "markdown",
      "source": [
        "# Bonus Opcional"
      ],
      "metadata": {
        "id": "tzelXYMkN7Gc"
      }
    },
    {
      "cell_type": "markdown",
      "source": [
        "## Implementando o Dropout"
      ],
      "metadata": {
        "id": "dfU_v7aPfq40"
      }
    },
    {
      "cell_type": "code",
      "source": [
        "class MyDropout(torch.nn.Module):\n",
        "    def __init__(self, p: float):\n",
        "      # Escreva seu código aqui.\n",
        "      # sobre distribuição binominal https://www.statisticshowto.com/probability-and-statistics/binomial-theorem/binomial-distribution-formula/\n",
        "      super().__init__()\n",
        "      if p < 0 or p > 1:\n",
        "          raise ValueError(\"dropout probability has to be between 0 and 1, \" \"but got {}\".format(p))\n",
        "      self.p = p\n",
        "      self.binomial = torch.distributions.binomial.Binomial(probs=1-self.p)\n",
        "\n",
        "    def forward(self, x: torch.Tensor, training: bool):\n",
        "      # Escreva seu código aqui.\n",
        "      # Fonte: https://stackoverflow.com/questions/54109617/implementing-dropout-from-scratch\n",
        "      if training: # aplicar dropout\n",
        "          return x * self.binomial.sample(x.size()) * (1.0/(1-self.p))\n",
        "          # por que multiplicar por binomial?\n",
        "          #   é uma matriz com 0 e 1 onde haver tantos 1s quanto for (1-p)\n",
        "          #   se p=0.25, a chance de manter o valor original (valor multiplicado por 1s) = 0.75 \n",
        "          # por que multiplicar por (1.0/(1-self.p)):  (1.0/0.75) = 1.333\n",
        "          # fonte https://www.quora.com/What-is-inverted-dropout\n",
        "          #    So , value = value/keep_probs is done to scale up during the training so that we don't have to do anything special in the test phase aswell , and this is called inverted Dropout.\n",
        "      return x\n"
      ],
      "metadata": {
        "id": "wRtpLJSFfsf8"
      },
      "execution_count": 18,
      "outputs": []
    },
    {
      "cell_type": "markdown",
      "source": [
        "## Mostre que sua implementação traz resultados semelhantes à implementação do pytorch"
      ],
      "metadata": {
        "id": "ROizI33sqE79"
      }
    },
    {
      "cell_type": "code",
      "source": [
        "import math\n",
        "x = torch.rand(16, 3, 32, 32)\n"
      ],
      "metadata": {
        "id": "i1TuxWbkqMJc"
      },
      "execution_count": 10,
      "outputs": []
    },
    {
      "cell_type": "code",
      "source": [
        "x.size()"
      ],
      "metadata": {
        "colab": {
          "base_uri": "https://localhost:8080/"
        },
        "id": "hZ_uAPG91qxC",
        "outputId": "35873106-d8c6-4889-bb0f-dfe8a2e81bae"
      },
      "execution_count": 11,
      "outputs": [
        {
          "output_type": "execute_result",
          "data": {
            "text/plain": [
              "torch.Size([16, 3, 32, 32])"
            ]
          },
          "metadata": {},
          "execution_count": 11
        }
      ]
    },
    {
      "cell_type": "code",
      "source": [
        "torch.distributions.binomial.Binomial(probs=1-0.25).sample(x.size())[0]"
      ],
      "metadata": {
        "colab": {
          "base_uri": "https://localhost:8080/"
        },
        "id": "ttOqmLey18bD",
        "outputId": "205025eb-91b9-4830-bbf7-a119e5c53b83"
      },
      "execution_count": 12,
      "outputs": [
        {
          "output_type": "execute_result",
          "data": {
            "text/plain": [
              "tensor([[[1., 1., 1.,  ..., 0., 1., 1.],\n",
              "         [1., 1., 0.,  ..., 1., 1., 0.],\n",
              "         [1., 1., 1.,  ..., 1., 1., 1.],\n",
              "         ...,\n",
              "         [1., 1., 1.,  ..., 1., 1., 1.],\n",
              "         [1., 1., 1.,  ..., 1., 1., 1.],\n",
              "         [0., 1., 1.,  ..., 0., 0., 1.]],\n",
              "\n",
              "        [[1., 1., 0.,  ..., 1., 1., 1.],\n",
              "         [1., 1., 0.,  ..., 0., 0., 1.],\n",
              "         [1., 1., 1.,  ..., 1., 1., 1.],\n",
              "         ...,\n",
              "         [1., 1., 1.,  ..., 0., 1., 1.],\n",
              "         [1., 1., 1.,  ..., 1., 1., 0.],\n",
              "         [1., 0., 1.,  ..., 0., 0., 0.]],\n",
              "\n",
              "        [[1., 1., 0.,  ..., 0., 0., 0.],\n",
              "         [0., 1., 1.,  ..., 1., 1., 1.],\n",
              "         [1., 1., 1.,  ..., 1., 1., 0.],\n",
              "         ...,\n",
              "         [1., 0., 1.,  ..., 1., 1., 1.],\n",
              "         [1., 1., 0.,  ..., 0., 1., 1.],\n",
              "         [1., 1., 1.,  ..., 0., 1., 1.]]])"
            ]
          },
          "metadata": {},
          "execution_count": 12
        }
      ]
    },
    {
      "cell_type": "code",
      "source": [
        "x[0]"
      ],
      "metadata": {
        "colab": {
          "base_uri": "https://localhost:8080/"
        },
        "id": "biW1sjK7vkBg",
        "outputId": "ffc4fb83-145e-43dc-e3a4-c21d8fe3907d"
      },
      "execution_count": 13,
      "outputs": [
        {
          "output_type": "execute_result",
          "data": {
            "text/plain": [
              "tensor([[[0.4121, 0.7596, 0.3519,  ..., 0.4683, 0.3652, 0.6456],\n",
              "         [0.2734, 0.6714, 0.4790,  ..., 0.9947, 0.8849, 0.0869],\n",
              "         [0.8896, 0.9032, 0.7519,  ..., 0.7327, 0.1041, 0.0110],\n",
              "         ...,\n",
              "         [0.9921, 0.7336, 0.3115,  ..., 0.7316, 0.8785, 0.0365],\n",
              "         [0.1298, 0.8667, 0.3315,  ..., 0.8996, 0.9992, 0.9648],\n",
              "         [0.7980, 0.5873, 0.3428,  ..., 0.3099, 0.3204, 0.8025]],\n",
              "\n",
              "        [[0.8650, 0.9940, 0.7035,  ..., 0.4337, 0.0961, 0.1234],\n",
              "         [0.1916, 0.8703, 0.6494,  ..., 0.2438, 0.4858, 0.6305],\n",
              "         [0.7784, 0.8817, 0.7607,  ..., 0.8480, 0.8366, 0.1406],\n",
              "         ...,\n",
              "         [0.6451, 0.3962, 0.0899,  ..., 0.9818, 0.5500, 0.6189],\n",
              "         [0.4589, 0.5832, 0.6849,  ..., 0.6172, 0.7261, 0.4788],\n",
              "         [0.9026, 0.3861, 0.9624,  ..., 0.7067, 0.4949, 0.9668]],\n",
              "\n",
              "        [[0.7435, 0.4635, 0.6772,  ..., 0.3016, 0.6281, 0.2681],\n",
              "         [0.1584, 0.4422, 0.5076,  ..., 0.0606, 0.6412, 0.6610],\n",
              "         [0.1399, 0.4807, 0.1815,  ..., 0.1939, 0.3633, 0.6467],\n",
              "         ...,\n",
              "         [0.8607, 0.5541, 0.0893,  ..., 0.4250, 0.6380, 0.8482],\n",
              "         [0.3618, 0.0484, 0.6518,  ..., 0.8503, 0.9017, 0.6589],\n",
              "         [0.9005, 0.9973, 0.2629,  ..., 0.7900, 0.9280, 0.0217]]])"
            ]
          },
          "metadata": {},
          "execution_count": 13
        }
      ]
    },
    {
      "cell_type": "code",
      "source": [
        "p = 0.5\n",
        "dropout = MyDropout(p=p)\n",
        "\n",
        "out = dropout(x, training=True)\n",
        "mean_zeros = (out == 0).sum() / out.numel()\n",
        "\n",
        "print(f'mean zeros: {mean_zeros}')\n"
      ],
      "metadata": {
        "colab": {
          "base_uri": "https://localhost:8080/"
        },
        "id": "57wYi-QFvifx",
        "outputId": "896587d1-4ec9-4059-ec15-c5ae9e837414"
      },
      "execution_count": 14,
      "outputs": [
        {
          "output_type": "stream",
          "name": "stdout",
          "text": [
            "mean zeros: 0.49896240234375\n"
          ]
        }
      ]
    },
    {
      "cell_type": "code",
      "source": [
        "out_pt = torch.nn.functional.dropout(x, p=p, training=True)\n",
        "mean_zeros_pt = (out_pt == 0).sum() / out_pt.numel()\n",
        "print(f'mean zeros pytorch: {mean_zeros_pt}')"
      ],
      "metadata": {
        "colab": {
          "base_uri": "https://localhost:8080/"
        },
        "id": "MhDX47gyvpwY",
        "outputId": "e2fcae28-755b-4f9d-e24e-1f4872ce452c"
      },
      "execution_count": 15,
      "outputs": [
        {
          "output_type": "stream",
          "name": "stdout",
          "text": [
            "mean zeros pytorch: 0.5030517578125\n"
          ]
        }
      ]
    },
    {
      "cell_type": "code",
      "source": [
        "assert math.isclose(mean_zeros, mean_zeros_pt, abs_tol=1e-2)"
      ],
      "metadata": {
        "id": "NMfixxOywOPR"
      },
      "execution_count": 16,
      "outputs": []
    },
    {
      "cell_type": "code",
      "source": [
        "out = dropout(x, training=False)\n",
        "target_out = torch.nn.functional.dropout(x, p=p, training=False, inplace=False)\n",
        "assert torch.allclose(out, target_out, atol=1e-6)"
      ],
      "metadata": {
        "id": "A81bdiM1v8lo"
      },
      "execution_count": 17,
      "outputs": []
    },
    {
      "cell_type": "markdown",
      "source": [
        "# Experimentações"
      ],
      "metadata": {
        "id": "triJFZt95Cdh"
      }
    },
    {
      "cell_type": "markdown",
      "source": [
        "## Execução em andamento (11/5/2022 21h46)\n",
        "\n",
        "resnet 34: sem reduzir dimensões 32x32 com dropout25 antes fc e antes avgpool\n",
        "\n",
        "https://app.neptune.ai/marcusborela/IA025/e/COUNTXEMBE-78\n",
        "\n",
        "\n"
      ],
      "metadata": {
        "id": "H0J-b2qWut8m"
      }
    },
    {
      "cell_type": "markdown",
      "source": [
        "## Versão menor de rede"
      ],
      "metadata": {
        "id": "3ZsqQuawfVh4"
      }
    },
    {
      "cell_type": "code",
      "source": [
        "class Net(torch.nn.Module):\n",
        "    \"\"\"\n",
        "      Visto que rede menor tende a não overfitar e alcançar bons resultados\n",
        "      Optei por diminuir o número de parâmetros da rede.\n",
        "      Fonte: resultados dos colegas Guilherme_Pereira e Leonardo_Pacheco\n",
        "    \"\"\"\n",
        "    def __init__(self, verbose=False):\n",
        "      \"\"\"\n",
        "      Se vai ser treinado no Cifar10, terá entrada torch.Size([n, 3, 32, 32])\n",
        "      num_canais = 3\n",
        "      image_height = 32, \n",
        "      image_weight = 32\n",
        "      num_classes = 10\n",
        "\n",
        "      Tentando implementar resnet34 conforme\n",
        "      https://www.kaggle.com/code/poonaml/building-resnet34-from-scratch-using-pytorch/notebook \n",
        "\n",
        "         https://www.analyticsvidhya.com/blog/2021/09/building-resnet-34-model-using-pytorch-a-guide-for-beginners/\n",
        "\n",
        "      \"\"\"\n",
        "      super(Net, self).__init__()\n",
        "      self.verbose = verbose\n",
        "      self.num_canais_entrada = 3\n",
        "      self.image_height = 32 \n",
        "      self.image_width = 32\n",
        "      self.num_classes = 10\n",
        "\n",
        "      #não reduzindo as dimensões altura e largura para evitar overfit e sem maxpool2d\n",
        "      # self.layer1 = make_layer(inplanes=3,planes=16, stride=1, blocks=1) # não muda\n",
        "      # self.layer2 = make_layer(inplanes=16,planes=32, stride=1, blocks=1) # não muda\n",
        "      # self.layer3 = make_layer(inplanes=32,planes=64, stride=1, blocks=1) # não muda\n",
        "      self.layer1 = MyBasicBlock(inplanes=3,planes=16, stride=1)\n",
        "      self.layer2 = MyBasicBlock(inplanes=16,planes=32, stride=1) # não muda\n",
        "      self.layer3 = MyBasicBlock(inplanes=32,planes=64, stride=1) # não muda\n",
        "      # self.dropout_25 = nn.Dropout(p=0.25)    \n",
        "      self.pooling = nn.MaxPool2d(kernel_size=2, stride=2, padding=1) # reduz pela metade dimensões + 1\n",
        "      self.full_connected1 = nn.Linear(64*17*17, 64)\n",
        "      self.full_connected2 = nn.Linear(64, self.num_classes)\n",
        "      self.relu = torch.nn.ReLU()        \n",
        "      \n",
        "    def forward(self, x):\n",
        "      \"\"\"\n",
        "        Blocos residuais de convolução aumentando canais em múltiplos de 2 até 64, maxpool apos blocos 3 e 4. Duas camadas fc. Dropout25 antes fcs.\n",
        "      \"\"\"\n",
        "      assert x.shape[1]==self.num_canais_entrada, f\"Numero de canais de entrada {x.shape[1]} diverge do esperado {self.num_canais_entrada} \" \n",
        "      assert x.shape[2]==self.image_height, f\"Image height de entrada {x.shape[1]} diverge do esperado {self.image_height} \" \n",
        "      assert x.shape[3]==self.image_width, f\"Image width de entrada {x.shape[1]} diverge do esperado {self.image_width} \" \n",
        "\n",
        "      # Escreva seu código aqui.\n",
        "      out = self.layer1(x)    # 32 x 32\n",
        "      if self.verbose:\n",
        "        print(f\"Após layer 1: out.shape = {out.shape}\")\n",
        "      out = self.layer2(out)   #  \n",
        "      if self.verbose:\n",
        "        print(f\"Após layer 2: out.shape = {out.shape}\")\n",
        "      out = self.layer3(out)   #  \n",
        "      if self.verbose:\n",
        "        print(f\"Após layer 3: out.shape = {out.shape}\")\n",
        "      \n",
        "      #comando para trace\n",
        "      # ipdb.set_trace(context=8)\n",
        "      out = self.pooling(out)   #  17x17 metade + 1\n",
        "      if self.verbose:\n",
        "        print(f\"Após pooling: out.shape = {out.shape}\")\n",
        "\n",
        "      # out = self.pooling(out)   #  8x8\n",
        "      #if self.verbose:\n",
        "      #  print(f\"Após pooling: out.shape = {out.shape}\")\n",
        "      \n",
        "      # out = torch.flatten(out, 1)     # remove 1 X 1 grid and make vector of tensor shape \n",
        "      out = out.view(-1, 64*17*17) \n",
        "\n",
        "      if self.verbose:\n",
        "        print(f\"Após flatten: out.shape = {out.shape}\")\n",
        "      \n",
        "      #out = self.dropout_25(out)\n",
        "      out = self.full_connected1(out)\n",
        "      if self.verbose:\n",
        "        print(f\"Após full_connected1: out.shape = {out.shape}\")\n",
        "\n",
        "      out = self.relu(out)\n",
        "      \n",
        "      #out = self.dropout_25(out)\n",
        "      out = self.full_connected2(out)\n",
        "      if self.verbose:\n",
        "        print(f\"Após full_connected1: out.shape = {out.shape}\")\n",
        "      if self.verbose:\n",
        "        raise Exception(\"Fim 1a passagem\")\n",
        "      return out"
      ],
      "metadata": {
        "id": "whWlY7G53X6Y"
      },
      "execution_count": null,
      "outputs": []
    },
    {
      "cell_type": "code",
      "source": [
        "gpu_info = !nvidia-smi\n",
        "gpu_info = '\\n'.join(gpu_info)\n",
        "if gpu_info.find('failed') >= 0:\n",
        "  print('Not connected to a GPU')\n",
        "else:\n",
        "  print(gpu_info)"
      ],
      "metadata": {
        "colab": {
          "base_uri": "https://localhost:8080/"
        },
        "id": "lG1BZ-WbQ-AY",
        "outputId": "3a672a75-7b59-4b88-e1df-049b12026234"
      },
      "execution_count": null,
      "outputs": [
        {
          "output_type": "stream",
          "name": "stdout",
          "text": [
            "Wed May 11 22:31:03 2022       \n",
            "+-----------------------------------------------------------------------------+\n",
            "| NVIDIA-SMI 460.32.03    Driver Version: 460.32.03    CUDA Version: 11.2     |\n",
            "|-------------------------------+----------------------+----------------------+\n",
            "| GPU  Name        Persistence-M| Bus-Id        Disp.A | Volatile Uncorr. ECC |\n",
            "| Fan  Temp  Perf  Pwr:Usage/Cap|         Memory-Usage | GPU-Util  Compute M. |\n",
            "|                               |                      |               MIG M. |\n",
            "|===============================+======================+======================|\n",
            "|   0  Tesla T4            Off  | 00000000:00:04.0 Off |                    0 |\n",
            "| N/A   68C    P0    30W /  70W |   1484MiB / 15109MiB |      0%      Default |\n",
            "|                               |                      |                  N/A |\n",
            "+-------------------------------+----------------------+----------------------+\n",
            "                                                                               \n",
            "+-----------------------------------------------------------------------------+\n",
            "| Processes:                                                                  |\n",
            "|  GPU   GI   CI        PID   Type   Process name                  GPU Memory |\n",
            "|        ID   ID                                                   Usage      |\n",
            "|=============================================================================|\n",
            "+-----------------------------------------------------------------------------+\n"
          ]
        }
      ]
    },
    {
      "cell_type": "markdown",
      "metadata": {
        "id": "pmXarXeIQT2O"
      },
      "source": [
        "### Laço de treinamento"
      ]
    },
    {
      "cell_type": "code",
      "source": [
        "# sempre inicializar os seeds antes para tornar os resultados comparáveis\n",
        "inicializa_seed(123)\n",
        "# model = ResNet34Like(verbose=False)\n",
        "model = Net(verbose=False)\n",
        "model.to(hparam['device'])\n",
        "print(f\"modelo no device {hparam['device']}\")"
      ],
      "metadata": {
        "id": "JVylBqkt3tUs",
        "colab": {
          "base_uri": "https://localhost:8080/"
        },
        "outputId": "bf40cdbc-fe6f-458d-a9ff-80948042547d"
      },
      "execution_count": null,
      "outputs": [
        {
          "output_type": "stream",
          "name": "stdout",
          "text": [
            "modelo no device cuda:0\n"
          ]
        }
      ]
    },
    {
      "cell_type": "code",
      "source": [
        "tag_rastro_experiencia_treino = 'TESTE Blocos residuais de convolução aumentando canais em múltiplos de 2 até 32, maxpool apos blocos 3. Duas camadas fc. fc2 entra 64. Sem dropout. Nova tentativa2'"
      ],
      "metadata": {
        "id": "isB9DkzOFfgB"
      },
      "execution_count": null,
      "outputs": []
    },
    {
      "cell_type": "code",
      "source": [
        "hparam['max_epochs'] = 3\n",
        "hparam['early_stop'] = 10\n",
        "hparam[\"learning_rate\"] = 0.01\n",
        "hparam['criterion'] = torch.nn.CrossEntropyLoss()\n",
        "hparam['optimizer'] = torch.optim.SGD(model.parameters(), hparam[\"learning_rate\"])\n",
        "# só documentando:\n",
        "hparam['num_classes']=10\n",
        "hparam['tag_experimento_especifica'] = tag_rastro_experiencia_treino\n",
        "hparam['num_parametros'] = count_parameters(model)\n",
        "hparam['num_batchs_por_epoca'] = len(train_dataloader)\n",
        "hparam['num_registros_dados_treino'] = len(train_dataloader.dataset)"
      ],
      "metadata": {
        "id": "fKxLHJnI6gdB"
      },
      "execution_count": null,
      "outputs": []
    },
    {
      "cell_type": "code",
      "source": [
        "hparam"
      ],
      "metadata": {
        "colab": {
          "base_uri": "https://localhost:8080/"
        },
        "id": "rxhARYge3T7-",
        "outputId": "c118f9a1-832c-4521-9e4c-38b8f6eb184e"
      },
      "execution_count": null,
      "outputs": [
        {
          "output_type": "execute_result",
          "data": {
            "text/plain": [
              "{'max_epochs': 3,\n",
              " 'num_classes': 10,\n",
              " 'num_workers_dataloader': 2,\n",
              " 'batch_size': 50,\n",
              " 'early_stop': 10,\n",
              " 'learning_rate': 0.01,\n",
              " 'criterion': CrossEntropyLoss(),\n",
              " 'device': device(type='cuda', index=0),\n",
              " 'train_size': 40000,\n",
              " 'val_size': 10000,\n",
              " 'optimizer': SGD (\n",
              " Parameter Group 0\n",
              "     dampening: 0\n",
              "     lr: 0.01\n",
              "     maximize: False\n",
              "     momentum: 0\n",
              "     nesterov: False\n",
              "     weight_decay: 0\n",
              " ),\n",
              " 'tag_experimento_especifica': 'TESTE Blocos residuais de convolução aumentando canais em múltiplos de 2 até 32, maxpool apos blocos 3. Duas camadas fc. fc2 entra 64. Sem dropout. Nova tentativa2',\n",
              " 'num_parametros': 1259370,\n",
              " 'num_batchs_por_epoca': 800,\n",
              " 'num_registros_dados_treino': 40000}"
            ]
          },
          "metadata": {},
          "execution_count": 177
        }
      ]
    },
    {
      "cell_type": "code",
      "source": [
        "resultado = treina_modelo(model, parm_loader_train=train_dataloader, parm_loader_valid=val_dataloader,\n",
        "                          parm_loader_test=test_dataloader, hparam=hparam,\n",
        "                          parm_tags_rastro=[\"aula6\", tag_rastro_experiencia_treino],\n",
        "                          parm_se_um_batch_por_epoca=False, parm_verbose=True, parm_intervalo_print=1)"
      ],
      "metadata": {
        "colab": {
          "base_uri": "https://localhost:8080/",
          "height": 1000
        },
        "id": "gvkI672YEgeS",
        "outputId": "1c905378-0a19-41bb-948a-a60d54b0bb5c"
      },
      "execution_count": null,
      "outputs": [
        {
          "output_type": "stream",
          "name": "stdout",
          "text": [
            "https://app.neptune.ai/marcusborela/IA025/e/COUNTXEMBE-89\n",
            "Remember to stop your run once you’ve finished logging your metadata (https://docs.neptune.ai/api-reference/run#.stop). It will be stopped automatically only when the notebook kernel/interactive console is terminated.\n",
            "Momento: [2022-May-11 22:53:35] Métricas iniciais em validação: loss_validacao=2.3036366617679596, acuracia_validacao=0.0968\n"
          ]
        },
        {
          "output_type": "stream",
          "name": "stderr",
          "text": [
            "Training: 100%|██████████| 800/800 [00:11<00:00, 67.96it/s]\n"
          ]
        },
        {
          "output_type": "stream",
          "name": "stdout",
          "text": [
            "Época: 1/70  Momento: [2022-May-11 22:53:48] Train Loss: 1.492226 accuracy: 0.455200 Valid Loss: 1.261189 accuracy: 0.539000 \n"
          ]
        },
        {
          "output_type": "stream",
          "name": "stderr",
          "text": [
            "Training: 100%|██████████| 800/800 [00:11<00:00, 67.20it/s]\n"
          ]
        },
        {
          "output_type": "stream",
          "name": "stdout",
          "text": [
            "Época: 2/70  Momento: [2022-May-11 22:54:02] Train Loss: 1.099293 accuracy: 0.606075 Valid Loss: 1.101182 accuracy: 0.608600 \n"
          ]
        },
        {
          "output_type": "stream",
          "name": "stderr",
          "text": [
            "Training: 100%|██████████| 800/800 [00:11<00:00, 67.25it/s]\n"
          ]
        },
        {
          "output_type": "stream",
          "name": "stdout",
          "text": [
            "Época: 3/70  Momento: [2022-May-11 22:54:15] Train Loss: 0.934078 accuracy: 0.668275 Valid Loss: 0.951436 accuracy: 0.666100 \n"
          ]
        },
        {
          "output_type": "stream",
          "name": "stderr",
          "text": [
            "Training: 100%|██████████| 800/800 [00:11<00:00, 67.00it/s]\n"
          ]
        },
        {
          "output_type": "stream",
          "name": "stdout",
          "text": [
            "Época: 4/70  Momento: [2022-May-11 22:54:29] Train Loss: 0.816278 accuracy: 0.712225 Valid Loss: 0.959862 accuracy: 0.666100 \n"
          ]
        },
        {
          "output_type": "stream",
          "name": "stderr",
          "text": [
            "Training: 100%|██████████| 800/800 [00:11<00:00, 66.93it/s]\n"
          ]
        },
        {
          "output_type": "stream",
          "name": "stdout",
          "text": [
            "Época: 5/70  Momento: [2022-May-11 22:54:43] Train Loss: 0.730243 accuracy: 0.743050 Valid Loss: 1.162070 accuracy: 0.610400 \n"
          ]
        },
        {
          "output_type": "stream",
          "name": "stderr",
          "text": [
            "Training: 100%|██████████| 800/800 [00:11<00:00, 67.23it/s]\n"
          ]
        },
        {
          "output_type": "stream",
          "name": "stdout",
          "text": [
            "Época: 6/70  Momento: [2022-May-11 22:54:56] Train Loss: 0.639936 accuracy: 0.773775 Valid Loss: 0.999557 accuracy: 0.671200 \n"
          ]
        },
        {
          "output_type": "stream",
          "name": "stderr",
          "text": [
            "Training: 100%|██████████| 800/800 [00:11<00:00, 67.41it/s]\n"
          ]
        },
        {
          "output_type": "stream",
          "name": "stdout",
          "text": [
            "Época: 7/70  Momento: [2022-May-11 22:55:10] Train Loss: 0.561117 accuracy: 0.804875 Valid Loss: 0.829420 accuracy: 0.713400 \n"
          ]
        },
        {
          "output_type": "stream",
          "name": "stderr",
          "text": [
            "Training: 100%|██████████| 800/800 [00:11<00:00, 67.27it/s]\n"
          ]
        },
        {
          "output_type": "stream",
          "name": "stdout",
          "text": [
            "Época: 8/70  Momento: [2022-May-11 22:55:23] Train Loss: 0.487545 accuracy: 0.829250 Valid Loss: 1.083676 accuracy: 0.666300 \n"
          ]
        },
        {
          "output_type": "stream",
          "name": "stderr",
          "text": [
            "Training: 100%|██████████| 800/800 [00:11<00:00, 67.31it/s]\n"
          ]
        },
        {
          "output_type": "stream",
          "name": "stdout",
          "text": [
            "Época: 9/70  Momento: [2022-May-11 22:55:37] Train Loss: 0.414015 accuracy: 0.856550 Valid Loss: 0.982667 accuracy: 0.682700 \n"
          ]
        },
        {
          "output_type": "stream",
          "name": "stderr",
          "text": [
            "Training: 100%|██████████| 800/800 [00:11<00:00, 67.03it/s]\n"
          ]
        },
        {
          "output_type": "stream",
          "name": "stdout",
          "text": [
            "Época: 10/70  Momento: [2022-May-11 22:55:50] Train Loss: 0.340857 accuracy: 0.885600 Valid Loss: 0.997451 accuracy: 0.698200 \n"
          ]
        },
        {
          "output_type": "stream",
          "name": "stderr",
          "text": [
            "Training: 100%|██████████| 800/800 [00:11<00:00, 67.15it/s]\n"
          ]
        },
        {
          "output_type": "stream",
          "name": "stdout",
          "text": [
            "Época: 11/70  Momento: [2022-May-11 22:56:04] Train Loss: 0.272550 accuracy: 0.908950 Valid Loss: 0.994177 accuracy: 0.702500 \n"
          ]
        },
        {
          "output_type": "stream",
          "name": "stderr",
          "text": [
            "Training: 100%|██████████| 800/800 [00:11<00:00, 67.32it/s]\n"
          ]
        },
        {
          "output_type": "stream",
          "name": "stdout",
          "text": [
            "Época: 12/70  Momento: [2022-May-11 22:56:18] Train Loss: 0.212482 accuracy: 0.930625 Valid Loss: 1.032859 accuracy: 0.705000 \n"
          ]
        },
        {
          "output_type": "stream",
          "name": "stderr",
          "text": [
            "Training: 100%|██████████| 800/800 [00:11<00:00, 67.16it/s]\n"
          ]
        },
        {
          "output_type": "stream",
          "name": "stdout",
          "text": [
            "Época: 13/70  Momento: [2022-May-11 22:56:31] Train Loss: 0.153476 accuracy: 0.952975 Valid Loss: 1.106697 accuracy: 0.697800 \n"
          ]
        },
        {
          "output_type": "stream",
          "name": "stderr",
          "text": [
            "Training: 100%|██████████| 800/800 [00:11<00:00, 67.30it/s]\n"
          ]
        },
        {
          "output_type": "stream",
          "name": "stdout",
          "text": [
            "Época: 14/70  Momento: [2022-May-11 22:56:45] Train Loss: 0.108633 accuracy: 0.969050 Valid Loss: 1.117450 accuracy: 0.711400 \n"
          ]
        },
        {
          "output_type": "stream",
          "name": "stderr",
          "text": [
            "Training: 100%|██████████| 800/800 [00:11<00:00, 67.28it/s]\n"
          ]
        },
        {
          "output_type": "stream",
          "name": "stdout",
          "text": [
            "Época: 15/70  Momento: [2022-May-11 22:56:58] Train Loss: 0.071768 accuracy: 0.983025 Valid Loss: 1.152345 accuracy: 0.709200 \n"
          ]
        },
        {
          "output_type": "stream",
          "name": "stderr",
          "text": [
            "Training: 100%|██████████| 800/800 [00:11<00:00, 67.34it/s]\n"
          ]
        },
        {
          "output_type": "stream",
          "name": "stdout",
          "text": [
            "Época: 16/70  Momento: [2022-May-11 22:57:12] Train Loss: 0.043732 accuracy: 0.992800 Valid Loss: 1.201633 accuracy: 0.713900 \n"
          ]
        },
        {
          "output_type": "stream",
          "name": "stderr",
          "text": [
            "Training: 100%|██████████| 800/800 [00:11<00:00, 67.25it/s]\n"
          ]
        },
        {
          "output_type": "stream",
          "name": "stdout",
          "text": [
            "Época: 17/70  Momento: [2022-May-11 22:57:26] Train Loss: 0.025306 accuracy: 0.997475 Valid Loss: 1.198153 accuracy: 0.724200 \n"
          ]
        },
        {
          "output_type": "stream",
          "name": "stderr",
          "text": [
            "Training: 100%|██████████| 800/800 [00:11<00:00, 67.27it/s]\n"
          ]
        },
        {
          "output_type": "stream",
          "name": "stdout",
          "text": [
            "Época: 18/70  Momento: [2022-May-11 22:57:39] Train Loss: 0.014362 accuracy: 0.999350 Valid Loss: 1.227562 accuracy: 0.726400 \n"
          ]
        },
        {
          "output_type": "stream",
          "name": "stderr",
          "text": [
            "Training: 100%|██████████| 800/800 [00:11<00:00, 67.08it/s]\n"
          ]
        },
        {
          "output_type": "stream",
          "name": "stdout",
          "text": [
            "Época: 19/70  Momento: [2022-May-11 22:57:53] Train Loss: 0.010578 accuracy: 0.999625 Valid Loss: 1.240950 accuracy: 0.726700 \n"
          ]
        },
        {
          "output_type": "stream",
          "name": "stderr",
          "text": [
            "Training: 100%|██████████| 800/800 [00:11<00:00, 67.45it/s]\n"
          ]
        },
        {
          "output_type": "stream",
          "name": "stdout",
          "text": [
            "Época: 20/70  Momento: [2022-May-11 22:58:06] Train Loss: 0.007420 accuracy: 1.000000 Valid Loss: 1.274180 accuracy: 0.727400 \n"
          ]
        },
        {
          "output_type": "stream",
          "name": "stderr",
          "text": [
            "Training: 100%|██████████| 800/800 [00:11<00:00, 67.22it/s]\n"
          ]
        },
        {
          "output_type": "stream",
          "name": "stdout",
          "text": [
            "Época: 21/70  Momento: [2022-May-11 22:58:20] Train Loss: 0.005873 accuracy: 0.999975 Valid Loss: 1.291653 accuracy: 0.726700 \n"
          ]
        },
        {
          "output_type": "stream",
          "name": "stderr",
          "text": [
            "Training: 100%|██████████| 800/800 [00:11<00:00, 67.24it/s]\n"
          ]
        },
        {
          "output_type": "stream",
          "name": "stdout",
          "text": [
            "Época: 22/70  Momento: [2022-May-11 22:58:34] Train Loss: 0.004842 accuracy: 1.000000 Valid Loss: 1.318619 accuracy: 0.726900 \n"
          ]
        },
        {
          "output_type": "stream",
          "name": "stderr",
          "text": [
            "Training: 100%|██████████| 800/800 [00:11<00:00, 67.09it/s]\n"
          ]
        },
        {
          "output_type": "stream",
          "name": "stdout",
          "text": [
            "Época: 23/70  Momento: [2022-May-11 22:58:47] Train Loss: 0.004285 accuracy: 0.999975 Valid Loss: 1.330013 accuracy: 0.726600 \n"
          ]
        },
        {
          "output_type": "stream",
          "name": "stderr",
          "text": [
            "Training: 100%|██████████| 800/800 [00:11<00:00, 67.09it/s]\n"
          ]
        },
        {
          "output_type": "stream",
          "name": "stdout",
          "text": [
            "Época: 24/70  Momento: [2022-May-11 22:59:01] Train Loss: 0.003850 accuracy: 0.999975 Valid Loss: 1.355829 accuracy: 0.727100 \n"
          ]
        },
        {
          "output_type": "stream",
          "name": "stderr",
          "text": [
            "Training: 100%|██████████| 800/800 [00:11<00:00, 67.17it/s]\n"
          ]
        },
        {
          "output_type": "stream",
          "name": "stdout",
          "text": [
            "Época: 25/70  Momento: [2022-May-11 22:59:14] Train Loss: 0.003415 accuracy: 0.999975 Valid Loss: 1.370042 accuracy: 0.727700 \n"
          ]
        },
        {
          "output_type": "stream",
          "name": "stderr",
          "text": [
            "Training: 100%|██████████| 800/800 [00:11<00:00, 67.36it/s]\n"
          ]
        },
        {
          "output_type": "stream",
          "name": "stdout",
          "text": [
            "Época: 26/70  Momento: [2022-May-11 22:59:28] Train Loss: 0.003057 accuracy: 1.000000 Valid Loss: 1.380078 accuracy: 0.729800 \n"
          ]
        },
        {
          "output_type": "stream",
          "name": "stderr",
          "text": [
            "Training: 100%|██████████| 800/800 [00:11<00:00, 67.08it/s]\n"
          ]
        },
        {
          "output_type": "stream",
          "name": "stdout",
          "text": [
            "Época: 27/70  Momento: [2022-May-11 22:59:42] Train Loss: 0.002876 accuracy: 0.999975 Valid Loss: 1.406768 accuracy: 0.729600 \n"
          ]
        },
        {
          "output_type": "stream",
          "name": "stderr",
          "text": [
            "Training: 100%|██████████| 800/800 [00:11<00:00, 67.10it/s]\n"
          ]
        },
        {
          "output_type": "stream",
          "name": "stdout",
          "text": [
            "Época: 28/70  Momento: [2022-May-11 22:59:55] Train Loss: 0.002601 accuracy: 1.000000 Valid Loss: 1.399648 accuracy: 0.730100 \n"
          ]
        },
        {
          "output_type": "stream",
          "name": "stderr",
          "text": [
            "Training: 100%|██████████| 800/800 [00:11<00:00, 67.28it/s]\n"
          ]
        },
        {
          "output_type": "stream",
          "name": "stdout",
          "text": [
            "Época: 29/70  Momento: [2022-May-11 23:00:09] Train Loss: 0.002353 accuracy: 1.000000 Valid Loss: 1.449134 accuracy: 0.724600 \n"
          ]
        },
        {
          "output_type": "stream",
          "name": "stderr",
          "text": [
            "Training: 100%|██████████| 800/800 [00:11<00:00, 67.32it/s]\n"
          ]
        },
        {
          "output_type": "stream",
          "name": "stdout",
          "text": [
            "Época: 30/70  Momento: [2022-May-11 23:00:22] Train Loss: 0.002217 accuracy: 1.000000 Valid Loss: 1.425072 accuracy: 0.728400 \n"
          ]
        },
        {
          "output_type": "stream",
          "name": "stderr",
          "text": [
            "Training: 100%|██████████| 800/800 [00:11<00:00, 66.98it/s]\n"
          ]
        },
        {
          "output_type": "stream",
          "name": "stdout",
          "text": [
            "Época: 31/70  Momento: [2022-May-11 23:00:36] Train Loss: 0.002039 accuracy: 1.000000 Valid Loss: 1.426656 accuracy: 0.728400 \n"
          ]
        },
        {
          "output_type": "stream",
          "name": "stderr",
          "text": [
            "Training: 100%|██████████| 800/800 [00:11<00:00, 67.05it/s]\n"
          ]
        },
        {
          "output_type": "stream",
          "name": "stdout",
          "text": [
            "Época: 32/70  Momento: [2022-May-11 23:00:50] Train Loss: 0.001901 accuracy: 1.000000 Valid Loss: 1.436256 accuracy: 0.728800 \n"
          ]
        },
        {
          "output_type": "stream",
          "name": "stderr",
          "text": [
            "Training: 100%|██████████| 800/800 [00:11<00:00, 67.24it/s]\n"
          ]
        },
        {
          "output_type": "stream",
          "name": "stdout",
          "text": [
            "Época: 33/70  Momento: [2022-May-11 23:01:03] Train Loss: 0.001801 accuracy: 1.000000 Valid Loss: 1.449564 accuracy: 0.728100 \n"
          ]
        },
        {
          "output_type": "stream",
          "name": "stderr",
          "text": [
            "Training: 100%|██████████| 800/800 [00:12<00:00, 66.17it/s]\n"
          ]
        },
        {
          "output_type": "stream",
          "name": "stdout",
          "text": [
            "Época: 34/70  Momento: [2022-May-11 23:01:17] Train Loss: 0.001697 accuracy: 1.000000 Valid Loss: 1.464654 accuracy: 0.728500 \n"
          ]
        },
        {
          "output_type": "stream",
          "name": "stderr",
          "text": [
            "Training: 100%|██████████| 800/800 [00:11<00:00, 66.79it/s]\n"
          ]
        },
        {
          "output_type": "stream",
          "name": "stdout",
          "text": [
            "Época: 35/70  Momento: [2022-May-11 23:01:31] Train Loss: 0.001572 accuracy: 1.000000 Valid Loss: 1.471301 accuracy: 0.729400 \n"
          ]
        },
        {
          "output_type": "stream",
          "name": "stderr",
          "text": [
            "Training: 100%|██████████| 800/800 [00:12<00:00, 66.58it/s]\n"
          ]
        },
        {
          "output_type": "stream",
          "name": "stdout",
          "text": [
            "Época: 36/70  Momento: [2022-May-11 23:01:45] Train Loss: 0.001547 accuracy: 1.000000 Valid Loss: 1.470046 accuracy: 0.731600 \n"
          ]
        },
        {
          "output_type": "stream",
          "name": "stderr",
          "text": [
            "Training: 100%|██████████| 800/800 [00:11<00:00, 67.26it/s]\n"
          ]
        },
        {
          "output_type": "stream",
          "name": "stdout",
          "text": [
            "Época: 37/70  Momento: [2022-May-11 23:01:58] Train Loss: 0.001448 accuracy: 1.000000 Valid Loss: 1.478358 accuracy: 0.729800 \n"
          ]
        },
        {
          "output_type": "stream",
          "name": "stderr",
          "text": [
            "Training: 100%|██████████| 800/800 [00:11<00:00, 67.38it/s]\n"
          ]
        },
        {
          "output_type": "stream",
          "name": "stdout",
          "text": [
            "Época: 38/70  Momento: [2022-May-11 23:02:12] Train Loss: 0.001354 accuracy: 1.000000 Valid Loss: 1.488220 accuracy: 0.729700 \n"
          ]
        },
        {
          "output_type": "stream",
          "name": "stderr",
          "text": [
            "Training: 100%|██████████| 800/800 [00:11<00:00, 67.27it/s]\n"
          ]
        },
        {
          "output_type": "stream",
          "name": "stdout",
          "text": [
            "Época: 39/70  Momento: [2022-May-11 23:02:25] Train Loss: 0.001308 accuracy: 1.000000 Valid Loss: 1.496323 accuracy: 0.729200 \n"
          ]
        },
        {
          "output_type": "stream",
          "name": "stderr",
          "text": [
            "Training: 100%|██████████| 800/800 [00:11<00:00, 67.15it/s]\n"
          ]
        },
        {
          "output_type": "stream",
          "name": "stdout",
          "text": [
            "Época: 40/70  Momento: [2022-May-11 23:02:39] Train Loss: 0.001239 accuracy: 1.000000 Valid Loss: 1.504336 accuracy: 0.728700 \n"
          ]
        },
        {
          "output_type": "stream",
          "name": "stderr",
          "text": [
            "Training: 100%|██████████| 800/800 [00:11<00:00, 67.01it/s]\n"
          ]
        },
        {
          "output_type": "stream",
          "name": "stdout",
          "text": [
            "Época: 41/70  Momento: [2022-May-11 23:02:53] Train Loss: 0.001335 accuracy: 0.999975 Valid Loss: 1.501904 accuracy: 0.728000 \n"
          ]
        },
        {
          "output_type": "stream",
          "name": "stderr",
          "text": [
            "Training: 100%|██████████| 800/800 [00:11<00:00, 67.30it/s]\n"
          ]
        },
        {
          "output_type": "stream",
          "name": "stdout",
          "text": [
            "Época: 42/70  Momento: [2022-May-11 23:03:06] Train Loss: 0.001187 accuracy: 1.000000 Valid Loss: 1.526273 accuracy: 0.729200 \n"
          ]
        },
        {
          "output_type": "stream",
          "name": "stderr",
          "text": [
            "Training: 100%|██████████| 800/800 [00:11<00:00, 67.04it/s]\n"
          ]
        },
        {
          "output_type": "stream",
          "name": "stdout",
          "text": [
            "Época: 43/70  Momento: [2022-May-11 23:03:20] Train Loss: 0.001120 accuracy: 1.000000 Valid Loss: 1.530230 accuracy: 0.728900 \n"
          ]
        },
        {
          "output_type": "stream",
          "name": "stderr",
          "text": [
            "Training: 100%|██████████| 800/800 [00:11<00:00, 67.39it/s]\n"
          ]
        },
        {
          "output_type": "stream",
          "name": "stdout",
          "text": [
            "Época: 44/70  Momento: [2022-May-11 23:03:33] Train Loss: 0.001048 accuracy: 1.000000 Valid Loss: 1.518045 accuracy: 0.730200 \n"
          ]
        },
        {
          "output_type": "stream",
          "name": "stderr",
          "text": [
            "Training: 100%|██████████| 800/800 [00:11<00:00, 66.82it/s]\n"
          ]
        },
        {
          "output_type": "stream",
          "name": "stdout",
          "text": [
            "Época: 45/70  Momento: [2022-May-11 23:03:47] Train Loss: 0.001059 accuracy: 1.000000 Valid Loss: 1.530474 accuracy: 0.729700 \n"
          ]
        },
        {
          "output_type": "stream",
          "name": "stderr",
          "text": [
            "Training: 100%|██████████| 800/800 [00:11<00:00, 67.25it/s]\n"
          ]
        },
        {
          "output_type": "stream",
          "name": "stdout",
          "text": [
            "Época: 46/70  Momento: [2022-May-11 23:04:01] Train Loss: 0.000978 accuracy: 1.000000 Valid Loss: 1.536508 accuracy: 0.730300 \n",
            "Parando por critério de early_stop\n",
            "Tempo gasto total 625.99032, por época  13.60849\n",
            "Final: 46/70  Momento: [2022-May-11 23:04:01] Train Loss: 0.000978 accuracy: 1.000000 Valid Loss: 1.536508 accuracy: 0.730300 \n",
            " Resultado com dados de teste: {'teste/loss': 1.501392382979393, 'teste/acc': 0.7304}\n",
            "Shutting down background jobs, please wait a moment...\n",
            "Done!\n"
          ]
        },
        {
          "output_type": "stream",
          "name": "stderr",
          "text": [
            "Waiting for the remaining 34 operations to synchronize with Neptune. Do not kill this process.\n"
          ]
        },
        {
          "output_type": "stream",
          "name": "stdout",
          "text": [
            "All 34 operations synced, thanks for waiting!\n",
            "Explore the metadata in Neptune UI:\n",
            "https://app.neptune.ai/marcusborela/IA025/e/COUNTXEMBE-89\n"
          ]
        },
        {
          "output_type": "display_data",
          "data": {
            "text/plain": [
              "<Figure size 432x288 with 1 Axes>"
            ],
            "image/png": "[encoded data removed]"
          },
          "metadata": {
            "needs_background": "light"
          }
        }
      ]
    },
    {
      "cell_type": "code",
      "source": [
        "resultado\n"
      ],
      "metadata": {
        "colab": {
          "base_uri": "https://localhost:8080/"
        },
        "id": "b3n5KqL68JoX",
        "outputId": "e2f334b5-9b10-4271-e5ee-1d7ff692773a"
      },
      "execution_count": null,
      "outputs": [
        {
          "output_type": "execute_result",
          "data": {
            "text/plain": [
              "{'acuracia_test': 0.7304,\n",
              " 'acuracia_treino': 1.0,\n",
              " 'best_acuracia_validacao': 0.7316,\n",
              " 'best_epoch': 36}"
            ]
          },
          "metadata": {},
          "execution_count": 137
        }
      ]
    },
    {
      "cell_type": "markdown",
      "source": [
        "## Outros experimentos"
      ],
      "metadata": {
        "id": "cYGvO2git1YO"
      }
    },
    {
      "cell_type": "markdown",
      "source": [
        "### Blocos residuais de convolução aumentando canais em múltiplos de 2 até 32, maxpool apos bloco 3, deixando 17. Duas camadas fc. fc2 entra 64. Sem dropout\n",
        "\n",
        "https://app.neptune.ai/marcusborela/IA025/e/COUNTXEMBE-89\n",
        "\n",
        "{'acuracia_test': 0.7304,\n",
        " 'acuracia_treino': 1.0,\n",
        " 'best_acuracia_validacao': 0.7316,\n",
        " 'best_epoch': 36}"
      ],
      "metadata": {
        "id": "_edpmW-vLrr_"
      }
    },
    {
      "cell_type": "markdown",
      "source": [
        "Blocos residuais de convolução aumentando canais em múltiplos de 2 até 64, maxpool apos blocos 3 e 4. Duas camadas fc. Sem dropout.\n",
        "\n",
        "https://app.neptune.ai/marcusborela/IA025/e/COUNTXEMBE-84\n",
        "\n",
        "{'acuracia_test': 0.784,\n",
        " 'acuracia_treino': 0.9999749660491943,\n",
        " 'best_acuracia_validacao': 0.7861,\n",
        " 'best_epoch': 25}"
      ],
      "metadata": {
        "id": "_SLT4JliNqsd"
      }
    },
    {
      "cell_type": "markdown",
      "source": [
        "Blocos residuais de convolução aumentando canais em múltiplos de 2 até 64, maxpool apos blocos 3 e 4. Duas camadas fc. Dropout25 antes fcs.\n",
        "\n",
        "https://app.neptune.ai/marcusborela/IA025/e/COUNTXEMBE-83\n",
        "\n",
        "{'acuracia_test': 0.7799,\n",
        " 'acuracia_treino': 0.9537999629974365,\n",
        " 'best_acuracia_validacao': 0.8019,\n",
        " 'best_epoch': 29}"
      ],
      "metadata": {
        "id": "RrwZb-kILr4l"
      }
    },
    {
      "cell_type": "markdown",
      "source": [
        "## resnet 34: reduzir dimensões 32x32 após layer 2; com dropout25 antes fc e antes avgpool\n",
        "\n",
        "https://app.neptune.ai/marcusborela/IA025/e/COUNTXEMBE-77\n",
        "\n",
        "{'acuracia_test': 0.7907,\n",
        " 'acuracia_treino': 0.9968249797821045,\n",
        " 'best_acuracia_validacao': 0.8055,\n",
        " 'best_epoch': 37}\n",
        "\n"
      ],
      "metadata": {
        "id": "Oy7zuqbFOnQ-"
      }
    },
    {
      "cell_type": "markdown",
      "source": [
        "## até layer 2 com cnn (1 bloco residual), max 64 canais, reduzindo dimensão nas layers, com avgpool após primeira, com dropout\n",
        "\n",
        "https://app.neptune.ai/marcusborela/IA025/e/COUNTXEMBE-74\n",
        "\n",
        "{'acuracia_test': 0.6912,\n",
        " 'acuracia_treino': 0.9008499979972839,\n",
        " 'best_acuracia_validacao': 0.7128,\n",
        " 'best_epoch': 46}"
      ],
      "metadata": {
        "id": "U6T5tuLgkSXQ"
      }
    },
    {
      "cell_type": "markdown",
      "source": [
        "## até layer 2 com cnn (1 bloco residual), max 64 canais, sem avgpool, maxpool apos layers, dropout 50% antes fc\n",
        "\n",
        "https://app.neptune.ai/marcusborela/IA025/e/COUNTXEMBE-70\n",
        "\n",
        "{'acuracia_test': 0.803, 'acuracia_treino': 1, 'best_acuracia_validacao': 0.7997, 'best_epoch': 72}"
      ],
      "metadata": {
        "id": "OT_VLFPBgwQV"
      }
    },
    {
      "cell_type": "markdown",
      "source": [
        "## até layer 2 com cnn, max 64 canais, sem avgpool, maxpool apos layers, dropout 50% antes fc\n",
        "\n",
        "https://app.neptune.ai/marcusborela/IA025/e/COUNTXEMBE-70\n",
        "\n",
        "{'acuracia_test': 0.803,\n",
        " 'acuracia_treino': 1,\n",
        " 'best_acuracia_validacao': 0.7997,\n",
        " 'best_epoch': 72}"
      ],
      "metadata": {
        "id": "wlXsB2U1OU_B"
      }
    },
    {
      "cell_type": "markdown",
      "source": [
        "### até layer 2 com cnn (1 bloco residual), max 64 canais, sem avgpool, maxpool apos layers, sem dropout\n",
        "\n",
        "https://app.neptune.ai/marcusborela/IA025/e/COUNTXEMBE-71\n",
        "\n",
        "{'acuracia_test': 0.7845,\n",
        " 'acuracia_treino': 1,\n",
        " 'best_acuracia_validacao': 0.7836,\n",
        " 'best_epoch': 39}"
      ],
      "metadata": {
        "id": "VSWs7RuLOVK3"
      }
    },
    {
      "cell_type": "markdown",
      "source": [
        "### até layer 2 com cnn, sem avgpool, maxpool apos layers, dropout 50% antes fc\n",
        "\n",
        "https://app.neptune.ai/marcusborela/IA025/e/COUNTXEMBE-66\n",
        "\n",
        "{'acuracia_test': 0.6669, 'acuracia_treino': 1, 'best_acuracia_validacao': 0.7337, 'best_epoch': 13}"
      ],
      "metadata": {
        "id": "GXvTUGUf9tTh"
      }
    },
    {
      "cell_type": "markdown",
      "source": [
        "### até layer 2 com cnn, sem avgpool, maxpool apos layers, sem dropout\n",
        "\n",
        "https://app.neptune.ai/marcusborela/IA025/e/COUNTXEMBE-67\n",
        "\n",
        "{'acuracia_test': 0.6629, 'acuracia_treino': 1, 'best_acuracia_validacao': 0.7779, 'best_epoch': 18}"
      ],
      "metadata": {
        "id": "QZbDwdA49bRe"
      }
    },
    {
      "cell_type": "markdown",
      "source": [
        "### cnn até layer 5, layer1 da resnet, sem avgpool, maxpool apos layers 2, dropout 50% antes fc\n",
        "\n",
        "https://app.neptune.ai/marcusborela/IA025/e/COUNTXEMBE-63\n",
        "\n",
        "{'acuracia_test': 0.6669, 'best_acuracia_validacao': 0.7337, 'best_epoch': 13}"
      ],
      "metadata": {
        "id": "1g6QnnZQ0Q8x"
      }
    },
    {
      "cell_type": "markdown",
      "source": [
        "### cnn resnet-like, reduzindo dimensões até 4x4 (layer3), com avgpool, sem dropout\n",
        "\n",
        "https://app.neptune.ai/marcusborela/IA025/e/COUNTXEMBE-62\n",
        "\n",
        "{'acuracia_test': 0.6629, 'best_acuracia_validacao': 0.7779, 'best_epoch': 18}"
      ],
      "metadata": {
        "id": "VYX-Fo6et1W9"
      }
    },
    {
      "cell_type": "markdown",
      "source": [
        "### cnn até layer 3, sem avgpool, maxpool apos layers 1 e 2, dropout 50% antes fc\n",
        "\n",
        "https://app.neptune.ai/marcusborela/IA025/e/COUNTXEMBE-59\n",
        "\n",
        "{'acuracia_test': 0.7971, 'best_acuracia_validacao': 0.7981, 'best_epoch': 30}"
      ],
      "metadata": {
        "id": "ESrenDD8t1jV"
      }
    },
    {
      "cell_type": "markdown",
      "source": [
        "### cnn resnet só até layer 3, sem reduzir dimensões 32x32, dropout 50% antes e depois avgpool\n",
        "\n",
        "https://app.neptune.ai/marcusborela/IA025/e/COUNTXEMBE-57   (early stop)\n",
        "\n",
        "{'acuracia_test': 0.6629, 'best_acuracia_validacao': 0.7779, 'best_epoch': 18}"
      ],
      "metadata": {
        "id": "oxiC-Satpwsg"
      }
    },
    {
      "cell_type": "markdown",
      "source": [
        "### resnet 34: cnn só até layer 3, sem reduzir dimensões 32x32\n",
        "\n",
        "https://app.neptune.ai/marcusborela/IA025/e/COUNTXEMBE-53"
      ],
      "metadata": {
        "id": "AHQ2oZjwdGae"
      }
    },
    {
      "cell_type": "markdown",
      "source": [
        "### Tentativa 2 - resnet 34 sem alguns strides e sem última camada e sem diminuir dimensões altura e largura"
      ],
      "metadata": {
        "id": "wP5SdVLS4vEC"
      }
    },
    {
      "cell_type": "code",
      "source": [
        "https://app.neptune.ai/marcusborela/IA025/e/COUNTXEMBE-46"
      ],
      "metadata": {
        "id": "YyjzP2Hl42TZ"
      },
      "execution_count": null,
      "outputs": []
    },
    {
      "cell_type": "markdown",
      "source": [
        "### resnet 34 sem alguns strides e sem última camada\n",
        "\n",
        "https://app.neptune.ai/marcusborela/IA025/e/COUNTXEMBE-44 "
      ],
      "metadata": {
        "id": "47AWF5PDFnbI"
      }
    },
    {
      "cell_type": "markdown",
      "source": [
        "{'teste/acc': 0.7931, 'teste/loss': 1.3087301406264304}"
      ],
      "metadata": {
        "id": "nP0Og8iHIJ0v"
      }
    },
    {
      "cell_type": "markdown",
      "source": [
        "# Rascunhos"
      ],
      "metadata": {
        "id": "2QzKbjhXfVgZ"
      }
    },
    {
      "cell_type": "code",
      "source": [
        "raise Exception(\"Abaixo só rascunho - não cabe execuções fora de contexto \")"
      ],
      "metadata": {
        "id": "hLUFBWkP6dw4"
      },
      "execution_count": null,
      "outputs": []
    }
  ]
}