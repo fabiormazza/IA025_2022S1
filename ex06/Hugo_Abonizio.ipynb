{
  "nbformat": 4,
  "nbformat_minor": 0,
  "metadata": {
    "anaconda-cloud": {},
    "kernelspec": {
      "display_name": "Python 3",
      "language": "python",
      "name": "python3"
    },
    "language_info": {
      "codemirror_mode": {
        "name": "ipython",
        "version": 3
      },
      "file_extension": ".py",
      "mimetype": "text/x-python",
      "name": "python",
      "nbconvert_exporter": "python",
      "pygments_lexer": "ipython3",
      "version": "3.6.5"
    },
    "toc": {
      "nav_menu": {
        "height": "318px",
        "width": "252px"
      },
      "number_sections": true,
      "sideBar": true,
      "skip_h1_title": false,
      "toc_cell": false,
      "toc_position": {},
      "toc_section_display": "block",
      "toc_window_display": false
    },
    "colab": {
      "name": "Aula 6 - Exercício - Hugo Abonizio",
      "provenance": [],
      "collapsed_sections": [],
      "include_colab_link": true
    },
    "accelerator": "GPU"
  },
  "cells": [
    {
      "cell_type": "markdown",
      "metadata": {
        "id": "view-in-github",
        "colab_type": "text"
      },
      "source": [
        "<a href=\"https://colab.research.google.com/github/unicamp-dl/IA025_2022S1/blob/main/ex06/Hugo_Abonizio.ipynb\" target=\"_parent\"><img src=\"https://colab.research.google.com/assets/colab-badge.svg\" alt=\"Open In Colab\"/></a>"
      ]
    },
    {
      "cell_type": "markdown",
      "source": [
        "# Treinamento de uma CNN no CIFAR 10"
      ],
      "metadata": {
        "id": "iElOLxevKJJy"
      }
    },
    {
      "cell_type": "code",
      "source": [
        "nome = 'Hugo Abonizio'\n",
        "\n",
        "print(f'Meu nome é {nome}')"
      ],
      "metadata": {
        "id": "CdORg7oe68oq",
        "colab": {
          "base_uri": "https://localhost:8080/"
        },
        "outputId": "f4456b61-8e13-45be-c035-6d0280e6958d"
      },
      "execution_count": 1,
      "outputs": [
        {
          "output_type": "stream",
          "name": "stdout",
          "text": [
            "Meu nome é Hugo Abonizio\n"
          ]
        }
      ]
    },
    {
      "cell_type": "markdown",
      "metadata": {
        "id": "WkfGTqMVQT1u"
      },
      "source": [
        "Este exercicío consiste em implementar e treinar no CIFAR-10 vários blocos de uma Resnet seguido de uma camada linear de classificação."
      ]
    },
    {
      "cell_type": "markdown",
      "metadata": {
        "id": "wFNf4RPxQT1w"
      },
      "source": [
        "## Importação das bibliotecas"
      ]
    },
    {
      "cell_type": "code",
      "metadata": {
        "ExecuteTime": {
          "end_time": "2018-08-21T14:08:14.033692Z",
          "start_time": "2018-08-21T14:08:11.179981Z"
        },
        "id": "-fLUSHaCQT1x"
      },
      "source": [
        "%matplotlib inline\n",
        "import numpy as np\n",
        "import matplotlib.pyplot as plt\n",
        "import random\n",
        "import torch\n",
        "import torchvision\n",
        "from torch.utils.data import DataLoader\n",
        "from torchvision.datasets import MNIST"
      ],
      "execution_count": 2,
      "outputs": []
    },
    {
      "cell_type": "markdown",
      "source": [
        "## Fixando as seeds"
      ],
      "metadata": {
        "id": "7_Po22b5ykhK"
      }
    },
    {
      "cell_type": "code",
      "source": [
        "random.seed(123)\n",
        "np.random.seed(123)\n",
        "torch.manual_seed(123)"
      ],
      "metadata": {
        "id": "y-7WWWgLyoRq",
        "colab": {
          "base_uri": "https://localhost:8080/"
        },
        "outputId": "6146e0ef-0eef-4e5b-c183-a741b1d3e22a"
      },
      "execution_count": 3,
      "outputs": [
        {
          "output_type": "execute_result",
          "data": {
            "text/plain": [
              "<torch._C.Generator at 0x7f807ae53f90>"
            ]
          },
          "metadata": {},
          "execution_count": 3
        }
      ]
    },
    {
      "cell_type": "markdown",
      "metadata": {
        "id": "jEMUsfJpQT11"
      },
      "source": [
        "## Dataset e dataloader"
      ]
    },
    {
      "cell_type": "markdown",
      "metadata": {
        "id": "vHoQjDs_QT12"
      },
      "source": [
        "### Definição do tamanho do minibatch"
      ]
    },
    {
      "cell_type": "code",
      "metadata": {
        "ExecuteTime": {
          "end_time": "2018-08-21T14:08:20.282474Z",
          "start_time": "2018-08-21T14:08:20.275450Z"
        },
        "id": "tEQYUr4TQT13"
      },
      "source": [
        "batch_size = 50"
      ],
      "execution_count": 4,
      "outputs": []
    },
    {
      "cell_type": "markdown",
      "metadata": {
        "id": "dc7Rv_2BQT16"
      },
      "source": [
        "## Download do CIFAR-10"
      ]
    },
    {
      "cell_type": "code",
      "metadata": {
        "id": "TRgD9zSDMBc4",
        "colab": {
          "base_uri": "https://localhost:8080/"
        },
        "outputId": "2d842299-51ce-4678-a6c5-fa44b739aaff"
      },
      "source": [
        "!mkdir ./data\n",
        "\n",
        "transform = torchvision.transforms.Compose(\n",
        "    [torchvision.transforms.ToTensor(),\n",
        "     torchvision.transforms.Normalize((0.5, 0.5, 0.5), (0.5, 0.5, 0.5))])\n",
        "\n",
        "train_dataset = torchvision.datasets.CIFAR10(root='./data', train=True,\n",
        "                                             download=True, transform=transform)\n",
        "\n",
        "test_dataset = torchvision.datasets.CIFAR10(root='./data', train=False,\n",
        "                                            download=True, transform=transform)\n"
      ],
      "execution_count": 5,
      "outputs": [
        {
          "output_type": "stream",
          "name": "stdout",
          "text": [
            "mkdir: cannot create directory ‘./data’: File exists\n",
            "Files already downloaded and verified\n",
            "Files already downloaded and verified\n"
          ]
        }
      ]
    },
    {
      "cell_type": "markdown",
      "metadata": {
        "id": "CKjEufC1MdvP"
      },
      "source": [
        "## Criação do dataloader"
      ]
    },
    {
      "cell_type": "code",
      "metadata": {
        "id": "K9sXttHBTzCM"
      },
      "source": [
        "train_size = 40000\n",
        "val_size = 10000\n",
        "train_dataset, val_dataset = torch.utils.data.random_split(train_dataset, [train_size, val_size])"
      ],
      "execution_count": 6,
      "outputs": []
    },
    {
      "cell_type": "code",
      "metadata": {
        "id": "80JCOzh7MdvQ",
        "colab": {
          "base_uri": "https://localhost:8080/"
        },
        "outputId": "fcdc4dbb-c4fc-4495-b42e-fdaed76a11f6"
      },
      "source": [
        "batch_size = 50\n",
        "\n",
        "train_dataloader = DataLoader(train_dataset, batch_size=batch_size, shuffle=True)\n",
        "val_dataloader = DataLoader(val_dataset, batch_size=batch_size, shuffle=False)\n",
        "test_dataloader = DataLoader(test_dataset, batch_size=batch_size, shuffle=False)\n",
        "\n",
        "print('Número de minibatches de trenamento:', len(train_dataloader))\n",
        "print('Número de minibatches de validação:', len(val_dataloader))\n",
        "print('Número de minibatches de teste:', len(test_dataloader))\n",
        "\n",
        "x_train, y_train = next(iter(train_dataloader))\n",
        "print(\"\\nDimensões dos dados de um minibatch:\", x_train.size())\n",
        "print(\"Valores mínimo e máximo dos pixels: \", torch.min(x_train), torch.max(x_train))\n",
        "print(\"Tipo dos dados das imagens:         \", type(x_train))\n",
        "print(\"Tipo das classes das imagens:       \", type(y_train))"
      ],
      "execution_count": 7,
      "outputs": [
        {
          "output_type": "stream",
          "name": "stdout",
          "text": [
            "Número de minibatches de trenamento: 800\n",
            "Número de minibatches de validação: 200\n",
            "Número de minibatches de teste: 200\n",
            "\n",
            "Dimensões dos dados de um minibatch: torch.Size([50, 3, 32, 32])\n",
            "Valores mínimo e máximo dos pixels:  tensor(-1.) tensor(1.)\n",
            "Tipo dos dados das imagens:          <class 'torch.Tensor'>\n",
            "Tipo das classes das imagens:        <class 'torch.Tensor'>\n"
          ]
        }
      ]
    },
    {
      "cell_type": "markdown",
      "source": [
        "## Implementando o Bloco Básico da Resnet"
      ],
      "metadata": {
        "id": "g-kdiLu_SM_2"
      }
    },
    {
      "cell_type": "markdown",
      "source": [
        "![Captura de Tela 2022-05-04 às 14.55.34.png](data:image/png;base64,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)"
      ],
      "metadata": {
        "id": "bfdeGBNfNvWe"
      }
    },
    {
      "cell_type": "code",
      "source": [
        "from torch import nn\n",
        "from torch import Tensor\n",
        "\n",
        "class MyBasicBlock(nn.Module):\n",
        "    def __init__(\n",
        "        self,\n",
        "        inplanes: int,\n",
        "        planes: int,\n",
        "        stride: int = 1,\n",
        "    ) -> None:\n",
        "        super().__init__()\n",
        "        self.conv1 = nn.Conv2d(inplanes, planes, kernel_size=3, stride=stride, bias=False, padding=1)\n",
        "        self.bn1 = nn.BatchNorm2d(planes)\n",
        "\n",
        "        self.conv2 = nn.Conv2d(planes, planes, kernel_size=3, stride=1, bias=False, padding=1)\n",
        "        self.bn2 = nn.BatchNorm2d(planes)\n",
        "\n",
        "        self.downsample = nn.Conv2d(inplanes, planes, kernel_size=1, stride=stride, padding=0, groups=1, bias=False, dilation=1)\n",
        "        self.relu = nn.ReLU()\n",
        "\n",
        "\n",
        "    def forward(self, x: Tensor) -> Tensor:\n",
        "        out = self.conv1(x)\n",
        "        out = self.bn1(out)\n",
        "\n",
        "        out = self.relu(out)\n",
        "\n",
        "        out = self.conv2(out)\n",
        "        out = self.bn2(out)\n",
        "\n",
        "        out += self.downsample(x)\n",
        "        out = self.relu(out)\n",
        "\n",
        "        return out"
      ],
      "metadata": {
        "id": "8nPklpkxSQpR"
      },
      "execution_count": 8,
      "outputs": []
    },
    {
      "cell_type": "markdown",
      "source": [
        "## Compare se sua implementação está igual à do pytorch usando um exemplo aleatório"
      ],
      "metadata": {
        "id": "cUpvt6G5b3aL"
      }
    },
    {
      "cell_type": "code",
      "source": [
        "import torchvision\n",
        "\n",
        "height_in = 5\n",
        "width_in = 5\n",
        "inplanes = 2\n",
        "planes = 3\n",
        "stride = 2\n",
        "\n",
        "x = torch.rand(1, inplanes, height_in, width_in)\n",
        "\n",
        "block = MyBasicBlock(inplanes=inplanes, planes=planes, stride=stride)\n",
        "\n",
        "downsample = nn.Conv2d(inplanes, planes, kernel_size=1, stride=stride, padding=0, groups=1, bias=False, dilation=1)\n",
        "\n",
        "block_pt = torchvision.models.resnet.BasicBlock(inplanes=inplanes, planes=planes, stride=stride, downsample=downsample)\n",
        "\n",
        "# Usa os mesmos pesos para minha implementação e a do pytorch\n",
        "block.load_state_dict(block_pt.state_dict())\n",
        "\n",
        "out = block(x)\n",
        "target_out = block_pt(x)\n",
        "\n",
        "print(f'out:\\n{out}')\n",
        "print(f'target_out:\\n{target_out}')\n",
        "\n",
        "assert torch.allclose(out, target_out, atol=1e-6)"
      ],
      "metadata": {
        "id": "dmXEL5xLbSzS",
        "colab": {
          "base_uri": "https://localhost:8080/"
        },
        "outputId": "ce1a4dc5-afd4-4ce5-8dbc-cedc1f9cb08a"
      },
      "execution_count": 9,
      "outputs": [
        {
          "output_type": "stream",
          "name": "stdout",
          "text": [
            "out:\n",
            "tensor([[[[0.2084, 0.0000, 0.1053],\n",
            "          [1.2176, 1.7145, 0.0000],\n",
            "          [2.1509, 0.0000, 0.0000]],\n",
            "\n",
            "         [[0.0000, 1.4478, 0.0000],\n",
            "          [0.0000, 0.0000, 0.0000],\n",
            "          [0.6579, 0.5231, 0.0000]],\n",
            "\n",
            "         [[0.0000, 0.8983, 1.1205],\n",
            "          [0.0000, 0.0000, 0.0225],\n",
            "          [0.0000, 0.8017, 0.5681]]]], grad_fn=<ReluBackward0>)\n",
            "target_out:\n",
            "tensor([[[[0.2084, 0.0000, 0.1053],\n",
            "          [1.2176, 1.7145, 0.0000],\n",
            "          [2.1509, 0.0000, 0.0000]],\n",
            "\n",
            "         [[0.0000, 1.4478, 0.0000],\n",
            "          [0.0000, 0.0000, 0.0000],\n",
            "          [0.6579, 0.5231, 0.0000]],\n",
            "\n",
            "         [[0.0000, 0.8983, 1.1205],\n",
            "          [0.0000, 0.0000, 0.0225],\n",
            "          [0.0000, 0.8017, 0.5681]]]], grad_fn=<ReluBackward0>)\n"
          ]
        }
      ]
    },
    {
      "cell_type": "markdown",
      "metadata": {
        "id": "BQA9Zg7GQT2G"
      },
      "source": [
        "## Modelo\n",
        "\n",
        "Implemente um modelo de classificação que será treinado no CIFAR-10."
      ]
    },
    {
      "cell_type": "markdown",
      "source": [
        "![Captura de tela de 2022-05-11 15-03-33.png](data:image/png;base64,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)"
      ],
      "metadata": {
        "id": "L0TfwxWsSsCQ"
      }
    },
    {
      "cell_type": "code",
      "metadata": {
        "ExecuteTime": {
          "end_time": "2018-08-20T21:03:10.802708Z",
          "start_time": "2018-08-20T21:03:10.793287Z"
        },
        "id": "_8Eg4h_kQT2H"
      },
      "source": [
        "class Net(torch.nn.Module):\n",
        "    def __init__(self):\n",
        "        super().__init__()\n",
        "        self.conv1 = nn.Conv2d(3, 64, kernel_size=7, stride=2, padding=3, bias=False)\n",
        "        self.bn1 = nn.BatchNorm2d(64)\n",
        "        self.relu = nn.ReLU()\n",
        "\n",
        "        self.layer1 = MyBasicBlock(inplanes=64, planes=64)\n",
        "        self.layer2 = MyBasicBlock(inplanes=64, planes=128)\n",
        "        self.layer3 = MyBasicBlock(inplanes=128, planes=256)\n",
        "        self.layer4 = MyBasicBlock(inplanes=256, planes=512)\n",
        "\n",
        "        self.classifier = nn.Linear(512, 10)\n",
        "\n",
        "        self.maxpool = nn.MaxPool2d(kernel_size=3, stride=2, padding=1)\n",
        "        self.avgpool = nn.AdaptiveAvgPool2d((1, 1))\n",
        "\n",
        "    def forward(self, x):\n",
        "        out = self.conv1(x)\n",
        "        out = self.bn1(out)\n",
        "        out = self.relu(out)\n",
        "        out = self.maxpool(out)\n",
        "\n",
        "        out = self.layer1(out)\n",
        "        out = self.layer2(out)\n",
        "        out = self.layer3(out)\n",
        "        out = self.layer4(out)\n",
        "\n",
        "        out = self.avgpool(out)\n",
        "        out = torch.flatten(out, start_dim=1)\n",
        "        out = self.classifier(out)\n",
        "        return out"
      ],
      "execution_count": 15,
      "outputs": []
    },
    {
      "cell_type": "code",
      "source": [
        "print(torch.flatten(nn.MaxPool2d((1,1))(torch.rand(2, 3, 3, 3)), 1).shape)\n",
        "print(torch.flatten(nn.AdaptiveAvgPool2d((1,1))(torch.rand(2, 3, 3, 3)), 1).shape)"
      ],
      "metadata": {
        "colab": {
          "base_uri": "https://localhost:8080/"
        },
        "id": "HwS-Mc_kez1Q",
        "outputId": "8eae8f7b-5ae4-4a9b-ee56-d78f04243805"
      },
      "execution_count": 26,
      "outputs": [
        {
          "output_type": "stream",
          "name": "stdout",
          "text": [
            "torch.Size([2, 27])\n",
            "torch.Size([2, 3])\n"
          ]
        }
      ]
    },
    {
      "cell_type": "markdown",
      "metadata": {
        "id": "0NHQB4wGQT2K"
      },
      "source": [
        "## Treinamento"
      ]
    },
    {
      "cell_type": "markdown",
      "metadata": {
        "id": "nqs2JhJoQT2L"
      },
      "source": [
        "### Definição dos hiperparâmetros"
      ]
    },
    {
      "cell_type": "code",
      "metadata": {
        "ExecuteTime": {
          "end_time": "2018-08-20T21:03:14.146259Z",
          "start_time": "2018-08-20T21:03:14.139515Z"
        },
        "id": "oZuYEkn_QT2M"
      },
      "source": [
        "n_epochs = 20\n",
        "lr = 0.1"
      ],
      "execution_count": 11,
      "outputs": []
    },
    {
      "cell_type": "markdown",
      "source": [
        "### Detectando a GPU"
      ],
      "metadata": {
        "id": "xJ2f5CLLvcPn"
      }
    },
    {
      "cell_type": "code",
      "source": [
        "device = torch.device('cuda' if torch.cuda.is_available() else 'cpu')"
      ],
      "metadata": {
        "id": "Sfm3nnALvfET"
      },
      "execution_count": 12,
      "outputs": []
    },
    {
      "cell_type": "code",
      "source": [
        "@torch.no_grad()\n",
        "def evaluation(model, loader):\n",
        "    model.eval()\n",
        "    correct = 0\n",
        "    total = 0\n",
        "    for (inputs, targets) in tqdm(loader, desc='Validation'):\n",
        "      inputs = inputs.to(device)\n",
        "      targets = targets.to(device)\n",
        "      outputs = model(inputs)\n",
        "      correct += (outputs.argmax(dim=1) == targets).sum().item()\n",
        "      total += len(targets)\n",
        "    \n",
        "    mean_accuracy = correct / total\n",
        "    print(f'Accuracy: {(mean_accuracy * 100):.2f}%')\n",
        "    return mean_accuracy"
      ],
      "metadata": {
        "id": "3CaFvrKRh3L7"
      },
      "execution_count": 13,
      "outputs": []
    },
    {
      "cell_type": "markdown",
      "metadata": {
        "id": "pmXarXeIQT2O"
      },
      "source": [
        "### Laço de treinamento"
      ]
    },
    {
      "cell_type": "code",
      "metadata": {
        "ExecuteTime": {
          "end_time": "2018-08-20T21:03:40.796410Z",
          "start_time": "2018-08-20T21:03:39.771981Z"
        },
        "id": "L5T_jZZPQT2P",
        "colab": {
          "base_uri": "https://localhost:8080/"
        },
        "outputId": "3d8eafd7-111a-4098-d1e9-4ee213d20cea"
      },
      "source": [
        "from tqdm import tqdm\n",
        "\n",
        "def count_parameters(model):\n",
        "    return sum(p.numel() for p in model.parameters() if p.requires_grad)\n",
        "\n",
        "\n",
        "model = Net()\n",
        "\n",
        "best_accuracy = 0\n",
        "\n",
        "print('Parameters', count_parameters(model))\n",
        "\n",
        "model.to(device)\n",
        "criterion = torch.nn.CrossEntropyLoss()\n",
        "optimizer = torch.optim.SGD(model.parameters(), lr)\n",
        "scheduler = torch.optim.lr_scheduler.StepLR(optimizer, step_size=5, gamma=0.1)\n",
        "\n",
        "epochs = []\n",
        "loss_history = []\n",
        "loss_epoch_end = []\n",
        "total_trained_samples = 0\n",
        "\n",
        "# Primeira avaliação com pesos aleatórios\n",
        "evaluation(model=model, loader=val_dataloader)\n",
        "\n",
        "for i in range(n_epochs):\n",
        "    model.train()\n",
        "    for x_train, y_train in tqdm(train_dataloader, total=len(train_dataloader), desc='Training'):\n",
        "        x_train = x_train.to(device)\n",
        "        y_train = y_train.to(device)\n",
        "\n",
        "        # predict da rede\n",
        "        outputs = model(x_train)\n",
        "\n",
        "        # calcula a perda\n",
        "        loss = criterion(outputs, y_train)\n",
        "\n",
        "        # zero, backpropagation, ajusta parâmetros pelo gradiente descendente\n",
        "        optimizer.zero_grad()\n",
        "        loss.backward()\n",
        "        optimizer.step()\n",
        "\n",
        "        total_trained_samples += x_train.size(0)\n",
        "        epochs.append(total_trained_samples / len(train_dataset))\n",
        "        loss_history.append(loss.item())\n",
        "\n",
        "    loss_epoch_end.append(loss.item())\n",
        "    print(f'Epoch: {i:d}/{n_epochs - 1:d} Loss: {loss.item()}')\n",
        "\n",
        "    # Chama a função de validação no final de cada época\n",
        "    val_accuracy = evaluation(model=model, loader=val_dataloader)\n",
        "    if val_accuracy > best_accuracy:\n",
        "      best_accuracy = val_accuracy\n",
        "      torch.save(model, 'best_model.pt')\n",
        "    scheduler.step()"
      ],
      "execution_count": 16,
      "outputs": [
        {
          "output_type": "stream",
          "name": "stdout",
          "text": [
            "Parameters 4913226\n"
          ]
        },
        {
          "output_type": "stream",
          "name": "stderr",
          "text": [
            "Validation: 100%|██████████| 200/200 [00:03<00:00, 52.90it/s]\n"
          ]
        },
        {
          "output_type": "stream",
          "name": "stdout",
          "text": [
            "Accuracy: 11.02%\n"
          ]
        },
        {
          "output_type": "stream",
          "name": "stderr",
          "text": [
            "Training: 100%|██████████| 800/800 [00:20<00:00, 38.90it/s]\n"
          ]
        },
        {
          "output_type": "stream",
          "name": "stdout",
          "text": [
            "Epoch: 0/19 Loss: 1.2638322114944458\n"
          ]
        },
        {
          "output_type": "stream",
          "name": "stderr",
          "text": [
            "Validation: 100%|██████████| 200/200 [00:03<00:00, 61.13it/s]\n"
          ]
        },
        {
          "output_type": "stream",
          "name": "stdout",
          "text": [
            "Accuracy: 55.50%\n"
          ]
        },
        {
          "output_type": "stream",
          "name": "stderr",
          "text": [
            "Training: 100%|██████████| 800/800 [00:20<00:00, 38.79it/s]\n"
          ]
        },
        {
          "output_type": "stream",
          "name": "stdout",
          "text": [
            "Epoch: 1/19 Loss: 1.155524730682373\n"
          ]
        },
        {
          "output_type": "stream",
          "name": "stderr",
          "text": [
            "Validation: 100%|██████████| 200/200 [00:04<00:00, 47.20it/s]\n"
          ]
        },
        {
          "output_type": "stream",
          "name": "stdout",
          "text": [
            "Accuracy: 66.57%\n"
          ]
        },
        {
          "output_type": "stream",
          "name": "stderr",
          "text": [
            "Training: 100%|██████████| 800/800 [00:20<00:00, 38.60it/s]\n"
          ]
        },
        {
          "output_type": "stream",
          "name": "stdout",
          "text": [
            "Epoch: 2/19 Loss: 0.6638139486312866\n"
          ]
        },
        {
          "output_type": "stream",
          "name": "stderr",
          "text": [
            "Validation: 100%|██████████| 200/200 [00:03<00:00, 62.24it/s]\n"
          ]
        },
        {
          "output_type": "stream",
          "name": "stdout",
          "text": [
            "Accuracy: 69.37%\n"
          ]
        },
        {
          "output_type": "stream",
          "name": "stderr",
          "text": [
            "Training: 100%|██████████| 800/800 [00:20<00:00, 39.33it/s]\n"
          ]
        },
        {
          "output_type": "stream",
          "name": "stdout",
          "text": [
            "Epoch: 3/19 Loss: 0.6657536029815674\n"
          ]
        },
        {
          "output_type": "stream",
          "name": "stderr",
          "text": [
            "Validation: 100%|██████████| 200/200 [00:03<00:00, 62.76it/s]\n"
          ]
        },
        {
          "output_type": "stream",
          "name": "stdout",
          "text": [
            "Accuracy: 72.56%\n"
          ]
        },
        {
          "output_type": "stream",
          "name": "stderr",
          "text": [
            "Training: 100%|██████████| 800/800 [00:20<00:00, 39.27it/s]\n"
          ]
        },
        {
          "output_type": "stream",
          "name": "stdout",
          "text": [
            "Epoch: 4/19 Loss: 0.6733107566833496\n"
          ]
        },
        {
          "output_type": "stream",
          "name": "stderr",
          "text": [
            "Validation: 100%|██████████| 200/200 [00:03<00:00, 61.78it/s]\n"
          ]
        },
        {
          "output_type": "stream",
          "name": "stdout",
          "text": [
            "Accuracy: 73.37%\n"
          ]
        },
        {
          "output_type": "stream",
          "name": "stderr",
          "text": [
            "Training: 100%|██████████| 800/800 [00:20<00:00, 38.93it/s]\n"
          ]
        },
        {
          "output_type": "stream",
          "name": "stdout",
          "text": [
            "Epoch: 5/19 Loss: 0.5448660850524902\n"
          ]
        },
        {
          "output_type": "stream",
          "name": "stderr",
          "text": [
            "Validation: 100%|██████████| 200/200 [00:03<00:00, 61.85it/s]\n"
          ]
        },
        {
          "output_type": "stream",
          "name": "stdout",
          "text": [
            "Accuracy: 80.91%\n"
          ]
        },
        {
          "output_type": "stream",
          "name": "stderr",
          "text": [
            "Training: 100%|██████████| 800/800 [00:20<00:00, 39.11it/s]\n"
          ]
        },
        {
          "output_type": "stream",
          "name": "stdout",
          "text": [
            "Epoch: 6/19 Loss: 0.33929643034935\n"
          ]
        },
        {
          "output_type": "stream",
          "name": "stderr",
          "text": [
            "Validation: 100%|██████████| 200/200 [00:03<00:00, 61.18it/s]\n"
          ]
        },
        {
          "output_type": "stream",
          "name": "stdout",
          "text": [
            "Accuracy: 81.28%\n"
          ]
        },
        {
          "output_type": "stream",
          "name": "stderr",
          "text": [
            "Training: 100%|██████████| 800/800 [00:20<00:00, 38.89it/s]\n"
          ]
        },
        {
          "output_type": "stream",
          "name": "stdout",
          "text": [
            "Epoch: 7/19 Loss: 0.22111481428146362\n"
          ]
        },
        {
          "output_type": "stream",
          "name": "stderr",
          "text": [
            "Validation: 100%|██████████| 200/200 [00:03<00:00, 60.21it/s]\n"
          ]
        },
        {
          "output_type": "stream",
          "name": "stdout",
          "text": [
            "Accuracy: 80.99%\n"
          ]
        },
        {
          "output_type": "stream",
          "name": "stderr",
          "text": [
            "Training: 100%|██████████| 800/800 [00:20<00:00, 39.08it/s]\n"
          ]
        },
        {
          "output_type": "stream",
          "name": "stdout",
          "text": [
            "Epoch: 8/19 Loss: 0.26004844903945923\n"
          ]
        },
        {
          "output_type": "stream",
          "name": "stderr",
          "text": [
            "Validation: 100%|██████████| 200/200 [00:03<00:00, 62.01it/s]\n"
          ]
        },
        {
          "output_type": "stream",
          "name": "stdout",
          "text": [
            "Accuracy: 81.03%\n"
          ]
        },
        {
          "output_type": "stream",
          "name": "stderr",
          "text": [
            "Training: 100%|██████████| 800/800 [00:20<00:00, 38.87it/s]\n"
          ]
        },
        {
          "output_type": "stream",
          "name": "stdout",
          "text": [
            "Epoch: 9/19 Loss: 0.2152995616197586\n"
          ]
        },
        {
          "output_type": "stream",
          "name": "stderr",
          "text": [
            "Validation: 100%|██████████| 200/200 [00:03<00:00, 61.30it/s]\n"
          ]
        },
        {
          "output_type": "stream",
          "name": "stdout",
          "text": [
            "Accuracy: 80.66%\n"
          ]
        },
        {
          "output_type": "stream",
          "name": "stderr",
          "text": [
            "Training: 100%|██████████| 800/800 [00:20<00:00, 39.06it/s]\n"
          ]
        },
        {
          "output_type": "stream",
          "name": "stdout",
          "text": [
            "Epoch: 10/19 Loss: 0.22383847832679749\n"
          ]
        },
        {
          "output_type": "stream",
          "name": "stderr",
          "text": [
            "Validation: 100%|██████████| 200/200 [00:03<00:00, 61.70it/s]\n"
          ]
        },
        {
          "output_type": "stream",
          "name": "stdout",
          "text": [
            "Accuracy: 81.45%\n"
          ]
        },
        {
          "output_type": "stream",
          "name": "stderr",
          "text": [
            "Training: 100%|██████████| 800/800 [00:20<00:00, 39.17it/s]\n"
          ]
        },
        {
          "output_type": "stream",
          "name": "stdout",
          "text": [
            "Epoch: 11/19 Loss: 0.22189635038375854\n"
          ]
        },
        {
          "output_type": "stream",
          "name": "stderr",
          "text": [
            "Validation: 100%|██████████| 200/200 [00:03<00:00, 59.76it/s]\n"
          ]
        },
        {
          "output_type": "stream",
          "name": "stdout",
          "text": [
            "Accuracy: 81.30%\n"
          ]
        },
        {
          "output_type": "stream",
          "name": "stderr",
          "text": [
            "Training: 100%|██████████| 800/800 [00:20<00:00, 38.60it/s]\n"
          ]
        },
        {
          "output_type": "stream",
          "name": "stdout",
          "text": [
            "Epoch: 12/19 Loss: 0.2842593491077423\n"
          ]
        },
        {
          "output_type": "stream",
          "name": "stderr",
          "text": [
            "Validation: 100%|██████████| 200/200 [00:03<00:00, 61.30it/s]\n"
          ]
        },
        {
          "output_type": "stream",
          "name": "stdout",
          "text": [
            "Accuracy: 81.48%\n"
          ]
        },
        {
          "output_type": "stream",
          "name": "stderr",
          "text": [
            "Training: 100%|██████████| 800/800 [00:20<00:00, 39.12it/s]\n"
          ]
        },
        {
          "output_type": "stream",
          "name": "stdout",
          "text": [
            "Epoch: 13/19 Loss: 0.14383751153945923\n"
          ]
        },
        {
          "output_type": "stream",
          "name": "stderr",
          "text": [
            "Validation: 100%|██████████| 200/200 [00:03<00:00, 61.78it/s]\n"
          ]
        },
        {
          "output_type": "stream",
          "name": "stdout",
          "text": [
            "Accuracy: 81.49%\n"
          ]
        },
        {
          "output_type": "stream",
          "name": "stderr",
          "text": [
            "Training: 100%|██████████| 800/800 [00:20<00:00, 38.80it/s]\n"
          ]
        },
        {
          "output_type": "stream",
          "name": "stdout",
          "text": [
            "Epoch: 14/19 Loss: 0.3072074055671692\n"
          ]
        },
        {
          "output_type": "stream",
          "name": "stderr",
          "text": [
            "Validation: 100%|██████████| 200/200 [00:03<00:00, 61.37it/s]\n"
          ]
        },
        {
          "output_type": "stream",
          "name": "stdout",
          "text": [
            "Accuracy: 81.48%\n"
          ]
        },
        {
          "output_type": "stream",
          "name": "stderr",
          "text": [
            "Training: 100%|██████████| 800/800 [00:25<00:00, 31.06it/s]\n"
          ]
        },
        {
          "output_type": "stream",
          "name": "stdout",
          "text": [
            "Epoch: 15/19 Loss: 0.13656413555145264\n"
          ]
        },
        {
          "output_type": "stream",
          "name": "stderr",
          "text": [
            "Validation: 100%|██████████| 200/200 [00:03<00:00, 60.78it/s]\n"
          ]
        },
        {
          "output_type": "stream",
          "name": "stdout",
          "text": [
            "Accuracy: 81.40%\n"
          ]
        },
        {
          "output_type": "stream",
          "name": "stderr",
          "text": [
            "Training: 100%|██████████| 800/800 [00:20<00:00, 38.93it/s]\n"
          ]
        },
        {
          "output_type": "stream",
          "name": "stdout",
          "text": [
            "Epoch: 16/19 Loss: 0.26059237122535706\n"
          ]
        },
        {
          "output_type": "stream",
          "name": "stderr",
          "text": [
            "Validation: 100%|██████████| 200/200 [00:03<00:00, 60.73it/s]\n"
          ]
        },
        {
          "output_type": "stream",
          "name": "stdout",
          "text": [
            "Accuracy: 81.55%\n"
          ]
        },
        {
          "output_type": "stream",
          "name": "stderr",
          "text": [
            "Training: 100%|██████████| 800/800 [00:20<00:00, 39.33it/s]\n"
          ]
        },
        {
          "output_type": "stream",
          "name": "stdout",
          "text": [
            "Epoch: 17/19 Loss: 0.1817285418510437\n"
          ]
        },
        {
          "output_type": "stream",
          "name": "stderr",
          "text": [
            "Validation: 100%|██████████| 200/200 [00:04<00:00, 49.56it/s]\n"
          ]
        },
        {
          "output_type": "stream",
          "name": "stdout",
          "text": [
            "Accuracy: 81.54%\n"
          ]
        },
        {
          "output_type": "stream",
          "name": "stderr",
          "text": [
            "Training: 100%|██████████| 800/800 [00:20<00:00, 39.22it/s]\n"
          ]
        },
        {
          "output_type": "stream",
          "name": "stdout",
          "text": [
            "Epoch: 18/19 Loss: 0.22035515308380127\n"
          ]
        },
        {
          "output_type": "stream",
          "name": "stderr",
          "text": [
            "Validation: 100%|██████████| 200/200 [00:03<00:00, 62.63it/s]\n"
          ]
        },
        {
          "output_type": "stream",
          "name": "stdout",
          "text": [
            "Accuracy: 81.54%\n"
          ]
        },
        {
          "output_type": "stream",
          "name": "stderr",
          "text": [
            "Training: 100%|██████████| 800/800 [00:20<00:00, 38.74it/s]\n"
          ]
        },
        {
          "output_type": "stream",
          "name": "stdout",
          "text": [
            "Epoch: 19/19 Loss: 0.21480417251586914\n"
          ]
        },
        {
          "output_type": "stream",
          "name": "stderr",
          "text": [
            "Validation: 100%|██████████| 200/200 [00:03<00:00, 61.61it/s]"
          ]
        },
        {
          "output_type": "stream",
          "name": "stdout",
          "text": [
            "Accuracy: 81.45%\n"
          ]
        },
        {
          "output_type": "stream",
          "name": "stderr",
          "text": [
            "\n"
          ]
        }
      ]
    },
    {
      "cell_type": "markdown",
      "metadata": {
        "id": "rLL-GQlKQT2Y"
      },
      "source": [
        "### Visualização usual da perda, somente no final de cada minibatch"
      ]
    },
    {
      "cell_type": "code",
      "metadata": {
        "ExecuteTime": {
          "end_time": "2018-08-20T21:03:55.246851Z",
          "start_time": "2018-08-20T21:03:54.994428Z"
        },
        "id": "w38EtNxhQT2Z",
        "colab": {
          "base_uri": "https://localhost:8080/",
          "height": 297
        },
        "outputId": "324927a0-06d1-4550-db45-bcd7546173f4"
      },
      "source": [
        "n_batches_train = len(train_dataloader)\n",
        "plt.plot(epochs[::n_batches_train], loss_history[::n_batches_train])\n",
        "plt.xlabel('época')"
      ],
      "execution_count": 17,
      "outputs": [
        {
          "output_type": "execute_result",
          "data": {
            "text/plain": [
              "Text(0.5, 0, 'época')"
            ]
          },
          "metadata": {},
          "execution_count": 17
        },
        {
          "output_type": "display_data",
          "data": {
            "text/plain": [
              "<Figure size 432x288 with 1 Axes>"
            ],
            "image/png": "[encoded data removed]"
          },
          "metadata": {
            "needs_background": "light"
          }
        }
      ]
    },
    {
      "cell_type": "markdown",
      "source": [
        "## Avaliação final no dataset de testes"
      ],
      "metadata": {
        "id": "cc91_BpixG9p"
      }
    },
    {
      "cell_type": "code",
      "source": [
        "model = torch.load('best_model.pt')\n",
        "evaluation(model=model, loader=test_dataloader) # era 0.735"
      ],
      "metadata": {
        "id": "OP75jlpYxMsC",
        "colab": {
          "base_uri": "https://localhost:8080/"
        },
        "outputId": "e98fc128-713c-4446-c133-af47377da1f0"
      },
      "execution_count": 18,
      "outputs": [
        {
          "output_type": "stream",
          "name": "stderr",
          "text": [
            "Validation: 100%|██████████| 200/200 [00:03<00:00, 56.61it/s]"
          ]
        },
        {
          "output_type": "stream",
          "name": "stdout",
          "text": [
            "Accuracy: 81.39%\n"
          ]
        },
        {
          "output_type": "stream",
          "name": "stderr",
          "text": [
            "\n"
          ]
        },
        {
          "output_type": "execute_result",
          "data": {
            "text/plain": [
              "0.8139"
            ]
          },
          "metadata": {},
          "execution_count": 18
        }
      ]
    },
    {
      "cell_type": "markdown",
      "source": [
        "# Bonus Opcional"
      ],
      "metadata": {
        "id": "tzelXYMkN7Gc"
      }
    },
    {
      "cell_type": "markdown",
      "source": [
        "## Implementando o Dropout"
      ],
      "metadata": {
        "id": "dfU_v7aPfq40"
      }
    },
    {
      "cell_type": "code",
      "source": [
        "class MyDropout(torch.nn.Module):\n",
        "    def __init__(self, p: float):\n",
        "        super().__init__()\n",
        "        self.p = p\n",
        "\n",
        "    def forward(self, x, training: bool):\n",
        "        # https://stackoverflow.com/questions/54109617/implementing-dropout-from-scratch\n",
        "        if training:\n",
        "          q = 1 - self.p\n",
        "          binomial = torch.distributions.binomial.Binomial(probs=q)\n",
        "          # \"Inverted dropout is a bit different. This approach consists in the scaling of the\n",
        "          # activations during the training phase, leaving the test phase untouched\"\n",
        "          return x * binomial.sample(x.shape) / q\n",
        "\n",
        "        return x"
      ],
      "metadata": {
        "id": "wRtpLJSFfsf8"
      },
      "execution_count": 19,
      "outputs": []
    },
    {
      "cell_type": "markdown",
      "source": [
        "## Mostre que sua implementação traz resultados semelhantes à implementação do pytorch"
      ],
      "metadata": {
        "id": "ROizI33sqE79"
      }
    },
    {
      "cell_type": "code",
      "source": [
        "import math\n",
        "\n",
        "p = 0.5\n",
        "dropout = MyDropout(p=p)\n",
        "\n",
        "x = torch.rand(16, 3, 32, 32)\n",
        "\n",
        "out = dropout(x, training=True)\n",
        "out_pt = torch.nn.functional.dropout(x, p=p, training=True)\n",
        "\n",
        "mean_zeros = (out == 0).sum() / out.numel()\n",
        "mean_zeros_pt = (out_pt == 0).sum() / out_pt.numel()\n",
        "\n",
        "print(f'mean zeros: {mean_zeros}')\n",
        "print(f'mean zeros pytorch: {mean_zeros_pt}')\n",
        "\n",
        "assert math.isclose(mean_zeros, mean_zeros_pt, abs_tol=1e-2)\n",
        "\n",
        "out = dropout(x, training=False)\n",
        "target_out = torch.nn.functional.dropout(x, p=p, training=False, inplace=False)\n",
        "assert torch.allclose(out, target_out, atol=1e-6)"
      ],
      "metadata": {
        "id": "i1TuxWbkqMJc",
        "colab": {
          "base_uri": "https://localhost:8080/"
        },
        "outputId": "4101312f-739a-4011-c61b-169f3c36b2f7"
      },
      "execution_count": 20,
      "outputs": [
        {
          "output_type": "stream",
          "name": "stdout",
          "text": [
            "mean zeros: 0.5018513798713684\n",
            "mean zeros pytorch: 0.5020548701286316\n"
          ]
        }
      ]
    }
  ]
}