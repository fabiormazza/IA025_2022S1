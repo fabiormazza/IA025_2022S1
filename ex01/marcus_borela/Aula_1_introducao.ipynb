{
  "cells": [
    {
      "cell_type": "markdown",
      "metadata": {
        "colab_type": "text",
        "id": "view-in-github"
      },
      "source": [
        "<a href=\"https://colab.research.google.com/github/unicamp-dl/IA025_2022S1/blob/main/ex01/marcus_borela/Aula_1_introducao.ipynb\" target=\"_parent\"><img src=\"https://colab.research.google.com/assets/colab-badge.svg\" alt=\"Open In Colab\"/></a>"
      ]
    },
    {
      "cell_type": "markdown",
      "metadata": {
        "id": "mTVOQpMfhgLM"
      },
      "source": [
        "Esté um notebook Colab contendo exercícios de programação em python, numpy e pytorch."
      ]
    },
    {
      "cell_type": "markdown",
      "metadata": {
        "id": "KMoyGt5gXMgK"
      },
      "source": [
        "## Coloque seu nome"
      ]
    },
    {
      "cell_type": "code",
      "execution_count": 1,
      "metadata": {
        "colab": {
          "base_uri": "https://localhost:8080/"
        },
        "id": "iBHbXcibXPRe",
        "outputId": "fe647368-7837-48a3-8280-207e80db21f7"
      },
      "outputs": [
        {
          "name": "stdout",
          "output_type": "stream",
          "text": [
            "Meu nome: Marcus Vinícius Borela de Castro\n"
          ]
        }
      ],
      "source": [
        "print('Meu nome: Marcus Vinícius Borela de Castro')"
      ]
    },
    {
      "cell_type": "markdown",
      "metadata": {
        "id": "e9S5acRbm1Zr"
      },
      "source": [
        "# Parte 1:\n",
        "\n",
        "##Exercícios de Processamento de Dados\n",
        "\n",
        "Nesta parte pode-se usar as bibliotecas nativas do python como a `collections`, `re` e `random`. Também pode-se usar o NumPy."
      ]
    },
    {
      "cell_type": "markdown",
      "metadata": {
        "id": "kxS5h1V8nDn6"
      },
      "source": [
        "##Exercício 1.1\n",
        "Crie um dicionário com os `k` itens mais frequentes de uma lista.\n",
        "\n",
        "Por exemplo, dada a lista de itens `L=['a', 'a', 'd', 'b', 'd', 'c', 'e', 'a', 'b', 'e', 'e', 'a']` e `k=2`, o resultado deve ser um dicionário cuja chave é o item e o valor é a sua frequência: {'a': 4, 'e': 3}"
      ]
    },
    {
      "cell_type": "code",
      "execution_count": null,
      "metadata": {
        "id": "S8qnIRkFUib_"
      },
      "outputs": [],
      "source": [
        "import numpy as np\n",
        "from collections import Counter"
      ]
    },
    {
      "cell_type": "code",
      "execution_count": null,
      "metadata": {
        "id": "gT08b5Z_nC-j"
      },
      "outputs": [],
      "source": [
        "def top_k(L, k):\n",
        "    # Escreva aqui o código\n",
        "    return dict(Counter(L).most_common(k))"
      ]
    },
    {
      "cell_type": "markdown",
      "metadata": {
        "id": "KLD_e3C9p4xO"
      },
      "source": [
        "Mostre que sua implementação está correta usando uma entrada com poucos itens:"
      ]
    },
    {
      "cell_type": "code",
      "execution_count": null,
      "metadata": {
        "colab": {
          "base_uri": "https://localhost:8080/"
        },
        "id": "iMW9NiBgnkvA",
        "outputId": "58a402ca-715f-4330-e226-214b3df71e96"
      },
      "outputs": [
        {
          "name": "stdout",
          "output_type": "stream",
          "text": [
            "resultado: {'a': 4, 'd': 3, 'e': 3}\n"
          ]
        }
      ],
      "source": [
        "L = ['f', 'a', 'a', 'd', 'b', 'd', 'c', 'e', 'a', 'b', 'e', 'e', 'a', 'd']\n",
        "k = 3\n",
        "resultado = top_k(L=L, k=k)\n",
        "print(f'resultado: {resultado}')"
      ]
    },
    {
      "cell_type": "markdown",
      "metadata": {
        "id": "wBeqZScQqJ0a"
      },
      "source": [
        "Mostre que sua implementação é eficiente usando uma entrada com 10M de itens:"
      ]
    },
    {
      "cell_type": "code",
      "execution_count": null,
      "metadata": {
        "id": "O_lhcm4ko8bY"
      },
      "outputs": [],
      "source": [
        "import random\n",
        "L = random.choices('abcdefghijklmnopqrstuvwxyz', k=10_000_000)\n",
        "k = 10000"
      ]
    },
    {
      "cell_type": "code",
      "execution_count": null,
      "metadata": {
        "colab": {
          "base_uri": "https://localhost:8080/"
        },
        "id": "L9U-Bgs2o-f_",
        "outputId": "9f6fd2bb-dafb-4996-ebb5-e0980fb65af8"
      },
      "outputs": [
        {
          "name": "stdout",
          "output_type": "stream",
          "text": [
            "1 loop, best of 5: 427 ms per loop\n"
          ]
        }
      ],
      "source": [
        "%%timeit\n",
        "resultado = top_k(L=L, k=k)"
      ]
    },
    {
      "cell_type": "markdown",
      "metadata": {
        "id": "oJHDaOz_tK38"
      },
      "source": [
        "## Exercício 1.2\n",
        "\n",
        "Em processamento de linguagem natural, é comum convertemos as palavras de um texto para uma lista de identificadores dessas palavras. Dado o dicionário `V` abaixo onde as chaves são palavras e os valores são seus respectivos identificadores, converta o texto `D` para uma lista de identificadores.\n",
        "\n",
        "Palavras que não existem no dicionário deverão ser convertidas para o identificador do token `unknown`.\n",
        "\n",
        "O código deve ser insensível a maiúsculas (case-insensitive).\n",
        "\n",
        "Se atente que pontuações (vírgulas, ponto final, etc) também são consideradas palavras."
      ]
    },
    {
      "cell_type": "code",
      "execution_count": null,
      "metadata": {
        "id": "BuFzyS_bVQ02"
      },
      "outputs": [],
      "source": [
        "import re"
      ]
    },
    {
      "cell_type": "code",
      "execution_count": null,
      "metadata": {
        "id": "rVzv89trtTPc"
      },
      "outputs": [],
      "source": [
        "def tokens_to_ids(text, vocabulary):\n",
        "    return [vocabulary[palavra] if palavra in vocabulary else vocabulary['unknown'] for palavra in re.findall(r\"\\w+|[^\\s\\w]\",text.lower(), re.IGNORECASE) ]"
      ]
    },
    {
      "cell_type": "markdown",
      "metadata": {
        "id": "aCGZeiqkY-sm"
      },
      "source": [
        "Mostre que sua implementação esta correta com um exemplo pequeno:\n",
        "\n",
        "---\n",
        "\n"
      ]
    },
    {
      "cell_type": "code",
      "execution_count": null,
      "metadata": {
        "colab": {
          "base_uri": "https://localhost:8080/"
        },
        "id": "iApR1h7gY98E",
        "outputId": "93d481fa-54f4-4d41-ff6e-f49e76c157a8"
      },
      "outputs": [
        {
          "name": "stdout",
          "output_type": "stream",
          "text": [
            "[1, 3, 2, 4, -1, 5]\n"
          ]
        }
      ],
      "source": [
        "V = {'eu': 1, 'de': 2, 'gosto': 3, 'comer': 4, '.': 5, 'unknown': -1}\n",
        "D = 'Eu gosto de comer pizza.'\n",
        "\n",
        "print(tokens_to_ids(D, V))"
      ]
    },
    {
      "cell_type": "markdown",
      "metadata": {
        "id": "dWtTMxlXZN25"
      },
      "source": [
        "Mostre que sua implementação é eficiente com um exemplo grande:"
      ]
    },
    {
      "cell_type": "code",
      "execution_count": null,
      "metadata": {
        "id": "pxT_g-ZxZUsX"
      },
      "outputs": [],
      "source": [
        "V = {'eu': 1, 'de': 2, 'gosto': 3, 'comer': 4, '.': 5, 'unknown': -1}\n",
        "D = ' '.join(1_000_000 * ['Eu gosto de comer pizza.'])"
      ]
    },
    {
      "cell_type": "code",
      "execution_count": null,
      "metadata": {
        "colab": {
          "base_uri": "https://localhost:8080/"
        },
        "id": "kp1nataGZU-V",
        "outputId": "aafae849-2609-4242-c927-3e9f275873db"
      },
      "outputs": [
        {
          "name": "stdout",
          "output_type": "stream",
          "text": [
            "1 loop, best of 5: 1.98 s per loop\n"
          ]
        }
      ],
      "source": [
        "%%timeit\n",
        "resultado = tokens_to_ids(D, V)"
      ]
    },
    {
      "cell_type": "markdown",
      "metadata": {
        "id": "XRfaKfXwRXn_"
      },
      "source": [
        "## Exercício 1.3\n",
        "\n",
        "Em aprendizado profundo é comum termos que lidar com arquivos muito grandes.\n",
        "\n",
        "Dado um arquivo de texto onde cada item é separado por `\\n`, escreva um programa que amostre `k` itens desse arquivo aleatoriamente.\n",
        "\n",
        "Nota 1: Assuma amostragem de uma distribuição uniforme, ou seja, todos os itens tem a mesma probablidade de amostragem.\n",
        "\n",
        "Nota 2: Assuma que o arquivo não cabe em memória.\n",
        "\n",
        "Nota 3: Utilize apenas bibliotecas nativas do python."
      ]
    },
    {
      "cell_type": "code",
      "execution_count": null,
      "metadata": {
        "id": "GA29UIsUWIoW"
      },
      "outputs": [],
      "source": [
        "from time import time, strftime"
      ]
    },
    {
      "cell_type": "code",
      "execution_count": null,
      "metadata": {
        "colab": {
          "base_uri": "https://localhost:8080/"
        },
        "id": "0glCW7XBWJpG",
        "outputId": "1e36eabc-165b-483d-c1e7-d83b67ab880a"
      },
      "outputs": [
        {
          "name": "stdout",
          "output_type": "stream",
          "text": [
            "8192\n"
          ]
        }
      ],
      "source": [
        "import io\n",
        "print (io.DEFAULT_BUFFER_SIZE)"
      ]
    },
    {
      "cell_type": "code",
      "execution_count": null,
      "metadata": {
        "id": "FDryTx60WV2_"
      },
      "outputs": [],
      "source": [
        "def get_blocks(files, size=65536):\n",
        "  while True:\n",
        "      b = files.read(size)\n",
        "      if not b: break\n",
        "      yield b\n",
        "\n",
        "def retorna_num_linhas_arquivo(path:str) -> int:\n",
        "  num_linhas = 0\n",
        "  with open(path, \"r\",encoding=\"utf-8\",errors='ignore') as f:\n",
        "      num_linhas += sum(bl.count(\"\\n\") for bl in get_blocks(f))\n",
        "  return num_linhas\n",
        "\n",
        " \n",
        "def retorna_linhas_indicadas_de_arquivo(path:str, lista_indice_dist_uniforme:list, total_selecao, ordenada_por_posicao_arquivo:bool=False)-> list:\n",
        "  lista_linhas_posicao_conteudo = []\n",
        "  lista_conteudo = []\n",
        "  cnt_linha_selecionada = 0\n",
        "  lista_indice_ordenada = sorted(lista_indice_dist_uniforme)\n",
        "  proxima_linha_selecionada = lista_indice_ordenada[cnt_linha_selecionada]\n",
        "  # print(f\"lista_indice_ordenada {lista_indice_ordenada}\")\n",
        "  \n",
        "  for cnt_linha_lida, linha in enumerate(open(path, buffering=1)): # line buffering   \n",
        "      # print(f\"cnt_linha_lida: {cnt_linha_lida}\") \n",
        "      while cnt_linha_lida == proxima_linha_selecionada: \n",
        "        lista_linhas_posicao_conteudo.append((lista_indice_dist_uniforme.index(proxima_linha_selecionada),linha))\n",
        "        lista_conteudo.append(linha)\n",
        "        cnt_linha_selecionada += 1\n",
        "        if cnt_linha_selecionada == total_selecao:\n",
        "          break\n",
        "        else:\n",
        "          proxima_linha_selecionada = lista_indice_ordenada[cnt_linha_selecionada]\n",
        "          # print(f\"proxima_linha_selecionada: {proxima_linha_selecionada} cnt_linha_selecionada: {cnt_linha_selecionada}\")\n",
        "\n",
        "  # print(f\"len lista_linhas_posicao_conteudo {len(lista_linhas_posicao_conteudo)}\")\n",
        "  \n",
        "  if not ordenada_por_posicao_arquivo:\n",
        "    return [item[1] for item in sorted(lista_linhas_posicao_conteudo, key=lambda x: x[0])]\n",
        "  else:\n",
        "    return lista_conteudo\n",
        "\n",
        "\n",
        "def sample(path: str, k: int, ordenada_por_posicao_arquivo:bool=False):    \n",
        "  num_linhas = retorna_num_linhas_arquivo(path)\n",
        "  # print(f'num_linhas: {num_linhas} k: {k}')\n",
        "  lista_indice_dist_uniforme = list(np.random.choice(num_linhas, k, replace=True))\n",
        "  # print(f\"len(lista_indice_dist_uniforme) {len(lista_indice_dist_uniforme)}\")\n",
        "  # print(lista_indice_dist_uniforme)\n",
        "  return retorna_linhas_indicadas_de_arquivo(path, lista_indice_dist_uniforme, k, ordenada_por_posicao_arquivo)"
      ]
    },
    {
      "cell_type": "markdown",
      "metadata": {
        "id": "ycEnlFWxSt0i"
      },
      "source": [
        "Mostre que sua implementação está correta com um exemplo pequeno:"
      ]
    },
    {
      "cell_type": "code",
      "execution_count": null,
      "metadata": {
        "colab": {
          "base_uri": "https://localhost:8080/"
        },
        "id": "vyLJ1e2ZSzC9",
        "outputId": "1f8b5a31-e44f-497a-b25f-b859eed57bc4"
      },
      "outputs": [
        {
          "name": "stdout",
          "output_type": "stream",
          "text": [
            "['line 8\\n', 'line 38\\n', 'line 81\\n', 'line 98\\n', 'line 61\\n', 'line 56\\n', 'line 83\\n', 'line 7\\n', 'line 54\\n', 'line 31\\n']\n",
            "True\n"
          ]
        }
      ],
      "source": [
        "filename = 'small.txt'\n",
        "total_size = 100\n",
        "n_samples = 10\n",
        "\n",
        "with open(filename, 'w') as fout:\n",
        "    fout.write('\\n'.join(f'line {i}' for i in range(total_size)))\n",
        "\n",
        "samples = sample(path=filename, k=n_samples)\n",
        "print(samples)\n",
        "print(len(samples) == n_samples)"
      ]
    },
    {
      "cell_type": "markdown",
      "metadata": {
        "id": "2r4FMiMj12Xg"
      },
      "source": [
        "Mostre que sua implementação é eficiente com um exemplo grande:"
      ]
    },
    {
      "cell_type": "code",
      "execution_count": null,
      "metadata": {
        "id": "PUwnNMGg18Ty"
      },
      "outputs": [],
      "source": [
        "filename = 'large.txt'\n",
        "total_size = 1_000_000\n",
        "n_samples = 10000\n",
        "\n",
        "with open(filename, 'w') as fout:\n",
        "    fout.write('\\n'.join(f'line {i}' for i in range(total_size)))"
      ]
    },
    {
      "cell_type": "code",
      "execution_count": null,
      "metadata": {
        "colab": {
          "base_uri": "https://localhost:8080/"
        },
        "id": "iA9sAZmo0UDN",
        "outputId": "21d20a6c-c4f3-4760-c893-051ffca158b5"
      },
      "outputs": [
        {
          "name": "stdout",
          "output_type": "stream",
          "text": [
            "1 loop, best of 5: 1.11 s per loop\n"
          ]
        }
      ],
      "source": [
        "%%timeit\n",
        "samples = sample(path=filename, k=n_samples)\n",
        "assert len(samples) == n_samples"
      ]
    },
    {
      "cell_type": "markdown",
      "metadata": {
        "id": "udS0Ns4etoJs"
      },
      "source": [
        "# Parte 2:\n",
        "\n",
        "##Exercícios de Numpy\n",
        "\n",
        "Nesta parte deve-se usar apenas a biblioteca NumPy. Aqui não se pode usar o PyTorch."
      ]
    },
    {
      "cell_type": "markdown",
      "metadata": {
        "id": "RcMz3Vzjt144"
      },
      "source": [
        "##Exercício 2.1\n",
        "\n",
        "Quantos operações de ponto flutuante (flops) de soma e de multiplicação tem a multiplicação matricial $AB$, sendo que a matriz $A$ tem tamanho $m \\times n$ e a matriz $B$ tem tamanho $n \\times p$?"
      ]
    },
    {
      "cell_type": "markdown",
      "metadata": {
        "id": "jwU6rCUSXPBG"
      },
      "source": [
        "Resposta:\n",
        "\n",
        "- número de somas: m*p*(n - 1) = m*p*n - m*p\n",
        "  \n",
        "   Explicação: nova matriz vai ter mxp e para cada célula houve (n - 1) adições\n",
        "\n",
        "- número de multiplicações: m*p*n = m*p*n  \n",
        "  \n",
        "   Explicação: nova matriz vai ter mxp e para cada célula houve n multiplicações\n",
        "\n",
        "Flops total: multiplicação + adição = \n",
        "     mpn + (mpn - mp) = 2mpn - mp = mp(2n - 1)\n",
        "\n"
      ]
    },
    {
      "cell_type": "markdown",
      "metadata": {
        "id": "2iI7udBFeDlP"
      },
      "source": [
        "## Exercício 2.2\n",
        "\n",
        "Em programação matricial, não se faz o loop em cada elemento da matriz,\n",
        "mas sim, utiliza-se operações matriciais.\n",
        "\n",
        "Dada a matriz `A` abaixo, calcule a média dos valores de cada linha sem utilizar laços explícitos.\n",
        "\n",
        "Utilize apenas a biblioteca numpy."
      ]
    },
    {
      "cell_type": "code",
      "execution_count": null,
      "metadata": {
        "colab": {
          "base_uri": "https://localhost:8080/"
        },
        "id": "-fqxgNBW27Z0",
        "outputId": "c6534635-949e-4609-ccf3-6d824064f6e2"
      },
      "outputs": [
        {
          "name": "stdout",
          "output_type": "stream",
          "text": [
            "[[ 0  1  2  3  4  5]\n",
            " [ 6  7  8  9 10 11]\n",
            " [12 13 14 15 16 17]\n",
            " [18 19 20 21 22 23]]\n"
          ]
        }
      ],
      "source": [
        "A = np.arange(24).reshape(4, 6)\n",
        "print(A)"
      ]
    },
    {
      "cell_type": "code",
      "execution_count": null,
      "metadata": {
        "colab": {
          "base_uri": "https://localhost:8080/"
        },
        "id": "J1EmKFrT5g7B",
        "outputId": "aa7a5afe-71d7-4f04-9915-d766bf3fe1c6"
      },
      "outputs": [
        {
          "data": {
            "text/plain": [
              "array([ 2.5,  8.5, 14.5, 20.5])"
            ]
          },
          "execution_count": 19,
          "metadata": {},
          "output_type": "execute_result"
        }
      ],
      "source": [
        "np.mean(A, axis=1)"
      ]
    },
    {
      "cell_type": "markdown",
      "metadata": {
        "id": "JtgSAAKjUfcO"
      },
      "source": [
        "## Exercício 2.3\n",
        "\n",
        "Seja a matriz $C$ que é a normalização da matriz $A$:\n",
        "$$ C(i,j) = \\frac{A(i,j) - A_{min}}{A_{max} - A_{min}} $$\n",
        "\n",
        "Normalizar a matriz `A` do exercício acima de forma que seus valores fiquem entre 0 e 1."
      ]
    },
    {
      "cell_type": "code",
      "execution_count": null,
      "metadata": {
        "ExecuteTime": {
          "end_time": "2019-12-11T00:00:34.072719Z",
          "start_time": "2019-12-11T00:00:34.036017Z"
        },
        "colab": {
          "base_uri": "https://localhost:8080/"
        },
        "id": "_pDhb2-0eDlS",
        "outputId": "b2dd4810-8262-4154-e25c-311be5a4d86e"
      },
      "outputs": [
        {
          "name": "stdout",
          "output_type": "stream",
          "text": [
            "[[0.         0.04347826 0.08695652 0.13043478 0.17391304 0.2173913 ]\n",
            " [0.26086957 0.30434783 0.34782609 0.39130435 0.43478261 0.47826087]\n",
            " [0.52173913 0.56521739 0.60869565 0.65217391 0.69565217 0.73913043]\n",
            " [0.7826087  0.82608696 0.86956522 0.91304348 0.95652174 1.        ]]\n"
          ]
        }
      ],
      "source": [
        "C = (A - A.min()) / A.max() - A.min()\n",
        "print(C)"
      ]
    },
    {
      "cell_type": "markdown",
      "metadata": {
        "id": "GF_P_GARU62m"
      },
      "source": [
        "## Exercício 2.4\n",
        "\n",
        "Modificar o exercício anterior de forma que os valores de cada *coluna* da matriz `A` sejam normalizados entre 0 e 1 independentemente dos valores das outras colunas.\n"
      ]
    },
    {
      "cell_type": "code",
      "execution_count": null,
      "metadata": {
        "colab": {
          "base_uri": "https://localhost:8080/"
        },
        "id": "6NgVzFOYeDla",
        "outputId": "31380c2e-ca7e-4496-81eb-b44a66462311"
      },
      "outputs": [
        {
          "data": {
            "text/plain": [
              "array([[0.        , 0.        , 0.        , 0.        , 0.        ,\n",
              "        0.        ],\n",
              "       [0.33333333, 0.33333333, 0.33333333, 0.33333333, 0.33333333,\n",
              "        0.33333333],\n",
              "       [0.66666667, 0.66666667, 0.66666667, 0.66666667, 0.66666667,\n",
              "        0.66666667],\n",
              "       [1.        , 1.        , 1.        , 1.        , 1.        ,\n",
              "        1.        ]])"
            ]
          },
          "execution_count": 21,
          "metadata": {},
          "output_type": "execute_result"
        }
      ],
      "source": [
        "(A - A.min(axis=0)) / (A.max(axis=0) - A.min(axis=0))"
      ]
    },
    {
      "cell_type": "markdown",
      "metadata": {
        "id": "cbXIXsDIUmtp"
      },
      "source": [
        "## Exercício 2.5\n",
        "\n",
        "Modificar o exercício anterior de forma que os valores de cada *linha* da matriz `A` sejam normalizados entre 0 e 1 independentemente dos valores das outras linhas.\n"
      ]
    },
    {
      "cell_type": "code",
      "execution_count": null,
      "metadata": {
        "ExecuteTime": {
          "end_time": "2019-12-10T17:56:40.413601Z",
          "start_time": "2019-12-10T17:56:40.405056Z"
        },
        "colab": {
          "base_uri": "https://localhost:8080/"
        },
        "id": "i-5Hv8-heDlW",
        "outputId": "1012c3d9-30ca-42af-a444-516ecceba2a9"
      },
      "outputs": [
        {
          "data": {
            "text/plain": [
              "array([[ 0],\n",
              "       [ 6],\n",
              "       [12],\n",
              "       [18]])"
            ]
          },
          "execution_count": 22,
          "metadata": {},
          "output_type": "execute_result"
        }
      ],
      "source": [
        "A.min(axis=1,  keepdims = True)"
      ]
    },
    {
      "cell_type": "code",
      "execution_count": null,
      "metadata": {
        "colab": {
          "base_uri": "https://localhost:8080/"
        },
        "id": "m_vEXIBzYnDM",
        "outputId": "791124a2-5309-4474-9814-f85ad3072088"
      },
      "outputs": [
        {
          "data": {
            "text/plain": [
              "array([[0. , 0.2, 0.4, 0.6, 0.8, 1. ],\n",
              "       [0. , 0.2, 0.4, 0.6, 0.8, 1. ],\n",
              "       [0. , 0.2, 0.4, 0.6, 0.8, 1. ],\n",
              "       [0. , 0.2, 0.4, 0.6, 0.8, 1. ]])"
            ]
          },
          "execution_count": 23,
          "metadata": {},
          "output_type": "execute_result"
        }
      ],
      "source": [
        "(A - A.min(axis=1,  keepdims = True)) / (A.max(axis=1, keepdims = True) - A.min(axis=1, keepdims = True))"
      ]
    },
    {
      "cell_type": "markdown",
      "metadata": {
        "id": "QKnLAyL7zgpa"
      },
      "source": [
        "## Exercício 2.6\n",
        "\n",
        "A [função softmax](https://en.wikipedia.org/wiki/Softmax_function) é bastante usada em apredizado de máquina para converter uma lista de números para uma distribuição de probabilidade, isto é, os números ficarão normalizados entre zero e um e sua soma será igual à um.\n",
        "\n",
        "Implemente a função softmax com suporte para batches, ou seja, o softmax deve ser aplicado a cada linha da matriz. Deve-se usar apenas a biblioteca numpy. Se atente que a exponenciação gera estouro de representação quando os números da entrada são muito grandes. Tente corrigir isto."
      ]
    },
    {
      "cell_type": "code",
      "execution_count": null,
      "metadata": {
        "id": "lA5W9vxNEmOj"
      },
      "outputs": [],
      "source": [
        "import numpy as np\n",
        "\n",
        "\n",
        "def softmax(A):\n",
        "    '''\n",
        "    Aplica a função de softmax à matriz `A`.\n",
        "\n",
        "    Entrada:\n",
        "      `A` é uma matriz M x N, onde M é o número de exemplos a serem processados\n",
        "      independentemente e N é o tamanho de cada exemplo.\n",
        "    \n",
        "    Saída:\n",
        "      Uma matriz M x N, onde a soma de cada linha é igual a um.\n",
        "    '''\n",
        "    MAX_por_linha = np.transpose(np.full((A.shape[1], A.shape[0]), A.max(axis=1)))    \n",
        "    # print(\"MAX_por_linha\", MAX_por_linha)\n",
        "    # print(\"A - MAX_por_linha\", A - MAX_por_linha)\n",
        "    matriz_sem_valor_alto = np.exp(A - MAX_por_linha)\n",
        "    # print(\"matriz_sem_valor_alto\", matriz_sem_valor_alto)\n",
        "    SOMA_por_linha = np.transpose(np.full((A.shape[1], A.shape[0]), matriz_sem_valor_alto.sum(axis=1)))\n",
        "    # print(\"SOMA_por_linha\", SOMA_por_linha)\n",
        "    return matriz_sem_valor_alto / SOMA_por_linha\n",
        "\n"
      ]
    },
    {
      "cell_type": "markdown",
      "metadata": {
        "id": "gpxlbh4ND54q"
      },
      "source": [
        "Mostre que sua implementação está correta usando uma matriz pequena como entrada:"
      ]
    },
    {
      "cell_type": "code",
      "execution_count": null,
      "metadata": {
        "colab": {
          "base_uri": "https://localhost:8080/"
        },
        "id": "L6EZ5ZD7HFao",
        "outputId": "377a1eb3-0837-4964-f7d6-244a4722b5c4"
      },
      "outputs": [
        {
          "data": {
            "text/plain": [
              "array([[0.        , 0.        , 1.        ],\n",
              "       [0.04861082, 0.35918811, 0.59220107]])"
            ]
          },
          "execution_count": 25,
          "metadata": {},
          "output_type": "execute_result"
        }
      ],
      "source": [
        "A = np.array([[0.5, -1, 1000],\n",
        "              [-2,   0, 0.5]])\n",
        "softmax(A)"
      ]
    },
    {
      "cell_type": "markdown",
      "metadata": {
        "id": "9j2uXmKH8HF4"
      },
      "source": [
        "O código a seguir verifica se sua implementação do softmax está correta. \n",
        "- A soma de cada linha de A deve ser 1;\n",
        "- Os valores devem estar entre 0 e 1"
      ]
    },
    {
      "cell_type": "code",
      "execution_count": null,
      "metadata": {
        "colab": {
          "base_uri": "https://localhost:8080/"
        },
        "id": "r-sN4STk7qyN",
        "outputId": "721acbfb-108b-46fa-95f8-265b67a25794"
      },
      "outputs": [
        {
          "data": {
            "text/plain": [
              "True"
            ]
          },
          "execution_count": 26,
          "metadata": {},
          "output_type": "execute_result"
        }
      ],
      "source": [
        "np.allclose(softmax(A).sum(axis=1), 1) and softmax(A).min() >= 0 and softmax(A).max() <= 1"
      ]
    },
    {
      "cell_type": "markdown",
      "metadata": {
        "id": "B5_ZRWRfCZtI"
      },
      "source": [
        "Mostre que sua implementação é eficiente usando uma matriz grande como entrada:"
      ]
    },
    {
      "cell_type": "code",
      "execution_count": null,
      "metadata": {
        "id": "bhUeyrGaJ3J2"
      },
      "outputs": [],
      "source": [
        "A = np.random.uniform(low=-10, high=10, size=(128, 100_000))"
      ]
    },
    {
      "cell_type": "code",
      "execution_count": null,
      "metadata": {
        "colab": {
          "base_uri": "https://localhost:8080/"
        },
        "id": "jaa-C8XkKJin",
        "outputId": "0ffb6606-ef29-43ce-c740-d7d650ceb64b"
      },
      "outputs": [
        {
          "name": "stdout",
          "output_type": "stream",
          "text": [
            "1 loop, best of 5: 424 ms per loop\n"
          ]
        }
      ],
      "source": [
        "%%timeit\n",
        "softmax(A)"
      ]
    },
    {
      "cell_type": "code",
      "execution_count": null,
      "metadata": {
        "colab": {
          "base_uri": "https://localhost:8080/"
        },
        "id": "4XE6LaWi81zZ",
        "outputId": "bd753426-11f1-4b59-9759-6dfba4329f63"
      },
      "outputs": [
        {
          "data": {
            "text/plain": [
              "True"
            ]
          },
          "execution_count": 29,
          "metadata": {},
          "output_type": "execute_result"
        }
      ],
      "source": [
        "SM = softmax(A)\n",
        "np.allclose(SM.sum(axis=1), 1) and SM.min() >= 0 and SM.max() <= 1"
      ]
    },
    {
      "cell_type": "markdown",
      "metadata": {
        "id": "Flr1lI5o-HpG"
      },
      "source": [
        "## Exercício 2.7\n",
        "\n",
        "A codificação one-hot é usada para codificar entradas categóricas. É uma codificação onde apenas um bit é 1 e os demais são zero, conforme a tabela a seguir.\n",
        "\n",
        "| Decimal | Binary | One-hot\n",
        "| ------- | ------ | -------\n",
        "| 0 | 000    | 1 0 0 0 0 0 0 0\n",
        "| 1 | 001    | 0 1 0 0 0 0 0 0\n",
        "| 2 | 010    | 0 0 1 0 0 0 0 0\n",
        "| 3 | 011    | 0 0 0 1 0 0 0 0\n",
        "| 4 | 100    | 0 0 0 0 1 0 0 0\n",
        "| 5 | 101    | 0 0 0 0 0 1 0 0\n",
        "| 6 | 110    | 0 0 0 0 0 0 1 0\n",
        "| 7 | 111    | 0 0 0 0 0 0 0 1"
      ]
    },
    {
      "cell_type": "markdown",
      "metadata": {
        "id": "1CqXP_5ABbfo"
      },
      "source": [
        "Implemente a função one_hot(y, n_classes) que codifique o vetor de inteiros y que possuem valores entre 0 e n_classes-1.\n"
      ]
    },
    {
      "cell_type": "code",
      "execution_count": null,
      "metadata": {
        "id": "la-02w7qCH7L"
      },
      "outputs": [],
      "source": [
        "def one_hot(y:[int], n_classes:int)-> list:\n",
        "  one_hot_encode = np.zeros((len(y), n_classes))\n",
        "  for idx, val in enumerate(y):\n",
        "    one_hot_encode[idx, val] = 1\n",
        "  return one_hot_encode  "
      ]
    },
    {
      "cell_type": "code",
      "execution_count": null,
      "metadata": {
        "colab": {
          "base_uri": "https://localhost:8080/"
        },
        "id": "zf5zyZO5Aiz_",
        "outputId": "6570332a-16b5-4f97-bfc2-ab582ce3196e"
      },
      "outputs": [
        {
          "name": "stdout",
          "output_type": "stream",
          "text": [
            "[8 8 3 6 6 2 3 2 3 2]\n",
            "[[0. 0. 0. 0. 0. 0. 0. 0. 1.]\n",
            " [0. 0. 0. 0. 0. 0. 0. 0. 1.]\n",
            " [0. 0. 0. 1. 0. 0. 0. 0. 0.]\n",
            " [0. 0. 0. 0. 0. 0. 1. 0. 0.]\n",
            " [0. 0. 0. 0. 0. 0. 1. 0. 0.]\n",
            " [0. 0. 1. 0. 0. 0. 0. 0. 0.]\n",
            " [0. 0. 0. 1. 0. 0. 0. 0. 0.]\n",
            " [0. 0. 1. 0. 0. 0. 0. 0. 0.]\n",
            " [0. 0. 0. 1. 0. 0. 0. 0. 0.]\n",
            " [0. 0. 1. 0. 0. 0. 0. 0. 0.]]\n"
          ]
        },
        {
          "name": "stderr",
          "output_type": "stream",
          "text": [
            "/usr/local/lib/python3.7/dist-packages/ipykernel_launcher.py:3: DeprecationWarning: `np.int` is a deprecated alias for the builtin `int`. To silence this warning, use `int` by itself. Doing this will not modify any behavior and is safe. When replacing `np.int`, you may wish to use e.g. `np.int64` or `np.int32` to specify the precision. If you wish to review your current use, check the release note link for additional information.\n",
            "Deprecated in NumPy 1.20; for more details and guidance: https://numpy.org/devdocs/release/1.20.0-notes.html#deprecations\n",
            "  This is separate from the ipykernel package so we can avoid doing imports until\n"
          ]
        }
      ],
      "source": [
        "N_CLASSES = 9\n",
        "N_SAMPLES = 10\n",
        "y = (np.random.rand((N_SAMPLES)) * N_CLASSES).astype(np.int)\n",
        "print(y)\n",
        "print(one_hot(y, N_CLASSES))"
      ]
    },
    {
      "cell_type": "markdown",
      "metadata": {
        "id": "6nwuKnQUCzve"
      },
      "source": [
        "Mostre que sua implementação é eficiente usando uma matriz grande como entrada:"
      ]
    },
    {
      "cell_type": "code",
      "execution_count": null,
      "metadata": {
        "colab": {
          "base_uri": "https://localhost:8080/"
        },
        "id": "uwuFy5rWC2tA",
        "outputId": "6093c61e-6b63-44de-bd29-5c2411b966ae"
      },
      "outputs": [
        {
          "name": "stderr",
          "output_type": "stream",
          "text": [
            "/usr/local/lib/python3.7/dist-packages/ipykernel_launcher.py:3: DeprecationWarning: `np.int` is a deprecated alias for the builtin `int`. To silence this warning, use `int` by itself. Doing this will not modify any behavior and is safe. When replacing `np.int`, you may wish to use e.g. `np.int64` or `np.int32` to specify the precision. If you wish to review your current use, check the release note link for additional information.\n",
            "Deprecated in NumPy 1.20; for more details and guidance: https://numpy.org/devdocs/release/1.20.0-notes.html#deprecations\n",
            "  This is separate from the ipykernel package so we can avoid doing imports until\n"
          ]
        }
      ],
      "source": [
        "N_SAMPLES = 100_000\n",
        "N_CLASSES = 1_000\n",
        "y = (np.random.rand((N_SAMPLES)) * N_CLASSES).astype(np.int)"
      ]
    },
    {
      "cell_type": "code",
      "execution_count": null,
      "metadata": {
        "colab": {
          "base_uri": "https://localhost:8080/"
        },
        "id": "7azMtF7wDJ2_",
        "outputId": "ba7dd8fd-b40d-4d21-d8a9-9b172eb7f29f"
      },
      "outputs": [
        {
          "name": "stdout",
          "output_type": "stream",
          "text": [
            "1 loop, best of 5: 118 ms per loop\n"
          ]
        }
      ],
      "source": [
        "%%timeit\n",
        "one_hot(y, N_CLASSES)"
      ]
    },
    {
      "cell_type": "markdown",
      "metadata": {
        "id": "lqMroZay2ubi"
      },
      "source": [
        "## Exercício 2.8\n",
        "\n",
        "Implemente uma classe que normalize um array de pontos flutuantes `array_a` para a mesma média e desvio padrão de um outro array `array_b`, conforme exemplo abaixo:\n",
        "```\n",
        "array_a = np.array([-1, 1.5, 0])\n",
        "array_b = np.array([1.4, 0.8, 0.3, 2.5])\n",
        "normalize = Normalizer(array_b)\n",
        "normalized_array = normalize(array_a)\n",
        "print(normalized_array)  # Deve imprimir [0.3187798  2.31425165 1.11696854]\n",
        "```"
      ]
    },
    {
      "cell_type": "code",
      "execution_count": null,
      "metadata": {
        "id": "qaedJ5Cf5Oy2"
      },
      "outputs": [],
      "source": [
        "class Normalizer:\n",
        "    def __init__(self, base):\n",
        "        b = np.array(base)\n",
        "        self.m = b.mean()\n",
        "        self.s = b.std()\n",
        "    def __call__(self, array):\n",
        "        b = np.array(array)\n",
        "        m = b.mean()\n",
        "        s = b.std()\n",
        "        return (b - m) * self.s / s + self.m"
      ]
    },
    {
      "cell_type": "markdown",
      "metadata": {
        "id": "dlkNNU6h5RbR"
      },
      "source": [
        "Mostre que seu código está correto com o exemplo abaixo:"
      ]
    },
    {
      "cell_type": "code",
      "execution_count": null,
      "metadata": {
        "colab": {
          "base_uri": "https://localhost:8080/"
        },
        "id": "Gad6zsbh5a0D",
        "outputId": "ee98a4ba-01ca-4b58-b85b-cb4f731510f0"
      },
      "outputs": [
        {
          "name": "stdout",
          "output_type": "stream",
          "text": [
            "[0.3187798  2.31425165 1.11696854]\n"
          ]
        }
      ],
      "source": [
        "array_a = [-1, 1.5, 0]\n",
        "array_b = [1.4, 0.8, 0.3, 2.5]\n",
        "normalize = Normalizer(array_b)\n",
        "normalized_array = normalize(array_a)\n",
        "print(normalized_array)"
      ]
    },
    {
      "cell_type": "markdown",
      "metadata": {
        "id": "vrGVQFUYI_LP"
      },
      "source": [
        "# Parte 3:\n",
        "\n",
        "##Exercícios Pytorch: Grafo Computacional e Gradientes\n",
        "\n",
        "Nesta parte pode-se usar quaisquer bibliotecas."
      ]
    },
    {
      "cell_type": "markdown",
      "metadata": {
        "id": "BIlQdKAuCZtR"
      },
      "source": [
        "Um dos principais fundamentos para que o PyTorch seja adequado para deep learning é a sua habilidade de calcular o gradiente automaticamente a partir da expressões definidas. Essa facilidade é implementada através do cálculo automático do gradiente e construção dinâmica do grafo computacional."
      ]
    },
    {
      "cell_type": "markdown",
      "metadata": {
        "id": "ZF_-dJ2nCZtT"
      },
      "source": [
        "## Grafo computacional\n",
        "\n",
        "Seja um exemplo simples de uma função de perda J dada pela Soma dos Erros ao Quadrado (SEQ - Sum of Squared Errors): \n",
        "$$ J = \\sum_i (x_i w - y_i)^2 $$\n",
        "que pode ser reescrita como:\n",
        "$$ \\hat{y_i} = x_i w $$\n",
        "$$ e_i = \\hat{y_i} - y_i $$\n",
        "$$ e2_i = e_i^2 $$\n",
        "$$ J = \\sum_i e2_i $$\n",
        "\n",
        "As redes neurais são treinadas através da minimização de uma função de perda usando o método do gradiente descendente. Para ajustar o parâmetro $w$ precisamos calcular o gradiente $  \\frac{ \\partial J}{\\partial w} $. Usando a\n",
        "regra da cadeia podemos escrever:\n",
        "$$ \\frac{ \\partial J}{\\partial w} = \\frac{ \\partial J}{\\partial e2_i} \\frac{ \\partial e2_i}{\\partial e_i} \\frac{ \\partial e_i}{\\partial \\hat{y_i} } \\frac{ \\partial \\hat{y_i}}{\\partial w}$$ "
      ]
    },
    {
      "cell_type": "markdown",
      "metadata": {
        "id": "jboejVQMCZtU"
      },
      "source": [
        "```\n",
        "    y_pred = x * w\n",
        "    e = y_pred - y\n",
        "    e2 = e**2\n",
        "    J = e2.sum()\n",
        "```"
      ]
    },
    {
      "cell_type": "markdown",
      "metadata": {
        "id": "n7JmU6qhc2Y2"
      },
      "source": [
        "As quatro expressões acima, para o cálculo do J podem ser representadas pelo grafo computacional visualizado a seguir: os círculos são as variáveis (tensores), os quadrados são as operações, os números em preto são os cálculos durante a execução das quatro expressões para calcular o J (forward, predict). O cálculo do gradiente, mostrado em vermelho, é calculado pela regra da cadeia, de trás para frente (backward)."
      ]
    },
    {
      "cell_type": "markdown",
      "metadata": {
        "id": "KeeEBKl4CZtV"
      },
      "source": [
        "<img src=\"https://raw.githubusercontent.com/robertoalotufo/files/master/figures/GrafoComputacional.png\" width=\"600pt\"/>"
      ]
    },
    {
      "cell_type": "markdown",
      "metadata": {
        "id": "8yZun7wrCZtX"
      },
      "source": [
        "Para entender melhor o funcionamento do grafo computacional com os tensores, recomenda-se leitura em:\n",
        "\n",
        "https://pytorch.org/docs/stable/notes/autograd.html"
      ]
    },
    {
      "cell_type": "code",
      "execution_count": null,
      "metadata": {
        "ExecuteTime": {
          "end_time": "2019-12-11T00:23:00.431853Z",
          "start_time": "2019-12-11T00:23:00.414813Z"
        },
        "id": "HlT2d-4fCZtZ"
      },
      "outputs": [],
      "source": [
        "import torch"
      ]
    },
    {
      "cell_type": "code",
      "execution_count": null,
      "metadata": {
        "ExecuteTime": {
          "end_time": "2019-12-11T00:23:00.863228Z",
          "start_time": "2019-12-11T00:23:00.844457Z"
        },
        "colab": {
          "base_uri": "https://localhost:8080/",
          "height": 36
        },
        "id": "xX0QwUduCZtf",
        "outputId": "c920f5a5-b238-46d6-8e14-f0bee68ec964"
      },
      "outputs": [
        {
          "data": {
            "application/vnd.google.colaboratory.intrinsic+json": {
              "type": "string"
            },
            "text/plain": [
              "'1.10.0+cu111'"
            ]
          },
          "execution_count": 37,
          "metadata": {},
          "output_type": "execute_result"
        }
      ],
      "source": [
        "torch.__version__"
      ]
    },
    {
      "cell_type": "markdown",
      "metadata": {
        "id": "vsqzALS4CZtl"
      },
      "source": [
        "**Tensor com atributo .requires_grad=True**\n",
        "\n",
        "Quando um tensor possui o atributo `requires_grad` como verdadeiro, qualquer expressão que utilizar esse tensor irá construir um grafo computacional para permitir posteriormente, após calcular a função a ser derivada, poder usar a regra da cadeia e calcular o gradiente da função em termos dos tensores que possuem o atributo `requires_grad`.\n"
      ]
    },
    {
      "cell_type": "code",
      "execution_count": null,
      "metadata": {
        "ExecuteTime": {
          "end_time": "2019-09-29T03:07:22.117010Z",
          "start_time": "2019-09-29T03:07:22.041861Z"
        },
        "colab": {
          "base_uri": "https://localhost:8080/"
        },
        "id": "foaAb94aCZtm",
        "outputId": "9260d90a-f892-470a-f4d8-8a72e0959d1a"
      },
      "outputs": [
        {
          "data": {
            "text/plain": [
              "tensor([0., 2., 4., 6.])"
            ]
          },
          "execution_count": 38,
          "metadata": {},
          "output_type": "execute_result"
        }
      ],
      "source": [
        "y = torch.arange(0, 8, 2).float()\n",
        "y"
      ]
    },
    {
      "cell_type": "code",
      "execution_count": null,
      "metadata": {
        "ExecuteTime": {
          "end_time": "2019-09-29T03:07:28.610934Z",
          "start_time": "2019-09-29T03:07:28.598223Z"
        },
        "colab": {
          "base_uri": "https://localhost:8080/"
        },
        "id": "no6SdSyICZtr",
        "outputId": "b5b0aaad-d002-4140-8930-6e34def1ee7a"
      },
      "outputs": [
        {
          "data": {
            "text/plain": [
              "tensor([0., 1., 2., 3.])"
            ]
          },
          "execution_count": 39,
          "metadata": {},
          "output_type": "execute_result"
        }
      ],
      "source": [
        "x = torch.arange(0, 4).float()\n",
        "x"
      ]
    },
    {
      "cell_type": "code",
      "execution_count": null,
      "metadata": {
        "ExecuteTime": {
          "end_time": "2019-09-29T03:07:31.523762Z",
          "start_time": "2019-09-29T03:07:31.497683Z"
        },
        "colab": {
          "base_uri": "https://localhost:8080/"
        },
        "id": "eL_i1mwGCZtw",
        "outputId": "3490f4d3-9f04-4269-bd09-ab5d612733fc"
      },
      "outputs": [
        {
          "data": {
            "text/plain": [
              "tensor([1.], requires_grad=True)"
            ]
          },
          "execution_count": 40,
          "metadata": {},
          "output_type": "execute_result"
        }
      ],
      "source": [
        "w = torch.ones(1, requires_grad=True)\n",
        "w"
      ]
    },
    {
      "cell_type": "markdown",
      "metadata": {
        "id": "qjEl-0l7CZt0"
      },
      "source": [
        "## Cálculo automático do gradiente da função perda J"
      ]
    },
    {
      "cell_type": "markdown",
      "metadata": {
        "id": "8pUh-SCnCZt1"
      },
      "source": [
        "Seja a expressão: $$ J = \\sum_i ((x_i  w) - y_i)^2 $$\n",
        "\n",
        "Queremos calcular a derivada de $J$ em relação a $w$."
      ]
    },
    {
      "cell_type": "markdown",
      "metadata": {
        "id": "eMwwVtJ1CZt2"
      },
      "source": [
        "## Forward pass\n",
        "\n",
        "Durante a execução da expressão, o grafo computacional é criado. Compare os valores de cada parcela calculada com os valores em preto da figura ilustrativa do grafo computacional."
      ]
    },
    {
      "cell_type": "code",
      "execution_count": null,
      "metadata": {
        "ExecuteTime": {
          "end_time": "2019-09-29T03:07:36.290122Z",
          "start_time": "2019-09-29T03:07:36.273229Z"
        },
        "colab": {
          "base_uri": "https://localhost:8080/"
        },
        "id": "zp2aK4YhCZt3",
        "outputId": "2d84a516-8cb0-48ba-8a30-acc511308f21"
      },
      "outputs": [
        {
          "name": "stdout",
          "output_type": "stream",
          "text": [
            "y_pred = tensor([0., 1., 2., 3.], grad_fn=<MulBackward0>)\n",
            "e = tensor([ 0., -1., -2., -3.], grad_fn=<SubBackward0>)\n",
            "e2 = tensor([0., 1., 4., 9.], grad_fn=<PowBackward0>)\n",
            "J = tensor(14., grad_fn=<SumBackward0>)\n"
          ]
        }
      ],
      "source": [
        "# predict (forward)\n",
        "y_pred = x * w; print('y_pred =', y_pred)\n",
        "\n",
        "# cálculo da perda J: loss\n",
        "e = y_pred - y; print('e =',e)\n",
        "e2 = e.pow(2) ; print('e2 =', e2)\n",
        "J = e2.sum()  ; print('J =', J)"
      ]
    },
    {
      "cell_type": "markdown",
      "metadata": {
        "id": "XC96wB7PCZt8"
      },
      "source": [
        "## Backward pass"
      ]
    },
    {
      "cell_type": "markdown",
      "metadata": {
        "ExecuteTime": {
          "end_time": "2017-10-04T15:55:45.308858",
          "start_time": "2017-10-04T15:55:45.304654"
        },
        "id": "kKbf4D0CCZt-"
      },
      "source": [
        "O `backward()` varre o grafo computacional a partir da variável a ele associada (raiz) e calcula o gradiente para todos os tensores que possuem o atributo `requires_grad` como verdadeiro.\n",
        "Observe que os tensores que tiverem o atributo `requires_grad` serão sempre folhas no grafo computacional.\n",
        "O `backward()` destroi o grafo após sua execução. Esse comportamento é padrão no PyTorch. \n",
        "\n",
        "A título ilustrativo, se quisermos depurar os gradientes dos nós que não são folhas no grafo computacional, precisamos primeiro invocar `retain_grad()` em cada um desses nós, como a seguir. Entretanto nos exemplos reais não há necessidade de verificar o gradiente desses nós."
      ]
    },
    {
      "cell_type": "code",
      "execution_count": null,
      "metadata": {
        "id": "f-CjLPu6clVo"
      },
      "outputs": [],
      "source": [
        "e2.retain_grad()\n",
        "e.retain_grad()\n",
        "y_pred.retain_grad()"
      ]
    },
    {
      "cell_type": "markdown",
      "metadata": {
        "id": "WtsZS2Bicof-"
      },
      "source": [
        "E agora calculamos os gradientes com o `backward()`.\n",
        "\n",
        "w.grad é o gradiente de J em relação a w."
      ]
    },
    {
      "cell_type": "code",
      "execution_count": null,
      "metadata": {
        "ExecuteTime": {
          "end_time": "2019-09-29T03:07:40.267334Z",
          "start_time": "2019-09-29T03:07:40.247422Z"
        },
        "colab": {
          "base_uri": "https://localhost:8080/"
        },
        "id": "Z1lnkb0GCZt_",
        "outputId": "29436010-7e08-4c0a-b506-40dc10d9809e"
      },
      "outputs": [
        {
          "name": "stdout",
          "output_type": "stream",
          "text": [
            "tensor([-28.])\n"
          ]
        }
      ],
      "source": [
        "if w.grad: w.grad.zero_()\n",
        "J.backward()\n",
        "print(w.grad)"
      ]
    },
    {
      "cell_type": "markdown",
      "metadata": {
        "id": "N1xYDPR_uOcZ"
      },
      "source": [
        "Mostramos agora os gradientes que estão grafados em vermelho no grafo computacional:"
      ]
    },
    {
      "cell_type": "code",
      "execution_count": null,
      "metadata": {
        "colab": {
          "base_uri": "https://localhost:8080/"
        },
        "id": "Enuk2tf0sDyO",
        "outputId": "0eda689c-ca33-42fc-fd76-d15ef4c6c2b8"
      },
      "outputs": [
        {
          "name": "stdout",
          "output_type": "stream",
          "text": [
            "tensor([1., 1., 1., 1.])\n",
            "tensor([ 0., -2., -4., -6.])\n",
            "tensor([ 0., -2., -4., -6.])\n"
          ]
        }
      ],
      "source": [
        "print(e2.grad)\n",
        "print(e.grad)\n",
        "print(y_pred.grad)"
      ]
    },
    {
      "cell_type": "markdown",
      "metadata": {
        "id": "LsOThnt8fDJV"
      },
      "source": [
        "##Exercício 3.1\n",
        "Calcule o mesmo gradiente ilustrado no exemplo anterior usando a regra das diferenças finitas, de acordo com a equação a seguir, utilizando um valor de $\\Delta w$ bem pequeno.\n",
        "\n",
        "$$ \\frac{\\partial J}{\\partial w} = \\frac{J(w + \\Delta w) - J(w - \\Delta w)}{2 \\Delta w} $$"
      ]
    },
    {
      "cell_type": "code",
      "execution_count": null,
      "metadata": {
        "colab": {
          "base_uri": "https://localhost:8080/"
        },
        "id": "vMWjq2BMbR4N",
        "outputId": "2a2d10b9-8eb9-4c2d-f290-47dbf3077bca"
      },
      "outputs": [
        {
          "name": "stdout",
          "output_type": "stream",
          "text": [
            "0.1\n",
            "J_func(w) 14.0; f_func(w+dw) 11.339998245239258; f_func(w-dw) 16.94000244140625\n",
            "grad= tensor(-28.0000)\n"
          ]
        }
      ],
      "source": [
        "def J_func(w, x, y):\n",
        "    return (np.multiply(w, x) - y).pow(2).sum()\n",
        "\n",
        "# Calcule o gradiente usando a regra diferenças finitas\n",
        "# Confira com o valor já calculado anteriormente\n",
        "x = torch.arange(0, 4).float()\n",
        "y = torch.arange(0, 8, 2).float()\n",
        "w = torch.ones(1)\n",
        "dw = 0.1\n",
        "print(dw)\n",
        "print(f'J_func(w) {J_func(w,x,y)}; f_func(w+dw) {J_func(w+dw, x, y)}; f_func(w-dw) {J_func(w-dw, x, y)}')\n",
        "grad = (J_func(w+dw, x, y) - J_func(w-dw, x, y)) / (2 * dw)\n",
        "print('grad=', grad)"
      ]
    },
    {
      "cell_type": "markdown",
      "metadata": {
        "id": "O_Sx1QXZxJ3u"
      },
      "source": [
        "##Exercício 3.2\n",
        "\n",
        "Minimizando $J$ pelo gradiente descendente\n",
        "\n",
        "$$ w_{k+1} = w_k - \\lambda \\frac {\\partial J}{\\partial w} $$\n",
        "\n",
        "Supondo que valor inicial ($k=0$) $w_0 = 1$, use learning rate $\\lambda = 0.01$ para calcular o valor do novo $w_{20}$, ou seja, fazendo 20 atualizações de gradientes. Deve-se usar a função `J_func` criada no exercício anterior.\n",
        "\n",
        "Confira se o valor do primeiro gradiente está de acordo com os valores já calculado acima"
      ]
    },
    {
      "cell_type": "code",
      "execution_count": null,
      "metadata": {
        "id": "rGPsGkJobbYx"
      },
      "outputs": [],
      "source": [
        "import matplotlib.pyplot as plt"
      ]
    },
    {
      "cell_type": "code",
      "execution_count": null,
      "metadata": {
        "colab": {
          "base_uri": "https://localhost:8080/",
          "height": 1000
        },
        "id": "vAa2O_cabhFB",
        "outputId": "07c5ecdc-3768-401e-c41a-8eb497c8d3a3"
      },
      "outputs": [
        {
          "name": "stdout",
          "output_type": "stream",
          "text": [
            "\n",
            "i = 0 J= 14.0 grad = -28.00002098083496 w =tensor([1.2800])\n",
            "\n",
            "i = 1 J= 7.257596015930176 grad = -20.16000747680664 w =tensor([1.4816])\n",
            "\n",
            "i = 2 J= 3.762335777282715 grad = -14.5152006149292 w =tensor([1.6268])\n",
            "\n",
            "i = 3 J= 1.950394630432129 grad = -10.450942039489746 w =tensor([1.7313])\n",
            "\n",
            "i = 4 J= 1.0110836029052734 grad = -7.524674892425537 w =tensor([1.8065])\n",
            "\n",
            "i = 5 J= 0.5241460204124451 grad = -5.41776704788208 w =tensor([1.8607])\n",
            "\n",
            "i = 6 J= 0.2717174291610718 grad = -3.900789976119995 w =tensor([1.8997])\n",
            "\n",
            "i = 7 J= 0.14085820317268372 grad = -2.808570146560669 w =tensor([1.9278])\n",
            "\n",
            "i = 8 J= 0.07302085310220718 grad = -2.0221707820892334 w =tensor([1.9480])\n",
            "\n",
            "i = 9 J= 0.03785398602485657 grad = -1.455962896347046 w =tensor([1.9626])\n",
            "\n",
            "i = 10 J= 0.019623516127467155 grad = -1.0482927560806274 w =tensor([1.9730])\n",
            "\n",
            "i = 11 J= 0.010172825306653976 grad = -0.7547721266746521 w =tensor([1.9806])\n",
            "\n",
            "i = 12 J= 0.005273588001728058 grad = -0.5434329509735107 w =tensor([1.9860])\n",
            "\n",
            "i = 13 J= 0.002733835019171238 grad = -0.39127466082572937 w =tensor([1.9899])\n",
            "\n",
            "i = 14 J= 0.0014172473456710577 grad = -0.281717985868454 w =tensor([1.9928])\n",
            "\n",
            "i = 15 J= 0.0007347092032432556 grad = -0.20283769071102142 w =tensor([1.9948])\n",
            "\n",
            "i = 16 J= 0.00038088360452093184 grad = -0.1460452377796173 w =tensor([1.9962])\n",
            "\n",
            "i = 17 J= 0.00019744501332752407 grad = -0.10515324771404266 w =tensor([1.9973])\n",
            "\n",
            "i = 18 J= 0.00010235930676572025 grad = -0.07570989429950714 w =tensor([1.9981])\n",
            "\n",
            "i = 19 J= 5.3059407946420833e-05 grad = -0.05450993776321411 w =tensor([1.9986])\n"
          ]
        },
        {
          "data": {
            "image/png": "[encoded data removed]",
            "text/plain": [
              "<Figure size 432x288 with 1 Axes>"
            ]
          },
          "metadata": {
            "needs_background": "light"
          },
          "output_type": "display_data"
        }
      ],
      "source": [
        "learning_rate = 0.01\n",
        "iteracoes = 20\n",
        "\n",
        "x = torch.arange(0, 4).float()\n",
        "y = torch.arange(0, 8, 2).float()\n",
        "w = torch.ones(1)\n",
        "\n",
        "perdas = []\n",
        "for i in range(iteracoes):\n",
        "    print()\n",
        "    J = J_func(w, x, y)\n",
        "    grad = (J_func(w+dw, x, y) - J_func(w-dw, x, y)) / (2 * dw)\n",
        "    w = w - learning_rate * grad\n",
        "    print(f'i = {i} J= {J} grad = {grad} w ={w}')\n",
        "    perdas.append(J)\n",
        "\n",
        "# Plote o gráfico da loss J pela iteração i\n",
        "plt.plot(range(20), perdas) \n",
        "plt.xlabel('I (iterações)')\n",
        "plt.xticks(range(20))\n",
        "plt.ylabel('y (loss)')\n",
        "plt.xlim(0,20)\n",
        "plt.title('Loss por iteração')\n",
        "plt.show()"
      ]
    },
    {
      "cell_type": "markdown",
      "metadata": {
        "id": "JBXxBmWGK3IU"
      },
      "source": [
        "##Exercício 3.3\n",
        "\n",
        "Repita o exercício 2 mas usando agora o calculando o gradiente usando o método backward() do pytorch. Confira se o primeiro valor do gradiente está de acordo com os valores anteriores. Execute essa próxima célula duas vezes. Os valores devem ser iguais.\n"
      ]
    },
    {
      "cell_type": "code",
      "execution_count": null,
      "metadata": {
        "colab": {
          "base_uri": "https://localhost:8080/"
        },
        "id": "SbmESzp1b8dg",
        "outputId": "a7403b8d-37a1-4a3d-d652-6579c6ce243b"
      },
      "outputs": [
        {
          "name": "stdout",
          "output_type": "stream",
          "text": [
            "y_pred = tensor([0., 1., 2., 3.], grad_fn=<MulBackward0>)\n"
          ]
        }
      ],
      "source": [
        "learning_rate = 0.01\n",
        "iteracoes = 20\n",
        "\n",
        "x = torch.arange(0, 4).float()\n",
        "y = torch.arange(0, 8, 2).float()\n",
        "w = torch.ones(1, requires_grad=True)\n",
        "\n",
        "\n",
        "# predict (forward)\n",
        "y_pred = x * w; print('y_pred =', y_pred)\n",
        "e = y_pred - y\n",
        "e2 = e.pow(2) \n",
        "J = e2.sum()  \n",
        "\n",
        "e2.retain_grad()\n",
        "e.retain_grad()\n",
        "y_pred.retain_grad()\n",
        "\n",
        "if w.grad: w.grad.zero_()\n",
        "perdas = []"
      ]
    },
    {
      "cell_type": "code",
      "execution_count": null,
      "metadata": {
        "id": "u_l547qPcBJp"
      },
      "outputs": [],
      "source": [
        "J.backward(retain_graph=True)"
      ]
    },
    {
      "cell_type": "code",
      "execution_count": null,
      "metadata": {
        "colab": {
          "base_uri": "https://localhost:8080/"
        },
        "id": "4yhq4Zr1cCsh",
        "outputId": "c67e5b08-e2a0-4920-a3e4-a5f9254eeb55"
      },
      "outputs": [
        {
          "name": "stdout",
          "output_type": "stream",
          "text": [
            "tensor([-28.])\n"
          ]
        }
      ],
      "source": [
        "print(w.grad)"
      ]
    },
    {
      "cell_type": "code",
      "execution_count": null,
      "metadata": {
        "colab": {
          "base_uri": "https://localhost:8080/",
          "height": 1000
        },
        "id": "rhs4xWlmcTtw",
        "outputId": "3cb095ee-cddb-4e51-e291-79b22db53aa8"
      },
      "outputs": [
        {
          "name": "stdout",
          "output_type": "stream",
          "text": [
            "w =tensor([1.5600], requires_grad=True)\n",
            "i = 0 J= 14.0 grad = tensor([-56.]) w =tensor([1.5600], requires_grad=True)\n",
            "w =tensor([1.6832], requires_grad=True)\n",
            "i = 1 J= 2.7104005813598633 grad = tensor([-12.3200]) w =tensor([1.6832], requires_grad=True)\n",
            "w =tensor([1.7719], requires_grad=True)\n",
            "i = 2 J= 1.4050711393356323 grad = tensor([-8.8704]) w =tensor([1.7719], requires_grad=True)\n",
            "w =tensor([1.8358], requires_grad=True)\n",
            "i = 3 J= 0.7283890247344971 grad = tensor([-6.3867]) w =tensor([1.8358], requires_grad=True)\n",
            "w =tensor([1.8818], requires_grad=True)\n",
            "i = 4 J= 0.37759679555892944 grad = tensor([-4.5984]) w =tensor([1.8818], requires_grad=True)\n",
            "w =tensor([1.9149], requires_grad=True)\n",
            "i = 5 J= 0.1957462579011917 grad = tensor([-3.3109]) w =tensor([1.9149], requires_grad=True)\n",
            "w =tensor([1.9387], requires_grad=True)\n",
            "i = 6 J= 0.10147492587566376 grad = tensor([-2.3838]) w =tensor([1.9387], requires_grad=True)\n",
            "w =tensor([1.9559], requires_grad=True)\n",
            "i = 7 J= 0.052604615688323975 grad = tensor([-1.7164]) w =tensor([1.9559], requires_grad=True)\n",
            "w =tensor([1.9682], requires_grad=True)\n",
            "i = 8 J= 0.027270279824733734 grad = tensor([-1.2358]) w =tensor([1.9682], requires_grad=True)\n",
            "w =tensor([1.9771], requires_grad=True)\n",
            "i = 9 J= 0.014136932790279388 grad = tensor([-0.8898]) w =tensor([1.9771], requires_grad=True)\n",
            "w =tensor([1.9835], requires_grad=True)\n",
            "i = 10 J= 0.007328573148697615 grad = tensor([-0.6406]) w =tensor([1.9835], requires_grad=True)\n",
            "w =tensor([1.9881], requires_grad=True)\n",
            "i = 11 J= 0.003799171419814229 grad = tensor([-0.4613]) w =tensor([1.9881], requires_grad=True)\n",
            "w =tensor([1.9915], requires_grad=True)\n",
            "i = 12 J= 0.0019694678485393524 grad = tensor([-0.3321]) w =tensor([1.9915], requires_grad=True)\n",
            "w =tensor([1.9939], requires_grad=True)\n",
            "i = 13 J= 0.0010209650499746203 grad = tensor([-0.2391]) w =tensor([1.9939], requires_grad=True)\n",
            "w =tensor([1.9956], requires_grad=True)\n",
            "i = 14 J= 0.0005292787682265043 grad = tensor([-0.1722]) w =tensor([1.9956], requires_grad=True)\n",
            "w =tensor([1.9968], requires_grad=True)\n",
            "i = 15 J= 0.0002743711811490357 grad = tensor([-0.1240]) w =tensor([1.9968], requires_grad=True)\n",
            "w =tensor([1.9977], requires_grad=True)\n",
            "i = 16 J= 0.00014223942707758397 grad = tensor([-0.0892]) w =tensor([1.9977], requires_grad=True)\n",
            "w =tensor([1.9983], requires_grad=True)\n",
            "i = 17 J= 7.373015250777826e-05 grad = tensor([-0.0643]) w =tensor([1.9983], requires_grad=True)\n",
            "w =tensor([1.9988], requires_grad=True)\n",
            "i = 18 J= 3.822529106400907e-05 grad = tensor([-0.0463]) w =tensor([1.9988], requires_grad=True)\n",
            "w =tensor([1.9991], requires_grad=True)\n",
            "i = 19 J= 1.981569585041143e-05 grad = tensor([-0.0333]) w =tensor([1.9991], requires_grad=True)\n"
          ]
        },
        {
          "data": {
            "image/png": "[encoded data removed]",
            "text/plain": [
              "<Figure size 432x288 with 1 Axes>"
            ]
          },
          "metadata": {
            "needs_background": "light"
          },
          "output_type": "display_data"
        }
      ],
      "source": [
        "\n",
        "\n",
        "for i in range(iteracoes):\n",
        "  loss = J_func(w.detach().numpy() , x, y)\n",
        "  perdas.append(loss)\n",
        "  y_pred = x * w; \n",
        "  e = y_pred - y\n",
        "  e2 = e.pow(2) \n",
        "  J = e2.sum()  \n",
        "  J.backward()\n",
        "  grad = w.grad\n",
        "  with torch.no_grad():\n",
        "    w -= learning_rate * w.grad\n",
        "  # w = w - learning_rate * grad\n",
        "  print(f'w ={w}')\n",
        "  print(f'i = {i} J= {J} grad = {grad} w ={w}')\n",
        "  w.grad.zero_()\n",
        "\n",
        "\n",
        "# Plote o gráfico da loss J pela iteração i\n",
        "plt.plot(range(20), perdas) \n",
        "plt.xlabel('x - iterações')\n",
        "plt.xticks(range(20))\n",
        "plt.ylabel('y - loss')\n",
        "plt.xlim(0,20)\n",
        "plt.title('Loss por iteração')\n",
        "plt.show()"
      ]
    },
    {
      "cell_type": "markdown",
      "metadata": {
        "id": "GulfYtzBMx2e"
      },
      "source": [
        "##Exercício 3.4\n",
        "\n",
        "Quais são as restrições na escolha dos valores de $\\Delta w$ no cálculo do gradiente por diferenças finitas?"
      ]
    },
    {
      "cell_type": "markdown",
      "metadata": {
        "id": "uWs74DiGdKMn"
      },
      "source": [
        "Resposta:\n",
        "Precisamos fazer o dw tender a zero para que teoricamente tenhamos a própria fórmula da derivada:\n",
        "\n",
        "<a href=\"https://www.codecogs.com/eqnedit.php?latex=\\lim_{dw\\rightarrow&space;0}&space;\\frac{y_{i&plus;1}&space;-&space;y_i}{dw}\" target=\"_blank\"><img src=\"https://latex.codecogs.com/gif.latex?\\lim_{dw\\rightarrow&space;0}&space;\\frac{y_{i&plus;1}&space;-&space;y_i}{dw}\" title=\"\\lim_{dw\\rightarrow 0} \\frac{y_{i+1} - y_i}{dw}\" /></a>\n",
        "\n",
        "Mas, se o valor de dw for muito pequeno, o erro ao calcular a aproximação numérica cresce (devido aos erros de arredondamento para a representação numérica computacional). Ver só uma ilustração no gráfico abaixo:\n",
        "\n",
        "![grafico.png](data:image/png;base64,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)\n",
        "\n",
        "Gráfico 1 – Diferença entre derivada real e estimada a partir de dw (h) (fonte: figura 8.1 em https://www.ufrgs.br/reamat/CalculoNumerico/livro-oct/dn-diferencas_finitas.html )\n",
        " \n",
        "Isso nos motiva a procurar o valor ótimo de dw que minimiza o erro. \n",
        "Um procedimento simples para se resolver esse problema seria atribuir a dw valores gradativamente menores. A partir de um determinado ponto as soluções obtidas serão muito parecidas, sendo que uma maior redução em dw a partir deste ponto não irá reduzir o erro global de forma signicativa e irá aumentar o erro de arredondamento.\n",
        "\n",
        "Obs.: se for o caso, a depender da função alvo, talvez seja necessária uma avaliação mais aprofundada para o valor de dw e para o cálculo da derivada aproximada em duas situações:\n",
        "\n",
        ". nos pontos de platô do gráfico (derivada = 0): a diferença entre y(x+dw) e y(x-dw) tende a ser zero;\n",
        "\n",
        ". nos pontos de descontinuidades (não é o caso da loss da questão anterior): o cálculo pode possuir comportamento oscilatório nas vizinhanças dessas descontinuidades.\n",
        "\n",
        "\n"
      ]
    },
    {
      "cell_type": "markdown",
      "metadata": {
        "id": "WsrSF8GEiXk4"
      },
      "source": [
        "##Exercício 3.5\n",
        "\n",
        "Até agora trabalhamos com $w$ contendo apenas um parâmetro. Suponha agora que $w$ seja uma matriz com $N$ parâmetros e que o custo para executar $(x_i w - y_i)^2$ seja $O(N)$.\n",
        "> a) Qual é o custo computacional para fazer uma única atualização (um passo de gradiente) dos parâmetros de $w$ usando o método das diferencas finitas?\n",
        ">\n",
        "> b) Qual é o custo computacional para fazer uma única atualização (um passo de gradiente) dos parâmetros de $w$ usando o método do backpropagation?\n",
        "\n"
      ]
    },
    {
      "cell_type": "markdown",
      "metadata": {
        "id": "-_ljI0-Kdug_"
      },
      "source": [
        "Resposta (justifique):\n",
        "\n",
        "a) $O(N^2)$ - quadrática: pois o cálculo de f que é O(N) precisa ser executado N vezes, para cada dimensão em w:\n",
        " f(w1+epsilon,w2,w3,...), f(w1,w2+epsilon,w3,...), etc\n",
        "\n",
        "b) $O(N)$ - linear: pois cada peso w precisa ser \"visitado\" pelo menos uma vez. Fonte: https://towardsdatascience.com/back-propagation-demystified-in-7-minutes-4294d71a04d7 :: Complexity of Back Propagation.\n",
        "\n"
      ]
    },
    {
      "cell_type": "markdown",
      "metadata": {
        "id": "35I5w8EZdjIo"
      },
      "source": [
        "##Exercício 3.6\n",
        "\n",
        "Qual o custo (entropia cruzada) esperado para um exemplo (uma amostra) no começo do treinamento de um classificador inicializado aleatoriamente?\n",
        "\n",
        "A equação da entropia cruzada é:\n",
        "$$L = - \\sum_{j=0}^{K-1} y_j \\log p_j, $$\n",
        "Onde:\n",
        "\n",
        "- K é o número de classes;\n",
        "\n",
        "- $y_j=1$ se $j$ é a classe do exemplo (ground-truth), 0 caso contrário. Ou seja, $y$ é um vetor one-hot;\n",
        "\n",
        "- $p_j$ é a probabilidade predita pelo modelo para a classe $j$.\n",
        "\n",
        "A resposta tem que ser em função de uma ou mais das seguintes variáveis:\n",
        "\n",
        "- K = número de classes\n",
        "\n",
        "- B = batch size\n",
        "\n",
        "- D = dimensão de qualquer vetor do modelo\n",
        "\n",
        "- LR = learning rate"
      ]
    },
    {
      "cell_type": "markdown",
      "metadata": {
        "id": "BwVo7kqad-Xe"
      },
      "source": [
        "Resposta:\n",
        "\n",
        "Sendo aleatória a inicialização, há uma tendência de que haja uma distribuição equilibrada entre as classes, o que levaria a uma entropia de uma distribuição \"meio a meio\", dada pela fórmula:\n",
        "\n",
        "$$L = \\log K $$\n",
        "\n",
        "Fonte: https://medium.com/ensina-ai/uma-explica%C3%A7%C3%A3o-visual-para-fun%C3%A7%C3%A3o-de-custo-binary-cross-entropy-ou-log-loss-eaee662c396c :: fórmula para Entropia de uma distribuição meio a meio\n",
        "\n",
        "\n",
        "\n",
        "Considerando que será 1/k em cada classe (só para o começo do algoritmo): \n",
        "\n",
        "- log 1/k = log k\n",
        "\n",
        "\n",
        "\n"
      ]
    },
    {
      "cell_type": "markdown",
      "metadata": {
        "id": "3UNdHqgSB6S9"
      },
      "source": [
        "Fim do notebook."
      ]
    }
  ],
  "metadata": {
    "colab": {
      "collapsed_sections": [],
      "include_colab_link": true,
      "name": "Exercícios - Seleção - IA025 - 202201",
      "provenance": []
    },
    "kernelspec": {
      "display_name": "Python 3",
      "language": "python",
      "name": "python3"
    },
    "language_info": {
      "codemirror_mode": {
        "name": "ipython",
        "version": 3
      },
      "file_extension": ".py",
      "mimetype": "text/x-python",
      "name": "python",
      "nbconvert_exporter": "python",
      "pygments_lexer": "ipython3",
      "version": "3.6.5"
    },
    "toc": {
      "base_numbering": 1,
      "nav_menu": {
        "height": "117px",
        "width": "252px"
      },
      "number_sections": true,
      "sideBar": true,
      "skip_h1_title": false,
      "title_cell": "Table of Contents",
      "title_sidebar": "Contents",
      "toc_cell": false,
      "toc_position": {},
      "toc_section_display": "block",
      "toc_window_display": false
    },
    "varInspector": {
      "cols": {
        "lenName": 16,
        "lenType": 16,
        "lenVar": 40
      },
      "kernels_config": {
        "python": {
          "delete_cmd_postfix": "",
          "delete_cmd_prefix": "del ",
          "library": "var_list.py",
          "varRefreshCmd": "print(var_dic_list())"
        },
        "r": {
          "delete_cmd_postfix": ") ",
          "delete_cmd_prefix": "rm(",
          "library": "var_list.r",
          "varRefreshCmd": "cat(var_dic_list()) "
        }
      },
      "types_to_exclude": [
        "module",
        "function",
        "builtin_function_or_method",
        "instance",
        "_Feature"
      ],
      "window_display": false
    }
  },
  "nbformat": 4,
  "nbformat_minor": 0
}
