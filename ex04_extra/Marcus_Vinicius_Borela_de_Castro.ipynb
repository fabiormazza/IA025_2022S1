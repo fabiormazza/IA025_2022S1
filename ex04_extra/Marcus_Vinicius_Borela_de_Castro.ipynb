{
  "nbformat": 4,
  "nbformat_minor": 0,
  "metadata": {
    "colab": {
      "name": "Exercicio_aula4_plot_otimo_batch_iris.ipynb",
      "provenance": [],
      "collapsed_sections": [],
      "include_colab_link": true
    },
    "kernelspec": {
      "name": "python3",
      "display_name": "Python 3"
    },
    "language_info": {
      "name": "python"
    },
    "accelerator": "GPU"
  },
  "cells": [
    {
      "cell_type": "markdown",
      "metadata": {
        "id": "view-in-github",
        "colab_type": "text"
      },
      "source": [
        "<a href=\"https://colab.research.google.com/github/unicamp-dl/IA025_2022S1/blob/main/ex04_extra/Marcus_Vinicius_Borela_de_Castro.ipynb\" target=\"_parent\"><img src=\"https://colab.research.google.com/assets/colab-badge.svg\" alt=\"Open In Colab\"/></a>"
      ]
    },
    {
      "cell_type": "markdown",
      "source": [
        "Nome: Marcus Vinícius Borela de Castro"
      ],
      "metadata": {
        "id": "OuUGV9Mka-_m"
      }
    },
    {
      "cell_type": "code",
      "execution_count": 107,
      "metadata": {
        "id": "dCHgSQLCl-cT"
      },
      "outputs": [],
      "source": [
        "import numpy as np\n",
        "import torch\n",
        "from torch.utils.data import TensorDataset\n",
        "from torch.utils.data import DataLoader\n",
        "\n",
        "from torchvision import transforms\n",
        "\n",
        "from sklearn.datasets import load_iris\n",
        "%matplotlib inline\n",
        "import matplotlib.pyplot as plt"
      ]
    },
    {
      "cell_type": "code",
      "source": [
        "import random"
      ],
      "metadata": {
        "id": "_xl74rj5csba"
      },
      "execution_count": 108,
      "outputs": []
    },
    {
      "cell_type": "code",
      "metadata": {
        "id": "bkETIyWGkbOf"
      },
      "source": [
        "def inicializa_seed():\n",
        "  \"\"\"\n",
        "  É recomendado reiniciar as seeds antes de inicializar o modelo, pois assim\n",
        "  garantimos que os pesos vao ser sempre os mesmos.\n",
        "  fontes de apoio: \n",
        "      http://nlp.seas.harvard.edu/2018/04/03/attention.html\n",
        "      https://github.com/CyberZHG/torch-multi-head-attention/blob/master/torch_multi_head_attention/multi_head_attention.py#L15\n",
        "  \"\"\"\n",
        "  random.seed(123)\n",
        "  np.random.seed(123)\n",
        "  torch.manual_seed(123)\n",
        "  #torch.cuda.manual_seed(123)\n",
        "  #Cuda algorithms\n",
        "  #torch.backends.cudnn.deterministic = True "
      ],
      "execution_count": 109,
      "outputs": []
    },
    {
      "cell_type": "code",
      "metadata": {
        "id": "ViMcw_kVkbOf"
      },
      "source": [
        "inicializa_seed()"
      ],
      "execution_count": 110,
      "outputs": []
    },
    {
      "cell_type": "code",
      "source": [
        "iris = load_iris()\n",
        "data = iris.data[iris.target==1,::2]  # comprimento das sépalas e pétalas, indices 0 e 2\n",
        "\n",
        "x_data = data[:,0:1]\n",
        "target = data[:,1:2]\n",
        "n_samples = x_data.shape[0]\n",
        "\n",
        "print('dimensões de x_data:', x_data.shape)\n",
        "print('dimensões de target:', target.shape)"
      ],
      "metadata": {
        "colab": {
          "base_uri": "https://localhost:8080/"
        },
        "id": "3tq5F1rPmDSm",
        "outputId": "91b1984a-12ba-4d3d-e2b6-438f7a10fdcc"
      },
      "execution_count": 111,
      "outputs": [
        {
          "output_type": "stream",
          "name": "stdout",
          "text": [
            "dimensões de x_data: (50, 1)\n",
            "dimensões de target: (50, 1)\n"
          ]
        }
      ]
    },
    {
      "cell_type": "code",
      "source": [
        "x_train = torch.FloatTensor(x_data)\n",
        "y_train = torch.FloatTensor(target)\n",
        "xt_min = x_train.min()\n",
        "xt_max = x_train.max()\n",
        "x_train_n = (x_train - xt_min)/(xt_max - xt_min)\n",
        "\n",
        "yt_min = y_train.min()\n",
        "yt_max = y_train.max()\n",
        "y_train_n = (y_train - yt_min)/(yt_max - yt_min)"
      ],
      "metadata": {
        "id": "UoDwmWyRmKAC"
      },
      "execution_count": 112,
      "outputs": []
    },
    {
      "cell_type": "code",
      "source": [
        "x_train_bias = torch.cat([torch.ones(size=(n_samples,1)), x_train_n], dim=1)\n",
        "print(x_train_bias.shape)"
      ],
      "metadata": {
        "colab": {
          "base_uri": "https://localhost:8080/"
        },
        "id": "808SexYanRHA",
        "outputId": "0cc638a1-257f-4ca7-fdff-63e3a2140f30"
      },
      "execution_count": 113,
      "outputs": [
        {
          "output_type": "stream",
          "name": "stdout",
          "text": [
            "torch.Size([50, 2])\n"
          ]
        }
      ]
    },
    {
      "cell_type": "code",
      "source": [
        "dataset = TensorDataset(x_train_bias, y_train_n)"
      ],
      "metadata": {
        "id": "28YsXH5jmZAZ"
      },
      "execution_count": 114,
      "outputs": []
    },
    {
      "cell_type": "code",
      "source": [
        "data_loader = DataLoader(dataset, \n",
        "                         batch_size=10, # tamanho do mini-batch de dados\n",
        "                         shuffle=True) # se for True, embaralha os dados no inicio de cada iteração"
      ],
      "metadata": {
        "id": "xhHiL5Tkmwex"
      },
      "execution_count": 115,
      "outputs": []
    },
    {
      "cell_type": "markdown",
      "source": [
        "Solução ótima"
      ],
      "metadata": {
        "id": "pYVneGRYneXZ"
      }
    },
    {
      "cell_type": "code",
      "source": [
        "x_bias, y = next(iter(data_loader))"
      ],
      "metadata": {
        "id": "Ra0wXQHSnkCt"
      },
      "execution_count": 116,
      "outputs": []
    },
    {
      "cell_type": "code",
      "source": [
        "w_opt = (torch.inverse(x_bias.t().mm(x_bias)).mm(x_bias.t())).mm(y)\n",
        "print(w_opt.t(), w_opt.shape)"
      ],
      "metadata": {
        "colab": {
          "base_uri": "https://localhost:8080/"
        },
        "id": "3vVTJ_Z5mx6K",
        "outputId": "af049ce9-9fd4-410f-d615-1a42d8a5ff9d"
      },
      "execution_count": 117,
      "outputs": [
        {
          "output_type": "stream",
          "name": "stdout",
          "text": [
            "tensor([[0.3068, 0.5517]]) torch.Size([2, 1])\n"
          ]
        }
      ]
    },
    {
      "cell_type": "code",
      "source": [
        "print(len(data_loader))"
      ],
      "metadata": {
        "colab": {
          "base_uri": "https://localhost:8080/"
        },
        "id": "tISoqb_MSFji",
        "outputId": "3aca5329-620e-48a7-8304-90d57ec1599c"
      },
      "execution_count": 118,
      "outputs": [
        {
          "output_type": "stream",
          "name": "stdout",
          "text": [
            "5\n"
          ]
        }
      ]
    },
    {
      "cell_type": "markdown",
      "source": [
        "# Exercício é codificar a próxima célula:"
      ],
      "metadata": {
        "id": "FIxIOUmSa3mQ"
      }
    },
    {
      "cell_type": "code",
      "source": [
        "# colocar aqui um laço para \n",
        "# calcular os valores ótimos associados a cada batch\n",
        "# é esperado um gráfico parecido com o gráfico"
      ],
      "metadata": {
        "id": "mw7E0q8Jobkh"
      },
      "execution_count": 119,
      "outputs": []
    },
    {
      "cell_type": "code",
      "source": [
        "device = torch.device('cuda:0' if torch.cuda.is_available() else 'cpu')"
      ],
      "metadata": {
        "id": "3JkMFMltPnBs"
      },
      "execution_count": 120,
      "outputs": []
    },
    {
      "cell_type": "code",
      "source": [
        "if torch.cuda.is_available(): print(torch. cuda. get_device_name(device))    "
      ],
      "metadata": {
        "colab": {
          "base_uri": "https://localhost:8080/"
        },
        "id": "AiW6lwL-RDVj",
        "outputId": "931aad42-ebf4-46ad-c7a2-9e1777221848"
      },
      "execution_count": 121,
      "outputs": [
        {
          "output_type": "stream",
          "name": "stdout",
          "text": [
            "Tesla K80\n"
          ]
        }
      ]
    },
    {
      "cell_type": "code",
      "source": [
        "for idx, batch in enumerate(data_loader):\n",
        "  print(batch[1])\n",
        "  break"
      ],
      "metadata": {
        "colab": {
          "base_uri": "https://localhost:8080/"
        },
        "id": "-_rio0YIRblq",
        "outputId": "e4e23925-8b1c-4f1b-dda0-62238bf1cbf3"
      },
      "execution_count": 122,
      "outputs": [
        {
          "output_type": "stream",
          "name": "stdout",
          "text": [
            "tensor([[0.7143],\n",
            "        [0.4762],\n",
            "        [0.7143],\n",
            "        [0.6190],\n",
            "        [0.4762],\n",
            "        [0.8095],\n",
            "        [0.4286],\n",
            "        [0.2381],\n",
            "        [0.3333],\n",
            "        [0.6190]])\n"
          ]
        }
      ]
    },
    {
      "cell_type": "code",
      "source": [
        "max_epochs =1000"
      ],
      "metadata": {
        "id": "i-dAufR5ZE-r"
      },
      "execution_count": 123,
      "outputs": []
    },
    {
      "cell_type": "code",
      "source": [
        "for cnt_epoca in range(1, max_epochs+1):\n",
        "  for idx, batch in enumerate(data_loader):\n",
        "    x_bias = batch[0].to(device)\n",
        "    y = batch[1].to(device)\n",
        "    w_opt = (torch.inverse(x_bias.t().mm(x_bias)).mm(x_bias.t())).mm(y)\n",
        "    if cnt_epoca == 1 and idx ==0:\n",
        "      pares = np.array([w_opt[0,0].item(), w_opt[1,0].item()]).reshape(1,2)\n",
        "    else: \n",
        "      pares = np.concatenate((pares, np.array([w_opt[0,0].item(), w_opt[1,0].item()]).reshape(1,2)), axis=0)\n",
        "    #print(f\"idx: {idx} w_opt.t(): {w_opt.t()} pares: {pares}\")\n",
        "  if cnt_epoca %10 ==0: \n",
        "    print(f\"cnt_epoca: {cnt_epoca} qtd_pares_distintos: {len(np.unique(pares, axis=0))}\")\n"
      ],
      "metadata": {
        "colab": {
          "base_uri": "https://localhost:8080/"
        },
        "id": "heS8yunYPeYN",
        "outputId": "475aae66-a152-4403-da3f-02fae95d8cda"
      },
      "execution_count": 124,
      "outputs": [
        {
          "output_type": "stream",
          "name": "stdout",
          "text": [
            "cnt_epoca: 10 qtd_pares_distintos: 50\n",
            "cnt_epoca: 20 qtd_pares_distintos: 100\n",
            "cnt_epoca: 30 qtd_pares_distintos: 150\n",
            "cnt_epoca: 40 qtd_pares_distintos: 200\n",
            "cnt_epoca: 50 qtd_pares_distintos: 250\n",
            "cnt_epoca: 60 qtd_pares_distintos: 300\n",
            "cnt_epoca: 70 qtd_pares_distintos: 350\n",
            "cnt_epoca: 80 qtd_pares_distintos: 400\n",
            "cnt_epoca: 90 qtd_pares_distintos: 450\n",
            "cnt_epoca: 100 qtd_pares_distintos: 500\n",
            "cnt_epoca: 110 qtd_pares_distintos: 550\n",
            "cnt_epoca: 120 qtd_pares_distintos: 600\n",
            "cnt_epoca: 130 qtd_pares_distintos: 650\n",
            "cnt_epoca: 140 qtd_pares_distintos: 700\n",
            "cnt_epoca: 150 qtd_pares_distintos: 750\n",
            "cnt_epoca: 160 qtd_pares_distintos: 800\n",
            "cnt_epoca: 170 qtd_pares_distintos: 850\n",
            "cnt_epoca: 180 qtd_pares_distintos: 900\n",
            "cnt_epoca: 190 qtd_pares_distintos: 950\n",
            "cnt_epoca: 200 qtd_pares_distintos: 1000\n",
            "cnt_epoca: 210 qtd_pares_distintos: 1050\n",
            "cnt_epoca: 220 qtd_pares_distintos: 1100\n",
            "cnt_epoca: 230 qtd_pares_distintos: 1150\n",
            "cnt_epoca: 240 qtd_pares_distintos: 1200\n",
            "cnt_epoca: 250 qtd_pares_distintos: 1250\n",
            "cnt_epoca: 260 qtd_pares_distintos: 1300\n",
            "cnt_epoca: 270 qtd_pares_distintos: 1350\n",
            "cnt_epoca: 280 qtd_pares_distintos: 1400\n",
            "cnt_epoca: 290 qtd_pares_distintos: 1450\n",
            "cnt_epoca: 300 qtd_pares_distintos: 1500\n",
            "cnt_epoca: 310 qtd_pares_distintos: 1550\n",
            "cnt_epoca: 320 qtd_pares_distintos: 1600\n",
            "cnt_epoca: 330 qtd_pares_distintos: 1650\n",
            "cnt_epoca: 340 qtd_pares_distintos: 1700\n",
            "cnt_epoca: 350 qtd_pares_distintos: 1750\n",
            "cnt_epoca: 360 qtd_pares_distintos: 1800\n",
            "cnt_epoca: 370 qtd_pares_distintos: 1850\n",
            "cnt_epoca: 380 qtd_pares_distintos: 1900\n",
            "cnt_epoca: 390 qtd_pares_distintos: 1950\n",
            "cnt_epoca: 400 qtd_pares_distintos: 2000\n",
            "cnt_epoca: 410 qtd_pares_distintos: 2050\n",
            "cnt_epoca: 420 qtd_pares_distintos: 2100\n",
            "cnt_epoca: 430 qtd_pares_distintos: 2150\n",
            "cnt_epoca: 440 qtd_pares_distintos: 2200\n",
            "cnt_epoca: 450 qtd_pares_distintos: 2250\n",
            "cnt_epoca: 460 qtd_pares_distintos: 2300\n",
            "cnt_epoca: 470 qtd_pares_distintos: 2350\n",
            "cnt_epoca: 480 qtd_pares_distintos: 2400\n",
            "cnt_epoca: 490 qtd_pares_distintos: 2450\n",
            "cnt_epoca: 500 qtd_pares_distintos: 2500\n",
            "cnt_epoca: 510 qtd_pares_distintos: 2550\n",
            "cnt_epoca: 520 qtd_pares_distintos: 2600\n",
            "cnt_epoca: 530 qtd_pares_distintos: 2650\n",
            "cnt_epoca: 540 qtd_pares_distintos: 2700\n",
            "cnt_epoca: 550 qtd_pares_distintos: 2750\n",
            "cnt_epoca: 560 qtd_pares_distintos: 2800\n",
            "cnt_epoca: 570 qtd_pares_distintos: 2850\n",
            "cnt_epoca: 580 qtd_pares_distintos: 2900\n",
            "cnt_epoca: 590 qtd_pares_distintos: 2950\n",
            "cnt_epoca: 600 qtd_pares_distintos: 3000\n",
            "cnt_epoca: 610 qtd_pares_distintos: 3050\n",
            "cnt_epoca: 620 qtd_pares_distintos: 3100\n",
            "cnt_epoca: 630 qtd_pares_distintos: 3150\n",
            "cnt_epoca: 640 qtd_pares_distintos: 3200\n",
            "cnt_epoca: 650 qtd_pares_distintos: 3250\n",
            "cnt_epoca: 660 qtd_pares_distintos: 3300\n",
            "cnt_epoca: 670 qtd_pares_distintos: 3350\n",
            "cnt_epoca: 680 qtd_pares_distintos: 3400\n",
            "cnt_epoca: 690 qtd_pares_distintos: 3450\n",
            "cnt_epoca: 700 qtd_pares_distintos: 3500\n",
            "cnt_epoca: 710 qtd_pares_distintos: 3550\n",
            "cnt_epoca: 720 qtd_pares_distintos: 3600\n",
            "cnt_epoca: 730 qtd_pares_distintos: 3650\n",
            "cnt_epoca: 740 qtd_pares_distintos: 3700\n",
            "cnt_epoca: 750 qtd_pares_distintos: 3750\n",
            "cnt_epoca: 760 qtd_pares_distintos: 3800\n",
            "cnt_epoca: 770 qtd_pares_distintos: 3850\n",
            "cnt_epoca: 780 qtd_pares_distintos: 3900\n",
            "cnt_epoca: 790 qtd_pares_distintos: 3950\n",
            "cnt_epoca: 800 qtd_pares_distintos: 4000\n",
            "cnt_epoca: 810 qtd_pares_distintos: 4050\n",
            "cnt_epoca: 820 qtd_pares_distintos: 4100\n",
            "cnt_epoca: 830 qtd_pares_distintos: 4150\n",
            "cnt_epoca: 840 qtd_pares_distintos: 4200\n",
            "cnt_epoca: 850 qtd_pares_distintos: 4250\n",
            "cnt_epoca: 860 qtd_pares_distintos: 4300\n",
            "cnt_epoca: 870 qtd_pares_distintos: 4350\n",
            "cnt_epoca: 880 qtd_pares_distintos: 4400\n",
            "cnt_epoca: 890 qtd_pares_distintos: 4450\n",
            "cnt_epoca: 900 qtd_pares_distintos: 4500\n",
            "cnt_epoca: 910 qtd_pares_distintos: 4550\n",
            "cnt_epoca: 920 qtd_pares_distintos: 4600\n",
            "cnt_epoca: 930 qtd_pares_distintos: 4650\n",
            "cnt_epoca: 940 qtd_pares_distintos: 4700\n",
            "cnt_epoca: 950 qtd_pares_distintos: 4750\n",
            "cnt_epoca: 960 qtd_pares_distintos: 4800\n",
            "cnt_epoca: 970 qtd_pares_distintos: 4850\n",
            "cnt_epoca: 980 qtd_pares_distintos: 4900\n",
            "cnt_epoca: 990 qtd_pares_distintos: 4950\n",
            "cnt_epoca: 1000 qtd_pares_distintos: 5000\n"
          ]
        }
      ]
    },
    {
      "cell_type": "code",
      "source": [
        "plt.scatter(pares[:,0], pares[:,1])"
      ],
      "metadata": {
        "colab": {
          "base_uri": "https://localhost:8080/",
          "height": 282
        },
        "id": "gBjAfd8HY6R3",
        "outputId": "253df488-a30b-4cf1-b3b1-f0173014ebb9"
      },
      "execution_count": 125,
      "outputs": [
        {
          "output_type": "execute_result",
          "data": {
            "text/plain": [
              "<matplotlib.collections.PathCollection at 0x7f53e30a6f90>"
            ]
          },
          "metadata": {},
          "execution_count": 125
        },
        {
          "output_type": "display_data",
          "data": {
            "text/plain": [
              "<Figure size 432x288 with 1 Axes>"
            ],
            "image/png": "[encoded data removed]"
          },
          "metadata": {
            "needs_background": "light"
          }
        }
      ]
    },
    {
      "cell_type": "code",
      "source": [
        "import math"
      ],
      "metadata": {
        "id": "1o5SPE7VcnAS"
      },
      "execution_count": 129,
      "outputs": []
    },
    {
      "cell_type": "code",
      "source": [
        "math.factorial(10)"
      ],
      "metadata": {
        "colab": {
          "base_uri": "https://localhost:8080/"
        },
        "id": "CQ-icQINdJGK",
        "outputId": "089d3220-b6a5-473f-962e-237f1f938cdc"
      },
      "execution_count": 130,
      "outputs": [
        {
          "output_type": "execute_result",
          "data": {
            "text/plain": [
              "3628800"
            ]
          },
          "metadata": {},
          "execution_count": 130
        }
      ]
    },
    {
      "cell_type": "markdown",
      "source": [
        "Até quantos pontos diferentes podem haver?\n",
        "\n",
        "O equivalente ao número de combinações diferentes de 50 (n) em grupos de 10 (k: tamanho batch) (ordem não importa):\n",
        "\n",
        " n! / (k! * (n - k)!"
      ],
      "metadata": {
        "id": "Z6-MFPyKdSIR"
      }
    },
    {
      "cell_type": "code",
      "source": [
        "math.factorial(50)/(math.factorial(10) * math.factorial(40))"
      ],
      "metadata": {
        "colab": {
          "base_uri": "https://localhost:8080/"
        },
        "id": "XZTbqkLUdMtR",
        "outputId": "5b8957de-1107-480f-f36f-b83498d9b9be"
      },
      "execution_count": 132,
      "outputs": [
        {
          "output_type": "execute_result",
          "data": {
            "text/plain": [
              "10272278170.0"
            ]
          },
          "metadata": {},
          "execution_count": 132
        }
      ]
    },
    {
      "cell_type": "markdown",
      "source": [
        "## Rascunhos"
      ],
      "metadata": {
        "id": "YeJ_MuERVBKg"
      }
    },
    {
      "cell_type": "code",
      "source": [
        "w_opt.cpu().numpy()"
      ],
      "metadata": {
        "colab": {
          "base_uri": "https://localhost:8080/"
        },
        "id": "QTzAZjocUNyx",
        "outputId": "2bf53956-7a1b-40e4-fb12-d9c48772edf9"
      },
      "execution_count": null,
      "outputs": [
        {
          "output_type": "execute_result",
          "data": {
            "text/plain": [
              "array([[0.23553225],\n",
              "       [0.60998446]], dtype=float32)"
            ]
          },
          "metadata": {},
          "execution_count": 31
        }
      ]
    },
    {
      "cell_type": "code",
      "source": [
        "w_opt.shape\n"
      ],
      "metadata": {
        "colab": {
          "base_uri": "https://localhost:8080/"
        },
        "id": "KdsVUkgxUkPP",
        "outputId": "194315e4-c32d-4d95-d66e-9344bab1e98d"
      },
      "execution_count": null,
      "outputs": [
        {
          "output_type": "execute_result",
          "data": {
            "text/plain": [
              "torch.Size([2, 1])"
            ]
          },
          "metadata": {},
          "execution_count": 35
        }
      ]
    },
    {
      "cell_type": "code",
      "source": [
        "w_opt[0,0].item()"
      ],
      "metadata": {
        "colab": {
          "base_uri": "https://localhost:8080/"
        },
        "id": "IDAmcpSzUu5I",
        "outputId": "4670052c-0c34-40c1-ec34-de00666887a2"
      },
      "execution_count": 41,
      "outputs": [
        {
          "output_type": "execute_result",
          "data": {
            "text/plain": [
              "0.2355322539806366"
            ]
          },
          "metadata": {},
          "execution_count": 41
        }
      ]
    },
    {
      "cell_type": "code",
      "source": [
        "w_opt[1,0].cpu().numpy()"
      ],
      "metadata": {
        "colab": {
          "base_uri": "https://localhost:8080/"
        },
        "id": "Aw6I9qgEU14Q",
        "outputId": "fb93b184-3f42-4c16-e930-9474229fa013"
      },
      "execution_count": null,
      "outputs": [
        {
          "output_type": "execute_result",
          "data": {
            "text/plain": [
              "array(0.60998446, dtype=float32)"
            ]
          },
          "metadata": {},
          "execution_count": 40
        }
      ]
    },
    {
      "cell_type": "code",
      "source": [
        "np.array([w_opt[0,0].item(), w_opt[1,0].item()])"
      ],
      "metadata": {
        "id": "GsFwwva_rpd9",
        "colab": {
          "base_uri": "https://localhost:8080/"
        },
        "outputId": "5a5515c9-3fd1-482b-9692-047ed32b76aa"
      },
      "execution_count": 43,
      "outputs": [
        {
          "output_type": "execute_result",
          "data": {
            "text/plain": [
              "array([0.23553225, 0.60998446])"
            ]
          },
          "metadata": {},
          "execution_count": 43
        }
      ]
    },
    {
      "cell_type": "code",
      "source": [
        "result = np.array([w_opt[0,0].item(), w_opt[1,0].item()]).reshape(1,2)"
      ],
      "metadata": {
        "id": "2MSubnLZWMW3"
      },
      "execution_count": 62,
      "outputs": []
    },
    {
      "cell_type": "code",
      "source": [
        "result"
      ],
      "metadata": {
        "colab": {
          "base_uri": "https://localhost:8080/"
        },
        "id": "BxLthloeWgCo",
        "outputId": "d628c29d-6a3a-4793-9360-9dc32bb5f5fe"
      },
      "execution_count": 63,
      "outputs": [
        {
          "output_type": "execute_result",
          "data": {
            "text/plain": [
              "array([[0.23553225, 0.60998446]])"
            ]
          },
          "metadata": {},
          "execution_count": 63
        }
      ]
    },
    {
      "cell_type": "code",
      "source": [
        "result = np.concatenate((result, np.array([w_opt[0,0].item(), w_opt[1,0].item()]).reshape(1,2)), axis=0)"
      ],
      "metadata": {
        "id": "2YSuIX-OWY5G"
      },
      "execution_count": 67,
      "outputs": []
    },
    {
      "cell_type": "code",
      "source": [
        "result"
      ],
      "metadata": {
        "colab": {
          "base_uri": "https://localhost:8080/"
        },
        "id": "G50la0iQXuUO",
        "outputId": "62de7b75-b0b2-47ea-f73f-b480b247c02f"
      },
      "execution_count": 68,
      "outputs": [
        {
          "output_type": "execute_result",
          "data": {
            "text/plain": [
              "array([[0.23553225, 0.60998446],\n",
              "       [0.23553225, 0.60998446]])"
            ]
          },
          "metadata": {},
          "execution_count": 68
        }
      ]
    },
    {
      "cell_type": "code",
      "source": [
        "result[:,0]"
      ],
      "metadata": {
        "colab": {
          "base_uri": "https://localhost:8080/"
        },
        "id": "f7PKAVHWWidu",
        "outputId": "ebcf3f63-ce3e-4e3f-fc5a-a050508ecc82"
      },
      "execution_count": 69,
      "outputs": [
        {
          "output_type": "execute_result",
          "data": {
            "text/plain": [
              "array([0.23553225, 0.23553225])"
            ]
          },
          "metadata": {},
          "execution_count": 69
        }
      ]
    },
    {
      "cell_type": "code",
      "source": [
        "plt.scatter(result[:,0], result[:,1])"
      ],
      "metadata": {
        "colab": {
          "base_uri": "https://localhost:8080/",
          "height": 282
        },
        "id": "peWYG2rwXwAd",
        "outputId": "0f1999b2-9201-41e1-a708-8c4d788e755f"
      },
      "execution_count": 70,
      "outputs": [
        {
          "output_type": "execute_result",
          "data": {
            "text/plain": [
              "<matplotlib.collections.PathCollection at 0x7f53e386fb10>"
            ]
          },
          "metadata": {},
          "execution_count": 70
        },
        {
          "output_type": "display_data",
          "data": {
            "text/plain": [
              "<Figure size 432x288 with 1 Axes>"
            ],
            "image/png": "[encoded data removed]"
          },
          "metadata": {
            "needs_background": "light"
          }
        }
      ]
    },
    {
      "cell_type": "code",
      "source": [
        "(unique, counts) = np.unique(result, return_counts=True)"
      ],
      "metadata": {
        "id": "jWUO-AXfXz6d"
      },
      "execution_count": 83,
      "outputs": []
    },
    {
      "cell_type": "code",
      "source": [
        "unique, counts"
      ],
      "metadata": {
        "colab": {
          "base_uri": "https://localhost:8080/"
        },
        "id": "0sl_QY4UZbmD",
        "outputId": "34c9a341-14ac-4ef7-bdaf-2a47f1272fac"
      },
      "execution_count": 84,
      "outputs": [
        {
          "output_type": "execute_result",
          "data": {
            "text/plain": [
              "(array([0.23553225, 0.60998446]), array([2, 2]))"
            ]
          },
          "metadata": {},
          "execution_count": 84
        }
      ]
    },
    {
      "cell_type": "code",
      "source": [
        "result = np.concatenate((result, np.array([2, 1]).reshape(1,2)), axis=0)"
      ],
      "metadata": {
        "id": "uTvnD4tOZevT"
      },
      "execution_count": 85,
      "outputs": []
    },
    {
      "cell_type": "code",
      "source": [
        "(unique, counts) = np.unique(result, return_counts=True)"
      ],
      "metadata": {
        "id": "CeZucr65ZpqU"
      },
      "execution_count": 86,
      "outputs": []
    },
    {
      "cell_type": "code",
      "source": [
        "unique, counts"
      ],
      "metadata": {
        "colab": {
          "base_uri": "https://localhost:8080/"
        },
        "outputId": "31e9e846-acaa-4821-a5c5-01a36c219c02",
        "id": "Jj2XcdfrZpqU"
      },
      "execution_count": 87,
      "outputs": [
        {
          "output_type": "execute_result",
          "data": {
            "text/plain": [
              "(array([0.23553225, 0.60998446, 1.        , 2.        ]), array([2, 2, 1, 1]))"
            ]
          },
          "metadata": {},
          "execution_count": 87
        }
      ]
    },
    {
      "cell_type": "code",
      "source": [
        "frequencies = np.asarray((unique, counts)).T"
      ],
      "metadata": {
        "id": "VI8OXCT-ZqtD"
      },
      "execution_count": 89,
      "outputs": []
    },
    {
      "cell_type": "code",
      "source": [
        "frequencies"
      ],
      "metadata": {
        "colab": {
          "base_uri": "https://localhost:8080/"
        },
        "id": "51ArSzPUZ3ck",
        "outputId": "f65859d9-3ea2-4c44-c843-dc85c27bc223"
      },
      "execution_count": 90,
      "outputs": [
        {
          "output_type": "execute_result",
          "data": {
            "text/plain": [
              "array([[0.23553225, 2.        ],\n",
              "       [0.60998446, 2.        ],\n",
              "       [1.        , 1.        ],\n",
              "       [2.        , 1.        ]])"
            ]
          },
          "metadata": {},
          "execution_count": 90
        }
      ]
    },
    {
      "cell_type": "code",
      "source": [
        "result_list = list(result)"
      ],
      "metadata": {
        "id": "9A0bn7-vZ5sr"
      },
      "execution_count": 91,
      "outputs": []
    },
    {
      "cell_type": "code",
      "source": [
        "(unique, counts) = np.unique(result_list, return_counts=True)"
      ],
      "metadata": {
        "id": "bRmShx1paKMD"
      },
      "execution_count": 92,
      "outputs": []
    },
    {
      "cell_type": "code",
      "source": [
        "frequencies = np.asarray((unique, counts)).T"
      ],
      "metadata": {
        "id": "iW1ZcDtzaRNk"
      },
      "execution_count": 93,
      "outputs": []
    },
    {
      "cell_type": "code",
      "source": [
        "frequencies"
      ],
      "metadata": {
        "colab": {
          "base_uri": "https://localhost:8080/"
        },
        "outputId": "e0682d59-e441-4b34-d829-cf0bd4f430c5",
        "id": "IptoIz1EaRNk"
      },
      "execution_count": 94,
      "outputs": [
        {
          "output_type": "execute_result",
          "data": {
            "text/plain": [
              "array([[0.23553225, 2.        ],\n",
              "       [0.60998446, 2.        ],\n",
              "       [1.        , 1.        ],\n",
              "       [2.        , 1.        ]])"
            ]
          },
          "metadata": {},
          "execution_count": 94
        }
      ]
    },
    {
      "cell_type": "code",
      "source": [
        "np.unique(result_list, axis=0)"
      ],
      "metadata": {
        "colab": {
          "base_uri": "https://localhost:8080/"
        },
        "id": "Qgw7u9UKaSlE",
        "outputId": "acce5b51-1a44-4bd8-e3da-17a45b4776c3"
      },
      "execution_count": 95,
      "outputs": [
        {
          "output_type": "execute_result",
          "data": {
            "text/plain": [
              "array([[0.23553225, 0.60998446],\n",
              "       [2.        , 1.        ]])"
            ]
          },
          "metadata": {},
          "execution_count": 95
        }
      ]
    },
    {
      "cell_type": "code",
      "source": [
        ""
      ],
      "metadata": {
        "id": "RPO9vK2Qa_Wz"
      },
      "execution_count": null,
      "outputs": []
    }
  ]
}