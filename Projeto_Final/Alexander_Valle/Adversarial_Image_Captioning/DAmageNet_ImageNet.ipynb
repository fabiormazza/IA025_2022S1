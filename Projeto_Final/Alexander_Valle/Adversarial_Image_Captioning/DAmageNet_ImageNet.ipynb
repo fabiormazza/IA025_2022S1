{
  "nbformat": 4,
  "nbformat_minor": 0,
  "metadata": {
    "colab": {
      "name": "DAmageNet_ImageNet.ipynb",
      "provenance": [],
      "authorship_tag": "ABX9TyMOwNTxttzE+XNvLv2ZMoVc",
      "include_colab_link": true
    },
    "kernelspec": {
      "name": "python3",
      "display_name": "Python 3"
    },
    "language_info": {
      "name": "python"
    }
  },
  "cells": [
    {
      "cell_type": "markdown",
      "metadata": {
        "id": "view-in-github",
        "colab_type": "text"
      },
      "source": [
        "<a href=\"https://colab.research.google.com/github/unicamp-dl/IA025_2022S1/blob/main/Projeto_Final/Alexander_Valle/Adversarial_Image_Captioning/DAmageNet_ImageNet.ipynb\" target=\"_parent\"><img src=\"https://colab.research.google.com/assets/colab-badge.svg\" alt=\"Open In Colab\"/></a>"
      ]
    },
    {
      "cell_type": "code",
      "execution_count": null,
      "metadata": {
        "id": "jDKgfsjo1Rri"
      },
      "outputs": [],
      "source": [
        "# import necessary Python packages\n",
        "import os\n",
        "import numpy as np\n",
        "import urllib.request\n",
        "# set the working directory to the `earth-analytics-bootcamp` directory\n",
        "# print the current working directory\n",
        "os.getcwd()"
      ]
    },
    {
      "cell_type": "code",
      "source": [
        "os.chdir(\"/content/Drive/MyDrive/IA025/proy/\")"
      ],
      "metadata": {
        "id": "DEQtYadh1Sq1"
      },
      "execution_count": null,
      "outputs": []
    },
    {
      "cell_type": "code",
      "source": [
        "#os.chdir(\"/content/Drive/MyDrive/IA025/proy/ImageNet/ImageNetVal/\")\n",
        "#os.chdir(\"/content/Drive/MyDrive/IA025/proy/DAmageNet/DmgNet/\")"
      ],
      "metadata": {
        "id": "EtVE2anp1Zpx"
      },
      "execution_count": null,
      "outputs": []
    },
    {
      "cell_type": "code",
      "source": [
        "img = os.listdir('./ImageNet/ImageNetVal/')"
      ],
      "metadata": {
        "id": "YtggF0Dn1aJ-"
      },
      "execution_count": null,
      "outputs": []
    },
    {
      "cell_type": "code",
      "source": [
        "dmg = os.listdir('./DAmageNet/DmgNet/')"
      ],
      "metadata": {
        "id": "a6YMGcH51ddT"
      },
      "execution_count": null,
      "outputs": []
    }
  ]
}