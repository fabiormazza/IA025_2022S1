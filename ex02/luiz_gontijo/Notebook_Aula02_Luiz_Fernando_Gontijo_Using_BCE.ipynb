{
  "nbformat": 4,
  "nbformat_minor": 0,
  "metadata": {
    "colab": {
      "name": "Notebook_Aula02_Luiz Fernando Gontijo - Using BCE",
      "provenance": [],
      "collapsed_sections": [],
      "include_colab_link": true
    },
    "kernelspec": {
      "display_name": "Python 3",
      "language": "python",
      "name": "python3"
    },
    "language_info": {
      "codemirror_mode": {
        "name": "ipython",
        "version": 3
      },
      "file_extension": ".py",
      "mimetype": "text/x-python",
      "name": "python",
      "nbconvert_exporter": "python",
      "pygments_lexer": "ipython3",
      "version": "3.6.5"
    },
    "latex_envs": {
      "LaTeX_envs_menu_present": true,
      "autocomplete": true,
      "bibliofile": "biblio.bib",
      "cite_by": "apalike",
      "current_citInitial": 1,
      "eqLabelWithNumbers": true,
      "eqNumInitial": 1,
      "hotkeys": {
        "equation": "Ctrl-E",
        "itemize": "Ctrl-I"
      },
      "labels_anchors": false,
      "latex_user_defs": false,
      "report_style_numbering": false,
      "user_envs_cfg": false
    },
    "toc": {
      "base_numbering": 1,
      "nav_menu": {
        "height": "387px",
        "width": "252px"
      },
      "number_sections": true,
      "sideBar": true,
      "skip_h1_title": false,
      "title_cell": "Table of Contents",
      "title_sidebar": "Contents",
      "toc_cell": false,
      "toc_position": {},
      "toc_section_display": "block",
      "toc_window_display": false
    },
    "varInspector": {
      "cols": {
        "lenName": 16,
        "lenType": 16,
        "lenVar": 40
      },
      "kernels_config": {
        "python": {
          "delete_cmd_postfix": "",
          "delete_cmd_prefix": "del ",
          "library": "var_list.py",
          "varRefreshCmd": "print(var_dic_list())"
        },
        "r": {
          "delete_cmd_postfix": ") ",
          "delete_cmd_prefix": "rm(",
          "library": "var_list.r",
          "varRefreshCmd": "cat(var_dic_list()) "
        }
      },
      "types_to_exclude": [
        "module",
        "function",
        "builtin_function_or_method",
        "instance",
        "_Feature"
      ],
      "window_display": false
    }
  },
  "cells": [
    {
      "cell_type": "markdown",
      "metadata": {
        "id": "view-in-github",
        "colab_type": "text"
      },
      "source": [
        "<a href=\"https://colab.research.google.com/github/unicamp-dl/IA025_2022S1/blob/main/ex02/luiz_gontijo/Notebook_Aula02_Luiz_Fernando_Gontijo_Using_BCE.ipynb\" target=\"_parent\"><img src=\"https://colab.research.google.com/assets/colab-badge.svg\" alt=\"Open In Colab\"/></a>"
      ]
    },
    {
      "cell_type": "markdown",
      "source": [
        "# Notebook de referência \n",
        "\n",
        "Nome: Luiz Fernando da Costa Gontijo RA230677"
      ],
      "metadata": {
        "id": "GqNC-aD3imli"
      }
    },
    {
      "cell_type": "markdown",
      "metadata": {
        "id": "FEB34HNpuVtP"
      },
      "source": [
        "## Instruções"
      ]
    },
    {
      "cell_type": "markdown",
      "metadata": {
        "id": "aKOp1WXHuVtR"
      },
      "source": [
        "Este exercício consiste em escrever um código para treinar um modelo linear usando SGD e vizualizar como a função de perda varia em função das pesos da rede.\n",
        "\n",
        "Para a realização da tarefa informada em sala, foram retirados os asserts postos anteriormente. \n",
        "\n",
        "As atualizações para este notebook foram:\n",
        "\n",
        "1- Aplicar função de loss Binary Cross Entropy (BCE) no lugar da MSE. A função BCE foi disponibilizada pelo professor;\n",
        "\n",
        "2- Aplicar a função sigmoid na etapa de treino e de levantamento do grid de valores. Essa função não era necessária para o caso anterior;\n",
        "\n",
        "3- Aplicar a função BCE para levantamento do grid de valores ao final do notebook;\n",
        "\n",
        "4- Foi necessário o aumento da quantidade de épocas para o treinamento;\n",
        "\n",
        "5- Foi necessário o aumento da taxa de aprendizado (learning_rate) para que os resultados pudessem convergir de forma mais rápida."
      ]
    },
    {
      "cell_type": "markdown",
      "source": [
        "# Problemas na utilização da função BCE como função de custo\n",
        "\n",
        "O resultado apresentado ao final do notebook permitiu confirmar que o algoritmo convergiu para o valore esperado. Entretanto, a função de erro permanece fornecendo valores em torno de 0.600. Esse fato faz com que o grid de valores, os quais fornecem o plano, não tenha a imagem esperada. Além disso, os resultados dados pela função convergem para o mínimo indicado, porém, o valor apresentado como ideal foi deslocado para um ponto fora do mínimo. A atualização do valor ideal deve ser feita para melhor visualizar o resultado. "
      ],
      "metadata": {
        "id": "IQb6n6u5xAlV"
      }
    },
    {
      "cell_type": "markdown",
      "metadata": {
        "id": "uVvsCpB_uVtS"
      },
      "source": [
        "## Problema de Regressão Linear"
      ]
    },
    {
      "cell_type": "markdown",
      "metadata": {
        "id": "XpSx0ITuuVtU"
      },
      "source": [
        "O problema de ajuste de uma reta a um conjunto de pontos para verificar se existe uma previsão linear é um problema muito antigo, muito estudado e muito presente nos dias de hoje. \n",
        "\n",
        "Quando o ajuste é abordado como um problema de **otimização numérica**, ele é a base de boa parte dos **conceitos sobre redes neurais** e iremos explorá-lo aqui como uma forma de introdução às redes neurais. O modelo de regressão linear que iremos utilizar pode\n",
        "ser visto como uma rede neural de apenas uma camada e função de ativação linear."
      ]
    },
    {
      "cell_type": "markdown",
      "metadata": {
        "id": "Vws1xdXyuVtV"
      },
      "source": [
        "## Conjunto de dados: Flores Íris"
      ]
    },
    {
      "cell_type": "markdown",
      "metadata": {
        "id": "cG2UO9EwuVtW"
      },
      "source": [
        "Iremos utilizar duas propriedades do conjunto de dados das flores Íris [Wikipedia-Iris_flower_data_set](https://en.wikipedia.org/wiki/Iris_flower_data_set):\n",
        "\n",
        "* o comprimento das sépalas e \n",
        "* o comprimento da pétalas. \n",
        "\n",
        "A ideia será prever o comprimento da pétala, conhecendo-se o comprimento da sépala. Estaremos usando apenas uma propriedade, ou característica ou *feature* do objeto para que seja fácil visualizar o espaço de busca de parâmetros. \n",
        "\n",
        "Vamos utilizar as 50 amostras da variedade versicolor.\n",
        "\n",
        "![](https://raw.githubusercontent.com/robertoalotufo/files/master/figures/iris_petals_sepals.png)"
      ]
    },
    {
      "cell_type": "markdown",
      "metadata": {
        "id": "PBxvwp4RuVtX"
      },
      "source": [
        "## Dados: leitura e visualização\n"
      ]
    },
    {
      "cell_type": "code",
      "metadata": {
        "ExecuteTime": {
          "end_time": "2018-08-20T22:57:33.183566Z",
          "start_time": "2018-08-20T22:57:30.751725Z"
        },
        "id": "e8o6DbARuVtY"
      },
      "source": [
        "%matplotlib inline\n",
        "import matplotlib.pyplot as plt\n",
        "import ipywidgets as widgets\n",
        "from IPython import display\n",
        "\n",
        "import numpy as np\n",
        "import pandas as pd\n",
        "from sklearn.datasets import load_iris\n",
        "import time"
      ],
      "execution_count": 2,
      "outputs": []
    },
    {
      "cell_type": "code",
      "metadata": {
        "ExecuteTime": {
          "end_time": "2018-08-20T22:57:33.280393Z",
          "start_time": "2018-08-20T22:57:33.187143Z"
        },
        "id": "J3U7mxxCuVtc",
        "outputId": "0d451be5-f3ae-4412-85d9-af428e017feb",
        "colab": {
          "base_uri": "https://localhost:8080/",
          "height": 206
        }
      },
      "source": [
        "iris = load_iris()\n",
        "data = iris.data[iris.target==1,::2]  # comprimento das sépalas e pétalas, indices 0 e 2\n",
        "\n",
        "x_in = data[:,0:1]\n",
        "y_in = data[:,1:2]\n",
        "iris_pd = pd.DataFrame(x_in, columns=['x_in'])\n",
        "iris_pd['y_in'] = y_in\n",
        "iris_pd.head()"
      ],
      "execution_count": 3,
      "outputs": [
        {
          "output_type": "execute_result",
          "data": {
            "text/plain": [
              "   x_in  y_in\n",
              "0   7.0   4.7\n",
              "1   6.4   4.5\n",
              "2   6.9   4.9\n",
              "3   5.5   4.0\n",
              "4   6.5   4.6"
            ],
            "text/html": [
              "\n",
              "  <div id=\"df-334c8aa5-11ce-4601-a8be-f72970169151\">\n",
              "    <div class=\"colab-df-container\">\n",
              "      <div>\n",
              "<style scoped>\n",
              "    .dataframe tbody tr th:only-of-type {\n",
              "        vertical-align: middle;\n",
              "    }\n",
              "\n",
              "    .dataframe tbody tr th {\n",
              "        vertical-align: top;\n",
              "    }\n",
              "\n",
              "    .dataframe thead th {\n",
              "        text-align: right;\n",
              "    }\n",
              "</style>\n",
              "<table border=\"1\" class=\"dataframe\">\n",
              "  <thead>\n",
              "    <tr style=\"text-align: right;\">\n",
              "      <th></th>\n",
              "      <th>x_in</th>\n",
              "      <th>y_in</th>\n",
              "    </tr>\n",
              "  </thead>\n",
              "  <tbody>\n",
              "    <tr>\n",
              "      <th>0</th>\n",
              "      <td>7.0</td>\n",
              "      <td>4.7</td>\n",
              "    </tr>\n",
              "    <tr>\n",
              "      <th>1</th>\n",
              "      <td>6.4</td>\n",
              "      <td>4.5</td>\n",
              "    </tr>\n",
              "    <tr>\n",
              "      <th>2</th>\n",
              "      <td>6.9</td>\n",
              "      <td>4.9</td>\n",
              "    </tr>\n",
              "    <tr>\n",
              "      <th>3</th>\n",
              "      <td>5.5</td>\n",
              "      <td>4.0</td>\n",
              "    </tr>\n",
              "    <tr>\n",
              "      <th>4</th>\n",
              "      <td>6.5</td>\n",
              "      <td>4.6</td>\n",
              "    </tr>\n",
              "  </tbody>\n",
              "</table>\n",
              "</div>\n",
              "      <button class=\"colab-df-convert\" onclick=\"convertToInteractive('df-334c8aa5-11ce-4601-a8be-f72970169151')\"\n",
              "              title=\"Convert this dataframe to an interactive table.\"\n",
              "              style=\"display:none;\">\n",
              "        \n",
              "  <svg xmlns=\"http://www.w3.org/2000/svg\" height=\"24px\"viewBox=\"0 0 24 24\"\n",
              "       width=\"24px\">\n",
              "    <path d=\"M0 0h24v24H0V0z\" fill=\"none\"/>\n",
              "    <path d=\"M18.56 5.44l.94 2.06.94-2.06 2.06-.94-2.06-.94-.94-2.06-.94 2.06-2.06.94zm-11 1L8.5 8.5l.94-2.06 2.06-.94-2.06-.94L8.5 2.5l-.94 2.06-2.06.94zm10 10l.94 2.06.94-2.06 2.06-.94-2.06-.94-.94-2.06-.94 2.06-2.06.94z\"/><path d=\"M17.41 7.96l-1.37-1.37c-.4-.4-.92-.59-1.43-.59-.52 0-1.04.2-1.43.59L10.3 9.45l-7.72 7.72c-.78.78-.78 2.05 0 2.83L4 21.41c.39.39.9.59 1.41.59.51 0 1.02-.2 1.41-.59l7.78-7.78 2.81-2.81c.8-.78.8-2.07 0-2.86zM5.41 20L4 18.59l7.72-7.72 1.47 1.35L5.41 20z\"/>\n",
              "  </svg>\n",
              "      </button>\n",
              "      \n",
              "  <style>\n",
              "    .colab-df-container {\n",
              "      display:flex;\n",
              "      flex-wrap:wrap;\n",
              "      gap: 12px;\n",
              "    }\n",
              "\n",
              "    .colab-df-convert {\n",
              "      background-color: #E8F0FE;\n",
              "      border: none;\n",
              "      border-radius: 50%;\n",
              "      cursor: pointer;\n",
              "      display: none;\n",
              "      fill: #1967D2;\n",
              "      height: 32px;\n",
              "      padding: 0 0 0 0;\n",
              "      width: 32px;\n",
              "    }\n",
              "\n",
              "    .colab-df-convert:hover {\n",
              "      background-color: #E2EBFA;\n",
              "      box-shadow: 0px 1px 2px rgba(60, 64, 67, 0.3), 0px 1px 3px 1px rgba(60, 64, 67, 0.15);\n",
              "      fill: #174EA6;\n",
              "    }\n",
              "\n",
              "    [theme=dark] .colab-df-convert {\n",
              "      background-color: #3B4455;\n",
              "      fill: #D2E3FC;\n",
              "    }\n",
              "\n",
              "    [theme=dark] .colab-df-convert:hover {\n",
              "      background-color: #434B5C;\n",
              "      box-shadow: 0px 1px 3px 1px rgba(0, 0, 0, 0.15);\n",
              "      filter: drop-shadow(0px 1px 2px rgba(0, 0, 0, 0.3));\n",
              "      fill: #FFFFFF;\n",
              "    }\n",
              "  </style>\n",
              "\n",
              "      <script>\n",
              "        const buttonEl =\n",
              "          document.querySelector('#df-334c8aa5-11ce-4601-a8be-f72970169151 button.colab-df-convert');\n",
              "        buttonEl.style.display =\n",
              "          google.colab.kernel.accessAllowed ? 'block' : 'none';\n",
              "\n",
              "        async function convertToInteractive(key) {\n",
              "          const element = document.querySelector('#df-334c8aa5-11ce-4601-a8be-f72970169151');\n",
              "          const dataTable =\n",
              "            await google.colab.kernel.invokeFunction('convertToInteractive',\n",
              "                                                     [key], {});\n",
              "          if (!dataTable) return;\n",
              "\n",
              "          const docLinkHtml = 'Like what you see? Visit the ' +\n",
              "            '<a target=\"_blank\" href=https://colab.research.google.com/notebooks/data_table.ipynb>data table notebook</a>'\n",
              "            + ' to learn more about interactive tables.';\n",
              "          element.innerHTML = '';\n",
              "          dataTable['output_type'] = 'display_data';\n",
              "          await google.colab.output.renderOutput(dataTable, element);\n",
              "          const docLink = document.createElement('div');\n",
              "          docLink.innerHTML = docLinkHtml;\n",
              "          element.appendChild(docLink);\n",
              "        }\n",
              "      </script>\n",
              "    </div>\n",
              "  </div>\n",
              "  "
            ]
          },
          "metadata": {},
          "execution_count": 3
        }
      ]
    },
    {
      "cell_type": "markdown",
      "metadata": {
        "id": "vbE9iw_nuVth"
      },
      "source": [
        "## Visualização dos dados `x_in` e `y_in` e normalizados"
      ]
    },
    {
      "cell_type": "code",
      "metadata": {
        "ExecuteTime": {
          "end_time": "2018-08-20T22:57:34.513338Z",
          "start_time": "2018-08-20T22:57:33.455116Z"
        },
        "id": "Czv-YcXvuVti",
        "outputId": "85e9776f-44b9-4349-c5b0-9f06c631fc7f",
        "colab": {
          "base_uri": "https://localhost:8080/",
          "height": 334
        }
      },
      "source": [
        "x = x_in - x_in.min()\n",
        "x /= x.max()    # normalização\n",
        "y = y_in - y_in.min()\n",
        "y /= y.max()\n",
        "\n",
        "fig = plt.figure(figsize=(16,5))\n",
        "ax_in = fig.add_subplot(1,2,1)\n",
        "ax_in.scatter(x_in, y_in)\n",
        "ax_in.set_xlabel('Comprimento sepalas')\n",
        "ax_in.set_ylabel('Comprimento petalas')\n",
        "ax_n = fig.add_subplot(1,2,2)\n",
        "ax_n.scatter(x, y)\n",
        "ax_n.set_xlabel('Comprimento normalizado sepalas')\n",
        "ax_n.set_ylabel('Comprimento normalizado petalas');"
      ],
      "execution_count": 4,
      "outputs": [
        {
          "output_type": "display_data",
          "data": {
            "text/plain": [
              "<Figure size 1152x360 with 2 Axes>"
            ],
            "image/png": "[encoded data removed]"
          },
          "metadata": {
            "needs_background": "light"
          }
        }
      ]
    },
    {
      "cell_type": "markdown",
      "metadata": {
        "id": "h7IFlfHjuVtl"
      },
      "source": [
        "## Reta de ajuste"
      ]
    },
    {
      "cell_type": "markdown",
      "metadata": {
        "id": "vJQZQKmhuVtm"
      },
      "source": [
        "A equação da reta no plano necessita de dois parâmetros, aqui denominados $w_0$ (*bias*) e inclinação $w_1$. Veja figura:\n",
        "\n",
        "\n",
        "<img src=\"https://raw.githubusercontent.com/robertoalotufo/files/master/figures/linhareta.png\" width=\"300pt\">\n",
        "\n",
        "A reta de ajuste será dada por:\n",
        "\n",
        "$$ \\hat{y} = w_0 + w_1 x $$\n",
        "\n",
        "onde \n",
        "* $w_1$ é o coeficiente angular da reta e \n",
        "* $w_0$ é a interseção do eixo vertical quando x é igual a zero, também denominado de *bias*.\n",
        "* $x$ é a variável de entrada (comprimento das sépalas) e \n",
        "* $\\hat{y}$ é a predição (comprimento estimado das pétalas)."
      ]
    },
    {
      "cell_type": "markdown",
      "metadata": {
        "id": "8Ajs4XteuVtn"
      },
      "source": [
        "## Representação gráfica da equação linear via neurônio"
      ]
    },
    {
      "cell_type": "markdown",
      "metadata": {
        "id": "tGLD4vWkuVto"
      },
      "source": [
        "$ \\hat{y} = 1 w_0 + x_0 w_1 $\n",
        "\n",
        "Temos:\n",
        "- 1 atributo de entrada: $x_0$\n",
        "- 2 parâmetros para serem ajustados (treinados) $w_0$ e $w_1$\n",
        "- 1 classe de saída $\\hat{y}$\n",
        "\n",
        "<img src=\"https://raw.githubusercontent.com/robertoalotufo/files/master/figures/RegressaoLinearNeuronio.png\" width=\"300pt\">\n",
        "$$ \\hat{y} = w_0 + w_1 x $$\n",
        "$$ \\mathbf{\\hat{y}} = \\mathbf{w} \\mathbf{x} $$"
      ]
    },
    {
      "cell_type": "markdown",
      "metadata": {
        "id": "8LQIj6bAuVtp"
      },
      "source": [
        "### Função Custo ou de Perda (MSE - Mean Square Error)"
      ]
    },
    {
      "cell_type": "markdown",
      "metadata": {
        "id": "SjDhur3YuVtq"
      },
      "source": [
        "<img src=\"https://raw.githubusercontent.com/robertoalotufo/files/master//figures/Loss_MSE.png\" width = \"600pt\">\n"
      ]
    },
    {
      "cell_type": "markdown",
      "metadata": {
        "collapsed": true,
        "id": "vSHV19BZuVtr"
      },
      "source": [
        "A função de custo depende do conjunto de treinamento ($y_i$) e dos valores de predição ($\\hat{y_i}$):\n",
        "\n",
        "$$ J(\\hat{y_i},y_i) = \\frac{1}{M} \\sum_{i=0}^{M-1} (\\hat{y_i} - y_i)^2 $$ .\n"
      ]
    },
    {
      "cell_type": "markdown",
      "metadata": {
        "id": "0sCJNYhluVts"
      },
      "source": [
        "## Laço de minimização via gradiente descendente"
      ]
    },
    {
      "cell_type": "markdown",
      "metadata": {
        "id": "zZEiH3teuVtt"
      },
      "source": [
        "O código da próxima célula é a parte principal deste notebook. É aqui que a minimização é feita. É aqui que dizemos que estamos fazendo o *fit*, ou o treinamento do sistema para encontrar o parâmetro $\\mathbf{W}$ que minimiza a função de perda $J$. Acompanhamos a convergência da minimização pelo valor da perda a cada iteração, plotando o vetor `J_history`."
      ]
    },
    {
      "cell_type": "markdown",
      "metadata": {
        "id": "kozomVYuuVtu"
      },
      "source": [
        "O esquema da otimização é representado pelo diagrama a seguir:\n",
        "\n",
        "<img src=\"https://raw.githubusercontent.com/robertoalotufo/files/master/figures/RegressaoLinear_Otimizacao.png\" width = \"600pt\">\n",
        "\n",
        "e é implementado pela próxima célula de código:"
      ]
    },
    {
      "cell_type": "markdown",
      "metadata": {
        "id": "-OdOS-k7uVtu"
      },
      "source": [
        "## Funções: Custo, Gradiente Descendente"
      ]
    },
    {
      "cell_type": "code",
      "source": [
        "# É importante fixar as seeds para passar nos asserts abaixo.\n",
        "\n",
        "import random\n",
        "import numpy as np\n",
        "\n",
        "random.seed(123)\n",
        "np.random.seed(123)"
      ],
      "metadata": {
        "id": "Yi46ZI1fxPjP"
      },
      "execution_count": 5,
      "outputs": []
    },
    {
      "cell_type": "code",
      "source": [
        "class Model():\n",
        "    def __init__(self, n_in: int, n_out: int):\n",
        "        # Escreva seu código aqui.\n",
        "        # Não se esqueça de inicializar os pesos da rede com zeros.\n",
        "        self.w = np.zeros((n_out,n_in))\n",
        "    \n",
        "    def forward(self, x):\n",
        "        # Escreva seu código aqui.\n",
        "        # equação: y_pred = w.Tx -> produto escalar entre matriz de pesos w e vetor de entrada x\n",
        "        y_pred = x.dot(self.w.T)\n",
        "        return y_pred"
      ],
      "metadata": {
        "id": "tp9GnDHxet70"
      },
      "execution_count": 6,
      "outputs": []
    },
    {
      "cell_type": "code",
      "source": [
        "def BCE(y,y_hat):\n",
        "    return -((y * np.log(y_hat))+((1-y) * np.log(1-y_hat)))"
      ],
      "metadata": {
        "id": "4oRd28j_hJwG"
      },
      "execution_count": 7,
      "outputs": []
    },
    {
      "cell_type": "code",
      "source": [
        "def train(model, x, y, learning_rate: float, n_epochs: int):\n",
        "    \"\"\"Train a linear model with SGD.\n",
        "\n",
        "    Returns:\n",
        "        loss_history: a np.array of shape (n_epochs,)\n",
        "        w_history: a np.array of shape (n_epochs, 2)\n",
        "    \"\"\"\n",
        "    # Escreva seu código aqui.\n",
        "    loss_history = [] # guardar valores de loss do loop\n",
        "    w_history = [] # guardar valores de w do loop\n",
        "\n",
        "    n_samples = np.size(x)\n",
        "\n",
        "    x_train_bias = np.hstack([np.ones(shape=(n_samples,1)), x])\n",
        "\n",
        "    for epoch in range(n_epochs + 1):\n",
        "\n",
        "      # forward - predict\n",
        "      y_pred = model.forward(x_train_bias)\n",
        "\n",
        "      # sigmoid\n",
        "      z = np.exp(-y_pred)\n",
        "      y_hat = 1 / (1 + z)\n",
        "\n",
        "      loss_total = BCE(y, y_hat)\n",
        "      loss = loss_total.mean()\n",
        "      loss_history.append(loss)\n",
        "\n",
        "      # gradiente - utilizar derivadas parciais do vetor J - atualizar para o caso BCE\n",
        "      w_grad = (1.0/n_samples) * (x_train_bias.T).dot(y_hat - y)\n",
        "\n",
        "      # salvar valores de w\n",
        "      w_history = np.append(w_history, model.w)\n",
        "\n",
        "      # gradient descent - atualizar os pesos\n",
        "      model.w = model.w - learning_rate * w_grad.T\n",
        "      print('Epoch[{}/{}], loss: {:.6f}'.format(epoch, n_epochs, loss))\n",
        "\n",
        "    w_history = w_history.reshape((int(np.size(w_history)/2), 2))\n",
        "    return loss_history, w_history"
      ],
      "metadata": {
        "id": "hRAgI6ZrS3_U"
      },
      "execution_count": 119,
      "outputs": []
    },
    {
      "cell_type": "markdown",
      "source": [
        "### Testando as funções"
      ],
      "metadata": {
        "id": "6C-L2NTBvTGh"
      }
    },
    {
      "cell_type": "code",
      "source": [
        "model = Model(2, 1) # duas entradas (1 + x0) e uma saída y_pred\n",
        "loss_history, w_history = train(model=model, x=x, y=y, learning_rate=0.5, n_epochs=300)"
      ],
      "metadata": {
        "id": "E7TbIlWuvSLo",
        "colab": {
          "base_uri": "https://localhost:8080/"
        },
        "outputId": "27bc78b3-e11a-44a3-8b0c-ec5a4fcf0683"
      },
      "execution_count": 138,
      "outputs": [
        {
          "output_type": "stream",
          "name": "stdout",
          "text": [
            "Epoch[0/300], loss: 0.693147\n",
            "Epoch[1/300], loss: 0.684766\n",
            "Epoch[2/300], loss: 0.678647\n",
            "Epoch[3/300], loss: 0.674135\n",
            "Epoch[4/300], loss: 0.670763\n",
            "Epoch[5/300], loss: 0.668203\n",
            "Epoch[6/300], loss: 0.666222\n",
            "Epoch[7/300], loss: 0.664653\n",
            "Epoch[8/300], loss: 0.663382\n",
            "Epoch[9/300], loss: 0.662324\n",
            "Epoch[10/300], loss: 0.661420\n",
            "Epoch[11/300], loss: 0.660630\n",
            "Epoch[12/300], loss: 0.659921\n",
            "Epoch[13/300], loss: 0.659274\n",
            "Epoch[14/300], loss: 0.658671\n",
            "Epoch[15/300], loss: 0.658103\n",
            "Epoch[16/300], loss: 0.657561\n",
            "Epoch[17/300], loss: 0.657039\n",
            "Epoch[18/300], loss: 0.656534\n",
            "Epoch[19/300], loss: 0.656041\n",
            "Epoch[20/300], loss: 0.655560\n",
            "Epoch[21/300], loss: 0.655087\n",
            "Epoch[22/300], loss: 0.654623\n",
            "Epoch[23/300], loss: 0.654166\n",
            "Epoch[24/300], loss: 0.653716\n",
            "Epoch[25/300], loss: 0.653271\n",
            "Epoch[26/300], loss: 0.652832\n",
            "Epoch[27/300], loss: 0.652399\n",
            "Epoch[28/300], loss: 0.651971\n",
            "Epoch[29/300], loss: 0.651548\n",
            "Epoch[30/300], loss: 0.651130\n",
            "Epoch[31/300], loss: 0.650716\n",
            "Epoch[32/300], loss: 0.650307\n",
            "Epoch[33/300], loss: 0.649903\n",
            "Epoch[34/300], loss: 0.649503\n",
            "Epoch[35/300], loss: 0.649108\n",
            "Epoch[36/300], loss: 0.648717\n",
            "Epoch[37/300], loss: 0.648331\n",
            "Epoch[38/300], loss: 0.647949\n",
            "Epoch[39/300], loss: 0.647571\n",
            "Epoch[40/300], loss: 0.647197\n",
            "Epoch[41/300], loss: 0.646827\n",
            "Epoch[42/300], loss: 0.646462\n",
            "Epoch[43/300], loss: 0.646100\n",
            "Epoch[44/300], loss: 0.645742\n",
            "Epoch[45/300], loss: 0.645389\n",
            "Epoch[46/300], loss: 0.645039\n",
            "Epoch[47/300], loss: 0.644693\n",
            "Epoch[48/300], loss: 0.644351\n",
            "Epoch[49/300], loss: 0.644012\n",
            "Epoch[50/300], loss: 0.643677\n",
            "Epoch[51/300], loss: 0.643346\n",
            "Epoch[52/300], loss: 0.643019\n",
            "Epoch[53/300], loss: 0.642695\n",
            "Epoch[54/300], loss: 0.642375\n",
            "Epoch[55/300], loss: 0.642058\n",
            "Epoch[56/300], loss: 0.641744\n",
            "Epoch[57/300], loss: 0.641434\n",
            "Epoch[58/300], loss: 0.641128\n",
            "Epoch[59/300], loss: 0.640825\n",
            "Epoch[60/300], loss: 0.640525\n",
            "Epoch[61/300], loss: 0.640228\n",
            "Epoch[62/300], loss: 0.639935\n",
            "Epoch[63/300], loss: 0.639644\n",
            "Epoch[64/300], loss: 0.639357\n",
            "Epoch[65/300], loss: 0.639073\n",
            "Epoch[66/300], loss: 0.638792\n",
            "Epoch[67/300], loss: 0.638514\n",
            "Epoch[68/300], loss: 0.638240\n",
            "Epoch[69/300], loss: 0.637968\n",
            "Epoch[70/300], loss: 0.637699\n",
            "Epoch[71/300], loss: 0.637433\n",
            "Epoch[72/300], loss: 0.637170\n",
            "Epoch[73/300], loss: 0.636909\n",
            "Epoch[74/300], loss: 0.636652\n",
            "Epoch[75/300], loss: 0.636397\n",
            "Epoch[76/300], loss: 0.636145\n",
            "Epoch[77/300], loss: 0.635896\n",
            "Epoch[78/300], loss: 0.635649\n",
            "Epoch[79/300], loss: 0.635405\n",
            "Epoch[80/300], loss: 0.635164\n",
            "Epoch[81/300], loss: 0.634925\n",
            "Epoch[82/300], loss: 0.634689\n",
            "Epoch[83/300], loss: 0.634456\n",
            "Epoch[84/300], loss: 0.634224\n",
            "Epoch[85/300], loss: 0.633996\n",
            "Epoch[86/300], loss: 0.633770\n",
            "Epoch[87/300], loss: 0.633546\n",
            "Epoch[88/300], loss: 0.633325\n",
            "Epoch[89/300], loss: 0.633106\n",
            "Epoch[90/300], loss: 0.632889\n",
            "Epoch[91/300], loss: 0.632674\n",
            "Epoch[92/300], loss: 0.632462\n",
            "Epoch[93/300], loss: 0.632253\n",
            "Epoch[94/300], loss: 0.632045\n",
            "Epoch[95/300], loss: 0.631840\n",
            "Epoch[96/300], loss: 0.631636\n",
            "Epoch[97/300], loss: 0.631435\n",
            "Epoch[98/300], loss: 0.631237\n",
            "Epoch[99/300], loss: 0.631040\n",
            "Epoch[100/300], loss: 0.630845\n",
            "Epoch[101/300], loss: 0.630652\n",
            "Epoch[102/300], loss: 0.630462\n",
            "Epoch[103/300], loss: 0.630273\n",
            "Epoch[104/300], loss: 0.630087\n",
            "Epoch[105/300], loss: 0.629902\n",
            "Epoch[106/300], loss: 0.629719\n",
            "Epoch[107/300], loss: 0.629539\n",
            "Epoch[108/300], loss: 0.629360\n",
            "Epoch[109/300], loss: 0.629183\n",
            "Epoch[110/300], loss: 0.629008\n",
            "Epoch[111/300], loss: 0.628835\n",
            "Epoch[112/300], loss: 0.628663\n",
            "Epoch[113/300], loss: 0.628493\n",
            "Epoch[114/300], loss: 0.628326\n",
            "Epoch[115/300], loss: 0.628160\n",
            "Epoch[116/300], loss: 0.627995\n",
            "Epoch[117/300], loss: 0.627833\n",
            "Epoch[118/300], loss: 0.627672\n",
            "Epoch[119/300], loss: 0.627512\n",
            "Epoch[120/300], loss: 0.627355\n",
            "Epoch[121/300], loss: 0.627199\n",
            "Epoch[122/300], loss: 0.627045\n",
            "Epoch[123/300], loss: 0.626892\n",
            "Epoch[124/300], loss: 0.626741\n",
            "Epoch[125/300], loss: 0.626591\n",
            "Epoch[126/300], loss: 0.626443\n",
            "Epoch[127/300], loss: 0.626297\n",
            "Epoch[128/300], loss: 0.626152\n",
            "Epoch[129/300], loss: 0.626009\n",
            "Epoch[130/300], loss: 0.625867\n",
            "Epoch[131/300], loss: 0.625726\n",
            "Epoch[132/300], loss: 0.625587\n",
            "Epoch[133/300], loss: 0.625450\n",
            "Epoch[134/300], loss: 0.625314\n",
            "Epoch[135/300], loss: 0.625179\n",
            "Epoch[136/300], loss: 0.625045\n",
            "Epoch[137/300], loss: 0.624914\n",
            "Epoch[138/300], loss: 0.624783\n",
            "Epoch[139/300], loss: 0.624654\n",
            "Epoch[140/300], loss: 0.624526\n",
            "Epoch[141/300], loss: 0.624399\n",
            "Epoch[142/300], loss: 0.624274\n",
            "Epoch[143/300], loss: 0.624150\n",
            "Epoch[144/300], loss: 0.624027\n",
            "Epoch[145/300], loss: 0.623906\n",
            "Epoch[146/300], loss: 0.623785\n",
            "Epoch[147/300], loss: 0.623666\n",
            "Epoch[148/300], loss: 0.623549\n",
            "Epoch[149/300], loss: 0.623432\n",
            "Epoch[150/300], loss: 0.623317\n",
            "Epoch[151/300], loss: 0.623202\n",
            "Epoch[152/300], loss: 0.623089\n",
            "Epoch[153/300], loss: 0.622977\n",
            "Epoch[154/300], loss: 0.622867\n",
            "Epoch[155/300], loss: 0.622757\n",
            "Epoch[156/300], loss: 0.622649\n",
            "Epoch[157/300], loss: 0.622541\n",
            "Epoch[158/300], loss: 0.622435\n",
            "Epoch[159/300], loss: 0.622330\n",
            "Epoch[160/300], loss: 0.622225\n",
            "Epoch[161/300], loss: 0.622122\n",
            "Epoch[162/300], loss: 0.622020\n",
            "Epoch[163/300], loss: 0.621919\n",
            "Epoch[164/300], loss: 0.621819\n",
            "Epoch[165/300], loss: 0.621720\n",
            "Epoch[166/300], loss: 0.621622\n",
            "Epoch[167/300], loss: 0.621525\n",
            "Epoch[168/300], loss: 0.621429\n",
            "Epoch[169/300], loss: 0.621334\n",
            "Epoch[170/300], loss: 0.621240\n",
            "Epoch[171/300], loss: 0.621147\n",
            "Epoch[172/300], loss: 0.621055\n",
            "Epoch[173/300], loss: 0.620964\n",
            "Epoch[174/300], loss: 0.620873\n",
            "Epoch[175/300], loss: 0.620784\n",
            "Epoch[176/300], loss: 0.620695\n",
            "Epoch[177/300], loss: 0.620607\n",
            "Epoch[178/300], loss: 0.620521\n",
            "Epoch[179/300], loss: 0.620435\n",
            "Epoch[180/300], loss: 0.620350\n",
            "Epoch[181/300], loss: 0.620265\n",
            "Epoch[182/300], loss: 0.620182\n",
            "Epoch[183/300], loss: 0.620100\n",
            "Epoch[184/300], loss: 0.620018\n",
            "Epoch[185/300], loss: 0.619937\n",
            "Epoch[186/300], loss: 0.619857\n",
            "Epoch[187/300], loss: 0.619778\n",
            "Epoch[188/300], loss: 0.619699\n",
            "Epoch[189/300], loss: 0.619621\n",
            "Epoch[190/300], loss: 0.619544\n",
            "Epoch[191/300], loss: 0.619468\n",
            "Epoch[192/300], loss: 0.619393\n",
            "Epoch[193/300], loss: 0.619318\n",
            "Epoch[194/300], loss: 0.619244\n",
            "Epoch[195/300], loss: 0.619171\n",
            "Epoch[196/300], loss: 0.619099\n",
            "Epoch[197/300], loss: 0.619027\n",
            "Epoch[198/300], loss: 0.618956\n",
            "Epoch[199/300], loss: 0.618885\n",
            "Epoch[200/300], loss: 0.618816\n",
            "Epoch[201/300], loss: 0.618747\n",
            "Epoch[202/300], loss: 0.618679\n",
            "Epoch[203/300], loss: 0.618611\n",
            "Epoch[204/300], loss: 0.618544\n",
            "Epoch[205/300], loss: 0.618478\n",
            "Epoch[206/300], loss: 0.618412\n",
            "Epoch[207/300], loss: 0.618347\n",
            "Epoch[208/300], loss: 0.618283\n",
            "Epoch[209/300], loss: 0.618219\n",
            "Epoch[210/300], loss: 0.618156\n",
            "Epoch[211/300], loss: 0.618093\n",
            "Epoch[212/300], loss: 0.618032\n",
            "Epoch[213/300], loss: 0.617970\n",
            "Epoch[214/300], loss: 0.617910\n",
            "Epoch[215/300], loss: 0.617850\n",
            "Epoch[216/300], loss: 0.617790\n",
            "Epoch[217/300], loss: 0.617731\n",
            "Epoch[218/300], loss: 0.617673\n",
            "Epoch[219/300], loss: 0.617615\n",
            "Epoch[220/300], loss: 0.617558\n",
            "Epoch[221/300], loss: 0.617501\n",
            "Epoch[222/300], loss: 0.617445\n",
            "Epoch[223/300], loss: 0.617390\n",
            "Epoch[224/300], loss: 0.617335\n",
            "Epoch[225/300], loss: 0.617280\n",
            "Epoch[226/300], loss: 0.617226\n",
            "Epoch[227/300], loss: 0.617173\n",
            "Epoch[228/300], loss: 0.617120\n",
            "Epoch[229/300], loss: 0.617068\n",
            "Epoch[230/300], loss: 0.617016\n",
            "Epoch[231/300], loss: 0.616965\n",
            "Epoch[232/300], loss: 0.616914\n",
            "Epoch[233/300], loss: 0.616863\n",
            "Epoch[234/300], loss: 0.616813\n",
            "Epoch[235/300], loss: 0.616764\n",
            "Epoch[236/300], loss: 0.616715\n",
            "Epoch[237/300], loss: 0.616667\n",
            "Epoch[238/300], loss: 0.616619\n",
            "Epoch[239/300], loss: 0.616571\n",
            "Epoch[240/300], loss: 0.616524\n",
            "Epoch[241/300], loss: 0.616478\n",
            "Epoch[242/300], loss: 0.616431\n",
            "Epoch[243/300], loss: 0.616386\n",
            "Epoch[244/300], loss: 0.616340\n",
            "Epoch[245/300], loss: 0.616296\n",
            "Epoch[246/300], loss: 0.616251\n",
            "Epoch[247/300], loss: 0.616207\n",
            "Epoch[248/300], loss: 0.616164\n",
            "Epoch[249/300], loss: 0.616120\n",
            "Epoch[250/300], loss: 0.616078\n",
            "Epoch[251/300], loss: 0.616035\n",
            "Epoch[252/300], loss: 0.615994\n",
            "Epoch[253/300], loss: 0.615952\n",
            "Epoch[254/300], loss: 0.615911\n",
            "Epoch[255/300], loss: 0.615870\n",
            "Epoch[256/300], loss: 0.615830\n",
            "Epoch[257/300], loss: 0.615790\n",
            "Epoch[258/300], loss: 0.615750\n",
            "Epoch[259/300], loss: 0.615711\n",
            "Epoch[260/300], loss: 0.615672\n",
            "Epoch[261/300], loss: 0.615634\n",
            "Epoch[262/300], loss: 0.615596\n",
            "Epoch[263/300], loss: 0.615558\n",
            "Epoch[264/300], loss: 0.615521\n",
            "Epoch[265/300], loss: 0.615484\n",
            "Epoch[266/300], loss: 0.615447\n",
            "Epoch[267/300], loss: 0.615411\n",
            "Epoch[268/300], loss: 0.615375\n",
            "Epoch[269/300], loss: 0.615339\n",
            "Epoch[270/300], loss: 0.615304\n",
            "Epoch[271/300], loss: 0.615269\n",
            "Epoch[272/300], loss: 0.615234\n",
            "Epoch[273/300], loss: 0.615200\n",
            "Epoch[274/300], loss: 0.615166\n",
            "Epoch[275/300], loss: 0.615132\n",
            "Epoch[276/300], loss: 0.615099\n",
            "Epoch[277/300], loss: 0.615066\n",
            "Epoch[278/300], loss: 0.615033\n",
            "Epoch[279/300], loss: 0.615001\n",
            "Epoch[280/300], loss: 0.614969\n",
            "Epoch[281/300], loss: 0.614937\n",
            "Epoch[282/300], loss: 0.614906\n",
            "Epoch[283/300], loss: 0.614874\n",
            "Epoch[284/300], loss: 0.614844\n",
            "Epoch[285/300], loss: 0.614813\n",
            "Epoch[286/300], loss: 0.614783\n",
            "Epoch[287/300], loss: 0.614753\n",
            "Epoch[288/300], loss: 0.614723\n",
            "Epoch[289/300], loss: 0.614693\n",
            "Epoch[290/300], loss: 0.614664\n",
            "Epoch[291/300], loss: 0.614635\n",
            "Epoch[292/300], loss: 0.614607\n",
            "Epoch[293/300], loss: 0.614578\n",
            "Epoch[294/300], loss: 0.614550\n",
            "Epoch[295/300], loss: 0.614522\n",
            "Epoch[296/300], loss: 0.614495\n",
            "Epoch[297/300], loss: 0.614467\n",
            "Epoch[298/300], loss: 0.614440\n",
            "Epoch[299/300], loss: 0.614414\n",
            "Epoch[300/300], loss: 0.614387\n"
          ]
        }
      ]
    },
    {
      "cell_type": "markdown",
      "source": [
        "# Função de cálculo do grid de custos"
      ],
      "metadata": {
        "id": "MHiCDLugqR4R"
      }
    },
    {
      "cell_type": "code",
      "source": [
        "def compute_loss_grid(x, y, w_0_grid, w_1_grid):\n",
        "    \"\"\"Returns:\n",
        "        loss_grid: an array with the same shape (w_0_grid.shape[0], w_1_grid.shape[0])\n",
        "    \"\"\"\n",
        "    # Escreva seu código aqui.\n",
        "\n",
        "    # meshgrid dos pesos do bias (w0) e da variável (w1) \n",
        "    ww0, ww1 = np.meshgrid(w_0_grid, w_1_grid)\n",
        "    w_grid = np.c_[ww0.ravel(), ww1.ravel()] # combinação de todos os pesos possíveis w0 e w1\n",
        "\n",
        "    # computar a loss para cada valor do w_grid\n",
        "    n_samples = np.size(x)\n",
        "    x_train_bias = np.hstack([np.ones(shape=(n_samples,1)), x])\n",
        "\n",
        "    y_pred = x_train_bias.dot(w_grid.T)\n",
        "\n",
        "    y_pred = 1/(1 + np.exp(-y_pred))\n",
        "\n",
        "    errors = y_pred - y\n",
        "\n",
        "    errors_bce = BCE(y,y_pred).mean(axis=0) # calcular o BCE\n",
        "\n",
        "    loss_grid = errors_bce.reshape((w_0_grid.shape[0], w_1_grid.shape[0]))\n",
        "\n",
        "    return loss_grid"
      ],
      "metadata": {
        "id": "lm_uLYP-I6Bf"
      },
      "execution_count": 139,
      "outputs": []
    },
    {
      "cell_type": "code",
      "source": [
        "wmin = w_history.min(axis=0)\n",
        "wmax = w_history.max(axis=0)\n",
        "D = wmax - wmin\n",
        "wmin -= D\n",
        "wmax += D\n",
        "\n",
        "w_0_grid = np.linspace(wmin[0], wmax[0], 100)\n",
        "w_1_grid = np.linspace(wmin[1], wmax[1], 100)\n",
        "\n",
        "loss_grid = compute_loss_grid(x, y, w_0_grid, w_1_grid)"
      ],
      "metadata": {
        "id": "l9ygbpRxJPnV"
      },
      "execution_count": 140,
      "outputs": []
    },
    {
      "cell_type": "markdown",
      "source": [
        "### Testando a função"
      ],
      "metadata": {
        "id": "zbnwHButrRfh"
      }
    },
    {
      "cell_type": "code",
      "source": [
        "!gsutil cp gs://unicamp-dl/ia025a_2022s1/aula2/target_loss_grid.npy .\n",
        "target_loss_grid = np.load('target_loss_grid.npy')"
      ],
      "metadata": {
        "id": "LIJrVbJ-V4zt",
        "colab": {
          "base_uri": "https://localhost:8080/"
        },
        "outputId": "45404104-1c83-4cb5-b70a-cde98ca915d8"
      },
      "execution_count": 141,
      "outputs": [
        {
          "output_type": "stream",
          "name": "stdout",
          "text": [
            "Copying gs://unicamp-dl/ia025a_2022s1/aula2/target_loss_grid.npy...\n",
            "/ [0 files][    0.0 B/ 78.2 KiB]                                                \r/ [1 files][ 78.2 KiB/ 78.2 KiB]                                                \r\n",
            "Operation completed over 1 objects/78.2 KiB.                                     \n"
          ]
        }
      ]
    },
    {
      "cell_type": "markdown",
      "metadata": {
        "id": "jkQqeZPjuVt2"
      },
      "source": [
        "## Funcão de Plot"
      ]
    },
    {
      "cell_type": "code",
      "metadata": {
        "ExecuteTime": {
          "end_time": "2018-08-20T22:57:44.389395Z",
          "start_time": "2018-08-20T22:57:44.359015Z"
        },
        "id": "HhIiKg2IuVt3"
      },
      "source": [
        "def show_plots(x, y, w_0_grid, w_1_grid, loss_grid, loss_history, w_history, sleep=0.3):\n",
        "    n_samples = y.shape[0]\n",
        "\n",
        "    # valor ótimo, solução analítica\n",
        "    # ------------------------------\n",
        "    x_bias = np.hstack([np.ones((n_samples, 1)), x])\n",
        "    w_opt = (np.linalg.inv((x_bias.T).dot(x_bias)).dot(x_bias.T)).dot(y)    \n",
        "    x_all = np.linspace(x.min(), x.max(), 100).reshape(100, 1)\n",
        "    x_all_bias = np.hstack([np.ones((100, 1)), x_all])\n",
        "    result_opt = x_all_bias.dot(w_opt)    # Predição do valor ótimo\n",
        "        \n",
        "    # Gráficos:\n",
        "    # --------\n",
        "    fig = plt.figure(figsize=(18, 6))\n",
        "    ax_grid = fig.add_subplot(1, 3, 1)    # Grid de losses\n",
        "    ax_loss = fig.add_subplot(1, 3, 2)    # Função perda\n",
        "\n",
        "    ax_loss.plot(loss_history)\n",
        "    ax_loss.set_title('Perda', fontsize=15)\n",
        "    ax_loss.set_xlabel('epochs', fontsize=10)\n",
        "    ax_loss.set_ylabel('MSE', fontsize=10)\n",
        "\n",
        "    ax_grid.pcolormesh(w_0_grid, w_1_grid, loss_grid, cmap=plt.cm.coolwarm)\n",
        "    ax_grid.contour(w_0_grid, w_1_grid, loss_grid, 20)\n",
        "    ax_grid.scatter(w_opt[0], w_opt[1], marker='x', c='w')  # Solução analítica.\n",
        "    ax_grid.set_title('W', fontsize=15)\n",
        "    ax_grid.set_xlabel('w0', fontsize=10)\n",
        "    ax_grid.set_ylabel('w1', fontsize=10)\n",
        "\n",
        "    # Plot dinâmico\n",
        "    # -------------\n",
        "    for i, (loss, w) in enumerate(zip(loss_history, w_history)):\n",
        "        ax_loss.scatter(i, loss)\n",
        "                            \n",
        "        ax_grid.scatter(w[0], w[1], c='r', marker='o')\n",
        "        \n",
        "        display.display(fig)\n",
        "        display.clear_output(wait=True)\n",
        "        time.sleep(sleep)\n"
      ],
      "execution_count": 142,
      "outputs": []
    },
    {
      "cell_type": "markdown",
      "metadata": {
        "id": "8ePrG4fQuVt6"
      },
      "source": [
        "## Plotagem iterativa do gradiente descendente, reta ajuste, parâmetros, função perda"
      ]
    },
    {
      "cell_type": "code",
      "metadata": {
        "ExecuteTime": {
          "end_time": "2018-08-20T22:58:20.107148Z",
          "start_time": "2018-08-20T22:57:47.928146Z"
        },
        "id": "Zx73IXaIuVt7",
        "scrolled": false,
        "colab": {
          "base_uri": "https://localhost:8080/",
          "height": 406
        },
        "outputId": "50499db9-157b-40ae-9800-b6631311a127"
      },
      "source": [
        "%matplotlib inline\n",
        "try:\n",
        "    show_plots(x, y, w_0_grid, w_1_grid, loss_grid, loss_history, w_history, sleep=0.01)\n",
        "except KeyboardInterrupt:\n",
        "    pass"
      ],
      "execution_count": 143,
      "outputs": [
        {
          "output_type": "display_data",
          "data": {
            "text/plain": [
              "<Figure size 1296x432 with 2 Axes>"
            ],
            "image/png": "[encoded data removed]"
          },
          "metadata": {
            "needs_background": "light"
          }
        }
      ]
    },
    {
      "cell_type": "code",
      "source": [
        ""
      ],
      "metadata": {
        "id": "XyZ0O-2FYZuB"
      },
      "execution_count": null,
      "outputs": []
    }
  ]
}