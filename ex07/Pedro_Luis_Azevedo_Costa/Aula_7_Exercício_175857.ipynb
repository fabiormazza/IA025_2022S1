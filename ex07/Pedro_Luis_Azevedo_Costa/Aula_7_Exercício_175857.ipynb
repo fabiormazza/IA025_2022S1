{
  "cells": [
    {
      "cell_type": "markdown",
      "metadata": {
        "id": "view-in-github",
        "colab_type": "text"
      },
      "source": [
        "<a href=\"https://colab.research.google.com/github/unicamp-dl/IA025_2022S1/blob/main/ex07/Pedro_Luis_Azevedo_Costa/Aula_7_Exerc%C3%ADcio_175857.ipynb\" target=\"_parent\"><img src=\"https://colab.research.google.com/assets/colab-badge.svg\" alt=\"Open In Colab\"/></a>"
      ]
    },
    {
      "cell_type": "code",
      "execution_count": 61,
      "metadata": {
        "colab": {
          "base_uri": "https://localhost:8080/"
        },
        "id": "jOdQB41_4ZxG",
        "outputId": "7240d85f-7487-4124-b71f-8993eb119e94"
      },
      "outputs": [
        {
          "output_type": "stream",
          "name": "stdout",
          "text": [
            "Meu nome é Pedro Luís Azevedo Costa\n"
          ]
        }
      ],
      "source": [
        "nome = \"Pedro Luís Azevedo Costa\"\n",
        "print(f'Meu nome é {nome}')"
      ]
    },
    {
      "cell_type": "markdown",
      "metadata": {
        "id": "2IbuChoAPMEn"
      },
      "source": [
        "#  Exercício: Modelo de Linguagem (Bengio 2003) - MLP + Embeddings"
      ]
    },
    {
      "cell_type": "markdown",
      "metadata": {
        "id": "p_DBb0-Klwf2"
      },
      "source": [
        "Neste exercício iremos treinar uma rede neural simples para prever a proxima palavra de um texto, data as palavras anteriores como entrada. Esta tarefa é chamada de \"Modelagem da Língua\".\n",
        "\n",
        "Este dataset já possui um tamanho razoável e é bem provável que você vai precisar rodar seus experimentos com GPU.\n",
        "\n",
        "Alguns conselhos úteis:\n",
        "- **ATENÇÃO:** o dataset é bem grande. Não dê comando de imprimí-lo.\n",
        "- Durante a depuração, faça seu dataset ficar bem pequeno, para que a depuração seja mais rápida e não precise de GPU. Somente ligue a GPU quando o seu laço de treinamento já está funcionando\n",
        "- Não deixe para fazer esse exercício na véspera. Ele é trabalhoso."
      ]
    },
    {
      "cell_type": "code",
      "execution_count": 62,
      "metadata": {
        "colab": {
          "base_uri": "https://localhost:8080/"
        },
        "id": "3twP0YJC4jmJ",
        "outputId": "10bd5044-2af1-4b44-94a0-c76ce234d497"
      },
      "outputs": [
        {
          "output_type": "stream",
          "name": "stdout",
          "text": [
            "Requirement already satisfied: transformers in /usr/local/lib/python3.7/dist-packages (4.19.2)\n",
            "Requirement already satisfied: tokenizers!=0.11.3,<0.13,>=0.11.1 in /usr/local/lib/python3.7/dist-packages (from transformers) (0.12.1)\n",
            "Requirement already satisfied: tqdm>=4.27 in /usr/local/lib/python3.7/dist-packages (from transformers) (4.64.0)\n",
            "Requirement already satisfied: pyyaml>=5.1 in /usr/local/lib/python3.7/dist-packages (from transformers) (6.0)\n",
            "Requirement already satisfied: requests in /usr/local/lib/python3.7/dist-packages (from transformers) (2.23.0)\n",
            "Requirement already satisfied: huggingface-hub<1.0,>=0.1.0 in /usr/local/lib/python3.7/dist-packages (from transformers) (0.6.0)\n",
            "Requirement already satisfied: filelock in /usr/local/lib/python3.7/dist-packages (from transformers) (3.7.0)\n",
            "Requirement already satisfied: regex!=2019.12.17 in /usr/local/lib/python3.7/dist-packages (from transformers) (2019.12.20)\n",
            "Requirement already satisfied: packaging>=20.0 in /usr/local/lib/python3.7/dist-packages (from transformers) (21.3)\n",
            "Requirement already satisfied: numpy>=1.17 in /usr/local/lib/python3.7/dist-packages (from transformers) (1.21.6)\n",
            "Requirement already satisfied: importlib-metadata in /usr/local/lib/python3.7/dist-packages (from transformers) (4.11.3)\n",
            "Requirement already satisfied: typing-extensions>=3.7.4.3 in /usr/local/lib/python3.7/dist-packages (from huggingface-hub<1.0,>=0.1.0->transformers) (4.2.0)\n",
            "Requirement already satisfied: pyparsing!=3.0.5,>=2.0.2 in /usr/local/lib/python3.7/dist-packages (from packaging>=20.0->transformers) (3.0.9)\n",
            "Requirement already satisfied: zipp>=0.5 in /usr/local/lib/python3.7/dist-packages (from importlib-metadata->transformers) (3.8.0)\n",
            "Requirement already satisfied: urllib3!=1.25.0,!=1.25.1,<1.26,>=1.21.1 in /usr/local/lib/python3.7/dist-packages (from requests->transformers) (1.24.3)\n",
            "Requirement already satisfied: certifi>=2017.4.17 in /usr/local/lib/python3.7/dist-packages (from requests->transformers) (2021.10.8)\n",
            "Requirement already satisfied: chardet<4,>=3.0.2 in /usr/local/lib/python3.7/dist-packages (from requests->transformers) (3.0.4)\n",
            "Requirement already satisfied: idna<3,>=2.5 in /usr/local/lib/python3.7/dist-packages (from requests->transformers) (2.10)\n"
          ]
        }
      ],
      "source": [
        "# iremos utilizar a biblioteca dos transformers para ter acesso ao tokenizador do BERT.\n",
        "!pip install transformers"
      ]
    },
    {
      "cell_type": "markdown",
      "metadata": {
        "id": "YnyhJZtTRNMx"
      },
      "source": [
        "## Importação dos pacotes"
      ]
    },
    {
      "cell_type": "code",
      "execution_count": 63,
      "metadata": {
        "id": "qlIOVCajPWcU"
      },
      "outputs": [],
      "source": [
        "import collections\n",
        "import itertools\n",
        "import functools\n",
        "import math\n",
        "import random\n",
        "\n",
        "import torch\n",
        "import torch.nn as nn\n",
        "import numpy as np\n",
        "from torch.utils.data import DataLoader\n",
        "from tqdm import tqdm_notebook\n"
      ]
    },
    {
      "cell_type": "code",
      "execution_count": 64,
      "metadata": {
        "colab": {
          "base_uri": "https://localhost:8080/"
        },
        "id": "w9f3PfifAwpU",
        "outputId": "3be89120-de2b-48a7-ac98-9a5768e604f8"
      },
      "outputs": [
        {
          "output_type": "stream",
          "name": "stdout",
          "text": [
            "Wed May 18 17:32:14 2022       \n",
            "+-----------------------------------------------------------------------------+\n",
            "| NVIDIA-SMI 460.32.03    Driver Version: 460.32.03    CUDA Version: 11.2     |\n",
            "|-------------------------------+----------------------+----------------------+\n",
            "| GPU  Name        Persistence-M| Bus-Id        Disp.A | Volatile Uncorr. ECC |\n",
            "| Fan  Temp  Perf  Pwr:Usage/Cap|         Memory-Usage | GPU-Util  Compute M. |\n",
            "|                               |                      |               MIG M. |\n",
            "|===============================+======================+======================|\n",
            "|   0  Tesla T4            Off  | 00000000:00:04.0 Off |                    0 |\n",
            "| N/A   48C    P0    27W /  70W |   2448MiB / 15109MiB |      0%      Default |\n",
            "|                               |                      |                  N/A |\n",
            "+-------------------------------+----------------------+----------------------+\n",
            "                                                                               \n",
            "+-----------------------------------------------------------------------------+\n",
            "| Processes:                                                                  |\n",
            "|  GPU   GI   CI        PID   Type   Process name                  GPU Memory |\n",
            "|        ID   ID                                                   Usage      |\n",
            "|=============================================================================|\n",
            "+-----------------------------------------------------------------------------+\n"
          ]
        }
      ],
      "source": [
        "# Check which GPU we are using\n",
        "!nvidia-smi"
      ]
    },
    {
      "cell_type": "code",
      "execution_count": 65,
      "metadata": {
        "colab": {
          "base_uri": "https://localhost:8080/"
        },
        "id": "whTCe2i7AtoV",
        "outputId": "eb605a9d-3af7-46b3-957e-3e7fd3225213"
      },
      "outputs": [
        {
          "output_type": "stream",
          "name": "stdout",
          "text": [
            "Using cuda:0\n"
          ]
        }
      ],
      "source": [
        "if torch.cuda.is_available(): \n",
        "   dev = \"cuda:0\"\n",
        "else: \n",
        "   dev = \"cpu\"\n",
        "device = torch.device(dev)\n",
        "print('Using {}'.format(device))"
      ]
    },
    {
      "cell_type": "markdown",
      "metadata": {
        "id": "9ZfxgV2DUk58"
      },
      "source": [
        "## Implementação do MyDataset"
      ]
    },
    {
      "cell_type": "code",
      "execution_count": 66,
      "metadata": {
        "colab": {
          "base_uri": "https://localhost:8080/"
        },
        "id": "n_xhKm1EZ3bQ",
        "outputId": "1f25d525-9279-4213-aa0f-bb0f3bc3df70"
      },
      "outputs": [
        {
          "output_type": "execute_result",
          "data": {
            "text/plain": [
              "(tensor([[ 3396, 10303,   125],\n",
              "         [ 1660,  5971,   785],\n",
              "         [ 5971,   785,   125],\n",
              "         [  785,   125,  1847],\n",
              "         [  125,  1847, 13779]]), tensor([13239,   125,  1847, 13779, 15616]))"
            ]
          },
          "metadata": {},
          "execution_count": 66
        }
      ],
      "source": [
        "from typing import List\n",
        "from transformers import BertTokenizer\n",
        "\n",
        "\n",
        "\n",
        "def tokenize(text: str, tokenizer):\n",
        "    return tokenizer(text, return_tensors=None, add_special_tokens=False).input_ids\n",
        "\n",
        "\n",
        "\n",
        "class MyDataset():\n",
        "    def __init__(self, texts: List[str], tokenizer, context_size: int):\n",
        "        ...\n",
        "        # Escreva seu código aqui\n",
        "        self.tokenizer = tokenizer\n",
        "        self.context_size = context_size\n",
        "        \n",
        "        self.x_context = []\n",
        "        self.y_context = []\n",
        "        for text in texts:\n",
        "            tokenized_text = tokenize(text, self.tokenizer)\n",
        "            for i in range(0, len(tokenized_text)-self.context_size):\n",
        "                self.x_context.append(tokenized_text[i:i+context_size])\n",
        "                self.y_context.append(tokenized_text[i+context_size])\n",
        "\n",
        "        self.x_context = torch.LongTensor(self.x_context)\n",
        "        self.y_context = torch.LongTensor(self.y_context)\n",
        "\n",
        "\n",
        "    def __len__(self):\n",
        "        # Escreva seu código aqui\n",
        "\n",
        "        return len(self.y_context)\n",
        "\n",
        "    def __getitem__(self, idx):\n",
        "        # Escreva seu código aqui\n",
        "        return self.x_context[idx], self.y_context[idx]\n",
        "string = ['Eu gosto de correr', 'Ela gosta muito de comer pizza']\n",
        "tokenizer = BertTokenizer.from_pretrained(\"neuralmind/bert-base-portuguese-cased\")\n",
        "\n",
        "dataset = MyDataset(texts=string, tokenizer=tokenizer,context_size=3)\n",
        "dataset.x_context, dataset.y_context"
      ]
    },
    {
      "cell_type": "markdown",
      "metadata": {
        "id": "wew-gFbWeBTq"
      },
      "source": [
        "## Teste se sua implementação do MyDataset está correta"
      ]
    },
    {
      "cell_type": "code",
      "execution_count": 67,
      "metadata": {
        "colab": {
          "base_uri": "https://localhost:8080/"
        },
        "id": "8r7jBFFUeApe",
        "outputId": "e69a352f-d0ef-412c-ea9b-abcedb944b65"
      },
      "outputs": [
        {
          "output_type": "stream",
          "name": "stdout",
          "text": [
            "1\n",
            "passou no assert de tamanho do dataset\n",
            "Passou no assert de input\n",
            "Passou no assert de target\n"
          ]
        }
      ],
      "source": [
        "from transformers import BertTokenizer\n",
        "\n",
        "tokenizer = BertTokenizer.from_pretrained(\"neuralmind/bert-base-portuguese-cased\")\n",
        "\n",
        "dummy_texts = ['Eu gosto de correr', 'Ela gosta muito de comer pizza']\n",
        "\n",
        "dummy_dataset = MyDataset(texts=dummy_texts, tokenizer=tokenizer, context_size=3)\n",
        "dummy_loader = DataLoader(dummy_dataset, batch_size=6, shuffle=False)\n",
        "print(len(dummy_loader))\n",
        "assert len(dummy_dataset) == 5\n",
        "print('passou no assert de tamanho do dataset')\n",
        "\n",
        "first_batch_input, first_batch_target = next(iter(dummy_loader))\n",
        "\n",
        "correct_first_batch_input = torch.LongTensor(\n",
        "    [[ 3396, 10303,   125],\n",
        "     [ 1660,  5971,   785],\n",
        "     [ 5971,   785,   125],\n",
        "     [  785,   125,  1847],\n",
        "     [  125,  1847, 13779]])\n",
        "\n",
        "correct_first_batch_target = torch.LongTensor([13239,   125,  1847, 13779, 15616])\n",
        "\n",
        "assert torch.equal(first_batch_input, correct_first_batch_input)\n",
        "print('Passou no assert de input')\n",
        "assert torch.equal(first_batch_target, correct_first_batch_target)\n",
        "print('Passou no assert de target')"
      ]
    },
    {
      "cell_type": "markdown",
      "metadata": {
        "id": "4LfrHHouleJ0"
      },
      "source": [
        "# Carregamento do dataset "
      ]
    },
    {
      "cell_type": "markdown",
      "metadata": {
        "id": "V2vFWjsSkmop"
      },
      "source": [
        "Iremos usar uma pequena amostra do dataset [BrWaC](https://www.inf.ufrgs.br/pln/wiki/index.php?title=BrWaC) para treinar e avaliar nosso modelo de linguagem."
      ]
    },
    {
      "cell_type": "code",
      "execution_count": 68,
      "metadata": {
        "colab": {
          "base_uri": "https://localhost:8080/"
        },
        "id": "vGlN1WqrXPA6",
        "outputId": "f18ff69a-1cf0-4ec0-f326-1ae70aa0cb64"
      },
      "outputs": [
        {
          "output_type": "stream",
          "name": "stdout",
          "text": [
            "File ‘sample_brwac.txt’ already there; not retrieving.\n",
            "\n"
          ]
        }
      ],
      "source": [
        "!wget -nc https://storage.googleapis.com/unicamp-dl/ia025a_2022s1/aula7/sample_brwac.txt"
      ]
    },
    {
      "cell_type": "code",
      "execution_count": 69,
      "metadata": {
        "id": "gxa_4gmiA-wE"
      },
      "outputs": [],
      "source": [
        "# Load datasets\n",
        "context_size = 9\n",
        "\n",
        "valid_examples = 100\n",
        "test_examples = 100\n",
        "texts = open('sample_brwac.txt').readlines()\n",
        "\n",
        "#print('Truncating for debugging purposes.')\n",
        "#texts = texts[:500]  \n",
        "\n",
        "training_texts = texts[:-(valid_examples + test_examples)]\n",
        "valid_texts = texts[-(valid_examples + test_examples):-test_examples]\n",
        "test_texts = texts[-test_examples:]\n",
        "\n",
        "training_dataset = MyDataset(texts=training_texts, tokenizer=tokenizer, context_size=context_size)\n",
        "valid_dataset = MyDataset(texts=valid_texts, tokenizer=tokenizer, context_size=context_size)\n",
        "test_dataset = MyDataset(texts=test_texts, tokenizer=tokenizer, context_size=context_size)"
      ]
    },
    {
      "cell_type": "code",
      "execution_count": 70,
      "metadata": {
        "id": "KCSGJ5m7py4c",
        "colab": {
          "base_uri": "https://localhost:8080/"
        },
        "outputId": "ba0ed491-eccc-458d-f260-9ff4e356a347"
      },
      "outputs": [
        {
          "output_type": "stream",
          "name": "stdout",
          "text": [
            "training examples: 27675945\n",
            "valid examples: 82070\n",
            "test examples: 166726\n"
          ]
        }
      ],
      "source": [
        "print(f'training examples: {len(training_dataset)}')\n",
        "print(f'valid examples: {len(valid_dataset)}')\n",
        "print(f'test examples: {len(test_dataset)}')"
      ]
    },
    {
      "cell_type": "code",
      "execution_count": 93,
      "metadata": {
        "id": "hGaAjYDfWdd1"
      },
      "outputs": [],
      "source": [
        "from torch.nn import Embedding, Tanh, Softmax, Linear, ReLU\n",
        "\n",
        "class LanguageModel(torch.nn.Module):\n",
        "\n",
        "    def __init__(self, vocab_size, context_size, embedding_dim, hidden_size):\n",
        "        \"\"\"\n",
        "        Implements the Neural Language Model proposed by Bengio et al.\"\n",
        "\n",
        "        Args:\n",
        "            vocab_size (int): Size of the input vocabulary.\n",
        "            context_size (int): Size of the sequence to consider as context for prediction.\n",
        "            embedding_dim (int): Dimension of the embedding layer for each word in the context.\n",
        "            hidden_size (int): Size of the hidden layer.\n",
        "        \"\"\"\n",
        "        # Escreva seu código aqui.\n",
        "        super(LanguageModel, self).__init__()\n",
        "        self.vocab_size = vocab_size\n",
        "        self.context_size = context_size\n",
        "        self.embedding_dim = embedding_dim\n",
        "        self.hidden_size = hidden_size\n",
        "\n",
        "        self.embedding = Embedding(vocab_size, embedding_dim)\n",
        "        self.hidden_layer = Linear(embedding_dim*context_size, hidden_size)\n",
        "        self.tanh = Tanh()\n",
        "        self.pre_softmax = Linear(hidden_size, vocab_size)\n",
        "        self.relu = ReLU()\n",
        "        self.softmax = Softmax()\n",
        "\n",
        "\n",
        "\n",
        "\n",
        "\n",
        "    def forward(self, inputs):\n",
        "        \"\"\"\n",
        "        Args:\n",
        "            inputs is a LongTensor of shape (batch_size, context_size)\n",
        "        \"\"\"\n",
        "        # Escreva seu código aqui.\n",
        "        out = self.embedding(inputs).view(-1, self.context_size * self.embedding_dim)\n",
        "        out = self.hidden_layer(out)\n",
        "        #out = self.tanh(out)\n",
        "        #precisei substituir tanh por relu para diminuir o tempo de execucao\n",
        "        out = self.relu(out)\n",
        "        out = self.pre_softmax(out)\n",
        "        #out = self.softmax(out)\n",
        "\n",
        "\n",
        "        return out"
      ]
    },
    {
      "cell_type": "markdown",
      "metadata": {
        "id": "Rm6_PTH2i98e"
      },
      "source": [
        "## Teste o modelo com um exemplo"
      ]
    },
    {
      "cell_type": "code",
      "execution_count": 72,
      "metadata": {
        "id": "RwnxfZlrZoT_",
        "colab": {
          "base_uri": "https://localhost:8080/"
        },
        "outputId": "6ed282fb-933c-409f-b30c-fa3fd620fa52"
      },
      "outputs": [
        {
          "output_type": "execute_result",
          "data": {
            "text/plain": [
              "torch.Size([1, 29794])"
            ]
          },
          "metadata": {},
          "execution_count": 72
        }
      ],
      "source": [
        "model = LanguageModel(\n",
        "    vocab_size=tokenizer.vocab_size,\n",
        "    context_size=context_size,\n",
        "    embedding_dim=64,\n",
        "    hidden_size=128,\n",
        ").to(device)\n",
        "\n",
        "sample_train, _ = next(iter(DataLoader(training_dataset)))\n",
        "sample_train_gpu = sample_train.to(device)\n",
        "model(sample_train_gpu).shape"
      ]
    },
    {
      "cell_type": "code",
      "execution_count": 73,
      "metadata": {
        "id": "I3Vh6B-VkA01",
        "colab": {
          "base_uri": "https://localhost:8080/"
        },
        "outputId": "91448a72-029b-4745-90c1-250d18017e4d"
      },
      "outputs": [
        {
          "output_type": "stream",
          "name": "stdout",
          "text": [
            "Number of model parameters: 5824098\n"
          ]
        }
      ],
      "source": [
        "num_params = sum(p.numel() for p in model.parameters() if p.requires_grad)\n",
        "print(f'Number of model parameters: {num_params}')"
      ]
    },
    {
      "cell_type": "markdown",
      "metadata": {
        "id": "8nhbUVsYnVAp"
      },
      "source": [
        "## Assert da Perplexidade\n"
      ]
    },
    {
      "cell_type": "code",
      "execution_count": 74,
      "metadata": {
        "id": "gbMP8VAUncfX",
        "colab": {
          "base_uri": "https://localhost:8080/"
        },
        "outputId": "7a797b37-8647-4a2a-c2d9-f4b034e58acf"
      },
      "outputs": [
        {
          "output_type": "stream",
          "name": "stdout",
          "text": [
            "my perplexity:              30622\n",
            "correct initial perplexity: 29794\n",
            "Passou o no assert da perplexidade\n"
          ]
        }
      ],
      "source": [
        "from torch.nn.functional import cross_entropy\n",
        "from torch.nn import CrossEntropyLoss\n",
        "\n",
        "random.seed(123)\n",
        "np.random.seed(123)\n",
        "torch.manual_seed(123)\n",
        "\n",
        "\n",
        "def perplexity(logits, target):\n",
        "    \"\"\"\n",
        "    Computes the perplexity.\n",
        "\n",
        "    Args:\n",
        "        logits: a FloatTensor of shape (batch_size, vocab_size)\n",
        "        target: a LongTensor of shape (batch_size,)\n",
        "\n",
        "    Returns:\n",
        "        A float corresponding to the perplexity.\n",
        "    \"\"\"\n",
        "    # Escreva seu código aqui.\n",
        "    perplexity = torch.exp(cross_entropy(logits, target)).sum()\n",
        "    \n",
        "    return perplexity\n",
        "\n",
        "\n",
        "n_examples = 1000\n",
        "\n",
        "sample_train, target_token_ids = next(iter(DataLoader(training_dataset, batch_size=n_examples)))\n",
        "sample_train_gpu = sample_train.to(device)\n",
        "target_token_ids = target_token_ids.to(device)\n",
        "logits = model(sample_train_gpu)\n",
        "\n",
        "my_perplexity = perplexity(logits=logits, target=target_token_ids)\n",
        "\n",
        "print(f'my perplexity:              {int(my_perplexity)}')\n",
        "print(f'correct initial perplexity: {tokenizer.vocab_size}')\n",
        "\n",
        "assert math.isclose(my_perplexity, tokenizer.vocab_size, abs_tol=2000)\n",
        "print('Passou o no assert da perplexidade')"
      ]
    },
    {
      "cell_type": "markdown",
      "metadata": {
        "id": "KiJtrsqPnE_l"
      },
      "source": [
        "## Laço de Treinamento e Validação"
      ]
    },
    {
      "cell_type": "code",
      "execution_count": 75,
      "metadata": {
        "id": "zIMSaY-UUGUE",
        "colab": {
          "base_uri": "https://localhost:8080/"
        },
        "outputId": "fcc254df-2d02-4733-fb5d-6fd0b9a7d686"
      },
      "outputs": [
        {
          "output_type": "stream",
          "name": "stdout",
          "text": [
            "0 steps; 0 examples so far; train ppl: 30495.77, valid ppl: 30543.47\n",
            "5000 steps; 320000 examples so far; train ppl: 3045.68, valid ppl: 1877.72\n",
            "10000 steps; 640000 examples so far; train ppl: 1703.92, valid ppl: 1638.81\n",
            "15000 steps; 960000 examples so far; train ppl: 1551.19, valid ppl: 1540.96\n",
            "20000 steps; 1280000 examples so far; train ppl: 1477.48, valid ppl: 1462.02\n",
            "25000 steps; 1600000 examples so far; train ppl: 1400.52, valid ppl: 1385.28\n",
            "30000 steps; 1920000 examples so far; train ppl: 1325.43, valid ppl: 1310.67\n",
            "35000 steps; 2240000 examples so far; train ppl: 1267.86, valid ppl: 1241.03\n",
            "40000 steps; 2560000 examples so far; train ppl: 1198.62, valid ppl: 1178.68\n",
            "45000 steps; 2880000 examples so far; train ppl: 1135.62, valid ppl: 1122.45\n",
            "50000 steps; 3200000 examples so far; train ppl: 1088.74, valid ppl: 1074.47\n",
            "55000 steps; 3520000 examples so far; train ppl: 1042.41, valid ppl: 1034.73\n",
            "60000 steps; 3840000 examples so far; train ppl: 1006.62, valid ppl: 999.20\n",
            "65000 steps; 4160000 examples so far; train ppl: 968.71, valid ppl: 968.91\n",
            "70000 steps; 4480000 examples so far; train ppl: 935.58, valid ppl: 940.49\n",
            "75000 steps; 4800000 examples so far; train ppl: 908.06, valid ppl: 915.69\n",
            "80000 steps; 5120000 examples so far; train ppl: 890.12, valid ppl: 892.54\n",
            "85000 steps; 5440000 examples so far; train ppl: 866.40, valid ppl: 874.09\n",
            "90000 steps; 5760000 examples so far; train ppl: 855.77, valid ppl: 855.66\n",
            "95000 steps; 6080000 examples so far; train ppl: 836.98, valid ppl: 838.58\n",
            "100000 steps; 6400000 examples so far; train ppl: 817.18, valid ppl: 821.84\n",
            "105000 steps; 6720000 examples so far; train ppl: 802.08, valid ppl: 807.19\n",
            "110000 steps; 7040000 examples so far; train ppl: 787.11, valid ppl: 792.89\n",
            "115000 steps; 7360000 examples so far; train ppl: 773.13, valid ppl: 779.85\n",
            "120000 steps; 7680000 examples so far; train ppl: 765.38, valid ppl: 768.31\n",
            "125000 steps; 8000000 examples so far; train ppl: 750.92, valid ppl: 757.80\n",
            "130000 steps; 8320000 examples so far; train ppl: 736.44, valid ppl: 746.57\n",
            "135000 steps; 8640000 examples so far; train ppl: 725.59, valid ppl: 737.07\n",
            "140000 steps; 8960000 examples so far; train ppl: 721.87, valid ppl: 726.71\n",
            "145000 steps; 9280000 examples so far; train ppl: 715.75, valid ppl: 718.21\n",
            "150000 steps; 9600000 examples so far; train ppl: 701.80, valid ppl: 709.06\n",
            "155000 steps; 9920000 examples so far; train ppl: 689.90, valid ppl: 701.50\n",
            "160000 steps; 10240000 examples so far; train ppl: 683.01, valid ppl: 692.44\n",
            "165000 steps; 10560000 examples so far; train ppl: 681.85, valid ppl: 683.79\n",
            "170000 steps; 10880000 examples so far; train ppl: 665.32, valid ppl: 676.73\n",
            "175000 steps; 11200000 examples so far; train ppl: 664.08, valid ppl: 669.92\n",
            "180000 steps; 11520000 examples so far; train ppl: 651.44, valid ppl: 664.47\n",
            "185000 steps; 11840000 examples so far; train ppl: 653.50, valid ppl: 657.19\n",
            "190000 steps; 12160000 examples so far; train ppl: 646.44, valid ppl: 651.33\n",
            "195000 steps; 12480000 examples so far; train ppl: 637.75, valid ppl: 645.15\n",
            "200000 steps; 12800000 examples so far; train ppl: 630.94, valid ppl: 638.35\n",
            "205000 steps; 13120000 examples so far; train ppl: 622.83, valid ppl: 633.18\n",
            "210000 steps; 13440000 examples so far; train ppl: 617.67, valid ppl: 628.11\n",
            "215000 steps; 13760000 examples so far; train ppl: 615.31, valid ppl: 621.90\n",
            "220000 steps; 14080000 examples so far; train ppl: 614.63, valid ppl: 617.44\n",
            "225000 steps; 14400000 examples so far; train ppl: 605.41, valid ppl: 612.44\n",
            "230000 steps; 14720000 examples so far; train ppl: 604.71, valid ppl: 608.40\n",
            "235000 steps; 15040000 examples so far; train ppl: 595.44, valid ppl: 604.71\n",
            "240000 steps; 15360000 examples so far; train ppl: 591.42, valid ppl: 600.01\n",
            "245000 steps; 15680000 examples so far; train ppl: 589.46, valid ppl: 596.11\n",
            "250000 steps; 16000000 examples so far; train ppl: 585.54, valid ppl: 592.13\n",
            "255000 steps; 16320000 examples so far; train ppl: 580.13, valid ppl: 587.36\n",
            "260000 steps; 16640000 examples so far; train ppl: 578.65, valid ppl: 584.09\n",
            "265000 steps; 16960000 examples so far; train ppl: 571.86, valid ppl: 580.70\n",
            "270000 steps; 17280000 examples so far; train ppl: 572.37, valid ppl: 577.05\n",
            "275000 steps; 17600000 examples so far; train ppl: 566.27, valid ppl: 573.76\n",
            "280000 steps; 17920000 examples so far; train ppl: 567.39, valid ppl: 569.72\n",
            "285000 steps; 18240000 examples so far; train ppl: 557.25, valid ppl: 565.97\n",
            "290000 steps; 18560000 examples so far; train ppl: 554.53, valid ppl: 563.32\n",
            "295000 steps; 18880000 examples so far; train ppl: 556.96, valid ppl: 559.76\n",
            "300000 steps; 19200000 examples so far; train ppl: 556.52, valid ppl: 556.52\n",
            "305000 steps; 19520000 examples so far; train ppl: 547.86, valid ppl: 553.71\n",
            "310000 steps; 19840000 examples so far; train ppl: 547.14, valid ppl: 551.19\n",
            "315000 steps; 20160000 examples so far; train ppl: 540.92, valid ppl: 547.33\n",
            "320000 steps; 20480000 examples so far; train ppl: 538.23, valid ppl: 545.54\n",
            "325000 steps; 20800000 examples so far; train ppl: 531.43, valid ppl: 543.74\n",
            "330000 steps; 21120000 examples so far; train ppl: 529.56, valid ppl: 540.64\n",
            "335000 steps; 21440000 examples so far; train ppl: 530.57, valid ppl: 537.04\n",
            "340000 steps; 21760000 examples so far; train ppl: 529.38, valid ppl: 536.15\n",
            "345000 steps; 22080000 examples so far; train ppl: 525.31, valid ppl: 532.96\n",
            "350000 steps; 22400000 examples so far; train ppl: 524.48, valid ppl: 532.58\n",
            "355000 steps; 22720000 examples so far; train ppl: 527.79, valid ppl: 529.37\n",
            "360000 steps; 23040000 examples so far; train ppl: 519.99, valid ppl: 526.33\n",
            "365000 steps; 23360000 examples so far; train ppl: 518.64, valid ppl: 525.00\n",
            "370000 steps; 23680000 examples so far; train ppl: 518.82, valid ppl: 523.01\n",
            "375000 steps; 24000000 examples so far; train ppl: 512.97, valid ppl: 520.20\n",
            "380000 steps; 24320000 examples so far; train ppl: 507.50, valid ppl: 517.96\n",
            "385000 steps; 24640000 examples so far; train ppl: 505.50, valid ppl: 517.32\n",
            "390000 steps; 24960000 examples so far; train ppl: 501.55, valid ppl: 515.13\n",
            "395000 steps; 25280000 examples so far; train ppl: 504.73, valid ppl: 511.93\n",
            "400000 steps; 25600000 examples so far; train ppl: 500.65, valid ppl: 509.53\n",
            "405000 steps; 25920000 examples so far; train ppl: 500.73, valid ppl: 507.41\n",
            "410000 steps; 26240000 examples so far; train ppl: 500.20, valid ppl: 504.83\n",
            "415000 steps; 26560000 examples so far; train ppl: 497.28, valid ppl: 503.41\n",
            "420000 steps; 26880000 examples so far; train ppl: 493.38, valid ppl: 501.26\n",
            "425000 steps; 27200000 examples so far; train ppl: 496.10, valid ppl: 499.58\n",
            "430000 steps; 27520000 examples so far; train ppl: 495.19, valid ppl: 497.14\n",
            "435000 steps; 27840000 examples so far; train ppl: 477.98, valid ppl: 496.29\n",
            "440000 steps; 28160000 examples so far; train ppl: 468.63, valid ppl: 494.09\n",
            "445000 steps; 28480000 examples so far; train ppl: 472.04, valid ppl: 492.49\n",
            "450000 steps; 28800000 examples so far; train ppl: 469.74, valid ppl: 491.42\n",
            "455000 steps; 29120000 examples so far; train ppl: 473.69, valid ppl: 488.79\n",
            "460000 steps; 29440000 examples so far; train ppl: 470.04, valid ppl: 487.68\n",
            "465000 steps; 29760000 examples so far; train ppl: 465.16, valid ppl: 487.47\n",
            "470000 steps; 30080000 examples so far; train ppl: 468.09, valid ppl: 486.01\n",
            "475000 steps; 30400000 examples so far; train ppl: 468.89, valid ppl: 485.03\n",
            "480000 steps; 30720000 examples so far; train ppl: 468.23, valid ppl: 483.14\n",
            "485000 steps; 31040000 examples so far; train ppl: 463.11, valid ppl: 480.85\n",
            "490000 steps; 31360000 examples so far; train ppl: 461.56, valid ppl: 480.69\n",
            "495000 steps; 31680000 examples so far; train ppl: 458.50, valid ppl: 478.97\n",
            "500000 steps; 32000000 examples so far; train ppl: 458.28, valid ppl: 477.17\n",
            "505000 steps; 32320000 examples so far; train ppl: 463.76, valid ppl: 475.96\n",
            "510000 steps; 32640000 examples so far; train ppl: 458.22, valid ppl: 475.42\n",
            "515000 steps; 32960000 examples so far; train ppl: 456.93, valid ppl: 474.40\n",
            "520000 steps; 33280000 examples so far; train ppl: 455.60, valid ppl: 472.94\n",
            "525000 steps; 33600000 examples so far; train ppl: 455.84, valid ppl: 471.35\n",
            "530000 steps; 33920000 examples so far; train ppl: 452.46, valid ppl: 468.64\n",
            "535000 steps; 34240000 examples so far; train ppl: 452.71, valid ppl: 467.41\n",
            "540000 steps; 34560000 examples so far; train ppl: 455.58, valid ppl: 467.18\n",
            "545000 steps; 34880000 examples so far; train ppl: 453.66, valid ppl: 465.72\n",
            "550000 steps; 35200000 examples so far; train ppl: 451.88, valid ppl: 465.38\n",
            "555000 steps; 35520000 examples so far; train ppl: 449.44, valid ppl: 463.20\n",
            "560000 steps; 35840000 examples so far; train ppl: 452.73, valid ppl: 463.85\n",
            "565000 steps; 36160000 examples so far; train ppl: 450.85, valid ppl: 462.79\n",
            "570000 steps; 36480000 examples so far; train ppl: 454.32, valid ppl: 460.92\n",
            "575000 steps; 36800000 examples so far; train ppl: 446.60, valid ppl: 460.02\n",
            "580000 steps; 37120000 examples so far; train ppl: 444.21, valid ppl: 459.04\n",
            "585000 steps; 37440000 examples so far; train ppl: 446.29, valid ppl: 457.23\n",
            "590000 steps; 37760000 examples so far; train ppl: 446.22, valid ppl: 457.10\n",
            "595000 steps; 38080000 examples so far; train ppl: 442.05, valid ppl: 455.71\n",
            "600000 steps; 38400000 examples so far; train ppl: 444.86, valid ppl: 455.71\n",
            "605000 steps; 38720000 examples so far; train ppl: 440.30, valid ppl: 455.24\n",
            "610000 steps; 39040000 examples so far; train ppl: 447.49, valid ppl: 453.20\n",
            "615000 steps; 39360000 examples so far; train ppl: 438.72, valid ppl: 452.72\n",
            "620000 steps; 39680000 examples so far; train ppl: 441.76, valid ppl: 451.92\n",
            "625000 steps; 40000000 examples so far; train ppl: 436.06, valid ppl: 450.76\n",
            "630000 steps; 40320000 examples so far; train ppl: 439.08, valid ppl: 449.84\n",
            "635000 steps; 40640000 examples so far; train ppl: 435.50, valid ppl: 449.62\n",
            "640000 steps; 40960000 examples so far; train ppl: 438.19, valid ppl: 447.53\n",
            "645000 steps; 41280000 examples so far; train ppl: 432.64, valid ppl: 447.79\n",
            "650000 steps; 41600000 examples so far; train ppl: 434.02, valid ppl: 447.82\n",
            "655000 steps; 41920000 examples so far; train ppl: 432.56, valid ppl: 446.33\n",
            "660000 steps; 42240000 examples so far; train ppl: 433.48, valid ppl: 445.05\n",
            "665000 steps; 42560000 examples so far; train ppl: 433.80, valid ppl: 445.28\n",
            "670000 steps; 42880000 examples so far; train ppl: 435.76, valid ppl: 445.00\n",
            "675000 steps; 43200000 examples so far; train ppl: 434.87, valid ppl: 444.01\n",
            "680000 steps; 43520000 examples so far; train ppl: 432.58, valid ppl: 442.10\n",
            "685000 steps; 43840000 examples so far; train ppl: 434.73, valid ppl: 440.67\n",
            "690000 steps; 44160000 examples so far; train ppl: 431.46, valid ppl: 441.40\n",
            "695000 steps; 44480000 examples so far; train ppl: 430.33, valid ppl: 440.13\n",
            "700000 steps; 44800000 examples so far; train ppl: 427.44, valid ppl: 439.72\n",
            "705000 steps; 45120000 examples so far; train ppl: 429.03, valid ppl: 439.32\n",
            "710000 steps; 45440000 examples so far; train ppl: 429.31, valid ppl: 438.14\n",
            "715000 steps; 45760000 examples so far; train ppl: 426.75, valid ppl: 437.54\n",
            "720000 steps; 46080000 examples so far; train ppl: 428.04, valid ppl: 436.87\n",
            "725000 steps; 46400000 examples so far; train ppl: 423.51, valid ppl: 435.47\n",
            "730000 steps; 46720000 examples so far; train ppl: 429.54, valid ppl: 435.46\n",
            "735000 steps; 47040000 examples so far; train ppl: 426.07, valid ppl: 433.15\n",
            "740000 steps; 47360000 examples so far; train ppl: 423.29, valid ppl: 433.29\n",
            "745000 steps; 47680000 examples so far; train ppl: 424.72, valid ppl: 433.91\n",
            "750000 steps; 48000000 examples so far; train ppl: 427.55, valid ppl: 432.49\n",
            "755000 steps; 48320000 examples so far; train ppl: 418.99, valid ppl: 432.20\n",
            "760000 steps; 48640000 examples so far; train ppl: 424.01, valid ppl: 432.42\n",
            "765000 steps; 48960000 examples so far; train ppl: 419.69, valid ppl: 431.72\n",
            "770000 steps; 49280000 examples so far; train ppl: 418.28, valid ppl: 431.01\n",
            "775000 steps; 49600000 examples so far; train ppl: 422.82, valid ppl: 430.09\n",
            "780000 steps; 49920000 examples so far; train ppl: 419.18, valid ppl: 429.38\n",
            "785000 steps; 50240000 examples so far; train ppl: 421.05, valid ppl: 428.28\n",
            "790000 steps; 50560000 examples so far; train ppl: 417.95, valid ppl: 428.45\n",
            "795000 steps; 50880000 examples so far; train ppl: 419.38, valid ppl: 426.65\n",
            "800000 steps; 51200000 examples so far; train ppl: 418.58, valid ppl: 427.90\n",
            "805000 steps; 51520000 examples so far; train ppl: 416.15, valid ppl: 427.29\n",
            "810000 steps; 51840000 examples so far; train ppl: 418.91, valid ppl: 426.63\n",
            "815000 steps; 52160000 examples so far; train ppl: 419.26, valid ppl: 426.31\n",
            "820000 steps; 52480000 examples so far; train ppl: 419.33, valid ppl: 426.15\n",
            "825000 steps; 52800000 examples so far; train ppl: 420.94, valid ppl: 424.69\n",
            "830000 steps; 53120000 examples so far; train ppl: 415.89, valid ppl: 424.60\n",
            "835000 steps; 53440000 examples so far; train ppl: 417.49, valid ppl: 424.04\n",
            "840000 steps; 53760000 examples so far; train ppl: 416.76, valid ppl: 423.44\n",
            "845000 steps; 54080000 examples so far; train ppl: 418.38, valid ppl: 423.82\n",
            "850000 steps; 54400000 examples so far; train ppl: 412.46, valid ppl: 423.16\n",
            "855000 steps; 54720000 examples so far; train ppl: 413.33, valid ppl: 422.62\n",
            "860000 steps; 55040000 examples so far; train ppl: 414.60, valid ppl: 421.55\n",
            "865000 steps; 55360000 examples so far; train ppl: 411.25, valid ppl: 421.04\n",
            "870000 steps; 55680000 examples so far; train ppl: 403.22, valid ppl: 420.74\n",
            "875000 steps; 56000000 examples so far; train ppl: 401.25, valid ppl: 421.75\n",
            "880000 steps; 56320000 examples so far; train ppl: 403.43, valid ppl: 421.76\n",
            "885000 steps; 56640000 examples so far; train ppl: 401.42, valid ppl: 421.92\n",
            "890000 steps; 56960000 examples so far; train ppl: 404.39, valid ppl: 419.89\n",
            "895000 steps; 57280000 examples so far; train ppl: 399.65, valid ppl: 419.83\n",
            "900000 steps; 57600000 examples so far; train ppl: 402.02, valid ppl: 419.77\n",
            "905000 steps; 57920000 examples so far; train ppl: 401.72, valid ppl: 418.94\n",
            "910000 steps; 58240000 examples so far; train ppl: 406.03, valid ppl: 420.67\n",
            "915000 steps; 58560000 examples so far; train ppl: 401.13, valid ppl: 418.51\n",
            "920000 steps; 58880000 examples so far; train ppl: 403.09, valid ppl: 418.29\n",
            "925000 steps; 59200000 examples so far; train ppl: 399.87, valid ppl: 417.19\n",
            "930000 steps; 59520000 examples so far; train ppl: 400.28, valid ppl: 416.60\n",
            "935000 steps; 59840000 examples so far; train ppl: 399.52, valid ppl: 417.20\n",
            "940000 steps; 60160000 examples so far; train ppl: 404.15, valid ppl: 417.01\n",
            "945000 steps; 60480000 examples so far; train ppl: 402.82, valid ppl: 416.30\n",
            "950000 steps; 60800000 examples so far; train ppl: 402.36, valid ppl: 416.67\n",
            "955000 steps; 61120000 examples so far; train ppl: 397.63, valid ppl: 415.73\n",
            "960000 steps; 61440000 examples so far; train ppl: 402.47, valid ppl: 414.51\n",
            "965000 steps; 61760000 examples so far; train ppl: 396.92, valid ppl: 414.24\n",
            "970000 steps; 62080000 examples so far; train ppl: 396.58, valid ppl: 414.24\n",
            "975000 steps; 62400000 examples so far; train ppl: 400.35, valid ppl: 414.24\n",
            "980000 steps; 62720000 examples so far; train ppl: 403.94, valid ppl: 414.09\n",
            "985000 steps; 63040000 examples so far; train ppl: 400.35, valid ppl: 414.08\n",
            "990000 steps; 63360000 examples so far; train ppl: 402.94, valid ppl: 413.24\n",
            "995000 steps; 63680000 examples so far; train ppl: 403.42, valid ppl: 413.48\n",
            "1000000 steps; 64000000 examples so far; train ppl: 403.28, valid ppl: 412.70\n",
            "1005000 steps; 64320000 examples so far; train ppl: 399.42, valid ppl: 412.96\n",
            "1010000 steps; 64640000 examples so far; train ppl: 398.62, valid ppl: 413.67\n",
            "1015000 steps; 64960000 examples so far; train ppl: 400.36, valid ppl: 413.72\n",
            "1020000 steps; 65280000 examples so far; train ppl: 400.34, valid ppl: 412.10\n",
            "1025000 steps; 65600000 examples so far; train ppl: 395.98, valid ppl: 411.91\n",
            "1030000 steps; 65920000 examples so far; train ppl: 397.98, valid ppl: 412.92\n",
            "1035000 steps; 66240000 examples so far; train ppl: 398.51, valid ppl: 412.27\n",
            "1040000 steps; 66560000 examples so far; train ppl: 397.10, valid ppl: 411.43\n",
            "1045000 steps; 66880000 examples so far; train ppl: 399.00, valid ppl: 411.67\n",
            "1050000 steps; 67200000 examples so far; train ppl: 399.78, valid ppl: 411.01\n",
            "1055000 steps; 67520000 examples so far; train ppl: 396.16, valid ppl: 410.74\n",
            "1060000 steps; 67840000 examples so far; train ppl: 396.82, valid ppl: 409.39\n",
            "1065000 steps; 68160000 examples so far; train ppl: 396.67, valid ppl: 410.19\n",
            "1070000 steps; 68480000 examples so far; train ppl: 400.55, valid ppl: 409.76\n",
            "1075000 steps; 68800000 examples so far; train ppl: 395.23, valid ppl: 409.41\n",
            "1080000 steps; 69120000 examples so far; train ppl: 398.23, valid ppl: 409.01\n",
            "1085000 steps; 69440000 examples so far; train ppl: 393.65, valid ppl: 409.38\n",
            "1090000 steps; 69760000 examples so far; train ppl: 397.25, valid ppl: 408.88\n",
            "1095000 steps; 70080000 examples so far; train ppl: 399.70, valid ppl: 409.74\n",
            "1100000 steps; 70400000 examples so far; train ppl: 397.79, valid ppl: 410.34\n",
            "1105000 steps; 70720000 examples so far; train ppl: 395.16, valid ppl: 410.13\n",
            "1110000 steps; 71040000 examples so far; train ppl: 395.23, valid ppl: 408.38\n",
            "1115000 steps; 71360000 examples so far; train ppl: 397.03, valid ppl: 409.37\n",
            "1120000 steps; 71680000 examples so far; train ppl: 391.25, valid ppl: 408.90\n",
            "1125000 steps; 72000000 examples so far; train ppl: 397.58, valid ppl: 407.40\n",
            "1130000 steps; 72320000 examples so far; train ppl: 398.89, valid ppl: 407.99\n",
            "1135000 steps; 72640000 examples so far; train ppl: 394.30, valid ppl: 408.62\n",
            "1140000 steps; 72960000 examples so far; train ppl: 395.54, valid ppl: 407.47\n",
            "1145000 steps; 73280000 examples so far; train ppl: 397.57, valid ppl: 406.24\n",
            "1150000 steps; 73600000 examples so far; train ppl: 398.28, valid ppl: 408.14\n",
            "1155000 steps; 73920000 examples so far; train ppl: 395.04, valid ppl: 406.93\n",
            "1160000 steps; 74240000 examples so far; train ppl: 399.17, valid ppl: 407.04\n",
            "1165000 steps; 74560000 examples so far; train ppl: 394.76, valid ppl: 407.39\n",
            "1170000 steps; 74880000 examples so far; train ppl: 397.22, valid ppl: 405.92\n",
            "1175000 steps; 75200000 examples so far; train ppl: 401.54, valid ppl: 405.50\n",
            "1180000 steps; 75520000 examples so far; train ppl: 393.06, valid ppl: 405.53\n",
            "1185000 steps; 75840000 examples so far; train ppl: 392.36, valid ppl: 405.28\n",
            "1190000 steps; 76160000 examples so far; train ppl: 393.89, valid ppl: 404.26\n",
            "1195000 steps; 76480000 examples so far; train ppl: 400.32, valid ppl: 404.49\n",
            "1200000 steps; 76800000 examples so far; train ppl: 395.34, valid ppl: 404.68\n",
            "1205000 steps; 77120000 examples so far; train ppl: 397.57, valid ppl: 404.93\n",
            "1210000 steps; 77440000 examples so far; train ppl: 398.77, valid ppl: 405.15\n",
            "1215000 steps; 77760000 examples so far; train ppl: 393.93, valid ppl: 405.45\n",
            "1220000 steps; 78080000 examples so far; train ppl: 393.11, valid ppl: 405.21\n",
            "1225000 steps; 78400000 examples so far; train ppl: 396.56, valid ppl: 403.82\n",
            "1235000 steps; 79040000 examples so far; train ppl: 393.51, valid ppl: 404.75\n",
            "1240000 steps; 79360000 examples so far; train ppl: 392.42, valid ppl: 403.82\n",
            "1245000 steps; 79680000 examples so far; train ppl: 395.06, valid ppl: 404.51\n",
            "1250000 steps; 80000000 examples so far; train ppl: 399.75, valid ppl: 403.51\n",
            "1255000 steps; 80320000 examples so far; train ppl: 393.89, valid ppl: 403.25\n",
            "1260000 steps; 80640000 examples so far; train ppl: 394.32, valid ppl: 402.06\n",
            "1265000 steps; 80960000 examples so far; train ppl: 393.01, valid ppl: 401.20\n",
            "1270000 steps; 81280000 examples so far; train ppl: 397.97, valid ppl: 402.60\n",
            "1275000 steps; 81600000 examples so far; train ppl: 397.30, valid ppl: 402.84\n",
            "1280000 steps; 81920000 examples so far; train ppl: 397.50, valid ppl: 403.64\n",
            "1285000 steps; 82240000 examples so far; train ppl: 393.84, valid ppl: 403.20\n",
            "1290000 steps; 82560000 examples so far; train ppl: 393.89, valid ppl: 402.20\n",
            "1295000 steps; 82880000 examples so far; train ppl: 391.23, valid ppl: 401.77\n",
            "1300000 steps; 83200000 examples so far; train ppl: 386.15, valid ppl: 401.16\n",
            "1305000 steps; 83520000 examples so far; train ppl: 383.06, valid ppl: 401.87\n",
            "1310000 steps; 83840000 examples so far; train ppl: 386.69, valid ppl: 401.37\n",
            "1315000 steps; 84160000 examples so far; train ppl: 384.70, valid ppl: 400.95\n",
            "1320000 steps; 84480000 examples so far; train ppl: 381.85, valid ppl: 400.74\n",
            "1325000 steps; 84800000 examples so far; train ppl: 382.99, valid ppl: 400.18\n",
            "1330000 steps; 85120000 examples so far; train ppl: 380.48, valid ppl: 401.89\n",
            "1335000 steps; 85440000 examples so far; train ppl: 387.80, valid ppl: 401.48\n",
            "1340000 steps; 85760000 examples so far; train ppl: 387.70, valid ppl: 402.56\n",
            "1345000 steps; 86080000 examples so far; train ppl: 384.71, valid ppl: 401.17\n",
            "1350000 steps; 86400000 examples so far; train ppl: 390.93, valid ppl: 401.44\n",
            "1355000 steps; 86720000 examples so far; train ppl: 385.90, valid ppl: 400.83\n",
            "1360000 steps; 87040000 examples so far; train ppl: 387.14, valid ppl: 401.49\n",
            "1365000 steps; 87360000 examples so far; train ppl: 387.41, valid ppl: 401.04\n",
            "1370000 steps; 87680000 examples so far; train ppl: 383.99, valid ppl: 400.10\n",
            "1375000 steps; 88000000 examples so far; train ppl: 387.35, valid ppl: 399.10\n",
            "1380000 steps; 88320000 examples so far; train ppl: 384.20, valid ppl: 399.75\n",
            "1385000 steps; 88640000 examples so far; train ppl: 384.42, valid ppl: 399.81\n",
            "1390000 steps; 88960000 examples so far; train ppl: 386.06, valid ppl: 399.17\n",
            "1395000 steps; 89280000 examples so far; train ppl: 391.08, valid ppl: 398.45\n",
            "1400000 steps; 89600000 examples so far; train ppl: 385.95, valid ppl: 400.79\n",
            "1405000 steps; 89920000 examples so far; train ppl: 388.84, valid ppl: 400.17\n",
            "1410000 steps; 90240000 examples so far; train ppl: 387.28, valid ppl: 400.62\n",
            "1415000 steps; 90560000 examples so far; train ppl: 385.60, valid ppl: 399.31\n",
            "1420000 steps; 90880000 examples so far; train ppl: 384.07, valid ppl: 398.67\n",
            "1425000 steps; 91200000 examples so far; train ppl: 385.90, valid ppl: 397.80\n",
            "1430000 steps; 91520000 examples so far; train ppl: 389.16, valid ppl: 398.48\n",
            "1435000 steps; 91840000 examples so far; train ppl: 388.08, valid ppl: 398.36\n",
            "1440000 steps; 92160000 examples so far; train ppl: 385.42, valid ppl: 399.18\n",
            "1445000 steps; 92480000 examples so far; train ppl: 387.18, valid ppl: 398.94\n",
            "1450000 steps; 92800000 examples so far; train ppl: 383.62, valid ppl: 400.65\n",
            "1455000 steps; 93120000 examples so far; train ppl: 389.70, valid ppl: 399.35\n",
            "1460000 steps; 93440000 examples so far; train ppl: 390.31, valid ppl: 399.08\n",
            "1465000 steps; 93760000 examples so far; train ppl: 385.84, valid ppl: 400.63\n",
            "1470000 steps; 94080000 examples so far; train ppl: 384.54, valid ppl: 399.18\n",
            "1475000 steps; 94400000 examples so far; train ppl: 386.39, valid ppl: 399.68\n",
            "1480000 steps; 94720000 examples so far; train ppl: 387.90, valid ppl: 399.67\n",
            "1485000 steps; 95040000 examples so far; train ppl: 388.53, valid ppl: 399.40\n",
            "1490000 steps; 95360000 examples so far; train ppl: 389.29, valid ppl: 400.37\n",
            "1495000 steps; 95680000 examples so far; train ppl: 385.99, valid ppl: 399.10\n",
            "1500000 steps; 96000000 examples so far; train ppl: 383.46, valid ppl: 399.16\n",
            "1505000 steps; 96320000 examples so far; train ppl: 391.99, valid ppl: 399.01\n",
            "1510000 steps; 96640000 examples so far; train ppl: 385.95, valid ppl: 397.41\n",
            "1515000 steps; 96960000 examples so far; train ppl: 384.95, valid ppl: 398.07\n",
            "1520000 steps; 97280000 examples so far; train ppl: 385.91, valid ppl: 398.63\n",
            "1525000 steps; 97600000 examples so far; train ppl: 384.60, valid ppl: 398.06\n",
            "1530000 steps; 97920000 examples so far; train ppl: 385.36, valid ppl: 400.32\n",
            "1535000 steps; 98240000 examples so far; train ppl: 389.24, valid ppl: 398.55\n",
            "1540000 steps; 98560000 examples so far; train ppl: 386.64, valid ppl: 398.49\n",
            "1545000 steps; 98880000 examples so far; train ppl: 393.52, valid ppl: 397.41\n",
            "1550000 steps; 99200000 examples so far; train ppl: 385.66, valid ppl: 398.68\n",
            "1555000 steps; 99520000 examples so far; train ppl: 387.98, valid ppl: 397.36\n",
            "1560000 steps; 99840000 examples so far; train ppl: 387.90, valid ppl: 397.66\n"
          ]
        }
      ],
      "source": [
        "max_examples = 100_000_000\n",
        "eval_every_steps = 5000\n",
        "lr = 3e-5\n",
        "\n",
        "\n",
        "model = LanguageModel(\n",
        "    vocab_size=tokenizer.vocab_size,\n",
        "    context_size=context_size,\n",
        "    embedding_dim=128,\n",
        "    hidden_size=256,\n",
        ").to(device)\n",
        "\n",
        "train_loader = DataLoader(training_dataset, batch_size=64, shuffle=True, drop_last=True)\n",
        "validation_loader = DataLoader(valid_dataset, batch_size=64)\n",
        "\n",
        "optimizer = torch.optim.Adam(model.parameters(), lr=lr)\n",
        "\n",
        "\n",
        "def train_step(input, target):\n",
        "    model.train()\n",
        "    model.zero_grad()\n",
        "\n",
        "    logits = model(input.to(device))\n",
        "    loss = nn.functional.cross_entropy(logits, target.to(device))\n",
        "    loss.backward()\n",
        "    optimizer.step()\n",
        "\n",
        "    return loss.item()\n",
        "\n",
        "\n",
        "def validation_step(input, target):\n",
        "    logits = model(input)\n",
        "    loss = nn.functional.cross_entropy(logits, target)\n",
        "    return loss.item()\n",
        "\n",
        "\n",
        "train_losses = []\n",
        "n_examples = 0\n",
        "step = 0\n",
        "while n_examples < max_examples:\n",
        "    for input, target in train_loader:\n",
        "        loss = train_step(input.to(device), target.to(device)) \n",
        "        train_losses.append(loss)\n",
        "        \n",
        "        if step % eval_every_steps == 0:\n",
        "            train_ppl = np.exp(np.average(train_losses))\n",
        "\n",
        "            with torch.no_grad():\n",
        "                valid_ppl = np.exp(np.average([\n",
        "                    validation_step(input.to(device), target.to(device))\n",
        "                    for input, target in validation_loader]))\n",
        "\n",
        "            print(f'{step} steps; {n_examples} examples so far; train ppl: {train_ppl:.2f}, valid ppl: {valid_ppl:.2f}')\n",
        "            train_losses = []\n",
        "\n",
        "        n_examples += len(input)  # Increment of batch size\n",
        "        step += 1\n",
        "        if n_examples >= max_examples:\n",
        "            break"
      ]
    },
    {
      "cell_type": "markdown",
      "metadata": {
        "id": "VgdNymJdNPXP"
      },
      "source": [
        "## Avaliação final no dataset de teste\n",
        "\n",
        "\n",
        "Bonus: o modelo com menor perplexidade no dataset de testes ganhará 0.5 ponto na nota final."
      ]
    },
    {
      "cell_type": "code",
      "execution_count": 76,
      "metadata": {
        "id": "nxN5YytzZ7Tn",
        "colab": {
          "base_uri": "https://localhost:8080/"
        },
        "outputId": "783aea80-38ca-4996-e5a5-01403e3af7ed"
      },
      "outputs": [
        {
          "output_type": "stream",
          "name": "stdout",
          "text": [
            "test perplexity: 366.48758415929643\n"
          ]
        }
      ],
      "source": [
        "test_loader = DataLoader(test_dataset, batch_size=64)\n",
        "\n",
        "with torch.no_grad():\n",
        "    test_ppl = np.exp(np.average([\n",
        "        validation_step(input.to(device), target.to(device))\n",
        "        for input, target in test_loader\n",
        "    ]))\n",
        "\n",
        "print(f'test perplexity: {test_ppl}')"
      ]
    },
    {
      "cell_type": "markdown",
      "metadata": {
        "id": "BHvEs8mPszy_"
      },
      "source": [
        "## Teste seu modelo com uma sentença\n",
        "\n",
        "Escolha uma sentença gerada pelo modelo que ache interessante."
      ]
    },
    {
      "cell_type": "code",
      "execution_count": 112,
      "metadata": {
        "id": "-CFElf4tsytW",
        "colab": {
          "base_uri": "https://localhost:8080/"
        },
        "outputId": "f4fb7dc7-3345-4e40-8954-e7ad18cae01f"
      },
      "outputs": [
        {
          "output_type": "stream",
          "name": "stdout",
          "text": [
            "O tubarão branco é um animal que tem\n",
            "O tubarão branco é um animal que tem o\n",
            "O tubarão branco é um animal que tem o que\n",
            "O tubarão branco é um animal que tem o que é\n",
            "O tubarão branco é um animal que tem o que é o\n",
            "O tubarão branco é um animal que tem o que é o que\n",
            "O tubarão branco é um animal que tem o que é o que é\n",
            "O tubarão branco é um animal que tem o que é o que é o\n",
            "O tubarão branco é um animal que tem o que é o que é o que\n",
            "O tubarão branco é um animal que tem o que é o que é o que é\n"
          ]
        }
      ],
      "source": [
        "prompt = [\"O tubarão branco é um animal que tem\"]  # Ex: 'Eu gosto de comer pizza pois me faz'\n",
        "max_output_tokens = 10\n",
        "\n",
        "for _ in range(max_output_tokens):\n",
        "    input_ids = tokenize(text=prompt, tokenizer=tokenizer)\n",
        "    input_ids_truncated = input_ids[-context_size:]  # Usamos apenas os últimos <context_size> tokens como entrada para o modelo.\n",
        "    logits = model(torch.LongTensor([input_ids_truncated]).to(device))\n",
        "    # Ao usarmos o argmax, a saída do modelo em cada passo é token de maior probabilidade.\n",
        "    # Isso se chama decodificação gulosa (greedy decoding).\n",
        "    predicted_id = torch.argmax(logits).item()\n",
        "    input_ids += [predicted_id]  # Concatenamos a entrada com o token escolhido nesse passo.\n",
        "    if isinstance(input_ids[0], list):\n",
        "        input_ids = input_ids[0]\n",
        "    prompt = tokenizer.decode(input_ids)\n",
        "    print(prompt)"
      ]
    }
  ],
  "metadata": {
    "colab": {
      "collapsed_sections": [],
      "name": "Aula 7 - Exercício - 175857",
      "provenance": [],
      "include_colab_link": true
    },
    "kernelspec": {
      "display_name": "Python 3",
      "name": "python3"
    },
    "accelerator": "GPU"
  },
  "nbformat": 4,
  "nbformat_minor": 0
}