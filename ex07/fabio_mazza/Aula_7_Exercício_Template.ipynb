{
  "nbformat": 4,
  "nbformat_minor": 0,
  "metadata": {
    "colab": {
      "name": "Aula 7 - Exercício - Template",
      "provenance": [],
      "collapsed_sections": [],
      "include_colab_link": true
    },
    "kernelspec": {
      "name": "python3",
      "display_name": "Python 3"
    },
    "accelerator": "GPU"
  },
  "cells": [
    {
      "cell_type": "markdown",
      "metadata": {
        "id": "view-in-github",
        "colab_type": "text"
      },
      "source": [
        "<a href=\"https://colab.research.google.com/github/fabiormazza/IA025_2022S1/blob/main/ex07/fabio_mazza/Aula_7_Exerc%C3%ADcio_Template.ipynb\" target=\"_parent\"><img src=\"https://colab.research.google.com/assets/colab-badge.svg\" alt=\"Open In Colab\"/></a>"
      ]
    },
    {
      "cell_type": "code",
      "source": [
        "nome = 'Fabio Renato Zocal Mazza'\n",
        "print(f'Meu nome é {nome}')"
      ],
      "metadata": {
        "colab": {
          "base_uri": "https://localhost:8080/"
        },
        "id": "jOdQB41_4ZxG",
        "outputId": "94f346f9-1ebb-471c-81ec-02efcd2273a9"
      },
      "execution_count": 1,
      "outputs": [
        {
          "output_type": "stream",
          "name": "stdout",
          "text": [
            "Meu nome é Fabio Renato Zocal Mazza\n"
          ]
        }
      ]
    },
    {
      "cell_type": "markdown",
      "metadata": {
        "id": "2IbuChoAPMEn"
      },
      "source": [
        "#  Exercício: Modelo de Linguagem (Bengio 2003) - MLP + Embeddings"
      ]
    },
    {
      "cell_type": "markdown",
      "metadata": {
        "id": "p_DBb0-Klwf2"
      },
      "source": [
        "Neste exercício iremos treinar uma rede neural simples para prever a proxima palavra de um texto, data as palavras anteriores como entrada. Esta tarefa é chamada de \"Modelagem da Língua\".\n",
        "\n",
        "Este dataset já possui um tamanho razoável e é bem provável que você vai precisar rodar seus experimentos com GPU.\n",
        "\n",
        "Alguns conselhos úteis:\n",
        "- **ATENÇÃO:** o dataset é bem grande. Não dê comando de imprimí-lo.\n",
        "- Durante a depuração, faça seu dataset ficar bem pequeno, para que a depuração seja mais rápida e não precise de GPU. Somente ligue a GPU quando o seu laço de treinamento já está funcionando\n",
        "- Não deixe para fazer esse exercício na véspera. Ele é trabalhoso."
      ]
    },
    {
      "cell_type": "code",
      "source": [
        "# iremos utilizar a biblioteca dos transformers para ter acesso ao tokenizador do BERT.\n",
        "!pip install transformers"
      ],
      "metadata": {
        "id": "3twP0YJC4jmJ",
        "outputId": "3c6dcc6a-8c49-4570-c719-68ed965bef6c",
        "colab": {
          "base_uri": "https://localhost:8080/"
        }
      },
      "execution_count": 2,
      "outputs": [
        {
          "output_type": "stream",
          "name": "stdout",
          "text": [
            "Requirement already satisfied: transformers in /usr/local/lib/python3.7/dist-packages (4.19.2)\n",
            "Requirement already satisfied: tokenizers!=0.11.3,<0.13,>=0.11.1 in /usr/local/lib/python3.7/dist-packages (from transformers) (0.12.1)\n",
            "Requirement already satisfied: regex!=2019.12.17 in /usr/local/lib/python3.7/dist-packages (from transformers) (2019.12.20)\n",
            "Requirement already satisfied: importlib-metadata in /usr/local/lib/python3.7/dist-packages (from transformers) (4.11.3)\n",
            "Requirement already satisfied: packaging>=20.0 in /usr/local/lib/python3.7/dist-packages (from transformers) (21.3)\n",
            "Requirement already satisfied: huggingface-hub<1.0,>=0.1.0 in /usr/local/lib/python3.7/dist-packages (from transformers) (0.6.0)\n",
            "Requirement already satisfied: numpy>=1.17 in /usr/local/lib/python3.7/dist-packages (from transformers) (1.21.6)\n",
            "Requirement already satisfied: filelock in /usr/local/lib/python3.7/dist-packages (from transformers) (3.7.0)\n",
            "Requirement already satisfied: tqdm>=4.27 in /usr/local/lib/python3.7/dist-packages (from transformers) (4.64.0)\n",
            "Requirement already satisfied: requests in /usr/local/lib/python3.7/dist-packages (from transformers) (2.23.0)\n",
            "Requirement already satisfied: pyyaml>=5.1 in /usr/local/lib/python3.7/dist-packages (from transformers) (6.0)\n",
            "Requirement already satisfied: typing-extensions>=3.7.4.3 in /usr/local/lib/python3.7/dist-packages (from huggingface-hub<1.0,>=0.1.0->transformers) (4.2.0)\n",
            "Requirement already satisfied: pyparsing!=3.0.5,>=2.0.2 in /usr/local/lib/python3.7/dist-packages (from packaging>=20.0->transformers) (3.0.9)\n",
            "Requirement already satisfied: zipp>=0.5 in /usr/local/lib/python3.7/dist-packages (from importlib-metadata->transformers) (3.8.0)\n",
            "Requirement already satisfied: idna<3,>=2.5 in /usr/local/lib/python3.7/dist-packages (from requests->transformers) (2.10)\n",
            "Requirement already satisfied: urllib3!=1.25.0,!=1.25.1,<1.26,>=1.21.1 in /usr/local/lib/python3.7/dist-packages (from requests->transformers) (1.24.3)\n",
            "Requirement already satisfied: certifi>=2017.4.17 in /usr/local/lib/python3.7/dist-packages (from requests->transformers) (2021.10.8)\n",
            "Requirement already satisfied: chardet<4,>=3.0.2 in /usr/local/lib/python3.7/dist-packages (from requests->transformers) (3.0.4)\n"
          ]
        }
      ]
    },
    {
      "cell_type": "markdown",
      "metadata": {
        "id": "YnyhJZtTRNMx"
      },
      "source": [
        "## Importação dos pacotes"
      ]
    },
    {
      "cell_type": "code",
      "metadata": {
        "id": "qlIOVCajPWcU"
      },
      "source": [
        "import collections\n",
        "import itertools\n",
        "import functools\n",
        "import math\n",
        "import random\n",
        "\n",
        "import torch\n",
        "import torch.nn as nn\n",
        "import numpy as np\n",
        "from torch.utils.data import DataLoader\n",
        "from tqdm import tqdm_notebook\n"
      ],
      "execution_count": 3,
      "outputs": []
    },
    {
      "cell_type": "code",
      "source": [
        "# Check which GPU we are using\n",
        "!nvidia-smi"
      ],
      "metadata": {
        "id": "w9f3PfifAwpU",
        "outputId": "2c1a6c0c-3383-4e6d-8751-1f159aaf20bb",
        "colab": {
          "base_uri": "https://localhost:8080/"
        }
      },
      "execution_count": 4,
      "outputs": [
        {
          "output_type": "stream",
          "name": "stdout",
          "text": [
            "Wed May 18 04:08:46 2022       \n",
            "+-----------------------------------------------------------------------------+\n",
            "| NVIDIA-SMI 460.32.03    Driver Version: 460.32.03    CUDA Version: 11.2     |\n",
            "|-------------------------------+----------------------+----------------------+\n",
            "| GPU  Name        Persistence-M| Bus-Id        Disp.A | Volatile Uncorr. ECC |\n",
            "| Fan  Temp  Perf  Pwr:Usage/Cap|         Memory-Usage | GPU-Util  Compute M. |\n",
            "|                               |                      |               MIG M. |\n",
            "|===============================+======================+======================|\n",
            "|   0  Tesla T4            Off  | 00000000:00:04.0 Off |                    0 |\n",
            "| N/A   72C    P8    12W /  70W |      0MiB / 15109MiB |      0%      Default |\n",
            "|                               |                      |                  N/A |\n",
            "+-------------------------------+----------------------+----------------------+\n",
            "                                                                               \n",
            "+-----------------------------------------------------------------------------+\n",
            "| Processes:                                                                  |\n",
            "|  GPU   GI   CI        PID   Type   Process name                  GPU Memory |\n",
            "|        ID   ID                                                   Usage      |\n",
            "|=============================================================================|\n",
            "|  No running processes found                                                 |\n",
            "+-----------------------------------------------------------------------------+\n"
          ]
        }
      ]
    },
    {
      "cell_type": "code",
      "source": [
        "if torch.cuda.is_available(): \n",
        "   dev = \"cuda:0\"\n",
        "else: \n",
        "   dev = \"cpu\"\n",
        "device = torch.device(dev)\n",
        "print('Using {}'.format(device))"
      ],
      "metadata": {
        "id": "whTCe2i7AtoV",
        "outputId": "e468984e-abf9-430a-cc6b-ece73cf36426",
        "colab": {
          "base_uri": "https://localhost:8080/"
        }
      },
      "execution_count": 5,
      "outputs": [
        {
          "output_type": "stream",
          "name": "stdout",
          "text": [
            "Using cuda:0\n"
          ]
        }
      ]
    },
    {
      "cell_type": "markdown",
      "metadata": {
        "id": "9ZfxgV2DUk58"
      },
      "source": [
        "## Implementação do MyDataset"
      ]
    },
    {
      "cell_type": "code",
      "metadata": {
        "id": "n_xhKm1EZ3bQ"
      },
      "source": [
        "from typing import List\n",
        "\n",
        "\n",
        "def tokenize(text: str, tokenizer):\n",
        "    return tokenizer(text, return_tensors=None, add_special_tokens=False).input_ids\n",
        "\n",
        "\n",
        "class MyDataset():\n",
        "    def __init__(self, texts: List[str], tokenizer, context_size: int):\n",
        "        self.context_size = context_size\n",
        "        inputs = []\n",
        "        targets = []\n",
        "\n",
        "        for text in texts:\n",
        "          token = tokenize(text, tokenizer)\n",
        "          for i in range(len(token) - context_size):\n",
        "            inputs.append(token[i:i+context_size])\n",
        "            targets.append(token[i+context_size])\n",
        "        \n",
        "        self.inputs = torch.LongTensor(inputs)\n",
        "        self.targets = torch.LongTensor(targets)\n",
        "\n",
        "    def __len__(self):\n",
        "        return len(self.inputs)\n",
        "\n",
        "    def __getitem__(self, idx):\n",
        "        return self.inputs[idx], self.targets[idx]"
      ],
      "execution_count": 6,
      "outputs": []
    },
    {
      "cell_type": "markdown",
      "source": [
        "## Teste se sua implementação do MyDataset está correta"
      ],
      "metadata": {
        "id": "wew-gFbWeBTq"
      }
    },
    {
      "cell_type": "code",
      "source": [
        "from transformers import BertTokenizer\n",
        "\n",
        "tokenizer = BertTokenizer.from_pretrained(\"neuralmind/bert-base-portuguese-cased\")\n",
        "\n",
        "dummy_texts = ['Eu gosto de correr', 'Ela gosta muito de comer pizza']\n",
        "\n",
        "dummy_dataset = MyDataset(texts=dummy_texts, tokenizer=tokenizer, context_size=3)\n",
        "dummy_loader = DataLoader(dummy_dataset, batch_size=6, shuffle=False)\n",
        "assert len(dummy_dataset) == 5\n",
        "print('passou no assert de tamanho do dataset')\n",
        "\n",
        "first_batch_input, first_batch_target = next(iter(dummy_loader))\n",
        "\n",
        "correct_first_batch_input = torch.LongTensor(\n",
        "    [[ 3396, 10303,   125],\n",
        "     [ 1660,  5971,   785],\n",
        "     [ 5971,   785,   125],\n",
        "     [  785,   125,  1847],\n",
        "     [  125,  1847, 13779]])\n",
        "\n",
        "correct_first_batch_target = torch.LongTensor([13239,   125,  1847, 13779, 15616])\n",
        "\n",
        "assert torch.equal(first_batch_input, correct_first_batch_input)\n",
        "print('Passou no assert de input')\n",
        "assert torch.equal(first_batch_target, correct_first_batch_target)\n",
        "print('Passou no assert de target')"
      ],
      "metadata": {
        "id": "8r7jBFFUeApe",
        "outputId": "09c080f8-c99d-4703-968b-7d23a6ae8559",
        "colab": {
          "base_uri": "https://localhost:8080/"
        }
      },
      "execution_count": 7,
      "outputs": [
        {
          "output_type": "stream",
          "name": "stdout",
          "text": [
            "passou no assert de tamanho do dataset\n",
            "Passou no assert de input\n",
            "Passou no assert de target\n"
          ]
        }
      ]
    },
    {
      "cell_type": "markdown",
      "metadata": {
        "id": "4LfrHHouleJ0"
      },
      "source": [
        "# Carregamento do dataset "
      ]
    },
    {
      "cell_type": "markdown",
      "metadata": {
        "id": "V2vFWjsSkmop"
      },
      "source": [
        "Iremos usar uma pequena amostra do dataset [BrWaC](https://www.inf.ufrgs.br/pln/wiki/index.php?title=BrWaC) para treinar e avaliar nosso modelo de linguagem."
      ]
    },
    {
      "cell_type": "code",
      "source": [
        "!wget -nc https://storage.googleapis.com/unicamp-dl/ia025a_2022s1/aula7/sample_brwac.txt"
      ],
      "metadata": {
        "id": "vGlN1WqrXPA6",
        "outputId": "949169f9-c442-4860-e687-421195a216ea",
        "colab": {
          "base_uri": "https://localhost:8080/"
        }
      },
      "execution_count": 8,
      "outputs": [
        {
          "output_type": "stream",
          "name": "stdout",
          "text": [
            "File ‘sample_brwac.txt’ already there; not retrieving.\n",
            "\n"
          ]
        }
      ]
    },
    {
      "cell_type": "code",
      "source": [
        "# Load datasets\n",
        "context_size = 9\n",
        "\n",
        "valid_examples = 100\n",
        "test_examples = 100\n",
        "texts = open('sample_brwac.txt').readlines()\n",
        "\n",
        "print('Truncating for debugging purposes.')\n",
        "texts = texts[:500]  \n",
        "\n",
        "training_texts = texts[:-(valid_examples + test_examples)]\n",
        "valid_texts = texts[-(valid_examples + test_examples):-test_examples]\n",
        "test_texts = texts[-test_examples:]\n",
        "\n",
        "training_dataset = MyDataset(texts=training_texts, tokenizer=tokenizer, context_size=context_size)\n",
        "valid_dataset = MyDataset(texts=valid_texts, tokenizer=tokenizer, context_size=context_size)\n",
        "test_dataset = MyDataset(texts=test_texts, tokenizer=tokenizer, context_size=context_size)"
      ],
      "metadata": {
        "id": "gxa_4gmiA-wE",
        "outputId": "65765b92-92d1-4fad-d360-b4a2e2896657",
        "colab": {
          "base_uri": "https://localhost:8080/"
        }
      },
      "execution_count": 9,
      "outputs": [
        {
          "output_type": "stream",
          "name": "stdout",
          "text": [
            "Truncating for debugging purposes.\n"
          ]
        }
      ]
    },
    {
      "cell_type": "code",
      "source": [
        "print(f'training examples: {len(training_dataset)}')\n",
        "print(f'valid examples: {len(valid_dataset)}')\n",
        "print(f'test examples: {len(test_dataset)}')"
      ],
      "metadata": {
        "id": "KCSGJ5m7py4c",
        "outputId": "c29cc31c-60b7-4b1d-db7d-95f77fd36f84",
        "colab": {
          "base_uri": "https://localhost:8080/"
        }
      },
      "execution_count": 10,
      "outputs": [
        {
          "output_type": "stream",
          "name": "stdout",
          "text": [
            "training examples: 406905\n",
            "valid examples: 135562\n",
            "test examples: 136690\n"
          ]
        }
      ]
    },
    {
      "cell_type": "code",
      "metadata": {
        "id": "hGaAjYDfWdd1"
      },
      "source": [
        "class LanguageModel(torch.nn.Module):\n",
        "\n",
        "    def __init__(self, vocab_size, context_size, embedding_dim, hidden_size):\n",
        "        \"\"\"\n",
        "        Implements the Neural Language Model proposed by Bengio et al.\"\n",
        "\n",
        "        Args:\n",
        "            vocab_size (int): Size of the input vocabulary.\n",
        "            context_size (int): Size of the sequence to consider as context for prediction.\n",
        "            embedding_dim (int): Dimension of the embedding layer for each word in the context.\n",
        "            hidden_size (int): Size of the hidden layer.\n",
        "        \"\"\"\n",
        "        super(LanguageModel, self).__init__()\n",
        "\n",
        "        #Embedding matrix\n",
        "        #self.embedding_matrix = torch.rand((vocab_size, embedding_dim), requires_grad=True, device=device, dtype=torch.float)\n",
        "        self.embedding_matrix = torch.nn.Embedding(vocab_size, embedding_dim)\n",
        "\n",
        "        #Model\n",
        "        self.hidden_layer = torch.nn.Linear(context_size * embedding_dim, hidden_size, bias=False)\n",
        "        self.relu = torch.nn.ReLU()\n",
        "        self.dropout = torch.nn.Dropout(p=0.5)\n",
        "        self.out_layer = torch.nn.Linear(hidden_size, vocab_size, bias=False)\n",
        "        \n",
        "    def forward(self, inputs):\n",
        "        \"\"\"\n",
        "        Args:\n",
        "            inputs is a LongTensor of shape (batch_size, context_size)\n",
        "        \"\"\"\n",
        "        ## Convert word tokens in input for input layer\n",
        "        #batch_size = inputs.shape[0]\n",
        "        #embedded_inputs = torch.zeros((batch_size, context_size * self.embedding_dim)).to(device)\n",
        "        #embedding = torch.zeros((context_size * self.embedding_dim)).to(device)\n",
        "        \n",
        "        #for batch in range(batch_size):\n",
        "        #  i=0\n",
        "        #  \n",
        "        #  for token in inputs[batch, :]:\n",
        "        #    embedding[i*self.embedding_dim:(i+1)*self.embedding_dim]=self.embedding_matrix[token, :]\n",
        "        #    i+=1\n",
        "        #  embedded_inputs[batch, :] = embedding\n",
        "        #\n",
        "        #embedded_inputs.to(device)\n",
        "\n",
        "        #print(embedding)\n",
        "\n",
        "        ## Calculate outputs\n",
        "        outputs = self.embedding_matrix(inputs).view(inputs.shape[0], -1)\n",
        "        outputs = self.hidden_layer(outputs)\n",
        "        outputs = self.relu(outputs)\n",
        "        outputs = self.out_layer(outputs)\n",
        "       \n",
        "        return outputs"
      ],
      "execution_count": 11,
      "outputs": []
    },
    {
      "cell_type": "markdown",
      "source": [
        "## Teste o modelo com um exemplo"
      ],
      "metadata": {
        "id": "Rm6_PTH2i98e"
      }
    },
    {
      "cell_type": "code",
      "metadata": {
        "id": "RwnxfZlrZoT_",
        "outputId": "3f916d78-2ab1-450c-ed38-fc9820626934",
        "colab": {
          "base_uri": "https://localhost:8080/"
        }
      },
      "source": [
        "model = LanguageModel(\n",
        "    vocab_size=tokenizer.vocab_size,\n",
        "    context_size=context_size,\n",
        "    embedding_dim=64,\n",
        "    hidden_size=128,\n",
        ").to(device)\n",
        "\n",
        "sample_train, _ = next(iter(DataLoader(training_dataset)))\n",
        "sample_train_gpu = sample_train.to(device)\n",
        "model(sample_train_gpu).shape"
      ],
      "execution_count": 12,
      "outputs": [
        {
          "output_type": "execute_result",
          "data": {
            "text/plain": [
              "torch.Size([1, 29794])"
            ]
          },
          "metadata": {},
          "execution_count": 12
        }
      ]
    },
    {
      "cell_type": "code",
      "metadata": {
        "id": "I3Vh6B-VkA01",
        "colab": {
          "base_uri": "https://localhost:8080/"
        },
        "outputId": "08778d91-0da1-4114-f475-123fa81fb615"
      },
      "source": [
        "num_params = sum(p.numel() for p in model.parameters() if p.requires_grad)\n",
        "print(f'Number of model parameters: {num_params}')"
      ],
      "execution_count": 13,
      "outputs": [
        {
          "output_type": "stream",
          "name": "stdout",
          "text": [
            "Number of model parameters: 5794176\n"
          ]
        }
      ]
    },
    {
      "cell_type": "markdown",
      "source": [
        "## Assert da Perplexidade\n"
      ],
      "metadata": {
        "id": "8nhbUVsYnVAp"
      }
    },
    {
      "cell_type": "code",
      "source": [
        "random.seed(123)\n",
        "np.random.seed(123)\n",
        "torch.manual_seed(123)\n",
        "\n",
        "\n",
        "def perplexity(logits, target):\n",
        "    \"\"\"\n",
        "    Computes the perplexity.\n",
        "\n",
        "    Args:\n",
        "        logits: a FloatTensor of shape (batch_size, vocab_size)\n",
        "        target: a LongTensor of shape (batch_size,)\n",
        "\n",
        "    Returns:\n",
        "        A float corresponding to the perplexity.\n",
        "    \"\"\"\n",
        "    criteria = torch.nn.CrossEntropyLoss()\n",
        "    loss = criteria(logits, target)\n",
        "    perplexity = torch.exp(loss)\n",
        "   \n",
        "    return perplexity\n",
        "\n",
        "\n",
        "n_examples = 1000\n",
        "\n",
        "sample_train, target_token_ids = next(iter(DataLoader(training_dataset, batch_size=n_examples)))\n",
        "sample_train_gpu = sample_train.to(device)\n",
        "target_token_ids = target_token_ids.to(device)\n",
        "logits = model(sample_train_gpu)\n",
        "\n",
        "my_perplexity = perplexity(logits=logits, target=target_token_ids)\n",
        "\n",
        "print(f'my perplexity:              {int(my_perplexity)}')\n",
        "print(f'correct initial perplexity: {tokenizer.vocab_size}')\n",
        "\n",
        "assert math.isclose(my_perplexity, tokenizer.vocab_size, abs_tol=2000)\n",
        "print('Passou o no assert da perplexidade')"
      ],
      "metadata": {
        "id": "gbMP8VAUncfX",
        "colab": {
          "base_uri": "https://localhost:8080/"
        },
        "outputId": "342c50a1-385f-4c07-9db1-59d7ca51585a"
      },
      "execution_count": 14,
      "outputs": [
        {
          "output_type": "stream",
          "name": "stdout",
          "text": [
            "my perplexity:              31226\n",
            "correct initial perplexity: 29794\n",
            "Passou o no assert da perplexidade\n"
          ]
        }
      ]
    },
    {
      "cell_type": "markdown",
      "source": [
        "## Laço de Treinamento e Validação"
      ],
      "metadata": {
        "id": "KiJtrsqPnE_l"
      }
    },
    {
      "cell_type": "code",
      "metadata": {
        "id": "zIMSaY-UUGUE",
        "colab": {
          "base_uri": "https://localhost:8080/"
        },
        "outputId": "86f90707-aad5-437a-ef2a-1c37831f19f5"
      },
      "source": [
        "max_examples = 100_000_000\n",
        "eval_every_steps = 5000\n",
        "lr = 3e-5\n",
        "\n",
        "\n",
        "model = LanguageModel(\n",
        "    vocab_size=tokenizer.vocab_size,\n",
        "    context_size=context_size,\n",
        "    embedding_dim=128,\n",
        "    hidden_size=256,\n",
        ").to(device)\n",
        "\n",
        "train_loader = DataLoader(training_dataset, batch_size=64, shuffle=True, drop_last=True)\n",
        "validation_loader = DataLoader(valid_dataset, batch_size=64)\n",
        "\n",
        "optimizer = torch.optim.Adam(model.parameters(), lr=lr)\n",
        "\n",
        "\n",
        "def train_step(input, target):\n",
        "    model.train()\n",
        "    model.zero_grad()\n",
        "\n",
        "    logits = model(input.to(device))\n",
        "    loss = nn.functional.cross_entropy(logits, target.to(device))\n",
        "    loss.backward()\n",
        "    optimizer.step()\n",
        "\n",
        "    return loss.item()\n",
        "\n",
        "\n",
        "def validation_step(input, target):\n",
        "    logits = model(input)\n",
        "    loss = nn.functional.cross_entropy(logits, target)\n",
        "    return loss.item()\n",
        "\n",
        "\n",
        "train_losses = []\n",
        "n_examples = 0\n",
        "step = 0\n",
        "while n_examples < max_examples:\n",
        "    for input, target in train_loader:\n",
        "        loss = train_step(input.to(device), target.to(device)) \n",
        "        train_losses.append(loss)\n",
        "        \n",
        "        if step % eval_every_steps == 0:\n",
        "            train_ppl = np.exp(np.average(train_losses))\n",
        "\n",
        "            with torch.no_grad():\n",
        "                valid_ppl = np.exp(np.average([\n",
        "                    validation_step(input.to(device), target.to(device))\n",
        "                    for input, target in validation_loader]))\n",
        "\n",
        "            print(f'{step} steps; {n_examples} examples so far; train ppl: {train_ppl:.2f}, valid ppl: {valid_ppl:.2f}')\n",
        "            train_losses = []\n",
        "\n",
        "        n_examples += len(input)  # Increment of batch size\n",
        "        step += 1\n",
        "        if n_examples >= max_examples:\n",
        "            break"
      ],
      "execution_count": null,
      "outputs": [
        {
          "output_type": "stream",
          "name": "stdout",
          "text": [
            "0 steps; 0 examples so far; train ppl: 31009.70, valid ppl: 30416.98\n",
            "5000 steps; 320000 examples so far; train ppl: 2913.88, valid ppl: 1978.61\n",
            "10000 steps; 640000 examples so far; train ppl: 1331.05, valid ppl: 1811.25\n",
            "15000 steps; 960000 examples so far; train ppl: 1065.85, valid ppl: 1810.52\n",
            "20000 steps; 1280000 examples so far; train ppl: 907.55, valid ppl: 1846.71\n",
            "25000 steps; 1600000 examples so far; train ppl: 775.89, valid ppl: 1872.51\n",
            "30000 steps; 1920000 examples so far; train ppl: 659.45, valid ppl: 1925.26\n",
            "35000 steps; 2240000 examples so far; train ppl: 570.88, valid ppl: 1992.20\n",
            "40000 steps; 2560000 examples so far; train ppl: 489.76, valid ppl: 2077.52\n",
            "45000 steps; 2880000 examples so far; train ppl: 423.82, valid ppl: 2173.20\n",
            "50000 steps; 3200000 examples so far; train ppl: 357.71, valid ppl: 2288.04\n",
            "55000 steps; 3520000 examples so far; train ppl: 300.72, valid ppl: 2480.84\n",
            "60000 steps; 3840000 examples so far; train ppl: 259.98, valid ppl: 2713.92\n",
            "65000 steps; 4160000 examples so far; train ppl: 219.44, valid ppl: 3004.63\n",
            "70000 steps; 4480000 examples so far; train ppl: 187.54, valid ppl: 3305.77\n",
            "75000 steps; 4800000 examples so far; train ppl: 153.91, valid ppl: 3731.70\n",
            "80000 steps; 5120000 examples so far; train ppl: 130.97, valid ppl: 4271.12\n",
            "85000 steps; 5440000 examples so far; train ppl: 112.96, valid ppl: 4855.82\n",
            "90000 steps; 5760000 examples so far; train ppl: 97.97, valid ppl: 5438.51\n",
            "95000 steps; 6080000 examples so far; train ppl: 85.74, valid ppl: 5988.10\n",
            "100000 steps; 6400000 examples so far; train ppl: 74.78, valid ppl: 6791.17\n",
            "105000 steps; 6720000 examples so far; train ppl: 67.44, valid ppl: 7627.54\n",
            "110000 steps; 7040000 examples so far; train ppl: 61.83, valid ppl: 8453.52\n",
            "115000 steps; 7360000 examples so far; train ppl: 57.25, valid ppl: 9183.60\n",
            "120000 steps; 7680000 examples so far; train ppl: 51.95, valid ppl: 9973.45\n",
            "125000 steps; 8000000 examples so far; train ppl: 48.08, valid ppl: 11075.90\n",
            "130000 steps; 8320000 examples so far; train ppl: 45.19, valid ppl: 12262.04\n",
            "135000 steps; 8640000 examples so far; train ppl: 42.60, valid ppl: 13292.66\n",
            "140000 steps; 8960000 examples so far; train ppl: 40.57, valid ppl: 14148.12\n",
            "145000 steps; 9280000 examples so far; train ppl: 37.36, valid ppl: 15488.48\n",
            "150000 steps; 9600000 examples so far; train ppl: 35.60, valid ppl: 17012.50\n",
            "155000 steps; 9920000 examples so far; train ppl: 33.92, valid ppl: 18570.54\n",
            "160000 steps; 10240000 examples so far; train ppl: 32.75, valid ppl: 19904.30\n",
            "165000 steps; 10560000 examples so far; train ppl: 31.21, valid ppl: 21018.55\n",
            "170000 steps; 10880000 examples so far; train ppl: 29.30, valid ppl: 23081.61\n",
            "175000 steps; 11200000 examples so far; train ppl: 28.41, valid ppl: 25204.16\n",
            "180000 steps; 11520000 examples so far; train ppl: 27.26, valid ppl: 27274.70\n",
            "185000 steps; 11840000 examples so far; train ppl: 26.43, valid ppl: 28809.49\n",
            "190000 steps; 12160000 examples so far; train ppl: 25.28, valid ppl: 30852.23\n",
            "195000 steps; 12480000 examples so far; train ppl: 24.09, valid ppl: 33353.86\n",
            "200000 steps; 12800000 examples so far; train ppl: 23.55, valid ppl: 36162.58\n",
            "205000 steps; 13120000 examples so far; train ppl: 22.76, valid ppl: 39009.24\n",
            "210000 steps; 13440000 examples so far; train ppl: 22.16, valid ppl: 40730.22\n",
            "215000 steps; 13760000 examples so far; train ppl: 21.10, valid ppl: 43688.52\n",
            "220000 steps; 14080000 examples so far; train ppl: 20.45, valid ppl: 47484.50\n",
            "225000 steps; 14400000 examples so far; train ppl: 20.12, valid ppl: 50928.08\n",
            "230000 steps; 14720000 examples so far; train ppl: 19.46, valid ppl: 54517.96\n",
            "235000 steps; 15040000 examples so far; train ppl: 19.04, valid ppl: 56508.85\n",
            "240000 steps; 15360000 examples so far; train ppl: 18.13, valid ppl: 61779.29\n",
            "245000 steps; 15680000 examples so far; train ppl: 17.80, valid ppl: 66457.70\n",
            "250000 steps; 16000000 examples so far; train ppl: 17.38, valid ppl: 71113.13\n",
            "255000 steps; 16320000 examples so far; train ppl: 17.06, valid ppl: 74551.99\n",
            "260000 steps; 16640000 examples so far; train ppl: 16.52, valid ppl: 78727.17\n",
            "265000 steps; 16960000 examples so far; train ppl: 15.97, valid ppl: 84463.10\n",
            "270000 steps; 17280000 examples so far; train ppl: 15.69, valid ppl: 91173.18\n",
            "275000 steps; 17600000 examples so far; train ppl: 15.43, valid ppl: 95614.66\n",
            "280000 steps; 17920000 examples so far; train ppl: 15.13, valid ppl: 100710.19\n",
            "285000 steps; 18240000 examples so far; train ppl: 14.58, valid ppl: 106877.00\n",
            "290000 steps; 18560000 examples so far; train ppl: 14.25, valid ppl: 113743.24\n",
            "295000 steps; 18880000 examples so far; train ppl: 13.95, valid ppl: 121887.21\n",
            "300000 steps; 19200000 examples so far; train ppl: 13.81, valid ppl: 129684.76\n",
            "305000 steps; 19520000 examples so far; train ppl: 13.60, valid ppl: 133283.50\n",
            "310000 steps; 19840000 examples so far; train ppl: 13.07, valid ppl: 143384.91\n",
            "315000 steps; 20160000 examples so far; train ppl: 12.82, valid ppl: 151607.36\n",
            "320000 steps; 20480000 examples so far; train ppl: 12.64, valid ppl: 161439.65\n",
            "325000 steps; 20800000 examples so far; train ppl: 12.51, valid ppl: 170123.95\n",
            "330000 steps; 21120000 examples so far; train ppl: 12.21, valid ppl: 176933.58\n",
            "335000 steps; 21440000 examples so far; train ppl: 11.82, valid ppl: 187779.06\n",
            "340000 steps; 21760000 examples so far; train ppl: 11.72, valid ppl: 200400.48\n",
            "345000 steps; 22080000 examples so far; train ppl: 11.51, valid ppl: 213029.23\n",
            "350000 steps; 22400000 examples so far; train ppl: 11.43, valid ppl: 220540.92\n",
            "355000 steps; 22720000 examples so far; train ppl: 11.06, valid ppl: 233333.67\n",
            "360000 steps; 23040000 examples so far; train ppl: 10.80, valid ppl: 246046.84\n",
            "365000 steps; 23360000 examples so far; train ppl: 10.75, valid ppl: 262058.50\n",
            "370000 steps; 23680000 examples so far; train ppl: 10.61, valid ppl: 277874.08\n",
            "375000 steps; 24000000 examples so far; train ppl: 10.49, valid ppl: 282951.36\n",
            "380000 steps; 24320000 examples so far; train ppl: 10.10, valid ppl: 302315.81\n",
            "385000 steps; 24640000 examples so far; train ppl: 10.00, valid ppl: 324083.47\n",
            "390000 steps; 24960000 examples so far; train ppl: 9.89, valid ppl: 341901.83\n",
            "395000 steps; 25280000 examples so far; train ppl: 9.80, valid ppl: 359672.56\n",
            "400000 steps; 25600000 examples so far; train ppl: 9.65, valid ppl: 371442.63\n",
            "405000 steps; 25920000 examples so far; train ppl: 9.34, valid ppl: 395601.50\n",
            "410000 steps; 26240000 examples so far; train ppl: 9.30, valid ppl: 419081.65\n",
            "415000 steps; 26560000 examples so far; train ppl: 9.16, valid ppl: 443926.82\n",
            "420000 steps; 26880000 examples so far; train ppl: 9.12, valid ppl: 462392.25\n",
            "425000 steps; 27200000 examples so far; train ppl: 8.89, valid ppl: 482949.35\n",
            "430000 steps; 27520000 examples so far; train ppl: 8.70, valid ppl: 512627.04\n",
            "435000 steps; 27840000 examples so far; train ppl: 8.67, valid ppl: 549029.18\n",
            "440000 steps; 28160000 examples so far; train ppl: 8.54, valid ppl: 576350.44\n",
            "445000 steps; 28480000 examples so far; train ppl: 8.53, valid ppl: 593596.12\n",
            "450000 steps; 28800000 examples so far; train ppl: 8.22, valid ppl: 632403.26\n",
            "455000 steps; 29120000 examples so far; train ppl: 8.16, valid ppl: 670810.75\n",
            "460000 steps; 29440000 examples so far; train ppl: 8.08, valid ppl: 705477.13\n",
            "465000 steps; 29760000 examples so far; train ppl: 8.06, valid ppl: 747708.15\n",
            "470000 steps; 30080000 examples so far; train ppl: 7.91, valid ppl: 772880.14\n",
            "475000 steps; 30400000 examples so far; train ppl: 7.73, valid ppl: 819303.64\n",
            "480000 steps; 30720000 examples so far; train ppl: 7.63, valid ppl: 877284.70\n",
            "485000 steps; 31040000 examples so far; train ppl: 7.60, valid ppl: 925748.70\n",
            "490000 steps; 31360000 examples so far; train ppl: 7.55, valid ppl: 971331.50\n",
            "495000 steps; 31680000 examples so far; train ppl: 7.39, valid ppl: 1006360.14\n",
            "500000 steps; 32000000 examples so far; train ppl: 7.28, valid ppl: 1070077.20\n",
            "505000 steps; 32320000 examples so far; train ppl: 7.21, valid ppl: 1137626.84\n",
            "510000 steps; 32640000 examples so far; train ppl: 7.14, valid ppl: 1199135.04\n",
            "515000 steps; 32960000 examples so far; train ppl: 7.14, valid ppl: 1242472.81\n",
            "520000 steps; 33280000 examples so far; train ppl: 6.93, valid ppl: 1312399.54\n",
            "525000 steps; 33600000 examples so far; train ppl: 6.85, valid ppl: 1402290.09\n",
            "530000 steps; 33920000 examples so far; train ppl: 6.83, valid ppl: 1469837.83\n",
            "535000 steps; 34240000 examples so far; train ppl: 6.78, valid ppl: 1562740.15\n",
            "540000 steps; 34560000 examples so far; train ppl: 6.70, valid ppl: 1598665.36\n",
            "545000 steps; 34880000 examples so far; train ppl: 6.52, valid ppl: 1696363.99\n",
            "550000 steps; 35200000 examples so far; train ppl: 6.49, valid ppl: 1807867.21\n",
            "555000 steps; 35520000 examples so far; train ppl: 6.45, valid ppl: 1916503.55\n",
            "560000 steps; 35840000 examples so far; train ppl: 6.46, valid ppl: 2003027.40\n",
            "565000 steps; 36160000 examples so far; train ppl: 6.29, valid ppl: 2086115.53\n",
            "570000 steps; 36480000 examples so far; train ppl: 6.22, valid ppl: 2208988.86\n",
            "575000 steps; 36800000 examples so far; train ppl: 6.17, valid ppl: 2342587.00\n",
            "580000 steps; 37120000 examples so far; train ppl: 6.14, valid ppl: 2481843.93\n",
            "585000 steps; 37440000 examples so far; train ppl: 6.10, valid ppl: 2580927.06\n",
            "590000 steps; 37760000 examples so far; train ppl: 5.94, valid ppl: 2718776.02\n",
            "595000 steps; 38080000 examples so far; train ppl: 5.94, valid ppl: 2905264.78\n",
            "600000 steps; 38400000 examples so far; train ppl: 5.87, valid ppl: 3053704.05\n",
            "605000 steps; 38720000 examples so far; train ppl: 5.84, valid ppl: 3204751.62\n",
            "610000 steps; 39040000 examples so far; train ppl: 5.80, valid ppl: 3316199.68\n",
            "615000 steps; 39360000 examples so far; train ppl: 5.67, valid ppl: 3535774.94\n",
            "620000 steps; 39680000 examples so far; train ppl: 5.63, valid ppl: 3713094.72\n",
            "625000 steps; 40000000 examples so far; train ppl: 5.60, valid ppl: 3957306.02\n"
          ]
        }
      ]
    },
    {
      "cell_type": "markdown",
      "source": [
        "## Avaliação final no dataset de teste\n",
        "\n",
        "\n",
        "Bonus: o modelo com menor perplexidade no dataset de testes ganhará 0.5 ponto na nota final."
      ],
      "metadata": {
        "id": "VgdNymJdNPXP"
      }
    },
    {
      "cell_type": "code",
      "metadata": {
        "id": "nxN5YytzZ7Tn"
      },
      "source": [
        "test_loader = DataLoader(test_dataset, batch_size=64)\n",
        "\n",
        "with torch.no_grad():\n",
        "    test_ppl = np.exp(np.average([\n",
        "        validation_step(input.to(device), target.to(device))\n",
        "        for input, target in test_loader\n",
        "    ]))\n",
        "\n",
        "print(f'test perplexity: {test_ppl}')"
      ],
      "execution_count": null,
      "outputs": []
    },
    {
      "cell_type": "markdown",
      "source": [
        "## Teste seu modelo com uma sentença\n",
        "\n",
        "Escolha uma sentença gerada pelo modelo que ache interessante."
      ],
      "metadata": {
        "id": "BHvEs8mPszy_"
      }
    },
    {
      "cell_type": "code",
      "source": [
        "prompt = ?  # Ex: 'Eu gosto de comer pizza pois me faz'\n",
        "max_output_tokens = 10\n",
        "\n",
        "for _ in range(max_output_tokens):\n",
        "    input_ids = tokenize(text=prompt, tokenizer=tokenizer)\n",
        "    input_ids_truncated = input_ids[-context_size:]  # Usamos apenas os últimos <context_size> tokens como entrada para o modelo.\n",
        "    logits = model(torch.LongTensor([input_ids_truncated]).to(device))\n",
        "    # Ao usarmos o argmax, a saída do modelo em cada passo é token de maior probabilidade.\n",
        "    # Isso se chama decodificação gulosa (greedy decoding).\n",
        "    predicted_id = torch.argmax(logits).item()\n",
        "    input_ids += [predicted_id]  # Concatenamos a entrada com o token escolhido nesse passo.\n",
        "    prompt = tokenizer.decode(input_ids)\n",
        "    print(prompt)"
      ],
      "metadata": {
        "id": "-CFElf4tsytW"
      },
      "execution_count": null,
      "outputs": []
    }
  ]
}