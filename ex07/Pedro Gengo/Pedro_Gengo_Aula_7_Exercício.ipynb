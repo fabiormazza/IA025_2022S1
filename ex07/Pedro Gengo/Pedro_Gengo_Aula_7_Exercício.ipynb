{
  "nbformat": 4,
  "nbformat_minor": 0,
  "metadata": {
    "colab": {
      "name": "Pedro Gengo - Aula 7 - Exercício",
      "provenance": [],
      "collapsed_sections": [],
      "include_colab_link": true
    },
    "kernelspec": {
      "name": "python3",
      "display_name": "Python 3"
    },
    "accelerator": "GPU"
  },
  "cells": [
    {
      "cell_type": "markdown",
      "metadata": {
        "id": "view-in-github",
        "colab_type": "text"
      },
      "source": [
        "<a href=\"https://colab.research.google.com/github/unicamp-dl/IA025_2022S1/blob/main/ex07/Pedro%20Gengo/Pedro_Gengo_Aula_7_Exerc%C3%ADcio.ipynb\" target=\"_parent\"><img src=\"https://colab.research.google.com/assets/colab-badge.svg\" alt=\"Open In Colab\"/></a>"
      ]
    },
    {
      "cell_type": "code",
      "source": [
        "nome = 'Pedro Gabriel Gengo Lourenco'\n",
        "print(f'Meu nome é {nome}')"
      ],
      "metadata": {
        "colab": {
          "base_uri": "https://localhost:8080/"
        },
        "id": "jOdQB41_4ZxG",
        "outputId": "0f28b19c-482a-4394-8bca-22d72cae29e2"
      },
      "execution_count": 1,
      "outputs": [
        {
          "output_type": "stream",
          "name": "stdout",
          "text": [
            "Meu nome é Pedro Gabriel Gengo Lourenco\n"
          ]
        }
      ]
    },
    {
      "cell_type": "markdown",
      "metadata": {
        "id": "2IbuChoAPMEn"
      },
      "source": [
        "#  Exercício: Modelo de Linguagem (Bengio 2003) - MLP + Embeddings"
      ]
    },
    {
      "cell_type": "markdown",
      "metadata": {
        "id": "p_DBb0-Klwf2"
      },
      "source": [
        "Neste exercício iremos treinar uma rede neural simples para prever a proxima palavra de um texto, dada as palavras anteriores como entrada. Esta tarefa é chamada de \"Modelagem da Língua\".\n",
        "\n",
        "Este dataset já possui um tamanho razoável e é bem provável que você vai precisar rodar seus experimentos com GPU.\n",
        "\n",
        "Alguns conselhos úteis:\n",
        "- **ATENÇÃO:** o dataset é bem grande. Não dê comando de imprimí-lo.\n",
        "- Durante a depuração, faça seu dataset ficar bem pequeno, para que a depuração seja mais rápida e não precise de GPU. Somente ligue a GPU quando o seu laço de treinamento já está funcionando\n",
        "- Não deixe para fazer esse exercício na véspera. Ele é trabalhoso."
      ]
    },
    {
      "cell_type": "code",
      "source": [
        "# iremos utilizar a biblioteca dos transformers para ter acesso ao tokenizador do BERT.\n",
        "!pip install transformers"
      ],
      "metadata": {
        "id": "3twP0YJC4jmJ",
        "colab": {
          "base_uri": "https://localhost:8080/"
        },
        "outputId": "da1cba87-6432-4bf9-b54e-fd036c82c755"
      },
      "execution_count": 8,
      "outputs": [
        {
          "output_type": "stream",
          "name": "stdout",
          "text": [
            "Collecting transformers\n",
            "  Downloading transformers-4.19.2-py3-none-any.whl (4.2 MB)\n",
            "\u001b[K     |████████████████████████████████| 4.2 MB 29.7 MB/s \n",
            "\u001b[?25hRequirement already satisfied: tqdm>=4.27 in /usr/local/lib/python3.7/dist-packages (from transformers) (4.64.0)\n",
            "Requirement already satisfied: filelock in /usr/local/lib/python3.7/dist-packages (from transformers) (3.6.0)\n",
            "Requirement already satisfied: requests in /usr/local/lib/python3.7/dist-packages (from transformers) (2.23.0)\n",
            "Requirement already satisfied: packaging>=20.0 in /usr/local/lib/python3.7/dist-packages (from transformers) (21.3)\n",
            "Collecting huggingface-hub<1.0,>=0.1.0\n",
            "  Downloading huggingface_hub-0.6.0-py3-none-any.whl (84 kB)\n",
            "\u001b[K     |████████████████████████████████| 84 kB 3.9 MB/s \n",
            "\u001b[?25hCollecting pyyaml>=5.1\n",
            "  Downloading PyYAML-6.0-cp37-cp37m-manylinux_2_5_x86_64.manylinux1_x86_64.manylinux_2_12_x86_64.manylinux2010_x86_64.whl (596 kB)\n",
            "\u001b[K     |████████████████████████████████| 596 kB 47.6 MB/s \n",
            "\u001b[?25hRequirement already satisfied: numpy>=1.17 in /usr/local/lib/python3.7/dist-packages (from transformers) (1.21.6)\n",
            "Requirement already satisfied: regex!=2019.12.17 in /usr/local/lib/python3.7/dist-packages (from transformers) (2019.12.20)\n",
            "Requirement already satisfied: importlib-metadata in /usr/local/lib/python3.7/dist-packages (from transformers) (4.11.3)\n",
            "Collecting tokenizers!=0.11.3,<0.13,>=0.11.1\n",
            "  Downloading tokenizers-0.12.1-cp37-cp37m-manylinux_2_12_x86_64.manylinux2010_x86_64.whl (6.6 MB)\n",
            "\u001b[K     |████████████████████████████████| 6.6 MB 65.1 MB/s \n",
            "\u001b[?25hRequirement already satisfied: typing-extensions>=3.7.4.3 in /usr/local/lib/python3.7/dist-packages (from huggingface-hub<1.0,>=0.1.0->transformers) (4.2.0)\n",
            "Requirement already satisfied: pyparsing!=3.0.5,>=2.0.2 in /usr/local/lib/python3.7/dist-packages (from packaging>=20.0->transformers) (3.0.8)\n",
            "Requirement already satisfied: zipp>=0.5 in /usr/local/lib/python3.7/dist-packages (from importlib-metadata->transformers) (3.8.0)\n",
            "Requirement already satisfied: chardet<4,>=3.0.2 in /usr/local/lib/python3.7/dist-packages (from requests->transformers) (3.0.4)\n",
            "Requirement already satisfied: idna<3,>=2.5 in /usr/local/lib/python3.7/dist-packages (from requests->transformers) (2.10)\n",
            "Requirement already satisfied: urllib3!=1.25.0,!=1.25.1,<1.26,>=1.21.1 in /usr/local/lib/python3.7/dist-packages (from requests->transformers) (1.24.3)\n",
            "Requirement already satisfied: certifi>=2017.4.17 in /usr/local/lib/python3.7/dist-packages (from requests->transformers) (2021.10.8)\n",
            "Installing collected packages: pyyaml, tokenizers, huggingface-hub, transformers\n",
            "  Attempting uninstall: pyyaml\n",
            "    Found existing installation: PyYAML 3.13\n",
            "    Uninstalling PyYAML-3.13:\n",
            "      Successfully uninstalled PyYAML-3.13\n",
            "Successfully installed huggingface-hub-0.6.0 pyyaml-6.0 tokenizers-0.12.1 transformers-4.19.2\n"
          ]
        }
      ]
    },
    {
      "cell_type": "markdown",
      "metadata": {
        "id": "YnyhJZtTRNMx"
      },
      "source": [
        "## Importação dos pacotes"
      ]
    },
    {
      "cell_type": "code",
      "metadata": {
        "id": "qlIOVCajPWcU"
      },
      "source": [
        "import collections\n",
        "import itertools\n",
        "import functools\n",
        "import math\n",
        "import random\n",
        "\n",
        "import torch\n",
        "import torch.nn as nn\n",
        "import numpy as np\n",
        "from torch.utils.data import DataLoader\n",
        "from tqdm import tqdm_notebook\n"
      ],
      "execution_count": 4,
      "outputs": []
    },
    {
      "cell_type": "code",
      "source": [
        "# Check which GPU we are using\n",
        "!nvidia-smi"
      ],
      "metadata": {
        "id": "w9f3PfifAwpU",
        "colab": {
          "base_uri": "https://localhost:8080/"
        },
        "outputId": "4f08ac4c-af2c-4b1a-826e-808656628990"
      },
      "execution_count": 5,
      "outputs": [
        {
          "output_type": "stream",
          "name": "stdout",
          "text": [
            "Tue May 17 13:50:57 2022       \n",
            "+-----------------------------------------------------------------------------+\n",
            "| NVIDIA-SMI 460.32.03    Driver Version: 460.32.03    CUDA Version: 11.2     |\n",
            "|-------------------------------+----------------------+----------------------+\n",
            "| GPU  Name        Persistence-M| Bus-Id        Disp.A | Volatile Uncorr. ECC |\n",
            "| Fan  Temp  Perf  Pwr:Usage/Cap|         Memory-Usage | GPU-Util  Compute M. |\n",
            "|                               |                      |               MIG M. |\n",
            "|===============================+======================+======================|\n",
            "|   0  Tesla T4            Off  | 00000000:00:04.0 Off |                    0 |\n",
            "| N/A   42C    P8     9W /  70W |      0MiB / 15109MiB |      0%      Default |\n",
            "|                               |                      |                  N/A |\n",
            "+-------------------------------+----------------------+----------------------+\n",
            "                                                                               \n",
            "+-----------------------------------------------------------------------------+\n",
            "| Processes:                                                                  |\n",
            "|  GPU   GI   CI        PID   Type   Process name                  GPU Memory |\n",
            "|        ID   ID                                                   Usage      |\n",
            "|=============================================================================|\n",
            "|  No running processes found                                                 |\n",
            "+-----------------------------------------------------------------------------+\n"
          ]
        }
      ]
    },
    {
      "cell_type": "code",
      "source": [
        "if torch.cuda.is_available(): \n",
        "   dev = \"cuda:0\"\n",
        "else: \n",
        "   dev = \"cpu\"\n",
        "device = torch.device(dev)\n",
        "print('Using {}'.format(device))"
      ],
      "metadata": {
        "id": "whTCe2i7AtoV",
        "colab": {
          "base_uri": "https://localhost:8080/"
        },
        "outputId": "4e059480-8164-4631-ab5f-31e601e85580"
      },
      "execution_count": 6,
      "outputs": [
        {
          "output_type": "stream",
          "name": "stdout",
          "text": [
            "Using cuda:0\n"
          ]
        }
      ]
    },
    {
      "cell_type": "markdown",
      "metadata": {
        "id": "9ZfxgV2DUk58"
      },
      "source": [
        "## Implementação do MyDataset"
      ]
    },
    {
      "cell_type": "code",
      "metadata": {
        "id": "n_xhKm1EZ3bQ"
      },
      "source": [
        "from typing import List\n",
        "\n",
        "\n",
        "def tokenize(text: str, tokenizer):\n",
        "    return tokenizer(text, return_tensors=None, add_special_tokens=False).input_ids\n",
        "\n",
        "\n",
        "class MyDataset():\n",
        "    def __init__(self, texts: List[str], tokenizer, context_size: int):\n",
        "        self.tokenizer = tokenizer\n",
        "        self.context_size = context_size\n",
        "        self.x, self.y = self._split_tokens_in_contextualized_windows(texts)\n",
        "\n",
        "    def _split_tokens_in_contextualized_windows(self, texts):\n",
        "      x, y = [], []\n",
        "      for t in texts:\n",
        "        tokenized = tokenize(t, self.tokenizer)\n",
        "        if len(tokenized) > self.context_size:\n",
        "          for i in range(len(tokenized) - self.context_size):\n",
        "              x.append(tokenized[i: i + self.context_size])\n",
        "              y.append(tokenized[i + self.context_size])\n",
        "      return torch.LongTensor(x), torch.LongTensor(y)\n",
        "\n",
        "    def __len__(self):\n",
        "        return len(self.x)\n",
        "\n",
        "    def __getitem__(self, idx):\n",
        "        return self.x[idx], self.y[idx]"
      ],
      "execution_count": 7,
      "outputs": []
    },
    {
      "cell_type": "markdown",
      "source": [
        "## Teste se sua implementação do MyDataset está correta"
      ],
      "metadata": {
        "id": "wew-gFbWeBTq"
      }
    },
    {
      "cell_type": "code",
      "source": [
        "from transformers import BertTokenizer\n",
        "\n",
        "tokenizer = BertTokenizer.from_pretrained(\"neuralmind/bert-base-portuguese-cased\")"
      ],
      "metadata": {
        "id": "xiIynQYl19Xn"
      },
      "execution_count": 8,
      "outputs": []
    },
    {
      "cell_type": "code",
      "source": [
        "dummy_texts = ['Eu gosto de correr', 'Ela gosta muito de comer pizza']"
      ],
      "metadata": {
        "id": "BdLg5gS11_r1"
      },
      "execution_count": 9,
      "outputs": []
    },
    {
      "cell_type": "markdown",
      "source": [
        "### Debuggando o tokenizer"
      ],
      "metadata": {
        "id": "SFtBpeaW2Cnv"
      }
    },
    {
      "cell_type": "code",
      "source": [
        "tokenizer.convert_ids_to_tokens(tokenize(dummy_texts[0], tokenizer)), tokenizer.convert_ids_to_tokens(tokenize(dummy_texts[1], tokenizer))"
      ],
      "metadata": {
        "colab": {
          "base_uri": "https://localhost:8080/"
        },
        "id": "j2T71-6G2Ffu",
        "outputId": "7c6f41d6-21ba-4aef-eafe-13ce2b42b37e"
      },
      "execution_count": 10,
      "outputs": [
        {
          "output_type": "execute_result",
          "data": {
            "text/plain": [
              "(['Eu', 'gosto', 'de', 'correr'],\n",
              " ['Ela', 'gosta', 'muito', 'de', 'comer', 'pi', '##zza'])"
            ]
          },
          "metadata": {},
          "execution_count": 10
        }
      ]
    },
    {
      "cell_type": "markdown",
      "source": [
        "No resultado da célula acima podemos ver os tokens gerados pelo tokenizador. Assim, podemos montar o dataset esperado, sendo:\n",
        "\n",
        "| x | y |\n",
        "|---|---|\n",
        "|[Eu, gosto, de]|correr|\n",
        "|[Ela, gosta, muito]|de|\n",
        "|[gosta, muito, de]|comer|\n",
        "|[muito, de, comer]|pi|\n",
        "|[de, comer, pi]|##zza|\n",
        "\n",
        "Sendo assim, esperamos que o dataset tenha um tamanho de 5."
      ],
      "metadata": {
        "id": "27nA4gys2Rq9"
      }
    },
    {
      "cell_type": "markdown",
      "source": [
        "### Testes"
      ],
      "metadata": {
        "id": "bh8pS81O3kD3"
      }
    },
    {
      "cell_type": "code",
      "source": [
        "dummy_dataset = MyDataset(texts=dummy_texts, tokenizer=tokenizer, context_size=3)\n",
        "dummy_loader = DataLoader(dummy_dataset, batch_size=6, shuffle=False)\n",
        "assert len(dummy_dataset) == 5\n",
        "print('passou no assert de tamanho do dataset')\n",
        "\n",
        "first_batch_input, first_batch_target = next(iter(dummy_loader))\n",
        "\n",
        "correct_first_batch_input = torch.LongTensor(\n",
        "    [[ 3396, 10303,   125],\n",
        "     [ 1660,  5971,   785],\n",
        "     [ 5971,   785,   125],\n",
        "     [  785,   125,  1847],\n",
        "     [  125,  1847, 13779]])\n",
        "\n",
        "correct_first_batch_target = torch.LongTensor([13239,   125,  1847, 13779, 15616])\n",
        "\n",
        "assert torch.equal(first_batch_input, correct_first_batch_input)\n",
        "print('Passou no assert de input')\n",
        "assert torch.equal(first_batch_target, correct_first_batch_target)\n",
        "print('Passou no assert de target')"
      ],
      "metadata": {
        "id": "8r7jBFFUeApe",
        "colab": {
          "base_uri": "https://localhost:8080/"
        },
        "outputId": "76b86b1d-5fa4-4c07-e677-bb6fb3138fb5"
      },
      "execution_count": 11,
      "outputs": [
        {
          "output_type": "stream",
          "name": "stdout",
          "text": [
            "passou no assert de tamanho do dataset\n",
            "Passou no assert de input\n",
            "Passou no assert de target\n"
          ]
        }
      ]
    },
    {
      "cell_type": "markdown",
      "metadata": {
        "id": "4LfrHHouleJ0"
      },
      "source": [
        "# Carregamento do dataset "
      ]
    },
    {
      "cell_type": "markdown",
      "metadata": {
        "id": "V2vFWjsSkmop"
      },
      "source": [
        "Iremos usar uma pequena amostra do dataset [BrWaC](https://www.inf.ufrgs.br/pln/wiki/index.php?title=BrWaC) para treinar e avaliar nosso modelo de linguagem."
      ]
    },
    {
      "cell_type": "code",
      "source": [
        "!wget -nc https://storage.googleapis.com/unicamp-dl/ia025a_2022s1/aula7/sample_brwac.txt"
      ],
      "metadata": {
        "id": "vGlN1WqrXPA6",
        "colab": {
          "base_uri": "https://localhost:8080/"
        },
        "outputId": "28150467-d105-49f2-b182-117aa9b51c0c"
      },
      "execution_count": 12,
      "outputs": [
        {
          "output_type": "stream",
          "name": "stdout",
          "text": [
            "File ‘sample_brwac.txt’ already there; not retrieving.\n",
            "\n"
          ]
        }
      ]
    },
    {
      "cell_type": "code",
      "source": [
        "words_per_line = [len(line.split()) for line in open('sample_brwac.txt').readlines()]"
      ],
      "metadata": {
        "id": "tccWBeZxHHFV"
      },
      "execution_count": 13,
      "outputs": []
    },
    {
      "cell_type": "code",
      "source": [
        "sum(words_per_line) / len(words_per_line)"
      ],
      "metadata": {
        "colab": {
          "base_uri": "https://localhost:8080/"
        },
        "id": "zXquMeKBHUvN",
        "outputId": "1af5beeb-02de-4730-fb66-930a79625cc7"
      },
      "execution_count": 14,
      "outputs": [
        {
          "output_type": "execute_result",
          "data": {
            "text/plain": [
              "788.32044"
            ]
          },
          "metadata": {},
          "execution_count": 14
        }
      ]
    },
    {
      "cell_type": "code",
      "source": [
        "# Load datasets\n",
        "context_size = 9\n",
        "\n",
        "valid_examples = 100\n",
        "test_examples = 100\n",
        "texts = open('sample_brwac.txt').readlines()\n",
        "\n",
        "# print('Truncating for debugging purposes.')\n",
        "# texts = texts[:500]  \n",
        "\n",
        "training_texts = texts[:-(valid_examples + test_examples)]\n",
        "valid_texts = texts[-(valid_examples + test_examples):-test_examples]\n",
        "test_texts = texts[-test_examples:]\n",
        "\n",
        "training_dataset = MyDataset(texts=training_texts, tokenizer=tokenizer, context_size=context_size)\n",
        "valid_dataset = MyDataset(texts=valid_texts, tokenizer=tokenizer, context_size=context_size)\n",
        "test_dataset = MyDataset(texts=test_texts, tokenizer=tokenizer, context_size=context_size)"
      ],
      "metadata": {
        "id": "gxa_4gmiA-wE"
      },
      "execution_count": 15,
      "outputs": []
    },
    {
      "cell_type": "code",
      "source": [
        "print(f'training examples: {len(training_dataset)}')\n",
        "print(f'valid examples: {len(valid_dataset)}')\n",
        "print(f'test examples: {len(test_dataset)}')"
      ],
      "metadata": {
        "id": "KCSGJ5m7py4c",
        "colab": {
          "base_uri": "https://localhost:8080/"
        },
        "outputId": "067f3108-95af-4ca3-a85d-b573617bccac"
      },
      "execution_count": 16,
      "outputs": [
        {
          "output_type": "stream",
          "name": "stdout",
          "text": [
            "training examples: 27675945\n",
            "valid examples: 82070\n",
            "test examples: 166726\n"
          ]
        }
      ]
    },
    {
      "cell_type": "code",
      "metadata": {
        "id": "hGaAjYDfWdd1"
      },
      "source": [
        "class LanguageModel(torch.nn.Module):\n",
        "\n",
        "    def __init__(self, vocab_size, context_size, embedding_dim, hidden_size):\n",
        "        \"\"\"\n",
        "        Implements the Neural Language Model proposed by Bengio et al.\"\n",
        "\n",
        "        Args:\n",
        "            vocab_size (int): Size of the input vocabulary.\n",
        "            context_size (int): Size of the sequence to consider as context for prediction.\n",
        "            embedding_dim (int): Dimension of the embedding layer for each word in the context.\n",
        "            hidden_size (int): Size of the hidden layer.\n",
        "        \"\"\"\n",
        "        super().__init__()\n",
        "        self.emb = torch.nn.Embedding(vocab_size, embedding_dim)\n",
        "        self.linear1 = torch.nn.Linear(embedding_dim * context_size, hidden_size)\n",
        "        self.linear2 = torch.nn.Linear(hidden_size, vocab_size, bias = False)\n",
        "\n",
        "    def forward(self, inputs):\n",
        "        \"\"\"\n",
        "        Args:\n",
        "            inputs is a LongTensor of shape (batch_size, context_size)\n",
        "        \"\"\"\n",
        "        output = self.emb(inputs)\n",
        "        output = output.view(inputs.shape[0], -1)\n",
        "        output = torch.nn.functional.relu(self.linear1(output))\n",
        "        output = self.linear2(output)\n",
        "        return output"
      ],
      "execution_count": 17,
      "outputs": []
    },
    {
      "cell_type": "markdown",
      "source": [
        "## Teste o modelo com um exemplo"
      ],
      "metadata": {
        "id": "Rm6_PTH2i98e"
      }
    },
    {
      "cell_type": "code",
      "metadata": {
        "id": "RwnxfZlrZoT_",
        "colab": {
          "base_uri": "https://localhost:8080/"
        },
        "outputId": "d09530cb-c681-471e-ce18-488a88f00469"
      },
      "source": [
        "model = LanguageModel(\n",
        "    vocab_size=tokenizer.vocab_size,\n",
        "    context_size=context_size,\n",
        "    embedding_dim=64,\n",
        "    hidden_size=128,\n",
        ").to(device)\n",
        "\n",
        "sample_train, _ = next(iter(DataLoader(training_dataset)))\n",
        "sample_train_gpu = sample_train.to(device)\n",
        "model(sample_train_gpu).shape"
      ],
      "execution_count": 18,
      "outputs": [
        {
          "output_type": "execute_result",
          "data": {
            "text/plain": [
              "torch.Size([1, 29794])"
            ]
          },
          "metadata": {},
          "execution_count": 18
        }
      ]
    },
    {
      "cell_type": "code",
      "source": [
        "tokenizer.vocab_size"
      ],
      "metadata": {
        "colab": {
          "base_uri": "https://localhost:8080/"
        },
        "id": "oJsGLSQj7pkU",
        "outputId": "8b061a8f-15df-4455-f5b6-ba22bdc790c9"
      },
      "execution_count": 19,
      "outputs": [
        {
          "output_type": "execute_result",
          "data": {
            "text/plain": [
              "29794"
            ]
          },
          "metadata": {},
          "execution_count": 19
        }
      ]
    },
    {
      "cell_type": "code",
      "metadata": {
        "id": "I3Vh6B-VkA01",
        "colab": {
          "base_uri": "https://localhost:8080/"
        },
        "outputId": "e1787ce3-b8e8-4064-ed47-5763c429642d"
      },
      "source": [
        "num_params = sum(p.numel() for p in model.parameters() if p.requires_grad)\n",
        "print(f'Number of model parameters: {num_params}')"
      ],
      "execution_count": 20,
      "outputs": [
        {
          "output_type": "stream",
          "name": "stdout",
          "text": [
            "Number of model parameters: 5794304\n"
          ]
        }
      ]
    },
    {
      "cell_type": "markdown",
      "source": [
        "## Assert da Perplexidade\n"
      ],
      "metadata": {
        "id": "8nhbUVsYnVAp"
      }
    },
    {
      "cell_type": "code",
      "source": [
        "random.seed(123)\n",
        "np.random.seed(123)\n",
        "torch.manual_seed(123)\n",
        "\n",
        "\n",
        "def perplexity(logits, target):\n",
        "    \"\"\"\n",
        "    Computes the perplexity.\n",
        "\n",
        "    Args:\n",
        "        logits: a FloatTensor of shape (batch_size, vocab_size)\n",
        "        target: a LongTensor of shape (batch_size,)\n",
        "\n",
        "    Returns:\n",
        "        A float corresponding to the perplexity.\n",
        "    \"\"\"\n",
        "    pred_probs = torch.nn.functional.softmax(logits, dim=1)\n",
        "    valid_probs = pred_probs.gather(1, target.view(-1, 1))\n",
        "    cross_entropy = -torch.mean(torch.log(valid_probs))\n",
        "    return torch.exp(cross_entropy)\n",
        "\n",
        "n_examples = 1000\n",
        "\n",
        "sample_train, target_token_ids = next(iter(DataLoader(training_dataset, batch_size=n_examples)))\n",
        "sample_train_gpu = sample_train.to(device)\n",
        "target_token_ids = target_token_ids.to(device)\n",
        "logits = model(sample_train_gpu)\n",
        "\n",
        "my_perplexity = perplexity(logits=logits, target=target_token_ids)\n",
        "\n",
        "print(f'my perplexity:              {int(my_perplexity)}')\n",
        "print(f'correct initial perplexity: {tokenizer.vocab_size}')\n",
        "\n",
        "assert math.isclose(my_perplexity, tokenizer.vocab_size, abs_tol=2000)\n",
        "print('Passou o no assert da perplexidade')"
      ],
      "metadata": {
        "id": "gbMP8VAUncfX",
        "colab": {
          "base_uri": "https://localhost:8080/"
        },
        "outputId": "76ae621c-79d6-4ffd-e3c4-06d8ec98ad24"
      },
      "execution_count": 21,
      "outputs": [
        {
          "output_type": "stream",
          "name": "stdout",
          "text": [
            "my perplexity:              30087\n",
            "correct initial perplexity: 29794\n",
            "Passou o no assert da perplexidade\n"
          ]
        }
      ]
    },
    {
      "cell_type": "markdown",
      "source": [
        "## Laço de Treinamento e Validação"
      ],
      "metadata": {
        "id": "KiJtrsqPnE_l"
      }
    },
    {
      "cell_type": "code",
      "metadata": {
        "id": "zIMSaY-UUGUE",
        "colab": {
          "base_uri": "https://localhost:8080/"
        },
        "outputId": "f290b7bf-e5dd-4c12-c145-3a99e80cfeea"
      },
      "source": [
        "max_examples = 200_000_000\n",
        "eval_every_steps = 5000\n",
        "lr = 3e-5\n",
        "best_ppl = 1e5  # Para evitar usar um modelo overfittado, salvo o modelo com melhor ppl para usar depois\n",
        "\n",
        "\n",
        "model = LanguageModel(\n",
        "    vocab_size=tokenizer.vocab_size,\n",
        "    context_size=context_size,\n",
        "    embedding_dim=128,\n",
        "    hidden_size=256,\n",
        ").to(device)\n",
        "\n",
        "train_loader = DataLoader(training_dataset, batch_size=512, shuffle=True, drop_last=True)\n",
        "validation_loader = DataLoader(valid_dataset, batch_size=512)\n",
        "\n",
        "optimizer = torch.optim.Adam(model.parameters(), lr=lr)\n",
        "\n",
        "\n",
        "def train_step(input, target):\n",
        "    model.train()\n",
        "    model.zero_grad()\n",
        "\n",
        "    logits = model(input.to(device))\n",
        "    loss = nn.functional.cross_entropy(logits, target.to(device)) * 0.9\n",
        "    loss.backward()\n",
        "    optimizer.step()\n",
        "\n",
        "    return loss.item()\n",
        "\n",
        "\n",
        "def validation_step(input, target):\n",
        "    logits = model(input)\n",
        "    loss = nn.functional.cross_entropy(logits, target)\n",
        "    return loss.item()\n",
        "\n",
        "\n",
        "train_losses = []\n",
        "n_examples = 0\n",
        "step = 0\n",
        "while n_examples < max_examples:\n",
        "    for input, target in train_loader:\n",
        "        loss = train_step(input.to(device), target.to(device)) \n",
        "        train_losses.append(loss / 0.9)\n",
        "        \n",
        "        if step % eval_every_steps == 0:\n",
        "            train_ppl = np.exp(np.average(train_losses))\n",
        "\n",
        "            with torch.no_grad():\n",
        "                valid_ppl = np.exp(np.average([\n",
        "                    validation_step(input.to(device), target.to(device))\n",
        "                    for input, target in validation_loader]))\n",
        "                \n",
        "                if valid_ppl < best_ppl:\n",
        "                  best_ppl = valid_ppl\n",
        "                  torch.save(model.state_dict(), 'best_model.pt')\n",
        "\n",
        "            print(f'{step} steps; {n_examples} examples so far; train ppl: {train_ppl:.2f}, valid ppl: {valid_ppl:.2f}')\n",
        "            train_losses = []\n",
        "\n",
        "        n_examples += len(input)  # Increment of batch size\n",
        "        step += 1\n",
        "        if n_examples >= max_examples:\n",
        "            break"
      ],
      "execution_count": 32,
      "outputs": [
        {
          "output_type": "stream",
          "name": "stdout",
          "text": [
            "0 steps; 0 examples so far; train ppl: 30359.69, valid ppl: 30743.96\n",
            "5000 steps; 2560000 examples so far; train ppl: 2435.19, valid ppl: 1539.77\n",
            "10000 steps; 5120000 examples so far; train ppl: 1351.66, valid ppl: 1209.86\n",
            "15000 steps; 7680000 examples so far; train ppl: 1102.09, valid ppl: 1007.55\n",
            "20000 steps; 10240000 examples so far; train ppl: 933.42, valid ppl: 871.81\n",
            "25000 steps; 12800000 examples so far; train ppl: 817.94, valid ppl: 776.74\n",
            "30000 steps; 15360000 examples so far; train ppl: 735.60, valid ppl: 705.34\n",
            "35000 steps; 17920000 examples so far; train ppl: 673.78, valid ppl: 648.40\n",
            "40000 steps; 20480000 examples so far; train ppl: 622.89, valid ppl: 601.81\n",
            "45000 steps; 23040000 examples so far; train ppl: 582.06, valid ppl: 562.92\n",
            "50000 steps; 25600000 examples so far; train ppl: 543.20, valid ppl: 529.00\n",
            "55000 steps; 28160000 examples so far; train ppl: 511.93, valid ppl: 499.41\n",
            "60000 steps; 30720000 examples so far; train ppl: 474.64, valid ppl: 473.77\n",
            "65000 steps; 33280000 examples so far; train ppl: 451.94, valid ppl: 451.05\n",
            "70000 steps; 35840000 examples so far; train ppl: 432.97, valid ppl: 430.85\n",
            "75000 steps; 38400000 examples so far; train ppl: 413.26, valid ppl: 412.79\n",
            "80000 steps; 40960000 examples so far; train ppl: 396.24, valid ppl: 396.96\n",
            "85000 steps; 43520000 examples so far; train ppl: 380.75, valid ppl: 381.94\n",
            "90000 steps; 46080000 examples so far; train ppl: 368.22, valid ppl: 368.54\n",
            "95000 steps; 48640000 examples so far; train ppl: 356.96, valid ppl: 356.65\n",
            "100000 steps; 51200000 examples so far; train ppl: 345.31, valid ppl: 346.71\n",
            "105000 steps; 53760000 examples so far; train ppl: 336.10, valid ppl: 336.74\n",
            "110000 steps; 56320000 examples so far; train ppl: 323.88, valid ppl: 328.31\n",
            "115000 steps; 58880000 examples so far; train ppl: 310.76, valid ppl: 320.60\n",
            "120000 steps; 61440000 examples so far; train ppl: 303.07, valid ppl: 313.77\n",
            "125000 steps; 64000000 examples so far; train ppl: 298.01, valid ppl: 306.51\n",
            "130000 steps; 66560000 examples so far; train ppl: 291.41, valid ppl: 300.33\n",
            "135000 steps; 69120000 examples so far; train ppl: 286.55, valid ppl: 294.48\n",
            "140000 steps; 71680000 examples so far; train ppl: 280.99, valid ppl: 288.97\n",
            "145000 steps; 74240000 examples so far; train ppl: 277.22, valid ppl: 284.26\n",
            "150000 steps; 76800000 examples so far; train ppl: 272.67, valid ppl: 279.53\n",
            "155000 steps; 79360000 examples so far; train ppl: 269.27, valid ppl: 275.32\n",
            "160000 steps; 81920000 examples so far; train ppl: 264.75, valid ppl: 271.27\n",
            "165000 steps; 84480000 examples so far; train ppl: 256.99, valid ppl: 267.59\n",
            "170000 steps; 87040000 examples so far; train ppl: 251.35, valid ppl: 264.30\n",
            "175000 steps; 89600000 examples so far; train ppl: 249.50, valid ppl: 261.20\n",
            "180000 steps; 92160000 examples so far; train ppl: 246.73, valid ppl: 257.94\n",
            "185000 steps; 94720000 examples so far; train ppl: 243.63, valid ppl: 254.71\n",
            "190000 steps; 97280000 examples so far; train ppl: 241.65, valid ppl: 251.91\n",
            "195000 steps; 99840000 examples so far; train ppl: 238.16, valid ppl: 249.19\n",
            "200000 steps; 102400000 examples so far; train ppl: 236.99, valid ppl: 246.61\n",
            "205000 steps; 104960000 examples so far; train ppl: 234.28, valid ppl: 244.22\n",
            "210000 steps; 107520000 examples so far; train ppl: 233.06, valid ppl: 241.83\n",
            "215000 steps; 110080000 examples so far; train ppl: 231.66, valid ppl: 239.54\n",
            "220000 steps; 112640000 examples so far; train ppl: 224.56, valid ppl: 237.83\n",
            "225000 steps; 115200000 examples so far; train ppl: 221.64, valid ppl: 236.31\n",
            "230000 steps; 117760000 examples so far; train ppl: 219.93, valid ppl: 234.62\n",
            "235000 steps; 120320000 examples so far; train ppl: 219.11, valid ppl: 232.43\n",
            "240000 steps; 122880000 examples so far; train ppl: 218.23, valid ppl: 230.52\n",
            "245000 steps; 125440000 examples so far; train ppl: 216.37, valid ppl: 228.96\n",
            "250000 steps; 128000000 examples so far; train ppl: 215.96, valid ppl: 227.42\n",
            "255000 steps; 130560000 examples so far; train ppl: 215.06, valid ppl: 225.74\n",
            "260000 steps; 133120000 examples so far; train ppl: 213.35, valid ppl: 224.41\n",
            "265000 steps; 135680000 examples so far; train ppl: 212.27, valid ppl: 222.73\n",
            "270000 steps; 138240000 examples so far; train ppl: 211.38, valid ppl: 221.40\n",
            "275000 steps; 140800000 examples so far; train ppl: 204.32, valid ppl: 220.48\n",
            "280000 steps; 143360000 examples so far; train ppl: 203.96, valid ppl: 219.40\n",
            "285000 steps; 145920000 examples so far; train ppl: 203.22, valid ppl: 218.14\n",
            "290000 steps; 148480000 examples so far; train ppl: 202.59, valid ppl: 216.98\n",
            "295000 steps; 151040000 examples so far; train ppl: 202.25, valid ppl: 215.78\n",
            "300000 steps; 153600000 examples so far; train ppl: 200.78, valid ppl: 214.48\n",
            "305000 steps; 156160000 examples so far; train ppl: 200.61, valid ppl: 213.68\n",
            "310000 steps; 158720000 examples so far; train ppl: 199.63, valid ppl: 212.44\n",
            "315000 steps; 161280000 examples so far; train ppl: 199.06, valid ppl: 211.51\n",
            "320000 steps; 163840000 examples so far; train ppl: 198.92, valid ppl: 210.51\n",
            "325000 steps; 166400000 examples so far; train ppl: 197.24, valid ppl: 209.82\n",
            "330000 steps; 168960000 examples so far; train ppl: 191.91, valid ppl: 209.08\n",
            "335000 steps; 171520000 examples so far; train ppl: 192.22, valid ppl: 208.51\n",
            "340000 steps; 174080000 examples so far; train ppl: 191.67, valid ppl: 207.42\n",
            "345000 steps; 176640000 examples so far; train ppl: 190.38, valid ppl: 206.53\n",
            "350000 steps; 179200000 examples so far; train ppl: 190.35, valid ppl: 205.61\n",
            "355000 steps; 181760000 examples so far; train ppl: 190.36, valid ppl: 204.95\n",
            "360000 steps; 184320000 examples so far; train ppl: 190.32, valid ppl: 204.29\n",
            "365000 steps; 186880000 examples so far; train ppl: 189.08, valid ppl: 203.25\n",
            "370000 steps; 189440000 examples so far; train ppl: 189.31, valid ppl: 202.48\n",
            "375000 steps; 192000000 examples so far; train ppl: 189.16, valid ppl: 202.04\n",
            "380000 steps; 194560000 examples so far; train ppl: 186.78, valid ppl: 201.67\n",
            "385000 steps; 197120000 examples so far; train ppl: 183.15, valid ppl: 200.90\n",
            "390000 steps; 199680000 examples so far; train ppl: 182.82, valid ppl: 200.42\n"
          ]
        }
      ]
    },
    {
      "cell_type": "markdown",
      "source": [
        "## Avaliação final no dataset de teste\n",
        "\n",
        "\n",
        "Bonus: o modelo com menor perplexidade no dataset de testes ganhará 0.5 ponto na nota final."
      ],
      "metadata": {
        "id": "VgdNymJdNPXP"
      }
    },
    {
      "cell_type": "code",
      "metadata": {
        "id": "nxN5YytzZ7Tn",
        "colab": {
          "base_uri": "https://localhost:8080/"
        },
        "outputId": "da86b116-cd64-421e-ab90-cadaa804eea4"
      },
      "source": [
        "model = LanguageModel(\n",
        "            vocab_size=tokenizer.vocab_size,\n",
        "            context_size=context_size,\n",
        "            embedding_dim=128,\n",
        "            hidden_size=256,\n",
        "        ).to(device)\n",
        "model.load_state_dict(torch.load('best_model.pt'))\n",
        "model.to(device)\n",
        "\n",
        "test_loader = DataLoader(test_dataset, batch_size=64)\n",
        "\n",
        "with torch.no_grad():\n",
        "    test_ppl = np.exp(np.average([\n",
        "        validation_step(input.to(device), target.to(device))\n",
        "        for input, target in test_loader\n",
        "    ]))\n",
        "\n",
        "print(f'test perplexity: {test_ppl}')"
      ],
      "execution_count": 33,
      "outputs": [
        {
          "output_type": "stream",
          "name": "stdout",
          "text": [
            "test perplexity: 182.5328581355589\n"
          ]
        }
      ]
    },
    {
      "cell_type": "markdown",
      "source": [
        "## Teste seu modelo com uma sentença\n",
        "\n",
        "Escolha uma sentença gerada pelo modelo que ache interessante."
      ],
      "metadata": {
        "id": "BHvEs8mPszy_"
      }
    },
    {
      "cell_type": "code",
      "source": [
        "prompt = 'Eu gosto de comer pizza pois me faz'  # Ex: 'Eu gosto de comer pizza pois me faz'\n",
        "max_output_tokens = 10\n",
        "\n",
        "for _ in range(max_output_tokens):\n",
        "    input_ids = tokenize(text=prompt, tokenizer=tokenizer)\n",
        "    input_ids_truncated = input_ids[-context_size:]  # Usamos apenas os últimos <context_size> tokens como entrada para o modelo.\n",
        "    logits = model(torch.LongTensor([input_ids_truncated]).to(device))\n",
        "    # Ao usarmos o argmax, a saída do modelo em cada passo é token de maior probabilidade.\n",
        "    # Isso se chama decodificação gulosa (greedy decoding).\n",
        "    predicted_id = torch.argmax(logits).item()\n",
        "    input_ids += [predicted_id]  # Concatenamos a entrada com o token escolhido nesse passo.\n",
        "    prompt = tokenizer.decode(input_ids)\n",
        "    print(prompt)"
      ],
      "metadata": {
        "id": "-CFElf4tsytW",
        "colab": {
          "base_uri": "https://localhost:8080/"
        },
        "outputId": "5304e1f1-97ad-4a01-9e86-99c6c6c356e6"
      },
      "execution_count": 34,
      "outputs": [
        {
          "output_type": "stream",
          "name": "stdout",
          "text": [
            "Eu gosto de comer pizza pois me faz com\n",
            "Eu gosto de comer pizza pois me faz com que\n",
            "Eu gosto de comer pizza pois me faz com que o\n",
            "Eu gosto de comer pizza pois me faz com que o que\n",
            "Eu gosto de comer pizza pois me faz com que o que eu\n",
            "Eu gosto de comer pizza pois me faz com que o que eu não\n",
            "Eu gosto de comer pizza pois me faz com que o que eu não tinha\n",
            "Eu gosto de comer pizza pois me faz com que o que eu não tinha mais\n",
            "Eu gosto de comer pizza pois me faz com que o que eu não tinha mais nada\n",
            "Eu gosto de comer pizza pois me faz com que o que eu não tinha mais nada.\n"
          ]
        }
      ]
    },
    {
      "cell_type": "code",
      "source": [
        "prompt = 'Se os carros são como as lanchas, as motos são'  # Ex: 'Eu gosto de comer pizza pois me faz'\n",
        "max_output_tokens = 10\n",
        "\n",
        "for _ in range(max_output_tokens):\n",
        "    input_ids = tokenize(text=prompt, tokenizer=tokenizer)\n",
        "    input_ids_truncated = input_ids[-context_size:]  # Usamos apenas os últimos <context_size> tokens como entrada para o modelo.\n",
        "    logits = model(torch.LongTensor([input_ids_truncated]).to(device))\n",
        "    # Ao usarmos o argmax, a saída do modelo em cada passo é token de maior probabilidade.\n",
        "    # Isso se chama decodificação gulosa (greedy decoding).\n",
        "    predicted_id = torch.argmax(logits).item()\n",
        "    input_ids += [predicted_id]  # Concatenamos a entrada com o token escolhido nesse passo.\n",
        "    prompt = tokenizer.decode(input_ids)\n",
        "    print(prompt)"
      ],
      "metadata": {
        "colab": {
          "base_uri": "https://localhost:8080/"
        },
        "id": "hGFjgc2bfyuw",
        "outputId": "f3a52c11-4e38-4e8c-a95a-3863bad57a45"
      },
      "execution_count": 35,
      "outputs": [
        {
          "output_type": "stream",
          "name": "stdout",
          "text": [
            "Se os carros são como as lanchas, as motos são os\n",
            "Se os carros são como as lanchas, as motos são os que\n",
            "Se os carros são como as lanchas, as motos são os que estão\n",
            "Se os carros são como as lanchas, as motos são os que estão em\n",
            "Se os carros são como as lanchas, as motos são os que estão em um\n",
            "Se os carros são como as lanchas, as motos são os que estão em um país\n",
            "Se os carros são como as lanchas, as motos são os que estão em um país,\n",
            "Se os carros são como as lanchas, as motos são os que estão em um país, que\n",
            "Se os carros são como as lanchas, as motos são os que estão em um país, que não\n",
            "Se os carros são como as lanchas, as motos são os que estão em um país, que não se\n"
          ]
        }
      ]
    },
    {
      "cell_type": "code",
      "source": [
        "prompt = 'Foi muito bom te ver, mas já está na hora de'  # Ex: 'Eu gosto de comer pizza pois me faz'\n",
        "max_output_tokens = 10\n",
        "\n",
        "for _ in range(max_output_tokens):\n",
        "    input_ids = tokenize(text=prompt, tokenizer=tokenizer)\n",
        "    input_ids_truncated = input_ids[-context_size:]  # Usamos apenas os últimos <context_size> tokens como entrada para o modelo.\n",
        "    logits = model(torch.LongTensor([input_ids_truncated]).to(device))\n",
        "    # Ao usarmos o argmax, a saída do modelo em cada passo é token de maior probabilidade.\n",
        "    # Isso se chama decodificação gulosa (greedy decoding).\n",
        "    predicted_id = torch.argmax(logits).item()\n",
        "    input_ids += [predicted_id]  # Concatenamos a entrada com o token escolhido nesse passo.\n",
        "    prompt = tokenizer.decode(input_ids)\n",
        "    print(prompt)"
      ],
      "metadata": {
        "colab": {
          "base_uri": "https://localhost:8080/"
        },
        "id": "v0WswMdT6wD3",
        "outputId": "d95feaac-653b-4566-a23d-5c9c136c453a"
      },
      "execution_count": 36,
      "outputs": [
        {
          "output_type": "stream",
          "name": "stdout",
          "text": [
            "Foi muito bom te ver, mas já está na hora de fazer\n",
            "Foi muito bom te ver, mas já está na hora de fazer o\n",
            "Foi muito bom te ver, mas já está na hora de fazer o que\n",
            "Foi muito bom te ver, mas já está na hora de fazer o que eu\n",
            "Foi muito bom te ver, mas já está na hora de fazer o que eu não\n",
            "Foi muito bom te ver, mas já está na hora de fazer o que eu não tinha\n",
            "Foi muito bom te ver, mas já está na hora de fazer o que eu não tinha mais\n",
            "Foi muito bom te ver, mas já está na hora de fazer o que eu não tinha mais nada\n",
            "Foi muito bom te ver, mas já está na hora de fazer o que eu não tinha mais nada.\n",
            "Foi muito bom te ver, mas já está na hora de fazer o que eu não tinha mais nada..\n"
          ]
        }
      ]
    },
    {
      "cell_type": "code",
      "source": [
        "prompt = 'Nas minhas próximas férias quer ir viajar para'  # Ex: 'Eu gosto de comer pizza pois me faz'\n",
        "max_output_tokens = 10\n",
        "\n",
        "for _ in range(max_output_tokens):\n",
        "    input_ids = tokenize(text=prompt, tokenizer=tokenizer)\n",
        "    input_ids_truncated = input_ids[-context_size:]  # Usamos apenas os últimos <context_size> tokens como entrada para o modelo.\n",
        "    logits = model(torch.LongTensor([input_ids_truncated]).to(device))\n",
        "    # Ao usarmos o argmax, a saída do modelo em cada passo é token de maior probabilidade.\n",
        "    # Isso se chama decodificação gulosa (greedy decoding).\n",
        "    predicted_id = torch.argmax(logits).item()\n",
        "    input_ids += [predicted_id]  # Concatenamos a entrada com o token escolhido nesse passo.\n",
        "    prompt = tokenizer.decode(input_ids)\n",
        "    print(prompt)"
      ],
      "metadata": {
        "colab": {
          "base_uri": "https://localhost:8080/"
        },
        "id": "AmqKZnno_gQ-",
        "outputId": "2e7ef880-dece-4887-b8f8-22d30014f6ed"
      },
      "execution_count": 38,
      "outputs": [
        {
          "output_type": "stream",
          "name": "stdout",
          "text": [
            "Nas minhas próximas férias quer ir viajar para o\n",
            "Nas minhas próximas férias quer ir viajar para o seu\n",
            "Nas minhas próximas férias quer ir viajar para o seu trabalho\n",
            "Nas minhas próximas férias quer ir viajar para o seu trabalho.\n",
            "Nas minhas próximas férias quer ir viajar para o seu trabalho. O\n",
            "Nas minhas próximas férias quer ir viajar para o seu trabalho. O que\n",
            "Nas minhas próximas férias quer ir viajar para o seu trabalho. O que é\n",
            "Nas minhas próximas férias quer ir viajar para o seu trabalho. O que é o\n",
            "Nas minhas próximas férias quer ir viajar para o seu trabalho. O que é o caso\n",
            "Nas minhas próximas férias quer ir viajar para o seu trabalho. O que é o caso de\n"
          ]
        }
      ]
    }
  ]
}