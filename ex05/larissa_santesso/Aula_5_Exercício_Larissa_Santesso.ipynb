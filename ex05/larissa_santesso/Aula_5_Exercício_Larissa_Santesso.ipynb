{
  "nbformat": 4,
  "nbformat_minor": 0,
  "metadata": {
    "anaconda-cloud": {},
    "kernelspec": {
      "display_name": "Python 3",
      "language": "python",
      "name": "python3"
    },
    "language_info": {
      "codemirror_mode": {
        "name": "ipython",
        "version": 3
      },
      "file_extension": ".py",
      "mimetype": "text/x-python",
      "name": "python",
      "nbconvert_exporter": "python",
      "pygments_lexer": "ipython3",
      "version": "3.6.5"
    },
    "toc": {
      "nav_menu": {
        "height": "318px",
        "width": "252px"
      },
      "number_sections": true,
      "sideBar": true,
      "skip_h1_title": false,
      "toc_cell": false,
      "toc_position": {},
      "toc_section_display": "block",
      "toc_window_display": false
    },
    "colab": {
      "name": "Aula 5 - Exercício - Larissa Santesso",
      "provenance": [],
      "collapsed_sections": [],
      "toc_visible": true,
      "include_colab_link": true
    },
    "widgets": {
      "application/vnd.jupyter.widget-state+json": {
        "f415f5cc61eb4008be496028c1ef251f": {
          "model_module": "@jupyter-widgets/controls",
          "model_name": "HBoxModel",
          "model_module_version": "1.5.0",
          "state": {
            "_dom_classes": [],
            "_model_module": "@jupyter-widgets/controls",
            "_model_module_version": "1.5.0",
            "_model_name": "HBoxModel",
            "_view_count": null,
            "_view_module": "@jupyter-widgets/controls",
            "_view_module_version": "1.5.0",
            "_view_name": "HBoxView",
            "box_style": "",
            "children": [
              "IPY_MODEL_da6468d8d331466aa998b0c585807f7a",
              "IPY_MODEL_ed72a43c848d424fa8d75e27ec28a1d7",
              "IPY_MODEL_b50bbde5ffd1456da9ba81c66a2f4817"
            ],
            "layout": "IPY_MODEL_8ff84746fe9c4b7297a0c647bced740b"
          }
        },
        "da6468d8d331466aa998b0c585807f7a": {
          "model_module": "@jupyter-widgets/controls",
          "model_name": "HTMLModel",
          "model_module_version": "1.5.0",
          "state": {
            "_dom_classes": [],
            "_model_module": "@jupyter-widgets/controls",
            "_model_module_version": "1.5.0",
            "_model_name": "HTMLModel",
            "_view_count": null,
            "_view_module": "@jupyter-widgets/controls",
            "_view_module_version": "1.5.0",
            "_view_name": "HTMLView",
            "description": "",
            "description_tooltip": null,
            "layout": "IPY_MODEL_1d8ea119a7e14700a1506167cbee5852",
            "placeholder": "​",
            "style": "IPY_MODEL_db63b5aec4d74206a238d59d3029faf0",
            "value": ""
          }
        },
        "ed72a43c848d424fa8d75e27ec28a1d7": {
          "model_module": "@jupyter-widgets/controls",
          "model_name": "FloatProgressModel",
          "model_module_version": "1.5.0",
          "state": {
            "_dom_classes": [],
            "_model_module": "@jupyter-widgets/controls",
            "_model_module_version": "1.5.0",
            "_model_name": "FloatProgressModel",
            "_view_count": null,
            "_view_module": "@jupyter-widgets/controls",
            "_view_module_version": "1.5.0",
            "_view_name": "ProgressView",
            "bar_style": "success",
            "description": "",
            "description_tooltip": null,
            "layout": "IPY_MODEL_a3d8ffb293f24ddd847d19b16a35b9ff",
            "max": 9912422,
            "min": 0,
            "orientation": "horizontal",
            "style": "IPY_MODEL_29fee3aa61a04c4ea5e3c45bdbafd9c6",
            "value": 9912422
          }
        },
        "b50bbde5ffd1456da9ba81c66a2f4817": {
          "model_module": "@jupyter-widgets/controls",
          "model_name": "HTMLModel",
          "model_module_version": "1.5.0",
          "state": {
            "_dom_classes": [],
            "_model_module": "@jupyter-widgets/controls",
            "_model_module_version": "1.5.0",
            "_model_name": "HTMLModel",
            "_view_count": null,
            "_view_module": "@jupyter-widgets/controls",
            "_view_module_version": "1.5.0",
            "_view_name": "HTMLView",
            "description": "",
            "description_tooltip": null,
            "layout": "IPY_MODEL_427bb1d178d74da2b4c6890ff564ed61",
            "placeholder": "​",
            "style": "IPY_MODEL_17207101847c4a638ab94f8a16da3ce1",
            "value": " 9913344/? [00:00&lt;00:00, 4968776.10it/s]"
          }
        },
        "8ff84746fe9c4b7297a0c647bced740b": {
          "model_module": "@jupyter-widgets/base",
          "model_name": "LayoutModel",
          "model_module_version": "1.2.0",
          "state": {
            "_model_module": "@jupyter-widgets/base",
            "_model_module_version": "1.2.0",
            "_model_name": "LayoutModel",
            "_view_count": null,
            "_view_module": "@jupyter-widgets/base",
            "_view_module_version": "1.2.0",
            "_view_name": "LayoutView",
            "align_content": null,
            "align_items": null,
            "align_self": null,
            "border": null,
            "bottom": null,
            "display": null,
            "flex": null,
            "flex_flow": null,
            "grid_area": null,
            "grid_auto_columns": null,
            "grid_auto_flow": null,
            "grid_auto_rows": null,
            "grid_column": null,
            "grid_gap": null,
            "grid_row": null,
            "grid_template_areas": null,
            "grid_template_columns": null,
            "grid_template_rows": null,
            "height": null,
            "justify_content": null,
            "justify_items": null,
            "left": null,
            "margin": null,
            "max_height": null,
            "max_width": null,
            "min_height": null,
            "min_width": null,
            "object_fit": null,
            "object_position": null,
            "order": null,
            "overflow": null,
            "overflow_x": null,
            "overflow_y": null,
            "padding": null,
            "right": null,
            "top": null,
            "visibility": null,
            "width": null
          }
        },
        "1d8ea119a7e14700a1506167cbee5852": {
          "model_module": "@jupyter-widgets/base",
          "model_name": "LayoutModel",
          "model_module_version": "1.2.0",
          "state": {
            "_model_module": "@jupyter-widgets/base",
            "_model_module_version": "1.2.0",
            "_model_name": "LayoutModel",
            "_view_count": null,
            "_view_module": "@jupyter-widgets/base",
            "_view_module_version": "1.2.0",
            "_view_name": "LayoutView",
            "align_content": null,
            "align_items": null,
            "align_self": null,
            "border": null,
            "bottom": null,
            "display": null,
            "flex": null,
            "flex_flow": null,
            "grid_area": null,
            "grid_auto_columns": null,
            "grid_auto_flow": null,
            "grid_auto_rows": null,
            "grid_column": null,
            "grid_gap": null,
            "grid_row": null,
            "grid_template_areas": null,
            "grid_template_columns": null,
            "grid_template_rows": null,
            "height": null,
            "justify_content": null,
            "justify_items": null,
            "left": null,
            "margin": null,
            "max_height": null,
            "max_width": null,
            "min_height": null,
            "min_width": null,
            "object_fit": null,
            "object_position": null,
            "order": null,
            "overflow": null,
            "overflow_x": null,
            "overflow_y": null,
            "padding": null,
            "right": null,
            "top": null,
            "visibility": null,
            "width": null
          }
        },
        "db63b5aec4d74206a238d59d3029faf0": {
          "model_module": "@jupyter-widgets/controls",
          "model_name": "DescriptionStyleModel",
          "model_module_version": "1.5.0",
          "state": {
            "_model_module": "@jupyter-widgets/controls",
            "_model_module_version": "1.5.0",
            "_model_name": "DescriptionStyleModel",
            "_view_count": null,
            "_view_module": "@jupyter-widgets/base",
            "_view_module_version": "1.2.0",
            "_view_name": "StyleView",
            "description_width": ""
          }
        },
        "a3d8ffb293f24ddd847d19b16a35b9ff": {
          "model_module": "@jupyter-widgets/base",
          "model_name": "LayoutModel",
          "model_module_version": "1.2.0",
          "state": {
            "_model_module": "@jupyter-widgets/base",
            "_model_module_version": "1.2.0",
            "_model_name": "LayoutModel",
            "_view_count": null,
            "_view_module": "@jupyter-widgets/base",
            "_view_module_version": "1.2.0",
            "_view_name": "LayoutView",
            "align_content": null,
            "align_items": null,
            "align_self": null,
            "border": null,
            "bottom": null,
            "display": null,
            "flex": null,
            "flex_flow": null,
            "grid_area": null,
            "grid_auto_columns": null,
            "grid_auto_flow": null,
            "grid_auto_rows": null,
            "grid_column": null,
            "grid_gap": null,
            "grid_row": null,
            "grid_template_areas": null,
            "grid_template_columns": null,
            "grid_template_rows": null,
            "height": null,
            "justify_content": null,
            "justify_items": null,
            "left": null,
            "margin": null,
            "max_height": null,
            "max_width": null,
            "min_height": null,
            "min_width": null,
            "object_fit": null,
            "object_position": null,
            "order": null,
            "overflow": null,
            "overflow_x": null,
            "overflow_y": null,
            "padding": null,
            "right": null,
            "top": null,
            "visibility": null,
            "width": null
          }
        },
        "29fee3aa61a04c4ea5e3c45bdbafd9c6": {
          "model_module": "@jupyter-widgets/controls",
          "model_name": "ProgressStyleModel",
          "model_module_version": "1.5.0",
          "state": {
            "_model_module": "@jupyter-widgets/controls",
            "_model_module_version": "1.5.0",
            "_model_name": "ProgressStyleModel",
            "_view_count": null,
            "_view_module": "@jupyter-widgets/base",
            "_view_module_version": "1.2.0",
            "_view_name": "StyleView",
            "bar_color": null,
            "description_width": ""
          }
        },
        "427bb1d178d74da2b4c6890ff564ed61": {
          "model_module": "@jupyter-widgets/base",
          "model_name": "LayoutModel",
          "model_module_version": "1.2.0",
          "state": {
            "_model_module": "@jupyter-widgets/base",
            "_model_module_version": "1.2.0",
            "_model_name": "LayoutModel",
            "_view_count": null,
            "_view_module": "@jupyter-widgets/base",
            "_view_module_version": "1.2.0",
            "_view_name": "LayoutView",
            "align_content": null,
            "align_items": null,
            "align_self": null,
            "border": null,
            "bottom": null,
            "display": null,
            "flex": null,
            "flex_flow": null,
            "grid_area": null,
            "grid_auto_columns": null,
            "grid_auto_flow": null,
            "grid_auto_rows": null,
            "grid_column": null,
            "grid_gap": null,
            "grid_row": null,
            "grid_template_areas": null,
            "grid_template_columns": null,
            "grid_template_rows": null,
            "height": null,
            "justify_content": null,
            "justify_items": null,
            "left": null,
            "margin": null,
            "max_height": null,
            "max_width": null,
            "min_height": null,
            "min_width": null,
            "object_fit": null,
            "object_position": null,
            "order": null,
            "overflow": null,
            "overflow_x": null,
            "overflow_y": null,
            "padding": null,
            "right": null,
            "top": null,
            "visibility": null,
            "width": null
          }
        },
        "17207101847c4a638ab94f8a16da3ce1": {
          "model_module": "@jupyter-widgets/controls",
          "model_name": "DescriptionStyleModel",
          "model_module_version": "1.5.0",
          "state": {
            "_model_module": "@jupyter-widgets/controls",
            "_model_module_version": "1.5.0",
            "_model_name": "DescriptionStyleModel",
            "_view_count": null,
            "_view_module": "@jupyter-widgets/base",
            "_view_module_version": "1.2.0",
            "_view_name": "StyleView",
            "description_width": ""
          }
        },
        "2eef048a780f469185d822407377990d": {
          "model_module": "@jupyter-widgets/controls",
          "model_name": "HBoxModel",
          "model_module_version": "1.5.0",
          "state": {
            "_dom_classes": [],
            "_model_module": "@jupyter-widgets/controls",
            "_model_module_version": "1.5.0",
            "_model_name": "HBoxModel",
            "_view_count": null,
            "_view_module": "@jupyter-widgets/controls",
            "_view_module_version": "1.5.0",
            "_view_name": "HBoxView",
            "box_style": "",
            "children": [
              "IPY_MODEL_6ba2a0f130b04f02b9d4ea0b68be84c8",
              "IPY_MODEL_d0f1ebf07e2d46058bbfc3cdcda642bb",
              "IPY_MODEL_26dd01d9467d4c90a750c7f9f240ce87"
            ],
            "layout": "IPY_MODEL_b3822d6db874452dbddfe36d613daded"
          }
        },
        "6ba2a0f130b04f02b9d4ea0b68be84c8": {
          "model_module": "@jupyter-widgets/controls",
          "model_name": "HTMLModel",
          "model_module_version": "1.5.0",
          "state": {
            "_dom_classes": [],
            "_model_module": "@jupyter-widgets/controls",
            "_model_module_version": "1.5.0",
            "_model_name": "HTMLModel",
            "_view_count": null,
            "_view_module": "@jupyter-widgets/controls",
            "_view_module_version": "1.5.0",
            "_view_name": "HTMLView",
            "description": "",
            "description_tooltip": null,
            "layout": "IPY_MODEL_83b9e4a01e0d4e90a11f85b36b01f1e9",
            "placeholder": "​",
            "style": "IPY_MODEL_5935f7d92c8c40f98d0a6b3e489551f0",
            "value": ""
          }
        },
        "d0f1ebf07e2d46058bbfc3cdcda642bb": {
          "model_module": "@jupyter-widgets/controls",
          "model_name": "FloatProgressModel",
          "model_module_version": "1.5.0",
          "state": {
            "_dom_classes": [],
            "_model_module": "@jupyter-widgets/controls",
            "_model_module_version": "1.5.0",
            "_model_name": "FloatProgressModel",
            "_view_count": null,
            "_view_module": "@jupyter-widgets/controls",
            "_view_module_version": "1.5.0",
            "_view_name": "ProgressView",
            "bar_style": "success",
            "description": "",
            "description_tooltip": null,
            "layout": "IPY_MODEL_c7b77e39350f42fbb85a4a0bb5388a7c",
            "max": 28881,
            "min": 0,
            "orientation": "horizontal",
            "style": "IPY_MODEL_0c9f3fac2fc443a48060dc409f152099",
            "value": 28881
          }
        },
        "26dd01d9467d4c90a750c7f9f240ce87": {
          "model_module": "@jupyter-widgets/controls",
          "model_name": "HTMLModel",
          "model_module_version": "1.5.0",
          "state": {
            "_dom_classes": [],
            "_model_module": "@jupyter-widgets/controls",
            "_model_module_version": "1.5.0",
            "_model_name": "HTMLModel",
            "_view_count": null,
            "_view_module": "@jupyter-widgets/controls",
            "_view_module_version": "1.5.0",
            "_view_name": "HTMLView",
            "description": "",
            "description_tooltip": null,
            "layout": "IPY_MODEL_e73e67d16aaa43fea074b1c9655b5482",
            "placeholder": "​",
            "style": "IPY_MODEL_8ef9df6aef134335a32e2a5c270a2300",
            "value": " 29696/? [00:00&lt;00:00, 796050.56it/s]"
          }
        },
        "b3822d6db874452dbddfe36d613daded": {
          "model_module": "@jupyter-widgets/base",
          "model_name": "LayoutModel",
          "model_module_version": "1.2.0",
          "state": {
            "_model_module": "@jupyter-widgets/base",
            "_model_module_version": "1.2.0",
            "_model_name": "LayoutModel",
            "_view_count": null,
            "_view_module": "@jupyter-widgets/base",
            "_view_module_version": "1.2.0",
            "_view_name": "LayoutView",
            "align_content": null,
            "align_items": null,
            "align_self": null,
            "border": null,
            "bottom": null,
            "display": null,
            "flex": null,
            "flex_flow": null,
            "grid_area": null,
            "grid_auto_columns": null,
            "grid_auto_flow": null,
            "grid_auto_rows": null,
            "grid_column": null,
            "grid_gap": null,
            "grid_row": null,
            "grid_template_areas": null,
            "grid_template_columns": null,
            "grid_template_rows": null,
            "height": null,
            "justify_content": null,
            "justify_items": null,
            "left": null,
            "margin": null,
            "max_height": null,
            "max_width": null,
            "min_height": null,
            "min_width": null,
            "object_fit": null,
            "object_position": null,
            "order": null,
            "overflow": null,
            "overflow_x": null,
            "overflow_y": null,
            "padding": null,
            "right": null,
            "top": null,
            "visibility": null,
            "width": null
          }
        },
        "83b9e4a01e0d4e90a11f85b36b01f1e9": {
          "model_module": "@jupyter-widgets/base",
          "model_name": "LayoutModel",
          "model_module_version": "1.2.0",
          "state": {
            "_model_module": "@jupyter-widgets/base",
            "_model_module_version": "1.2.0",
            "_model_name": "LayoutModel",
            "_view_count": null,
            "_view_module": "@jupyter-widgets/base",
            "_view_module_version": "1.2.0",
            "_view_name": "LayoutView",
            "align_content": null,
            "align_items": null,
            "align_self": null,
            "border": null,
            "bottom": null,
            "display": null,
            "flex": null,
            "flex_flow": null,
            "grid_area": null,
            "grid_auto_columns": null,
            "grid_auto_flow": null,
            "grid_auto_rows": null,
            "grid_column": null,
            "grid_gap": null,
            "grid_row": null,
            "grid_template_areas": null,
            "grid_template_columns": null,
            "grid_template_rows": null,
            "height": null,
            "justify_content": null,
            "justify_items": null,
            "left": null,
            "margin": null,
            "max_height": null,
            "max_width": null,
            "min_height": null,
            "min_width": null,
            "object_fit": null,
            "object_position": null,
            "order": null,
            "overflow": null,
            "overflow_x": null,
            "overflow_y": null,
            "padding": null,
            "right": null,
            "top": null,
            "visibility": null,
            "width": null
          }
        },
        "5935f7d92c8c40f98d0a6b3e489551f0": {
          "model_module": "@jupyter-widgets/controls",
          "model_name": "DescriptionStyleModel",
          "model_module_version": "1.5.0",
          "state": {
            "_model_module": "@jupyter-widgets/controls",
            "_model_module_version": "1.5.0",
            "_model_name": "DescriptionStyleModel",
            "_view_count": null,
            "_view_module": "@jupyter-widgets/base",
            "_view_module_version": "1.2.0",
            "_view_name": "StyleView",
            "description_width": ""
          }
        },
        "c7b77e39350f42fbb85a4a0bb5388a7c": {
          "model_module": "@jupyter-widgets/base",
          "model_name": "LayoutModel",
          "model_module_version": "1.2.0",
          "state": {
            "_model_module": "@jupyter-widgets/base",
            "_model_module_version": "1.2.0",
            "_model_name": "LayoutModel",
            "_view_count": null,
            "_view_module": "@jupyter-widgets/base",
            "_view_module_version": "1.2.0",
            "_view_name": "LayoutView",
            "align_content": null,
            "align_items": null,
            "align_self": null,
            "border": null,
            "bottom": null,
            "display": null,
            "flex": null,
            "flex_flow": null,
            "grid_area": null,
            "grid_auto_columns": null,
            "grid_auto_flow": null,
            "grid_auto_rows": null,
            "grid_column": null,
            "grid_gap": null,
            "grid_row": null,
            "grid_template_areas": null,
            "grid_template_columns": null,
            "grid_template_rows": null,
            "height": null,
            "justify_content": null,
            "justify_items": null,
            "left": null,
            "margin": null,
            "max_height": null,
            "max_width": null,
            "min_height": null,
            "min_width": null,
            "object_fit": null,
            "object_position": null,
            "order": null,
            "overflow": null,
            "overflow_x": null,
            "overflow_y": null,
            "padding": null,
            "right": null,
            "top": null,
            "visibility": null,
            "width": null
          }
        },
        "0c9f3fac2fc443a48060dc409f152099": {
          "model_module": "@jupyter-widgets/controls",
          "model_name": "ProgressStyleModel",
          "model_module_version": "1.5.0",
          "state": {
            "_model_module": "@jupyter-widgets/controls",
            "_model_module_version": "1.5.0",
            "_model_name": "ProgressStyleModel",
            "_view_count": null,
            "_view_module": "@jupyter-widgets/base",
            "_view_module_version": "1.2.0",
            "_view_name": "StyleView",
            "bar_color": null,
            "description_width": ""
          }
        },
        "e73e67d16aaa43fea074b1c9655b5482": {
          "model_module": "@jupyter-widgets/base",
          "model_name": "LayoutModel",
          "model_module_version": "1.2.0",
          "state": {
            "_model_module": "@jupyter-widgets/base",
            "_model_module_version": "1.2.0",
            "_model_name": "LayoutModel",
            "_view_count": null,
            "_view_module": "@jupyter-widgets/base",
            "_view_module_version": "1.2.0",
            "_view_name": "LayoutView",
            "align_content": null,
            "align_items": null,
            "align_self": null,
            "border": null,
            "bottom": null,
            "display": null,
            "flex": null,
            "flex_flow": null,
            "grid_area": null,
            "grid_auto_columns": null,
            "grid_auto_flow": null,
            "grid_auto_rows": null,
            "grid_column": null,
            "grid_gap": null,
            "grid_row": null,
            "grid_template_areas": null,
            "grid_template_columns": null,
            "grid_template_rows": null,
            "height": null,
            "justify_content": null,
            "justify_items": null,
            "left": null,
            "margin": null,
            "max_height": null,
            "max_width": null,
            "min_height": null,
            "min_width": null,
            "object_fit": null,
            "object_position": null,
            "order": null,
            "overflow": null,
            "overflow_x": null,
            "overflow_y": null,
            "padding": null,
            "right": null,
            "top": null,
            "visibility": null,
            "width": null
          }
        },
        "8ef9df6aef134335a32e2a5c270a2300": {
          "model_module": "@jupyter-widgets/controls",
          "model_name": "DescriptionStyleModel",
          "model_module_version": "1.5.0",
          "state": {
            "_model_module": "@jupyter-widgets/controls",
            "_model_module_version": "1.5.0",
            "_model_name": "DescriptionStyleModel",
            "_view_count": null,
            "_view_module": "@jupyter-widgets/base",
            "_view_module_version": "1.2.0",
            "_view_name": "StyleView",
            "description_width": ""
          }
        },
        "414fa9d4222842069dd6383b60676cbd": {
          "model_module": "@jupyter-widgets/controls",
          "model_name": "HBoxModel",
          "model_module_version": "1.5.0",
          "state": {
            "_dom_classes": [],
            "_model_module": "@jupyter-widgets/controls",
            "_model_module_version": "1.5.0",
            "_model_name": "HBoxModel",
            "_view_count": null,
            "_view_module": "@jupyter-widgets/controls",
            "_view_module_version": "1.5.0",
            "_view_name": "HBoxView",
            "box_style": "",
            "children": [
              "IPY_MODEL_cc72ed9ad34f40f9af5848e64838bc26",
              "IPY_MODEL_456731a5e7154e1eb2332c679b972427",
              "IPY_MODEL_f36ecccf9584428e949303d4fece0b47"
            ],
            "layout": "IPY_MODEL_b6df57f1a30d4c7898113f87ea6ba41c"
          }
        },
        "cc72ed9ad34f40f9af5848e64838bc26": {
          "model_module": "@jupyter-widgets/controls",
          "model_name": "HTMLModel",
          "model_module_version": "1.5.0",
          "state": {
            "_dom_classes": [],
            "_model_module": "@jupyter-widgets/controls",
            "_model_module_version": "1.5.0",
            "_model_name": "HTMLModel",
            "_view_count": null,
            "_view_module": "@jupyter-widgets/controls",
            "_view_module_version": "1.5.0",
            "_view_name": "HTMLView",
            "description": "",
            "description_tooltip": null,
            "layout": "IPY_MODEL_21e1ccb5a77845eeafde56ceb676925d",
            "placeholder": "​",
            "style": "IPY_MODEL_f8464984690c4d5ebe33c3194a3e9ae6",
            "value": ""
          }
        },
        "456731a5e7154e1eb2332c679b972427": {
          "model_module": "@jupyter-widgets/controls",
          "model_name": "FloatProgressModel",
          "model_module_version": "1.5.0",
          "state": {
            "_dom_classes": [],
            "_model_module": "@jupyter-widgets/controls",
            "_model_module_version": "1.5.0",
            "_model_name": "FloatProgressModel",
            "_view_count": null,
            "_view_module": "@jupyter-widgets/controls",
            "_view_module_version": "1.5.0",
            "_view_name": "ProgressView",
            "bar_style": "success",
            "description": "",
            "description_tooltip": null,
            "layout": "IPY_MODEL_5c05c934082947a3b41ddc2b522bf37e",
            "max": 1648877,
            "min": 0,
            "orientation": "horizontal",
            "style": "IPY_MODEL_c1746f49321547abac44fcd70ace246b",
            "value": 1648877
          }
        },
        "f36ecccf9584428e949303d4fece0b47": {
          "model_module": "@jupyter-widgets/controls",
          "model_name": "HTMLModel",
          "model_module_version": "1.5.0",
          "state": {
            "_dom_classes": [],
            "_model_module": "@jupyter-widgets/controls",
            "_model_module_version": "1.5.0",
            "_model_name": "HTMLModel",
            "_view_count": null,
            "_view_module": "@jupyter-widgets/controls",
            "_view_module_version": "1.5.0",
            "_view_name": "HTMLView",
            "description": "",
            "description_tooltip": null,
            "layout": "IPY_MODEL_8e5e05f8ad5e4769bf306c8e5a4b88a4",
            "placeholder": "​",
            "style": "IPY_MODEL_7faae49362354f8999d42a76fdd0d798",
            "value": " 1649664/? [00:00&lt;00:00, 3816411.77it/s]"
          }
        },
        "b6df57f1a30d4c7898113f87ea6ba41c": {
          "model_module": "@jupyter-widgets/base",
          "model_name": "LayoutModel",
          "model_module_version": "1.2.0",
          "state": {
            "_model_module": "@jupyter-widgets/base",
            "_model_module_version": "1.2.0",
            "_model_name": "LayoutModel",
            "_view_count": null,
            "_view_module": "@jupyter-widgets/base",
            "_view_module_version": "1.2.0",
            "_view_name": "LayoutView",
            "align_content": null,
            "align_items": null,
            "align_self": null,
            "border": null,
            "bottom": null,
            "display": null,
            "flex": null,
            "flex_flow": null,
            "grid_area": null,
            "grid_auto_columns": null,
            "grid_auto_flow": null,
            "grid_auto_rows": null,
            "grid_column": null,
            "grid_gap": null,
            "grid_row": null,
            "grid_template_areas": null,
            "grid_template_columns": null,
            "grid_template_rows": null,
            "height": null,
            "justify_content": null,
            "justify_items": null,
            "left": null,
            "margin": null,
            "max_height": null,
            "max_width": null,
            "min_height": null,
            "min_width": null,
            "object_fit": null,
            "object_position": null,
            "order": null,
            "overflow": null,
            "overflow_x": null,
            "overflow_y": null,
            "padding": null,
            "right": null,
            "top": null,
            "visibility": null,
            "width": null
          }
        },
        "21e1ccb5a77845eeafde56ceb676925d": {
          "model_module": "@jupyter-widgets/base",
          "model_name": "LayoutModel",
          "model_module_version": "1.2.0",
          "state": {
            "_model_module": "@jupyter-widgets/base",
            "_model_module_version": "1.2.0",
            "_model_name": "LayoutModel",
            "_view_count": null,
            "_view_module": "@jupyter-widgets/base",
            "_view_module_version": "1.2.0",
            "_view_name": "LayoutView",
            "align_content": null,
            "align_items": null,
            "align_self": null,
            "border": null,
            "bottom": null,
            "display": null,
            "flex": null,
            "flex_flow": null,
            "grid_area": null,
            "grid_auto_columns": null,
            "grid_auto_flow": null,
            "grid_auto_rows": null,
            "grid_column": null,
            "grid_gap": null,
            "grid_row": null,
            "grid_template_areas": null,
            "grid_template_columns": null,
            "grid_template_rows": null,
            "height": null,
            "justify_content": null,
            "justify_items": null,
            "left": null,
            "margin": null,
            "max_height": null,
            "max_width": null,
            "min_height": null,
            "min_width": null,
            "object_fit": null,
            "object_position": null,
            "order": null,
            "overflow": null,
            "overflow_x": null,
            "overflow_y": null,
            "padding": null,
            "right": null,
            "top": null,
            "visibility": null,
            "width": null
          }
        },
        "f8464984690c4d5ebe33c3194a3e9ae6": {
          "model_module": "@jupyter-widgets/controls",
          "model_name": "DescriptionStyleModel",
          "model_module_version": "1.5.0",
          "state": {
            "_model_module": "@jupyter-widgets/controls",
            "_model_module_version": "1.5.0",
            "_model_name": "DescriptionStyleModel",
            "_view_count": null,
            "_view_module": "@jupyter-widgets/base",
            "_view_module_version": "1.2.0",
            "_view_name": "StyleView",
            "description_width": ""
          }
        },
        "5c05c934082947a3b41ddc2b522bf37e": {
          "model_module": "@jupyter-widgets/base",
          "model_name": "LayoutModel",
          "model_module_version": "1.2.0",
          "state": {
            "_model_module": "@jupyter-widgets/base",
            "_model_module_version": "1.2.0",
            "_model_name": "LayoutModel",
            "_view_count": null,
            "_view_module": "@jupyter-widgets/base",
            "_view_module_version": "1.2.0",
            "_view_name": "LayoutView",
            "align_content": null,
            "align_items": null,
            "align_self": null,
            "border": null,
            "bottom": null,
            "display": null,
            "flex": null,
            "flex_flow": null,
            "grid_area": null,
            "grid_auto_columns": null,
            "grid_auto_flow": null,
            "grid_auto_rows": null,
            "grid_column": null,
            "grid_gap": null,
            "grid_row": null,
            "grid_template_areas": null,
            "grid_template_columns": null,
            "grid_template_rows": null,
            "height": null,
            "justify_content": null,
            "justify_items": null,
            "left": null,
            "margin": null,
            "max_height": null,
            "max_width": null,
            "min_height": null,
            "min_width": null,
            "object_fit": null,
            "object_position": null,
            "order": null,
            "overflow": null,
            "overflow_x": null,
            "overflow_y": null,
            "padding": null,
            "right": null,
            "top": null,
            "visibility": null,
            "width": null
          }
        },
        "c1746f49321547abac44fcd70ace246b": {
          "model_module": "@jupyter-widgets/controls",
          "model_name": "ProgressStyleModel",
          "model_module_version": "1.5.0",
          "state": {
            "_model_module": "@jupyter-widgets/controls",
            "_model_module_version": "1.5.0",
            "_model_name": "ProgressStyleModel",
            "_view_count": null,
            "_view_module": "@jupyter-widgets/base",
            "_view_module_version": "1.2.0",
            "_view_name": "StyleView",
            "bar_color": null,
            "description_width": ""
          }
        },
        "8e5e05f8ad5e4769bf306c8e5a4b88a4": {
          "model_module": "@jupyter-widgets/base",
          "model_name": "LayoutModel",
          "model_module_version": "1.2.0",
          "state": {
            "_model_module": "@jupyter-widgets/base",
            "_model_module_version": "1.2.0",
            "_model_name": "LayoutModel",
            "_view_count": null,
            "_view_module": "@jupyter-widgets/base",
            "_view_module_version": "1.2.0",
            "_view_name": "LayoutView",
            "align_content": null,
            "align_items": null,
            "align_self": null,
            "border": null,
            "bottom": null,
            "display": null,
            "flex": null,
            "flex_flow": null,
            "grid_area": null,
            "grid_auto_columns": null,
            "grid_auto_flow": null,
            "grid_auto_rows": null,
            "grid_column": null,
            "grid_gap": null,
            "grid_row": null,
            "grid_template_areas": null,
            "grid_template_columns": null,
            "grid_template_rows": null,
            "height": null,
            "justify_content": null,
            "justify_items": null,
            "left": null,
            "margin": null,
            "max_height": null,
            "max_width": null,
            "min_height": null,
            "min_width": null,
            "object_fit": null,
            "object_position": null,
            "order": null,
            "overflow": null,
            "overflow_x": null,
            "overflow_y": null,
            "padding": null,
            "right": null,
            "top": null,
            "visibility": null,
            "width": null
          }
        },
        "7faae49362354f8999d42a76fdd0d798": {
          "model_module": "@jupyter-widgets/controls",
          "model_name": "DescriptionStyleModel",
          "model_module_version": "1.5.0",
          "state": {
            "_model_module": "@jupyter-widgets/controls",
            "_model_module_version": "1.5.0",
            "_model_name": "DescriptionStyleModel",
            "_view_count": null,
            "_view_module": "@jupyter-widgets/base",
            "_view_module_version": "1.2.0",
            "_view_name": "StyleView",
            "description_width": ""
          }
        },
        "00d11d9dfe374f8eafbd5ab084cbdcb2": {
          "model_module": "@jupyter-widgets/controls",
          "model_name": "HBoxModel",
          "model_module_version": "1.5.0",
          "state": {
            "_dom_classes": [],
            "_model_module": "@jupyter-widgets/controls",
            "_model_module_version": "1.5.0",
            "_model_name": "HBoxModel",
            "_view_count": null,
            "_view_module": "@jupyter-widgets/controls",
            "_view_module_version": "1.5.0",
            "_view_name": "HBoxView",
            "box_style": "",
            "children": [
              "IPY_MODEL_8679b3963a2a4bc199fedcf9223fabf1",
              "IPY_MODEL_0dcaebd93ebc40b7b1b1c057491373b1",
              "IPY_MODEL_af7321f6dbc642dc9b31832efd502c25"
            ],
            "layout": "IPY_MODEL_0938baf11e9344b8a4dc21a24fa0c213"
          }
        },
        "8679b3963a2a4bc199fedcf9223fabf1": {
          "model_module": "@jupyter-widgets/controls",
          "model_name": "HTMLModel",
          "model_module_version": "1.5.0",
          "state": {
            "_dom_classes": [],
            "_model_module": "@jupyter-widgets/controls",
            "_model_module_version": "1.5.0",
            "_model_name": "HTMLModel",
            "_view_count": null,
            "_view_module": "@jupyter-widgets/controls",
            "_view_module_version": "1.5.0",
            "_view_name": "HTMLView",
            "description": "",
            "description_tooltip": null,
            "layout": "IPY_MODEL_920deb299d264caab32b72e395e4bf96",
            "placeholder": "​",
            "style": "IPY_MODEL_6621185ece1f4287afe108fd50f00ae3",
            "value": ""
          }
        },
        "0dcaebd93ebc40b7b1b1c057491373b1": {
          "model_module": "@jupyter-widgets/controls",
          "model_name": "FloatProgressModel",
          "model_module_version": "1.5.0",
          "state": {
            "_dom_classes": [],
            "_model_module": "@jupyter-widgets/controls",
            "_model_module_version": "1.5.0",
            "_model_name": "FloatProgressModel",
            "_view_count": null,
            "_view_module": "@jupyter-widgets/controls",
            "_view_module_version": "1.5.0",
            "_view_name": "ProgressView",
            "bar_style": "success",
            "description": "",
            "description_tooltip": null,
            "layout": "IPY_MODEL_559ced3285bc43839f50bf07d983187d",
            "max": 4542,
            "min": 0,
            "orientation": "horizontal",
            "style": "IPY_MODEL_bd59835f8d7446b482c34147a6fa705a",
            "value": 4542
          }
        },
        "af7321f6dbc642dc9b31832efd502c25": {
          "model_module": "@jupyter-widgets/controls",
          "model_name": "HTMLModel",
          "model_module_version": "1.5.0",
          "state": {
            "_dom_classes": [],
            "_model_module": "@jupyter-widgets/controls",
            "_model_module_version": "1.5.0",
            "_model_name": "HTMLModel",
            "_view_count": null,
            "_view_module": "@jupyter-widgets/controls",
            "_view_module_version": "1.5.0",
            "_view_name": "HTMLView",
            "description": "",
            "description_tooltip": null,
            "layout": "IPY_MODEL_da239f5030ef45f485c6c72a9c7fbc0e",
            "placeholder": "​",
            "style": "IPY_MODEL_6d0775128745497e82045f47debffed0",
            "value": " 5120/? [00:00&lt;00:00, 107367.74it/s]"
          }
        },
        "0938baf11e9344b8a4dc21a24fa0c213": {
          "model_module": "@jupyter-widgets/base",
          "model_name": "LayoutModel",
          "model_module_version": "1.2.0",
          "state": {
            "_model_module": "@jupyter-widgets/base",
            "_model_module_version": "1.2.0",
            "_model_name": "LayoutModel",
            "_view_count": null,
            "_view_module": "@jupyter-widgets/base",
            "_view_module_version": "1.2.0",
            "_view_name": "LayoutView",
            "align_content": null,
            "align_items": null,
            "align_self": null,
            "border": null,
            "bottom": null,
            "display": null,
            "flex": null,
            "flex_flow": null,
            "grid_area": null,
            "grid_auto_columns": null,
            "grid_auto_flow": null,
            "grid_auto_rows": null,
            "grid_column": null,
            "grid_gap": null,
            "grid_row": null,
            "grid_template_areas": null,
            "grid_template_columns": null,
            "grid_template_rows": null,
            "height": null,
            "justify_content": null,
            "justify_items": null,
            "left": null,
            "margin": null,
            "max_height": null,
            "max_width": null,
            "min_height": null,
            "min_width": null,
            "object_fit": null,
            "object_position": null,
            "order": null,
            "overflow": null,
            "overflow_x": null,
            "overflow_y": null,
            "padding": null,
            "right": null,
            "top": null,
            "visibility": null,
            "width": null
          }
        },
        "920deb299d264caab32b72e395e4bf96": {
          "model_module": "@jupyter-widgets/base",
          "model_name": "LayoutModel",
          "model_module_version": "1.2.0",
          "state": {
            "_model_module": "@jupyter-widgets/base",
            "_model_module_version": "1.2.0",
            "_model_name": "LayoutModel",
            "_view_count": null,
            "_view_module": "@jupyter-widgets/base",
            "_view_module_version": "1.2.0",
            "_view_name": "LayoutView",
            "align_content": null,
            "align_items": null,
            "align_self": null,
            "border": null,
            "bottom": null,
            "display": null,
            "flex": null,
            "flex_flow": null,
            "grid_area": null,
            "grid_auto_columns": null,
            "grid_auto_flow": null,
            "grid_auto_rows": null,
            "grid_column": null,
            "grid_gap": null,
            "grid_row": null,
            "grid_template_areas": null,
            "grid_template_columns": null,
            "grid_template_rows": null,
            "height": null,
            "justify_content": null,
            "justify_items": null,
            "left": null,
            "margin": null,
            "max_height": null,
            "max_width": null,
            "min_height": null,
            "min_width": null,
            "object_fit": null,
            "object_position": null,
            "order": null,
            "overflow": null,
            "overflow_x": null,
            "overflow_y": null,
            "padding": null,
            "right": null,
            "top": null,
            "visibility": null,
            "width": null
          }
        },
        "6621185ece1f4287afe108fd50f00ae3": {
          "model_module": "@jupyter-widgets/controls",
          "model_name": "DescriptionStyleModel",
          "model_module_version": "1.5.0",
          "state": {
            "_model_module": "@jupyter-widgets/controls",
            "_model_module_version": "1.5.0",
            "_model_name": "DescriptionStyleModel",
            "_view_count": null,
            "_view_module": "@jupyter-widgets/base",
            "_view_module_version": "1.2.0",
            "_view_name": "StyleView",
            "description_width": ""
          }
        },
        "559ced3285bc43839f50bf07d983187d": {
          "model_module": "@jupyter-widgets/base",
          "model_name": "LayoutModel",
          "model_module_version": "1.2.0",
          "state": {
            "_model_module": "@jupyter-widgets/base",
            "_model_module_version": "1.2.0",
            "_model_name": "LayoutModel",
            "_view_count": null,
            "_view_module": "@jupyter-widgets/base",
            "_view_module_version": "1.2.0",
            "_view_name": "LayoutView",
            "align_content": null,
            "align_items": null,
            "align_self": null,
            "border": null,
            "bottom": null,
            "display": null,
            "flex": null,
            "flex_flow": null,
            "grid_area": null,
            "grid_auto_columns": null,
            "grid_auto_flow": null,
            "grid_auto_rows": null,
            "grid_column": null,
            "grid_gap": null,
            "grid_row": null,
            "grid_template_areas": null,
            "grid_template_columns": null,
            "grid_template_rows": null,
            "height": null,
            "justify_content": null,
            "justify_items": null,
            "left": null,
            "margin": null,
            "max_height": null,
            "max_width": null,
            "min_height": null,
            "min_width": null,
            "object_fit": null,
            "object_position": null,
            "order": null,
            "overflow": null,
            "overflow_x": null,
            "overflow_y": null,
            "padding": null,
            "right": null,
            "top": null,
            "visibility": null,
            "width": null
          }
        },
        "bd59835f8d7446b482c34147a6fa705a": {
          "model_module": "@jupyter-widgets/controls",
          "model_name": "ProgressStyleModel",
          "model_module_version": "1.5.0",
          "state": {
            "_model_module": "@jupyter-widgets/controls",
            "_model_module_version": "1.5.0",
            "_model_name": "ProgressStyleModel",
            "_view_count": null,
            "_view_module": "@jupyter-widgets/base",
            "_view_module_version": "1.2.0",
            "_view_name": "StyleView",
            "bar_color": null,
            "description_width": ""
          }
        },
        "da239f5030ef45f485c6c72a9c7fbc0e": {
          "model_module": "@jupyter-widgets/base",
          "model_name": "LayoutModel",
          "model_module_version": "1.2.0",
          "state": {
            "_model_module": "@jupyter-widgets/base",
            "_model_module_version": "1.2.0",
            "_model_name": "LayoutModel",
            "_view_count": null,
            "_view_module": "@jupyter-widgets/base",
            "_view_module_version": "1.2.0",
            "_view_name": "LayoutView",
            "align_content": null,
            "align_items": null,
            "align_self": null,
            "border": null,
            "bottom": null,
            "display": null,
            "flex": null,
            "flex_flow": null,
            "grid_area": null,
            "grid_auto_columns": null,
            "grid_auto_flow": null,
            "grid_auto_rows": null,
            "grid_column": null,
            "grid_gap": null,
            "grid_row": null,
            "grid_template_areas": null,
            "grid_template_columns": null,
            "grid_template_rows": null,
            "height": null,
            "justify_content": null,
            "justify_items": null,
            "left": null,
            "margin": null,
            "max_height": null,
            "max_width": null,
            "min_height": null,
            "min_width": null,
            "object_fit": null,
            "object_position": null,
            "order": null,
            "overflow": null,
            "overflow_x": null,
            "overflow_y": null,
            "padding": null,
            "right": null,
            "top": null,
            "visibility": null,
            "width": null
          }
        },
        "6d0775128745497e82045f47debffed0": {
          "model_module": "@jupyter-widgets/controls",
          "model_name": "DescriptionStyleModel",
          "model_module_version": "1.5.0",
          "state": {
            "_model_module": "@jupyter-widgets/controls",
            "_model_module_version": "1.5.0",
            "_model_name": "DescriptionStyleModel",
            "_view_count": null,
            "_view_module": "@jupyter-widgets/base",
            "_view_module_version": "1.2.0",
            "_view_name": "StyleView",
            "description_width": ""
          }
        }
      }
    }
  },
  "cells": [
    {
      "cell_type": "markdown",
      "metadata": {
        "id": "view-in-github",
        "colab_type": "text"
      },
      "source": [
        "<a href=\"https://colab.research.google.com/github/unicamp-dl/IA025_2022S1/blob/main/ex05/larissa_santesso/Aula_5_Exerc%C3%ADcio_Larissa_Santesso.ipynb\" target=\"_parent\"><img src=\"https://colab.research.google.com/assets/colab-badge.svg\" alt=\"Open In Colab\"/></a>"
      ]
    },
    {
      "cell_type": "code",
      "source": [
        "nome = \"Larissa Antonelli Santesso\"\n",
        "\n",
        "print(f'Meu nome é {nome}')"
      ],
      "metadata": {
        "id": "CdORg7oe68oq",
        "colab": {
          "base_uri": "https://localhost:8080/"
        },
        "outputId": "362ea9e0-6615-4fba-a0b1-e33ecdf0a18c"
      },
      "execution_count": 1,
      "outputs": [
        {
          "output_type": "stream",
          "name": "stdout",
          "text": [
            "Meu nome é Larissa Antonelli Santesso\n"
          ]
        }
      ]
    },
    {
      "cell_type": "markdown",
      "metadata": {
        "id": "WkfGTqMVQT1u"
      },
      "source": [
        "Este exercicío consiste em treinar no MNIST um modelo de duas camadas, sendo a primeira uma camada convolucional e a segunda uma camada linear de classificação.\n",
        "\n",
        "Não podemos usar as funções torch.nn.Conv{1,2,3}d"
      ]
    },
    {
      "cell_type": "markdown",
      "metadata": {
        "id": "wFNf4RPxQT1w"
      },
      "source": [
        "## Importação das bibliotecas"
      ]
    },
    {
      "cell_type": "code",
      "metadata": {
        "ExecuteTime": {
          "end_time": "2018-08-21T14:08:14.033692Z",
          "start_time": "2018-08-21T14:08:11.179981Z"
        },
        "id": "-fLUSHaCQT1x"
      },
      "source": [
        "%matplotlib inline\n",
        "import numpy as np\n",
        "import matplotlib.pyplot as plt\n",
        "import random\n",
        "import torch\n",
        "import torchvision\n",
        "from torchvision.datasets import MNIST"
      ],
      "execution_count": 2,
      "outputs": []
    },
    {
      "cell_type": "markdown",
      "source": [
        "## Fixando as seeds"
      ],
      "metadata": {
        "id": "7_Po22b5ykhK"
      }
    },
    {
      "cell_type": "code",
      "source": [
        "random.seed(123)\n",
        "np.random.seed(123)\n",
        "torch.manual_seed(123)"
      ],
      "metadata": {
        "id": "y-7WWWgLyoRq",
        "colab": {
          "base_uri": "https://localhost:8080/"
        },
        "outputId": "b84858f7-d339-419b-cffa-0a4e636fe3df"
      },
      "execution_count": 3,
      "outputs": [
        {
          "output_type": "execute_result",
          "data": {
            "text/plain": [
              "<torch._C.Generator at 0x7f8b9deb9310>"
            ]
          },
          "metadata": {},
          "execution_count": 3
        }
      ]
    },
    {
      "cell_type": "markdown",
      "source": [
        "## Define pesos iniciais"
      ],
      "metadata": {
        "id": "fzurMVpHxcNG"
      }
    },
    {
      "cell_type": "code",
      "source": [
        "in_channels = 1\n",
        "out_channels = 2\n",
        "kernel_size = 5\n",
        "stride = 3\n",
        "\n",
        "# Input image size\n",
        "height_in = 28  \n",
        "width_in = 28\n",
        "\n",
        "# Image size after the first convolutional layer.\n",
        "height_out = (height_in - kernel_size) // stride + 1\n",
        "width_out = (width_in - kernel_size) // stride + 1\n",
        "\n",
        "initial_conv_weight = torch.FloatTensor(out_channels, in_channels, kernel_size, kernel_size).uniform_(-0.01, 0.01)\n",
        "initial_conv_bias = torch.FloatTensor(out_channels,).uniform_(-0.01, 0.01)\n",
        "\n",
        "initial_classification_weight = torch.FloatTensor(10, out_channels * height_out * width_out).uniform_(-0.01, 0.01)\n",
        "initial_classification_bias = torch.FloatTensor(10,).uniform_(-0.01, 0.01)"
      ],
      "metadata": {
        "id": "9a6jQJLLlfF3"
      },
      "execution_count": 4,
      "outputs": []
    },
    {
      "cell_type": "markdown",
      "metadata": {
        "id": "jEMUsfJpQT11"
      },
      "source": [
        "## Dataset e dataloader"
      ]
    },
    {
      "cell_type": "markdown",
      "metadata": {
        "id": "vHoQjDs_QT12"
      },
      "source": [
        "### Definição do tamanho do minibatch"
      ]
    },
    {
      "cell_type": "code",
      "metadata": {
        "ExecuteTime": {
          "end_time": "2018-08-21T14:08:20.282474Z",
          "start_time": "2018-08-21T14:08:20.275450Z"
        },
        "id": "tEQYUr4TQT13"
      },
      "source": [
        "batch_size = 50"
      ],
      "execution_count": 5,
      "outputs": []
    },
    {
      "cell_type": "markdown",
      "metadata": {
        "id": "dc7Rv_2BQT16"
      },
      "source": [
        "### Carregamento, criação dataset e do dataloader"
      ]
    },
    {
      "cell_type": "code",
      "metadata": {
        "ExecuteTime": {
          "end_time": "2018-08-21T14:10:45.430605Z",
          "start_time": "2018-08-21T14:10:04.953051Z"
        },
        "id": "G0dEKCn-QT17",
        "colab": {
          "base_uri": "https://localhost:8080/",
          "height": 458,
          "referenced_widgets": [
            "f415f5cc61eb4008be496028c1ef251f",
            "da6468d8d331466aa998b0c585807f7a",
            "ed72a43c848d424fa8d75e27ec28a1d7",
            "b50bbde5ffd1456da9ba81c66a2f4817",
            "8ff84746fe9c4b7297a0c647bced740b",
            "1d8ea119a7e14700a1506167cbee5852",
            "db63b5aec4d74206a238d59d3029faf0",
            "a3d8ffb293f24ddd847d19b16a35b9ff",
            "29fee3aa61a04c4ea5e3c45bdbafd9c6",
            "427bb1d178d74da2b4c6890ff564ed61",
            "17207101847c4a638ab94f8a16da3ce1",
            "2eef048a780f469185d822407377990d",
            "6ba2a0f130b04f02b9d4ea0b68be84c8",
            "d0f1ebf07e2d46058bbfc3cdcda642bb",
            "26dd01d9467d4c90a750c7f9f240ce87",
            "b3822d6db874452dbddfe36d613daded",
            "83b9e4a01e0d4e90a11f85b36b01f1e9",
            "5935f7d92c8c40f98d0a6b3e489551f0",
            "c7b77e39350f42fbb85a4a0bb5388a7c",
            "0c9f3fac2fc443a48060dc409f152099",
            "e73e67d16aaa43fea074b1c9655b5482",
            "8ef9df6aef134335a32e2a5c270a2300",
            "414fa9d4222842069dd6383b60676cbd",
            "cc72ed9ad34f40f9af5848e64838bc26",
            "456731a5e7154e1eb2332c679b972427",
            "f36ecccf9584428e949303d4fece0b47",
            "b6df57f1a30d4c7898113f87ea6ba41c",
            "21e1ccb5a77845eeafde56ceb676925d",
            "f8464984690c4d5ebe33c3194a3e9ae6",
            "5c05c934082947a3b41ddc2b522bf37e",
            "c1746f49321547abac44fcd70ace246b",
            "8e5e05f8ad5e4769bf306c8e5a4b88a4",
            "7faae49362354f8999d42a76fdd0d798",
            "00d11d9dfe374f8eafbd5ab084cbdcb2",
            "8679b3963a2a4bc199fedcf9223fabf1",
            "0dcaebd93ebc40b7b1b1c057491373b1",
            "af7321f6dbc642dc9b31832efd502c25",
            "0938baf11e9344b8a4dc21a24fa0c213",
            "920deb299d264caab32b72e395e4bf96",
            "6621185ece1f4287afe108fd50f00ae3",
            "559ced3285bc43839f50bf07d983187d",
            "bd59835f8d7446b482c34147a6fa705a",
            "da239f5030ef45f485c6c72a9c7fbc0e",
            "6d0775128745497e82045f47debffed0"
          ]
        },
        "outputId": "2c6e2396-d5c9-42e6-c8b9-d983891f4b65"
      },
      "source": [
        "dataset_dir = '../data/'\n",
        "\n",
        "dataset_train_full = MNIST(dataset_dir, train=True, download=True,\n",
        "                           transform=torchvision.transforms.ToTensor())\n",
        "print(dataset_train_full.data.shape)\n",
        "print(dataset_train_full.targets.shape)"
      ],
      "execution_count": 6,
      "outputs": [
        {
          "output_type": "stream",
          "name": "stdout",
          "text": [
            "Downloading http://yann.lecun.com/exdb/mnist/train-images-idx3-ubyte.gz\n",
            "Downloading http://yann.lecun.com/exdb/mnist/train-images-idx3-ubyte.gz to ../data/MNIST/raw/train-images-idx3-ubyte.gz\n"
          ]
        },
        {
          "output_type": "display_data",
          "data": {
            "text/plain": [
              "  0%|          | 0/9912422 [00:00<?, ?it/s]"
            ],
            "application/vnd.jupyter.widget-view+json": {
              "version_major": 2,
              "version_minor": 0,
              "model_id": "f415f5cc61eb4008be496028c1ef251f"
            }
          },
          "metadata": {}
        },
        {
          "output_type": "stream",
          "name": "stdout",
          "text": [
            "Extracting ../data/MNIST/raw/train-images-idx3-ubyte.gz to ../data/MNIST/raw\n",
            "\n",
            "Downloading http://yann.lecun.com/exdb/mnist/train-labels-idx1-ubyte.gz\n",
            "Downloading http://yann.lecun.com/exdb/mnist/train-labels-idx1-ubyte.gz to ../data/MNIST/raw/train-labels-idx1-ubyte.gz\n"
          ]
        },
        {
          "output_type": "display_data",
          "data": {
            "text/plain": [
              "  0%|          | 0/28881 [00:00<?, ?it/s]"
            ],
            "application/vnd.jupyter.widget-view+json": {
              "version_major": 2,
              "version_minor": 0,
              "model_id": "2eef048a780f469185d822407377990d"
            }
          },
          "metadata": {}
        },
        {
          "output_type": "stream",
          "name": "stdout",
          "text": [
            "Extracting ../data/MNIST/raw/train-labels-idx1-ubyte.gz to ../data/MNIST/raw\n",
            "\n",
            "Downloading http://yann.lecun.com/exdb/mnist/t10k-images-idx3-ubyte.gz\n",
            "Downloading http://yann.lecun.com/exdb/mnist/t10k-images-idx3-ubyte.gz to ../data/MNIST/raw/t10k-images-idx3-ubyte.gz\n"
          ]
        },
        {
          "output_type": "display_data",
          "data": {
            "text/plain": [
              "  0%|          | 0/1648877 [00:00<?, ?it/s]"
            ],
            "application/vnd.jupyter.widget-view+json": {
              "version_major": 2,
              "version_minor": 0,
              "model_id": "414fa9d4222842069dd6383b60676cbd"
            }
          },
          "metadata": {}
        },
        {
          "output_type": "stream",
          "name": "stdout",
          "text": [
            "Extracting ../data/MNIST/raw/t10k-images-idx3-ubyte.gz to ../data/MNIST/raw\n",
            "\n",
            "Downloading http://yann.lecun.com/exdb/mnist/t10k-labels-idx1-ubyte.gz\n",
            "Downloading http://yann.lecun.com/exdb/mnist/t10k-labels-idx1-ubyte.gz to ../data/MNIST/raw/t10k-labels-idx1-ubyte.gz\n"
          ]
        },
        {
          "output_type": "display_data",
          "data": {
            "text/plain": [
              "  0%|          | 0/4542 [00:00<?, ?it/s]"
            ],
            "application/vnd.jupyter.widget-view+json": {
              "version_major": 2,
              "version_minor": 0,
              "model_id": "00d11d9dfe374f8eafbd5ab084cbdcb2"
            }
          },
          "metadata": {}
        },
        {
          "output_type": "stream",
          "name": "stdout",
          "text": [
            "Extracting ../data/MNIST/raw/t10k-labels-idx1-ubyte.gz to ../data/MNIST/raw\n",
            "\n",
            "torch.Size([60000, 28, 28])\n",
            "torch.Size([60000])\n"
          ]
        }
      ]
    },
    {
      "cell_type": "markdown",
      "metadata": {
        "id": "_rOy9ntrQT2D"
      },
      "source": [
        "### Usando apenas 1000 amostras do MNIST\n",
        "\n",
        "Neste exercício utilizaremos 1000 amostras de treinamento."
      ]
    },
    {
      "cell_type": "code",
      "metadata": {
        "id": "WNF2XjLBWWe7"
      },
      "source": [
        "indices = torch.randperm(len(dataset_train_full))[:1000]\n",
        "dataset_train = torch.utils.data.Subset(dataset_train_full, indices)"
      ],
      "execution_count": 7,
      "outputs": []
    },
    {
      "cell_type": "markdown",
      "source": [
        "## Define os pesos iniciais"
      ],
      "metadata": {
        "id": "wYqj_oeSliYj"
      }
    },
    {
      "cell_type": "code",
      "metadata": {
        "id": "aSNLD2JyA2e-"
      },
      "source": [
        "loader_train = torch.utils.data.DataLoader(dataset_train, batch_size=batch_size, shuffle=False)"
      ],
      "execution_count": 8,
      "outputs": []
    },
    {
      "cell_type": "code",
      "metadata": {
        "ExecuteTime": {
          "end_time": "2018-08-21T13:30:35.209157Z",
          "start_time": "2018-08-21T13:30:34.757103Z"
        },
        "id": "w52KGYlIQT2A",
        "colab": {
          "base_uri": "https://localhost:8080/"
        },
        "outputId": "a2a8b507-120d-4f84-9589-aa74a1be1e28"
      },
      "source": [
        "print('Número de minibatches de trenamento:', len(loader_train))\n",
        "\n",
        "x_train, y_train = next(iter(loader_train))\n",
        "print(\"\\nDimensões dos dados de um minibatch:\", x_train.size())\n",
        "print(\"Valores mínimo e máximo dos pixels: \", torch.min(x_train), torch.max(x_train))\n",
        "print(\"Tipo dos dados das imagens:         \", type(x_train))\n",
        "print(\"Tipo das classes das imagens:       \", type(y_train))"
      ],
      "execution_count": 9,
      "outputs": [
        {
          "output_type": "stream",
          "name": "stdout",
          "text": [
            "Número de minibatches de trenamento: 20\n",
            "\n",
            "Dimensões dos dados de um minibatch: torch.Size([50, 1, 28, 28])\n",
            "Valores mínimo e máximo dos pixels:  tensor(0.) tensor(1.)\n",
            "Tipo dos dados das imagens:          <class 'torch.Tensor'>\n",
            "Tipo das classes das imagens:        <class 'torch.Tensor'>\n"
          ]
        }
      ]
    },
    {
      "cell_type": "markdown",
      "source": [
        "## Camada Convolucional"
      ],
      "metadata": {
        "id": "dfU_v7aPfq40"
      }
    },
    {
      "cell_type": "markdown",
      "source": [
        "Cálculo da largura e altura da saída de cada convolução dependerá das seguintes variáveis:\n",
        "\n",
        "*   $d_{in}$: dimensão de entrada (largura ou altura)\n",
        "*   $h$: tamanho do kernel (kernel 3x3 --> h = 3)\n",
        "*   $p$: quantidade de padding (nesse exemplo será sempre zero, não está sendo utilizado)\n",
        "*   $s$: stride (s=1 corresponde ao deslocamento do kernel por 1 pixel)\n",
        "\n",
        "fonte: https://cs231n.github.io/convolutional-networks/\n",
        "\n",
        "\n",
        "\n",
        "$$ d_{out} = \\left(\\frac{d_{in} - h + 2 p}{s}\\right) + 1$$\n",
        "\n",
        "\n",
        "\n",
        "\n"
      ],
      "metadata": {
        "id": "cRpHdcxQkAuP"
      }
    },
    {
      "cell_type": "markdown",
      "source": [
        "**Bias na Convolução:** \"There is one bias for each output channel. Each bias is added to every element in that output channel\" (fonte: https://www.cs.toronto.edu/~lczhang/360/lec/w04/convnet.html).\n"
      ],
      "metadata": {
        "id": "5ujBYe6dOAXo"
      }
    },
    {
      "cell_type": "code",
      "source": [
        "class MyConv2d(torch.nn.Module):\n",
        "    def __init__(self, in_channels: int, out_channels: int, kernel_size: int, stride: int):\n",
        "        super(MyConv2d, self).__init__()\n",
        "\n",
        "        self.in_channels = in_channels\n",
        "        self.out_channels = out_channels\n",
        "        self.kernel_size = kernel_size  # The same for height and width.\n",
        "        self.stride = stride  # The same for height and width.\n",
        "        self.weight = torch.nn.Parameter(torch.FloatTensor(out_channels, in_channels, kernel_size, kernel_size).uniform_(-0.01, 0.01))\n",
        "        self.bias = torch.nn.Parameter(torch.FloatTensor(out_channels,).uniform_(-0.01, 0.01))\n",
        "\n",
        "    def forward(self, x):\n",
        "        assert x.dim() == 4, f'x must have 4 dimensions: {x.shape}'\n",
        "        print(f\"input shape = {x.shape}\")\n",
        "        \n",
        "        width = (x.shape[2]-self.kernel_size)//self.stride+1\n",
        "        height = (x.shape[3]-self.kernel_size)//self.stride+1\n",
        "\n",
        "        # out shape = [batch_size, out_channels, width, height]\n",
        "        out = torch.zeros(x.shape[0], self.out_channels, width, height)\n",
        "        \n",
        "        print(f\"output shape = {out.shape}\")\n",
        "\n",
        "        # Convolucao - varrendo pelo kernel\n",
        "        for k in range(self.out_channels):\n",
        "            for i in range(self.kernel_size):\n",
        "                for j in range(self.kernel_size):\n",
        "                    \n",
        "                    window = x[:, :, i:(x.shape[2]-self.kernel_size+1+i):self.stride, j:(x.shape[3]-self.kernel_size+1+j):self.stride]\n",
        "                    # (x.shape[2]-self.kernel_size+1+i):self.stride --> desse jeito sempre garante que irá aplicar o kernel completo na imagem\n",
        "                    # +1 é necessário devido a ser a última posição possível para o kernel ser aplicado por completo (vide exemplo abaixo)\n",
        "\n",
        "                    if self.in_channels>1: # Se tiver mais que um canal de entrada irá somar o resultado da multiplicação entre todos os canais (dimensão = 1)\n",
        "                        out[:,k:k+1,:,:]+=(window*self.weight[k,0:self.in_channels,i,j].view(1,self.in_channels,1,1)).sum(dim=1)\n",
        "                    else:\n",
        "                        out[:,k:k+1,:,:]+=(window*self.weight[k,0:self.in_channels,i,j].view(1,self.in_channels,1,1))\n",
        "\n",
        "            out[:,k:k+1,:,:]+=self.bias[k]\n",
        "\n",
        "        return out"
      ],
      "metadata": {
        "id": "wRtpLJSFfsf8"
      },
      "execution_count": 10,
      "outputs": []
    },
    {
      "cell_type": "markdown",
      "source": [
        "### Exemplo da seleção da window para o segundo exemplo em pytorch"
      ],
      "metadata": {
        "id": "OBPWbefcHZz3"
      }
    },
    {
      "cell_type": "markdown",
      "source": [
        "\n",
        "*   Em amarelo: imagem\n",
        "*   Em azul: output\n",
        "*   linha vermelha: kernel\n",
        "*   X: todas as posições da imagem que será aplicado o primeiro elemento do kernel (elemento em quadriculado). \n",
        "\n",
        "Cada multiplicação de X pelo primeiro elemento do kernel será somada ao valor existente da respectiva posição da saída em azul. O mesmo raciocínio se aplica para os outros elementos do kernel, apenas mudando a posição X de acordo com os elementos do kernel.\n",
        "\n",
        "\n",
        "**Kernel:**\n",
        "\n",
        "![image.png](data:image/png;base64,iVBORw0KGgoAAAANSUhEUgAAAMIAAACGCAYAAACPKFVLAAACXUlEQVR4nO3cQU4iURRA0Utjr8pJ74f1sB8n7oDdEKKj7kC1iUVZQAHnjIRI8k24oR7IW+0P24/O8Hu9aX/YnvOQi3AO55jzHL8ueBa4G0KAhACVEKCqlzG/9L7e/Pv5bXD7Vo7P8bqA4Yz7thrzrtESnvgw1uth610jmEIIkBCgqlX17YzwNrj9dzh9X2/+G1Svdd+xP9/9ATy04fNzyvPhZcxAsfRh+ZYf6d/rvxQ80jmGz8+9YRmmEQI08gO1oeOXoq8um65xH8xpUghLG5bhp1waQUKASghQGZahMixD5dIIKiFAJQSoDMtQGZahcmkElRCgEgJUhmWovCJAJQSohACVEKAaudeo5tkdA5dwtb1G9fXumFt65j0+znHKXiOYiRAgIUAlBKiEAJUQoBICVEKASghQCQEqIUAlBKiEAJUQoBICVEKASghQCQEqIUAlBKiEAJUQoLLXiAdgr9GT7vFxjlP2GsFMhAAJASohQCUEqIQAlRCgEgJUQoBKCFAJASohQCUEqIQAlRCgEgJUQoBKCFAJASohQCUEqIQAlb1GPAB7jZ50j49znLLXCGYiBEgIUAkBKiFAJQSohACVEKASAlRCgEoIUAkBKiFAJQSohACVEKASAlRCgEoIUAkBKiFAJQSo7DXiAdhr9KR7fJzjlL1GMBMhQEKASghQCQEqIUAlBKiEAJUQoBICVEKASghQCQEqIUAlBKiEAJUQoBICVEKAqlb7w3bUl/eH3wuFpXr1nWWYRgjQD/YawVJN2rn1cabdbnfuQy7COU45x6lzz+HSCDIjQFWfbPEzo9TloxEAAAAASUVORK5CYII=)"
      ],
      "metadata": {
        "id": "_w7WmXD4ISgn"
      }
    },
    {
      "cell_type": "markdown",
      "source": [
        "O quadrado laranja na linha 23 (tanto na horizontal como na vertical), corresponde à última posição possível para aplicar o kernel por completo, não é aplicado no exemplo devido ao stride ser igual a 3, o último elemento ocorre na linha 21. \n"
      ],
      "metadata": {
        "id": "5Aj4gpX-HZS2"
      }
    },
    {
      "cell_type": "markdown",
      "source": [
        "![image.png](data:image/png;base64,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)"
      ],
      "metadata": {
        "id": "5v7-TZQvIfTE"
      }
    },
    {
      "cell_type": "markdown",
      "source": [
        "## Testes iniciais"
      ],
      "metadata": {
        "id": "rRuIUYdkeNsf"
      }
    },
    {
      "cell_type": "markdown",
      "source": [
        "![Capturar.PNG](data:image/png;base64,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)"
      ],
      "metadata": {
        "id": "kryAYc9Kebo-"
      }
    },
    {
      "cell_type": "markdown",
      "source": [
        "Imagem retirada do site: https://towardsdatascience.com/gentle-dive-into-math-behind-convolutional-neural-networks-79a07dd44cf9\n",
        " "
      ],
      "metadata": {
        "id": "1jjRvICUme1E"
      }
    },
    {
      "cell_type": "markdown",
      "source": [
        "### Teste 1"
      ],
      "metadata": {
        "id": "KVRE1eYAhgEB"
      }
    },
    {
      "cell_type": "markdown",
      "source": [
        "\n",
        "\n",
        "*   in_channels = 1\n",
        "*   batch_size = 1\n",
        "*   image size = 6x6\n",
        "*   output_channels = 1\n",
        "*   kernel_size  = 3\n",
        "\n",
        "\n",
        "\n"
      ],
      "metadata": {
        "id": "djwFEh6jpxH2"
      }
    },
    {
      "cell_type": "code",
      "source": [
        "test1 = torch.tensor(np.array([[10,10,10,10,10,10],[10,10,10,10,10,10],[10,10,10,10,10,10], [0,0,0,0,0,0],[0,0,0,0,0,0],[0,0,0,0,0,0]]))\n",
        "test1 = test1.float().unsqueeze(0).unsqueeze(0)\n",
        "test1"
      ],
      "metadata": {
        "id": "WfErj1_8Y25E",
        "colab": {
          "base_uri": "https://localhost:8080/"
        },
        "outputId": "a209ee75-3d95-4432-fcd7-98e39fcefa5c"
      },
      "execution_count": 11,
      "outputs": [
        {
          "output_type": "execute_result",
          "data": {
            "text/plain": [
              "tensor([[[[10., 10., 10., 10., 10., 10.],\n",
              "          [10., 10., 10., 10., 10., 10.],\n",
              "          [10., 10., 10., 10., 10., 10.],\n",
              "          [ 0.,  0.,  0.,  0.,  0.,  0.],\n",
              "          [ 0.,  0.,  0.,  0.,  0.,  0.],\n",
              "          [ 0.,  0.,  0.,  0.,  0.,  0.]]]])"
            ]
          },
          "metadata": {},
          "execution_count": 11
        }
      ]
    },
    {
      "cell_type": "code",
      "source": [
        "test1.shape"
      ],
      "metadata": {
        "colab": {
          "base_uri": "https://localhost:8080/"
        },
        "id": "lLNyhRwQbG4e",
        "outputId": "a6e2df3b-aa07-45d4-e3b1-5dc950704f42"
      },
      "execution_count": 12,
      "outputs": [
        {
          "output_type": "execute_result",
          "data": {
            "text/plain": [
              "torch.Size([1, 1, 6, 6])"
            ]
          },
          "metadata": {},
          "execution_count": 12
        }
      ]
    },
    {
      "cell_type": "code",
      "source": [
        "kernel1 = torch.tensor(np.array([[1,2,1],[0,0,0],[-1,-2,-1]])).float().unsqueeze(0).unsqueeze(0)\n",
        "print(kernel1.shape)\n",
        "kernel1"
      ],
      "metadata": {
        "colab": {
          "base_uri": "https://localhost:8080/"
        },
        "id": "x6uw7-om7XTd",
        "outputId": "3d09e956-a633-4b7b-a509-0322e8e5100a"
      },
      "execution_count": 13,
      "outputs": [
        {
          "output_type": "stream",
          "name": "stdout",
          "text": [
            "torch.Size([1, 1, 3, 3])\n"
          ]
        },
        {
          "output_type": "execute_result",
          "data": {
            "text/plain": [
              "tensor([[[[ 1.,  2.,  1.],\n",
              "          [ 0.,  0.,  0.],\n",
              "          [-1., -2., -1.]]]])"
            ]
          },
          "metadata": {},
          "execution_count": 13
        }
      ]
    },
    {
      "cell_type": "code",
      "source": [
        "in_channels_dummy = 1\n",
        "out_channels_dummy = 1\n",
        "kernel_size_dummy = 3\n",
        "stride_dummy = 1\n",
        "conv_layer = MyConv2d(in_channels=in_channels_dummy, out_channels=out_channels_dummy, kernel_size=kernel_size_dummy, stride=stride_dummy)\n",
        "conv_layer.weight.data = torch.tensor(np.array([[1,2,1],[0,0,0],[-1,-2,-1]])).float().unsqueeze(0).unsqueeze(0)"
      ],
      "metadata": {
        "id": "MQGz9qZ8Zc02"
      },
      "execution_count": 14,
      "outputs": []
    },
    {
      "cell_type": "code",
      "source": [
        "out = conv_layer(test1)"
      ],
      "metadata": {
        "colab": {
          "base_uri": "https://localhost:8080/"
        },
        "id": "PEKEXRMraQhs",
        "outputId": "b4284bd1-4b9f-4357-f80c-6d7f14ed0082"
      },
      "execution_count": 15,
      "outputs": [
        {
          "output_type": "stream",
          "name": "stdout",
          "text": [
            "input shape = torch.Size([1, 1, 6, 6])\n",
            "output shape = torch.Size([1, 1, 4, 4])\n"
          ]
        }
      ]
    },
    {
      "cell_type": "code",
      "source": [
        "out"
      ],
      "metadata": {
        "colab": {
          "base_uri": "https://localhost:8080/"
        },
        "id": "60v7X0q0gnwa",
        "outputId": "b15cb9ec-1995-4733-f777-5298f4567ff0"
      },
      "execution_count": 16,
      "outputs": [
        {
          "output_type": "execute_result",
          "data": {
            "text/plain": [
              "tensor([[[[4.7578e-03, 4.7578e-03, 4.7578e-03, 4.7578e-03],\n",
              "          [4.0005e+01, 4.0005e+01, 4.0005e+01, 4.0005e+01],\n",
              "          [4.0005e+01, 4.0005e+01, 4.0005e+01, 4.0005e+01],\n",
              "          [4.7578e-03, 4.7578e-03, 4.7578e-03, 4.7578e-03]]]],\n",
              "       grad_fn=<CopySlices>)"
            ]
          },
          "metadata": {},
          "execution_count": 16
        }
      ]
    },
    {
      "cell_type": "code",
      "source": [
        "torch.round(out, decimals=0)"
      ],
      "metadata": {
        "colab": {
          "base_uri": "https://localhost:8080/"
        },
        "id": "NIiY2dushUkv",
        "outputId": "faa30ed2-e98c-49a4-a7ea-141ca6cae95f"
      },
      "execution_count": 17,
      "outputs": [
        {
          "output_type": "execute_result",
          "data": {
            "text/plain": [
              "tensor([[[[ 0.,  0.,  0.,  0.],\n",
              "          [40., 40., 40., 40.],\n",
              "          [40., 40., 40., 40.],\n",
              "          [ 0.,  0.,  0.,  0.]]]], grad_fn=<RoundBackward1>)"
            ]
          },
          "metadata": {},
          "execution_count": 17
        }
      ]
    },
    {
      "cell_type": "markdown",
      "source": [
        "### Teste 2"
      ],
      "metadata": {
        "id": "5IEslTiAhlVy"
      }
    },
    {
      "cell_type": "markdown",
      "source": [
        "\n",
        "\n",
        "*   in_channels = 3\n",
        "*   batch_size = 1\n",
        "*   image size = 6x6\n",
        "*   output_channels = 1\n",
        "*   kernel_size = 3\n",
        "\n",
        "\n",
        "\n"
      ],
      "metadata": {
        "id": "iPTurTFZpwR6"
      }
    },
    {
      "cell_type": "code",
      "source": [
        "test2 = torch.cat((test1,test1,test1), dim=1)\n",
        "print(test2.shape)\n",
        "test2"
      ],
      "metadata": {
        "colab": {
          "base_uri": "https://localhost:8080/"
        },
        "outputId": "d610f5cf-1a98-4ee0-c047-f177b2f3f027",
        "id": "kfPOKMYb7pph"
      },
      "execution_count": 18,
      "outputs": [
        {
          "output_type": "stream",
          "name": "stdout",
          "text": [
            "torch.Size([1, 3, 6, 6])\n"
          ]
        },
        {
          "output_type": "execute_result",
          "data": {
            "text/plain": [
              "tensor([[[[10., 10., 10., 10., 10., 10.],\n",
              "          [10., 10., 10., 10., 10., 10.],\n",
              "          [10., 10., 10., 10., 10., 10.],\n",
              "          [ 0.,  0.,  0.,  0.,  0.,  0.],\n",
              "          [ 0.,  0.,  0.,  0.,  0.,  0.],\n",
              "          [ 0.,  0.,  0.,  0.,  0.,  0.]],\n",
              "\n",
              "         [[10., 10., 10., 10., 10., 10.],\n",
              "          [10., 10., 10., 10., 10., 10.],\n",
              "          [10., 10., 10., 10., 10., 10.],\n",
              "          [ 0.,  0.,  0.,  0.,  0.,  0.],\n",
              "          [ 0.,  0.,  0.,  0.,  0.,  0.],\n",
              "          [ 0.,  0.,  0.,  0.,  0.,  0.]],\n",
              "\n",
              "         [[10., 10., 10., 10., 10., 10.],\n",
              "          [10., 10., 10., 10., 10., 10.],\n",
              "          [10., 10., 10., 10., 10., 10.],\n",
              "          [ 0.,  0.,  0.,  0.,  0.,  0.],\n",
              "          [ 0.,  0.,  0.,  0.,  0.,  0.],\n",
              "          [ 0.,  0.,  0.,  0.,  0.,  0.]]]])"
            ]
          },
          "metadata": {},
          "execution_count": 18
        }
      ]
    },
    {
      "cell_type": "code",
      "source": [
        "in_channels_dummy = 3\n",
        "out_channels_dummy = 1\n",
        "kernel_size_dummy = 3\n",
        "stride_dummy = 1\n",
        "\n",
        "#shape = [1, 5, 3, 3]\n",
        "kernel = torch.tensor(np.array([[1,2,1],[0,0,0],[-1,-2,-1]])).float().unsqueeze(0).unsqueeze(0)\n",
        "kernel2 = torch.cat((kernel, kernel, kernel), dim=1)\n",
        "conv_layer = MyConv2d(in_channels=in_channels_dummy, out_channels=out_channels_dummy, kernel_size=kernel_size_dummy, stride=stride_dummy)\n",
        "conv_layer.weight.data = kernel2\n",
        "initial_bias_dummy = torch.arange(out_channels_dummy,).float()\n",
        "conv_layer.bias.data = initial_bias_dummy\n",
        "initial_bias_dummy"
      ],
      "metadata": {
        "id": "_-mKvX8e1ZfR",
        "colab": {
          "base_uri": "https://localhost:8080/"
        },
        "outputId": "a05d3dcd-bd4a-4551-b600-39cce8dc3ee1"
      },
      "execution_count": 19,
      "outputs": [
        {
          "output_type": "execute_result",
          "data": {
            "text/plain": [
              "tensor([0.])"
            ]
          },
          "metadata": {},
          "execution_count": 19
        }
      ]
    },
    {
      "cell_type": "code",
      "source": [
        "test2.shape"
      ],
      "metadata": {
        "colab": {
          "base_uri": "https://localhost:8080/"
        },
        "id": "CBxynk-m75Pj",
        "outputId": "617730b5-c2e6-44ae-96e2-4b406d4caa9c"
      },
      "execution_count": 20,
      "outputs": [
        {
          "output_type": "execute_result",
          "data": {
            "text/plain": [
              "torch.Size([1, 3, 6, 6])"
            ]
          },
          "metadata": {},
          "execution_count": 20
        }
      ]
    },
    {
      "cell_type": "code",
      "source": [
        "kernel2.shape"
      ],
      "metadata": {
        "colab": {
          "base_uri": "https://localhost:8080/"
        },
        "id": "Da8BZDSl76Dq",
        "outputId": "c3f6c23e-a69d-435e-fac9-ef9484e8c9f2"
      },
      "execution_count": 21,
      "outputs": [
        {
          "output_type": "execute_result",
          "data": {
            "text/plain": [
              "torch.Size([1, 3, 3, 3])"
            ]
          },
          "metadata": {},
          "execution_count": 21
        }
      ]
    },
    {
      "cell_type": "code",
      "source": [
        "out = conv_layer(test2)"
      ],
      "metadata": {
        "colab": {
          "base_uri": "https://localhost:8080/"
        },
        "outputId": "4cc3dcdc-c7c7-4fee-ab69-a14d266c639f",
        "id": "hje_8eDl1ZfV"
      },
      "execution_count": 22,
      "outputs": [
        {
          "output_type": "stream",
          "name": "stdout",
          "text": [
            "input shape = torch.Size([1, 3, 6, 6])\n",
            "output shape = torch.Size([1, 1, 4, 4])\n"
          ]
        }
      ]
    },
    {
      "cell_type": "code",
      "source": [
        "out"
      ],
      "metadata": {
        "colab": {
          "base_uri": "https://localhost:8080/"
        },
        "id": "M83WPyG9pPe8",
        "outputId": "88299345-cf0d-41e0-d565-8d4d8c359ac5"
      },
      "execution_count": 23,
      "outputs": [
        {
          "output_type": "execute_result",
          "data": {
            "text/plain": [
              "tensor([[[[  0.,   0.,   0.,   0.],\n",
              "          [120., 120., 120., 120.],\n",
              "          [120., 120., 120., 120.],\n",
              "          [  0.,   0.,   0.,   0.]]]], grad_fn=<CopySlices>)"
            ]
          },
          "metadata": {},
          "execution_count": 23
        }
      ]
    },
    {
      "cell_type": "markdown",
      "source": [
        "### Teste 3"
      ],
      "metadata": {
        "id": "lnE33Xmpnuju"
      }
    },
    {
      "cell_type": "markdown",
      "source": [
        "\n",
        "\n",
        "*   in_channels = 1\n",
        "*   batch_size = 1\n",
        "*   image size = 6x6\n",
        "*   output_channels = 5\n",
        "\n",
        "\n",
        "\n"
      ],
      "metadata": {
        "id": "TlUYq8fCpV-g"
      }
    },
    {
      "cell_type": "code",
      "source": [
        "test3 = test1\n",
        "test3"
      ],
      "metadata": {
        "colab": {
          "base_uri": "https://localhost:8080/"
        },
        "outputId": "738b7dd5-7e52-4441-db91-6e58150f883a",
        "id": "peNQXOTonujx"
      },
      "execution_count": 24,
      "outputs": [
        {
          "output_type": "execute_result",
          "data": {
            "text/plain": [
              "tensor([[[[10., 10., 10., 10., 10., 10.],\n",
              "          [10., 10., 10., 10., 10., 10.],\n",
              "          [10., 10., 10., 10., 10., 10.],\n",
              "          [ 0.,  0.,  0.,  0.,  0.,  0.],\n",
              "          [ 0.,  0.,  0.,  0.,  0.,  0.],\n",
              "          [ 0.,  0.,  0.,  0.,  0.,  0.]]]])"
            ]
          },
          "metadata": {},
          "execution_count": 24
        }
      ]
    },
    {
      "cell_type": "code",
      "source": [
        "in_channels_dummy = 1\n",
        "out_channels_dummy = 5\n",
        "kernel_size_dummy = 3\n",
        "stride_dummy = 1\n",
        "\n",
        "\n",
        "kernel3 = torch.tensor(np.array([[1,2,1],[0,0,0],[-1,-2,-1]])).float().unsqueeze(0).unsqueeze(0)\n",
        "kernel3 = torch.cat((kernel3,kernel3,kernel3, kernel3, kernel3), dim=0)\n",
        "conv_layer = MyConv2d(in_channels=in_channels_dummy, out_channels=out_channels_dummy, kernel_size=kernel_size_dummy, stride=stride_dummy)\n",
        "conv_layer.weight.data = kernel3\n",
        "\n",
        "initial_bias_dummy = torch.arange(out_channels_dummy,).float()\n",
        "conv_layer.bias.data = initial_bias_dummy\n",
        "initial_bias_dummy"
      ],
      "metadata": {
        "colab": {
          "base_uri": "https://localhost:8080/"
        },
        "id": "NHK-wXYRnujy",
        "outputId": "507b2bef-0472-4e27-ec69-80c562c4e010"
      },
      "execution_count": 25,
      "outputs": [
        {
          "output_type": "execute_result",
          "data": {
            "text/plain": [
              "tensor([0., 1., 2., 3., 4.])"
            ]
          },
          "metadata": {},
          "execution_count": 25
        }
      ]
    },
    {
      "cell_type": "code",
      "source": [
        "test3.shape"
      ],
      "metadata": {
        "colab": {
          "base_uri": "https://localhost:8080/"
        },
        "outputId": "634fc21e-ab39-4a12-9419-fa11bd2d5a3b",
        "id": "7mgnr4I7nujz"
      },
      "execution_count": 26,
      "outputs": [
        {
          "output_type": "execute_result",
          "data": {
            "text/plain": [
              "torch.Size([1, 1, 6, 6])"
            ]
          },
          "metadata": {},
          "execution_count": 26
        }
      ]
    },
    {
      "cell_type": "code",
      "source": [
        "kernel3.shape"
      ],
      "metadata": {
        "colab": {
          "base_uri": "https://localhost:8080/"
        },
        "outputId": "b3db50f8-d46a-48f8-fad4-b2af7db3de48",
        "id": "vL9h1jXvnujz"
      },
      "execution_count": 27,
      "outputs": [
        {
          "output_type": "execute_result",
          "data": {
            "text/plain": [
              "torch.Size([5, 1, 3, 3])"
            ]
          },
          "metadata": {},
          "execution_count": 27
        }
      ]
    },
    {
      "cell_type": "code",
      "source": [
        "out = conv_layer(test3)"
      ],
      "metadata": {
        "colab": {
          "base_uri": "https://localhost:8080/"
        },
        "outputId": "18d8b438-cfab-469a-d461-bde2ee97a901",
        "id": "8WIeQi_tnujz"
      },
      "execution_count": 28,
      "outputs": [
        {
          "output_type": "stream",
          "name": "stdout",
          "text": [
            "input shape = torch.Size([1, 1, 6, 6])\n",
            "output shape = torch.Size([1, 5, 4, 4])\n"
          ]
        }
      ]
    },
    {
      "cell_type": "code",
      "source": [
        "out"
      ],
      "metadata": {
        "colab": {
          "base_uri": "https://localhost:8080/"
        },
        "outputId": "016c81c7-e875-41f6-9e79-9b70072341f7",
        "id": "wBMXm78Fnuj0"
      },
      "execution_count": 29,
      "outputs": [
        {
          "output_type": "execute_result",
          "data": {
            "text/plain": [
              "tensor([[[[ 0.,  0.,  0.,  0.],\n",
              "          [40., 40., 40., 40.],\n",
              "          [40., 40., 40., 40.],\n",
              "          [ 0.,  0.,  0.,  0.]],\n",
              "\n",
              "         [[ 1.,  1.,  1.,  1.],\n",
              "          [41., 41., 41., 41.],\n",
              "          [41., 41., 41., 41.],\n",
              "          [ 1.,  1.,  1.,  1.]],\n",
              "\n",
              "         [[ 2.,  2.,  2.,  2.],\n",
              "          [42., 42., 42., 42.],\n",
              "          [42., 42., 42., 42.],\n",
              "          [ 2.,  2.,  2.,  2.]],\n",
              "\n",
              "         [[ 3.,  3.,  3.,  3.],\n",
              "          [43., 43., 43., 43.],\n",
              "          [43., 43., 43., 43.],\n",
              "          [ 3.,  3.,  3.,  3.]],\n",
              "\n",
              "         [[ 4.,  4.,  4.,  4.],\n",
              "          [44., 44., 44., 44.],\n",
              "          [44., 44., 44., 44.],\n",
              "          [ 4.,  4.,  4.,  4.]]]], grad_fn=<CopySlices>)"
            ]
          },
          "metadata": {},
          "execution_count": 29
        }
      ]
    },
    {
      "cell_type": "markdown",
      "source": [
        "### Teste 4\n"
      ],
      "metadata": {
        "id": "9lsU4IWji_y7"
      }
    },
    {
      "cell_type": "markdown",
      "source": [
        "\n",
        "\n",
        "*   in_channels = 3\n",
        "*   batch_size = 1\n",
        "*   image size = 6x6\n",
        "*   output_channels = 5\n",
        "\n",
        "\n",
        "\n"
      ],
      "metadata": {
        "id": "5MPbklDrqhWH"
      }
    },
    {
      "cell_type": "code",
      "source": [
        "test4 = test2\n",
        "test4.shape"
      ],
      "metadata": {
        "colab": {
          "base_uri": "https://localhost:8080/"
        },
        "id": "mf-3C3141QEv",
        "outputId": "19af7365-e672-45bb-d65f-856487407cd8"
      },
      "execution_count": 30,
      "outputs": [
        {
          "output_type": "execute_result",
          "data": {
            "text/plain": [
              "torch.Size([1, 3, 6, 6])"
            ]
          },
          "metadata": {},
          "execution_count": 30
        }
      ]
    },
    {
      "cell_type": "code",
      "source": [
        "kernel4 = torch.cat((kernel2, kernel2, kernel2, kernel2, kernel2), dim=0)\n",
        "kernel4.shape"
      ],
      "metadata": {
        "colab": {
          "base_uri": "https://localhost:8080/"
        },
        "id": "HCSCseQZqr27",
        "outputId": "4c9918a7-501d-41cc-bd5f-dc9879a77e6b"
      },
      "execution_count": 31,
      "outputs": [
        {
          "output_type": "execute_result",
          "data": {
            "text/plain": [
              "torch.Size([5, 3, 3, 3])"
            ]
          },
          "metadata": {},
          "execution_count": 31
        }
      ]
    },
    {
      "cell_type": "code",
      "source": [
        "in_channels_dummy = 3\n",
        "out_channels_dummy = 5\n",
        "kernel_size_dummy = 3\n",
        "stride_dummy = 1\n",
        "\n",
        "\n",
        "kernel4 = torch.cat((kernel2, kernel2, kernel2, kernel2, kernel2), dim=0)\n",
        "conv_layer = MyConv2d(in_channels=in_channels_dummy, out_channels=out_channels_dummy, kernel_size=kernel_size_dummy, stride=stride_dummy)\n",
        "conv_layer.weight.data = kernel4\n",
        "\n",
        "initial_bias_dummy = torch.arange(out_channels_dummy,).float()\n",
        "conv_layer.bias.data = initial_bias_dummy\n",
        "initial_bias_dummy"
      ],
      "metadata": {
        "colab": {
          "base_uri": "https://localhost:8080/"
        },
        "outputId": "102216af-242a-4bfd-f993-467598cbcaee",
        "id": "4szzuSBYrPDo"
      },
      "execution_count": 32,
      "outputs": [
        {
          "output_type": "execute_result",
          "data": {
            "text/plain": [
              "tensor([0., 1., 2., 3., 4.])"
            ]
          },
          "metadata": {},
          "execution_count": 32
        }
      ]
    },
    {
      "cell_type": "code",
      "source": [
        "out = conv_layer(test4)"
      ],
      "metadata": {
        "colab": {
          "base_uri": "https://localhost:8080/"
        },
        "outputId": "74a26d80-8d68-4e10-e526-2927098023e0",
        "id": "ZxIisdQ8rWlG"
      },
      "execution_count": 33,
      "outputs": [
        {
          "output_type": "stream",
          "name": "stdout",
          "text": [
            "input shape = torch.Size([1, 3, 6, 6])\n",
            "output shape = torch.Size([1, 5, 4, 4])\n"
          ]
        }
      ]
    },
    {
      "cell_type": "code",
      "source": [
        "out"
      ],
      "metadata": {
        "colab": {
          "base_uri": "https://localhost:8080/"
        },
        "id": "AQQm-buqrYd8",
        "outputId": "43e95aed-3b41-4f2e-d820-8ccbb975fdb7"
      },
      "execution_count": 34,
      "outputs": [
        {
          "output_type": "execute_result",
          "data": {
            "text/plain": [
              "tensor([[[[  0.,   0.,   0.,   0.],\n",
              "          [120., 120., 120., 120.],\n",
              "          [120., 120., 120., 120.],\n",
              "          [  0.,   0.,   0.,   0.]],\n",
              "\n",
              "         [[  1.,   1.,   1.,   1.],\n",
              "          [121., 121., 121., 121.],\n",
              "          [121., 121., 121., 121.],\n",
              "          [  1.,   1.,   1.,   1.]],\n",
              "\n",
              "         [[  2.,   2.,   2.,   2.],\n",
              "          [122., 122., 122., 122.],\n",
              "          [122., 122., 122., 122.],\n",
              "          [  2.,   2.,   2.,   2.]],\n",
              "\n",
              "         [[  3.,   3.,   3.,   3.],\n",
              "          [123., 123., 123., 123.],\n",
              "          [123., 123., 123., 123.],\n",
              "          [  3.,   3.,   3.,   3.]],\n",
              "\n",
              "         [[  4.,   4.,   4.,   4.],\n",
              "          [124., 124., 124., 124.],\n",
              "          [124., 124., 124., 124.],\n",
              "          [  4.,   4.,   4.,   4.]]]], grad_fn=<CopySlices>)"
            ]
          },
          "metadata": {},
          "execution_count": 34
        }
      ]
    },
    {
      "cell_type": "markdown",
      "source": [
        "## Compare se sua implementação está igual à do pytorch usando um exemplo simples"
      ],
      "metadata": {
        "id": "ROizI33sqE79"
      }
    },
    {
      "cell_type": "code",
      "source": [
        "in_channels_dummy = 1\n",
        "out_channels_dummy = 1\n",
        "kernel_size_dummy = 2\n",
        "stride_dummy = 1\n",
        "\n",
        "conv_layer = MyConv2d(in_channels=in_channels_dummy, out_channels=out_channels_dummy, kernel_size=kernel_size_dummy, stride=stride_dummy)\n",
        "pytorch_conv_layer = torch.nn.Conv2d(in_channels=in_channels_dummy, out_channels=out_channels_dummy, kernel_size=kernel_size_dummy, stride=stride_dummy, padding=0)\n",
        "\n",
        "# Usa os mesmos pesos para minha implementação e a do pytorch\n",
        "initial_weights_dummy = torch.arange(in_channels_dummy * out_channels_dummy * kernel_size_dummy * kernel_size_dummy).float()\n",
        "initial_weights_dummy = initial_weights_dummy.reshape(out_channels_dummy, in_channels_dummy, kernel_size_dummy, kernel_size_dummy)\n",
        "initial_bias_dummy = torch.arange(out_channels_dummy,).float()\n",
        "\n",
        "conv_layer.weight.data = initial_weights_dummy\n",
        "conv_layer.bias.data = initial_bias_dummy\n",
        "pytorch_conv_layer.load_state_dict(dict(weight=initial_weights_dummy, bias=initial_bias_dummy))\n",
        "\n",
        "x = torch.arange(30).float().reshape(1, 1, 5, 6)\n",
        "\n",
        "out = conv_layer(x)\n",
        "target_out = pytorch_conv_layer(x)\n",
        "\n",
        "assert torch.allclose(out, target_out, atol=1e-6)"
      ],
      "metadata": {
        "colab": {
          "base_uri": "https://localhost:8080/"
        },
        "id": "w-oRTUD5TTJp",
        "outputId": "f7963901-44d7-4847-bda3-27f123e7a577"
      },
      "execution_count": 35,
      "outputs": [
        {
          "output_type": "stream",
          "name": "stdout",
          "text": [
            "input shape = torch.Size([1, 1, 5, 6])\n",
            "output shape = torch.Size([1, 1, 4, 5])\n"
          ]
        }
      ]
    },
    {
      "cell_type": "code",
      "source": [
        "conv_layer.weight"
      ],
      "metadata": {
        "colab": {
          "base_uri": "https://localhost:8080/"
        },
        "id": "TiQRAJQz8WC_",
        "outputId": "23b99247-82ae-4d31-bdfa-f8626e920df7"
      },
      "execution_count": 36,
      "outputs": [
        {
          "output_type": "execute_result",
          "data": {
            "text/plain": [
              "Parameter containing:\n",
              "tensor([[[[0., 1.],\n",
              "          [2., 3.]]]], requires_grad=True)"
            ]
          },
          "metadata": {},
          "execution_count": 36
        }
      ]
    },
    {
      "cell_type": "code",
      "source": [
        "out"
      ],
      "metadata": {
        "colab": {
          "base_uri": "https://localhost:8080/"
        },
        "id": "o2T07H1LIXp4",
        "outputId": "51ac7625-ee1a-4c02-bf33-43864f324fc1"
      },
      "execution_count": 37,
      "outputs": [
        {
          "output_type": "execute_result",
          "data": {
            "text/plain": [
              "tensor([[[[ 34.,  40.,  46.,  52.,  58.],\n",
              "          [ 70.,  76.,  82.,  88.,  94.],\n",
              "          [106., 112., 118., 124., 130.],\n",
              "          [142., 148., 154., 160., 166.]]]], grad_fn=<CopySlices>)"
            ]
          },
          "metadata": {},
          "execution_count": 37
        }
      ]
    },
    {
      "cell_type": "code",
      "source": [
        "target_out"
      ],
      "metadata": {
        "colab": {
          "base_uri": "https://localhost:8080/"
        },
        "id": "-4cBD6FyIYl_",
        "outputId": "3f930619-2be6-4a53-c8aa-834507b0cb22"
      },
      "execution_count": 38,
      "outputs": [
        {
          "output_type": "execute_result",
          "data": {
            "text/plain": [
              "tensor([[[[ 34.,  40.,  46.,  52.,  58.],\n",
              "          [ 70.,  76.,  82.,  88.,  94.],\n",
              "          [106., 112., 118., 124., 130.],\n",
              "          [142., 148., 154., 160., 166.]]]], grad_fn=<ConvolutionBackward0>)"
            ]
          },
          "metadata": {},
          "execution_count": 38
        }
      ]
    },
    {
      "cell_type": "markdown",
      "source": [
        "## Compare se sua implementação está igual à do pytorch usando um exemplo aleatório"
      ],
      "metadata": {
        "id": "_75UnRhdd_MW"
      }
    },
    {
      "cell_type": "code",
      "source": [
        "x = torch.rand(2, in_channels, height_in, width_in)\n",
        "\n",
        "conv_layer = MyConv2d(in_channels=in_channels, out_channels=out_channels, kernel_size=kernel_size, stride=stride)\n",
        "pytorch_conv_layer = torch.nn.Conv2d(in_channels=in_channels, out_channels=out_channels, kernel_size=kernel_size, stride=stride, padding=0)\n",
        "\n",
        "# Usa os mesmos pesos para minha implementação e a do pytorch\n",
        "conv_layer.weight.data = initial_conv_weight\n",
        "conv_layer.bias.data = initial_conv_bias\n",
        "pytorch_conv_layer.load_state_dict(dict(weight=initial_conv_weight, bias=initial_conv_bias))\n",
        "\n",
        "out = conv_layer(x)\n",
        "target_out = pytorch_conv_layer(x)\n",
        "\n",
        "assert torch.allclose(out, target_out, atol=1e-6)"
      ],
      "metadata": {
        "colab": {
          "base_uri": "https://localhost:8080/"
        },
        "id": "r89vgnl1TXZE",
        "outputId": "beb59ceb-3cd5-479e-fec7-d6c8e6ceee51"
      },
      "execution_count": 39,
      "outputs": [
        {
          "output_type": "stream",
          "name": "stdout",
          "text": [
            "input shape = torch.Size([2, 1, 28, 28])\n",
            "output shape = torch.Size([2, 2, 8, 8])\n"
          ]
        }
      ]
    },
    {
      "cell_type": "code",
      "source": [
        "out"
      ],
      "metadata": {
        "colab": {
          "base_uri": "https://localhost:8080/"
        },
        "id": "ViurGD9Oqf0s",
        "outputId": "11314a43-7bfb-48e3-9c4f-ffdae94c2d36"
      },
      "execution_count": 40,
      "outputs": [
        {
          "output_type": "execute_result",
          "data": {
            "text/plain": [
              "tensor([[[[-0.0230, -0.0167, -0.0122, -0.0071, -0.0090, -0.0312, -0.0055,\n",
              "           -0.0150],\n",
              "          [-0.0078, -0.0063, -0.0177, -0.0081, -0.0003, -0.0080, -0.0196,\n",
              "            0.0026],\n",
              "          [-0.0102, -0.0154,  0.0071, -0.0097, -0.0147, -0.0060, -0.0176,\n",
              "           -0.0036],\n",
              "          [-0.0017, -0.0026, -0.0039,  0.0055,  0.0137, -0.0227, -0.0053,\n",
              "           -0.0149],\n",
              "          [-0.0050, -0.0115, -0.0271, -0.0143, -0.0044, -0.0021, -0.0025,\n",
              "           -0.0124],\n",
              "          [-0.0186, -0.0130, -0.0046, -0.0142, -0.0095, -0.0252, -0.0020,\n",
              "           -0.0089],\n",
              "          [ 0.0018, -0.0161, -0.0007,  0.0034,  0.0015, -0.0060, -0.0260,\n",
              "           -0.0184],\n",
              "          [-0.0054, -0.0087, -0.0074, -0.0101, -0.0035, -0.0093, -0.0025,\n",
              "           -0.0096]],\n",
              "\n",
              "         [[ 0.0276,  0.0098,  0.0172,  0.0105, -0.0040,  0.0101,  0.0145,\n",
              "            0.0235],\n",
              "          [ 0.0031,  0.0291,  0.0216,  0.0180,  0.0206,  0.0244,  0.0174,\n",
              "            0.0092],\n",
              "          [ 0.0167,  0.0360,  0.0227,  0.0157,  0.0279,  0.0216,  0.0207,\n",
              "            0.0169],\n",
              "          [ 0.0218,  0.0324,  0.0190,  0.0222,  0.0176,  0.0159,  0.0242,\n",
              "            0.0230],\n",
              "          [ 0.0277,  0.0209,  0.0191,  0.0191,  0.0107,  0.0058,  0.0138,\n",
              "            0.0225],\n",
              "          [ 0.0100,  0.0147,  0.0161,  0.0015,  0.0140, -0.0006,  0.0221,\n",
              "            0.0133],\n",
              "          [ 0.0187,  0.0122,  0.0227,  0.0039,  0.0089,  0.0083,  0.0178,\n",
              "            0.0122],\n",
              "          [ 0.0240,  0.0054,  0.0229,  0.0165,  0.0234,  0.0149,  0.0222,\n",
              "            0.0089]]],\n",
              "\n",
              "\n",
              "        [[[-0.0085, -0.0128, -0.0043, -0.0062, -0.0001, -0.0071, -0.0075,\n",
              "           -0.0108],\n",
              "          [ 0.0016, -0.0056, -0.0227, -0.0069, -0.0101, -0.0091, -0.0248,\n",
              "           -0.0160],\n",
              "          [-0.0113, -0.0113, -0.0120,  0.0035, -0.0077, -0.0086, -0.0058,\n",
              "           -0.0247],\n",
              "          [-0.0136, -0.0013, -0.0072, -0.0135, -0.0042, -0.0193, -0.0003,\n",
              "            0.0031],\n",
              "          [-0.0234, -0.0292, -0.0128, -0.0201, -0.0102, -0.0113, -0.0133,\n",
              "           -0.0103],\n",
              "          [-0.0120, -0.0146,  0.0039,  0.0053, -0.0046, -0.0201, -0.0179,\n",
              "           -0.0060],\n",
              "          [-0.0063, -0.0117, -0.0180, -0.0082, -0.0054, -0.0114,  0.0033,\n",
              "           -0.0176],\n",
              "          [-0.0050, -0.0087, -0.0072, -0.0138, -0.0066,  0.0040, -0.0106,\n",
              "           -0.0038]],\n",
              "\n",
              "         [[ 0.0273,  0.0189,  0.0109,  0.0285,  0.0370,  0.0440,  0.0159,\n",
              "            0.0154],\n",
              "          [ 0.0119,  0.0165,  0.0036,  0.0122,  0.0294,  0.0280,  0.0216,\n",
              "            0.0153],\n",
              "          [ 0.0041,  0.0265,  0.0224,  0.0238,  0.0226,  0.0127,  0.0039,\n",
              "            0.0228],\n",
              "          [ 0.0186,  0.0188,  0.0282,  0.0170,  0.0172,  0.0155,  0.0238,\n",
              "            0.0189],\n",
              "          [ 0.0030,  0.0093,  0.0113,  0.0234,  0.0214,  0.0123,  0.0289,\n",
              "            0.0312],\n",
              "          [ 0.0024,  0.0040,  0.0177,  0.0226,  0.0305,  0.0070,  0.0097,\n",
              "            0.0193],\n",
              "          [ 0.0031,  0.0049,  0.0043,  0.0055,  0.0090,  0.0186,  0.0095,\n",
              "            0.0191],\n",
              "          [ 0.0061,  0.0128,  0.0176, -0.0023,  0.0165,  0.0232,  0.0293,\n",
              "            0.0142]]]], grad_fn=<CopySlices>)"
            ]
          },
          "metadata": {},
          "execution_count": 40
        }
      ]
    },
    {
      "cell_type": "code",
      "source": [
        "out.shape"
      ],
      "metadata": {
        "colab": {
          "base_uri": "https://localhost:8080/"
        },
        "id": "JWKfmNrFqhXQ",
        "outputId": "4fcd5dcf-ef4a-42d0-eecf-41f916d74389"
      },
      "execution_count": 41,
      "outputs": [
        {
          "output_type": "execute_result",
          "data": {
            "text/plain": [
              "torch.Size([2, 2, 8, 8])"
            ]
          },
          "metadata": {},
          "execution_count": 41
        }
      ]
    },
    {
      "cell_type": "code",
      "source": [
        "target_out.shape"
      ],
      "metadata": {
        "colab": {
          "base_uri": "https://localhost:8080/"
        },
        "id": "Z2RohnJGqkvF",
        "outputId": "fa6a33fd-335c-415b-b93c-4dbd1d695f58"
      },
      "execution_count": 42,
      "outputs": [
        {
          "output_type": "execute_result",
          "data": {
            "text/plain": [
              "torch.Size([2, 2, 8, 8])"
            ]
          },
          "metadata": {},
          "execution_count": 42
        }
      ]
    },
    {
      "cell_type": "code",
      "source": [
        "target_out"
      ],
      "metadata": {
        "colab": {
          "base_uri": "https://localhost:8080/"
        },
        "id": "1qIgCv4_qiHx",
        "outputId": "3d28c8e0-d4e2-4858-abc7-fa11fab2ae9a"
      },
      "execution_count": 43,
      "outputs": [
        {
          "output_type": "execute_result",
          "data": {
            "text/plain": [
              "tensor([[[[-0.0230, -0.0167, -0.0122, -0.0071, -0.0090, -0.0312, -0.0055,\n",
              "           -0.0150],\n",
              "          [-0.0078, -0.0063, -0.0177, -0.0081, -0.0003, -0.0080, -0.0196,\n",
              "            0.0026],\n",
              "          [-0.0102, -0.0154,  0.0071, -0.0097, -0.0147, -0.0060, -0.0176,\n",
              "           -0.0036],\n",
              "          [-0.0017, -0.0026, -0.0039,  0.0055,  0.0137, -0.0227, -0.0053,\n",
              "           -0.0149],\n",
              "          [-0.0050, -0.0115, -0.0271, -0.0143, -0.0044, -0.0021, -0.0025,\n",
              "           -0.0124],\n",
              "          [-0.0186, -0.0130, -0.0046, -0.0142, -0.0095, -0.0252, -0.0020,\n",
              "           -0.0089],\n",
              "          [ 0.0018, -0.0161, -0.0007,  0.0034,  0.0015, -0.0060, -0.0260,\n",
              "           -0.0184],\n",
              "          [-0.0054, -0.0087, -0.0074, -0.0101, -0.0035, -0.0093, -0.0025,\n",
              "           -0.0096]],\n",
              "\n",
              "         [[ 0.0276,  0.0098,  0.0172,  0.0105, -0.0040,  0.0101,  0.0145,\n",
              "            0.0235],\n",
              "          [ 0.0031,  0.0291,  0.0216,  0.0180,  0.0206,  0.0244,  0.0174,\n",
              "            0.0092],\n",
              "          [ 0.0167,  0.0360,  0.0227,  0.0157,  0.0279,  0.0216,  0.0207,\n",
              "            0.0169],\n",
              "          [ 0.0218,  0.0324,  0.0190,  0.0222,  0.0176,  0.0159,  0.0242,\n",
              "            0.0230],\n",
              "          [ 0.0277,  0.0209,  0.0191,  0.0191,  0.0107,  0.0058,  0.0138,\n",
              "            0.0225],\n",
              "          [ 0.0100,  0.0147,  0.0161,  0.0015,  0.0140, -0.0006,  0.0221,\n",
              "            0.0133],\n",
              "          [ 0.0187,  0.0122,  0.0227,  0.0039,  0.0089,  0.0083,  0.0178,\n",
              "            0.0122],\n",
              "          [ 0.0240,  0.0054,  0.0229,  0.0165,  0.0234,  0.0149,  0.0222,\n",
              "            0.0089]]],\n",
              "\n",
              "\n",
              "        [[[-0.0085, -0.0128, -0.0043, -0.0062, -0.0001, -0.0071, -0.0075,\n",
              "           -0.0108],\n",
              "          [ 0.0016, -0.0056, -0.0227, -0.0069, -0.0101, -0.0091, -0.0248,\n",
              "           -0.0160],\n",
              "          [-0.0113, -0.0113, -0.0120,  0.0035, -0.0077, -0.0086, -0.0058,\n",
              "           -0.0247],\n",
              "          [-0.0136, -0.0013, -0.0072, -0.0135, -0.0042, -0.0193, -0.0003,\n",
              "            0.0031],\n",
              "          [-0.0234, -0.0292, -0.0128, -0.0201, -0.0102, -0.0113, -0.0133,\n",
              "           -0.0103],\n",
              "          [-0.0120, -0.0146,  0.0039,  0.0053, -0.0046, -0.0201, -0.0179,\n",
              "           -0.0060],\n",
              "          [-0.0063, -0.0117, -0.0180, -0.0082, -0.0054, -0.0114,  0.0033,\n",
              "           -0.0176],\n",
              "          [-0.0050, -0.0087, -0.0072, -0.0138, -0.0066,  0.0040, -0.0106,\n",
              "           -0.0038]],\n",
              "\n",
              "         [[ 0.0273,  0.0189,  0.0109,  0.0285,  0.0370,  0.0440,  0.0159,\n",
              "            0.0154],\n",
              "          [ 0.0119,  0.0165,  0.0036,  0.0122,  0.0294,  0.0280,  0.0216,\n",
              "            0.0153],\n",
              "          [ 0.0041,  0.0265,  0.0224,  0.0238,  0.0226,  0.0127,  0.0039,\n",
              "            0.0228],\n",
              "          [ 0.0186,  0.0188,  0.0282,  0.0170,  0.0172,  0.0155,  0.0238,\n",
              "            0.0189],\n",
              "          [ 0.0030,  0.0093,  0.0113,  0.0234,  0.0214,  0.0123,  0.0289,\n",
              "            0.0312],\n",
              "          [ 0.0024,  0.0040,  0.0177,  0.0226,  0.0305,  0.0070,  0.0097,\n",
              "            0.0193],\n",
              "          [ 0.0031,  0.0049,  0.0043,  0.0055,  0.0090,  0.0186,  0.0095,\n",
              "            0.0191],\n",
              "          [ 0.0061,  0.0128,  0.0176, -0.0023,  0.0165,  0.0232,  0.0293,\n",
              "            0.0142]]]], grad_fn=<ConvolutionBackward0>)"
            ]
          },
          "metadata": {},
          "execution_count": 43
        }
      ]
    },
    {
      "cell_type": "markdown",
      "metadata": {
        "id": "BQA9Zg7GQT2G"
      },
      "source": [
        "## Modelo"
      ]
    },
    {
      "cell_type": "code",
      "metadata": {
        "ExecuteTime": {
          "end_time": "2018-08-20T21:03:10.802708Z",
          "start_time": "2018-08-20T21:03:10.793287Z"
        },
        "id": "-1r5QWeUTdop"
      },
      "source": [
        "class Net(torch.nn.Module):\n",
        "    def __init__(self, height_in: int, width_in: int, in_channels: int, out_channels: int, kernel_size: int, stride: int):\n",
        "        super(Net, self).__init__()\n",
        "        self.conv_layer = MyConv2d(in_channels=in_channels, out_channels=out_channels, kernel_size=kernel_size, stride=stride)\n",
        "   \n",
        "        height_out = (height_in - kernel_size) // stride + 1\n",
        "        width_out = (width_in - kernel_size) // stride + 1\n",
        "        self.classification_layer = torch.nn.Linear(out_channels * height_out * width_out, 10)\n",
        "\n",
        "    def forward(self, x):\n",
        "        hidden = self.conv_layer(x)\n",
        "        hidden = torch.nn.functional.relu(hidden)\n",
        "        hidden = hidden.reshape(x.shape[0], -1)\n",
        "        logits = self.classification_layer(hidden)\n",
        "        return logits"
      ],
      "execution_count": 44,
      "outputs": []
    },
    {
      "cell_type": "markdown",
      "metadata": {
        "id": "0NHQB4wGQT2K"
      },
      "source": [
        "## Treinamento"
      ]
    },
    {
      "cell_type": "markdown",
      "metadata": {
        "id": "nqs2JhJoQT2L"
      },
      "source": [
        "### Definição dos hiperparâmetros"
      ]
    },
    {
      "cell_type": "code",
      "metadata": {
        "ExecuteTime": {
          "end_time": "2018-08-20T21:03:14.146259Z",
          "start_time": "2018-08-20T21:03:14.139515Z"
        },
        "id": "oZuYEkn_QT2M"
      },
      "source": [
        "n_epochs = 50\n",
        "lr = 0.1"
      ],
      "execution_count": 45,
      "outputs": []
    },
    {
      "cell_type": "markdown",
      "metadata": {
        "id": "pmXarXeIQT2O"
      },
      "source": [
        "### Laço de treinamento"
      ]
    },
    {
      "cell_type": "code",
      "metadata": {
        "ExecuteTime": {
          "end_time": "2018-08-20T21:03:40.796410Z",
          "start_time": "2018-08-20T21:03:39.771981Z"
        },
        "colab": {
          "base_uri": "https://localhost:8080/"
        },
        "id": "EMrLlYIjTkap",
        "outputId": "8a63fd2f-727d-4718-8ca3-adc735e2a490"
      },
      "source": [
        "model = Net(height_in=height_in, width_in=width_in, in_channels=in_channels, out_channels=out_channels, kernel_size=kernel_size, stride=stride)\n",
        "\n",
        "# Usa pesos iniciais pré-difinidos\n",
        "model.classification_layer.load_state_dict(dict(weight=initial_classification_weight, bias=initial_classification_bias))\n",
        "model.conv_layer.weight.data = initial_conv_weight\n",
        "model.conv_layer.bias.data = initial_conv_bias\n",
        "\n",
        "criterion = torch.nn.CrossEntropyLoss()\n",
        "optimizer = torch.optim.SGD(model.parameters(), lr)\n",
        "\n",
        "epochs = []\n",
        "loss_history = []\n",
        "loss_epoch_end = []\n",
        "total_trained_samples = 0\n",
        "for i in range(n_epochs):\n",
        "    for x_train, y_train in loader_train:\n",
        "        # predict da rede\n",
        "        outputs = model(x_train)\n",
        "\n",
        "        # calcula a perda\n",
        "        loss = criterion(outputs, y_train)\n",
        "\n",
        "        # zero, backpropagation, ajusta parâmetros pelo gradiente descendente\n",
        "        optimizer.zero_grad()\n",
        "        loss.backward()\n",
        "        optimizer.step()\n",
        "\n",
        "        total_trained_samples += x_train.size(0)\n",
        "        epochs.append(total_trained_samples / len(dataset_train))\n",
        "        loss_history.append(loss.item())\n",
        "\n",
        "    loss_epoch_end.append(loss.item())\n",
        "    print(f'Epoch: {i:d}/{n_epochs - 1:d} Loss: {loss.item()}')\n"
      ],
      "execution_count": 46,
      "outputs": [
        {
          "output_type": "stream",
          "name": "stdout",
          "text": [
            "input shape = torch.Size([50, 1, 28, 28])\n",
            "output shape = torch.Size([50, 2, 8, 8])\n",
            "input shape = torch.Size([50, 1, 28, 28])\n",
            "output shape = torch.Size([50, 2, 8, 8])\n",
            "input shape = torch.Size([50, 1, 28, 28])\n",
            "output shape = torch.Size([50, 2, 8, 8])\n",
            "input shape = torch.Size([50, 1, 28, 28])\n",
            "output shape = torch.Size([50, 2, 8, 8])\n",
            "input shape = torch.Size([50, 1, 28, 28])\n",
            "output shape = torch.Size([50, 2, 8, 8])\n",
            "input shape = torch.Size([50, 1, 28, 28])\n",
            "output shape = torch.Size([50, 2, 8, 8])\n",
            "input shape = torch.Size([50, 1, 28, 28])\n",
            "output shape = torch.Size([50, 2, 8, 8])\n",
            "input shape = torch.Size([50, 1, 28, 28])\n",
            "output shape = torch.Size([50, 2, 8, 8])\n",
            "input shape = torch.Size([50, 1, 28, 28])\n",
            "output shape = torch.Size([50, 2, 8, 8])\n",
            "input shape = torch.Size([50, 1, 28, 28])\n",
            "output shape = torch.Size([50, 2, 8, 8])\n",
            "input shape = torch.Size([50, 1, 28, 28])\n",
            "output shape = torch.Size([50, 2, 8, 8])\n",
            "input shape = torch.Size([50, 1, 28, 28])\n",
            "output shape = torch.Size([50, 2, 8, 8])\n",
            "input shape = torch.Size([50, 1, 28, 28])\n",
            "output shape = torch.Size([50, 2, 8, 8])\n",
            "input shape = torch.Size([50, 1, 28, 28])\n",
            "output shape = torch.Size([50, 2, 8, 8])\n",
            "input shape = torch.Size([50, 1, 28, 28])\n",
            "output shape = torch.Size([50, 2, 8, 8])\n",
            "input shape = torch.Size([50, 1, 28, 28])\n",
            "output shape = torch.Size([50, 2, 8, 8])\n",
            "input shape = torch.Size([50, 1, 28, 28])\n",
            "output shape = torch.Size([50, 2, 8, 8])\n",
            "input shape = torch.Size([50, 1, 28, 28])\n",
            "output shape = torch.Size([50, 2, 8, 8])\n",
            "input shape = torch.Size([50, 1, 28, 28])\n",
            "output shape = torch.Size([50, 2, 8, 8])\n",
            "input shape = torch.Size([50, 1, 28, 28])\n",
            "output shape = torch.Size([50, 2, 8, 8])\n",
            "Epoch: 0/49 Loss: 2.303267478942871\n",
            "input shape = torch.Size([50, 1, 28, 28])\n",
            "output shape = torch.Size([50, 2, 8, 8])\n",
            "input shape = torch.Size([50, 1, 28, 28])\n",
            "output shape = torch.Size([50, 2, 8, 8])\n",
            "input shape = torch.Size([50, 1, 28, 28])\n",
            "output shape = torch.Size([50, 2, 8, 8])\n",
            "input shape = torch.Size([50, 1, 28, 28])\n",
            "output shape = torch.Size([50, 2, 8, 8])\n",
            "input shape = torch.Size([50, 1, 28, 28])\n",
            "output shape = torch.Size([50, 2, 8, 8])\n",
            "input shape = torch.Size([50, 1, 28, 28])\n",
            "output shape = torch.Size([50, 2, 8, 8])\n",
            "input shape = torch.Size([50, 1, 28, 28])\n",
            "output shape = torch.Size([50, 2, 8, 8])\n",
            "input shape = torch.Size([50, 1, 28, 28])\n",
            "output shape = torch.Size([50, 2, 8, 8])\n",
            "input shape = torch.Size([50, 1, 28, 28])\n",
            "output shape = torch.Size([50, 2, 8, 8])\n",
            "input shape = torch.Size([50, 1, 28, 28])\n",
            "output shape = torch.Size([50, 2, 8, 8])\n",
            "input shape = torch.Size([50, 1, 28, 28])\n",
            "output shape = torch.Size([50, 2, 8, 8])\n",
            "input shape = torch.Size([50, 1, 28, 28])\n",
            "output shape = torch.Size([50, 2, 8, 8])\n",
            "input shape = torch.Size([50, 1, 28, 28])\n",
            "output shape = torch.Size([50, 2, 8, 8])\n",
            "input shape = torch.Size([50, 1, 28, 28])\n",
            "output shape = torch.Size([50, 2, 8, 8])\n",
            "input shape = torch.Size([50, 1, 28, 28])\n",
            "output shape = torch.Size([50, 2, 8, 8])\n",
            "input shape = torch.Size([50, 1, 28, 28])\n",
            "output shape = torch.Size([50, 2, 8, 8])\n",
            "input shape = torch.Size([50, 1, 28, 28])\n",
            "output shape = torch.Size([50, 2, 8, 8])\n",
            "input shape = torch.Size([50, 1, 28, 28])\n",
            "output shape = torch.Size([50, 2, 8, 8])\n",
            "input shape = torch.Size([50, 1, 28, 28])\n",
            "output shape = torch.Size([50, 2, 8, 8])\n",
            "input shape = torch.Size([50, 1, 28, 28])\n",
            "output shape = torch.Size([50, 2, 8, 8])\n",
            "Epoch: 1/49 Loss: 2.227701187133789\n",
            "input shape = torch.Size([50, 1, 28, 28])\n",
            "output shape = torch.Size([50, 2, 8, 8])\n",
            "input shape = torch.Size([50, 1, 28, 28])\n",
            "output shape = torch.Size([50, 2, 8, 8])\n",
            "input shape = torch.Size([50, 1, 28, 28])\n",
            "output shape = torch.Size([50, 2, 8, 8])\n",
            "input shape = torch.Size([50, 1, 28, 28])\n",
            "output shape = torch.Size([50, 2, 8, 8])\n",
            "input shape = torch.Size([50, 1, 28, 28])\n",
            "output shape = torch.Size([50, 2, 8, 8])\n",
            "input shape = torch.Size([50, 1, 28, 28])\n",
            "output shape = torch.Size([50, 2, 8, 8])\n",
            "input shape = torch.Size([50, 1, 28, 28])\n",
            "output shape = torch.Size([50, 2, 8, 8])\n",
            "input shape = torch.Size([50, 1, 28, 28])\n",
            "output shape = torch.Size([50, 2, 8, 8])\n",
            "input shape = torch.Size([50, 1, 28, 28])\n",
            "output shape = torch.Size([50, 2, 8, 8])\n",
            "input shape = torch.Size([50, 1, 28, 28])\n",
            "output shape = torch.Size([50, 2, 8, 8])\n",
            "input shape = torch.Size([50, 1, 28, 28])\n",
            "output shape = torch.Size([50, 2, 8, 8])\n",
            "input shape = torch.Size([50, 1, 28, 28])\n",
            "output shape = torch.Size([50, 2, 8, 8])\n",
            "input shape = torch.Size([50, 1, 28, 28])\n",
            "output shape = torch.Size([50, 2, 8, 8])\n",
            "input shape = torch.Size([50, 1, 28, 28])\n",
            "output shape = torch.Size([50, 2, 8, 8])\n",
            "input shape = torch.Size([50, 1, 28, 28])\n",
            "output shape = torch.Size([50, 2, 8, 8])\n",
            "input shape = torch.Size([50, 1, 28, 28])\n",
            "output shape = torch.Size([50, 2, 8, 8])\n",
            "input shape = torch.Size([50, 1, 28, 28])\n",
            "output shape = torch.Size([50, 2, 8, 8])\n",
            "input shape = torch.Size([50, 1, 28, 28])\n",
            "output shape = torch.Size([50, 2, 8, 8])\n",
            "input shape = torch.Size([50, 1, 28, 28])\n",
            "output shape = torch.Size([50, 2, 8, 8])\n",
            "input shape = torch.Size([50, 1, 28, 28])\n",
            "output shape = torch.Size([50, 2, 8, 8])\n",
            "Epoch: 2/49 Loss: 1.0923893451690674\n",
            "input shape = torch.Size([50, 1, 28, 28])\n",
            "output shape = torch.Size([50, 2, 8, 8])\n",
            "input shape = torch.Size([50, 1, 28, 28])\n",
            "output shape = torch.Size([50, 2, 8, 8])\n",
            "input shape = torch.Size([50, 1, 28, 28])\n",
            "output shape = torch.Size([50, 2, 8, 8])\n",
            "input shape = torch.Size([50, 1, 28, 28])\n",
            "output shape = torch.Size([50, 2, 8, 8])\n",
            "input shape = torch.Size([50, 1, 28, 28])\n",
            "output shape = torch.Size([50, 2, 8, 8])\n",
            "input shape = torch.Size([50, 1, 28, 28])\n",
            "output shape = torch.Size([50, 2, 8, 8])\n",
            "input shape = torch.Size([50, 1, 28, 28])\n",
            "output shape = torch.Size([50, 2, 8, 8])\n",
            "input shape = torch.Size([50, 1, 28, 28])\n",
            "output shape = torch.Size([50, 2, 8, 8])\n",
            "input shape = torch.Size([50, 1, 28, 28])\n",
            "output shape = torch.Size([50, 2, 8, 8])\n",
            "input shape = torch.Size([50, 1, 28, 28])\n",
            "output shape = torch.Size([50, 2, 8, 8])\n",
            "input shape = torch.Size([50, 1, 28, 28])\n",
            "output shape = torch.Size([50, 2, 8, 8])\n",
            "input shape = torch.Size([50, 1, 28, 28])\n",
            "output shape = torch.Size([50, 2, 8, 8])\n",
            "input shape = torch.Size([50, 1, 28, 28])\n",
            "output shape = torch.Size([50, 2, 8, 8])\n",
            "input shape = torch.Size([50, 1, 28, 28])\n",
            "output shape = torch.Size([50, 2, 8, 8])\n",
            "input shape = torch.Size([50, 1, 28, 28])\n",
            "output shape = torch.Size([50, 2, 8, 8])\n",
            "input shape = torch.Size([50, 1, 28, 28])\n",
            "output shape = torch.Size([50, 2, 8, 8])\n",
            "input shape = torch.Size([50, 1, 28, 28])\n",
            "output shape = torch.Size([50, 2, 8, 8])\n",
            "input shape = torch.Size([50, 1, 28, 28])\n",
            "output shape = torch.Size([50, 2, 8, 8])\n",
            "input shape = torch.Size([50, 1, 28, 28])\n",
            "output shape = torch.Size([50, 2, 8, 8])\n",
            "input shape = torch.Size([50, 1, 28, 28])\n",
            "output shape = torch.Size([50, 2, 8, 8])\n",
            "Epoch: 3/49 Loss: 0.5867354869842529\n",
            "input shape = torch.Size([50, 1, 28, 28])\n",
            "output shape = torch.Size([50, 2, 8, 8])\n",
            "input shape = torch.Size([50, 1, 28, 28])\n",
            "output shape = torch.Size([50, 2, 8, 8])\n",
            "input shape = torch.Size([50, 1, 28, 28])\n",
            "output shape = torch.Size([50, 2, 8, 8])\n",
            "input shape = torch.Size([50, 1, 28, 28])\n",
            "output shape = torch.Size([50, 2, 8, 8])\n",
            "input shape = torch.Size([50, 1, 28, 28])\n",
            "output shape = torch.Size([50, 2, 8, 8])\n",
            "input shape = torch.Size([50, 1, 28, 28])\n",
            "output shape = torch.Size([50, 2, 8, 8])\n",
            "input shape = torch.Size([50, 1, 28, 28])\n",
            "output shape = torch.Size([50, 2, 8, 8])\n",
            "input shape = torch.Size([50, 1, 28, 28])\n",
            "output shape = torch.Size([50, 2, 8, 8])\n",
            "input shape = torch.Size([50, 1, 28, 28])\n",
            "output shape = torch.Size([50, 2, 8, 8])\n",
            "input shape = torch.Size([50, 1, 28, 28])\n",
            "output shape = torch.Size([50, 2, 8, 8])\n",
            "input shape = torch.Size([50, 1, 28, 28])\n",
            "output shape = torch.Size([50, 2, 8, 8])\n",
            "input shape = torch.Size([50, 1, 28, 28])\n",
            "output shape = torch.Size([50, 2, 8, 8])\n",
            "input shape = torch.Size([50, 1, 28, 28])\n",
            "output shape = torch.Size([50, 2, 8, 8])\n",
            "input shape = torch.Size([50, 1, 28, 28])\n",
            "output shape = torch.Size([50, 2, 8, 8])\n",
            "input shape = torch.Size([50, 1, 28, 28])\n",
            "output shape = torch.Size([50, 2, 8, 8])\n",
            "input shape = torch.Size([50, 1, 28, 28])\n",
            "output shape = torch.Size([50, 2, 8, 8])\n",
            "input shape = torch.Size([50, 1, 28, 28])\n",
            "output shape = torch.Size([50, 2, 8, 8])\n",
            "input shape = torch.Size([50, 1, 28, 28])\n",
            "output shape = torch.Size([50, 2, 8, 8])\n",
            "input shape = torch.Size([50, 1, 28, 28])\n",
            "output shape = torch.Size([50, 2, 8, 8])\n",
            "input shape = torch.Size([50, 1, 28, 28])\n",
            "output shape = torch.Size([50, 2, 8, 8])\n",
            "Epoch: 4/49 Loss: 0.5144088864326477\n",
            "input shape = torch.Size([50, 1, 28, 28])\n",
            "output shape = torch.Size([50, 2, 8, 8])\n",
            "input shape = torch.Size([50, 1, 28, 28])\n",
            "output shape = torch.Size([50, 2, 8, 8])\n",
            "input shape = torch.Size([50, 1, 28, 28])\n",
            "output shape = torch.Size([50, 2, 8, 8])\n",
            "input shape = torch.Size([50, 1, 28, 28])\n",
            "output shape = torch.Size([50, 2, 8, 8])\n",
            "input shape = torch.Size([50, 1, 28, 28])\n",
            "output shape = torch.Size([50, 2, 8, 8])\n",
            "input shape = torch.Size([50, 1, 28, 28])\n",
            "output shape = torch.Size([50, 2, 8, 8])\n",
            "input shape = torch.Size([50, 1, 28, 28])\n",
            "output shape = torch.Size([50, 2, 8, 8])\n",
            "input shape = torch.Size([50, 1, 28, 28])\n",
            "output shape = torch.Size([50, 2, 8, 8])\n",
            "input shape = torch.Size([50, 1, 28, 28])\n",
            "output shape = torch.Size([50, 2, 8, 8])\n",
            "input shape = torch.Size([50, 1, 28, 28])\n",
            "output shape = torch.Size([50, 2, 8, 8])\n",
            "input shape = torch.Size([50, 1, 28, 28])\n",
            "output shape = torch.Size([50, 2, 8, 8])\n",
            "input shape = torch.Size([50, 1, 28, 28])\n",
            "output shape = torch.Size([50, 2, 8, 8])\n",
            "input shape = torch.Size([50, 1, 28, 28])\n",
            "output shape = torch.Size([50, 2, 8, 8])\n",
            "input shape = torch.Size([50, 1, 28, 28])\n",
            "output shape = torch.Size([50, 2, 8, 8])\n",
            "input shape = torch.Size([50, 1, 28, 28])\n",
            "output shape = torch.Size([50, 2, 8, 8])\n",
            "input shape = torch.Size([50, 1, 28, 28])\n",
            "output shape = torch.Size([50, 2, 8, 8])\n",
            "input shape = torch.Size([50, 1, 28, 28])\n",
            "output shape = torch.Size([50, 2, 8, 8])\n",
            "input shape = torch.Size([50, 1, 28, 28])\n",
            "output shape = torch.Size([50, 2, 8, 8])\n",
            "input shape = torch.Size([50, 1, 28, 28])\n",
            "output shape = torch.Size([50, 2, 8, 8])\n",
            "input shape = torch.Size([50, 1, 28, 28])\n",
            "output shape = torch.Size([50, 2, 8, 8])\n",
            "Epoch: 5/49 Loss: 0.4502663314342499\n",
            "input shape = torch.Size([50, 1, 28, 28])\n",
            "output shape = torch.Size([50, 2, 8, 8])\n",
            "input shape = torch.Size([50, 1, 28, 28])\n",
            "output shape = torch.Size([50, 2, 8, 8])\n",
            "input shape = torch.Size([50, 1, 28, 28])\n",
            "output shape = torch.Size([50, 2, 8, 8])\n",
            "input shape = torch.Size([50, 1, 28, 28])\n",
            "output shape = torch.Size([50, 2, 8, 8])\n",
            "input shape = torch.Size([50, 1, 28, 28])\n",
            "output shape = torch.Size([50, 2, 8, 8])\n",
            "input shape = torch.Size([50, 1, 28, 28])\n",
            "output shape = torch.Size([50, 2, 8, 8])\n",
            "input shape = torch.Size([50, 1, 28, 28])\n",
            "output shape = torch.Size([50, 2, 8, 8])\n",
            "input shape = torch.Size([50, 1, 28, 28])\n",
            "output shape = torch.Size([50, 2, 8, 8])\n",
            "input shape = torch.Size([50, 1, 28, 28])\n",
            "output shape = torch.Size([50, 2, 8, 8])\n",
            "input shape = torch.Size([50, 1, 28, 28])\n",
            "output shape = torch.Size([50, 2, 8, 8])\n",
            "input shape = torch.Size([50, 1, 28, 28])\n",
            "output shape = torch.Size([50, 2, 8, 8])\n",
            "input shape = torch.Size([50, 1, 28, 28])\n",
            "output shape = torch.Size([50, 2, 8, 8])\n",
            "input shape = torch.Size([50, 1, 28, 28])\n",
            "output shape = torch.Size([50, 2, 8, 8])\n",
            "input shape = torch.Size([50, 1, 28, 28])\n",
            "output shape = torch.Size([50, 2, 8, 8])\n",
            "input shape = torch.Size([50, 1, 28, 28])\n",
            "output shape = torch.Size([50, 2, 8, 8])\n",
            "input shape = torch.Size([50, 1, 28, 28])\n",
            "output shape = torch.Size([50, 2, 8, 8])\n",
            "input shape = torch.Size([50, 1, 28, 28])\n",
            "output shape = torch.Size([50, 2, 8, 8])\n",
            "input shape = torch.Size([50, 1, 28, 28])\n",
            "output shape = torch.Size([50, 2, 8, 8])\n",
            "input shape = torch.Size([50, 1, 28, 28])\n",
            "output shape = torch.Size([50, 2, 8, 8])\n",
            "input shape = torch.Size([50, 1, 28, 28])\n",
            "output shape = torch.Size([50, 2, 8, 8])\n",
            "Epoch: 6/49 Loss: 0.4075140655040741\n",
            "input shape = torch.Size([50, 1, 28, 28])\n",
            "output shape = torch.Size([50, 2, 8, 8])\n",
            "input shape = torch.Size([50, 1, 28, 28])\n",
            "output shape = torch.Size([50, 2, 8, 8])\n",
            "input shape = torch.Size([50, 1, 28, 28])\n",
            "output shape = torch.Size([50, 2, 8, 8])\n",
            "input shape = torch.Size([50, 1, 28, 28])\n",
            "output shape = torch.Size([50, 2, 8, 8])\n",
            "input shape = torch.Size([50, 1, 28, 28])\n",
            "output shape = torch.Size([50, 2, 8, 8])\n",
            "input shape = torch.Size([50, 1, 28, 28])\n",
            "output shape = torch.Size([50, 2, 8, 8])\n",
            "input shape = torch.Size([50, 1, 28, 28])\n",
            "output shape = torch.Size([50, 2, 8, 8])\n",
            "input shape = torch.Size([50, 1, 28, 28])\n",
            "output shape = torch.Size([50, 2, 8, 8])\n",
            "input shape = torch.Size([50, 1, 28, 28])\n",
            "output shape = torch.Size([50, 2, 8, 8])\n",
            "input shape = torch.Size([50, 1, 28, 28])\n",
            "output shape = torch.Size([50, 2, 8, 8])\n",
            "input shape = torch.Size([50, 1, 28, 28])\n",
            "output shape = torch.Size([50, 2, 8, 8])\n",
            "input shape = torch.Size([50, 1, 28, 28])\n",
            "output shape = torch.Size([50, 2, 8, 8])\n",
            "input shape = torch.Size([50, 1, 28, 28])\n",
            "output shape = torch.Size([50, 2, 8, 8])\n",
            "input shape = torch.Size([50, 1, 28, 28])\n",
            "output shape = torch.Size([50, 2, 8, 8])\n",
            "input shape = torch.Size([50, 1, 28, 28])\n",
            "output shape = torch.Size([50, 2, 8, 8])\n",
            "input shape = torch.Size([50, 1, 28, 28])\n",
            "output shape = torch.Size([50, 2, 8, 8])\n",
            "input shape = torch.Size([50, 1, 28, 28])\n",
            "output shape = torch.Size([50, 2, 8, 8])\n",
            "input shape = torch.Size([50, 1, 28, 28])\n",
            "output shape = torch.Size([50, 2, 8, 8])\n",
            "input shape = torch.Size([50, 1, 28, 28])\n",
            "output shape = torch.Size([50, 2, 8, 8])\n",
            "input shape = torch.Size([50, 1, 28, 28])\n",
            "output shape = torch.Size([50, 2, 8, 8])\n",
            "Epoch: 7/49 Loss: 0.37713873386383057\n",
            "input shape = torch.Size([50, 1, 28, 28])\n",
            "output shape = torch.Size([50, 2, 8, 8])\n",
            "input shape = torch.Size([50, 1, 28, 28])\n",
            "output shape = torch.Size([50, 2, 8, 8])\n",
            "input shape = torch.Size([50, 1, 28, 28])\n",
            "output shape = torch.Size([50, 2, 8, 8])\n",
            "input shape = torch.Size([50, 1, 28, 28])\n",
            "output shape = torch.Size([50, 2, 8, 8])\n",
            "input shape = torch.Size([50, 1, 28, 28])\n",
            "output shape = torch.Size([50, 2, 8, 8])\n",
            "input shape = torch.Size([50, 1, 28, 28])\n",
            "output shape = torch.Size([50, 2, 8, 8])\n",
            "input shape = torch.Size([50, 1, 28, 28])\n",
            "output shape = torch.Size([50, 2, 8, 8])\n",
            "input shape = torch.Size([50, 1, 28, 28])\n",
            "output shape = torch.Size([50, 2, 8, 8])\n",
            "input shape = torch.Size([50, 1, 28, 28])\n",
            "output shape = torch.Size([50, 2, 8, 8])\n",
            "input shape = torch.Size([50, 1, 28, 28])\n",
            "output shape = torch.Size([50, 2, 8, 8])\n",
            "input shape = torch.Size([50, 1, 28, 28])\n",
            "output shape = torch.Size([50, 2, 8, 8])\n",
            "input shape = torch.Size([50, 1, 28, 28])\n",
            "output shape = torch.Size([50, 2, 8, 8])\n",
            "input shape = torch.Size([50, 1, 28, 28])\n",
            "output shape = torch.Size([50, 2, 8, 8])\n",
            "input shape = torch.Size([50, 1, 28, 28])\n",
            "output shape = torch.Size([50, 2, 8, 8])\n",
            "input shape = torch.Size([50, 1, 28, 28])\n",
            "output shape = torch.Size([50, 2, 8, 8])\n",
            "input shape = torch.Size([50, 1, 28, 28])\n",
            "output shape = torch.Size([50, 2, 8, 8])\n",
            "input shape = torch.Size([50, 1, 28, 28])\n",
            "output shape = torch.Size([50, 2, 8, 8])\n",
            "input shape = torch.Size([50, 1, 28, 28])\n",
            "output shape = torch.Size([50, 2, 8, 8])\n",
            "input shape = torch.Size([50, 1, 28, 28])\n",
            "output shape = torch.Size([50, 2, 8, 8])\n",
            "input shape = torch.Size([50, 1, 28, 28])\n",
            "output shape = torch.Size([50, 2, 8, 8])\n",
            "Epoch: 8/49 Loss: 0.3534485995769501\n",
            "input shape = torch.Size([50, 1, 28, 28])\n",
            "output shape = torch.Size([50, 2, 8, 8])\n",
            "input shape = torch.Size([50, 1, 28, 28])\n",
            "output shape = torch.Size([50, 2, 8, 8])\n",
            "input shape = torch.Size([50, 1, 28, 28])\n",
            "output shape = torch.Size([50, 2, 8, 8])\n",
            "input shape = torch.Size([50, 1, 28, 28])\n",
            "output shape = torch.Size([50, 2, 8, 8])\n",
            "input shape = torch.Size([50, 1, 28, 28])\n",
            "output shape = torch.Size([50, 2, 8, 8])\n",
            "input shape = torch.Size([50, 1, 28, 28])\n",
            "output shape = torch.Size([50, 2, 8, 8])\n",
            "input shape = torch.Size([50, 1, 28, 28])\n",
            "output shape = torch.Size([50, 2, 8, 8])\n",
            "input shape = torch.Size([50, 1, 28, 28])\n",
            "output shape = torch.Size([50, 2, 8, 8])\n",
            "input shape = torch.Size([50, 1, 28, 28])\n",
            "output shape = torch.Size([50, 2, 8, 8])\n",
            "input shape = torch.Size([50, 1, 28, 28])\n",
            "output shape = torch.Size([50, 2, 8, 8])\n",
            "input shape = torch.Size([50, 1, 28, 28])\n",
            "output shape = torch.Size([50, 2, 8, 8])\n",
            "input shape = torch.Size([50, 1, 28, 28])\n",
            "output shape = torch.Size([50, 2, 8, 8])\n",
            "input shape = torch.Size([50, 1, 28, 28])\n",
            "output shape = torch.Size([50, 2, 8, 8])\n",
            "input shape = torch.Size([50, 1, 28, 28])\n",
            "output shape = torch.Size([50, 2, 8, 8])\n",
            "input shape = torch.Size([50, 1, 28, 28])\n",
            "output shape = torch.Size([50, 2, 8, 8])\n",
            "input shape = torch.Size([50, 1, 28, 28])\n",
            "output shape = torch.Size([50, 2, 8, 8])\n",
            "input shape = torch.Size([50, 1, 28, 28])\n",
            "output shape = torch.Size([50, 2, 8, 8])\n",
            "input shape = torch.Size([50, 1, 28, 28])\n",
            "output shape = torch.Size([50, 2, 8, 8])\n",
            "input shape = torch.Size([50, 1, 28, 28])\n",
            "output shape = torch.Size([50, 2, 8, 8])\n",
            "input shape = torch.Size([50, 1, 28, 28])\n",
            "output shape = torch.Size([50, 2, 8, 8])\n",
            "Epoch: 9/49 Loss: 0.3341451585292816\n",
            "input shape = torch.Size([50, 1, 28, 28])\n",
            "output shape = torch.Size([50, 2, 8, 8])\n",
            "input shape = torch.Size([50, 1, 28, 28])\n",
            "output shape = torch.Size([50, 2, 8, 8])\n",
            "input shape = torch.Size([50, 1, 28, 28])\n",
            "output shape = torch.Size([50, 2, 8, 8])\n",
            "input shape = torch.Size([50, 1, 28, 28])\n",
            "output shape = torch.Size([50, 2, 8, 8])\n",
            "input shape = torch.Size([50, 1, 28, 28])\n",
            "output shape = torch.Size([50, 2, 8, 8])\n",
            "input shape = torch.Size([50, 1, 28, 28])\n",
            "output shape = torch.Size([50, 2, 8, 8])\n",
            "input shape = torch.Size([50, 1, 28, 28])\n",
            "output shape = torch.Size([50, 2, 8, 8])\n",
            "input shape = torch.Size([50, 1, 28, 28])\n",
            "output shape = torch.Size([50, 2, 8, 8])\n",
            "input shape = torch.Size([50, 1, 28, 28])\n",
            "output shape = torch.Size([50, 2, 8, 8])\n",
            "input shape = torch.Size([50, 1, 28, 28])\n",
            "output shape = torch.Size([50, 2, 8, 8])\n",
            "input shape = torch.Size([50, 1, 28, 28])\n",
            "output shape = torch.Size([50, 2, 8, 8])\n",
            "input shape = torch.Size([50, 1, 28, 28])\n",
            "output shape = torch.Size([50, 2, 8, 8])\n",
            "input shape = torch.Size([50, 1, 28, 28])\n",
            "output shape = torch.Size([50, 2, 8, 8])\n",
            "input shape = torch.Size([50, 1, 28, 28])\n",
            "output shape = torch.Size([50, 2, 8, 8])\n",
            "input shape = torch.Size([50, 1, 28, 28])\n",
            "output shape = torch.Size([50, 2, 8, 8])\n",
            "input shape = torch.Size([50, 1, 28, 28])\n",
            "output shape = torch.Size([50, 2, 8, 8])\n",
            "input shape = torch.Size([50, 1, 28, 28])\n",
            "output shape = torch.Size([50, 2, 8, 8])\n",
            "input shape = torch.Size([50, 1, 28, 28])\n",
            "output shape = torch.Size([50, 2, 8, 8])\n",
            "input shape = torch.Size([50, 1, 28, 28])\n",
            "output shape = torch.Size([50, 2, 8, 8])\n",
            "input shape = torch.Size([50, 1, 28, 28])\n",
            "output shape = torch.Size([50, 2, 8, 8])\n",
            "Epoch: 10/49 Loss: 0.3181140422821045\n",
            "input shape = torch.Size([50, 1, 28, 28])\n",
            "output shape = torch.Size([50, 2, 8, 8])\n",
            "input shape = torch.Size([50, 1, 28, 28])\n",
            "output shape = torch.Size([50, 2, 8, 8])\n",
            "input shape = torch.Size([50, 1, 28, 28])\n",
            "output shape = torch.Size([50, 2, 8, 8])\n",
            "input shape = torch.Size([50, 1, 28, 28])\n",
            "output shape = torch.Size([50, 2, 8, 8])\n",
            "input shape = torch.Size([50, 1, 28, 28])\n",
            "output shape = torch.Size([50, 2, 8, 8])\n",
            "input shape = torch.Size([50, 1, 28, 28])\n",
            "output shape = torch.Size([50, 2, 8, 8])\n",
            "input shape = torch.Size([50, 1, 28, 28])\n",
            "output shape = torch.Size([50, 2, 8, 8])\n",
            "input shape = torch.Size([50, 1, 28, 28])\n",
            "output shape = torch.Size([50, 2, 8, 8])\n",
            "input shape = torch.Size([50, 1, 28, 28])\n",
            "output shape = torch.Size([50, 2, 8, 8])\n",
            "input shape = torch.Size([50, 1, 28, 28])\n",
            "output shape = torch.Size([50, 2, 8, 8])\n",
            "input shape = torch.Size([50, 1, 28, 28])\n",
            "output shape = torch.Size([50, 2, 8, 8])\n",
            "input shape = torch.Size([50, 1, 28, 28])\n",
            "output shape = torch.Size([50, 2, 8, 8])\n",
            "input shape = torch.Size([50, 1, 28, 28])\n",
            "output shape = torch.Size([50, 2, 8, 8])\n",
            "input shape = torch.Size([50, 1, 28, 28])\n",
            "output shape = torch.Size([50, 2, 8, 8])\n",
            "input shape = torch.Size([50, 1, 28, 28])\n",
            "output shape = torch.Size([50, 2, 8, 8])\n",
            "input shape = torch.Size([50, 1, 28, 28])\n",
            "output shape = torch.Size([50, 2, 8, 8])\n",
            "input shape = torch.Size([50, 1, 28, 28])\n",
            "output shape = torch.Size([50, 2, 8, 8])\n",
            "input shape = torch.Size([50, 1, 28, 28])\n",
            "output shape = torch.Size([50, 2, 8, 8])\n",
            "input shape = torch.Size([50, 1, 28, 28])\n",
            "output shape = torch.Size([50, 2, 8, 8])\n",
            "input shape = torch.Size([50, 1, 28, 28])\n",
            "output shape = torch.Size([50, 2, 8, 8])\n",
            "Epoch: 11/49 Loss: 0.30457887053489685\n",
            "input shape = torch.Size([50, 1, 28, 28])\n",
            "output shape = torch.Size([50, 2, 8, 8])\n",
            "input shape = torch.Size([50, 1, 28, 28])\n",
            "output shape = torch.Size([50, 2, 8, 8])\n",
            "input shape = torch.Size([50, 1, 28, 28])\n",
            "output shape = torch.Size([50, 2, 8, 8])\n",
            "input shape = torch.Size([50, 1, 28, 28])\n",
            "output shape = torch.Size([50, 2, 8, 8])\n",
            "input shape = torch.Size([50, 1, 28, 28])\n",
            "output shape = torch.Size([50, 2, 8, 8])\n",
            "input shape = torch.Size([50, 1, 28, 28])\n",
            "output shape = torch.Size([50, 2, 8, 8])\n",
            "input shape = torch.Size([50, 1, 28, 28])\n",
            "output shape = torch.Size([50, 2, 8, 8])\n",
            "input shape = torch.Size([50, 1, 28, 28])\n",
            "output shape = torch.Size([50, 2, 8, 8])\n",
            "input shape = torch.Size([50, 1, 28, 28])\n",
            "output shape = torch.Size([50, 2, 8, 8])\n",
            "input shape = torch.Size([50, 1, 28, 28])\n",
            "output shape = torch.Size([50, 2, 8, 8])\n",
            "input shape = torch.Size([50, 1, 28, 28])\n",
            "output shape = torch.Size([50, 2, 8, 8])\n",
            "input shape = torch.Size([50, 1, 28, 28])\n",
            "output shape = torch.Size([50, 2, 8, 8])\n",
            "input shape = torch.Size([50, 1, 28, 28])\n",
            "output shape = torch.Size([50, 2, 8, 8])\n",
            "input shape = torch.Size([50, 1, 28, 28])\n",
            "output shape = torch.Size([50, 2, 8, 8])\n",
            "input shape = torch.Size([50, 1, 28, 28])\n",
            "output shape = torch.Size([50, 2, 8, 8])\n",
            "input shape = torch.Size([50, 1, 28, 28])\n",
            "output shape = torch.Size([50, 2, 8, 8])\n",
            "input shape = torch.Size([50, 1, 28, 28])\n",
            "output shape = torch.Size([50, 2, 8, 8])\n",
            "input shape = torch.Size([50, 1, 28, 28])\n",
            "output shape = torch.Size([50, 2, 8, 8])\n",
            "input shape = torch.Size([50, 1, 28, 28])\n",
            "output shape = torch.Size([50, 2, 8, 8])\n",
            "input shape = torch.Size([50, 1, 28, 28])\n",
            "output shape = torch.Size([50, 2, 8, 8])\n",
            "Epoch: 12/49 Loss: 0.2928348779678345\n",
            "input shape = torch.Size([50, 1, 28, 28])\n",
            "output shape = torch.Size([50, 2, 8, 8])\n",
            "input shape = torch.Size([50, 1, 28, 28])\n",
            "output shape = torch.Size([50, 2, 8, 8])\n",
            "input shape = torch.Size([50, 1, 28, 28])\n",
            "output shape = torch.Size([50, 2, 8, 8])\n",
            "input shape = torch.Size([50, 1, 28, 28])\n",
            "output shape = torch.Size([50, 2, 8, 8])\n",
            "input shape = torch.Size([50, 1, 28, 28])\n",
            "output shape = torch.Size([50, 2, 8, 8])\n",
            "input shape = torch.Size([50, 1, 28, 28])\n",
            "output shape = torch.Size([50, 2, 8, 8])\n",
            "input shape = torch.Size([50, 1, 28, 28])\n",
            "output shape = torch.Size([50, 2, 8, 8])\n",
            "input shape = torch.Size([50, 1, 28, 28])\n",
            "output shape = torch.Size([50, 2, 8, 8])\n",
            "input shape = torch.Size([50, 1, 28, 28])\n",
            "output shape = torch.Size([50, 2, 8, 8])\n",
            "input shape = torch.Size([50, 1, 28, 28])\n",
            "output shape = torch.Size([50, 2, 8, 8])\n",
            "input shape = torch.Size([50, 1, 28, 28])\n",
            "output shape = torch.Size([50, 2, 8, 8])\n",
            "input shape = torch.Size([50, 1, 28, 28])\n",
            "output shape = torch.Size([50, 2, 8, 8])\n",
            "input shape = torch.Size([50, 1, 28, 28])\n",
            "output shape = torch.Size([50, 2, 8, 8])\n",
            "input shape = torch.Size([50, 1, 28, 28])\n",
            "output shape = torch.Size([50, 2, 8, 8])\n",
            "input shape = torch.Size([50, 1, 28, 28])\n",
            "output shape = torch.Size([50, 2, 8, 8])\n",
            "input shape = torch.Size([50, 1, 28, 28])\n",
            "output shape = torch.Size([50, 2, 8, 8])\n",
            "input shape = torch.Size([50, 1, 28, 28])\n",
            "output shape = torch.Size([50, 2, 8, 8])\n",
            "input shape = torch.Size([50, 1, 28, 28])\n",
            "output shape = torch.Size([50, 2, 8, 8])\n",
            "input shape = torch.Size([50, 1, 28, 28])\n",
            "output shape = torch.Size([50, 2, 8, 8])\n",
            "input shape = torch.Size([50, 1, 28, 28])\n",
            "output shape = torch.Size([50, 2, 8, 8])\n",
            "Epoch: 13/49 Loss: 0.2827608287334442\n",
            "input shape = torch.Size([50, 1, 28, 28])\n",
            "output shape = torch.Size([50, 2, 8, 8])\n",
            "input shape = torch.Size([50, 1, 28, 28])\n",
            "output shape = torch.Size([50, 2, 8, 8])\n",
            "input shape = torch.Size([50, 1, 28, 28])\n",
            "output shape = torch.Size([50, 2, 8, 8])\n",
            "input shape = torch.Size([50, 1, 28, 28])\n",
            "output shape = torch.Size([50, 2, 8, 8])\n",
            "input shape = torch.Size([50, 1, 28, 28])\n",
            "output shape = torch.Size([50, 2, 8, 8])\n",
            "input shape = torch.Size([50, 1, 28, 28])\n",
            "output shape = torch.Size([50, 2, 8, 8])\n",
            "input shape = torch.Size([50, 1, 28, 28])\n",
            "output shape = torch.Size([50, 2, 8, 8])\n",
            "input shape = torch.Size([50, 1, 28, 28])\n",
            "output shape = torch.Size([50, 2, 8, 8])\n",
            "input shape = torch.Size([50, 1, 28, 28])\n",
            "output shape = torch.Size([50, 2, 8, 8])\n",
            "input shape = torch.Size([50, 1, 28, 28])\n",
            "output shape = torch.Size([50, 2, 8, 8])\n",
            "input shape = torch.Size([50, 1, 28, 28])\n",
            "output shape = torch.Size([50, 2, 8, 8])\n",
            "input shape = torch.Size([50, 1, 28, 28])\n",
            "output shape = torch.Size([50, 2, 8, 8])\n",
            "input shape = torch.Size([50, 1, 28, 28])\n",
            "output shape = torch.Size([50, 2, 8, 8])\n",
            "input shape = torch.Size([50, 1, 28, 28])\n",
            "output shape = torch.Size([50, 2, 8, 8])\n",
            "input shape = torch.Size([50, 1, 28, 28])\n",
            "output shape = torch.Size([50, 2, 8, 8])\n",
            "input shape = torch.Size([50, 1, 28, 28])\n",
            "output shape = torch.Size([50, 2, 8, 8])\n",
            "input shape = torch.Size([50, 1, 28, 28])\n",
            "output shape = torch.Size([50, 2, 8, 8])\n",
            "input shape = torch.Size([50, 1, 28, 28])\n",
            "output shape = torch.Size([50, 2, 8, 8])\n",
            "input shape = torch.Size([50, 1, 28, 28])\n",
            "output shape = torch.Size([50, 2, 8, 8])\n",
            "input shape = torch.Size([50, 1, 28, 28])\n",
            "output shape = torch.Size([50, 2, 8, 8])\n",
            "Epoch: 14/49 Loss: 0.2738332748413086\n",
            "input shape = torch.Size([50, 1, 28, 28])\n",
            "output shape = torch.Size([50, 2, 8, 8])\n",
            "input shape = torch.Size([50, 1, 28, 28])\n",
            "output shape = torch.Size([50, 2, 8, 8])\n",
            "input shape = torch.Size([50, 1, 28, 28])\n",
            "output shape = torch.Size([50, 2, 8, 8])\n",
            "input shape = torch.Size([50, 1, 28, 28])\n",
            "output shape = torch.Size([50, 2, 8, 8])\n",
            "input shape = torch.Size([50, 1, 28, 28])\n",
            "output shape = torch.Size([50, 2, 8, 8])\n",
            "input shape = torch.Size([50, 1, 28, 28])\n",
            "output shape = torch.Size([50, 2, 8, 8])\n",
            "input shape = torch.Size([50, 1, 28, 28])\n",
            "output shape = torch.Size([50, 2, 8, 8])\n",
            "input shape = torch.Size([50, 1, 28, 28])\n",
            "output shape = torch.Size([50, 2, 8, 8])\n",
            "input shape = torch.Size([50, 1, 28, 28])\n",
            "output shape = torch.Size([50, 2, 8, 8])\n",
            "input shape = torch.Size([50, 1, 28, 28])\n",
            "output shape = torch.Size([50, 2, 8, 8])\n",
            "input shape = torch.Size([50, 1, 28, 28])\n",
            "output shape = torch.Size([50, 2, 8, 8])\n",
            "input shape = torch.Size([50, 1, 28, 28])\n",
            "output shape = torch.Size([50, 2, 8, 8])\n",
            "input shape = torch.Size([50, 1, 28, 28])\n",
            "output shape = torch.Size([50, 2, 8, 8])\n",
            "input shape = torch.Size([50, 1, 28, 28])\n",
            "output shape = torch.Size([50, 2, 8, 8])\n",
            "input shape = torch.Size([50, 1, 28, 28])\n",
            "output shape = torch.Size([50, 2, 8, 8])\n",
            "input shape = torch.Size([50, 1, 28, 28])\n",
            "output shape = torch.Size([50, 2, 8, 8])\n",
            "input shape = torch.Size([50, 1, 28, 28])\n",
            "output shape = torch.Size([50, 2, 8, 8])\n",
            "input shape = torch.Size([50, 1, 28, 28])\n",
            "output shape = torch.Size([50, 2, 8, 8])\n",
            "input shape = torch.Size([50, 1, 28, 28])\n",
            "output shape = torch.Size([50, 2, 8, 8])\n",
            "input shape = torch.Size([50, 1, 28, 28])\n",
            "output shape = torch.Size([50, 2, 8, 8])\n",
            "Epoch: 15/49 Loss: 0.26577427983283997\n",
            "input shape = torch.Size([50, 1, 28, 28])\n",
            "output shape = torch.Size([50, 2, 8, 8])\n",
            "input shape = torch.Size([50, 1, 28, 28])\n",
            "output shape = torch.Size([50, 2, 8, 8])\n",
            "input shape = torch.Size([50, 1, 28, 28])\n",
            "output shape = torch.Size([50, 2, 8, 8])\n",
            "input shape = torch.Size([50, 1, 28, 28])\n",
            "output shape = torch.Size([50, 2, 8, 8])\n",
            "input shape = torch.Size([50, 1, 28, 28])\n",
            "output shape = torch.Size([50, 2, 8, 8])\n",
            "input shape = torch.Size([50, 1, 28, 28])\n",
            "output shape = torch.Size([50, 2, 8, 8])\n",
            "input shape = torch.Size([50, 1, 28, 28])\n",
            "output shape = torch.Size([50, 2, 8, 8])\n",
            "input shape = torch.Size([50, 1, 28, 28])\n",
            "output shape = torch.Size([50, 2, 8, 8])\n",
            "input shape = torch.Size([50, 1, 28, 28])\n",
            "output shape = torch.Size([50, 2, 8, 8])\n",
            "input shape = torch.Size([50, 1, 28, 28])\n",
            "output shape = torch.Size([50, 2, 8, 8])\n",
            "input shape = torch.Size([50, 1, 28, 28])\n",
            "output shape = torch.Size([50, 2, 8, 8])\n",
            "input shape = torch.Size([50, 1, 28, 28])\n",
            "output shape = torch.Size([50, 2, 8, 8])\n",
            "input shape = torch.Size([50, 1, 28, 28])\n",
            "output shape = torch.Size([50, 2, 8, 8])\n",
            "input shape = torch.Size([50, 1, 28, 28])\n",
            "output shape = torch.Size([50, 2, 8, 8])\n",
            "input shape = torch.Size([50, 1, 28, 28])\n",
            "output shape = torch.Size([50, 2, 8, 8])\n",
            "input shape = torch.Size([50, 1, 28, 28])\n",
            "output shape = torch.Size([50, 2, 8, 8])\n",
            "input shape = torch.Size([50, 1, 28, 28])\n",
            "output shape = torch.Size([50, 2, 8, 8])\n",
            "input shape = torch.Size([50, 1, 28, 28])\n",
            "output shape = torch.Size([50, 2, 8, 8])\n",
            "input shape = torch.Size([50, 1, 28, 28])\n",
            "output shape = torch.Size([50, 2, 8, 8])\n",
            "input shape = torch.Size([50, 1, 28, 28])\n",
            "output shape = torch.Size([50, 2, 8, 8])\n",
            "Epoch: 16/49 Loss: 0.2583288252353668\n",
            "input shape = torch.Size([50, 1, 28, 28])\n",
            "output shape = torch.Size([50, 2, 8, 8])\n",
            "input shape = torch.Size([50, 1, 28, 28])\n",
            "output shape = torch.Size([50, 2, 8, 8])\n",
            "input shape = torch.Size([50, 1, 28, 28])\n",
            "output shape = torch.Size([50, 2, 8, 8])\n",
            "input shape = torch.Size([50, 1, 28, 28])\n",
            "output shape = torch.Size([50, 2, 8, 8])\n",
            "input shape = torch.Size([50, 1, 28, 28])\n",
            "output shape = torch.Size([50, 2, 8, 8])\n",
            "input shape = torch.Size([50, 1, 28, 28])\n",
            "output shape = torch.Size([50, 2, 8, 8])\n",
            "input shape = torch.Size([50, 1, 28, 28])\n",
            "output shape = torch.Size([50, 2, 8, 8])\n",
            "input shape = torch.Size([50, 1, 28, 28])\n",
            "output shape = torch.Size([50, 2, 8, 8])\n",
            "input shape = torch.Size([50, 1, 28, 28])\n",
            "output shape = torch.Size([50, 2, 8, 8])\n",
            "input shape = torch.Size([50, 1, 28, 28])\n",
            "output shape = torch.Size([50, 2, 8, 8])\n",
            "input shape = torch.Size([50, 1, 28, 28])\n",
            "output shape = torch.Size([50, 2, 8, 8])\n",
            "input shape = torch.Size([50, 1, 28, 28])\n",
            "output shape = torch.Size([50, 2, 8, 8])\n",
            "input shape = torch.Size([50, 1, 28, 28])\n",
            "output shape = torch.Size([50, 2, 8, 8])\n",
            "input shape = torch.Size([50, 1, 28, 28])\n",
            "output shape = torch.Size([50, 2, 8, 8])\n",
            "input shape = torch.Size([50, 1, 28, 28])\n",
            "output shape = torch.Size([50, 2, 8, 8])\n",
            "input shape = torch.Size([50, 1, 28, 28])\n",
            "output shape = torch.Size([50, 2, 8, 8])\n",
            "input shape = torch.Size([50, 1, 28, 28])\n",
            "output shape = torch.Size([50, 2, 8, 8])\n",
            "input shape = torch.Size([50, 1, 28, 28])\n",
            "output shape = torch.Size([50, 2, 8, 8])\n",
            "input shape = torch.Size([50, 1, 28, 28])\n",
            "output shape = torch.Size([50, 2, 8, 8])\n",
            "input shape = torch.Size([50, 1, 28, 28])\n",
            "output shape = torch.Size([50, 2, 8, 8])\n",
            "Epoch: 17/49 Loss: 0.25117501616477966\n",
            "input shape = torch.Size([50, 1, 28, 28])\n",
            "output shape = torch.Size([50, 2, 8, 8])\n",
            "input shape = torch.Size([50, 1, 28, 28])\n",
            "output shape = torch.Size([50, 2, 8, 8])\n",
            "input shape = torch.Size([50, 1, 28, 28])\n",
            "output shape = torch.Size([50, 2, 8, 8])\n",
            "input shape = torch.Size([50, 1, 28, 28])\n",
            "output shape = torch.Size([50, 2, 8, 8])\n",
            "input shape = torch.Size([50, 1, 28, 28])\n",
            "output shape = torch.Size([50, 2, 8, 8])\n",
            "input shape = torch.Size([50, 1, 28, 28])\n",
            "output shape = torch.Size([50, 2, 8, 8])\n",
            "input shape = torch.Size([50, 1, 28, 28])\n",
            "output shape = torch.Size([50, 2, 8, 8])\n",
            "input shape = torch.Size([50, 1, 28, 28])\n",
            "output shape = torch.Size([50, 2, 8, 8])\n",
            "input shape = torch.Size([50, 1, 28, 28])\n",
            "output shape = torch.Size([50, 2, 8, 8])\n",
            "input shape = torch.Size([50, 1, 28, 28])\n",
            "output shape = torch.Size([50, 2, 8, 8])\n",
            "input shape = torch.Size([50, 1, 28, 28])\n",
            "output shape = torch.Size([50, 2, 8, 8])\n",
            "input shape = torch.Size([50, 1, 28, 28])\n",
            "output shape = torch.Size([50, 2, 8, 8])\n",
            "input shape = torch.Size([50, 1, 28, 28])\n",
            "output shape = torch.Size([50, 2, 8, 8])\n",
            "input shape = torch.Size([50, 1, 28, 28])\n",
            "output shape = torch.Size([50, 2, 8, 8])\n",
            "input shape = torch.Size([50, 1, 28, 28])\n",
            "output shape = torch.Size([50, 2, 8, 8])\n",
            "input shape = torch.Size([50, 1, 28, 28])\n",
            "output shape = torch.Size([50, 2, 8, 8])\n",
            "input shape = torch.Size([50, 1, 28, 28])\n",
            "output shape = torch.Size([50, 2, 8, 8])\n",
            "input shape = torch.Size([50, 1, 28, 28])\n",
            "output shape = torch.Size([50, 2, 8, 8])\n",
            "input shape = torch.Size([50, 1, 28, 28])\n",
            "output shape = torch.Size([50, 2, 8, 8])\n",
            "input shape = torch.Size([50, 1, 28, 28])\n",
            "output shape = torch.Size([50, 2, 8, 8])\n",
            "Epoch: 18/49 Loss: 0.24439716339111328\n",
            "input shape = torch.Size([50, 1, 28, 28])\n",
            "output shape = torch.Size([50, 2, 8, 8])\n",
            "input shape = torch.Size([50, 1, 28, 28])\n",
            "output shape = torch.Size([50, 2, 8, 8])\n",
            "input shape = torch.Size([50, 1, 28, 28])\n",
            "output shape = torch.Size([50, 2, 8, 8])\n",
            "input shape = torch.Size([50, 1, 28, 28])\n",
            "output shape = torch.Size([50, 2, 8, 8])\n",
            "input shape = torch.Size([50, 1, 28, 28])\n",
            "output shape = torch.Size([50, 2, 8, 8])\n",
            "input shape = torch.Size([50, 1, 28, 28])\n",
            "output shape = torch.Size([50, 2, 8, 8])\n",
            "input shape = torch.Size([50, 1, 28, 28])\n",
            "output shape = torch.Size([50, 2, 8, 8])\n",
            "input shape = torch.Size([50, 1, 28, 28])\n",
            "output shape = torch.Size([50, 2, 8, 8])\n",
            "input shape = torch.Size([50, 1, 28, 28])\n",
            "output shape = torch.Size([50, 2, 8, 8])\n",
            "input shape = torch.Size([50, 1, 28, 28])\n",
            "output shape = torch.Size([50, 2, 8, 8])\n",
            "input shape = torch.Size([50, 1, 28, 28])\n",
            "output shape = torch.Size([50, 2, 8, 8])\n",
            "input shape = torch.Size([50, 1, 28, 28])\n",
            "output shape = torch.Size([50, 2, 8, 8])\n",
            "input shape = torch.Size([50, 1, 28, 28])\n",
            "output shape = torch.Size([50, 2, 8, 8])\n",
            "input shape = torch.Size([50, 1, 28, 28])\n",
            "output shape = torch.Size([50, 2, 8, 8])\n",
            "input shape = torch.Size([50, 1, 28, 28])\n",
            "output shape = torch.Size([50, 2, 8, 8])\n",
            "input shape = torch.Size([50, 1, 28, 28])\n",
            "output shape = torch.Size([50, 2, 8, 8])\n",
            "input shape = torch.Size([50, 1, 28, 28])\n",
            "output shape = torch.Size([50, 2, 8, 8])\n",
            "input shape = torch.Size([50, 1, 28, 28])\n",
            "output shape = torch.Size([50, 2, 8, 8])\n",
            "input shape = torch.Size([50, 1, 28, 28])\n",
            "output shape = torch.Size([50, 2, 8, 8])\n",
            "input shape = torch.Size([50, 1, 28, 28])\n",
            "output shape = torch.Size([50, 2, 8, 8])\n",
            "Epoch: 19/49 Loss: 0.2378995716571808\n",
            "input shape = torch.Size([50, 1, 28, 28])\n",
            "output shape = torch.Size([50, 2, 8, 8])\n",
            "input shape = torch.Size([50, 1, 28, 28])\n",
            "output shape = torch.Size([50, 2, 8, 8])\n",
            "input shape = torch.Size([50, 1, 28, 28])\n",
            "output shape = torch.Size([50, 2, 8, 8])\n",
            "input shape = torch.Size([50, 1, 28, 28])\n",
            "output shape = torch.Size([50, 2, 8, 8])\n",
            "input shape = torch.Size([50, 1, 28, 28])\n",
            "output shape = torch.Size([50, 2, 8, 8])\n",
            "input shape = torch.Size([50, 1, 28, 28])\n",
            "output shape = torch.Size([50, 2, 8, 8])\n",
            "input shape = torch.Size([50, 1, 28, 28])\n",
            "output shape = torch.Size([50, 2, 8, 8])\n",
            "input shape = torch.Size([50, 1, 28, 28])\n",
            "output shape = torch.Size([50, 2, 8, 8])\n",
            "input shape = torch.Size([50, 1, 28, 28])\n",
            "output shape = torch.Size([50, 2, 8, 8])\n",
            "input shape = torch.Size([50, 1, 28, 28])\n",
            "output shape = torch.Size([50, 2, 8, 8])\n",
            "input shape = torch.Size([50, 1, 28, 28])\n",
            "output shape = torch.Size([50, 2, 8, 8])\n",
            "input shape = torch.Size([50, 1, 28, 28])\n",
            "output shape = torch.Size([50, 2, 8, 8])\n",
            "input shape = torch.Size([50, 1, 28, 28])\n",
            "output shape = torch.Size([50, 2, 8, 8])\n",
            "input shape = torch.Size([50, 1, 28, 28])\n",
            "output shape = torch.Size([50, 2, 8, 8])\n",
            "input shape = torch.Size([50, 1, 28, 28])\n",
            "output shape = torch.Size([50, 2, 8, 8])\n",
            "input shape = torch.Size([50, 1, 28, 28])\n",
            "output shape = torch.Size([50, 2, 8, 8])\n",
            "input shape = torch.Size([50, 1, 28, 28])\n",
            "output shape = torch.Size([50, 2, 8, 8])\n",
            "input shape = torch.Size([50, 1, 28, 28])\n",
            "output shape = torch.Size([50, 2, 8, 8])\n",
            "input shape = torch.Size([50, 1, 28, 28])\n",
            "output shape = torch.Size([50, 2, 8, 8])\n",
            "input shape = torch.Size([50, 1, 28, 28])\n",
            "output shape = torch.Size([50, 2, 8, 8])\n",
            "Epoch: 20/49 Loss: 0.23167717456817627\n",
            "input shape = torch.Size([50, 1, 28, 28])\n",
            "output shape = torch.Size([50, 2, 8, 8])\n",
            "input shape = torch.Size([50, 1, 28, 28])\n",
            "output shape = torch.Size([50, 2, 8, 8])\n",
            "input shape = torch.Size([50, 1, 28, 28])\n",
            "output shape = torch.Size([50, 2, 8, 8])\n",
            "input shape = torch.Size([50, 1, 28, 28])\n",
            "output shape = torch.Size([50, 2, 8, 8])\n",
            "input shape = torch.Size([50, 1, 28, 28])\n",
            "output shape = torch.Size([50, 2, 8, 8])\n",
            "input shape = torch.Size([50, 1, 28, 28])\n",
            "output shape = torch.Size([50, 2, 8, 8])\n",
            "input shape = torch.Size([50, 1, 28, 28])\n",
            "output shape = torch.Size([50, 2, 8, 8])\n",
            "input shape = torch.Size([50, 1, 28, 28])\n",
            "output shape = torch.Size([50, 2, 8, 8])\n",
            "input shape = torch.Size([50, 1, 28, 28])\n",
            "output shape = torch.Size([50, 2, 8, 8])\n",
            "input shape = torch.Size([50, 1, 28, 28])\n",
            "output shape = torch.Size([50, 2, 8, 8])\n",
            "input shape = torch.Size([50, 1, 28, 28])\n",
            "output shape = torch.Size([50, 2, 8, 8])\n",
            "input shape = torch.Size([50, 1, 28, 28])\n",
            "output shape = torch.Size([50, 2, 8, 8])\n",
            "input shape = torch.Size([50, 1, 28, 28])\n",
            "output shape = torch.Size([50, 2, 8, 8])\n",
            "input shape = torch.Size([50, 1, 28, 28])\n",
            "output shape = torch.Size([50, 2, 8, 8])\n",
            "input shape = torch.Size([50, 1, 28, 28])\n",
            "output shape = torch.Size([50, 2, 8, 8])\n",
            "input shape = torch.Size([50, 1, 28, 28])\n",
            "output shape = torch.Size([50, 2, 8, 8])\n",
            "input shape = torch.Size([50, 1, 28, 28])\n",
            "output shape = torch.Size([50, 2, 8, 8])\n",
            "input shape = torch.Size([50, 1, 28, 28])\n",
            "output shape = torch.Size([50, 2, 8, 8])\n",
            "input shape = torch.Size([50, 1, 28, 28])\n",
            "output shape = torch.Size([50, 2, 8, 8])\n",
            "input shape = torch.Size([50, 1, 28, 28])\n",
            "output shape = torch.Size([50, 2, 8, 8])\n",
            "Epoch: 21/49 Loss: 0.22562651336193085\n",
            "input shape = torch.Size([50, 1, 28, 28])\n",
            "output shape = torch.Size([50, 2, 8, 8])\n",
            "input shape = torch.Size([50, 1, 28, 28])\n",
            "output shape = torch.Size([50, 2, 8, 8])\n",
            "input shape = torch.Size([50, 1, 28, 28])\n",
            "output shape = torch.Size([50, 2, 8, 8])\n",
            "input shape = torch.Size([50, 1, 28, 28])\n",
            "output shape = torch.Size([50, 2, 8, 8])\n",
            "input shape = torch.Size([50, 1, 28, 28])\n",
            "output shape = torch.Size([50, 2, 8, 8])\n",
            "input shape = torch.Size([50, 1, 28, 28])\n",
            "output shape = torch.Size([50, 2, 8, 8])\n",
            "input shape = torch.Size([50, 1, 28, 28])\n",
            "output shape = torch.Size([50, 2, 8, 8])\n",
            "input shape = torch.Size([50, 1, 28, 28])\n",
            "output shape = torch.Size([50, 2, 8, 8])\n",
            "input shape = torch.Size([50, 1, 28, 28])\n",
            "output shape = torch.Size([50, 2, 8, 8])\n",
            "input shape = torch.Size([50, 1, 28, 28])\n",
            "output shape = torch.Size([50, 2, 8, 8])\n",
            "input shape = torch.Size([50, 1, 28, 28])\n",
            "output shape = torch.Size([50, 2, 8, 8])\n",
            "input shape = torch.Size([50, 1, 28, 28])\n",
            "output shape = torch.Size([50, 2, 8, 8])\n",
            "input shape = torch.Size([50, 1, 28, 28])\n",
            "output shape = torch.Size([50, 2, 8, 8])\n",
            "input shape = torch.Size([50, 1, 28, 28])\n",
            "output shape = torch.Size([50, 2, 8, 8])\n",
            "input shape = torch.Size([50, 1, 28, 28])\n",
            "output shape = torch.Size([50, 2, 8, 8])\n",
            "input shape = torch.Size([50, 1, 28, 28])\n",
            "output shape = torch.Size([50, 2, 8, 8])\n",
            "input shape = torch.Size([50, 1, 28, 28])\n",
            "output shape = torch.Size([50, 2, 8, 8])\n",
            "input shape = torch.Size([50, 1, 28, 28])\n",
            "output shape = torch.Size([50, 2, 8, 8])\n",
            "input shape = torch.Size([50, 1, 28, 28])\n",
            "output shape = torch.Size([50, 2, 8, 8])\n",
            "input shape = torch.Size([50, 1, 28, 28])\n",
            "output shape = torch.Size([50, 2, 8, 8])\n",
            "Epoch: 22/49 Loss: 0.21984528005123138\n",
            "input shape = torch.Size([50, 1, 28, 28])\n",
            "output shape = torch.Size([50, 2, 8, 8])\n",
            "input shape = torch.Size([50, 1, 28, 28])\n",
            "output shape = torch.Size([50, 2, 8, 8])\n",
            "input shape = torch.Size([50, 1, 28, 28])\n",
            "output shape = torch.Size([50, 2, 8, 8])\n",
            "input shape = torch.Size([50, 1, 28, 28])\n",
            "output shape = torch.Size([50, 2, 8, 8])\n",
            "input shape = torch.Size([50, 1, 28, 28])\n",
            "output shape = torch.Size([50, 2, 8, 8])\n",
            "input shape = torch.Size([50, 1, 28, 28])\n",
            "output shape = torch.Size([50, 2, 8, 8])\n",
            "input shape = torch.Size([50, 1, 28, 28])\n",
            "output shape = torch.Size([50, 2, 8, 8])\n",
            "input shape = torch.Size([50, 1, 28, 28])\n",
            "output shape = torch.Size([50, 2, 8, 8])\n",
            "input shape = torch.Size([50, 1, 28, 28])\n",
            "output shape = torch.Size([50, 2, 8, 8])\n",
            "input shape = torch.Size([50, 1, 28, 28])\n",
            "output shape = torch.Size([50, 2, 8, 8])\n",
            "input shape = torch.Size([50, 1, 28, 28])\n",
            "output shape = torch.Size([50, 2, 8, 8])\n",
            "input shape = torch.Size([50, 1, 28, 28])\n",
            "output shape = torch.Size([50, 2, 8, 8])\n",
            "input shape = torch.Size([50, 1, 28, 28])\n",
            "output shape = torch.Size([50, 2, 8, 8])\n",
            "input shape = torch.Size([50, 1, 28, 28])\n",
            "output shape = torch.Size([50, 2, 8, 8])\n",
            "input shape = torch.Size([50, 1, 28, 28])\n",
            "output shape = torch.Size([50, 2, 8, 8])\n",
            "input shape = torch.Size([50, 1, 28, 28])\n",
            "output shape = torch.Size([50, 2, 8, 8])\n",
            "input shape = torch.Size([50, 1, 28, 28])\n",
            "output shape = torch.Size([50, 2, 8, 8])\n",
            "input shape = torch.Size([50, 1, 28, 28])\n",
            "output shape = torch.Size([50, 2, 8, 8])\n",
            "input shape = torch.Size([50, 1, 28, 28])\n",
            "output shape = torch.Size([50, 2, 8, 8])\n",
            "input shape = torch.Size([50, 1, 28, 28])\n",
            "output shape = torch.Size([50, 2, 8, 8])\n",
            "Epoch: 23/49 Loss: 0.21429124474525452\n",
            "input shape = torch.Size([50, 1, 28, 28])\n",
            "output shape = torch.Size([50, 2, 8, 8])\n",
            "input shape = torch.Size([50, 1, 28, 28])\n",
            "output shape = torch.Size([50, 2, 8, 8])\n",
            "input shape = torch.Size([50, 1, 28, 28])\n",
            "output shape = torch.Size([50, 2, 8, 8])\n",
            "input shape = torch.Size([50, 1, 28, 28])\n",
            "output shape = torch.Size([50, 2, 8, 8])\n",
            "input shape = torch.Size([50, 1, 28, 28])\n",
            "output shape = torch.Size([50, 2, 8, 8])\n",
            "input shape = torch.Size([50, 1, 28, 28])\n",
            "output shape = torch.Size([50, 2, 8, 8])\n",
            "input shape = torch.Size([50, 1, 28, 28])\n",
            "output shape = torch.Size([50, 2, 8, 8])\n",
            "input shape = torch.Size([50, 1, 28, 28])\n",
            "output shape = torch.Size([50, 2, 8, 8])\n",
            "input shape = torch.Size([50, 1, 28, 28])\n",
            "output shape = torch.Size([50, 2, 8, 8])\n",
            "input shape = torch.Size([50, 1, 28, 28])\n",
            "output shape = torch.Size([50, 2, 8, 8])\n",
            "input shape = torch.Size([50, 1, 28, 28])\n",
            "output shape = torch.Size([50, 2, 8, 8])\n",
            "input shape = torch.Size([50, 1, 28, 28])\n",
            "output shape = torch.Size([50, 2, 8, 8])\n",
            "input shape = torch.Size([50, 1, 28, 28])\n",
            "output shape = torch.Size([50, 2, 8, 8])\n",
            "input shape = torch.Size([50, 1, 28, 28])\n",
            "output shape = torch.Size([50, 2, 8, 8])\n",
            "input shape = torch.Size([50, 1, 28, 28])\n",
            "output shape = torch.Size([50, 2, 8, 8])\n",
            "input shape = torch.Size([50, 1, 28, 28])\n",
            "output shape = torch.Size([50, 2, 8, 8])\n",
            "input shape = torch.Size([50, 1, 28, 28])\n",
            "output shape = torch.Size([50, 2, 8, 8])\n",
            "input shape = torch.Size([50, 1, 28, 28])\n",
            "output shape = torch.Size([50, 2, 8, 8])\n",
            "input shape = torch.Size([50, 1, 28, 28])\n",
            "output shape = torch.Size([50, 2, 8, 8])\n",
            "input shape = torch.Size([50, 1, 28, 28])\n",
            "output shape = torch.Size([50, 2, 8, 8])\n",
            "Epoch: 24/49 Loss: 0.20894214510917664\n",
            "input shape = torch.Size([50, 1, 28, 28])\n",
            "output shape = torch.Size([50, 2, 8, 8])\n",
            "input shape = torch.Size([50, 1, 28, 28])\n",
            "output shape = torch.Size([50, 2, 8, 8])\n",
            "input shape = torch.Size([50, 1, 28, 28])\n",
            "output shape = torch.Size([50, 2, 8, 8])\n",
            "input shape = torch.Size([50, 1, 28, 28])\n",
            "output shape = torch.Size([50, 2, 8, 8])\n",
            "input shape = torch.Size([50, 1, 28, 28])\n",
            "output shape = torch.Size([50, 2, 8, 8])\n",
            "input shape = torch.Size([50, 1, 28, 28])\n",
            "output shape = torch.Size([50, 2, 8, 8])\n",
            "input shape = torch.Size([50, 1, 28, 28])\n",
            "output shape = torch.Size([50, 2, 8, 8])\n",
            "input shape = torch.Size([50, 1, 28, 28])\n",
            "output shape = torch.Size([50, 2, 8, 8])\n",
            "input shape = torch.Size([50, 1, 28, 28])\n",
            "output shape = torch.Size([50, 2, 8, 8])\n",
            "input shape = torch.Size([50, 1, 28, 28])\n",
            "output shape = torch.Size([50, 2, 8, 8])\n",
            "input shape = torch.Size([50, 1, 28, 28])\n",
            "output shape = torch.Size([50, 2, 8, 8])\n",
            "input shape = torch.Size([50, 1, 28, 28])\n",
            "output shape = torch.Size([50, 2, 8, 8])\n",
            "input shape = torch.Size([50, 1, 28, 28])\n",
            "output shape = torch.Size([50, 2, 8, 8])\n",
            "input shape = torch.Size([50, 1, 28, 28])\n",
            "output shape = torch.Size([50, 2, 8, 8])\n",
            "input shape = torch.Size([50, 1, 28, 28])\n",
            "output shape = torch.Size([50, 2, 8, 8])\n",
            "input shape = torch.Size([50, 1, 28, 28])\n",
            "output shape = torch.Size([50, 2, 8, 8])\n",
            "input shape = torch.Size([50, 1, 28, 28])\n",
            "output shape = torch.Size([50, 2, 8, 8])\n",
            "input shape = torch.Size([50, 1, 28, 28])\n",
            "output shape = torch.Size([50, 2, 8, 8])\n",
            "input shape = torch.Size([50, 1, 28, 28])\n",
            "output shape = torch.Size([50, 2, 8, 8])\n",
            "input shape = torch.Size([50, 1, 28, 28])\n",
            "output shape = torch.Size([50, 2, 8, 8])\n",
            "Epoch: 25/49 Loss: 0.2038729339838028\n",
            "input shape = torch.Size([50, 1, 28, 28])\n",
            "output shape = torch.Size([50, 2, 8, 8])\n",
            "input shape = torch.Size([50, 1, 28, 28])\n",
            "output shape = torch.Size([50, 2, 8, 8])\n",
            "input shape = torch.Size([50, 1, 28, 28])\n",
            "output shape = torch.Size([50, 2, 8, 8])\n",
            "input shape = torch.Size([50, 1, 28, 28])\n",
            "output shape = torch.Size([50, 2, 8, 8])\n",
            "input shape = torch.Size([50, 1, 28, 28])\n",
            "output shape = torch.Size([50, 2, 8, 8])\n",
            "input shape = torch.Size([50, 1, 28, 28])\n",
            "output shape = torch.Size([50, 2, 8, 8])\n",
            "input shape = torch.Size([50, 1, 28, 28])\n",
            "output shape = torch.Size([50, 2, 8, 8])\n",
            "input shape = torch.Size([50, 1, 28, 28])\n",
            "output shape = torch.Size([50, 2, 8, 8])\n",
            "input shape = torch.Size([50, 1, 28, 28])\n",
            "output shape = torch.Size([50, 2, 8, 8])\n",
            "input shape = torch.Size([50, 1, 28, 28])\n",
            "output shape = torch.Size([50, 2, 8, 8])\n",
            "input shape = torch.Size([50, 1, 28, 28])\n",
            "output shape = torch.Size([50, 2, 8, 8])\n",
            "input shape = torch.Size([50, 1, 28, 28])\n",
            "output shape = torch.Size([50, 2, 8, 8])\n",
            "input shape = torch.Size([50, 1, 28, 28])\n",
            "output shape = torch.Size([50, 2, 8, 8])\n",
            "input shape = torch.Size([50, 1, 28, 28])\n",
            "output shape = torch.Size([50, 2, 8, 8])\n",
            "input shape = torch.Size([50, 1, 28, 28])\n",
            "output shape = torch.Size([50, 2, 8, 8])\n",
            "input shape = torch.Size([50, 1, 28, 28])\n",
            "output shape = torch.Size([50, 2, 8, 8])\n",
            "input shape = torch.Size([50, 1, 28, 28])\n",
            "output shape = torch.Size([50, 2, 8, 8])\n",
            "input shape = torch.Size([50, 1, 28, 28])\n",
            "output shape = torch.Size([50, 2, 8, 8])\n",
            "input shape = torch.Size([50, 1, 28, 28])\n",
            "output shape = torch.Size([50, 2, 8, 8])\n",
            "input shape = torch.Size([50, 1, 28, 28])\n",
            "output shape = torch.Size([50, 2, 8, 8])\n",
            "Epoch: 26/49 Loss: 0.19903428852558136\n",
            "input shape = torch.Size([50, 1, 28, 28])\n",
            "output shape = torch.Size([50, 2, 8, 8])\n",
            "input shape = torch.Size([50, 1, 28, 28])\n",
            "output shape = torch.Size([50, 2, 8, 8])\n",
            "input shape = torch.Size([50, 1, 28, 28])\n",
            "output shape = torch.Size([50, 2, 8, 8])\n",
            "input shape = torch.Size([50, 1, 28, 28])\n",
            "output shape = torch.Size([50, 2, 8, 8])\n",
            "input shape = torch.Size([50, 1, 28, 28])\n",
            "output shape = torch.Size([50, 2, 8, 8])\n",
            "input shape = torch.Size([50, 1, 28, 28])\n",
            "output shape = torch.Size([50, 2, 8, 8])\n",
            "input shape = torch.Size([50, 1, 28, 28])\n",
            "output shape = torch.Size([50, 2, 8, 8])\n",
            "input shape = torch.Size([50, 1, 28, 28])\n",
            "output shape = torch.Size([50, 2, 8, 8])\n",
            "input shape = torch.Size([50, 1, 28, 28])\n",
            "output shape = torch.Size([50, 2, 8, 8])\n",
            "input shape = torch.Size([50, 1, 28, 28])\n",
            "output shape = torch.Size([50, 2, 8, 8])\n",
            "input shape = torch.Size([50, 1, 28, 28])\n",
            "output shape = torch.Size([50, 2, 8, 8])\n",
            "input shape = torch.Size([50, 1, 28, 28])\n",
            "output shape = torch.Size([50, 2, 8, 8])\n",
            "input shape = torch.Size([50, 1, 28, 28])\n",
            "output shape = torch.Size([50, 2, 8, 8])\n",
            "input shape = torch.Size([50, 1, 28, 28])\n",
            "output shape = torch.Size([50, 2, 8, 8])\n",
            "input shape = torch.Size([50, 1, 28, 28])\n",
            "output shape = torch.Size([50, 2, 8, 8])\n",
            "input shape = torch.Size([50, 1, 28, 28])\n",
            "output shape = torch.Size([50, 2, 8, 8])\n",
            "input shape = torch.Size([50, 1, 28, 28])\n",
            "output shape = torch.Size([50, 2, 8, 8])\n",
            "input shape = torch.Size([50, 1, 28, 28])\n",
            "output shape = torch.Size([50, 2, 8, 8])\n",
            "input shape = torch.Size([50, 1, 28, 28])\n",
            "output shape = torch.Size([50, 2, 8, 8])\n",
            "input shape = torch.Size([50, 1, 28, 28])\n",
            "output shape = torch.Size([50, 2, 8, 8])\n",
            "Epoch: 27/49 Loss: 0.19439975917339325\n",
            "input shape = torch.Size([50, 1, 28, 28])\n",
            "output shape = torch.Size([50, 2, 8, 8])\n",
            "input shape = torch.Size([50, 1, 28, 28])\n",
            "output shape = torch.Size([50, 2, 8, 8])\n",
            "input shape = torch.Size([50, 1, 28, 28])\n",
            "output shape = torch.Size([50, 2, 8, 8])\n",
            "input shape = torch.Size([50, 1, 28, 28])\n",
            "output shape = torch.Size([50, 2, 8, 8])\n",
            "input shape = torch.Size([50, 1, 28, 28])\n",
            "output shape = torch.Size([50, 2, 8, 8])\n",
            "input shape = torch.Size([50, 1, 28, 28])\n",
            "output shape = torch.Size([50, 2, 8, 8])\n",
            "input shape = torch.Size([50, 1, 28, 28])\n",
            "output shape = torch.Size([50, 2, 8, 8])\n",
            "input shape = torch.Size([50, 1, 28, 28])\n",
            "output shape = torch.Size([50, 2, 8, 8])\n",
            "input shape = torch.Size([50, 1, 28, 28])\n",
            "output shape = torch.Size([50, 2, 8, 8])\n",
            "input shape = torch.Size([50, 1, 28, 28])\n",
            "output shape = torch.Size([50, 2, 8, 8])\n",
            "input shape = torch.Size([50, 1, 28, 28])\n",
            "output shape = torch.Size([50, 2, 8, 8])\n",
            "input shape = torch.Size([50, 1, 28, 28])\n",
            "output shape = torch.Size([50, 2, 8, 8])\n",
            "input shape = torch.Size([50, 1, 28, 28])\n",
            "output shape = torch.Size([50, 2, 8, 8])\n",
            "input shape = torch.Size([50, 1, 28, 28])\n",
            "output shape = torch.Size([50, 2, 8, 8])\n",
            "input shape = torch.Size([50, 1, 28, 28])\n",
            "output shape = torch.Size([50, 2, 8, 8])\n",
            "input shape = torch.Size([50, 1, 28, 28])\n",
            "output shape = torch.Size([50, 2, 8, 8])\n",
            "input shape = torch.Size([50, 1, 28, 28])\n",
            "output shape = torch.Size([50, 2, 8, 8])\n",
            "input shape = torch.Size([50, 1, 28, 28])\n",
            "output shape = torch.Size([50, 2, 8, 8])\n",
            "input shape = torch.Size([50, 1, 28, 28])\n",
            "output shape = torch.Size([50, 2, 8, 8])\n",
            "input shape = torch.Size([50, 1, 28, 28])\n",
            "output shape = torch.Size([50, 2, 8, 8])\n",
            "Epoch: 28/49 Loss: 0.18994098901748657\n",
            "input shape = torch.Size([50, 1, 28, 28])\n",
            "output shape = torch.Size([50, 2, 8, 8])\n",
            "input shape = torch.Size([50, 1, 28, 28])\n",
            "output shape = torch.Size([50, 2, 8, 8])\n",
            "input shape = torch.Size([50, 1, 28, 28])\n",
            "output shape = torch.Size([50, 2, 8, 8])\n",
            "input shape = torch.Size([50, 1, 28, 28])\n",
            "output shape = torch.Size([50, 2, 8, 8])\n",
            "input shape = torch.Size([50, 1, 28, 28])\n",
            "output shape = torch.Size([50, 2, 8, 8])\n",
            "input shape = torch.Size([50, 1, 28, 28])\n",
            "output shape = torch.Size([50, 2, 8, 8])\n",
            "input shape = torch.Size([50, 1, 28, 28])\n",
            "output shape = torch.Size([50, 2, 8, 8])\n",
            "input shape = torch.Size([50, 1, 28, 28])\n",
            "output shape = torch.Size([50, 2, 8, 8])\n",
            "input shape = torch.Size([50, 1, 28, 28])\n",
            "output shape = torch.Size([50, 2, 8, 8])\n",
            "input shape = torch.Size([50, 1, 28, 28])\n",
            "output shape = torch.Size([50, 2, 8, 8])\n",
            "input shape = torch.Size([50, 1, 28, 28])\n",
            "output shape = torch.Size([50, 2, 8, 8])\n",
            "input shape = torch.Size([50, 1, 28, 28])\n",
            "output shape = torch.Size([50, 2, 8, 8])\n",
            "input shape = torch.Size([50, 1, 28, 28])\n",
            "output shape = torch.Size([50, 2, 8, 8])\n",
            "input shape = torch.Size([50, 1, 28, 28])\n",
            "output shape = torch.Size([50, 2, 8, 8])\n",
            "input shape = torch.Size([50, 1, 28, 28])\n",
            "output shape = torch.Size([50, 2, 8, 8])\n",
            "input shape = torch.Size([50, 1, 28, 28])\n",
            "output shape = torch.Size([50, 2, 8, 8])\n",
            "input shape = torch.Size([50, 1, 28, 28])\n",
            "output shape = torch.Size([50, 2, 8, 8])\n",
            "input shape = torch.Size([50, 1, 28, 28])\n",
            "output shape = torch.Size([50, 2, 8, 8])\n",
            "input shape = torch.Size([50, 1, 28, 28])\n",
            "output shape = torch.Size([50, 2, 8, 8])\n",
            "input shape = torch.Size([50, 1, 28, 28])\n",
            "output shape = torch.Size([50, 2, 8, 8])\n",
            "Epoch: 29/49 Loss: 0.18564006686210632\n",
            "input shape = torch.Size([50, 1, 28, 28])\n",
            "output shape = torch.Size([50, 2, 8, 8])\n",
            "input shape = torch.Size([50, 1, 28, 28])\n",
            "output shape = torch.Size([50, 2, 8, 8])\n",
            "input shape = torch.Size([50, 1, 28, 28])\n",
            "output shape = torch.Size([50, 2, 8, 8])\n",
            "input shape = torch.Size([50, 1, 28, 28])\n",
            "output shape = torch.Size([50, 2, 8, 8])\n",
            "input shape = torch.Size([50, 1, 28, 28])\n",
            "output shape = torch.Size([50, 2, 8, 8])\n",
            "input shape = torch.Size([50, 1, 28, 28])\n",
            "output shape = torch.Size([50, 2, 8, 8])\n",
            "input shape = torch.Size([50, 1, 28, 28])\n",
            "output shape = torch.Size([50, 2, 8, 8])\n",
            "input shape = torch.Size([50, 1, 28, 28])\n",
            "output shape = torch.Size([50, 2, 8, 8])\n",
            "input shape = torch.Size([50, 1, 28, 28])\n",
            "output shape = torch.Size([50, 2, 8, 8])\n",
            "input shape = torch.Size([50, 1, 28, 28])\n",
            "output shape = torch.Size([50, 2, 8, 8])\n",
            "input shape = torch.Size([50, 1, 28, 28])\n",
            "output shape = torch.Size([50, 2, 8, 8])\n",
            "input shape = torch.Size([50, 1, 28, 28])\n",
            "output shape = torch.Size([50, 2, 8, 8])\n",
            "input shape = torch.Size([50, 1, 28, 28])\n",
            "output shape = torch.Size([50, 2, 8, 8])\n",
            "input shape = torch.Size([50, 1, 28, 28])\n",
            "output shape = torch.Size([50, 2, 8, 8])\n",
            "input shape = torch.Size([50, 1, 28, 28])\n",
            "output shape = torch.Size([50, 2, 8, 8])\n",
            "input shape = torch.Size([50, 1, 28, 28])\n",
            "output shape = torch.Size([50, 2, 8, 8])\n",
            "input shape = torch.Size([50, 1, 28, 28])\n",
            "output shape = torch.Size([50, 2, 8, 8])\n",
            "input shape = torch.Size([50, 1, 28, 28])\n",
            "output shape = torch.Size([50, 2, 8, 8])\n",
            "input shape = torch.Size([50, 1, 28, 28])\n",
            "output shape = torch.Size([50, 2, 8, 8])\n",
            "input shape = torch.Size([50, 1, 28, 28])\n",
            "output shape = torch.Size([50, 2, 8, 8])\n",
            "Epoch: 30/49 Loss: 0.18147487938404083\n",
            "input shape = torch.Size([50, 1, 28, 28])\n",
            "output shape = torch.Size([50, 2, 8, 8])\n",
            "input shape = torch.Size([50, 1, 28, 28])\n",
            "output shape = torch.Size([50, 2, 8, 8])\n",
            "input shape = torch.Size([50, 1, 28, 28])\n",
            "output shape = torch.Size([50, 2, 8, 8])\n",
            "input shape = torch.Size([50, 1, 28, 28])\n",
            "output shape = torch.Size([50, 2, 8, 8])\n",
            "input shape = torch.Size([50, 1, 28, 28])\n",
            "output shape = torch.Size([50, 2, 8, 8])\n",
            "input shape = torch.Size([50, 1, 28, 28])\n",
            "output shape = torch.Size([50, 2, 8, 8])\n",
            "input shape = torch.Size([50, 1, 28, 28])\n",
            "output shape = torch.Size([50, 2, 8, 8])\n",
            "input shape = torch.Size([50, 1, 28, 28])\n",
            "output shape = torch.Size([50, 2, 8, 8])\n",
            "input shape = torch.Size([50, 1, 28, 28])\n",
            "output shape = torch.Size([50, 2, 8, 8])\n",
            "input shape = torch.Size([50, 1, 28, 28])\n",
            "output shape = torch.Size([50, 2, 8, 8])\n",
            "input shape = torch.Size([50, 1, 28, 28])\n",
            "output shape = torch.Size([50, 2, 8, 8])\n",
            "input shape = torch.Size([50, 1, 28, 28])\n",
            "output shape = torch.Size([50, 2, 8, 8])\n",
            "input shape = torch.Size([50, 1, 28, 28])\n",
            "output shape = torch.Size([50, 2, 8, 8])\n",
            "input shape = torch.Size([50, 1, 28, 28])\n",
            "output shape = torch.Size([50, 2, 8, 8])\n",
            "input shape = torch.Size([50, 1, 28, 28])\n",
            "output shape = torch.Size([50, 2, 8, 8])\n",
            "input shape = torch.Size([50, 1, 28, 28])\n",
            "output shape = torch.Size([50, 2, 8, 8])\n",
            "input shape = torch.Size([50, 1, 28, 28])\n",
            "output shape = torch.Size([50, 2, 8, 8])\n",
            "input shape = torch.Size([50, 1, 28, 28])\n",
            "output shape = torch.Size([50, 2, 8, 8])\n",
            "input shape = torch.Size([50, 1, 28, 28])\n",
            "output shape = torch.Size([50, 2, 8, 8])\n",
            "input shape = torch.Size([50, 1, 28, 28])\n",
            "output shape = torch.Size([50, 2, 8, 8])\n",
            "Epoch: 31/49 Loss: 0.1774490773677826\n",
            "input shape = torch.Size([50, 1, 28, 28])\n",
            "output shape = torch.Size([50, 2, 8, 8])\n",
            "input shape = torch.Size([50, 1, 28, 28])\n",
            "output shape = torch.Size([50, 2, 8, 8])\n",
            "input shape = torch.Size([50, 1, 28, 28])\n",
            "output shape = torch.Size([50, 2, 8, 8])\n",
            "input shape = torch.Size([50, 1, 28, 28])\n",
            "output shape = torch.Size([50, 2, 8, 8])\n",
            "input shape = torch.Size([50, 1, 28, 28])\n",
            "output shape = torch.Size([50, 2, 8, 8])\n",
            "input shape = torch.Size([50, 1, 28, 28])\n",
            "output shape = torch.Size([50, 2, 8, 8])\n",
            "input shape = torch.Size([50, 1, 28, 28])\n",
            "output shape = torch.Size([50, 2, 8, 8])\n",
            "input shape = torch.Size([50, 1, 28, 28])\n",
            "output shape = torch.Size([50, 2, 8, 8])\n",
            "input shape = torch.Size([50, 1, 28, 28])\n",
            "output shape = torch.Size([50, 2, 8, 8])\n",
            "input shape = torch.Size([50, 1, 28, 28])\n",
            "output shape = torch.Size([50, 2, 8, 8])\n",
            "input shape = torch.Size([50, 1, 28, 28])\n",
            "output shape = torch.Size([50, 2, 8, 8])\n",
            "input shape = torch.Size([50, 1, 28, 28])\n",
            "output shape = torch.Size([50, 2, 8, 8])\n",
            "input shape = torch.Size([50, 1, 28, 28])\n",
            "output shape = torch.Size([50, 2, 8, 8])\n",
            "input shape = torch.Size([50, 1, 28, 28])\n",
            "output shape = torch.Size([50, 2, 8, 8])\n",
            "input shape = torch.Size([50, 1, 28, 28])\n",
            "output shape = torch.Size([50, 2, 8, 8])\n",
            "input shape = torch.Size([50, 1, 28, 28])\n",
            "output shape = torch.Size([50, 2, 8, 8])\n",
            "input shape = torch.Size([50, 1, 28, 28])\n",
            "output shape = torch.Size([50, 2, 8, 8])\n",
            "input shape = torch.Size([50, 1, 28, 28])\n",
            "output shape = torch.Size([50, 2, 8, 8])\n",
            "input shape = torch.Size([50, 1, 28, 28])\n",
            "output shape = torch.Size([50, 2, 8, 8])\n",
            "input shape = torch.Size([50, 1, 28, 28])\n",
            "output shape = torch.Size([50, 2, 8, 8])\n",
            "Epoch: 32/49 Loss: 0.1734725534915924\n",
            "input shape = torch.Size([50, 1, 28, 28])\n",
            "output shape = torch.Size([50, 2, 8, 8])\n",
            "input shape = torch.Size([50, 1, 28, 28])\n",
            "output shape = torch.Size([50, 2, 8, 8])\n",
            "input shape = torch.Size([50, 1, 28, 28])\n",
            "output shape = torch.Size([50, 2, 8, 8])\n",
            "input shape = torch.Size([50, 1, 28, 28])\n",
            "output shape = torch.Size([50, 2, 8, 8])\n",
            "input shape = torch.Size([50, 1, 28, 28])\n",
            "output shape = torch.Size([50, 2, 8, 8])\n",
            "input shape = torch.Size([50, 1, 28, 28])\n",
            "output shape = torch.Size([50, 2, 8, 8])\n",
            "input shape = torch.Size([50, 1, 28, 28])\n",
            "output shape = torch.Size([50, 2, 8, 8])\n",
            "input shape = torch.Size([50, 1, 28, 28])\n",
            "output shape = torch.Size([50, 2, 8, 8])\n",
            "input shape = torch.Size([50, 1, 28, 28])\n",
            "output shape = torch.Size([50, 2, 8, 8])\n",
            "input shape = torch.Size([50, 1, 28, 28])\n",
            "output shape = torch.Size([50, 2, 8, 8])\n",
            "input shape = torch.Size([50, 1, 28, 28])\n",
            "output shape = torch.Size([50, 2, 8, 8])\n",
            "input shape = torch.Size([50, 1, 28, 28])\n",
            "output shape = torch.Size([50, 2, 8, 8])\n",
            "input shape = torch.Size([50, 1, 28, 28])\n",
            "output shape = torch.Size([50, 2, 8, 8])\n",
            "input shape = torch.Size([50, 1, 28, 28])\n",
            "output shape = torch.Size([50, 2, 8, 8])\n",
            "input shape = torch.Size([50, 1, 28, 28])\n",
            "output shape = torch.Size([50, 2, 8, 8])\n",
            "input shape = torch.Size([50, 1, 28, 28])\n",
            "output shape = torch.Size([50, 2, 8, 8])\n",
            "input shape = torch.Size([50, 1, 28, 28])\n",
            "output shape = torch.Size([50, 2, 8, 8])\n",
            "input shape = torch.Size([50, 1, 28, 28])\n",
            "output shape = torch.Size([50, 2, 8, 8])\n",
            "input shape = torch.Size([50, 1, 28, 28])\n",
            "output shape = torch.Size([50, 2, 8, 8])\n",
            "input shape = torch.Size([50, 1, 28, 28])\n",
            "output shape = torch.Size([50, 2, 8, 8])\n",
            "Epoch: 33/49 Loss: 0.1694747507572174\n",
            "input shape = torch.Size([50, 1, 28, 28])\n",
            "output shape = torch.Size([50, 2, 8, 8])\n",
            "input shape = torch.Size([50, 1, 28, 28])\n",
            "output shape = torch.Size([50, 2, 8, 8])\n",
            "input shape = torch.Size([50, 1, 28, 28])\n",
            "output shape = torch.Size([50, 2, 8, 8])\n",
            "input shape = torch.Size([50, 1, 28, 28])\n",
            "output shape = torch.Size([50, 2, 8, 8])\n",
            "input shape = torch.Size([50, 1, 28, 28])\n",
            "output shape = torch.Size([50, 2, 8, 8])\n",
            "input shape = torch.Size([50, 1, 28, 28])\n",
            "output shape = torch.Size([50, 2, 8, 8])\n",
            "input shape = torch.Size([50, 1, 28, 28])\n",
            "output shape = torch.Size([50, 2, 8, 8])\n",
            "input shape = torch.Size([50, 1, 28, 28])\n",
            "output shape = torch.Size([50, 2, 8, 8])\n",
            "input shape = torch.Size([50, 1, 28, 28])\n",
            "output shape = torch.Size([50, 2, 8, 8])\n",
            "input shape = torch.Size([50, 1, 28, 28])\n",
            "output shape = torch.Size([50, 2, 8, 8])\n",
            "input shape = torch.Size([50, 1, 28, 28])\n",
            "output shape = torch.Size([50, 2, 8, 8])\n",
            "input shape = torch.Size([50, 1, 28, 28])\n",
            "output shape = torch.Size([50, 2, 8, 8])\n",
            "input shape = torch.Size([50, 1, 28, 28])\n",
            "output shape = torch.Size([50, 2, 8, 8])\n",
            "input shape = torch.Size([50, 1, 28, 28])\n",
            "output shape = torch.Size([50, 2, 8, 8])\n",
            "input shape = torch.Size([50, 1, 28, 28])\n",
            "output shape = torch.Size([50, 2, 8, 8])\n",
            "input shape = torch.Size([50, 1, 28, 28])\n",
            "output shape = torch.Size([50, 2, 8, 8])\n",
            "input shape = torch.Size([50, 1, 28, 28])\n",
            "output shape = torch.Size([50, 2, 8, 8])\n",
            "input shape = torch.Size([50, 1, 28, 28])\n",
            "output shape = torch.Size([50, 2, 8, 8])\n",
            "input shape = torch.Size([50, 1, 28, 28])\n",
            "output shape = torch.Size([50, 2, 8, 8])\n",
            "input shape = torch.Size([50, 1, 28, 28])\n",
            "output shape = torch.Size([50, 2, 8, 8])\n",
            "Epoch: 34/49 Loss: 0.16547326743602753\n",
            "input shape = torch.Size([50, 1, 28, 28])\n",
            "output shape = torch.Size([50, 2, 8, 8])\n",
            "input shape = torch.Size([50, 1, 28, 28])\n",
            "output shape = torch.Size([50, 2, 8, 8])\n",
            "input shape = torch.Size([50, 1, 28, 28])\n",
            "output shape = torch.Size([50, 2, 8, 8])\n",
            "input shape = torch.Size([50, 1, 28, 28])\n",
            "output shape = torch.Size([50, 2, 8, 8])\n",
            "input shape = torch.Size([50, 1, 28, 28])\n",
            "output shape = torch.Size([50, 2, 8, 8])\n",
            "input shape = torch.Size([50, 1, 28, 28])\n",
            "output shape = torch.Size([50, 2, 8, 8])\n",
            "input shape = torch.Size([50, 1, 28, 28])\n",
            "output shape = torch.Size([50, 2, 8, 8])\n",
            "input shape = torch.Size([50, 1, 28, 28])\n",
            "output shape = torch.Size([50, 2, 8, 8])\n",
            "input shape = torch.Size([50, 1, 28, 28])\n",
            "output shape = torch.Size([50, 2, 8, 8])\n",
            "input shape = torch.Size([50, 1, 28, 28])\n",
            "output shape = torch.Size([50, 2, 8, 8])\n",
            "input shape = torch.Size([50, 1, 28, 28])\n",
            "output shape = torch.Size([50, 2, 8, 8])\n",
            "input shape = torch.Size([50, 1, 28, 28])\n",
            "output shape = torch.Size([50, 2, 8, 8])\n",
            "input shape = torch.Size([50, 1, 28, 28])\n",
            "output shape = torch.Size([50, 2, 8, 8])\n",
            "input shape = torch.Size([50, 1, 28, 28])\n",
            "output shape = torch.Size([50, 2, 8, 8])\n",
            "input shape = torch.Size([50, 1, 28, 28])\n",
            "output shape = torch.Size([50, 2, 8, 8])\n",
            "input shape = torch.Size([50, 1, 28, 28])\n",
            "output shape = torch.Size([50, 2, 8, 8])\n",
            "input shape = torch.Size([50, 1, 28, 28])\n",
            "output shape = torch.Size([50, 2, 8, 8])\n",
            "input shape = torch.Size([50, 1, 28, 28])\n",
            "output shape = torch.Size([50, 2, 8, 8])\n",
            "input shape = torch.Size([50, 1, 28, 28])\n",
            "output shape = torch.Size([50, 2, 8, 8])\n",
            "input shape = torch.Size([50, 1, 28, 28])\n",
            "output shape = torch.Size([50, 2, 8, 8])\n",
            "Epoch: 35/49 Loss: 0.1615050882101059\n",
            "input shape = torch.Size([50, 1, 28, 28])\n",
            "output shape = torch.Size([50, 2, 8, 8])\n",
            "input shape = torch.Size([50, 1, 28, 28])\n",
            "output shape = torch.Size([50, 2, 8, 8])\n",
            "input shape = torch.Size([50, 1, 28, 28])\n",
            "output shape = torch.Size([50, 2, 8, 8])\n",
            "input shape = torch.Size([50, 1, 28, 28])\n",
            "output shape = torch.Size([50, 2, 8, 8])\n",
            "input shape = torch.Size([50, 1, 28, 28])\n",
            "output shape = torch.Size([50, 2, 8, 8])\n",
            "input shape = torch.Size([50, 1, 28, 28])\n",
            "output shape = torch.Size([50, 2, 8, 8])\n",
            "input shape = torch.Size([50, 1, 28, 28])\n",
            "output shape = torch.Size([50, 2, 8, 8])\n",
            "input shape = torch.Size([50, 1, 28, 28])\n",
            "output shape = torch.Size([50, 2, 8, 8])\n",
            "input shape = torch.Size([50, 1, 28, 28])\n",
            "output shape = torch.Size([50, 2, 8, 8])\n",
            "input shape = torch.Size([50, 1, 28, 28])\n",
            "output shape = torch.Size([50, 2, 8, 8])\n",
            "input shape = torch.Size([50, 1, 28, 28])\n",
            "output shape = torch.Size([50, 2, 8, 8])\n",
            "input shape = torch.Size([50, 1, 28, 28])\n",
            "output shape = torch.Size([50, 2, 8, 8])\n",
            "input shape = torch.Size([50, 1, 28, 28])\n",
            "output shape = torch.Size([50, 2, 8, 8])\n",
            "input shape = torch.Size([50, 1, 28, 28])\n",
            "output shape = torch.Size([50, 2, 8, 8])\n",
            "input shape = torch.Size([50, 1, 28, 28])\n",
            "output shape = torch.Size([50, 2, 8, 8])\n",
            "input shape = torch.Size([50, 1, 28, 28])\n",
            "output shape = torch.Size([50, 2, 8, 8])\n",
            "input shape = torch.Size([50, 1, 28, 28])\n",
            "output shape = torch.Size([50, 2, 8, 8])\n",
            "input shape = torch.Size([50, 1, 28, 28])\n",
            "output shape = torch.Size([50, 2, 8, 8])\n",
            "input shape = torch.Size([50, 1, 28, 28])\n",
            "output shape = torch.Size([50, 2, 8, 8])\n",
            "input shape = torch.Size([50, 1, 28, 28])\n",
            "output shape = torch.Size([50, 2, 8, 8])\n",
            "Epoch: 36/49 Loss: 0.15746401250362396\n",
            "input shape = torch.Size([50, 1, 28, 28])\n",
            "output shape = torch.Size([50, 2, 8, 8])\n",
            "input shape = torch.Size([50, 1, 28, 28])\n",
            "output shape = torch.Size([50, 2, 8, 8])\n",
            "input shape = torch.Size([50, 1, 28, 28])\n",
            "output shape = torch.Size([50, 2, 8, 8])\n",
            "input shape = torch.Size([50, 1, 28, 28])\n",
            "output shape = torch.Size([50, 2, 8, 8])\n",
            "input shape = torch.Size([50, 1, 28, 28])\n",
            "output shape = torch.Size([50, 2, 8, 8])\n",
            "input shape = torch.Size([50, 1, 28, 28])\n",
            "output shape = torch.Size([50, 2, 8, 8])\n",
            "input shape = torch.Size([50, 1, 28, 28])\n",
            "output shape = torch.Size([50, 2, 8, 8])\n",
            "input shape = torch.Size([50, 1, 28, 28])\n",
            "output shape = torch.Size([50, 2, 8, 8])\n",
            "input shape = torch.Size([50, 1, 28, 28])\n",
            "output shape = torch.Size([50, 2, 8, 8])\n",
            "input shape = torch.Size([50, 1, 28, 28])\n",
            "output shape = torch.Size([50, 2, 8, 8])\n",
            "input shape = torch.Size([50, 1, 28, 28])\n",
            "output shape = torch.Size([50, 2, 8, 8])\n",
            "input shape = torch.Size([50, 1, 28, 28])\n",
            "output shape = torch.Size([50, 2, 8, 8])\n",
            "input shape = torch.Size([50, 1, 28, 28])\n",
            "output shape = torch.Size([50, 2, 8, 8])\n",
            "input shape = torch.Size([50, 1, 28, 28])\n",
            "output shape = torch.Size([50, 2, 8, 8])\n",
            "input shape = torch.Size([50, 1, 28, 28])\n",
            "output shape = torch.Size([50, 2, 8, 8])\n",
            "input shape = torch.Size([50, 1, 28, 28])\n",
            "output shape = torch.Size([50, 2, 8, 8])\n",
            "input shape = torch.Size([50, 1, 28, 28])\n",
            "output shape = torch.Size([50, 2, 8, 8])\n",
            "input shape = torch.Size([50, 1, 28, 28])\n",
            "output shape = torch.Size([50, 2, 8, 8])\n",
            "input shape = torch.Size([50, 1, 28, 28])\n",
            "output shape = torch.Size([50, 2, 8, 8])\n",
            "input shape = torch.Size([50, 1, 28, 28])\n",
            "output shape = torch.Size([50, 2, 8, 8])\n",
            "Epoch: 37/49 Loss: 0.15340447425842285\n",
            "input shape = torch.Size([50, 1, 28, 28])\n",
            "output shape = torch.Size([50, 2, 8, 8])\n",
            "input shape = torch.Size([50, 1, 28, 28])\n",
            "output shape = torch.Size([50, 2, 8, 8])\n",
            "input shape = torch.Size([50, 1, 28, 28])\n",
            "output shape = torch.Size([50, 2, 8, 8])\n",
            "input shape = torch.Size([50, 1, 28, 28])\n",
            "output shape = torch.Size([50, 2, 8, 8])\n",
            "input shape = torch.Size([50, 1, 28, 28])\n",
            "output shape = torch.Size([50, 2, 8, 8])\n",
            "input shape = torch.Size([50, 1, 28, 28])\n",
            "output shape = torch.Size([50, 2, 8, 8])\n",
            "input shape = torch.Size([50, 1, 28, 28])\n",
            "output shape = torch.Size([50, 2, 8, 8])\n",
            "input shape = torch.Size([50, 1, 28, 28])\n",
            "output shape = torch.Size([50, 2, 8, 8])\n",
            "input shape = torch.Size([50, 1, 28, 28])\n",
            "output shape = torch.Size([50, 2, 8, 8])\n",
            "input shape = torch.Size([50, 1, 28, 28])\n",
            "output shape = torch.Size([50, 2, 8, 8])\n",
            "input shape = torch.Size([50, 1, 28, 28])\n",
            "output shape = torch.Size([50, 2, 8, 8])\n",
            "input shape = torch.Size([50, 1, 28, 28])\n",
            "output shape = torch.Size([50, 2, 8, 8])\n",
            "input shape = torch.Size([50, 1, 28, 28])\n",
            "output shape = torch.Size([50, 2, 8, 8])\n",
            "input shape = torch.Size([50, 1, 28, 28])\n",
            "output shape = torch.Size([50, 2, 8, 8])\n",
            "input shape = torch.Size([50, 1, 28, 28])\n",
            "output shape = torch.Size([50, 2, 8, 8])\n",
            "input shape = torch.Size([50, 1, 28, 28])\n",
            "output shape = torch.Size([50, 2, 8, 8])\n",
            "input shape = torch.Size([50, 1, 28, 28])\n",
            "output shape = torch.Size([50, 2, 8, 8])\n",
            "input shape = torch.Size([50, 1, 28, 28])\n",
            "output shape = torch.Size([50, 2, 8, 8])\n",
            "input shape = torch.Size([50, 1, 28, 28])\n",
            "output shape = torch.Size([50, 2, 8, 8])\n",
            "input shape = torch.Size([50, 1, 28, 28])\n",
            "output shape = torch.Size([50, 2, 8, 8])\n",
            "Epoch: 38/49 Loss: 0.14926907420158386\n",
            "input shape = torch.Size([50, 1, 28, 28])\n",
            "output shape = torch.Size([50, 2, 8, 8])\n",
            "input shape = torch.Size([50, 1, 28, 28])\n",
            "output shape = torch.Size([50, 2, 8, 8])\n",
            "input shape = torch.Size([50, 1, 28, 28])\n",
            "output shape = torch.Size([50, 2, 8, 8])\n",
            "input shape = torch.Size([50, 1, 28, 28])\n",
            "output shape = torch.Size([50, 2, 8, 8])\n",
            "input shape = torch.Size([50, 1, 28, 28])\n",
            "output shape = torch.Size([50, 2, 8, 8])\n",
            "input shape = torch.Size([50, 1, 28, 28])\n",
            "output shape = torch.Size([50, 2, 8, 8])\n",
            "input shape = torch.Size([50, 1, 28, 28])\n",
            "output shape = torch.Size([50, 2, 8, 8])\n",
            "input shape = torch.Size([50, 1, 28, 28])\n",
            "output shape = torch.Size([50, 2, 8, 8])\n",
            "input shape = torch.Size([50, 1, 28, 28])\n",
            "output shape = torch.Size([50, 2, 8, 8])\n",
            "input shape = torch.Size([50, 1, 28, 28])\n",
            "output shape = torch.Size([50, 2, 8, 8])\n",
            "input shape = torch.Size([50, 1, 28, 28])\n",
            "output shape = torch.Size([50, 2, 8, 8])\n",
            "input shape = torch.Size([50, 1, 28, 28])\n",
            "output shape = torch.Size([50, 2, 8, 8])\n",
            "input shape = torch.Size([50, 1, 28, 28])\n",
            "output shape = torch.Size([50, 2, 8, 8])\n",
            "input shape = torch.Size([50, 1, 28, 28])\n",
            "output shape = torch.Size([50, 2, 8, 8])\n",
            "input shape = torch.Size([50, 1, 28, 28])\n",
            "output shape = torch.Size([50, 2, 8, 8])\n",
            "input shape = torch.Size([50, 1, 28, 28])\n",
            "output shape = torch.Size([50, 2, 8, 8])\n",
            "input shape = torch.Size([50, 1, 28, 28])\n",
            "output shape = torch.Size([50, 2, 8, 8])\n",
            "input shape = torch.Size([50, 1, 28, 28])\n",
            "output shape = torch.Size([50, 2, 8, 8])\n",
            "input shape = torch.Size([50, 1, 28, 28])\n",
            "output shape = torch.Size([50, 2, 8, 8])\n",
            "input shape = torch.Size([50, 1, 28, 28])\n",
            "output shape = torch.Size([50, 2, 8, 8])\n",
            "Epoch: 39/49 Loss: 0.14520640671253204\n",
            "input shape = torch.Size([50, 1, 28, 28])\n",
            "output shape = torch.Size([50, 2, 8, 8])\n",
            "input shape = torch.Size([50, 1, 28, 28])\n",
            "output shape = torch.Size([50, 2, 8, 8])\n",
            "input shape = torch.Size([50, 1, 28, 28])\n",
            "output shape = torch.Size([50, 2, 8, 8])\n",
            "input shape = torch.Size([50, 1, 28, 28])\n",
            "output shape = torch.Size([50, 2, 8, 8])\n",
            "input shape = torch.Size([50, 1, 28, 28])\n",
            "output shape = torch.Size([50, 2, 8, 8])\n",
            "input shape = torch.Size([50, 1, 28, 28])\n",
            "output shape = torch.Size([50, 2, 8, 8])\n",
            "input shape = torch.Size([50, 1, 28, 28])\n",
            "output shape = torch.Size([50, 2, 8, 8])\n",
            "input shape = torch.Size([50, 1, 28, 28])\n",
            "output shape = torch.Size([50, 2, 8, 8])\n",
            "input shape = torch.Size([50, 1, 28, 28])\n",
            "output shape = torch.Size([50, 2, 8, 8])\n",
            "input shape = torch.Size([50, 1, 28, 28])\n",
            "output shape = torch.Size([50, 2, 8, 8])\n",
            "input shape = torch.Size([50, 1, 28, 28])\n",
            "output shape = torch.Size([50, 2, 8, 8])\n",
            "input shape = torch.Size([50, 1, 28, 28])\n",
            "output shape = torch.Size([50, 2, 8, 8])\n",
            "input shape = torch.Size([50, 1, 28, 28])\n",
            "output shape = torch.Size([50, 2, 8, 8])\n",
            "input shape = torch.Size([50, 1, 28, 28])\n",
            "output shape = torch.Size([50, 2, 8, 8])\n",
            "input shape = torch.Size([50, 1, 28, 28])\n",
            "output shape = torch.Size([50, 2, 8, 8])\n",
            "input shape = torch.Size([50, 1, 28, 28])\n",
            "output shape = torch.Size([50, 2, 8, 8])\n",
            "input shape = torch.Size([50, 1, 28, 28])\n",
            "output shape = torch.Size([50, 2, 8, 8])\n",
            "input shape = torch.Size([50, 1, 28, 28])\n",
            "output shape = torch.Size([50, 2, 8, 8])\n",
            "input shape = torch.Size([50, 1, 28, 28])\n",
            "output shape = torch.Size([50, 2, 8, 8])\n",
            "input shape = torch.Size([50, 1, 28, 28])\n",
            "output shape = torch.Size([50, 2, 8, 8])\n",
            "Epoch: 40/49 Loss: 0.1412365883588791\n",
            "input shape = torch.Size([50, 1, 28, 28])\n",
            "output shape = torch.Size([50, 2, 8, 8])\n",
            "input shape = torch.Size([50, 1, 28, 28])\n",
            "output shape = torch.Size([50, 2, 8, 8])\n",
            "input shape = torch.Size([50, 1, 28, 28])\n",
            "output shape = torch.Size([50, 2, 8, 8])\n",
            "input shape = torch.Size([50, 1, 28, 28])\n",
            "output shape = torch.Size([50, 2, 8, 8])\n",
            "input shape = torch.Size([50, 1, 28, 28])\n",
            "output shape = torch.Size([50, 2, 8, 8])\n",
            "input shape = torch.Size([50, 1, 28, 28])\n",
            "output shape = torch.Size([50, 2, 8, 8])\n",
            "input shape = torch.Size([50, 1, 28, 28])\n",
            "output shape = torch.Size([50, 2, 8, 8])\n",
            "input shape = torch.Size([50, 1, 28, 28])\n",
            "output shape = torch.Size([50, 2, 8, 8])\n",
            "input shape = torch.Size([50, 1, 28, 28])\n",
            "output shape = torch.Size([50, 2, 8, 8])\n",
            "input shape = torch.Size([50, 1, 28, 28])\n",
            "output shape = torch.Size([50, 2, 8, 8])\n",
            "input shape = torch.Size([50, 1, 28, 28])\n",
            "output shape = torch.Size([50, 2, 8, 8])\n",
            "input shape = torch.Size([50, 1, 28, 28])\n",
            "output shape = torch.Size([50, 2, 8, 8])\n",
            "input shape = torch.Size([50, 1, 28, 28])\n",
            "output shape = torch.Size([50, 2, 8, 8])\n",
            "input shape = torch.Size([50, 1, 28, 28])\n",
            "output shape = torch.Size([50, 2, 8, 8])\n",
            "input shape = torch.Size([50, 1, 28, 28])\n",
            "output shape = torch.Size([50, 2, 8, 8])\n",
            "input shape = torch.Size([50, 1, 28, 28])\n",
            "output shape = torch.Size([50, 2, 8, 8])\n",
            "input shape = torch.Size([50, 1, 28, 28])\n",
            "output shape = torch.Size([50, 2, 8, 8])\n",
            "input shape = torch.Size([50, 1, 28, 28])\n",
            "output shape = torch.Size([50, 2, 8, 8])\n",
            "input shape = torch.Size([50, 1, 28, 28])\n",
            "output shape = torch.Size([50, 2, 8, 8])\n",
            "input shape = torch.Size([50, 1, 28, 28])\n",
            "output shape = torch.Size([50, 2, 8, 8])\n",
            "Epoch: 41/49 Loss: 0.13712678849697113\n",
            "input shape = torch.Size([50, 1, 28, 28])\n",
            "output shape = torch.Size([50, 2, 8, 8])\n",
            "input shape = torch.Size([50, 1, 28, 28])\n",
            "output shape = torch.Size([50, 2, 8, 8])\n",
            "input shape = torch.Size([50, 1, 28, 28])\n",
            "output shape = torch.Size([50, 2, 8, 8])\n",
            "input shape = torch.Size([50, 1, 28, 28])\n",
            "output shape = torch.Size([50, 2, 8, 8])\n",
            "input shape = torch.Size([50, 1, 28, 28])\n",
            "output shape = torch.Size([50, 2, 8, 8])\n",
            "input shape = torch.Size([50, 1, 28, 28])\n",
            "output shape = torch.Size([50, 2, 8, 8])\n",
            "input shape = torch.Size([50, 1, 28, 28])\n",
            "output shape = torch.Size([50, 2, 8, 8])\n",
            "input shape = torch.Size([50, 1, 28, 28])\n",
            "output shape = torch.Size([50, 2, 8, 8])\n",
            "input shape = torch.Size([50, 1, 28, 28])\n",
            "output shape = torch.Size([50, 2, 8, 8])\n",
            "input shape = torch.Size([50, 1, 28, 28])\n",
            "output shape = torch.Size([50, 2, 8, 8])\n",
            "input shape = torch.Size([50, 1, 28, 28])\n",
            "output shape = torch.Size([50, 2, 8, 8])\n",
            "input shape = torch.Size([50, 1, 28, 28])\n",
            "output shape = torch.Size([50, 2, 8, 8])\n",
            "input shape = torch.Size([50, 1, 28, 28])\n",
            "output shape = torch.Size([50, 2, 8, 8])\n",
            "input shape = torch.Size([50, 1, 28, 28])\n",
            "output shape = torch.Size([50, 2, 8, 8])\n",
            "input shape = torch.Size([50, 1, 28, 28])\n",
            "output shape = torch.Size([50, 2, 8, 8])\n",
            "input shape = torch.Size([50, 1, 28, 28])\n",
            "output shape = torch.Size([50, 2, 8, 8])\n",
            "input shape = torch.Size([50, 1, 28, 28])\n",
            "output shape = torch.Size([50, 2, 8, 8])\n",
            "input shape = torch.Size([50, 1, 28, 28])\n",
            "output shape = torch.Size([50, 2, 8, 8])\n",
            "input shape = torch.Size([50, 1, 28, 28])\n",
            "output shape = torch.Size([50, 2, 8, 8])\n",
            "input shape = torch.Size([50, 1, 28, 28])\n",
            "output shape = torch.Size([50, 2, 8, 8])\n",
            "Epoch: 42/49 Loss: 0.1331038475036621\n",
            "input shape = torch.Size([50, 1, 28, 28])\n",
            "output shape = torch.Size([50, 2, 8, 8])\n",
            "input shape = torch.Size([50, 1, 28, 28])\n",
            "output shape = torch.Size([50, 2, 8, 8])\n",
            "input shape = torch.Size([50, 1, 28, 28])\n",
            "output shape = torch.Size([50, 2, 8, 8])\n",
            "input shape = torch.Size([50, 1, 28, 28])\n",
            "output shape = torch.Size([50, 2, 8, 8])\n",
            "input shape = torch.Size([50, 1, 28, 28])\n",
            "output shape = torch.Size([50, 2, 8, 8])\n",
            "input shape = torch.Size([50, 1, 28, 28])\n",
            "output shape = torch.Size([50, 2, 8, 8])\n",
            "input shape = torch.Size([50, 1, 28, 28])\n",
            "output shape = torch.Size([50, 2, 8, 8])\n",
            "input shape = torch.Size([50, 1, 28, 28])\n",
            "output shape = torch.Size([50, 2, 8, 8])\n",
            "input shape = torch.Size([50, 1, 28, 28])\n",
            "output shape = torch.Size([50, 2, 8, 8])\n",
            "input shape = torch.Size([50, 1, 28, 28])\n",
            "output shape = torch.Size([50, 2, 8, 8])\n",
            "input shape = torch.Size([50, 1, 28, 28])\n",
            "output shape = torch.Size([50, 2, 8, 8])\n",
            "input shape = torch.Size([50, 1, 28, 28])\n",
            "output shape = torch.Size([50, 2, 8, 8])\n",
            "input shape = torch.Size([50, 1, 28, 28])\n",
            "output shape = torch.Size([50, 2, 8, 8])\n",
            "input shape = torch.Size([50, 1, 28, 28])\n",
            "output shape = torch.Size([50, 2, 8, 8])\n",
            "input shape = torch.Size([50, 1, 28, 28])\n",
            "output shape = torch.Size([50, 2, 8, 8])\n",
            "input shape = torch.Size([50, 1, 28, 28])\n",
            "output shape = torch.Size([50, 2, 8, 8])\n",
            "input shape = torch.Size([50, 1, 28, 28])\n",
            "output shape = torch.Size([50, 2, 8, 8])\n",
            "input shape = torch.Size([50, 1, 28, 28])\n",
            "output shape = torch.Size([50, 2, 8, 8])\n",
            "input shape = torch.Size([50, 1, 28, 28])\n",
            "output shape = torch.Size([50, 2, 8, 8])\n",
            "input shape = torch.Size([50, 1, 28, 28])\n",
            "output shape = torch.Size([50, 2, 8, 8])\n",
            "Epoch: 43/49 Loss: 0.12914668023586273\n",
            "input shape = torch.Size([50, 1, 28, 28])\n",
            "output shape = torch.Size([50, 2, 8, 8])\n",
            "input shape = torch.Size([50, 1, 28, 28])\n",
            "output shape = torch.Size([50, 2, 8, 8])\n",
            "input shape = torch.Size([50, 1, 28, 28])\n",
            "output shape = torch.Size([50, 2, 8, 8])\n",
            "input shape = torch.Size([50, 1, 28, 28])\n",
            "output shape = torch.Size([50, 2, 8, 8])\n",
            "input shape = torch.Size([50, 1, 28, 28])\n",
            "output shape = torch.Size([50, 2, 8, 8])\n",
            "input shape = torch.Size([50, 1, 28, 28])\n",
            "output shape = torch.Size([50, 2, 8, 8])\n",
            "input shape = torch.Size([50, 1, 28, 28])\n",
            "output shape = torch.Size([50, 2, 8, 8])\n",
            "input shape = torch.Size([50, 1, 28, 28])\n",
            "output shape = torch.Size([50, 2, 8, 8])\n",
            "input shape = torch.Size([50, 1, 28, 28])\n",
            "output shape = torch.Size([50, 2, 8, 8])\n",
            "input shape = torch.Size([50, 1, 28, 28])\n",
            "output shape = torch.Size([50, 2, 8, 8])\n",
            "input shape = torch.Size([50, 1, 28, 28])\n",
            "output shape = torch.Size([50, 2, 8, 8])\n",
            "input shape = torch.Size([50, 1, 28, 28])\n",
            "output shape = torch.Size([50, 2, 8, 8])\n",
            "input shape = torch.Size([50, 1, 28, 28])\n",
            "output shape = torch.Size([50, 2, 8, 8])\n",
            "input shape = torch.Size([50, 1, 28, 28])\n",
            "output shape = torch.Size([50, 2, 8, 8])\n",
            "input shape = torch.Size([50, 1, 28, 28])\n",
            "output shape = torch.Size([50, 2, 8, 8])\n",
            "input shape = torch.Size([50, 1, 28, 28])\n",
            "output shape = torch.Size([50, 2, 8, 8])\n",
            "input shape = torch.Size([50, 1, 28, 28])\n",
            "output shape = torch.Size([50, 2, 8, 8])\n",
            "input shape = torch.Size([50, 1, 28, 28])\n",
            "output shape = torch.Size([50, 2, 8, 8])\n",
            "input shape = torch.Size([50, 1, 28, 28])\n",
            "output shape = torch.Size([50, 2, 8, 8])\n",
            "input shape = torch.Size([50, 1, 28, 28])\n",
            "output shape = torch.Size([50, 2, 8, 8])\n",
            "Epoch: 44/49 Loss: 0.12515045702457428\n",
            "input shape = torch.Size([50, 1, 28, 28])\n",
            "output shape = torch.Size([50, 2, 8, 8])\n",
            "input shape = torch.Size([50, 1, 28, 28])\n",
            "output shape = torch.Size([50, 2, 8, 8])\n",
            "input shape = torch.Size([50, 1, 28, 28])\n",
            "output shape = torch.Size([50, 2, 8, 8])\n",
            "input shape = torch.Size([50, 1, 28, 28])\n",
            "output shape = torch.Size([50, 2, 8, 8])\n",
            "input shape = torch.Size([50, 1, 28, 28])\n",
            "output shape = torch.Size([50, 2, 8, 8])\n",
            "input shape = torch.Size([50, 1, 28, 28])\n",
            "output shape = torch.Size([50, 2, 8, 8])\n",
            "input shape = torch.Size([50, 1, 28, 28])\n",
            "output shape = torch.Size([50, 2, 8, 8])\n",
            "input shape = torch.Size([50, 1, 28, 28])\n",
            "output shape = torch.Size([50, 2, 8, 8])\n",
            "input shape = torch.Size([50, 1, 28, 28])\n",
            "output shape = torch.Size([50, 2, 8, 8])\n",
            "input shape = torch.Size([50, 1, 28, 28])\n",
            "output shape = torch.Size([50, 2, 8, 8])\n",
            "input shape = torch.Size([50, 1, 28, 28])\n",
            "output shape = torch.Size([50, 2, 8, 8])\n",
            "input shape = torch.Size([50, 1, 28, 28])\n",
            "output shape = torch.Size([50, 2, 8, 8])\n",
            "input shape = torch.Size([50, 1, 28, 28])\n",
            "output shape = torch.Size([50, 2, 8, 8])\n",
            "input shape = torch.Size([50, 1, 28, 28])\n",
            "output shape = torch.Size([50, 2, 8, 8])\n",
            "input shape = torch.Size([50, 1, 28, 28])\n",
            "output shape = torch.Size([50, 2, 8, 8])\n",
            "input shape = torch.Size([50, 1, 28, 28])\n",
            "output shape = torch.Size([50, 2, 8, 8])\n",
            "input shape = torch.Size([50, 1, 28, 28])\n",
            "output shape = torch.Size([50, 2, 8, 8])\n",
            "input shape = torch.Size([50, 1, 28, 28])\n",
            "output shape = torch.Size([50, 2, 8, 8])\n",
            "input shape = torch.Size([50, 1, 28, 28])\n",
            "output shape = torch.Size([50, 2, 8, 8])\n",
            "input shape = torch.Size([50, 1, 28, 28])\n",
            "output shape = torch.Size([50, 2, 8, 8])\n",
            "Epoch: 45/49 Loss: 0.1211676225066185\n",
            "input shape = torch.Size([50, 1, 28, 28])\n",
            "output shape = torch.Size([50, 2, 8, 8])\n",
            "input shape = torch.Size([50, 1, 28, 28])\n",
            "output shape = torch.Size([50, 2, 8, 8])\n",
            "input shape = torch.Size([50, 1, 28, 28])\n",
            "output shape = torch.Size([50, 2, 8, 8])\n",
            "input shape = torch.Size([50, 1, 28, 28])\n",
            "output shape = torch.Size([50, 2, 8, 8])\n",
            "input shape = torch.Size([50, 1, 28, 28])\n",
            "output shape = torch.Size([50, 2, 8, 8])\n",
            "input shape = torch.Size([50, 1, 28, 28])\n",
            "output shape = torch.Size([50, 2, 8, 8])\n",
            "input shape = torch.Size([50, 1, 28, 28])\n",
            "output shape = torch.Size([50, 2, 8, 8])\n",
            "input shape = torch.Size([50, 1, 28, 28])\n",
            "output shape = torch.Size([50, 2, 8, 8])\n",
            "input shape = torch.Size([50, 1, 28, 28])\n",
            "output shape = torch.Size([50, 2, 8, 8])\n",
            "input shape = torch.Size([50, 1, 28, 28])\n",
            "output shape = torch.Size([50, 2, 8, 8])\n",
            "input shape = torch.Size([50, 1, 28, 28])\n",
            "output shape = torch.Size([50, 2, 8, 8])\n",
            "input shape = torch.Size([50, 1, 28, 28])\n",
            "output shape = torch.Size([50, 2, 8, 8])\n",
            "input shape = torch.Size([50, 1, 28, 28])\n",
            "output shape = torch.Size([50, 2, 8, 8])\n",
            "input shape = torch.Size([50, 1, 28, 28])\n",
            "output shape = torch.Size([50, 2, 8, 8])\n",
            "input shape = torch.Size([50, 1, 28, 28])\n",
            "output shape = torch.Size([50, 2, 8, 8])\n",
            "input shape = torch.Size([50, 1, 28, 28])\n",
            "output shape = torch.Size([50, 2, 8, 8])\n",
            "input shape = torch.Size([50, 1, 28, 28])\n",
            "output shape = torch.Size([50, 2, 8, 8])\n",
            "input shape = torch.Size([50, 1, 28, 28])\n",
            "output shape = torch.Size([50, 2, 8, 8])\n",
            "input shape = torch.Size([50, 1, 28, 28])\n",
            "output shape = torch.Size([50, 2, 8, 8])\n",
            "input shape = torch.Size([50, 1, 28, 28])\n",
            "output shape = torch.Size([50, 2, 8, 8])\n",
            "Epoch: 46/49 Loss: 0.11731725931167603\n",
            "input shape = torch.Size([50, 1, 28, 28])\n",
            "output shape = torch.Size([50, 2, 8, 8])\n",
            "input shape = torch.Size([50, 1, 28, 28])\n",
            "output shape = torch.Size([50, 2, 8, 8])\n",
            "input shape = torch.Size([50, 1, 28, 28])\n",
            "output shape = torch.Size([50, 2, 8, 8])\n",
            "input shape = torch.Size([50, 1, 28, 28])\n",
            "output shape = torch.Size([50, 2, 8, 8])\n",
            "input shape = torch.Size([50, 1, 28, 28])\n",
            "output shape = torch.Size([50, 2, 8, 8])\n",
            "input shape = torch.Size([50, 1, 28, 28])\n",
            "output shape = torch.Size([50, 2, 8, 8])\n",
            "input shape = torch.Size([50, 1, 28, 28])\n",
            "output shape = torch.Size([50, 2, 8, 8])\n",
            "input shape = torch.Size([50, 1, 28, 28])\n",
            "output shape = torch.Size([50, 2, 8, 8])\n",
            "input shape = torch.Size([50, 1, 28, 28])\n",
            "output shape = torch.Size([50, 2, 8, 8])\n",
            "input shape = torch.Size([50, 1, 28, 28])\n",
            "output shape = torch.Size([50, 2, 8, 8])\n",
            "input shape = torch.Size([50, 1, 28, 28])\n",
            "output shape = torch.Size([50, 2, 8, 8])\n",
            "input shape = torch.Size([50, 1, 28, 28])\n",
            "output shape = torch.Size([50, 2, 8, 8])\n",
            "input shape = torch.Size([50, 1, 28, 28])\n",
            "output shape = torch.Size([50, 2, 8, 8])\n",
            "input shape = torch.Size([50, 1, 28, 28])\n",
            "output shape = torch.Size([50, 2, 8, 8])\n",
            "input shape = torch.Size([50, 1, 28, 28])\n",
            "output shape = torch.Size([50, 2, 8, 8])\n",
            "input shape = torch.Size([50, 1, 28, 28])\n",
            "output shape = torch.Size([50, 2, 8, 8])\n",
            "input shape = torch.Size([50, 1, 28, 28])\n",
            "output shape = torch.Size([50, 2, 8, 8])\n",
            "input shape = torch.Size([50, 1, 28, 28])\n",
            "output shape = torch.Size([50, 2, 8, 8])\n",
            "input shape = torch.Size([50, 1, 28, 28])\n",
            "output shape = torch.Size([50, 2, 8, 8])\n",
            "input shape = torch.Size([50, 1, 28, 28])\n",
            "output shape = torch.Size([50, 2, 8, 8])\n",
            "Epoch: 47/49 Loss: 0.11364612728357315\n",
            "input shape = torch.Size([50, 1, 28, 28])\n",
            "output shape = torch.Size([50, 2, 8, 8])\n",
            "input shape = torch.Size([50, 1, 28, 28])\n",
            "output shape = torch.Size([50, 2, 8, 8])\n",
            "input shape = torch.Size([50, 1, 28, 28])\n",
            "output shape = torch.Size([50, 2, 8, 8])\n",
            "input shape = torch.Size([50, 1, 28, 28])\n",
            "output shape = torch.Size([50, 2, 8, 8])\n",
            "input shape = torch.Size([50, 1, 28, 28])\n",
            "output shape = torch.Size([50, 2, 8, 8])\n",
            "input shape = torch.Size([50, 1, 28, 28])\n",
            "output shape = torch.Size([50, 2, 8, 8])\n",
            "input shape = torch.Size([50, 1, 28, 28])\n",
            "output shape = torch.Size([50, 2, 8, 8])\n",
            "input shape = torch.Size([50, 1, 28, 28])\n",
            "output shape = torch.Size([50, 2, 8, 8])\n",
            "input shape = torch.Size([50, 1, 28, 28])\n",
            "output shape = torch.Size([50, 2, 8, 8])\n",
            "input shape = torch.Size([50, 1, 28, 28])\n",
            "output shape = torch.Size([50, 2, 8, 8])\n",
            "input shape = torch.Size([50, 1, 28, 28])\n",
            "output shape = torch.Size([50, 2, 8, 8])\n",
            "input shape = torch.Size([50, 1, 28, 28])\n",
            "output shape = torch.Size([50, 2, 8, 8])\n",
            "input shape = torch.Size([50, 1, 28, 28])\n",
            "output shape = torch.Size([50, 2, 8, 8])\n",
            "input shape = torch.Size([50, 1, 28, 28])\n",
            "output shape = torch.Size([50, 2, 8, 8])\n",
            "input shape = torch.Size([50, 1, 28, 28])\n",
            "output shape = torch.Size([50, 2, 8, 8])\n",
            "input shape = torch.Size([50, 1, 28, 28])\n",
            "output shape = torch.Size([50, 2, 8, 8])\n",
            "input shape = torch.Size([50, 1, 28, 28])\n",
            "output shape = torch.Size([50, 2, 8, 8])\n",
            "input shape = torch.Size([50, 1, 28, 28])\n",
            "output shape = torch.Size([50, 2, 8, 8])\n",
            "input shape = torch.Size([50, 1, 28, 28])\n",
            "output shape = torch.Size([50, 2, 8, 8])\n",
            "input shape = torch.Size([50, 1, 28, 28])\n",
            "output shape = torch.Size([50, 2, 8, 8])\n",
            "Epoch: 48/49 Loss: 0.1100190132856369\n",
            "input shape = torch.Size([50, 1, 28, 28])\n",
            "output shape = torch.Size([50, 2, 8, 8])\n",
            "input shape = torch.Size([50, 1, 28, 28])\n",
            "output shape = torch.Size([50, 2, 8, 8])\n",
            "input shape = torch.Size([50, 1, 28, 28])\n",
            "output shape = torch.Size([50, 2, 8, 8])\n",
            "input shape = torch.Size([50, 1, 28, 28])\n",
            "output shape = torch.Size([50, 2, 8, 8])\n",
            "input shape = torch.Size([50, 1, 28, 28])\n",
            "output shape = torch.Size([50, 2, 8, 8])\n",
            "input shape = torch.Size([50, 1, 28, 28])\n",
            "output shape = torch.Size([50, 2, 8, 8])\n",
            "input shape = torch.Size([50, 1, 28, 28])\n",
            "output shape = torch.Size([50, 2, 8, 8])\n",
            "input shape = torch.Size([50, 1, 28, 28])\n",
            "output shape = torch.Size([50, 2, 8, 8])\n",
            "input shape = torch.Size([50, 1, 28, 28])\n",
            "output shape = torch.Size([50, 2, 8, 8])\n",
            "input shape = torch.Size([50, 1, 28, 28])\n",
            "output shape = torch.Size([50, 2, 8, 8])\n",
            "input shape = torch.Size([50, 1, 28, 28])\n",
            "output shape = torch.Size([50, 2, 8, 8])\n",
            "input shape = torch.Size([50, 1, 28, 28])\n",
            "output shape = torch.Size([50, 2, 8, 8])\n",
            "input shape = torch.Size([50, 1, 28, 28])\n",
            "output shape = torch.Size([50, 2, 8, 8])\n",
            "input shape = torch.Size([50, 1, 28, 28])\n",
            "output shape = torch.Size([50, 2, 8, 8])\n",
            "input shape = torch.Size([50, 1, 28, 28])\n",
            "output shape = torch.Size([50, 2, 8, 8])\n",
            "input shape = torch.Size([50, 1, 28, 28])\n",
            "output shape = torch.Size([50, 2, 8, 8])\n",
            "input shape = torch.Size([50, 1, 28, 28])\n",
            "output shape = torch.Size([50, 2, 8, 8])\n",
            "input shape = torch.Size([50, 1, 28, 28])\n",
            "output shape = torch.Size([50, 2, 8, 8])\n",
            "input shape = torch.Size([50, 1, 28, 28])\n",
            "output shape = torch.Size([50, 2, 8, 8])\n",
            "input shape = torch.Size([50, 1, 28, 28])\n",
            "output shape = torch.Size([50, 2, 8, 8])\n",
            "Epoch: 49/49 Loss: 0.1065598875284195\n"
          ]
        }
      ]
    },
    {
      "cell_type": "markdown",
      "metadata": {
        "id": "rLL-GQlKQT2Y"
      },
      "source": [
        "### Visualização usual da perda, somente no final de cada minibatch"
      ]
    },
    {
      "cell_type": "code",
      "metadata": {
        "ExecuteTime": {
          "end_time": "2018-08-20T21:03:55.246851Z",
          "start_time": "2018-08-20T21:03:54.994428Z"
        },
        "id": "w38EtNxhQT2Z",
        "colab": {
          "base_uri": "https://localhost:8080/",
          "height": 298
        },
        "outputId": "d5c1a416-973d-49ad-c44d-5fd917a36666"
      },
      "source": [
        "n_batches_train = len(loader_train)\n",
        "plt.plot(epochs[::n_batches_train], loss_history[::n_batches_train])\n",
        "plt.xlabel('época')"
      ],
      "execution_count": 47,
      "outputs": [
        {
          "output_type": "execute_result",
          "data": {
            "text/plain": [
              "Text(0.5, 0, 'época')"
            ]
          },
          "metadata": {},
          "execution_count": 47
        },
        {
          "output_type": "display_data",
          "data": {
            "text/plain": [
              "<Figure size 432x288 with 1 Axes>"
            ],
            "image/png": "[encoded data removed]"
          },
          "metadata": {
            "needs_background": "light"
          }
        }
      ]
    },
    {
      "cell_type": "code",
      "source": [
        "loss_epoch_end"
      ],
      "metadata": {
        "id": "ToktJu4CK94z",
        "colab": {
          "base_uri": "https://localhost:8080/"
        },
        "outputId": "86d180f4-5514-45ef-e636-a49b1bf2c3bf"
      },
      "execution_count": 48,
      "outputs": [
        {
          "output_type": "execute_result",
          "data": {
            "text/plain": [
              "[2.303267478942871,\n",
              " 2.227701187133789,\n",
              " 1.0923893451690674,\n",
              " 0.5867354869842529,\n",
              " 0.5144088864326477,\n",
              " 0.4502663314342499,\n",
              " 0.4075140655040741,\n",
              " 0.37713873386383057,\n",
              " 0.3534485995769501,\n",
              " 0.3341451585292816,\n",
              " 0.3181140422821045,\n",
              " 0.30457887053489685,\n",
              " 0.2928348779678345,\n",
              " 0.2827608287334442,\n",
              " 0.2738332748413086,\n",
              " 0.26577427983283997,\n",
              " 0.2583288252353668,\n",
              " 0.25117501616477966,\n",
              " 0.24439716339111328,\n",
              " 0.2378995716571808,\n",
              " 0.23167717456817627,\n",
              " 0.22562651336193085,\n",
              " 0.21984528005123138,\n",
              " 0.21429124474525452,\n",
              " 0.20894214510917664,\n",
              " 0.2038729339838028,\n",
              " 0.19903428852558136,\n",
              " 0.19439975917339325,\n",
              " 0.18994098901748657,\n",
              " 0.18564006686210632,\n",
              " 0.18147487938404083,\n",
              " 0.1774490773677826,\n",
              " 0.1734725534915924,\n",
              " 0.1694747507572174,\n",
              " 0.16547326743602753,\n",
              " 0.1615050882101059,\n",
              " 0.15746401250362396,\n",
              " 0.15340447425842285,\n",
              " 0.14926907420158386,\n",
              " 0.14520640671253204,\n",
              " 0.1412365883588791,\n",
              " 0.13712678849697113,\n",
              " 0.1331038475036621,\n",
              " 0.12914668023586273,\n",
              " 0.12515045702457428,\n",
              " 0.1211676225066185,\n",
              " 0.11731725931167603,\n",
              " 0.11364612728357315,\n",
              " 0.1100190132856369,\n",
              " 0.1065598875284195]"
            ]
          },
          "metadata": {},
          "execution_count": 48
        }
      ]
    },
    {
      "cell_type": "code",
      "metadata": {
        "ExecuteTime": {
          "end_time": "2018-08-20T21:03:48.786969Z",
          "start_time": "2018-08-20T21:03:48.781787Z"
        },
        "id": "PiuMsjYtQT2R"
      },
      "source": [
        "# Assert do histórico de losses\n",
        "target_loss_epoch_end = np.array([\n",
        "    2.303267478942871,\n",
        "    2.227701187133789,\n",
        "    1.0923893451690674,\n",
        "    0.5867354869842529,\n",
        "    0.5144089460372925,\n",
        "    0.45026642084121704,\n",
        "    0.4075140357017517,\n",
        "    0.37713879346847534,\n",
        "    0.3534485101699829,\n",
        "    0.3341451585292816,\n",
        "    0.3181140422821045,\n",
        "    0.30457887053489685,\n",
        "    0.29283496737480164,\n",
        "    0.2827608287334442,\n",
        "    0.2738332152366638,\n",
        "    0.2657742500305176,\n",
        "    0.2583288848400116,\n",
        "    0.25117507576942444,\n",
        "    0.24439716339111328,\n",
        "    0.23789969086647034,\n",
        "    0.23167723417282104,\n",
        "    0.22562651336193085,\n",
        "    0.21984536945819855,\n",
        "    0.2142913043498993,\n",
        "    0.20894232392311096,\n",
        "    0.203872948884964,\n",
        "    0.19903430342674255,\n",
        "    0.19439971446990967,\n",
        "    0.18994088470935822,\n",
        "    0.18563991785049438,\n",
        "    0.18147490918636322,\n",
        "    0.17744913697242737,\n",
        "    0.17347246408462524,\n",
        "    0.16947467625141144,\n",
        "    0.16547319293022156,\n",
        "    0.16150487959384918,\n",
        "    0.1574639081954956,\n",
        "    0.1534043848514557,\n",
        "    0.14926929771900177,\n",
        "    0.1452063024044037,\n",
        "    0.1412365883588791,\n",
        "    0.13712672889232635,\n",
        "    0.1331038922071457,\n",
        "    0.1291467249393463,\n",
        "    0.1251506358385086,\n",
        "    0.12116757035255432,\n",
        "    0.11731722950935364,\n",
        "    0.11364627629518509,\n",
        "    0.11001908034086227,\n",
        "    0.10655981302261353])\n",
        "\n",
        "assert np.allclose(np.array(loss_epoch_end), target_loss_epoch_end, atol=1e-6)"
      ],
      "execution_count": 49,
      "outputs": []
    }
  ]
}