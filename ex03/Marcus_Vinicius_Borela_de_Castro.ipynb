{
  "nbformat": 4,
  "nbformat_minor": 0,
  "metadata": {
    "colab": {
      "name": "Aula 3 - Grafo Computacional - Marcus ",
      "provenance": [],
      "collapsed_sections": [
        "r6-bQzqsCZuZ"
      ],
      "toc_visible": true,
      "include_colab_link": true
    },
    "kernelspec": {
      "display_name": "Python 3",
      "language": "python",
      "name": "python3"
    },
    "language_info": {
      "codemirror_mode": {
        "name": "ipython",
        "version": 3
      },
      "file_extension": ".py",
      "mimetype": "text/x-python",
      "name": "python",
      "nbconvert_exporter": "python",
      "pygments_lexer": "ipython3",
      "version": "3.6.5"
    },
    "toc": {
      "base_numbering": 1,
      "nav_menu": {
        "height": "117px",
        "width": "252px"
      },
      "number_sections": true,
      "sideBar": true,
      "skip_h1_title": false,
      "title_cell": "Table of Contents",
      "title_sidebar": "Contents",
      "toc_cell": false,
      "toc_position": {},
      "toc_section_display": "block",
      "toc_window_display": false
    },
    "varInspector": {
      "cols": {
        "lenName": 16,
        "lenType": 16,
        "lenVar": 40
      },
      "kernels_config": {
        "python": {
          "delete_cmd_postfix": "",
          "delete_cmd_prefix": "del ",
          "library": "var_list.py",
          "varRefreshCmd": "print(var_dic_list())"
        },
        "r": {
          "delete_cmd_postfix": ") ",
          "delete_cmd_prefix": "rm(",
          "library": "var_list.r",
          "varRefreshCmd": "cat(var_dic_list()) "
        }
      },
      "types_to_exclude": [
        "module",
        "function",
        "builtin_function_or_method",
        "instance",
        "_Feature"
      ],
      "window_display": false
    }
  },
  "cells": [
    {
      "cell_type": "markdown",
      "metadata": {
        "id": "view-in-github",
        "colab_type": "text"
      },
      "source": [
        "<a href=\"https://colab.research.google.com/github/unicamp-dl/IA025_2022S1/blob/main/ex03/Marcus_Vinicius_Borela_de_Castro.ipynb\" target=\"_parent\"><img src=\"https://colab.research.google.com/assets/colab-badge.svg\" alt=\"Open In Colab\"/></a>"
      ]
    },
    {
      "cell_type": "markdown",
      "metadata": {
        "id": "zK-o03OW4rWq"
      },
      "source": [
        "### Escreva aqui seu nome: Marcus Vinícius Borela de Castro"
      ]
    },
    {
      "cell_type": "markdown",
      "metadata": {
        "id": "B5_ZRWRfCZtI"
      },
      "source": [
        "# PyTorch: Gradientes e Grafo Computacional"
      ]
    },
    {
      "cell_type": "markdown",
      "metadata": {
        "id": "mQcJKilSCZtO"
      },
      "source": [
        "## Objetivos"
      ]
    },
    {
      "cell_type": "markdown",
      "metadata": {
        "id": "OFWv6Mi-CZtQ"
      },
      "source": [
        "Este notebook introduz \n",
        "- o conceito de autograd do PyTorch,\n",
        "- uma interpretação numérica intuitiva do gradiente, e o\n",
        "- grafo computacional, utilizado para o cálculo automático do gradiente de uma função."
      ]
    },
    {
      "cell_type": "markdown",
      "metadata": {
        "id": "BIlQdKAuCZtR"
      },
      "source": [
        "Um dos principais fundamentos para que o PyTorch seja adequado para deep learning é a sua habilidade de\n",
        "calcular o gradiente automaticamente a partir da expressões definidas. Essa facilidade é implementada\n",
        "pelo tensor através do cálculo automático do gradiente pela construção dinâmica do grafo computacional."
      ]
    },
    {
      "cell_type": "markdown",
      "source": [
        "# Configuração padrão "
      ],
      "metadata": {
        "id": "GqE55hTyVgVb"
      }
    },
    {
      "cell_type": "code",
      "source": [
        "import math"
      ],
      "metadata": {
        "id": "laXjE4RG-hvQ"
      },
      "execution_count": 2,
      "outputs": []
    },
    {
      "cell_type": "markdown",
      "metadata": {
        "id": "91vqgVXqZycr"
      },
      "source": [
        "## Fixando a seed"
      ]
    },
    {
      "cell_type": "code",
      "source": [
        "import random\n",
        "import torch\n",
        "import numpy as np"
      ],
      "metadata": {
        "id": "_xl74rj5csba"
      },
      "execution_count": 3,
      "outputs": []
    },
    {
      "cell_type": "code",
      "metadata": {
        "id": "bkETIyWGkbOf"
      },
      "source": [
        "def inicializa_seed():\n",
        "  \"\"\"\n",
        "  É recomendado reiniciar as seeds antes de inicializar o modelo, pois assim\n",
        "  garantimos que os pesos vao ser sempre os mesmos.\n",
        "  fontes de apoio: \n",
        "      http://nlp.seas.harvard.edu/2018/04/03/attention.html\n",
        "      https://github.com/CyberZHG/torch-multi-head-attention/blob/master/torch_multi_head_attention/multi_head_attention.py#L15\n",
        "  \"\"\"\n",
        "  random.seed(123)\n",
        "  np.random.seed(123)\n",
        "  torch.manual_seed(123)\n",
        "  #torch.cuda.manual_seed(123)\n",
        "  #Cuda algorithms\n",
        "  #torch.backends.cudnn.deterministic = True "
      ],
      "execution_count": 4,
      "outputs": []
    },
    {
      "cell_type": "code",
      "metadata": {
        "id": "ViMcw_kVkbOf"
      },
      "source": [
        "inicializa_seed()"
      ],
      "execution_count": 5,
      "outputs": []
    },
    {
      "cell_type": "markdown",
      "metadata": {
        "id": "7wEkY_g7kgp-"
      },
      "source": [
        "## Rastro (neptune.ai)\n",
        "\n",
        "Gerado rastro da execução no Neptune (detalhes no artigo [Rastro-DM: Mineração de Dados com Rastro](https://revista.tcu.gov.br/ojs/index.php/RTCU/article/view/1664))\n"
      ]
    },
    {
      "cell_type": "markdown",
      "metadata": {
        "id": "anygzoSagczS"
      },
      "source": [
        "### Importação de libraries para Rastro"
      ]
    },
    {
      "cell_type": "code",
      "metadata": {
        "colab": {
          "base_uri": "https://localhost:8080/"
        },
        "id": "CMgyMyI_kbOc",
        "outputId": "4ba4d4ee-54a9-47d2-f925-8829f83a21db"
      },
      "source": [
        "pip install neptune-client"
      ],
      "execution_count": 6,
      "outputs": [
        {
          "output_type": "stream",
          "name": "stdout",
          "text": [
            "Requirement already satisfied: neptune-client in /usr/local/lib/python3.7/dist-packages (0.15.2)\n",
            "Requirement already satisfied: PyJWT in /usr/local/lib/python3.7/dist-packages (from neptune-client) (2.3.0)\n",
            "Requirement already satisfied: GitPython>=2.0.8 in /usr/local/lib/python3.7/dist-packages (from neptune-client) (3.1.27)\n",
            "Requirement already satisfied: websocket-client!=1.0.0,>=0.35.0 in /usr/local/lib/python3.7/dist-packages (from neptune-client) (1.3.2)\n",
            "Requirement already satisfied: swagger-spec-validator>=2.7.4 in /usr/local/lib/python3.7/dist-packages (from neptune-client) (2.7.4)\n",
            "Requirement already satisfied: requests-oauthlib>=1.0.0 in /usr/local/lib/python3.7/dist-packages (from neptune-client) (1.3.1)\n",
            "Requirement already satisfied: boto3>=1.16.0 in /usr/local/lib/python3.7/dist-packages (from neptune-client) (1.21.34)\n",
            "Requirement already satisfied: future>=0.17.1 in /usr/local/lib/python3.7/dist-packages (from neptune-client) (0.18.2)\n",
            "Requirement already satisfied: click>=7.0 in /usr/local/lib/python3.7/dist-packages (from neptune-client) (7.1.2)\n",
            "Requirement already satisfied: six>=1.12.0 in /usr/local/lib/python3.7/dist-packages (from neptune-client) (1.15.0)\n",
            "Requirement already satisfied: psutil in /usr/local/lib/python3.7/dist-packages (from neptune-client) (5.4.8)\n",
            "Requirement already satisfied: bravado in /usr/local/lib/python3.7/dist-packages (from neptune-client) (11.0.3)\n",
            "Requirement already satisfied: pandas in /usr/local/lib/python3.7/dist-packages (from neptune-client) (1.3.5)\n",
            "Requirement already satisfied: requests>=2.20.0 in /usr/local/lib/python3.7/dist-packages (from neptune-client) (2.23.0)\n",
            "Requirement already satisfied: Pillow>=1.1.6 in /usr/local/lib/python3.7/dist-packages (from neptune-client) (7.1.2)\n",
            "Requirement already satisfied: oauthlib>=2.1.0 in /usr/local/lib/python3.7/dist-packages (from neptune-client) (3.2.0)\n",
            "Requirement already satisfied: urllib3 in /usr/local/lib/python3.7/dist-packages (from neptune-client) (1.25.11)\n",
            "Requirement already satisfied: packaging in /usr/local/lib/python3.7/dist-packages (from neptune-client) (21.3)\n",
            "Requirement already satisfied: s3transfer<0.6.0,>=0.5.0 in /usr/local/lib/python3.7/dist-packages (from boto3>=1.16.0->neptune-client) (0.5.2)\n",
            "Requirement already satisfied: botocore<1.25.0,>=1.24.34 in /usr/local/lib/python3.7/dist-packages (from boto3>=1.16.0->neptune-client) (1.24.34)\n",
            "Requirement already satisfied: jmespath<2.0.0,>=0.7.1 in /usr/local/lib/python3.7/dist-packages (from boto3>=1.16.0->neptune-client) (1.0.0)\n",
            "Requirement already satisfied: python-dateutil<3.0.0,>=2.1 in /usr/local/lib/python3.7/dist-packages (from botocore<1.25.0,>=1.24.34->boto3>=1.16.0->neptune-client) (2.8.2)\n",
            "Requirement already satisfied: typing-extensions>=3.7.4.3 in /usr/local/lib/python3.7/dist-packages (from GitPython>=2.0.8->neptune-client) (3.10.0.2)\n",
            "Requirement already satisfied: gitdb<5,>=4.0.1 in /usr/local/lib/python3.7/dist-packages (from GitPython>=2.0.8->neptune-client) (4.0.9)\n",
            "Requirement already satisfied: smmap<6,>=3.0.1 in /usr/local/lib/python3.7/dist-packages (from gitdb<5,>=4.0.1->GitPython>=2.0.8->neptune-client) (5.0.0)\n",
            "Requirement already satisfied: chardet<4,>=3.0.2 in /usr/local/lib/python3.7/dist-packages (from requests>=2.20.0->neptune-client) (3.0.4)\n",
            "Requirement already satisfied: idna<3,>=2.5 in /usr/local/lib/python3.7/dist-packages (from requests>=2.20.0->neptune-client) (2.10)\n",
            "Requirement already satisfied: certifi>=2017.4.17 in /usr/local/lib/python3.7/dist-packages (from requests>=2.20.0->neptune-client) (2021.10.8)\n",
            "Requirement already satisfied: pyyaml in /usr/local/lib/python3.7/dist-packages (from swagger-spec-validator>=2.7.4->neptune-client) (3.13)\n",
            "Requirement already satisfied: jsonschema in /usr/local/lib/python3.7/dist-packages (from swagger-spec-validator>=2.7.4->neptune-client) (4.3.3)\n",
            "Requirement already satisfied: simplejson in /usr/local/lib/python3.7/dist-packages (from bravado->neptune-client) (3.17.6)\n",
            "Requirement already satisfied: monotonic in /usr/local/lib/python3.7/dist-packages (from bravado->neptune-client) (1.6)\n",
            "Requirement already satisfied: msgpack in /usr/local/lib/python3.7/dist-packages (from bravado->neptune-client) (1.0.3)\n",
            "Requirement already satisfied: bravado-core>=5.16.1 in /usr/local/lib/python3.7/dist-packages (from bravado->neptune-client) (5.17.0)\n",
            "Requirement already satisfied: pytz in /usr/local/lib/python3.7/dist-packages (from bravado-core>=5.16.1->bravado->neptune-client) (2018.9)\n",
            "Requirement already satisfied: jsonref in /usr/local/lib/python3.7/dist-packages (from bravado-core>=5.16.1->bravado->neptune-client) (0.2)\n",
            "Requirement already satisfied: pyrsistent!=0.17.0,!=0.17.1,!=0.17.2,>=0.14.0 in /usr/local/lib/python3.7/dist-packages (from jsonschema->swagger-spec-validator>=2.7.4->neptune-client) (0.18.1)\n",
            "Requirement already satisfied: importlib-metadata in /usr/local/lib/python3.7/dist-packages (from jsonschema->swagger-spec-validator>=2.7.4->neptune-client) (4.11.3)\n",
            "Requirement already satisfied: importlib-resources>=1.4.0 in /usr/local/lib/python3.7/dist-packages (from jsonschema->swagger-spec-validator>=2.7.4->neptune-client) (5.4.0)\n",
            "Requirement already satisfied: attrs>=17.4.0 in /usr/local/lib/python3.7/dist-packages (from jsonschema->swagger-spec-validator>=2.7.4->neptune-client) (21.4.0)\n",
            "Requirement already satisfied: rfc3987 in /usr/local/lib/python3.7/dist-packages (from jsonschema->swagger-spec-validator>=2.7.4->neptune-client) (1.3.8)\n",
            "Requirement already satisfied: uri-template in /usr/local/lib/python3.7/dist-packages (from jsonschema->swagger-spec-validator>=2.7.4->neptune-client) (1.2.0)\n",
            "Requirement already satisfied: fqdn in /usr/local/lib/python3.7/dist-packages (from jsonschema->swagger-spec-validator>=2.7.4->neptune-client) (1.5.1)\n",
            "Requirement already satisfied: jsonpointer>1.13 in /usr/local/lib/python3.7/dist-packages (from jsonschema->swagger-spec-validator>=2.7.4->neptune-client) (2.2)\n",
            "Requirement already satisfied: webcolors>=1.11 in /usr/local/lib/python3.7/dist-packages (from jsonschema->swagger-spec-validator>=2.7.4->neptune-client) (1.11.1)\n",
            "Requirement already satisfied: rfc3339-validator in /usr/local/lib/python3.7/dist-packages (from jsonschema->swagger-spec-validator>=2.7.4->neptune-client) (0.1.4)\n",
            "Requirement already satisfied: isoduration in /usr/local/lib/python3.7/dist-packages (from jsonschema->swagger-spec-validator>=2.7.4->neptune-client) (20.11.0)\n",
            "Requirement already satisfied: zipp>=3.1.0 in /usr/local/lib/python3.7/dist-packages (from importlib-resources>=1.4.0->jsonschema->swagger-spec-validator>=2.7.4->neptune-client) (3.7.0)\n",
            "Requirement already satisfied: cached-property>=1.3.0 in /usr/local/lib/python3.7/dist-packages (from fqdn->jsonschema->swagger-spec-validator>=2.7.4->neptune-client) (1.5.2)\n",
            "Requirement already satisfied: arrow>=0.15.0 in /usr/local/lib/python3.7/dist-packages (from isoduration->jsonschema->swagger-spec-validator>=2.7.4->neptune-client) (1.2.2)\n",
            "Requirement already satisfied: pyparsing!=3.0.5,>=2.0.2 in /usr/local/lib/python3.7/dist-packages (from packaging->neptune-client) (3.0.7)\n",
            "Requirement already satisfied: numpy>=1.17.3 in /usr/local/lib/python3.7/dist-packages (from pandas->neptune-client) (1.21.5)\n"
          ]
        }
      ]
    },
    {
      "cell_type": "code",
      "metadata": {
        "colab": {
          "base_uri": "https://localhost:8080/"
        },
        "id": "iwCVX1B4kbOd",
        "outputId": "14d9a8dd-ff4d-4d0a-9ee5-50cfe29aeec0"
      },
      "source": [
        "pip install torchviz"
      ],
      "execution_count": 7,
      "outputs": [
        {
          "output_type": "stream",
          "name": "stdout",
          "text": [
            "Requirement already satisfied: torchviz in /usr/local/lib/python3.7/dist-packages (0.0.2)\n",
            "Requirement already satisfied: graphviz in /usr/local/lib/python3.7/dist-packages (from torchviz) (0.10.1)\n",
            "Requirement already satisfied: torch in /usr/local/lib/python3.7/dist-packages (from torchviz) (1.10.0+cu111)\n",
            "Requirement already satisfied: typing-extensions in /usr/local/lib/python3.7/dist-packages (from torch->torchviz) (3.10.0.2)\n"
          ]
        }
      ]
    },
    {
      "cell_type": "code",
      "metadata": {
        "id": "n_J-4SvMljeW"
      },
      "source": [
        "import getpass\n",
        "import copy\n",
        "from torchviz import make_dot\n",
        "import neptune.new as neptune\n",
        "import time\n",
        "import re\n",
        "import tempfile\n",
        "import os"
      ],
      "execution_count": 8,
      "outputs": []
    },
    {
      "cell_type": "markdown",
      "metadata": {
        "id": "V2glxk01UfDk"
      },
      "source": [
        "### Código Rastro\n",
        "\n",
        "Busca implementar o rastro proposto em [Rastro-DM: Mineração de Dados com Rastro](https://revista.tcu.gov.br/ojs/index.php/RTCU/article/view/1664), autores Marcus Vinícius Borela de Castro e Remis Balaniuk, com o apoio da [solução Neptune](https://app.neptune.ai/)\n",
        "\n"
      ]
    },
    {
      "cell_type": "code",
      "metadata": {
        "id": "Q-iQwMPiLXO3"
      },
      "source": [
        "def converte_optimizer_state_dict(parm_optimizer)-> dict:\n",
        "  # return str(hparam['optimizer'])\n",
        "  return parm_optimizer.state_dict()['param_groups'][0]"
      ],
      "execution_count": 9,
      "outputs": []
    },
    {
      "cell_type": "code",
      "metadata": {
        "id": "GwnX3SrGfq4Z"
      },
      "source": [
        "class NeptuneRastroRun():\n",
        "    se_geracao_rastro = True \n",
        "    neptune_project = \"\"\n",
        "    tag_contexto_rastro = \"\"\n",
        "    neptune_api_token = \"\"\n",
        "\n",
        "    def __init__(self, parm_params:dict,  parm_lista_tag:list = None):\n",
        "      # print(f\"NeptuneRastroRun.init: se_geracao_rastro {self.__class__.se_geracao_rastro} parm_params `{parm_params} \")\n",
        "      if self.__class__.se_geracao_rastro:      \n",
        "        self.run_neptune = neptune.init(project=self.__class__.neptune_project, api_token=self.__class__.neptune_api_token, capture_hardware_metrics=True)\n",
        "        self.run_neptune['sys/name'] = self.__class__.tag_contexto_rastro\n",
        "        vparams = copy.deepcopy(parm_params)\n",
        "        if \"optimizer\" in vparams:\n",
        "          vparams[\"optimizer\"] = converte_optimizer_state_dict(vparams[\"optimizer\"])\n",
        "        if 'criterion'  in vparams:\n",
        "          vparams[\"criterion\"] = str(vparams[\"criterion\"])\n",
        "        if 'device' in vparams:\n",
        "          vparams['device'] = str(vparams[\"device\"])\n",
        "        self.device = vparams[\"device\"]\n",
        "        for tag in parm_lista_tag:\n",
        "          self.run_neptune['sys/tags'].add(tag)\n",
        "        self.run_neptune['parameters'] = vparams\n",
        "        self.tmpDir = tempfile.mkdtemp()\n",
        "\n",
        "    @property\n",
        "    def run():\n",
        "      return self.run_neptune\n",
        "\n",
        "    @classmethod\n",
        "    def ativa_geracao_rastro(cls):\n",
        "     cls.se_geracao_rastro = True      \n",
        "\n",
        "    @classmethod\n",
        "    def def_contexto(cls):\n",
        "     cls.se_geracao_rastro = True      \n",
        "\n",
        "    @classmethod\n",
        "    def desativa_geracao_rastro(cls):\n",
        "     cls.se_geracao_rastro = False      \n",
        "\n",
        "    @classmethod\n",
        "    def retorna_status_geracao_rastro(cls):\n",
        "     return cls.se_geracao_rastro      \n",
        "\n",
        "    @classmethod\n",
        "    def retorna_tag_contexto_rastro(cls):\n",
        "     return cls.tag_contexto_rastro \n",
        "\n",
        "    @classmethod\n",
        "    def inicia_contexto(cls, neptune_project, tag_contexto_rastro, neptune_api_token):\n",
        "      assert '.' not in tag_contexto_rastro, \"NeptuneRastroRun.init(): tag_contexto_rastro não pode possuir ponto, pois será usado para gravar nome de arquivo\"      \n",
        "      cls.neptune_api_token = neptune_api_token\n",
        "      cls.tag_contexto_rastro = tag_contexto_rastro\n",
        "      cls.neptune_project = neptune_project\n",
        "\n",
        "    def salva_metrica(self, parm_metricas={}):\n",
        "      #print(f\"NeptuneRastroRun.salva_metrica: se_geracao_rastro {self.__class__.se_geracao_rastro} parm_metricas:{parm_metricas} \")\n",
        "      if self.__class__.se_geracao_rastro:\n",
        "        for metrica, valor in parm_metricas.items(): \n",
        "          self.run_neptune[metrica].log(valor)\n",
        " \n",
        "    def gera_grafico_modelo(self, loader_train, model):\n",
        "      if self.__class__.se_geracao_rastro: \n",
        "        # efetuar um forward \n",
        "        \"\"\"\n",
        "        se dataloader devolver x e y:\n",
        "        x_, y_ = next(iter(loader_train))\n",
        "        x_ = x_.to(device)\n",
        "        outputs = model(x_)\n",
        "        \"\"\"\n",
        "        # se dataloader devolver dict:\n",
        "        dados_ = next(iter(loader_train))\n",
        "        outputs = model(dados_['x'].to(self.device))\n",
        "        #outputs = model(x_['input_ids'].to(self.device), x_['attention_mask'].to(self.device))\n",
        "\n",
        "        nome_arquivo = os.path.join(self.tmpDir, \"modelo \"+ self.__class__.tag_contexto_rastro + time.strftime(\"%Y-%b-%d %H:%M:%S\"))\n",
        "        make_dot(outputs, params=dict(model.named_parameters()), show_attrs=True, show_saved=True).render(nome_arquivo, format=\"png\")\n",
        "        self.run_neptune[\"parameters/model_graph\"].upload(nome_arquivo+'.png')\n",
        "        self.run_neptune['parameters/model'] = re.sub('<bound method Module.state_dict of ', '',str(model.state_dict))      \n",
        "\n",
        "\n",
        "\n",
        "    def stop(self):\n",
        "      if self.__class__.se_geracao_rastro:         \n",
        "        self.run_neptune.stop()\n"
      ],
      "execution_count": 10,
      "outputs": []
    },
    {
      "cell_type": "markdown",
      "metadata": {
        "id": "O488oyu5l8kC"
      },
      "source": [
        "### Definindo parâmetros para o rastro\n",
        "\n"
      ]
    },
    {
      "cell_type": "code",
      "metadata": {
        "id": "22z4OtX5kbOf"
      },
      "source": [
        "# NEPTUNE_API_TOKEN = getpass.getpass('Informe NEPTUNE_API_TOKEN')"
      ],
      "execution_count": 11,
      "outputs": []
    },
    {
      "cell_type": "code",
      "metadata": {
        "id": "zY4Hjvp1wR9k",
        "colab": {
          "base_uri": "https://localhost:8080/"
        },
        "outputId": "206b56f6-08f2-4c14-ef68-3e4aa6e0b068"
      },
      "source": [
        "NeptuneRastroRun.inicia_contexto('marcusborela/IA025', 'Aula 3 - construindo grafo computacional do Pytorch',   getpass.getpass('Informe NEPTUNE_API_TOKEN'))\n",
        "#NeptuneRastroRun.desativa_geracao_rastro()"
      ],
      "execution_count": 12,
      "outputs": [
        {
          "name": "stdout",
          "output_type": "stream",
          "text": [
            "Informe NEPTUNE_API_TOKEN··········\n"
          ]
        }
      ]
    },
    {
      "cell_type": "markdown",
      "metadata": {
        "id": "ZF_-dJ2nCZtT"
      },
      "source": [
        "# Grafo computacional"
      ]
    },
    {
      "cell_type": "markdown",
      "metadata": {
        "id": "jboejVQMCZtU"
      },
      "source": [
        "```\n",
        "    y_pred = x * w\n",
        "    e = y_pred - y\n",
        "    e2 = e**2\n",
        "    J = e2.sum()\n",
        "```"
      ]
    },
    {
      "cell_type": "markdown",
      "metadata": {
        "id": "KeeEBKl4CZtV"
      },
      "source": [
        "<img src=\"https://raw.githubusercontent.com/robertoalotufo/files/master/figures/GrafoComputacional.png\" width=\"600pt\"/>"
      ]
    },
    {
      "cell_type": "markdown",
      "metadata": {
        "id": "8yZun7wrCZtX"
      },
      "source": [
        "Para conhecer com maior profundidade a diferenciação automática usando grafo computacional, veja esta nota de aula:\n",
        "https://cs231n.github.io/optimization-2/"
      ]
    },
    {
      "cell_type": "code",
      "metadata": {
        "ExecuteTime": {
          "end_time": "2019-12-11T00:23:00.431853Z",
          "start_time": "2019-12-11T00:23:00.414813Z"
        },
        "id": "HlT2d-4fCZtZ"
      },
      "source": [
        "import torch"
      ],
      "execution_count": 13,
      "outputs": []
    },
    {
      "cell_type": "code",
      "metadata": {
        "ExecuteTime": {
          "end_time": "2019-12-11T00:23:00.863228Z",
          "start_time": "2019-12-11T00:23:00.844457Z"
        },
        "colab": {
          "base_uri": "https://localhost:8080/",
          "height": 35
        },
        "id": "xX0QwUduCZtf",
        "outputId": "36d6455f-11b2-4446-d14e-ad6beeb2fd21"
      },
      "source": [
        "torch.__version__"
      ],
      "execution_count": 14,
      "outputs": [
        {
          "output_type": "execute_result",
          "data": {
            "text/plain": [
              "'1.10.0+cu111'"
            ],
            "application/vnd.google.colaboratory.intrinsic+json": {
              "type": "string"
            }
          },
          "metadata": {},
          "execution_count": 14
        }
      ]
    },
    {
      "cell_type": "markdown",
      "metadata": {
        "id": "vsqzALS4CZtl"
      },
      "source": [
        "## Se um tensor possui .requires_grad=True"
      ]
    },
    {
      "cell_type": "code",
      "metadata": {
        "ExecuteTime": {
          "end_time": "2019-09-29T03:07:22.117010Z",
          "start_time": "2019-09-29T03:07:22.041861Z"
        },
        "colab": {
          "base_uri": "https://localhost:8080/"
        },
        "id": "foaAb94aCZtm",
        "outputId": "9c36c39b-7740-40d4-c19b-86791a5d9a04"
      },
      "source": [
        "y = 2 * torch.arange(0,4).float()\n",
        "y"
      ],
      "execution_count": 15,
      "outputs": [
        {
          "output_type": "execute_result",
          "data": {
            "text/plain": [
              "tensor([0., 2., 4., 6.])"
            ]
          },
          "metadata": {},
          "execution_count": 15
        }
      ]
    },
    {
      "cell_type": "code",
      "metadata": {
        "ExecuteTime": {
          "end_time": "2019-09-29T03:07:28.610934Z",
          "start_time": "2019-09-29T03:07:28.598223Z"
        },
        "colab": {
          "base_uri": "https://localhost:8080/"
        },
        "id": "no6SdSyICZtr",
        "outputId": "10ec7d73-f8f6-441a-bc86-c84bb744c61e"
      },
      "source": [
        "x = torch.arange(0,4).float(); x"
      ],
      "execution_count": 16,
      "outputs": [
        {
          "output_type": "execute_result",
          "data": {
            "text/plain": [
              "tensor([0., 1., 2., 3.])"
            ]
          },
          "metadata": {},
          "execution_count": 16
        }
      ]
    },
    {
      "cell_type": "code",
      "metadata": {
        "ExecuteTime": {
          "end_time": "2019-09-29T03:07:31.523762Z",
          "start_time": "2019-09-29T03:07:31.497683Z"
        },
        "colab": {
          "base_uri": "https://localhost:8080/"
        },
        "id": "eL_i1mwGCZtw",
        "outputId": "4cd0fb76-a387-424d-e717-0bd20e12beee"
      },
      "source": [
        "w = torch.ones(1,requires_grad=True); w"
      ],
      "execution_count": 17,
      "outputs": [
        {
          "output_type": "execute_result",
          "data": {
            "text/plain": [
              "tensor([1.], requires_grad=True)"
            ]
          },
          "metadata": {},
          "execution_count": 17
        }
      ]
    },
    {
      "cell_type": "markdown",
      "metadata": {
        "id": "qjEl-0l7CZt0"
      },
      "source": [
        "## Cálculo automático do gradiente da função perda J"
      ]
    },
    {
      "cell_type": "markdown",
      "metadata": {
        "id": "8pUh-SCnCZt1"
      },
      "source": [
        "Seja a expressão: $$ J = \\sum ((x  w) - y)^2 $$\n",
        "\n",
        "Queremos calcular a derivada de $J$ em relação a $w$."
      ]
    },
    {
      "cell_type": "markdown",
      "metadata": {
        "id": "eMwwVtJ1CZt2"
      },
      "source": [
        "### Montagem do grafo computacional"
      ]
    },
    {
      "cell_type": "code",
      "metadata": {
        "ExecuteTime": {
          "end_time": "2019-09-29T03:07:36.290122Z",
          "start_time": "2019-09-29T03:07:36.273229Z"
        },
        "colab": {
          "base_uri": "https://localhost:8080/"
        },
        "id": "zp2aK4YhCZt3",
        "outputId": "8228a239-6e7f-45dd-c365-26d5d2ee8511"
      },
      "source": [
        "# predict (forward)\n",
        "y_pred = x * w\n",
        "\n",
        "# cálculo da perda J: loss\n",
        "e = y_pred - y\n",
        "e2 = e.pow(2)\n",
        "J = e2.sum()\n",
        "J"
      ],
      "execution_count": 18,
      "outputs": [
        {
          "output_type": "execute_result",
          "data": {
            "text/plain": [
              "tensor(14., grad_fn=<SumBackward0>)"
            ]
          },
          "metadata": {},
          "execution_count": 18
        }
      ]
    },
    {
      "cell_type": "markdown",
      "metadata": {
        "id": "XC96wB7PCZt8"
      },
      "source": [
        "## Auto grad - processa o grafo computacional backwards"
      ]
    },
    {
      "cell_type": "markdown",
      "metadata": {
        "ExecuteTime": {
          "end_time": "2017-10-04T15:55:45.308858",
          "start_time": "2017-10-04T15:55:45.304654"
        },
        "id": "kKbf4D0CCZt-"
      },
      "source": [
        "O `backward()` varre o grafo computacional a partir da variável a ele associada e calcula o gradiente para todos os tensores que possuem o atributo `requires_grad` como verdadeiro.\n",
        "O `backward()` destroi o grafo após sua execução. Isso é intrínsico ao PyTorch pelo fato dele ser uma rede dinâmica."
      ]
    },
    {
      "cell_type": "code",
      "metadata": {
        "ExecuteTime": {
          "end_time": "2019-09-29T03:07:40.267334Z",
          "start_time": "2019-09-29T03:07:40.247422Z"
        },
        "colab": {
          "base_uri": "https://localhost:8080/"
        },
        "id": "Z1lnkb0GCZt_",
        "outputId": "4069a398-a8e6-4708-c174-bbaf5237a7eb"
      },
      "source": [
        "J.backward()\n",
        "print(w.grad)"
      ],
      "execution_count": 19,
      "outputs": [
        {
          "output_type": "stream",
          "name": "stdout",
          "text": [
            "tensor([-28.])\n"
          ]
        }
      ]
    },
    {
      "cell_type": "code",
      "metadata": {
        "ExecuteTime": {
          "end_time": "2019-09-29T03:07:42.637508Z",
          "start_time": "2019-09-29T03:07:42.627818Z"
        },
        "id": "NJWgpQbICZuD"
      },
      "source": [
        "w.grad.data.zero_();"
      ],
      "execution_count": 20,
      "outputs": []
    },
    {
      "cell_type": "markdown",
      "metadata": {
        "id": "j-HTDCpBCZuH"
      },
      "source": [
        "## Interpretação do Gradiente"
      ]
    },
    {
      "cell_type": "markdown",
      "metadata": {
        "id": "aQCUPkozCZuI"
      },
      "source": [
        "O gradiente de uma variável final (J) com respeito à outra variável de entrada (w) pode ser interpretado como o quanto a variável final J vai aumentar se houver um pequeno aumento na variável de entrada (w).\n",
        "Por exemplo suponha que o gradiente seja 28. Isto significa se aumentarmos a variável w de 0.001, então J vai aumentar de 0.028."
      ]
    },
    {
      "cell_type": "code",
      "metadata": {
        "ExecuteTime": {
          "end_time": "2019-09-29T03:07:46.287734Z",
          "start_time": "2019-09-29T03:07:46.276014Z"
        },
        "colab": {
          "base_uri": "https://localhost:8080/"
        },
        "id": "VNUws23uCZuK",
        "outputId": "249b24a0-d949-497e-ad7e-2c41c1c8b2db"
      },
      "source": [
        "eps = 0.001\n",
        "y_pred = x * (w + eps)\n",
        "J_new = (y_pred - y).pow(2).sum()\n",
        "J_new"
      ],
      "execution_count": 21,
      "outputs": [
        {
          "output_type": "execute_result",
          "data": {
            "text/plain": [
              "tensor(13.9720, grad_fn=<SumBackward0>)"
            ]
          },
          "metadata": {},
          "execution_count": 21
        }
      ]
    },
    {
      "cell_type": "code",
      "metadata": {
        "ExecuteTime": {
          "end_time": "2019-09-29T03:07:49.279766Z",
          "start_time": "2019-09-29T03:07:49.267111Z"
        },
        "colab": {
          "base_uri": "https://localhost:8080/"
        },
        "id": "iYghg1bnCZuP",
        "outputId": "c4b865fa-fecd-492d-a229-3c1394b74b00"
      },
      "source": [
        "print(J_new - J)"
      ],
      "execution_count": 22,
      "outputs": [
        {
          "output_type": "stream",
          "name": "stdout",
          "text": [
            "tensor(-0.0280, grad_fn=<SubBackward0>)\n"
          ]
        }
      ]
    },
    {
      "cell_type": "markdown",
      "metadata": {
        "id": "Zlm30rdnCZuT"
      },
      "source": [
        "## Backpropagation"
      ]
    },
    {
      "cell_type": "markdown",
      "metadata": {
        "id": "GREsFSQWCZuU"
      },
      "source": [
        "Uma forma equivalente explícita de calcular o gradiente é fazendo o processamento do backpropagation no grafo computacional, de forma explícita.\n",
        "Apenas como ilustração."
      ]
    },
    {
      "cell_type": "code",
      "metadata": {
        "ExecuteTime": {
          "end_time": "2019-09-29T03:07:52.889088Z",
          "start_time": "2019-09-29T03:07:52.861404Z"
        },
        "colab": {
          "base_uri": "https://localhost:8080/"
        },
        "id": "JYmJImp2CZuW",
        "scrolled": false,
        "outputId": "9bff9816-0ac3-4101-d078-dd5b4fa75821"
      },
      "source": [
        "import numpy as np\n",
        "\n",
        "dJ = 1.\n",
        "de2 = dJ * np.ones((4,))\n",
        "de = de2 * 2 * e.data.numpy()\n",
        "dy_pred = de\n",
        "dw = (dy_pred * x.data.numpy()).sum()\n",
        "print(dJ)\n",
        "print(de2)\n",
        "print(de)\n",
        "print(dw)"
      ],
      "execution_count": 23,
      "outputs": [
        {
          "output_type": "stream",
          "name": "stdout",
          "text": [
            "1.0\n",
            "[1. 1. 1. 1.]\n",
            "[ 0. -2. -4. -6.]\n",
            "-28.0\n"
          ]
        }
      ]
    },
    {
      "cell_type": "markdown",
      "metadata": {
        "id": "r6-bQzqsCZuZ"
      },
      "source": [
        "## Visualizando o grafo computacional"
      ]
    },
    {
      "cell_type": "code",
      "metadata": {
        "ExecuteTime": {
          "end_time": "2019-09-29T03:07:55.440538Z",
          "start_time": "2019-09-29T03:07:55.419663Z"
        },
        "id": "pjGruWPTCZub",
        "colab": {
          "base_uri": "https://localhost:8080/"
        },
        "outputId": "3e1872e9-8c7b-498b-be2f-5408a33c5b9f"
      },
      "source": [
        "!pip install torchviz"
      ],
      "execution_count": 24,
      "outputs": [
        {
          "output_type": "stream",
          "name": "stdout",
          "text": [
            "Requirement already satisfied: torchviz in /usr/local/lib/python3.7/dist-packages (0.0.2)\n",
            "Requirement already satisfied: torch in /usr/local/lib/python3.7/dist-packages (from torchviz) (1.10.0+cu111)\n",
            "Requirement already satisfied: graphviz in /usr/local/lib/python3.7/dist-packages (from torchviz) (0.10.1)\n",
            "Requirement already satisfied: typing-extensions in /usr/local/lib/python3.7/dist-packages (from torch->torchviz) (3.10.0.2)\n"
          ]
        }
      ]
    },
    {
      "cell_type": "code",
      "metadata": {
        "ExecuteTime": {
          "end_time": "2019-09-29T03:07:56.829863Z",
          "start_time": "2019-09-29T03:07:56.003452Z"
        },
        "colab": {
          "base_uri": "https://localhost:8080/",
          "height": 0
        },
        "id": "Lbi_GDjWCZuf",
        "outputId": "c9b91a30-f22f-4401-9e5d-85ecfd008f27"
      },
      "source": [
        "import torchviz\n",
        "J = ((w * x) - y).pow(2).sum()\n",
        "p = {'w':w} # dicionário de parâmetros\n",
        "out = torchviz.make_dot(J,params=p)\n",
        "out"
      ],
      "execution_count": 25,
      "outputs": [
        {
          "output_type": "execute_result",
          "data": {
            "text/plain": [
              "<graphviz.dot.Digraph at 0x7f75f1c2e950>"
            ],
            "image/svg+xml": "<?xml version=\"1.0\" encoding=\"UTF-8\" standalone=\"no\"?>\n<!DOCTYPE svg PUBLIC \"-//W3C//DTD SVG 1.1//EN\"\n \"http://www.w3.org/Graphics/SVG/1.1/DTD/svg11.dtd\">\n<!-- Generated by graphviz version 2.40.1 (20161225.0304)\n -->\n<!-- Title: %3 Pages: 1 -->\n<svg width=\"109pt\" height=\"380pt\"\n viewBox=\"0.00 0.00 109.00 380.00\" xmlns=\"http://www.w3.org/2000/svg\" xmlns:xlink=\"http://www.w3.org/1999/xlink\">\n<g id=\"graph0\" class=\"graph\" transform=\"scale(1 1) rotate(0) translate(4 376)\">\n<title>%3</title>\n<polygon fill=\"#ffffff\" stroke=\"transparent\" points=\"-4,4 -4,-376 105,-376 105,4 -4,4\"/>\n<!-- 140144544340016 -->\n<g id=\"node1\" class=\"node\">\n<title>140144544340016</title>\n<polygon fill=\"#caff70\" stroke=\"#000000\" points=\"77.5,-31 23.5,-31 23.5,0 77.5,0 77.5,-31\"/>\n<text text-anchor=\"middle\" x=\"50.5\" y=\"-7\" font-family=\"monospace\" font-size=\"10.00\" fill=\"#000000\"> ()</text>\n</g>\n<!-- 140144543984080 -->\n<g id=\"node2\" class=\"node\">\n<title>140144543984080</title>\n<polygon fill=\"#d3d3d3\" stroke=\"#000000\" points=\"95,-86 6,-86 6,-67 95,-67 95,-86\"/>\n<text text-anchor=\"middle\" x=\"50.5\" y=\"-74\" font-family=\"monospace\" font-size=\"10.00\" fill=\"#000000\">SumBackward0</text>\n</g>\n<!-- 140144543984080&#45;&gt;140144544340016 -->\n<g id=\"edge6\" class=\"edge\">\n<title>140144543984080&#45;&gt;140144544340016</title>\n<path fill=\"none\" stroke=\"#000000\" d=\"M50.5,-66.9688C50.5,-60.1289 50.5,-50.5621 50.5,-41.5298\"/>\n<polygon fill=\"#000000\" stroke=\"#000000\" points=\"54.0001,-41.3678 50.5,-31.3678 47.0001,-41.3678 54.0001,-41.3678\"/>\n</g>\n<!-- 140144543983824 -->\n<g id=\"node3\" class=\"node\">\n<title>140144543983824</title>\n<polygon fill=\"#d3d3d3\" stroke=\"#000000\" points=\"95,-141 6,-141 6,-122 95,-122 95,-141\"/>\n<text text-anchor=\"middle\" x=\"50.5\" y=\"-129\" font-family=\"monospace\" font-size=\"10.00\" fill=\"#000000\">PowBackward0</text>\n</g>\n<!-- 140144543983824&#45;&gt;140144543984080 -->\n<g id=\"edge1\" class=\"edge\">\n<title>140144543983824&#45;&gt;140144543984080</title>\n<path fill=\"none\" stroke=\"#000000\" d=\"M50.5,-121.9197C50.5,-114.9083 50.5,-105.1442 50.5,-96.4652\"/>\n<polygon fill=\"#000000\" stroke=\"#000000\" points=\"54.0001,-96.3408 50.5,-86.3408 47.0001,-96.3409 54.0001,-96.3408\"/>\n</g>\n<!-- 140144543984144 -->\n<g id=\"node4\" class=\"node\">\n<title>140144543984144</title>\n<polygon fill=\"#d3d3d3\" stroke=\"#000000\" points=\"95,-196 6,-196 6,-177 95,-177 95,-196\"/>\n<text text-anchor=\"middle\" x=\"50.5\" y=\"-184\" font-family=\"monospace\" font-size=\"10.00\" fill=\"#000000\">SubBackward0</text>\n</g>\n<!-- 140144543984144&#45;&gt;140144543983824 -->\n<g id=\"edge2\" class=\"edge\">\n<title>140144543984144&#45;&gt;140144543983824</title>\n<path fill=\"none\" stroke=\"#000000\" d=\"M50.5,-176.9197C50.5,-169.9083 50.5,-160.1442 50.5,-151.4652\"/>\n<polygon fill=\"#000000\" stroke=\"#000000\" points=\"54.0001,-151.3408 50.5,-141.3408 47.0001,-151.3409 54.0001,-151.3408\"/>\n</g>\n<!-- 140144543984272 -->\n<g id=\"node5\" class=\"node\">\n<title>140144543984272</title>\n<polygon fill=\"#d3d3d3\" stroke=\"#000000\" points=\"95,-251 6,-251 6,-232 95,-232 95,-251\"/>\n<text text-anchor=\"middle\" x=\"50.5\" y=\"-239\" font-family=\"monospace\" font-size=\"10.00\" fill=\"#000000\">MulBackward0</text>\n</g>\n<!-- 140144543984272&#45;&gt;140144543984144 -->\n<g id=\"edge3\" class=\"edge\">\n<title>140144543984272&#45;&gt;140144543984144</title>\n<path fill=\"none\" stroke=\"#000000\" d=\"M50.5,-231.9197C50.5,-224.9083 50.5,-215.1442 50.5,-206.4652\"/>\n<polygon fill=\"#000000\" stroke=\"#000000\" points=\"54.0001,-206.3408 50.5,-196.3408 47.0001,-206.3409 54.0001,-206.3408\"/>\n</g>\n<!-- 140144543984464 -->\n<g id=\"node6\" class=\"node\">\n<title>140144543984464</title>\n<polygon fill=\"#d3d3d3\" stroke=\"#000000\" points=\"101,-306 0,-306 0,-287 101,-287 101,-306\"/>\n<text text-anchor=\"middle\" x=\"50.5\" y=\"-294\" font-family=\"monospace\" font-size=\"10.00\" fill=\"#000000\">AccumulateGrad</text>\n</g>\n<!-- 140144543984464&#45;&gt;140144543984272 -->\n<g id=\"edge4\" class=\"edge\">\n<title>140144543984464&#45;&gt;140144543984272</title>\n<path fill=\"none\" stroke=\"#000000\" d=\"M50.5,-286.9197C50.5,-279.9083 50.5,-270.1442 50.5,-261.4652\"/>\n<polygon fill=\"#000000\" stroke=\"#000000\" points=\"54.0001,-261.3408 50.5,-251.3408 47.0001,-261.3409 54.0001,-261.3408\"/>\n</g>\n<!-- 140144544356112 -->\n<g id=\"node7\" class=\"node\">\n<title>140144544356112</title>\n<polygon fill=\"#add8e6\" stroke=\"#000000\" points=\"77.5,-372 23.5,-372 23.5,-342 77.5,-342 77.5,-372\"/>\n<text text-anchor=\"middle\" x=\"50.5\" y=\"-360\" font-family=\"monospace\" font-size=\"10.00\" fill=\"#000000\">w</text>\n<text text-anchor=\"middle\" x=\"50.5\" y=\"-349\" font-family=\"monospace\" font-size=\"10.00\" fill=\"#000000\"> (1)</text>\n</g>\n<!-- 140144544356112&#45;&gt;140144543984464 -->\n<g id=\"edge5\" class=\"edge\">\n<title>140144544356112&#45;&gt;140144543984464</title>\n<path fill=\"none\" stroke=\"#000000\" d=\"M50.5,-341.7333C50.5,-334.0322 50.5,-324.5977 50.5,-316.3414\"/>\n<polygon fill=\"#000000\" stroke=\"#000000\" points=\"54.0001,-316.0864 50.5,-306.0864 47.0001,-316.0864 54.0001,-316.0864\"/>\n</g>\n</g>\n</svg>\n"
          },
          "metadata": {},
          "execution_count": 25
        }
      ]
    },
    {
      "cell_type": "markdown",
      "metadata": {
        "id": "bRCxXDiIzYT7"
      },
      "source": [
        "Iremos agora visualizar a Resnet, que é uma rede neural bastante popular em visão computacional."
      ]
    },
    {
      "cell_type": "code",
      "metadata": {
        "id": "dmhanmVFzhiQ",
        "colab": {
          "base_uri": "https://localhost:8080/",
          "height": 0
        },
        "outputId": "d50999a8-2dae-45b5-e727-87309b06ead3"
      },
      "source": [
        "import torch\n",
        "model = torch.hub.load('pytorch/vision:v0.9.0', 'resnet18', pretrained=True)\n",
        "x_temp = torch.randn(1,3,224,224)  # First, create a random image.\n",
        "y_temp = model(x_temp)  # We need one forward pass so the graph can be build.\n",
        "out = torchviz.make_dot(y_temp, params=dict(model.named_parameters()))  # Create a figure from the computaional graph..\n",
        "torchviz.dot.resize_graph(out, size_per_element=0.05)  # Resize to fit on the screen.\n",
        "out"
      ],
      "execution_count": 26,
      "outputs": [
        {
          "output_type": "stream",
          "name": "stderr",
          "text": [
            "Using cache found in /root/.cache/torch/hub/pytorch_vision_v0.9.0\n"
          ]
        },
        {
          "output_type": "execute_result",
          "data": {
            "text/plain": [
              "<graphviz.dot.Digraph at 0x7f75f09c3450>"
            ],
            "image/svg+xml": "<?xml version=\"1.0\" encoding=\"UTF-8\" standalone=\"no\"?>\n<!DOCTYPE svg PUBLIC \"-//W3C//DTD SVG 1.1//EN\"\n \"http://www.w3.org/Graphics/SVG/1.1/DTD/svg11.dtd\">\n<!-- Generated by graphviz version 2.40.1 (20161225.0304)\n -->\n<!-- Title: %3 Pages: 1 -->\n<svg width=\"597pt\" height=\"1429pt\"\n viewBox=\"0.00 0.00 596.90 1429.00\" xmlns=\"http://www.w3.org/2000/svg\" xmlns:xlink=\"http://www.w3.org/1999/xlink\">\n<g id=\"graph0\" class=\"graph\" transform=\"scale(.3564 .3564) rotate(0) translate(4 4006)\">\n<title>%3</title>\n<polygon fill=\"#ffffff\" stroke=\"transparent\" points=\"-4,4 -4,-4006 1671,-4006 1671,4 -4,4\"/>\n<!-- 140144524673392 -->\n<g id=\"node1\" class=\"node\">\n<title>140144524673392</title>\n<polygon fill=\"#caff70\" stroke=\"#000000\" points=\"1166,-31 1089,-31 1089,0 1166,0 1166,-31\"/>\n<text text-anchor=\"middle\" x=\"1127.5\" y=\"-7\" font-family=\"monospace\" font-size=\"10.00\" fill=\"#000000\"> (1, 1000)</text>\n</g>\n<!-- 140144524669904 -->\n<g id=\"node2\" class=\"node\">\n<title>140144524669904</title>\n<polygon fill=\"#d3d3d3\" stroke=\"#000000\" points=\"1178,-86 1077,-86 1077,-67 1178,-67 1178,-86\"/>\n<text text-anchor=\"middle\" x=\"1127.5\" y=\"-74\" font-family=\"monospace\" font-size=\"10.00\" fill=\"#000000\">AddmmBackward0</text>\n</g>\n<!-- 140144524669904&#45;&gt;140144524673392 -->\n<g id=\"edge202\" class=\"edge\">\n<title>140144524669904&#45;&gt;140144524673392</title>\n<path fill=\"none\" stroke=\"#000000\" d=\"M1127.5,-66.9688C1127.5,-60.1289 1127.5,-50.5621 1127.5,-41.5298\"/>\n<polygon fill=\"#000000\" stroke=\"#000000\" points=\"1131.0001,-41.3678 1127.5,-31.3678 1124.0001,-41.3678 1131.0001,-41.3678\"/>\n</g>\n<!-- 140144524670224 -->\n<g id=\"node3\" class=\"node\">\n<title>140144524670224</title>\n<polygon fill=\"#d3d3d3\" stroke=\"#000000\" points=\"1038,-141 937,-141 937,-122 1038,-122 1038,-141\"/>\n<text text-anchor=\"middle\" x=\"987.5\" y=\"-129\" font-family=\"monospace\" font-size=\"10.00\" fill=\"#000000\">AccumulateGrad</text>\n</g>\n<!-- 140144524670224&#45;&gt;140144524669904 -->\n<g id=\"edge1\" class=\"edge\">\n<title>140144524670224&#45;&gt;140144524669904</title>\n<path fill=\"none\" stroke=\"#000000\" d=\"M1011.8861,-121.9197C1034.4326,-113.0622 1068.1616,-99.8115 1093.3778,-89.9052\"/>\n<polygon fill=\"#000000\" stroke=\"#000000\" points=\"1094.8959,-93.0692 1102.9236,-86.155 1092.3362,-86.554 1094.8959,-93.0692\"/>\n</g>\n<!-- 140144532666992 -->\n<g id=\"node4\" class=\"node\">\n<title>140144532666992</title>\n<polygon fill=\"#add8e6\" stroke=\"#000000\" points=\"1017,-207 958,-207 958,-177 1017,-177 1017,-207\"/>\n<text text-anchor=\"middle\" x=\"987.5\" y=\"-195\" font-family=\"monospace\" font-size=\"10.00\" fill=\"#000000\">fc.bias</text>\n<text text-anchor=\"middle\" x=\"987.5\" y=\"-184\" font-family=\"monospace\" font-size=\"10.00\" fill=\"#000000\"> (1000)</text>\n</g>\n<!-- 140144532666992&#45;&gt;140144524670224 -->\n<g id=\"edge2\" class=\"edge\">\n<title>140144532666992&#45;&gt;140144524670224</title>\n<path fill=\"none\" stroke=\"#000000\" d=\"M987.5,-176.7333C987.5,-169.0322 987.5,-159.5977 987.5,-151.3414\"/>\n<polygon fill=\"#000000\" stroke=\"#000000\" points=\"991.0001,-151.0864 987.5,-141.0864 984.0001,-151.0864 991.0001,-151.0864\"/>\n</g>\n<!-- 140144524670352 -->\n<g id=\"node5\" class=\"node\">\n<title>140144524670352</title>\n<polygon fill=\"#d3d3d3\" stroke=\"#000000\" points=\"1199,-141 1056,-141 1056,-122 1199,-122 1199,-141\"/>\n<text text-anchor=\"middle\" x=\"1127.5\" y=\"-129\" font-family=\"monospace\" font-size=\"10.00\" fill=\"#000000\">ReshapeAliasBackward0</text>\n</g>\n<!-- 140144524670352&#45;&gt;140144524669904 -->\n<g id=\"edge3\" class=\"edge\">\n<title>140144524670352&#45;&gt;140144524669904</title>\n<path fill=\"none\" stroke=\"#000000\" d=\"M1127.5,-121.9197C1127.5,-114.9083 1127.5,-105.1442 1127.5,-96.4652\"/>\n<polygon fill=\"#000000\" stroke=\"#000000\" points=\"1131.0001,-96.3408 1127.5,-86.3408 1124.0001,-96.3409 1131.0001,-96.3408\"/>\n</g>\n<!-- 140144524670096 -->\n<g id=\"node6\" class=\"node\">\n<title>140144524670096</title>\n<polygon fill=\"#d3d3d3\" stroke=\"#000000\" points=\"1175,-201.5 1080,-201.5 1080,-182.5 1175,-182.5 1175,-201.5\"/>\n<text text-anchor=\"middle\" x=\"1127.5\" y=\"-189.5\" font-family=\"monospace\" font-size=\"10.00\" fill=\"#000000\">MeanBackward1</text>\n</g>\n<!-- 140144524670096&#45;&gt;140144524670352 -->\n<g id=\"edge4\" class=\"edge\">\n<title>140144524670096&#45;&gt;140144524670352</title>\n<path fill=\"none\" stroke=\"#000000\" d=\"M1127.5,-182.2796C1127.5,-174.0376 1127.5,-161.9457 1127.5,-151.629\"/>\n<polygon fill=\"#000000\" stroke=\"#000000\" points=\"1131.0001,-151.3972 1127.5,-141.3972 1124.0001,-151.3973 1131.0001,-151.3972\"/>\n</g>\n<!-- 140144524670608 -->\n<g id=\"node7\" class=\"node\">\n<title>140144524670608</title>\n<polygon fill=\"#d3d3d3\" stroke=\"#000000\" points=\"1175,-267.5 1080,-267.5 1080,-248.5 1175,-248.5 1175,-267.5\"/>\n<text text-anchor=\"middle\" x=\"1127.5\" y=\"-255.5\" font-family=\"monospace\" font-size=\"10.00\" fill=\"#000000\">ReluBackward0</text>\n</g>\n<!-- 140144524670608&#45;&gt;140144524670096 -->\n<g id=\"edge5\" class=\"edge\">\n<title>140144524670608&#45;&gt;140144524670096</title>\n<path fill=\"none\" stroke=\"#000000\" d=\"M1127.5,-248.2615C1127.5,-238.7077 1127.5,-223.8615 1127.5,-211.8183\"/>\n<polygon fill=\"#000000\" stroke=\"#000000\" points=\"1131.0001,-211.7784 1127.5,-201.7785 1124.0001,-211.7785 1131.0001,-211.7784\"/>\n</g>\n<!-- 140144524670480 -->\n<g id=\"node8\" class=\"node\">\n<title>140144524670480</title>\n<polygon fill=\"#d3d3d3\" stroke=\"#000000\" points=\"1172,-328 1083,-328 1083,-309 1172,-309 1172,-328\"/>\n<text text-anchor=\"middle\" x=\"1127.5\" y=\"-316\" font-family=\"monospace\" font-size=\"10.00\" fill=\"#000000\">AddBackward0</text>\n</g>\n<!-- 140144524670480&#45;&gt;140144524670608 -->\n<g id=\"edge6\" class=\"edge\">\n<title>140144524670480&#45;&gt;140144524670608</title>\n<path fill=\"none\" stroke=\"#000000\" d=\"M1127.5,-308.7796C1127.5,-300.5376 1127.5,-288.4457 1127.5,-278.129\"/>\n<polygon fill=\"#000000\" stroke=\"#000000\" points=\"1131.0001,-277.8972 1127.5,-267.8972 1124.0001,-277.8973 1131.0001,-277.8972\"/>\n</g>\n<!-- 140144524670800 -->\n<g id=\"node9\" class=\"node\">\n<title>140144524670800</title>\n<polygon fill=\"#d3d3d3\" stroke=\"#000000\" points=\"1467,-383 1306,-383 1306,-364 1467,-364 1467,-383\"/>\n<text text-anchor=\"middle\" x=\"1386.5\" y=\"-371\" font-family=\"monospace\" font-size=\"10.00\" fill=\"#000000\">NativeBatchNormBackward0</text>\n</g>\n<!-- 140144524670800&#45;&gt;140144524670480 -->\n<g id=\"edge7\" class=\"edge\">\n<title>140144524670800&#45;&gt;140144524670480</title>\n<path fill=\"none\" stroke=\"#000000\" d=\"M1341.6813,-363.9825C1297.3459,-354.5677 1229.4296,-340.1453 1181.998,-330.0729\"/>\n<polygon fill=\"#000000\" stroke=\"#000000\" points=\"1182.7123,-326.6466 1172.2034,-327.993 1181.2582,-333.494 1182.7123,-326.6466\"/>\n</g>\n<!-- 140144524670416 -->\n<g id=\"node10\" class=\"node\">\n<title>140144524670416</title>\n<polygon fill=\"#d3d3d3\" stroke=\"#000000\" points=\"1396,-438 1223,-438 1223,-419 1396,-419 1396,-438\"/>\n<text text-anchor=\"middle\" x=\"1309.5\" y=\"-426\" font-family=\"monospace\" font-size=\"10.00\" fill=\"#000000\">MkldnnConvolutionBackward0</text>\n</g>\n<!-- 140144524670416&#45;&gt;140144524670800 -->\n<g id=\"edge8\" class=\"edge\">\n<title>140144524670416&#45;&gt;140144524670800</title>\n<path fill=\"none\" stroke=\"#000000\" d=\"M1322.9124,-418.9197C1334.435,-410.6893 1351.268,-398.6657 1364.7206,-389.0567\"/>\n<polygon fill=\"#000000\" stroke=\"#000000\" points=\"1366.88,-391.8155 1372.983,-383.155 1362.8113,-386.1194 1366.88,-391.8155\"/>\n</g>\n<!-- 140144524671184 -->\n<g id=\"node11\" class=\"node\">\n<title>140144524671184</title>\n<polygon fill=\"#d3d3d3\" stroke=\"#000000\" points=\"1262,-498.5 1167,-498.5 1167,-479.5 1262,-479.5 1262,-498.5\"/>\n<text text-anchor=\"middle\" x=\"1214.5\" y=\"-486.5\" font-family=\"monospace\" font-size=\"10.00\" fill=\"#000000\">ReluBackward0</text>\n</g>\n<!-- 140144524671184&#45;&gt;140144524670416 -->\n<g id=\"edge9\" class=\"edge\">\n<title>140144524671184&#45;&gt;140144524670416</title>\n<path fill=\"none\" stroke=\"#000000\" d=\"M1229.7634,-479.2796C1244.8599,-469.6655 1268.182,-454.813 1285.7106,-443.6501\"/>\n<polygon fill=\"#000000\" stroke=\"#000000\" points=\"1287.7198,-446.5201 1294.2745,-438.1962 1283.9596,-440.6157 1287.7198,-446.5201\"/>\n</g>\n<!-- 140144524671248 -->\n<g id=\"node12\" class=\"node\">\n<title>140144524671248</title>\n<polygon fill=\"#d3d3d3\" stroke=\"#000000\" points=\"1295,-564.5 1134,-564.5 1134,-545.5 1295,-545.5 1295,-564.5\"/>\n<text text-anchor=\"middle\" x=\"1214.5\" y=\"-552.5\" font-family=\"monospace\" font-size=\"10.00\" fill=\"#000000\">NativeBatchNormBackward0</text>\n</g>\n<!-- 140144524671248&#45;&gt;140144524671184 -->\n<g id=\"edge10\" class=\"edge\">\n<title>140144524671248&#45;&gt;140144524671184</title>\n<path fill=\"none\" stroke=\"#000000\" d=\"M1214.5,-545.2615C1214.5,-535.7077 1214.5,-520.8615 1214.5,-508.8183\"/>\n<polygon fill=\"#000000\" stroke=\"#000000\" points=\"1218.0001,-508.7784 1214.5,-498.7785 1211.0001,-508.7785 1218.0001,-508.7784\"/>\n</g>\n<!-- 140144524671568 -->\n<g id=\"node13\" class=\"node\">\n<title>140144524671568</title>\n<polygon fill=\"#d3d3d3\" stroke=\"#000000\" points=\"1224,-625 1051,-625 1051,-606 1224,-606 1224,-625\"/>\n<text text-anchor=\"middle\" x=\"1137.5\" y=\"-613\" font-family=\"monospace\" font-size=\"10.00\" fill=\"#000000\">MkldnnConvolutionBackward0</text>\n</g>\n<!-- 140144524671568&#45;&gt;140144524671248 -->\n<g id=\"edge11\" class=\"edge\">\n<title>140144524671568&#45;&gt;140144524671248</title>\n<path fill=\"none\" stroke=\"#000000\" d=\"M1149.8714,-605.7796C1161.7707,-596.4301 1179.9752,-582.1266 1194.0345,-571.08\"/>\n<polygon fill=\"#000000\" stroke=\"#000000\" points=\"1196.4585,-573.6266 1202.1593,-564.6962 1192.1337,-568.1224 1196.4585,-573.6266\"/>\n</g>\n<!-- 140144524670992 -->\n<g id=\"node14\" class=\"node\">\n<title>140144524670992</title>\n<polygon fill=\"#d3d3d3\" stroke=\"#000000\" points=\"1070,-685.5 975,-685.5 975,-666.5 1070,-666.5 1070,-685.5\"/>\n<text text-anchor=\"middle\" x=\"1022.5\" y=\"-673.5\" font-family=\"monospace\" font-size=\"10.00\" fill=\"#000000\">ReluBackward0</text>\n</g>\n<!-- 140144524670992&#45;&gt;140144524670480 -->\n<g id=\"edge198\" class=\"edge\">\n<title>140144524670992&#45;&gt;140144524670480</title>\n<path fill=\"none\" stroke=\"#000000\" d=\"M1022.5,-666.2758C1022.5,-645.7289 1022.5,-596.3837 1022.5,-555 1022.5,-555 1022.5,-555 1022.5,-428.5 1022.5,-384.4765 1067.0493,-351.1332 1098.112,-333.2349\"/>\n<polygon fill=\"#000000\" stroke=\"#000000\" points=\"1100.196,-336.0822 1107.2549,-328.1814 1096.8097,-329.9557 1100.196,-336.0822\"/>\n</g>\n<!-- 140144524670992&#45;&gt;140144524671568 -->\n<g id=\"edge12\" class=\"edge\">\n<title>140144524670992&#45;&gt;140144524671568</title>\n<path fill=\"none\" stroke=\"#000000\" d=\"M1040.7221,-666.4136C1059.4798,-656.5454 1088.9198,-641.0574 1110.4069,-629.7533\"/>\n<polygon fill=\"#000000\" stroke=\"#000000\" points=\"1112.1427,-632.795 1119.3632,-625.0416 1108.8836,-626.6 1112.1427,-632.795\"/>\n</g>\n<!-- 140144524671888 -->\n<g id=\"node15\" class=\"node\">\n<title>140144524671888</title>\n<polygon fill=\"#d3d3d3\" stroke=\"#000000\" points=\"1058,-751.5 969,-751.5 969,-732.5 1058,-732.5 1058,-751.5\"/>\n<text text-anchor=\"middle\" x=\"1013.5\" y=\"-739.5\" font-family=\"monospace\" font-size=\"10.00\" fill=\"#000000\">AddBackward0</text>\n</g>\n<!-- 140144524671888&#45;&gt;140144524670992 -->\n<g id=\"edge13\" class=\"edge\">\n<title>140144524671888&#45;&gt;140144524670992</title>\n<path fill=\"none\" stroke=\"#000000\" d=\"M1014.828,-732.2615C1016.1308,-722.7077 1018.1552,-707.8615 1019.7975,-695.8183\"/>\n<polygon fill=\"#000000\" stroke=\"#000000\" points=\"1023.2833,-696.1597 1021.1666,-685.7785 1016.3474,-695.2139 1023.2833,-696.1597\"/>\n</g>\n<!-- 140144524672080 -->\n<g id=\"node16\" class=\"node\">\n<title>140144524672080</title>\n<polygon fill=\"#d3d3d3\" stroke=\"#000000\" points=\"1363,-812 1202,-812 1202,-793 1363,-793 1363,-812\"/>\n<text text-anchor=\"middle\" x=\"1282.5\" y=\"-800\" font-family=\"monospace\" font-size=\"10.00\" fill=\"#000000\">NativeBatchNormBackward0</text>\n</g>\n<!-- 140144524672080&#45;&gt;140144524671888 -->\n<g id=\"edge14\" class=\"edge\">\n<title>140144524672080&#45;&gt;140144524671888</title>\n<path fill=\"none\" stroke=\"#000000\" d=\"M1232.5217,-792.9769C1188.6015,-784.3693 1123.0576,-770.9431 1066.5,-757 1062.9486,-756.1245 1059.2752,-755.1757 1055.5956,-754.1951\"/>\n<polygon fill=\"#000000\" stroke=\"#000000\" points=\"1056.4893,-750.8111 1045.9205,-751.5537 1054.6456,-757.5639 1056.4893,-750.8111\"/>\n</g>\n<!-- 140144524671824 -->\n<g id=\"node17\" class=\"node\">\n<title>140144524671824</title>\n<polygon fill=\"#d3d3d3\" stroke=\"#000000\" points=\"1292,-867 1119,-867 1119,-848 1292,-848 1292,-867\"/>\n<text text-anchor=\"middle\" x=\"1205.5\" y=\"-855\" font-family=\"monospace\" font-size=\"10.00\" fill=\"#000000\">MkldnnConvolutionBackward0</text>\n</g>\n<!-- 140144524671824&#45;&gt;140144524672080 -->\n<g id=\"edge15\" class=\"edge\">\n<title>140144524671824&#45;&gt;140144524672080</title>\n<path fill=\"none\" stroke=\"#000000\" d=\"M1218.9124,-847.9197C1230.435,-839.6893 1247.268,-827.6657 1260.7206,-818.0567\"/>\n<polygon fill=\"#000000\" stroke=\"#000000\" points=\"1262.88,-820.8155 1268.983,-812.155 1258.8113,-815.1194 1262.88,-820.8155\"/>\n</g>\n<!-- 140144524672464 -->\n<g id=\"node18\" class=\"node\">\n<title>140144524672464</title>\n<polygon fill=\"#d3d3d3\" stroke=\"#000000\" points=\"1158,-927.5 1063,-927.5 1063,-908.5 1158,-908.5 1158,-927.5\"/>\n<text text-anchor=\"middle\" x=\"1110.5\" y=\"-915.5\" font-family=\"monospace\" font-size=\"10.00\" fill=\"#000000\">ReluBackward0</text>\n</g>\n<!-- 140144524672464&#45;&gt;140144524671824 -->\n<g id=\"edge16\" class=\"edge\">\n<title>140144524672464&#45;&gt;140144524671824</title>\n<path fill=\"none\" stroke=\"#000000\" d=\"M1125.7634,-908.2796C1140.8599,-898.6655 1164.182,-883.813 1181.7106,-872.6501\"/>\n<polygon fill=\"#000000\" stroke=\"#000000\" points=\"1183.7198,-875.5201 1190.2745,-867.1962 1179.9596,-869.6157 1183.7198,-875.5201\"/>\n</g>\n<!-- 140144524672528 -->\n<g id=\"node19\" class=\"node\">\n<title>140144524672528</title>\n<polygon fill=\"#d3d3d3\" stroke=\"#000000\" points=\"1191,-993.5 1030,-993.5 1030,-974.5 1191,-974.5 1191,-993.5\"/>\n<text text-anchor=\"middle\" x=\"1110.5\" y=\"-981.5\" font-family=\"monospace\" font-size=\"10.00\" fill=\"#000000\">NativeBatchNormBackward0</text>\n</g>\n<!-- 140144524672528&#45;&gt;140144524672464 -->\n<g id=\"edge17\" class=\"edge\">\n<title>140144524672528&#45;&gt;140144524672464</title>\n<path fill=\"none\" stroke=\"#000000\" d=\"M1110.5,-974.2615C1110.5,-964.7077 1110.5,-949.8615 1110.5,-937.8183\"/>\n<polygon fill=\"#000000\" stroke=\"#000000\" points=\"1114.0001,-937.7784 1110.5,-927.7785 1107.0001,-937.7785 1114.0001,-937.7784\"/>\n</g>\n<!-- 140144524672848 -->\n<g id=\"node20\" class=\"node\">\n<title>140144524672848</title>\n<polygon fill=\"#d3d3d3\" stroke=\"#000000\" points=\"1120,-1054 947,-1054 947,-1035 1120,-1035 1120,-1054\"/>\n<text text-anchor=\"middle\" x=\"1033.5\" y=\"-1042\" font-family=\"monospace\" font-size=\"10.00\" fill=\"#000000\">MkldnnConvolutionBackward0</text>\n</g>\n<!-- 140144524672848&#45;&gt;140144524672528 -->\n<g id=\"edge18\" class=\"edge\">\n<title>140144524672848&#45;&gt;140144524672528</title>\n<path fill=\"none\" stroke=\"#000000\" d=\"M1045.8714,-1034.7796C1057.7707,-1025.4301 1075.9752,-1011.1266 1090.0345,-1000.08\"/>\n<polygon fill=\"#000000\" stroke=\"#000000\" points=\"1092.4585,-1002.6266 1098.1593,-993.6962 1088.1337,-997.1224 1092.4585,-1002.6266\"/>\n</g>\n<!-- 140144560394384 -->\n<g id=\"node21\" class=\"node\">\n<title>140144560394384</title>\n<polygon fill=\"#d3d3d3\" stroke=\"#000000\" points=\"986,-1114.5 891,-1114.5 891,-1095.5 986,-1095.5 986,-1114.5\"/>\n<text text-anchor=\"middle\" x=\"938.5\" y=\"-1102.5\" font-family=\"monospace\" font-size=\"10.00\" fill=\"#000000\">ReluBackward0</text>\n</g>\n<!-- 140144560394384&#45;&gt;140144524672848 -->\n<g id=\"edge19\" class=\"edge\">\n<title>140144560394384&#45;&gt;140144524672848</title>\n<path fill=\"none\" stroke=\"#000000\" d=\"M953.7634,-1095.2796C968.8599,-1085.6655 992.182,-1070.813 1009.7106,-1059.6501\"/>\n<polygon fill=\"#000000\" stroke=\"#000000\" points=\"1011.7198,-1062.5201 1018.2745,-1054.1962 1007.9596,-1056.6157 1011.7198,-1062.5201\"/>\n</g>\n<!-- 140144524672016 -->\n<g id=\"node174\" class=\"node\">\n<title>140144524672016</title>\n<polygon fill=\"#d3d3d3\" stroke=\"#000000\" points=\"909,-1054 736,-1054 736,-1035 909,-1035 909,-1054\"/>\n<text text-anchor=\"middle\" x=\"822.5\" y=\"-1042\" font-family=\"monospace\" font-size=\"10.00\" fill=\"#000000\">MkldnnConvolutionBackward0</text>\n</g>\n<!-- 140144560394384&#45;&gt;140144524672016 -->\n<g id=\"edge179\" class=\"edge\">\n<title>140144560394384&#45;&gt;140144524672016</title>\n<path fill=\"none\" stroke=\"#000000\" d=\"M920.1195,-1095.4136C901.1987,-1085.5454 871.5026,-1070.0574 849.8287,-1058.7533\"/>\n<polygon fill=\"#000000\" stroke=\"#000000\" points=\"851.2796,-1055.5627 840.7946,-1054.0416 848.0425,-1061.7693 851.2796,-1055.5627\"/>\n</g>\n<!-- 140144524531280 -->\n<g id=\"node22\" class=\"node\">\n<title>140144524531280</title>\n<polygon fill=\"#d3d3d3\" stroke=\"#000000\" points=\"983,-1180.5 894,-1180.5 894,-1161.5 983,-1161.5 983,-1180.5\"/>\n<text text-anchor=\"middle\" x=\"938.5\" y=\"-1168.5\" font-family=\"monospace\" font-size=\"10.00\" fill=\"#000000\">AddBackward0</text>\n</g>\n<!-- 140144524531280&#45;&gt;140144560394384 -->\n<g id=\"edge20\" class=\"edge\">\n<title>140144524531280&#45;&gt;140144560394384</title>\n<path fill=\"none\" stroke=\"#000000\" d=\"M938.5,-1161.2615C938.5,-1151.7077 938.5,-1136.8615 938.5,-1124.8183\"/>\n<polygon fill=\"#000000\" stroke=\"#000000\" points=\"942.0001,-1124.7784 938.5,-1114.7785 935.0001,-1124.7785 942.0001,-1124.7784\"/>\n</g>\n<!-- 140144524531024 -->\n<g id=\"node23\" class=\"node\">\n<title>140144524531024</title>\n<polygon fill=\"#d3d3d3\" stroke=\"#000000\" points=\"1278,-1241 1117,-1241 1117,-1222 1278,-1222 1278,-1241\"/>\n<text text-anchor=\"middle\" x=\"1197.5\" y=\"-1229\" font-family=\"monospace\" font-size=\"10.00\" fill=\"#000000\">NativeBatchNormBackward0</text>\n</g>\n<!-- 140144524531024&#45;&gt;140144524531280 -->\n<g id=\"edge21\" class=\"edge\">\n<title>140144524531024&#45;&gt;140144524531280</title>\n<path fill=\"none\" stroke=\"#000000\" d=\"M1150.683,-1221.9734C1108.8104,-1213.2596 1045.8424,-1199.679 991.5,-1186 987.9529,-1185.1071 984.2825,-1184.1462 980.605,-1183.1575\"/>\n<polygon fill=\"#000000\" stroke=\"#000000\" points=\"981.5029,-1179.7746 970.9331,-1180.5031 979.6502,-1186.525 981.5029,-1179.7746\"/>\n</g>\n<!-- 140144524531152 -->\n<g id=\"node24\" class=\"node\">\n<title>140144524531152</title>\n<polygon fill=\"#d3d3d3\" stroke=\"#000000\" points=\"1207,-1296 1034,-1296 1034,-1277 1207,-1277 1207,-1296\"/>\n<text text-anchor=\"middle\" x=\"1120.5\" y=\"-1284\" font-family=\"monospace\" font-size=\"10.00\" fill=\"#000000\">MkldnnConvolutionBackward0</text>\n</g>\n<!-- 140144524531152&#45;&gt;140144524531024 -->\n<g id=\"edge22\" class=\"edge\">\n<title>140144524531152&#45;&gt;140144524531024</title>\n<path fill=\"none\" stroke=\"#000000\" d=\"M1133.9124,-1276.9197C1145.435,-1268.6893 1162.268,-1256.6657 1175.7206,-1247.0567\"/>\n<polygon fill=\"#000000\" stroke=\"#000000\" points=\"1177.88,-1249.8155 1183.983,-1241.155 1173.8113,-1244.1194 1177.88,-1249.8155\"/>\n</g>\n<!-- 140144524531920 -->\n<g id=\"node25\" class=\"node\">\n<title>140144524531920</title>\n<polygon fill=\"#d3d3d3\" stroke=\"#000000\" points=\"1073,-1356.5 978,-1356.5 978,-1337.5 1073,-1337.5 1073,-1356.5\"/>\n<text text-anchor=\"middle\" x=\"1025.5\" y=\"-1344.5\" font-family=\"monospace\" font-size=\"10.00\" fill=\"#000000\">ReluBackward0</text>\n</g>\n<!-- 140144524531920&#45;&gt;140144524531152 -->\n<g id=\"edge23\" class=\"edge\">\n<title>140144524531920&#45;&gt;140144524531152</title>\n<path fill=\"none\" stroke=\"#000000\" d=\"M1040.7634,-1337.2796C1055.8599,-1327.6655 1079.182,-1312.813 1096.7106,-1301.6501\"/>\n<polygon fill=\"#000000\" stroke=\"#000000\" points=\"1098.7198,-1304.5201 1105.2745,-1296.1962 1094.9596,-1298.6157 1098.7198,-1304.5201\"/>\n</g>\n<!-- 140144524532048 -->\n<g id=\"node26\" class=\"node\">\n<title>140144524532048</title>\n<polygon fill=\"#d3d3d3\" stroke=\"#000000\" points=\"1106,-1422.5 945,-1422.5 945,-1403.5 1106,-1403.5 1106,-1422.5\"/>\n<text text-anchor=\"middle\" x=\"1025.5\" y=\"-1410.5\" font-family=\"monospace\" font-size=\"10.00\" fill=\"#000000\">NativeBatchNormBackward0</text>\n</g>\n<!-- 140144524532048&#45;&gt;140144524531920 -->\n<g id=\"edge24\" class=\"edge\">\n<title>140144524532048&#45;&gt;140144524531920</title>\n<path fill=\"none\" stroke=\"#000000\" d=\"M1025.5,-1403.2615C1025.5,-1393.7077 1025.5,-1378.8615 1025.5,-1366.8183\"/>\n<polygon fill=\"#000000\" stroke=\"#000000\" points=\"1029.0001,-1366.7784 1025.5,-1356.7785 1022.0001,-1366.7785 1029.0001,-1366.7784\"/>\n</g>\n<!-- 140144524532496 -->\n<g id=\"node27\" class=\"node\">\n<title>140144524532496</title>\n<polygon fill=\"#d3d3d3\" stroke=\"#000000\" points=\"1035,-1483 862,-1483 862,-1464 1035,-1464 1035,-1483\"/>\n<text text-anchor=\"middle\" x=\"948.5\" y=\"-1471\" font-family=\"monospace\" font-size=\"10.00\" fill=\"#000000\">MkldnnConvolutionBackward0</text>\n</g>\n<!-- 140144524532496&#45;&gt;140144524532048 -->\n<g id=\"edge25\" class=\"edge\">\n<title>140144524532496&#45;&gt;140144524532048</title>\n<path fill=\"none\" stroke=\"#000000\" d=\"M960.8714,-1463.7796C972.7707,-1454.4301 990.9752,-1440.1266 1005.0345,-1429.08\"/>\n<polygon fill=\"#000000\" stroke=\"#000000\" points=\"1007.4585,-1431.6266 1013.1593,-1422.6962 1003.1337,-1426.1224 1007.4585,-1431.6266\"/>\n</g>\n<!-- 140144524533648 -->\n<g id=\"node28\" class=\"node\">\n<title>140144524533648</title>\n<polygon fill=\"#d3d3d3\" stroke=\"#000000\" points=\"881,-1543.5 786,-1543.5 786,-1524.5 881,-1524.5 881,-1543.5\"/>\n<text text-anchor=\"middle\" x=\"833.5\" y=\"-1531.5\" font-family=\"monospace\" font-size=\"10.00\" fill=\"#000000\">ReluBackward0</text>\n</g>\n<!-- 140144524533648&#45;&gt;140144524531280 -->\n<g id=\"edge164\" class=\"edge\">\n<title>140144524533648&#45;&gt;140144524531280</title>\n<path fill=\"none\" stroke=\"#000000\" d=\"M833.5,-1524.2758C833.5,-1503.7289 833.5,-1454.3837 833.5,-1413 833.5,-1413 833.5,-1413 833.5,-1286.5 833.5,-1240.3767 879.9114,-1204.5302 911.0218,-1185.6827\"/>\n<polygon fill=\"#000000\" stroke=\"#000000\" points=\"912.8534,-1188.6663 919.7281,-1180.6046 909.3266,-1182.6196 912.8534,-1188.6663\"/>\n</g>\n<!-- 140144524533648&#45;&gt;140144524532496 -->\n<g id=\"edge26\" class=\"edge\">\n<title>140144524533648&#45;&gt;140144524532496</title>\n<path fill=\"none\" stroke=\"#000000\" d=\"M851.7221,-1524.4136C870.4798,-1514.5454 899.9198,-1499.0574 921.4069,-1487.7533\"/>\n<polygon fill=\"#000000\" stroke=\"#000000\" points=\"923.1427,-1490.795 930.3632,-1483.0416 919.8836,-1484.6 923.1427,-1490.795\"/>\n</g>\n<!-- 140144524532688 -->\n<g id=\"node29\" class=\"node\">\n<title>140144524532688</title>\n<polygon fill=\"#d3d3d3\" stroke=\"#000000\" points=\"869,-1609.5 780,-1609.5 780,-1590.5 869,-1590.5 869,-1609.5\"/>\n<text text-anchor=\"middle\" x=\"824.5\" y=\"-1597.5\" font-family=\"monospace\" font-size=\"10.00\" fill=\"#000000\">AddBackward0</text>\n</g>\n<!-- 140144524532688&#45;&gt;140144524533648 -->\n<g id=\"edge27\" class=\"edge\">\n<title>140144524532688&#45;&gt;140144524533648</title>\n<path fill=\"none\" stroke=\"#000000\" d=\"M825.828,-1590.2615C827.1308,-1580.7077 829.1552,-1565.8615 830.7975,-1553.8183\"/>\n<polygon fill=\"#000000\" stroke=\"#000000\" points=\"834.2833,-1554.1597 832.1666,-1543.7785 827.3474,-1553.2139 834.2833,-1554.1597\"/>\n</g>\n<!-- 140144524531536 -->\n<g id=\"node30\" class=\"node\">\n<title>140144524531536</title>\n<polygon fill=\"#d3d3d3\" stroke=\"#000000\" points=\"1174,-1670 1013,-1670 1013,-1651 1174,-1651 1174,-1670\"/>\n<text text-anchor=\"middle\" x=\"1093.5\" y=\"-1658\" font-family=\"monospace\" font-size=\"10.00\" fill=\"#000000\">NativeBatchNormBackward0</text>\n</g>\n<!-- 140144524531536&#45;&gt;140144524532688 -->\n<g id=\"edge28\" class=\"edge\">\n<title>140144524531536&#45;&gt;140144524532688</title>\n<path fill=\"none\" stroke=\"#000000\" d=\"M1043.5217,-1650.9769C999.6015,-1642.3693 934.0576,-1628.9431 877.5,-1615 873.9486,-1614.1245 870.2752,-1613.1757 866.5956,-1612.1951\"/>\n<polygon fill=\"#000000\" stroke=\"#000000\" points=\"867.4893,-1608.8111 856.9205,-1609.5537 865.6456,-1615.5639 867.4893,-1608.8111\"/>\n</g>\n<!-- 140144524532816 -->\n<g id=\"node31\" class=\"node\">\n<title>140144524532816</title>\n<polygon fill=\"#d3d3d3\" stroke=\"#000000\" points=\"1103,-1725 930,-1725 930,-1706 1103,-1706 1103,-1725\"/>\n<text text-anchor=\"middle\" x=\"1016.5\" y=\"-1713\" font-family=\"monospace\" font-size=\"10.00\" fill=\"#000000\">MkldnnConvolutionBackward0</text>\n</g>\n<!-- 140144524532816&#45;&gt;140144524531536 -->\n<g id=\"edge29\" class=\"edge\">\n<title>140144524532816&#45;&gt;140144524531536</title>\n<path fill=\"none\" stroke=\"#000000\" d=\"M1029.9124,-1705.9197C1041.435,-1697.6893 1058.268,-1685.6657 1071.7206,-1676.0567\"/>\n<polygon fill=\"#000000\" stroke=\"#000000\" points=\"1073.88,-1678.8155 1079.983,-1670.155 1069.8113,-1673.1194 1073.88,-1678.8155\"/>\n</g>\n<!-- 140144524648720 -->\n<g id=\"node32\" class=\"node\">\n<title>140144524648720</title>\n<polygon fill=\"#d3d3d3\" stroke=\"#000000\" points=\"969,-1785.5 874,-1785.5 874,-1766.5 969,-1766.5 969,-1785.5\"/>\n<text text-anchor=\"middle\" x=\"921.5\" y=\"-1773.5\" font-family=\"monospace\" font-size=\"10.00\" fill=\"#000000\">ReluBackward0</text>\n</g>\n<!-- 140144524648720&#45;&gt;140144524532816 -->\n<g id=\"edge30\" class=\"edge\">\n<title>140144524648720&#45;&gt;140144524532816</title>\n<path fill=\"none\" stroke=\"#000000\" d=\"M936.7634,-1766.2796C951.8599,-1756.6655 975.182,-1741.813 992.7106,-1730.6501\"/>\n<polygon fill=\"#000000\" stroke=\"#000000\" points=\"994.7198,-1733.5201 1001.2745,-1725.1962 990.9596,-1727.6157 994.7198,-1733.5201\"/>\n</g>\n<!-- 140144524648784 -->\n<g id=\"node33\" class=\"node\">\n<title>140144524648784</title>\n<polygon fill=\"#d3d3d3\" stroke=\"#000000\" points=\"1002,-1851.5 841,-1851.5 841,-1832.5 1002,-1832.5 1002,-1851.5\"/>\n<text text-anchor=\"middle\" x=\"921.5\" y=\"-1839.5\" font-family=\"monospace\" font-size=\"10.00\" fill=\"#000000\">NativeBatchNormBackward0</text>\n</g>\n<!-- 140144524648784&#45;&gt;140144524648720 -->\n<g id=\"edge31\" class=\"edge\">\n<title>140144524648784&#45;&gt;140144524648720</title>\n<path fill=\"none\" stroke=\"#000000\" d=\"M921.5,-1832.2615C921.5,-1822.7077 921.5,-1807.8615 921.5,-1795.8183\"/>\n<polygon fill=\"#000000\" stroke=\"#000000\" points=\"925.0001,-1795.7784 921.5,-1785.7785 918.0001,-1795.7785 925.0001,-1795.7784\"/>\n</g>\n<!-- 140144524649104 -->\n<g id=\"node34\" class=\"node\">\n<title>140144524649104</title>\n<polygon fill=\"#d3d3d3\" stroke=\"#000000\" points=\"931,-1912 758,-1912 758,-1893 931,-1893 931,-1912\"/>\n<text text-anchor=\"middle\" x=\"844.5\" y=\"-1900\" font-family=\"monospace\" font-size=\"10.00\" fill=\"#000000\">MkldnnConvolutionBackward0</text>\n</g>\n<!-- 140144524649104&#45;&gt;140144524648784 -->\n<g id=\"edge32\" class=\"edge\">\n<title>140144524649104&#45;&gt;140144524648784</title>\n<path fill=\"none\" stroke=\"#000000\" d=\"M856.8714,-1892.7796C868.7707,-1883.4301 886.9752,-1869.1266 901.0345,-1858.08\"/>\n<polygon fill=\"#000000\" stroke=\"#000000\" points=\"903.4585,-1860.6266 909.1593,-1851.6962 899.1337,-1855.1224 903.4585,-1860.6266\"/>\n</g>\n<!-- 140144524649296 -->\n<g id=\"node35\" class=\"node\">\n<title>140144524649296</title>\n<polygon fill=\"#d3d3d3\" stroke=\"#000000\" points=\"797,-1972.5 702,-1972.5 702,-1953.5 797,-1953.5 797,-1972.5\"/>\n<text text-anchor=\"middle\" x=\"749.5\" y=\"-1960.5\" font-family=\"monospace\" font-size=\"10.00\" fill=\"#000000\">ReluBackward0</text>\n</g>\n<!-- 140144524649296&#45;&gt;140144524649104 -->\n<g id=\"edge33\" class=\"edge\">\n<title>140144524649296&#45;&gt;140144524649104</title>\n<path fill=\"none\" stroke=\"#000000\" d=\"M764.7634,-1953.2796C779.8599,-1943.6655 803.182,-1928.813 820.7106,-1917.6501\"/>\n<polygon fill=\"#000000\" stroke=\"#000000\" points=\"822.7198,-1920.5201 829.2745,-1912.1962 818.9596,-1914.6157 822.7198,-1920.5201\"/>\n</g>\n<!-- 140144524648528 -->\n<g id=\"node142\" class=\"node\">\n<title>140144524648528</title>\n<polygon fill=\"#d3d3d3\" stroke=\"#000000\" points=\"720,-1912 547,-1912 547,-1893 720,-1893 720,-1912\"/>\n<text text-anchor=\"middle\" x=\"633.5\" y=\"-1900\" font-family=\"monospace\" font-size=\"10.00\" fill=\"#000000\">MkldnnConvolutionBackward0</text>\n</g>\n<!-- 140144524649296&#45;&gt;140144524648528 -->\n<g id=\"edge145\" class=\"edge\">\n<title>140144524649296&#45;&gt;140144524648528</title>\n<path fill=\"none\" stroke=\"#000000\" d=\"M731.1195,-1953.4136C712.1987,-1943.5454 682.5026,-1928.0574 660.8287,-1916.7533\"/>\n<polygon fill=\"#000000\" stroke=\"#000000\" points=\"662.2796,-1913.5627 651.7946,-1912.0416 659.0425,-1919.7693 662.2796,-1913.5627\"/>\n</g>\n<!-- 140144524649360 -->\n<g id=\"node36\" class=\"node\">\n<title>140144524649360</title>\n<polygon fill=\"#d3d3d3\" stroke=\"#000000\" points=\"794,-2038.5 705,-2038.5 705,-2019.5 794,-2019.5 794,-2038.5\"/>\n<text text-anchor=\"middle\" x=\"749.5\" y=\"-2026.5\" font-family=\"monospace\" font-size=\"10.00\" fill=\"#000000\">AddBackward0</text>\n</g>\n<!-- 140144524649360&#45;&gt;140144524649296 -->\n<g id=\"edge34\" class=\"edge\">\n<title>140144524649360&#45;&gt;140144524649296</title>\n<path fill=\"none\" stroke=\"#000000\" d=\"M749.5,-2019.2615C749.5,-2009.7077 749.5,-1994.8615 749.5,-1982.8183\"/>\n<polygon fill=\"#000000\" stroke=\"#000000\" points=\"753.0001,-1982.7784 749.5,-1972.7785 746.0001,-1982.7785 753.0001,-1982.7784\"/>\n</g>\n<!-- 140144524649680 -->\n<g id=\"node37\" class=\"node\">\n<title>140144524649680</title>\n<polygon fill=\"#d3d3d3\" stroke=\"#000000\" points=\"1089,-2099 928,-2099 928,-2080 1089,-2080 1089,-2099\"/>\n<text text-anchor=\"middle\" x=\"1008.5\" y=\"-2087\" font-family=\"monospace\" font-size=\"10.00\" fill=\"#000000\">NativeBatchNormBackward0</text>\n</g>\n<!-- 140144524649680&#45;&gt;140144524649360 -->\n<g id=\"edge35\" class=\"edge\">\n<title>140144524649680&#45;&gt;140144524649360</title>\n<path fill=\"none\" stroke=\"#000000\" d=\"M961.683,-2079.9734C919.8104,-2071.2596 856.8424,-2057.679 802.5,-2044 798.9529,-2043.1071 795.2825,-2042.1462 791.605,-2041.1575\"/>\n<polygon fill=\"#000000\" stroke=\"#000000\" points=\"792.5029,-2037.7746 781.9331,-2038.5031 790.6502,-2044.525 792.5029,-2037.7746\"/>\n</g>\n<!-- 140144524649552 -->\n<g id=\"node38\" class=\"node\">\n<title>140144524649552</title>\n<polygon fill=\"#d3d3d3\" stroke=\"#000000\" points=\"1018,-2154 845,-2154 845,-2135 1018,-2135 1018,-2154\"/>\n<text text-anchor=\"middle\" x=\"931.5\" y=\"-2142\" font-family=\"monospace\" font-size=\"10.00\" fill=\"#000000\">MkldnnConvolutionBackward0</text>\n</g>\n<!-- 140144524649552&#45;&gt;140144524649680 -->\n<g id=\"edge36\" class=\"edge\">\n<title>140144524649552&#45;&gt;140144524649680</title>\n<path fill=\"none\" stroke=\"#000000\" d=\"M944.9124,-2134.9197C956.435,-2126.6893 973.268,-2114.6657 986.7206,-2105.0567\"/>\n<polygon fill=\"#000000\" stroke=\"#000000\" points=\"988.88,-2107.8155 994.983,-2099.155 984.8113,-2102.1194 988.88,-2107.8155\"/>\n</g>\n<!-- 140144524650064 -->\n<g id=\"node39\" class=\"node\">\n<title>140144524650064</title>\n<polygon fill=\"#d3d3d3\" stroke=\"#000000\" points=\"884,-2214.5 789,-2214.5 789,-2195.5 884,-2195.5 884,-2214.5\"/>\n<text text-anchor=\"middle\" x=\"836.5\" y=\"-2202.5\" font-family=\"monospace\" font-size=\"10.00\" fill=\"#000000\">ReluBackward0</text>\n</g>\n<!-- 140144524650064&#45;&gt;140144524649552 -->\n<g id=\"edge37\" class=\"edge\">\n<title>140144524650064&#45;&gt;140144524649552</title>\n<path fill=\"none\" stroke=\"#000000\" d=\"M851.7634,-2195.2796C866.8599,-2185.6655 890.182,-2170.813 907.7106,-2159.6501\"/>\n<polygon fill=\"#000000\" stroke=\"#000000\" points=\"909.7198,-2162.5201 916.2745,-2154.1962 905.9596,-2156.6157 909.7198,-2162.5201\"/>\n</g>\n<!-- 140144524650128 -->\n<g id=\"node40\" class=\"node\">\n<title>140144524650128</title>\n<polygon fill=\"#d3d3d3\" stroke=\"#000000\" points=\"917,-2280.5 756,-2280.5 756,-2261.5 917,-2261.5 917,-2280.5\"/>\n<text text-anchor=\"middle\" x=\"836.5\" y=\"-2268.5\" font-family=\"monospace\" font-size=\"10.00\" fill=\"#000000\">NativeBatchNormBackward0</text>\n</g>\n<!-- 140144524650128&#45;&gt;140144524650064 -->\n<g id=\"edge38\" class=\"edge\">\n<title>140144524650128&#45;&gt;140144524650064</title>\n<path fill=\"none\" stroke=\"#000000\" d=\"M836.5,-2261.2615C836.5,-2251.7077 836.5,-2236.8615 836.5,-2224.8183\"/>\n<polygon fill=\"#000000\" stroke=\"#000000\" points=\"840.0001,-2224.7784 836.5,-2214.7785 833.0001,-2224.7785 840.0001,-2224.7784\"/>\n</g>\n<!-- 140144524650448 -->\n<g id=\"node41\" class=\"node\">\n<title>140144524650448</title>\n<polygon fill=\"#d3d3d3\" stroke=\"#000000\" points=\"846,-2341 673,-2341 673,-2322 846,-2322 846,-2341\"/>\n<text text-anchor=\"middle\" x=\"759.5\" y=\"-2329\" font-family=\"monospace\" font-size=\"10.00\" fill=\"#000000\">MkldnnConvolutionBackward0</text>\n</g>\n<!-- 140144524650448&#45;&gt;140144524650128 -->\n<g id=\"edge39\" class=\"edge\">\n<title>140144524650448&#45;&gt;140144524650128</title>\n<path fill=\"none\" stroke=\"#000000\" d=\"M771.8714,-2321.7796C783.7707,-2312.4301 801.9752,-2298.1266 816.0345,-2287.08\"/>\n<polygon fill=\"#000000\" stroke=\"#000000\" points=\"818.4585,-2289.6266 824.1593,-2280.6962 814.1337,-2284.1224 818.4585,-2289.6266\"/>\n</g>\n<!-- 140144524649872 -->\n<g id=\"node42\" class=\"node\">\n<title>140144524649872</title>\n<polygon fill=\"#d3d3d3\" stroke=\"#000000\" points=\"692,-2401.5 597,-2401.5 597,-2382.5 692,-2382.5 692,-2401.5\"/>\n<text text-anchor=\"middle\" x=\"644.5\" y=\"-2389.5\" font-family=\"monospace\" font-size=\"10.00\" fill=\"#000000\">ReluBackward0</text>\n</g>\n<!-- 140144524649872&#45;&gt;140144524649360 -->\n<g id=\"edge130\" class=\"edge\">\n<title>140144524649872&#45;&gt;140144524649360</title>\n<path fill=\"none\" stroke=\"#000000\" d=\"M644.5,-2382.2758C644.5,-2361.7289 644.5,-2312.3837 644.5,-2271 644.5,-2271 644.5,-2271 644.5,-2144.5 644.5,-2098.3767 690.9114,-2062.5302 722.0218,-2043.6827\"/>\n<polygon fill=\"#000000\" stroke=\"#000000\" points=\"723.8534,-2046.6663 730.7281,-2038.6046 720.3266,-2040.6196 723.8534,-2046.6663\"/>\n</g>\n<!-- 140144524649872&#45;&gt;140144524650448 -->\n<g id=\"edge40\" class=\"edge\">\n<title>140144524649872&#45;&gt;140144524650448</title>\n<path fill=\"none\" stroke=\"#000000\" d=\"M662.7221,-2382.4136C681.4798,-2372.5454 710.9198,-2357.0574 732.4069,-2345.7533\"/>\n<polygon fill=\"#000000\" stroke=\"#000000\" points=\"734.1427,-2348.795 741.3632,-2341.0416 730.8836,-2342.6 734.1427,-2348.795\"/>\n</g>\n<!-- 140144524650768 -->\n<g id=\"node43\" class=\"node\">\n<title>140144524650768</title>\n<polygon fill=\"#d3d3d3\" stroke=\"#000000\" points=\"680,-2467.5 591,-2467.5 591,-2448.5 680,-2448.5 680,-2467.5\"/>\n<text text-anchor=\"middle\" x=\"635.5\" y=\"-2455.5\" font-family=\"monospace\" font-size=\"10.00\" fill=\"#000000\">AddBackward0</text>\n</g>\n<!-- 140144524650768&#45;&gt;140144524649872 -->\n<g id=\"edge41\" class=\"edge\">\n<title>140144524650768&#45;&gt;140144524649872</title>\n<path fill=\"none\" stroke=\"#000000\" d=\"M636.828,-2448.2615C638.1308,-2438.7077 640.1552,-2423.8615 641.7975,-2411.8183\"/>\n<polygon fill=\"#000000\" stroke=\"#000000\" points=\"645.2833,-2412.1597 643.1666,-2401.7785 638.3474,-2411.2139 645.2833,-2412.1597\"/>\n</g>\n<!-- 140144524650960 -->\n<g id=\"node44\" class=\"node\">\n<title>140144524650960</title>\n<polygon fill=\"#d3d3d3\" stroke=\"#000000\" points=\"985,-2528 824,-2528 824,-2509 985,-2509 985,-2528\"/>\n<text text-anchor=\"middle\" x=\"904.5\" y=\"-2516\" font-family=\"monospace\" font-size=\"10.00\" fill=\"#000000\">NativeBatchNormBackward0</text>\n</g>\n<!-- 140144524650960&#45;&gt;140144524650768 -->\n<g id=\"edge42\" class=\"edge\">\n<title>140144524650960&#45;&gt;140144524650768</title>\n<path fill=\"none\" stroke=\"#000000\" d=\"M854.5217,-2508.9769C810.6015,-2500.3693 745.0576,-2486.9431 688.5,-2473 684.9486,-2472.1245 681.2752,-2471.1757 677.5956,-2470.1951\"/>\n<polygon fill=\"#000000\" stroke=\"#000000\" points=\"678.4893,-2466.8111 667.9205,-2467.5537 676.6456,-2473.5639 678.4893,-2466.8111\"/>\n</g>\n<!-- 140144524650704 -->\n<g id=\"node45\" class=\"node\">\n<title>140144524650704</title>\n<polygon fill=\"#d3d3d3\" stroke=\"#000000\" points=\"914,-2583 741,-2583 741,-2564 914,-2564 914,-2583\"/>\n<text text-anchor=\"middle\" x=\"827.5\" y=\"-2571\" font-family=\"monospace\" font-size=\"10.00\" fill=\"#000000\">MkldnnConvolutionBackward0</text>\n</g>\n<!-- 140144524650704&#45;&gt;140144524650960 -->\n<g id=\"edge43\" class=\"edge\">\n<title>140144524650704&#45;&gt;140144524650960</title>\n<path fill=\"none\" stroke=\"#000000\" d=\"M840.9124,-2563.9197C852.435,-2555.6893 869.268,-2543.6657 882.7206,-2534.0567\"/>\n<polygon fill=\"#000000\" stroke=\"#000000\" points=\"884.88,-2536.8155 890.983,-2528.155 880.8113,-2531.1194 884.88,-2536.8155\"/>\n</g>\n<!-- 140144524651344 -->\n<g id=\"node46\" class=\"node\">\n<title>140144524651344</title>\n<polygon fill=\"#d3d3d3\" stroke=\"#000000\" points=\"780,-2643.5 685,-2643.5 685,-2624.5 780,-2624.5 780,-2643.5\"/>\n<text text-anchor=\"middle\" x=\"732.5\" y=\"-2631.5\" font-family=\"monospace\" font-size=\"10.00\" fill=\"#000000\">ReluBackward0</text>\n</g>\n<!-- 140144524651344&#45;&gt;140144524650704 -->\n<g id=\"edge44\" class=\"edge\">\n<title>140144524651344&#45;&gt;140144524650704</title>\n<path fill=\"none\" stroke=\"#000000\" d=\"M747.7634,-2624.2796C762.8599,-2614.6655 786.182,-2599.813 803.7106,-2588.6501\"/>\n<polygon fill=\"#000000\" stroke=\"#000000\" points=\"805.7198,-2591.5201 812.2745,-2583.1962 801.9596,-2585.6157 805.7198,-2591.5201\"/>\n</g>\n<!-- 140144524651408 -->\n<g id=\"node47\" class=\"node\">\n<title>140144524651408</title>\n<polygon fill=\"#d3d3d3\" stroke=\"#000000\" points=\"813,-2709.5 652,-2709.5 652,-2690.5 813,-2690.5 813,-2709.5\"/>\n<text text-anchor=\"middle\" x=\"732.5\" y=\"-2697.5\" font-family=\"monospace\" font-size=\"10.00\" fill=\"#000000\">NativeBatchNormBackward0</text>\n</g>\n<!-- 140144524651408&#45;&gt;140144524651344 -->\n<g id=\"edge45\" class=\"edge\">\n<title>140144524651408&#45;&gt;140144524651344</title>\n<path fill=\"none\" stroke=\"#000000\" d=\"M732.5,-2690.2615C732.5,-2680.7077 732.5,-2665.8615 732.5,-2653.8183\"/>\n<polygon fill=\"#000000\" stroke=\"#000000\" points=\"736.0001,-2653.7784 732.5,-2643.7785 729.0001,-2653.7785 736.0001,-2653.7784\"/>\n</g>\n<!-- 140144524651728 -->\n<g id=\"node48\" class=\"node\">\n<title>140144524651728</title>\n<polygon fill=\"#d3d3d3\" stroke=\"#000000\" points=\"742,-2770 569,-2770 569,-2751 742,-2751 742,-2770\"/>\n<text text-anchor=\"middle\" x=\"655.5\" y=\"-2758\" font-family=\"monospace\" font-size=\"10.00\" fill=\"#000000\">MkldnnConvolutionBackward0</text>\n</g>\n<!-- 140144524651728&#45;&gt;140144524651408 -->\n<g id=\"edge46\" class=\"edge\">\n<title>140144524651728&#45;&gt;140144524651408</title>\n<path fill=\"none\" stroke=\"#000000\" d=\"M667.8714,-2750.7796C679.7707,-2741.4301 697.9752,-2727.1266 712.0345,-2716.08\"/>\n<polygon fill=\"#000000\" stroke=\"#000000\" points=\"714.4585,-2718.6266 720.1593,-2709.6962 710.1337,-2713.1224 714.4585,-2718.6266\"/>\n</g>\n<!-- 140144524651920 -->\n<g id=\"node49\" class=\"node\">\n<title>140144524651920</title>\n<polygon fill=\"#d3d3d3\" stroke=\"#000000\" points=\"608,-2830.5 513,-2830.5 513,-2811.5 608,-2811.5 608,-2830.5\"/>\n<text text-anchor=\"middle\" x=\"560.5\" y=\"-2818.5\" font-family=\"monospace\" font-size=\"10.00\" fill=\"#000000\">ReluBackward0</text>\n</g>\n<!-- 140144524651920&#45;&gt;140144524651728 -->\n<g id=\"edge47\" class=\"edge\">\n<title>140144524651920&#45;&gt;140144524651728</title>\n<path fill=\"none\" stroke=\"#000000\" d=\"M575.7634,-2811.2796C590.8599,-2801.6655 614.182,-2786.813 631.7106,-2775.6501\"/>\n<polygon fill=\"#000000\" stroke=\"#000000\" points=\"633.7198,-2778.5201 640.2745,-2770.1962 629.9596,-2772.6157 633.7198,-2778.5201\"/>\n</g>\n<!-- 140144524650896 -->\n<g id=\"node110\" class=\"node\">\n<title>140144524650896</title>\n<polygon fill=\"#d3d3d3\" stroke=\"#000000\" points=\"531,-2770 358,-2770 358,-2751 531,-2751 531,-2770\"/>\n<text text-anchor=\"middle\" x=\"444.5\" y=\"-2758\" font-family=\"monospace\" font-size=\"10.00\" fill=\"#000000\">MkldnnConvolutionBackward0</text>\n</g>\n<!-- 140144524651920&#45;&gt;140144524650896 -->\n<g id=\"edge111\" class=\"edge\">\n<title>140144524651920&#45;&gt;140144524650896</title>\n<path fill=\"none\" stroke=\"#000000\" d=\"M542.1195,-2811.4136C523.1987,-2801.5454 493.5026,-2786.0574 471.8287,-2774.7533\"/>\n<polygon fill=\"#000000\" stroke=\"#000000\" points=\"473.2796,-2771.5627 462.7946,-2770.0416 470.0425,-2777.7693 473.2796,-2771.5627\"/>\n</g>\n<!-- 140144524651984 -->\n<g id=\"node50\" class=\"node\">\n<title>140144524651984</title>\n<polygon fill=\"#d3d3d3\" stroke=\"#000000\" points=\"605,-2896.5 516,-2896.5 516,-2877.5 605,-2877.5 605,-2896.5\"/>\n<text text-anchor=\"middle\" x=\"560.5\" y=\"-2884.5\" font-family=\"monospace\" font-size=\"10.00\" fill=\"#000000\">AddBackward0</text>\n</g>\n<!-- 140144524651984&#45;&gt;140144524651920 -->\n<g id=\"edge48\" class=\"edge\">\n<title>140144524651984&#45;&gt;140144524651920</title>\n<path fill=\"none\" stroke=\"#000000\" d=\"M560.5,-2877.2615C560.5,-2867.7077 560.5,-2852.8615 560.5,-2840.8183\"/>\n<polygon fill=\"#000000\" stroke=\"#000000\" points=\"564.0001,-2840.7784 560.5,-2830.7785 557.0001,-2840.7785 564.0001,-2840.7784\"/>\n</g>\n<!-- 140144524652304 -->\n<g id=\"node51\" class=\"node\">\n<title>140144524652304</title>\n<polygon fill=\"#d3d3d3\" stroke=\"#000000\" points=\"900,-2957 739,-2957 739,-2938 900,-2938 900,-2957\"/>\n<text text-anchor=\"middle\" x=\"819.5\" y=\"-2945\" font-family=\"monospace\" font-size=\"10.00\" fill=\"#000000\">NativeBatchNormBackward0</text>\n</g>\n<!-- 140144524652304&#45;&gt;140144524651984 -->\n<g id=\"edge49\" class=\"edge\">\n<title>140144524652304&#45;&gt;140144524651984</title>\n<path fill=\"none\" stroke=\"#000000\" d=\"M772.683,-2937.9734C730.8104,-2929.2596 667.8424,-2915.679 613.5,-2902 609.9529,-2901.1071 606.2825,-2900.1462 602.605,-2899.1575\"/>\n<polygon fill=\"#000000\" stroke=\"#000000\" points=\"603.5029,-2895.7746 592.9331,-2896.5031 601.6502,-2902.525 603.5029,-2895.7746\"/>\n</g>\n<!-- 140144524652176 -->\n<g id=\"node52\" class=\"node\">\n<title>140144524652176</title>\n<polygon fill=\"#d3d3d3\" stroke=\"#000000\" points=\"829,-3012 656,-3012 656,-2993 829,-2993 829,-3012\"/>\n<text text-anchor=\"middle\" x=\"742.5\" y=\"-3000\" font-family=\"monospace\" font-size=\"10.00\" fill=\"#000000\">MkldnnConvolutionBackward0</text>\n</g>\n<!-- 140144524652176&#45;&gt;140144524652304 -->\n<g id=\"edge50\" class=\"edge\">\n<title>140144524652176&#45;&gt;140144524652304</title>\n<path fill=\"none\" stroke=\"#000000\" d=\"M755.9124,-2992.9197C767.435,-2984.6893 784.268,-2972.6657 797.7206,-2963.0567\"/>\n<polygon fill=\"#000000\" stroke=\"#000000\" points=\"799.88,-2965.8155 805.983,-2957.155 795.8113,-2960.1194 799.88,-2965.8155\"/>\n</g>\n<!-- 140144524701904 -->\n<g id=\"node53\" class=\"node\">\n<title>140144524701904</title>\n<polygon fill=\"#d3d3d3\" stroke=\"#000000\" points=\"695,-3072.5 600,-3072.5 600,-3053.5 695,-3053.5 695,-3072.5\"/>\n<text text-anchor=\"middle\" x=\"647.5\" y=\"-3060.5\" font-family=\"monospace\" font-size=\"10.00\" fill=\"#000000\">ReluBackward0</text>\n</g>\n<!-- 140144524701904&#45;&gt;140144524652176 -->\n<g id=\"edge51\" class=\"edge\">\n<title>140144524701904&#45;&gt;140144524652176</title>\n<path fill=\"none\" stroke=\"#000000\" d=\"M662.7634,-3053.2796C677.8599,-3043.6655 701.182,-3028.813 718.7106,-3017.6501\"/>\n<polygon fill=\"#000000\" stroke=\"#000000\" points=\"720.7198,-3020.5201 727.2745,-3012.1962 716.9596,-3014.6157 720.7198,-3020.5201\"/>\n</g>\n<!-- 140144524701968 -->\n<g id=\"node54\" class=\"node\">\n<title>140144524701968</title>\n<polygon fill=\"#d3d3d3\" stroke=\"#000000\" points=\"728,-3138.5 567,-3138.5 567,-3119.5 728,-3119.5 728,-3138.5\"/>\n<text text-anchor=\"middle\" x=\"647.5\" y=\"-3126.5\" font-family=\"monospace\" font-size=\"10.00\" fill=\"#000000\">NativeBatchNormBackward0</text>\n</g>\n<!-- 140144524701968&#45;&gt;140144524701904 -->\n<g id=\"edge52\" class=\"edge\">\n<title>140144524701968&#45;&gt;140144524701904</title>\n<path fill=\"none\" stroke=\"#000000\" d=\"M647.5,-3119.2615C647.5,-3109.7077 647.5,-3094.8615 647.5,-3082.8183\"/>\n<polygon fill=\"#000000\" stroke=\"#000000\" points=\"651.0001,-3082.7784 647.5,-3072.7785 644.0001,-3082.7785 651.0001,-3082.7784\"/>\n</g>\n<!-- 140144524702288 -->\n<g id=\"node55\" class=\"node\">\n<title>140144524702288</title>\n<polygon fill=\"#d3d3d3\" stroke=\"#000000\" points=\"657,-3199 484,-3199 484,-3180 657,-3180 657,-3199\"/>\n<text text-anchor=\"middle\" x=\"570.5\" y=\"-3187\" font-family=\"monospace\" font-size=\"10.00\" fill=\"#000000\">MkldnnConvolutionBackward0</text>\n</g>\n<!-- 140144524702288&#45;&gt;140144524701968 -->\n<g id=\"edge53\" class=\"edge\">\n<title>140144524702288&#45;&gt;140144524701968</title>\n<path fill=\"none\" stroke=\"#000000\" d=\"M582.8714,-3179.7796C594.7707,-3170.4301 612.9752,-3156.1266 627.0345,-3145.08\"/>\n<polygon fill=\"#000000\" stroke=\"#000000\" points=\"629.4585,-3147.6266 635.1593,-3138.6962 625.1337,-3142.1224 629.4585,-3147.6266\"/>\n</g>\n<!-- 140144524652496 -->\n<g id=\"node56\" class=\"node\">\n<title>140144524652496</title>\n<polygon fill=\"#d3d3d3\" stroke=\"#000000\" points=\"503,-3259.5 408,-3259.5 408,-3240.5 503,-3240.5 503,-3259.5\"/>\n<text text-anchor=\"middle\" x=\"455.5\" y=\"-3247.5\" font-family=\"monospace\" font-size=\"10.00\" fill=\"#000000\">ReluBackward0</text>\n</g>\n<!-- 140144524652496&#45;&gt;140144524651984 -->\n<g id=\"edge96\" class=\"edge\">\n<title>140144524652496&#45;&gt;140144524651984</title>\n<path fill=\"none\" stroke=\"#000000\" d=\"M455.5,-3240.2758C455.5,-3219.7289 455.5,-3170.3837 455.5,-3129 455.5,-3129 455.5,-3129 455.5,-3002.5 455.5,-2956.3767 501.9114,-2920.5302 533.0218,-2901.6827\"/>\n<polygon fill=\"#000000\" stroke=\"#000000\" points=\"534.8534,-2904.6663 541.7281,-2896.6046 531.3266,-2898.6196 534.8534,-2904.6663\"/>\n</g>\n<!-- 140144524652496&#45;&gt;140144524702288 -->\n<g id=\"edge54\" class=\"edge\">\n<title>140144524652496&#45;&gt;140144524702288</title>\n<path fill=\"none\" stroke=\"#000000\" d=\"M473.7221,-3240.4136C492.4798,-3230.5454 521.9198,-3215.0574 543.4069,-3203.7533\"/>\n<polygon fill=\"#000000\" stroke=\"#000000\" points=\"545.1427,-3206.795 552.3632,-3199.0416 541.8836,-3200.6 545.1427,-3206.795\"/>\n</g>\n<!-- 140144524702608 -->\n<g id=\"node57\" class=\"node\">\n<title>140144524702608</title>\n<polygon fill=\"#d3d3d3\" stroke=\"#000000\" points=\"491,-3325.5 402,-3325.5 402,-3306.5 491,-3306.5 491,-3325.5\"/>\n<text text-anchor=\"middle\" x=\"446.5\" y=\"-3313.5\" font-family=\"monospace\" font-size=\"10.00\" fill=\"#000000\">AddBackward0</text>\n</g>\n<!-- 140144524702608&#45;&gt;140144524652496 -->\n<g id=\"edge55\" class=\"edge\">\n<title>140144524702608&#45;&gt;140144524652496</title>\n<path fill=\"none\" stroke=\"#000000\" d=\"M447.828,-3306.2615C449.1308,-3296.7077 451.1552,-3281.8615 452.7975,-3269.8183\"/>\n<polygon fill=\"#000000\" stroke=\"#000000\" points=\"456.2833,-3270.1597 454.1666,-3259.7785 449.3474,-3269.2139 456.2833,-3270.1597\"/>\n</g>\n<!-- 140144524702800 -->\n<g id=\"node58\" class=\"node\">\n<title>140144524702800</title>\n<polygon fill=\"#d3d3d3\" stroke=\"#000000\" points=\"800,-3386 639,-3386 639,-3367 800,-3367 800,-3386\"/>\n<text text-anchor=\"middle\" x=\"719.5\" y=\"-3374\" font-family=\"monospace\" font-size=\"10.00\" fill=\"#000000\">NativeBatchNormBackward0</text>\n</g>\n<!-- 140144524702800&#45;&gt;140144524702608 -->\n<g id=\"edge56\" class=\"edge\">\n<title>140144524702800&#45;&gt;140144524702608</title>\n<path fill=\"none\" stroke=\"#000000\" d=\"M668.1449,-3366.9624C623.4087,-3358.3962 556.8973,-3345.0384 499.5,-3331 495.947,-3330.131 492.2725,-3329.1868 488.5921,-3328.2093\"/>\n<polygon fill=\"#000000\" stroke=\"#000000\" points=\"489.4843,-3324.8248 478.9158,-3325.5727 487.6439,-3331.5786 489.4843,-3324.8248\"/>\n</g>\n<!-- 140144524702544 -->\n<g id=\"node59\" class=\"node\">\n<title>140144524702544</title>\n<polygon fill=\"#d3d3d3\" stroke=\"#000000\" points=\"729,-3441 556,-3441 556,-3422 729,-3422 729,-3441\"/>\n<text text-anchor=\"middle\" x=\"642.5\" y=\"-3429\" font-family=\"monospace\" font-size=\"10.00\" fill=\"#000000\">MkldnnConvolutionBackward0</text>\n</g>\n<!-- 140144524702544&#45;&gt;140144524702800 -->\n<g id=\"edge57\" class=\"edge\">\n<title>140144524702544&#45;&gt;140144524702800</title>\n<path fill=\"none\" stroke=\"#000000\" d=\"M655.9124,-3421.9197C667.435,-3413.6893 684.268,-3401.6657 697.7206,-3392.0567\"/>\n<polygon fill=\"#000000\" stroke=\"#000000\" points=\"699.88,-3394.8155 705.983,-3386.155 695.8113,-3389.1194 699.88,-3394.8155\"/>\n</g>\n<!-- 140144524703184 -->\n<g id=\"node60\" class=\"node\">\n<title>140144524703184</title>\n<polygon fill=\"#d3d3d3\" stroke=\"#000000\" points=\"595,-3501.5 500,-3501.5 500,-3482.5 595,-3482.5 595,-3501.5\"/>\n<text text-anchor=\"middle\" x=\"547.5\" y=\"-3489.5\" font-family=\"monospace\" font-size=\"10.00\" fill=\"#000000\">ReluBackward0</text>\n</g>\n<!-- 140144524703184&#45;&gt;140144524702544 -->\n<g id=\"edge58\" class=\"edge\">\n<title>140144524703184&#45;&gt;140144524702544</title>\n<path fill=\"none\" stroke=\"#000000\" d=\"M562.7634,-3482.2796C577.8599,-3472.6655 601.182,-3457.813 618.7106,-3446.6501\"/>\n<polygon fill=\"#000000\" stroke=\"#000000\" points=\"620.7198,-3449.5201 627.2745,-3441.1962 616.9596,-3443.6157 620.7198,-3449.5201\"/>\n</g>\n<!-- 140144524703248 -->\n<g id=\"node61\" class=\"node\">\n<title>140144524703248</title>\n<polygon fill=\"#d3d3d3\" stroke=\"#000000\" points=\"628,-3567.5 467,-3567.5 467,-3548.5 628,-3548.5 628,-3567.5\"/>\n<text text-anchor=\"middle\" x=\"547.5\" y=\"-3555.5\" font-family=\"monospace\" font-size=\"10.00\" fill=\"#000000\">NativeBatchNormBackward0</text>\n</g>\n<!-- 140144524703248&#45;&gt;140144524703184 -->\n<g id=\"edge59\" class=\"edge\">\n<title>140144524703248&#45;&gt;140144524703184</title>\n<path fill=\"none\" stroke=\"#000000\" d=\"M547.5,-3548.2615C547.5,-3538.7077 547.5,-3523.8615 547.5,-3511.8183\"/>\n<polygon fill=\"#000000\" stroke=\"#000000\" points=\"551.0001,-3511.7784 547.5,-3501.7785 544.0001,-3511.7785 551.0001,-3511.7784\"/>\n</g>\n<!-- 140144524703568 -->\n<g id=\"node62\" class=\"node\">\n<title>140144524703568</title>\n<polygon fill=\"#d3d3d3\" stroke=\"#000000\" points=\"557,-3628 384,-3628 384,-3609 557,-3609 557,-3628\"/>\n<text text-anchor=\"middle\" x=\"470.5\" y=\"-3616\" font-family=\"monospace\" font-size=\"10.00\" fill=\"#000000\">MkldnnConvolutionBackward0</text>\n</g>\n<!-- 140144524703568&#45;&gt;140144524703248 -->\n<g id=\"edge60\" class=\"edge\">\n<title>140144524703568&#45;&gt;140144524703248</title>\n<path fill=\"none\" stroke=\"#000000\" d=\"M482.8714,-3608.7796C494.7707,-3599.4301 512.9752,-3585.1266 527.0345,-3574.08\"/>\n<polygon fill=\"#000000\" stroke=\"#000000\" points=\"529.4585,-3576.6266 535.1593,-3567.6962 525.1337,-3571.1224 529.4585,-3576.6266\"/>\n</g>\n<!-- 140144524702992 -->\n<g id=\"node63\" class=\"node\">\n<title>140144524702992</title>\n<polygon fill=\"#d3d3d3\" stroke=\"#000000\" points=\"423,-3688.5 232,-3688.5 232,-3669.5 423,-3669.5 423,-3688.5\"/>\n<text text-anchor=\"middle\" x=\"327.5\" y=\"-3676.5\" font-family=\"monospace\" font-size=\"10.00\" fill=\"#000000\">MaxPool2DWithIndicesBackward0</text>\n</g>\n<!-- 140144524702992&#45;&gt;140144524702608 -->\n<g id=\"edge83\" class=\"edge\">\n<title>140144524702992&#45;&gt;140144524702608</title>\n<path fill=\"none\" stroke=\"#000000\" d=\"M329.3881,-3669.3198C333.2095,-3648.8561 341.5,-3599.6598 341.5,-3558 341.5,-3558 341.5,-3558 341.5,-3431.5 341.5,-3385.3767 387.9114,-3349.5302 419.0218,-3330.6827\"/>\n<polygon fill=\"#000000\" stroke=\"#000000\" points=\"420.8534,-3333.6663 427.7281,-3325.6046 417.3266,-3327.6196 420.8534,-3333.6663\"/>\n</g>\n<!-- 140144524702992&#45;&gt;140144524703568 -->\n<g id=\"edge61\" class=\"edge\">\n<title>140144524702992&#45;&gt;140144524703568</title>\n<path fill=\"none\" stroke=\"#000000\" d=\"M350.1588,-3669.4136C374.0065,-3659.3242 411.7399,-3643.3601 438.5924,-3631.9994\"/>\n<polygon fill=\"#000000\" stroke=\"#000000\" points=\"440.1013,-3635.1614 447.9472,-3628.0416 437.3738,-3628.7146 440.1013,-3635.1614\"/>\n</g>\n<!-- 140144524703888 -->\n<g id=\"node64\" class=\"node\">\n<title>140144524703888</title>\n<polygon fill=\"#d3d3d3\" stroke=\"#000000\" points=\"375,-3754.5 280,-3754.5 280,-3735.5 375,-3735.5 375,-3754.5\"/>\n<text text-anchor=\"middle\" x=\"327.5\" y=\"-3742.5\" font-family=\"monospace\" font-size=\"10.00\" fill=\"#000000\">ReluBackward0</text>\n</g>\n<!-- 140144524703888&#45;&gt;140144524702992 -->\n<g id=\"edge62\" class=\"edge\">\n<title>140144524703888&#45;&gt;140144524702992</title>\n<path fill=\"none\" stroke=\"#000000\" d=\"M327.5,-3735.2615C327.5,-3725.7077 327.5,-3710.8615 327.5,-3698.8183\"/>\n<polygon fill=\"#000000\" stroke=\"#000000\" points=\"331.0001,-3698.7784 327.5,-3688.7785 324.0001,-3698.7785 331.0001,-3698.7784\"/>\n</g>\n<!-- 140144524704016 -->\n<g id=\"node65\" class=\"node\">\n<title>140144524704016</title>\n<polygon fill=\"#d3d3d3\" stroke=\"#000000\" points=\"408,-3815 247,-3815 247,-3796 408,-3796 408,-3815\"/>\n<text text-anchor=\"middle\" x=\"327.5\" y=\"-3803\" font-family=\"monospace\" font-size=\"10.00\" fill=\"#000000\">NativeBatchNormBackward0</text>\n</g>\n<!-- 140144524704016&#45;&gt;140144524703888 -->\n<g id=\"edge63\" class=\"edge\">\n<title>140144524704016&#45;&gt;140144524703888</title>\n<path fill=\"none\" stroke=\"#000000\" d=\"M327.5,-3795.7796C327.5,-3787.5376 327.5,-3775.4457 327.5,-3765.129\"/>\n<polygon fill=\"#000000\" stroke=\"#000000\" points=\"331.0001,-3764.8972 327.5,-3754.8972 324.0001,-3764.8973 331.0001,-3764.8972\"/>\n</g>\n<!-- 140144524704208 -->\n<g id=\"node66\" class=\"node\">\n<title>140144524704208</title>\n<polygon fill=\"#d3d3d3\" stroke=\"#000000\" points=\"259,-3870 86,-3870 86,-3851 259,-3851 259,-3870\"/>\n<text text-anchor=\"middle\" x=\"172.5\" y=\"-3858\" font-family=\"monospace\" font-size=\"10.00\" fill=\"#000000\">MkldnnConvolutionBackward0</text>\n</g>\n<!-- 140144524704208&#45;&gt;140144524704016 -->\n<g id=\"edge64\" class=\"edge\">\n<title>140144524704208&#45;&gt;140144524704016</title>\n<path fill=\"none\" stroke=\"#000000\" d=\"M199.4989,-3850.9197C224.8701,-3841.9171 263.0307,-3828.3762 291.0863,-3818.421\"/>\n<polygon fill=\"#000000\" stroke=\"#000000\" points=\"292.297,-3821.7053 300.5509,-3815.0626 289.9561,-3815.1083 292.297,-3821.7053\"/>\n</g>\n<!-- 140144524704400 -->\n<g id=\"node67\" class=\"node\">\n<title>140144524704400</title>\n<polygon fill=\"#d3d3d3\" stroke=\"#000000\" points=\"223,-3930.5 122,-3930.5 122,-3911.5 223,-3911.5 223,-3930.5\"/>\n<text text-anchor=\"middle\" x=\"172.5\" y=\"-3918.5\" font-family=\"monospace\" font-size=\"10.00\" fill=\"#000000\">AccumulateGrad</text>\n</g>\n<!-- 140144524704400&#45;&gt;140144524704208 -->\n<g id=\"edge65\" class=\"edge\">\n<title>140144524704400&#45;&gt;140144524704208</title>\n<path fill=\"none\" stroke=\"#000000\" d=\"M172.5,-3911.2796C172.5,-3903.0376 172.5,-3890.9457 172.5,-3880.629\"/>\n<polygon fill=\"#000000\" stroke=\"#000000\" points=\"176.0001,-3880.3972 172.5,-3870.3972 169.0001,-3880.3973 176.0001,-3880.3972\"/>\n</g>\n<!-- 140148828681616 -->\n<g id=\"node68\" class=\"node\">\n<title>140148828681616</title>\n<polygon fill=\"#add8e6\" stroke=\"#000000\" points=\"223,-4002 122,-4002 122,-3972 223,-3972 223,-4002\"/>\n<text text-anchor=\"middle\" x=\"172.5\" y=\"-3990\" font-family=\"monospace\" font-size=\"10.00\" fill=\"#000000\">conv1.weight</text>\n<text text-anchor=\"middle\" x=\"172.5\" y=\"-3979\" font-family=\"monospace\" font-size=\"10.00\" fill=\"#000000\"> (64, 3, 7, 7)</text>\n</g>\n<!-- 140148828681616&#45;&gt;140144524704400 -->\n<g id=\"edge66\" class=\"edge\">\n<title>140148828681616&#45;&gt;140144524704400</title>\n<path fill=\"none\" stroke=\"#000000\" d=\"M172.5,-3971.6924C172.5,-3962.5067 172.5,-3950.7245 172.5,-3940.8312\"/>\n<polygon fill=\"#000000\" stroke=\"#000000\" points=\"176.0001,-3940.703 172.5,-3930.7031 169.0001,-3940.7031 176.0001,-3940.703\"/>\n</g>\n<!-- 140144524704336 -->\n<g id=\"node69\" class=\"node\">\n<title>140144524704336</title>\n<polygon fill=\"#d3d3d3\" stroke=\"#000000\" points=\"378,-3870 277,-3870 277,-3851 378,-3851 378,-3870\"/>\n<text text-anchor=\"middle\" x=\"327.5\" y=\"-3858\" font-family=\"monospace\" font-size=\"10.00\" fill=\"#000000\">AccumulateGrad</text>\n</g>\n<!-- 140144524704336&#45;&gt;140144524704016 -->\n<g id=\"edge67\" class=\"edge\">\n<title>140144524704336&#45;&gt;140144524704016</title>\n<path fill=\"none\" stroke=\"#000000\" d=\"M327.5,-3850.9197C327.5,-3843.9083 327.5,-3834.1442 327.5,-3825.4652\"/>\n<polygon fill=\"#000000\" stroke=\"#000000\" points=\"331.0001,-3825.3408 327.5,-3815.3408 324.0001,-3825.3409 331.0001,-3825.3408\"/>\n</g>\n<!-- 140148828681520 -->\n<g id=\"node70\" class=\"node\">\n<title>140148828681520</title>\n<polygon fill=\"#add8e6\" stroke=\"#000000\" points=\"366,-3936 289,-3936 289,-3906 366,-3906 366,-3936\"/>\n<text text-anchor=\"middle\" x=\"327.5\" y=\"-3924\" font-family=\"monospace\" font-size=\"10.00\" fill=\"#000000\">bn1.weight</text>\n<text text-anchor=\"middle\" x=\"327.5\" y=\"-3913\" font-family=\"monospace\" font-size=\"10.00\" fill=\"#000000\"> (64)</text>\n</g>\n<!-- 140148828681520&#45;&gt;140144524704336 -->\n<g id=\"edge68\" class=\"edge\">\n<title>140148828681520&#45;&gt;140144524704336</title>\n<path fill=\"none\" stroke=\"#000000\" d=\"M327.5,-3905.7333C327.5,-3898.0322 327.5,-3888.5977 327.5,-3880.3414\"/>\n<polygon fill=\"#000000\" stroke=\"#000000\" points=\"331.0001,-3880.0864 327.5,-3870.0864 324.0001,-3880.0864 331.0001,-3880.0864\"/>\n</g>\n<!-- 140144524703824 -->\n<g id=\"node71\" class=\"node\">\n<title>140144524703824</title>\n<polygon fill=\"#d3d3d3\" stroke=\"#000000\" points=\"497,-3870 396,-3870 396,-3851 497,-3851 497,-3870\"/>\n<text text-anchor=\"middle\" x=\"446.5\" y=\"-3858\" font-family=\"monospace\" font-size=\"10.00\" fill=\"#000000\">AccumulateGrad</text>\n</g>\n<!-- 140144524703824&#45;&gt;140144524704016 -->\n<g id=\"edge69\" class=\"edge\">\n<title>140144524703824&#45;&gt;140144524704016</title>\n<path fill=\"none\" stroke=\"#000000\" d=\"M425.7718,-3850.9197C406.9465,-3842.219 378.9495,-3829.2792 357.6487,-3819.4343\"/>\n<polygon fill=\"#000000\" stroke=\"#000000\" points=\"358.9357,-3816.1734 348.39,-3815.155 355.9989,-3822.5276 358.9357,-3816.1734\"/>\n</g>\n<!-- 140148828682864 -->\n<g id=\"node72\" class=\"node\">\n<title>140148828682864</title>\n<polygon fill=\"#add8e6\" stroke=\"#000000\" points=\"479,-3936 414,-3936 414,-3906 479,-3906 479,-3936\"/>\n<text text-anchor=\"middle\" x=\"446.5\" y=\"-3924\" font-family=\"monospace\" font-size=\"10.00\" fill=\"#000000\">bn1.bias</text>\n<text text-anchor=\"middle\" x=\"446.5\" y=\"-3913\" font-family=\"monospace\" font-size=\"10.00\" fill=\"#000000\"> (64)</text>\n</g>\n<!-- 140148828682864&#45;&gt;140144524703824 -->\n<g id=\"edge70\" class=\"edge\">\n<title>140148828682864&#45;&gt;140144524703824</title>\n<path fill=\"none\" stroke=\"#000000\" d=\"M446.5,-3905.7333C446.5,-3898.0322 446.5,-3888.5977 446.5,-3880.3414\"/>\n<polygon fill=\"#000000\" stroke=\"#000000\" points=\"450.0001,-3880.0864 446.5,-3870.0864 443.0001,-3880.0864 450.0001,-3880.0864\"/>\n</g>\n<!-- 140144524703760 -->\n<g id=\"node73\" class=\"node\">\n<title>140144524703760</title>\n<polygon fill=\"#d3d3d3\" stroke=\"#000000\" points=\"542,-3688.5 441,-3688.5 441,-3669.5 542,-3669.5 542,-3688.5\"/>\n<text text-anchor=\"middle\" x=\"491.5\" y=\"-3676.5\" font-family=\"monospace\" font-size=\"10.00\" fill=\"#000000\">AccumulateGrad</text>\n</g>\n<!-- 140144524703760&#45;&gt;140144524703568 -->\n<g id=\"edge71\" class=\"edge\">\n<title>140144524703760&#45;&gt;140144524703568</title>\n<path fill=\"none\" stroke=\"#000000\" d=\"M488.126,-3669.2796C485.2043,-3660.8623 480.8887,-3648.4295 477.2592,-3637.973\"/>\n<polygon fill=\"#000000\" stroke=\"#000000\" points=\"480.5211,-3636.6966 473.9354,-3628.3972 473.9081,-3638.992 480.5211,-3636.6966\"/>\n</g>\n<!-- 140144544380880 -->\n<g id=\"node74\" class=\"node\">\n<title>140144544380880</title>\n<polygon fill=\"#add8e6\" stroke=\"#000000\" points=\"563,-3760 420,-3760 420,-3730 563,-3730 563,-3760\"/>\n<text text-anchor=\"middle\" x=\"491.5\" y=\"-3748\" font-family=\"monospace\" font-size=\"10.00\" fill=\"#000000\">layer1.0.conv1.weight</text>\n<text text-anchor=\"middle\" x=\"491.5\" y=\"-3737\" font-family=\"monospace\" font-size=\"10.00\" fill=\"#000000\"> (64, 64, 3, 3)</text>\n</g>\n<!-- 140144544380880&#45;&gt;140144524703760 -->\n<g id=\"edge72\" class=\"edge\">\n<title>140144544380880&#45;&gt;140144524703760</title>\n<path fill=\"none\" stroke=\"#000000\" d=\"M491.5,-3729.6924C491.5,-3720.5067 491.5,-3708.7245 491.5,-3698.8312\"/>\n<polygon fill=\"#000000\" stroke=\"#000000\" points=\"495.0001,-3698.703 491.5,-3688.7031 488.0001,-3698.7031 495.0001,-3698.703\"/>\n</g>\n<!-- 140144524703696 -->\n<g id=\"node75\" class=\"node\">\n<title>140144524703696</title>\n<polygon fill=\"#d3d3d3\" stroke=\"#000000\" points=\"676,-3628 575,-3628 575,-3609 676,-3609 676,-3628\"/>\n<text text-anchor=\"middle\" x=\"625.5\" y=\"-3616\" font-family=\"monospace\" font-size=\"10.00\" fill=\"#000000\">AccumulateGrad</text>\n</g>\n<!-- 140144524703696&#45;&gt;140144524703248 -->\n<g id=\"edge73\" class=\"edge\">\n<title>140144524703696&#45;&gt;140144524703248</title>\n<path fill=\"none\" stroke=\"#000000\" d=\"M612.968,-3608.7796C600.9141,-3599.4301 582.4732,-3585.1266 568.2313,-3574.08\"/>\n<polygon fill=\"#000000\" stroke=\"#000000\" points=\"570.0478,-3571.0596 560.0009,-3567.6962 565.7575,-3576.5908 570.0478,-3571.0596\"/>\n</g>\n<!-- 140144544379728 -->\n<g id=\"node76\" class=\"node\">\n<title>140144544379728</title>\n<polygon fill=\"#add8e6\" stroke=\"#000000\" points=\"691,-3694 560,-3694 560,-3664 691,-3664 691,-3694\"/>\n<text text-anchor=\"middle\" x=\"625.5\" y=\"-3682\" font-family=\"monospace\" font-size=\"10.00\" fill=\"#000000\">layer1.0.bn1.weight</text>\n<text text-anchor=\"middle\" x=\"625.5\" y=\"-3671\" font-family=\"monospace\" font-size=\"10.00\" fill=\"#000000\"> (64)</text>\n</g>\n<!-- 140144544379728&#45;&gt;140144524703696 -->\n<g id=\"edge74\" class=\"edge\">\n<title>140144544379728&#45;&gt;140144524703696</title>\n<path fill=\"none\" stroke=\"#000000\" d=\"M625.5,-3663.7333C625.5,-3656.0322 625.5,-3646.5977 625.5,-3638.3414\"/>\n<polygon fill=\"#000000\" stroke=\"#000000\" points=\"629.0001,-3638.0864 625.5,-3628.0864 622.0001,-3638.0864 629.0001,-3638.0864\"/>\n</g>\n<!-- 140144524703440 -->\n<g id=\"node77\" class=\"node\">\n<title>140144524703440</title>\n<polygon fill=\"#d3d3d3\" stroke=\"#000000\" points=\"807,-3628 706,-3628 706,-3609 807,-3609 807,-3628\"/>\n<text text-anchor=\"middle\" x=\"756.5\" y=\"-3616\" font-family=\"monospace\" font-size=\"10.00\" fill=\"#000000\">AccumulateGrad</text>\n</g>\n<!-- 140144524703440&#45;&gt;140144524703248 -->\n<g id=\"edge75\" class=\"edge\">\n<title>140144524703440&#45;&gt;140144524703248</title>\n<path fill=\"none\" stroke=\"#000000\" d=\"M723.3833,-3608.9136C687.3824,-3598.4923 629.73,-3581.8034 590.3142,-3570.3936\"/>\n<polygon fill=\"#000000\" stroke=\"#000000\" points=\"591.0406,-3566.9602 580.4617,-3567.5416 589.0942,-3573.6842 591.0406,-3566.9602\"/>\n</g>\n<!-- 140148828681232 -->\n<g id=\"node78\" class=\"node\">\n<title>140148828681232</title>\n<polygon fill=\"#add8e6\" stroke=\"#000000\" points=\"828,-3694 709,-3694 709,-3664 828,-3664 828,-3694\"/>\n<text text-anchor=\"middle\" x=\"768.5\" y=\"-3682\" font-family=\"monospace\" font-size=\"10.00\" fill=\"#000000\">layer1.0.bn1.bias</text>\n<text text-anchor=\"middle\" x=\"768.5\" y=\"-3671\" font-family=\"monospace\" font-size=\"10.00\" fill=\"#000000\"> (64)</text>\n</g>\n<!-- 140148828681232&#45;&gt;140144524703440 -->\n<g id=\"edge76\" class=\"edge\">\n<title>140148828681232&#45;&gt;140144524703440</title>\n<path fill=\"none\" stroke=\"#000000\" d=\"M765.4719,-3663.7333C763.927,-3655.9447 762.0305,-3646.3831 760.3797,-3638.0604\"/>\n<polygon fill=\"#000000\" stroke=\"#000000\" points=\"763.7802,-3637.2143 758.4014,-3628.0864 756.914,-3638.5763 763.7802,-3637.2143\"/>\n</g>\n<!-- 140144524703376 -->\n<g id=\"node79\" class=\"node\">\n<title>140144524703376</title>\n<polygon fill=\"#d3d3d3\" stroke=\"#000000\" points=\"714,-3501.5 613,-3501.5 613,-3482.5 714,-3482.5 714,-3501.5\"/>\n<text text-anchor=\"middle\" x=\"663.5\" y=\"-3489.5\" font-family=\"monospace\" font-size=\"10.00\" fill=\"#000000\">AccumulateGrad</text>\n</g>\n<!-- 140144524703376&#45;&gt;140144524702544 -->\n<g id=\"edge77\" class=\"edge\">\n<title>140144524703376&#45;&gt;140144524702544</title>\n<path fill=\"none\" stroke=\"#000000\" d=\"M660.126,-3482.2796C657.2043,-3473.8623 652.8887,-3461.4295 649.2592,-3450.973\"/>\n<polygon fill=\"#000000\" stroke=\"#000000\" points=\"652.5211,-3449.6966 645.9354,-3441.3972 645.9081,-3451.992 652.5211,-3449.6966\"/>\n</g>\n<!-- 140144532450288 -->\n<g id=\"node80\" class=\"node\">\n<title>140144532450288</title>\n<polygon fill=\"#add8e6\" stroke=\"#000000\" points=\"789,-3573 646,-3573 646,-3543 789,-3543 789,-3573\"/>\n<text text-anchor=\"middle\" x=\"717.5\" y=\"-3561\" font-family=\"monospace\" font-size=\"10.00\" fill=\"#000000\">layer1.0.conv2.weight</text>\n<text text-anchor=\"middle\" x=\"717.5\" y=\"-3550\" font-family=\"monospace\" font-size=\"10.00\" fill=\"#000000\"> (64, 64, 3, 3)</text>\n</g>\n<!-- 140144532450288&#45;&gt;140144524703376 -->\n<g id=\"edge78\" class=\"edge\">\n<title>140144532450288&#45;&gt;140144524703376</title>\n<path fill=\"none\" stroke=\"#000000\" d=\"M704.9756,-3542.6924C696.8944,-3532.8153 686.3568,-3519.9361 677.9256,-3509.6312\"/>\n<polygon fill=\"#000000\" stroke=\"#000000\" points=\"680.4801,-3507.2263 671.4389,-3501.7031 675.0624,-3511.659 680.4801,-3507.2263\"/>\n</g>\n<!-- 140144524703120 -->\n<g id=\"node81\" class=\"node\">\n<title>140144524703120</title>\n<polygon fill=\"#d3d3d3\" stroke=\"#000000\" points=\"848,-3441 747,-3441 747,-3422 848,-3422 848,-3441\"/>\n<text text-anchor=\"middle\" x=\"797.5\" y=\"-3429\" font-family=\"monospace\" font-size=\"10.00\" fill=\"#000000\">AccumulateGrad</text>\n</g>\n<!-- 140144524703120&#45;&gt;140144524702800 -->\n<g id=\"edge79\" class=\"edge\">\n<title>140144524703120&#45;&gt;140144524702800</title>\n<path fill=\"none\" stroke=\"#000000\" d=\"M783.9134,-3421.9197C772.2411,-3413.6893 755.1895,-3401.6657 741.5622,-3392.0567\"/>\n<polygon fill=\"#000000\" stroke=\"#000000\" points=\"743.3821,-3389.0574 733.1926,-3386.155 739.3482,-3394.7782 743.3821,-3389.0574\"/>\n</g>\n<!-- 140144532448656 -->\n<g id=\"node82\" class=\"node\">\n<title>140144532448656</title>\n<polygon fill=\"#add8e6\" stroke=\"#000000\" points=\"863,-3507 732,-3507 732,-3477 863,-3477 863,-3507\"/>\n<text text-anchor=\"middle\" x=\"797.5\" y=\"-3495\" font-family=\"monospace\" font-size=\"10.00\" fill=\"#000000\">layer1.0.bn2.weight</text>\n<text text-anchor=\"middle\" x=\"797.5\" y=\"-3484\" font-family=\"monospace\" font-size=\"10.00\" fill=\"#000000\"> (64)</text>\n</g>\n<!-- 140144532448656&#45;&gt;140144524703120 -->\n<g id=\"edge80\" class=\"edge\">\n<title>140144532448656&#45;&gt;140144524703120</title>\n<path fill=\"none\" stroke=\"#000000\" d=\"M797.5,-3476.7333C797.5,-3469.0322 797.5,-3459.5977 797.5,-3451.3414\"/>\n<polygon fill=\"#000000\" stroke=\"#000000\" points=\"801.0001,-3451.0864 797.5,-3441.0864 794.0001,-3451.0864 801.0001,-3451.0864\"/>\n</g>\n<!-- 140144524703056 -->\n<g id=\"node83\" class=\"node\">\n<title>140144524703056</title>\n<polygon fill=\"#d3d3d3\" stroke=\"#000000\" points=\"979,-3441 878,-3441 878,-3422 979,-3422 979,-3441\"/>\n<text text-anchor=\"middle\" x=\"928.5\" y=\"-3429\" font-family=\"monospace\" font-size=\"10.00\" fill=\"#000000\">AccumulateGrad</text>\n</g>\n<!-- 140144524703056&#45;&gt;140144524702800 -->\n<g id=\"edge81\" class=\"edge\">\n<title>140144524703056&#45;&gt;140144524702800</title>\n<path fill=\"none\" stroke=\"#000000\" d=\"M892.095,-3421.9197C856.9885,-3412.6812 803.7213,-3398.6635 765.6549,-3388.646\"/>\n<polygon fill=\"#000000\" stroke=\"#000000\" points=\"766.3994,-3385.2228 755.8379,-3386.0626 764.6179,-3391.9924 766.3994,-3385.2228\"/>\n</g>\n<!-- 140144532450384 -->\n<g id=\"node84\" class=\"node\">\n<title>140144532450384</title>\n<polygon fill=\"#add8e6\" stroke=\"#000000\" points=\"1000,-3507 881,-3507 881,-3477 1000,-3477 1000,-3507\"/>\n<text text-anchor=\"middle\" x=\"940.5\" y=\"-3495\" font-family=\"monospace\" font-size=\"10.00\" fill=\"#000000\">layer1.0.bn2.bias</text>\n<text text-anchor=\"middle\" x=\"940.5\" y=\"-3484\" font-family=\"monospace\" font-size=\"10.00\" fill=\"#000000\"> (64)</text>\n</g>\n<!-- 140144532450384&#45;&gt;140144524703056 -->\n<g id=\"edge82\" class=\"edge\">\n<title>140144532450384&#45;&gt;140144524703056</title>\n<path fill=\"none\" stroke=\"#000000\" d=\"M937.4719,-3476.7333C935.927,-3468.9447 934.0305,-3459.3831 932.3797,-3451.0604\"/>\n<polygon fill=\"#000000\" stroke=\"#000000\" points=\"935.7802,-3450.2143 930.4014,-3441.0864 928.914,-3451.5763 935.7802,-3450.2143\"/>\n</g>\n<!-- 140144524702480 -->\n<g id=\"node85\" class=\"node\">\n<title>140144524702480</title>\n<polygon fill=\"#d3d3d3\" stroke=\"#000000\" points=\"626,-3259.5 525,-3259.5 525,-3240.5 626,-3240.5 626,-3259.5\"/>\n<text text-anchor=\"middle\" x=\"575.5\" y=\"-3247.5\" font-family=\"monospace\" font-size=\"10.00\" fill=\"#000000\">AccumulateGrad</text>\n</g>\n<!-- 140144524702480&#45;&gt;140144524702288 -->\n<g id=\"edge84\" class=\"edge\">\n<title>140144524702480&#45;&gt;140144524702288</title>\n<path fill=\"none\" stroke=\"#000000\" d=\"M574.6967,-3240.2796C574.0155,-3232.0376 573.0162,-3219.9457 572.1636,-3209.629\"/>\n<polygon fill=\"#000000\" stroke=\"#000000\" points=\"575.6298,-3209.075 571.318,-3199.3972 568.6536,-3209.6516 575.6298,-3209.075\"/>\n</g>\n<!-- 140144532450960 -->\n<g id=\"node86\" class=\"node\">\n<title>140144532450960</title>\n<polygon fill=\"#add8e6\" stroke=\"#000000\" points=\"652,-3331 509,-3331 509,-3301 652,-3301 652,-3331\"/>\n<text text-anchor=\"middle\" x=\"580.5\" y=\"-3319\" font-family=\"monospace\" font-size=\"10.00\" fill=\"#000000\">layer1.1.conv1.weight</text>\n<text text-anchor=\"middle\" x=\"580.5\" y=\"-3308\" font-family=\"monospace\" font-size=\"10.00\" fill=\"#000000\"> (64, 64, 3, 3)</text>\n</g>\n<!-- 140144532450960&#45;&gt;140144524702480 -->\n<g id=\"edge85\" class=\"edge\">\n<title>140144532450960&#45;&gt;140144524702480</title>\n<path fill=\"none\" stroke=\"#000000\" d=\"M579.3403,-3300.6924C578.6444,-3291.5067 577.7519,-3279.7245 577.0024,-3269.8312\"/>\n<polygon fill=\"#000000\" stroke=\"#000000\" points=\"580.4806,-3269.4101 576.2351,-3259.7031 573.5006,-3269.9389 580.4806,-3269.4101\"/>\n</g>\n<!-- 140144524702416 -->\n<g id=\"node87\" class=\"node\">\n<title>140144524702416</title>\n<polygon fill=\"#d3d3d3\" stroke=\"#000000\" points=\"776,-3199 675,-3199 675,-3180 776,-3180 776,-3199\"/>\n<text text-anchor=\"middle\" x=\"725.5\" y=\"-3187\" font-family=\"monospace\" font-size=\"10.00\" fill=\"#000000\">AccumulateGrad</text>\n</g>\n<!-- 140144524702416&#45;&gt;140144524701968 -->\n<g id=\"edge86\" class=\"edge\">\n<title>140144524702416&#45;&gt;140144524701968</title>\n<path fill=\"none\" stroke=\"#000000\" d=\"M712.968,-3179.7796C700.9141,-3170.4301 682.4732,-3156.1266 668.2313,-3145.08\"/>\n<polygon fill=\"#000000\" stroke=\"#000000\" points=\"670.0478,-3142.0596 660.0009,-3138.6962 665.7575,-3147.5908 670.0478,-3142.0596\"/>\n</g>\n<!-- 140144532450864 -->\n<g id=\"node88\" class=\"node\">\n<title>140144532450864</title>\n<polygon fill=\"#add8e6\" stroke=\"#000000\" points=\"783,-3265 652,-3265 652,-3235 783,-3235 783,-3265\"/>\n<text text-anchor=\"middle\" x=\"717.5\" y=\"-3253\" font-family=\"monospace\" font-size=\"10.00\" fill=\"#000000\">layer1.1.bn1.weight</text>\n<text text-anchor=\"middle\" x=\"717.5\" y=\"-3242\" font-family=\"monospace\" font-size=\"10.00\" fill=\"#000000\"> (64)</text>\n</g>\n<!-- 140144532450864&#45;&gt;140144524702416 -->\n<g id=\"edge87\" class=\"edge\">\n<title>140144532450864&#45;&gt;140144524702416</title>\n<path fill=\"none\" stroke=\"#000000\" d=\"M719.5187,-3234.7333C720.5486,-3226.9447 721.813,-3217.3831 722.9135,-3209.0604\"/>\n<polygon fill=\"#000000\" stroke=\"#000000\" points=\"726.3912,-3209.459 724.2324,-3199.0864 719.4516,-3208.5413 726.3912,-3209.459\"/>\n</g>\n<!-- 140144524702160 -->\n<g id=\"node89\" class=\"node\">\n<title>140144524702160</title>\n<polygon fill=\"#d3d3d3\" stroke=\"#000000\" points=\"897,-3199 796,-3199 796,-3180 897,-3180 897,-3199\"/>\n<text text-anchor=\"middle\" x=\"846.5\" y=\"-3187\" font-family=\"monospace\" font-size=\"10.00\" fill=\"#000000\">AccumulateGrad</text>\n</g>\n<!-- 140144524702160&#45;&gt;140144524701968 -->\n<g id=\"edge88\" class=\"edge\">\n<title>140144524702160&#45;&gt;140144524701968</title>\n<path fill=\"none\" stroke=\"#000000\" d=\"M814.9679,-3179.9136C780.7623,-3169.5144 726.0286,-3152.8743 688.5049,-3141.4663\"/>\n<polygon fill=\"#000000\" stroke=\"#000000\" points=\"689.4703,-3138.1017 678.8846,-3138.5416 687.4341,-3144.799 689.4703,-3138.1017\"/>\n</g>\n<!-- 140144532450672 -->\n<g id=\"node90\" class=\"node\">\n<title>140144532450672</title>\n<polygon fill=\"#add8e6\" stroke=\"#000000\" points=\"920,-3265 801,-3265 801,-3235 920,-3235 920,-3265\"/>\n<text text-anchor=\"middle\" x=\"860.5\" y=\"-3253\" font-family=\"monospace\" font-size=\"10.00\" fill=\"#000000\">layer1.1.bn1.bias</text>\n<text text-anchor=\"middle\" x=\"860.5\" y=\"-3242\" font-family=\"monospace\" font-size=\"10.00\" fill=\"#000000\"> (64)</text>\n</g>\n<!-- 140144532450672&#45;&gt;140144524702160 -->\n<g id=\"edge89\" class=\"edge\">\n<title>140144532450672&#45;&gt;140144524702160</title>\n<path fill=\"none\" stroke=\"#000000\" d=\"M856.9672,-3234.7333C855.1649,-3226.9447 852.9523,-3217.3831 851.0264,-3209.0604\"/>\n<polygon fill=\"#000000\" stroke=\"#000000\" points=\"854.3828,-3208.0399 848.7183,-3199.0864 847.563,-3209.6181 854.3828,-3208.0399\"/>\n</g>\n<!-- 140144524702096 -->\n<g id=\"node91\" class=\"node\">\n<title>140144524702096</title>\n<polygon fill=\"#d3d3d3\" stroke=\"#000000\" points=\"814,-3072.5 713,-3072.5 713,-3053.5 814,-3053.5 814,-3072.5\"/>\n<text text-anchor=\"middle\" x=\"763.5\" y=\"-3060.5\" font-family=\"monospace\" font-size=\"10.00\" fill=\"#000000\">AccumulateGrad</text>\n</g>\n<!-- 140144524702096&#45;&gt;140144524652176 -->\n<g id=\"edge90\" class=\"edge\">\n<title>140144524702096&#45;&gt;140144524652176</title>\n<path fill=\"none\" stroke=\"#000000\" d=\"M760.126,-3053.2796C757.2043,-3044.8623 752.8887,-3032.4295 749.2592,-3021.973\"/>\n<polygon fill=\"#000000\" stroke=\"#000000\" points=\"752.5211,-3020.6966 745.9354,-3012.3972 745.9081,-3022.992 752.5211,-3020.6966\"/>\n</g>\n<!-- 140144532525424 -->\n<g id=\"node92\" class=\"node\">\n<title>140144532525424</title>\n<polygon fill=\"#add8e6\" stroke=\"#000000\" points=\"889,-3144 746,-3144 746,-3114 889,-3114 889,-3144\"/>\n<text text-anchor=\"middle\" x=\"817.5\" y=\"-3132\" font-family=\"monospace\" font-size=\"10.00\" fill=\"#000000\">layer1.1.conv2.weight</text>\n<text text-anchor=\"middle\" x=\"817.5\" y=\"-3121\" font-family=\"monospace\" font-size=\"10.00\" fill=\"#000000\"> (64, 64, 3, 3)</text>\n</g>\n<!-- 140144532525424&#45;&gt;140144524702096 -->\n<g id=\"edge91\" class=\"edge\">\n<title>140144532525424&#45;&gt;140144524702096</title>\n<path fill=\"none\" stroke=\"#000000\" d=\"M804.9756,-3113.6924C796.8944,-3103.8153 786.3568,-3090.9361 777.9256,-3080.6312\"/>\n<polygon fill=\"#000000\" stroke=\"#000000\" points=\"780.4801,-3078.2263 771.4389,-3072.7031 775.0624,-3082.659 780.4801,-3078.2263\"/>\n</g>\n<!-- 140144524652240 -->\n<g id=\"node93\" class=\"node\">\n<title>140144524652240</title>\n<polygon fill=\"#d3d3d3\" stroke=\"#000000\" points=\"948,-3012 847,-3012 847,-2993 948,-2993 948,-3012\"/>\n<text text-anchor=\"middle\" x=\"897.5\" y=\"-3000\" font-family=\"monospace\" font-size=\"10.00\" fill=\"#000000\">AccumulateGrad</text>\n</g>\n<!-- 140144524652240&#45;&gt;140144524652304 -->\n<g id=\"edge92\" class=\"edge\">\n<title>140144524652240&#45;&gt;140144524652304</title>\n<path fill=\"none\" stroke=\"#000000\" d=\"M883.9134,-2992.9197C872.2411,-2984.6893 855.1895,-2972.6657 841.5622,-2963.0567\"/>\n<polygon fill=\"#000000\" stroke=\"#000000\" points=\"843.3821,-2960.0574 833.1926,-2957.155 839.3482,-2965.7782 843.3821,-2960.0574\"/>\n</g>\n<!-- 140144532525328 -->\n<g id=\"node94\" class=\"node\">\n<title>140144532525328</title>\n<polygon fill=\"#add8e6\" stroke=\"#000000\" points=\"963,-3078 832,-3078 832,-3048 963,-3048 963,-3078\"/>\n<text text-anchor=\"middle\" x=\"897.5\" y=\"-3066\" font-family=\"monospace\" font-size=\"10.00\" fill=\"#000000\">layer1.1.bn2.weight</text>\n<text text-anchor=\"middle\" x=\"897.5\" y=\"-3055\" font-family=\"monospace\" font-size=\"10.00\" fill=\"#000000\"> (64)</text>\n</g>\n<!-- 140144532525328&#45;&gt;140144524652240 -->\n<g id=\"edge93\" class=\"edge\">\n<title>140144532525328&#45;&gt;140144524652240</title>\n<path fill=\"none\" stroke=\"#000000\" d=\"M897.5,-3047.7333C897.5,-3040.0322 897.5,-3030.5977 897.5,-3022.3414\"/>\n<polygon fill=\"#000000\" stroke=\"#000000\" points=\"901.0001,-3022.0864 897.5,-3012.0864 894.0001,-3022.0864 901.0001,-3022.0864\"/>\n</g>\n<!-- 140144524701840 -->\n<g id=\"node95\" class=\"node\">\n<title>140144524701840</title>\n<polygon fill=\"#d3d3d3\" stroke=\"#000000\" points=\"1079,-3012 978,-3012 978,-2993 1079,-2993 1079,-3012\"/>\n<text text-anchor=\"middle\" x=\"1028.5\" y=\"-3000\" font-family=\"monospace\" font-size=\"10.00\" fill=\"#000000\">AccumulateGrad</text>\n</g>\n<!-- 140144524701840&#45;&gt;140144524652304 -->\n<g id=\"edge94\" class=\"edge\">\n<title>140144524701840&#45;&gt;140144524652304</title>\n<path fill=\"none\" stroke=\"#000000\" d=\"M992.095,-2992.9197C956.9885,-2983.6812 903.7213,-2969.6635 865.6549,-2959.646\"/>\n<polygon fill=\"#000000\" stroke=\"#000000\" points=\"866.3994,-2956.2228 855.8379,-2957.0626 864.6179,-2962.9924 866.3994,-2956.2228\"/>\n</g>\n<!-- 140144532525136 -->\n<g id=\"node96\" class=\"node\">\n<title>140144532525136</title>\n<polygon fill=\"#add8e6\" stroke=\"#000000\" points=\"1100,-3078 981,-3078 981,-3048 1100,-3048 1100,-3078\"/>\n<text text-anchor=\"middle\" x=\"1040.5\" y=\"-3066\" font-family=\"monospace\" font-size=\"10.00\" fill=\"#000000\">layer1.1.bn2.bias</text>\n<text text-anchor=\"middle\" x=\"1040.5\" y=\"-3055\" font-family=\"monospace\" font-size=\"10.00\" fill=\"#000000\"> (64)</text>\n</g>\n<!-- 140144532525136&#45;&gt;140144524701840 -->\n<g id=\"edge95\" class=\"edge\">\n<title>140144532525136&#45;&gt;140144524701840</title>\n<path fill=\"none\" stroke=\"#000000\" d=\"M1037.4719,-3047.7333C1035.927,-3039.9447 1034.0305,-3030.3831 1032.3797,-3022.0604\"/>\n<polygon fill=\"#000000\" stroke=\"#000000\" points=\"1035.7802,-3021.2143 1030.4014,-3012.0864 1028.914,-3022.5763 1035.7802,-3021.2143\"/>\n</g>\n<!-- 140144524652112 -->\n<g id=\"node97\" class=\"node\">\n<title>140144524652112</title>\n<polygon fill=\"#d3d3d3\" stroke=\"#000000\" points=\"727,-2830.5 626,-2830.5 626,-2811.5 727,-2811.5 727,-2830.5\"/>\n<text text-anchor=\"middle\" x=\"676.5\" y=\"-2818.5\" font-family=\"monospace\" font-size=\"10.00\" fill=\"#000000\">AccumulateGrad</text>\n</g>\n<!-- 140144524652112&#45;&gt;140144524651728 -->\n<g id=\"edge97\" class=\"edge\">\n<title>140144524652112&#45;&gt;140144524651728</title>\n<path fill=\"none\" stroke=\"#000000\" d=\"M673.126,-2811.2796C670.2043,-2802.8623 665.8887,-2790.4295 662.2592,-2779.973\"/>\n<polygon fill=\"#000000\" stroke=\"#000000\" points=\"665.5211,-2778.6966 658.9354,-2770.3972 658.9081,-2780.992 665.5211,-2778.6966\"/>\n</g>\n<!-- 140144532526768 -->\n<g id=\"node98\" class=\"node\">\n<title>140144532526768</title>\n<polygon fill=\"#add8e6\" stroke=\"#000000\" points=\"766,-2902 623,-2902 623,-2872 766,-2872 766,-2902\"/>\n<text text-anchor=\"middle\" x=\"694.5\" y=\"-2890\" font-family=\"monospace\" font-size=\"10.00\" fill=\"#000000\">layer2.0.conv1.weight</text>\n<text text-anchor=\"middle\" x=\"694.5\" y=\"-2879\" font-family=\"monospace\" font-size=\"10.00\" fill=\"#000000\"> (128, 64, 3, 3)</text>\n</g>\n<!-- 140144532526768&#45;&gt;140144524652112 -->\n<g id=\"edge98\" class=\"edge\">\n<title>140144532526768&#45;&gt;140144524652112</title>\n<path fill=\"none\" stroke=\"#000000\" d=\"M690.3252,-2871.6924C687.7931,-2862.408 684.5375,-2850.4708 681.8216,-2840.5127\"/>\n<polygon fill=\"#000000\" stroke=\"#000000\" points=\"685.1542,-2839.4298 679.1463,-2830.7031 678.4009,-2841.2716 685.1542,-2839.4298\"/>\n</g>\n<!-- 140144524651856 -->\n<g id=\"node99\" class=\"node\">\n<title>140144524651856</title>\n<polygon fill=\"#d3d3d3\" stroke=\"#000000\" points=\"861,-2770 760,-2770 760,-2751 861,-2751 861,-2770\"/>\n<text text-anchor=\"middle\" x=\"810.5\" y=\"-2758\" font-family=\"monospace\" font-size=\"10.00\" fill=\"#000000\">AccumulateGrad</text>\n</g>\n<!-- 140144524651856&#45;&gt;140144524651408 -->\n<g id=\"edge99\" class=\"edge\">\n<title>140144524651856&#45;&gt;140144524651408</title>\n<path fill=\"none\" stroke=\"#000000\" d=\"M797.968,-2750.7796C785.9141,-2741.4301 767.4732,-2727.1266 753.2313,-2716.08\"/>\n<polygon fill=\"#000000\" stroke=\"#000000\" points=\"755.0478,-2713.0596 745.0009,-2709.6962 750.7575,-2718.5908 755.0478,-2713.0596\"/>\n</g>\n<!-- 140144532526672 -->\n<g id=\"node100\" class=\"node\">\n<title>140144532526672</title>\n<polygon fill=\"#add8e6\" stroke=\"#000000\" points=\"876,-2836 745,-2836 745,-2806 876,-2806 876,-2836\"/>\n<text text-anchor=\"middle\" x=\"810.5\" y=\"-2824\" font-family=\"monospace\" font-size=\"10.00\" fill=\"#000000\">layer2.0.bn1.weight</text>\n<text text-anchor=\"middle\" x=\"810.5\" y=\"-2813\" font-family=\"monospace\" font-size=\"10.00\" fill=\"#000000\"> (128)</text>\n</g>\n<!-- 140144532526672&#45;&gt;140144524651856 -->\n<g id=\"edge100\" class=\"edge\">\n<title>140144532526672&#45;&gt;140144524651856</title>\n<path fill=\"none\" stroke=\"#000000\" d=\"M810.5,-2805.7333C810.5,-2798.0322 810.5,-2788.5977 810.5,-2780.3414\"/>\n<polygon fill=\"#000000\" stroke=\"#000000\" points=\"814.0001,-2780.0864 810.5,-2770.0864 807.0001,-2780.0864 814.0001,-2780.0864\"/>\n</g>\n<!-- 140144524651600 -->\n<g id=\"node101\" class=\"node\">\n<title>140144524651600</title>\n<polygon fill=\"#d3d3d3\" stroke=\"#000000\" points=\"992,-2770 891,-2770 891,-2751 992,-2751 992,-2770\"/>\n<text text-anchor=\"middle\" x=\"941.5\" y=\"-2758\" font-family=\"monospace\" font-size=\"10.00\" fill=\"#000000\">AccumulateGrad</text>\n</g>\n<!-- 140144524651600&#45;&gt;140144524651408 -->\n<g id=\"edge101\" class=\"edge\">\n<title>140144524651600&#45;&gt;140144524651408</title>\n<path fill=\"none\" stroke=\"#000000\" d=\"M908.3833,-2750.9136C872.3824,-2740.4923 814.73,-2723.8034 775.3142,-2712.3936\"/>\n<polygon fill=\"#000000\" stroke=\"#000000\" points=\"776.0406,-2708.9602 765.4617,-2709.5416 774.0942,-2715.6842 776.0406,-2708.9602\"/>\n</g>\n<!-- 140144532526480 -->\n<g id=\"node102\" class=\"node\">\n<title>140144532526480</title>\n<polygon fill=\"#add8e6\" stroke=\"#000000\" points=\"1013,-2836 894,-2836 894,-2806 1013,-2806 1013,-2836\"/>\n<text text-anchor=\"middle\" x=\"953.5\" y=\"-2824\" font-family=\"monospace\" font-size=\"10.00\" fill=\"#000000\">layer2.0.bn1.bias</text>\n<text text-anchor=\"middle\" x=\"953.5\" y=\"-2813\" font-family=\"monospace\" font-size=\"10.00\" fill=\"#000000\"> (128)</text>\n</g>\n<!-- 140144532526480&#45;&gt;140144524651600 -->\n<g id=\"edge102\" class=\"edge\">\n<title>140144532526480&#45;&gt;140144524651600</title>\n<path fill=\"none\" stroke=\"#000000\" d=\"M950.4719,-2805.7333C948.927,-2797.9447 947.0305,-2788.3831 945.3797,-2780.0604\"/>\n<polygon fill=\"#000000\" stroke=\"#000000\" points=\"948.7802,-2779.2143 943.4014,-2770.0864 941.914,-2780.5763 948.7802,-2779.2143\"/>\n</g>\n<!-- 140144524651536 -->\n<g id=\"node103\" class=\"node\">\n<title>140144524651536</title>\n<polygon fill=\"#d3d3d3\" stroke=\"#000000\" points=\"899,-2643.5 798,-2643.5 798,-2624.5 899,-2624.5 899,-2643.5\"/>\n<text text-anchor=\"middle\" x=\"848.5\" y=\"-2631.5\" font-family=\"monospace\" font-size=\"10.00\" fill=\"#000000\">AccumulateGrad</text>\n</g>\n<!-- 140144524651536&#45;&gt;140144524650704 -->\n<g id=\"edge103\" class=\"edge\">\n<title>140144524651536&#45;&gt;140144524650704</title>\n<path fill=\"none\" stroke=\"#000000\" d=\"M845.126,-2624.2796C842.2043,-2615.8623 837.8887,-2603.4295 834.2592,-2592.973\"/>\n<polygon fill=\"#000000\" stroke=\"#000000\" points=\"837.5211,-2591.6966 830.9354,-2583.3972 830.9081,-2593.992 837.5211,-2591.6966\"/>\n</g>\n<!-- 140144532527440 -->\n<g id=\"node104\" class=\"node\">\n<title>140144532527440</title>\n<polygon fill=\"#add8e6\" stroke=\"#000000\" points=\"974,-2715 831,-2715 831,-2685 974,-2685 974,-2715\"/>\n<text text-anchor=\"middle\" x=\"902.5\" y=\"-2703\" font-family=\"monospace\" font-size=\"10.00\" fill=\"#000000\">layer2.0.conv2.weight</text>\n<text text-anchor=\"middle\" x=\"902.5\" y=\"-2692\" font-family=\"monospace\" font-size=\"10.00\" fill=\"#000000\"> (128, 128, 3, 3)</text>\n</g>\n<!-- 140144532527440&#45;&gt;140144524651536 -->\n<g id=\"edge104\" class=\"edge\">\n<title>140144532527440&#45;&gt;140144524651536</title>\n<path fill=\"none\" stroke=\"#000000\" d=\"M889.9756,-2684.6924C881.8944,-2674.8153 871.3568,-2661.9361 862.9256,-2651.6312\"/>\n<polygon fill=\"#000000\" stroke=\"#000000\" points=\"865.4801,-2649.2263 856.4389,-2643.7031 860.0624,-2653.659 865.4801,-2649.2263\"/>\n</g>\n<!-- 140144524651280 -->\n<g id=\"node105\" class=\"node\">\n<title>140144524651280</title>\n<polygon fill=\"#d3d3d3\" stroke=\"#000000\" points=\"1033,-2583 932,-2583 932,-2564 1033,-2564 1033,-2583\"/>\n<text text-anchor=\"middle\" x=\"982.5\" y=\"-2571\" font-family=\"monospace\" font-size=\"10.00\" fill=\"#000000\">AccumulateGrad</text>\n</g>\n<!-- 140144524651280&#45;&gt;140144524650960 -->\n<g id=\"edge105\" class=\"edge\">\n<title>140144524651280&#45;&gt;140144524650960</title>\n<path fill=\"none\" stroke=\"#000000\" d=\"M968.9134,-2563.9197C957.2411,-2555.6893 940.1895,-2543.6657 926.5622,-2534.0567\"/>\n<polygon fill=\"#000000\" stroke=\"#000000\" points=\"928.3821,-2531.0574 918.1926,-2528.155 924.3482,-2536.7782 928.3821,-2531.0574\"/>\n</g>\n<!-- 140144532527344 -->\n<g id=\"node106\" class=\"node\">\n<title>140144532527344</title>\n<polygon fill=\"#add8e6\" stroke=\"#000000\" points=\"1048,-2649 917,-2649 917,-2619 1048,-2619 1048,-2649\"/>\n<text text-anchor=\"middle\" x=\"982.5\" y=\"-2637\" font-family=\"monospace\" font-size=\"10.00\" fill=\"#000000\">layer2.0.bn2.weight</text>\n<text text-anchor=\"middle\" x=\"982.5\" y=\"-2626\" font-family=\"monospace\" font-size=\"10.00\" fill=\"#000000\"> (128)</text>\n</g>\n<!-- 140144532527344&#45;&gt;140144524651280 -->\n<g id=\"edge106\" class=\"edge\">\n<title>140144532527344&#45;&gt;140144524651280</title>\n<path fill=\"none\" stroke=\"#000000\" d=\"M982.5,-2618.7333C982.5,-2611.0322 982.5,-2601.5977 982.5,-2593.3414\"/>\n<polygon fill=\"#000000\" stroke=\"#000000\" points=\"986.0001,-2593.0864 982.5,-2583.0864 979.0001,-2593.0864 986.0001,-2593.0864\"/>\n</g>\n<!-- 140144524651216 -->\n<g id=\"node107\" class=\"node\">\n<title>140144524651216</title>\n<polygon fill=\"#d3d3d3\" stroke=\"#000000\" points=\"1164,-2583 1063,-2583 1063,-2564 1164,-2564 1164,-2583\"/>\n<text text-anchor=\"middle\" x=\"1113.5\" y=\"-2571\" font-family=\"monospace\" font-size=\"10.00\" fill=\"#000000\">AccumulateGrad</text>\n</g>\n<!-- 140144524651216&#45;&gt;140144524650960 -->\n<g id=\"edge107\" class=\"edge\">\n<title>140144524651216&#45;&gt;140144524650960</title>\n<path fill=\"none\" stroke=\"#000000\" d=\"M1077.095,-2563.9197C1041.9885,-2554.6812 988.7213,-2540.6635 950.6549,-2530.646\"/>\n<polygon fill=\"#000000\" stroke=\"#000000\" points=\"951.3994,-2527.2228 940.8379,-2528.0626 949.6179,-2533.9924 951.3994,-2527.2228\"/>\n</g>\n<!-- 140144532527152 -->\n<g id=\"node108\" class=\"node\">\n<title>140144532527152</title>\n<polygon fill=\"#add8e6\" stroke=\"#000000\" points=\"1185,-2649 1066,-2649 1066,-2619 1185,-2619 1185,-2649\"/>\n<text text-anchor=\"middle\" x=\"1125.5\" y=\"-2637\" font-family=\"monospace\" font-size=\"10.00\" fill=\"#000000\">layer2.0.bn2.bias</text>\n<text text-anchor=\"middle\" x=\"1125.5\" y=\"-2626\" font-family=\"monospace\" font-size=\"10.00\" fill=\"#000000\"> (128)</text>\n</g>\n<!-- 140144532527152&#45;&gt;140144524651216 -->\n<g id=\"edge108\" class=\"edge\">\n<title>140144532527152&#45;&gt;140144524651216</title>\n<path fill=\"none\" stroke=\"#000000\" d=\"M1122.4719,-2618.7333C1120.927,-2610.9447 1119.0305,-2601.3831 1117.3797,-2593.0604\"/>\n<polygon fill=\"#000000\" stroke=\"#000000\" points=\"1120.7802,-2592.2143 1115.4014,-2583.0864 1113.914,-2593.5763 1120.7802,-2592.2143\"/>\n</g>\n<!-- 140144524651152 -->\n<g id=\"node109\" class=\"node\">\n<title>140144524651152</title>\n<polygon fill=\"#d3d3d3\" stroke=\"#000000\" points=\"448,-2709.5 287,-2709.5 287,-2690.5 448,-2690.5 448,-2709.5\"/>\n<text text-anchor=\"middle\" x=\"367.5\" y=\"-2697.5\" font-family=\"monospace\" font-size=\"10.00\" fill=\"#000000\">NativeBatchNormBackward0</text>\n</g>\n<!-- 140144524651152&#45;&gt;140144524650768 -->\n<g id=\"edge109\" class=\"edge\">\n<title>140144524651152&#45;&gt;140144524650768</title>\n<path fill=\"none\" stroke=\"#000000\" d=\"M378.3378,-2690.2136C419.4235,-2653.1139 565.8554,-2520.8881 617.3946,-2474.3489\"/>\n<polygon fill=\"#000000\" stroke=\"#000000\" points=\"619.7446,-2476.9426 624.8209,-2467.6431 615.0533,-2471.7473 619.7446,-2476.9426\"/>\n</g>\n<!-- 140144524650896&#45;&gt;140144524651152 -->\n<g id=\"edge110\" class=\"edge\">\n<title>140144524650896&#45;&gt;140144524651152</title>\n<path fill=\"none\" stroke=\"#000000\" d=\"M432.1286,-2750.7796C420.2293,-2741.4301 402.0248,-2727.1266 387.9655,-2716.08\"/>\n<polygon fill=\"#000000\" stroke=\"#000000\" points=\"389.8663,-2713.1224 379.8407,-2709.6962 385.5415,-2718.6266 389.8663,-2713.1224\"/>\n</g>\n<!-- 140144524652368 -->\n<g id=\"node111\" class=\"node\">\n<title>140144524652368</title>\n<polygon fill=\"#d3d3d3\" stroke=\"#000000\" points=\"495,-2830.5 394,-2830.5 394,-2811.5 495,-2811.5 495,-2830.5\"/>\n<text text-anchor=\"middle\" x=\"444.5\" y=\"-2818.5\" font-family=\"monospace\" font-size=\"10.00\" fill=\"#000000\">AccumulateGrad</text>\n</g>\n<!-- 140144524652368&#45;&gt;140144524650896 -->\n<g id=\"edge112\" class=\"edge\">\n<title>140144524652368&#45;&gt;140144524650896</title>\n<path fill=\"none\" stroke=\"#000000\" d=\"M444.5,-2811.2796C444.5,-2803.0376 444.5,-2790.9457 444.5,-2780.629\"/>\n<polygon fill=\"#000000\" stroke=\"#000000\" points=\"448.0001,-2780.3972 444.5,-2770.3972 441.0001,-2780.3973 448.0001,-2780.3972\"/>\n</g>\n<!-- 140144532526096 -->\n<g id=\"node112\" class=\"node\">\n<title>140144532526096</title>\n<polygon fill=\"#add8e6\" stroke=\"#000000\" points=\"498,-2902 313,-2902 313,-2872 498,-2872 498,-2902\"/>\n<text text-anchor=\"middle\" x=\"405.5\" y=\"-2890\" font-family=\"monospace\" font-size=\"10.00\" fill=\"#000000\">layer2.0.downsample.0.weight</text>\n<text text-anchor=\"middle\" x=\"405.5\" y=\"-2879\" font-family=\"monospace\" font-size=\"10.00\" fill=\"#000000\"> (128, 64, 1, 1)</text>\n</g>\n<!-- 140144532526096&#45;&gt;140144524652368 -->\n<g id=\"edge113\" class=\"edge\">\n<title>140144532526096&#45;&gt;140144524652368</title>\n<path fill=\"none\" stroke=\"#000000\" d=\"M414.5454,-2871.6924C420.2068,-2862.1116 427.5373,-2849.7061 433.5295,-2839.5655\"/>\n<polygon fill=\"#000000\" stroke=\"#000000\" points=\"436.6923,-2841.0929 438.7664,-2830.7031 430.6658,-2837.5318 436.6923,-2841.0929\"/>\n</g>\n<!-- 140144524652432 -->\n<g id=\"node113\" class=\"node\">\n<title>140144524652432</title>\n<polygon fill=\"#d3d3d3\" stroke=\"#000000\" points=\"182,-2770 81,-2770 81,-2751 182,-2751 182,-2770\"/>\n<text text-anchor=\"middle\" x=\"131.5\" y=\"-2758\" font-family=\"monospace\" font-size=\"10.00\" fill=\"#000000\">AccumulateGrad</text>\n</g>\n<!-- 140144524652432&#45;&gt;140144524651152 -->\n<g id=\"edge114\" class=\"edge\">\n<title>140144524652432&#45;&gt;140144524651152</title>\n<path fill=\"none\" stroke=\"#000000\" d=\"M168.6346,-2750.9803C209.6656,-2740.4618 275.8308,-2723.4999 320.4571,-2712.0597\"/>\n<polygon fill=\"#000000\" stroke=\"#000000\" points=\"321.375,-2715.4377 330.1926,-2709.564 319.6367,-2708.6569 321.375,-2715.4377\"/>\n</g>\n<!-- 140144532526000 -->\n<g id=\"node114\" class=\"node\">\n<title>140144532526000</title>\n<polygon fill=\"#add8e6\" stroke=\"#000000\" points=\"185,-2836 0,-2836 0,-2806 185,-2806 185,-2836\"/>\n<text text-anchor=\"middle\" x=\"92.5\" y=\"-2824\" font-family=\"monospace\" font-size=\"10.00\" fill=\"#000000\">layer2.0.downsample.1.weight</text>\n<text text-anchor=\"middle\" x=\"92.5\" y=\"-2813\" font-family=\"monospace\" font-size=\"10.00\" fill=\"#000000\"> (128)</text>\n</g>\n<!-- 140144532526000&#45;&gt;140144524652432 -->\n<g id=\"edge115\" class=\"edge\">\n<title>140144532526000&#45;&gt;140144524652432</title>\n<path fill=\"none\" stroke=\"#000000\" d=\"M102.3413,-2805.7333C107.6442,-2797.5071 114.2219,-2787.3031 119.7872,-2778.6699\"/>\n<polygon fill=\"#000000\" stroke=\"#000000\" points=\"122.8439,-2780.3878 125.3203,-2770.0864 116.9604,-2776.5951 122.8439,-2780.3878\"/>\n</g>\n<!-- 140144524651792 -->\n<g id=\"node115\" class=\"node\">\n<title>140144524651792</title>\n<polygon fill=\"#d3d3d3\" stroke=\"#000000\" points=\"340,-2770 239,-2770 239,-2751 340,-2751 340,-2770\"/>\n<text text-anchor=\"middle\" x=\"289.5\" y=\"-2758\" font-family=\"monospace\" font-size=\"10.00\" fill=\"#000000\">AccumulateGrad</text>\n</g>\n<!-- 140144524651792&#45;&gt;140144524651152 -->\n<g id=\"edge116\" class=\"edge\">\n<title>140144524651792&#45;&gt;140144524651152</title>\n<path fill=\"none\" stroke=\"#000000\" d=\"M302.032,-2750.7796C314.0859,-2741.4301 332.5268,-2727.1266 346.7687,-2716.08\"/>\n<polygon fill=\"#000000\" stroke=\"#000000\" points=\"349.2425,-2718.5908 354.9991,-2709.6962 344.9522,-2713.0596 349.2425,-2718.5908\"/>\n</g>\n<!-- 140144532525808 -->\n<g id=\"node116\" class=\"node\">\n<title>140144532525808</title>\n<polygon fill=\"#add8e6\" stroke=\"#000000\" points=\"376,-2836 203,-2836 203,-2806 376,-2806 376,-2836\"/>\n<text text-anchor=\"middle\" x=\"289.5\" y=\"-2824\" font-family=\"monospace\" font-size=\"10.00\" fill=\"#000000\">layer2.0.downsample.1.bias</text>\n<text text-anchor=\"middle\" x=\"289.5\" y=\"-2813\" font-family=\"monospace\" font-size=\"10.00\" fill=\"#000000\"> (128)</text>\n</g>\n<!-- 140144532525808&#45;&gt;140144524651792 -->\n<g id=\"edge117\" class=\"edge\">\n<title>140144532525808&#45;&gt;140144524651792</title>\n<path fill=\"none\" stroke=\"#000000\" d=\"M289.5,-2805.7333C289.5,-2798.0322 289.5,-2788.5977 289.5,-2780.3414\"/>\n<polygon fill=\"#000000\" stroke=\"#000000\" points=\"293.0001,-2780.0864 289.5,-2770.0864 286.0001,-2780.0864 293.0001,-2780.0864\"/>\n</g>\n<!-- 140144524650640 -->\n<g id=\"node117\" class=\"node\">\n<title>140144524650640</title>\n<polygon fill=\"#d3d3d3\" stroke=\"#000000\" points=\"815,-2401.5 714,-2401.5 714,-2382.5 815,-2382.5 815,-2401.5\"/>\n<text text-anchor=\"middle\" x=\"764.5\" y=\"-2389.5\" font-family=\"monospace\" font-size=\"10.00\" fill=\"#000000\">AccumulateGrad</text>\n</g>\n<!-- 140144524650640&#45;&gt;140144524650448 -->\n<g id=\"edge118\" class=\"edge\">\n<title>140144524650640&#45;&gt;140144524650448</title>\n<path fill=\"none\" stroke=\"#000000\" d=\"M763.6967,-2382.2796C763.0155,-2374.0376 762.0162,-2361.9457 761.1636,-2351.629\"/>\n<polygon fill=\"#000000\" stroke=\"#000000\" points=\"764.6298,-2351.075 760.318,-2341.3972 757.6536,-2351.6516 764.6298,-2351.075\"/>\n</g>\n<!-- 140144532528112 -->\n<g id=\"node118\" class=\"node\">\n<title>140144532528112</title>\n<polygon fill=\"#add8e6\" stroke=\"#000000\" points=\"841,-2473 698,-2473 698,-2443 841,-2443 841,-2473\"/>\n<text text-anchor=\"middle\" x=\"769.5\" y=\"-2461\" font-family=\"monospace\" font-size=\"10.00\" fill=\"#000000\">layer2.1.conv1.weight</text>\n<text text-anchor=\"middle\" x=\"769.5\" y=\"-2450\" font-family=\"monospace\" font-size=\"10.00\" fill=\"#000000\"> (128, 128, 3, 3)</text>\n</g>\n<!-- 140144532528112&#45;&gt;140144524650640 -->\n<g id=\"edge119\" class=\"edge\">\n<title>140144532528112&#45;&gt;140144524650640</title>\n<path fill=\"none\" stroke=\"#000000\" d=\"M768.3403,-2442.6924C767.6444,-2433.5067 766.7519,-2421.7245 766.0024,-2411.8312\"/>\n<polygon fill=\"#000000\" stroke=\"#000000\" points=\"769.4806,-2411.4101 765.2351,-2401.7031 762.5006,-2411.9389 769.4806,-2411.4101\"/>\n</g>\n<!-- 140144524650576 -->\n<g id=\"node119\" class=\"node\">\n<title>140144524650576</title>\n<polygon fill=\"#d3d3d3\" stroke=\"#000000\" points=\"965,-2341 864,-2341 864,-2322 965,-2322 965,-2341\"/>\n<text text-anchor=\"middle\" x=\"914.5\" y=\"-2329\" font-family=\"monospace\" font-size=\"10.00\" fill=\"#000000\">AccumulateGrad</text>\n</g>\n<!-- 140144524650576&#45;&gt;140144524650128 -->\n<g id=\"edge120\" class=\"edge\">\n<title>140144524650576&#45;&gt;140144524650128</title>\n<path fill=\"none\" stroke=\"#000000\" d=\"M901.968,-2321.7796C889.9141,-2312.4301 871.4732,-2298.1266 857.2313,-2287.08\"/>\n<polygon fill=\"#000000\" stroke=\"#000000\" points=\"859.0478,-2284.0596 849.0009,-2280.6962 854.7575,-2289.5908 859.0478,-2284.0596\"/>\n</g>\n<!-- 140144532528016 -->\n<g id=\"node120\" class=\"node\">\n<title>140144532528016</title>\n<polygon fill=\"#add8e6\" stroke=\"#000000\" points=\"972,-2407 841,-2407 841,-2377 972,-2377 972,-2407\"/>\n<text text-anchor=\"middle\" x=\"906.5\" y=\"-2395\" font-family=\"monospace\" font-size=\"10.00\" fill=\"#000000\">layer2.1.bn1.weight</text>\n<text text-anchor=\"middle\" x=\"906.5\" y=\"-2384\" font-family=\"monospace\" font-size=\"10.00\" fill=\"#000000\"> (128)</text>\n</g>\n<!-- 140144532528016&#45;&gt;140144524650576 -->\n<g id=\"edge121\" class=\"edge\">\n<title>140144532528016&#45;&gt;140144524650576</title>\n<path fill=\"none\" stroke=\"#000000\" d=\"M908.5187,-2376.7333C909.5486,-2368.9447 910.813,-2359.3831 911.9135,-2351.0604\"/>\n<polygon fill=\"#000000\" stroke=\"#000000\" points=\"915.3912,-2351.459 913.2324,-2341.0864 908.4516,-2350.5413 915.3912,-2351.459\"/>\n</g>\n<!-- 140144524650320 -->\n<g id=\"node121\" class=\"node\">\n<title>140144524650320</title>\n<polygon fill=\"#d3d3d3\" stroke=\"#000000\" points=\"1086,-2341 985,-2341 985,-2322 1086,-2322 1086,-2341\"/>\n<text text-anchor=\"middle\" x=\"1035.5\" y=\"-2329\" font-family=\"monospace\" font-size=\"10.00\" fill=\"#000000\">AccumulateGrad</text>\n</g>\n<!-- 140144524650320&#45;&gt;140144524650128 -->\n<g id=\"edge122\" class=\"edge\">\n<title>140144524650320&#45;&gt;140144524650128</title>\n<path fill=\"none\" stroke=\"#000000\" d=\"M1003.9679,-2321.9136C969.7623,-2311.5144 915.0286,-2294.8743 877.5049,-2283.4663\"/>\n<polygon fill=\"#000000\" stroke=\"#000000\" points=\"878.4703,-2280.1017 867.8846,-2280.5416 876.4341,-2286.799 878.4703,-2280.1017\"/>\n</g>\n<!-- 140144532527824 -->\n<g id=\"node122\" class=\"node\">\n<title>140144532527824</title>\n<polygon fill=\"#add8e6\" stroke=\"#000000\" points=\"1109,-2407 990,-2407 990,-2377 1109,-2377 1109,-2407\"/>\n<text text-anchor=\"middle\" x=\"1049.5\" y=\"-2395\" font-family=\"monospace\" font-size=\"10.00\" fill=\"#000000\">layer2.1.bn1.bias</text>\n<text text-anchor=\"middle\" x=\"1049.5\" y=\"-2384\" font-family=\"monospace\" font-size=\"10.00\" fill=\"#000000\"> (128)</text>\n</g>\n<!-- 140144532527824&#45;&gt;140144524650320 -->\n<g id=\"edge123\" class=\"edge\">\n<title>140144532527824&#45;&gt;140144524650320</title>\n<path fill=\"none\" stroke=\"#000000\" d=\"M1045.9672,-2376.7333C1044.1649,-2368.9447 1041.9523,-2359.3831 1040.0264,-2351.0604\"/>\n<polygon fill=\"#000000\" stroke=\"#000000\" points=\"1043.3828,-2350.0399 1037.7183,-2341.0864 1036.563,-2351.6181 1043.3828,-2350.0399\"/>\n</g>\n<!-- 140144524650256 -->\n<g id=\"node123\" class=\"node\">\n<title>140144524650256</title>\n<polygon fill=\"#d3d3d3\" stroke=\"#000000\" points=\"1003,-2214.5 902,-2214.5 902,-2195.5 1003,-2195.5 1003,-2214.5\"/>\n<text text-anchor=\"middle\" x=\"952.5\" y=\"-2202.5\" font-family=\"monospace\" font-size=\"10.00\" fill=\"#000000\">AccumulateGrad</text>\n</g>\n<!-- 140144524650256&#45;&gt;140144524649552 -->\n<g id=\"edge124\" class=\"edge\">\n<title>140144524650256&#45;&gt;140144524649552</title>\n<path fill=\"none\" stroke=\"#000000\" d=\"M949.126,-2195.2796C946.2043,-2186.8623 941.8887,-2174.4295 938.2592,-2163.973\"/>\n<polygon fill=\"#000000\" stroke=\"#000000\" points=\"941.5211,-2162.6966 934.9354,-2154.3972 934.9081,-2164.992 941.5211,-2162.6966\"/>\n</g>\n<!-- 140144532528784 -->\n<g id=\"node124\" class=\"node\">\n<title>140144532528784</title>\n<polygon fill=\"#add8e6\" stroke=\"#000000\" points=\"1078,-2286 935,-2286 935,-2256 1078,-2256 1078,-2286\"/>\n<text text-anchor=\"middle\" x=\"1006.5\" y=\"-2274\" font-family=\"monospace\" font-size=\"10.00\" fill=\"#000000\">layer2.1.conv2.weight</text>\n<text text-anchor=\"middle\" x=\"1006.5\" y=\"-2263\" font-family=\"monospace\" font-size=\"10.00\" fill=\"#000000\"> (128, 128, 3, 3)</text>\n</g>\n<!-- 140144532528784&#45;&gt;140144524650256 -->\n<g id=\"edge125\" class=\"edge\">\n<title>140144532528784&#45;&gt;140144524650256</title>\n<path fill=\"none\" stroke=\"#000000\" d=\"M993.9756,-2255.6924C985.8944,-2245.8153 975.3568,-2232.9361 966.9256,-2222.6312\"/>\n<polygon fill=\"#000000\" stroke=\"#000000\" points=\"969.4801,-2220.2263 960.4389,-2214.7031 964.0624,-2224.659 969.4801,-2220.2263\"/>\n</g>\n<!-- 140144524650000 -->\n<g id=\"node125\" class=\"node\">\n<title>140144524650000</title>\n<polygon fill=\"#d3d3d3\" stroke=\"#000000\" points=\"1137,-2154 1036,-2154 1036,-2135 1137,-2135 1137,-2154\"/>\n<text text-anchor=\"middle\" x=\"1086.5\" y=\"-2142\" font-family=\"monospace\" font-size=\"10.00\" fill=\"#000000\">AccumulateGrad</text>\n</g>\n<!-- 140144524650000&#45;&gt;140144524649680 -->\n<g id=\"edge126\" class=\"edge\">\n<title>140144524650000&#45;&gt;140144524649680</title>\n<path fill=\"none\" stroke=\"#000000\" d=\"M1072.9134,-2134.9197C1061.2411,-2126.6893 1044.1895,-2114.6657 1030.5622,-2105.0567\"/>\n<polygon fill=\"#000000\" stroke=\"#000000\" points=\"1032.3821,-2102.0574 1022.1926,-2099.155 1028.3482,-2107.7782 1032.3821,-2102.0574\"/>\n</g>\n<!-- 140144532528688 -->\n<g id=\"node126\" class=\"node\">\n<title>140144532528688</title>\n<polygon fill=\"#add8e6\" stroke=\"#000000\" points=\"1152,-2220 1021,-2220 1021,-2190 1152,-2190 1152,-2220\"/>\n<text text-anchor=\"middle\" x=\"1086.5\" y=\"-2208\" font-family=\"monospace\" font-size=\"10.00\" fill=\"#000000\">layer2.1.bn2.weight</text>\n<text text-anchor=\"middle\" x=\"1086.5\" y=\"-2197\" font-family=\"monospace\" font-size=\"10.00\" fill=\"#000000\"> (128)</text>\n</g>\n<!-- 140144532528688&#45;&gt;140144524650000 -->\n<g id=\"edge127\" class=\"edge\">\n<title>140144532528688&#45;&gt;140144524650000</title>\n<path fill=\"none\" stroke=\"#000000\" d=\"M1086.5,-2189.7333C1086.5,-2182.0322 1086.5,-2172.5977 1086.5,-2164.3414\"/>\n<polygon fill=\"#000000\" stroke=\"#000000\" points=\"1090.0001,-2164.0864 1086.5,-2154.0864 1083.0001,-2164.0864 1090.0001,-2164.0864\"/>\n</g>\n<!-- 140144524649936 -->\n<g id=\"node127\" class=\"node\">\n<title>140144524649936</title>\n<polygon fill=\"#d3d3d3\" stroke=\"#000000\" points=\"1268,-2154 1167,-2154 1167,-2135 1268,-2135 1268,-2154\"/>\n<text text-anchor=\"middle\" x=\"1217.5\" y=\"-2142\" font-family=\"monospace\" font-size=\"10.00\" fill=\"#000000\">AccumulateGrad</text>\n</g>\n<!-- 140144524649936&#45;&gt;140144524649680 -->\n<g id=\"edge128\" class=\"edge\">\n<title>140144524649936&#45;&gt;140144524649680</title>\n<path fill=\"none\" stroke=\"#000000\" d=\"M1181.095,-2134.9197C1145.9885,-2125.6812 1092.7213,-2111.6635 1054.6549,-2101.646\"/>\n<polygon fill=\"#000000\" stroke=\"#000000\" points=\"1055.3994,-2098.2228 1044.8379,-2099.0626 1053.6179,-2104.9924 1055.3994,-2098.2228\"/>\n</g>\n<!-- 140144532528496 -->\n<g id=\"node128\" class=\"node\">\n<title>140144532528496</title>\n<polygon fill=\"#add8e6\" stroke=\"#000000\" points=\"1289,-2220 1170,-2220 1170,-2190 1289,-2190 1289,-2220\"/>\n<text text-anchor=\"middle\" x=\"1229.5\" y=\"-2208\" font-family=\"monospace\" font-size=\"10.00\" fill=\"#000000\">layer2.1.bn2.bias</text>\n<text text-anchor=\"middle\" x=\"1229.5\" y=\"-2197\" font-family=\"monospace\" font-size=\"10.00\" fill=\"#000000\"> (128)</text>\n</g>\n<!-- 140144532528496&#45;&gt;140144524649936 -->\n<g id=\"edge129\" class=\"edge\">\n<title>140144532528496&#45;&gt;140144524649936</title>\n<path fill=\"none\" stroke=\"#000000\" d=\"M1226.4719,-2189.7333C1224.927,-2181.9447 1223.0305,-2172.3831 1221.3797,-2164.0604\"/>\n<polygon fill=\"#000000\" stroke=\"#000000\" points=\"1224.7802,-2163.2143 1219.4014,-2154.0864 1217.914,-2164.5763 1224.7802,-2163.2143\"/>\n</g>\n<!-- 140144524649488 -->\n<g id=\"node129\" class=\"node\">\n<title>140144524649488</title>\n<polygon fill=\"#d3d3d3\" stroke=\"#000000\" points=\"916,-1972.5 815,-1972.5 815,-1953.5 916,-1953.5 916,-1972.5\"/>\n<text text-anchor=\"middle\" x=\"865.5\" y=\"-1960.5\" font-family=\"monospace\" font-size=\"10.00\" fill=\"#000000\">AccumulateGrad</text>\n</g>\n<!-- 140144524649488&#45;&gt;140144524649104 -->\n<g id=\"edge131\" class=\"edge\">\n<title>140144524649488&#45;&gt;140144524649104</title>\n<path fill=\"none\" stroke=\"#000000\" d=\"M862.126,-1953.2796C859.2043,-1944.8623 854.8887,-1932.4295 851.2592,-1921.973\"/>\n<polygon fill=\"#000000\" stroke=\"#000000\" points=\"854.5211,-1920.6966 847.9354,-1912.3972 847.9081,-1922.992 854.5211,-1920.6966\"/>\n</g>\n<!-- 140144532595728 -->\n<g id=\"node130\" class=\"node\">\n<title>140144532595728</title>\n<polygon fill=\"#add8e6\" stroke=\"#000000\" points=\"955,-2044 812,-2044 812,-2014 955,-2014 955,-2044\"/>\n<text text-anchor=\"middle\" x=\"883.5\" y=\"-2032\" font-family=\"monospace\" font-size=\"10.00\" fill=\"#000000\">layer3.0.conv1.weight</text>\n<text text-anchor=\"middle\" x=\"883.5\" y=\"-2021\" font-family=\"monospace\" font-size=\"10.00\" fill=\"#000000\"> (256, 128, 3, 3)</text>\n</g>\n<!-- 140144532595728&#45;&gt;140144524649488 -->\n<g id=\"edge132\" class=\"edge\">\n<title>140144532595728&#45;&gt;140144524649488</title>\n<path fill=\"none\" stroke=\"#000000\" d=\"M879.3252,-2013.6924C876.7931,-2004.408 873.5375,-1992.4708 870.8216,-1982.5127\"/>\n<polygon fill=\"#000000\" stroke=\"#000000\" points=\"874.1542,-1981.4298 868.1463,-1972.7031 867.4009,-1983.2716 874.1542,-1981.4298\"/>\n</g>\n<!-- 140144524649232 -->\n<g id=\"node131\" class=\"node\">\n<title>140144524649232</title>\n<polygon fill=\"#d3d3d3\" stroke=\"#000000\" points=\"1050,-1912 949,-1912 949,-1893 1050,-1893 1050,-1912\"/>\n<text text-anchor=\"middle\" x=\"999.5\" y=\"-1900\" font-family=\"monospace\" font-size=\"10.00\" fill=\"#000000\">AccumulateGrad</text>\n</g>\n<!-- 140144524649232&#45;&gt;140144524648784 -->\n<g id=\"edge133\" class=\"edge\">\n<title>140144524649232&#45;&gt;140144524648784</title>\n<path fill=\"none\" stroke=\"#000000\" d=\"M986.968,-1892.7796C974.9141,-1883.4301 956.4732,-1869.1266 942.2313,-1858.08\"/>\n<polygon fill=\"#000000\" stroke=\"#000000\" points=\"944.0478,-1855.0596 934.0009,-1851.6962 939.7575,-1860.5908 944.0478,-1855.0596\"/>\n</g>\n<!-- 140144532595632 -->\n<g id=\"node132\" class=\"node\">\n<title>140144532595632</title>\n<polygon fill=\"#add8e6\" stroke=\"#000000\" points=\"1065,-1978 934,-1978 934,-1948 1065,-1948 1065,-1978\"/>\n<text text-anchor=\"middle\" x=\"999.5\" y=\"-1966\" font-family=\"monospace\" font-size=\"10.00\" fill=\"#000000\">layer3.0.bn1.weight</text>\n<text text-anchor=\"middle\" x=\"999.5\" y=\"-1955\" font-family=\"monospace\" font-size=\"10.00\" fill=\"#000000\"> (256)</text>\n</g>\n<!-- 140144532595632&#45;&gt;140144524649232 -->\n<g id=\"edge134\" class=\"edge\">\n<title>140144532595632&#45;&gt;140144524649232</title>\n<path fill=\"none\" stroke=\"#000000\" d=\"M999.5,-1947.7333C999.5,-1940.0322 999.5,-1930.5977 999.5,-1922.3414\"/>\n<polygon fill=\"#000000\" stroke=\"#000000\" points=\"1003.0001,-1922.0864 999.5,-1912.0864 996.0001,-1922.0864 1003.0001,-1922.0864\"/>\n</g>\n<!-- 140144524648976 -->\n<g id=\"node133\" class=\"node\">\n<title>140144524648976</title>\n<polygon fill=\"#d3d3d3\" stroke=\"#000000\" points=\"1181,-1912 1080,-1912 1080,-1893 1181,-1893 1181,-1912\"/>\n<text text-anchor=\"middle\" x=\"1130.5\" y=\"-1900\" font-family=\"monospace\" font-size=\"10.00\" fill=\"#000000\">AccumulateGrad</text>\n</g>\n<!-- 140144524648976&#45;&gt;140144524648784 -->\n<g id=\"edge135\" class=\"edge\">\n<title>140144524648976&#45;&gt;140144524648784</title>\n<path fill=\"none\" stroke=\"#000000\" d=\"M1097.3833,-1892.9136C1061.3824,-1882.4923 1003.73,-1865.8034 964.3142,-1854.3936\"/>\n<polygon fill=\"#000000\" stroke=\"#000000\" points=\"965.0406,-1850.9602 954.4617,-1851.5416 963.0942,-1857.6842 965.0406,-1850.9602\"/>\n</g>\n<!-- 140144532595440 -->\n<g id=\"node134\" class=\"node\">\n<title>140144532595440</title>\n<polygon fill=\"#add8e6\" stroke=\"#000000\" points=\"1202,-1978 1083,-1978 1083,-1948 1202,-1948 1202,-1978\"/>\n<text text-anchor=\"middle\" x=\"1142.5\" y=\"-1966\" font-family=\"monospace\" font-size=\"10.00\" fill=\"#000000\">layer3.0.bn1.bias</text>\n<text text-anchor=\"middle\" x=\"1142.5\" y=\"-1955\" font-family=\"monospace\" font-size=\"10.00\" fill=\"#000000\"> (256)</text>\n</g>\n<!-- 140144532595440&#45;&gt;140144524648976 -->\n<g id=\"edge136\" class=\"edge\">\n<title>140144532595440&#45;&gt;140144524648976</title>\n<path fill=\"none\" stroke=\"#000000\" d=\"M1139.4719,-1947.7333C1137.927,-1939.9447 1136.0305,-1930.3831 1134.3797,-1922.0604\"/>\n<polygon fill=\"#000000\" stroke=\"#000000\" points=\"1137.7802,-1921.2143 1132.4014,-1912.0864 1130.914,-1922.5763 1137.7802,-1921.2143\"/>\n</g>\n<!-- 140144524648912 -->\n<g id=\"node135\" class=\"node\">\n<title>140144524648912</title>\n<polygon fill=\"#d3d3d3\" stroke=\"#000000\" points=\"1088,-1785.5 987,-1785.5 987,-1766.5 1088,-1766.5 1088,-1785.5\"/>\n<text text-anchor=\"middle\" x=\"1037.5\" y=\"-1773.5\" font-family=\"monospace\" font-size=\"10.00\" fill=\"#000000\">AccumulateGrad</text>\n</g>\n<!-- 140144524648912&#45;&gt;140144524532816 -->\n<g id=\"edge137\" class=\"edge\">\n<title>140144524648912&#45;&gt;140144524532816</title>\n<path fill=\"none\" stroke=\"#000000\" d=\"M1034.126,-1766.2796C1031.2043,-1757.8623 1026.8887,-1745.4295 1023.2592,-1734.973\"/>\n<polygon fill=\"#000000\" stroke=\"#000000\" points=\"1026.5211,-1733.6966 1019.9354,-1725.3972 1019.9081,-1735.992 1026.5211,-1733.6966\"/>\n</g>\n<!-- 140144532596400 -->\n<g id=\"node136\" class=\"node\">\n<title>140144532596400</title>\n<polygon fill=\"#add8e6\" stroke=\"#000000\" points=\"1163,-1857 1020,-1857 1020,-1827 1163,-1827 1163,-1857\"/>\n<text text-anchor=\"middle\" x=\"1091.5\" y=\"-1845\" font-family=\"monospace\" font-size=\"10.00\" fill=\"#000000\">layer3.0.conv2.weight</text>\n<text text-anchor=\"middle\" x=\"1091.5\" y=\"-1834\" font-family=\"monospace\" font-size=\"10.00\" fill=\"#000000\"> (256, 256, 3, 3)</text>\n</g>\n<!-- 140144532596400&#45;&gt;140144524648912 -->\n<g id=\"edge138\" class=\"edge\">\n<title>140144532596400&#45;&gt;140144524648912</title>\n<path fill=\"none\" stroke=\"#000000\" d=\"M1078.9756,-1826.6924C1070.8944,-1816.8153 1060.3568,-1803.9361 1051.9256,-1793.6312\"/>\n<polygon fill=\"#000000\" stroke=\"#000000\" points=\"1054.4801,-1791.2263 1045.4389,-1785.7031 1049.0624,-1795.659 1054.4801,-1791.2263\"/>\n</g>\n<!-- 140144524648656 -->\n<g id=\"node137\" class=\"node\">\n<title>140144524648656</title>\n<polygon fill=\"#d3d3d3\" stroke=\"#000000\" points=\"1222,-1725 1121,-1725 1121,-1706 1222,-1706 1222,-1725\"/>\n<text text-anchor=\"middle\" x=\"1171.5\" y=\"-1713\" font-family=\"monospace\" font-size=\"10.00\" fill=\"#000000\">AccumulateGrad</text>\n</g>\n<!-- 140144524648656&#45;&gt;140144524531536 -->\n<g id=\"edge139\" class=\"edge\">\n<title>140144524648656&#45;&gt;140144524531536</title>\n<path fill=\"none\" stroke=\"#000000\" d=\"M1157.9134,-1705.9197C1146.2411,-1697.6893 1129.1895,-1685.6657 1115.5622,-1676.0567\"/>\n<polygon fill=\"#000000\" stroke=\"#000000\" points=\"1117.3821,-1673.0574 1107.1926,-1670.155 1113.3482,-1678.7782 1117.3821,-1673.0574\"/>\n</g>\n<!-- 140144532596304 -->\n<g id=\"node138\" class=\"node\">\n<title>140144532596304</title>\n<polygon fill=\"#add8e6\" stroke=\"#000000\" points=\"1237,-1791 1106,-1791 1106,-1761 1237,-1761 1237,-1791\"/>\n<text text-anchor=\"middle\" x=\"1171.5\" y=\"-1779\" font-family=\"monospace\" font-size=\"10.00\" fill=\"#000000\">layer3.0.bn2.weight</text>\n<text text-anchor=\"middle\" x=\"1171.5\" y=\"-1768\" font-family=\"monospace\" font-size=\"10.00\" fill=\"#000000\"> (256)</text>\n</g>\n<!-- 140144532596304&#45;&gt;140144524648656 -->\n<g id=\"edge140\" class=\"edge\">\n<title>140144532596304&#45;&gt;140144524648656</title>\n<path fill=\"none\" stroke=\"#000000\" d=\"M1171.5,-1760.7333C1171.5,-1753.0322 1171.5,-1743.5977 1171.5,-1735.3414\"/>\n<polygon fill=\"#000000\" stroke=\"#000000\" points=\"1175.0001,-1735.0864 1171.5,-1725.0864 1168.0001,-1735.0864 1175.0001,-1735.0864\"/>\n</g>\n<!-- 140144524648592 -->\n<g id=\"node139\" class=\"node\">\n<title>140144524648592</title>\n<polygon fill=\"#d3d3d3\" stroke=\"#000000\" points=\"1353,-1725 1252,-1725 1252,-1706 1353,-1706 1353,-1725\"/>\n<text text-anchor=\"middle\" x=\"1302.5\" y=\"-1713\" font-family=\"monospace\" font-size=\"10.00\" fill=\"#000000\">AccumulateGrad</text>\n</g>\n<!-- 140144524648592&#45;&gt;140144524531536 -->\n<g id=\"edge141\" class=\"edge\">\n<title>140144524648592&#45;&gt;140144524531536</title>\n<path fill=\"none\" stroke=\"#000000\" d=\"M1266.095,-1705.9197C1230.9885,-1696.6812 1177.7213,-1682.6635 1139.6549,-1672.646\"/>\n<polygon fill=\"#000000\" stroke=\"#000000\" points=\"1140.3994,-1669.2228 1129.8379,-1670.0626 1138.6179,-1675.9924 1140.3994,-1669.2228\"/>\n</g>\n<!-- 140144532596112 -->\n<g id=\"node140\" class=\"node\">\n<title>140144532596112</title>\n<polygon fill=\"#add8e6\" stroke=\"#000000\" points=\"1374,-1791 1255,-1791 1255,-1761 1374,-1761 1374,-1791\"/>\n<text text-anchor=\"middle\" x=\"1314.5\" y=\"-1779\" font-family=\"monospace\" font-size=\"10.00\" fill=\"#000000\">layer3.0.bn2.bias</text>\n<text text-anchor=\"middle\" x=\"1314.5\" y=\"-1768\" font-family=\"monospace\" font-size=\"10.00\" fill=\"#000000\"> (256)</text>\n</g>\n<!-- 140144532596112&#45;&gt;140144524648592 -->\n<g id=\"edge142\" class=\"edge\">\n<title>140144532596112&#45;&gt;140144524648592</title>\n<path fill=\"none\" stroke=\"#000000\" d=\"M1311.4719,-1760.7333C1309.927,-1752.9447 1308.0305,-1743.3831 1306.3797,-1735.0604\"/>\n<polygon fill=\"#000000\" stroke=\"#000000\" points=\"1309.7802,-1734.2143 1304.4014,-1725.0864 1302.914,-1735.5763 1309.7802,-1734.2143\"/>\n</g>\n<!-- 140144524531600 -->\n<g id=\"node141\" class=\"node\">\n<title>140144524531600</title>\n<polygon fill=\"#d3d3d3\" stroke=\"#000000\" points=\"637,-1851.5 476,-1851.5 476,-1832.5 637,-1832.5 637,-1851.5\"/>\n<text text-anchor=\"middle\" x=\"556.5\" y=\"-1839.5\" font-family=\"monospace\" font-size=\"10.00\" fill=\"#000000\">NativeBatchNormBackward0</text>\n</g>\n<!-- 140144524531600&#45;&gt;140144524532688 -->\n<g id=\"edge143\" class=\"edge\">\n<title>140144524531600&#45;&gt;140144524532688</title>\n<path fill=\"none\" stroke=\"#000000\" d=\"M567.3378,-1832.2136C608.4235,-1795.1139 754.8554,-1662.8881 806.3946,-1616.3489\"/>\n<polygon fill=\"#000000\" stroke=\"#000000\" points=\"808.7446,-1618.9426 813.8209,-1609.6431 804.0533,-1613.7473 808.7446,-1618.9426\"/>\n</g>\n<!-- 140144524648528&#45;&gt;140144524531600 -->\n<g id=\"edge144\" class=\"edge\">\n<title>140144524648528&#45;&gt;140144524531600</title>\n<path fill=\"none\" stroke=\"#000000\" d=\"M621.1286,-1892.7796C609.2293,-1883.4301 591.0248,-1869.1266 576.9655,-1858.08\"/>\n<polygon fill=\"#000000\" stroke=\"#000000\" points=\"578.8663,-1855.1224 568.8407,-1851.6962 574.5415,-1860.6266 578.8663,-1855.1224\"/>\n</g>\n<!-- 140144524649744 -->\n<g id=\"node143\" class=\"node\">\n<title>140144524649744</title>\n<polygon fill=\"#d3d3d3\" stroke=\"#000000\" points=\"684,-1972.5 583,-1972.5 583,-1953.5 684,-1953.5 684,-1972.5\"/>\n<text text-anchor=\"middle\" x=\"633.5\" y=\"-1960.5\" font-family=\"monospace\" font-size=\"10.00\" fill=\"#000000\">AccumulateGrad</text>\n</g>\n<!-- 140144524649744&#45;&gt;140144524648528 -->\n<g id=\"edge146\" class=\"edge\">\n<title>140144524649744&#45;&gt;140144524648528</title>\n<path fill=\"none\" stroke=\"#000000\" d=\"M633.5,-1953.2796C633.5,-1945.0376 633.5,-1932.9457 633.5,-1922.629\"/>\n<polygon fill=\"#000000\" stroke=\"#000000\" points=\"637.0001,-1922.3972 633.5,-1912.3972 630.0001,-1922.3973 637.0001,-1922.3972\"/>\n</g>\n<!-- 140144532595056 -->\n<g id=\"node144\" class=\"node\">\n<title>140144532595056</title>\n<polygon fill=\"#add8e6\" stroke=\"#000000\" points=\"687,-2044 502,-2044 502,-2014 687,-2014 687,-2044\"/>\n<text text-anchor=\"middle\" x=\"594.5\" y=\"-2032\" font-family=\"monospace\" font-size=\"10.00\" fill=\"#000000\">layer3.0.downsample.0.weight</text>\n<text text-anchor=\"middle\" x=\"594.5\" y=\"-2021\" font-family=\"monospace\" font-size=\"10.00\" fill=\"#000000\"> (256, 128, 1, 1)</text>\n</g>\n<!-- 140144532595056&#45;&gt;140144524649744 -->\n<g id=\"edge147\" class=\"edge\">\n<title>140144532595056&#45;&gt;140144524649744</title>\n<path fill=\"none\" stroke=\"#000000\" d=\"M603.5454,-2013.6924C609.2068,-2004.1116 616.5373,-1991.7061 622.5295,-1981.5655\"/>\n<polygon fill=\"#000000\" stroke=\"#000000\" points=\"625.6923,-1983.0929 627.7664,-1972.7031 619.6658,-1979.5318 625.6923,-1983.0929\"/>\n</g>\n<!-- 140144524650512 -->\n<g id=\"node145\" class=\"node\">\n<title>140144524650512</title>\n<polygon fill=\"#d3d3d3\" stroke=\"#000000\" points=\"371,-1912 270,-1912 270,-1893 371,-1893 371,-1912\"/>\n<text text-anchor=\"middle\" x=\"320.5\" y=\"-1900\" font-family=\"monospace\" font-size=\"10.00\" fill=\"#000000\">AccumulateGrad</text>\n</g>\n<!-- 140144524650512&#45;&gt;140144524531600 -->\n<g id=\"edge148\" class=\"edge\">\n<title>140144524650512&#45;&gt;140144524531600</title>\n<path fill=\"none\" stroke=\"#000000\" d=\"M357.6346,-1892.9803C398.6656,-1882.4618 464.8308,-1865.4999 509.4571,-1854.0597\"/>\n<polygon fill=\"#000000\" stroke=\"#000000\" points=\"510.375,-1857.4377 519.1926,-1851.564 508.6367,-1850.6569 510.375,-1857.4377\"/>\n</g>\n<!-- 140144532594960 -->\n<g id=\"node146\" class=\"node\">\n<title>140144532594960</title>\n<polygon fill=\"#add8e6\" stroke=\"#000000\" points=\"374,-1978 189,-1978 189,-1948 374,-1948 374,-1978\"/>\n<text text-anchor=\"middle\" x=\"281.5\" y=\"-1966\" font-family=\"monospace\" font-size=\"10.00\" fill=\"#000000\">layer3.0.downsample.1.weight</text>\n<text text-anchor=\"middle\" x=\"281.5\" y=\"-1955\" font-family=\"monospace\" font-size=\"10.00\" fill=\"#000000\"> (256)</text>\n</g>\n<!-- 140144532594960&#45;&gt;140144524650512 -->\n<g id=\"edge149\" class=\"edge\">\n<title>140144532594960&#45;&gt;140144524650512</title>\n<path fill=\"none\" stroke=\"#000000\" d=\"M291.3413,-1947.7333C296.6442,-1939.5071 303.2219,-1929.3031 308.7872,-1920.6699\"/>\n<polygon fill=\"#000000\" stroke=\"#000000\" points=\"311.8439,-1922.3878 314.3203,-1912.0864 305.9604,-1918.5951 311.8439,-1922.3878\"/>\n</g>\n<!-- 140144524649168 -->\n<g id=\"node147\" class=\"node\">\n<title>140144524649168</title>\n<polygon fill=\"#d3d3d3\" stroke=\"#000000\" points=\"529,-1912 428,-1912 428,-1893 529,-1893 529,-1912\"/>\n<text text-anchor=\"middle\" x=\"478.5\" y=\"-1900\" font-family=\"monospace\" font-size=\"10.00\" fill=\"#000000\">AccumulateGrad</text>\n</g>\n<!-- 140144524649168&#45;&gt;140144524531600 -->\n<g id=\"edge150\" class=\"edge\">\n<title>140144524649168&#45;&gt;140144524531600</title>\n<path fill=\"none\" stroke=\"#000000\" d=\"M491.032,-1892.7796C503.0859,-1883.4301 521.5268,-1869.1266 535.7687,-1858.08\"/>\n<polygon fill=\"#000000\" stroke=\"#000000\" points=\"538.2425,-1860.5908 543.9991,-1851.6962 533.9522,-1855.0596 538.2425,-1860.5908\"/>\n</g>\n<!-- 140144532594768 -->\n<g id=\"node148\" class=\"node\">\n<title>140144532594768</title>\n<polygon fill=\"#add8e6\" stroke=\"#000000\" points=\"565,-1978 392,-1978 392,-1948 565,-1948 565,-1978\"/>\n<text text-anchor=\"middle\" x=\"478.5\" y=\"-1966\" font-family=\"monospace\" font-size=\"10.00\" fill=\"#000000\">layer3.0.downsample.1.bias</text>\n<text text-anchor=\"middle\" x=\"478.5\" y=\"-1955\" font-family=\"monospace\" font-size=\"10.00\" fill=\"#000000\"> (256)</text>\n</g>\n<!-- 140144532594768&#45;&gt;140144524649168 -->\n<g id=\"edge151\" class=\"edge\">\n<title>140144532594768&#45;&gt;140144524649168</title>\n<path fill=\"none\" stroke=\"#000000\" d=\"M478.5,-1947.7333C478.5,-1940.0322 478.5,-1930.5977 478.5,-1922.3414\"/>\n<polygon fill=\"#000000\" stroke=\"#000000\" points=\"482.0001,-1922.0864 478.5,-1912.0864 475.0001,-1922.0864 482.0001,-1922.0864\"/>\n</g>\n<!-- 140144524532560 -->\n<g id=\"node149\" class=\"node\">\n<title>140144524532560</title>\n<polygon fill=\"#d3d3d3\" stroke=\"#000000\" points=\"1004,-1543.5 903,-1543.5 903,-1524.5 1004,-1524.5 1004,-1543.5\"/>\n<text text-anchor=\"middle\" x=\"953.5\" y=\"-1531.5\" font-family=\"monospace\" font-size=\"10.00\" fill=\"#000000\">AccumulateGrad</text>\n</g>\n<!-- 140144524532560&#45;&gt;140144524532496 -->\n<g id=\"edge152\" class=\"edge\">\n<title>140144524532560&#45;&gt;140144524532496</title>\n<path fill=\"none\" stroke=\"#000000\" d=\"M952.6967,-1524.2796C952.0155,-1516.0376 951.0162,-1503.9457 950.1636,-1493.629\"/>\n<polygon fill=\"#000000\" stroke=\"#000000\" points=\"953.6298,-1493.075 949.318,-1483.3972 946.6536,-1493.6516 953.6298,-1493.075\"/>\n</g>\n<!-- 140144532597072 -->\n<g id=\"node150\" class=\"node\">\n<title>140144532597072</title>\n<polygon fill=\"#add8e6\" stroke=\"#000000\" points=\"1030,-1615 887,-1615 887,-1585 1030,-1585 1030,-1615\"/>\n<text text-anchor=\"middle\" x=\"958.5\" y=\"-1603\" font-family=\"monospace\" font-size=\"10.00\" fill=\"#000000\">layer3.1.conv1.weight</text>\n<text text-anchor=\"middle\" x=\"958.5\" y=\"-1592\" font-family=\"monospace\" font-size=\"10.00\" fill=\"#000000\"> (256, 256, 3, 3)</text>\n</g>\n<!-- 140144532597072&#45;&gt;140144524532560 -->\n<g id=\"edge153\" class=\"edge\">\n<title>140144532597072&#45;&gt;140144524532560</title>\n<path fill=\"none\" stroke=\"#000000\" d=\"M957.3403,-1584.6924C956.6444,-1575.5067 955.7519,-1563.7245 955.0024,-1553.8312\"/>\n<polygon fill=\"#000000\" stroke=\"#000000\" points=\"958.4806,-1553.4101 954.2351,-1543.7031 951.5006,-1553.9389 958.4806,-1553.4101\"/>\n</g>\n<!-- 140144524531856 -->\n<g id=\"node151\" class=\"node\">\n<title>140144524531856</title>\n<polygon fill=\"#d3d3d3\" stroke=\"#000000\" points=\"1154,-1483 1053,-1483 1053,-1464 1154,-1464 1154,-1483\"/>\n<text text-anchor=\"middle\" x=\"1103.5\" y=\"-1471\" font-family=\"monospace\" font-size=\"10.00\" fill=\"#000000\">AccumulateGrad</text>\n</g>\n<!-- 140144524531856&#45;&gt;140144524532048 -->\n<g id=\"edge154\" class=\"edge\">\n<title>140144524531856&#45;&gt;140144524532048</title>\n<path fill=\"none\" stroke=\"#000000\" d=\"M1090.968,-1463.7796C1078.9141,-1454.4301 1060.4732,-1440.1266 1046.2313,-1429.08\"/>\n<polygon fill=\"#000000\" stroke=\"#000000\" points=\"1048.0478,-1426.0596 1038.0009,-1422.6962 1043.7575,-1431.5908 1048.0478,-1426.0596\"/>\n</g>\n<!-- 140144532596976 -->\n<g id=\"node152\" class=\"node\">\n<title>140144532596976</title>\n<polygon fill=\"#add8e6\" stroke=\"#000000\" points=\"1161,-1549 1030,-1549 1030,-1519 1161,-1519 1161,-1549\"/>\n<text text-anchor=\"middle\" x=\"1095.5\" y=\"-1537\" font-family=\"monospace\" font-size=\"10.00\" fill=\"#000000\">layer3.1.bn1.weight</text>\n<text text-anchor=\"middle\" x=\"1095.5\" y=\"-1526\" font-family=\"monospace\" font-size=\"10.00\" fill=\"#000000\"> (256)</text>\n</g>\n<!-- 140144532596976&#45;&gt;140144524531856 -->\n<g id=\"edge155\" class=\"edge\">\n<title>140144532596976&#45;&gt;140144524531856</title>\n<path fill=\"none\" stroke=\"#000000\" d=\"M1097.5187,-1518.7333C1098.5486,-1510.9447 1099.813,-1501.3831 1100.9135,-1493.0604\"/>\n<polygon fill=\"#000000\" stroke=\"#000000\" points=\"1104.3912,-1493.459 1102.2324,-1483.0864 1097.4516,-1492.5413 1104.3912,-1493.459\"/>\n</g>\n<!-- 140144524531664 -->\n<g id=\"node153\" class=\"node\">\n<title>140144524531664</title>\n<polygon fill=\"#d3d3d3\" stroke=\"#000000\" points=\"1275,-1483 1174,-1483 1174,-1464 1275,-1464 1275,-1483\"/>\n<text text-anchor=\"middle\" x=\"1224.5\" y=\"-1471\" font-family=\"monospace\" font-size=\"10.00\" fill=\"#000000\">AccumulateGrad</text>\n</g>\n<!-- 140144524531664&#45;&gt;140144524532048 -->\n<g id=\"edge156\" class=\"edge\">\n<title>140144524531664&#45;&gt;140144524532048</title>\n<path fill=\"none\" stroke=\"#000000\" d=\"M1192.9679,-1463.9136C1158.7623,-1453.5144 1104.0286,-1436.8743 1066.5049,-1425.4663\"/>\n<polygon fill=\"#000000\" stroke=\"#000000\" points=\"1067.4703,-1422.1017 1056.8846,-1422.5416 1065.4341,-1428.799 1067.4703,-1422.1017\"/>\n</g>\n<!-- 140144532596784 -->\n<g id=\"node154\" class=\"node\">\n<title>140144532596784</title>\n<polygon fill=\"#add8e6\" stroke=\"#000000\" points=\"1298,-1549 1179,-1549 1179,-1519 1298,-1519 1298,-1549\"/>\n<text text-anchor=\"middle\" x=\"1238.5\" y=\"-1537\" font-family=\"monospace\" font-size=\"10.00\" fill=\"#000000\">layer3.1.bn1.bias</text>\n<text text-anchor=\"middle\" x=\"1238.5\" y=\"-1526\" font-family=\"monospace\" font-size=\"10.00\" fill=\"#000000\"> (256)</text>\n</g>\n<!-- 140144532596784&#45;&gt;140144524531664 -->\n<g id=\"edge157\" class=\"edge\">\n<title>140144532596784&#45;&gt;140144524531664</title>\n<path fill=\"none\" stroke=\"#000000\" d=\"M1234.9672,-1518.7333C1233.1649,-1510.9447 1230.9523,-1501.3831 1229.0264,-1493.0604\"/>\n<polygon fill=\"#000000\" stroke=\"#000000\" points=\"1232.3828,-1492.0399 1226.7183,-1483.0864 1225.563,-1493.6181 1232.3828,-1492.0399\"/>\n</g>\n<!-- 140144524531792 -->\n<g id=\"node155\" class=\"node\">\n<title>140144524531792</title>\n<polygon fill=\"#d3d3d3\" stroke=\"#000000\" points=\"1192,-1356.5 1091,-1356.5 1091,-1337.5 1192,-1337.5 1192,-1356.5\"/>\n<text text-anchor=\"middle\" x=\"1141.5\" y=\"-1344.5\" font-family=\"monospace\" font-size=\"10.00\" fill=\"#000000\">AccumulateGrad</text>\n</g>\n<!-- 140144524531792&#45;&gt;140144524531152 -->\n<g id=\"edge158\" class=\"edge\">\n<title>140144524531792&#45;&gt;140144524531152</title>\n<path fill=\"none\" stroke=\"#000000\" d=\"M1138.126,-1337.2796C1135.2043,-1328.8623 1130.8887,-1316.4295 1127.2592,-1305.973\"/>\n<polygon fill=\"#000000\" stroke=\"#000000\" points=\"1130.5211,-1304.6966 1123.9354,-1296.3972 1123.9081,-1306.992 1130.5211,-1304.6966\"/>\n</g>\n<!-- 140144532597744 -->\n<g id=\"node156\" class=\"node\">\n<title>140144532597744</title>\n<polygon fill=\"#add8e6\" stroke=\"#000000\" points=\"1267,-1428 1124,-1428 1124,-1398 1267,-1398 1267,-1428\"/>\n<text text-anchor=\"middle\" x=\"1195.5\" y=\"-1416\" font-family=\"monospace\" font-size=\"10.00\" fill=\"#000000\">layer3.1.conv2.weight</text>\n<text text-anchor=\"middle\" x=\"1195.5\" y=\"-1405\" font-family=\"monospace\" font-size=\"10.00\" fill=\"#000000\"> (256, 256, 3, 3)</text>\n</g>\n<!-- 140144532597744&#45;&gt;140144524531792 -->\n<g id=\"edge159\" class=\"edge\">\n<title>140144532597744&#45;&gt;140144524531792</title>\n<path fill=\"none\" stroke=\"#000000\" d=\"M1182.9756,-1397.6924C1174.8944,-1387.8153 1164.3568,-1374.9361 1155.9256,-1364.6312\"/>\n<polygon fill=\"#000000\" stroke=\"#000000\" points=\"1158.4801,-1362.2263 1149.4389,-1356.7031 1153.0624,-1366.659 1158.4801,-1362.2263\"/>\n</g>\n<!-- 140144524532112 -->\n<g id=\"node157\" class=\"node\">\n<title>140144524532112</title>\n<polygon fill=\"#d3d3d3\" stroke=\"#000000\" points=\"1326,-1296 1225,-1296 1225,-1277 1326,-1277 1326,-1296\"/>\n<text text-anchor=\"middle\" x=\"1275.5\" y=\"-1284\" font-family=\"monospace\" font-size=\"10.00\" fill=\"#000000\">AccumulateGrad</text>\n</g>\n<!-- 140144524532112&#45;&gt;140144524531024 -->\n<g id=\"edge160\" class=\"edge\">\n<title>140144524532112&#45;&gt;140144524531024</title>\n<path fill=\"none\" stroke=\"#000000\" d=\"M1261.9134,-1276.9197C1250.2411,-1268.6893 1233.1895,-1256.6657 1219.5622,-1247.0567\"/>\n<polygon fill=\"#000000\" stroke=\"#000000\" points=\"1221.3821,-1244.0574 1211.1926,-1241.155 1217.3482,-1249.7782 1221.3821,-1244.0574\"/>\n</g>\n<!-- 140144532597648 -->\n<g id=\"node158\" class=\"node\">\n<title>140144532597648</title>\n<polygon fill=\"#add8e6\" stroke=\"#000000\" points=\"1341,-1362 1210,-1362 1210,-1332 1341,-1332 1341,-1362\"/>\n<text text-anchor=\"middle\" x=\"1275.5\" y=\"-1350\" font-family=\"monospace\" font-size=\"10.00\" fill=\"#000000\">layer3.1.bn2.weight</text>\n<text text-anchor=\"middle\" x=\"1275.5\" y=\"-1339\" font-family=\"monospace\" font-size=\"10.00\" fill=\"#000000\"> (256)</text>\n</g>\n<!-- 140144532597648&#45;&gt;140144524532112 -->\n<g id=\"edge161\" class=\"edge\">\n<title>140144532597648&#45;&gt;140144524532112</title>\n<path fill=\"none\" stroke=\"#000000\" d=\"M1275.5,-1331.7333C1275.5,-1324.0322 1275.5,-1314.5977 1275.5,-1306.3414\"/>\n<polygon fill=\"#000000\" stroke=\"#000000\" points=\"1279.0001,-1306.0864 1275.5,-1296.0864 1272.0001,-1306.0864 1279.0001,-1306.0864\"/>\n</g>\n<!-- 140144524531472 -->\n<g id=\"node159\" class=\"node\">\n<title>140144524531472</title>\n<polygon fill=\"#d3d3d3\" stroke=\"#000000\" points=\"1457,-1296 1356,-1296 1356,-1277 1457,-1277 1457,-1296\"/>\n<text text-anchor=\"middle\" x=\"1406.5\" y=\"-1284\" font-family=\"monospace\" font-size=\"10.00\" fill=\"#000000\">AccumulateGrad</text>\n</g>\n<!-- 140144524531472&#45;&gt;140144524531024 -->\n<g id=\"edge162\" class=\"edge\">\n<title>140144524531472&#45;&gt;140144524531024</title>\n<path fill=\"none\" stroke=\"#000000\" d=\"M1370.095,-1276.9197C1334.9885,-1267.6812 1281.7213,-1253.6635 1243.6549,-1243.646\"/>\n<polygon fill=\"#000000\" stroke=\"#000000\" points=\"1244.3994,-1240.2228 1233.8379,-1241.0626 1242.6179,-1246.9924 1244.3994,-1240.2228\"/>\n</g>\n<!-- 140144532597456 -->\n<g id=\"node160\" class=\"node\">\n<title>140144532597456</title>\n<polygon fill=\"#add8e6\" stroke=\"#000000\" points=\"1478,-1362 1359,-1362 1359,-1332 1478,-1332 1478,-1362\"/>\n<text text-anchor=\"middle\" x=\"1418.5\" y=\"-1350\" font-family=\"monospace\" font-size=\"10.00\" fill=\"#000000\">layer3.1.bn2.bias</text>\n<text text-anchor=\"middle\" x=\"1418.5\" y=\"-1339\" font-family=\"monospace\" font-size=\"10.00\" fill=\"#000000\"> (256)</text>\n</g>\n<!-- 140144532597456&#45;&gt;140144524531472 -->\n<g id=\"edge163\" class=\"edge\">\n<title>140144532597456&#45;&gt;140144524531472</title>\n<path fill=\"none\" stroke=\"#000000\" d=\"M1415.4719,-1331.7333C1413.927,-1323.9447 1412.0305,-1314.3831 1410.3797,-1306.0604\"/>\n<polygon fill=\"#000000\" stroke=\"#000000\" points=\"1413.7802,-1305.2143 1408.4014,-1296.0864 1406.914,-1306.5763 1413.7802,-1305.2143\"/>\n</g>\n<!-- 140144578438288 -->\n<g id=\"node161\" class=\"node\">\n<title>140144578438288</title>\n<polygon fill=\"#d3d3d3\" stroke=\"#000000\" points=\"1105,-1114.5 1004,-1114.5 1004,-1095.5 1105,-1095.5 1105,-1114.5\"/>\n<text text-anchor=\"middle\" x=\"1054.5\" y=\"-1102.5\" font-family=\"monospace\" font-size=\"10.00\" fill=\"#000000\">AccumulateGrad</text>\n</g>\n<!-- 140144578438288&#45;&gt;140144524672848 -->\n<g id=\"edge165\" class=\"edge\">\n<title>140144578438288&#45;&gt;140144524672848</title>\n<path fill=\"none\" stroke=\"#000000\" d=\"M1051.126,-1095.2796C1048.2043,-1086.8623 1043.8887,-1074.4295 1040.2592,-1063.973\"/>\n<polygon fill=\"#000000\" stroke=\"#000000\" points=\"1043.5211,-1062.6966 1036.9354,-1054.3972 1036.9081,-1064.992 1043.5211,-1062.6966\"/>\n</g>\n<!-- 140144532664688 -->\n<g id=\"node162\" class=\"node\">\n<title>140144532664688</title>\n<polygon fill=\"#add8e6\" stroke=\"#000000\" points=\"1144,-1186 1001,-1186 1001,-1156 1144,-1156 1144,-1186\"/>\n<text text-anchor=\"middle\" x=\"1072.5\" y=\"-1174\" font-family=\"monospace\" font-size=\"10.00\" fill=\"#000000\">layer4.0.conv1.weight</text>\n<text text-anchor=\"middle\" x=\"1072.5\" y=\"-1163\" font-family=\"monospace\" font-size=\"10.00\" fill=\"#000000\"> (512, 256, 3, 3)</text>\n</g>\n<!-- 140144532664688&#45;&gt;140144578438288 -->\n<g id=\"edge166\" class=\"edge\">\n<title>140144532664688&#45;&gt;140144578438288</title>\n<path fill=\"none\" stroke=\"#000000\" d=\"M1068.3252,-1155.6924C1065.7931,-1146.408 1062.5375,-1134.4708 1059.8216,-1124.5127\"/>\n<polygon fill=\"#000000\" stroke=\"#000000\" points=\"1063.1542,-1123.4298 1057.1463,-1114.7031 1056.4009,-1125.2716 1063.1542,-1123.4298\"/>\n</g>\n<!-- 140144524672976 -->\n<g id=\"node163\" class=\"node\">\n<title>140144524672976</title>\n<polygon fill=\"#d3d3d3\" stroke=\"#000000\" points=\"1239,-1054 1138,-1054 1138,-1035 1239,-1035 1239,-1054\"/>\n<text text-anchor=\"middle\" x=\"1188.5\" y=\"-1042\" font-family=\"monospace\" font-size=\"10.00\" fill=\"#000000\">AccumulateGrad</text>\n</g>\n<!-- 140144524672976&#45;&gt;140144524672528 -->\n<g id=\"edge167\" class=\"edge\">\n<title>140144524672976&#45;&gt;140144524672528</title>\n<path fill=\"none\" stroke=\"#000000\" d=\"M1175.968,-1034.7796C1163.9141,-1025.4301 1145.4732,-1011.1266 1131.2313,-1000.08\"/>\n<polygon fill=\"#000000\" stroke=\"#000000\" points=\"1133.0478,-997.0596 1123.0009,-993.6962 1128.7575,-1002.5908 1133.0478,-997.0596\"/>\n</g>\n<!-- 140144532664400 -->\n<g id=\"node164\" class=\"node\">\n<title>140144532664400</title>\n<polygon fill=\"#add8e6\" stroke=\"#000000\" points=\"1254,-1120 1123,-1120 1123,-1090 1254,-1090 1254,-1120\"/>\n<text text-anchor=\"middle\" x=\"1188.5\" y=\"-1108\" font-family=\"monospace\" font-size=\"10.00\" fill=\"#000000\">layer4.0.bn1.weight</text>\n<text text-anchor=\"middle\" x=\"1188.5\" y=\"-1097\" font-family=\"monospace\" font-size=\"10.00\" fill=\"#000000\"> (512)</text>\n</g>\n<!-- 140144532664400&#45;&gt;140144524672976 -->\n<g id=\"edge168\" class=\"edge\">\n<title>140144532664400&#45;&gt;140144524672976</title>\n<path fill=\"none\" stroke=\"#000000\" d=\"M1188.5,-1089.7333C1188.5,-1082.0322 1188.5,-1072.5977 1188.5,-1064.3414\"/>\n<polygon fill=\"#000000\" stroke=\"#000000\" points=\"1192.0001,-1064.0864 1188.5,-1054.0864 1185.0001,-1064.0864 1192.0001,-1064.0864\"/>\n</g>\n<!-- 140144524672720 -->\n<g id=\"node165\" class=\"node\">\n<title>140144524672720</title>\n<polygon fill=\"#d3d3d3\" stroke=\"#000000\" points=\"1370,-1054 1269,-1054 1269,-1035 1370,-1035 1370,-1054\"/>\n<text text-anchor=\"middle\" x=\"1319.5\" y=\"-1042\" font-family=\"monospace\" font-size=\"10.00\" fill=\"#000000\">AccumulateGrad</text>\n</g>\n<!-- 140144524672720&#45;&gt;140144524672528 -->\n<g id=\"edge169\" class=\"edge\">\n<title>140144524672720&#45;&gt;140144524672528</title>\n<path fill=\"none\" stroke=\"#000000\" d=\"M1286.3833,-1034.9136C1250.3824,-1024.4923 1192.73,-1007.8034 1153.3142,-996.3936\"/>\n<polygon fill=\"#000000\" stroke=\"#000000\" points=\"1154.0406,-992.9602 1143.4617,-993.5416 1152.0942,-999.6842 1154.0406,-992.9602\"/>\n</g>\n<!-- 140144532664592 -->\n<g id=\"node166\" class=\"node\">\n<title>140144532664592</title>\n<polygon fill=\"#add8e6\" stroke=\"#000000\" points=\"1391,-1120 1272,-1120 1272,-1090 1391,-1090 1391,-1120\"/>\n<text text-anchor=\"middle\" x=\"1331.5\" y=\"-1108\" font-family=\"monospace\" font-size=\"10.00\" fill=\"#000000\">layer4.0.bn1.bias</text>\n<text text-anchor=\"middle\" x=\"1331.5\" y=\"-1097\" font-family=\"monospace\" font-size=\"10.00\" fill=\"#000000\"> (512)</text>\n</g>\n<!-- 140144532664592&#45;&gt;140144524672720 -->\n<g id=\"edge170\" class=\"edge\">\n<title>140144532664592&#45;&gt;140144524672720</title>\n<path fill=\"none\" stroke=\"#000000\" d=\"M1328.4719,-1089.7333C1326.927,-1081.9447 1325.0305,-1072.3831 1323.3797,-1064.0604\"/>\n<polygon fill=\"#000000\" stroke=\"#000000\" points=\"1326.7802,-1063.2143 1321.4014,-1054.0864 1319.914,-1064.5763 1326.7802,-1063.2143\"/>\n</g>\n<!-- 140144524672656 -->\n<g id=\"node167\" class=\"node\">\n<title>140144524672656</title>\n<polygon fill=\"#d3d3d3\" stroke=\"#000000\" points=\"1277,-927.5 1176,-927.5 1176,-908.5 1277,-908.5 1277,-927.5\"/>\n<text text-anchor=\"middle\" x=\"1226.5\" y=\"-915.5\" font-family=\"monospace\" font-size=\"10.00\" fill=\"#000000\">AccumulateGrad</text>\n</g>\n<!-- 140144524672656&#45;&gt;140144524671824 -->\n<g id=\"edge171\" class=\"edge\">\n<title>140144524672656&#45;&gt;140144524671824</title>\n<path fill=\"none\" stroke=\"#000000\" d=\"M1223.126,-908.2796C1220.2043,-899.8623 1215.8887,-887.4295 1212.2592,-876.973\"/>\n<polygon fill=\"#000000\" stroke=\"#000000\" points=\"1215.5211,-875.6966 1208.9354,-867.3972 1208.9081,-877.992 1215.5211,-875.6966\"/>\n</g>\n<!-- 140144532665264 -->\n<g id=\"node168\" class=\"node\">\n<title>140144532665264</title>\n<polygon fill=\"#add8e6\" stroke=\"#000000\" points=\"1352,-999 1209,-999 1209,-969 1352,-969 1352,-999\"/>\n<text text-anchor=\"middle\" x=\"1280.5\" y=\"-987\" font-family=\"monospace\" font-size=\"10.00\" fill=\"#000000\">layer4.0.conv2.weight</text>\n<text text-anchor=\"middle\" x=\"1280.5\" y=\"-976\" font-family=\"monospace\" font-size=\"10.00\" fill=\"#000000\"> (512, 512, 3, 3)</text>\n</g>\n<!-- 140144532665264&#45;&gt;140144524672656 -->\n<g id=\"edge172\" class=\"edge\">\n<title>140144532665264&#45;&gt;140144524672656</title>\n<path fill=\"none\" stroke=\"#000000\" d=\"M1267.9756,-968.6924C1259.8944,-958.8153 1249.3568,-945.9361 1240.9256,-935.6312\"/>\n<polygon fill=\"#000000\" stroke=\"#000000\" points=\"1243.4801,-933.2263 1234.4389,-927.7031 1238.0624,-937.659 1243.4801,-933.2263\"/>\n</g>\n<!-- 140144524672400 -->\n<g id=\"node169\" class=\"node\">\n<title>140144524672400</title>\n<polygon fill=\"#d3d3d3\" stroke=\"#000000\" points=\"1411,-867 1310,-867 1310,-848 1411,-848 1411,-867\"/>\n<text text-anchor=\"middle\" x=\"1360.5\" y=\"-855\" font-family=\"monospace\" font-size=\"10.00\" fill=\"#000000\">AccumulateGrad</text>\n</g>\n<!-- 140144524672400&#45;&gt;140144524672080 -->\n<g id=\"edge173\" class=\"edge\">\n<title>140144524672400&#45;&gt;140144524672080</title>\n<path fill=\"none\" stroke=\"#000000\" d=\"M1346.9134,-847.9197C1335.2411,-839.6893 1318.1895,-827.6657 1304.5622,-818.0567\"/>\n<polygon fill=\"#000000\" stroke=\"#000000\" points=\"1306.3821,-815.0574 1296.1926,-812.155 1302.3482,-820.7782 1306.3821,-815.0574\"/>\n</g>\n<!-- 140144532665168 -->\n<g id=\"node170\" class=\"node\">\n<title>140144532665168</title>\n<polygon fill=\"#add8e6\" stroke=\"#000000\" points=\"1426,-933 1295,-933 1295,-903 1426,-903 1426,-933\"/>\n<text text-anchor=\"middle\" x=\"1360.5\" y=\"-921\" font-family=\"monospace\" font-size=\"10.00\" fill=\"#000000\">layer4.0.bn2.weight</text>\n<text text-anchor=\"middle\" x=\"1360.5\" y=\"-910\" font-family=\"monospace\" font-size=\"10.00\" fill=\"#000000\"> (512)</text>\n</g>\n<!-- 140144532665168&#45;&gt;140144524672400 -->\n<g id=\"edge174\" class=\"edge\">\n<title>140144532665168&#45;&gt;140144524672400</title>\n<path fill=\"none\" stroke=\"#000000\" d=\"M1360.5,-902.7333C1360.5,-895.0322 1360.5,-885.5977 1360.5,-877.3414\"/>\n<polygon fill=\"#000000\" stroke=\"#000000\" points=\"1364.0001,-877.0864 1360.5,-867.0864 1357.0001,-877.0864 1364.0001,-877.0864\"/>\n</g>\n<!-- 140144524672336 -->\n<g id=\"node171\" class=\"node\">\n<title>140144524672336</title>\n<polygon fill=\"#d3d3d3\" stroke=\"#000000\" points=\"1542,-867 1441,-867 1441,-848 1542,-848 1542,-867\"/>\n<text text-anchor=\"middle\" x=\"1491.5\" y=\"-855\" font-family=\"monospace\" font-size=\"10.00\" fill=\"#000000\">AccumulateGrad</text>\n</g>\n<!-- 140144524672336&#45;&gt;140144524672080 -->\n<g id=\"edge175\" class=\"edge\">\n<title>140144524672336&#45;&gt;140144524672080</title>\n<path fill=\"none\" stroke=\"#000000\" d=\"M1455.095,-847.9197C1419.9885,-838.6812 1366.7213,-824.6635 1328.6549,-814.646\"/>\n<polygon fill=\"#000000\" stroke=\"#000000\" points=\"1329.3994,-811.2228 1318.8379,-812.0626 1327.6179,-817.9924 1329.3994,-811.2228\"/>\n</g>\n<!-- 140144532664976 -->\n<g id=\"node172\" class=\"node\">\n<title>140144532664976</title>\n<polygon fill=\"#add8e6\" stroke=\"#000000\" points=\"1563,-933 1444,-933 1444,-903 1563,-903 1563,-933\"/>\n<text text-anchor=\"middle\" x=\"1503.5\" y=\"-921\" font-family=\"monospace\" font-size=\"10.00\" fill=\"#000000\">layer4.0.bn2.bias</text>\n<text text-anchor=\"middle\" x=\"1503.5\" y=\"-910\" font-family=\"monospace\" font-size=\"10.00\" fill=\"#000000\"> (512)</text>\n</g>\n<!-- 140144532664976&#45;&gt;140144524672336 -->\n<g id=\"edge176\" class=\"edge\">\n<title>140144532664976&#45;&gt;140144524672336</title>\n<path fill=\"none\" stroke=\"#000000\" d=\"M1500.4719,-902.7333C1498.927,-894.9447 1497.0305,-885.3831 1495.3797,-877.0604\"/>\n<polygon fill=\"#000000\" stroke=\"#000000\" points=\"1498.7802,-876.2143 1493.4014,-867.0864 1491.914,-877.5763 1498.7802,-876.2143\"/>\n</g>\n<!-- 140144524672272 -->\n<g id=\"node173\" class=\"node\">\n<title>140144524672272</title>\n<polygon fill=\"#d3d3d3\" stroke=\"#000000\" points=\"826,-993.5 665,-993.5 665,-974.5 826,-974.5 826,-993.5\"/>\n<text text-anchor=\"middle\" x=\"745.5\" y=\"-981.5\" font-family=\"monospace\" font-size=\"10.00\" fill=\"#000000\">NativeBatchNormBackward0</text>\n</g>\n<!-- 140144524672272&#45;&gt;140144524671888 -->\n<g id=\"edge177\" class=\"edge\">\n<title>140144524672272&#45;&gt;140144524671888</title>\n<path fill=\"none\" stroke=\"#000000\" d=\"M756.3378,-974.2136C797.4235,-937.1139 943.8554,-804.8881 995.3946,-758.3489\"/>\n<polygon fill=\"#000000\" stroke=\"#000000\" points=\"997.7446,-760.9426 1002.8209,-751.6431 993.0533,-755.7473 997.7446,-760.9426\"/>\n</g>\n<!-- 140144524672016&#45;&gt;140144524672272 -->\n<g id=\"edge178\" class=\"edge\">\n<title>140144524672016&#45;&gt;140144524672272</title>\n<path fill=\"none\" stroke=\"#000000\" d=\"M810.1286,-1034.7796C798.2293,-1025.4301 780.0248,-1011.1266 765.9655,-1000.08\"/>\n<polygon fill=\"#000000\" stroke=\"#000000\" points=\"767.8663,-997.1224 757.8407,-993.6962 763.5415,-1002.6266 767.8663,-997.1224\"/>\n</g>\n<!-- 140144524532304 -->\n<g id=\"node175\" class=\"node\">\n<title>140144524532304</title>\n<polygon fill=\"#d3d3d3\" stroke=\"#000000\" points=\"873,-1114.5 772,-1114.5 772,-1095.5 873,-1095.5 873,-1114.5\"/>\n<text text-anchor=\"middle\" x=\"822.5\" y=\"-1102.5\" font-family=\"monospace\" font-size=\"10.00\" fill=\"#000000\">AccumulateGrad</text>\n</g>\n<!-- 140144524532304&#45;&gt;140144524672016 -->\n<g id=\"edge180\" class=\"edge\">\n<title>140144524532304&#45;&gt;140144524672016</title>\n<path fill=\"none\" stroke=\"#000000\" d=\"M822.5,-1095.2796C822.5,-1087.0376 822.5,-1074.9457 822.5,-1064.629\"/>\n<polygon fill=\"#000000\" stroke=\"#000000\" points=\"826.0001,-1064.3972 822.5,-1054.3972 819.0001,-1064.3973 826.0001,-1064.3972\"/>\n</g>\n<!-- 140144532598416 -->\n<g id=\"node176\" class=\"node\">\n<title>140144532598416</title>\n<polygon fill=\"#add8e6\" stroke=\"#000000\" points=\"876,-1186 691,-1186 691,-1156 876,-1156 876,-1186\"/>\n<text text-anchor=\"middle\" x=\"783.5\" y=\"-1174\" font-family=\"monospace\" font-size=\"10.00\" fill=\"#000000\">layer4.0.downsample.0.weight</text>\n<text text-anchor=\"middle\" x=\"783.5\" y=\"-1163\" font-family=\"monospace\" font-size=\"10.00\" fill=\"#000000\"> (512, 256, 1, 1)</text>\n</g>\n<!-- 140144532598416&#45;&gt;140144524532304 -->\n<g id=\"edge181\" class=\"edge\">\n<title>140144532598416&#45;&gt;140144524532304</title>\n<path fill=\"none\" stroke=\"#000000\" d=\"M792.5454,-1155.6924C798.2068,-1146.1116 805.5373,-1133.7061 811.5295,-1123.5655\"/>\n<polygon fill=\"#000000\" stroke=\"#000000\" points=\"814.6923,-1125.0929 816.7664,-1114.7031 808.6658,-1121.5318 814.6923,-1125.0929\"/>\n</g>\n<!-- 140144524672784 -->\n<g id=\"node177\" class=\"node\">\n<title>140144524672784</title>\n<polygon fill=\"#d3d3d3\" stroke=\"#000000\" points=\"560,-1054 459,-1054 459,-1035 560,-1035 560,-1054\"/>\n<text text-anchor=\"middle\" x=\"509.5\" y=\"-1042\" font-family=\"monospace\" font-size=\"10.00\" fill=\"#000000\">AccumulateGrad</text>\n</g>\n<!-- 140144524672784&#45;&gt;140144524672272 -->\n<g id=\"edge182\" class=\"edge\">\n<title>140144524672784&#45;&gt;140144524672272</title>\n<path fill=\"none\" stroke=\"#000000\" d=\"M546.6346,-1034.9803C587.6656,-1024.4618 653.8308,-1007.4999 698.4571,-996.0597\"/>\n<polygon fill=\"#000000\" stroke=\"#000000\" points=\"699.375,-999.4377 708.1926,-993.564 697.6367,-992.6569 699.375,-999.4377\"/>\n</g>\n<!-- 140144532598320 -->\n<g id=\"node178\" class=\"node\">\n<title>140144532598320</title>\n<polygon fill=\"#add8e6\" stroke=\"#000000\" points=\"563,-1120 378,-1120 378,-1090 563,-1090 563,-1120\"/>\n<text text-anchor=\"middle\" x=\"470.5\" y=\"-1108\" font-family=\"monospace\" font-size=\"10.00\" fill=\"#000000\">layer4.0.downsample.1.weight</text>\n<text text-anchor=\"middle\" x=\"470.5\" y=\"-1097\" font-family=\"monospace\" font-size=\"10.00\" fill=\"#000000\"> (512)</text>\n</g>\n<!-- 140144532598320&#45;&gt;140144524672784 -->\n<g id=\"edge183\" class=\"edge\">\n<title>140144532598320&#45;&gt;140144524672784</title>\n<path fill=\"none\" stroke=\"#000000\" d=\"M480.3413,-1089.7333C485.6442,-1081.5071 492.2219,-1071.3031 497.7872,-1062.6699\"/>\n<polygon fill=\"#000000\" stroke=\"#000000\" points=\"500.8439,-1064.3878 503.3203,-1054.0864 494.9604,-1060.5951 500.8439,-1064.3878\"/>\n</g>\n<!-- 140144524672912 -->\n<g id=\"node179\" class=\"node\">\n<title>140144524672912</title>\n<polygon fill=\"#d3d3d3\" stroke=\"#000000\" points=\"718,-1054 617,-1054 617,-1035 718,-1035 718,-1054\"/>\n<text text-anchor=\"middle\" x=\"667.5\" y=\"-1042\" font-family=\"monospace\" font-size=\"10.00\" fill=\"#000000\">AccumulateGrad</text>\n</g>\n<!-- 140144524672912&#45;&gt;140144524672272 -->\n<g id=\"edge184\" class=\"edge\">\n<title>140144524672912&#45;&gt;140144524672272</title>\n<path fill=\"none\" stroke=\"#000000\" d=\"M680.032,-1034.7796C692.0859,-1025.4301 710.5268,-1011.1266 724.7687,-1000.08\"/>\n<polygon fill=\"#000000\" stroke=\"#000000\" points=\"727.2425,-1002.5908 732.9991,-993.6962 722.9522,-997.0596 727.2425,-1002.5908\"/>\n</g>\n<!-- 140144532598128 -->\n<g id=\"node180\" class=\"node\">\n<title>140144532598128</title>\n<polygon fill=\"#add8e6\" stroke=\"#000000\" points=\"754,-1120 581,-1120 581,-1090 754,-1090 754,-1120\"/>\n<text text-anchor=\"middle\" x=\"667.5\" y=\"-1108\" font-family=\"monospace\" font-size=\"10.00\" fill=\"#000000\">layer4.0.downsample.1.bias</text>\n<text text-anchor=\"middle\" x=\"667.5\" y=\"-1097\" font-family=\"monospace\" font-size=\"10.00\" fill=\"#000000\"> (512)</text>\n</g>\n<!-- 140144532598128&#45;&gt;140144524672912 -->\n<g id=\"edge185\" class=\"edge\">\n<title>140144532598128&#45;&gt;140144524672912</title>\n<path fill=\"none\" stroke=\"#000000\" d=\"M667.5,-1089.7333C667.5,-1082.0322 667.5,-1072.5977 667.5,-1064.3414\"/>\n<polygon fill=\"#000000\" stroke=\"#000000\" points=\"671.0001,-1064.0864 667.5,-1054.0864 664.0001,-1064.0864 671.0001,-1064.0864\"/>\n</g>\n<!-- 140144524671760 -->\n<g id=\"node181\" class=\"node\">\n<title>140144524671760</title>\n<polygon fill=\"#d3d3d3\" stroke=\"#000000\" points=\"1193,-685.5 1092,-685.5 1092,-666.5 1193,-666.5 1193,-685.5\"/>\n<text text-anchor=\"middle\" x=\"1142.5\" y=\"-673.5\" font-family=\"monospace\" font-size=\"10.00\" fill=\"#000000\">AccumulateGrad</text>\n</g>\n<!-- 140144524671760&#45;&gt;140144524671568 -->\n<g id=\"edge186\" class=\"edge\">\n<title>140144524671760&#45;&gt;140144524671568</title>\n<path fill=\"none\" stroke=\"#000000\" d=\"M1141.6967,-666.2796C1141.0155,-658.0376 1140.0162,-645.9457 1139.1636,-635.629\"/>\n<polygon fill=\"#000000\" stroke=\"#000000\" points=\"1142.6298,-635.075 1138.318,-625.3972 1135.6536,-635.6516 1142.6298,-635.075\"/>\n</g>\n<!-- 140144532665936 -->\n<g id=\"node182\" class=\"node\">\n<title>140144532665936</title>\n<polygon fill=\"#add8e6\" stroke=\"#000000\" points=\"1219,-757 1076,-757 1076,-727 1219,-727 1219,-757\"/>\n<text text-anchor=\"middle\" x=\"1147.5\" y=\"-745\" font-family=\"monospace\" font-size=\"10.00\" fill=\"#000000\">layer4.1.conv1.weight</text>\n<text text-anchor=\"middle\" x=\"1147.5\" y=\"-734\" font-family=\"monospace\" font-size=\"10.00\" fill=\"#000000\"> (512, 512, 3, 3)</text>\n</g>\n<!-- 140144532665936&#45;&gt;140144524671760 -->\n<g id=\"edge187\" class=\"edge\">\n<title>140144532665936&#45;&gt;140144524671760</title>\n<path fill=\"none\" stroke=\"#000000\" d=\"M1146.3403,-726.6924C1145.6444,-717.5067 1144.7519,-705.7245 1144.0024,-695.8312\"/>\n<polygon fill=\"#000000\" stroke=\"#000000\" points=\"1147.4806,-695.4101 1143.2351,-685.7031 1140.5006,-695.9389 1147.4806,-695.4101\"/>\n</g>\n<!-- 140144524671696 -->\n<g id=\"node183\" class=\"node\">\n<title>140144524671696</title>\n<polygon fill=\"#d3d3d3\" stroke=\"#000000\" points=\"1343,-625 1242,-625 1242,-606 1343,-606 1343,-625\"/>\n<text text-anchor=\"middle\" x=\"1292.5\" y=\"-613\" font-family=\"monospace\" font-size=\"10.00\" fill=\"#000000\">AccumulateGrad</text>\n</g>\n<!-- 140144524671696&#45;&gt;140144524671248 -->\n<g id=\"edge188\" class=\"edge\">\n<title>140144524671696&#45;&gt;140144524671248</title>\n<path fill=\"none\" stroke=\"#000000\" d=\"M1279.968,-605.7796C1267.9141,-596.4301 1249.4732,-582.1266 1235.2313,-571.08\"/>\n<polygon fill=\"#000000\" stroke=\"#000000\" points=\"1237.0478,-568.0596 1227.0009,-564.6962 1232.7575,-573.5908 1237.0478,-568.0596\"/>\n</g>\n<!-- 140144532665840 -->\n<g id=\"node184\" class=\"node\">\n<title>140144532665840</title>\n<polygon fill=\"#add8e6\" stroke=\"#000000\" points=\"1350,-691 1219,-691 1219,-661 1350,-661 1350,-691\"/>\n<text text-anchor=\"middle\" x=\"1284.5\" y=\"-679\" font-family=\"monospace\" font-size=\"10.00\" fill=\"#000000\">layer4.1.bn1.weight</text>\n<text text-anchor=\"middle\" x=\"1284.5\" y=\"-668\" font-family=\"monospace\" font-size=\"10.00\" fill=\"#000000\"> (512)</text>\n</g>\n<!-- 140144532665840&#45;&gt;140144524671696 -->\n<g id=\"edge189\" class=\"edge\">\n<title>140144532665840&#45;&gt;140144524671696</title>\n<path fill=\"none\" stroke=\"#000000\" d=\"M1286.5187,-660.7333C1287.5486,-652.9447 1288.813,-643.3831 1289.9135,-635.0604\"/>\n<polygon fill=\"#000000\" stroke=\"#000000\" points=\"1293.3912,-635.459 1291.2324,-625.0864 1286.4516,-634.5413 1293.3912,-635.459\"/>\n</g>\n<!-- 140144524671440 -->\n<g id=\"node185\" class=\"node\">\n<title>140144524671440</title>\n<polygon fill=\"#d3d3d3\" stroke=\"#000000\" points=\"1464,-625 1363,-625 1363,-606 1464,-606 1464,-625\"/>\n<text text-anchor=\"middle\" x=\"1413.5\" y=\"-613\" font-family=\"monospace\" font-size=\"10.00\" fill=\"#000000\">AccumulateGrad</text>\n</g>\n<!-- 140144524671440&#45;&gt;140144524671248 -->\n<g id=\"edge190\" class=\"edge\">\n<title>140144524671440&#45;&gt;140144524671248</title>\n<path fill=\"none\" stroke=\"#000000\" d=\"M1381.9679,-605.9136C1347.7623,-595.5144 1293.0286,-578.8743 1255.5049,-567.4663\"/>\n<polygon fill=\"#000000\" stroke=\"#000000\" points=\"1256.4703,-564.1017 1245.8846,-564.5416 1254.4341,-570.799 1256.4703,-564.1017\"/>\n</g>\n<!-- 140144532665648 -->\n<g id=\"node186\" class=\"node\">\n<title>140144532665648</title>\n<polygon fill=\"#add8e6\" stroke=\"#000000\" points=\"1487,-691 1368,-691 1368,-661 1487,-661 1487,-691\"/>\n<text text-anchor=\"middle\" x=\"1427.5\" y=\"-679\" font-family=\"monospace\" font-size=\"10.00\" fill=\"#000000\">layer4.1.bn1.bias</text>\n<text text-anchor=\"middle\" x=\"1427.5\" y=\"-668\" font-family=\"monospace\" font-size=\"10.00\" fill=\"#000000\"> (512)</text>\n</g>\n<!-- 140144532665648&#45;&gt;140144524671440 -->\n<g id=\"edge191\" class=\"edge\">\n<title>140144532665648&#45;&gt;140144524671440</title>\n<path fill=\"none\" stroke=\"#000000\" d=\"M1423.9672,-660.7333C1422.1649,-652.9447 1419.9523,-643.3831 1418.0264,-635.0604\"/>\n<polygon fill=\"#000000\" stroke=\"#000000\" points=\"1421.3828,-634.0399 1415.7183,-625.0864 1414.563,-635.6181 1421.3828,-634.0399\"/>\n</g>\n<!-- 140144524671376 -->\n<g id=\"node187\" class=\"node\">\n<title>140144524671376</title>\n<polygon fill=\"#d3d3d3\" stroke=\"#000000\" points=\"1381,-498.5 1280,-498.5 1280,-479.5 1381,-479.5 1381,-498.5\"/>\n<text text-anchor=\"middle\" x=\"1330.5\" y=\"-486.5\" font-family=\"monospace\" font-size=\"10.00\" fill=\"#000000\">AccumulateGrad</text>\n</g>\n<!-- 140144524671376&#45;&gt;140144524670416 -->\n<g id=\"edge192\" class=\"edge\">\n<title>140144524671376&#45;&gt;140144524670416</title>\n<path fill=\"none\" stroke=\"#000000\" d=\"M1327.126,-479.2796C1324.2043,-470.8623 1319.8887,-458.4295 1316.2592,-447.973\"/>\n<polygon fill=\"#000000\" stroke=\"#000000\" points=\"1319.5211,-446.6966 1312.9354,-438.3972 1312.9081,-448.992 1319.5211,-446.6966\"/>\n</g>\n<!-- 140144532666608 -->\n<g id=\"node188\" class=\"node\">\n<title>140144532666608</title>\n<polygon fill=\"#add8e6\" stroke=\"#000000\" points=\"1456,-570 1313,-570 1313,-540 1456,-540 1456,-570\"/>\n<text text-anchor=\"middle\" x=\"1384.5\" y=\"-558\" font-family=\"monospace\" font-size=\"10.00\" fill=\"#000000\">layer4.1.conv2.weight</text>\n<text text-anchor=\"middle\" x=\"1384.5\" y=\"-547\" font-family=\"monospace\" font-size=\"10.00\" fill=\"#000000\"> (512, 512, 3, 3)</text>\n</g>\n<!-- 140144532666608&#45;&gt;140144524671376 -->\n<g id=\"edge193\" class=\"edge\">\n<title>140144532666608&#45;&gt;140144524671376</title>\n<path fill=\"none\" stroke=\"#000000\" d=\"M1371.9756,-539.6924C1363.8944,-529.8153 1353.3568,-516.9361 1344.9256,-506.6312\"/>\n<polygon fill=\"#000000\" stroke=\"#000000\" points=\"1347.4801,-504.2263 1338.4389,-498.7031 1342.0624,-508.659 1347.4801,-504.2263\"/>\n</g>\n<!-- 140144524671120 -->\n<g id=\"node189\" class=\"node\">\n<title>140144524671120</title>\n<polygon fill=\"#d3d3d3\" stroke=\"#000000\" points=\"1515,-438 1414,-438 1414,-419 1515,-419 1515,-438\"/>\n<text text-anchor=\"middle\" x=\"1464.5\" y=\"-426\" font-family=\"monospace\" font-size=\"10.00\" fill=\"#000000\">AccumulateGrad</text>\n</g>\n<!-- 140144524671120&#45;&gt;140144524670800 -->\n<g id=\"edge194\" class=\"edge\">\n<title>140144524671120&#45;&gt;140144524670800</title>\n<path fill=\"none\" stroke=\"#000000\" d=\"M1450.9134,-418.9197C1439.2411,-410.6893 1422.1895,-398.6657 1408.5622,-389.0567\"/>\n<polygon fill=\"#000000\" stroke=\"#000000\" points=\"1410.3821,-386.0574 1400.1926,-383.155 1406.3482,-391.7782 1410.3821,-386.0574\"/>\n</g>\n<!-- 140144532666512 -->\n<g id=\"node190\" class=\"node\">\n<title>140144532666512</title>\n<polygon fill=\"#add8e6\" stroke=\"#000000\" points=\"1530,-504 1399,-504 1399,-474 1530,-474 1530,-504\"/>\n<text text-anchor=\"middle\" x=\"1464.5\" y=\"-492\" font-family=\"monospace\" font-size=\"10.00\" fill=\"#000000\">layer4.1.bn2.weight</text>\n<text text-anchor=\"middle\" x=\"1464.5\" y=\"-481\" font-family=\"monospace\" font-size=\"10.00\" fill=\"#000000\"> (512)</text>\n</g>\n<!-- 140144532666512&#45;&gt;140144524671120 -->\n<g id=\"edge195\" class=\"edge\">\n<title>140144532666512&#45;&gt;140144524671120</title>\n<path fill=\"none\" stroke=\"#000000\" d=\"M1464.5,-473.7333C1464.5,-466.0322 1464.5,-456.5977 1464.5,-448.3414\"/>\n<polygon fill=\"#000000\" stroke=\"#000000\" points=\"1468.0001,-448.0864 1464.5,-438.0864 1461.0001,-448.0864 1468.0001,-448.0864\"/>\n</g>\n<!-- 140144524671056 -->\n<g id=\"node191\" class=\"node\">\n<title>140144524671056</title>\n<polygon fill=\"#d3d3d3\" stroke=\"#000000\" points=\"1646,-438 1545,-438 1545,-419 1646,-419 1646,-438\"/>\n<text text-anchor=\"middle\" x=\"1595.5\" y=\"-426\" font-family=\"monospace\" font-size=\"10.00\" fill=\"#000000\">AccumulateGrad</text>\n</g>\n<!-- 140144524671056&#45;&gt;140144524670800 -->\n<g id=\"edge196\" class=\"edge\">\n<title>140144524671056&#45;&gt;140144524670800</title>\n<path fill=\"none\" stroke=\"#000000\" d=\"M1559.095,-418.9197C1523.9885,-409.6812 1470.7213,-395.6635 1432.6549,-385.646\"/>\n<polygon fill=\"#000000\" stroke=\"#000000\" points=\"1433.3994,-382.2228 1422.8379,-383.0626 1431.6179,-388.9924 1433.3994,-382.2228\"/>\n</g>\n<!-- 140144532666320 -->\n<g id=\"node192\" class=\"node\">\n<title>140144532666320</title>\n<polygon fill=\"#add8e6\" stroke=\"#000000\" points=\"1667,-504 1548,-504 1548,-474 1667,-474 1667,-504\"/>\n<text text-anchor=\"middle\" x=\"1607.5\" y=\"-492\" font-family=\"monospace\" font-size=\"10.00\" fill=\"#000000\">layer4.1.bn2.bias</text>\n<text text-anchor=\"middle\" x=\"1607.5\" y=\"-481\" font-family=\"monospace\" font-size=\"10.00\" fill=\"#000000\"> (512)</text>\n</g>\n<!-- 140144532666320&#45;&gt;140144524671056 -->\n<g id=\"edge197\" class=\"edge\">\n<title>140144532666320&#45;&gt;140144524671056</title>\n<path fill=\"none\" stroke=\"#000000\" d=\"M1604.4719,-473.7333C1602.927,-465.9447 1601.0305,-456.3831 1599.3797,-448.0604\"/>\n<polygon fill=\"#000000\" stroke=\"#000000\" points=\"1602.7802,-447.2143 1597.4014,-438.0864 1595.914,-448.5763 1602.7802,-447.2143\"/>\n</g>\n<!-- 140144524670288 -->\n<g id=\"node193\" class=\"node\">\n<title>140144524670288</title>\n<polygon fill=\"#d3d3d3\" stroke=\"#000000\" points=\"1294,-141 1217,-141 1217,-122 1294,-122 1294,-141\"/>\n<text text-anchor=\"middle\" x=\"1255.5\" y=\"-129\" font-family=\"monospace\" font-size=\"10.00\" fill=\"#000000\">TBackward0</text>\n</g>\n<!-- 140144524670288&#45;&gt;140144524669904 -->\n<g id=\"edge199\" class=\"edge\">\n<title>140144524670288&#45;&gt;140144524669904</title>\n<path fill=\"none\" stroke=\"#000000\" d=\"M1233.2041,-121.9197C1212.7726,-113.1406 1182.2973,-100.0457 1159.3113,-90.1689\"/>\n<polygon fill=\"#000000\" stroke=\"#000000\" points=\"1160.5394,-86.8872 1149.9699,-86.155 1157.7758,-93.3186 1160.5394,-86.8872\"/>\n</g>\n<!-- 140144524670544 -->\n<g id=\"node194\" class=\"node\">\n<title>140144524670544</title>\n<polygon fill=\"#d3d3d3\" stroke=\"#000000\" points=\"1306,-201.5 1205,-201.5 1205,-182.5 1306,-182.5 1306,-201.5\"/>\n<text text-anchor=\"middle\" x=\"1255.5\" y=\"-189.5\" font-family=\"monospace\" font-size=\"10.00\" fill=\"#000000\">AccumulateGrad</text>\n</g>\n<!-- 140144524670544&#45;&gt;140144524670288 -->\n<g id=\"edge200\" class=\"edge\">\n<title>140144524670544&#45;&gt;140144524670288</title>\n<path fill=\"none\" stroke=\"#000000\" d=\"M1255.5,-182.2796C1255.5,-174.0376 1255.5,-161.9457 1255.5,-151.629\"/>\n<polygon fill=\"#000000\" stroke=\"#000000\" points=\"1259.0001,-151.3972 1255.5,-141.3972 1252.0001,-151.3973 1259.0001,-151.3972\"/>\n</g>\n<!-- 140144532667088 -->\n<g id=\"node195\" class=\"node\">\n<title>140144532667088</title>\n<polygon fill=\"#add8e6\" stroke=\"#000000\" points=\"1300,-273 1211,-273 1211,-243 1300,-243 1300,-273\"/>\n<text text-anchor=\"middle\" x=\"1255.5\" y=\"-261\" font-family=\"monospace\" font-size=\"10.00\" fill=\"#000000\">fc.weight</text>\n<text text-anchor=\"middle\" x=\"1255.5\" y=\"-250\" font-family=\"monospace\" font-size=\"10.00\" fill=\"#000000\"> (1000, 512)</text>\n</g>\n<!-- 140144532667088&#45;&gt;140144524670544 -->\n<g id=\"edge201\" class=\"edge\">\n<title>140144532667088&#45;&gt;140144524670544</title>\n<path fill=\"none\" stroke=\"#000000\" d=\"M1255.5,-242.6924C1255.5,-233.5067 1255.5,-221.7245 1255.5,-211.8312\"/>\n<polygon fill=\"#000000\" stroke=\"#000000\" points=\"1259.0001,-211.703 1255.5,-201.7031 1252.0001,-211.7031 1259.0001,-211.703\"/>\n</g>\n</g>\n</svg>\n"
          },
          "metadata": {},
          "execution_count": 26
        }
      ]
    },
    {
      "cell_type": "markdown",
      "metadata": {
        "collapsed": true,
        "id": "7mIP_gnbral2"
      },
      "source": [
        "# Exercício 1\n",
        "\n",
        "O que acontece com o grafo computacional após execução do `backward()`?"
      ]
    },
    {
      "cell_type": "markdown",
      "metadata": {
        "id": "Dg34dQHdk5KG"
      },
      "source": [
        "Resposta:\n",
        "\n",
        "O backward pass se dá retrocedendo no grafo um estágio (nó) de cada vez, da direita para a esquerda, no cálculo das variáveis. Em cada nó, será calculado o gradiente local resultado da multiplicação dos valores das variáveis no forward pass pelo gradiente vindo das camadas posteriores (chain rule).\n",
        "\n",
        "Ou seja, após a execução do backward, os parâmetros da rede terão seus gradientes calculados.\n",
        "\n",
        "Caberáo ao comando optimizer.step() proceder à atualização dos pesos levando em conta os parâmetros do otimizador (learning rate, etc)."
      ]
    },
    {
      "cell_type": "markdown",
      "metadata": {
        "collapsed": true,
        "id": "0RkjpqfprZ_t"
      },
      "source": [
        "# Exercício 2\n",
        "\n",
        "Execute um passo de atualização do valor de w, pelo \n",
        "gradiente descendente. Utilize um fator de aprendizado (*learning rate*) de 0.01 \n",
        "para atualizar o `w`. Após, recalcule a função de perda:\n",
        "\n",
        "    - w = w - lr * w.grad.data\n",
        "    - Verifique o quanto que a perda J diminuiu"
      ]
    },
    {
      "cell_type": "code",
      "source": [
        "w, dw, w.grad.data"
      ],
      "metadata": {
        "colab": {
          "base_uri": "https://localhost:8080/"
        },
        "id": "WsuFjbhCai33",
        "outputId": "67c9dfa7-4bdd-4de4-f184-a9ef4dbff77b"
      },
      "execution_count": 27,
      "outputs": [
        {
          "output_type": "execute_result",
          "data": {
            "text/plain": [
              "(tensor([1.], requires_grad=True), -28.0, tensor([0.]))"
            ]
          },
          "metadata": {},
          "execution_count": 27
        }
      ]
    },
    {
      "cell_type": "code",
      "source": [
        "learning_rate = 0.01\n",
        "w_novo = w - learning_rate * dw\n",
        "w_novo"
      ],
      "metadata": {
        "colab": {
          "base_uri": "https://localhost:8080/"
        },
        "id": "AooO6mdtadIn",
        "outputId": "859bed1b-2c44-4904-bbc6-7422080f2c4b"
      },
      "execution_count": 28,
      "outputs": [
        {
          "output_type": "execute_result",
          "data": {
            "text/plain": [
              "tensor([1.2800], grad_fn=<SubBackward0>)"
            ]
          },
          "metadata": {},
          "execution_count": 28
        }
      ]
    },
    {
      "cell_type": "code",
      "source": [
        "eps = 0.001\n",
        "y_pred = x * (w_novo + eps)\n",
        "J_new = (y_pred - y).pow(2).sum()\n",
        "J_new"
      ],
      "metadata": {
        "colab": {
          "base_uri": "https://localhost:8080/"
        },
        "id": "Gfzkgf9FbsxP",
        "outputId": "1f57026d-62af-4f52-dfd7-bfe8d17aa165"
      },
      "execution_count": 29,
      "outputs": [
        {
          "output_type": "execute_result",
          "data": {
            "text/plain": [
              "tensor(7.2375, grad_fn=<SumBackward0>)"
            ]
          },
          "metadata": {},
          "execution_count": 29
        }
      ]
    },
    {
      "cell_type": "markdown",
      "metadata": {
        "id": "hozksnNDXx4G"
      },
      "source": [
        "## Treinando uma rede no Pytorch\n",
        "\n",
        "Para ajudar na entendimento dos exercícios abaixo, apresentamos o código em Pytorch para treinar uma rede de uma camada não-linear, com pesos `w` e `b`:\n",
        "$y' = \\sigma(wx + b)$"
      ]
    },
    {
      "cell_type": "markdown",
      "metadata": {
        "id": "Fp9dSVjXy4gy"
      },
      "source": [
        "<img src=\"https://github.com/robertoalotufo/files/blob/master/figures/simple_graph.png?raw=true\" width=\"600pt\"/>"
      ]
    },
    {
      "cell_type": "code",
      "source": [
        "inicializa_seed()"
      ],
      "metadata": {
        "id": "LM5DNOhXcuRt"
      },
      "execution_count": 30,
      "outputs": []
    },
    {
      "cell_type": "code",
      "metadata": {
        "id": "VhXl4fkxYv2z"
      },
      "source": [
        "from typing import List"
      ],
      "execution_count": 31,
      "outputs": []
    },
    {
      "cell_type": "code",
      "source": [
        "class NonLinearPytorch(torch.nn.Module):\n",
        "    def __init__(self):\n",
        "        super(NonLinearPytorch, self).__init__()\n",
        "\n",
        "        self.layer1 = torch.nn.Linear(1, 1)\n",
        "        # Inicializa os pesos w e b em zero.\n",
        "        self.layer1.load_state_dict(dict(weight=torch.zeros(1,1), bias=torch.zeros(1)))\n",
        "        \n",
        "    def forward(self, x):\n",
        "        y_pred = torch.sigmoid(self.layer1(x))\n",
        "        return y_pred\n"
      ],
      "metadata": {
        "id": "YSrTgjojc4TG"
      },
      "execution_count": 32,
      "outputs": []
    },
    {
      "cell_type": "code",
      "source": [
        "learning_rate = 0.1\n",
        "model = NonLinearPytorch()\n",
        "loss_fn = torch.nn.MSELoss()\n",
        "optimizer = torch.optim.SGD(model.parameters(), lr=learning_rate)"
      ],
      "metadata": {
        "id": "H6Q7nsCnc6xK"
      },
      "execution_count": 33,
      "outputs": []
    },
    {
      "cell_type": "code",
      "source": [
        "x = torch.tensor([-5], dtype=torch.float)\n",
        "y_target = torch.tensor([0.76], dtype=torch.float)"
      ],
      "metadata": {
        "id": "hXLz991-dFF9"
      },
      "execution_count": 34,
      "outputs": []
    },
    {
      "cell_type": "code",
      "source": [
        "num_iterations = 50\n",
        "for i in range(num_iterations):\n",
        "    # Zere os gradientes dos passo anterior.\n",
        "    optimizer.zero_grad()\n",
        "    # Rode a um passo forward do modelo.\n",
        "    y_pred = model.forward(x)\n",
        "    # Calcule a loss\n",
        "    loss = loss_fn(y_pred, y_target)\n",
        "    # Calcule os gradientes\n",
        "    loss.backward()\n",
        "    # Atualize os pesos\n",
        "    optimizer.step()\n",
        "\n",
        "    print(f'iter:{i}: y_prime: {y_pred} loss: {loss.item()} model.layer1.weight.data: {model.layer1.weight.data} model.layer1.bias.data {model.layer1.bias.data}')"
      ],
      "metadata": {
        "colab": {
          "base_uri": "https://localhost:8080/"
        },
        "id": "KwgaGOrGdBRU",
        "outputId": "ff1e64a2-0d22-4584-a115-f5abe016cfce"
      },
      "execution_count": 35,
      "outputs": [
        {
          "output_type": "stream",
          "name": "stdout",
          "text": [
            "iter:0: y_prime: tensor([0.5000], grad_fn=<SigmoidBackward0>) loss: 0.06759999692440033 model.layer1.weight.data: tensor([[-0.0650]]) model.layer1.bias.data tensor([0.0130])\n",
            "iter:1: y_prime: tensor([0.5837], grad_fn=<SigmoidBackward0>) loss: 0.03108006715774536 model.layer1.weight.data: tensor([[-0.1078]]) model.layer1.bias.data tensor([0.0216])\n",
            "iter:2: y_prime: tensor([0.6366], grad_fn=<SigmoidBackward0>) loss: 0.015220507979393005 model.layer1.weight.data: tensor([[-0.1364]]) model.layer1.bias.data tensor([0.0273])\n",
            "iter:3: y_prime: tensor([0.6702], grad_fn=<SigmoidBackward0>) loss: 0.008060935884714127 model.layer1.weight.data: tensor([[-0.1562]]) model.layer1.bias.data tensor([0.0312])\n",
            "iter:4: y_prime: tensor([0.6926], grad_fn=<SigmoidBackward0>) loss: 0.004541150294244289 model.layer1.weight.data: tensor([[-0.1706]]) model.layer1.bias.data tensor([0.0341])\n",
            "iter:5: y_prime: tensor([0.7083], grad_fn=<SigmoidBackward0>) loss: 0.002676718169823289 model.layer1.weight.data: tensor([[-0.1813]]) model.layer1.bias.data tensor([0.0363])\n",
            "iter:6: y_prime: tensor([0.7196], grad_fn=<SigmoidBackward0>) loss: 0.0016309585189446807 model.layer1.weight.data: tensor([[-0.1894]]) model.layer1.bias.data tensor([0.0379])\n",
            "iter:7: y_prime: tensor([0.7281], grad_fn=<SigmoidBackward0>) loss: 0.001018621027469635 model.layer1.weight.data: tensor([[-0.1957]]) model.layer1.bias.data tensor([0.0391])\n",
            "iter:8: y_prime: tensor([0.7345], grad_fn=<SigmoidBackward0>) loss: 0.0006482027238234878 model.layer1.weight.data: tensor([[-0.2007]]) model.layer1.bias.data tensor([0.0401])\n",
            "iter:9: y_prime: tensor([0.7395], grad_fn=<SigmoidBackward0>) loss: 0.00041847542161121964 model.layer1.weight.data: tensor([[-0.2046]]) model.layer1.bias.data tensor([0.0409])\n",
            "iter:10: y_prime: tensor([0.7435], grad_fn=<SigmoidBackward0>) loss: 0.00027322242385707796 model.layer1.weight.data: tensor([[-0.2078]]) model.layer1.bias.data tensor([0.0416])\n",
            "iter:11: y_prime: tensor([0.7466], grad_fn=<SigmoidBackward0>) loss: 0.000179972848854959 model.layer1.weight.data: tensor([[-0.2103]]) model.layer1.bias.data tensor([0.0421])\n",
            "iter:12: y_prime: tensor([0.7491], grad_fn=<SigmoidBackward0>) loss: 0.00011938677198486403 model.layer1.weight.data: tensor([[-0.2124]]) model.layer1.bias.data tensor([0.0425])\n",
            "iter:13: y_prime: tensor([0.7511], grad_fn=<SigmoidBackward0>) loss: 7.964535325299948e-05 model.layer1.weight.data: tensor([[-0.2140]]) model.layer1.bias.data tensor([0.0428])\n",
            "iter:14: y_prime: tensor([0.7527], grad_fn=<SigmoidBackward0>) loss: 5.33747261215467e-05 model.layer1.weight.data: tensor([[-0.2154]]) model.layer1.bias.data tensor([0.0431])\n",
            "iter:15: y_prime: tensor([0.7540], grad_fn=<SigmoidBackward0>) loss: 3.590186679502949e-05 model.layer1.weight.data: tensor([[-0.2165]]) model.layer1.bias.data tensor([0.0433])\n",
            "iter:16: y_prime: tensor([0.7551], grad_fn=<SigmoidBackward0>) loss: 2.4221122657763772e-05 model.layer1.weight.data: tensor([[-0.2174]]) model.layer1.bias.data tensor([0.0435])\n",
            "iter:17: y_prime: tensor([0.7560], grad_fn=<SigmoidBackward0>) loss: 1.638043249840848e-05 model.layer1.weight.data: tensor([[-0.2182]]) model.layer1.bias.data tensor([0.0436])\n",
            "iter:18: y_prime: tensor([0.7567], grad_fn=<SigmoidBackward0>) loss: 1.1099966286565177e-05 model.layer1.weight.data: tensor([[-0.2188]]) model.layer1.bias.data tensor([0.0438])\n",
            "iter:19: y_prime: tensor([0.7573], grad_fn=<SigmoidBackward0>) loss: 7.534220912930323e-06 model.layer1.weight.data: tensor([[-0.2193]]) model.layer1.bias.data tensor([0.0439])\n",
            "iter:20: y_prime: tensor([0.7577], grad_fn=<SigmoidBackward0>) loss: 5.12067254021531e-06 model.layer1.weight.data: tensor([[-0.2197]]) model.layer1.bias.data tensor([0.0439])\n",
            "iter:21: y_prime: tensor([0.7581], grad_fn=<SigmoidBackward0>) loss: 3.4841173146560322e-06 model.layer1.weight.data: tensor([[-0.2200]]) model.layer1.bias.data tensor([0.0440])\n",
            "iter:22: y_prime: tensor([0.7585], grad_fn=<SigmoidBackward0>) loss: 2.3727177449472947e-06 model.layer1.weight.data: tensor([[-0.2203]]) model.layer1.bias.data tensor([0.0441])\n",
            "iter:23: y_prime: tensor([0.7587], grad_fn=<SigmoidBackward0>) loss: 1.6171321703950525e-06 model.layer1.weight.data: tensor([[-0.2206]]) model.layer1.bias.data tensor([0.0441])\n",
            "iter:24: y_prime: tensor([0.7589], grad_fn=<SigmoidBackward0>) loss: 1.1028658946088399e-06 model.layer1.weight.data: tensor([[-0.2208]]) model.layer1.bias.data tensor([0.0442])\n",
            "iter:25: y_prime: tensor([0.7591], grad_fn=<SigmoidBackward0>) loss: 7.52325149733224e-07 model.layer1.weight.data: tensor([[-0.2209]]) model.layer1.bias.data tensor([0.0442])\n",
            "iter:26: y_prime: tensor([0.7593], grad_fn=<SigmoidBackward0>) loss: 5.135537435307924e-07 model.layer1.weight.data: tensor([[-0.2210]]) model.layer1.bias.data tensor([0.0442])\n",
            "iter:27: y_prime: tensor([0.7594], grad_fn=<SigmoidBackward0>) loss: 3.506678467601887e-07 model.layer1.weight.data: tensor([[-0.2212]]) model.layer1.bias.data tensor([0.0442])\n",
            "iter:28: y_prime: tensor([0.7595], grad_fn=<SigmoidBackward0>) loss: 2.3946745386638213e-07 model.layer1.weight.data: tensor([[-0.2212]]) model.layer1.bias.data tensor([0.0442])\n",
            "iter:29: y_prime: tensor([0.7596], grad_fn=<SigmoidBackward0>) loss: 1.636017401551726e-07 model.layer1.weight.data: tensor([[-0.2213]]) model.layer1.bias.data tensor([0.0443])\n",
            "iter:30: y_prime: tensor([0.7597], grad_fn=<SigmoidBackward0>) loss: 1.1181136017057725e-07 model.layer1.weight.data: tensor([[-0.2214]]) model.layer1.bias.data tensor([0.0443])\n",
            "iter:31: y_prime: tensor([0.7597], grad_fn=<SigmoidBackward0>) loss: 7.638962529199489e-08 model.layer1.weight.data: tensor([[-0.2214]]) model.layer1.bias.data tensor([0.0443])\n",
            "iter:32: y_prime: tensor([0.7598], grad_fn=<SigmoidBackward0>) loss: 5.2223313673493976e-08 model.layer1.weight.data: tensor([[-0.2215]]) model.layer1.bias.data tensor([0.0443])\n",
            "iter:33: y_prime: tensor([0.7598], grad_fn=<SigmoidBackward0>) loss: 3.5700864486898354e-08 model.layer1.weight.data: tensor([[-0.2215]]) model.layer1.bias.data tensor([0.0443])\n",
            "iter:34: y_prime: tensor([0.7598], grad_fn=<SigmoidBackward0>) loss: 2.4405867549148752e-08 model.layer1.weight.data: tensor([[-0.2215]]) model.layer1.bias.data tensor([0.0443])\n",
            "iter:35: y_prime: tensor([0.7599], grad_fn=<SigmoidBackward0>) loss: 1.6698550098226406e-08 model.layer1.weight.data: tensor([[-0.2216]]) model.layer1.bias.data tensor([0.0443])\n",
            "iter:36: y_prime: tensor([0.7599], grad_fn=<SigmoidBackward0>) loss: 1.1408701539039612e-08 model.layer1.weight.data: tensor([[-0.2216]]) model.layer1.bias.data tensor([0.0443])\n",
            "iter:37: y_prime: tensor([0.7599], grad_fn=<SigmoidBackward0>) loss: 7.802910317877831e-09 model.layer1.weight.data: tensor([[-0.2216]]) model.layer1.bias.data tensor([0.0443])\n",
            "iter:38: y_prime: tensor([0.7599], grad_fn=<SigmoidBackward0>) loss: 5.331290964250002e-09 model.layer1.weight.data: tensor([[-0.2216]]) model.layer1.bias.data tensor([0.0443])\n",
            "iter:39: y_prime: tensor([0.7599], grad_fn=<SigmoidBackward0>) loss: 3.65288599368796e-09 model.layer1.weight.data: tensor([[-0.2216]]) model.layer1.bias.data tensor([0.0443])\n",
            "iter:40: y_prime: tensor([0.7600], grad_fn=<SigmoidBackward0>) loss: 2.494871864655579e-09 model.layer1.weight.data: tensor([[-0.2216]]) model.layer1.bias.data tensor([0.0443])\n",
            "iter:41: y_prime: tensor([0.7600], grad_fn=<SigmoidBackward0>) loss: 1.7061871915302618e-09 model.layer1.weight.data: tensor([[-0.2216]]) model.layer1.bias.data tensor([0.0443])\n",
            "iter:42: y_prime: tensor([0.7600], grad_fn=<SigmoidBackward0>) loss: 1.1664589294468897e-09 model.layer1.weight.data: tensor([[-0.2216]]) model.layer1.bias.data tensor([0.0443])\n",
            "iter:43: y_prime: tensor([0.7600], grad_fn=<SigmoidBackward0>) loss: 7.948450786443573e-10 model.layer1.weight.data: tensor([[-0.2216]]) model.layer1.bias.data tensor([0.0443])\n",
            "iter:44: y_prime: tensor([0.7600], grad_fn=<SigmoidBackward0>) loss: 5.459241947392002e-10 model.layer1.weight.data: tensor([[-0.2216]]) model.layer1.bias.data tensor([0.0443])\n",
            "iter:45: y_prime: tensor([0.7600], grad_fn=<SigmoidBackward0>) loss: 3.729496711457614e-10 model.layer1.weight.data: tensor([[-0.2217]]) model.layer1.bias.data tensor([0.0443])\n",
            "iter:46: y_prime: tensor([0.7600], grad_fn=<SigmoidBackward0>) loss: 2.551701072661672e-10 model.layer1.weight.data: tensor([[-0.2217]]) model.layer1.bias.data tensor([0.0443])\n",
            "iter:47: y_prime: tensor([0.7600], grad_fn=<SigmoidBackward0>) loss: 1.750919409460039e-10 model.layer1.weight.data: tensor([[-0.2217]]) model.layer1.bias.data tensor([0.0443])\n",
            "iter:48: y_prime: tensor([0.7600], grad_fn=<SigmoidBackward0>) loss: 1.1897682838934998e-10 model.layer1.weight.data: tensor([[-0.2217]]) model.layer1.bias.data tensor([0.0443])\n",
            "iter:49: y_prime: tensor([0.7600], grad_fn=<SigmoidBackward0>) loss: 8.100542459033022e-11 model.layer1.weight.data: tensor([[-0.2217]]) model.layer1.bias.data tensor([0.0443])\n"
          ]
        }
      ]
    },
    {
      "cell_type": "markdown",
      "metadata": {
        "id": "-dCpic0_XhKE"
      },
      "source": [
        "# Exercício 3\n",
        "\n",
        "Vamos agora escrever nosso próprio código para calcular os gradientes da rede apresentada acima.\n",
        "\n",
        "Para tanto, temos que primeiro implementar a classe Tensor, que é parecida com a classe Tensor do pytorch. Quando instanciada, o objeto resultante armazena o valor do tensor e uma referencia para o nó do grafo computacional que gerou os valores do tensor, quando houver. Com isso podemos construir percorrer o grafo computacional no sentido reverso, realizando o passo `backward` do algoritmo de backpropagation.\n",
        "\n",
        "Para simplificar a implementação, o gradiente também pode ser armazenado nesta variável. Com isso, podemos tratar os pesos da rede como Tensor's. Isso dispensa a necessidade de criarmos a classe Parameters, como é feito no pytorch."
      ]
    },
    {
      "cell_type": "code",
      "source": [
        "\n",
        "class Tensor():\n",
        "  def __init__(self, nome:str, data: float, previous_node=None, se_imp:bool=True, num_indentacao:int=0):\n",
        "    super().__init__()  \n",
        "    self.nome = nome\n",
        "    self.data = data\n",
        "    self.previous_node = previous_node\n",
        "    self.grad = 0\n",
        "    self.se_imp = se_imp\n",
        "    if self.se_imp:\n",
        "      print(\"  \"*num_indentacao+f\"Tensor().__init__ {self.descr} \")\n",
        "\n",
        "  def backward(self, upstream_grad: float = None, num_indentacao:int=0):\n",
        "    if self.se_imp:\n",
        "      print(\"  \"*num_indentacao+f\"Tensor().backward (entrando) - self.nome: {self.nome}, self.previous_node: {self.previous_node} upstream_grad: {upstream_grad}\")\n",
        "    # Esta vai sr uma chamada recursiva cujo critéria de parada é quando previous_node==None.\n",
        "    if upstream_grad is None:\n",
        "      upstream_grad = 1.\n",
        "    self.grad += upstream_grad \n",
        "    if self.previous_node is not None:\n",
        "      self.previous_node.backward(upstream_grad, num_indentacao = num_indentacao+1)\n",
        "    if self.se_imp:\n",
        "      print(\"  \"*num_indentacao+f\"Tensor().backward (saindo) {self.nome}: grad= {self.grad}\")\n",
        "\n",
        "  @property\n",
        "  def descr(self):\n",
        "    return f\"nome: {self.nome}; data: {self.data}; previous_node: {self.previous_node} grad: {self.grad}\"\n",
        "\n",
        "  # Implementar as funções abaixo é opcional.\n",
        "  def __add__(self, other: Tensor)->Tensor:\n",
        "    return AddNode().forward(self,other)\n",
        "\n",
        "  def __sub__(self, other: Tensor)->Tensor:\n",
        "    return SubNode().forward(self,other)\n",
        "\n",
        "  def __mul__(self, other: Tensor)->Tensor:\n",
        "    return MulNode().forward(self,other)\n"
      ],
      "metadata": {
        "id": "T3vkPX65NYAS"
      },
      "execution_count": 248,
      "outputs": []
    },
    {
      "cell_type": "code",
      "source": [
        "def print_tensor(x:'Tensor'):\n",
        "  print(x.descr)"
      ],
      "metadata": {
        "id": "A4gQOqV6zekZ"
      },
      "execution_count": 249,
      "outputs": []
    },
    {
      "cell_type": "markdown",
      "source": [
        "A seguir, implementaremos as funções `forward` e `backward` de cada um dos nós do grafo acima, além do nó de subtração, que é usado pela função de custo.\n",
        "Vamos começar pelo nó da função sigmoid ($\\sigma$), cuja derivada é:\n",
        "\n",
        "$\\frac{\\delta\\sigma}{\\delta x} = \\sigma(x)(1-\\sigma(x))$"
      ],
      "metadata": {
        "id": "9PWNVg4wMS9t"
      }
    },
    {
      "cell_type": "code",
      "metadata": {
        "id": "Up1GixP9PFjG"
      },
      "source": [
        "class SigmoidNode():\n",
        "  def forward(self, x: Tensor, se_imp:bool=True, num_indentacao:int=0)->Tensor:\n",
        "    # SigmoidNode: Cálculo da sigmoide 1/(1 + e^-x)\n",
        "    self.x = x \n",
        "    exp = math.exp(x.data * -1)\n",
        "    self.se_imp = se_imp\n",
        "    val = 1/(1 + exp)\n",
        "    self.saida = Tensor(\"o(\"+x.nome+\")\", val, self, se_imp=se_imp, num_indentacao = num_indentacao)    \n",
        "    if self.se_imp:\n",
        "      print(\"  \"*num_indentacao+f\"SigmoidNode().forward: o({self.x.data}) resultado: {self.saida.descr}\")\n",
        "    return self.saida\n",
        "\n",
        "  def backward(self, upstream_grad: float, num_indentacao:int=0):\n",
        "    # SigmoidNode().backward - cálculo do gradiente em relação a x: (1 – θ(x)) * θ(x)\n",
        "    if self.se_imp:\n",
        "      print(\"  \"*num_indentacao+f\"SigmoidNode().backward (entrando) - upstream_grad: {upstream_grad} :: o({self.saida.nome}) \")\n",
        "    if upstream_grad is None:\n",
        "      upstream_grad = 1.\n",
        "    self.saida.grad = upstream_grad      \n",
        "    gradiente_local_x = (1 -  self.saida.data) * self.saida.data\n",
        "    if self.se_imp:\n",
        "      print(\"  \"*num_indentacao+f\"SigmoidNode().backward  (saindo) - A seguir sobre parm.backward : {self.x.data} :: o({self.saida.nome}) \")\n",
        "    self.x.backward(gradiente_local_x * upstream_grad, num_indentacao = num_indentacao+1)\n"
      ],
      "execution_count": 250,
      "outputs": []
    },
    {
      "cell_type": "markdown",
      "metadata": {
        "id": "BWxNzGVZXvU7"
      },
      "source": [
        "Implementamos agora o `forward` e `backward` do nó da soma $z = x + y$, cujas derivadas parciais em relação a cada entrada $x$ e $y$ são:\n",
        "\n",
        "$\\frac{\\delta z}{\\delta x} = 1$\n",
        "\n",
        "$\\frac{\\delta z}{\\delta y} = 1$"
      ]
    },
    {
      "cell_type": "code",
      "metadata": {
        "id": "iiGB3rhaXvxC"
      },
      "source": [
        "class AddNode():\n",
        "  def forward(self, x: Tensor, y: Tensor, se_imp:bool=True, num_indentacao:int=0)->Tensor:\n",
        "    \"\"\"\n",
        "    AddNode: Cálculo da adição\n",
        "    \"\"\"\n",
        "    self.x = x \n",
        "    self.y = y \n",
        "    self.se_imp = se_imp\n",
        "    self.saida = Tensor(\"+(\"+self.x.nome +\",\" + self.y.nome+\")\", self.x.data + self.y.data, self, se_imp=se_imp, num_indentacao = num_indentacao)  \n",
        "    if self.se_imp:\n",
        "      print(\"  \"*num_indentacao+f\"Saindo AddNode().forward: +({self.x.data},{self.y.data}) resultado: {self.saida.descr}\")\n",
        "    return self.saida     \n",
        "\n",
        "  def backward(self, upstream_grad: float, num_indentacao:int=0):\n",
        "    \"\"\"\n",
        "    A operação de soma tem o objetivo de ser um \"distribuidor\", logo a derivada de z /derivada de x = 1 \n",
        "      basta então, multiplicar 1 (gradiente local) pelo gradiente da frente.\n",
        "    AddNode().backward - cálculo do gradiente em relação a x: (1 – θ(x)) * θ(x)\n",
        "    \"\"\"\n",
        "    if self.se_imp:\n",
        "      print(\"  \"*num_indentacao+f\"AddNode().backward (entrando) {self.saida.nome} [+({self.x.data},{self.y.data})] - upstream_grad: {upstream_grad} :: {self.saida.nome}\")\n",
        "    if upstream_grad is None:\n",
        "      upstream_grad = 1.\n",
        "    self.saida.grad = upstream_grad      \n",
        "    gradiente_local_x = 1\n",
        "    gradiente_local_y = 1\n",
        "    if self.se_imp:\n",
        "      print(\"  \"*num_indentacao+f\"AddNode().backward [+({self.x.data},{self.y.data})] - A seguir sobre parm1.backward: {self.x.data} :: {self.saida.nome}\")\n",
        "    self.x.backward(gradiente_local_x * upstream_grad, num_indentacao = num_indentacao+1)\n",
        "    if self.se_imp:\n",
        "      print(\"  \"*num_indentacao+f\"AddNode().backward [+({self.x.data},{self.y.data})] - A seguir sobre parm2.backward: {self.y.data} :: {self.saida.nome}\")\n",
        "    self.y.backward(gradiente_local_y * upstream_grad, num_indentacao = num_indentacao+1)\n",
        "  "
      ],
      "execution_count": 251,
      "outputs": []
    },
    {
      "cell_type": "markdown",
      "source": [
        "Implementamos agora o `forward` e `backward` do nó da subtração $z = x - y$, cujas derivadas parciais em relação a cada entrada $x$ e $y$ são:\n",
        "\n",
        "$\\frac{\\delta z}{\\delta x} = 1$\n",
        "\n",
        "$\\frac{\\delta z}{\\delta y} = -1$"
      ],
      "metadata": {
        "id": "-XbKz0z0VfdC"
      }
    },
    {
      "cell_type": "code",
      "source": [
        "class SubNode():\n",
        "  def forward(self, x: Tensor, y: Tensor, se_imp:bool=True, num_indentacao:int=0)->Tensor:\n",
        "    # SubNode: Cálculo da adição\n",
        "    self.x = x \n",
        "    self.y = y \n",
        "    self.se_imp = se_imp\n",
        "    self.saida = Tensor(\"-(\"+self.x.nome+\",\"+self.y.nome+\")\", self.x.data - self.y.data, self, se_imp=se_imp, num_indentacao = num_indentacao)    \n",
        "    if self.se_imp:\n",
        "      print(\"  \"*num_indentacao+f\"Saindo SubNode().forward: -({self.x.data},{self.y.data}) resultado: {self.saida.descr}\")\n",
        "    return self.saida     \n",
        "    \n",
        "  def backward(self, upstream_grad: float, num_indentacao:int=0):\n",
        "    \"\"\"\n",
        "    A operação de soma tem o objetivo de ser um \"distribuidor\", logo a derivada de z /derivada de x = 1 \n",
        "      basta então, multiplicar 1 (gradiente local) pelo gradiente da frente.\n",
        "    SubNode().backward - cálculo do gradiente em relação a x: (1 – θ(x)) * θ(x)\n",
        "    \"\"\"\n",
        "    if self.se_imp:\n",
        "      print(\"  \"*num_indentacao+f\"SubNode().backward (entrando) [-({self.x.data},{self.y.data})] - upstream_grad: {upstream_grad} :: {self.saida.nome}\")\n",
        "    if upstream_grad is None:\n",
        "      upstream_grad = 1.\n",
        "    self.saida.grad = upstream_grad      \n",
        "    gradiente_local_x = 1\n",
        "    gradiente_local_y = -1\n",
        "    if self.se_imp:\n",
        "      print(\"  \"*num_indentacao+f\"SubNode().backward [-({self.x.data},{self.y.data})] - A seguir sobre parm1.backward: {self.x.data} :: {self.saida.nome}\")\n",
        "    self.x.backward(gradiente_local_x * upstream_grad, num_indentacao = num_indentacao+1)\n",
        "    if self.se_imp:\n",
        "      print(\"  \"*num_indentacao+f\"SubNode().backward [-({self.x.data},{self.y.data})] - A seguir sobre parm2.backward: {self.y.data} :: {self.saida.nome}\")\n",
        "    self.y.backward(gradiente_local_y * upstream_grad, num_indentacao = num_indentacao+1)"
      ],
      "metadata": {
        "id": "ztsGOWudV3X7"
      },
      "execution_count": 252,
      "outputs": []
    },
    {
      "cell_type": "markdown",
      "metadata": {
        "id": "HSEUWtP_qSqW"
      },
      "source": [
        "Implementamos agora o `forward` e `backward` do nó da multiplicação $z = xy$, cujas derivadas parciais em relação a cada entrada $x$ e $y$ são:\n",
        "\n",
        "$\\frac{\\delta z}{\\delta x} = y$\n",
        "\n",
        "$\\frac{\\delta z}{\\delta y} = x$"
      ]
    },
    {
      "cell_type": "code",
      "metadata": {
        "id": "BWzSxUU-Zlel"
      },
      "source": [
        "class MulNode():\n",
        "  def forward(self, x: Tensor, y: Tensor, se_imp:bool=True, num_indentacao:int=0)->Tensor:\n",
        "    \"\"\"\n",
        "    MulNode: Cálculo da adição\n",
        "    \"\"\"\n",
        "    self.x = x \n",
        "    self.y = y \n",
        "    self.se_imp = se_imp\n",
        "    self.saida = Tensor(\"*(\"+self.x.nome +\",\" + self.y.nome+\")\", self.x.data * self.y.data, self, se_imp=se_imp, num_indentacao = num_indentacao)\n",
        "    if self.se_imp:\n",
        "      print(\"  \"*num_indentacao+f\"Saindo MulNode().forward: *({self.x.data},{self.y.data}) resultado: {self.saida.descr}\")\n",
        "    return self.saida     \n",
        "    \n",
        "  def backward(self, upstream_grad: float, num_indentacao:int=0):\n",
        "    \"\"\"\n",
        "    A operação de soma tem o objetivo de ser um \"distribuidor\", logo a derivada de z /derivada de x = 1 \n",
        "      basta então, multiplicar 1 (gradiente local) pelo gradiente da frente.\n",
        "    MulNode().backward - cálculo do gradiente em relação a x: (1 – θ(x)) * θ(x)\n",
        "    \"\"\"\n",
        "    if self.se_imp:\n",
        "      print(\"  \"*num_indentacao+f\"MulNode().backward (entrando) [*({self.x.data},{self.y.data})] - upstream_grad: {upstream_grad} :: {self.saida.nome}\")\n",
        "    if upstream_grad is None:\n",
        "      upstream_grad = 1.\n",
        "    self.saida.grad = upstream_grad      \n",
        "    gradiente_local_x = self.y.data\n",
        "    gradiente_local_y = self.x.data\n",
        "    if self.se_imp:\n",
        "      print(\"  \"*num_indentacao+f\"MulNode().backward [*({self.x.data},{self.y.data})] - A seguir sobre parm1.backward: {self.x.data} :: {self.saida.nome}\")\n",
        "    self.x.backward(gradiente_local_x * upstream_grad, num_indentacao = num_indentacao+1)\n",
        "    if self.se_imp:\n",
        "      print(\"  \"*num_indentacao+f\"MulNode().backward [*({self.x.data},{self.y.data})] - A seguir sobre parm2.backward: {self.y.data} :: {self.saida.nome}\")\n",
        "    self.y.backward(gradiente_local_y * upstream_grad, num_indentacao = num_indentacao+1) "
      ],
      "execution_count": 253,
      "outputs": []
    },
    {
      "cell_type": "markdown",
      "metadata": {
        "id": "61FgtL-6Z0y2"
      },
      "source": [
        "Agora que temos todos os nós implementados, podemos implementar as funções `forward` e `backward` de uma camada não-linear."
      ]
    },
    {
      "cell_type": "code",
      "metadata": {
        "id": "o1N4eVVMaCIP"
      },
      "source": [
        "class NonLinear():\n",
        "  def __init__(self, init_w_value:float=0, init_b_value:float=0, se_imp:bool=True):\n",
        "    super().__init__()  \n",
        "    self.se_imp = se_imp\n",
        "    if self.se_imp:\n",
        "      print(f\"NonLinear().init\")      \n",
        "    # Inicializa os pesos w e b em zero.\n",
        "    self._w = Tensor('model.w', init_w_value,se_imp=False, num_indentacao = 1) \n",
        "    self._b = Tensor('model.w', init_b_value,se_imp=False, num_indentacao = 1) \n",
        "    self.sigmoid = SigmoidNode()\n",
        "    self.addnode = AddNode()\n",
        "    self.mulnode = MulNode()    \n",
        "    print(f\"Inicialização de self.parametros_valores {self.parametros_valores}\")\n",
        "\n",
        "  @property\n",
        "  def parametros(self)->list:\n",
        "    return [self._w, self._b]\n",
        "\n",
        "  @property\n",
        "  def w(self)->Tensor:\n",
        "    return self._w\n",
        "\n",
        "  @property\n",
        "  def b(self)->Tensor:\n",
        "    return self._b\n",
        "\n",
        "  @property\n",
        "  def parametros_valores(self)->str:\n",
        "    return f\"w: {self._w.data}, b: {self._b.data}\"\n",
        "\n",
        "  def backward(self, upstream_grad: float = 1., num_indentacao:int=0):\n",
        "    self.saida.grad = upstream_grad\n",
        "    self.sigmoid.backward(upstream_grad,  num_indentacao = num_indentacao)\n",
        "\n",
        "  def forward(self, x: Tensor)->Tensor:\n",
        "    if self.se_imp:\n",
        "      print(f\"NonLinear().forward (entrando) {x.descr}\")      \n",
        "    self.saida = self.sigmoid.forward(self.addnode.forward(self.mulnode.forward(self._w, x, se_imp=self.se_imp, num_indentacao = 3), self._b, se_imp=self.se_imp, num_indentacao = 2), se_imp=self.se_imp, num_indentacao = 1)\n",
        "    self.saida.previous_node = self\n",
        "    if self.se_imp:\n",
        "      print(f\"NonLinear().forward: resultado: {self.saida.descr}\")\n",
        "    return self.saida\n"
      ],
      "execution_count": 254,
      "outputs": []
    },
    {
      "cell_type": "markdown",
      "metadata": {
        "id": "IIb90Wu1aGB3"
      },
      "source": [
        "Para treinar esta rede, usaremos a função de custo Mean Squared Error (MSE):\n",
        "\n",
        "$L = (y_\\text{pred} - y_\\text{target})^2$\n",
        "\n",
        "Como por simplicidade optamos por não criar o nó de exponenciação, iremos substituir a operação de elevar ao quadrado pela multiplicacão das diferenças:\n",
        "$L = (y_\\text{pred} - y_\\text{target}) * (y_\\text{pred} - y_\\text{target})$\n"
      ]
    },
    {
      "cell_type": "code",
      "metadata": {
        "id": "prm0OP27pynW"
      },
      "source": [
        "def compute_loss(y_target: Tensor, y_pred: Tensor, se_imp:bool=True):\n",
        "  if se_imp:\n",
        "    print(f\"\\ncompute_loss (entrando): {y_target.descr} x {y_pred.descr}\")\n",
        "  result = MulNode().forward(SubNode().forward(y_pred,y_target, se_imp=se_imp, num_indentacao = 2), SubNode().forward(y_pred, y_target, se_imp=se_imp, num_indentacao = 2), se_imp=se_imp, num_indentacao = 1)\n",
        "  if se_imp:\n",
        "    print(f\"compute_loss saindo: resultado: {result.descr} \\n\")\n",
        "  return result"
      ],
      "execution_count": 257,
      "outputs": []
    },
    {
      "cell_type": "markdown",
      "source": [
        "Também precisamos criar a classe do optimizador SGD, para atualizar os pesos da rede."
      ],
      "metadata": {
        "id": "12HHy6jV6bfc"
      }
    },
    {
      "cell_type": "code",
      "source": [
        "class SGD():\n",
        "  def __init__(self, parameters: List[Tensor], learning_rate: float, se_imp:bool=True):\n",
        "    super().__init__()     \n",
        "    self.se_imp = se_imp\n",
        "    if self.se_imp:\n",
        "      print(f\"SGD().init parameters: {[parm.nome for parm in parameters]} learning_rate: {learning_rate}\")      \n",
        "    self.parameters = parameters\n",
        "    self.learning_rate = learning_rate   \n",
        "\n",
        "  def step(self):\n",
        "    if self.se_imp:\n",
        "      print(f\"SGD().step \")      \n",
        "    for parameter in self.parameters:\n",
        "      parameter.data = parameter.data - self.learning_rate * parameter.grad\n",
        "\n",
        "  def zero_grad(self):\n",
        "    if self.se_imp:\n",
        "      print(f\"SGD().zero_grad \")      \n",
        "    for parameter in self.parameters:\n",
        "      parameter.grad = 0"
      ],
      "metadata": {
        "id": "4R8_Qyfj6avq"
      },
      "execution_count": 258,
      "outputs": []
    },
    {
      "cell_type": "markdown",
      "metadata": {
        "id": "plTCBJWjpwCp"
      },
      "source": [
        "Por fim, vamos aprender os pesos `w` e `b` para mapear um valor de entrada $x$ para um valor de saída $y_\\text{target}$. Para isso, inicializamos o grafo da rede e rodamos o laço de optimização, que vai aplicar a descida do gradiente a cada iteração:"
      ]
    },
    {
      "cell_type": "markdown",
      "source": [
        "### Visualizando log do cálculo\n"
      ],
      "metadata": {
        "id": "OaNHirnh9yHC"
      }
    },
    {
      "cell_type": "code",
      "source": [
        "se_imprime_calculo=True"
      ],
      "metadata": {
        "id": "LUenj7PY9wNa"
      },
      "execution_count": 259,
      "outputs": []
    },
    {
      "cell_type": "code",
      "metadata": {
        "id": "rp5ttTsGaPmA",
        "colab": {
          "base_uri": "https://localhost:8080/"
        },
        "outputId": "3c11374f-63c7-4ecb-cafb-f296fc968e8d"
      },
      "source": [
        "model = NonLinear(se_imp=se_imprime_calculo)"
      ],
      "execution_count": 260,
      "outputs": [
        {
          "output_type": "stream",
          "name": "stdout",
          "text": [
            "NonLinear().init\n",
            "Inicialização de self.parametros_valores w: 0, b: 0\n"
          ]
        }
      ]
    },
    {
      "cell_type": "code",
      "source": [
        "# optimizer = SGD(parameters=[model.w, model.b], learning_rate=learning_rate)\n",
        "learning_rate = 0.1\n",
        "optimizer = SGD(parameters=model.parametros, learning_rate=learning_rate, se_imp=se_imprime_calculo)\n",
        "x = Tensor('x', -5, se_imp=se_imprime_calculo)\n",
        "y_target = Tensor('y_target', 0.76,se_imp=se_imprime_calculo)"
      ],
      "metadata": {
        "colab": {
          "base_uri": "https://localhost:8080/"
        },
        "id": "EBLcBYvkrKTK",
        "outputId": "2d20640b-d07d-442e-da81-4364182fdc08"
      },
      "execution_count": 261,
      "outputs": [
        {
          "output_type": "stream",
          "name": "stdout",
          "text": [
            "SGD().init parameters: ['model.w', 'model.w'] learning_rate: 0.1\n",
            "Tensor().__init__ nome: x; data: -5; previous_node: None grad: 0 \n",
            "Tensor().__init__ nome: y_target; data: 0.76; previous_node: None grad: 0 \n"
          ]
        }
      ]
    },
    {
      "cell_type": "code",
      "source": [
        "optimizer.zero_grad()\n",
        "# Roda a um passo forward do modelo.\n",
        "y_pred = model.forward(x)\n",
        "# Calcula o gradiente do erro, data a predição do modelo.\n",
        "loss = compute_loss(y_target=y_target, y_pred=y_pred, se_imp=se_imprime_calculo)\n",
        "# Calcula agora os gradientes de w e b usando a função backward do modelo.\n"
      ],
      "metadata": {
        "colab": {
          "base_uri": "https://localhost:8080/"
        },
        "id": "OPBQtGDn-FQh",
        "outputId": "b0684f6d-77f3-4c88-c49a-5df6e08b92a4"
      },
      "execution_count": 262,
      "outputs": [
        {
          "output_type": "stream",
          "name": "stdout",
          "text": [
            "SGD().zero_grad \n",
            "NonLinear().forward (entrando) nome: x; data: -5; previous_node: None grad: 0\n",
            "      Tensor().__init__ nome: *(model.w,x); data: 0; previous_node: <__main__.MulNode object at 0x7f75e689bb10> grad: 0 \n",
            "      Saindo MulNode().forward: *(0,-5) resultado: nome: *(model.w,x); data: 0; previous_node: <__main__.MulNode object at 0x7f75e689bb10> grad: 0\n",
            "    Tensor().__init__ nome: +(*(model.w,x),model.w); data: 0; previous_node: <__main__.AddNode object at 0x7f75e689b790> grad: 0 \n",
            "    Saindo AddNode().forward: +(0,0) resultado: nome: +(*(model.w,x),model.w); data: 0; previous_node: <__main__.AddNode object at 0x7f75e689b790> grad: 0\n",
            "  Tensor().__init__ nome: o(+(*(model.w,x),model.w)); data: 0.5; previous_node: <__main__.SigmoidNode object at 0x7f75e689b990> grad: 0 \n",
            "  SigmoidNode().forward: o(0) resultado: nome: o(+(*(model.w,x),model.w)); data: 0.5; previous_node: <__main__.SigmoidNode object at 0x7f75e689b990> grad: 0\n",
            "NonLinear().forward: resultado: nome: o(+(*(model.w,x),model.w)); data: 0.5; previous_node: <__main__.NonLinear object at 0x7f75e689bcd0> grad: 0\n",
            "\n",
            "compute_loss (entrando): nome: y_target; data: 0.76; previous_node: None grad: 0 x nome: o(+(*(model.w,x),model.w)); data: 0.5; previous_node: <__main__.NonLinear object at 0x7f75e689bcd0> grad: 0\n",
            "    Tensor().__init__ nome: -(o(+(*(model.w,x),model.w)),y_target); data: -0.26; previous_node: <__main__.SubNode object at 0x7f75e6901850> grad: 0 \n",
            "    Saindo SubNode().forward: -(0.5,0.76) resultado: nome: -(o(+(*(model.w,x),model.w)),y_target); data: -0.26; previous_node: <__main__.SubNode object at 0x7f75e6901850> grad: 0\n",
            "    Tensor().__init__ nome: -(o(+(*(model.w,x),model.w)),y_target); data: -0.26; previous_node: <__main__.SubNode object at 0x7f75e68da990> grad: 0 \n",
            "    Saindo SubNode().forward: -(0.5,0.76) resultado: nome: -(o(+(*(model.w,x),model.w)),y_target); data: -0.26; previous_node: <__main__.SubNode object at 0x7f75e68da990> grad: 0\n",
            "  Tensor().__init__ nome: *(-(o(+(*(model.w,x),model.w)),y_target),-(o(+(*(model.w,x),model.w)),y_target)); data: 0.06760000000000001; previous_node: <__main__.MulNode object at 0x7f75e6901050> grad: 0 \n",
            "  Saindo MulNode().forward: *(-0.26,-0.26) resultado: nome: *(-(o(+(*(model.w,x),model.w)),y_target),-(o(+(*(model.w,x),model.w)),y_target)); data: 0.06760000000000001; previous_node: <__main__.MulNode object at 0x7f75e6901050> grad: 0\n",
            "compute_loss saindo: resultado: nome: *(-(o(+(*(model.w,x),model.w)),y_target),-(o(+(*(model.w,x),model.w)),y_target)); data: 0.06760000000000001; previous_node: <__main__.MulNode object at 0x7f75e6901050> grad: 0 \n",
            "\n"
          ]
        }
      ]
    },
    {
      "cell_type": "code",
      "source": [
        "loss.backward()\n"
      ],
      "metadata": {
        "colab": {
          "base_uri": "https://localhost:8080/"
        },
        "id": "b6y-RJba-XXB",
        "outputId": "b6f7bbe0-3101-4c00-bc71-b1705195fc53"
      },
      "execution_count": 263,
      "outputs": [
        {
          "output_type": "stream",
          "name": "stdout",
          "text": [
            "Tensor().backward (entrando) - self.nome: *(-(o(+(*(model.w,x),model.w)),y_target),-(o(+(*(model.w,x),model.w)),y_target)), self.previous_node: <__main__.MulNode object at 0x7f75e6901050> upstream_grad: None\n",
            "  MulNode().backward (entrando) [*(-0.26,-0.26)] - upstream_grad: 1.0 :: *(-(o(+(*(model.w,x),model.w)),y_target),-(o(+(*(model.w,x),model.w)),y_target))\n",
            "  MulNode().backward [*(-0.26,-0.26)] - A seguir sobre parm1.backward: -0.26 :: *(-(o(+(*(model.w,x),model.w)),y_target),-(o(+(*(model.w,x),model.w)),y_target))\n",
            "    Tensor().backward (entrando) - self.nome: -(o(+(*(model.w,x),model.w)),y_target), self.previous_node: <__main__.SubNode object at 0x7f75e6901850> upstream_grad: -0.26\n",
            "      SubNode().backward (entrando) [-(0.5,0.76)] - upstream_grad: -0.26 :: -(o(+(*(model.w,x),model.w)),y_target)\n",
            "      SubNode().backward [-(0.5,0.76)] - A seguir sobre parm1.backward: 0.5 :: -(o(+(*(model.w,x),model.w)),y_target)\n",
            "        Tensor().backward (entrando) - self.nome: o(+(*(model.w,x),model.w)), self.previous_node: <__main__.NonLinear object at 0x7f75e689bcd0> upstream_grad: -0.26\n",
            "          SigmoidNode().backward (entrando) - upstream_grad: -0.26 :: o(o(+(*(model.w,x),model.w))) \n",
            "          SigmoidNode().backward  (saindo) - A seguir sobre parm.backward : 0 :: o(o(+(*(model.w,x),model.w))) \n",
            "            Tensor().backward (entrando) - self.nome: +(*(model.w,x),model.w), self.previous_node: <__main__.AddNode object at 0x7f75e689b790> upstream_grad: -0.065\n",
            "              AddNode().backward (entrando) +(*(model.w,x),model.w) [+(0,0)] - upstream_grad: -0.065 :: +(*(model.w,x),model.w)\n",
            "              AddNode().backward [+(0,0)] - A seguir sobre parm1.backward: 0 :: +(*(model.w,x),model.w)\n",
            "                Tensor().backward (entrando) - self.nome: *(model.w,x), self.previous_node: <__main__.MulNode object at 0x7f75e689bb10> upstream_grad: -0.065\n",
            "                  MulNode().backward (entrando) [*(0,-5)] - upstream_grad: -0.065 :: *(model.w,x)\n",
            "                  MulNode().backward [*(0,-5)] - A seguir sobre parm1.backward: 0 :: *(model.w,x)\n",
            "                  MulNode().backward [*(0,-5)] - A seguir sobre parm2.backward: -5 :: *(model.w,x)\n",
            "                    Tensor().backward (entrando) - self.nome: x, self.previous_node: None upstream_grad: -0.0\n",
            "                    Tensor().backward (saindo) x: grad= 0.0\n",
            "                Tensor().backward (saindo) *(model.w,x): grad= -0.065\n",
            "              AddNode().backward [+(0,0)] - A seguir sobre parm2.backward: 0 :: +(*(model.w,x),model.w)\n",
            "            Tensor().backward (saindo) +(*(model.w,x),model.w): grad= -0.065\n",
            "        Tensor().backward (saindo) o(+(*(model.w,x),model.w)): grad= -0.26\n",
            "      SubNode().backward [-(0.5,0.76)] - A seguir sobre parm2.backward: 0.76 :: -(o(+(*(model.w,x),model.w)),y_target)\n",
            "        Tensor().backward (entrando) - self.nome: y_target, self.previous_node: None upstream_grad: 0.26\n",
            "        Tensor().backward (saindo) y_target: grad= 0.26\n",
            "    Tensor().backward (saindo) -(o(+(*(model.w,x),model.w)),y_target): grad= -0.26\n",
            "  MulNode().backward [*(-0.26,-0.26)] - A seguir sobre parm2.backward: -0.26 :: *(-(o(+(*(model.w,x),model.w)),y_target),-(o(+(*(model.w,x),model.w)),y_target))\n",
            "    Tensor().backward (entrando) - self.nome: -(o(+(*(model.w,x),model.w)),y_target), self.previous_node: <__main__.SubNode object at 0x7f75e68da990> upstream_grad: -0.26\n",
            "      SubNode().backward (entrando) [-(0.5,0.76)] - upstream_grad: -0.26 :: -(o(+(*(model.w,x),model.w)),y_target)\n",
            "      SubNode().backward [-(0.5,0.76)] - A seguir sobre parm1.backward: 0.5 :: -(o(+(*(model.w,x),model.w)),y_target)\n",
            "        Tensor().backward (entrando) - self.nome: o(+(*(model.w,x),model.w)), self.previous_node: <__main__.NonLinear object at 0x7f75e689bcd0> upstream_grad: -0.26\n",
            "          SigmoidNode().backward (entrando) - upstream_grad: -0.26 :: o(o(+(*(model.w,x),model.w))) \n",
            "          SigmoidNode().backward  (saindo) - A seguir sobre parm.backward : 0 :: o(o(+(*(model.w,x),model.w))) \n",
            "            Tensor().backward (entrando) - self.nome: +(*(model.w,x),model.w), self.previous_node: <__main__.AddNode object at 0x7f75e689b790> upstream_grad: -0.065\n",
            "              AddNode().backward (entrando) +(*(model.w,x),model.w) [+(0,0)] - upstream_grad: -0.065 :: +(*(model.w,x),model.w)\n",
            "              AddNode().backward [+(0,0)] - A seguir sobre parm1.backward: 0 :: +(*(model.w,x),model.w)\n",
            "                Tensor().backward (entrando) - self.nome: *(model.w,x), self.previous_node: <__main__.MulNode object at 0x7f75e689bb10> upstream_grad: -0.065\n",
            "                  MulNode().backward (entrando) [*(0,-5)] - upstream_grad: -0.065 :: *(model.w,x)\n",
            "                  MulNode().backward [*(0,-5)] - A seguir sobre parm1.backward: 0 :: *(model.w,x)\n",
            "                  MulNode().backward [*(0,-5)] - A seguir sobre parm2.backward: -5 :: *(model.w,x)\n",
            "                    Tensor().backward (entrando) - self.nome: x, self.previous_node: None upstream_grad: -0.0\n",
            "                    Tensor().backward (saindo) x: grad= 0.0\n",
            "                Tensor().backward (saindo) *(model.w,x): grad= -0.065\n",
            "              AddNode().backward [+(0,0)] - A seguir sobre parm2.backward: 0 :: +(*(model.w,x),model.w)\n",
            "            Tensor().backward (saindo) +(*(model.w,x),model.w): grad= -0.065\n",
            "        Tensor().backward (saindo) o(+(*(model.w,x),model.w)): grad= -0.26\n",
            "      SubNode().backward [-(0.5,0.76)] - A seguir sobre parm2.backward: 0.76 :: -(o(+(*(model.w,x),model.w)),y_target)\n",
            "        Tensor().backward (entrando) - self.nome: y_target, self.previous_node: None upstream_grad: 0.26\n",
            "        Tensor().backward (saindo) y_target: grad= 0.52\n",
            "    Tensor().backward (saindo) -(o(+(*(model.w,x),model.w)),y_target): grad= -0.26\n",
            "Tensor().backward (saindo) *(-(o(+(*(model.w,x),model.w)),y_target),-(o(+(*(model.w,x),model.w)),y_target)): grad= 1.0\n"
          ]
        }
      ]
    },
    {
      "cell_type": "code",
      "source": [
        "# Atualiza os pesos w e b usando os seus respectivos gradientes.\n",
        "optimizer.step()\n",
        "print(f' y_prime: {y_pred.data} loss: {loss.data} model.parametros_valores: {model.parametros_valores}\\n\\n') "
      ],
      "metadata": {
        "colab": {
          "base_uri": "https://localhost:8080/"
        },
        "id": "97FfFlBa-un6",
        "outputId": "df3bc8b4-a004-4275-c12a-dfff0fb4c350"
      },
      "execution_count": 264,
      "outputs": [
        {
          "output_type": "stream",
          "name": "stdout",
          "text": [
            "SGD().step \n",
            " y_prime: 0.5 loss: 0.06760000000000001 model.parametros_valores: w: -0.065, b: 0.013000000000000001\n",
            "\n",
            "\n"
          ]
        }
      ]
    },
    {
      "cell_type": "markdown",
      "source": [
        "### Cálculo efetivo"
      ],
      "metadata": {
        "id": "4G0OtNTM96OR"
      }
    },
    {
      "cell_type": "code",
      "source": [
        "def inicia_hparam()->dict:\n",
        "  # Inicialização dos parâmetros\n",
        "  hparam = {}\n",
        "  hparam['max_epochs'] = 50\n",
        "  hparam[\"learning_rate\"] = 0.1 \n",
        "  hparam[\"device\"] = 'cpu'\n",
        "  hparam[\"loss\"] = 'mse'\n",
        "  return hparam"
      ],
      "metadata": {
        "id": "UJxfbf1G-_iX"
      },
      "execution_count": 265,
      "outputs": []
    },
    {
      "cell_type": "code",
      "source": [
        "hparam=inicia_hparam()"
      ],
      "metadata": {
        "id": "HfWKlq_W_Ljo"
      },
      "execution_count": 266,
      "outputs": []
    },
    {
      "cell_type": "code",
      "source": [
        "se_imprime_calculo=False"
      ],
      "metadata": {
        "id": "VoWgU3rY9_iR"
      },
      "execution_count": 267,
      "outputs": []
    },
    {
      "cell_type": "code",
      "source": [
        "inicializa_seed()"
      ],
      "metadata": {
        "id": "wYAie49NI9kR"
      },
      "execution_count": 268,
      "outputs": []
    },
    {
      "cell_type": "code",
      "metadata": {
        "colab": {
          "base_uri": "https://localhost:8080/"
        },
        "outputId": "6b40da65-96cd-4fbb-f060-dafcae038808",
        "id": "XE9jJkgQ9_iS"
      },
      "source": [
        "model = NonLinear(se_imp=se_imprime_calculo)"
      ],
      "execution_count": 269,
      "outputs": [
        {
          "output_type": "stream",
          "name": "stdout",
          "text": [
            "Inicialização de self.parametros_valores w: 0, b: 0\n"
          ]
        }
      ]
    },
    {
      "cell_type": "code",
      "source": [
        "model.parametros_valores"
      ],
      "metadata": {
        "colab": {
          "base_uri": "https://localhost:8080/",
          "height": 35
        },
        "id": "No-wjj6FJt5X",
        "outputId": "03055b6e-84ef-47cf-f0e0-16d88a52adb7"
      },
      "execution_count": 270,
      "outputs": [
        {
          "output_type": "execute_result",
          "data": {
            "text/plain": [
              "'w: 0, b: 0'"
            ],
            "application/vnd.google.colaboratory.intrinsic+json": {
              "type": "string"
            }
          },
          "metadata": {},
          "execution_count": 270
        }
      ]
    },
    {
      "cell_type": "code",
      "source": [
        "# optimizer = SGD(parameters=[model.w, model.b], learning_rate=learning_rate)\n",
        "hparam['learning_rate'] = 0.1\n",
        "hparam['max_epochs'] = 50\n",
        "optimizer = SGD(parameters=model.parametros, learning_rate=hparam['learning_rate'], se_imp=se_imprime_calculo)\n"
      ],
      "metadata": {
        "id": "VU7sMXaN9_iS"
      },
      "execution_count": 271,
      "outputs": []
    },
    {
      "cell_type": "code",
      "source": [
        "x = Tensor('x', -5, se_imp=se_imprime_calculo)\n",
        "y_target = Tensor('y_target', 0.76,se_imp=se_imprime_calculo)"
      ],
      "metadata": {
        "id": "G9wHTJYN_V6g"
      },
      "execution_count": 272,
      "outputs": []
    },
    {
      "cell_type": "code",
      "source": [
        "rastro_neptune = NeptuneRastroRun(hparam, parm_lista_tag=[\"exercicio 3\", \"nao_linear_sigmoid_sobre_linear\"]) "
      ],
      "metadata": {
        "colab": {
          "base_uri": "https://localhost:8080/"
        },
        "id": "XhY5dmcL8l9s",
        "outputId": "6972cad7-652c-41f8-ed6b-9281eed61fa1"
      },
      "execution_count": 273,
      "outputs": [
        {
          "output_type": "stream",
          "name": "stdout",
          "text": [
            "https://app.neptune.ai/marcusborela/IA025/e/COUNTXEMBE-26\n",
            "Remember to stop your run once you’ve finished logging your metadata (https://docs.neptune.ai/api-reference/run#.stop). It will be stopped automatically only when the notebook kernel/interactive console is terminated.\n"
          ]
        }
      ]
    },
    {
      "cell_type": "code",
      "source": [
        "loss_history = []\n",
        "for i in range(hparam['max_epochs'] ):\n",
        "    # Zera os gradientes dos passo anterior.\n",
        "    optimizer.zero_grad()\n",
        "    # Roda a um passo forward do modelo.\n",
        "    y_pred = model.forward(x)\n",
        "    # Calcula o gradiente do erro, data a predição do modelo.\n",
        "    loss = compute_loss(y_target=y_target, y_pred=y_pred, se_imp=se_imprime_calculo)\n",
        "    # Calcula agora os gradientes de w e b usando a função backward do modelo.\n",
        "    loss.backward()\n",
        "    # Atualiza os pesos w e b usando os seus respectivos gradientes.\n",
        "    optimizer.step()\n",
        "    # salva no rastro\n",
        "    metrica_rastro = {\"train/loss\": loss.data}  \n",
        "    rastro_neptune.salva_metrica(metrica_rastro)   \n",
        "    loss_history.append(loss.data)     \n",
        "    print(f'iter:{i}: y_prime: {y_pred.data} loss: {loss.data} model.parametros_valores: {model.parametros_valores}')  \n"
      ],
      "metadata": {
        "colab": {
          "base_uri": "https://localhost:8080/"
        },
        "id": "GMRBJB4N9BgK",
        "outputId": "e791d5fd-02de-4fe8-991b-e0b81f46e1aa"
      },
      "execution_count": 274,
      "outputs": [
        {
          "output_type": "stream",
          "name": "stdout",
          "text": [
            "iter:0: y_prime: 0.5 loss: 0.06760000000000001 model.parametros_valores: w: -0.065, b: 0.013000000000000001\n",
            "iter:1: y_prime: 0.5837046173683925 loss: 0.03108006193722489 model.parametros_valores: w: -0.10783863858792503, b: 0.021567727717585007\n",
            "iter:2: y_prime: 0.6366285843520386 loss: 0.015220506198982053 model.parametros_valores: w: -0.13637847262893688, b: 0.027275694525787375\n",
            "iter:3: y_prime: 0.6702173049125246 loss: 0.008060932337170576 model.parametros_valores: w: -0.15622278879807214, b: 0.031244557759614426\n",
            "iter:4: y_prime: 0.6926118588833087 loss: 0.004541161563163106 model.parametros_valores: w: -0.1705697693143493, b: 0.03411395386286986\n",
            "iter:5: y_prime: 0.7082630037746998 loss: 0.002676716778416733 model.parametros_valores: w: -0.18126000486475963, b: 0.03625200097295193\n",
            "iter:6: y_prime: 0.7196148662766375 loss: 0.0016309590258538709 model.parametros_valores: w: -0.18940848545098854, b: 0.03788169709019771\n",
            "iter:7: y_prime: 0.7280841768455426 loss: 0.0010186197676265991 model.parametros_valores: w: -0.1957271037851622, b: 0.039145420757032444\n",
            "iter:8: y_prime: 0.7345401280962437 loss: 0.0006482050773556802 model.parametros_valores: w: -0.20069154784239546, b: 0.040138309568479094\n",
            "iter:9: y_prime: 0.7395432699196375 loss: 0.0004184778055808091 model.parametros_valores: w: -0.20463190318044222, b: 0.040926380636088444\n",
            "iter:10: y_prime: 0.7434705908546596 loss: 0.0002732213666940629 model.parametros_valores: w: -0.2077844263314759, b: 0.041556885266295175\n",
            "iter:11: y_prime: 0.7465846221394693 loss: 0.0001799723631408175 model.parametros_valores: w: -0.21032256248481393, b: 0.04206451249696278\n",
            "iter:12: y_prime: 0.749073553182271 loss: 0.00011938724006066084 model.parametros_valores: w: -0.21237632327087, b: 0.042475264654174\n",
            "iter:13: y_prime: 0.7510755634376279 loss: 7.964556795580347e-05 model.parametros_valores: w: -0.214044845403365, b: 0.042808969080673\n",
            "iter:14: y_prime: 0.752694160393387 loss: 5.337529235755546e-05 model.parametros_valores: w: -0.21540479574831223, b: 0.043080959149662444\n",
            "iter:15: y_prime: 0.7540081808314562 loss: 3.590189694852957e-05 model.parametros_valores: w: -0.21651615743339353, b: 0.04330323148667871\n",
            "iter:16: y_prime: 0.7550785096793768 loss: 2.4221066975987528e-05 model.parametros_valores: w: -0.21742631301895604, b: 0.04348526260379121\n",
            "iter:17: y_prime: 0.755952714496937 loss: 1.6380519943303855e-05 model.parametros_valores: w: -0.21817298946844435, b: 0.04363459789368887\n",
            "iter:18: y_prime: 0.7566683180371979 loss: 1.1100104701260794e-05 model.parametros_valores: w: -0.2187864233308855, b: 0.0437572846661771\n",
            "iter:19: y_prime: 0.7572551577602015 loss: 7.534158921382263e-06 model.parametros_valores: w: -0.21929097963798622, b: 0.043858195927597245\n",
            "iter:20: y_prime: 0.7577371188227114 loss: 5.1206312225268915e-06 model.parametros_valores: w: -0.21970638030557935, b: 0.04394127606111587\n",
            "iter:21: y_prime: 0.7581334279605325 loss: 3.484091178521846e-06 model.parametros_valores: w: -0.22004864826968387, b: 0.04400972965393678\n",
            "iter:22: y_prime: 0.7584596336238502 loss: 2.372728572773017e-06 model.parametros_valores: w: -0.22033084126068014, b: 0.04406616825213603\n",
            "iter:23: y_prime: 0.7587283579606848 loss: 1.6170734761536686e-06 model.parametros_valores: w: -0.22056362759052023, b: 0.044112725518104044\n",
            "iter:24: y_prime: 0.7589498802167108 loss: 1.102751559255297e-06 model.parametros_valores: w: -0.22075574171178175, b: 0.04415114834235635\n",
            "iter:25: y_prime: 0.759132593748223 loss: 7.523936056219261e-07 model.parametros_valores: w: -0.2209143472041499, b: 0.04418286944082998\n",
            "iter:26: y_prime: 0.7592833670372603 loss: 5.135628032851034e-07 model.parametros_valores: w: -0.2210453277411753, b: 0.04420906554823506\n",
            "iter:27: y_prime: 0.7594078309332755 loss: 3.506642035854199e-07 model.parametros_valores: w: -0.22115352151667922, b: 0.044230704303335845\n",
            "iter:28: y_prime: 0.7595106086081933 loss: 2.395039343745027e-07 model.parametros_valores: w: -0.22124291093137946, b: 0.0442485821862759\n",
            "iter:29: y_prime: 0.7595955006174161 loss: 1.6361975051076568e-07 model.parametros_valores: w: -0.22131677663484894, b: 0.044263355326969796\n",
            "iter:30: y_prime: 0.75966563449483 loss: 1.1180029104756559e-07 model.parametros_valores: w: -0.22137782300176112, b: 0.04427556460035223\n",
            "iter:31: y_prime: 0.7597235861335783 loss: 7.64046255502172e-08 model.parametros_valores: w: -0.22142828060028244, b: 0.04428565612005649\n",
            "iter:32: y_prime: 0.7597714785857903 loss: 5.222203675240293e-08 model.parametros_valores: w: -0.22146999004975954, b: 0.044293998009951915\n",
            "iter:33: y_prime: 0.7598110626958986 loss: 3.5697304881109e-08 model.parametros_valores: w: -0.2215044707698816, b: 0.04430089415397633\n",
            "iter:34: y_prime: 0.7598437830543183 loss: 2.440373411811497e-08 model.parametros_valores: w: -0.22153297742690342, b: 0.04430659548538069\n",
            "iter:35: y_prime: 0.7598708320443492 loss: 1.6684360766998337e-08 model.parametros_valores: w: -0.22155654633572663, b: 0.044311309267145334\n",
            "iter:36: y_prime: 0.7598931942006135 loss: 1.1407478782586943e-08 model.parametros_valores: w: -0.2215760336442053, b: 0.04431520672884107\n",
            "iter:37: y_prime: 0.7599116826628661 loss: 7.799952038419558e-09 model.parametros_valores: w: -0.2215921467817847, b: 0.04431842935635695\n",
            "iter:38: y_prime: 0.7599269691660118 loss: 5.333502713018058e-09 model.parametros_valores: w: -0.22160547037893608, b: 0.04432109407578722\n",
            "iter:39: y_prime: 0.7599396087345267 loss: 3.6471049454669566e-09 model.parametros_valores: w: -0.22161648764203273, b: 0.04432329752840655\n",
            "iter:40: y_prime: 0.7599500600314741 loss: 2.4940004563648322e-09 model.parametros_valores: w: -0.22162559798904755, b: 0.04432511959780951\n",
            "iter:41: y_prime: 0.759958702137105 loss: 1.70551347969202e-09 model.parametros_valores: w: -0.22163313160603618, b: 0.044326626321207235\n",
            "iter:42: y_prime: 0.759965848390577 loss: 1.1663324261807554e-09 model.parametros_valores: w: -0.22163936146604796, b: 0.04432787229320959\n",
            "iter:43: y_prime: 0.759971757813698 loss: 7.976210871191926e-10 model.parametros_valores: w: -0.22164451325556989, b: 0.04432890265111398\n",
            "iter:44: y_prime: 0.7599766445423947 loss: 5.454773999550763e-10 model.parametros_valores: w: -0.2216487735746726, b: 0.04432975471493452\n",
            "iter:45: y_prime: 0.7599806856156233 loss: 3.7304544385265726e-10 model.parametros_valores: w: -0.22165229671235936, b: 0.044330459342471866\n",
            "iter:46: y_prime: 0.7599840274093325 loss: 2.55123652632966e-10 model.parametros_valores: w: -0.22165521024555734, b: 0.044331042049111466\n",
            "iter:47: y_prime: 0.7599867909522462 loss: 1.744789425625632e-10 model.parametros_valores: w: -0.2216576196665944, b: 0.04433152393331887\n",
            "iter:48: y_prime: 0.7599890763185229 loss: 1.1932681701419737e-10 model.parametros_valores: w: -0.22165961220814445, b: 0.04433192244162889\n",
            "iter:49: y_prime: 0.7599909662580948 loss: 8.160849280968648e-11 model.parametros_valores: w: -0.22166126000510364, b: 0.04433225200102073\n"
          ]
        }
      ]
    },
    {
      "cell_type": "code",
      "source": [
        "rastro_neptune.stop()"
      ],
      "metadata": {
        "colab": {
          "base_uri": "https://localhost:8080/"
        },
        "id": "AQt8kW0UAD64",
        "outputId": "40d479c3-1344-4fe5-a1f3-5fb1b258b757"
      },
      "execution_count": 275,
      "outputs": [
        {
          "output_type": "stream",
          "name": "stdout",
          "text": [
            "Shutting down background jobs, please wait a moment...\n",
            "Done!\n"
          ]
        },
        {
          "output_type": "stream",
          "name": "stderr",
          "text": [
            "Waiting for the remaining 166 operations to synchronize with Neptune. Do not kill this process.\n"
          ]
        },
        {
          "output_type": "stream",
          "name": "stdout",
          "text": [
            "All 166 operations synced, thanks for waiting!\n"
          ]
        }
      ]
    },
    {
      "cell_type": "code",
      "source": [
        "# Assert do histórico de losses\n",
        "target_loss_history = np.array([\n",
        "    0.06760000000000001,\n",
        "    0.03108006193722489,\n",
        "    0.015220506198982053,\n",
        "    0.008060932337170576,\n",
        "    0.004541161563163106,\n",
        "    0.002676716778416733,\n",
        "    0.0016309590258538709,\n",
        "    0.0010186197676265991,\n",
        "    0.0006482050773556802,\n",
        "    0.0004184778055808091,\n",
        "    0.0002732213666940629,\n",
        "    0.0001799723631408175,\n",
        "    0.00011938724006066084,\n",
        "    7.964556795580347e-05,\n",
        "    5.337529235755546e-05,\n",
        "    3.590189694852957e-05,\n",
        "    2.4221066975987528e-05,\n",
        "    1.6380519943303855e-05,\n",
        "    1.1100104701260794e-05,\n",
        "    7.534158921382263e-06,\n",
        "    5.1206312225268915e-06,\n",
        "    3.484091178521846e-06,\n",
        "    2.372728572773017e-06,\n",
        "    1.6170734761536686e-06,\n",
        "    1.102751559255297e-06,\n",
        "    7.523936056219261e-07,\n",
        "    5.135628032851034e-07,\n",
        "    3.506642035854199e-07,\n",
        "    2.395039343745027e-07,\n",
        "    1.6361975051076568e-07,\n",
        "    1.1180029104756559e-07,\n",
        "    7.64046255502172e-08,\n",
        "    5.222203675240293e-08,\n",
        "    3.5697304881109e-08,\n",
        "    2.440373411811497e-08,\n",
        "    1.6684360766998337e-08,\n",
        "    1.1407478782586943e-08,\n",
        "    7.799952038419558e-09,\n",
        "    5.333502713018058e-09,\n",
        "    3.6471049454669566e-09,\n",
        "    2.4940004563648322e-09,\n",
        "    1.70551347969202e-09,\n",
        "    1.1663324261807554e-09,\n",
        "    7.976210871191926e-10,\n",
        "    5.454773999550763e-10,\n",
        "    3.7304544385265726e-10,\n",
        "    2.55123652632966e-10,\n",
        "    1.744789425625632e-10,\n",
        "    1.1932681701419737e-10,\n",
        "    8.160849280968648e-11])\n",
        "\n",
        "assert np.allclose(np.array(loss_history), target_loss_history, atol=1e-6)"
      ],
      "metadata": {
        "id": "BXl1zDViH0KZ"
      },
      "execution_count": 277,
      "outputs": []
    },
    {
      "cell_type": "markdown",
      "metadata": {
        "collapsed": true,
        "id": "V8AqQ0n7raQI"
      },
      "source": [
        "# Exercício 4\n",
        "\n",
        "Repita o exercício 3 mas usando uma rede com duas camadas não-lineares:\n",
        "\n",
        "$a = \\sigma(w_1x + b_1)$\n",
        "\n",
        "$y' = \\sigma(w_2a + b_2)$\n"
      ]
    },
    {
      "cell_type": "code",
      "source": [
        "class Net():\n",
        "  def __init__(self, se_imp:bool=True):\n",
        "    super().__init__()  \n",
        "    self.se_imp = se_imp\n",
        "    if self.se_imp:\n",
        "      print(f\"Net().init\")      \n",
        "    # Inicializa os pesos w e b em zero.\n",
        "    self.layer1 = NonLinear(se_imp=self.se_imp)    \n",
        "    self.layer2 = NonLinear(se_imp=self.se_imp)    \n",
        "\n",
        "  @property\n",
        "  def parametros(self)->list:\n",
        "    return self.layer1.parametros + self.layer2.parametros \n",
        "\n",
        "  @property\n",
        "  def parametros_valores(self)->str:\n",
        "    return f'Layer1: {self.layer1.parametros_valores} Layer2: {self.layer2.parametros_valores}'\n",
        "\n",
        "  def forward(self, x: Tensor)->Tensor:\n",
        "    if self.se_imp:\n",
        "      print(f\"Net().forward (entrando) {x.descr}\")      \n",
        "    result = self.layer2.forward(self.layer1.forward(x))\n",
        "    if self.se_imp:\n",
        "      print(f\"Net().forward: resultado: {result.descr}\")\n",
        "    return result\n",
        "\n"
      ],
      "metadata": {
        "id": "fkBfLU3Tlhq3"
      },
      "execution_count": 312,
      "outputs": []
    },
    {
      "cell_type": "code",
      "source": [
        "inicializa_seed()"
      ],
      "metadata": {
        "id": "5yikSpOgKqN4"
      },
      "execution_count": 313,
      "outputs": []
    },
    {
      "cell_type": "code",
      "source": [
        "model = Net(se_imp=se_imprime_calculo)"
      ],
      "metadata": {
        "colab": {
          "base_uri": "https://localhost:8080/"
        },
        "id": "VtBDvr1AAkzY",
        "outputId": "1e21936f-4585-4b50-d4b2-8e5e5a67d9a2"
      },
      "execution_count": 314,
      "outputs": [
        {
          "output_type": "stream",
          "name": "stdout",
          "text": [
            "Inicialização de self.parametros_valores w: 0, b: 0\n",
            "Inicialização de self.parametros_valores w: 0, b: 0\n"
          ]
        }
      ]
    },
    {
      "cell_type": "code",
      "source": [
        "# optimizer = SGD(parameters=[model.w, model.b], learning_rate=learning_rate)\n",
        "hparam['learning_rate'] = 1\n",
        "hparam['max_epochs'] = 50\n",
        "optimizer = SGD(parameters=model.parametros, learning_rate=hparam['learning_rate'], se_imp=se_imprime_calculo)"
      ],
      "metadata": {
        "id": "SdNpsL11Ak8g"
      },
      "execution_count": 315,
      "outputs": []
    },
    {
      "cell_type": "code",
      "source": [
        "x = Tensor('x', -5, se_imp=se_imprime_calculo)\n",
        "y_target = Tensor('y_target', 0.76,se_imp=se_imprime_calculo)"
      ],
      "metadata": {
        "id": "yo85fmogAk8h"
      },
      "execution_count": 316,
      "outputs": []
    },
    {
      "cell_type": "code",
      "source": [
        "rastro_neptune = NeptuneRastroRun(hparam, parm_lista_tag=[\"exercicio 4\", \"sigmoid(sigmoid)\"]) "
      ],
      "metadata": {
        "colab": {
          "base_uri": "https://localhost:8080/"
        },
        "outputId": "ce04c94b-5c5d-4440-a73b-e94114f4a22a",
        "id": "pkCLajrLAk8h"
      },
      "execution_count": 317,
      "outputs": [
        {
          "output_type": "stream",
          "name": "stdout",
          "text": [
            "https://app.neptune.ai/marcusborela/IA025/e/COUNTXEMBE-30\n",
            "Remember to stop your run once you’ve finished logging your metadata (https://docs.neptune.ai/api-reference/run#.stop). It will be stopped automatically only when the notebook kernel/interactive console is terminated.\n"
          ]
        }
      ]
    },
    {
      "cell_type": "code",
      "source": [
        "loss_history = []\n",
        "for i in range(hparam['max_epochs']):\n",
        "    # Zera os gradientes dos passo anterior.\n",
        "    optimizer.zero_grad()\n",
        "    # Roda a um passo forward do modelo.\n",
        "    y_pred = model.forward(x)\n",
        "    # Calcula o gradiente do erro, data a predição do modelo.\n",
        "    loss = compute_loss(y_target=y_target, y_pred=y_pred, se_imp=se_imprime_calculo)\n",
        "    # Calcula agora os gradientes de w e b usando a função backward do modelo.\n",
        "    loss.backward()\n",
        "    # Atualiza os pesos w e b usando os seus respectivos gradientes.\n",
        "    optimizer.step()\n",
        "    # salva no rastro\n",
        "    metrica_rastro = {\"train/loss\": loss.data}  \n",
        "    rastro_neptune.salva_metrica(metrica_rastro)    \n",
        "    loss_history.append(loss.data)    \n",
        "    print(f'iter:{i}: y_prime: {y_pred.data} loss: {loss.data} model.parametros_valores: {model.parametros_valores}')  "
      ],
      "metadata": {
        "colab": {
          "base_uri": "https://localhost:8080/"
        },
        "id": "4L4FuFD7AezX",
        "outputId": "8d689753-b624-4774-907b-69138514e347"
      },
      "execution_count": 318,
      "outputs": [
        {
          "output_type": "stream",
          "name": "stdout",
          "text": [
            "iter:0: y_prime: 0.5 loss: 0.06760000000000001 model.parametros_valores: Layer1: w: 0.0, b: 0.0 Layer2: w: 0.065, b: 0.13\n",
            "iter:1: y_prime: 0.5405358392737893 loss: 0.04816451784326003 model.parametros_valores: Layer1: w: -0.008857131840326637, b: 0.0017714263680653276 Layer2: w: 0.11950542670970238, b: 0.23901085341940476\n",
            "iter:2: y_prime: 0.5744765796464588 loss: 0.03441893949967674 model.parametros_valores: Layer1: w: -0.02239941474722619, b: 0.004479882949445238 Layer2: w: 0.16590142905326294, b: 0.32971445548219713\n",
            "iter:3: y_prime: 0.6028826261849123 loss: 0.024685869154550014 model.parametros_valores: Layer1: w: -0.037948105639742, b: 0.0075896211279484 Layer2: w: 0.2057059526822454, b: 0.40494701950686157\n",
            "iter:4: y_prime: 0.6266601390643447 loss: 0.017779518514339895 model.parametros_valores: Layer1: w: -0.053835854677345744, b: 0.01076717093546915 Layer2: w: 0.23996976353681848, b: 0.46733866297869214\n",
            "iter:5: y_prime: 0.6465730536971908 loss: 0.012865672147580373 model.parametros_valores: Layer1: w: -0.0690851142405117, b: 0.01381702284810234 Layer2: w: 0.26949425731850557, b: 0.5191784842157743\n",
            "iter:6: y_prime: 0.6632636033204088 loss: 0.009357930442551227 model.parametros_valores: Layer1: w: -0.08318184374997202, b: 0.016636368749994405 Layer2: w: 0.2949394665172278, b: 0.5623896644419611\n",
            "iter:7: y_prime: 0.6772724051828616 loss: 0.006843854944228629 model.parametros_valores: Layer1: w: -0.09591000105918747, b: 0.019182000211837497 Layer2: w: 0.31687243116905955, b: 0.5985539488556242\n",
            "iter:8: y_prime: 0.6890538573727616 loss: 0.005033355153684456 model.parametros_valores: Layer1: w: -0.1072329882635784, b: 0.02144659765271568 Layer2: w: 0.33578716001139036, b: 0.6289555967806189\n",
            "iter:9: y_prime: 0.6989878133763727 loss: 0.003722486916596324 model.parametros_valores: Layer1: w: -0.11721329769358735, b: 0.02344265953871747 Layer2: w: 0.3521135023851462, b: 0.6546299947212595\n",
            "iter:10: y_prime: 0.7073895435533437 loss: 0.002767860127525519 model.parametros_valores: Layer1: w: -0.12596146945218203, b: 0.02519229389043641 Layer2: w: 0.3662229759484774, b: 0.676409626996247\n",
            "iter:11: y_prime: 0.7145190255456287 loss: 0.002068519037319172 model.parametros_valores: Layer1: w: -0.13360572488163935, b: 0.026721144976327875 Layer2: w: 0.3784344060104841, b: 0.6949641897530241\n",
            "iter:12: y_prime: 0.7205896871536633 loss: 0.0015531727586461292 model.parametros_valores: Layer1: w: -0.14027511636162177, b: 0.02805502327232436 Layer2: w: 0.38901989604227005, b: 0.7108339494997143\n",
            "iter:13: y_prime: 0.7257763735847048 loss: 0.001171256605013691 model.parametros_valores: Layer1: w: -0.1460909760653064, b: 0.029218195213061286 Layer2: w: 0.39821087463059657, b: 0.7244566659882554\n",
            "iter:14: y_prime: 0.7302223284146934 loss: 0.0008867097250423786 model.parametros_valores: Layer1: w: -0.1511631942177838, b: 0.030232638843556765 Layer2: w: 0.4062038639978235, b: 0.7361889303946517\n",
            "iter:15: y_prime: 0.7340451105726138 loss: 0.0006736562851878449 model.parametros_valores: Layer1: w: -0.15558916390632035, b: 0.03111783278126408 Layer2: w: 0.41316572633227727, b: 0.7463229072455694\n",
            "iter:16: y_prime: 0.7373414881814685 loss: 0.0005134081578305322 model.parametros_valores: Layer1: w: -0.15945410677625488, b: 0.03189082135525098 Layer2: w: 0.41923827630476596, b: 0.7550994107114896\n",
            "iter:17: y_prime: 0.7401914194890802 loss: 0.00039237986185759277 model.parametros_valores: Layer1: w: -0.16283204478241578, b: 0.03256640895648316 Layer2: w: 0.4245422445592028, b: 0.7627181109620361\n",
            "iter:18: y_prime: 0.742661257784815 loss: 0.00030063198160464033 model.parametros_valores: Layer1: w: -0.1657870138666607, b: 0.033157402773332144 Layer2: w: 0.4291806331416478, b: 0.7693455162221431\n",
            "iter:19: y_prime: 0.7448063169691611 loss: 0.00023084800404160196 model.parametros_valores: Layer1: w: -0.168374307583764, b: 0.03367486151675281 Layer2: w: 0.4332415301290204, b: 0.775121238853193\n",
            "iter:20: y_prime: 0.7466729207172407 loss: 0.0001776110422089531 model.parametros_valores: Layer1: w: -0.1706416473161058, b: 0.03412832946322116 Layer2: w: 0.43680045842993986, b: 0.7801629387865588\n",
            "iter:21: y_prime: 0.7483000395535451 loss: 0.00013688907444861002 model.parametros_valores: Layer1: w: -0.17263023540464698, b: 0.0345260470809294 Layer2: w: 0.43992233128411334, b: 0.7845702458013389\n",
            "iter:22: y_prime: 0.749720601305897 loss: 0.00010566603751232631 model.parametros_valores: Layer1: w: -0.17437567916194274, b: 0.034875135832388555 Layer2: w: 0.44266307977085173, b: 0.7884278907573045\n",
            "iter:23: y_prime: 0.7509625434772211 loss: 8.167562040111844e-05 model.parametros_valores: Layer1: w: -0.17590878959938183, b: 0.03518175791987637 Layer2: w: 0.44507100877143746, b: 0.7918082212622947\n",
            "iter:24: y_prime: 0.7520496617896798 loss: 6.320787765847752e-05 model.parametros_valores: Layer1: w: -0.17725626588434928, b: 0.03545125317686986 Layer2: w: 0.44718792896595155, b: 0.7947732357861744\n",
            "iter:25: y_prime: 0.7530022975318224 loss: 4.8967839833139685e-05 model.parametros_valores: Layer1: w: -0.1784412790792086, b: 0.03568825581584172 Layer2: w: 0.44905010436028137, b: 0.7973762388752448\n",
            "iter:26: y_prime: 0.7538378970841556 loss: 3.797151234545809e-05 model.parametros_valores: Layer1: w: -0.17948396886920884, b: 0.03589679377384177 Layer2: w: 0.45068904782319025, b: 0.7996631964230502\n",
            "iter:27: y_prime: 0.7545714697255682 loss: 2.9468940940422566e-05 model.parametros_valores: Layer1: w: -0.18040186601293293, b: 0.03608037320258659 Layer2: w: 0.45213219120239223, b: 0.8016738520196648\n",
            "iter:28: y_prime: 0.7552159641511622 loss: 2.2886999002965188e-05 model.parametros_valores: Layer1: w: -0.18121025182319178, b: 0.03624205036463836 Layer2: w: 0.45340345169841345, b: 0.8034426517918365\n",
            "iter:29: y_prime: 0.7557825797261443 loss: 1.778663376632945e-05 model.parametros_valores: Layer1: w: -0.18192246446104593, b: 0.036384492892209186 Layer2: w: 0.45452371217476123, b: 0.8049995147794363\n",
            "iter:30: y_prime: 0.7562810250827815 loss: 1.3830774434900419e-05 model.parametros_valores: Layer1: w: -0.18255016037383048, b: 0.0365100320747661 Layer2: w: 0.4555112298327116, b: 0.8063704779620435\n",
            "iter:31: y_prime: 0.7567197340153864 loss: 1.0760144929813144e-05 model.parametros_valores: Layer1: w: -0.18310353790463593, b: 0.03662070758092719 Layer2: w: 0.4563819850480176, b: 0.8075782389516828\n",
            "iter:32: y_prime: 0.7571060465670375 loss: 8.37496647215546e-06 model.parametros_valores: Layer1: w: -0.18359152896875897, b: 0.03671830579375179 Layer2: w: 0.4571499800403859, b: 0.8086426146556326\n",
            "iter:33: y_prime: 0.7574463615956193 loss: 6.521069100328111e-06 model.parametros_valores: Layer1: w: -0.18402196372918184, b: 0.03680439274583636 Layer2: w: 0.4578274953279202, b: 0.80958093055251\n",
            "iter:34: y_prime: 0.7577462658512927 loss: 5.07931761304956e-06 model.parametros_valores: Layer1: w: -0.18440171239320727, b: 0.03688034247864145 Layer2: w: 0.4584253105281149, b: 0.8104083523654129\n",
            "iter:35: y_prime: 0.7580106436125471 loss: 3.957538836299656e-06 model.parametros_valores: Layer1: w: -0.18473680757664523, b: 0.03694736151532904 Layer2: w: 0.4589528949395601, b: 0.8111381696700352\n",
            "iter:36: y_prime: 0.7582437701521315 loss: 3.0843432785441995e-06 model.parametros_valores: Layer1: w: -0.18503255012063535, b: 0.03700651002412707 Layer2: w: 0.45941857242209794, b: 0.8117820392019158\n",
            "iter:37: y_prime: 0.7584493916904136 loss: 2.4043861297584576e-06 model.parametros_valores: Layer1: w: -0.18529360078091597, b: 0.03705872015618319 Layer2: w: 0.45982966434595596, b: 0.8123501942183057\n",
            "iter:38: y_prime: 0.7586307940060157 loss: 1.874725053962448e-06 model.parametros_valores: Layer1: w: -0.18552405982390055, b: 0.037104811964780104 Layer2: w: 0.4601926137690447, b: 0.8128516251451977\n",
            "iter:39: y_prime: 0.7587908614842627 loss: 1.4620159502394981e-06 model.parametros_valores: Layer1: w: -0.18572753624440988, b: 0.037145507248881965 Layer2: w: 0.46051309349958713, b: 0.8132942358367673\n",
            "iter:40: y_prime: 0.7589321280717001 loss: 1.1403504552510215e-06 model.parametros_valores: Layer1: w: -0.1859072080546776, b: 0.037181441610935506 Layer2: w: 0.46079610028740875, b: 0.8136849790451881\n",
            "iter:41: y_prime: 0.7590568213533003 loss: 8.89585959590245e-07 model.parametros_valores: Layer1: w: -0.18606587487362258, b: 0.037213174974724504 Layer2: w: 0.4610460370447111, b: 0.8140299741068252\n",
            "iter:42: y_prime: 0.7591669007651616 loss: 6.94054335088378e-07 model.parametros_valores: Layer1: w: -0.18620600386140682, b: 0.03724120077228135 Layer2: w: 0.4612667847125506, b: 0.8143346093677705\n",
            "iter:43: y_prime: 0.7592640907896789 loss: 5.415623658353852e-07 model.parametros_valores: Layer1: w: -0.18632976989045136, b: 0.03726595397809026 Layer2: w: 0.4614617651518024, b: 0.8146036314754745\n",
            "iter:44: y_prime: 0.7593499098445585 loss: 4.2261721020193424e-07 model.parametros_valores: Layer1: w: -0.18643909071504497, b: 0.03728781814300898 Layer2: w: 0.4616339962385075, b: 0.8148412233365996\n",
            "iter:45: y_prime: 0.7594256954656404 loss: 3.298256981859764e-07 model.parametros_valores: Layer1: w: -0.18653565779310774, b: 0.03730713155862153 Layer2: w: 0.46178614017627007, b: 0.8150510722706192\n",
            "iter:46: y_prime: 0.7594926262915308 loss: 2.574280800457942e-07 model.parametros_valores: Layer1: w: -0.1866209633220279, b: 0.037324192664405564 Layer2: w: 0.46192054589721926, b: 0.8152364296634476\n",
            "iter:47: y_prime: 0.7595517412817729 loss: 2.0093587846657402e-07 model.parametros_valores: Layer1: w: -0.1866963239728877, b: 0.037339264794577526 Layer2: w: 0.4620392863034769, b: 0.8154001632370279\n",
            "iter:48: y_prime: 0.759603956536761 loss: 1.568504247743093e-07 model.parametros_valores: Layer1: w: -0.18676290174147236, b: 0.03735258034829445 Layer2: w: 0.46214419099942716, b: 0.8155448028926201\n",
            "iter:49: y_prime: 0.7596500800344381 loss: 1.2244398229883047e-07 model.parametros_valores: Layer1: w: -0.18682172227828683, b: 0.037364344455657346 Layer2: w: 0.4622368750783886, b: 0.8156725809521075\n"
          ]
        }
      ]
    },
    {
      "cell_type": "code",
      "source": [
        "rastro_neptune.stop()"
      ],
      "metadata": {
        "colab": {
          "base_uri": "https://localhost:8080/"
        },
        "id": "5jnmb1X8DWQ0",
        "outputId": "fa609702-7850-4f64-e5c5-53111511d70d"
      },
      "execution_count": 319,
      "outputs": [
        {
          "output_type": "stream",
          "name": "stdout",
          "text": [
            "Shutting down background jobs, please wait a moment...\n",
            "Done!\n"
          ]
        },
        {
          "output_type": "stream",
          "name": "stderr",
          "text": [
            "Waiting for the remaining 8 operations to synchronize with Neptune. Do not kill this process.\n"
          ]
        },
        {
          "output_type": "stream",
          "name": "stdout",
          "text": [
            "All 8 operations synced, thanks for waiting!\n"
          ]
        }
      ]
    },
    {
      "cell_type": "code",
      "source": [
        "# Assert do histórico de losses\n",
        "target_loss_history = np.array([\n",
        "    0.06760000000000001,\n",
        "    0.05177702603647325,\n",
        "    0.039790214398619864,\n",
        "    0.030775072939719338,\n",
        "    0.02399304087090564,\n",
        "    0.018865727325953905,\n",
        "    0.014960160454718046,\n",
        "    0.011959149167446195,\n",
        "    0.00963214383092538,\n",
        "    0.00781154113123095,\n",
        "    0.006374909815488739,\n",
        "    0.0052321519994130055,\n",
        "    0.004316383455781358,\n",
        "    0.003577490072456766,\n",
        "    0.002977569898844873,\n",
        "    0.0024876931249041916,\n",
        "    0.0020855825917886726,\n",
        "    0.0017539395658449596,\n",
        "    0.0014792245784423965,\n",
        "    0.0012507616166825928,\n",
        "    0.0010600739856602046,\n",
        "    0.0009003875973338399,\n",
        "    0.0007662563176959957,\n",
        "    0.000653277070196517,\n",
        "    0.0005578715021985998,\n",
        "    0.00047711742052947706,\n",
        "    0.00040861773424528345,\n",
        "    0.0003503978786647102,\n",
        "    0.0003008250240538561,\n",
        "    0.00025854406252454564,\n",
        "    0.00022242660273323356,\n",
        "    0.00019153011275373889,\n",
        "    0.00016506502757199316,\n",
        "    0.00014236814306883657,\n",
        "    0.00012288099878285359,\n",
        "    0.00010613223997652454,\n",
        "    9.172316928933311e-05,\n",
        "    7.931586683505788e-05,\n",
        "    6.862338766275947e-05,\n",
        "    5.9401646411335825e-05,\n",
        "    5.144267770007084e-05,\n",
        "    4.4569022510741385e-05,\n",
        "    3.862903944112845e-05,\n",
        "    3.349297820218126e-05,\n",
        "    2.9049683341322813e-05,\n",
        "    2.5203820622457434e-05,\n",
        "    2.1873538101201468e-05,\n",
        "    1.8988489722985947e-05,\n",
        "    1.6488162034581992e-05,\n",
        "    1.432045495427417e-05\n",
        "    ])\n",
        "\n",
        "assert np.allclose(np.array(loss_history), target_loss_history, atol=1e-6)"
      ],
      "metadata": {
        "colab": {
          "base_uri": "https://localhost:8080/",
          "height": 206
        },
        "id": "8MTtx1csH7jC",
        "outputId": "5bd655a3-a8ce-4d9a-81e7-c6da5b35c34d"
      },
      "execution_count": 320,
      "outputs": [
        {
          "output_type": "error",
          "ename": "AssertionError",
          "evalue": "ignored",
          "traceback": [
            "\u001b[0;31m---------------------------------------------------------------------------\u001b[0m",
            "\u001b[0;31mAssertionError\u001b[0m                            Traceback (most recent call last)",
            "\u001b[0;32m<ipython-input-320-241be4412523>\u001b[0m in \u001b[0;36m<module>\u001b[0;34m()\u001b[0m\n\u001b[1;32m     53\u001b[0m     ])\n\u001b[1;32m     54\u001b[0m \u001b[0;34m\u001b[0m\u001b[0m\n\u001b[0;32m---> 55\u001b[0;31m \u001b[0;32massert\u001b[0m \u001b[0mnp\u001b[0m\u001b[0;34m.\u001b[0m\u001b[0mallclose\u001b[0m\u001b[0;34m(\u001b[0m\u001b[0mnp\u001b[0m\u001b[0;34m.\u001b[0m\u001b[0marray\u001b[0m\u001b[0;34m(\u001b[0m\u001b[0mloss_history\u001b[0m\u001b[0;34m)\u001b[0m\u001b[0;34m,\u001b[0m \u001b[0mtarget_loss_history\u001b[0m\u001b[0;34m,\u001b[0m \u001b[0matol\u001b[0m\u001b[0;34m=\u001b[0m\u001b[0;36m1e-6\u001b[0m\u001b[0;34m)\u001b[0m\u001b[0;34m\u001b[0m\u001b[0;34m\u001b[0m\u001b[0m\n\u001b[0m",
            "\u001b[0;31mAssertionError\u001b[0m: "
          ]
        }
      ]
    },
    {
      "cell_type": "markdown",
      "metadata": {
        "collapsed": true,
        "id": "YNAx30ZLCZuj"
      },
      "source": [
        "# Exercício 5\n",
        "\n",
        "Repita o exercício 4 mas compartilhando os pesos das duas camadas não-lineares. Mostre que ambas tem os mesmos pesos após o treino."
      ]
    },
    {
      "cell_type": "code",
      "metadata": {
        "id": "M78rgX2OlHWI"
      },
      "source": [
        "class NetShared():\n",
        "  def __init__(self, se_imp:bool=True):\n",
        "    super().__init__()  \n",
        "    self.se_imp = se_imp\n",
        "    if self.se_imp:\n",
        "      print(f\"Net().init\")      \n",
        "    # Inicializa os pesos w e b em zero.\n",
        "    self.layer1 = NonLinear(se_imp=self.se_imp,)    \n",
        "    self.layer2 = NonLinear(se_imp=self.se_imp)    \n",
        "    # Dica abaixo de apontar um para o outro obtida do caderno do colega\n",
        "    # Leonardo Pacheco\n",
        "    self.layer2._w = self.layer1._w\n",
        "    self.layer2._b = self.layer1._b\n",
        "\n",
        "  @property\n",
        "  def parametros(self)->list:\n",
        "    return self.layer1.parametros + self.layer2.parametros \n",
        "\n",
        "  @property\n",
        "  def parametros_valores(self)->str:\n",
        "    return f'Layer1: {self.layer1.parametros_valores} Layer2: {self.layer2.parametros_valores}'\n",
        "\n",
        "  def forward(self, x: Tensor)->Tensor:\n",
        "    if self.se_imp:\n",
        "      print(f\"Net().forward (entrando) {x.descr}\")      \n",
        "    result = self.layer2.forward(self.layer1.forward(x))\n",
        "    if self.se_imp:\n",
        "      print(f\"Net().forward: resultado: {result.descr}\")\n",
        "    return result\n"
      ],
      "execution_count": 294,
      "outputs": []
    },
    {
      "cell_type": "code",
      "source": [
        "inicializa_seed()"
      ],
      "metadata": {
        "id": "HquSscwJLJ02"
      },
      "execution_count": 295,
      "outputs": []
    },
    {
      "cell_type": "code",
      "source": [
        "model = NetShared(se_imp=se_imprime_calculo)"
      ],
      "metadata": {
        "colab": {
          "base_uri": "https://localhost:8080/"
        },
        "id": "h4MVq9m3Baon",
        "outputId": "1031469b-66e6-4407-9544-81515815ad00"
      },
      "execution_count": 296,
      "outputs": [
        {
          "output_type": "stream",
          "name": "stdout",
          "text": [
            "Inicialização de self.parametros_valores w: 0, b: 0\n",
            "Inicialização de self.parametros_valores w: 0, b: 0\n"
          ]
        }
      ]
    },
    {
      "cell_type": "code",
      "source": [
        "# optimizer = SGD(parameters=[model.w, model.b], learning_rate=learning_rate)\n",
        "hparam['learning_rate'] = 1\n",
        "optimizer = SGD(parameters=model.parametros, learning_rate=hparam['learning_rate'], se_imp=se_imprime_calculo)"
      ],
      "metadata": {
        "id": "zlHd4oWgBaon"
      },
      "execution_count": 297,
      "outputs": []
    },
    {
      "cell_type": "code",
      "source": [
        "x = Tensor('x', -5, se_imp=se_imprime_calculo)\n",
        "y_target = Tensor('y_target', 0.76,se_imp=se_imprime_calculo)"
      ],
      "metadata": {
        "id": "CvMo9oi2Baon"
      },
      "execution_count": 298,
      "outputs": []
    },
    {
      "cell_type": "code",
      "source": [
        "rastro_neptune = NeptuneRastroRun(hparam, parm_lista_tag=[\"exercicio 5\", \"parametros_compartilhados\", \"sigmoid(sigmoid)\"]) "
      ],
      "metadata": {
        "colab": {
          "base_uri": "https://localhost:8080/"
        },
        "outputId": "52076bad-78d0-4222-c0f0-0c536e491238",
        "id": "h3TjrldfBaon"
      },
      "execution_count": 299,
      "outputs": [
        {
          "output_type": "stream",
          "name": "stdout",
          "text": [
            "https://app.neptune.ai/marcusborela/IA025/e/COUNTXEMBE-28\n",
            "Remember to stop your run once you’ve finished logging your metadata (https://docs.neptune.ai/api-reference/run#.stop). It will be stopped automatically only when the notebook kernel/interactive console is terminated.\n"
          ]
        }
      ]
    },
    {
      "cell_type": "code",
      "source": [
        "num_iterations = 50\n",
        "loss_history = []\n",
        "for i in range(num_iterations):\n",
        "    # Zera os gradientes dos passo anterior.\n",
        "    optimizer.zero_grad()\n",
        "    # Roda a um passo forward do modelo.\n",
        "    y_pred = model.forward(x)\n",
        "    # Calcula o gradiente do erro, data a predição do modelo.\n",
        "    loss = compute_loss(y_target=y_target, y_pred=y_pred, se_imp=se_imprime_calculo)\n",
        "    # Calcula agora os gradientes de w e b usando a função backward do modelo.\n",
        "    loss.backward()\n",
        "    # Atualiza os pesos w e b usando os seus respectivos gradientes.\n",
        "    optimizer.step()\n",
        "    # salva no rastro\n",
        "    metrica_rastro = {\"train/loss\": loss.data}  \n",
        "    rastro_neptune.salva_metrica(metrica_rastro)\n",
        "    loss_history.append(loss.data)        \n",
        "    print(f'iter:{i}: y_prime: {y_pred.data} loss: {loss.data} model.parametros_valores: {model.parametros_valores}')  "
      ],
      "metadata": {
        "colab": {
          "base_uri": "https://localhost:8080/"
        },
        "outputId": "16cb52f4-8e10-44a9-d004-90067ca255d4",
        "id": "gr4btt_LBaoo"
      },
      "execution_count": 300,
      "outputs": [
        {
          "output_type": "stream",
          "name": "stdout",
          "text": [
            "iter:0: y_prime: 0.5 loss: 0.06760000000000001 model.parametros_valores: Layer1: w: 0.13, b: 0.26 Layer2: w: 0.13, b: 0.26\n",
            "iter:1: y_prime: 0.5774912780514719 loss: 0.03330943358728514 model.parametros_valores: Layer1: w: 0.1740401497164764, b: 0.4436993305737835 Layer2: w: 0.1740401497164764, b: 0.4436993305737835\n",
            "iter:2: y_prime: 0.6253779622655635 loss: 0.01812309304377204 model.parametros_valores: Layer1: w: 0.197633158445445, b: 0.5751033920934199 Layer2: w: 0.197633158445445, b: 0.5751033920934199\n",
            "iter:3: y_prime: 0.6578655017550175 loss: 0.010431455731754344 model.parametros_valores: Layer1: w: 0.21247269987597267, b: 0.6714113376831099 Layer2: w: 0.21247269987597267, b: 0.6714113376831099\n",
            "iter:4: y_prime: 0.6807328108988013 loss: 0.00628328726800519 model.parametros_valores: Layer1: w: 0.22265714343685344, b: 0.7438456944923078 Layer2: w: 0.22265714343685344, b: 0.7438456944923078\n",
            "iter:5: y_prime: 0.6973774332712795 loss: 0.003921585863693047 model.parametros_valores: Layer1: w: 0.23003905842878153, b: 0.799554169222964 Layer2: w: 0.23003905842878153, b: 0.799554169222964\n",
            "iter:6: y_prime: 0.7098411147456785 loss: 0.002515913769956196 model.parametros_valores: Layer1: w: 0.23559049924280345, b: 0.84318338080161 Layer2: w: 0.23559049924280345, b: 0.84318338080161\n",
            "iter:7: y_prime: 0.7193911708955711 loss: 0.0016490770012327091 model.parametros_valores: Layer1: w: 0.2398759341604263, b: 0.8778519569349761 Layer2: w: 0.2398759341604263, b: 0.8778519569349761\n",
            "iter:8: y_prime: 0.7268447609574145 loss: 0.001099269875970989 model.parametros_valores: Layer1: w: 0.2432482844408912, b: 0.9057216261947576 Layer2: w: 0.2432482844408912, b: 0.9057216261947576\n",
            "iter:9: y_prime: 0.7327485645138105 loss: 0.0007426407360579466 model.parametros_valores: Layer1: w: 0.2459409366038951, b: 0.9283353363441864 Layer2: w: 0.2459409366038951, b: 0.9283353363441864\n",
            "iter:10: y_prime: 0.7374806433171459 loss: 0.0005071214254096055 model.parametros_valores: Layer1: w: 0.24811513486616332, b: 0.946822865360724 Layer2: w: 0.24811513486616332, b: 0.946822865360724\n",
            "iter:11: y_prime: 0.7413101440045682 loss: 0.00034931071712997896 model.parametros_valores: Layer1: w: 0.24988623215997813, b: 0.962029804792361 Layer2: w: 0.24988623215997813, b: 0.962029804792361\n",
            "iter:12: y_prime: 0.7444335393522467 loss: 0.0002423146970980538 model.parametros_valores: Layer1: w: 0.25133910864220615, b: 0.9746009986781745 Layer2: w: 0.25133910864220615, b: 0.9746009986781745\n",
            "iter:13: y_prime: 0.7469973778336035 loss: 0.00016906818320206488 model.parametros_valores: Layer1: w: 0.25253767639663194, b: 0.9850360935070481 Layer2: w: 0.25253767639663194, b: 0.9850360935070481\n",
            "iter:14: y_prime: 0.7491130124010403 loss: 0.00011852649897990173 model.parametros_valores: Layer1: w: 0.2535309814379958, b: 0.9937275059741351 Layer2: w: 0.2535309814379958, b: 0.9937275059741351\n",
            "iter:15: y_prime: 0.7508664080493641 loss: 8.34225019207209e-05 model.parametros_valores: Layer1: w: 0.254357259180935, b: 1.0009869994118687 Layer2: w: 0.254357259180935, b: 1.0009869994118687\n",
            "iter:16: y_prime: 0.7523248405269709 loss: 5.8908072936428374e-05 model.parametros_valores: Layer1: w: 0.2550467114745183, b: 1.0070646915371444 Layer2: w: 0.2550467114745183, b: 1.0070646915371444\n",
            "iter:17: y_prime: 0.7535415779825293 loss: 4.1711214955750446e-05 model.parametros_valores: Layer1: w: 0.255623458344029, b: 1.0121629157471623 Layer2: w: 0.255623458344029, b: 1.0121629157471623\n",
            "iter:18: y_prime: 0.7545592216561374 loss: 2.9602068987044087e-05 model.parametros_valores: Layer1: w: 0.25610694139502044, b: 1.0164465080581337 Layer2: w: 0.25610694139502044, b: 1.0164465080581337\n",
            "iter:19: y_prime: 0.7554121350522226 loss: 2.104850477904461e-05 model.parametros_valores: Layer1: w: 0.25651295348028313, b: 1.0200505628188294 Layer2: w: 0.25651295348028313, b: 1.0200505628188294\n",
            "iter:20: y_prime: 0.7561282407597014 loss: 1.4990519614837506e-05 model.parametros_valores: Layer1: w: 0.256854407764197, b: 1.023086363594708 Layer2: w: 0.256854407764197, b: 1.023086363594708\n",
            "iter:21: y_prime: 0.7567303703001164 loss: 1.0690478374361229e-05 model.parametros_valores: Layer1: w: 0.2571419213091638, b: 1.0256459766757462 Layer2: w: 0.2571419213091638, b: 1.0256459766757462\n",
            "iter:22: y_prime: 0.7572372925390789 loss: 7.632552514629166e-06 model.parametros_valores: Layer1: w: 0.2573842641822307, b: 1.0278058495019102 Layer2: w: 0.2573842641822307, b: 1.0278058495019102\n",
            "iter:23: y_prime: 0.7576645072211388 loss: 5.454526520113034e-06 model.parametros_valores: Layer1: w: 0.2575887094025483, b: 1.029629658305965 Layer2: w: 0.2575887094025483, b: 1.029629658305965\n",
            "iter:24: y_prime: 0.7580248643237054 loss: 3.901160939771698e-06 model.parametros_valores: Layer1: w: 0.25776130864489644, b: 1.0311705820003085 Layer2: w: 0.25776130864489644, b: 1.0311705820003085\n",
            "iter:25: y_prime: 0.7583290524611063 loss: 2.7920656777350508e-06 model.parametros_valores: Layer1: w: 0.2579071115736423, b: 1.0324731324230416 Layer2: w: 0.2579071115736423, b: 1.0324731324230416\n",
            "iter:26: y_prime: 0.7585859875856809 loss: 1.9994311078486844e-06 model.parametros_valores: Layer1: w: 0.25803034183210427, b: 1.0335746378616786 Layer2: w: 0.25803034183210427, b: 1.0335746378616786\n",
            "iter:27: y_prime: 0.7588031248845588 loss: 1.4325100419623816e-06 model.parametros_valores: Layer1: w: 0.25813453931711516, b: 1.0345064529536312 Layer2: w: 0.25813453931711516, b: 1.0345064529536312\n",
            "iter:28: y_prime: 0.758986710872597 loss: 1.0267548557132565e-06 model.parametros_valores: Layer1: w: 0.2582226759550009, b: 1.03529495074603 Layer2: w: 0.2582226759550009, b: 1.03529495074603\n",
            "iter:29: y_prime: 0.7591419884587386 loss: 7.361838049377913e-07 model.parametros_valores: Layer1: w: 0.2582972504547105, b: 1.0359623399503068 Layer2: w: 0.2582972504547105, b: 1.0359623399503068\n",
            "iter:30: y_prime: 0.7592733647005662 loss: 5.279988583833094e-07 model.parametros_valores: Layer1: w: 0.2583603662417422, b: 1.0365273409311995 Layer2: w: 0.2583603662417422, b: 1.0365273409311995\n",
            "iter:31: y_prime: 0.7593845487139749 loss: 3.787802854699951e-07 model.parametros_valores: Layer1: w: 0.258413795834851, b: 1.0370057468155618 Layer2: w: 0.258413795834851, b: 1.0370057468155618\n",
            "iter:32: y_prime: 0.75947866553577 loss: 2.717896235939522e-07 model.parametros_valores: Layer1: w: 0.2584590342220212, b: 1.0374108906577184 Layer2: w: 0.2584590342220212, b: 1.0374108906577184\n",
            "iter:33: y_prime: 0.7595583504837528 loss: 1.9505429520143487e-07 model.parametros_valores: Layer1: w: 0.25849734325755747, b: 1.037754035405796 Layer2: w: 0.25849734325755747, b: 1.037754035405796\n",
            "iter:34: y_prime: 0.759625827607847 loss: 1.4000497904948548e-07 model.parametros_valores: Layer1: w: 0.2585297886926198, b: 1.038044700156448 Layer2: w: 0.2585297886926198, b: 1.038044700156448\n",
            "iter:35: y_prime: 0.7596829750967667 loss: 1.0050478927006106e-07 model.parametros_valores: Layer1: w: 0.25855727113462623, b: 1.0382909336319577 Layer2: w: 0.25855727113462623, b: 1.0382909336319577\n",
            "iter:36: y_prime: 0.7597313799404289 loss: 7.215673640396385e-08 model.parametros_valores: Layer1: w: 0.25858055198338337, b: 1.0384995437948075 Layer2: w: 0.25858055198338337, b: 1.0384995437948075\n",
            "iter:37: y_prime: 0.759772383707522 loss: 5.180917660144311e-08 model.parametros_valores: Layer1: w: 0.25860027519668594, b: 1.0386762909060023 Layer2: w: 0.25860027519668594, b: 1.0386762909060023\n",
            "iter:38: y_prime: 0.7598071209503666 loss: 3.7202327787478815e-08 model.parametros_valores: Layer1: w: 0.25861698558308044, b: 1.0388260500421234 Layer2: w: 0.25861698558308044, b: 1.0388260500421234\n",
            "iter:39: y_prime: 0.7598365514734053 loss: 2.6715420845967644e-08 model.parametros_valores: Layer1: w: 0.25863114419534816, b: 1.0389529480427815 Layer2: w: 0.25863114419534816, b: 1.0389529480427815\n",
            "iter:40: y_prime: 0.7598614874809957 loss: 1.9185717920921844e-08 model.parametros_valores: Layer1: w: 0.2586431412981912, b: 1.0390604790121765 Layer2: w: 0.2586431412981912, b: 1.0390604790121765\n",
            "iter:41: y_prime: 0.7598826164424276 loss: 1.377889958835379e-08 model.parametros_valores: Layer1: w: 0.2586533073024233, b: 1.039151601805553 Layer2: w: 0.2586533073024233, b: 1.039151601805553\n",
            "iter:42: y_prime: 0.7599005203680184 loss: 9.896197179203946e-09 model.parametros_valores: Layer1: w: 0.25866192199175064, b: 1.0392288223624366 Layer2: w: 0.25866192199175064, b: 1.0392288223624366\n",
            "iter:43: y_prime: 0.7599156920726978 loss: 7.10782660599054e-09 model.parametros_valores: Layer1: w: 0.2586692223139355, b: 1.03929426327943 Layer2: w: 0.2586692223139355, b: 1.03929426327943\n",
            "iter:44: y_prime: 0.7599285489073003 loss: 5.105258647978467e-09 model.parametros_valores: Layer1: w: 0.25867540896343333, b: 1.0393497226271096 Layer2: w: 0.25867540896343333, b: 1.0393497226271096\n",
            "iter:45: y_prime: 0.7599394443586185 loss: 3.6669857031273956e-09 model.parametros_valores: Layer1: w: 0.25868065194563417, b: 1.0393967236931767 Layer2: w: 0.25868065194563417, b: 1.0393967236931767\n",
            "iter:46: y_prime: 0.7599486778538727 loss: 2.633962683117349e-09 model.parametros_valores: Layer1: w: 0.2586850952821842, b: 1.0394365570655413 Layer2: w: 0.2586850952821842, b: 1.0394365570655413\n",
            "iter:47: y_prime: 0.7599565030510335 loss: 1.8919845693984993e-09 model.parametros_valores: Layer1: w: 0.258688860991351, b: 1.0394703162449004 Layer2: w: 0.258688860991351, b: 1.0394703162449004\n",
            "iter:48: y_prime: 0.7599631348513477 loss: 1.3590391851568933e-09 model.parametros_valores: Layer1: w: 0.25869205245611904, b: 1.0394989277888402 Layer2: w: 0.25869205245611904, b: 1.0394989277888402\n",
            "iter:49: y_prime: 0.7599687553328208 loss: 9.762292271381411e-10 model.parametros_valores: Layer1: w: 0.25869475727490665, b: 1.0395231768323174 Layer2: w: 0.25869475727490665, b: 1.0395231768323174\n"
          ]
        }
      ]
    },
    {
      "cell_type": "code",
      "source": [
        "rastro_neptune.stop()"
      ],
      "metadata": {
        "colab": {
          "base_uri": "https://localhost:8080/"
        },
        "id": "kgG0ynB2DTfd",
        "outputId": "a767eb4e-242b-446e-f4cd-1036a222bc02"
      },
      "execution_count": 301,
      "outputs": [
        {
          "output_type": "stream",
          "name": "stdout",
          "text": [
            "Shutting down background jobs, please wait a moment...\n",
            "Done!\n"
          ]
        },
        {
          "output_type": "stream",
          "name": "stderr",
          "text": [
            "Waiting for the remaining 1 operations to synchronize with Neptune. Do not kill this process.\n"
          ]
        },
        {
          "output_type": "stream",
          "name": "stdout",
          "text": [
            "All 1 operations synced, thanks for waiting!\n"
          ]
        }
      ]
    },
    {
      "cell_type": "code",
      "source": [
        "# Assert do histórico de losses\n",
        "target_loss_history = np.array([\n",
        "    0.06760000000000001,\n",
        "    0.1909653783662484,\n",
        "    0.12145161632484913,\n",
        "    0.07024915419001566,\n",
        "    0.03963883326352219,\n",
        "    0.022954765688478575,\n",
        "    0.013853791450012276,\n",
        "    0.008695635448184476,\n",
        "    0.005639472843492291,\n",
        "    0.003754831348998425,\n",
        "    0.002553039045859401,\n",
        "    0.001765365158513064,\n",
        "    0.0012374268340224928,\n",
        "    0.0008770398412737352,\n",
        "    0.0006272989031671575,\n",
        "    0.0004520668387265626,\n",
        "    0.0003278356821388342,\n",
        "    0.00023899671760569278,\n",
        "    0.00017500391407918953,\n",
        "    0.0001286251139703171,\n",
        "    9.483729153373662e-05,\n",
        "    7.011358426143181e-05,\n",
        "    5.195442386073356e-05,\n",
        "    3.857404896986824e-05,\n",
        "    2.868783329609866e-05,\n",
        "    2.1366148854473142e-05,\n",
        "    1.593281223702202e-05,\n",
        "    1.1893811503032872e-05,\n",
        "    8.88684878691751e-06,\n",
        "    6.645346281743279e-06,\n",
        "    4.972597837044573e-06,\n",
        "    3.723097654861837e-06,\n",
        "    2.7889841620638572e-06,\n",
        "    2.090153631436081e-06,\n",
        "    1.5670219284787766e-06,\n",
        "    1.1752069871041351e-06,\n",
        "    8.816107126164953e-07,\n",
        "    6.61524537846159e-07,\n",
        "    4.964863634065573e-07,\n",
        "    3.7269070888311413e-07,\n",
        "    2.7980725279815634e-07,\n",
        "    2.1010155246938762e-07,\n",
        "    1.577798102786586e-07,\n",
        "    1.1850004963620453e-07,\n",
        "    8.900708188353913e-08,\n",
        "    6.685968412396348e-08,\n",
        "    5.022654462126097e-08,\n",
        "    3.773354476018304e-08,\n",
        "    2.8349398844336258e-08,\n",
        "    2.1299976293444418e-08\n",
        "    ])\n",
        "\n",
        "assert np.allclose(np.array(loss_history), target_loss_history, atol=1e-6)"
      ],
      "metadata": {
        "colab": {
          "base_uri": "https://localhost:8080/",
          "height": 206
        },
        "id": "11jwoFPGIBLo",
        "outputId": "8663c7f3-3e64-4080-ae58-e58b9225fe04"
      },
      "execution_count": 302,
      "outputs": [
        {
          "output_type": "error",
          "ename": "AssertionError",
          "evalue": "ignored",
          "traceback": [
            "\u001b[0;31m---------------------------------------------------------------------------\u001b[0m",
            "\u001b[0;31mAssertionError\u001b[0m                            Traceback (most recent call last)",
            "\u001b[0;32m<ipython-input-302-02e942b4a07d>\u001b[0m in \u001b[0;36m<module>\u001b[0;34m()\u001b[0m\n\u001b[1;32m     53\u001b[0m     ])\n\u001b[1;32m     54\u001b[0m \u001b[0;34m\u001b[0m\u001b[0m\n\u001b[0;32m---> 55\u001b[0;31m \u001b[0;32massert\u001b[0m \u001b[0mnp\u001b[0m\u001b[0;34m.\u001b[0m\u001b[0mallclose\u001b[0m\u001b[0;34m(\u001b[0m\u001b[0mnp\u001b[0m\u001b[0;34m.\u001b[0m\u001b[0marray\u001b[0m\u001b[0;34m(\u001b[0m\u001b[0mloss_history\u001b[0m\u001b[0;34m)\u001b[0m\u001b[0;34m,\u001b[0m \u001b[0mtarget_loss_history\u001b[0m\u001b[0;34m,\u001b[0m \u001b[0matol\u001b[0m\u001b[0;34m=\u001b[0m\u001b[0;36m1e-6\u001b[0m\u001b[0;34m)\u001b[0m\u001b[0;34m\u001b[0m\u001b[0;34m\u001b[0m\u001b[0m\n\u001b[0m",
            "\u001b[0;31mAssertionError\u001b[0m: "
          ]
        }
      ]
    },
    {
      "cell_type": "code",
      "source": [
        "assert model.layer1.w.data == model.layer2.w.data\n",
        "assert model.layer1.b.data == model.layer2.b.data"
      ],
      "metadata": {
        "id": "ayTpeISUpZet"
      },
      "execution_count": 128,
      "outputs": []
    }
  ]
}