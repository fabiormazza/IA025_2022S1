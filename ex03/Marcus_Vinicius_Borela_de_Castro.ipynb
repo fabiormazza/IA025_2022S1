{
  "nbformat": 4,
  "nbformat_minor": 0,
  "metadata": {
    "colab": {
      "name": "Aula 3 - Grafo Computacional - Marcus ",
      "provenance": [],
      "collapsed_sections": [
        "r6-bQzqsCZuZ"
      ],
      "include_colab_link": true
    },
    "kernelspec": {
      "display_name": "Python 3",
      "language": "python",
      "name": "python3"
    },
    "language_info": {
      "codemirror_mode": {
        "name": "ipython",
        "version": 3
      },
      "file_extension": ".py",
      "mimetype": "text/x-python",
      "name": "python",
      "nbconvert_exporter": "python",
      "pygments_lexer": "ipython3",
      "version": "3.6.5"
    },
    "toc": {
      "base_numbering": 1,
      "nav_menu": {
        "height": "117px",
        "width": "252px"
      },
      "number_sections": true,
      "sideBar": true,
      "skip_h1_title": false,
      "title_cell": "Table of Contents",
      "title_sidebar": "Contents",
      "toc_cell": false,
      "toc_position": {},
      "toc_section_display": "block",
      "toc_window_display": false
    },
    "varInspector": {
      "cols": {
        "lenName": 16,
        "lenType": 16,
        "lenVar": 40
      },
      "kernels_config": {
        "python": {
          "delete_cmd_postfix": "",
          "delete_cmd_prefix": "del ",
          "library": "var_list.py",
          "varRefreshCmd": "print(var_dic_list())"
        },
        "r": {
          "delete_cmd_postfix": ") ",
          "delete_cmd_prefix": "rm(",
          "library": "var_list.r",
          "varRefreshCmd": "cat(var_dic_list()) "
        }
      },
      "types_to_exclude": [
        "module",
        "function",
        "builtin_function_or_method",
        "instance",
        "_Feature"
      ],
      "window_display": false
    },
    "widgets": {
      "application/vnd.jupyter.widget-state+json": {
        "5e3b5b9ab80f4f8aa17c59d11a0bf6af": {
          "model_module": "@jupyter-widgets/controls",
          "model_name": "HBoxModel",
          "model_module_version": "1.5.0",
          "state": {
            "_dom_classes": [],
            "_model_module": "@jupyter-widgets/controls",
            "_model_module_version": "1.5.0",
            "_model_name": "HBoxModel",
            "_view_count": null,
            "_view_module": "@jupyter-widgets/controls",
            "_view_module_version": "1.5.0",
            "_view_name": "HBoxView",
            "box_style": "",
            "children": [
              "IPY_MODEL_010fd81549d14c90aa8763b90132164e",
              "IPY_MODEL_2710cd659f53478b86adac4a1f726d5f",
              "IPY_MODEL_4ce208cd7a624f678b7e3237509d59f8"
            ],
            "layout": "IPY_MODEL_09ff921f8dc64a9b90741e1a0e795d75"
          }
        },
        "010fd81549d14c90aa8763b90132164e": {
          "model_module": "@jupyter-widgets/controls",
          "model_name": "HTMLModel",
          "model_module_version": "1.5.0",
          "state": {
            "_dom_classes": [],
            "_model_module": "@jupyter-widgets/controls",
            "_model_module_version": "1.5.0",
            "_model_name": "HTMLModel",
            "_view_count": null,
            "_view_module": "@jupyter-widgets/controls",
            "_view_module_version": "1.5.0",
            "_view_name": "HTMLView",
            "description": "",
            "description_tooltip": null,
            "layout": "IPY_MODEL_31255599fc9646aab6ee70cd500f429a",
            "placeholder": "​",
            "style": "IPY_MODEL_713d6104d4e64b97af59e3d4170c7018",
            "value": "100%"
          }
        },
        "2710cd659f53478b86adac4a1f726d5f": {
          "model_module": "@jupyter-widgets/controls",
          "model_name": "FloatProgressModel",
          "model_module_version": "1.5.0",
          "state": {
            "_dom_classes": [],
            "_model_module": "@jupyter-widgets/controls",
            "_model_module_version": "1.5.0",
            "_model_name": "FloatProgressModel",
            "_view_count": null,
            "_view_module": "@jupyter-widgets/controls",
            "_view_module_version": "1.5.0",
            "_view_name": "ProgressView",
            "bar_style": "success",
            "description": "",
            "description_tooltip": null,
            "layout": "IPY_MODEL_6088f5a96ac343d19077d1ce96b7984b",
            "max": 46827520,
            "min": 0,
            "orientation": "horizontal",
            "style": "IPY_MODEL_077d707790d64941ae498786570d2614",
            "value": 46827520
          }
        },
        "4ce208cd7a624f678b7e3237509d59f8": {
          "model_module": "@jupyter-widgets/controls",
          "model_name": "HTMLModel",
          "model_module_version": "1.5.0",
          "state": {
            "_dom_classes": [],
            "_model_module": "@jupyter-widgets/controls",
            "_model_module_version": "1.5.0",
            "_model_name": "HTMLModel",
            "_view_count": null,
            "_view_module": "@jupyter-widgets/controls",
            "_view_module_version": "1.5.0",
            "_view_name": "HTMLView",
            "description": "",
            "description_tooltip": null,
            "layout": "IPY_MODEL_f3c134762ba34f6c9f5bdd9e7c57057d",
            "placeholder": "​",
            "style": "IPY_MODEL_1c558fbf1a654ba7ad916c90c79c920a",
            "value": " 44.7M/44.7M [00:00&lt;00:00, 112MB/s]"
          }
        },
        "09ff921f8dc64a9b90741e1a0e795d75": {
          "model_module": "@jupyter-widgets/base",
          "model_name": "LayoutModel",
          "model_module_version": "1.2.0",
          "state": {
            "_model_module": "@jupyter-widgets/base",
            "_model_module_version": "1.2.0",
            "_model_name": "LayoutModel",
            "_view_count": null,
            "_view_module": "@jupyter-widgets/base",
            "_view_module_version": "1.2.0",
            "_view_name": "LayoutView",
            "align_content": null,
            "align_items": null,
            "align_self": null,
            "border": null,
            "bottom": null,
            "display": null,
            "flex": null,
            "flex_flow": null,
            "grid_area": null,
            "grid_auto_columns": null,
            "grid_auto_flow": null,
            "grid_auto_rows": null,
            "grid_column": null,
            "grid_gap": null,
            "grid_row": null,
            "grid_template_areas": null,
            "grid_template_columns": null,
            "grid_template_rows": null,
            "height": null,
            "justify_content": null,
            "justify_items": null,
            "left": null,
            "margin": null,
            "max_height": null,
            "max_width": null,
            "min_height": null,
            "min_width": null,
            "object_fit": null,
            "object_position": null,
            "order": null,
            "overflow": null,
            "overflow_x": null,
            "overflow_y": null,
            "padding": null,
            "right": null,
            "top": null,
            "visibility": null,
            "width": null
          }
        },
        "31255599fc9646aab6ee70cd500f429a": {
          "model_module": "@jupyter-widgets/base",
          "model_name": "LayoutModel",
          "model_module_version": "1.2.0",
          "state": {
            "_model_module": "@jupyter-widgets/base",
            "_model_module_version": "1.2.0",
            "_model_name": "LayoutModel",
            "_view_count": null,
            "_view_module": "@jupyter-widgets/base",
            "_view_module_version": "1.2.0",
            "_view_name": "LayoutView",
            "align_content": null,
            "align_items": null,
            "align_self": null,
            "border": null,
            "bottom": null,
            "display": null,
            "flex": null,
            "flex_flow": null,
            "grid_area": null,
            "grid_auto_columns": null,
            "grid_auto_flow": null,
            "grid_auto_rows": null,
            "grid_column": null,
            "grid_gap": null,
            "grid_row": null,
            "grid_template_areas": null,
            "grid_template_columns": null,
            "grid_template_rows": null,
            "height": null,
            "justify_content": null,
            "justify_items": null,
            "left": null,
            "margin": null,
            "max_height": null,
            "max_width": null,
            "min_height": null,
            "min_width": null,
            "object_fit": null,
            "object_position": null,
            "order": null,
            "overflow": null,
            "overflow_x": null,
            "overflow_y": null,
            "padding": null,
            "right": null,
            "top": null,
            "visibility": null,
            "width": null
          }
        },
        "713d6104d4e64b97af59e3d4170c7018": {
          "model_module": "@jupyter-widgets/controls",
          "model_name": "DescriptionStyleModel",
          "model_module_version": "1.5.0",
          "state": {
            "_model_module": "@jupyter-widgets/controls",
            "_model_module_version": "1.5.0",
            "_model_name": "DescriptionStyleModel",
            "_view_count": null,
            "_view_module": "@jupyter-widgets/base",
            "_view_module_version": "1.2.0",
            "_view_name": "StyleView",
            "description_width": ""
          }
        },
        "6088f5a96ac343d19077d1ce96b7984b": {
          "model_module": "@jupyter-widgets/base",
          "model_name": "LayoutModel",
          "model_module_version": "1.2.0",
          "state": {
            "_model_module": "@jupyter-widgets/base",
            "_model_module_version": "1.2.0",
            "_model_name": "LayoutModel",
            "_view_count": null,
            "_view_module": "@jupyter-widgets/base",
            "_view_module_version": "1.2.0",
            "_view_name": "LayoutView",
            "align_content": null,
            "align_items": null,
            "align_self": null,
            "border": null,
            "bottom": null,
            "display": null,
            "flex": null,
            "flex_flow": null,
            "grid_area": null,
            "grid_auto_columns": null,
            "grid_auto_flow": null,
            "grid_auto_rows": null,
            "grid_column": null,
            "grid_gap": null,
            "grid_row": null,
            "grid_template_areas": null,
            "grid_template_columns": null,
            "grid_template_rows": null,
            "height": null,
            "justify_content": null,
            "justify_items": null,
            "left": null,
            "margin": null,
            "max_height": null,
            "max_width": null,
            "min_height": null,
            "min_width": null,
            "object_fit": null,
            "object_position": null,
            "order": null,
            "overflow": null,
            "overflow_x": null,
            "overflow_y": null,
            "padding": null,
            "right": null,
            "top": null,
            "visibility": null,
            "width": null
          }
        },
        "077d707790d64941ae498786570d2614": {
          "model_module": "@jupyter-widgets/controls",
          "model_name": "ProgressStyleModel",
          "model_module_version": "1.5.0",
          "state": {
            "_model_module": "@jupyter-widgets/controls",
            "_model_module_version": "1.5.0",
            "_model_name": "ProgressStyleModel",
            "_view_count": null,
            "_view_module": "@jupyter-widgets/base",
            "_view_module_version": "1.2.0",
            "_view_name": "StyleView",
            "bar_color": null,
            "description_width": ""
          }
        },
        "f3c134762ba34f6c9f5bdd9e7c57057d": {
          "model_module": "@jupyter-widgets/base",
          "model_name": "LayoutModel",
          "model_module_version": "1.2.0",
          "state": {
            "_model_module": "@jupyter-widgets/base",
            "_model_module_version": "1.2.0",
            "_model_name": "LayoutModel",
            "_view_count": null,
            "_view_module": "@jupyter-widgets/base",
            "_view_module_version": "1.2.0",
            "_view_name": "LayoutView",
            "align_content": null,
            "align_items": null,
            "align_self": null,
            "border": null,
            "bottom": null,
            "display": null,
            "flex": null,
            "flex_flow": null,
            "grid_area": null,
            "grid_auto_columns": null,
            "grid_auto_flow": null,
            "grid_auto_rows": null,
            "grid_column": null,
            "grid_gap": null,
            "grid_row": null,
            "grid_template_areas": null,
            "grid_template_columns": null,
            "grid_template_rows": null,
            "height": null,
            "justify_content": null,
            "justify_items": null,
            "left": null,
            "margin": null,
            "max_height": null,
            "max_width": null,
            "min_height": null,
            "min_width": null,
            "object_fit": null,
            "object_position": null,
            "order": null,
            "overflow": null,
            "overflow_x": null,
            "overflow_y": null,
            "padding": null,
            "right": null,
            "top": null,
            "visibility": null,
            "width": null
          }
        },
        "1c558fbf1a654ba7ad916c90c79c920a": {
          "model_module": "@jupyter-widgets/controls",
          "model_name": "DescriptionStyleModel",
          "model_module_version": "1.5.0",
          "state": {
            "_model_module": "@jupyter-widgets/controls",
            "_model_module_version": "1.5.0",
            "_model_name": "DescriptionStyleModel",
            "_view_count": null,
            "_view_module": "@jupyter-widgets/base",
            "_view_module_version": "1.2.0",
            "_view_name": "StyleView",
            "description_width": ""
          }
        }
      }
    }
  },
  "cells": [
    {
      "cell_type": "markdown",
      "metadata": {
        "id": "view-in-github",
        "colab_type": "text"
      },
      "source": [
        "<a href=\"https://colab.research.google.com/github/unicamp-dl/IA025_2022S1/blob/main/ex03/Marcus_Vinicius_Borela_de_Castro.ipynb\" target=\"_parent\"><img src=\"https://colab.research.google.com/assets/colab-badge.svg\" alt=\"Open In Colab\"/></a>"
      ]
    },
    {
      "cell_type": "markdown",
      "metadata": {
        "id": "zK-o03OW4rWq"
      },
      "source": [
        "### Escreva aqui seu nome: Marcus Vinícius Borela de Castro"
      ]
    },
    {
      "cell_type": "markdown",
      "metadata": {
        "id": "B5_ZRWRfCZtI"
      },
      "source": [
        "# PyTorch: Gradientes e Grafo Computacional"
      ]
    },
    {
      "cell_type": "markdown",
      "metadata": {
        "id": "mQcJKilSCZtO"
      },
      "source": [
        "## Objetivos"
      ]
    },
    {
      "cell_type": "markdown",
      "metadata": {
        "id": "OFWv6Mi-CZtQ"
      },
      "source": [
        "Este notebook introduz \n",
        "- o conceito de autograd do PyTorch,\n",
        "- uma interpretação numérica intuitiva do gradiente, e o\n",
        "- grafo computacional, utilizado para o cálculo automático do gradiente de uma função."
      ]
    },
    {
      "cell_type": "markdown",
      "metadata": {
        "id": "BIlQdKAuCZtR"
      },
      "source": [
        "Um dos principais fundamentos para que o PyTorch seja adequado para deep learning é a sua habilidade de\n",
        "calcular o gradiente automaticamente a partir da expressões definidas. Essa facilidade é implementada\n",
        "pelo tensor através do cálculo automático do gradiente pela construção dinâmica do grafo computacional."
      ]
    },
    {
      "cell_type": "markdown",
      "source": [
        "# Configuração padrão "
      ],
      "metadata": {
        "id": "GqE55hTyVgVb"
      }
    },
    {
      "cell_type": "code",
      "source": [
        "import math"
      ],
      "metadata": {
        "id": "laXjE4RG-hvQ"
      },
      "execution_count": 51,
      "outputs": []
    },
    {
      "cell_type": "markdown",
      "metadata": {
        "id": "91vqgVXqZycr"
      },
      "source": [
        "## Fixando a seed"
      ]
    },
    {
      "cell_type": "code",
      "source": [
        "import random\n",
        "import torch\n",
        "import numpy as np"
      ],
      "metadata": {
        "id": "_xl74rj5csba"
      },
      "execution_count": 1,
      "outputs": []
    },
    {
      "cell_type": "code",
      "metadata": {
        "id": "bkETIyWGkbOf"
      },
      "source": [
        "def inicializa_seed():\n",
        "  \"\"\"\n",
        "  É recomendado reiniciar as seeds antes de inicializar o modelo, pois assim\n",
        "  garantimos que os pesos vao ser sempre os mesmos.\n",
        "  fontes de apoio: \n",
        "      http://nlp.seas.harvard.edu/2018/04/03/attention.html\n",
        "      https://github.com/CyberZHG/torch-multi-head-attention/blob/master/torch_multi_head_attention/multi_head_attention.py#L15\n",
        "  \"\"\"\n",
        "  random.seed(123)\n",
        "  np.random.seed(123)\n",
        "  torch.manual_seed(123)\n",
        "  #torch.cuda.manual_seed(123)\n",
        "  #Cuda algorithms\n",
        "  #torch.backends.cudnn.deterministic = True "
      ],
      "execution_count": 2,
      "outputs": []
    },
    {
      "cell_type": "code",
      "metadata": {
        "id": "ViMcw_kVkbOf"
      },
      "source": [
        "inicializa_seed()"
      ],
      "execution_count": 3,
      "outputs": []
    },
    {
      "cell_type": "markdown",
      "metadata": {
        "id": "7wEkY_g7kgp-"
      },
      "source": [
        "## Rastro (neptune.ai)\n",
        "\n",
        "Gerado rastro da execução no Neptune (detalhes no artigo [Rastro-DM: Mineração de Dados com Rastro](https://revista.tcu.gov.br/ojs/index.php/RTCU/article/view/1664))\n"
      ]
    },
    {
      "cell_type": "markdown",
      "metadata": {
        "id": "anygzoSagczS"
      },
      "source": [
        "### Importação de libraries para Rastro"
      ]
    },
    {
      "cell_type": "code",
      "metadata": {
        "colab": {
          "base_uri": "https://localhost:8080/"
        },
        "id": "CMgyMyI_kbOc",
        "outputId": "622df08c-67bf-4c73-e133-5e56195cfbd2"
      },
      "source": [
        "pip install neptune-client"
      ],
      "execution_count": 4,
      "outputs": [
        {
          "output_type": "stream",
          "name": "stdout",
          "text": [
            "Collecting neptune-client\n",
            "  Downloading neptune-client-0.15.2.tar.gz (315 kB)\n",
            "\u001b[K     |████████████████████████████████| 315 kB 5.9 MB/s \n",
            "\u001b[?25hCollecting bravado\n",
            "  Downloading bravado-11.0.3-py2.py3-none-any.whl (38 kB)\n",
            "Requirement already satisfied: click>=7.0 in /usr/local/lib/python3.7/dist-packages (from neptune-client) (7.1.2)\n",
            "Collecting future>=0.17.1\n",
            "  Downloading future-0.18.2.tar.gz (829 kB)\n",
            "\u001b[K     |████████████████████████████████| 829 kB 62.2 MB/s \n",
            "\u001b[?25hRequirement already satisfied: oauthlib>=2.1.0 in /usr/local/lib/python3.7/dist-packages (from neptune-client) (3.2.0)\n",
            "Requirement already satisfied: pandas in /usr/local/lib/python3.7/dist-packages (from neptune-client) (1.3.5)\n",
            "Requirement already satisfied: Pillow>=1.1.6 in /usr/local/lib/python3.7/dist-packages (from neptune-client) (7.1.2)\n",
            "Collecting PyJWT\n",
            "  Downloading PyJWT-2.3.0-py3-none-any.whl (16 kB)\n",
            "Requirement already satisfied: requests>=2.20.0 in /usr/local/lib/python3.7/dist-packages (from neptune-client) (2.23.0)\n",
            "Requirement already satisfied: requests-oauthlib>=1.0.0 in /usr/local/lib/python3.7/dist-packages (from neptune-client) (1.3.1)\n",
            "Requirement already satisfied: six>=1.12.0 in /usr/local/lib/python3.7/dist-packages (from neptune-client) (1.15.0)\n",
            "Collecting websocket-client!=1.0.0,>=0.35.0\n",
            "  Downloading websocket_client-1.3.2-py3-none-any.whl (54 kB)\n",
            "\u001b[K     |████████████████████████████████| 54 kB 2.4 MB/s \n",
            "\u001b[?25hCollecting GitPython>=2.0.8\n",
            "  Downloading GitPython-3.1.27-py3-none-any.whl (181 kB)\n",
            "\u001b[K     |████████████████████████████████| 181 kB 56.4 MB/s \n",
            "\u001b[?25hCollecting boto3>=1.16.0\n",
            "  Downloading boto3-1.21.34-py3-none-any.whl (132 kB)\n",
            "\u001b[K     |████████████████████████████████| 132 kB 44.0 MB/s \n",
            "\u001b[?25hRequirement already satisfied: packaging in /usr/local/lib/python3.7/dist-packages (from neptune-client) (21.3)\n",
            "Requirement already satisfied: urllib3 in /usr/local/lib/python3.7/dist-packages (from neptune-client) (1.24.3)\n",
            "Collecting swagger-spec-validator>=2.7.4\n",
            "  Downloading swagger_spec_validator-2.7.4-py2.py3-none-any.whl (27 kB)\n",
            "Requirement already satisfied: psutil in /usr/local/lib/python3.7/dist-packages (from neptune-client) (5.4.8)\n",
            "Collecting botocore<1.25.0,>=1.24.34\n",
            "  Downloading botocore-1.24.34-py3-none-any.whl (8.6 MB)\n",
            "\u001b[K     |████████████████████████████████| 8.6 MB 41.5 MB/s \n",
            "\u001b[?25hCollecting s3transfer<0.6.0,>=0.5.0\n",
            "  Downloading s3transfer-0.5.2-py3-none-any.whl (79 kB)\n",
            "\u001b[K     |████████████████████████████████| 79 kB 8.5 MB/s \n",
            "\u001b[?25hCollecting jmespath<2.0.0,>=0.7.1\n",
            "  Downloading jmespath-1.0.0-py3-none-any.whl (23 kB)\n",
            "Collecting urllib3\n",
            "  Downloading urllib3-1.26.9-py2.py3-none-any.whl (138 kB)\n",
            "\u001b[K     |████████████████████████████████| 138 kB 58.5 MB/s \n",
            "\u001b[?25hRequirement already satisfied: python-dateutil<3.0.0,>=2.1 in /usr/local/lib/python3.7/dist-packages (from botocore<1.25.0,>=1.24.34->boto3>=1.16.0->neptune-client) (2.8.2)\n",
            "Requirement already satisfied: typing-extensions>=3.7.4.3 in /usr/local/lib/python3.7/dist-packages (from GitPython>=2.0.8->neptune-client) (3.10.0.2)\n",
            "Collecting gitdb<5,>=4.0.1\n",
            "  Downloading gitdb-4.0.9-py3-none-any.whl (63 kB)\n",
            "\u001b[K     |████████████████████████████████| 63 kB 1.6 MB/s \n",
            "\u001b[?25hCollecting smmap<6,>=3.0.1\n",
            "  Downloading smmap-5.0.0-py3-none-any.whl (24 kB)\n",
            "Requirement already satisfied: chardet<4,>=3.0.2 in /usr/local/lib/python3.7/dist-packages (from requests>=2.20.0->neptune-client) (3.0.4)\n",
            "Collecting urllib3\n",
            "  Downloading urllib3-1.25.11-py2.py3-none-any.whl (127 kB)\n",
            "\u001b[K     |████████████████████████████████| 127 kB 51.7 MB/s \n",
            "\u001b[?25hRequirement already satisfied: certifi>=2017.4.17 in /usr/local/lib/python3.7/dist-packages (from requests>=2.20.0->neptune-client) (2021.10.8)\n",
            "Requirement already satisfied: idna<3,>=2.5 in /usr/local/lib/python3.7/dist-packages (from requests>=2.20.0->neptune-client) (2.10)\n",
            "Requirement already satisfied: jsonschema in /usr/local/lib/python3.7/dist-packages (from swagger-spec-validator>=2.7.4->neptune-client) (4.3.3)\n",
            "Requirement already satisfied: pyyaml in /usr/local/lib/python3.7/dist-packages (from swagger-spec-validator>=2.7.4->neptune-client) (3.13)\n",
            "Requirement already satisfied: msgpack in /usr/local/lib/python3.7/dist-packages (from bravado->neptune-client) (1.0.3)\n",
            "Collecting bravado-core>=5.16.1\n",
            "  Downloading bravado_core-5.17.0-py2.py3-none-any.whl (67 kB)\n",
            "\u001b[K     |████████████████████████████████| 67 kB 5.2 MB/s \n",
            "\u001b[?25hCollecting simplejson\n",
            "  Downloading simplejson-3.17.6-cp37-cp37m-manylinux_2_5_x86_64.manylinux1_x86_64.manylinux_2_12_x86_64.manylinux2010_x86_64.whl (130 kB)\n",
            "\u001b[K     |████████████████████████████████| 130 kB 57.0 MB/s \n",
            "\u001b[?25hCollecting monotonic\n",
            "  Downloading monotonic-1.6-py2.py3-none-any.whl (8.2 kB)\n",
            "Collecting jsonref\n",
            "  Downloading jsonref-0.2-py3-none-any.whl (9.3 kB)\n",
            "Requirement already satisfied: pytz in /usr/local/lib/python3.7/dist-packages (from bravado-core>=5.16.1->bravado->neptune-client) (2018.9)\n",
            "Requirement already satisfied: importlib-resources>=1.4.0 in /usr/local/lib/python3.7/dist-packages (from jsonschema->swagger-spec-validator>=2.7.4->neptune-client) (5.4.0)\n",
            "Requirement already satisfied: attrs>=17.4.0 in /usr/local/lib/python3.7/dist-packages (from jsonschema->swagger-spec-validator>=2.7.4->neptune-client) (21.4.0)\n",
            "Requirement already satisfied: importlib-metadata in /usr/local/lib/python3.7/dist-packages (from jsonschema->swagger-spec-validator>=2.7.4->neptune-client) (4.11.3)\n",
            "Requirement already satisfied: pyrsistent!=0.17.0,!=0.17.1,!=0.17.2,>=0.14.0 in /usr/local/lib/python3.7/dist-packages (from jsonschema->swagger-spec-validator>=2.7.4->neptune-client) (0.18.1)\n",
            "Collecting rfc3987\n",
            "  Downloading rfc3987-1.3.8-py2.py3-none-any.whl (13 kB)\n",
            "Collecting isoduration\n",
            "  Downloading isoduration-20.11.0-py3-none-any.whl (11 kB)\n",
            "Collecting uri-template\n",
            "  Downloading uri_template-1.2.0-py3-none-any.whl (10 kB)\n",
            "Collecting jsonpointer>1.13\n",
            "  Downloading jsonpointer-2.2-py2.py3-none-any.whl (7.5 kB)\n",
            "Collecting webcolors>=1.11\n",
            "  Downloading webcolors-1.11.1-py3-none-any.whl (9.9 kB)\n",
            "Collecting rfc3339-validator\n",
            "  Downloading rfc3339_validator-0.1.4-py2.py3-none-any.whl (3.5 kB)\n",
            "Collecting fqdn\n",
            "  Downloading fqdn-1.5.1-py3-none-any.whl (9.1 kB)\n",
            "Requirement already satisfied: zipp>=3.1.0 in /usr/local/lib/python3.7/dist-packages (from importlib-resources>=1.4.0->jsonschema->swagger-spec-validator>=2.7.4->neptune-client) (3.7.0)\n",
            "Requirement already satisfied: cached-property>=1.3.0 in /usr/local/lib/python3.7/dist-packages (from fqdn->jsonschema->swagger-spec-validator>=2.7.4->neptune-client) (1.5.2)\n",
            "Collecting arrow>=0.15.0\n",
            "  Downloading arrow-1.2.2-py3-none-any.whl (64 kB)\n",
            "\u001b[K     |████████████████████████████████| 64 kB 1.8 MB/s \n",
            "\u001b[?25hRequirement already satisfied: pyparsing!=3.0.5,>=2.0.2 in /usr/local/lib/python3.7/dist-packages (from packaging->neptune-client) (3.0.7)\n",
            "Requirement already satisfied: numpy>=1.17.3 in /usr/local/lib/python3.7/dist-packages (from pandas->neptune-client) (1.21.5)\n",
            "Building wheels for collected packages: neptune-client, future\n",
            "  Building wheel for neptune-client (setup.py) ... \u001b[?25l\u001b[?25hdone\n",
            "  Created wheel for neptune-client: filename=neptune_client-0.15.2-py2.py3-none-any.whl size=565173 sha256=2e20f959f3e3776f214baee56149a3da2f94cd46bee0d63f798c867b176775ee\n",
            "  Stored in directory: /root/.cache/pip/wheels/4f/ff/e6/2128c7fd2e85bd327f524d44b07922848c40e48de6e75baa7e\n",
            "  Building wheel for future (setup.py) ... \u001b[?25l\u001b[?25hdone\n",
            "  Created wheel for future: filename=future-0.18.2-py3-none-any.whl size=491070 sha256=bafb3bba3f4eacbe5079a23069f38dd21e23565c60c3758c745b74d4e6ec399c\n",
            "  Stored in directory: /root/.cache/pip/wheels/56/b0/fe/4410d17b32f1f0c3cf54cdfb2bc04d7b4b8f4ae377e2229ba0\n",
            "Successfully built neptune-client future\n",
            "Installing collected packages: arrow, webcolors, urllib3, uri-template, rfc3987, rfc3339-validator, jsonpointer, jmespath, isoduration, fqdn, swagger-spec-validator, smmap, simplejson, jsonref, botocore, s3transfer, monotonic, gitdb, bravado-core, websocket-client, PyJWT, GitPython, future, bravado, boto3, neptune-client\n",
            "  Attempting uninstall: urllib3\n",
            "    Found existing installation: urllib3 1.24.3\n",
            "    Uninstalling urllib3-1.24.3:\n",
            "      Successfully uninstalled urllib3-1.24.3\n",
            "  Attempting uninstall: future\n",
            "    Found existing installation: future 0.16.0\n",
            "    Uninstalling future-0.16.0:\n",
            "      Successfully uninstalled future-0.16.0\n",
            "\u001b[31mERROR: pip's dependency resolver does not currently take into account all the packages that are installed. This behaviour is the source of the following dependency conflicts.\n",
            "datascience 0.10.6 requires folium==0.2.1, but you have folium 0.8.3 which is incompatible.\u001b[0m\n",
            "Successfully installed GitPython-3.1.27 PyJWT-2.3.0 arrow-1.2.2 boto3-1.21.34 botocore-1.24.34 bravado-11.0.3 bravado-core-5.17.0 fqdn-1.5.1 future-0.18.2 gitdb-4.0.9 isoduration-20.11.0 jmespath-1.0.0 jsonpointer-2.2 jsonref-0.2 monotonic-1.6 neptune-client-0.15.2 rfc3339-validator-0.1.4 rfc3987-1.3.8 s3transfer-0.5.2 simplejson-3.17.6 smmap-5.0.0 swagger-spec-validator-2.7.4 uri-template-1.2.0 urllib3-1.25.11 webcolors-1.11.1 websocket-client-1.3.2\n"
          ]
        }
      ]
    },
    {
      "cell_type": "code",
      "metadata": {
        "colab": {
          "base_uri": "https://localhost:8080/"
        },
        "id": "iwCVX1B4kbOd",
        "outputId": "9042b437-125d-42a3-92f6-2dc922f8c586"
      },
      "source": [
        "pip install torchviz"
      ],
      "execution_count": 5,
      "outputs": [
        {
          "output_type": "stream",
          "name": "stdout",
          "text": [
            "Collecting torchviz\n",
            "  Downloading torchviz-0.0.2.tar.gz (4.9 kB)\n",
            "Requirement already satisfied: torch in /usr/local/lib/python3.7/dist-packages (from torchviz) (1.10.0+cu111)\n",
            "Requirement already satisfied: graphviz in /usr/local/lib/python3.7/dist-packages (from torchviz) (0.10.1)\n",
            "Requirement already satisfied: typing-extensions in /usr/local/lib/python3.7/dist-packages (from torch->torchviz) (3.10.0.2)\n",
            "Building wheels for collected packages: torchviz\n",
            "  Building wheel for torchviz (setup.py) ... \u001b[?25l\u001b[?25hdone\n",
            "  Created wheel for torchviz: filename=torchviz-0.0.2-py3-none-any.whl size=4150 sha256=e98dc2d4c0b2e32385d7533c47ed3f68b73aaf43ae98f9467a10219a7f43a9d3\n",
            "  Stored in directory: /root/.cache/pip/wheels/04/38/f5/dc4f85c3909051823df49901e72015d2d750bd26b086480ec2\n",
            "Successfully built torchviz\n",
            "Installing collected packages: torchviz\n",
            "Successfully installed torchviz-0.0.2\n"
          ]
        }
      ]
    },
    {
      "cell_type": "code",
      "metadata": {
        "id": "n_J-4SvMljeW"
      },
      "source": [
        "import getpass\n",
        "import copy\n",
        "from torchviz import make_dot\n",
        "import neptune.new as neptune\n",
        "import time\n",
        "import re\n",
        "import tempfile\n",
        "import os"
      ],
      "execution_count": 6,
      "outputs": []
    },
    {
      "cell_type": "markdown",
      "metadata": {
        "id": "V2glxk01UfDk"
      },
      "source": [
        "### Código Rastro\n",
        "\n",
        "Busca implementar o rastro proposto em [Rastro-DM: Mineração de Dados com Rastro](https://revista.tcu.gov.br/ojs/index.php/RTCU/article/view/1664), autores Marcus Vinícius Borela de Castro e Remis Balaniuk, com o apoio da [solução Neptune](https://app.neptune.ai/)\n",
        "\n"
      ]
    },
    {
      "cell_type": "code",
      "metadata": {
        "id": "Q-iQwMPiLXO3"
      },
      "source": [
        "def converte_optimizer_state_dict(parm_optimizer)-> dict:\n",
        "  # return str(hparam['optimizer'])\n",
        "  return parm_optimizer.state_dict()['param_groups'][0]"
      ],
      "execution_count": 7,
      "outputs": []
    },
    {
      "cell_type": "code",
      "metadata": {
        "id": "GwnX3SrGfq4Z"
      },
      "source": [
        "class NeptuneRastroRun():\n",
        "    se_geracao_rastro = True \n",
        "    neptune_project = \"\"\n",
        "    tag_contexto_rastro = \"\"\n",
        "    neptune_api_token = \"\"\n",
        "\n",
        "    def __init__(self, parm_params:dict,  parm_lista_tag:list = None):\n",
        "      # print(f\"NeptuneRastroRun.init: se_geracao_rastro {self.__class__.se_geracao_rastro} parm_params `{parm_params} \")\n",
        "      if self.__class__.se_geracao_rastro:      \n",
        "        self.run_neptune = neptune.init(project=self.__class__.neptune_project, api_token=self.__class__.neptune_api_token, capture_hardware_metrics=True)\n",
        "        self.run_neptune['sys/name'] = self.__class__.tag_contexto_rastro\n",
        "        vparams = copy.deepcopy(parm_params)\n",
        "        if \"optimizer\" in vparams:\n",
        "          vparams[\"optimizer\"] = converte_optimizer_state_dict(vparams[\"optimizer\"])\n",
        "        if 'criterion'  in vparams:\n",
        "          vparams[\"criterion\"] = str(vparams[\"criterion\"])\n",
        "        if 'device' in vparams:\n",
        "          vparams['device'] = str(vparams[\"device\"])\n",
        "        self.device = vparams[\"device\"]\n",
        "        for tag in parm_lista_tag:\n",
        "          self.run_neptune['sys/tags'].add(tag)\n",
        "        self.run_neptune['parameters'] = vparams\n",
        "        self.tmpDir = tempfile.mkdtemp()\n",
        "\n",
        "    @property\n",
        "    def run():\n",
        "      return self.run_neptune\n",
        "\n",
        "    @classmethod\n",
        "    def ativa_geracao_rastro(cls):\n",
        "     cls.se_geracao_rastro = True      \n",
        "\n",
        "    @classmethod\n",
        "    def def_contexto(cls):\n",
        "     cls.se_geracao_rastro = True      \n",
        "\n",
        "    @classmethod\n",
        "    def desativa_geracao_rastro(cls):\n",
        "     cls.se_geracao_rastro = False      \n",
        "\n",
        "    @classmethod\n",
        "    def retorna_status_geracao_rastro(cls):\n",
        "     return cls.se_geracao_rastro      \n",
        "\n",
        "    @classmethod\n",
        "    def retorna_tag_contexto_rastro(cls):\n",
        "     return cls.tag_contexto_rastro \n",
        "\n",
        "    @classmethod\n",
        "    def inicia_contexto(cls, neptune_project, tag_contexto_rastro, neptune_api_token):\n",
        "      assert '.' not in tag_contexto_rastro, \"NeptuneRastroRun.init(): tag_contexto_rastro não pode possuir ponto, pois será usado para gravar nome de arquivo\"      \n",
        "      cls.neptune_api_token = neptune_api_token\n",
        "      cls.tag_contexto_rastro = tag_contexto_rastro\n",
        "      cls.neptune_project = neptune_project\n",
        "\n",
        "    def salva_metrica(self, parm_metricas={}):\n",
        "      #print(f\"NeptuneRastroRun.salva_metrica: se_geracao_rastro {self.__class__.se_geracao_rastro} parm_metricas:{parm_metricas} \")\n",
        "      if self.__class__.se_geracao_rastro:\n",
        "        for metrica, valor in parm_metricas.items(): \n",
        "          self.run_neptune[metrica].log(valor)\n",
        " \n",
        "    def gera_grafico_modelo(self, loader_train, model):\n",
        "      if self.__class__.se_geracao_rastro: \n",
        "        # efetuar um forward \n",
        "        \"\"\"\n",
        "        se dataloader devolver x e y:\n",
        "        x_, y_ = next(iter(loader_train))\n",
        "        x_ = x_.to(device)\n",
        "        outputs = model(x_)\n",
        "        \"\"\"\n",
        "        # se dataloader devolver dict:\n",
        "        dados_ = next(iter(loader_train))\n",
        "        outputs = model(dados_['x'].to(self.device))\n",
        "        #outputs = model(x_['input_ids'].to(self.device), x_['attention_mask'].to(self.device))\n",
        "\n",
        "        nome_arquivo = os.path.join(self.tmpDir, \"modelo \"+ self.__class__.tag_contexto_rastro + time.strftime(\"%Y-%b-%d %H:%M:%S\"))\n",
        "        make_dot(outputs, params=dict(model.named_parameters()), show_attrs=True, show_saved=True).render(nome_arquivo, format=\"png\")\n",
        "        self.run_neptune[\"parameters/model_graph\"].upload(nome_arquivo+'.png')\n",
        "        self.run_neptune['parameters/model'] = re.sub('<bound method Module.state_dict of ', '',str(model.state_dict))      \n",
        "\n",
        "\n",
        "\n",
        "    def stop(self):\n",
        "      if self.__class__.se_geracao_rastro:         \n",
        "        self.run_neptune.stop()\n"
      ],
      "execution_count": 8,
      "outputs": []
    },
    {
      "cell_type": "markdown",
      "metadata": {
        "id": "O488oyu5l8kC"
      },
      "source": [
        "### Definindo parâmetros para o rastro\n",
        "\n"
      ]
    },
    {
      "cell_type": "code",
      "metadata": {
        "id": "22z4OtX5kbOf"
      },
      "source": [
        "# NEPTUNE_API_TOKEN = getpass.getpass('Informe NEPTUNE_API_TOKEN')"
      ],
      "execution_count": 9,
      "outputs": []
    },
    {
      "cell_type": "code",
      "metadata": {
        "id": "zY4Hjvp1wR9k",
        "colab": {
          "base_uri": "https://localhost:8080/"
        },
        "outputId": "849ced0b-0789-4921-dd14-779e08dedf33"
      },
      "source": [
        "NeptuneRastroRun.inicia_contexto('marcusborela/IA025', 'Aula 3 - construindo grafo computacional do Pytorch',   getpass.getpass('Informe NEPTUNE_API_TOKEN'))\n",
        "#NeptuneRastroRun.desativa_geracao_rastro()"
      ],
      "execution_count": 10,
      "outputs": [
        {
          "name": "stdout",
          "output_type": "stream",
          "text": [
            "Informe NEPTUNE_API_TOKEN··········\n"
          ]
        }
      ]
    },
    {
      "cell_type": "markdown",
      "metadata": {
        "id": "ZF_-dJ2nCZtT"
      },
      "source": [
        "# Grafo computacional"
      ]
    },
    {
      "cell_type": "markdown",
      "metadata": {
        "id": "jboejVQMCZtU"
      },
      "source": [
        "```\n",
        "    y_pred = x * w\n",
        "    e = y_pred - y\n",
        "    e2 = e**2\n",
        "    J = e2.sum()\n",
        "```"
      ]
    },
    {
      "cell_type": "markdown",
      "metadata": {
        "id": "KeeEBKl4CZtV"
      },
      "source": [
        "<img src=\"https://raw.githubusercontent.com/robertoalotufo/files/master/figures/GrafoComputacional.png\" width=\"600pt\"/>"
      ]
    },
    {
      "cell_type": "markdown",
      "metadata": {
        "id": "8yZun7wrCZtX"
      },
      "source": [
        "Para conhecer com maior profundidade a diferenciação automática usando grafo computacional, veja esta nota de aula:\n",
        "https://cs231n.github.io/optimization-2/"
      ]
    },
    {
      "cell_type": "code",
      "metadata": {
        "ExecuteTime": {
          "end_time": "2019-12-11T00:23:00.431853Z",
          "start_time": "2019-12-11T00:23:00.414813Z"
        },
        "id": "HlT2d-4fCZtZ"
      },
      "source": [
        "import torch"
      ],
      "execution_count": 11,
      "outputs": []
    },
    {
      "cell_type": "code",
      "metadata": {
        "ExecuteTime": {
          "end_time": "2019-12-11T00:23:00.863228Z",
          "start_time": "2019-12-11T00:23:00.844457Z"
        },
        "colab": {
          "base_uri": "https://localhost:8080/",
          "height": 36
        },
        "id": "xX0QwUduCZtf",
        "outputId": "63129bf6-6eda-4f2a-adb2-ce632043a498"
      },
      "source": [
        "torch.__version__"
      ],
      "execution_count": 12,
      "outputs": [
        {
          "output_type": "execute_result",
          "data": {
            "text/plain": [
              "'1.10.0+cu111'"
            ],
            "application/vnd.google.colaboratory.intrinsic+json": {
              "type": "string"
            }
          },
          "metadata": {},
          "execution_count": 12
        }
      ]
    },
    {
      "cell_type": "markdown",
      "metadata": {
        "id": "vsqzALS4CZtl"
      },
      "source": [
        "## Se um tensor possui .requires_grad=True"
      ]
    },
    {
      "cell_type": "code",
      "metadata": {
        "ExecuteTime": {
          "end_time": "2019-09-29T03:07:22.117010Z",
          "start_time": "2019-09-29T03:07:22.041861Z"
        },
        "colab": {
          "base_uri": "https://localhost:8080/"
        },
        "id": "foaAb94aCZtm",
        "outputId": "c6d5c3de-1da5-4586-8ac9-0b7cf8ba3968"
      },
      "source": [
        "y = 2 * torch.arange(0,4).float()\n",
        "y"
      ],
      "execution_count": 13,
      "outputs": [
        {
          "output_type": "execute_result",
          "data": {
            "text/plain": [
              "tensor([0., 2., 4., 6.])"
            ]
          },
          "metadata": {},
          "execution_count": 13
        }
      ]
    },
    {
      "cell_type": "code",
      "metadata": {
        "ExecuteTime": {
          "end_time": "2019-09-29T03:07:28.610934Z",
          "start_time": "2019-09-29T03:07:28.598223Z"
        },
        "colab": {
          "base_uri": "https://localhost:8080/"
        },
        "id": "no6SdSyICZtr",
        "outputId": "5128f86b-35da-43cf-ed33-f9412ffe6bd7"
      },
      "source": [
        "x = torch.arange(0,4).float(); x"
      ],
      "execution_count": 14,
      "outputs": [
        {
          "output_type": "execute_result",
          "data": {
            "text/plain": [
              "tensor([0., 1., 2., 3.])"
            ]
          },
          "metadata": {},
          "execution_count": 14
        }
      ]
    },
    {
      "cell_type": "code",
      "metadata": {
        "ExecuteTime": {
          "end_time": "2019-09-29T03:07:31.523762Z",
          "start_time": "2019-09-29T03:07:31.497683Z"
        },
        "colab": {
          "base_uri": "https://localhost:8080/"
        },
        "id": "eL_i1mwGCZtw",
        "outputId": "0eeb3364-19e8-4dd2-ff14-7c3761a7574a"
      },
      "source": [
        "w = torch.ones(1,requires_grad=True); w"
      ],
      "execution_count": 15,
      "outputs": [
        {
          "output_type": "execute_result",
          "data": {
            "text/plain": [
              "tensor([1.], requires_grad=True)"
            ]
          },
          "metadata": {},
          "execution_count": 15
        }
      ]
    },
    {
      "cell_type": "markdown",
      "metadata": {
        "id": "qjEl-0l7CZt0"
      },
      "source": [
        "## Cálculo automático do gradiente da função perda J"
      ]
    },
    {
      "cell_type": "markdown",
      "metadata": {
        "id": "8pUh-SCnCZt1"
      },
      "source": [
        "Seja a expressão: $$ J = \\sum ((x  w) - y)^2 $$\n",
        "\n",
        "Queremos calcular a derivada de $J$ em relação a $w$."
      ]
    },
    {
      "cell_type": "markdown",
      "metadata": {
        "id": "eMwwVtJ1CZt2"
      },
      "source": [
        "### Montagem do grafo computacional"
      ]
    },
    {
      "cell_type": "code",
      "metadata": {
        "ExecuteTime": {
          "end_time": "2019-09-29T03:07:36.290122Z",
          "start_time": "2019-09-29T03:07:36.273229Z"
        },
        "colab": {
          "base_uri": "https://localhost:8080/"
        },
        "id": "zp2aK4YhCZt3",
        "outputId": "8ab71a6f-ccf5-4c43-a6a5-46324b018dc9"
      },
      "source": [
        "# predict (forward)\n",
        "y_pred = x * w\n",
        "\n",
        "# cálculo da perda J: loss\n",
        "e = y_pred - y\n",
        "e2 = e.pow(2)\n",
        "J = e2.sum()\n",
        "J"
      ],
      "execution_count": 16,
      "outputs": [
        {
          "output_type": "execute_result",
          "data": {
            "text/plain": [
              "tensor(14., grad_fn=<SumBackward0>)"
            ]
          },
          "metadata": {},
          "execution_count": 16
        }
      ]
    },
    {
      "cell_type": "markdown",
      "metadata": {
        "id": "XC96wB7PCZt8"
      },
      "source": [
        "## Auto grad - processa o grafo computacional backwards"
      ]
    },
    {
      "cell_type": "markdown",
      "metadata": {
        "ExecuteTime": {
          "end_time": "2017-10-04T15:55:45.308858",
          "start_time": "2017-10-04T15:55:45.304654"
        },
        "id": "kKbf4D0CCZt-"
      },
      "source": [
        "O `backward()` varre o grafo computacional a partir da variável a ele associada e calcula o gradiente para todos os tensores que possuem o atributo `requires_grad` como verdadeiro.\n",
        "O `backward()` destroi o grafo após sua execução. Isso é intrínsico ao PyTorch pelo fato dele ser uma rede dinâmica."
      ]
    },
    {
      "cell_type": "code",
      "metadata": {
        "ExecuteTime": {
          "end_time": "2019-09-29T03:07:40.267334Z",
          "start_time": "2019-09-29T03:07:40.247422Z"
        },
        "colab": {
          "base_uri": "https://localhost:8080/"
        },
        "id": "Z1lnkb0GCZt_",
        "outputId": "a5250ddb-0752-47a7-b7fc-fe7a37e3ca60"
      },
      "source": [
        "J.backward()\n",
        "print(w.grad)"
      ],
      "execution_count": 17,
      "outputs": [
        {
          "output_type": "stream",
          "name": "stdout",
          "text": [
            "tensor([-28.])\n"
          ]
        }
      ]
    },
    {
      "cell_type": "code",
      "metadata": {
        "ExecuteTime": {
          "end_time": "2019-09-29T03:07:42.637508Z",
          "start_time": "2019-09-29T03:07:42.627818Z"
        },
        "id": "NJWgpQbICZuD"
      },
      "source": [
        "w.grad.data.zero_();"
      ],
      "execution_count": 18,
      "outputs": []
    },
    {
      "cell_type": "markdown",
      "metadata": {
        "id": "j-HTDCpBCZuH"
      },
      "source": [
        "## Interpretação do Gradiente"
      ]
    },
    {
      "cell_type": "markdown",
      "metadata": {
        "id": "aQCUPkozCZuI"
      },
      "source": [
        "O gradiente de uma variável final (J) com respeito à outra variável de entrada (w) pode ser interpretado como o quanto a variável final J vai aumentar se houver um pequeno aumento na variável de entrada (w).\n",
        "Por exemplo suponha que o gradiente seja 28. Isto significa se aumentarmos a variável w de 0.001, então J vai aumentar de 0.028."
      ]
    },
    {
      "cell_type": "code",
      "metadata": {
        "ExecuteTime": {
          "end_time": "2019-09-29T03:07:46.287734Z",
          "start_time": "2019-09-29T03:07:46.276014Z"
        },
        "colab": {
          "base_uri": "https://localhost:8080/"
        },
        "id": "VNUws23uCZuK",
        "outputId": "601bd38c-b111-4ef8-cdae-e0090b1544df"
      },
      "source": [
        "eps = 0.001\n",
        "y_pred = x * (w + eps)\n",
        "J_new = (y_pred - y).pow(2).sum()\n",
        "J_new"
      ],
      "execution_count": 19,
      "outputs": [
        {
          "output_type": "execute_result",
          "data": {
            "text/plain": [
              "tensor(13.9720, grad_fn=<SumBackward0>)"
            ]
          },
          "metadata": {},
          "execution_count": 19
        }
      ]
    },
    {
      "cell_type": "code",
      "metadata": {
        "ExecuteTime": {
          "end_time": "2019-09-29T03:07:49.279766Z",
          "start_time": "2019-09-29T03:07:49.267111Z"
        },
        "colab": {
          "base_uri": "https://localhost:8080/"
        },
        "id": "iYghg1bnCZuP",
        "outputId": "6ab3ad66-f63e-47c3-f0bd-6a3e613ee42e"
      },
      "source": [
        "print(J_new - J)"
      ],
      "execution_count": 20,
      "outputs": [
        {
          "output_type": "stream",
          "name": "stdout",
          "text": [
            "tensor(-0.0280, grad_fn=<SubBackward0>)\n"
          ]
        }
      ]
    },
    {
      "cell_type": "markdown",
      "metadata": {
        "id": "Zlm30rdnCZuT"
      },
      "source": [
        "## Backpropagation"
      ]
    },
    {
      "cell_type": "markdown",
      "metadata": {
        "id": "GREsFSQWCZuU"
      },
      "source": [
        "Uma forma equivalente explícita de calcular o gradiente é fazendo o processamento do backpropagation no grafo computacional, de forma explícita.\n",
        "Apenas como ilustração."
      ]
    },
    {
      "cell_type": "code",
      "metadata": {
        "ExecuteTime": {
          "end_time": "2019-09-29T03:07:52.889088Z",
          "start_time": "2019-09-29T03:07:52.861404Z"
        },
        "colab": {
          "base_uri": "https://localhost:8080/"
        },
        "id": "JYmJImp2CZuW",
        "scrolled": false,
        "outputId": "623481bd-4368-492d-a38b-c606c9d8e0ee"
      },
      "source": [
        "import numpy as np\n",
        "\n",
        "dJ = 1.\n",
        "de2 = dJ * np.ones((4,))\n",
        "de = de2 * 2 * e.data.numpy()\n",
        "dy_pred = de\n",
        "dw = (dy_pred * x.data.numpy()).sum()\n",
        "print(dJ)\n",
        "print(de2)\n",
        "print(de)\n",
        "print(dw)"
      ],
      "execution_count": 21,
      "outputs": [
        {
          "output_type": "stream",
          "name": "stdout",
          "text": [
            "1.0\n",
            "[1. 1. 1. 1.]\n",
            "[ 0. -2. -4. -6.]\n",
            "-28.0\n"
          ]
        }
      ]
    },
    {
      "cell_type": "markdown",
      "metadata": {
        "id": "r6-bQzqsCZuZ"
      },
      "source": [
        "## Visualizando o grafo computacional"
      ]
    },
    {
      "cell_type": "code",
      "metadata": {
        "ExecuteTime": {
          "end_time": "2019-09-29T03:07:55.440538Z",
          "start_time": "2019-09-29T03:07:55.419663Z"
        },
        "id": "pjGruWPTCZub",
        "colab": {
          "base_uri": "https://localhost:8080/"
        },
        "outputId": "f7a0dea0-2a65-456a-b260-bdd101eaf9d1"
      },
      "source": [
        "!pip install torchviz"
      ],
      "execution_count": 22,
      "outputs": [
        {
          "output_type": "stream",
          "name": "stdout",
          "text": [
            "Requirement already satisfied: torchviz in /usr/local/lib/python3.7/dist-packages (0.0.2)\n",
            "Requirement already satisfied: graphviz in /usr/local/lib/python3.7/dist-packages (from torchviz) (0.10.1)\n",
            "Requirement already satisfied: torch in /usr/local/lib/python3.7/dist-packages (from torchviz) (1.10.0+cu111)\n",
            "Requirement already satisfied: typing-extensions in /usr/local/lib/python3.7/dist-packages (from torch->torchviz) (3.10.0.2)\n"
          ]
        }
      ]
    },
    {
      "cell_type": "code",
      "metadata": {
        "ExecuteTime": {
          "end_time": "2019-09-29T03:07:56.829863Z",
          "start_time": "2019-09-29T03:07:56.003452Z"
        },
        "colab": {
          "base_uri": "https://localhost:8080/",
          "height": 0
        },
        "id": "Lbi_GDjWCZuf",
        "outputId": "e7eb7048-7771-46ef-ab88-4dd6d8336737"
      },
      "source": [
        "import torchviz\n",
        "J = ((w * x) - y).pow(2).sum()\n",
        "p = {'w':w} # dicionário de parâmetros\n",
        "out = torchviz.make_dot(J,params=p)\n",
        "out"
      ],
      "execution_count": 23,
      "outputs": [
        {
          "output_type": "execute_result",
          "data": {
            "text/plain": [
              "<graphviz.dot.Digraph at 0x7f25e0624090>"
            ],
            "image/svg+xml": "<?xml version=\"1.0\" encoding=\"UTF-8\" standalone=\"no\"?>\n<!DOCTYPE svg PUBLIC \"-//W3C//DTD SVG 1.1//EN\"\n \"http://www.w3.org/Graphics/SVG/1.1/DTD/svg11.dtd\">\n<!-- Generated by graphviz version 2.40.1 (20161225.0304)\n -->\n<!-- Title: %3 Pages: 1 -->\n<svg width=\"109pt\" height=\"380pt\"\n viewBox=\"0.00 0.00 109.00 380.00\" xmlns=\"http://www.w3.org/2000/svg\" xmlns:xlink=\"http://www.w3.org/1999/xlink\">\n<g id=\"graph0\" class=\"graph\" transform=\"scale(1 1) rotate(0) translate(4 376)\">\n<title>%3</title>\n<polygon fill=\"#ffffff\" stroke=\"transparent\" points=\"-4,4 -4,-376 105,-376 105,4 -4,4\"/>\n<!-- 139800655382000 -->\n<g id=\"node1\" class=\"node\">\n<title>139800655382000</title>\n<polygon fill=\"#caff70\" stroke=\"#000000\" points=\"77.5,-31 23.5,-31 23.5,0 77.5,0 77.5,-31\"/>\n<text text-anchor=\"middle\" x=\"50.5\" y=\"-7\" font-family=\"monospace\" font-size=\"10.00\" fill=\"#000000\"> ()</text>\n</g>\n<!-- 139800655053072 -->\n<g id=\"node2\" class=\"node\">\n<title>139800655053072</title>\n<polygon fill=\"#d3d3d3\" stroke=\"#000000\" points=\"95,-86 6,-86 6,-67 95,-67 95,-86\"/>\n<text text-anchor=\"middle\" x=\"50.5\" y=\"-74\" font-family=\"monospace\" font-size=\"10.00\" fill=\"#000000\">SumBackward0</text>\n</g>\n<!-- 139800655053072&#45;&gt;139800655382000 -->\n<g id=\"edge6\" class=\"edge\">\n<title>139800655053072&#45;&gt;139800655382000</title>\n<path fill=\"none\" stroke=\"#000000\" d=\"M50.5,-66.9688C50.5,-60.1289 50.5,-50.5621 50.5,-41.5298\"/>\n<polygon fill=\"#000000\" stroke=\"#000000\" points=\"54.0001,-41.3678 50.5,-31.3678 47.0001,-41.3678 54.0001,-41.3678\"/>\n</g>\n<!-- 139800655055248 -->\n<g id=\"node3\" class=\"node\">\n<title>139800655055248</title>\n<polygon fill=\"#d3d3d3\" stroke=\"#000000\" points=\"95,-141 6,-141 6,-122 95,-122 95,-141\"/>\n<text text-anchor=\"middle\" x=\"50.5\" y=\"-129\" font-family=\"monospace\" font-size=\"10.00\" fill=\"#000000\">PowBackward0</text>\n</g>\n<!-- 139800655055248&#45;&gt;139800655053072 -->\n<g id=\"edge1\" class=\"edge\">\n<title>139800655055248&#45;&gt;139800655053072</title>\n<path fill=\"none\" stroke=\"#000000\" d=\"M50.5,-121.9197C50.5,-114.9083 50.5,-105.1442 50.5,-96.4652\"/>\n<polygon fill=\"#000000\" stroke=\"#000000\" points=\"54.0001,-96.3408 50.5,-86.3408 47.0001,-96.3409 54.0001,-96.3408\"/>\n</g>\n<!-- 139800655430544 -->\n<g id=\"node4\" class=\"node\">\n<title>139800655430544</title>\n<polygon fill=\"#d3d3d3\" stroke=\"#000000\" points=\"95,-196 6,-196 6,-177 95,-177 95,-196\"/>\n<text text-anchor=\"middle\" x=\"50.5\" y=\"-184\" font-family=\"monospace\" font-size=\"10.00\" fill=\"#000000\">SubBackward0</text>\n</g>\n<!-- 139800655430544&#45;&gt;139800655055248 -->\n<g id=\"edge2\" class=\"edge\">\n<title>139800655430544&#45;&gt;139800655055248</title>\n<path fill=\"none\" stroke=\"#000000\" d=\"M50.5,-176.9197C50.5,-169.9083 50.5,-160.1442 50.5,-151.4652\"/>\n<polygon fill=\"#000000\" stroke=\"#000000\" points=\"54.0001,-151.3408 50.5,-141.3408 47.0001,-151.3409 54.0001,-151.3408\"/>\n</g>\n<!-- 139800655431440 -->\n<g id=\"node5\" class=\"node\">\n<title>139800655431440</title>\n<polygon fill=\"#d3d3d3\" stroke=\"#000000\" points=\"95,-251 6,-251 6,-232 95,-232 95,-251\"/>\n<text text-anchor=\"middle\" x=\"50.5\" y=\"-239\" font-family=\"monospace\" font-size=\"10.00\" fill=\"#000000\">MulBackward0</text>\n</g>\n<!-- 139800655431440&#45;&gt;139800655430544 -->\n<g id=\"edge3\" class=\"edge\">\n<title>139800655431440&#45;&gt;139800655430544</title>\n<path fill=\"none\" stroke=\"#000000\" d=\"M50.5,-231.9197C50.5,-224.9083 50.5,-215.1442 50.5,-206.4652\"/>\n<polygon fill=\"#000000\" stroke=\"#000000\" points=\"54.0001,-206.3408 50.5,-196.3408 47.0001,-206.3409 54.0001,-206.3408\"/>\n</g>\n<!-- 139800655430032 -->\n<g id=\"node6\" class=\"node\">\n<title>139800655430032</title>\n<polygon fill=\"#d3d3d3\" stroke=\"#000000\" points=\"101,-306 0,-306 0,-287 101,-287 101,-306\"/>\n<text text-anchor=\"middle\" x=\"50.5\" y=\"-294\" font-family=\"monospace\" font-size=\"10.00\" fill=\"#000000\">AccumulateGrad</text>\n</g>\n<!-- 139800655430032&#45;&gt;139800655431440 -->\n<g id=\"edge4\" class=\"edge\">\n<title>139800655430032&#45;&gt;139800655431440</title>\n<path fill=\"none\" stroke=\"#000000\" d=\"M50.5,-286.9197C50.5,-279.9083 50.5,-270.1442 50.5,-261.4652\"/>\n<polygon fill=\"#000000\" stroke=\"#000000\" points=\"54.0001,-261.3408 50.5,-251.3408 47.0001,-261.3409 54.0001,-261.3408\"/>\n</g>\n<!-- 139800654989552 -->\n<g id=\"node7\" class=\"node\">\n<title>139800654989552</title>\n<polygon fill=\"#add8e6\" stroke=\"#000000\" points=\"77.5,-372 23.5,-372 23.5,-342 77.5,-342 77.5,-372\"/>\n<text text-anchor=\"middle\" x=\"50.5\" y=\"-360\" font-family=\"monospace\" font-size=\"10.00\" fill=\"#000000\">w</text>\n<text text-anchor=\"middle\" x=\"50.5\" y=\"-349\" font-family=\"monospace\" font-size=\"10.00\" fill=\"#000000\"> (1)</text>\n</g>\n<!-- 139800654989552&#45;&gt;139800655430032 -->\n<g id=\"edge5\" class=\"edge\">\n<title>139800654989552&#45;&gt;139800655430032</title>\n<path fill=\"none\" stroke=\"#000000\" d=\"M50.5,-341.7333C50.5,-334.0322 50.5,-324.5977 50.5,-316.3414\"/>\n<polygon fill=\"#000000\" stroke=\"#000000\" points=\"54.0001,-316.0864 50.5,-306.0864 47.0001,-316.0864 54.0001,-316.0864\"/>\n</g>\n</g>\n</svg>\n"
          },
          "metadata": {},
          "execution_count": 23
        }
      ]
    },
    {
      "cell_type": "markdown",
      "metadata": {
        "id": "bRCxXDiIzYT7"
      },
      "source": [
        "Iremos agora visualizar a Resnet, que é uma rede neural bastante popular em visão computacional."
      ]
    },
    {
      "cell_type": "code",
      "metadata": {
        "id": "dmhanmVFzhiQ",
        "colab": {
          "base_uri": "https://localhost:8080/",
          "height": 0,
          "referenced_widgets": [
            "5e3b5b9ab80f4f8aa17c59d11a0bf6af",
            "010fd81549d14c90aa8763b90132164e",
            "2710cd659f53478b86adac4a1f726d5f",
            "4ce208cd7a624f678b7e3237509d59f8",
            "09ff921f8dc64a9b90741e1a0e795d75",
            "31255599fc9646aab6ee70cd500f429a",
            "713d6104d4e64b97af59e3d4170c7018",
            "6088f5a96ac343d19077d1ce96b7984b",
            "077d707790d64941ae498786570d2614",
            "f3c134762ba34f6c9f5bdd9e7c57057d",
            "1c558fbf1a654ba7ad916c90c79c920a"
          ]
        },
        "outputId": "f785721b-192b-4c97-d1b2-da37cfad5b06"
      },
      "source": [
        "import torch\n",
        "model = torch.hub.load('pytorch/vision:v0.9.0', 'resnet18', pretrained=True)\n",
        "x_temp = torch.randn(1,3,224,224)  # First, create a random image.\n",
        "y_temp = model(x_temp)  # We need one forward pass so the graph can be build.\n",
        "out = torchviz.make_dot(y_temp, params=dict(model.named_parameters()))  # Create a figure from the computaional graph..\n",
        "torchviz.dot.resize_graph(out, size_per_element=0.05)  # Resize to fit on the screen.\n",
        "out"
      ],
      "execution_count": 24,
      "outputs": [
        {
          "output_type": "stream",
          "name": "stderr",
          "text": [
            "Downloading: \"https://github.com/pytorch/vision/archive/v0.9.0.zip\" to /root/.cache/torch/hub/v0.9.0.zip\n",
            "Downloading: \"https://download.pytorch.org/models/resnet18-5c106cde.pth\" to /root/.cache/torch/hub/checkpoints/resnet18-5c106cde.pth\n"
          ]
        },
        {
          "output_type": "display_data",
          "data": {
            "text/plain": [
              "  0%|          | 0.00/44.7M [00:00<?, ?B/s]"
            ],
            "application/vnd.jupyter.widget-view+json": {
              "version_major": 2,
              "version_minor": 0,
              "model_id": "5e3b5b9ab80f4f8aa17c59d11a0bf6af"
            }
          },
          "metadata": {}
        },
        {
          "output_type": "execute_result",
          "data": {
            "text/plain": [
              "<graphviz.dot.Digraph at 0x7f25dedeef90>"
            ],
            "image/svg+xml": "<?xml version=\"1.0\" encoding=\"UTF-8\" standalone=\"no\"?>\n<!DOCTYPE svg PUBLIC \"-//W3C//DTD SVG 1.1//EN\"\n \"http://www.w3.org/Graphics/SVG/1.1/DTD/svg11.dtd\">\n<!-- Generated by graphviz version 2.40.1 (20161225.0304)\n -->\n<!-- Title: %3 Pages: 1 -->\n<svg width=\"597pt\" height=\"1429pt\"\n viewBox=\"0.00 0.00 596.90 1429.00\" xmlns=\"http://www.w3.org/2000/svg\" xmlns:xlink=\"http://www.w3.org/1999/xlink\">\n<g id=\"graph0\" class=\"graph\" transform=\"scale(.3564 .3564) rotate(0) translate(4 4006)\">\n<title>%3</title>\n<polygon fill=\"#ffffff\" stroke=\"transparent\" points=\"-4,4 -4,-4006 1671,-4006 1671,4 -4,4\"/>\n<!-- 139800628486800 -->\n<g id=\"node1\" class=\"node\">\n<title>139800628486800</title>\n<polygon fill=\"#caff70\" stroke=\"#000000\" points=\"1166,-31 1089,-31 1089,0 1166,0 1166,-31\"/>\n<text text-anchor=\"middle\" x=\"1127.5\" y=\"-7\" font-family=\"monospace\" font-size=\"10.00\" fill=\"#000000\"> (1, 1000)</text>\n</g>\n<!-- 139800629668176 -->\n<g id=\"node2\" class=\"node\">\n<title>139800629668176</title>\n<polygon fill=\"#d3d3d3\" stroke=\"#000000\" points=\"1178,-86 1077,-86 1077,-67 1178,-67 1178,-86\"/>\n<text text-anchor=\"middle\" x=\"1127.5\" y=\"-74\" font-family=\"monospace\" font-size=\"10.00\" fill=\"#000000\">AddmmBackward0</text>\n</g>\n<!-- 139800629668176&#45;&gt;139800628486800 -->\n<g id=\"edge202\" class=\"edge\">\n<title>139800629668176&#45;&gt;139800628486800</title>\n<path fill=\"none\" stroke=\"#000000\" d=\"M1127.5,-66.9688C1127.5,-60.1289 1127.5,-50.5621 1127.5,-41.5298\"/>\n<polygon fill=\"#000000\" stroke=\"#000000\" points=\"1131.0001,-41.3678 1127.5,-31.3678 1124.0001,-41.3678 1131.0001,-41.3678\"/>\n</g>\n<!-- 139800629668240 -->\n<g id=\"node3\" class=\"node\">\n<title>139800629668240</title>\n<polygon fill=\"#d3d3d3\" stroke=\"#000000\" points=\"1038,-141 937,-141 937,-122 1038,-122 1038,-141\"/>\n<text text-anchor=\"middle\" x=\"987.5\" y=\"-129\" font-family=\"monospace\" font-size=\"10.00\" fill=\"#000000\">AccumulateGrad</text>\n</g>\n<!-- 139800629668240&#45;&gt;139800629668176 -->\n<g id=\"edge1\" class=\"edge\">\n<title>139800629668240&#45;&gt;139800629668176</title>\n<path fill=\"none\" stroke=\"#000000\" d=\"M1011.8861,-121.9197C1034.4326,-113.0622 1068.1616,-99.8115 1093.3778,-89.9052\"/>\n<polygon fill=\"#000000\" stroke=\"#000000\" points=\"1094.8959,-93.0692 1102.9236,-86.155 1092.3362,-86.554 1094.8959,-93.0692\"/>\n</g>\n<!-- 139800629516240 -->\n<g id=\"node4\" class=\"node\">\n<title>139800629516240</title>\n<polygon fill=\"#add8e6\" stroke=\"#000000\" points=\"1017,-207 958,-207 958,-177 1017,-177 1017,-207\"/>\n<text text-anchor=\"middle\" x=\"987.5\" y=\"-195\" font-family=\"monospace\" font-size=\"10.00\" fill=\"#000000\">fc.bias</text>\n<text text-anchor=\"middle\" x=\"987.5\" y=\"-184\" font-family=\"monospace\" font-size=\"10.00\" fill=\"#000000\"> (1000)</text>\n</g>\n<!-- 139800629516240&#45;&gt;139800629668240 -->\n<g id=\"edge2\" class=\"edge\">\n<title>139800629516240&#45;&gt;139800629668240</title>\n<path fill=\"none\" stroke=\"#000000\" d=\"M987.5,-176.7333C987.5,-169.0322 987.5,-159.5977 987.5,-151.3414\"/>\n<polygon fill=\"#000000\" stroke=\"#000000\" points=\"991.0001,-151.0864 987.5,-141.0864 984.0001,-151.0864 991.0001,-151.0864\"/>\n</g>\n<!-- 139800629668624 -->\n<g id=\"node5\" class=\"node\">\n<title>139800629668624</title>\n<polygon fill=\"#d3d3d3\" stroke=\"#000000\" points=\"1199,-141 1056,-141 1056,-122 1199,-122 1199,-141\"/>\n<text text-anchor=\"middle\" x=\"1127.5\" y=\"-129\" font-family=\"monospace\" font-size=\"10.00\" fill=\"#000000\">ReshapeAliasBackward0</text>\n</g>\n<!-- 139800629668624&#45;&gt;139800629668176 -->\n<g id=\"edge3\" class=\"edge\">\n<title>139800629668624&#45;&gt;139800629668176</title>\n<path fill=\"none\" stroke=\"#000000\" d=\"M1127.5,-121.9197C1127.5,-114.9083 1127.5,-105.1442 1127.5,-96.4652\"/>\n<polygon fill=\"#000000\" stroke=\"#000000\" points=\"1131.0001,-96.3408 1127.5,-86.3408 1124.0001,-96.3409 1131.0001,-96.3408\"/>\n</g>\n<!-- 139800629669136 -->\n<g id=\"node6\" class=\"node\">\n<title>139800629669136</title>\n<polygon fill=\"#d3d3d3\" stroke=\"#000000\" points=\"1175,-201.5 1080,-201.5 1080,-182.5 1175,-182.5 1175,-201.5\"/>\n<text text-anchor=\"middle\" x=\"1127.5\" y=\"-189.5\" font-family=\"monospace\" font-size=\"10.00\" fill=\"#000000\">MeanBackward1</text>\n</g>\n<!-- 139800629669136&#45;&gt;139800629668624 -->\n<g id=\"edge4\" class=\"edge\">\n<title>139800629669136&#45;&gt;139800629668624</title>\n<path fill=\"none\" stroke=\"#000000\" d=\"M1127.5,-182.2796C1127.5,-174.0376 1127.5,-161.9457 1127.5,-151.629\"/>\n<polygon fill=\"#000000\" stroke=\"#000000\" points=\"1131.0001,-151.3972 1127.5,-141.3972 1124.0001,-151.3973 1131.0001,-151.3972\"/>\n</g>\n<!-- 139800629667088 -->\n<g id=\"node7\" class=\"node\">\n<title>139800629667088</title>\n<polygon fill=\"#d3d3d3\" stroke=\"#000000\" points=\"1175,-267.5 1080,-267.5 1080,-248.5 1175,-248.5 1175,-267.5\"/>\n<text text-anchor=\"middle\" x=\"1127.5\" y=\"-255.5\" font-family=\"monospace\" font-size=\"10.00\" fill=\"#000000\">ReluBackward0</text>\n</g>\n<!-- 139800629667088&#45;&gt;139800629669136 -->\n<g id=\"edge5\" class=\"edge\">\n<title>139800629667088&#45;&gt;139800629669136</title>\n<path fill=\"none\" stroke=\"#000000\" d=\"M1127.5,-248.2615C1127.5,-238.7077 1127.5,-223.8615 1127.5,-211.8183\"/>\n<polygon fill=\"#000000\" stroke=\"#000000\" points=\"1131.0001,-211.7784 1127.5,-201.7785 1124.0001,-211.7785 1131.0001,-211.7784\"/>\n</g>\n<!-- 139800629668944 -->\n<g id=\"node8\" class=\"node\">\n<title>139800629668944</title>\n<polygon fill=\"#d3d3d3\" stroke=\"#000000\" points=\"1172,-328 1083,-328 1083,-309 1172,-309 1172,-328\"/>\n<text text-anchor=\"middle\" x=\"1127.5\" y=\"-316\" font-family=\"monospace\" font-size=\"10.00\" fill=\"#000000\">AddBackward0</text>\n</g>\n<!-- 139800629668944&#45;&gt;139800629667088 -->\n<g id=\"edge6\" class=\"edge\">\n<title>139800629668944&#45;&gt;139800629667088</title>\n<path fill=\"none\" stroke=\"#000000\" d=\"M1127.5,-308.7796C1127.5,-300.5376 1127.5,-288.4457 1127.5,-278.129\"/>\n<polygon fill=\"#000000\" stroke=\"#000000\" points=\"1131.0001,-277.8972 1127.5,-267.8972 1124.0001,-277.8973 1131.0001,-277.8972\"/>\n</g>\n<!-- 139800629668496 -->\n<g id=\"node9\" class=\"node\">\n<title>139800629668496</title>\n<polygon fill=\"#d3d3d3\" stroke=\"#000000\" points=\"1467,-383 1306,-383 1306,-364 1467,-364 1467,-383\"/>\n<text text-anchor=\"middle\" x=\"1386.5\" y=\"-371\" font-family=\"monospace\" font-size=\"10.00\" fill=\"#000000\">NativeBatchNormBackward0</text>\n</g>\n<!-- 139800629668496&#45;&gt;139800629668944 -->\n<g id=\"edge7\" class=\"edge\">\n<title>139800629668496&#45;&gt;139800629668944</title>\n<path fill=\"none\" stroke=\"#000000\" d=\"M1341.6813,-363.9825C1297.3459,-354.5677 1229.4296,-340.1453 1181.998,-330.0729\"/>\n<polygon fill=\"#000000\" stroke=\"#000000\" points=\"1182.7123,-326.6466 1172.2034,-327.993 1181.2582,-333.494 1182.7123,-326.6466\"/>\n</g>\n<!-- 139800629668048 -->\n<g id=\"node10\" class=\"node\">\n<title>139800629668048</title>\n<polygon fill=\"#d3d3d3\" stroke=\"#000000\" points=\"1396,-438 1223,-438 1223,-419 1396,-419 1396,-438\"/>\n<text text-anchor=\"middle\" x=\"1309.5\" y=\"-426\" font-family=\"monospace\" font-size=\"10.00\" fill=\"#000000\">MkldnnConvolutionBackward0</text>\n</g>\n<!-- 139800629668048&#45;&gt;139800629668496 -->\n<g id=\"edge8\" class=\"edge\">\n<title>139800629668048&#45;&gt;139800629668496</title>\n<path fill=\"none\" stroke=\"#000000\" d=\"M1322.9124,-418.9197C1334.435,-410.6893 1351.268,-398.6657 1364.7206,-389.0567\"/>\n<polygon fill=\"#000000\" stroke=\"#000000\" points=\"1366.88,-391.8155 1372.983,-383.155 1362.8113,-386.1194 1366.88,-391.8155\"/>\n</g>\n<!-- 139800629667152 -->\n<g id=\"node11\" class=\"node\">\n<title>139800629667152</title>\n<polygon fill=\"#d3d3d3\" stroke=\"#000000\" points=\"1262,-498.5 1167,-498.5 1167,-479.5 1262,-479.5 1262,-498.5\"/>\n<text text-anchor=\"middle\" x=\"1214.5\" y=\"-486.5\" font-family=\"monospace\" font-size=\"10.00\" fill=\"#000000\">ReluBackward0</text>\n</g>\n<!-- 139800629667152&#45;&gt;139800629668048 -->\n<g id=\"edge9\" class=\"edge\">\n<title>139800629667152&#45;&gt;139800629668048</title>\n<path fill=\"none\" stroke=\"#000000\" d=\"M1229.7634,-479.2796C1244.8599,-469.6655 1268.182,-454.813 1285.7106,-443.6501\"/>\n<polygon fill=\"#000000\" stroke=\"#000000\" points=\"1287.7198,-446.5201 1294.2745,-438.1962 1283.9596,-440.6157 1287.7198,-446.5201\"/>\n</g>\n<!-- 139800629557968 -->\n<g id=\"node12\" class=\"node\">\n<title>139800629557968</title>\n<polygon fill=\"#d3d3d3\" stroke=\"#000000\" points=\"1295,-564.5 1134,-564.5 1134,-545.5 1295,-545.5 1295,-564.5\"/>\n<text text-anchor=\"middle\" x=\"1214.5\" y=\"-552.5\" font-family=\"monospace\" font-size=\"10.00\" fill=\"#000000\">NativeBatchNormBackward0</text>\n</g>\n<!-- 139800629557968&#45;&gt;139800629667152 -->\n<g id=\"edge10\" class=\"edge\">\n<title>139800629557968&#45;&gt;139800629667152</title>\n<path fill=\"none\" stroke=\"#000000\" d=\"M1214.5,-545.2615C1214.5,-535.7077 1214.5,-520.8615 1214.5,-508.8183\"/>\n<polygon fill=\"#000000\" stroke=\"#000000\" points=\"1218.0001,-508.7784 1214.5,-498.7785 1211.0001,-508.7785 1218.0001,-508.7784\"/>\n</g>\n<!-- 139800629556240 -->\n<g id=\"node13\" class=\"node\">\n<title>139800629556240</title>\n<polygon fill=\"#d3d3d3\" stroke=\"#000000\" points=\"1224,-625 1051,-625 1051,-606 1224,-606 1224,-625\"/>\n<text text-anchor=\"middle\" x=\"1137.5\" y=\"-613\" font-family=\"monospace\" font-size=\"10.00\" fill=\"#000000\">MkldnnConvolutionBackward0</text>\n</g>\n<!-- 139800629556240&#45;&gt;139800629557968 -->\n<g id=\"edge11\" class=\"edge\">\n<title>139800629556240&#45;&gt;139800629557968</title>\n<path fill=\"none\" stroke=\"#000000\" d=\"M1149.8714,-605.7796C1161.7707,-596.4301 1179.9752,-582.1266 1194.0345,-571.08\"/>\n<polygon fill=\"#000000\" stroke=\"#000000\" points=\"1196.4585,-573.6266 1202.1593,-564.6962 1192.1337,-568.1224 1196.4585,-573.6266\"/>\n</g>\n<!-- 139800629667024 -->\n<g id=\"node14\" class=\"node\">\n<title>139800629667024</title>\n<polygon fill=\"#d3d3d3\" stroke=\"#000000\" points=\"1070,-685.5 975,-685.5 975,-666.5 1070,-666.5 1070,-685.5\"/>\n<text text-anchor=\"middle\" x=\"1022.5\" y=\"-673.5\" font-family=\"monospace\" font-size=\"10.00\" fill=\"#000000\">ReluBackward0</text>\n</g>\n<!-- 139800629667024&#45;&gt;139800629668944 -->\n<g id=\"edge198\" class=\"edge\">\n<title>139800629667024&#45;&gt;139800629668944</title>\n<path fill=\"none\" stroke=\"#000000\" d=\"M1022.5,-666.2758C1022.5,-645.7289 1022.5,-596.3837 1022.5,-555 1022.5,-555 1022.5,-555 1022.5,-428.5 1022.5,-384.4765 1067.0493,-351.1332 1098.112,-333.2349\"/>\n<polygon fill=\"#000000\" stroke=\"#000000\" points=\"1100.196,-336.0822 1107.2549,-328.1814 1096.8097,-329.9557 1100.196,-336.0822\"/>\n</g>\n<!-- 139800629667024&#45;&gt;139800629556240 -->\n<g id=\"edge12\" class=\"edge\">\n<title>139800629667024&#45;&gt;139800629556240</title>\n<path fill=\"none\" stroke=\"#000000\" d=\"M1040.7221,-666.4136C1059.4798,-656.5454 1088.9198,-641.0574 1110.4069,-629.7533\"/>\n<polygon fill=\"#000000\" stroke=\"#000000\" points=\"1112.1427,-632.795 1119.3632,-625.0416 1108.8836,-626.6 1112.1427,-632.795\"/>\n</g>\n<!-- 139800629556880 -->\n<g id=\"node15\" class=\"node\">\n<title>139800629556880</title>\n<polygon fill=\"#d3d3d3\" stroke=\"#000000\" points=\"1058,-751.5 969,-751.5 969,-732.5 1058,-732.5 1058,-751.5\"/>\n<text text-anchor=\"middle\" x=\"1013.5\" y=\"-739.5\" font-family=\"monospace\" font-size=\"10.00\" fill=\"#000000\">AddBackward0</text>\n</g>\n<!-- 139800629556880&#45;&gt;139800629667024 -->\n<g id=\"edge13\" class=\"edge\">\n<title>139800629556880&#45;&gt;139800629667024</title>\n<path fill=\"none\" stroke=\"#000000\" d=\"M1014.828,-732.2615C1016.1308,-722.7077 1018.1552,-707.8615 1019.7975,-695.8183\"/>\n<polygon fill=\"#000000\" stroke=\"#000000\" points=\"1023.2833,-696.1597 1021.1666,-685.7785 1016.3474,-695.2139 1023.2833,-696.1597\"/>\n</g>\n<!-- 139800629557456 -->\n<g id=\"node16\" class=\"node\">\n<title>139800629557456</title>\n<polygon fill=\"#d3d3d3\" stroke=\"#000000\" points=\"1363,-812 1202,-812 1202,-793 1363,-793 1363,-812\"/>\n<text text-anchor=\"middle\" x=\"1282.5\" y=\"-800\" font-family=\"monospace\" font-size=\"10.00\" fill=\"#000000\">NativeBatchNormBackward0</text>\n</g>\n<!-- 139800629557456&#45;&gt;139800629556880 -->\n<g id=\"edge14\" class=\"edge\">\n<title>139800629557456&#45;&gt;139800629556880</title>\n<path fill=\"none\" stroke=\"#000000\" d=\"M1232.5217,-792.9769C1188.6015,-784.3693 1123.0576,-770.9431 1066.5,-757 1062.9486,-756.1245 1059.2752,-755.1757 1055.5956,-754.1951\"/>\n<polygon fill=\"#000000\" stroke=\"#000000\" points=\"1056.4893,-750.8111 1045.9205,-751.5537 1054.6456,-757.5639 1056.4893,-750.8111\"/>\n</g>\n<!-- 139800629557264 -->\n<g id=\"node17\" class=\"node\">\n<title>139800629557264</title>\n<polygon fill=\"#d3d3d3\" stroke=\"#000000\" points=\"1292,-867 1119,-867 1119,-848 1292,-848 1292,-867\"/>\n<text text-anchor=\"middle\" x=\"1205.5\" y=\"-855\" font-family=\"monospace\" font-size=\"10.00\" fill=\"#000000\">MkldnnConvolutionBackward0</text>\n</g>\n<!-- 139800629557264&#45;&gt;139800629557456 -->\n<g id=\"edge15\" class=\"edge\">\n<title>139800629557264&#45;&gt;139800629557456</title>\n<path fill=\"none\" stroke=\"#000000\" d=\"M1218.9124,-847.9197C1230.435,-839.6893 1247.268,-827.6657 1260.7206,-818.0567\"/>\n<polygon fill=\"#000000\" stroke=\"#000000\" points=\"1262.88,-820.8155 1268.983,-812.155 1258.8113,-815.1194 1262.88,-820.8155\"/>\n</g>\n<!-- 139800629557584 -->\n<g id=\"node18\" class=\"node\">\n<title>139800629557584</title>\n<polygon fill=\"#d3d3d3\" stroke=\"#000000\" points=\"1158,-927.5 1063,-927.5 1063,-908.5 1158,-908.5 1158,-927.5\"/>\n<text text-anchor=\"middle\" x=\"1110.5\" y=\"-915.5\" font-family=\"monospace\" font-size=\"10.00\" fill=\"#000000\">ReluBackward0</text>\n</g>\n<!-- 139800629557584&#45;&gt;139800629557264 -->\n<g id=\"edge16\" class=\"edge\">\n<title>139800629557584&#45;&gt;139800629557264</title>\n<path fill=\"none\" stroke=\"#000000\" d=\"M1125.7634,-908.2796C1140.8599,-898.6655 1164.182,-883.813 1181.7106,-872.6501\"/>\n<polygon fill=\"#000000\" stroke=\"#000000\" points=\"1183.7198,-875.5201 1190.2745,-867.1962 1179.9596,-869.6157 1183.7198,-875.5201\"/>\n</g>\n<!-- 139800629555472 -->\n<g id=\"node19\" class=\"node\">\n<title>139800629555472</title>\n<polygon fill=\"#d3d3d3\" stroke=\"#000000\" points=\"1191,-993.5 1030,-993.5 1030,-974.5 1191,-974.5 1191,-993.5\"/>\n<text text-anchor=\"middle\" x=\"1110.5\" y=\"-981.5\" font-family=\"monospace\" font-size=\"10.00\" fill=\"#000000\">NativeBatchNormBackward0</text>\n</g>\n<!-- 139800629555472&#45;&gt;139800629557584 -->\n<g id=\"edge17\" class=\"edge\">\n<title>139800629555472&#45;&gt;139800629557584</title>\n<path fill=\"none\" stroke=\"#000000\" d=\"M1110.5,-974.2615C1110.5,-964.7077 1110.5,-949.8615 1110.5,-937.8183\"/>\n<polygon fill=\"#000000\" stroke=\"#000000\" points=\"1114.0001,-937.7784 1110.5,-927.7785 1107.0001,-937.7785 1114.0001,-937.7784\"/>\n</g>\n<!-- 139800629557776 -->\n<g id=\"node20\" class=\"node\">\n<title>139800629557776</title>\n<polygon fill=\"#d3d3d3\" stroke=\"#000000\" points=\"1120,-1054 947,-1054 947,-1035 1120,-1035 1120,-1054\"/>\n<text text-anchor=\"middle\" x=\"1033.5\" y=\"-1042\" font-family=\"monospace\" font-size=\"10.00\" fill=\"#000000\">MkldnnConvolutionBackward0</text>\n</g>\n<!-- 139800629557776&#45;&gt;139800629555472 -->\n<g id=\"edge18\" class=\"edge\">\n<title>139800629557776&#45;&gt;139800629555472</title>\n<path fill=\"none\" stroke=\"#000000\" d=\"M1045.8714,-1034.7796C1057.7707,-1025.4301 1075.9752,-1011.1266 1090.0345,-1000.08\"/>\n<polygon fill=\"#000000\" stroke=\"#000000\" points=\"1092.4585,-1002.6266 1098.1593,-993.6962 1088.1337,-997.1224 1092.4585,-1002.6266\"/>\n</g>\n<!-- 139800629558608 -->\n<g id=\"node21\" class=\"node\">\n<title>139800629558608</title>\n<polygon fill=\"#d3d3d3\" stroke=\"#000000\" points=\"986,-1114.5 891,-1114.5 891,-1095.5 986,-1095.5 986,-1114.5\"/>\n<text text-anchor=\"middle\" x=\"938.5\" y=\"-1102.5\" font-family=\"monospace\" font-size=\"10.00\" fill=\"#000000\">ReluBackward0</text>\n</g>\n<!-- 139800629558608&#45;&gt;139800629557776 -->\n<g id=\"edge19\" class=\"edge\">\n<title>139800629558608&#45;&gt;139800629557776</title>\n<path fill=\"none\" stroke=\"#000000\" d=\"M953.7634,-1095.2796C968.8599,-1085.6655 992.182,-1070.813 1009.7106,-1059.6501\"/>\n<polygon fill=\"#000000\" stroke=\"#000000\" points=\"1011.7198,-1062.5201 1018.2745,-1054.1962 1007.9596,-1056.6157 1011.7198,-1062.5201\"/>\n</g>\n<!-- 139800629557392 -->\n<g id=\"node174\" class=\"node\">\n<title>139800629557392</title>\n<polygon fill=\"#d3d3d3\" stroke=\"#000000\" points=\"909,-1054 736,-1054 736,-1035 909,-1035 909,-1054\"/>\n<text text-anchor=\"middle\" x=\"822.5\" y=\"-1042\" font-family=\"monospace\" font-size=\"10.00\" fill=\"#000000\">MkldnnConvolutionBackward0</text>\n</g>\n<!-- 139800629558608&#45;&gt;139800629557392 -->\n<g id=\"edge179\" class=\"edge\">\n<title>139800629558608&#45;&gt;139800629557392</title>\n<path fill=\"none\" stroke=\"#000000\" d=\"M920.1195,-1095.4136C901.1987,-1085.5454 871.5026,-1070.0574 849.8287,-1058.7533\"/>\n<polygon fill=\"#000000\" stroke=\"#000000\" points=\"851.2796,-1055.5627 840.7946,-1054.0416 848.0425,-1061.7693 851.2796,-1055.5627\"/>\n</g>\n<!-- 139800629555728 -->\n<g id=\"node22\" class=\"node\">\n<title>139800629555728</title>\n<polygon fill=\"#d3d3d3\" stroke=\"#000000\" points=\"983,-1180.5 894,-1180.5 894,-1161.5 983,-1161.5 983,-1180.5\"/>\n<text text-anchor=\"middle\" x=\"938.5\" y=\"-1168.5\" font-family=\"monospace\" font-size=\"10.00\" fill=\"#000000\">AddBackward0</text>\n</g>\n<!-- 139800629555728&#45;&gt;139800629558608 -->\n<g id=\"edge20\" class=\"edge\">\n<title>139800629555728&#45;&gt;139800629558608</title>\n<path fill=\"none\" stroke=\"#000000\" d=\"M938.5,-1161.2615C938.5,-1151.7077 938.5,-1136.8615 938.5,-1124.8183\"/>\n<polygon fill=\"#000000\" stroke=\"#000000\" points=\"942.0001,-1124.7784 938.5,-1114.7785 935.0001,-1124.7785 942.0001,-1124.7784\"/>\n</g>\n<!-- 139800629556496 -->\n<g id=\"node23\" class=\"node\">\n<title>139800629556496</title>\n<polygon fill=\"#d3d3d3\" stroke=\"#000000\" points=\"1278,-1241 1117,-1241 1117,-1222 1278,-1222 1278,-1241\"/>\n<text text-anchor=\"middle\" x=\"1197.5\" y=\"-1229\" font-family=\"monospace\" font-size=\"10.00\" fill=\"#000000\">NativeBatchNormBackward0</text>\n</g>\n<!-- 139800629556496&#45;&gt;139800629555728 -->\n<g id=\"edge21\" class=\"edge\">\n<title>139800629556496&#45;&gt;139800629555728</title>\n<path fill=\"none\" stroke=\"#000000\" d=\"M1150.683,-1221.9734C1108.8104,-1213.2596 1045.8424,-1199.679 991.5,-1186 987.9529,-1185.1071 984.2825,-1184.1462 980.605,-1183.1575\"/>\n<polygon fill=\"#000000\" stroke=\"#000000\" points=\"981.5029,-1179.7746 970.9331,-1180.5031 979.6502,-1186.525 981.5029,-1179.7746\"/>\n</g>\n<!-- 139800629555856 -->\n<g id=\"node24\" class=\"node\">\n<title>139800629555856</title>\n<polygon fill=\"#d3d3d3\" stroke=\"#000000\" points=\"1207,-1296 1034,-1296 1034,-1277 1207,-1277 1207,-1296\"/>\n<text text-anchor=\"middle\" x=\"1120.5\" y=\"-1284\" font-family=\"monospace\" font-size=\"10.00\" fill=\"#000000\">MkldnnConvolutionBackward0</text>\n</g>\n<!-- 139800629555856&#45;&gt;139800629556496 -->\n<g id=\"edge22\" class=\"edge\">\n<title>139800629555856&#45;&gt;139800629556496</title>\n<path fill=\"none\" stroke=\"#000000\" d=\"M1133.9124,-1276.9197C1145.435,-1268.6893 1162.268,-1256.6657 1175.7206,-1247.0567\"/>\n<polygon fill=\"#000000\" stroke=\"#000000\" points=\"1177.88,-1249.8155 1183.983,-1241.155 1173.8113,-1244.1194 1177.88,-1249.8155\"/>\n</g>\n<!-- 139800628457680 -->\n<g id=\"node25\" class=\"node\">\n<title>139800628457680</title>\n<polygon fill=\"#d3d3d3\" stroke=\"#000000\" points=\"1073,-1356.5 978,-1356.5 978,-1337.5 1073,-1337.5 1073,-1356.5\"/>\n<text text-anchor=\"middle\" x=\"1025.5\" y=\"-1344.5\" font-family=\"monospace\" font-size=\"10.00\" fill=\"#000000\">ReluBackward0</text>\n</g>\n<!-- 139800628457680&#45;&gt;139800629555856 -->\n<g id=\"edge23\" class=\"edge\">\n<title>139800628457680&#45;&gt;139800629555856</title>\n<path fill=\"none\" stroke=\"#000000\" d=\"M1040.7634,-1337.2796C1055.8599,-1327.6655 1079.182,-1312.813 1096.7106,-1301.6501\"/>\n<polygon fill=\"#000000\" stroke=\"#000000\" points=\"1098.7198,-1304.5201 1105.2745,-1296.1962 1094.9596,-1298.6157 1098.7198,-1304.5201\"/>\n</g>\n<!-- 139800628457744 -->\n<g id=\"node26\" class=\"node\">\n<title>139800628457744</title>\n<polygon fill=\"#d3d3d3\" stroke=\"#000000\" points=\"1106,-1422.5 945,-1422.5 945,-1403.5 1106,-1403.5 1106,-1422.5\"/>\n<text text-anchor=\"middle\" x=\"1025.5\" y=\"-1410.5\" font-family=\"monospace\" font-size=\"10.00\" fill=\"#000000\">NativeBatchNormBackward0</text>\n</g>\n<!-- 139800628457744&#45;&gt;139800628457680 -->\n<g id=\"edge24\" class=\"edge\">\n<title>139800628457744&#45;&gt;139800628457680</title>\n<path fill=\"none\" stroke=\"#000000\" d=\"M1025.5,-1403.2615C1025.5,-1393.7077 1025.5,-1378.8615 1025.5,-1366.8183\"/>\n<polygon fill=\"#000000\" stroke=\"#000000\" points=\"1029.0001,-1366.7784 1025.5,-1356.7785 1022.0001,-1366.7785 1029.0001,-1366.7784\"/>\n</g>\n<!-- 139800628458064 -->\n<g id=\"node27\" class=\"node\">\n<title>139800628458064</title>\n<polygon fill=\"#d3d3d3\" stroke=\"#000000\" points=\"1035,-1483 862,-1483 862,-1464 1035,-1464 1035,-1483\"/>\n<text text-anchor=\"middle\" x=\"948.5\" y=\"-1471\" font-family=\"monospace\" font-size=\"10.00\" fill=\"#000000\">MkldnnConvolutionBackward0</text>\n</g>\n<!-- 139800628458064&#45;&gt;139800628457744 -->\n<g id=\"edge25\" class=\"edge\">\n<title>139800628458064&#45;&gt;139800628457744</title>\n<path fill=\"none\" stroke=\"#000000\" d=\"M960.8714,-1463.7796C972.7707,-1454.4301 990.9752,-1440.1266 1005.0345,-1429.08\"/>\n<polygon fill=\"#000000\" stroke=\"#000000\" points=\"1007.4585,-1431.6266 1013.1593,-1422.6962 1003.1337,-1426.1224 1007.4585,-1431.6266\"/>\n</g>\n<!-- 139800629556432 -->\n<g id=\"node28\" class=\"node\">\n<title>139800629556432</title>\n<polygon fill=\"#d3d3d3\" stroke=\"#000000\" points=\"881,-1543.5 786,-1543.5 786,-1524.5 881,-1524.5 881,-1543.5\"/>\n<text text-anchor=\"middle\" x=\"833.5\" y=\"-1531.5\" font-family=\"monospace\" font-size=\"10.00\" fill=\"#000000\">ReluBackward0</text>\n</g>\n<!-- 139800629556432&#45;&gt;139800629555728 -->\n<g id=\"edge164\" class=\"edge\">\n<title>139800629556432&#45;&gt;139800629555728</title>\n<path fill=\"none\" stroke=\"#000000\" d=\"M833.5,-1524.2758C833.5,-1503.7289 833.5,-1454.3837 833.5,-1413 833.5,-1413 833.5,-1413 833.5,-1286.5 833.5,-1240.3767 879.9114,-1204.5302 911.0218,-1185.6827\"/>\n<polygon fill=\"#000000\" stroke=\"#000000\" points=\"912.8534,-1188.6663 919.7281,-1180.6046 909.3266,-1182.6196 912.8534,-1188.6663\"/>\n</g>\n<!-- 139800629556432&#45;&gt;139800628458064 -->\n<g id=\"edge26\" class=\"edge\">\n<title>139800629556432&#45;&gt;139800628458064</title>\n<path fill=\"none\" stroke=\"#000000\" d=\"M851.7221,-1524.4136C870.4798,-1514.5454 899.9198,-1499.0574 921.4069,-1487.7533\"/>\n<polygon fill=\"#000000\" stroke=\"#000000\" points=\"923.1427,-1490.795 930.3632,-1483.0416 919.8836,-1484.6 923.1427,-1490.795\"/>\n</g>\n<!-- 139800628458384 -->\n<g id=\"node29\" class=\"node\">\n<title>139800628458384</title>\n<polygon fill=\"#d3d3d3\" stroke=\"#000000\" points=\"869,-1609.5 780,-1609.5 780,-1590.5 869,-1590.5 869,-1609.5\"/>\n<text text-anchor=\"middle\" x=\"824.5\" y=\"-1597.5\" font-family=\"monospace\" font-size=\"10.00\" fill=\"#000000\">AddBackward0</text>\n</g>\n<!-- 139800628458384&#45;&gt;139800629556432 -->\n<g id=\"edge27\" class=\"edge\">\n<title>139800628458384&#45;&gt;139800629556432</title>\n<path fill=\"none\" stroke=\"#000000\" d=\"M825.828,-1590.2615C827.1308,-1580.7077 829.1552,-1565.8615 830.7975,-1553.8183\"/>\n<polygon fill=\"#000000\" stroke=\"#000000\" points=\"834.2833,-1554.1597 832.1666,-1543.7785 827.3474,-1553.2139 834.2833,-1554.1597\"/>\n</g>\n<!-- 139800628458576 -->\n<g id=\"node30\" class=\"node\">\n<title>139800628458576</title>\n<polygon fill=\"#d3d3d3\" stroke=\"#000000\" points=\"1174,-1670 1013,-1670 1013,-1651 1174,-1651 1174,-1670\"/>\n<text text-anchor=\"middle\" x=\"1093.5\" y=\"-1658\" font-family=\"monospace\" font-size=\"10.00\" fill=\"#000000\">NativeBatchNormBackward0</text>\n</g>\n<!-- 139800628458576&#45;&gt;139800628458384 -->\n<g id=\"edge28\" class=\"edge\">\n<title>139800628458576&#45;&gt;139800628458384</title>\n<path fill=\"none\" stroke=\"#000000\" d=\"M1043.5217,-1650.9769C999.6015,-1642.3693 934.0576,-1628.9431 877.5,-1615 873.9486,-1614.1245 870.2752,-1613.1757 866.5956,-1612.1951\"/>\n<polygon fill=\"#000000\" stroke=\"#000000\" points=\"867.4893,-1608.8111 856.9205,-1609.5537 865.6456,-1615.5639 867.4893,-1608.8111\"/>\n</g>\n<!-- 139800628458320 -->\n<g id=\"node31\" class=\"node\">\n<title>139800628458320</title>\n<polygon fill=\"#d3d3d3\" stroke=\"#000000\" points=\"1103,-1725 930,-1725 930,-1706 1103,-1706 1103,-1725\"/>\n<text text-anchor=\"middle\" x=\"1016.5\" y=\"-1713\" font-family=\"monospace\" font-size=\"10.00\" fill=\"#000000\">MkldnnConvolutionBackward0</text>\n</g>\n<!-- 139800628458320&#45;&gt;139800628458576 -->\n<g id=\"edge29\" class=\"edge\">\n<title>139800628458320&#45;&gt;139800628458576</title>\n<path fill=\"none\" stroke=\"#000000\" d=\"M1029.9124,-1705.9197C1041.435,-1697.6893 1058.268,-1685.6657 1071.7206,-1676.0567\"/>\n<polygon fill=\"#000000\" stroke=\"#000000\" points=\"1073.88,-1678.8155 1079.983,-1670.155 1069.8113,-1673.1194 1073.88,-1678.8155\"/>\n</g>\n<!-- 139800628458960 -->\n<g id=\"node32\" class=\"node\">\n<title>139800628458960</title>\n<polygon fill=\"#d3d3d3\" stroke=\"#000000\" points=\"969,-1785.5 874,-1785.5 874,-1766.5 969,-1766.5 969,-1785.5\"/>\n<text text-anchor=\"middle\" x=\"921.5\" y=\"-1773.5\" font-family=\"monospace\" font-size=\"10.00\" fill=\"#000000\">ReluBackward0</text>\n</g>\n<!-- 139800628458960&#45;&gt;139800628458320 -->\n<g id=\"edge30\" class=\"edge\">\n<title>139800628458960&#45;&gt;139800628458320</title>\n<path fill=\"none\" stroke=\"#000000\" d=\"M936.7634,-1766.2796C951.8599,-1756.6655 975.182,-1741.813 992.7106,-1730.6501\"/>\n<polygon fill=\"#000000\" stroke=\"#000000\" points=\"994.7198,-1733.5201 1001.2745,-1725.1962 990.9596,-1727.6157 994.7198,-1733.5201\"/>\n</g>\n<!-- 139800628459024 -->\n<g id=\"node33\" class=\"node\">\n<title>139800628459024</title>\n<polygon fill=\"#d3d3d3\" stroke=\"#000000\" points=\"1002,-1851.5 841,-1851.5 841,-1832.5 1002,-1832.5 1002,-1851.5\"/>\n<text text-anchor=\"middle\" x=\"921.5\" y=\"-1839.5\" font-family=\"monospace\" font-size=\"10.00\" fill=\"#000000\">NativeBatchNormBackward0</text>\n</g>\n<!-- 139800628459024&#45;&gt;139800628458960 -->\n<g id=\"edge31\" class=\"edge\">\n<title>139800628459024&#45;&gt;139800628458960</title>\n<path fill=\"none\" stroke=\"#000000\" d=\"M921.5,-1832.2615C921.5,-1822.7077 921.5,-1807.8615 921.5,-1795.8183\"/>\n<polygon fill=\"#000000\" stroke=\"#000000\" points=\"925.0001,-1795.7784 921.5,-1785.7785 918.0001,-1795.7785 925.0001,-1795.7784\"/>\n</g>\n<!-- 139800628459344 -->\n<g id=\"node34\" class=\"node\">\n<title>139800628459344</title>\n<polygon fill=\"#d3d3d3\" stroke=\"#000000\" points=\"931,-1912 758,-1912 758,-1893 931,-1893 931,-1912\"/>\n<text text-anchor=\"middle\" x=\"844.5\" y=\"-1900\" font-family=\"monospace\" font-size=\"10.00\" fill=\"#000000\">MkldnnConvolutionBackward0</text>\n</g>\n<!-- 139800628459344&#45;&gt;139800628459024 -->\n<g id=\"edge32\" class=\"edge\">\n<title>139800628459344&#45;&gt;139800628459024</title>\n<path fill=\"none\" stroke=\"#000000\" d=\"M856.8714,-1892.7796C868.7707,-1883.4301 886.9752,-1869.1266 901.0345,-1858.08\"/>\n<polygon fill=\"#000000\" stroke=\"#000000\" points=\"903.4585,-1860.6266 909.1593,-1851.6962 899.1337,-1855.1224 903.4585,-1860.6266\"/>\n</g>\n<!-- 139800628459536 -->\n<g id=\"node35\" class=\"node\">\n<title>139800628459536</title>\n<polygon fill=\"#d3d3d3\" stroke=\"#000000\" points=\"797,-1972.5 702,-1972.5 702,-1953.5 797,-1953.5 797,-1972.5\"/>\n<text text-anchor=\"middle\" x=\"749.5\" y=\"-1960.5\" font-family=\"monospace\" font-size=\"10.00\" fill=\"#000000\">ReluBackward0</text>\n</g>\n<!-- 139800628459536&#45;&gt;139800628459344 -->\n<g id=\"edge33\" class=\"edge\">\n<title>139800628459536&#45;&gt;139800628459344</title>\n<path fill=\"none\" stroke=\"#000000\" d=\"M764.7634,-1953.2796C779.8599,-1943.6655 803.182,-1928.813 820.7106,-1917.6501\"/>\n<polygon fill=\"#000000\" stroke=\"#000000\" points=\"822.7198,-1920.5201 829.2745,-1912.1962 818.9596,-1914.6157 822.7198,-1920.5201\"/>\n</g>\n<!-- 139800628458512 -->\n<g id=\"node142\" class=\"node\">\n<title>139800628458512</title>\n<polygon fill=\"#d3d3d3\" stroke=\"#000000\" points=\"720,-1912 547,-1912 547,-1893 720,-1893 720,-1912\"/>\n<text text-anchor=\"middle\" x=\"633.5\" y=\"-1900\" font-family=\"monospace\" font-size=\"10.00\" fill=\"#000000\">MkldnnConvolutionBackward0</text>\n</g>\n<!-- 139800628459536&#45;&gt;139800628458512 -->\n<g id=\"edge145\" class=\"edge\">\n<title>139800628459536&#45;&gt;139800628458512</title>\n<path fill=\"none\" stroke=\"#000000\" d=\"M731.1195,-1953.4136C712.1987,-1943.5454 682.5026,-1928.0574 660.8287,-1916.7533\"/>\n<polygon fill=\"#000000\" stroke=\"#000000\" points=\"662.2796,-1913.5627 651.7946,-1912.0416 659.0425,-1919.7693 662.2796,-1913.5627\"/>\n</g>\n<!-- 139800628459600 -->\n<g id=\"node36\" class=\"node\">\n<title>139800628459600</title>\n<polygon fill=\"#d3d3d3\" stroke=\"#000000\" points=\"794,-2038.5 705,-2038.5 705,-2019.5 794,-2019.5 794,-2038.5\"/>\n<text text-anchor=\"middle\" x=\"749.5\" y=\"-2026.5\" font-family=\"monospace\" font-size=\"10.00\" fill=\"#000000\">AddBackward0</text>\n</g>\n<!-- 139800628459600&#45;&gt;139800628459536 -->\n<g id=\"edge34\" class=\"edge\">\n<title>139800628459600&#45;&gt;139800628459536</title>\n<path fill=\"none\" stroke=\"#000000\" d=\"M749.5,-2019.2615C749.5,-2009.7077 749.5,-1994.8615 749.5,-1982.8183\"/>\n<polygon fill=\"#000000\" stroke=\"#000000\" points=\"753.0001,-1982.7784 749.5,-1972.7785 746.0001,-1982.7785 753.0001,-1982.7784\"/>\n</g>\n<!-- 139800628459920 -->\n<g id=\"node37\" class=\"node\">\n<title>139800628459920</title>\n<polygon fill=\"#d3d3d3\" stroke=\"#000000\" points=\"1089,-2099 928,-2099 928,-2080 1089,-2080 1089,-2099\"/>\n<text text-anchor=\"middle\" x=\"1008.5\" y=\"-2087\" font-family=\"monospace\" font-size=\"10.00\" fill=\"#000000\">NativeBatchNormBackward0</text>\n</g>\n<!-- 139800628459920&#45;&gt;139800628459600 -->\n<g id=\"edge35\" class=\"edge\">\n<title>139800628459920&#45;&gt;139800628459600</title>\n<path fill=\"none\" stroke=\"#000000\" d=\"M961.683,-2079.9734C919.8104,-2071.2596 856.8424,-2057.679 802.5,-2044 798.9529,-2043.1071 795.2825,-2042.1462 791.605,-2041.1575\"/>\n<polygon fill=\"#000000\" stroke=\"#000000\" points=\"792.5029,-2037.7746 781.9331,-2038.5031 790.6502,-2044.525 792.5029,-2037.7746\"/>\n</g>\n<!-- 139800628459792 -->\n<g id=\"node38\" class=\"node\">\n<title>139800628459792</title>\n<polygon fill=\"#d3d3d3\" stroke=\"#000000\" points=\"1018,-2154 845,-2154 845,-2135 1018,-2135 1018,-2154\"/>\n<text text-anchor=\"middle\" x=\"931.5\" y=\"-2142\" font-family=\"monospace\" font-size=\"10.00\" fill=\"#000000\">MkldnnConvolutionBackward0</text>\n</g>\n<!-- 139800628459792&#45;&gt;139800628459920 -->\n<g id=\"edge36\" class=\"edge\">\n<title>139800628459792&#45;&gt;139800628459920</title>\n<path fill=\"none\" stroke=\"#000000\" d=\"M944.9124,-2134.9197C956.435,-2126.6893 973.268,-2114.6657 986.7206,-2105.0567\"/>\n<polygon fill=\"#000000\" stroke=\"#000000\" points=\"988.88,-2107.8155 994.983,-2099.155 984.8113,-2102.1194 988.88,-2107.8155\"/>\n</g>\n<!-- 139800628460304 -->\n<g id=\"node39\" class=\"node\">\n<title>139800628460304</title>\n<polygon fill=\"#d3d3d3\" stroke=\"#000000\" points=\"884,-2214.5 789,-2214.5 789,-2195.5 884,-2195.5 884,-2214.5\"/>\n<text text-anchor=\"middle\" x=\"836.5\" y=\"-2202.5\" font-family=\"monospace\" font-size=\"10.00\" fill=\"#000000\">ReluBackward0</text>\n</g>\n<!-- 139800628460304&#45;&gt;139800628459792 -->\n<g id=\"edge37\" class=\"edge\">\n<title>139800628460304&#45;&gt;139800628459792</title>\n<path fill=\"none\" stroke=\"#000000\" d=\"M851.7634,-2195.2796C866.8599,-2185.6655 890.182,-2170.813 907.7106,-2159.6501\"/>\n<polygon fill=\"#000000\" stroke=\"#000000\" points=\"909.7198,-2162.5201 916.2745,-2154.1962 905.9596,-2156.6157 909.7198,-2162.5201\"/>\n</g>\n<!-- 139800628460368 -->\n<g id=\"node40\" class=\"node\">\n<title>139800628460368</title>\n<polygon fill=\"#d3d3d3\" stroke=\"#000000\" points=\"917,-2280.5 756,-2280.5 756,-2261.5 917,-2261.5 917,-2280.5\"/>\n<text text-anchor=\"middle\" x=\"836.5\" y=\"-2268.5\" font-family=\"monospace\" font-size=\"10.00\" fill=\"#000000\">NativeBatchNormBackward0</text>\n</g>\n<!-- 139800628460368&#45;&gt;139800628460304 -->\n<g id=\"edge38\" class=\"edge\">\n<title>139800628460368&#45;&gt;139800628460304</title>\n<path fill=\"none\" stroke=\"#000000\" d=\"M836.5,-2261.2615C836.5,-2251.7077 836.5,-2236.8615 836.5,-2224.8183\"/>\n<polygon fill=\"#000000\" stroke=\"#000000\" points=\"840.0001,-2224.7784 836.5,-2214.7785 833.0001,-2224.7785 840.0001,-2224.7784\"/>\n</g>\n<!-- 139800628460688 -->\n<g id=\"node41\" class=\"node\">\n<title>139800628460688</title>\n<polygon fill=\"#d3d3d3\" stroke=\"#000000\" points=\"846,-2341 673,-2341 673,-2322 846,-2322 846,-2341\"/>\n<text text-anchor=\"middle\" x=\"759.5\" y=\"-2329\" font-family=\"monospace\" font-size=\"10.00\" fill=\"#000000\">MkldnnConvolutionBackward0</text>\n</g>\n<!-- 139800628460688&#45;&gt;139800628460368 -->\n<g id=\"edge39\" class=\"edge\">\n<title>139800628460688&#45;&gt;139800628460368</title>\n<path fill=\"none\" stroke=\"#000000\" d=\"M771.8714,-2321.7796C783.7707,-2312.4301 801.9752,-2298.1266 816.0345,-2287.08\"/>\n<polygon fill=\"#000000\" stroke=\"#000000\" points=\"818.4585,-2289.6266 824.1593,-2280.6962 814.1337,-2284.1224 818.4585,-2289.6266\"/>\n</g>\n<!-- 139800628460112 -->\n<g id=\"node42\" class=\"node\">\n<title>139800628460112</title>\n<polygon fill=\"#d3d3d3\" stroke=\"#000000\" points=\"692,-2401.5 597,-2401.5 597,-2382.5 692,-2382.5 692,-2401.5\"/>\n<text text-anchor=\"middle\" x=\"644.5\" y=\"-2389.5\" font-family=\"monospace\" font-size=\"10.00\" fill=\"#000000\">ReluBackward0</text>\n</g>\n<!-- 139800628460112&#45;&gt;139800628459600 -->\n<g id=\"edge130\" class=\"edge\">\n<title>139800628460112&#45;&gt;139800628459600</title>\n<path fill=\"none\" stroke=\"#000000\" d=\"M644.5,-2382.2758C644.5,-2361.7289 644.5,-2312.3837 644.5,-2271 644.5,-2271 644.5,-2271 644.5,-2144.5 644.5,-2098.3767 690.9114,-2062.5302 722.0218,-2043.6827\"/>\n<polygon fill=\"#000000\" stroke=\"#000000\" points=\"723.8534,-2046.6663 730.7281,-2038.6046 720.3266,-2040.6196 723.8534,-2046.6663\"/>\n</g>\n<!-- 139800628460112&#45;&gt;139800628460688 -->\n<g id=\"edge40\" class=\"edge\">\n<title>139800628460112&#45;&gt;139800628460688</title>\n<path fill=\"none\" stroke=\"#000000\" d=\"M662.7221,-2382.4136C681.4798,-2372.5454 710.9198,-2357.0574 732.4069,-2345.7533\"/>\n<polygon fill=\"#000000\" stroke=\"#000000\" points=\"734.1427,-2348.795 741.3632,-2341.0416 730.8836,-2342.6 734.1427,-2348.795\"/>\n</g>\n<!-- 139800628461008 -->\n<g id=\"node43\" class=\"node\">\n<title>139800628461008</title>\n<polygon fill=\"#d3d3d3\" stroke=\"#000000\" points=\"680,-2467.5 591,-2467.5 591,-2448.5 680,-2448.5 680,-2467.5\"/>\n<text text-anchor=\"middle\" x=\"635.5\" y=\"-2455.5\" font-family=\"monospace\" font-size=\"10.00\" fill=\"#000000\">AddBackward0</text>\n</g>\n<!-- 139800628461008&#45;&gt;139800628460112 -->\n<g id=\"edge41\" class=\"edge\">\n<title>139800628461008&#45;&gt;139800628460112</title>\n<path fill=\"none\" stroke=\"#000000\" d=\"M636.828,-2448.2615C638.1308,-2438.7077 640.1552,-2423.8615 641.7975,-2411.8183\"/>\n<polygon fill=\"#000000\" stroke=\"#000000\" points=\"645.2833,-2412.1597 643.1666,-2401.7785 638.3474,-2411.2139 645.2833,-2412.1597\"/>\n</g>\n<!-- 139800628461200 -->\n<g id=\"node44\" class=\"node\">\n<title>139800628461200</title>\n<polygon fill=\"#d3d3d3\" stroke=\"#000000\" points=\"985,-2528 824,-2528 824,-2509 985,-2509 985,-2528\"/>\n<text text-anchor=\"middle\" x=\"904.5\" y=\"-2516\" font-family=\"monospace\" font-size=\"10.00\" fill=\"#000000\">NativeBatchNormBackward0</text>\n</g>\n<!-- 139800628461200&#45;&gt;139800628461008 -->\n<g id=\"edge42\" class=\"edge\">\n<title>139800628461200&#45;&gt;139800628461008</title>\n<path fill=\"none\" stroke=\"#000000\" d=\"M854.5217,-2508.9769C810.6015,-2500.3693 745.0576,-2486.9431 688.5,-2473 684.9486,-2472.1245 681.2752,-2471.1757 677.5956,-2470.1951\"/>\n<polygon fill=\"#000000\" stroke=\"#000000\" points=\"678.4893,-2466.8111 667.9205,-2467.5537 676.6456,-2473.5639 678.4893,-2466.8111\"/>\n</g>\n<!-- 139800628460944 -->\n<g id=\"node45\" class=\"node\">\n<title>139800628460944</title>\n<polygon fill=\"#d3d3d3\" stroke=\"#000000\" points=\"914,-2583 741,-2583 741,-2564 914,-2564 914,-2583\"/>\n<text text-anchor=\"middle\" x=\"827.5\" y=\"-2571\" font-family=\"monospace\" font-size=\"10.00\" fill=\"#000000\">MkldnnConvolutionBackward0</text>\n</g>\n<!-- 139800628460944&#45;&gt;139800628461200 -->\n<g id=\"edge43\" class=\"edge\">\n<title>139800628460944&#45;&gt;139800628461200</title>\n<path fill=\"none\" stroke=\"#000000\" d=\"M840.9124,-2563.9197C852.435,-2555.6893 869.268,-2543.6657 882.7206,-2534.0567\"/>\n<polygon fill=\"#000000\" stroke=\"#000000\" points=\"884.88,-2536.8155 890.983,-2528.155 880.8113,-2531.1194 884.88,-2536.8155\"/>\n</g>\n<!-- 139800628408400 -->\n<g id=\"node46\" class=\"node\">\n<title>139800628408400</title>\n<polygon fill=\"#d3d3d3\" stroke=\"#000000\" points=\"780,-2643.5 685,-2643.5 685,-2624.5 780,-2624.5 780,-2643.5\"/>\n<text text-anchor=\"middle\" x=\"732.5\" y=\"-2631.5\" font-family=\"monospace\" font-size=\"10.00\" fill=\"#000000\">ReluBackward0</text>\n</g>\n<!-- 139800628408400&#45;&gt;139800628460944 -->\n<g id=\"edge44\" class=\"edge\">\n<title>139800628408400&#45;&gt;139800628460944</title>\n<path fill=\"none\" stroke=\"#000000\" d=\"M747.7634,-2624.2796C762.8599,-2614.6655 786.182,-2599.813 803.7106,-2588.6501\"/>\n<polygon fill=\"#000000\" stroke=\"#000000\" points=\"805.7198,-2591.5201 812.2745,-2583.1962 801.9596,-2585.6157 805.7198,-2591.5201\"/>\n</g>\n<!-- 139800628408464 -->\n<g id=\"node47\" class=\"node\">\n<title>139800628408464</title>\n<polygon fill=\"#d3d3d3\" stroke=\"#000000\" points=\"813,-2709.5 652,-2709.5 652,-2690.5 813,-2690.5 813,-2709.5\"/>\n<text text-anchor=\"middle\" x=\"732.5\" y=\"-2697.5\" font-family=\"monospace\" font-size=\"10.00\" fill=\"#000000\">NativeBatchNormBackward0</text>\n</g>\n<!-- 139800628408464&#45;&gt;139800628408400 -->\n<g id=\"edge45\" class=\"edge\">\n<title>139800628408464&#45;&gt;139800628408400</title>\n<path fill=\"none\" stroke=\"#000000\" d=\"M732.5,-2690.2615C732.5,-2680.7077 732.5,-2665.8615 732.5,-2653.8183\"/>\n<polygon fill=\"#000000\" stroke=\"#000000\" points=\"736.0001,-2653.7784 732.5,-2643.7785 729.0001,-2653.7785 736.0001,-2653.7784\"/>\n</g>\n<!-- 139800628408784 -->\n<g id=\"node48\" class=\"node\">\n<title>139800628408784</title>\n<polygon fill=\"#d3d3d3\" stroke=\"#000000\" points=\"742,-2770 569,-2770 569,-2751 742,-2751 742,-2770\"/>\n<text text-anchor=\"middle\" x=\"655.5\" y=\"-2758\" font-family=\"monospace\" font-size=\"10.00\" fill=\"#000000\">MkldnnConvolutionBackward0</text>\n</g>\n<!-- 139800628408784&#45;&gt;139800628408464 -->\n<g id=\"edge46\" class=\"edge\">\n<title>139800628408784&#45;&gt;139800628408464</title>\n<path fill=\"none\" stroke=\"#000000\" d=\"M667.8714,-2750.7796C679.7707,-2741.4301 697.9752,-2727.1266 712.0345,-2716.08\"/>\n<polygon fill=\"#000000\" stroke=\"#000000\" points=\"714.4585,-2718.6266 720.1593,-2709.6962 710.1337,-2713.1224 714.4585,-2718.6266\"/>\n</g>\n<!-- 139800628408976 -->\n<g id=\"node49\" class=\"node\">\n<title>139800628408976</title>\n<polygon fill=\"#d3d3d3\" stroke=\"#000000\" points=\"608,-2830.5 513,-2830.5 513,-2811.5 608,-2811.5 608,-2830.5\"/>\n<text text-anchor=\"middle\" x=\"560.5\" y=\"-2818.5\" font-family=\"monospace\" font-size=\"10.00\" fill=\"#000000\">ReluBackward0</text>\n</g>\n<!-- 139800628408976&#45;&gt;139800628408784 -->\n<g id=\"edge47\" class=\"edge\">\n<title>139800628408976&#45;&gt;139800628408784</title>\n<path fill=\"none\" stroke=\"#000000\" d=\"M575.7634,-2811.2796C590.8599,-2801.6655 614.182,-2786.813 631.7106,-2775.6501\"/>\n<polygon fill=\"#000000\" stroke=\"#000000\" points=\"633.7198,-2778.5201 640.2745,-2770.1962 629.9596,-2772.6157 633.7198,-2778.5201\"/>\n</g>\n<!-- 139800628461136 -->\n<g id=\"node110\" class=\"node\">\n<title>139800628461136</title>\n<polygon fill=\"#d3d3d3\" stroke=\"#000000\" points=\"531,-2770 358,-2770 358,-2751 531,-2751 531,-2770\"/>\n<text text-anchor=\"middle\" x=\"444.5\" y=\"-2758\" font-family=\"monospace\" font-size=\"10.00\" fill=\"#000000\">MkldnnConvolutionBackward0</text>\n</g>\n<!-- 139800628408976&#45;&gt;139800628461136 -->\n<g id=\"edge111\" class=\"edge\">\n<title>139800628408976&#45;&gt;139800628461136</title>\n<path fill=\"none\" stroke=\"#000000\" d=\"M542.1195,-2811.4136C523.1987,-2801.5454 493.5026,-2786.0574 471.8287,-2774.7533\"/>\n<polygon fill=\"#000000\" stroke=\"#000000\" points=\"473.2796,-2771.5627 462.7946,-2770.0416 470.0425,-2777.7693 473.2796,-2771.5627\"/>\n</g>\n<!-- 139800628409040 -->\n<g id=\"node50\" class=\"node\">\n<title>139800628409040</title>\n<polygon fill=\"#d3d3d3\" stroke=\"#000000\" points=\"605,-2896.5 516,-2896.5 516,-2877.5 605,-2877.5 605,-2896.5\"/>\n<text text-anchor=\"middle\" x=\"560.5\" y=\"-2884.5\" font-family=\"monospace\" font-size=\"10.00\" fill=\"#000000\">AddBackward0</text>\n</g>\n<!-- 139800628409040&#45;&gt;139800628408976 -->\n<g id=\"edge48\" class=\"edge\">\n<title>139800628409040&#45;&gt;139800628408976</title>\n<path fill=\"none\" stroke=\"#000000\" d=\"M560.5,-2877.2615C560.5,-2867.7077 560.5,-2852.8615 560.5,-2840.8183\"/>\n<polygon fill=\"#000000\" stroke=\"#000000\" points=\"564.0001,-2840.7784 560.5,-2830.7785 557.0001,-2840.7785 564.0001,-2840.7784\"/>\n</g>\n<!-- 139800628409360 -->\n<g id=\"node51\" class=\"node\">\n<title>139800628409360</title>\n<polygon fill=\"#d3d3d3\" stroke=\"#000000\" points=\"900,-2957 739,-2957 739,-2938 900,-2938 900,-2957\"/>\n<text text-anchor=\"middle\" x=\"819.5\" y=\"-2945\" font-family=\"monospace\" font-size=\"10.00\" fill=\"#000000\">NativeBatchNormBackward0</text>\n</g>\n<!-- 139800628409360&#45;&gt;139800628409040 -->\n<g id=\"edge49\" class=\"edge\">\n<title>139800628409360&#45;&gt;139800628409040</title>\n<path fill=\"none\" stroke=\"#000000\" d=\"M772.683,-2937.9734C730.8104,-2929.2596 667.8424,-2915.679 613.5,-2902 609.9529,-2901.1071 606.2825,-2900.1462 602.605,-2899.1575\"/>\n<polygon fill=\"#000000\" stroke=\"#000000\" points=\"603.5029,-2895.7746 592.9331,-2896.5031 601.6502,-2902.525 603.5029,-2895.7746\"/>\n</g>\n<!-- 139800628409232 -->\n<g id=\"node52\" class=\"node\">\n<title>139800628409232</title>\n<polygon fill=\"#d3d3d3\" stroke=\"#000000\" points=\"829,-3012 656,-3012 656,-2993 829,-2993 829,-3012\"/>\n<text text-anchor=\"middle\" x=\"742.5\" y=\"-3000\" font-family=\"monospace\" font-size=\"10.00\" fill=\"#000000\">MkldnnConvolutionBackward0</text>\n</g>\n<!-- 139800628409232&#45;&gt;139800628409360 -->\n<g id=\"edge50\" class=\"edge\">\n<title>139800628409232&#45;&gt;139800628409360</title>\n<path fill=\"none\" stroke=\"#000000\" d=\"M755.9124,-2992.9197C767.435,-2984.6893 784.268,-2972.6657 797.7206,-2963.0567\"/>\n<polygon fill=\"#000000\" stroke=\"#000000\" points=\"799.88,-2965.8155 805.983,-2957.155 795.8113,-2960.1194 799.88,-2965.8155\"/>\n</g>\n<!-- 139800628409744 -->\n<g id=\"node53\" class=\"node\">\n<title>139800628409744</title>\n<polygon fill=\"#d3d3d3\" stroke=\"#000000\" points=\"695,-3072.5 600,-3072.5 600,-3053.5 695,-3053.5 695,-3072.5\"/>\n<text text-anchor=\"middle\" x=\"647.5\" y=\"-3060.5\" font-family=\"monospace\" font-size=\"10.00\" fill=\"#000000\">ReluBackward0</text>\n</g>\n<!-- 139800628409744&#45;&gt;139800628409232 -->\n<g id=\"edge51\" class=\"edge\">\n<title>139800628409744&#45;&gt;139800628409232</title>\n<path fill=\"none\" stroke=\"#000000\" d=\"M662.7634,-3053.2796C677.8599,-3043.6655 701.182,-3028.813 718.7106,-3017.6501\"/>\n<polygon fill=\"#000000\" stroke=\"#000000\" points=\"720.7198,-3020.5201 727.2745,-3012.1962 716.9596,-3014.6157 720.7198,-3020.5201\"/>\n</g>\n<!-- 139800628409808 -->\n<g id=\"node54\" class=\"node\">\n<title>139800628409808</title>\n<polygon fill=\"#d3d3d3\" stroke=\"#000000\" points=\"728,-3138.5 567,-3138.5 567,-3119.5 728,-3119.5 728,-3138.5\"/>\n<text text-anchor=\"middle\" x=\"647.5\" y=\"-3126.5\" font-family=\"monospace\" font-size=\"10.00\" fill=\"#000000\">NativeBatchNormBackward0</text>\n</g>\n<!-- 139800628409808&#45;&gt;139800628409744 -->\n<g id=\"edge52\" class=\"edge\">\n<title>139800628409808&#45;&gt;139800628409744</title>\n<path fill=\"none\" stroke=\"#000000\" d=\"M647.5,-3119.2615C647.5,-3109.7077 647.5,-3094.8615 647.5,-3082.8183\"/>\n<polygon fill=\"#000000\" stroke=\"#000000\" points=\"651.0001,-3082.7784 647.5,-3072.7785 644.0001,-3082.7785 651.0001,-3082.7784\"/>\n</g>\n<!-- 139800628410128 -->\n<g id=\"node55\" class=\"node\">\n<title>139800628410128</title>\n<polygon fill=\"#d3d3d3\" stroke=\"#000000\" points=\"657,-3199 484,-3199 484,-3180 657,-3180 657,-3199\"/>\n<text text-anchor=\"middle\" x=\"570.5\" y=\"-3187\" font-family=\"monospace\" font-size=\"10.00\" fill=\"#000000\">MkldnnConvolutionBackward0</text>\n</g>\n<!-- 139800628410128&#45;&gt;139800628409808 -->\n<g id=\"edge53\" class=\"edge\">\n<title>139800628410128&#45;&gt;139800628409808</title>\n<path fill=\"none\" stroke=\"#000000\" d=\"M582.8714,-3179.7796C594.7707,-3170.4301 612.9752,-3156.1266 627.0345,-3145.08\"/>\n<polygon fill=\"#000000\" stroke=\"#000000\" points=\"629.4585,-3147.6266 635.1593,-3138.6962 625.1337,-3142.1224 629.4585,-3147.6266\"/>\n</g>\n<!-- 139800628409552 -->\n<g id=\"node56\" class=\"node\">\n<title>139800628409552</title>\n<polygon fill=\"#d3d3d3\" stroke=\"#000000\" points=\"503,-3259.5 408,-3259.5 408,-3240.5 503,-3240.5 503,-3259.5\"/>\n<text text-anchor=\"middle\" x=\"455.5\" y=\"-3247.5\" font-family=\"monospace\" font-size=\"10.00\" fill=\"#000000\">ReluBackward0</text>\n</g>\n<!-- 139800628409552&#45;&gt;139800628409040 -->\n<g id=\"edge96\" class=\"edge\">\n<title>139800628409552&#45;&gt;139800628409040</title>\n<path fill=\"none\" stroke=\"#000000\" d=\"M455.5,-3240.2758C455.5,-3219.7289 455.5,-3170.3837 455.5,-3129 455.5,-3129 455.5,-3129 455.5,-3002.5 455.5,-2956.3767 501.9114,-2920.5302 533.0218,-2901.6827\"/>\n<polygon fill=\"#000000\" stroke=\"#000000\" points=\"534.8534,-2904.6663 541.7281,-2896.6046 531.3266,-2898.6196 534.8534,-2904.6663\"/>\n</g>\n<!-- 139800628409552&#45;&gt;139800628410128 -->\n<g id=\"edge54\" class=\"edge\">\n<title>139800628409552&#45;&gt;139800628410128</title>\n<path fill=\"none\" stroke=\"#000000\" d=\"M473.7221,-3240.4136C492.4798,-3230.5454 521.9198,-3215.0574 543.4069,-3203.7533\"/>\n<polygon fill=\"#000000\" stroke=\"#000000\" points=\"545.1427,-3206.795 552.3632,-3199.0416 541.8836,-3200.6 545.1427,-3206.795\"/>\n</g>\n<!-- 139800628410448 -->\n<g id=\"node57\" class=\"node\">\n<title>139800628410448</title>\n<polygon fill=\"#d3d3d3\" stroke=\"#000000\" points=\"491,-3325.5 402,-3325.5 402,-3306.5 491,-3306.5 491,-3325.5\"/>\n<text text-anchor=\"middle\" x=\"446.5\" y=\"-3313.5\" font-family=\"monospace\" font-size=\"10.00\" fill=\"#000000\">AddBackward0</text>\n</g>\n<!-- 139800628410448&#45;&gt;139800628409552 -->\n<g id=\"edge55\" class=\"edge\">\n<title>139800628410448&#45;&gt;139800628409552</title>\n<path fill=\"none\" stroke=\"#000000\" d=\"M447.828,-3306.2615C449.1308,-3296.7077 451.1552,-3281.8615 452.7975,-3269.8183\"/>\n<polygon fill=\"#000000\" stroke=\"#000000\" points=\"456.2833,-3270.1597 454.1666,-3259.7785 449.3474,-3269.2139 456.2833,-3270.1597\"/>\n</g>\n<!-- 139800628410640 -->\n<g id=\"node58\" class=\"node\">\n<title>139800628410640</title>\n<polygon fill=\"#d3d3d3\" stroke=\"#000000\" points=\"800,-3386 639,-3386 639,-3367 800,-3367 800,-3386\"/>\n<text text-anchor=\"middle\" x=\"719.5\" y=\"-3374\" font-family=\"monospace\" font-size=\"10.00\" fill=\"#000000\">NativeBatchNormBackward0</text>\n</g>\n<!-- 139800628410640&#45;&gt;139800628410448 -->\n<g id=\"edge56\" class=\"edge\">\n<title>139800628410640&#45;&gt;139800628410448</title>\n<path fill=\"none\" stroke=\"#000000\" d=\"M668.1449,-3366.9624C623.4087,-3358.3962 556.8973,-3345.0384 499.5,-3331 495.947,-3330.131 492.2725,-3329.1868 488.5921,-3328.2093\"/>\n<polygon fill=\"#000000\" stroke=\"#000000\" points=\"489.4843,-3324.8248 478.9158,-3325.5727 487.6439,-3331.5786 489.4843,-3324.8248\"/>\n</g>\n<!-- 139800628410384 -->\n<g id=\"node59\" class=\"node\">\n<title>139800628410384</title>\n<polygon fill=\"#d3d3d3\" stroke=\"#000000\" points=\"729,-3441 556,-3441 556,-3422 729,-3422 729,-3441\"/>\n<text text-anchor=\"middle\" x=\"642.5\" y=\"-3429\" font-family=\"monospace\" font-size=\"10.00\" fill=\"#000000\">MkldnnConvolutionBackward0</text>\n</g>\n<!-- 139800628410384&#45;&gt;139800628410640 -->\n<g id=\"edge57\" class=\"edge\">\n<title>139800628410384&#45;&gt;139800628410640</title>\n<path fill=\"none\" stroke=\"#000000\" d=\"M655.9124,-3421.9197C667.435,-3413.6893 684.268,-3401.6657 697.7206,-3392.0567\"/>\n<polygon fill=\"#000000\" stroke=\"#000000\" points=\"699.88,-3394.8155 705.983,-3386.155 695.8113,-3389.1194 699.88,-3394.8155\"/>\n</g>\n<!-- 139800628411024 -->\n<g id=\"node60\" class=\"node\">\n<title>139800628411024</title>\n<polygon fill=\"#d3d3d3\" stroke=\"#000000\" points=\"595,-3501.5 500,-3501.5 500,-3482.5 595,-3482.5 595,-3501.5\"/>\n<text text-anchor=\"middle\" x=\"547.5\" y=\"-3489.5\" font-family=\"monospace\" font-size=\"10.00\" fill=\"#000000\">ReluBackward0</text>\n</g>\n<!-- 139800628411024&#45;&gt;139800628410384 -->\n<g id=\"edge58\" class=\"edge\">\n<title>139800628411024&#45;&gt;139800628410384</title>\n<path fill=\"none\" stroke=\"#000000\" d=\"M562.7634,-3482.2796C577.8599,-3472.6655 601.182,-3457.813 618.7106,-3446.6501\"/>\n<polygon fill=\"#000000\" stroke=\"#000000\" points=\"620.7198,-3449.5201 627.2745,-3441.1962 616.9596,-3443.6157 620.7198,-3449.5201\"/>\n</g>\n<!-- 139800628411088 -->\n<g id=\"node61\" class=\"node\">\n<title>139800628411088</title>\n<polygon fill=\"#d3d3d3\" stroke=\"#000000\" points=\"628,-3567.5 467,-3567.5 467,-3548.5 628,-3548.5 628,-3567.5\"/>\n<text text-anchor=\"middle\" x=\"547.5\" y=\"-3555.5\" font-family=\"monospace\" font-size=\"10.00\" fill=\"#000000\">NativeBatchNormBackward0</text>\n</g>\n<!-- 139800628411088&#45;&gt;139800628411024 -->\n<g id=\"edge59\" class=\"edge\">\n<title>139800628411088&#45;&gt;139800628411024</title>\n<path fill=\"none\" stroke=\"#000000\" d=\"M547.5,-3548.2615C547.5,-3538.7077 547.5,-3523.8615 547.5,-3511.8183\"/>\n<polygon fill=\"#000000\" stroke=\"#000000\" points=\"551.0001,-3511.7784 547.5,-3501.7785 544.0001,-3511.7785 551.0001,-3511.7784\"/>\n</g>\n<!-- 139800628411344 -->\n<g id=\"node62\" class=\"node\">\n<title>139800628411344</title>\n<polygon fill=\"#d3d3d3\" stroke=\"#000000\" points=\"557,-3628 384,-3628 384,-3609 557,-3609 557,-3628\"/>\n<text text-anchor=\"middle\" x=\"470.5\" y=\"-3616\" font-family=\"monospace\" font-size=\"10.00\" fill=\"#000000\">MkldnnConvolutionBackward0</text>\n</g>\n<!-- 139800628411344&#45;&gt;139800628411088 -->\n<g id=\"edge60\" class=\"edge\">\n<title>139800628411344&#45;&gt;139800628411088</title>\n<path fill=\"none\" stroke=\"#000000\" d=\"M482.8714,-3608.7796C494.7707,-3599.4301 512.9752,-3585.1266 527.0345,-3574.08\"/>\n<polygon fill=\"#000000\" stroke=\"#000000\" points=\"529.4585,-3576.6266 535.1593,-3567.6962 525.1337,-3571.1224 529.4585,-3576.6266\"/>\n</g>\n<!-- 139800628410832 -->\n<g id=\"node63\" class=\"node\">\n<title>139800628410832</title>\n<polygon fill=\"#d3d3d3\" stroke=\"#000000\" points=\"423,-3688.5 232,-3688.5 232,-3669.5 423,-3669.5 423,-3688.5\"/>\n<text text-anchor=\"middle\" x=\"327.5\" y=\"-3676.5\" font-family=\"monospace\" font-size=\"10.00\" fill=\"#000000\">MaxPool2DWithIndicesBackward0</text>\n</g>\n<!-- 139800628410832&#45;&gt;139800628410448 -->\n<g id=\"edge83\" class=\"edge\">\n<title>139800628410832&#45;&gt;139800628410448</title>\n<path fill=\"none\" stroke=\"#000000\" d=\"M329.3881,-3669.3198C333.2095,-3648.8561 341.5,-3599.6598 341.5,-3558 341.5,-3558 341.5,-3558 341.5,-3431.5 341.5,-3385.3767 387.9114,-3349.5302 419.0218,-3330.6827\"/>\n<polygon fill=\"#000000\" stroke=\"#000000\" points=\"420.8534,-3333.6663 427.7281,-3325.6046 417.3266,-3327.6196 420.8534,-3333.6663\"/>\n</g>\n<!-- 139800628410832&#45;&gt;139800628411344 -->\n<g id=\"edge61\" class=\"edge\">\n<title>139800628410832&#45;&gt;139800628411344</title>\n<path fill=\"none\" stroke=\"#000000\" d=\"M350.1588,-3669.4136C374.0065,-3659.3242 411.7399,-3643.3601 438.5924,-3631.9994\"/>\n<polygon fill=\"#000000\" stroke=\"#000000\" points=\"440.1013,-3635.1614 447.9472,-3628.0416 437.3738,-3628.7146 440.1013,-3635.1614\"/>\n</g>\n<!-- 139800628411792 -->\n<g id=\"node64\" class=\"node\">\n<title>139800628411792</title>\n<polygon fill=\"#d3d3d3\" stroke=\"#000000\" points=\"375,-3754.5 280,-3754.5 280,-3735.5 375,-3735.5 375,-3754.5\"/>\n<text text-anchor=\"middle\" x=\"327.5\" y=\"-3742.5\" font-family=\"monospace\" font-size=\"10.00\" fill=\"#000000\">ReluBackward0</text>\n</g>\n<!-- 139800628411792&#45;&gt;139800628410832 -->\n<g id=\"edge62\" class=\"edge\">\n<title>139800628411792&#45;&gt;139800628410832</title>\n<path fill=\"none\" stroke=\"#000000\" d=\"M327.5,-3735.2615C327.5,-3725.7077 327.5,-3710.8615 327.5,-3698.8183\"/>\n<polygon fill=\"#000000\" stroke=\"#000000\" points=\"331.0001,-3698.7784 327.5,-3688.7785 324.0001,-3698.7785 331.0001,-3698.7784\"/>\n</g>\n<!-- 139800628411728 -->\n<g id=\"node65\" class=\"node\">\n<title>139800628411728</title>\n<polygon fill=\"#d3d3d3\" stroke=\"#000000\" points=\"408,-3815 247,-3815 247,-3796 408,-3796 408,-3815\"/>\n<text text-anchor=\"middle\" x=\"327.5\" y=\"-3803\" font-family=\"monospace\" font-size=\"10.00\" fill=\"#000000\">NativeBatchNormBackward0</text>\n</g>\n<!-- 139800628411728&#45;&gt;139800628411792 -->\n<g id=\"edge63\" class=\"edge\">\n<title>139800628411728&#45;&gt;139800628411792</title>\n<path fill=\"none\" stroke=\"#000000\" d=\"M327.5,-3795.7796C327.5,-3787.5376 327.5,-3775.4457 327.5,-3765.129\"/>\n<polygon fill=\"#000000\" stroke=\"#000000\" points=\"331.0001,-3764.8972 327.5,-3754.8972 324.0001,-3764.8973 331.0001,-3764.8972\"/>\n</g>\n<!-- 139800628412112 -->\n<g id=\"node66\" class=\"node\">\n<title>139800628412112</title>\n<polygon fill=\"#d3d3d3\" stroke=\"#000000\" points=\"259,-3870 86,-3870 86,-3851 259,-3851 259,-3870\"/>\n<text text-anchor=\"middle\" x=\"172.5\" y=\"-3858\" font-family=\"monospace\" font-size=\"10.00\" fill=\"#000000\">MkldnnConvolutionBackward0</text>\n</g>\n<!-- 139800628412112&#45;&gt;139800628411728 -->\n<g id=\"edge64\" class=\"edge\">\n<title>139800628412112&#45;&gt;139800628411728</title>\n<path fill=\"none\" stroke=\"#000000\" d=\"M199.4989,-3850.9197C224.8701,-3841.9171 263.0307,-3828.3762 291.0863,-3818.421\"/>\n<polygon fill=\"#000000\" stroke=\"#000000\" points=\"292.297,-3821.7053 300.5509,-3815.0626 289.9561,-3815.1083 292.297,-3821.7053\"/>\n</g>\n<!-- 139800628453520 -->\n<g id=\"node67\" class=\"node\">\n<title>139800628453520</title>\n<polygon fill=\"#d3d3d3\" stroke=\"#000000\" points=\"223,-3930.5 122,-3930.5 122,-3911.5 223,-3911.5 223,-3930.5\"/>\n<text text-anchor=\"middle\" x=\"172.5\" y=\"-3918.5\" font-family=\"monospace\" font-size=\"10.00\" fill=\"#000000\">AccumulateGrad</text>\n</g>\n<!-- 139800628453520&#45;&gt;139800628412112 -->\n<g id=\"edge65\" class=\"edge\">\n<title>139800628453520&#45;&gt;139800628412112</title>\n<path fill=\"none\" stroke=\"#000000\" d=\"M172.5,-3911.2796C172.5,-3903.0376 172.5,-3890.9457 172.5,-3880.629\"/>\n<polygon fill=\"#000000\" stroke=\"#000000\" points=\"176.0001,-3880.3972 172.5,-3870.3972 169.0001,-3880.3973 176.0001,-3880.3972\"/>\n</g>\n<!-- 139800631702448 -->\n<g id=\"node68\" class=\"node\">\n<title>139800631702448</title>\n<polygon fill=\"#add8e6\" stroke=\"#000000\" points=\"223,-4002 122,-4002 122,-3972 223,-3972 223,-4002\"/>\n<text text-anchor=\"middle\" x=\"172.5\" y=\"-3990\" font-family=\"monospace\" font-size=\"10.00\" fill=\"#000000\">conv1.weight</text>\n<text text-anchor=\"middle\" x=\"172.5\" y=\"-3979\" font-family=\"monospace\" font-size=\"10.00\" fill=\"#000000\"> (64, 3, 7, 7)</text>\n</g>\n<!-- 139800631702448&#45;&gt;139800628453520 -->\n<g id=\"edge66\" class=\"edge\">\n<title>139800631702448&#45;&gt;139800628453520</title>\n<path fill=\"none\" stroke=\"#000000\" d=\"M172.5,-3971.6924C172.5,-3962.5067 172.5,-3950.7245 172.5,-3940.8312\"/>\n<polygon fill=\"#000000\" stroke=\"#000000\" points=\"176.0001,-3940.703 172.5,-3930.7031 169.0001,-3940.7031 176.0001,-3940.703\"/>\n</g>\n<!-- 139800628412368 -->\n<g id=\"node69\" class=\"node\">\n<title>139800628412368</title>\n<polygon fill=\"#d3d3d3\" stroke=\"#000000\" points=\"378,-3870 277,-3870 277,-3851 378,-3851 378,-3870\"/>\n<text text-anchor=\"middle\" x=\"327.5\" y=\"-3858\" font-family=\"monospace\" font-size=\"10.00\" fill=\"#000000\">AccumulateGrad</text>\n</g>\n<!-- 139800628412368&#45;&gt;139800628411728 -->\n<g id=\"edge67\" class=\"edge\">\n<title>139800628412368&#45;&gt;139800628411728</title>\n<path fill=\"none\" stroke=\"#000000\" d=\"M327.5,-3850.9197C327.5,-3843.9083 327.5,-3834.1442 327.5,-3825.4652\"/>\n<polygon fill=\"#000000\" stroke=\"#000000\" points=\"331.0001,-3825.3408 327.5,-3815.3408 324.0001,-3825.3409 331.0001,-3825.3408\"/>\n</g>\n<!-- 139800631702352 -->\n<g id=\"node70\" class=\"node\">\n<title>139800631702352</title>\n<polygon fill=\"#add8e6\" stroke=\"#000000\" points=\"366,-3936 289,-3936 289,-3906 366,-3906 366,-3936\"/>\n<text text-anchor=\"middle\" x=\"327.5\" y=\"-3924\" font-family=\"monospace\" font-size=\"10.00\" fill=\"#000000\">bn1.weight</text>\n<text text-anchor=\"middle\" x=\"327.5\" y=\"-3913\" font-family=\"monospace\" font-size=\"10.00\" fill=\"#000000\"> (64)</text>\n</g>\n<!-- 139800631702352&#45;&gt;139800628412368 -->\n<g id=\"edge68\" class=\"edge\">\n<title>139800631702352&#45;&gt;139800628412368</title>\n<path fill=\"none\" stroke=\"#000000\" d=\"M327.5,-3905.7333C327.5,-3898.0322 327.5,-3888.5977 327.5,-3880.3414\"/>\n<polygon fill=\"#000000\" stroke=\"#000000\" points=\"331.0001,-3880.0864 327.5,-3870.0864 324.0001,-3880.0864 331.0001,-3880.0864\"/>\n</g>\n<!-- 139800628412304 -->\n<g id=\"node71\" class=\"node\">\n<title>139800628412304</title>\n<polygon fill=\"#d3d3d3\" stroke=\"#000000\" points=\"497,-3870 396,-3870 396,-3851 497,-3851 497,-3870\"/>\n<text text-anchor=\"middle\" x=\"446.5\" y=\"-3858\" font-family=\"monospace\" font-size=\"10.00\" fill=\"#000000\">AccumulateGrad</text>\n</g>\n<!-- 139800628412304&#45;&gt;139800628411728 -->\n<g id=\"edge69\" class=\"edge\">\n<title>139800628412304&#45;&gt;139800628411728</title>\n<path fill=\"none\" stroke=\"#000000\" d=\"M425.7718,-3850.9197C406.9465,-3842.219 378.9495,-3829.2792 357.6487,-3819.4343\"/>\n<polygon fill=\"#000000\" stroke=\"#000000\" points=\"358.9357,-3816.1734 348.39,-3815.155 355.9989,-3822.5276 358.9357,-3816.1734\"/>\n</g>\n<!-- 139800631702160 -->\n<g id=\"node72\" class=\"node\">\n<title>139800631702160</title>\n<polygon fill=\"#add8e6\" stroke=\"#000000\" points=\"479,-3936 414,-3936 414,-3906 479,-3906 479,-3936\"/>\n<text text-anchor=\"middle\" x=\"446.5\" y=\"-3924\" font-family=\"monospace\" font-size=\"10.00\" fill=\"#000000\">bn1.bias</text>\n<text text-anchor=\"middle\" x=\"446.5\" y=\"-3913\" font-family=\"monospace\" font-size=\"10.00\" fill=\"#000000\"> (64)</text>\n</g>\n<!-- 139800631702160&#45;&gt;139800628412304 -->\n<g id=\"edge70\" class=\"edge\">\n<title>139800631702160&#45;&gt;139800628412304</title>\n<path fill=\"none\" stroke=\"#000000\" d=\"M446.5,-3905.7333C446.5,-3898.0322 446.5,-3888.5977 446.5,-3880.3414\"/>\n<polygon fill=\"#000000\" stroke=\"#000000\" points=\"450.0001,-3880.0864 446.5,-3870.0864 443.0001,-3880.0864 450.0001,-3880.0864\"/>\n</g>\n<!-- 139800628411664 -->\n<g id=\"node73\" class=\"node\">\n<title>139800628411664</title>\n<polygon fill=\"#d3d3d3\" stroke=\"#000000\" points=\"542,-3688.5 441,-3688.5 441,-3669.5 542,-3669.5 542,-3688.5\"/>\n<text text-anchor=\"middle\" x=\"491.5\" y=\"-3676.5\" font-family=\"monospace\" font-size=\"10.00\" fill=\"#000000\">AccumulateGrad</text>\n</g>\n<!-- 139800628411664&#45;&gt;139800628411344 -->\n<g id=\"edge71\" class=\"edge\">\n<title>139800628411664&#45;&gt;139800628411344</title>\n<path fill=\"none\" stroke=\"#000000\" d=\"M488.126,-3669.2796C485.2043,-3660.8623 480.8887,-3648.4295 477.2592,-3637.973\"/>\n<polygon fill=\"#000000\" stroke=\"#000000\" points=\"480.5211,-3636.6966 473.9354,-3628.3972 473.9081,-3638.992 480.5211,-3636.6966\"/>\n</g>\n<!-- 139800631703120 -->\n<g id=\"node74\" class=\"node\">\n<title>139800631703120</title>\n<polygon fill=\"#add8e6\" stroke=\"#000000\" points=\"563,-3760 420,-3760 420,-3730 563,-3730 563,-3760\"/>\n<text text-anchor=\"middle\" x=\"491.5\" y=\"-3748\" font-family=\"monospace\" font-size=\"10.00\" fill=\"#000000\">layer1.0.conv1.weight</text>\n<text text-anchor=\"middle\" x=\"491.5\" y=\"-3737\" font-family=\"monospace\" font-size=\"10.00\" fill=\"#000000\"> (64, 64, 3, 3)</text>\n</g>\n<!-- 139800631703120&#45;&gt;139800628411664 -->\n<g id=\"edge72\" class=\"edge\">\n<title>139800631703120&#45;&gt;139800628411664</title>\n<path fill=\"none\" stroke=\"#000000\" d=\"M491.5,-3729.6924C491.5,-3720.5067 491.5,-3708.7245 491.5,-3698.8312\"/>\n<polygon fill=\"#000000\" stroke=\"#000000\" points=\"495.0001,-3698.703 491.5,-3688.7031 488.0001,-3698.7031 495.0001,-3698.703\"/>\n</g>\n<!-- 139800628411600 -->\n<g id=\"node75\" class=\"node\">\n<title>139800628411600</title>\n<polygon fill=\"#d3d3d3\" stroke=\"#000000\" points=\"676,-3628 575,-3628 575,-3609 676,-3609 676,-3628\"/>\n<text text-anchor=\"middle\" x=\"625.5\" y=\"-3616\" font-family=\"monospace\" font-size=\"10.00\" fill=\"#000000\">AccumulateGrad</text>\n</g>\n<!-- 139800628411600&#45;&gt;139800628411088 -->\n<g id=\"edge73\" class=\"edge\">\n<title>139800628411600&#45;&gt;139800628411088</title>\n<path fill=\"none\" stroke=\"#000000\" d=\"M612.968,-3608.7796C600.9141,-3599.4301 582.4732,-3585.1266 568.2313,-3574.08\"/>\n<polygon fill=\"#000000\" stroke=\"#000000\" points=\"570.0478,-3571.0596 560.0009,-3567.6962 565.7575,-3576.5908 570.0478,-3571.0596\"/>\n</g>\n<!-- 139800631703024 -->\n<g id=\"node76\" class=\"node\">\n<title>139800631703024</title>\n<polygon fill=\"#add8e6\" stroke=\"#000000\" points=\"691,-3694 560,-3694 560,-3664 691,-3664 691,-3694\"/>\n<text text-anchor=\"middle\" x=\"625.5\" y=\"-3682\" font-family=\"monospace\" font-size=\"10.00\" fill=\"#000000\">layer1.0.bn1.weight</text>\n<text text-anchor=\"middle\" x=\"625.5\" y=\"-3671\" font-family=\"monospace\" font-size=\"10.00\" fill=\"#000000\"> (64)</text>\n</g>\n<!-- 139800631703024&#45;&gt;139800628411600 -->\n<g id=\"edge74\" class=\"edge\">\n<title>139800631703024&#45;&gt;139800628411600</title>\n<path fill=\"none\" stroke=\"#000000\" d=\"M625.5,-3663.7333C625.5,-3656.0322 625.5,-3646.5977 625.5,-3638.3414\"/>\n<polygon fill=\"#000000\" stroke=\"#000000\" points=\"629.0001,-3638.0864 625.5,-3628.0864 622.0001,-3638.0864 629.0001,-3638.0864\"/>\n</g>\n<!-- 139800628411536 -->\n<g id=\"node77\" class=\"node\">\n<title>139800628411536</title>\n<polygon fill=\"#d3d3d3\" stroke=\"#000000\" points=\"807,-3628 706,-3628 706,-3609 807,-3609 807,-3628\"/>\n<text text-anchor=\"middle\" x=\"756.5\" y=\"-3616\" font-family=\"monospace\" font-size=\"10.00\" fill=\"#000000\">AccumulateGrad</text>\n</g>\n<!-- 139800628411536&#45;&gt;139800628411088 -->\n<g id=\"edge75\" class=\"edge\">\n<title>139800628411536&#45;&gt;139800628411088</title>\n<path fill=\"none\" stroke=\"#000000\" d=\"M723.3833,-3608.9136C687.3824,-3598.4923 629.73,-3581.8034 590.3142,-3570.3936\"/>\n<polygon fill=\"#000000\" stroke=\"#000000\" points=\"591.0406,-3566.9602 580.4617,-3567.5416 589.0942,-3573.6842 591.0406,-3566.9602\"/>\n</g>\n<!-- 139800631702832 -->\n<g id=\"node78\" class=\"node\">\n<title>139800631702832</title>\n<polygon fill=\"#add8e6\" stroke=\"#000000\" points=\"828,-3694 709,-3694 709,-3664 828,-3664 828,-3694\"/>\n<text text-anchor=\"middle\" x=\"768.5\" y=\"-3682\" font-family=\"monospace\" font-size=\"10.00\" fill=\"#000000\">layer1.0.bn1.bias</text>\n<text text-anchor=\"middle\" x=\"768.5\" y=\"-3671\" font-family=\"monospace\" font-size=\"10.00\" fill=\"#000000\"> (64)</text>\n</g>\n<!-- 139800631702832&#45;&gt;139800628411536 -->\n<g id=\"edge76\" class=\"edge\">\n<title>139800631702832&#45;&gt;139800628411536</title>\n<path fill=\"none\" stroke=\"#000000\" d=\"M765.4719,-3663.7333C763.927,-3655.9447 762.0305,-3646.3831 760.3797,-3638.0604\"/>\n<polygon fill=\"#000000\" stroke=\"#000000\" points=\"763.7802,-3637.2143 758.4014,-3628.0864 756.914,-3638.5763 763.7802,-3637.2143\"/>\n</g>\n<!-- 139800628411216 -->\n<g id=\"node79\" class=\"node\">\n<title>139800628411216</title>\n<polygon fill=\"#d3d3d3\" stroke=\"#000000\" points=\"714,-3501.5 613,-3501.5 613,-3482.5 714,-3482.5 714,-3501.5\"/>\n<text text-anchor=\"middle\" x=\"663.5\" y=\"-3489.5\" font-family=\"monospace\" font-size=\"10.00\" fill=\"#000000\">AccumulateGrad</text>\n</g>\n<!-- 139800628411216&#45;&gt;139800628410384 -->\n<g id=\"edge77\" class=\"edge\">\n<title>139800628411216&#45;&gt;139800628410384</title>\n<path fill=\"none\" stroke=\"#000000\" d=\"M660.126,-3482.2796C657.2043,-3473.8623 652.8887,-3461.4295 649.2592,-3450.973\"/>\n<polygon fill=\"#000000\" stroke=\"#000000\" points=\"652.5211,-3449.6966 645.9354,-3441.3972 645.9081,-3451.992 652.5211,-3449.6966\"/>\n</g>\n<!-- 139800631703792 -->\n<g id=\"node80\" class=\"node\">\n<title>139800631703792</title>\n<polygon fill=\"#add8e6\" stroke=\"#000000\" points=\"789,-3573 646,-3573 646,-3543 789,-3543 789,-3573\"/>\n<text text-anchor=\"middle\" x=\"717.5\" y=\"-3561\" font-family=\"monospace\" font-size=\"10.00\" fill=\"#000000\">layer1.0.conv2.weight</text>\n<text text-anchor=\"middle\" x=\"717.5\" y=\"-3550\" font-family=\"monospace\" font-size=\"10.00\" fill=\"#000000\"> (64, 64, 3, 3)</text>\n</g>\n<!-- 139800631703792&#45;&gt;139800628411216 -->\n<g id=\"edge78\" class=\"edge\">\n<title>139800631703792&#45;&gt;139800628411216</title>\n<path fill=\"none\" stroke=\"#000000\" d=\"M704.9756,-3542.6924C696.8944,-3532.8153 686.3568,-3519.9361 677.9256,-3509.6312\"/>\n<polygon fill=\"#000000\" stroke=\"#000000\" points=\"680.4801,-3507.2263 671.4389,-3501.7031 675.0624,-3511.659 680.4801,-3507.2263\"/>\n</g>\n<!-- 139800628410960 -->\n<g id=\"node81\" class=\"node\">\n<title>139800628410960</title>\n<polygon fill=\"#d3d3d3\" stroke=\"#000000\" points=\"848,-3441 747,-3441 747,-3422 848,-3422 848,-3441\"/>\n<text text-anchor=\"middle\" x=\"797.5\" y=\"-3429\" font-family=\"monospace\" font-size=\"10.00\" fill=\"#000000\">AccumulateGrad</text>\n</g>\n<!-- 139800628410960&#45;&gt;139800628410640 -->\n<g id=\"edge79\" class=\"edge\">\n<title>139800628410960&#45;&gt;139800628410640</title>\n<path fill=\"none\" stroke=\"#000000\" d=\"M783.9134,-3421.9197C772.2411,-3413.6893 755.1895,-3401.6657 741.5622,-3392.0567\"/>\n<polygon fill=\"#000000\" stroke=\"#000000\" points=\"743.3821,-3389.0574 733.1926,-3386.155 739.3482,-3394.7782 743.3821,-3389.0574\"/>\n</g>\n<!-- 139800631703696 -->\n<g id=\"node82\" class=\"node\">\n<title>139800631703696</title>\n<polygon fill=\"#add8e6\" stroke=\"#000000\" points=\"863,-3507 732,-3507 732,-3477 863,-3477 863,-3507\"/>\n<text text-anchor=\"middle\" x=\"797.5\" y=\"-3495\" font-family=\"monospace\" font-size=\"10.00\" fill=\"#000000\">layer1.0.bn2.weight</text>\n<text text-anchor=\"middle\" x=\"797.5\" y=\"-3484\" font-family=\"monospace\" font-size=\"10.00\" fill=\"#000000\"> (64)</text>\n</g>\n<!-- 139800631703696&#45;&gt;139800628410960 -->\n<g id=\"edge80\" class=\"edge\">\n<title>139800631703696&#45;&gt;139800628410960</title>\n<path fill=\"none\" stroke=\"#000000\" d=\"M797.5,-3476.7333C797.5,-3469.0322 797.5,-3459.5977 797.5,-3451.3414\"/>\n<polygon fill=\"#000000\" stroke=\"#000000\" points=\"801.0001,-3451.0864 797.5,-3441.0864 794.0001,-3451.0864 801.0001,-3451.0864\"/>\n</g>\n<!-- 139800628410896 -->\n<g id=\"node83\" class=\"node\">\n<title>139800628410896</title>\n<polygon fill=\"#d3d3d3\" stroke=\"#000000\" points=\"979,-3441 878,-3441 878,-3422 979,-3422 979,-3441\"/>\n<text text-anchor=\"middle\" x=\"928.5\" y=\"-3429\" font-family=\"monospace\" font-size=\"10.00\" fill=\"#000000\">AccumulateGrad</text>\n</g>\n<!-- 139800628410896&#45;&gt;139800628410640 -->\n<g id=\"edge81\" class=\"edge\">\n<title>139800628410896&#45;&gt;139800628410640</title>\n<path fill=\"none\" stroke=\"#000000\" d=\"M892.095,-3421.9197C856.9885,-3412.6812 803.7213,-3398.6635 765.6549,-3388.646\"/>\n<polygon fill=\"#000000\" stroke=\"#000000\" points=\"766.3994,-3385.2228 755.8379,-3386.0626 764.6179,-3391.9924 766.3994,-3385.2228\"/>\n</g>\n<!-- 139800631703504 -->\n<g id=\"node84\" class=\"node\">\n<title>139800631703504</title>\n<polygon fill=\"#add8e6\" stroke=\"#000000\" points=\"1000,-3507 881,-3507 881,-3477 1000,-3477 1000,-3507\"/>\n<text text-anchor=\"middle\" x=\"940.5\" y=\"-3495\" font-family=\"monospace\" font-size=\"10.00\" fill=\"#000000\">layer1.0.bn2.bias</text>\n<text text-anchor=\"middle\" x=\"940.5\" y=\"-3484\" font-family=\"monospace\" font-size=\"10.00\" fill=\"#000000\"> (64)</text>\n</g>\n<!-- 139800631703504&#45;&gt;139800628410896 -->\n<g id=\"edge82\" class=\"edge\">\n<title>139800631703504&#45;&gt;139800628410896</title>\n<path fill=\"none\" stroke=\"#000000\" d=\"M937.4719,-3476.7333C935.927,-3468.9447 934.0305,-3459.3831 932.3797,-3451.0604\"/>\n<polygon fill=\"#000000\" stroke=\"#000000\" points=\"935.7802,-3450.2143 930.4014,-3441.0864 928.914,-3451.5763 935.7802,-3450.2143\"/>\n</g>\n<!-- 139800628410320 -->\n<g id=\"node85\" class=\"node\">\n<title>139800628410320</title>\n<polygon fill=\"#d3d3d3\" stroke=\"#000000\" points=\"626,-3259.5 525,-3259.5 525,-3240.5 626,-3240.5 626,-3259.5\"/>\n<text text-anchor=\"middle\" x=\"575.5\" y=\"-3247.5\" font-family=\"monospace\" font-size=\"10.00\" fill=\"#000000\">AccumulateGrad</text>\n</g>\n<!-- 139800628410320&#45;&gt;139800628410128 -->\n<g id=\"edge84\" class=\"edge\">\n<title>139800628410320&#45;&gt;139800628410128</title>\n<path fill=\"none\" stroke=\"#000000\" d=\"M574.6967,-3240.2796C574.0155,-3232.0376 573.0162,-3219.9457 572.1636,-3209.629\"/>\n<polygon fill=\"#000000\" stroke=\"#000000\" points=\"575.6298,-3209.075 571.318,-3199.3972 568.6536,-3209.6516 575.6298,-3209.075\"/>\n</g>\n<!-- 139800631704464 -->\n<g id=\"node86\" class=\"node\">\n<title>139800631704464</title>\n<polygon fill=\"#add8e6\" stroke=\"#000000\" points=\"652,-3331 509,-3331 509,-3301 652,-3301 652,-3331\"/>\n<text text-anchor=\"middle\" x=\"580.5\" y=\"-3319\" font-family=\"monospace\" font-size=\"10.00\" fill=\"#000000\">layer1.1.conv1.weight</text>\n<text text-anchor=\"middle\" x=\"580.5\" y=\"-3308\" font-family=\"monospace\" font-size=\"10.00\" fill=\"#000000\"> (64, 64, 3, 3)</text>\n</g>\n<!-- 139800631704464&#45;&gt;139800628410320 -->\n<g id=\"edge85\" class=\"edge\">\n<title>139800631704464&#45;&gt;139800628410320</title>\n<path fill=\"none\" stroke=\"#000000\" d=\"M579.3403,-3300.6924C578.6444,-3291.5067 577.7519,-3279.7245 577.0024,-3269.8312\"/>\n<polygon fill=\"#000000\" stroke=\"#000000\" points=\"580.4806,-3269.4101 576.2351,-3259.7031 573.5006,-3269.9389 580.4806,-3269.4101\"/>\n</g>\n<!-- 139800628410256 -->\n<g id=\"node87\" class=\"node\">\n<title>139800628410256</title>\n<polygon fill=\"#d3d3d3\" stroke=\"#000000\" points=\"776,-3199 675,-3199 675,-3180 776,-3180 776,-3199\"/>\n<text text-anchor=\"middle\" x=\"725.5\" y=\"-3187\" font-family=\"monospace\" font-size=\"10.00\" fill=\"#000000\">AccumulateGrad</text>\n</g>\n<!-- 139800628410256&#45;&gt;139800628409808 -->\n<g id=\"edge86\" class=\"edge\">\n<title>139800628410256&#45;&gt;139800628409808</title>\n<path fill=\"none\" stroke=\"#000000\" d=\"M712.968,-3179.7796C700.9141,-3170.4301 682.4732,-3156.1266 668.2313,-3145.08\"/>\n<polygon fill=\"#000000\" stroke=\"#000000\" points=\"670.0478,-3142.0596 660.0009,-3138.6962 665.7575,-3147.5908 670.0478,-3142.0596\"/>\n</g>\n<!-- 139800631704368 -->\n<g id=\"node88\" class=\"node\">\n<title>139800631704368</title>\n<polygon fill=\"#add8e6\" stroke=\"#000000\" points=\"783,-3265 652,-3265 652,-3235 783,-3235 783,-3265\"/>\n<text text-anchor=\"middle\" x=\"717.5\" y=\"-3253\" font-family=\"monospace\" font-size=\"10.00\" fill=\"#000000\">layer1.1.bn1.weight</text>\n<text text-anchor=\"middle\" x=\"717.5\" y=\"-3242\" font-family=\"monospace\" font-size=\"10.00\" fill=\"#000000\"> (64)</text>\n</g>\n<!-- 139800631704368&#45;&gt;139800628410256 -->\n<g id=\"edge87\" class=\"edge\">\n<title>139800631704368&#45;&gt;139800628410256</title>\n<path fill=\"none\" stroke=\"#000000\" d=\"M719.5187,-3234.7333C720.5486,-3226.9447 721.813,-3217.3831 722.9135,-3209.0604\"/>\n<polygon fill=\"#000000\" stroke=\"#000000\" points=\"726.3912,-3209.459 724.2324,-3199.0864 719.4516,-3208.5413 726.3912,-3209.459\"/>\n</g>\n<!-- 139800628410000 -->\n<g id=\"node89\" class=\"node\">\n<title>139800628410000</title>\n<polygon fill=\"#d3d3d3\" stroke=\"#000000\" points=\"897,-3199 796,-3199 796,-3180 897,-3180 897,-3199\"/>\n<text text-anchor=\"middle\" x=\"846.5\" y=\"-3187\" font-family=\"monospace\" font-size=\"10.00\" fill=\"#000000\">AccumulateGrad</text>\n</g>\n<!-- 139800628410000&#45;&gt;139800628409808 -->\n<g id=\"edge88\" class=\"edge\">\n<title>139800628410000&#45;&gt;139800628409808</title>\n<path fill=\"none\" stroke=\"#000000\" d=\"M814.9679,-3179.9136C780.7623,-3169.5144 726.0286,-3152.8743 688.5049,-3141.4663\"/>\n<polygon fill=\"#000000\" stroke=\"#000000\" points=\"689.4703,-3138.1017 678.8846,-3138.5416 687.4341,-3144.799 689.4703,-3138.1017\"/>\n</g>\n<!-- 139800631704176 -->\n<g id=\"node90\" class=\"node\">\n<title>139800631704176</title>\n<polygon fill=\"#add8e6\" stroke=\"#000000\" points=\"920,-3265 801,-3265 801,-3235 920,-3235 920,-3265\"/>\n<text text-anchor=\"middle\" x=\"860.5\" y=\"-3253\" font-family=\"monospace\" font-size=\"10.00\" fill=\"#000000\">layer1.1.bn1.bias</text>\n<text text-anchor=\"middle\" x=\"860.5\" y=\"-3242\" font-family=\"monospace\" font-size=\"10.00\" fill=\"#000000\"> (64)</text>\n</g>\n<!-- 139800631704176&#45;&gt;139800628410000 -->\n<g id=\"edge89\" class=\"edge\">\n<title>139800631704176&#45;&gt;139800628410000</title>\n<path fill=\"none\" stroke=\"#000000\" d=\"M856.9672,-3234.7333C855.1649,-3226.9447 852.9523,-3217.3831 851.0264,-3209.0604\"/>\n<polygon fill=\"#000000\" stroke=\"#000000\" points=\"854.3828,-3208.0399 848.7183,-3199.0864 847.563,-3209.6181 854.3828,-3208.0399\"/>\n</g>\n<!-- 139800628409936 -->\n<g id=\"node91\" class=\"node\">\n<title>139800628409936</title>\n<polygon fill=\"#d3d3d3\" stroke=\"#000000\" points=\"814,-3072.5 713,-3072.5 713,-3053.5 814,-3053.5 814,-3072.5\"/>\n<text text-anchor=\"middle\" x=\"763.5\" y=\"-3060.5\" font-family=\"monospace\" font-size=\"10.00\" fill=\"#000000\">AccumulateGrad</text>\n</g>\n<!-- 139800628409936&#45;&gt;139800628409232 -->\n<g id=\"edge90\" class=\"edge\">\n<title>139800628409936&#45;&gt;139800628409232</title>\n<path fill=\"none\" stroke=\"#000000\" d=\"M760.126,-3053.2796C757.2043,-3044.8623 752.8887,-3032.4295 749.2592,-3021.973\"/>\n<polygon fill=\"#000000\" stroke=\"#000000\" points=\"752.5211,-3020.6966 745.9354,-3012.3972 745.9081,-3022.992 752.5211,-3020.6966\"/>\n</g>\n<!-- 139800631705136 -->\n<g id=\"node92\" class=\"node\">\n<title>139800631705136</title>\n<polygon fill=\"#add8e6\" stroke=\"#000000\" points=\"889,-3144 746,-3144 746,-3114 889,-3114 889,-3144\"/>\n<text text-anchor=\"middle\" x=\"817.5\" y=\"-3132\" font-family=\"monospace\" font-size=\"10.00\" fill=\"#000000\">layer1.1.conv2.weight</text>\n<text text-anchor=\"middle\" x=\"817.5\" y=\"-3121\" font-family=\"monospace\" font-size=\"10.00\" fill=\"#000000\"> (64, 64, 3, 3)</text>\n</g>\n<!-- 139800631705136&#45;&gt;139800628409936 -->\n<g id=\"edge91\" class=\"edge\">\n<title>139800631705136&#45;&gt;139800628409936</title>\n<path fill=\"none\" stroke=\"#000000\" d=\"M804.9756,-3113.6924C796.8944,-3103.8153 786.3568,-3090.9361 777.9256,-3080.6312\"/>\n<polygon fill=\"#000000\" stroke=\"#000000\" points=\"780.4801,-3078.2263 771.4389,-3072.7031 775.0624,-3082.659 780.4801,-3078.2263\"/>\n</g>\n<!-- 139800628409680 -->\n<g id=\"node93\" class=\"node\">\n<title>139800628409680</title>\n<polygon fill=\"#d3d3d3\" stroke=\"#000000\" points=\"948,-3012 847,-3012 847,-2993 948,-2993 948,-3012\"/>\n<text text-anchor=\"middle\" x=\"897.5\" y=\"-3000\" font-family=\"monospace\" font-size=\"10.00\" fill=\"#000000\">AccumulateGrad</text>\n</g>\n<!-- 139800628409680&#45;&gt;139800628409360 -->\n<g id=\"edge92\" class=\"edge\">\n<title>139800628409680&#45;&gt;139800628409360</title>\n<path fill=\"none\" stroke=\"#000000\" d=\"M883.9134,-2992.9197C872.2411,-2984.6893 855.1895,-2972.6657 841.5622,-2963.0567\"/>\n<polygon fill=\"#000000\" stroke=\"#000000\" points=\"843.3821,-2960.0574 833.1926,-2957.155 839.3482,-2965.7782 843.3821,-2960.0574\"/>\n</g>\n<!-- 139800631705040 -->\n<g id=\"node94\" class=\"node\">\n<title>139800631705040</title>\n<polygon fill=\"#add8e6\" stroke=\"#000000\" points=\"963,-3078 832,-3078 832,-3048 963,-3048 963,-3078\"/>\n<text text-anchor=\"middle\" x=\"897.5\" y=\"-3066\" font-family=\"monospace\" font-size=\"10.00\" fill=\"#000000\">layer1.1.bn2.weight</text>\n<text text-anchor=\"middle\" x=\"897.5\" y=\"-3055\" font-family=\"monospace\" font-size=\"10.00\" fill=\"#000000\"> (64)</text>\n</g>\n<!-- 139800631705040&#45;&gt;139800628409680 -->\n<g id=\"edge93\" class=\"edge\">\n<title>139800631705040&#45;&gt;139800628409680</title>\n<path fill=\"none\" stroke=\"#000000\" d=\"M897.5,-3047.7333C897.5,-3040.0322 897.5,-3030.5977 897.5,-3022.3414\"/>\n<polygon fill=\"#000000\" stroke=\"#000000\" points=\"901.0001,-3022.0864 897.5,-3012.0864 894.0001,-3022.0864 901.0001,-3022.0864\"/>\n</g>\n<!-- 139800628409616 -->\n<g id=\"node95\" class=\"node\">\n<title>139800628409616</title>\n<polygon fill=\"#d3d3d3\" stroke=\"#000000\" points=\"1079,-3012 978,-3012 978,-2993 1079,-2993 1079,-3012\"/>\n<text text-anchor=\"middle\" x=\"1028.5\" y=\"-3000\" font-family=\"monospace\" font-size=\"10.00\" fill=\"#000000\">AccumulateGrad</text>\n</g>\n<!-- 139800628409616&#45;&gt;139800628409360 -->\n<g id=\"edge94\" class=\"edge\">\n<title>139800628409616&#45;&gt;139800628409360</title>\n<path fill=\"none\" stroke=\"#000000\" d=\"M992.095,-2992.9197C956.9885,-2983.6812 903.7213,-2969.6635 865.6549,-2959.646\"/>\n<polygon fill=\"#000000\" stroke=\"#000000\" points=\"866.3994,-2956.2228 855.8379,-2957.0626 864.6179,-2962.9924 866.3994,-2956.2228\"/>\n</g>\n<!-- 139800631704848 -->\n<g id=\"node96\" class=\"node\">\n<title>139800631704848</title>\n<polygon fill=\"#add8e6\" stroke=\"#000000\" points=\"1100,-3078 981,-3078 981,-3048 1100,-3048 1100,-3078\"/>\n<text text-anchor=\"middle\" x=\"1040.5\" y=\"-3066\" font-family=\"monospace\" font-size=\"10.00\" fill=\"#000000\">layer1.1.bn2.bias</text>\n<text text-anchor=\"middle\" x=\"1040.5\" y=\"-3055\" font-family=\"monospace\" font-size=\"10.00\" fill=\"#000000\"> (64)</text>\n</g>\n<!-- 139800631704848&#45;&gt;139800628409616 -->\n<g id=\"edge95\" class=\"edge\">\n<title>139800631704848&#45;&gt;139800628409616</title>\n<path fill=\"none\" stroke=\"#000000\" d=\"M1037.4719,-3047.7333C1035.927,-3039.9447 1034.0305,-3030.3831 1032.3797,-3022.0604\"/>\n<polygon fill=\"#000000\" stroke=\"#000000\" points=\"1035.7802,-3021.2143 1030.4014,-3012.0864 1028.914,-3022.5763 1035.7802,-3021.2143\"/>\n</g>\n<!-- 139800628409168 -->\n<g id=\"node97\" class=\"node\">\n<title>139800628409168</title>\n<polygon fill=\"#d3d3d3\" stroke=\"#000000\" points=\"727,-2830.5 626,-2830.5 626,-2811.5 727,-2811.5 727,-2830.5\"/>\n<text text-anchor=\"middle\" x=\"676.5\" y=\"-2818.5\" font-family=\"monospace\" font-size=\"10.00\" fill=\"#000000\">AccumulateGrad</text>\n</g>\n<!-- 139800628409168&#45;&gt;139800628408784 -->\n<g id=\"edge97\" class=\"edge\">\n<title>139800628409168&#45;&gt;139800628408784</title>\n<path fill=\"none\" stroke=\"#000000\" d=\"M673.126,-2811.2796C670.2043,-2802.8623 665.8887,-2790.4295 662.2592,-2779.973\"/>\n<polygon fill=\"#000000\" stroke=\"#000000\" points=\"665.5211,-2778.6966 658.9354,-2770.3972 658.9081,-2780.992 665.5211,-2778.6966\"/>\n</g>\n<!-- 139800631681968 -->\n<g id=\"node98\" class=\"node\">\n<title>139800631681968</title>\n<polygon fill=\"#add8e6\" stroke=\"#000000\" points=\"766,-2902 623,-2902 623,-2872 766,-2872 766,-2902\"/>\n<text text-anchor=\"middle\" x=\"694.5\" y=\"-2890\" font-family=\"monospace\" font-size=\"10.00\" fill=\"#000000\">layer2.0.conv1.weight</text>\n<text text-anchor=\"middle\" x=\"694.5\" y=\"-2879\" font-family=\"monospace\" font-size=\"10.00\" fill=\"#000000\"> (128, 64, 3, 3)</text>\n</g>\n<!-- 139800631681968&#45;&gt;139800628409168 -->\n<g id=\"edge98\" class=\"edge\">\n<title>139800631681968&#45;&gt;139800628409168</title>\n<path fill=\"none\" stroke=\"#000000\" d=\"M690.3252,-2871.6924C687.7931,-2862.408 684.5375,-2850.4708 681.8216,-2840.5127\"/>\n<polygon fill=\"#000000\" stroke=\"#000000\" points=\"685.1542,-2839.4298 679.1463,-2830.7031 678.4009,-2841.2716 685.1542,-2839.4298\"/>\n</g>\n<!-- 139800628408912 -->\n<g id=\"node99\" class=\"node\">\n<title>139800628408912</title>\n<polygon fill=\"#d3d3d3\" stroke=\"#000000\" points=\"861,-2770 760,-2770 760,-2751 861,-2751 861,-2770\"/>\n<text text-anchor=\"middle\" x=\"810.5\" y=\"-2758\" font-family=\"monospace\" font-size=\"10.00\" fill=\"#000000\">AccumulateGrad</text>\n</g>\n<!-- 139800628408912&#45;&gt;139800628408464 -->\n<g id=\"edge99\" class=\"edge\">\n<title>139800628408912&#45;&gt;139800628408464</title>\n<path fill=\"none\" stroke=\"#000000\" d=\"M797.968,-2750.7796C785.9141,-2741.4301 767.4732,-2727.1266 753.2313,-2716.08\"/>\n<polygon fill=\"#000000\" stroke=\"#000000\" points=\"755.0478,-2713.0596 745.0009,-2709.6962 750.7575,-2718.5908 755.0478,-2713.0596\"/>\n</g>\n<!-- 139800631681872 -->\n<g id=\"node100\" class=\"node\">\n<title>139800631681872</title>\n<polygon fill=\"#add8e6\" stroke=\"#000000\" points=\"876,-2836 745,-2836 745,-2806 876,-2806 876,-2836\"/>\n<text text-anchor=\"middle\" x=\"810.5\" y=\"-2824\" font-family=\"monospace\" font-size=\"10.00\" fill=\"#000000\">layer2.0.bn1.weight</text>\n<text text-anchor=\"middle\" x=\"810.5\" y=\"-2813\" font-family=\"monospace\" font-size=\"10.00\" fill=\"#000000\"> (128)</text>\n</g>\n<!-- 139800631681872&#45;&gt;139800628408912 -->\n<g id=\"edge100\" class=\"edge\">\n<title>139800631681872&#45;&gt;139800628408912</title>\n<path fill=\"none\" stroke=\"#000000\" d=\"M810.5,-2805.7333C810.5,-2798.0322 810.5,-2788.5977 810.5,-2780.3414\"/>\n<polygon fill=\"#000000\" stroke=\"#000000\" points=\"814.0001,-2780.0864 810.5,-2770.0864 807.0001,-2780.0864 814.0001,-2780.0864\"/>\n</g>\n<!-- 139800628408656 -->\n<g id=\"node101\" class=\"node\">\n<title>139800628408656</title>\n<polygon fill=\"#d3d3d3\" stroke=\"#000000\" points=\"992,-2770 891,-2770 891,-2751 992,-2751 992,-2770\"/>\n<text text-anchor=\"middle\" x=\"941.5\" y=\"-2758\" font-family=\"monospace\" font-size=\"10.00\" fill=\"#000000\">AccumulateGrad</text>\n</g>\n<!-- 139800628408656&#45;&gt;139800628408464 -->\n<g id=\"edge101\" class=\"edge\">\n<title>139800628408656&#45;&gt;139800628408464</title>\n<path fill=\"none\" stroke=\"#000000\" d=\"M908.3833,-2750.9136C872.3824,-2740.4923 814.73,-2723.8034 775.3142,-2712.3936\"/>\n<polygon fill=\"#000000\" stroke=\"#000000\" points=\"776.0406,-2708.9602 765.4617,-2709.5416 774.0942,-2715.6842 776.0406,-2708.9602\"/>\n</g>\n<!-- 139800631681680 -->\n<g id=\"node102\" class=\"node\">\n<title>139800631681680</title>\n<polygon fill=\"#add8e6\" stroke=\"#000000\" points=\"1013,-2836 894,-2836 894,-2806 1013,-2806 1013,-2836\"/>\n<text text-anchor=\"middle\" x=\"953.5\" y=\"-2824\" font-family=\"monospace\" font-size=\"10.00\" fill=\"#000000\">layer2.0.bn1.bias</text>\n<text text-anchor=\"middle\" x=\"953.5\" y=\"-2813\" font-family=\"monospace\" font-size=\"10.00\" fill=\"#000000\"> (128)</text>\n</g>\n<!-- 139800631681680&#45;&gt;139800628408656 -->\n<g id=\"edge102\" class=\"edge\">\n<title>139800631681680&#45;&gt;139800628408656</title>\n<path fill=\"none\" stroke=\"#000000\" d=\"M950.4719,-2805.7333C948.927,-2797.9447 947.0305,-2788.3831 945.3797,-2780.0604\"/>\n<polygon fill=\"#000000\" stroke=\"#000000\" points=\"948.7802,-2779.2143 943.4014,-2770.0864 941.914,-2780.5763 948.7802,-2779.2143\"/>\n</g>\n<!-- 139800628408592 -->\n<g id=\"node103\" class=\"node\">\n<title>139800628408592</title>\n<polygon fill=\"#d3d3d3\" stroke=\"#000000\" points=\"899,-2643.5 798,-2643.5 798,-2624.5 899,-2624.5 899,-2643.5\"/>\n<text text-anchor=\"middle\" x=\"848.5\" y=\"-2631.5\" font-family=\"monospace\" font-size=\"10.00\" fill=\"#000000\">AccumulateGrad</text>\n</g>\n<!-- 139800628408592&#45;&gt;139800628460944 -->\n<g id=\"edge103\" class=\"edge\">\n<title>139800628408592&#45;&gt;139800628460944</title>\n<path fill=\"none\" stroke=\"#000000\" d=\"M845.126,-2624.2796C842.2043,-2615.8623 837.8887,-2603.4295 834.2592,-2592.973\"/>\n<polygon fill=\"#000000\" stroke=\"#000000\" points=\"837.5211,-2591.6966 830.9354,-2583.3972 830.9081,-2593.992 837.5211,-2591.6966\"/>\n</g>\n<!-- 139800631682640 -->\n<g id=\"node104\" class=\"node\">\n<title>139800631682640</title>\n<polygon fill=\"#add8e6\" stroke=\"#000000\" points=\"974,-2715 831,-2715 831,-2685 974,-2685 974,-2715\"/>\n<text text-anchor=\"middle\" x=\"902.5\" y=\"-2703\" font-family=\"monospace\" font-size=\"10.00\" fill=\"#000000\">layer2.0.conv2.weight</text>\n<text text-anchor=\"middle\" x=\"902.5\" y=\"-2692\" font-family=\"monospace\" font-size=\"10.00\" fill=\"#000000\"> (128, 128, 3, 3)</text>\n</g>\n<!-- 139800631682640&#45;&gt;139800628408592 -->\n<g id=\"edge104\" class=\"edge\">\n<title>139800631682640&#45;&gt;139800628408592</title>\n<path fill=\"none\" stroke=\"#000000\" d=\"M889.9756,-2684.6924C881.8944,-2674.8153 871.3568,-2661.9361 862.9256,-2651.6312\"/>\n<polygon fill=\"#000000\" stroke=\"#000000\" points=\"865.4801,-2649.2263 856.4389,-2643.7031 860.0624,-2653.659 865.4801,-2649.2263\"/>\n</g>\n<!-- 139800628461520 -->\n<g id=\"node105\" class=\"node\">\n<title>139800628461520</title>\n<polygon fill=\"#d3d3d3\" stroke=\"#000000\" points=\"1033,-2583 932,-2583 932,-2564 1033,-2564 1033,-2583\"/>\n<text text-anchor=\"middle\" x=\"982.5\" y=\"-2571\" font-family=\"monospace\" font-size=\"10.00\" fill=\"#000000\">AccumulateGrad</text>\n</g>\n<!-- 139800628461520&#45;&gt;139800628461200 -->\n<g id=\"edge105\" class=\"edge\">\n<title>139800628461520&#45;&gt;139800628461200</title>\n<path fill=\"none\" stroke=\"#000000\" d=\"M968.9134,-2563.9197C957.2411,-2555.6893 940.1895,-2543.6657 926.5622,-2534.0567\"/>\n<polygon fill=\"#000000\" stroke=\"#000000\" points=\"928.3821,-2531.0574 918.1926,-2528.155 924.3482,-2536.7782 928.3821,-2531.0574\"/>\n</g>\n<!-- 139800631682544 -->\n<g id=\"node106\" class=\"node\">\n<title>139800631682544</title>\n<polygon fill=\"#add8e6\" stroke=\"#000000\" points=\"1048,-2649 917,-2649 917,-2619 1048,-2619 1048,-2649\"/>\n<text text-anchor=\"middle\" x=\"982.5\" y=\"-2637\" font-family=\"monospace\" font-size=\"10.00\" fill=\"#000000\">layer2.0.bn2.weight</text>\n<text text-anchor=\"middle\" x=\"982.5\" y=\"-2626\" font-family=\"monospace\" font-size=\"10.00\" fill=\"#000000\"> (128)</text>\n</g>\n<!-- 139800631682544&#45;&gt;139800628461520 -->\n<g id=\"edge106\" class=\"edge\">\n<title>139800631682544&#45;&gt;139800628461520</title>\n<path fill=\"none\" stroke=\"#000000\" d=\"M982.5,-2618.7333C982.5,-2611.0322 982.5,-2601.5977 982.5,-2593.3414\"/>\n<polygon fill=\"#000000\" stroke=\"#000000\" points=\"986.0001,-2593.0864 982.5,-2583.0864 979.0001,-2593.0864 986.0001,-2593.0864\"/>\n</g>\n<!-- 139800628461456 -->\n<g id=\"node107\" class=\"node\">\n<title>139800628461456</title>\n<polygon fill=\"#d3d3d3\" stroke=\"#000000\" points=\"1164,-2583 1063,-2583 1063,-2564 1164,-2564 1164,-2583\"/>\n<text text-anchor=\"middle\" x=\"1113.5\" y=\"-2571\" font-family=\"monospace\" font-size=\"10.00\" fill=\"#000000\">AccumulateGrad</text>\n</g>\n<!-- 139800628461456&#45;&gt;139800628461200 -->\n<g id=\"edge107\" class=\"edge\">\n<title>139800628461456&#45;&gt;139800628461200</title>\n<path fill=\"none\" stroke=\"#000000\" d=\"M1077.095,-2563.9197C1041.9885,-2554.6812 988.7213,-2540.6635 950.6549,-2530.646\"/>\n<polygon fill=\"#000000\" stroke=\"#000000\" points=\"951.3994,-2527.2228 940.8379,-2528.0626 949.6179,-2533.9924 951.3994,-2527.2228\"/>\n</g>\n<!-- 139800631682352 -->\n<g id=\"node108\" class=\"node\">\n<title>139800631682352</title>\n<polygon fill=\"#add8e6\" stroke=\"#000000\" points=\"1185,-2649 1066,-2649 1066,-2619 1185,-2619 1185,-2649\"/>\n<text text-anchor=\"middle\" x=\"1125.5\" y=\"-2637\" font-family=\"monospace\" font-size=\"10.00\" fill=\"#000000\">layer2.0.bn2.bias</text>\n<text text-anchor=\"middle\" x=\"1125.5\" y=\"-2626\" font-family=\"monospace\" font-size=\"10.00\" fill=\"#000000\"> (128)</text>\n</g>\n<!-- 139800631682352&#45;&gt;139800628461456 -->\n<g id=\"edge108\" class=\"edge\">\n<title>139800631682352&#45;&gt;139800628461456</title>\n<path fill=\"none\" stroke=\"#000000\" d=\"M1122.4719,-2618.7333C1120.927,-2610.9447 1119.0305,-2601.3831 1117.3797,-2593.0604\"/>\n<polygon fill=\"#000000\" stroke=\"#000000\" points=\"1120.7802,-2592.2143 1115.4014,-2583.0864 1113.914,-2593.5763 1120.7802,-2592.2143\"/>\n</g>\n<!-- 139800628461392 -->\n<g id=\"node109\" class=\"node\">\n<title>139800628461392</title>\n<polygon fill=\"#d3d3d3\" stroke=\"#000000\" points=\"448,-2709.5 287,-2709.5 287,-2690.5 448,-2690.5 448,-2709.5\"/>\n<text text-anchor=\"middle\" x=\"367.5\" y=\"-2697.5\" font-family=\"monospace\" font-size=\"10.00\" fill=\"#000000\">NativeBatchNormBackward0</text>\n</g>\n<!-- 139800628461392&#45;&gt;139800628461008 -->\n<g id=\"edge109\" class=\"edge\">\n<title>139800628461392&#45;&gt;139800628461008</title>\n<path fill=\"none\" stroke=\"#000000\" d=\"M378.3378,-2690.2136C419.4235,-2653.1139 565.8554,-2520.8881 617.3946,-2474.3489\"/>\n<polygon fill=\"#000000\" stroke=\"#000000\" points=\"619.7446,-2476.9426 624.8209,-2467.6431 615.0533,-2471.7473 619.7446,-2476.9426\"/>\n</g>\n<!-- 139800628461136&#45;&gt;139800628461392 -->\n<g id=\"edge110\" class=\"edge\">\n<title>139800628461136&#45;&gt;139800628461392</title>\n<path fill=\"none\" stroke=\"#000000\" d=\"M432.1286,-2750.7796C420.2293,-2741.4301 402.0248,-2727.1266 387.9655,-2716.08\"/>\n<polygon fill=\"#000000\" stroke=\"#000000\" points=\"389.8663,-2713.1224 379.8407,-2709.6962 385.5415,-2718.6266 389.8663,-2713.1224\"/>\n</g>\n<!-- 139800628409424 -->\n<g id=\"node111\" class=\"node\">\n<title>139800628409424</title>\n<polygon fill=\"#d3d3d3\" stroke=\"#000000\" points=\"495,-2830.5 394,-2830.5 394,-2811.5 495,-2811.5 495,-2830.5\"/>\n<text text-anchor=\"middle\" x=\"444.5\" y=\"-2818.5\" font-family=\"monospace\" font-size=\"10.00\" fill=\"#000000\">AccumulateGrad</text>\n</g>\n<!-- 139800628409424&#45;&gt;139800628461136 -->\n<g id=\"edge112\" class=\"edge\">\n<title>139800628409424&#45;&gt;139800628461136</title>\n<path fill=\"none\" stroke=\"#000000\" d=\"M444.5,-2811.2796C444.5,-2803.0376 444.5,-2790.9457 444.5,-2780.629\"/>\n<polygon fill=\"#000000\" stroke=\"#000000\" points=\"448.0001,-2780.3972 444.5,-2770.3972 441.0001,-2780.3973 448.0001,-2780.3972\"/>\n</g>\n<!-- 139800631681296 -->\n<g id=\"node112\" class=\"node\">\n<title>139800631681296</title>\n<polygon fill=\"#add8e6\" stroke=\"#000000\" points=\"498,-2902 313,-2902 313,-2872 498,-2872 498,-2902\"/>\n<text text-anchor=\"middle\" x=\"405.5\" y=\"-2890\" font-family=\"monospace\" font-size=\"10.00\" fill=\"#000000\">layer2.0.downsample.0.weight</text>\n<text text-anchor=\"middle\" x=\"405.5\" y=\"-2879\" font-family=\"monospace\" font-size=\"10.00\" fill=\"#000000\"> (128, 64, 1, 1)</text>\n</g>\n<!-- 139800631681296&#45;&gt;139800628409424 -->\n<g id=\"edge113\" class=\"edge\">\n<title>139800631681296&#45;&gt;139800628409424</title>\n<path fill=\"none\" stroke=\"#000000\" d=\"M414.5454,-2871.6924C420.2068,-2862.1116 427.5373,-2849.7061 433.5295,-2839.5655\"/>\n<polygon fill=\"#000000\" stroke=\"#000000\" points=\"436.6923,-2841.0929 438.7664,-2830.7031 430.6658,-2837.5318 436.6923,-2841.0929\"/>\n</g>\n<!-- 139800628410192 -->\n<g id=\"node113\" class=\"node\">\n<title>139800628410192</title>\n<polygon fill=\"#d3d3d3\" stroke=\"#000000\" points=\"182,-2770 81,-2770 81,-2751 182,-2751 182,-2770\"/>\n<text text-anchor=\"middle\" x=\"131.5\" y=\"-2758\" font-family=\"monospace\" font-size=\"10.00\" fill=\"#000000\">AccumulateGrad</text>\n</g>\n<!-- 139800628410192&#45;&gt;139800628461392 -->\n<g id=\"edge114\" class=\"edge\">\n<title>139800628410192&#45;&gt;139800628461392</title>\n<path fill=\"none\" stroke=\"#000000\" d=\"M168.6346,-2750.9803C209.6656,-2740.4618 275.8308,-2723.4999 320.4571,-2712.0597\"/>\n<polygon fill=\"#000000\" stroke=\"#000000\" points=\"321.375,-2715.4377 330.1926,-2709.564 319.6367,-2708.6569 321.375,-2715.4377\"/>\n</g>\n<!-- 139800631681200 -->\n<g id=\"node114\" class=\"node\">\n<title>139800631681200</title>\n<polygon fill=\"#add8e6\" stroke=\"#000000\" points=\"185,-2836 0,-2836 0,-2806 185,-2806 185,-2836\"/>\n<text text-anchor=\"middle\" x=\"92.5\" y=\"-2824\" font-family=\"monospace\" font-size=\"10.00\" fill=\"#000000\">layer2.0.downsample.1.weight</text>\n<text text-anchor=\"middle\" x=\"92.5\" y=\"-2813\" font-family=\"monospace\" font-size=\"10.00\" fill=\"#000000\"> (128)</text>\n</g>\n<!-- 139800631681200&#45;&gt;139800628410192 -->\n<g id=\"edge115\" class=\"edge\">\n<title>139800631681200&#45;&gt;139800628410192</title>\n<path fill=\"none\" stroke=\"#000000\" d=\"M102.3413,-2805.7333C107.6442,-2797.5071 114.2219,-2787.3031 119.7872,-2778.6699\"/>\n<polygon fill=\"#000000\" stroke=\"#000000\" points=\"122.8439,-2780.3878 125.3203,-2770.0864 116.9604,-2776.5951 122.8439,-2780.3878\"/>\n</g>\n<!-- 139800628408848 -->\n<g id=\"node115\" class=\"node\">\n<title>139800628408848</title>\n<polygon fill=\"#d3d3d3\" stroke=\"#000000\" points=\"340,-2770 239,-2770 239,-2751 340,-2751 340,-2770\"/>\n<text text-anchor=\"middle\" x=\"289.5\" y=\"-2758\" font-family=\"monospace\" font-size=\"10.00\" fill=\"#000000\">AccumulateGrad</text>\n</g>\n<!-- 139800628408848&#45;&gt;139800628461392 -->\n<g id=\"edge116\" class=\"edge\">\n<title>139800628408848&#45;&gt;139800628461392</title>\n<path fill=\"none\" stroke=\"#000000\" d=\"M302.032,-2750.7796C314.0859,-2741.4301 332.5268,-2727.1266 346.7687,-2716.08\"/>\n<polygon fill=\"#000000\" stroke=\"#000000\" points=\"349.2425,-2718.5908 354.9991,-2709.6962 344.9522,-2713.0596 349.2425,-2718.5908\"/>\n</g>\n<!-- 139800631681392 -->\n<g id=\"node116\" class=\"node\">\n<title>139800631681392</title>\n<polygon fill=\"#add8e6\" stroke=\"#000000\" points=\"376,-2836 203,-2836 203,-2806 376,-2806 376,-2836\"/>\n<text text-anchor=\"middle\" x=\"289.5\" y=\"-2824\" font-family=\"monospace\" font-size=\"10.00\" fill=\"#000000\">layer2.0.downsample.1.bias</text>\n<text text-anchor=\"middle\" x=\"289.5\" y=\"-2813\" font-family=\"monospace\" font-size=\"10.00\" fill=\"#000000\"> (128)</text>\n</g>\n<!-- 139800631681392&#45;&gt;139800628408848 -->\n<g id=\"edge117\" class=\"edge\">\n<title>139800631681392&#45;&gt;139800628408848</title>\n<path fill=\"none\" stroke=\"#000000\" d=\"M289.5,-2805.7333C289.5,-2798.0322 289.5,-2788.5977 289.5,-2780.3414\"/>\n<polygon fill=\"#000000\" stroke=\"#000000\" points=\"293.0001,-2780.0864 289.5,-2770.0864 286.0001,-2780.0864 293.0001,-2780.0864\"/>\n</g>\n<!-- 139800628460880 -->\n<g id=\"node117\" class=\"node\">\n<title>139800628460880</title>\n<polygon fill=\"#d3d3d3\" stroke=\"#000000\" points=\"815,-2401.5 714,-2401.5 714,-2382.5 815,-2382.5 815,-2401.5\"/>\n<text text-anchor=\"middle\" x=\"764.5\" y=\"-2389.5\" font-family=\"monospace\" font-size=\"10.00\" fill=\"#000000\">AccumulateGrad</text>\n</g>\n<!-- 139800628460880&#45;&gt;139800628460688 -->\n<g id=\"edge118\" class=\"edge\">\n<title>139800628460880&#45;&gt;139800628460688</title>\n<path fill=\"none\" stroke=\"#000000\" d=\"M763.6967,-2382.2796C763.0155,-2374.0376 762.0162,-2361.9457 761.1636,-2351.629\"/>\n<polygon fill=\"#000000\" stroke=\"#000000\" points=\"764.6298,-2351.075 760.318,-2341.3972 757.6536,-2351.6516 764.6298,-2351.075\"/>\n</g>\n<!-- 139800631683312 -->\n<g id=\"node118\" class=\"node\">\n<title>139800631683312</title>\n<polygon fill=\"#add8e6\" stroke=\"#000000\" points=\"841,-2473 698,-2473 698,-2443 841,-2443 841,-2473\"/>\n<text text-anchor=\"middle\" x=\"769.5\" y=\"-2461\" font-family=\"monospace\" font-size=\"10.00\" fill=\"#000000\">layer2.1.conv1.weight</text>\n<text text-anchor=\"middle\" x=\"769.5\" y=\"-2450\" font-family=\"monospace\" font-size=\"10.00\" fill=\"#000000\"> (128, 128, 3, 3)</text>\n</g>\n<!-- 139800631683312&#45;&gt;139800628460880 -->\n<g id=\"edge119\" class=\"edge\">\n<title>139800631683312&#45;&gt;139800628460880</title>\n<path fill=\"none\" stroke=\"#000000\" d=\"M768.3403,-2442.6924C767.6444,-2433.5067 766.7519,-2421.7245 766.0024,-2411.8312\"/>\n<polygon fill=\"#000000\" stroke=\"#000000\" points=\"769.4806,-2411.4101 765.2351,-2401.7031 762.5006,-2411.9389 769.4806,-2411.4101\"/>\n</g>\n<!-- 139800628460816 -->\n<g id=\"node119\" class=\"node\">\n<title>139800628460816</title>\n<polygon fill=\"#d3d3d3\" stroke=\"#000000\" points=\"965,-2341 864,-2341 864,-2322 965,-2322 965,-2341\"/>\n<text text-anchor=\"middle\" x=\"914.5\" y=\"-2329\" font-family=\"monospace\" font-size=\"10.00\" fill=\"#000000\">AccumulateGrad</text>\n</g>\n<!-- 139800628460816&#45;&gt;139800628460368 -->\n<g id=\"edge120\" class=\"edge\">\n<title>139800628460816&#45;&gt;139800628460368</title>\n<path fill=\"none\" stroke=\"#000000\" d=\"M901.968,-2321.7796C889.9141,-2312.4301 871.4732,-2298.1266 857.2313,-2287.08\"/>\n<polygon fill=\"#000000\" stroke=\"#000000\" points=\"859.0478,-2284.0596 849.0009,-2280.6962 854.7575,-2289.5908 859.0478,-2284.0596\"/>\n</g>\n<!-- 139800631683216 -->\n<g id=\"node120\" class=\"node\">\n<title>139800631683216</title>\n<polygon fill=\"#add8e6\" stroke=\"#000000\" points=\"972,-2407 841,-2407 841,-2377 972,-2377 972,-2407\"/>\n<text text-anchor=\"middle\" x=\"906.5\" y=\"-2395\" font-family=\"monospace\" font-size=\"10.00\" fill=\"#000000\">layer2.1.bn1.weight</text>\n<text text-anchor=\"middle\" x=\"906.5\" y=\"-2384\" font-family=\"monospace\" font-size=\"10.00\" fill=\"#000000\"> (128)</text>\n</g>\n<!-- 139800631683216&#45;&gt;139800628460816 -->\n<g id=\"edge121\" class=\"edge\">\n<title>139800631683216&#45;&gt;139800628460816</title>\n<path fill=\"none\" stroke=\"#000000\" d=\"M908.5187,-2376.7333C909.5486,-2368.9447 910.813,-2359.3831 911.9135,-2351.0604\"/>\n<polygon fill=\"#000000\" stroke=\"#000000\" points=\"915.3912,-2351.459 913.2324,-2341.0864 908.4516,-2350.5413 915.3912,-2351.459\"/>\n</g>\n<!-- 139800628460560 -->\n<g id=\"node121\" class=\"node\">\n<title>139800628460560</title>\n<polygon fill=\"#d3d3d3\" stroke=\"#000000\" points=\"1086,-2341 985,-2341 985,-2322 1086,-2322 1086,-2341\"/>\n<text text-anchor=\"middle\" x=\"1035.5\" y=\"-2329\" font-family=\"monospace\" font-size=\"10.00\" fill=\"#000000\">AccumulateGrad</text>\n</g>\n<!-- 139800628460560&#45;&gt;139800628460368 -->\n<g id=\"edge122\" class=\"edge\">\n<title>139800628460560&#45;&gt;139800628460368</title>\n<path fill=\"none\" stroke=\"#000000\" d=\"M1003.9679,-2321.9136C969.7623,-2311.5144 915.0286,-2294.8743 877.5049,-2283.4663\"/>\n<polygon fill=\"#000000\" stroke=\"#000000\" points=\"878.4703,-2280.1017 867.8846,-2280.5416 876.4341,-2286.799 878.4703,-2280.1017\"/>\n</g>\n<!-- 139800631683024 -->\n<g id=\"node122\" class=\"node\">\n<title>139800631683024</title>\n<polygon fill=\"#add8e6\" stroke=\"#000000\" points=\"1109,-2407 990,-2407 990,-2377 1109,-2377 1109,-2407\"/>\n<text text-anchor=\"middle\" x=\"1049.5\" y=\"-2395\" font-family=\"monospace\" font-size=\"10.00\" fill=\"#000000\">layer2.1.bn1.bias</text>\n<text text-anchor=\"middle\" x=\"1049.5\" y=\"-2384\" font-family=\"monospace\" font-size=\"10.00\" fill=\"#000000\"> (128)</text>\n</g>\n<!-- 139800631683024&#45;&gt;139800628460560 -->\n<g id=\"edge123\" class=\"edge\">\n<title>139800631683024&#45;&gt;139800628460560</title>\n<path fill=\"none\" stroke=\"#000000\" d=\"M1045.9672,-2376.7333C1044.1649,-2368.9447 1041.9523,-2359.3831 1040.0264,-2351.0604\"/>\n<polygon fill=\"#000000\" stroke=\"#000000\" points=\"1043.3828,-2350.0399 1037.7183,-2341.0864 1036.563,-2351.6181 1043.3828,-2350.0399\"/>\n</g>\n<!-- 139800628460496 -->\n<g id=\"node123\" class=\"node\">\n<title>139800628460496</title>\n<polygon fill=\"#d3d3d3\" stroke=\"#000000\" points=\"1003,-2214.5 902,-2214.5 902,-2195.5 1003,-2195.5 1003,-2214.5\"/>\n<text text-anchor=\"middle\" x=\"952.5\" y=\"-2202.5\" font-family=\"monospace\" font-size=\"10.00\" fill=\"#000000\">AccumulateGrad</text>\n</g>\n<!-- 139800628460496&#45;&gt;139800628459792 -->\n<g id=\"edge124\" class=\"edge\">\n<title>139800628460496&#45;&gt;139800628459792</title>\n<path fill=\"none\" stroke=\"#000000\" d=\"M949.126,-2195.2796C946.2043,-2186.8623 941.8887,-2174.4295 938.2592,-2163.973\"/>\n<polygon fill=\"#000000\" stroke=\"#000000\" points=\"941.5211,-2162.6966 934.9354,-2154.3972 934.9081,-2164.992 941.5211,-2162.6966\"/>\n</g>\n<!-- 139800631683984 -->\n<g id=\"node124\" class=\"node\">\n<title>139800631683984</title>\n<polygon fill=\"#add8e6\" stroke=\"#000000\" points=\"1078,-2286 935,-2286 935,-2256 1078,-2256 1078,-2286\"/>\n<text text-anchor=\"middle\" x=\"1006.5\" y=\"-2274\" font-family=\"monospace\" font-size=\"10.00\" fill=\"#000000\">layer2.1.conv2.weight</text>\n<text text-anchor=\"middle\" x=\"1006.5\" y=\"-2263\" font-family=\"monospace\" font-size=\"10.00\" fill=\"#000000\"> (128, 128, 3, 3)</text>\n</g>\n<!-- 139800631683984&#45;&gt;139800628460496 -->\n<g id=\"edge125\" class=\"edge\">\n<title>139800631683984&#45;&gt;139800628460496</title>\n<path fill=\"none\" stroke=\"#000000\" d=\"M993.9756,-2255.6924C985.8944,-2245.8153 975.3568,-2232.9361 966.9256,-2222.6312\"/>\n<polygon fill=\"#000000\" stroke=\"#000000\" points=\"969.4801,-2220.2263 960.4389,-2214.7031 964.0624,-2224.659 969.4801,-2220.2263\"/>\n</g>\n<!-- 139800628460240 -->\n<g id=\"node125\" class=\"node\">\n<title>139800628460240</title>\n<polygon fill=\"#d3d3d3\" stroke=\"#000000\" points=\"1137,-2154 1036,-2154 1036,-2135 1137,-2135 1137,-2154\"/>\n<text text-anchor=\"middle\" x=\"1086.5\" y=\"-2142\" font-family=\"monospace\" font-size=\"10.00\" fill=\"#000000\">AccumulateGrad</text>\n</g>\n<!-- 139800628460240&#45;&gt;139800628459920 -->\n<g id=\"edge126\" class=\"edge\">\n<title>139800628460240&#45;&gt;139800628459920</title>\n<path fill=\"none\" stroke=\"#000000\" d=\"M1072.9134,-2134.9197C1061.2411,-2126.6893 1044.1895,-2114.6657 1030.5622,-2105.0567\"/>\n<polygon fill=\"#000000\" stroke=\"#000000\" points=\"1032.3821,-2102.0574 1022.1926,-2099.155 1028.3482,-2107.7782 1032.3821,-2102.0574\"/>\n</g>\n<!-- 139800631683888 -->\n<g id=\"node126\" class=\"node\">\n<title>139800631683888</title>\n<polygon fill=\"#add8e6\" stroke=\"#000000\" points=\"1152,-2220 1021,-2220 1021,-2190 1152,-2190 1152,-2220\"/>\n<text text-anchor=\"middle\" x=\"1086.5\" y=\"-2208\" font-family=\"monospace\" font-size=\"10.00\" fill=\"#000000\">layer2.1.bn2.weight</text>\n<text text-anchor=\"middle\" x=\"1086.5\" y=\"-2197\" font-family=\"monospace\" font-size=\"10.00\" fill=\"#000000\"> (128)</text>\n</g>\n<!-- 139800631683888&#45;&gt;139800628460240 -->\n<g id=\"edge127\" class=\"edge\">\n<title>139800631683888&#45;&gt;139800628460240</title>\n<path fill=\"none\" stroke=\"#000000\" d=\"M1086.5,-2189.7333C1086.5,-2182.0322 1086.5,-2172.5977 1086.5,-2164.3414\"/>\n<polygon fill=\"#000000\" stroke=\"#000000\" points=\"1090.0001,-2164.0864 1086.5,-2154.0864 1083.0001,-2164.0864 1090.0001,-2164.0864\"/>\n</g>\n<!-- 139800628460176 -->\n<g id=\"node127\" class=\"node\">\n<title>139800628460176</title>\n<polygon fill=\"#d3d3d3\" stroke=\"#000000\" points=\"1268,-2154 1167,-2154 1167,-2135 1268,-2135 1268,-2154\"/>\n<text text-anchor=\"middle\" x=\"1217.5\" y=\"-2142\" font-family=\"monospace\" font-size=\"10.00\" fill=\"#000000\">AccumulateGrad</text>\n</g>\n<!-- 139800628460176&#45;&gt;139800628459920 -->\n<g id=\"edge128\" class=\"edge\">\n<title>139800628460176&#45;&gt;139800628459920</title>\n<path fill=\"none\" stroke=\"#000000\" d=\"M1181.095,-2134.9197C1145.9885,-2125.6812 1092.7213,-2111.6635 1054.6549,-2101.646\"/>\n<polygon fill=\"#000000\" stroke=\"#000000\" points=\"1055.3994,-2098.2228 1044.8379,-2099.0626 1053.6179,-2104.9924 1055.3994,-2098.2228\"/>\n</g>\n<!-- 139800631683696 -->\n<g id=\"node128\" class=\"node\">\n<title>139800631683696</title>\n<polygon fill=\"#add8e6\" stroke=\"#000000\" points=\"1289,-2220 1170,-2220 1170,-2190 1289,-2190 1289,-2220\"/>\n<text text-anchor=\"middle\" x=\"1229.5\" y=\"-2208\" font-family=\"monospace\" font-size=\"10.00\" fill=\"#000000\">layer2.1.bn2.bias</text>\n<text text-anchor=\"middle\" x=\"1229.5\" y=\"-2197\" font-family=\"monospace\" font-size=\"10.00\" fill=\"#000000\"> (128)</text>\n</g>\n<!-- 139800631683696&#45;&gt;139800628460176 -->\n<g id=\"edge129\" class=\"edge\">\n<title>139800631683696&#45;&gt;139800628460176</title>\n<path fill=\"none\" stroke=\"#000000\" d=\"M1226.4719,-2189.7333C1224.927,-2181.9447 1223.0305,-2172.3831 1221.3797,-2164.0604\"/>\n<polygon fill=\"#000000\" stroke=\"#000000\" points=\"1224.7802,-2163.2143 1219.4014,-2154.0864 1217.914,-2164.5763 1224.7802,-2163.2143\"/>\n</g>\n<!-- 139800628459728 -->\n<g id=\"node129\" class=\"node\">\n<title>139800628459728</title>\n<polygon fill=\"#d3d3d3\" stroke=\"#000000\" points=\"916,-1972.5 815,-1972.5 815,-1953.5 916,-1953.5 916,-1972.5\"/>\n<text text-anchor=\"middle\" x=\"865.5\" y=\"-1960.5\" font-family=\"monospace\" font-size=\"10.00\" fill=\"#000000\">AccumulateGrad</text>\n</g>\n<!-- 139800628459728&#45;&gt;139800628459344 -->\n<g id=\"edge131\" class=\"edge\">\n<title>139800628459728&#45;&gt;139800628459344</title>\n<path fill=\"none\" stroke=\"#000000\" d=\"M862.126,-1953.2796C859.2043,-1944.8623 854.8887,-1932.4295 851.2592,-1921.973\"/>\n<polygon fill=\"#000000\" stroke=\"#000000\" points=\"854.5211,-1920.6966 847.9354,-1912.3972 847.9081,-1922.992 854.5211,-1920.6966\"/>\n</g>\n<!-- 139800631779600 -->\n<g id=\"node130\" class=\"node\">\n<title>139800631779600</title>\n<polygon fill=\"#add8e6\" stroke=\"#000000\" points=\"955,-2044 812,-2044 812,-2014 955,-2014 955,-2044\"/>\n<text text-anchor=\"middle\" x=\"883.5\" y=\"-2032\" font-family=\"monospace\" font-size=\"10.00\" fill=\"#000000\">layer3.0.conv1.weight</text>\n<text text-anchor=\"middle\" x=\"883.5\" y=\"-2021\" font-family=\"monospace\" font-size=\"10.00\" fill=\"#000000\"> (256, 128, 3, 3)</text>\n</g>\n<!-- 139800631779600&#45;&gt;139800628459728 -->\n<g id=\"edge132\" class=\"edge\">\n<title>139800631779600&#45;&gt;139800628459728</title>\n<path fill=\"none\" stroke=\"#000000\" d=\"M879.3252,-2013.6924C876.7931,-2004.408 873.5375,-1992.4708 870.8216,-1982.5127\"/>\n<polygon fill=\"#000000\" stroke=\"#000000\" points=\"874.1542,-1981.4298 868.1463,-1972.7031 867.4009,-1983.2716 874.1542,-1981.4298\"/>\n</g>\n<!-- 139800628459472 -->\n<g id=\"node131\" class=\"node\">\n<title>139800628459472</title>\n<polygon fill=\"#d3d3d3\" stroke=\"#000000\" points=\"1050,-1912 949,-1912 949,-1893 1050,-1893 1050,-1912\"/>\n<text text-anchor=\"middle\" x=\"999.5\" y=\"-1900\" font-family=\"monospace\" font-size=\"10.00\" fill=\"#000000\">AccumulateGrad</text>\n</g>\n<!-- 139800628459472&#45;&gt;139800628459024 -->\n<g id=\"edge133\" class=\"edge\">\n<title>139800628459472&#45;&gt;139800628459024</title>\n<path fill=\"none\" stroke=\"#000000\" d=\"M986.968,-1892.7796C974.9141,-1883.4301 956.4732,-1869.1266 942.2313,-1858.08\"/>\n<polygon fill=\"#000000\" stroke=\"#000000\" points=\"944.0478,-1855.0596 934.0009,-1851.6962 939.7575,-1860.5908 944.0478,-1855.0596\"/>\n</g>\n<!-- 139800631779504 -->\n<g id=\"node132\" class=\"node\">\n<title>139800631779504</title>\n<polygon fill=\"#add8e6\" stroke=\"#000000\" points=\"1065,-1978 934,-1978 934,-1948 1065,-1948 1065,-1978\"/>\n<text text-anchor=\"middle\" x=\"999.5\" y=\"-1966\" font-family=\"monospace\" font-size=\"10.00\" fill=\"#000000\">layer3.0.bn1.weight</text>\n<text text-anchor=\"middle\" x=\"999.5\" y=\"-1955\" font-family=\"monospace\" font-size=\"10.00\" fill=\"#000000\"> (256)</text>\n</g>\n<!-- 139800631779504&#45;&gt;139800628459472 -->\n<g id=\"edge134\" class=\"edge\">\n<title>139800631779504&#45;&gt;139800628459472</title>\n<path fill=\"none\" stroke=\"#000000\" d=\"M999.5,-1947.7333C999.5,-1940.0322 999.5,-1930.5977 999.5,-1922.3414\"/>\n<polygon fill=\"#000000\" stroke=\"#000000\" points=\"1003.0001,-1922.0864 999.5,-1912.0864 996.0001,-1922.0864 1003.0001,-1922.0864\"/>\n</g>\n<!-- 139800628459216 -->\n<g id=\"node133\" class=\"node\">\n<title>139800628459216</title>\n<polygon fill=\"#d3d3d3\" stroke=\"#000000\" points=\"1181,-1912 1080,-1912 1080,-1893 1181,-1893 1181,-1912\"/>\n<text text-anchor=\"middle\" x=\"1130.5\" y=\"-1900\" font-family=\"monospace\" font-size=\"10.00\" fill=\"#000000\">AccumulateGrad</text>\n</g>\n<!-- 139800628459216&#45;&gt;139800628459024 -->\n<g id=\"edge135\" class=\"edge\">\n<title>139800628459216&#45;&gt;139800628459024</title>\n<path fill=\"none\" stroke=\"#000000\" d=\"M1097.3833,-1892.9136C1061.3824,-1882.4923 1003.73,-1865.8034 964.3142,-1854.3936\"/>\n<polygon fill=\"#000000\" stroke=\"#000000\" points=\"965.0406,-1850.9602 954.4617,-1851.5416 963.0942,-1857.6842 965.0406,-1850.9602\"/>\n</g>\n<!-- 139800631779696 -->\n<g id=\"node134\" class=\"node\">\n<title>139800631779696</title>\n<polygon fill=\"#add8e6\" stroke=\"#000000\" points=\"1202,-1978 1083,-1978 1083,-1948 1202,-1948 1202,-1978\"/>\n<text text-anchor=\"middle\" x=\"1142.5\" y=\"-1966\" font-family=\"monospace\" font-size=\"10.00\" fill=\"#000000\">layer3.0.bn1.bias</text>\n<text text-anchor=\"middle\" x=\"1142.5\" y=\"-1955\" font-family=\"monospace\" font-size=\"10.00\" fill=\"#000000\"> (256)</text>\n</g>\n<!-- 139800631779696&#45;&gt;139800628459216 -->\n<g id=\"edge136\" class=\"edge\">\n<title>139800631779696&#45;&gt;139800628459216</title>\n<path fill=\"none\" stroke=\"#000000\" d=\"M1139.4719,-1947.7333C1137.927,-1939.9447 1136.0305,-1930.3831 1134.3797,-1922.0604\"/>\n<polygon fill=\"#000000\" stroke=\"#000000\" points=\"1137.7802,-1921.2143 1132.4014,-1912.0864 1130.914,-1922.5763 1137.7802,-1921.2143\"/>\n</g>\n<!-- 139800628459152 -->\n<g id=\"node135\" class=\"node\">\n<title>139800628459152</title>\n<polygon fill=\"#d3d3d3\" stroke=\"#000000\" points=\"1088,-1785.5 987,-1785.5 987,-1766.5 1088,-1766.5 1088,-1785.5\"/>\n<text text-anchor=\"middle\" x=\"1037.5\" y=\"-1773.5\" font-family=\"monospace\" font-size=\"10.00\" fill=\"#000000\">AccumulateGrad</text>\n</g>\n<!-- 139800628459152&#45;&gt;139800628458320 -->\n<g id=\"edge137\" class=\"edge\">\n<title>139800628459152&#45;&gt;139800628458320</title>\n<path fill=\"none\" stroke=\"#000000\" d=\"M1034.126,-1766.2796C1031.2043,-1757.8623 1026.8887,-1745.4295 1023.2592,-1734.973\"/>\n<polygon fill=\"#000000\" stroke=\"#000000\" points=\"1026.5211,-1733.6966 1019.9354,-1725.3972 1019.9081,-1735.992 1026.5211,-1733.6966\"/>\n</g>\n<!-- 139800631780272 -->\n<g id=\"node136\" class=\"node\">\n<title>139800631780272</title>\n<polygon fill=\"#add8e6\" stroke=\"#000000\" points=\"1163,-1857 1020,-1857 1020,-1827 1163,-1827 1163,-1857\"/>\n<text text-anchor=\"middle\" x=\"1091.5\" y=\"-1845\" font-family=\"monospace\" font-size=\"10.00\" fill=\"#000000\">layer3.0.conv2.weight</text>\n<text text-anchor=\"middle\" x=\"1091.5\" y=\"-1834\" font-family=\"monospace\" font-size=\"10.00\" fill=\"#000000\"> (256, 256, 3, 3)</text>\n</g>\n<!-- 139800631780272&#45;&gt;139800628459152 -->\n<g id=\"edge138\" class=\"edge\">\n<title>139800631780272&#45;&gt;139800628459152</title>\n<path fill=\"none\" stroke=\"#000000\" d=\"M1078.9756,-1826.6924C1070.8944,-1816.8153 1060.3568,-1803.9361 1051.9256,-1793.6312\"/>\n<polygon fill=\"#000000\" stroke=\"#000000\" points=\"1054.4801,-1791.2263 1045.4389,-1785.7031 1049.0624,-1795.659 1054.4801,-1791.2263\"/>\n</g>\n<!-- 139800628458896 -->\n<g id=\"node137\" class=\"node\">\n<title>139800628458896</title>\n<polygon fill=\"#d3d3d3\" stroke=\"#000000\" points=\"1222,-1725 1121,-1725 1121,-1706 1222,-1706 1222,-1725\"/>\n<text text-anchor=\"middle\" x=\"1171.5\" y=\"-1713\" font-family=\"monospace\" font-size=\"10.00\" fill=\"#000000\">AccumulateGrad</text>\n</g>\n<!-- 139800628458896&#45;&gt;139800628458576 -->\n<g id=\"edge139\" class=\"edge\">\n<title>139800628458896&#45;&gt;139800628458576</title>\n<path fill=\"none\" stroke=\"#000000\" d=\"M1157.9134,-1705.9197C1146.2411,-1697.6893 1129.1895,-1685.6657 1115.5622,-1676.0567\"/>\n<polygon fill=\"#000000\" stroke=\"#000000\" points=\"1117.3821,-1673.0574 1107.1926,-1670.155 1113.3482,-1678.7782 1117.3821,-1673.0574\"/>\n</g>\n<!-- 139800631780176 -->\n<g id=\"node138\" class=\"node\">\n<title>139800631780176</title>\n<polygon fill=\"#add8e6\" stroke=\"#000000\" points=\"1237,-1791 1106,-1791 1106,-1761 1237,-1761 1237,-1791\"/>\n<text text-anchor=\"middle\" x=\"1171.5\" y=\"-1779\" font-family=\"monospace\" font-size=\"10.00\" fill=\"#000000\">layer3.0.bn2.weight</text>\n<text text-anchor=\"middle\" x=\"1171.5\" y=\"-1768\" font-family=\"monospace\" font-size=\"10.00\" fill=\"#000000\"> (256)</text>\n</g>\n<!-- 139800631780176&#45;&gt;139800628458896 -->\n<g id=\"edge140\" class=\"edge\">\n<title>139800631780176&#45;&gt;139800628458896</title>\n<path fill=\"none\" stroke=\"#000000\" d=\"M1171.5,-1760.7333C1171.5,-1753.0322 1171.5,-1743.5977 1171.5,-1735.3414\"/>\n<polygon fill=\"#000000\" stroke=\"#000000\" points=\"1175.0001,-1735.0864 1171.5,-1725.0864 1168.0001,-1735.0864 1175.0001,-1735.0864\"/>\n</g>\n<!-- 139800628458832 -->\n<g id=\"node139\" class=\"node\">\n<title>139800628458832</title>\n<polygon fill=\"#d3d3d3\" stroke=\"#000000\" points=\"1353,-1725 1252,-1725 1252,-1706 1353,-1706 1353,-1725\"/>\n<text text-anchor=\"middle\" x=\"1302.5\" y=\"-1713\" font-family=\"monospace\" font-size=\"10.00\" fill=\"#000000\">AccumulateGrad</text>\n</g>\n<!-- 139800628458832&#45;&gt;139800628458576 -->\n<g id=\"edge141\" class=\"edge\">\n<title>139800628458832&#45;&gt;139800628458576</title>\n<path fill=\"none\" stroke=\"#000000\" d=\"M1266.095,-1705.9197C1230.9885,-1696.6812 1177.7213,-1682.6635 1139.6549,-1672.646\"/>\n<polygon fill=\"#000000\" stroke=\"#000000\" points=\"1140.3994,-1669.2228 1129.8379,-1670.0626 1138.6179,-1675.9924 1140.3994,-1669.2228\"/>\n</g>\n<!-- 139800631779984 -->\n<g id=\"node140\" class=\"node\">\n<title>139800631779984</title>\n<polygon fill=\"#add8e6\" stroke=\"#000000\" points=\"1374,-1791 1255,-1791 1255,-1761 1374,-1761 1374,-1791\"/>\n<text text-anchor=\"middle\" x=\"1314.5\" y=\"-1779\" font-family=\"monospace\" font-size=\"10.00\" fill=\"#000000\">layer3.0.bn2.bias</text>\n<text text-anchor=\"middle\" x=\"1314.5\" y=\"-1768\" font-family=\"monospace\" font-size=\"10.00\" fill=\"#000000\"> (256)</text>\n</g>\n<!-- 139800631779984&#45;&gt;139800628458832 -->\n<g id=\"edge142\" class=\"edge\">\n<title>139800631779984&#45;&gt;139800628458832</title>\n<path fill=\"none\" stroke=\"#000000\" d=\"M1311.4719,-1760.7333C1309.927,-1752.9447 1308.0305,-1743.3831 1306.3797,-1735.0604\"/>\n<polygon fill=\"#000000\" stroke=\"#000000\" points=\"1309.7802,-1734.2143 1304.4014,-1725.0864 1302.914,-1735.5763 1309.7802,-1734.2143\"/>\n</g>\n<!-- 139800628458768 -->\n<g id=\"node141\" class=\"node\">\n<title>139800628458768</title>\n<polygon fill=\"#d3d3d3\" stroke=\"#000000\" points=\"637,-1851.5 476,-1851.5 476,-1832.5 637,-1832.5 637,-1851.5\"/>\n<text text-anchor=\"middle\" x=\"556.5\" y=\"-1839.5\" font-family=\"monospace\" font-size=\"10.00\" fill=\"#000000\">NativeBatchNormBackward0</text>\n</g>\n<!-- 139800628458768&#45;&gt;139800628458384 -->\n<g id=\"edge143\" class=\"edge\">\n<title>139800628458768&#45;&gt;139800628458384</title>\n<path fill=\"none\" stroke=\"#000000\" d=\"M567.3378,-1832.2136C608.4235,-1795.1139 754.8554,-1662.8881 806.3946,-1616.3489\"/>\n<polygon fill=\"#000000\" stroke=\"#000000\" points=\"808.7446,-1618.9426 813.8209,-1609.6431 804.0533,-1613.7473 808.7446,-1618.9426\"/>\n</g>\n<!-- 139800628458512&#45;&gt;139800628458768 -->\n<g id=\"edge144\" class=\"edge\">\n<title>139800628458512&#45;&gt;139800628458768</title>\n<path fill=\"none\" stroke=\"#000000\" d=\"M621.1286,-1892.7796C609.2293,-1883.4301 591.0248,-1869.1266 576.9655,-1858.08\"/>\n<polygon fill=\"#000000\" stroke=\"#000000\" points=\"578.8663,-1855.1224 568.8407,-1851.6962 574.5415,-1860.6266 578.8663,-1855.1224\"/>\n</g>\n<!-- 139800628459984 -->\n<g id=\"node143\" class=\"node\">\n<title>139800628459984</title>\n<polygon fill=\"#d3d3d3\" stroke=\"#000000\" points=\"684,-1972.5 583,-1972.5 583,-1953.5 684,-1953.5 684,-1972.5\"/>\n<text text-anchor=\"middle\" x=\"633.5\" y=\"-1960.5\" font-family=\"monospace\" font-size=\"10.00\" fill=\"#000000\">AccumulateGrad</text>\n</g>\n<!-- 139800628459984&#45;&gt;139800628458512 -->\n<g id=\"edge146\" class=\"edge\">\n<title>139800628459984&#45;&gt;139800628458512</title>\n<path fill=\"none\" stroke=\"#000000\" d=\"M633.5,-1953.2796C633.5,-1945.0376 633.5,-1932.9457 633.5,-1922.629\"/>\n<polygon fill=\"#000000\" stroke=\"#000000\" points=\"637.0001,-1922.3972 633.5,-1912.3972 630.0001,-1922.3973 637.0001,-1922.3972\"/>\n</g>\n<!-- 139800631684656 -->\n<g id=\"node144\" class=\"node\">\n<title>139800631684656</title>\n<polygon fill=\"#add8e6\" stroke=\"#000000\" points=\"687,-2044 502,-2044 502,-2014 687,-2014 687,-2044\"/>\n<text text-anchor=\"middle\" x=\"594.5\" y=\"-2032\" font-family=\"monospace\" font-size=\"10.00\" fill=\"#000000\">layer3.0.downsample.0.weight</text>\n<text text-anchor=\"middle\" x=\"594.5\" y=\"-2021\" font-family=\"monospace\" font-size=\"10.00\" fill=\"#000000\"> (256, 128, 1, 1)</text>\n</g>\n<!-- 139800631684656&#45;&gt;139800628459984 -->\n<g id=\"edge147\" class=\"edge\">\n<title>139800631684656&#45;&gt;139800628459984</title>\n<path fill=\"none\" stroke=\"#000000\" d=\"M603.5454,-2013.6924C609.2068,-2004.1116 616.5373,-1991.7061 622.5295,-1981.5655\"/>\n<polygon fill=\"#000000\" stroke=\"#000000\" points=\"625.6923,-1983.0929 627.7664,-1972.7031 619.6658,-1979.5318 625.6923,-1983.0929\"/>\n</g>\n<!-- 139800628460752 -->\n<g id=\"node145\" class=\"node\">\n<title>139800628460752</title>\n<polygon fill=\"#d3d3d3\" stroke=\"#000000\" points=\"371,-1912 270,-1912 270,-1893 371,-1893 371,-1912\"/>\n<text text-anchor=\"middle\" x=\"320.5\" y=\"-1900\" font-family=\"monospace\" font-size=\"10.00\" fill=\"#000000\">AccumulateGrad</text>\n</g>\n<!-- 139800628460752&#45;&gt;139800628458768 -->\n<g id=\"edge148\" class=\"edge\">\n<title>139800628460752&#45;&gt;139800628458768</title>\n<path fill=\"none\" stroke=\"#000000\" d=\"M357.6346,-1892.9803C398.6656,-1882.4618 464.8308,-1865.4999 509.4571,-1854.0597\"/>\n<polygon fill=\"#000000\" stroke=\"#000000\" points=\"510.375,-1857.4377 519.1926,-1851.564 508.6367,-1850.6569 510.375,-1857.4377\"/>\n</g>\n<!-- 139800631684560 -->\n<g id=\"node146\" class=\"node\">\n<title>139800631684560</title>\n<polygon fill=\"#add8e6\" stroke=\"#000000\" points=\"374,-1978 189,-1978 189,-1948 374,-1948 374,-1978\"/>\n<text text-anchor=\"middle\" x=\"281.5\" y=\"-1966\" font-family=\"monospace\" font-size=\"10.00\" fill=\"#000000\">layer3.0.downsample.1.weight</text>\n<text text-anchor=\"middle\" x=\"281.5\" y=\"-1955\" font-family=\"monospace\" font-size=\"10.00\" fill=\"#000000\"> (256)</text>\n</g>\n<!-- 139800631684560&#45;&gt;139800628460752 -->\n<g id=\"edge149\" class=\"edge\">\n<title>139800631684560&#45;&gt;139800628460752</title>\n<path fill=\"none\" stroke=\"#000000\" d=\"M291.3413,-1947.7333C296.6442,-1939.5071 303.2219,-1929.3031 308.7872,-1920.6699\"/>\n<polygon fill=\"#000000\" stroke=\"#000000\" points=\"311.8439,-1922.3878 314.3203,-1912.0864 305.9604,-1918.5951 311.8439,-1922.3878\"/>\n</g>\n<!-- 139800628459408 -->\n<g id=\"node147\" class=\"node\">\n<title>139800628459408</title>\n<polygon fill=\"#d3d3d3\" stroke=\"#000000\" points=\"529,-1912 428,-1912 428,-1893 529,-1893 529,-1912\"/>\n<text text-anchor=\"middle\" x=\"478.5\" y=\"-1900\" font-family=\"monospace\" font-size=\"10.00\" fill=\"#000000\">AccumulateGrad</text>\n</g>\n<!-- 139800628459408&#45;&gt;139800628458768 -->\n<g id=\"edge150\" class=\"edge\">\n<title>139800628459408&#45;&gt;139800628458768</title>\n<path fill=\"none\" stroke=\"#000000\" d=\"M491.032,-1892.7796C503.0859,-1883.4301 521.5268,-1869.1266 535.7687,-1858.08\"/>\n<polygon fill=\"#000000\" stroke=\"#000000\" points=\"538.2425,-1860.5908 543.9991,-1851.6962 533.9522,-1855.0596 538.2425,-1860.5908\"/>\n</g>\n<!-- 139800631684368 -->\n<g id=\"node148\" class=\"node\">\n<title>139800631684368</title>\n<polygon fill=\"#add8e6\" stroke=\"#000000\" points=\"565,-1978 392,-1978 392,-1948 565,-1948 565,-1978\"/>\n<text text-anchor=\"middle\" x=\"478.5\" y=\"-1966\" font-family=\"monospace\" font-size=\"10.00\" fill=\"#000000\">layer3.0.downsample.1.bias</text>\n<text text-anchor=\"middle\" x=\"478.5\" y=\"-1955\" font-family=\"monospace\" font-size=\"10.00\" fill=\"#000000\"> (256)</text>\n</g>\n<!-- 139800631684368&#45;&gt;139800628459408 -->\n<g id=\"edge151\" class=\"edge\">\n<title>139800631684368&#45;&gt;139800628459408</title>\n<path fill=\"none\" stroke=\"#000000\" d=\"M478.5,-1947.7333C478.5,-1940.0322 478.5,-1930.5977 478.5,-1922.3414\"/>\n<polygon fill=\"#000000\" stroke=\"#000000\" points=\"482.0001,-1922.0864 478.5,-1912.0864 475.0001,-1922.0864 482.0001,-1922.0864\"/>\n</g>\n<!-- 139800628458256 -->\n<g id=\"node149\" class=\"node\">\n<title>139800628458256</title>\n<polygon fill=\"#d3d3d3\" stroke=\"#000000\" points=\"1004,-1543.5 903,-1543.5 903,-1524.5 1004,-1524.5 1004,-1543.5\"/>\n<text text-anchor=\"middle\" x=\"953.5\" y=\"-1531.5\" font-family=\"monospace\" font-size=\"10.00\" fill=\"#000000\">AccumulateGrad</text>\n</g>\n<!-- 139800628458256&#45;&gt;139800628458064 -->\n<g id=\"edge152\" class=\"edge\">\n<title>139800628458256&#45;&gt;139800628458064</title>\n<path fill=\"none\" stroke=\"#000000\" d=\"M952.6967,-1524.2796C952.0155,-1516.0376 951.0162,-1503.9457 950.1636,-1493.629\"/>\n<polygon fill=\"#000000\" stroke=\"#000000\" points=\"953.6298,-1493.075 949.318,-1483.3972 946.6536,-1493.6516 953.6298,-1493.075\"/>\n</g>\n<!-- 139800631780944 -->\n<g id=\"node150\" class=\"node\">\n<title>139800631780944</title>\n<polygon fill=\"#add8e6\" stroke=\"#000000\" points=\"1030,-1615 887,-1615 887,-1585 1030,-1585 1030,-1615\"/>\n<text text-anchor=\"middle\" x=\"958.5\" y=\"-1603\" font-family=\"monospace\" font-size=\"10.00\" fill=\"#000000\">layer3.1.conv1.weight</text>\n<text text-anchor=\"middle\" x=\"958.5\" y=\"-1592\" font-family=\"monospace\" font-size=\"10.00\" fill=\"#000000\"> (256, 256, 3, 3)</text>\n</g>\n<!-- 139800631780944&#45;&gt;139800628458256 -->\n<g id=\"edge153\" class=\"edge\">\n<title>139800631780944&#45;&gt;139800628458256</title>\n<path fill=\"none\" stroke=\"#000000\" d=\"M957.3403,-1584.6924C956.6444,-1575.5067 955.7519,-1563.7245 955.0024,-1553.8312\"/>\n<polygon fill=\"#000000\" stroke=\"#000000\" points=\"958.4806,-1553.4101 954.2351,-1543.7031 951.5006,-1553.9389 958.4806,-1553.4101\"/>\n</g>\n<!-- 139800628458192 -->\n<g id=\"node151\" class=\"node\">\n<title>139800628458192</title>\n<polygon fill=\"#d3d3d3\" stroke=\"#000000\" points=\"1154,-1483 1053,-1483 1053,-1464 1154,-1464 1154,-1483\"/>\n<text text-anchor=\"middle\" x=\"1103.5\" y=\"-1471\" font-family=\"monospace\" font-size=\"10.00\" fill=\"#000000\">AccumulateGrad</text>\n</g>\n<!-- 139800628458192&#45;&gt;139800628457744 -->\n<g id=\"edge154\" class=\"edge\">\n<title>139800628458192&#45;&gt;139800628457744</title>\n<path fill=\"none\" stroke=\"#000000\" d=\"M1090.968,-1463.7796C1078.9141,-1454.4301 1060.4732,-1440.1266 1046.2313,-1429.08\"/>\n<polygon fill=\"#000000\" stroke=\"#000000\" points=\"1048.0478,-1426.0596 1038.0009,-1422.6962 1043.7575,-1431.5908 1048.0478,-1426.0596\"/>\n</g>\n<!-- 139800631780848 -->\n<g id=\"node152\" class=\"node\">\n<title>139800631780848</title>\n<polygon fill=\"#add8e6\" stroke=\"#000000\" points=\"1161,-1549 1030,-1549 1030,-1519 1161,-1519 1161,-1549\"/>\n<text text-anchor=\"middle\" x=\"1095.5\" y=\"-1537\" font-family=\"monospace\" font-size=\"10.00\" fill=\"#000000\">layer3.1.bn1.weight</text>\n<text text-anchor=\"middle\" x=\"1095.5\" y=\"-1526\" font-family=\"monospace\" font-size=\"10.00\" fill=\"#000000\"> (256)</text>\n</g>\n<!-- 139800631780848&#45;&gt;139800628458192 -->\n<g id=\"edge155\" class=\"edge\">\n<title>139800631780848&#45;&gt;139800628458192</title>\n<path fill=\"none\" stroke=\"#000000\" d=\"M1097.5187,-1518.7333C1098.5486,-1510.9447 1099.813,-1501.3831 1100.9135,-1493.0604\"/>\n<polygon fill=\"#000000\" stroke=\"#000000\" points=\"1104.3912,-1493.459 1102.2324,-1483.0864 1097.4516,-1492.5413 1104.3912,-1493.459\"/>\n</g>\n<!-- 139800628457936 -->\n<g id=\"node153\" class=\"node\">\n<title>139800628457936</title>\n<polygon fill=\"#d3d3d3\" stroke=\"#000000\" points=\"1275,-1483 1174,-1483 1174,-1464 1275,-1464 1275,-1483\"/>\n<text text-anchor=\"middle\" x=\"1224.5\" y=\"-1471\" font-family=\"monospace\" font-size=\"10.00\" fill=\"#000000\">AccumulateGrad</text>\n</g>\n<!-- 139800628457936&#45;&gt;139800628457744 -->\n<g id=\"edge156\" class=\"edge\">\n<title>139800628457936&#45;&gt;139800628457744</title>\n<path fill=\"none\" stroke=\"#000000\" d=\"M1192.9679,-1463.9136C1158.7623,-1453.5144 1104.0286,-1436.8743 1066.5049,-1425.4663\"/>\n<polygon fill=\"#000000\" stroke=\"#000000\" points=\"1067.4703,-1422.1017 1056.8846,-1422.5416 1065.4341,-1428.799 1067.4703,-1422.1017\"/>\n</g>\n<!-- 139800631780656 -->\n<g id=\"node154\" class=\"node\">\n<title>139800631780656</title>\n<polygon fill=\"#add8e6\" stroke=\"#000000\" points=\"1298,-1549 1179,-1549 1179,-1519 1298,-1519 1298,-1549\"/>\n<text text-anchor=\"middle\" x=\"1238.5\" y=\"-1537\" font-family=\"monospace\" font-size=\"10.00\" fill=\"#000000\">layer3.1.bn1.bias</text>\n<text text-anchor=\"middle\" x=\"1238.5\" y=\"-1526\" font-family=\"monospace\" font-size=\"10.00\" fill=\"#000000\"> (256)</text>\n</g>\n<!-- 139800631780656&#45;&gt;139800628457936 -->\n<g id=\"edge157\" class=\"edge\">\n<title>139800631780656&#45;&gt;139800628457936</title>\n<path fill=\"none\" stroke=\"#000000\" d=\"M1234.9672,-1518.7333C1233.1649,-1510.9447 1230.9523,-1501.3831 1229.0264,-1493.0604\"/>\n<polygon fill=\"#000000\" stroke=\"#000000\" points=\"1232.3828,-1492.0399 1226.7183,-1483.0864 1225.563,-1493.6181 1232.3828,-1492.0399\"/>\n</g>\n<!-- 139800628457872 -->\n<g id=\"node155\" class=\"node\">\n<title>139800628457872</title>\n<polygon fill=\"#d3d3d3\" stroke=\"#000000\" points=\"1192,-1356.5 1091,-1356.5 1091,-1337.5 1192,-1337.5 1192,-1356.5\"/>\n<text text-anchor=\"middle\" x=\"1141.5\" y=\"-1344.5\" font-family=\"monospace\" font-size=\"10.00\" fill=\"#000000\">AccumulateGrad</text>\n</g>\n<!-- 139800628457872&#45;&gt;139800629555856 -->\n<g id=\"edge158\" class=\"edge\">\n<title>139800628457872&#45;&gt;139800629555856</title>\n<path fill=\"none\" stroke=\"#000000\" d=\"M1138.126,-1337.2796C1135.2043,-1328.8623 1130.8887,-1316.4295 1127.2592,-1305.973\"/>\n<polygon fill=\"#000000\" stroke=\"#000000\" points=\"1130.5211,-1304.6966 1123.9354,-1296.3972 1123.9081,-1306.992 1130.5211,-1304.6966\"/>\n</g>\n<!-- 139800631781616 -->\n<g id=\"node156\" class=\"node\">\n<title>139800631781616</title>\n<polygon fill=\"#add8e6\" stroke=\"#000000\" points=\"1267,-1428 1124,-1428 1124,-1398 1267,-1398 1267,-1428\"/>\n<text text-anchor=\"middle\" x=\"1195.5\" y=\"-1416\" font-family=\"monospace\" font-size=\"10.00\" fill=\"#000000\">layer3.1.conv2.weight</text>\n<text text-anchor=\"middle\" x=\"1195.5\" y=\"-1405\" font-family=\"monospace\" font-size=\"10.00\" fill=\"#000000\"> (256, 256, 3, 3)</text>\n</g>\n<!-- 139800631781616&#45;&gt;139800628457872 -->\n<g id=\"edge159\" class=\"edge\">\n<title>139800631781616&#45;&gt;139800628457872</title>\n<path fill=\"none\" stroke=\"#000000\" d=\"M1182.9756,-1397.6924C1174.8944,-1387.8153 1164.3568,-1374.9361 1155.9256,-1364.6312\"/>\n<polygon fill=\"#000000\" stroke=\"#000000\" points=\"1158.4801,-1362.2263 1149.4389,-1356.7031 1153.0624,-1366.659 1158.4801,-1362.2263\"/>\n</g>\n<!-- 139800629558416 -->\n<g id=\"node157\" class=\"node\">\n<title>139800629558416</title>\n<polygon fill=\"#d3d3d3\" stroke=\"#000000\" points=\"1326,-1296 1225,-1296 1225,-1277 1326,-1277 1326,-1296\"/>\n<text text-anchor=\"middle\" x=\"1275.5\" y=\"-1284\" font-family=\"monospace\" font-size=\"10.00\" fill=\"#000000\">AccumulateGrad</text>\n</g>\n<!-- 139800629558416&#45;&gt;139800629556496 -->\n<g id=\"edge160\" class=\"edge\">\n<title>139800629558416&#45;&gt;139800629556496</title>\n<path fill=\"none\" stroke=\"#000000\" d=\"M1261.9134,-1276.9197C1250.2411,-1268.6893 1233.1895,-1256.6657 1219.5622,-1247.0567\"/>\n<polygon fill=\"#000000\" stroke=\"#000000\" points=\"1221.3821,-1244.0574 1211.1926,-1241.155 1217.3482,-1249.7782 1221.3821,-1244.0574\"/>\n</g>\n<!-- 139800631781520 -->\n<g id=\"node158\" class=\"node\">\n<title>139800631781520</title>\n<polygon fill=\"#add8e6\" stroke=\"#000000\" points=\"1341,-1362 1210,-1362 1210,-1332 1341,-1332 1341,-1362\"/>\n<text text-anchor=\"middle\" x=\"1275.5\" y=\"-1350\" font-family=\"monospace\" font-size=\"10.00\" fill=\"#000000\">layer3.1.bn2.weight</text>\n<text text-anchor=\"middle\" x=\"1275.5\" y=\"-1339\" font-family=\"monospace\" font-size=\"10.00\" fill=\"#000000\"> (256)</text>\n</g>\n<!-- 139800631781520&#45;&gt;139800629558416 -->\n<g id=\"edge161\" class=\"edge\">\n<title>139800631781520&#45;&gt;139800629558416</title>\n<path fill=\"none\" stroke=\"#000000\" d=\"M1275.5,-1331.7333C1275.5,-1324.0322 1275.5,-1314.5977 1275.5,-1306.3414\"/>\n<polygon fill=\"#000000\" stroke=\"#000000\" points=\"1279.0001,-1306.0864 1275.5,-1296.0864 1272.0001,-1306.0864 1279.0001,-1306.0864\"/>\n</g>\n<!-- 139800628457616 -->\n<g id=\"node159\" class=\"node\">\n<title>139800628457616</title>\n<polygon fill=\"#d3d3d3\" stroke=\"#000000\" points=\"1457,-1296 1356,-1296 1356,-1277 1457,-1277 1457,-1296\"/>\n<text text-anchor=\"middle\" x=\"1406.5\" y=\"-1284\" font-family=\"monospace\" font-size=\"10.00\" fill=\"#000000\">AccumulateGrad</text>\n</g>\n<!-- 139800628457616&#45;&gt;139800629556496 -->\n<g id=\"edge162\" class=\"edge\">\n<title>139800628457616&#45;&gt;139800629556496</title>\n<path fill=\"none\" stroke=\"#000000\" d=\"M1370.095,-1276.9197C1334.9885,-1267.6812 1281.7213,-1253.6635 1243.6549,-1243.646\"/>\n<polygon fill=\"#000000\" stroke=\"#000000\" points=\"1244.3994,-1240.2228 1233.8379,-1241.0626 1242.6179,-1246.9924 1244.3994,-1240.2228\"/>\n</g>\n<!-- 139800631781328 -->\n<g id=\"node160\" class=\"node\">\n<title>139800631781328</title>\n<polygon fill=\"#add8e6\" stroke=\"#000000\" points=\"1478,-1362 1359,-1362 1359,-1332 1478,-1332 1478,-1362\"/>\n<text text-anchor=\"middle\" x=\"1418.5\" y=\"-1350\" font-family=\"monospace\" font-size=\"10.00\" fill=\"#000000\">layer3.1.bn2.bias</text>\n<text text-anchor=\"middle\" x=\"1418.5\" y=\"-1339\" font-family=\"monospace\" font-size=\"10.00\" fill=\"#000000\"> (256)</text>\n</g>\n<!-- 139800631781328&#45;&gt;139800628457616 -->\n<g id=\"edge163\" class=\"edge\">\n<title>139800631781328&#45;&gt;139800628457616</title>\n<path fill=\"none\" stroke=\"#000000\" d=\"M1415.4719,-1331.7333C1413.927,-1323.9447 1412.0305,-1314.3831 1410.3797,-1306.0604\"/>\n<polygon fill=\"#000000\" stroke=\"#000000\" points=\"1413.7802,-1305.2143 1408.4014,-1296.0864 1406.914,-1306.5763 1413.7802,-1305.2143\"/>\n</g>\n<!-- 139800629557648 -->\n<g id=\"node161\" class=\"node\">\n<title>139800629557648</title>\n<polygon fill=\"#d3d3d3\" stroke=\"#000000\" points=\"1105,-1114.5 1004,-1114.5 1004,-1095.5 1105,-1095.5 1105,-1114.5\"/>\n<text text-anchor=\"middle\" x=\"1054.5\" y=\"-1102.5\" font-family=\"monospace\" font-size=\"10.00\" fill=\"#000000\">AccumulateGrad</text>\n</g>\n<!-- 139800629557648&#45;&gt;139800629557776 -->\n<g id=\"edge165\" class=\"edge\">\n<title>139800629557648&#45;&gt;139800629557776</title>\n<path fill=\"none\" stroke=\"#000000\" d=\"M1051.126,-1095.2796C1048.2043,-1086.8623 1043.8887,-1074.4295 1040.2592,-1063.973\"/>\n<polygon fill=\"#000000\" stroke=\"#000000\" points=\"1043.5211,-1062.6966 1036.9354,-1054.3972 1036.9081,-1064.992 1043.5211,-1062.6966\"/>\n</g>\n<!-- 139800631782960 -->\n<g id=\"node162\" class=\"node\">\n<title>139800631782960</title>\n<polygon fill=\"#add8e6\" stroke=\"#000000\" points=\"1144,-1186 1001,-1186 1001,-1156 1144,-1156 1144,-1186\"/>\n<text text-anchor=\"middle\" x=\"1072.5\" y=\"-1174\" font-family=\"monospace\" font-size=\"10.00\" fill=\"#000000\">layer4.0.conv1.weight</text>\n<text text-anchor=\"middle\" x=\"1072.5\" y=\"-1163\" font-family=\"monospace\" font-size=\"10.00\" fill=\"#000000\"> (512, 256, 3, 3)</text>\n</g>\n<!-- 139800631782960&#45;&gt;139800629557648 -->\n<g id=\"edge166\" class=\"edge\">\n<title>139800631782960&#45;&gt;139800629557648</title>\n<path fill=\"none\" stroke=\"#000000\" d=\"M1068.3252,-1155.6924C1065.7931,-1146.408 1062.5375,-1134.4708 1059.8216,-1124.5127\"/>\n<polygon fill=\"#000000\" stroke=\"#000000\" points=\"1063.1542,-1123.4298 1057.1463,-1114.7031 1056.4009,-1125.2716 1063.1542,-1123.4298\"/>\n</g>\n<!-- 139800629558800 -->\n<g id=\"node163\" class=\"node\">\n<title>139800629558800</title>\n<polygon fill=\"#d3d3d3\" stroke=\"#000000\" points=\"1239,-1054 1138,-1054 1138,-1035 1239,-1035 1239,-1054\"/>\n<text text-anchor=\"middle\" x=\"1188.5\" y=\"-1042\" font-family=\"monospace\" font-size=\"10.00\" fill=\"#000000\">AccumulateGrad</text>\n</g>\n<!-- 139800629558800&#45;&gt;139800629555472 -->\n<g id=\"edge167\" class=\"edge\">\n<title>139800629558800&#45;&gt;139800629555472</title>\n<path fill=\"none\" stroke=\"#000000\" d=\"M1175.968,-1034.7796C1163.9141,-1025.4301 1145.4732,-1011.1266 1131.2313,-1000.08\"/>\n<polygon fill=\"#000000\" stroke=\"#000000\" points=\"1133.0478,-997.0596 1123.0009,-993.6962 1128.7575,-1002.5908 1133.0478,-997.0596\"/>\n</g>\n<!-- 139800631782864 -->\n<g id=\"node164\" class=\"node\">\n<title>139800631782864</title>\n<polygon fill=\"#add8e6\" stroke=\"#000000\" points=\"1254,-1120 1123,-1120 1123,-1090 1254,-1090 1254,-1120\"/>\n<text text-anchor=\"middle\" x=\"1188.5\" y=\"-1108\" font-family=\"monospace\" font-size=\"10.00\" fill=\"#000000\">layer4.0.bn1.weight</text>\n<text text-anchor=\"middle\" x=\"1188.5\" y=\"-1097\" font-family=\"monospace\" font-size=\"10.00\" fill=\"#000000\"> (512)</text>\n</g>\n<!-- 139800631782864&#45;&gt;139800629558800 -->\n<g id=\"edge168\" class=\"edge\">\n<title>139800631782864&#45;&gt;139800629558800</title>\n<path fill=\"none\" stroke=\"#000000\" d=\"M1188.5,-1089.7333C1188.5,-1082.0322 1188.5,-1072.5977 1188.5,-1064.3414\"/>\n<polygon fill=\"#000000\" stroke=\"#000000\" points=\"1192.0001,-1064.0864 1188.5,-1054.0864 1185.0001,-1064.0864 1192.0001,-1064.0864\"/>\n</g>\n<!-- 139800629558096 -->\n<g id=\"node165\" class=\"node\">\n<title>139800629558096</title>\n<polygon fill=\"#d3d3d3\" stroke=\"#000000\" points=\"1370,-1054 1269,-1054 1269,-1035 1370,-1035 1370,-1054\"/>\n<text text-anchor=\"middle\" x=\"1319.5\" y=\"-1042\" font-family=\"monospace\" font-size=\"10.00\" fill=\"#000000\">AccumulateGrad</text>\n</g>\n<!-- 139800629558096&#45;&gt;139800629555472 -->\n<g id=\"edge169\" class=\"edge\">\n<title>139800629558096&#45;&gt;139800629555472</title>\n<path fill=\"none\" stroke=\"#000000\" d=\"M1286.3833,-1034.9136C1250.3824,-1024.4923 1192.73,-1007.8034 1153.3142,-996.3936\"/>\n<polygon fill=\"#000000\" stroke=\"#000000\" points=\"1154.0406,-992.9602 1143.4617,-993.5416 1152.0942,-999.6842 1154.0406,-992.9602\"/>\n</g>\n<!-- 139800631782672 -->\n<g id=\"node166\" class=\"node\">\n<title>139800631782672</title>\n<polygon fill=\"#add8e6\" stroke=\"#000000\" points=\"1391,-1120 1272,-1120 1272,-1090 1391,-1090 1391,-1120\"/>\n<text text-anchor=\"middle\" x=\"1331.5\" y=\"-1108\" font-family=\"monospace\" font-size=\"10.00\" fill=\"#000000\">layer4.0.bn1.bias</text>\n<text text-anchor=\"middle\" x=\"1331.5\" y=\"-1097\" font-family=\"monospace\" font-size=\"10.00\" fill=\"#000000\"> (512)</text>\n</g>\n<!-- 139800631782672&#45;&gt;139800629558096 -->\n<g id=\"edge170\" class=\"edge\">\n<title>139800631782672&#45;&gt;139800629558096</title>\n<path fill=\"none\" stroke=\"#000000\" d=\"M1328.4719,-1089.7333C1326.927,-1081.9447 1325.0305,-1072.3831 1323.3797,-1064.0604\"/>\n<polygon fill=\"#000000\" stroke=\"#000000\" points=\"1326.7802,-1063.2143 1321.4014,-1054.0864 1319.914,-1064.5763 1326.7802,-1063.2143\"/>\n</g>\n<!-- 139800629556112 -->\n<g id=\"node167\" class=\"node\">\n<title>139800629556112</title>\n<polygon fill=\"#d3d3d3\" stroke=\"#000000\" points=\"1277,-927.5 1176,-927.5 1176,-908.5 1277,-908.5 1277,-927.5\"/>\n<text text-anchor=\"middle\" x=\"1226.5\" y=\"-915.5\" font-family=\"monospace\" font-size=\"10.00\" fill=\"#000000\">AccumulateGrad</text>\n</g>\n<!-- 139800629556112&#45;&gt;139800629557264 -->\n<g id=\"edge171\" class=\"edge\">\n<title>139800629556112&#45;&gt;139800629557264</title>\n<path fill=\"none\" stroke=\"#000000\" d=\"M1223.126,-908.2796C1220.2043,-899.8623 1215.8887,-887.4295 1212.2592,-876.973\"/>\n<polygon fill=\"#000000\" stroke=\"#000000\" points=\"1215.5211,-875.6966 1208.9354,-867.3972 1208.9081,-877.992 1215.5211,-875.6966\"/>\n</g>\n<!-- 139800629514512 -->\n<g id=\"node168\" class=\"node\">\n<title>139800629514512</title>\n<polygon fill=\"#add8e6\" stroke=\"#000000\" points=\"1352,-999 1209,-999 1209,-969 1352,-969 1352,-999\"/>\n<text text-anchor=\"middle\" x=\"1280.5\" y=\"-987\" font-family=\"monospace\" font-size=\"10.00\" fill=\"#000000\">layer4.0.conv2.weight</text>\n<text text-anchor=\"middle\" x=\"1280.5\" y=\"-976\" font-family=\"monospace\" font-size=\"10.00\" fill=\"#000000\"> (512, 512, 3, 3)</text>\n</g>\n<!-- 139800629514512&#45;&gt;139800629556112 -->\n<g id=\"edge172\" class=\"edge\">\n<title>139800629514512&#45;&gt;139800629556112</title>\n<path fill=\"none\" stroke=\"#000000\" d=\"M1267.9756,-968.6924C1259.8944,-958.8153 1249.3568,-945.9361 1240.9256,-935.6312\"/>\n<polygon fill=\"#000000\" stroke=\"#000000\" points=\"1243.4801,-933.2263 1234.4389,-927.7031 1238.0624,-937.659 1243.4801,-933.2263\"/>\n</g>\n<!-- 139800629558352 -->\n<g id=\"node169\" class=\"node\">\n<title>139800629558352</title>\n<polygon fill=\"#d3d3d3\" stroke=\"#000000\" points=\"1411,-867 1310,-867 1310,-848 1411,-848 1411,-867\"/>\n<text text-anchor=\"middle\" x=\"1360.5\" y=\"-855\" font-family=\"monospace\" font-size=\"10.00\" fill=\"#000000\">AccumulateGrad</text>\n</g>\n<!-- 139800629558352&#45;&gt;139800629557456 -->\n<g id=\"edge173\" class=\"edge\">\n<title>139800629558352&#45;&gt;139800629557456</title>\n<path fill=\"none\" stroke=\"#000000\" d=\"M1346.9134,-847.9197C1335.2411,-839.6893 1318.1895,-827.6657 1304.5622,-818.0567\"/>\n<polygon fill=\"#000000\" stroke=\"#000000\" points=\"1306.3821,-815.0574 1296.1926,-812.155 1302.3482,-820.7782 1306.3821,-815.0574\"/>\n</g>\n<!-- 139800629514416 -->\n<g id=\"node170\" class=\"node\">\n<title>139800629514416</title>\n<polygon fill=\"#add8e6\" stroke=\"#000000\" points=\"1426,-933 1295,-933 1295,-903 1426,-903 1426,-933\"/>\n<text text-anchor=\"middle\" x=\"1360.5\" y=\"-921\" font-family=\"monospace\" font-size=\"10.00\" fill=\"#000000\">layer4.0.bn2.weight</text>\n<text text-anchor=\"middle\" x=\"1360.5\" y=\"-910\" font-family=\"monospace\" font-size=\"10.00\" fill=\"#000000\"> (512)</text>\n</g>\n<!-- 139800629514416&#45;&gt;139800629558352 -->\n<g id=\"edge174\" class=\"edge\">\n<title>139800629514416&#45;&gt;139800629558352</title>\n<path fill=\"none\" stroke=\"#000000\" d=\"M1360.5,-902.7333C1360.5,-895.0322 1360.5,-885.5977 1360.5,-877.3414\"/>\n<polygon fill=\"#000000\" stroke=\"#000000\" points=\"1364.0001,-877.0864 1360.5,-867.0864 1357.0001,-877.0864 1364.0001,-877.0864\"/>\n</g>\n<!-- 139800629556304 -->\n<g id=\"node171\" class=\"node\">\n<title>139800629556304</title>\n<polygon fill=\"#d3d3d3\" stroke=\"#000000\" points=\"1542,-867 1441,-867 1441,-848 1542,-848 1542,-867\"/>\n<text text-anchor=\"middle\" x=\"1491.5\" y=\"-855\" font-family=\"monospace\" font-size=\"10.00\" fill=\"#000000\">AccumulateGrad</text>\n</g>\n<!-- 139800629556304&#45;&gt;139800629557456 -->\n<g id=\"edge175\" class=\"edge\">\n<title>139800629556304&#45;&gt;139800629557456</title>\n<path fill=\"none\" stroke=\"#000000\" d=\"M1455.095,-847.9197C1419.9885,-838.6812 1366.7213,-824.6635 1328.6549,-814.646\"/>\n<polygon fill=\"#000000\" stroke=\"#000000\" points=\"1329.3994,-811.2228 1318.8379,-812.0626 1327.6179,-817.9924 1329.3994,-811.2228\"/>\n</g>\n<!-- 139800629514608 -->\n<g id=\"node172\" class=\"node\">\n<title>139800629514608</title>\n<polygon fill=\"#add8e6\" stroke=\"#000000\" points=\"1563,-933 1444,-933 1444,-903 1563,-903 1563,-933\"/>\n<text text-anchor=\"middle\" x=\"1503.5\" y=\"-921\" font-family=\"monospace\" font-size=\"10.00\" fill=\"#000000\">layer4.0.bn2.bias</text>\n<text text-anchor=\"middle\" x=\"1503.5\" y=\"-910\" font-family=\"monospace\" font-size=\"10.00\" fill=\"#000000\"> (512)</text>\n</g>\n<!-- 139800629514608&#45;&gt;139800629556304 -->\n<g id=\"edge176\" class=\"edge\">\n<title>139800629514608&#45;&gt;139800629556304</title>\n<path fill=\"none\" stroke=\"#000000\" d=\"M1500.4719,-902.7333C1498.927,-894.9447 1497.0305,-885.3831 1495.3797,-877.0604\"/>\n<polygon fill=\"#000000\" stroke=\"#000000\" points=\"1498.7802,-876.2143 1493.4014,-867.0864 1491.914,-877.5763 1498.7802,-876.2143\"/>\n</g>\n<!-- 139800629557520 -->\n<g id=\"node173\" class=\"node\">\n<title>139800629557520</title>\n<polygon fill=\"#d3d3d3\" stroke=\"#000000\" points=\"826,-993.5 665,-993.5 665,-974.5 826,-974.5 826,-993.5\"/>\n<text text-anchor=\"middle\" x=\"745.5\" y=\"-981.5\" font-family=\"monospace\" font-size=\"10.00\" fill=\"#000000\">NativeBatchNormBackward0</text>\n</g>\n<!-- 139800629557520&#45;&gt;139800629556880 -->\n<g id=\"edge177\" class=\"edge\">\n<title>139800629557520&#45;&gt;139800629556880</title>\n<path fill=\"none\" stroke=\"#000000\" d=\"M756.3378,-974.2136C797.4235,-937.1139 943.8554,-804.8881 995.3946,-758.3489\"/>\n<polygon fill=\"#000000\" stroke=\"#000000\" points=\"997.7446,-760.9426 1002.8209,-751.6431 993.0533,-755.7473 997.7446,-760.9426\"/>\n</g>\n<!-- 139800629557392&#45;&gt;139800629557520 -->\n<g id=\"edge178\" class=\"edge\">\n<title>139800629557392&#45;&gt;139800629557520</title>\n<path fill=\"none\" stroke=\"#000000\" d=\"M810.1286,-1034.7796C798.2293,-1025.4301 780.0248,-1011.1266 765.9655,-1000.08\"/>\n<polygon fill=\"#000000\" stroke=\"#000000\" points=\"767.8663,-997.1224 757.8407,-993.6962 763.5415,-1002.6266 767.8663,-997.1224\"/>\n</g>\n<!-- 139800629557328 -->\n<g id=\"node175\" class=\"node\">\n<title>139800629557328</title>\n<polygon fill=\"#d3d3d3\" stroke=\"#000000\" points=\"873,-1114.5 772,-1114.5 772,-1095.5 873,-1095.5 873,-1114.5\"/>\n<text text-anchor=\"middle\" x=\"822.5\" y=\"-1102.5\" font-family=\"monospace\" font-size=\"10.00\" fill=\"#000000\">AccumulateGrad</text>\n</g>\n<!-- 139800629557328&#45;&gt;139800629557392 -->\n<g id=\"edge180\" class=\"edge\">\n<title>139800629557328&#45;&gt;139800629557392</title>\n<path fill=\"none\" stroke=\"#000000\" d=\"M822.5,-1095.2796C822.5,-1087.0376 822.5,-1074.9457 822.5,-1064.629\"/>\n<polygon fill=\"#000000\" stroke=\"#000000\" points=\"826.0001,-1064.3972 822.5,-1054.3972 819.0001,-1064.3973 826.0001,-1064.3972\"/>\n</g>\n<!-- 139800631782288 -->\n<g id=\"node176\" class=\"node\">\n<title>139800631782288</title>\n<polygon fill=\"#add8e6\" stroke=\"#000000\" points=\"876,-1186 691,-1186 691,-1156 876,-1156 876,-1186\"/>\n<text text-anchor=\"middle\" x=\"783.5\" y=\"-1174\" font-family=\"monospace\" font-size=\"10.00\" fill=\"#000000\">layer4.0.downsample.0.weight</text>\n<text text-anchor=\"middle\" x=\"783.5\" y=\"-1163\" font-family=\"monospace\" font-size=\"10.00\" fill=\"#000000\"> (512, 256, 1, 1)</text>\n</g>\n<!-- 139800631782288&#45;&gt;139800629557328 -->\n<g id=\"edge181\" class=\"edge\">\n<title>139800631782288&#45;&gt;139800629557328</title>\n<path fill=\"none\" stroke=\"#000000\" d=\"M792.5454,-1155.6924C798.2068,-1146.1116 805.5373,-1133.7061 811.5295,-1123.5655\"/>\n<polygon fill=\"#000000\" stroke=\"#000000\" points=\"814.6923,-1125.0929 816.7664,-1114.7031 808.6658,-1121.5318 814.6923,-1125.0929\"/>\n</g>\n<!-- 139800629556560 -->\n<g id=\"node177\" class=\"node\">\n<title>139800629556560</title>\n<polygon fill=\"#d3d3d3\" stroke=\"#000000\" points=\"560,-1054 459,-1054 459,-1035 560,-1035 560,-1054\"/>\n<text text-anchor=\"middle\" x=\"509.5\" y=\"-1042\" font-family=\"monospace\" font-size=\"10.00\" fill=\"#000000\">AccumulateGrad</text>\n</g>\n<!-- 139800629556560&#45;&gt;139800629557520 -->\n<g id=\"edge182\" class=\"edge\">\n<title>139800629556560&#45;&gt;139800629557520</title>\n<path fill=\"none\" stroke=\"#000000\" d=\"M546.6346,-1034.9803C587.6656,-1024.4618 653.8308,-1007.4999 698.4571,-996.0597\"/>\n<polygon fill=\"#000000\" stroke=\"#000000\" points=\"699.375,-999.4377 708.1926,-993.564 697.6367,-992.6569 699.375,-999.4377\"/>\n</g>\n<!-- 139800631782192 -->\n<g id=\"node178\" class=\"node\">\n<title>139800631782192</title>\n<polygon fill=\"#add8e6\" stroke=\"#000000\" points=\"563,-1120 378,-1120 378,-1090 563,-1090 563,-1120\"/>\n<text text-anchor=\"middle\" x=\"470.5\" y=\"-1108\" font-family=\"monospace\" font-size=\"10.00\" fill=\"#000000\">layer4.0.downsample.1.weight</text>\n<text text-anchor=\"middle\" x=\"470.5\" y=\"-1097\" font-family=\"monospace\" font-size=\"10.00\" fill=\"#000000\"> (512)</text>\n</g>\n<!-- 139800631782192&#45;&gt;139800629556560 -->\n<g id=\"edge183\" class=\"edge\">\n<title>139800631782192&#45;&gt;139800629556560</title>\n<path fill=\"none\" stroke=\"#000000\" d=\"M480.3413,-1089.7333C485.6442,-1081.5071 492.2219,-1071.3031 497.7872,-1062.6699\"/>\n<polygon fill=\"#000000\" stroke=\"#000000\" points=\"500.8439,-1064.3878 503.3203,-1054.0864 494.9604,-1060.5951 500.8439,-1064.3878\"/>\n</g>\n<!-- 139800629558032 -->\n<g id=\"node179\" class=\"node\">\n<title>139800629558032</title>\n<polygon fill=\"#d3d3d3\" stroke=\"#000000\" points=\"718,-1054 617,-1054 617,-1035 718,-1035 718,-1054\"/>\n<text text-anchor=\"middle\" x=\"667.5\" y=\"-1042\" font-family=\"monospace\" font-size=\"10.00\" fill=\"#000000\">AccumulateGrad</text>\n</g>\n<!-- 139800629558032&#45;&gt;139800629557520 -->\n<g id=\"edge184\" class=\"edge\">\n<title>139800629558032&#45;&gt;139800629557520</title>\n<path fill=\"none\" stroke=\"#000000\" d=\"M680.032,-1034.7796C692.0859,-1025.4301 710.5268,-1011.1266 724.7687,-1000.08\"/>\n<polygon fill=\"#000000\" stroke=\"#000000\" points=\"727.2425,-1002.5908 732.9991,-993.6962 722.9522,-997.0596 727.2425,-1002.5908\"/>\n</g>\n<!-- 139800631782000 -->\n<g id=\"node180\" class=\"node\">\n<title>139800631782000</title>\n<polygon fill=\"#add8e6\" stroke=\"#000000\" points=\"754,-1120 581,-1120 581,-1090 754,-1090 754,-1120\"/>\n<text text-anchor=\"middle\" x=\"667.5\" y=\"-1108\" font-family=\"monospace\" font-size=\"10.00\" fill=\"#000000\">layer4.0.downsample.1.bias</text>\n<text text-anchor=\"middle\" x=\"667.5\" y=\"-1097\" font-family=\"monospace\" font-size=\"10.00\" fill=\"#000000\"> (512)</text>\n</g>\n<!-- 139800631782000&#45;&gt;139800629558032 -->\n<g id=\"edge185\" class=\"edge\">\n<title>139800631782000&#45;&gt;139800629558032</title>\n<path fill=\"none\" stroke=\"#000000\" d=\"M667.5,-1089.7333C667.5,-1082.0322 667.5,-1072.5977 667.5,-1064.3414\"/>\n<polygon fill=\"#000000\" stroke=\"#000000\" points=\"671.0001,-1064.0864 667.5,-1054.0864 664.0001,-1064.0864 671.0001,-1064.0864\"/>\n</g>\n<!-- 139800629556368 -->\n<g id=\"node181\" class=\"node\">\n<title>139800629556368</title>\n<polygon fill=\"#d3d3d3\" stroke=\"#000000\" points=\"1193,-685.5 1092,-685.5 1092,-666.5 1193,-666.5 1193,-685.5\"/>\n<text text-anchor=\"middle\" x=\"1142.5\" y=\"-673.5\" font-family=\"monospace\" font-size=\"10.00\" fill=\"#000000\">AccumulateGrad</text>\n</g>\n<!-- 139800629556368&#45;&gt;139800629556240 -->\n<g id=\"edge186\" class=\"edge\">\n<title>139800629556368&#45;&gt;139800629556240</title>\n<path fill=\"none\" stroke=\"#000000\" d=\"M1141.6967,-666.2796C1141.0155,-658.0376 1140.0162,-645.9457 1139.1636,-635.629\"/>\n<polygon fill=\"#000000\" stroke=\"#000000\" points=\"1142.6298,-635.075 1138.318,-625.3972 1135.6536,-635.6516 1142.6298,-635.075\"/>\n</g>\n<!-- 139800629515184 -->\n<g id=\"node182\" class=\"node\">\n<title>139800629515184</title>\n<polygon fill=\"#add8e6\" stroke=\"#000000\" points=\"1219,-757 1076,-757 1076,-727 1219,-727 1219,-757\"/>\n<text text-anchor=\"middle\" x=\"1147.5\" y=\"-745\" font-family=\"monospace\" font-size=\"10.00\" fill=\"#000000\">layer4.1.conv1.weight</text>\n<text text-anchor=\"middle\" x=\"1147.5\" y=\"-734\" font-family=\"monospace\" font-size=\"10.00\" fill=\"#000000\"> (512, 512, 3, 3)</text>\n</g>\n<!-- 139800629515184&#45;&gt;139800629556368 -->\n<g id=\"edge187\" class=\"edge\">\n<title>139800629515184&#45;&gt;139800629556368</title>\n<path fill=\"none\" stroke=\"#000000\" d=\"M1146.3403,-726.6924C1145.6444,-717.5067 1144.7519,-705.7245 1144.0024,-695.8312\"/>\n<polygon fill=\"#000000\" stroke=\"#000000\" points=\"1147.4806,-695.4101 1143.2351,-685.7031 1140.5006,-695.9389 1147.4806,-695.4101\"/>\n</g>\n<!-- 139800629556944 -->\n<g id=\"node183\" class=\"node\">\n<title>139800629556944</title>\n<polygon fill=\"#d3d3d3\" stroke=\"#000000\" points=\"1343,-625 1242,-625 1242,-606 1343,-606 1343,-625\"/>\n<text text-anchor=\"middle\" x=\"1292.5\" y=\"-613\" font-family=\"monospace\" font-size=\"10.00\" fill=\"#000000\">AccumulateGrad</text>\n</g>\n<!-- 139800629556944&#45;&gt;139800629557968 -->\n<g id=\"edge188\" class=\"edge\">\n<title>139800629556944&#45;&gt;139800629557968</title>\n<path fill=\"none\" stroke=\"#000000\" d=\"M1279.968,-605.7796C1267.9141,-596.4301 1249.4732,-582.1266 1235.2313,-571.08\"/>\n<polygon fill=\"#000000\" stroke=\"#000000\" points=\"1237.0478,-568.0596 1227.0009,-564.6962 1232.7575,-573.5908 1237.0478,-568.0596\"/>\n</g>\n<!-- 139800629515088 -->\n<g id=\"node184\" class=\"node\">\n<title>139800629515088</title>\n<polygon fill=\"#add8e6\" stroke=\"#000000\" points=\"1350,-691 1219,-691 1219,-661 1350,-661 1350,-691\"/>\n<text text-anchor=\"middle\" x=\"1284.5\" y=\"-679\" font-family=\"monospace\" font-size=\"10.00\" fill=\"#000000\">layer4.1.bn1.weight</text>\n<text text-anchor=\"middle\" x=\"1284.5\" y=\"-668\" font-family=\"monospace\" font-size=\"10.00\" fill=\"#000000\"> (512)</text>\n</g>\n<!-- 139800629515088&#45;&gt;139800629556944 -->\n<g id=\"edge189\" class=\"edge\">\n<title>139800629515088&#45;&gt;139800629556944</title>\n<path fill=\"none\" stroke=\"#000000\" d=\"M1286.5187,-660.7333C1287.5486,-652.9447 1288.813,-643.3831 1289.9135,-635.0604\"/>\n<polygon fill=\"#000000\" stroke=\"#000000\" points=\"1293.3912,-635.459 1291.2324,-625.0864 1286.4516,-634.5413 1293.3912,-635.459\"/>\n</g>\n<!-- 139800629558736 -->\n<g id=\"node185\" class=\"node\">\n<title>139800629558736</title>\n<polygon fill=\"#d3d3d3\" stroke=\"#000000\" points=\"1464,-625 1363,-625 1363,-606 1464,-606 1464,-625\"/>\n<text text-anchor=\"middle\" x=\"1413.5\" y=\"-613\" font-family=\"monospace\" font-size=\"10.00\" fill=\"#000000\">AccumulateGrad</text>\n</g>\n<!-- 139800629558736&#45;&gt;139800629557968 -->\n<g id=\"edge190\" class=\"edge\">\n<title>139800629558736&#45;&gt;139800629557968</title>\n<path fill=\"none\" stroke=\"#000000\" d=\"M1381.9679,-605.9136C1347.7623,-595.5144 1293.0286,-578.8743 1255.5049,-567.4663\"/>\n<polygon fill=\"#000000\" stroke=\"#000000\" points=\"1256.4703,-564.1017 1245.8846,-564.5416 1254.4341,-570.799 1256.4703,-564.1017\"/>\n</g>\n<!-- 139800629514896 -->\n<g id=\"node186\" class=\"node\">\n<title>139800629514896</title>\n<polygon fill=\"#add8e6\" stroke=\"#000000\" points=\"1487,-691 1368,-691 1368,-661 1487,-661 1487,-691\"/>\n<text text-anchor=\"middle\" x=\"1427.5\" y=\"-679\" font-family=\"monospace\" font-size=\"10.00\" fill=\"#000000\">layer4.1.bn1.bias</text>\n<text text-anchor=\"middle\" x=\"1427.5\" y=\"-668\" font-family=\"monospace\" font-size=\"10.00\" fill=\"#000000\"> (512)</text>\n</g>\n<!-- 139800629514896&#45;&gt;139800629558736 -->\n<g id=\"edge191\" class=\"edge\">\n<title>139800629514896&#45;&gt;139800629558736</title>\n<path fill=\"none\" stroke=\"#000000\" d=\"M1423.9672,-660.7333C1422.1649,-652.9447 1419.9523,-643.3831 1418.0264,-635.0604\"/>\n<polygon fill=\"#000000\" stroke=\"#000000\" points=\"1421.3828,-634.0399 1415.7183,-625.0864 1414.563,-635.6181 1421.3828,-634.0399\"/>\n</g>\n<!-- 139800629666256 -->\n<g id=\"node187\" class=\"node\">\n<title>139800629666256</title>\n<polygon fill=\"#d3d3d3\" stroke=\"#000000\" points=\"1381,-498.5 1280,-498.5 1280,-479.5 1381,-479.5 1381,-498.5\"/>\n<text text-anchor=\"middle\" x=\"1330.5\" y=\"-486.5\" font-family=\"monospace\" font-size=\"10.00\" fill=\"#000000\">AccumulateGrad</text>\n</g>\n<!-- 139800629666256&#45;&gt;139800629668048 -->\n<g id=\"edge192\" class=\"edge\">\n<title>139800629666256&#45;&gt;139800629668048</title>\n<path fill=\"none\" stroke=\"#000000\" d=\"M1327.126,-479.2796C1324.2043,-470.8623 1319.8887,-458.4295 1316.2592,-447.973\"/>\n<polygon fill=\"#000000\" stroke=\"#000000\" points=\"1319.5211,-446.6966 1312.9354,-438.3972 1312.9081,-448.992 1319.5211,-446.6966\"/>\n</g>\n<!-- 139800629515856 -->\n<g id=\"node188\" class=\"node\">\n<title>139800629515856</title>\n<polygon fill=\"#add8e6\" stroke=\"#000000\" points=\"1456,-570 1313,-570 1313,-540 1456,-540 1456,-570\"/>\n<text text-anchor=\"middle\" x=\"1384.5\" y=\"-558\" font-family=\"monospace\" font-size=\"10.00\" fill=\"#000000\">layer4.1.conv2.weight</text>\n<text text-anchor=\"middle\" x=\"1384.5\" y=\"-547\" font-family=\"monospace\" font-size=\"10.00\" fill=\"#000000\"> (512, 512, 3, 3)</text>\n</g>\n<!-- 139800629515856&#45;&gt;139800629666256 -->\n<g id=\"edge193\" class=\"edge\">\n<title>139800629515856&#45;&gt;139800629666256</title>\n<path fill=\"none\" stroke=\"#000000\" d=\"M1371.9756,-539.6924C1363.8944,-529.8153 1353.3568,-516.9361 1344.9256,-506.6312\"/>\n<polygon fill=\"#000000\" stroke=\"#000000\" points=\"1347.4801,-504.2263 1338.4389,-498.7031 1342.0624,-508.659 1347.4801,-504.2263\"/>\n</g>\n<!-- 139800629666960 -->\n<g id=\"node189\" class=\"node\">\n<title>139800629666960</title>\n<polygon fill=\"#d3d3d3\" stroke=\"#000000\" points=\"1515,-438 1414,-438 1414,-419 1515,-419 1515,-438\"/>\n<text text-anchor=\"middle\" x=\"1464.5\" y=\"-426\" font-family=\"monospace\" font-size=\"10.00\" fill=\"#000000\">AccumulateGrad</text>\n</g>\n<!-- 139800629666960&#45;&gt;139800629668496 -->\n<g id=\"edge194\" class=\"edge\">\n<title>139800629666960&#45;&gt;139800629668496</title>\n<path fill=\"none\" stroke=\"#000000\" d=\"M1450.9134,-418.9197C1439.2411,-410.6893 1422.1895,-398.6657 1408.5622,-389.0567\"/>\n<polygon fill=\"#000000\" stroke=\"#000000\" points=\"1410.3821,-386.0574 1400.1926,-383.155 1406.3482,-391.7782 1410.3821,-386.0574\"/>\n</g>\n<!-- 139800629515760 -->\n<g id=\"node190\" class=\"node\">\n<title>139800629515760</title>\n<polygon fill=\"#add8e6\" stroke=\"#000000\" points=\"1530,-504 1399,-504 1399,-474 1530,-474 1530,-504\"/>\n<text text-anchor=\"middle\" x=\"1464.5\" y=\"-492\" font-family=\"monospace\" font-size=\"10.00\" fill=\"#000000\">layer4.1.bn2.weight</text>\n<text text-anchor=\"middle\" x=\"1464.5\" y=\"-481\" font-family=\"monospace\" font-size=\"10.00\" fill=\"#000000\"> (512)</text>\n</g>\n<!-- 139800629515760&#45;&gt;139800629666960 -->\n<g id=\"edge195\" class=\"edge\">\n<title>139800629515760&#45;&gt;139800629666960</title>\n<path fill=\"none\" stroke=\"#000000\" d=\"M1464.5,-473.7333C1464.5,-466.0322 1464.5,-456.5977 1464.5,-448.3414\"/>\n<polygon fill=\"#000000\" stroke=\"#000000\" points=\"1468.0001,-448.0864 1464.5,-438.0864 1461.0001,-448.0864 1468.0001,-448.0864\"/>\n</g>\n<!-- 139800629667344 -->\n<g id=\"node191\" class=\"node\">\n<title>139800629667344</title>\n<polygon fill=\"#d3d3d3\" stroke=\"#000000\" points=\"1646,-438 1545,-438 1545,-419 1646,-419 1646,-438\"/>\n<text text-anchor=\"middle\" x=\"1595.5\" y=\"-426\" font-family=\"monospace\" font-size=\"10.00\" fill=\"#000000\">AccumulateGrad</text>\n</g>\n<!-- 139800629667344&#45;&gt;139800629668496 -->\n<g id=\"edge196\" class=\"edge\">\n<title>139800629667344&#45;&gt;139800629668496</title>\n<path fill=\"none\" stroke=\"#000000\" d=\"M1559.095,-418.9197C1523.9885,-409.6812 1470.7213,-395.6635 1432.6549,-385.646\"/>\n<polygon fill=\"#000000\" stroke=\"#000000\" points=\"1433.3994,-382.2228 1422.8379,-383.0626 1431.6179,-388.9924 1433.3994,-382.2228\"/>\n</g>\n<!-- 139800629515568 -->\n<g id=\"node192\" class=\"node\">\n<title>139800629515568</title>\n<polygon fill=\"#add8e6\" stroke=\"#000000\" points=\"1667,-504 1548,-504 1548,-474 1667,-474 1667,-504\"/>\n<text text-anchor=\"middle\" x=\"1607.5\" y=\"-492\" font-family=\"monospace\" font-size=\"10.00\" fill=\"#000000\">layer4.1.bn2.bias</text>\n<text text-anchor=\"middle\" x=\"1607.5\" y=\"-481\" font-family=\"monospace\" font-size=\"10.00\" fill=\"#000000\"> (512)</text>\n</g>\n<!-- 139800629515568&#45;&gt;139800629667344 -->\n<g id=\"edge197\" class=\"edge\">\n<title>139800629515568&#45;&gt;139800629667344</title>\n<path fill=\"none\" stroke=\"#000000\" d=\"M1604.4719,-473.7333C1602.927,-465.9447 1601.0305,-456.3831 1599.3797,-448.0604\"/>\n<polygon fill=\"#000000\" stroke=\"#000000\" points=\"1602.7802,-447.2143 1597.4014,-438.0864 1595.914,-448.5763 1602.7802,-447.2143\"/>\n</g>\n<!-- 139800629669008 -->\n<g id=\"node193\" class=\"node\">\n<title>139800629669008</title>\n<polygon fill=\"#d3d3d3\" stroke=\"#000000\" points=\"1294,-141 1217,-141 1217,-122 1294,-122 1294,-141\"/>\n<text text-anchor=\"middle\" x=\"1255.5\" y=\"-129\" font-family=\"monospace\" font-size=\"10.00\" fill=\"#000000\">TBackward0</text>\n</g>\n<!-- 139800629669008&#45;&gt;139800629668176 -->\n<g id=\"edge199\" class=\"edge\">\n<title>139800629669008&#45;&gt;139800629668176</title>\n<path fill=\"none\" stroke=\"#000000\" d=\"M1233.2041,-121.9197C1212.7726,-113.1406 1182.2973,-100.0457 1159.3113,-90.1689\"/>\n<polygon fill=\"#000000\" stroke=\"#000000\" points=\"1160.5394,-86.8872 1149.9699,-86.155 1157.7758,-93.3186 1160.5394,-86.8872\"/>\n</g>\n<!-- 139800629668304 -->\n<g id=\"node194\" class=\"node\">\n<title>139800629668304</title>\n<polygon fill=\"#d3d3d3\" stroke=\"#000000\" points=\"1306,-201.5 1205,-201.5 1205,-182.5 1306,-182.5 1306,-201.5\"/>\n<text text-anchor=\"middle\" x=\"1255.5\" y=\"-189.5\" font-family=\"monospace\" font-size=\"10.00\" fill=\"#000000\">AccumulateGrad</text>\n</g>\n<!-- 139800629668304&#45;&gt;139800629669008 -->\n<g id=\"edge200\" class=\"edge\">\n<title>139800629668304&#45;&gt;139800629669008</title>\n<path fill=\"none\" stroke=\"#000000\" d=\"M1255.5,-182.2796C1255.5,-174.0376 1255.5,-161.9457 1255.5,-151.629\"/>\n<polygon fill=\"#000000\" stroke=\"#000000\" points=\"1259.0001,-151.3972 1255.5,-141.3972 1252.0001,-151.3973 1259.0001,-151.3972\"/>\n</g>\n<!-- 139800629516336 -->\n<g id=\"node195\" class=\"node\">\n<title>139800629516336</title>\n<polygon fill=\"#add8e6\" stroke=\"#000000\" points=\"1300,-273 1211,-273 1211,-243 1300,-243 1300,-273\"/>\n<text text-anchor=\"middle\" x=\"1255.5\" y=\"-261\" font-family=\"monospace\" font-size=\"10.00\" fill=\"#000000\">fc.weight</text>\n<text text-anchor=\"middle\" x=\"1255.5\" y=\"-250\" font-family=\"monospace\" font-size=\"10.00\" fill=\"#000000\"> (1000, 512)</text>\n</g>\n<!-- 139800629516336&#45;&gt;139800629668304 -->\n<g id=\"edge201\" class=\"edge\">\n<title>139800629516336&#45;&gt;139800629668304</title>\n<path fill=\"none\" stroke=\"#000000\" d=\"M1255.5,-242.6924C1255.5,-233.5067 1255.5,-221.7245 1255.5,-211.8312\"/>\n<polygon fill=\"#000000\" stroke=\"#000000\" points=\"1259.0001,-211.703 1255.5,-201.7031 1252.0001,-211.7031 1259.0001,-211.703\"/>\n</g>\n</g>\n</svg>\n"
          },
          "metadata": {},
          "execution_count": 24
        }
      ]
    },
    {
      "cell_type": "markdown",
      "metadata": {
        "collapsed": true,
        "id": "7mIP_gnbral2"
      },
      "source": [
        "# Exercício 1\n",
        "\n",
        "O que acontece com o grafo computacional após execução do `backward()`?"
      ]
    },
    {
      "cell_type": "markdown",
      "metadata": {
        "id": "Dg34dQHdk5KG"
      },
      "source": [
        "Resposta:\n",
        "\n",
        "O backward pass se dá retrocedendo no grafo um estágio (nó) de cada vez, da direita para a esquerda, no cálculo das variáveis. Em cada nó, será calculado o gradiente local resultado da multiplicação dos valores das variáveis no forward pass pelo gradiente vindo das camadas posteriores (chain rule).\n",
        "\n",
        "Ou seja, após a execução do backward, os parâmetros da rede terão seus gradientes calculados.\n",
        "\n",
        "Caberáo ao comando optimizer.step() proceder à atualização dos pesos levando em conta os parâmetros do otimizador (learning rate, etc)."
      ]
    },
    {
      "cell_type": "markdown",
      "metadata": {
        "collapsed": true,
        "id": "0RkjpqfprZ_t"
      },
      "source": [
        "# Exercício 2\n",
        "\n",
        "Execute um passo de atualização do valor de w, pelo \n",
        "gradiente descendente. Utilize um fator de aprendizado (*learning rate*) de 0.01 \n",
        "para atualizar o `w`. Após, recalcule a função de perda:\n",
        "\n",
        "    - w = w - lr * w.grad.data\n",
        "    - Verifique o quanto que a perda J diminuiu"
      ]
    },
    {
      "cell_type": "code",
      "source": [
        "w, dw, w.grad.data"
      ],
      "metadata": {
        "colab": {
          "base_uri": "https://localhost:8080/"
        },
        "id": "WsuFjbhCai33",
        "outputId": "5b9e0b79-a268-4633-ee41-729a8967da17"
      },
      "execution_count": 25,
      "outputs": [
        {
          "output_type": "execute_result",
          "data": {
            "text/plain": [
              "(tensor([1.], requires_grad=True), -28.0, tensor([0.]))"
            ]
          },
          "metadata": {},
          "execution_count": 25
        }
      ]
    },
    {
      "cell_type": "code",
      "source": [
        "learning_rate = 0.01\n",
        "w_novo = w - learning_rate * dw\n",
        "w_novo"
      ],
      "metadata": {
        "colab": {
          "base_uri": "https://localhost:8080/"
        },
        "id": "AooO6mdtadIn",
        "outputId": "5ed0d459-ce36-4695-e81d-6564ac591313"
      },
      "execution_count": 26,
      "outputs": [
        {
          "output_type": "execute_result",
          "data": {
            "text/plain": [
              "tensor([1.2800], grad_fn=<SubBackward0>)"
            ]
          },
          "metadata": {},
          "execution_count": 26
        }
      ]
    },
    {
      "cell_type": "code",
      "source": [
        "eps = 0.001\n",
        "y_pred = x * (w_novo + eps)\n",
        "J_new = (y_pred - y).pow(2).sum()\n",
        "J_new"
      ],
      "metadata": {
        "colab": {
          "base_uri": "https://localhost:8080/"
        },
        "id": "Gfzkgf9FbsxP",
        "outputId": "8d032eb8-98c1-4757-81c4-ecbee26e9641"
      },
      "execution_count": 27,
      "outputs": [
        {
          "output_type": "execute_result",
          "data": {
            "text/plain": [
              "tensor(7.2375, grad_fn=<SumBackward0>)"
            ]
          },
          "metadata": {},
          "execution_count": 27
        }
      ]
    },
    {
      "cell_type": "markdown",
      "metadata": {
        "id": "hozksnNDXx4G"
      },
      "source": [
        "## Treinando uma rede no Pytorch\n",
        "\n",
        "Para ajudar na entendimento dos exercícios abaixo, apresentamos o código em Pytorch para treinar uma rede de uma camada não-linear, com pesos `w` e `b`:\n",
        "$y' = \\sigma(wx + b)$"
      ]
    },
    {
      "cell_type": "markdown",
      "metadata": {
        "id": "Fp9dSVjXy4gy"
      },
      "source": [
        "<img src=\"https://github.com/robertoalotufo/files/blob/master/figures/simple_graph.png?raw=true\" width=\"600pt\"/>"
      ]
    },
    {
      "cell_type": "code",
      "source": [
        "inicializa_seed()"
      ],
      "metadata": {
        "id": "LM5DNOhXcuRt"
      },
      "execution_count": 28,
      "outputs": []
    },
    {
      "cell_type": "code",
      "metadata": {
        "id": "VhXl4fkxYv2z"
      },
      "source": [
        "from typing import List"
      ],
      "execution_count": 29,
      "outputs": []
    },
    {
      "cell_type": "code",
      "source": [
        "class NonLinearPytorch(torch.nn.Module):\n",
        "    def __init__(self):\n",
        "        super(NonLinearPytorch, self).__init__()\n",
        "\n",
        "        self.layer1 = torch.nn.Linear(1, 1)\n",
        "        # Inicializa os pesos w e b em zero.\n",
        "        self.layer1.load_state_dict(dict(weight=torch.zeros(1,1), bias=torch.zeros(1)))\n",
        "        \n",
        "    def forward(self, x):\n",
        "        y_pred = torch.sigmoid(self.layer1(x))\n",
        "        return y_pred\n"
      ],
      "metadata": {
        "id": "YSrTgjojc4TG"
      },
      "execution_count": 30,
      "outputs": []
    },
    {
      "cell_type": "code",
      "source": [
        "learning_rate = 0.1\n",
        "model = NonLinearPytorch()\n",
        "loss_fn = torch.nn.MSELoss()\n",
        "optimizer = torch.optim.SGD(model.parameters(), lr=learning_rate)"
      ],
      "metadata": {
        "id": "H6Q7nsCnc6xK"
      },
      "execution_count": 31,
      "outputs": []
    },
    {
      "cell_type": "code",
      "source": [
        "x = torch.tensor([-5], dtype=torch.float)\n",
        "y_target = torch.tensor([0.76], dtype=torch.float)"
      ],
      "metadata": {
        "id": "hXLz991-dFF9"
      },
      "execution_count": 32,
      "outputs": []
    },
    {
      "cell_type": "code",
      "source": [
        "num_iterations = 50\n",
        "for i in range(num_iterations):\n",
        "    # Zere os gradientes dos passo anterior.\n",
        "    optimizer.zero_grad()\n",
        "    # Rode a um passo forward do modelo.\n",
        "    y_pred = model.forward(x)\n",
        "    # Calcule a loss\n",
        "    loss = loss_fn(y_pred, y_target)\n",
        "    # Calcule os gradientes\n",
        "    loss.backward()\n",
        "    # Atualize os pesos\n",
        "    optimizer.step()\n",
        "\n",
        "    print(f'iter:{i}: y_prime: {y_pred} loss: {loss.item()} model.layer1.weight.data: {model.layer1.weight.data} model.layer1.bias.data {model.layer1.bias.data}')"
      ],
      "metadata": {
        "colab": {
          "base_uri": "https://localhost:8080/"
        },
        "id": "KwgaGOrGdBRU",
        "outputId": "f5953d93-bb14-47ce-bd51-f9be0905a219"
      },
      "execution_count": 33,
      "outputs": [
        {
          "output_type": "stream",
          "name": "stdout",
          "text": [
            "iter:0: y_prime: tensor([0.5000], grad_fn=<SigmoidBackward0>) loss: 0.06759999692440033 model.layer1.weight.data: tensor([[-0.0650]]) model.layer1.bias.data tensor([0.0130])\n",
            "iter:1: y_prime: tensor([0.5837], grad_fn=<SigmoidBackward0>) loss: 0.03108006715774536 model.layer1.weight.data: tensor([[-0.1078]]) model.layer1.bias.data tensor([0.0216])\n",
            "iter:2: y_prime: tensor([0.6366], grad_fn=<SigmoidBackward0>) loss: 0.015220507979393005 model.layer1.weight.data: tensor([[-0.1364]]) model.layer1.bias.data tensor([0.0273])\n",
            "iter:3: y_prime: tensor([0.6702], grad_fn=<SigmoidBackward0>) loss: 0.008060935884714127 model.layer1.weight.data: tensor([[-0.1562]]) model.layer1.bias.data tensor([0.0312])\n",
            "iter:4: y_prime: tensor([0.6926], grad_fn=<SigmoidBackward0>) loss: 0.004541150294244289 model.layer1.weight.data: tensor([[-0.1706]]) model.layer1.bias.data tensor([0.0341])\n",
            "iter:5: y_prime: tensor([0.7083], grad_fn=<SigmoidBackward0>) loss: 0.002676718169823289 model.layer1.weight.data: tensor([[-0.1813]]) model.layer1.bias.data tensor([0.0363])\n",
            "iter:6: y_prime: tensor([0.7196], grad_fn=<SigmoidBackward0>) loss: 0.0016309585189446807 model.layer1.weight.data: tensor([[-0.1894]]) model.layer1.bias.data tensor([0.0379])\n",
            "iter:7: y_prime: tensor([0.7281], grad_fn=<SigmoidBackward0>) loss: 0.001018621027469635 model.layer1.weight.data: tensor([[-0.1957]]) model.layer1.bias.data tensor([0.0391])\n",
            "iter:8: y_prime: tensor([0.7345], grad_fn=<SigmoidBackward0>) loss: 0.0006482027238234878 model.layer1.weight.data: tensor([[-0.2007]]) model.layer1.bias.data tensor([0.0401])\n",
            "iter:9: y_prime: tensor([0.7395], grad_fn=<SigmoidBackward0>) loss: 0.00041847542161121964 model.layer1.weight.data: tensor([[-0.2046]]) model.layer1.bias.data tensor([0.0409])\n",
            "iter:10: y_prime: tensor([0.7435], grad_fn=<SigmoidBackward0>) loss: 0.00027322242385707796 model.layer1.weight.data: tensor([[-0.2078]]) model.layer1.bias.data tensor([0.0416])\n",
            "iter:11: y_prime: tensor([0.7466], grad_fn=<SigmoidBackward0>) loss: 0.000179972848854959 model.layer1.weight.data: tensor([[-0.2103]]) model.layer1.bias.data tensor([0.0421])\n",
            "iter:12: y_prime: tensor([0.7491], grad_fn=<SigmoidBackward0>) loss: 0.00011938677198486403 model.layer1.weight.data: tensor([[-0.2124]]) model.layer1.bias.data tensor([0.0425])\n",
            "iter:13: y_prime: tensor([0.7511], grad_fn=<SigmoidBackward0>) loss: 7.964535325299948e-05 model.layer1.weight.data: tensor([[-0.2140]]) model.layer1.bias.data tensor([0.0428])\n",
            "iter:14: y_prime: tensor([0.7527], grad_fn=<SigmoidBackward0>) loss: 5.33747261215467e-05 model.layer1.weight.data: tensor([[-0.2154]]) model.layer1.bias.data tensor([0.0431])\n",
            "iter:15: y_prime: tensor([0.7540], grad_fn=<SigmoidBackward0>) loss: 3.590186679502949e-05 model.layer1.weight.data: tensor([[-0.2165]]) model.layer1.bias.data tensor([0.0433])\n",
            "iter:16: y_prime: tensor([0.7551], grad_fn=<SigmoidBackward0>) loss: 2.4221122657763772e-05 model.layer1.weight.data: tensor([[-0.2174]]) model.layer1.bias.data tensor([0.0435])\n",
            "iter:17: y_prime: tensor([0.7560], grad_fn=<SigmoidBackward0>) loss: 1.638043249840848e-05 model.layer1.weight.data: tensor([[-0.2182]]) model.layer1.bias.data tensor([0.0436])\n",
            "iter:18: y_prime: tensor([0.7567], grad_fn=<SigmoidBackward0>) loss: 1.1099966286565177e-05 model.layer1.weight.data: tensor([[-0.2188]]) model.layer1.bias.data tensor([0.0438])\n",
            "iter:19: y_prime: tensor([0.7573], grad_fn=<SigmoidBackward0>) loss: 7.534220912930323e-06 model.layer1.weight.data: tensor([[-0.2193]]) model.layer1.bias.data tensor([0.0439])\n",
            "iter:20: y_prime: tensor([0.7577], grad_fn=<SigmoidBackward0>) loss: 5.12067254021531e-06 model.layer1.weight.data: tensor([[-0.2197]]) model.layer1.bias.data tensor([0.0439])\n",
            "iter:21: y_prime: tensor([0.7581], grad_fn=<SigmoidBackward0>) loss: 3.4841173146560322e-06 model.layer1.weight.data: tensor([[-0.2200]]) model.layer1.bias.data tensor([0.0440])\n",
            "iter:22: y_prime: tensor([0.7585], grad_fn=<SigmoidBackward0>) loss: 2.3727177449472947e-06 model.layer1.weight.data: tensor([[-0.2203]]) model.layer1.bias.data tensor([0.0441])\n",
            "iter:23: y_prime: tensor([0.7587], grad_fn=<SigmoidBackward0>) loss: 1.6171321703950525e-06 model.layer1.weight.data: tensor([[-0.2206]]) model.layer1.bias.data tensor([0.0441])\n",
            "iter:24: y_prime: tensor([0.7589], grad_fn=<SigmoidBackward0>) loss: 1.1028658946088399e-06 model.layer1.weight.data: tensor([[-0.2208]]) model.layer1.bias.data tensor([0.0442])\n",
            "iter:25: y_prime: tensor([0.7591], grad_fn=<SigmoidBackward0>) loss: 7.52325149733224e-07 model.layer1.weight.data: tensor([[-0.2209]]) model.layer1.bias.data tensor([0.0442])\n",
            "iter:26: y_prime: tensor([0.7593], grad_fn=<SigmoidBackward0>) loss: 5.135537435307924e-07 model.layer1.weight.data: tensor([[-0.2210]]) model.layer1.bias.data tensor([0.0442])\n",
            "iter:27: y_prime: tensor([0.7594], grad_fn=<SigmoidBackward0>) loss: 3.506678467601887e-07 model.layer1.weight.data: tensor([[-0.2212]]) model.layer1.bias.data tensor([0.0442])\n",
            "iter:28: y_prime: tensor([0.7595], grad_fn=<SigmoidBackward0>) loss: 2.3946745386638213e-07 model.layer1.weight.data: tensor([[-0.2212]]) model.layer1.bias.data tensor([0.0442])\n",
            "iter:29: y_prime: tensor([0.7596], grad_fn=<SigmoidBackward0>) loss: 1.636017401551726e-07 model.layer1.weight.data: tensor([[-0.2213]]) model.layer1.bias.data tensor([0.0443])\n",
            "iter:30: y_prime: tensor([0.7597], grad_fn=<SigmoidBackward0>) loss: 1.1181136017057725e-07 model.layer1.weight.data: tensor([[-0.2214]]) model.layer1.bias.data tensor([0.0443])\n",
            "iter:31: y_prime: tensor([0.7597], grad_fn=<SigmoidBackward0>) loss: 7.638962529199489e-08 model.layer1.weight.data: tensor([[-0.2214]]) model.layer1.bias.data tensor([0.0443])\n",
            "iter:32: y_prime: tensor([0.7598], grad_fn=<SigmoidBackward0>) loss: 5.2223313673493976e-08 model.layer1.weight.data: tensor([[-0.2215]]) model.layer1.bias.data tensor([0.0443])\n",
            "iter:33: y_prime: tensor([0.7598], grad_fn=<SigmoidBackward0>) loss: 3.5700864486898354e-08 model.layer1.weight.data: tensor([[-0.2215]]) model.layer1.bias.data tensor([0.0443])\n",
            "iter:34: y_prime: tensor([0.7598], grad_fn=<SigmoidBackward0>) loss: 2.4405867549148752e-08 model.layer1.weight.data: tensor([[-0.2215]]) model.layer1.bias.data tensor([0.0443])\n",
            "iter:35: y_prime: tensor([0.7599], grad_fn=<SigmoidBackward0>) loss: 1.6698550098226406e-08 model.layer1.weight.data: tensor([[-0.2216]]) model.layer1.bias.data tensor([0.0443])\n",
            "iter:36: y_prime: tensor([0.7599], grad_fn=<SigmoidBackward0>) loss: 1.1408701539039612e-08 model.layer1.weight.data: tensor([[-0.2216]]) model.layer1.bias.data tensor([0.0443])\n",
            "iter:37: y_prime: tensor([0.7599], grad_fn=<SigmoidBackward0>) loss: 7.802910317877831e-09 model.layer1.weight.data: tensor([[-0.2216]]) model.layer1.bias.data tensor([0.0443])\n",
            "iter:38: y_prime: tensor([0.7599], grad_fn=<SigmoidBackward0>) loss: 5.331290964250002e-09 model.layer1.weight.data: tensor([[-0.2216]]) model.layer1.bias.data tensor([0.0443])\n",
            "iter:39: y_prime: tensor([0.7599], grad_fn=<SigmoidBackward0>) loss: 3.65288599368796e-09 model.layer1.weight.data: tensor([[-0.2216]]) model.layer1.bias.data tensor([0.0443])\n",
            "iter:40: y_prime: tensor([0.7600], grad_fn=<SigmoidBackward0>) loss: 2.494871864655579e-09 model.layer1.weight.data: tensor([[-0.2216]]) model.layer1.bias.data tensor([0.0443])\n",
            "iter:41: y_prime: tensor([0.7600], grad_fn=<SigmoidBackward0>) loss: 1.7061871915302618e-09 model.layer1.weight.data: tensor([[-0.2216]]) model.layer1.bias.data tensor([0.0443])\n",
            "iter:42: y_prime: tensor([0.7600], grad_fn=<SigmoidBackward0>) loss: 1.1664589294468897e-09 model.layer1.weight.data: tensor([[-0.2216]]) model.layer1.bias.data tensor([0.0443])\n",
            "iter:43: y_prime: tensor([0.7600], grad_fn=<SigmoidBackward0>) loss: 7.948450786443573e-10 model.layer1.weight.data: tensor([[-0.2216]]) model.layer1.bias.data tensor([0.0443])\n",
            "iter:44: y_prime: tensor([0.7600], grad_fn=<SigmoidBackward0>) loss: 5.459241947392002e-10 model.layer1.weight.data: tensor([[-0.2216]]) model.layer1.bias.data tensor([0.0443])\n",
            "iter:45: y_prime: tensor([0.7600], grad_fn=<SigmoidBackward0>) loss: 3.729496711457614e-10 model.layer1.weight.data: tensor([[-0.2217]]) model.layer1.bias.data tensor([0.0443])\n",
            "iter:46: y_prime: tensor([0.7600], grad_fn=<SigmoidBackward0>) loss: 2.551701072661672e-10 model.layer1.weight.data: tensor([[-0.2217]]) model.layer1.bias.data tensor([0.0443])\n",
            "iter:47: y_prime: tensor([0.7600], grad_fn=<SigmoidBackward0>) loss: 1.750919409460039e-10 model.layer1.weight.data: tensor([[-0.2217]]) model.layer1.bias.data tensor([0.0443])\n",
            "iter:48: y_prime: tensor([0.7600], grad_fn=<SigmoidBackward0>) loss: 1.1897682838934998e-10 model.layer1.weight.data: tensor([[-0.2217]]) model.layer1.bias.data tensor([0.0443])\n",
            "iter:49: y_prime: tensor([0.7600], grad_fn=<SigmoidBackward0>) loss: 8.100542459033022e-11 model.layer1.weight.data: tensor([[-0.2217]]) model.layer1.bias.data tensor([0.0443])\n"
          ]
        }
      ]
    },
    {
      "cell_type": "markdown",
      "metadata": {
        "id": "-dCpic0_XhKE"
      },
      "source": [
        "# Exercício 3\n",
        "\n",
        "Vamos agora escrever nosso próprio código para calcular os gradientes da rede apresentada acima.\n",
        "\n",
        "Para tanto, temos que primeiro implementar a classe Tensor, que é parecida com a classe Tensor do pytorch. Quando instanciada, o objeto resultante armazena o valor do tensor e uma referencia para o nó do grafo computacional que gerou os valores do tensor, quando houver. Com isso podemos construir percorrer o grafo computacional no sentido reverso, realizando o passo `backward` do algoritmo de backpropagation.\n",
        "\n",
        "Para simplificar a implementação, o gradiente também pode ser armazenado nesta variável. Com isso, podemos tratar os pesos da rede como Tensor's. Isso dispensa a necessidade de criarmos a classe Parameters, como é feito no pytorch."
      ]
    },
    {
      "cell_type": "code",
      "source": [
        "\n",
        "class Tensor():\n",
        "  def __init__(self, nome:str, data: float, previous_node=None, se_imp:bool=True, num_identacao:int=0):\n",
        "    super().__init__()  \n",
        "    self.nome = nome\n",
        "    self.data = data\n",
        "    self.previous_node = previous_node\n",
        "    self.grad = 0\n",
        "    self.se_imp = se_imp\n",
        "    if self.se_imp:\n",
        "      print(\"  \"*num_identacao+f\"Tensor().__init__ {self.descr} \")\n",
        "\n",
        "  def backward(self, upstream_grad: float = None, num_identacao:int=0):\n",
        "    if self.se_imp:\n",
        "      print(\"  \"*num_identacao+f\"Tensor().backward (entrando) - self.nome: {self.nome}, self.previous_node: {self.previous_node} upstream_grad: {upstream_grad}\")\n",
        "    # Esta vai sr uma chamada recursiva cujo critéria de parada é quando previous_node==None.\n",
        "    if upstream_grad is None:\n",
        "      upstream_grad = 1\n",
        "    if self.previous_node is None:\n",
        "      self.grad += upstream_grad * self.data\n",
        "    else:\n",
        "      self.previous_node.backward(upstream_grad, num_identacao = num_identacao+1)\n",
        "    if self.se_imp:\n",
        "      print(\"  \"*num_identacao+f\"Tensor().backward (saindo) {self.nome}: grad= {self.grad}\")\n",
        "\n",
        "  @property\n",
        "  def descr(self):\n",
        "    return f\"nome: {self.nome}; data: {self.data}; previous_node: {self.previous_node} grad: {self.grad}\"\n"
      ],
      "metadata": {
        "id": "T3vkPX65NYAS"
      },
      "execution_count": 47,
      "outputs": []
    },
    {
      "cell_type": "code",
      "source": [
        "def print_tensor(x:'Tensor'):\n",
        "  print(x.descr)"
      ],
      "metadata": {
        "id": "A4gQOqV6zekZ"
      },
      "execution_count": 35,
      "outputs": []
    },
    {
      "cell_type": "markdown",
      "source": [
        "A seguir, implementaremos as funções `forward` e `backward` de cada um dos nós do grafo acima, além do nó de subtração, que é usado pela função de custo.\n",
        "Vamos começar pelo nó da função sigmoid ($\\sigma$), cuja derivada é:\n",
        "\n",
        "$\\frac{\\delta\\sigma}{\\delta x} = \\sigma(x)(1-\\sigma(x))$"
      ],
      "metadata": {
        "id": "9PWNVg4wMS9t"
      }
    },
    {
      "cell_type": "code",
      "metadata": {
        "id": "Up1GixP9PFjG"
      },
      "source": [
        "class SigmoidNode():\n",
        "  def forward(self, x: Tensor, se_imp:bool=True, num_identacao:int=0)->float:\n",
        "    # SigmoidNode: Cálculo da sigmoide 1/(1 + e^-x)\n",
        "    self.x = x \n",
        "    exp = math.exp(x.data * -1)\n",
        "    self.se_imp = se_imp\n",
        "    val = 1/(1 + exp)\n",
        "    self.saida = Tensor(\"o(\"+x.nome+\")\", val, self, se_imp=se_imp, num_identacao = num_identacao)    \n",
        "    if self.se_imp:\n",
        "      print(\"  \"*num_identacao+f\"SigmoidNode().forward: o({self.x.data}) resultado: {self.saida.descr}\")\n",
        "    return self.saida\n",
        "\n",
        "  def backward(self, upstream_grad: float, num_identacao:int=0):\n",
        "    # SigmoidNode().backward - cálculo do gradiente em relação a x: (1 – θ(x)) * θ(x)\n",
        "    if self.se_imp:\n",
        "      print(\"  \"*num_identacao+f\"SigmoidNode().backward (entrando) - upstream_grad: {upstream_grad} :: o({self.saida.nome}) \")\n",
        "    if upstream_grad is None:\n",
        "      upstream_grad = 1\n",
        "    gradiente_local_x = (1 -  self.saida.data) * self.saida.data\n",
        "    if self.se_imp:\n",
        "      print(\"  \"*num_identacao+f\"SigmoidNode().backward  (saindo) - A seguir sobre parm.backward : {self.x.data} :: o({self.saida.nome}) \")\n",
        "    self.x.backward(gradiente_local_x * upstream_grad, num_identacao = num_identacao+1)\n"
      ],
      "execution_count": 36,
      "outputs": []
    },
    {
      "cell_type": "markdown",
      "metadata": {
        "id": "BWxNzGVZXvU7"
      },
      "source": [
        "Implementamos agora o `forward` e `backward` do nó da soma $z = x + y$, cujas derivadas parciais em relação a cada entrada $x$ e $y$ são:\n",
        "\n",
        "$\\frac{\\delta z}{\\delta x} = 1$\n",
        "\n",
        "$\\frac{\\delta z}{\\delta y} = 1$"
      ]
    },
    {
      "cell_type": "code",
      "metadata": {
        "id": "iiGB3rhaXvxC"
      },
      "source": [
        "class AddNode():\n",
        "  def forward(self, x: Tensor, y: Tensor, se_imp:bool=True, num_identacao:int=0)->float:\n",
        "    \"\"\"\n",
        "    AddNode: Cálculo da adição\n",
        "    \"\"\"\n",
        "    self.x = x \n",
        "    self.y = y \n",
        "    self.se_imp = se_imp\n",
        "    self.saida = Tensor(\"+(\"+self.x.nome +\",\" + self.y.nome+\")\", self.x.data + self.y.data, self, se_imp=se_imp, num_identacao = num_identacao)  \n",
        "    if self.se_imp:\n",
        "      print(\"  \"*num_identacao+f\"Saindo AddNode().forward: +({self.x.data},{self.y.data}) resultado: {self.saida.descr}\")\n",
        "    return self.saida     \n",
        "\n",
        "  def backward(self, upstream_grad: float, num_identacao:int=0):\n",
        "    \"\"\"\n",
        "    A operação de soma tem o objetivo de ser um \"distribuidor\", logo a derivada de z /derivada de x = 1 \n",
        "      basta então, multiplicar 1 (gradiente local) pelo gradiente da frente.\n",
        "    AddNode().backward - cálculo do gradiente em relação a x: (1 – θ(x)) * θ(x)\n",
        "    \"\"\"\n",
        "    if self.se_imp:\n",
        "      print(\"  \"*num_identacao+f\"AddNode().backward (entrando) {self.saida.nome} [+({self.x.data},{self.y.data})] - upstream_grad: {upstream_grad} :: {self.saida.nome}\")\n",
        "    if upstream_grad is None:\n",
        "      upstream_grad = 1\n",
        "    gradiente_local_x = 1\n",
        "    gradiente_local_y = 1\n",
        "    if self.se_imp:\n",
        "      print(\"  \"*num_identacao+f\"AddNode().backward [+({self.x.data},{self.y.data})] - A seguir sobre parm1.backward: {self.x.data} :: {self.saida.nome}\")\n",
        "    self.x.backward(gradiente_local_x * upstream_grad, num_identacao = num_identacao+1)\n",
        "    if self.se_imp:\n",
        "      print(\"  \"*num_identacao+f\"AddNode().backward [+({self.x.data},{self.y.data})] - A seguir sobre parm2.backward: {self.y.data} :: {self.saida.nome}\")\n",
        "    self.y.backward(gradiente_local_y * upstream_grad, num_identacao = num_identacao+1)\n",
        "  "
      ],
      "execution_count": 37,
      "outputs": []
    },
    {
      "cell_type": "markdown",
      "source": [
        "Implementamos agora o `forward` e `backward` do nó da subtração $z = x - y$, cujas derivadas parciais em relação a cada entrada $x$ e $y$ são:\n",
        "\n",
        "$\\frac{\\delta z}{\\delta x} = 1$\n",
        "\n",
        "$\\frac{\\delta z}{\\delta y} = -1$"
      ],
      "metadata": {
        "id": "-XbKz0z0VfdC"
      }
    },
    {
      "cell_type": "code",
      "source": [
        "class SubNode():\n",
        "  def forward(self, x: Tensor, y: Tensor, se_imp:bool=True, num_identacao:int=0)->float:\n",
        "    # SubNode: Cálculo da adição\n",
        "    self.x = x \n",
        "    self.y = y \n",
        "    self.se_imp = se_imp\n",
        "    self.saida = Tensor(\"-(\"+self.x.nome+\",\"+self.y.nome+\")\", self.x.data - self.y.data, self, se_imp=se_imp, num_identacao = num_identacao)    \n",
        "    if self.se_imp:\n",
        "      print(\"  \"*num_identacao+f\"Saindo SubNode().forward: -({self.x.data},{self.y.data}) resultado: {self.saida.descr}\")\n",
        "    return self.saida     \n",
        "    \n",
        "  def backward(self, upstream_grad: float, num_identacao:int=0):\n",
        "    \"\"\"\n",
        "    A operação de soma tem o objetivo de ser um \"distribuidor\", logo a derivada de z /derivada de x = 1 \n",
        "      basta então, multiplicar 1 (gradiente local) pelo gradiente da frente.\n",
        "    SubNode().backward - cálculo do gradiente em relação a x: (1 – θ(x)) * θ(x)\n",
        "    \"\"\"\n",
        "    if self.se_imp:\n",
        "      print(\"  \"*num_identacao+f\"SubNode().backward (entrando) [-({self.x.data},{self.y.data})] - upstream_grad: {upstream_grad} :: {self.saida.nome}\")\n",
        "    if upstream_grad is None:\n",
        "      upstream_grad = 1\n",
        "    gradiente_local_x = 1\n",
        "    gradiente_local_y = -1\n",
        "    if self.se_imp:\n",
        "      print(\"  \"*num_identacao+f\"SubNode().backward [-({self.x.data},{self.y.data})] - A seguir sobre parm1.backward: {self.x.data} :: {self.saida.nome}\")\n",
        "    self.x.backward(gradiente_local_x * upstream_grad, num_identacao = num_identacao+1)\n",
        "    if self.se_imp:\n",
        "      print(\"  \"*num_identacao+f\"SubNode().backward [-({self.x.data},{self.y.data})] - A seguir sobre parm2.backward: {self.y.data} :: {self.saida.nome}\")\n",
        "    self.y.backward(gradiente_local_y * upstream_grad, num_identacao = num_identacao+1)"
      ],
      "metadata": {
        "id": "ztsGOWudV3X7"
      },
      "execution_count": 38,
      "outputs": []
    },
    {
      "cell_type": "markdown",
      "metadata": {
        "id": "HSEUWtP_qSqW"
      },
      "source": [
        "Implementamos agora o `forward` e `backward` do nó da multiplicação $z = xy$, cujas derivadas parciais em relação a cada entrada $x$ e $y$ são:\n",
        "\n",
        "$\\frac{\\delta z}{\\delta x} = y$\n",
        "\n",
        "$\\frac{\\delta z}{\\delta y} = x$"
      ]
    },
    {
      "cell_type": "code",
      "metadata": {
        "id": "BWzSxUU-Zlel"
      },
      "source": [
        "class MulNode():\n",
        "  def forward(self, x: Tensor, y: Tensor, se_imp:bool=True, num_identacao:int=0)->float:\n",
        "    \"\"\"\n",
        "    MulNode: Cálculo da adição\n",
        "    \"\"\"\n",
        "    self.x = x \n",
        "    self.y = y \n",
        "    self.se_imp = se_imp\n",
        "    self.saida = Tensor(\"*(\"+self.x.nome +\",\" + self.y.nome+\")\", self.x.data * self.y.data, self, se_imp=se_imp, num_identacao = num_identacao)\n",
        "    if self.se_imp:\n",
        "      print(\"  \"*num_identacao+f\"Saindo MulNode().forward: *({self.x.data},{self.y.data}) resultado: {self.saida.descr}\")\n",
        "    return self.saida     \n",
        "    \n",
        "  def backward(self, upstream_grad: float, num_identacao:int=0):\n",
        "    \"\"\"\n",
        "    A operação de soma tem o objetivo de ser um \"distribuidor\", logo a derivada de z /derivada de x = 1 \n",
        "      basta então, multiplicar 1 (gradiente local) pelo gradiente da frente.\n",
        "    MulNode().backward - cálculo do gradiente em relação a x: (1 – θ(x)) * θ(x)\n",
        "    \"\"\"\n",
        "    if self.se_imp:\n",
        "      print(\"  \"*num_identacao+f\"MulNode().backward (entrando) [*({self.x.data},{self.y.data})] - upstream_grad: {upstream_grad} :: {self.saida.nome}\")\n",
        "    if upstream_grad is None:\n",
        "      upstream_grad = 1\n",
        "    gradiente_local_x = self.y.data\n",
        "    gradiente_local_y = self.x.data\n",
        "    if self.se_imp:\n",
        "      print(\"  \"*num_identacao+f\"MulNode().backward [*({self.x.data},{self.y.data})] - A seguir sobre parm1.backward: {self.x.data} :: {self.saida.nome}\")\n",
        "    self.x.backward(gradiente_local_x * upstream_grad, num_identacao = num_identacao+1)\n",
        "    if self.se_imp:\n",
        "      print(\"  \"*num_identacao+f\"MulNode().backward [*({self.x.data},{self.y.data})] - A seguir sobre parm2.backward: {self.y.data} :: {self.saida.nome}\")\n",
        "    self.y.backward(gradiente_local_y * upstream_grad, num_identacao = num_identacao+1) "
      ],
      "execution_count": 39,
      "outputs": []
    },
    {
      "cell_type": "markdown",
      "metadata": {
        "id": "61FgtL-6Z0y2"
      },
      "source": [
        "Agora que temos todos os nós implementados, podemos implementar as funções `forward` e `backward` de uma camada não-linear."
      ]
    },
    {
      "cell_type": "code",
      "metadata": {
        "id": "o1N4eVVMaCIP"
      },
      "source": [
        "class NonLinear():\n",
        "  def __init__(self, init_w:Tensor=Tensor('model.w', 1,se_imp=False, num_identacao = 1), init_b:Tensor=Tensor('model.b', 1,se_imp=False, num_identacao = 1), se_imp:bool=True):\n",
        "    super().__init__()  \n",
        "    self.se_imp = se_imp\n",
        "    if self.se_imp:\n",
        "      print(f\"NonLinear().init\")      \n",
        "    # Inicializa os pesos w e b em zero.\n",
        "    self._w = init_w\n",
        "    self._b = init_b\n",
        "\n",
        "  @property\n",
        "  def parametros(self)->list:\n",
        "    return [self._w, self._b]\n",
        "\n",
        "  @property\n",
        "  def w(self)->Tensor:\n",
        "    return self._w\n",
        "\n",
        "  @property\n",
        "  def b(self)->Tensor:\n",
        "    return self._b\n",
        "\n",
        "  @property\n",
        "  def parametros_valores(self)->str:\n",
        "    return f\"w: {self._w.data}, b: {self._b.data}\"\n",
        "\n",
        "  def forward(self, x: Tensor)->float:\n",
        "    if self.se_imp:\n",
        "      print(f\"NonLinear().forward (entrando) {x.descr}\")      \n",
        "    result = SigmoidNode().forward(AddNode().forward(MulNode().forward(self._w, x, se_imp=self.se_imp, num_identacao = 3), self._b, se_imp=self.se_imp, num_identacao = 2), se_imp=self.se_imp, num_identacao = 1)\n",
        "    if self.se_imp:\n",
        "      print(f\"NonLinear().forward: resultado: {result.descr}\")\n",
        "    return result"
      ],
      "execution_count": 40,
      "outputs": []
    },
    {
      "cell_type": "markdown",
      "metadata": {
        "id": "IIb90Wu1aGB3"
      },
      "source": [
        "Para treinar esta rede, usaremos a função de custo Mean Squared Error (MSE):\n",
        "\n",
        "$L = (y_\\text{pred} - y_\\text{target})^2$\n",
        "\n",
        "Como por simplicidade optamos por não criar o nó de exponenciação, iremos substituir a operação de elevar ao quadrado pela multiplicacão das diferenças:\n",
        "$L = (y_\\text{pred} - y_\\text{target}) * (y_\\text{pred} - y_\\text{target})$\n"
      ]
    },
    {
      "cell_type": "code",
      "metadata": {
        "id": "prm0OP27pynW"
      },
      "source": [
        "def compute_loss(y_target: Tensor, y_pred: Tensor, se_imp:bool=True):\n",
        "  if se_imp:\n",
        "    print(f\"\\ncompute_loss (entrando): {y_target.descr} x {y_pred.descr}\")\n",
        "  result = MulNode().forward(SubNode().forward(y_target, y_pred, se_imp=se_imp, num_identacao = 2), SubNode().forward(y_target, y_pred, se_imp=se_imp, num_identacao = 2), se_imp=se_imp, num_identacao = 1)\n",
        "  if se_imp:\n",
        "    print(f\"compute_loss saindo: resultado: {result.descr} \\n\")\n",
        "  return result"
      ],
      "execution_count": 41,
      "outputs": []
    },
    {
      "cell_type": "markdown",
      "source": [
        "Também precisamos criar a classe do optimizador SGD, para atualizar os pesos da rede."
      ],
      "metadata": {
        "id": "12HHy6jV6bfc"
      }
    },
    {
      "cell_type": "code",
      "source": [
        "class SGD():\n",
        "  def __init__(self, parameters: List[Tensor], learning_rate: float, se_imp:bool=True):\n",
        "    super().__init__()     \n",
        "    self.se_imp = se_imp\n",
        "    if self.se_imp:\n",
        "      print(f\"SGD().init parameters: {[parm.nome for parm in parameters]} learning_rate: {learning_rate}\")      \n",
        "    self.parameters = parameters\n",
        "    self.learning_rate = learning_rate   \n",
        "\n",
        "  def step(self):\n",
        "    if self.se_imp:\n",
        "      print(f\"SGD().step \")      \n",
        "    for parameter in self.parameters:\n",
        "      parameter.data = parameter.data - learning_rate * parameter.grad\n",
        "\n",
        "  def zero_grad(self):\n",
        "    if self.se_imp:\n",
        "      print(f\"SGD().zero_grad \")      \n",
        "    for parameter in self.parameters:\n",
        "      parameter.grad = 0"
      ],
      "metadata": {
        "id": "4R8_Qyfj6avq"
      },
      "execution_count": 42,
      "outputs": []
    },
    {
      "cell_type": "markdown",
      "metadata": {
        "id": "plTCBJWjpwCp"
      },
      "source": [
        "Por fim, vamos aprender os pesos `w` e `b` para mapear um valor de entrada $x$ para um valor de saída $y_\\text{target}$. Para isso, inicializamos o grafo da rede e rodamos o laço de optimização, que vai aplicar a descida do gradiente a cada iteração:"
      ]
    },
    {
      "cell_type": "markdown",
      "source": [
        "### Visualizando log do cálculo\n"
      ],
      "metadata": {
        "id": "OaNHirnh9yHC"
      }
    },
    {
      "cell_type": "code",
      "source": [
        "se_imprime_calculo=True"
      ],
      "metadata": {
        "id": "LUenj7PY9wNa"
      },
      "execution_count": 44,
      "outputs": []
    },
    {
      "cell_type": "code",
      "metadata": {
        "id": "rp5ttTsGaPmA",
        "colab": {
          "base_uri": "https://localhost:8080/"
        },
        "outputId": "12f4f92d-00d4-4551-e0cf-64f73653d271"
      },
      "source": [
        "model = NonLinear(se_imp=se_imprime_calculo)"
      ],
      "execution_count": 52,
      "outputs": [
        {
          "output_type": "stream",
          "name": "stdout",
          "text": [
            "NonLinear().init\n"
          ]
        }
      ]
    },
    {
      "cell_type": "code",
      "source": [
        "# optimizer = SGD(parameters=[model.w, model.b], learning_rate=learning_rate)\n",
        "learning_rate = 0.1\n",
        "optimizer = SGD(parameters=model.parametros, learning_rate=learning_rate, se_imp=se_imprime_calculo)\n",
        "x = Tensor('x', -5, se_imp=se_imprime_calculo)\n",
        "y_target = Tensor('y_target', 0.76,se_imp=se_imprime_calculo)"
      ],
      "metadata": {
        "colab": {
          "base_uri": "https://localhost:8080/"
        },
        "id": "EBLcBYvkrKTK",
        "outputId": "24ed1f7b-2958-44be-833a-658920aa75c7"
      },
      "execution_count": 53,
      "outputs": [
        {
          "output_type": "stream",
          "name": "stdout",
          "text": [
            "SGD().init parameters: ['model.w', 'model.b'] learning_rate: 0.1\n",
            "Tensor().__init__ nome: x; data: -5; previous_node: None grad: 0 \n",
            "Tensor().__init__ nome: y_target; data: 0.76; previous_node: None grad: 0 \n"
          ]
        }
      ]
    },
    {
      "cell_type": "code",
      "source": [
        "optimizer.zero_grad()\n",
        "# Roda a um passo forward do modelo.\n",
        "y_pred = model.forward(x)\n",
        "# Calcula o gradiente do erro, data a predição do modelo.\n",
        "loss = compute_loss(y_target=y_target, y_pred=y_pred, se_imp=se_imprime_calculo)\n",
        "# Calcula agora os gradientes de w e b usando a função backward do modelo.\n"
      ],
      "metadata": {
        "colab": {
          "base_uri": "https://localhost:8080/"
        },
        "id": "OPBQtGDn-FQh",
        "outputId": "44f2c16c-fbc7-4b33-db62-ab6704dacc9e"
      },
      "execution_count": 54,
      "outputs": [
        {
          "output_type": "stream",
          "name": "stdout",
          "text": [
            "SGD().zero_grad \n",
            "NonLinear().forward (entrando) nome: x; data: -5; previous_node: None grad: 0\n",
            "      Tensor().__init__ nome: *(model.w,x); data: -5; previous_node: <__main__.MulNode object at 0x7f25defdcdd0> grad: 0 \n",
            "      Saindo MulNode().forward: *(1,-5) resultado: nome: *(model.w,x); data: -5; previous_node: <__main__.MulNode object at 0x7f25defdcdd0> grad: 0\n",
            "    Tensor().__init__ nome: +(*(model.w,x),model.b); data: -4; previous_node: <__main__.AddNode object at 0x7f25defdc050> grad: 0 \n",
            "    Saindo AddNode().forward: +(-5,1) resultado: nome: +(*(model.w,x),model.b); data: -4; previous_node: <__main__.AddNode object at 0x7f25defdc050> grad: 0\n",
            "  Tensor().__init__ nome: o(+(*(model.w,x),model.b)); data: 0.01798620996209156; previous_node: <__main__.SigmoidNode object at 0x7f25defdcf50> grad: 0 \n",
            "  SigmoidNode().forward: o(-4) resultado: nome: o(+(*(model.w,x),model.b)); data: 0.01798620996209156; previous_node: <__main__.SigmoidNode object at 0x7f25defdcf50> grad: 0\n",
            "NonLinear().forward: resultado: nome: o(+(*(model.w,x),model.b)); data: 0.01798620996209156; previous_node: <__main__.SigmoidNode object at 0x7f25defdcf50> grad: 0\n",
            "\n",
            "compute_loss (entrando): nome: y_target; data: 0.76; previous_node: None grad: 0 x nome: o(+(*(model.w,x),model.b)); data: 0.01798620996209156; previous_node: <__main__.SigmoidNode object at 0x7f25defdcf50> grad: 0\n",
            "    Tensor().__init__ nome: -(y_target,o(+(*(model.w,x),model.b))); data: 0.7420137900379085; previous_node: <__main__.SubNode object at 0x7f25dc5873d0> grad: 0 \n",
            "    Saindo SubNode().forward: -(0.76,0.01798620996209156) resultado: nome: -(y_target,o(+(*(model.w,x),model.b))); data: 0.7420137900379085; previous_node: <__main__.SubNode object at 0x7f25dc5873d0> grad: 0\n",
            "    Tensor().__init__ nome: -(y_target,o(+(*(model.w,x),model.b))); data: 0.7420137900379085; previous_node: <__main__.SubNode object at 0x7f25dc587890> grad: 0 \n",
            "    Saindo SubNode().forward: -(0.76,0.01798620996209156) resultado: nome: -(y_target,o(+(*(model.w,x),model.b))); data: 0.7420137900379085; previous_node: <__main__.SubNode object at 0x7f25dc587890> grad: 0\n",
            "  Tensor().__init__ nome: *(-(y_target,o(+(*(model.w,x),model.b))),-(y_target,o(+(*(model.w,x),model.b)))); data: 0.5505844646064213; previous_node: <__main__.MulNode object at 0x7f25dc587b10> grad: 0 \n",
            "  Saindo MulNode().forward: *(0.7420137900379085,0.7420137900379085) resultado: nome: *(-(y_target,o(+(*(model.w,x),model.b))),-(y_target,o(+(*(model.w,x),model.b)))); data: 0.5505844646064213; previous_node: <__main__.MulNode object at 0x7f25dc587b10> grad: 0\n",
            "compute_loss saindo: resultado: nome: *(-(y_target,o(+(*(model.w,x),model.b))),-(y_target,o(+(*(model.w,x),model.b)))); data: 0.5505844646064213; previous_node: <__main__.MulNode object at 0x7f25dc587b10> grad: 0 \n",
            "\n"
          ]
        }
      ]
    },
    {
      "cell_type": "code",
      "source": [
        "loss.backward()\n"
      ],
      "metadata": {
        "colab": {
          "base_uri": "https://localhost:8080/"
        },
        "id": "b6y-RJba-XXB",
        "outputId": "612e934c-1089-46e4-9db1-de4f2de65f62"
      },
      "execution_count": 55,
      "outputs": [
        {
          "output_type": "stream",
          "name": "stdout",
          "text": [
            "Tensor().backward (entrando) - self.nome: *(-(y_target,o(+(*(model.w,x),model.b))),-(y_target,o(+(*(model.w,x),model.b)))), self.previous_node: <__main__.MulNode object at 0x7f25dc587b10> upstream_grad: None\n",
            "  MulNode().backward (entrando) [*(0.7420137900379085,0.7420137900379085)] - upstream_grad: 1 :: *(-(y_target,o(+(*(model.w,x),model.b))),-(y_target,o(+(*(model.w,x),model.b))))\n",
            "  MulNode().backward [*(0.7420137900379085,0.7420137900379085)] - A seguir sobre parm1.backward: 0.7420137900379085 :: *(-(y_target,o(+(*(model.w,x),model.b))),-(y_target,o(+(*(model.w,x),model.b))))\n",
            "    Tensor().backward (entrando) - self.nome: -(y_target,o(+(*(model.w,x),model.b))), self.previous_node: <__main__.SubNode object at 0x7f25dc5873d0> upstream_grad: 0.7420137900379085\n",
            "      SubNode().backward (entrando) [-(0.76,0.01798620996209156)] - upstream_grad: 0.7420137900379085 :: -(y_target,o(+(*(model.w,x),model.b)))\n",
            "      SubNode().backward [-(0.76,0.01798620996209156)] - A seguir sobre parm1.backward: 0.76 :: -(y_target,o(+(*(model.w,x),model.b)))\n",
            "        Tensor().backward (entrando) - self.nome: y_target, self.previous_node: None upstream_grad: 0.7420137900379085\n",
            "        Tensor().backward (saindo) y_target: grad= 0.5639304804288104\n",
            "      SubNode().backward [-(0.76,0.01798620996209156)] - A seguir sobre parm2.backward: 0.01798620996209156 :: -(y_target,o(+(*(model.w,x),model.b)))\n",
            "        Tensor().backward (entrando) - self.nome: o(+(*(model.w,x),model.b)), self.previous_node: <__main__.SigmoidNode object at 0x7f25defdcf50> upstream_grad: -0.7420137900379085\n",
            "          SigmoidNode().backward (entrando) - upstream_grad: -0.7420137900379085 :: o(o(+(*(model.w,x),model.b))) \n",
            "          SigmoidNode().backward  (saindo) - A seguir sobre parm.backward : -4 :: o(o(+(*(model.w,x),model.b))) \n",
            "            Tensor().backward (entrando) - self.nome: +(*(model.w,x),model.b), self.previous_node: <__main__.AddNode object at 0x7f25defdc050> upstream_grad: -0.013105971579650256\n",
            "              AddNode().backward (entrando) +(*(model.w,x),model.b) [+(-5,1)] - upstream_grad: -0.013105971579650256 :: +(*(model.w,x),model.b)\n",
            "              AddNode().backward [+(-5,1)] - A seguir sobre parm1.backward: -5 :: +(*(model.w,x),model.b)\n",
            "                Tensor().backward (entrando) - self.nome: *(model.w,x), self.previous_node: <__main__.MulNode object at 0x7f25defdcdd0> upstream_grad: -0.013105971579650256\n",
            "                  MulNode().backward (entrando) [*(1,-5)] - upstream_grad: -0.013105971579650256 :: *(model.w,x)\n",
            "                  MulNode().backward [*(1,-5)] - A seguir sobre parm1.backward: 1 :: *(model.w,x)\n",
            "                  MulNode().backward [*(1,-5)] - A seguir sobre parm2.backward: -5 :: *(model.w,x)\n",
            "                    Tensor().backward (entrando) - self.nome: x, self.previous_node: None upstream_grad: -0.013105971579650256\n",
            "                    Tensor().backward (saindo) x: grad= 0.06552985789825128\n",
            "                Tensor().backward (saindo) *(model.w,x): grad= 0\n",
            "              AddNode().backward [+(-5,1)] - A seguir sobre parm2.backward: 1 :: +(*(model.w,x),model.b)\n",
            "            Tensor().backward (saindo) +(*(model.w,x),model.b): grad= 0\n",
            "        Tensor().backward (saindo) o(+(*(model.w,x),model.b)): grad= 0\n",
            "    Tensor().backward (saindo) -(y_target,o(+(*(model.w,x),model.b))): grad= 0\n",
            "  MulNode().backward [*(0.7420137900379085,0.7420137900379085)] - A seguir sobre parm2.backward: 0.7420137900379085 :: *(-(y_target,o(+(*(model.w,x),model.b))),-(y_target,o(+(*(model.w,x),model.b))))\n",
            "    Tensor().backward (entrando) - self.nome: -(y_target,o(+(*(model.w,x),model.b))), self.previous_node: <__main__.SubNode object at 0x7f25dc587890> upstream_grad: 0.7420137900379085\n",
            "      SubNode().backward (entrando) [-(0.76,0.01798620996209156)] - upstream_grad: 0.7420137900379085 :: -(y_target,o(+(*(model.w,x),model.b)))\n",
            "      SubNode().backward [-(0.76,0.01798620996209156)] - A seguir sobre parm1.backward: 0.76 :: -(y_target,o(+(*(model.w,x),model.b)))\n",
            "        Tensor().backward (entrando) - self.nome: y_target, self.previous_node: None upstream_grad: 0.7420137900379085\n",
            "        Tensor().backward (saindo) y_target: grad= 1.1278609608576209\n",
            "      SubNode().backward [-(0.76,0.01798620996209156)] - A seguir sobre parm2.backward: 0.01798620996209156 :: -(y_target,o(+(*(model.w,x),model.b)))\n",
            "        Tensor().backward (entrando) - self.nome: o(+(*(model.w,x),model.b)), self.previous_node: <__main__.SigmoidNode object at 0x7f25defdcf50> upstream_grad: -0.7420137900379085\n",
            "          SigmoidNode().backward (entrando) - upstream_grad: -0.7420137900379085 :: o(o(+(*(model.w,x),model.b))) \n",
            "          SigmoidNode().backward  (saindo) - A seguir sobre parm.backward : -4 :: o(o(+(*(model.w,x),model.b))) \n",
            "            Tensor().backward (entrando) - self.nome: +(*(model.w,x),model.b), self.previous_node: <__main__.AddNode object at 0x7f25defdc050> upstream_grad: -0.013105971579650256\n",
            "              AddNode().backward (entrando) +(*(model.w,x),model.b) [+(-5,1)] - upstream_grad: -0.013105971579650256 :: +(*(model.w,x),model.b)\n",
            "              AddNode().backward [+(-5,1)] - A seguir sobre parm1.backward: -5 :: +(*(model.w,x),model.b)\n",
            "                Tensor().backward (entrando) - self.nome: *(model.w,x), self.previous_node: <__main__.MulNode object at 0x7f25defdcdd0> upstream_grad: -0.013105971579650256\n",
            "                  MulNode().backward (entrando) [*(1,-5)] - upstream_grad: -0.013105971579650256 :: *(model.w,x)\n",
            "                  MulNode().backward [*(1,-5)] - A seguir sobre parm1.backward: 1 :: *(model.w,x)\n",
            "                  MulNode().backward [*(1,-5)] - A seguir sobre parm2.backward: -5 :: *(model.w,x)\n",
            "                    Tensor().backward (entrando) - self.nome: x, self.previous_node: None upstream_grad: -0.013105971579650256\n",
            "                    Tensor().backward (saindo) x: grad= 0.13105971579650255\n",
            "                Tensor().backward (saindo) *(model.w,x): grad= 0\n",
            "              AddNode().backward [+(-5,1)] - A seguir sobre parm2.backward: 1 :: +(*(model.w,x),model.b)\n",
            "            Tensor().backward (saindo) +(*(model.w,x),model.b): grad= 0\n",
            "        Tensor().backward (saindo) o(+(*(model.w,x),model.b)): grad= 0\n",
            "    Tensor().backward (saindo) -(y_target,o(+(*(model.w,x),model.b))): grad= 0\n",
            "Tensor().backward (saindo) *(-(y_target,o(+(*(model.w,x),model.b))),-(y_target,o(+(*(model.w,x),model.b)))): grad= 0\n"
          ]
        }
      ]
    },
    {
      "cell_type": "code",
      "source": [
        "# Atualiza os pesos w e b usando os seus respectivos gradientes.\n",
        "optimizer.step()\n",
        "print(f' y_prime: {y_pred.data} loss: {loss.data} model.parametros_valores: {model.parametros_valores}\\n\\n') "
      ],
      "metadata": {
        "colab": {
          "base_uri": "https://localhost:8080/"
        },
        "id": "97FfFlBa-un6",
        "outputId": "076b09cf-53cc-48ba-c0d4-ab03343eb7cb"
      },
      "execution_count": 56,
      "outputs": [
        {
          "output_type": "stream",
          "name": "stdout",
          "text": [
            "SGD().step \n",
            " y_prime: 0.01798620996209156 loss: 0.5505844646064213 model.parametros_valores: w: 0.9868940284203498, b: 1.00262119431593\n",
            "\n",
            "\n"
          ]
        }
      ]
    },
    {
      "cell_type": "markdown",
      "source": [
        "### Cálculo efetivo"
      ],
      "metadata": {
        "id": "4G0OtNTM96OR"
      }
    },
    {
      "cell_type": "code",
      "source": [
        "def inicia_hparam()->dict:\n",
        "  # Inicialização dos parâmetros\n",
        "  hparam = {}\n",
        "  hparam['max_epochs'] = 50\n",
        "  hparam[\"learning_rate\"] = 0.1 \n",
        "  hparam[\"device\"] = 'cpu'\n",
        "  hparam[\"loss\"] = 'mse'\n",
        "  return hparam"
      ],
      "metadata": {
        "id": "UJxfbf1G-_iX"
      },
      "execution_count": 65,
      "outputs": []
    },
    {
      "cell_type": "code",
      "source": [
        "hparam=inicia_hparam()"
      ],
      "metadata": {
        "id": "HfWKlq_W_Ljo"
      },
      "execution_count": 66,
      "outputs": []
    },
    {
      "cell_type": "code",
      "source": [
        "se_imprime_calculo=False"
      ],
      "metadata": {
        "id": "VoWgU3rY9_iR"
      },
      "execution_count": 67,
      "outputs": []
    },
    {
      "cell_type": "code",
      "metadata": {
        "id": "XE9jJkgQ9_iS"
      },
      "source": [
        "model = NonLinear(se_imp=se_imprime_calculo)"
      ],
      "execution_count": 68,
      "outputs": []
    },
    {
      "cell_type": "code",
      "source": [
        "# optimizer = SGD(parameters=[model.w, model.b], learning_rate=learning_rate)\n",
        "hparam['learning_rate'] = 0.1\n",
        "optimizer = SGD(parameters=model.parametros, learning_rate=hparam['learning_rate'], se_imp=se_imprime_calculo)\n"
      ],
      "metadata": {
        "id": "VU7sMXaN9_iS"
      },
      "execution_count": 69,
      "outputs": []
    },
    {
      "cell_type": "code",
      "source": [
        "x = Tensor('x', -5, se_imp=se_imprime_calculo)\n",
        "y_target = Tensor('y_target', 0.76,se_imp=se_imprime_calculo)"
      ],
      "metadata": {
        "id": "G9wHTJYN_V6g"
      },
      "execution_count": 70,
      "outputs": []
    },
    {
      "cell_type": "code",
      "source": [
        "rastro_neptune = NeptuneRastroRun(hparam, parm_lista_tag=[\"exercicio 3\", \"nao_linear_sigmoid_sobre_linear\"]) "
      ],
      "metadata": {
        "colab": {
          "base_uri": "https://localhost:8080/"
        },
        "id": "XhY5dmcL8l9s",
        "outputId": "0e845351-81b5-4d4c-8a51-db1717206a92"
      },
      "execution_count": 71,
      "outputs": [
        {
          "output_type": "stream",
          "name": "stdout",
          "text": [
            "https://app.neptune.ai/marcusborela/IA025/e/COUNTXEMBE-12\n",
            "Remember to stop your run once you’ve finished logging your metadata (https://docs.neptune.ai/api-reference/run#.stop). It will be stopped automatically only when the notebook kernel/interactive console is terminated.\n"
          ]
        }
      ]
    },
    {
      "cell_type": "code",
      "source": [
        "num_iterations = 50\n",
        "for i in range(num_iterations):\n",
        "    # Zera os gradientes dos passo anterior.\n",
        "    optimizer.zero_grad()\n",
        "    # Roda a um passo forward do modelo.\n",
        "    y_pred = model.forward(x)\n",
        "    # Calcula o gradiente do erro, data a predição do modelo.\n",
        "    loss = compute_loss(y_target=y_target, y_pred=y_pred, se_imp=se_imprime_calculo)\n",
        "    # Calcula agora os gradientes de w e b usando a função backward do modelo.\n",
        "    loss.backward()\n",
        "    # Atualiza os pesos w e b usando os seus respectivos gradientes.\n",
        "    optimizer.step()\n",
        "    # salva no rastro\n",
        "    metrica_rastro = {\"train/loss\": loss.data}  \n",
        "    rastro_neptune.salva_metrica(metrica_rastro)    \n",
        "    print(f'iter:{i}: y_prime: {y_pred.data} loss: {loss.data} model.parametros_valores: {model.parametros_valores}')  \n"
      ],
      "metadata": {
        "colab": {
          "base_uri": "https://localhost:8080/"
        },
        "id": "GMRBJB4N9BgK",
        "outputId": "70593ca2-72ee-4e38-fc02-e7925705380a"
      },
      "execution_count": 72,
      "outputs": [
        {
          "output_type": "stream",
          "name": "stdout",
          "text": [
            "iter:0: y_prime: 0.01923032949156516 loss: 0.5487397047451752 model.parametros_valores: w: 0.9731058318454238, b: 1.005422779434353\n",
            "\n",
            "\n",
            "iter:1: y_prime: 0.020631147660025627 loss: 0.5466662998105308 model.parametros_valores: w: 0.9585682925615381, b: 1.008426845934545\n",
            "\n",
            "\n",
            "iter:2: y_prime: 0.02221733422913641 loss: 0.5443232619119618 model.parametros_valores: w: 0.9432049473633614, b: 1.0116593354423713\n",
            "\n",
            "\n",
            "iter:3: y_prime: 0.024024451681662815 loss: 0.5416600077224771 model.parametros_valores: w: 0.9269284153227886, b: 1.0151509001618955\n",
            "\n",
            "\n",
            "iter:4: y_prime: 0.026097004262642078 loss: 0.5386136071522685 model.parametros_valores: w: 0.9096385657612284, b: 1.0189379900937474\n",
            "\n",
            "\n",
            "iter:5: y_prime: 0.028491206104887763 loss: 0.5351051155458818 model.parametros_valores: w: 0.8912204165639362, b: 1.0230642337757379\n",
            "\n",
            "\n",
            "iter:6: y_prime: 0.031278753045858386 loss: 0.531034655762399 model.parametros_valores: w: 0.8715417885803985, b: 1.0275821959062186\n",
            "\n",
            "\n",
            "iter:7: y_prime: 0.03455200199012737 loss: 0.5262747978165323 model.parametros_valores: w: 0.8504508161325525, b: 1.0325556138342462\n",
            "\n",
            "\n",
            "iter:8: y_prime: 0.03843112686053775 loss: 0.5206616386837534 model.parametros_valores: w: 0.8277735598636164, b: 1.0380622293427904\n",
            "\n",
            "\n",
            "iter:9: y_prime: 0.043074038196977096 loss: 0.5139828347071895 model.parametros_valores: w: 0.8033122457709027, b: 1.0441973289572115\n",
            "\n",
            "\n",
            "iter:10: y_prime: 0.048690111722062605 loss: 0.5059617571619718 model.parametros_valores: w: 0.7768451666550059, b: 1.0510780539713303\n",
            "\n",
            "\n",
            "iter:11: y_prime: 0.0555589957817058 loss: 0.49623712842407885 model.parametros_valores: w: 0.7481301999414833, b: 1.0588483723381314\n",
            "\n",
            "\n",
            "iter:12: y_prime: 0.06405571927075135 loss: 0.4843384418797512 model.parametros_valores: w: 0.7169154713254708, b: 1.0676841778144046\n",
            "\n",
            "\n",
            "iter:13: y_prime: 0.07468235824982868 loss: 0.4696602700940161 model.parametros_valores: w: 0.6829632080343417, b: 1.0777970281480447\n",
            "\n",
            "\n",
            "iter:14: y_prime: 0.08810311637383676 loss: 0.45144542222655 model.parametros_valores: w: 0.6460962811883465, b: 1.0894331056772948\n",
            "\n",
            "\n",
            "iter:15: y_prime: 0.10517069333350673 loss: 0.4288014208693203 model.parametros_valores: w: 0.6062800375250058, b: 1.1028605576696742\n",
            "\n",
            "\n",
            "iter:16: y_prime: 0.12691230911836895 loss: 0.40080002434583567 model.parametros_valores: w: 0.5637497077835918, b: 1.1183336131138117\n",
            "\n",
            "\n",
            "iter:17: y_prime: 0.15441108115814448 loss: 0.36673793862404747 model.parametros_valores: w: 0.5191736152338949, b: 1.1360191008227418\n",
            "\n",
            "\n",
            "iter:18: y_prime: 0.18849042512753258 loss: 0.32662319417090846 model.parametros_valores: w: 0.4737879122843316, b: 1.1558810598831009\n",
            "\n",
            "\n",
            "iter:19: y_prime: 0.2291603317850831 loss: 0.28179075335052306 model.parametros_valores: w: 0.4293605178470107, b: 1.1775586005879541\n",
            "\n",
            "\n",
            "iter:20: y_prime: 0.2750312169525073 loss: 0.23519472053056603 model.parametros_valores: w: 0.3878424449262291, b: 1.20033198650283\n",
            "\n",
            "\n",
            "iter:21: y_prime: 0.32324905336610077 loss: 0.1907513893856071 model.parametros_valores: w: 0.3507867190881548, b: 1.223268709178957\n",
            "\n",
            "\n",
            "iter:22: y_prime: 0.3703618272230966 loss: 0.15181790568492406 model.parametros_valores: w: 0.31891379499205363, b: 1.2454982569897441\n",
            "\n",
            "\n",
            "iter:23: y_prime: 0.4136077876780848 loss: 0.11998756475727078 model.parametros_valores: w: 0.2921209811619779, b: 1.2664257950575417\n",
            "\n",
            "\n",
            "iter:24: y_prime: 0.45160718323000265 loss: 0.09510612943533317 model.parametros_valores: w: 0.26980995204449076, b: 1.2857706998132863\n",
            "\n",
            "\n",
            "iter:25: y_prime: 0.48418551162879586 loss: 0.07607363199546911 model.parametros_valores: w: 0.2512241902438812, b: 1.3034846705366436\n",
            "\n",
            "\n",
            "iter:26: y_prime: 0.5118387167410007 loss: 0.061584022508753306 model.parametros_valores: w: 0.23564689873785064, b: 1.319649324638528\n",
            "\n",
            "\n",
            "iter:27: y_prime: 0.5352949079144483 loss: 0.05049237840917626 model.parametros_valores: w: 0.22247509696707535, b: 1.3344020410155961\n",
            "\n",
            "\n",
            "iter:28: y_prime: 0.5552797372005946 loss: 0.04191038600065759 model.parametros_valores: w: 0.21122798603604204, b: 1.3478940389843583\n",
            "\n",
            "\n",
            "iter:29: y_prime: 0.5724255134731204 loss: 0.03518418799582253 model.parametros_valores: w: 0.20153057085391132, b: 1.3602703233611075\n",
            "\n",
            "\n",
            "iter:30: y_prime: 0.5872521641188623 loss: 0.029841814801616497 model.parametros_valores: w: 0.19309211502878984, b: 1.3716617276381562\n",
            "\n",
            "\n",
            "iter:31: y_prime: 0.600176637643361 loss: 0.02554350715498152 model.parametros_valores: w: 0.18568665476506743, b: 1.3821829096323341\n",
            "\n",
            "\n",
            "iter:32: y_prime: 0.6115303727196306 loss: 0.022043230224771806 model.parametros_valores: w: 0.1791373769785819, b: 1.3919329908520837\n",
            "\n",
            "\n",
            "iter:33: y_prime: 0.6215767474803094 loss: 0.01916099683813002 model.parametros_valores: w: 0.1733047012247481, b: 1.4009972006151583\n",
            "\n",
            "\n",
            "iter:34: y_prime: 0.6305259243749013 loss: 0.016763536258973782 model.parametros_valores: w: 0.168077369251695, b: 1.4094487629896102\n",
            "\n",
            "\n",
            "iter:35: y_prime: 0.6385466891657884 loss: 0.014750906712591627 model.parametros_valores: w: 0.1633658229361263, b: 1.417350699051332\n",
            "\n",
            "\n",
            "iter:36: y_prime: 0.6457756274420974 loss: 0.01304720728624654 model.parametros_valores: w: 0.15909727585762762, b: 1.424757423514146\n",
            "\n",
            "\n",
            "iter:37: y_prime: 0.6523241553162857 loss: 0.011594087528351359 model.parametros_valores: w: 0.15521202549284846, b: 1.4317161087205272\n",
            "\n",
            "\n",
            "iter:38: y_prime: 0.6582838908630722 loss: 0.010346166857955419 model.parametros_valores: w: 0.15166067295957636, b: 1.4382678286835728\n",
            "\n",
            "\n",
            "iter:39: y_prime: 0.6637307660656808 loss: 0.009267765402300673 model.parametros_valores: w: 0.14840200899381029, b: 1.4444485101417133\n",
            "\n",
            "\n",
            "iter:40: y_prime: 0.6687281893843182 loss: 0.008330543413064884 model.parametros_valores: w: 0.14540139204265062, b: 1.450289720397552\n",
            "\n",
            "\n",
            "iter:41: y_prime: 0.6733294932174546 loss: 0.007511776745943248 model.parametros_valores: w: 0.14262949264221922, b: 1.455819319736247\n",
            "\n",
            "\n",
            "iter:42: y_prime: 0.6775798411777215 loss: 0.00679308258028961 model.parametros_valores: w: 0.14006131270617123, b: 1.461062002575814\n",
            "\n",
            "\n",
            "iter:43: y_prime: 0.6815177253070703 loss: 0.00615946744097647 model.parametros_valores: w: 0.1376754129297143, b: 1.466039747590454\n",
            "\n",
            "\n",
            "iter:44: y_prime: 0.685176150111191 loss: 0.005598608512183018 model.parametros_valores: w: 0.13545329910798679, b: 1.470772193445526\n",
            "\n",
            "\n",
            "iter:45: y_prime: 0.6885835757942683 loss: 0.005100305646333019 model.parametros_valores: w: 0.13337893083230923, b: 1.4752769536823362\n",
            "\n",
            "\n",
            "iter:46: y_prime: 0.69176467504626 loss: 0.0046560595715424875 model.parametros_valores: w: 0.13143832520701235, b: 1.4795698817142549\n",
            "\n",
            "\n",
            "iter:47: y_prime: 0.6947409444416668 loss: 0.004258744332365622 model.parametros_valores: w: 0.12961923493286245, b: 1.4836652947948956\n",
            "\n",
            "\n",
            "iter:48: y_prime: 0.6975312016685167 loss: 0.0039023507649795348 model.parametros_valores: w: 0.12791088503699544, b: 1.4875761641240923\n",
            "\n",
            "\n",
            "iter:49: y_prime: 0.7001519924844446 loss: 0.0035817840035819773 model.parametros_valores: w: 0.12630375618980327, b: 1.491314276897009\n",
            "\n",
            "\n"
          ]
        }
      ]
    },
    {
      "cell_type": "code",
      "source": [
        "rastro_neptune.stop()"
      ],
      "metadata": {
        "colab": {
          "base_uri": "https://localhost:8080/"
        },
        "id": "AQt8kW0UAD64",
        "outputId": "aa454a55-47d7-4237-bdc1-6b15e8367c76"
      },
      "execution_count": 73,
      "outputs": [
        {
          "output_type": "stream",
          "name": "stdout",
          "text": [
            "Shutting down background jobs, please wait a moment...\n",
            "Done!\n"
          ]
        },
        {
          "output_type": "stream",
          "name": "stderr",
          "text": [
            "Waiting for the remaining 1 operations to synchronize with Neptune. Do not kill this process.\n"
          ]
        },
        {
          "output_type": "stream",
          "name": "stdout",
          "text": [
            "All 1 operations synced, thanks for waiting!\n"
          ]
        }
      ]
    },
    {
      "cell_type": "markdown",
      "metadata": {
        "collapsed": true,
        "id": "V8AqQ0n7raQI"
      },
      "source": [
        "# Exercício 4\n",
        "\n",
        "Repita o exercício 3 mas usando uma rede com duas camadas não-lineares:\n",
        "\n",
        "$a = \\sigma(w_1x + b_1)$\n",
        "\n",
        "$y' = \\sigma(w_2a + b_2)$\n"
      ]
    },
    {
      "cell_type": "code",
      "source": [
        "class Net():\n",
        "  def __init__(self, se_imp:bool=True):\n",
        "    super().__init__()  \n",
        "    self.se_imp = se_imp\n",
        "    if self.se_imp:\n",
        "      print(f\"Net().init\")      \n",
        "    # Inicializa os pesos w e b em zero.\n",
        "    self.layer1 = NonLinear(se_imp=self.se_imp)    \n",
        "    self.layer2 = NonLinear(se_imp=self.se_imp)    \n",
        "\n",
        "  @property\n",
        "  def parametros(self)->list:\n",
        "    return self.layer1.parametros + self.layer2.parametros \n",
        "\n",
        "  @property\n",
        "  def parametros_valores(self)->str:\n",
        "    return f'Layer1: {self.layer1.parametros_valores} Layer2: {self.layer2.parametros_valores}'\n",
        "\n",
        "  def forward(self, x: Tensor)->float:\n",
        "    if self.se_imp:\n",
        "      print(f\"Net().forward (entrando) {x.descr}\")      \n",
        "    result = self.layer2.forward(self.layer1.forward(x))\n",
        "    if self.se_imp:\n",
        "      print(f\"Net().forward: resultado: {result.descr}\")\n",
        "    return result\n",
        "\n"
      ],
      "metadata": {
        "id": "fkBfLU3Tlhq3"
      },
      "execution_count": 74,
      "outputs": []
    },
    {
      "cell_type": "code",
      "source": [
        "model = Net(se_imp=se_imprime_calculo)"
      ],
      "metadata": {
        "id": "VtBDvr1AAkzY"
      },
      "execution_count": 75,
      "outputs": []
    },
    {
      "cell_type": "code",
      "source": [
        "# optimizer = SGD(parameters=[model.w, model.b], learning_rate=learning_rate)\n",
        "hparam['learning_rate'] = 1\n",
        "optimizer = SGD(parameters=model.parametros, learning_rate=hparam['learning_rate'], se_imp=se_imprime_calculo)"
      ],
      "metadata": {
        "id": "SdNpsL11Ak8g"
      },
      "execution_count": 76,
      "outputs": []
    },
    {
      "cell_type": "code",
      "source": [
        "x = Tensor('x', -5, se_imp=se_imprime_calculo)\n",
        "y_target = Tensor('y_target', 0.76,se_imp=se_imprime_calculo)"
      ],
      "metadata": {
        "id": "yo85fmogAk8h"
      },
      "execution_count": 77,
      "outputs": []
    },
    {
      "cell_type": "code",
      "source": [
        "rastro_neptune = NeptuneRastroRun(hparam, parm_lista_tag=[\"exercicio 4\", \"sigmoid(sigmoid)\"]) "
      ],
      "metadata": {
        "colab": {
          "base_uri": "https://localhost:8080/"
        },
        "outputId": "6b849cd2-e364-43fc-a798-1af713c8269f",
        "id": "pkCLajrLAk8h"
      },
      "execution_count": 78,
      "outputs": [
        {
          "output_type": "stream",
          "name": "stdout",
          "text": [
            "https://app.neptune.ai/marcusborela/IA025/e/COUNTXEMBE-13\n",
            "Remember to stop your run once you’ve finished logging your metadata (https://docs.neptune.ai/api-reference/run#.stop). It will be stopped automatically only when the notebook kernel/interactive console is terminated.\n"
          ]
        }
      ]
    },
    {
      "cell_type": "code",
      "source": [
        "num_iterations = 50\n",
        "for i in range(num_iterations):\n",
        "    # Zera os gradientes dos passo anterior.\n",
        "    optimizer.zero_grad()\n",
        "    # Roda a um passo forward do modelo.\n",
        "    y_pred = model.forward(x)\n",
        "    # Calcula o gradiente do erro, data a predição do modelo.\n",
        "    loss = compute_loss(y_target=y_target, y_pred=y_pred, se_imp=se_imprime_calculo)\n",
        "    # Calcula agora os gradientes de w e b usando a função backward do modelo.\n",
        "    loss.backward()\n",
        "    # Atualiza os pesos w e b usando os seus respectivos gradientes.\n",
        "    optimizer.step()\n",
        "    # salva no rastro\n",
        "    metrica_rastro = {\"train/loss\": loss.data}  \n",
        "    rastro_neptune.salva_metrica(metrica_rastro)    \n",
        "    print(f'iter:{i}: y_prime: {y_pred.data} loss: {loss.data} model.parametros_valores: {model.parametros_valores}')  "
      ],
      "metadata": {
        "colab": {
          "base_uri": "https://localhost:8080/"
        },
        "id": "4L4FuFD7AezX",
        "outputId": "1987149f-3802-455e-a39d-d5e6355b9750"
      },
      "execution_count": 79,
      "outputs": [
        {
          "output_type": "stream",
          "name": "stdout",
          "text": [
            "iter:0: y_prime: 0.8292126697360793 loss: 0.004790393651995589 model.parametros_valores: Layer1: w: 0.12602116124777485, b: 1.4853129257398967 Layer2: w: 0.12602116124777485, b: 1.4853129257398967\n",
            "iter:1: y_prime: 0.8283156551111874 loss: 0.004667028733270708 model.parametros_valores: Layer1: w: 0.12574213888043934, b: 1.4793886788593311 Layer2: w: 0.12574213888043934, b: 1.4793886788593311\n",
            "iter:2: y_prime: 0.8274265459595429 loss: 0.0045463391000343505 model.parametros_valores: Layer1: w: 0.12546666547724, b: 1.4735410388107084 Layer2: w: 0.12546666547724, b: 1.4735410388107084\n",
            "iter:3: y_prime: 0.8265454032447609 loss: 0.004428290693007832 model.parametros_valores: Layer1: w: 0.12519471671778903, b: 1.4677694907450585 Layer2: w: 0.12519471671778903, b: 1.4677694907450585\n",
            "iter:4: y_prime: 0.8256722827198256 loss: 0.004312848717632706 model.parametros_valores: Layer1: w: 0.12492626760894744, b: 1.4620735033024017 Layer2: w: 0.12492626760894744, b: 1.4620735033024017\n",
            "iter:5: y_prime: 0.8248072350249955 loss: 0.004199977711585007 model.parametros_valores: Layer1: w: 0.12466129252135104, b: 1.4564525294927915 Layer2: w: 0.12466129252135104, b: 1.4564525294927915\n",
            "iter:6: y_prime: 0.8239503057896596 loss: 0.004089641610590963 model.parametros_valores: Layer1: w: 0.12439976522534023, b: 1.450906007563915 Layer2: w: 0.12439976522534023, b: 1.450906007563915\n",
            "iter:7: y_prime: 0.8231015357377475 loss: 0.00398180381246222 model.parametros_valores: Layer1: w: 0.12414165892625663, b: 1.4454333618542226 Layer2: w: 0.12414165892625663, b: 1.4454333618542226\n",
            "iter:8: y_prime: 0.8222609607963058 loss: 0.0038764272392791317 model.parametros_valores: Layer1: w: 0.12388694629907239, b: 1.4400340036306427 Layer2: w: 0.12388694629907239, b: 1.4400340036306427\n",
            "iter:9: y_prime: 0.8214286122068647 loss: 0.003773474397661365 model.parametros_valores: Layer1: w: 0.12363559952232168, b: 1.4347073319100443 Layer2: w: 0.12363559952232168, b: 1.4347073319100443\n",
            "iter:10: y_prime: 0.8206045166392308 loss: 0.003672907437074807 model.parametros_valores: Layer1: w: 0.12338759031130732, b: 1.4294527342636782 Layer2: w: 0.12338759031130732, b: 1.4294527342636782\n",
            "iter:11: y_prime: 0.8197886963073563 loss: 0.0035746882061332788 model.parametros_valores: Layer1: w: 0.1231428899505586, b: 1.4242695876039315 Layer2: w: 0.1231428899505586, b: 1.4242695876039315\n",
            "iter:12: y_prime: 0.8189811690869431 loss: 0.003478778306862568 model.parametros_valores: Layer1: w: 0.1229014693255197, b: 1.4191572589527999 Layer2: w: 0.1229014693255197, b: 1.4191572589527999\n",
            "iter:13: y_prime: 0.8181819486344629 loss: 0.0033851391469032805 model.parametros_valores: Layer1: w: 0.12266329895345086, b: 1.4141151061915695 Layer2: w: 0.12266329895345086, b: 1.4141151061915695\n",
            "iter:14: y_prime: 0.8173910445072787 loss: 0.0032937319896364473 model.parametros_valores: Layer1: w: 0.12242834901352763, b: 1.4091424787912703 Layer2: w: 0.12242834901352763, b: 1.4091424787912703\n",
            "iter:15: y_prime: 0.8166084622845733 loss: 0.0032045180022239553 model.parametros_valores: Layer1: w: 0.1221965893761258, b: 1.4042387185235397 Layer2: w: 0.1221965893761258, b: 1.4042387185235397\n",
            "iter:16: y_prime: 0.8158342036888031 loss: 0.0031174583015627535 model.parametros_valores: Layer1: w: 0.12196798963128301, b: 1.3994031601516035 Layer2: w: 0.12196798963128301, b: 1.3994031601516035\n",
            "iter:17: y_prime: 0.8150682667074128 loss: 0.003032513998158752 model.parametros_valores: Layer1: w: 0.1217425191163294, b: 1.3946351321011443 Layer2: w: 0.1217425191163294, b: 1.3946351321011443\n",
            "iter:18: y_prime: 0.814310645714555 loss: 0.002949646237931913 model.parametros_valores: Layer1: w: 0.12152014694268325, b: 1.3899339571108946 Layer2: w: 0.12152014694268325, b: 1.3899339571108946\n",
            "iter:19: y_prime: 0.813561331592579 loss: 0.0028688162419702045 model.parametros_valores: Layer1: w: 0.12130084202180853, b: 1.3852989528628439 Layer2: w: 0.12130084202180853, b: 1.3852989528628439\n",
            "iter:20: y_prime: 0.8128203118530672 loss: 0.0027899853442552754 model.parametros_valores: Layer1: w: 0.1210845730903344, b: 1.3807294325920116 Layer2: w: 0.1210845730903344, b: 1.3807294325920116\n",
            "iter:21: y_prime: 0.8120875707572065 loss: 0.0027131150273869927 model.parametros_valores: Layer1: w: 0.12087130873433759, b: 1.3762247056757846 Layer2: w: 0.12087130873433759, b: 1.3762247056757846\n",
            "iter:22: y_prime: 0.8113630894353036 loss: 0.0026381669563389906 model.parametros_valores: Layer1: w: 0.12066101741279169, b: 1.3717840782028659 Layer2: w: 0.12066101741279169, b: 1.3717840782028659\n",
            "iter:23: y_prime: 0.8106468460052598 loss: 0.002565103010280502 model.parametros_valores: Layer1: w: 0.12045366748018742, b: 1.3674068535219277 Layer2: w: 0.12045366748018742, b: 1.3674068535219277\n",
            "iter:24: y_prime: 0.8099388156898408 loss: 0.0024938853125038916 model.parametros_valores: Layer1: w: 0.12024922720833105, b: 1.363092332770107 Layer2: w: 0.12024922720833105, b: 1.363092332770107\n",
            "iter:25: y_prime: 0.8092389709325843 loss: 0.002424476258499885 model.parametros_valores: Layer1: w: 0.12004766480732847, b: 1.35883981538151 Layer2: w: 0.12004766480732847, b: 1.35883981538151\n",
            "iter:26: y_prime: 0.8085472815122048 loss: 0.0023568385422252595 model.parametros_valores: Layer1: w: 0.11984894844576412, b: 1.3546485995759383 Layer2: w: 0.11984894844576412, b: 1.3546485995759383\n",
            "iter:27: y_prime: 0.807863714655366 loss: 0.0022909351806102967 model.parametros_valores: Layer1: w: 0.1196530462700854, b: 1.3505179828280762 Layer2: w: 0.1196530462700854, b: 1.3505179828280762\n",
            "iter:28: y_prime: 0.8071882351477047 loss: 0.002226729536355068 model.parametros_valores: Layer1: w: 0.11945992642320365, b: 1.3464472623174055 Layer2: w: 0.11945992642320365, b: 1.3464472623174055\n",
            "iter:29: y_prime: 0.8065208054429962 loss: 0.0021641853390651044 model.parametros_valores: Layer1: w: 0.11926955706232432, b: 1.342435735359146 Layer2: w: 0.11926955706232432, b: 1.342435735359146\n",
            "iter:30: y_prime: 0.8058613857703708 loss: 0.002103266704778769 model.parametros_valores: Layer1: w: 0.11908190637601955, b: 1.3384826998165429 Layer2: w: 0.11908190637601955, b: 1.3384826998165429\n",
            "iter:31: y_prime: 0.8052099342394946 loss: 0.002043938153939426 model.parametros_valores: Layer1: w: 0.11889694260055712, b: 1.334587454494836 Layer2: w: 0.11889694260055712, b: 1.334587454494836\n",
            "iter:32: y_prime: 0.8045664069436395 loss: 0.001986164627866074 model.parametros_valores: Layer1: w: 0.11871463403550066, b: 1.3307492995172758 Layer2: w: 0.11871463403550066, b: 1.3307492995172758\n",
            "iter:33: y_prime: 0.8039307580605798 loss: 0.0019299115037771952 model.parametros_valores: Layer1: w: 0.11853494905859617, b: 1.3269675366835583 Layer2: w: 0.11853494905859617, b: 1.3269675366835583\n",
            "iter:34: y_prime: 0.8033029399512575 loss: 0.0018751446084222083 model.parametros_valores: Layer1: w: 0.11835785613996093, b: 1.3232414698110708 Layer2: w: 0.11835785613996093, b: 1.3232414698110708\n",
            "iter:35: y_prime: 0.8026829032561721 loss: 0.001821830230375745 model.parametros_valores: Layer1: w: 0.11818332385559076, b: 1.3195704050593484 Layer2: w: 0.11818332385559076, b: 1.3195704050593484\n",
            "iter:36: y_prime: 0.8020705969894524 loss: 0.0017699351310489187 model.parametros_valores: Layer1: w: 0.11801132090020254, b: 1.3159536512381549 Layer2: w: 0.11801132090020254, b: 1.3159536512381549\n",
            "iter:37: y_prime: 0.8014659686305836 loss: 0.0017194265544725436 model.parametros_valores: Layer1: w: 0.11784181609942858, b: 1.3123905200996062 Layer2: w: 0.11784181609942858, b: 1.3123905200996062\n",
            "iter:38: y_prime: 0.8008689642137619 loss: 0.0016702722359057467 model.parametros_valores: Layer1: w: 0.11767477842138017, b: 1.3088803266147666 Layer2: w: 0.11767477842138017, b: 1.3088803266147666\n",
            "iter:39: y_prime: 0.8002795284148623 loss: 0.0016224404093236966 model.parametros_valores: Layer1: w: 0.1175101769875974, b: 1.3054223892351438 Layer2: w: 0.1175101769875974, b: 1.3054223892351438\n",
            "iter:40: y_prime: 0.7996976046360086 loss: 0.0015758998138368497 model.parametros_valores: Layer1: w: 0.11734798108340276, b: 1.302016030139523 Layer2: w: 0.11734798108340276, b: 1.302016030139523\n",
            "iter:41: y_prime: 0.7991231350877399 loss: 0.001530619699093545 model.parametros_valores: Layer1: w: 0.11718816016767598, b: 1.2986605754665734 Layer2: w: 0.11718816016767598, b: 1.2986605754665734\n",
            "iter:42: y_prime: 0.7985560608687753 loss: 0.001486569829716704 model.parametros_valores: Layer1: w: 0.11703068388206737, b: 1.295355355533668 Layer2: w: 0.11703068388206737, b: 1.295355355533668\n",
            "iter:43: y_prime: 0.7979963220433836 loss: 0.0014437204888245144 model.parametros_valores: Layer1: w: 0.1168755220596673, b: 1.2920997050423484 Layer2: w: 0.1168755220596673, b: 1.2920997050423484\n",
            "iter:44: y_prime: 0.7974438577163669 loss: 0.0014020424806835317 model.parametros_valores: Layer1: w: 0.11672264473314885, b: 1.2888929632708752 Layer2: w: 0.11672264473314885, b: 1.2888929632708752\n",
            "iter:45: y_prime: 0.7968986061056756 loss: 0.0013615071325418034 model.parametros_valores: Layer1: w: 0.1165720221424013, b: 1.2857344742542964 Layer2: w: 0.1165720221424013, b: 1.2857344742542964\n",
            "iter:46: y_prime: 0.7963605046126718 loss: 0.0013220862956881286 model.parametros_valores: Layer1: w: 0.11642362474167099, b: 1.2826235869524587 Layer2: w: 0.11642362474167099, b: 1.2826235869524587\n",
            "iter:47: y_prime: 0.7958294898900655 loss: 0.0012837523457823069 model.parametros_valores: Layer1: w: 0.1162774232062269, b: 1.2795596554063904 Layer2: w: 0.1162774232062269, b: 1.2795596554063904\n",
            "iter:48: y_prime: 0.7953054979075497 loss: 0.0012464781824999937 model.parametros_valores: Layer1: w: 0.11613338843856726, b: 1.2765420388834752 Layer2: w: 0.11613338843856726, b: 1.2765420388834752\n",
            "iter:49: y_prime: 0.7947884640151616 loss: 0.0012102372285341906 model.parametros_valores: Layer1: w: 0.115991491574184, b: 1.2735701020118309 Layer2: w: 0.115991491574184, b: 1.2735701020118309\n"
          ]
        }
      ]
    },
    {
      "cell_type": "code",
      "source": [
        "rastro_neptune.stop()"
      ],
      "metadata": {
        "id": "5jnmb1X8DWQ0"
      },
      "execution_count": null,
      "outputs": []
    },
    {
      "cell_type": "markdown",
      "metadata": {
        "collapsed": true,
        "id": "YNAx30ZLCZuj"
      },
      "source": [
        "# Exercício 5\n",
        "\n",
        "Repita o exercício 4 mas compartilhando os pesos das duas camadas não-lineares. Mostre que ambas tem os mesmos pesos após o treino."
      ]
    },
    {
      "cell_type": "code",
      "metadata": {
        "id": "M78rgX2OlHWI"
      },
      "source": [
        "class NetShared():\n",
        "  def __init__(self, se_imp:bool=True):\n",
        "    super().__init__()  \n",
        "    self.se_imp = se_imp\n",
        "    if self.se_imp:\n",
        "      print(f\"Net().init\")      \n",
        "    self.w = Tensor('model.w', 1,se_imp=self.se_imp, num_identacao = 1)       \n",
        "    self.b = Tensor('model.b', 1,se_imp=self.se_imp, num_identacao = 1)      \n",
        "    # Inicializa os pesos w e b em zero.\n",
        "    self.layer1 = NonLinear(self.w, self.b, se_imp=self.se_imp,)    \n",
        "    self.layer2 = NonLinear(self.w, self.b, se_imp=self.se_imp)    \n",
        "\n",
        "  @property\n",
        "  def parametros(self)->list:\n",
        "    return self.layer1.parametros + self.layer2.parametros \n",
        "\n",
        "  @property\n",
        "  def parametros_valores(self)->str:\n",
        "    return f'Layer1: {self.layer1.parametros_valores} Layer2: {self.layer2.parametros_valores}'\n",
        "\n",
        "  def forward(self, x: Tensor)->float:\n",
        "    if self.se_imp:\n",
        "      print(f\"Net().forward (entrando) {x.descr}\")      \n",
        "    result = self.layer2.forward(self.layer1.forward(x))\n",
        "    if self.se_imp:\n",
        "      print(f\"Net().forward: resultado: {result.descr}\")\n",
        "    return result\n"
      ],
      "execution_count": 81,
      "outputs": []
    },
    {
      "cell_type": "code",
      "source": [
        "model = NetShared(se_imp=se_imprime_calculo)"
      ],
      "metadata": {
        "id": "h4MVq9m3Baon"
      },
      "execution_count": 82,
      "outputs": []
    },
    {
      "cell_type": "code",
      "source": [
        "# optimizer = SGD(parameters=[model.w, model.b], learning_rate=learning_rate)\n",
        "hparam['learning_rate'] = 1\n",
        "optimizer = SGD(parameters=model.parametros, learning_rate=hparam['learning_rate'], se_imp=se_imprime_calculo)"
      ],
      "metadata": {
        "id": "zlHd4oWgBaon"
      },
      "execution_count": 83,
      "outputs": []
    },
    {
      "cell_type": "code",
      "source": [
        "x = Tensor('x', -5, se_imp=se_imprime_calculo)\n",
        "y_target = Tensor('y_target', 0.76,se_imp=se_imprime_calculo)"
      ],
      "metadata": {
        "id": "CvMo9oi2Baon"
      },
      "execution_count": 84,
      "outputs": []
    },
    {
      "cell_type": "code",
      "source": [
        "rastro_neptune = NeptuneRastroRun(hparam, parm_lista_tag=[\"exercicio 5\", \"parametros_compartilhados\", \"sigmoid(sigmoid)\"]) "
      ],
      "metadata": {
        "colab": {
          "base_uri": "https://localhost:8080/"
        },
        "outputId": "18c92185-2713-4b76-ac2e-f8911128af8f",
        "id": "h3TjrldfBaon"
      },
      "execution_count": 85,
      "outputs": [
        {
          "output_type": "stream",
          "name": "stdout",
          "text": [
            "https://app.neptune.ai/marcusborela/IA025/e/COUNTXEMBE-14\n",
            "Remember to stop your run once you’ve finished logging your metadata (https://docs.neptune.ai/api-reference/run#.stop). It will be stopped automatically only when the notebook kernel/interactive console is terminated.\n"
          ]
        }
      ]
    },
    {
      "cell_type": "code",
      "source": [
        "num_iterations = 50\n",
        "for i in range(num_iterations):\n",
        "    # Zera os gradientes dos passo anterior.\n",
        "    optimizer.zero_grad()\n",
        "    # Roda a um passo forward do modelo.\n",
        "    y_pred = model.forward(x)\n",
        "    # Calcula o gradiente do erro, data a predição do modelo.\n",
        "    loss = compute_loss(y_target=y_target, y_pred=y_pred, se_imp=se_imprime_calculo)\n",
        "    # Calcula agora os gradientes de w e b usando a função backward do modelo.\n",
        "    loss.backward()\n",
        "    # Atualiza os pesos w e b usando os seus respectivos gradientes.\n",
        "    optimizer.step()\n",
        "    # salva no rastro\n",
        "    metrica_rastro = {\"train/loss\": loss.data}  \n",
        "    rastro_neptune.salva_metrica(metrica_rastro)    \n",
        "    print(f'iter:{i}: y_prime: {y_pred.data} loss: {loss.data} model.parametros_valores: {model.parametros_valores}')  "
      ],
      "metadata": {
        "colab": {
          "base_uri": "https://localhost:8080/"
        },
        "outputId": "45d9f6a6-dec9-4474-d776-d4726d2a5664",
        "id": "gr4btt_LBaoo"
      },
      "execution_count": 86,
      "outputs": [
        {
          "output_type": "stream",
          "name": "stdout",
          "text": [
            "iter:0: y_prime: 0.7345801520114927 loss: 0.0006461686717588172 model.parametros_valores: Layer1: w: 0.9998605785481263, b: 1.0020174806858853 Layer2: w: 0.9998605785481263, b: 1.0020174806858853\n",
            "iter:1: y_prime: 0.7349821802020783 loss: 0.0006258913074412843 model.parametros_valores: Layer1: w: 0.9997231807257418, b: 1.0040052189215123 Layer2: w: 0.9997231807257418, b: 1.0040052189215123\n",
            "iter:2: y_prime: 0.7353779223524329 loss: 0.0006062467076828222 model.parametros_valores: Layer1: w: 0.9995877804573576, b: 1.0059636051227137 Layer2: w: 0.9995877804573576, b: 1.0059636051227137\n",
            "iter:3: y_prime: 0.7357674718192851 loss: 0.00058721542202914 model.parametros_valores: Layer1: w: 0.9994543518835495, b: 1.007893026580518 Layer2: w: 0.9994543518835495, b: 1.007893026580518\n",
            "iter:4: y_prime: 0.7361509208530039 loss: 0.0005687785761596831 model.parametros_valores: Layer1: w: 0.9993228693640013, b: 1.0097938673932765 Layer2: w: 0.9993228693640013, b: 1.0097938673932765\n",
            "iter:5: y_prime: 0.7365283605954224 loss: 0.0005509178563385217 model.parametros_valores: Layer1: w: 0.9991933074802966, b: 1.0116665084042644 Layer2: w: 0.9991933074802966, b: 1.0116665084042644\n",
            "iter:6: y_prime: 0.7368998810786478 loss: 0.0005336154941806148 model.parametros_valores: Layer1: w: 0.9990656410384673, b: 1.013511327144521 Layer2: w: 0.9990656410384673, b: 1.013511327144521\n",
            "iter:7: y_prime: 0.7372655712248023 loss: 0.0005168542517345378 model.parametros_valores: Layer1: w: 0.9989398450713107, b: 1.0153286977806948 Layer2: w: 0.9989398450713107, b: 1.0153286977806948\n",
            "iter:8: y_prime: 0.7376255188466374 loss: 0.0005006174068821783 model.parametros_valores: Layer1: w: 0.9988158948404824, b: 1.017118991067675 Layer2: w: 0.9988158948404824, b: 1.017118991067675\n",
            "iter:9: y_prime: 0.7379798106489719 loss: 0.00048488873905513214 model.parametros_valores: Layer1: w: 0.9986937658383745, b: 1.0188825743057914 Layer2: w: 0.9986937658383745, b: 1.0188825743057914\n",
            "iter:10: y_prime: 0.7383285322308994 loss: 0.0004696525152671644 model.parametros_valores: Layer1: w: 0.998573433789788, b: 1.0206198113023754 Layer2: w: 0.998573433789788, b: 1.0206198113023754\n",
            "iter:11: y_prime: 0.7386717680887224 loss: 0.0004548934764612418 model.parametros_valores: Layer1: w: 0.9984548746534068, b: 1.0223310623374813 Layer2: w: 0.9984548746534068, b: 1.0223310623374813\n",
            "iter:12: y_prime: 0.7390096016195616 loss: 0.0004405968241695097 model.parametros_valores: Layer1: w: 0.9983380646230824, b: 1.024016684133576 Layer2: w: 0.9983380646230824, b: 1.024016684133576\n",
            "iter:13: y_prime: 0.7393421151256014 loss: 0.0004267482074839052 model.parametros_valores: Layer1: w: 0.9982229801289375, b: 1.0256770298290094 Layer2: w: 0.9982229801289375, b: 1.0256770298290094\n",
            "iter:14: y_prime: 0.7396693898189267 loss: 0.00041333371033476106 model.parametros_valores: Layer1: w: 0.9981095978382939, b: 1.0273124489550836 Layer2: w: 0.9981095978382939, b: 1.0273124489550836\n",
            "iter:15: y_prime: 0.7399915058269124 loss: 0.00040033983907447997 model.parametros_valores: Layer1: w: 0.9979978946564356, b: 1.0289232874165508 Layer2: w: 0.9979978946564356, b: 1.0289232874165508\n",
            "iter:16: y_prime: 0.740308542198128 loss: 0.0003877535103629049 model.parametros_valores: Layer1: w: 0.9978878477272111, b: 1.0305098874753735 Layer2: w: 0.9978878477272111, b: 1.0305098874753735\n",
            "iter:17: y_prime: 0.7406205769087211 loss: 0.0003755620393507952 model.parametros_valores: Layer1: w: 0.9977794344334838, b: 1.0320725877375807 Layer2: w: 0.9977794344334838, b: 1.0320725877375807\n",
            "iter:18: y_prime: 0.7409276868692434 loss: 0.00036375312815763194 model.parametros_valores: Layer1: w: 0.9976726323974365, b: 1.033611723143073 Layer2: w: 0.9976726323974365, b: 1.033611723143073\n",
            "iter:19: y_prime: 0.7412299479318917 loss: 0.00035231485463949795 model.parametros_valores: Layer1: w: 0.9975674194807371, b: 1.035127624958223 Layer2: w: 0.9975674194807371, b: 1.035127624958223\n",
            "iter:20: y_prime: 0.7415274348981251 loss: 0.0003412356614430062 model.parametros_valores: Layer1: w: 0.9974637737845715, b: 1.0366206207711302 Layer2: w: 0.9974637737845715, b: 1.0366206207711302\n",
            "iter:21: y_prime: 0.7418202215266373 loss: 0.0003305043453405425 model.parametros_valores: Layer1: w: 0.9973616736495496, b: 1.038091034489391 Layer2: w: 0.9973616736495496, b: 1.038091034489391\n",
            "iter:22: y_prime: 0.7421083805416485 loss: 0.0003201100468424618 model.parametros_valores: Layer1: w: 0.9972610976554905, b: 1.0395391863402557 Layer2: w: 0.9972610976554905, b: 1.0395391863402557\n",
            "iter:23: y_prime: 0.7423919836414967 loss: 0.00031004224008131936 model.parametros_valores: Layer1: w: 0.9971620246210935, b: 1.0409653928730416 Layer2: w: 0.9971620246210935, b: 1.0409653928730416\n",
            "iter:24: y_prime: 0.7426711015074975 loss: 0.0003002907229634561 model.parametros_valores: Layer1: w: 0.9970644336034988, b: 1.0423699669636841 Layer2: w: 0.9970644336034988, b: 1.0423699669636841\n",
            "iter:25: y_prime: 0.7429458038130522 loss: 0.0002908456075829053 model.parametros_valores: Layer1: w: 0.9969683038977453, b: 1.043753217821306 Layer2: w: 0.9969683038977453, b: 1.043753217821306\n",
            "iter:26: y_prime: 0.743216159232981 loss: 0.0002816973108926489 model.parametros_valores: Layer1: w: 0.9968736150361279, b: 1.045115450996696 Layer2: w: 0.9968736150361279, b: 1.045115450996696\n",
            "iter:27: y_prime: 0.7434822354530572 loss: 0.00027283654562823914 model.parametros_valores: Layer1: w: 0.9967803467874632, b: 1.046456968392588 Layer2: w: 0.9967803467874632, b: 1.046456968392588\n",
            "iter:28: y_prime: 0.7437440991797267 loss: 0.0002642543114785616 model.parametros_valores: Layer1: w: 0.9966884791562638, b: 1.0477780682756364 Layer2: w: 0.9966884791562638, b: 1.0477780682756364\n",
            "iter:29: y_prime: 0.7440018161499882 loss: 0.0002559418864987796 model.parametros_valores: Layer1: w: 0.9965979923818302, b: 1.049079045289992 Layer2: w: 0.9965979923818302, b: 1.049079045289992\n",
            "iter:30: y_prime: 0.7442554511414197 loss: 0.0002478908187602236 model.parametros_valores: Layer1: w: 0.9965088669372615, b: 1.0503601904723845 Layer2: w: 0.9965088669372615, b: 1.0503601904723845\n",
            "iter:31: y_prime: 0.7445050679823338 loss: 0.00024009291823209598 model.parametros_valores: Layer1: w: 0.9964210835283913, b: 1.051621791268615 Layer2: w: 0.9964210835283913, b: 1.051621791268615\n",
            "iter:32: y_prime: 0.744750729562043 loss: 0.00023254024888994882 model.parametros_valores: Layer1: w: 0.996334623092652, b: 1.0528641315513805 Layer2: w: 0.996334623092652, b: 1.0528641315513805\n",
            "iter:33: y_prime: 0.7449924978412223 loss: 0.00022522512104571624 model.parametros_valores: Layer1: w: 0.9962494667978712, b: 1.0540874916393421 Layer2: w: 0.9962494667978712, b: 1.0540874916393421\n",
            "iter:34: y_prime: 0.7452304338623528 loss: 0.00021814008389433597 model.parametros_valores: Layer1: w: 0.9961655960410059, b: 1.0552921483173594 Layer2: w: 0.9961655960410059, b: 1.0552921483173594\n",
            "iter:35: y_prime: 0.7454645977602355 loss: 0.0002112779182717497 model.parametros_valores: Layer1: w: 0.9960829924468149, b: 1.0564783748578148 Layer2: w: 0.9960829924468149, b: 1.0564783748578148\n",
            "iter:36: y_prime: 0.7456950487725578 loss: 0.0002046316296195013 model.parametros_valores: Layer1: w: 0.9960016378664773, b: 1.057646441042957 Layer2: w: 0.9960016378664773, b: 1.057646441042957\n",
            "iter:37: y_prime: 0.7459218452505055 loss: 0.00019819444115071387 model.parametros_valores: Layer1: w: 0.9959215143761562, b: 1.0587966131881905 Layer2: w: 0.9959215143761562, b: 1.0587966131881905\n",
            "iter:38: y_prime: 0.7461450446694051 loss: 0.00019195978721277967 model.parametros_valores: Layer1: w: 0.9958426042755135, b: 1.0599291541662526 Layer2: w: 0.9958426042755135, b: 1.0599291541662526\n",
            "iter:39: y_prime: 0.7463647036393884 loss: 0.00018592130684170685 model.parametros_valores: Layer1: w: 0.9957648900861797, b: 1.061044323432205 Layer2: w: 0.9957648900861797, b: 1.061044323432205\n",
            "iter:40: y_prime: 0.746580877916068 loss: 0.0001800728375034724 model.parametros_valores: Layer1: w: 0.9956883545501785, b: 1.062142377049188 Layer2: w: 0.9956883545501785, b: 1.062142377049188\n",
            "iter:41: y_prime: 0.746793622411214 loss: 0.00017440840901758795 model.parametros_valores: Layer1: w: 0.9956129806283116, b: 1.0632235677148762 Layer2: w: 0.9956129806283116, b: 1.0632235677148762\n",
            "iter:42: y_prime: 0.747002991203425 loss: 0.0001689222376582495 model.parametros_valores: Layer1: w: 0.9955387514985075, b: 1.0642881447885801 Layer2: w: 0.9955387514985075, b: 1.0642881447885801\n",
            "iter:43: y_prime: 0.7472090375487817 loss: 0.00016360872042847792 model.parametros_valores: Layer1: w: 0.9954656505541326, b: 1.0653363543189438 Layer2: w: 0.9954656505541326, b: 1.0653363543189438\n",
            "iter:44: y_prime: 0.74741181389148 loss: 0.0001584624295027352 model.parametros_valores: Layer1: w: 0.9953936614022736, b: 1.0663684390721881 Layer2: w: 0.9953936614022736, b: 1.0663684390721881\n",
            "iter:45: y_prime: 0.7476113718744319 loss: 0.0001534781068336162 model.parametros_valores: Layer1: w: 0.9953227678619865, b: 1.067384638560851 Layer2: w: 0.9953227678619865, b: 1.067384638560851\n",
            "iter:46: y_prime: 0.7478077623498304 loss: 0.00014865065891821397 model.parametros_valores: Layer1: w: 0.9952529539625212, b: 1.0683851890729787 Layer2: w: 0.9952529539625212, b: 1.0683851890729787\n",
            "iter:47: y_prime: 0.7480010353896702 loss: 0.00014397515171994668 model.parametros_valores: Layer1: w: 0.99518420394152, b: 1.06937032370173 Layer2: w: 0.99518420394152, b: 1.06937032370173\n",
            "iter:48: y_prime: 0.7481912402962213 loss: 0.0001394468057415877 model.parametros_valores: Layer1: w: 0.9951165022431918, b: 1.0703402723753448 Layer2: w: 0.9951165022431918, b: 1.0703402723753448\n",
            "iter:49: y_prime: 0.7483784256124453 loss: 0.0001350609912454682 model.parametros_valores: Layer1: w: 0.9950498335164679, b: 1.071295261887446 Layer2: w: 0.9950498335164679, b: 1.071295261887446\n"
          ]
        }
      ]
    },
    {
      "cell_type": "code",
      "source": [
        "rastro_neptune.stop()"
      ],
      "metadata": {
        "colab": {
          "base_uri": "https://localhost:8080/"
        },
        "id": "kgG0ynB2DTfd",
        "outputId": "f378f090-0de0-4347-ec1a-e42b8cb4df53"
      },
      "execution_count": 88,
      "outputs": [
        {
          "output_type": "stream",
          "name": "stdout",
          "text": [
            "Shutting down background jobs, please wait a moment...\n",
            "Done!\n"
          ]
        },
        {
          "output_type": "stream",
          "name": "stderr",
          "text": [
            "Waiting for the remaining 3 operations to synchronize with Neptune. Do not kill this process.\n"
          ]
        },
        {
          "output_type": "stream",
          "name": "stdout",
          "text": [
            "All 3 operations synced, thanks for waiting!\n"
          ]
        }
      ]
    },
    {
      "cell_type": "code",
      "source": [
        "assert model.layer1.w.data == model.layer2.w.data\n",
        "assert model.layer1.b.data == model.layer2.b.data"
      ],
      "metadata": {
        "id": "ayTpeISUpZet"
      },
      "execution_count": 87,
      "outputs": []
    }
  ]
}