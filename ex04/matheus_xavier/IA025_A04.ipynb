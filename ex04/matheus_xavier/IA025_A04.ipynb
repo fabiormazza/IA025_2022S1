{
  "nbformat": 4,
  "nbformat_minor": 0,
  "metadata": {
    "anaconda-cloud": {},
    "kernelspec": {
      "display_name": "Python 3",
      "language": "python",
      "name": "python3"
    },
    "language_info": {
      "codemirror_mode": {
        "name": "ipython",
        "version": 3
      },
      "file_extension": ".py",
      "mimetype": "text/x-python",
      "name": "python",
      "nbconvert_exporter": "python",
      "pygments_lexer": "ipython3",
      "version": "3.6.5"
    },
    "toc": {
      "nav_menu": {
        "height": "318px",
        "width": "252px"
      },
      "number_sections": true,
      "sideBar": true,
      "skip_h1_title": false,
      "toc_cell": false,
      "toc_position": {},
      "toc_section_display": "block",
      "toc_window_display": false
    },
    "colab": {
      "name": "IA025 - A04",
      "provenance": [],
      "collapsed_sections": [],
      "toc_visible": true,
      "include_colab_link": true
    }
  },
  "cells": [
    {
      "cell_type": "markdown",
      "metadata": {
        "id": "view-in-github",
        "colab_type": "text"
      },
      "source": [
        "<a href=\"https://colab.research.google.com/github/flych3r/IA025_2022S1/blob/main/ex04/matheus_xavier/IA025_A04.ipynb\" target=\"_parent\"><img src=\"https://colab.research.google.com/assets/colab-badge.svg\" alt=\"Open In Colab\"/></a>"
      ]
    },
    {
      "cell_type": "markdown",
      "metadata": {
        "id": "J3R2-_YuQT1r"
      },
      "source": [
        "# Regressão Softmax com dados do MNIST utilizando gradiente descendente estocástico por minibatches"
      ]
    },
    {
      "cell_type": "markdown",
      "metadata": {
        "id": "WkfGTqMVQT1u"
      },
      "source": [
        "Este exercicío consiste em treinar um modelo de uma única camada linear no MNIST **sem** usar as seguintes funções do pytorch:\n",
        "\n",
        "- torch.nn.Linear\n",
        "- torch.nn.CrossEntropyLoss\n",
        "- torch.nn.NLLLoss\n",
        "- torch.nn.LogSoftmax\n",
        "- torch.optim.SGD\n",
        "- torch.utils.data.Dataloader"
      ]
    },
    {
      "cell_type": "markdown",
      "metadata": {
        "id": "wFNf4RPxQT1w"
      },
      "source": [
        "## Importação das bibliotecas"
      ]
    },
    {
      "cell_type": "code",
      "metadata": {
        "ExecuteTime": {
          "end_time": "2018-08-21T14:08:14.033692Z",
          "start_time": "2018-08-21T14:08:11.179981Z"
        },
        "id": "-fLUSHaCQT1x"
      },
      "source": [
        "%matplotlib inline\n",
        "import numpy as np\n",
        "import matplotlib.pyplot as plt\n",
        "import random\n",
        "import torch\n",
        "import torchvision\n",
        "from torchvision.datasets import MNIST"
      ],
      "execution_count": 1,
      "outputs": []
    },
    {
      "cell_type": "markdown",
      "source": [
        "## Fixando as seeds"
      ],
      "metadata": {
        "id": "7_Po22b5ykhK"
      }
    },
    {
      "cell_type": "code",
      "source": [
        "random.seed(123)\n",
        "np.random.seed(123)\n",
        "torch.manual_seed(123)"
      ],
      "metadata": {
        "id": "y-7WWWgLyoRq",
        "colab": {
          "base_uri": "https://localhost:8080/"
        },
        "outputId": "6885209f-c3a3-4666-cac5-6cce6ee494c1"
      },
      "execution_count": 2,
      "outputs": [
        {
          "output_type": "execute_result",
          "data": {
            "text/plain": [
              "<torch._C.Generator at 0x7f6f5d341fb0>"
            ]
          },
          "metadata": {},
          "execution_count": 2
        }
      ]
    },
    {
      "cell_type": "markdown",
      "metadata": {
        "id": "jEMUsfJpQT11"
      },
      "source": [
        "## Dataset e dataloader"
      ]
    },
    {
      "cell_type": "markdown",
      "metadata": {
        "id": "vHoQjDs_QT12"
      },
      "source": [
        "### Definição do tamanho do minibatch"
      ]
    },
    {
      "cell_type": "code",
      "metadata": {
        "ExecuteTime": {
          "end_time": "2018-08-21T14:08:20.282474Z",
          "start_time": "2018-08-21T14:08:20.275450Z"
        },
        "id": "tEQYUr4TQT13"
      },
      "source": [
        "batch_size = 50"
      ],
      "execution_count": 3,
      "outputs": []
    },
    {
      "cell_type": "markdown",
      "metadata": {
        "id": "dc7Rv_2BQT16"
      },
      "source": [
        "### Carregamento, criação dataset e do dataloader"
      ]
    },
    {
      "cell_type": "code",
      "metadata": {
        "ExecuteTime": {
          "end_time": "2018-08-21T14:10:45.430605Z",
          "start_time": "2018-08-21T14:10:04.953051Z"
        },
        "id": "G0dEKCn-QT17",
        "colab": {
          "base_uri": "https://localhost:8080/"
        },
        "outputId": "960984b2-56ab-468d-e6ca-7efc46c8a141"
      },
      "source": [
        "dataset_dir = '../data/'\n",
        "\n",
        "dataset_train_full = MNIST(\n",
        "    dataset_dir, train=True, download=True,\n",
        "    transform=torchvision.transforms.ToTensor()\n",
        ")\n",
        "print(dataset_train_full.data.shape)\n",
        "print(dataset_train_full.targets.shape)"
      ],
      "execution_count": 4,
      "outputs": [
        {
          "output_type": "stream",
          "name": "stdout",
          "text": [
            "torch.Size([60000, 28, 28])\n",
            "torch.Size([60000])\n"
          ]
        }
      ]
    },
    {
      "cell_type": "markdown",
      "metadata": {
        "id": "_rOy9ntrQT2D"
      },
      "source": [
        "### Usando apenas 1000 amostras do MNIST\n",
        "\n",
        "Neste exercício utilizaremos 1000 amostras de treinamento."
      ]
    },
    {
      "cell_type": "code",
      "metadata": {
        "id": "WNF2XjLBWWe7"
      },
      "source": [
        "indices = torch.randperm(len(dataset_train_full))[:1000]\n",
        "dataset_train = torch.utils.data.Subset(dataset_train_full, indices)"
      ],
      "execution_count": 5,
      "outputs": []
    },
    {
      "cell_type": "code",
      "metadata": {
        "id": "aSNLD2JyA2e-"
      },
      "source": [
        "# Escreva aqui o equivalente do código abaixo:\n",
        "# loader_train = torch.utils.data.DataLoader(dataset_train, batch_size=batch_size, shuffle=False)\n",
        "import math\n",
        "\n",
        "\n",
        "class DataLoader:\n",
        "    def __init__(self, dataset: torch.utils.data.Dataset, batch_size: int = 1, shuffle: bool = True):\n",
        "        self.dataset = dataset\n",
        "        self.batch_size = batch_size\n",
        "        self.shuffle = shuffle\n",
        "        self.idx = 0\n",
        "        self.indexes = np.arange(len(dataset))\n",
        "        self._size = math.ceil(len(dataset) / self.batch_size)\n",
        "\n",
        "    def __iter__(self):\n",
        "        self.idx = 0\n",
        "        return self\n",
        "\n",
        "    def __next__(self):\n",
        "        if self.idx < len(self):\n",
        "            if self.idx == 0 and self.shuffle:\n",
        "                np.random.shuffle(self.indexes)\n",
        "            batch = self.indexes[self.idx * self.batch_size: (self.idx + 1) * self.batch_size]\n",
        "            self.idx += 1\n",
        "            x_batch, y_batch = [], []\n",
        "            for b in batch:\n",
        "                x, y = self.dataset[b]\n",
        "                x_batch.append(x)\n",
        "                y_batch.append(y)\n",
        "            return torch.stack(x_batch), torch.tensor(y_batch)\n",
        "        raise StopIteration\n",
        "\n",
        "    def __len__(self):\n",
        "        return self._size\n",
        "\n",
        "loader_train = DataLoader(dataset_train, batch_size=batch_size, shuffle=False)"
      ],
      "execution_count": 6,
      "outputs": []
    },
    {
      "cell_type": "code",
      "metadata": {
        "ExecuteTime": {
          "end_time": "2018-08-21T13:30:35.209157Z",
          "start_time": "2018-08-21T13:30:34.757103Z"
        },
        "id": "w52KGYlIQT2A",
        "colab": {
          "base_uri": "https://localhost:8080/"
        },
        "outputId": "73667e5b-2cee-44de-810c-5d01c58ca44b"
      },
      "source": [
        "print('Número de minibatches de trenamento:', len(loader_train))\n",
        "\n",
        "x_train, y_train = next(iter(loader_train))\n",
        "print(\"\\nDimensões dos dados de um minibatch:\", x_train.size())\n",
        "print(\"Valores mínimo e máximo dos pixels: \", torch.min(x_train), torch.max(x_train))\n",
        "print(\"Tipo dos dados das imagens:         \", type(x_train))\n",
        "print(\"Tipo das classes das imagens:       \", type(y_train))"
      ],
      "execution_count": 7,
      "outputs": [
        {
          "output_type": "stream",
          "name": "stdout",
          "text": [
            "Número de minibatches de trenamento: 20\n",
            "\n",
            "Dimensões dos dados de um minibatch: torch.Size([50, 1, 28, 28])\n",
            "Valores mínimo e máximo dos pixels:  tensor(0.) tensor(1.)\n",
            "Tipo dos dados das imagens:          <class 'torch.Tensor'>\n",
            "Tipo das classes das imagens:        <class 'torch.Tensor'>\n"
          ]
        }
      ]
    },
    {
      "cell_type": "markdown",
      "metadata": {
        "id": "BQA9Zg7GQT2G"
      },
      "source": [
        "## Modelo"
      ]
    },
    {
      "cell_type": "code",
      "metadata": {
        "ExecuteTime": {
          "end_time": "2018-08-20T21:03:10.802708Z",
          "start_time": "2018-08-20T21:03:10.793287Z"
        },
        "id": "_8Eg4h_kQT2H"
      },
      "source": [
        "# Escreva aqui o codigo para criar um modelo cujo o equivalente é: \n",
        "# model = torch.nn.Linear(28*28, 10)\n",
        "# model.load_state_dict(dict(weight=torch.zeros(model.weight.shape), bias=torch.zeros(model.bias.shape)))\n",
        "\n",
        "class Model:\n",
        "    def __init__(self, in_features: int, out_features: int):\n",
        "        self.weight = torch.zeros(out_features, in_features, requires_grad=True)\n",
        "        self.bias = torch.zeros(out_features, requires_grad=True)\n",
        "\n",
        "    def __call__(self, x: torch.Tensor) -> torch.Tensor:\n",
        "        y_pred = x.mm(torch.t(self.weight)) + self.bias.unsqueeze(0)\n",
        "        return y_pred\n",
        "    \n",
        "    def parameters(self):\n",
        "        return self.weight, self.bias\n",
        "\n",
        "model = Model(28*28, 10)"
      ],
      "execution_count": 8,
      "outputs": []
    },
    {
      "cell_type": "markdown",
      "metadata": {
        "id": "0NHQB4wGQT2K"
      },
      "source": [
        "## Treinamento"
      ]
    },
    {
      "cell_type": "markdown",
      "metadata": {
        "id": "nqs2JhJoQT2L"
      },
      "source": [
        "### Inicialização dos parâmetros"
      ]
    },
    {
      "cell_type": "code",
      "metadata": {
        "ExecuteTime": {
          "end_time": "2018-08-20T21:03:14.146259Z",
          "start_time": "2018-08-20T21:03:14.139515Z"
        },
        "id": "oZuYEkn_QT2M"
      },
      "source": [
        "n_epochs = 50\n",
        "lr = 0.1"
      ],
      "execution_count": 9,
      "outputs": []
    },
    {
      "cell_type": "markdown",
      "metadata": {
        "id": "tGeMCRw5kQMU"
      },
      "source": [
        "## Definição da Loss\n",
        "\n"
      ]
    },
    {
      "cell_type": "code",
      "metadata": {
        "id": "XcqFzpSTkYtk"
      },
      "source": [
        "# Escreva aqui o equivalente de:\n",
        "# criterion = torch.nn.CrossEntropyLoss()\n",
        "\n",
        "class CrossEntropyLoss:\n",
        "    def __init__(self):\n",
        "        self.loss = 0\n",
        "\n",
        "    def __call__(self, inputs: torch.Tensor, targets: torch.Tensor):   \n",
        "        log_sum_exp = torch.log(torch.sum(torch.exp(inputs), dim=1, keepdim=True))\n",
        "        logits = inputs.gather(dim=1, index=targets.unsqueeze(dim=1))\n",
        "        return torch.mean(-logits + log_sum_exp)\n",
        "\n",
        "criterion = CrossEntropyLoss()"
      ],
      "execution_count": 10,
      "outputs": []
    },
    {
      "cell_type": "markdown",
      "source": [
        "# Definição do Optimizer"
      ],
      "metadata": {
        "id": "01BDueU2x4ox"
      }
    },
    {
      "cell_type": "code",
      "source": [
        "# Escreva aqui o equivalente de:\n",
        "# optimizer = torch.optim.SGD(model.parameters(), lr)\n",
        "from typing import Iterable\n",
        "\n",
        "class SGD:\n",
        "    def __init__(self, parameters: Iterable[torch.Tensor], learning_rate: float):\n",
        "        self.parameters = parameters\n",
        "        self.learning_rate = learning_rate\n",
        "\n",
        "    def step(self):\n",
        "        for p in self.parameters:\n",
        "            p.data -= self.learning_rate * p.grad\n",
        "\n",
        "    def zero_grad(self):\n",
        "        for p in self.parameters:\n",
        "            p.grad = torch.zeros_like(p.data)\n",
        "\n",
        "optimizer = SGD(model.parameters(), lr)"
      ],
      "metadata": {
        "id": "tIlnR_Z8x85O"
      },
      "execution_count": 12,
      "outputs": []
    },
    {
      "cell_type": "markdown",
      "metadata": {
        "id": "pmXarXeIQT2O"
      },
      "source": [
        "### Laço de treinamento dos parâmetros"
      ]
    },
    {
      "cell_type": "code",
      "metadata": {
        "ExecuteTime": {
          "end_time": "2018-08-20T21:03:40.796410Z",
          "start_time": "2018-08-20T21:03:39.771981Z"
        },
        "id": "L5T_jZZPQT2P",
        "colab": {
          "base_uri": "https://localhost:8080/"
        },
        "outputId": "8e1694e2-0bbd-4383-fe08-c76da2583d8a"
      },
      "source": [
        "epochs = []\n",
        "loss_history = []\n",
        "loss_epoch_end = []\n",
        "total_trained_samples = 0\n",
        "for i in range(n_epochs):\n",
        "    # Substitua aqui o loader_train de acordo com sua implementação do dataloader.\n",
        "    for x_train, y_train in loader_train:\n",
        "        # Transforma a entrada para uma dimensão\n",
        "        inputs = x_train.view(-1, 28 * 28)\n",
        "        # predict da rede\n",
        "        outputs = model(inputs)\n",
        "\n",
        "        # calcula a perda\n",
        "        loss = criterion(outputs, y_train)\n",
        "\n",
        "        # zero, backpropagation, ajusta parâmetros pelo gradiente descendente\n",
        "        # Escreva aqui o código cujo o resultado é equivalente às 3 linhas abaixo:\n",
        "        optimizer.zero_grad()\n",
        "        loss.backward()\n",
        "        optimizer.step()\n",
        "\n",
        "        total_trained_samples += x_train.size(0)\n",
        "        epochs.append(total_trained_samples / len(dataset_train))\n",
        "        loss_history.append(loss.item())\n",
        "\n",
        "    loss_epoch_end.append(loss.item())\n",
        "    print(f'Epoch: {i:d}/{n_epochs - 1:d} Loss: {loss.item()}')"
      ],
      "execution_count": 13,
      "outputs": [
        {
          "output_type": "stream",
          "name": "stdout",
          "text": [
            "Epoch: 0/49 Loss: 1.1979684829711914\n",
            "Epoch: 1/49 Loss: 0.867622971534729\n",
            "Epoch: 2/49 Loss: 0.7226786613464355\n",
            "Epoch: 3/49 Loss: 0.6381281018257141\n",
            "Epoch: 4/49 Loss: 0.5809750556945801\n",
            "Epoch: 5/49 Loss: 0.5387411713600159\n",
            "Epoch: 6/49 Loss: 0.5056463479995728\n",
            "Epoch: 7/49 Loss: 0.47862708568573\n",
            "Epoch: 8/49 Loss: 0.4558936655521393\n",
            "Epoch: 9/49 Loss: 0.4363219141960144\n",
            "Epoch: 10/49 Loss: 0.4191650152206421\n",
            "Epoch: 11/49 Loss: 0.403904527425766\n",
            "Epoch: 12/49 Loss: 0.39016804099082947\n",
            "Epoch: 13/49 Loss: 0.3776799738407135\n",
            "Epoch: 14/49 Loss: 0.3662315011024475\n",
            "Epoch: 15/49 Loss: 0.35566142201423645\n",
            "Epoch: 16/49 Loss: 0.34584280848503113\n",
            "Epoch: 17/49 Loss: 0.33667415380477905\n",
            "Epoch: 18/49 Loss: 0.3280735909938812\n",
            "Epoch: 19/49 Loss: 0.31997358798980713\n",
            "Epoch: 20/49 Loss: 0.3123184144496918\n",
            "Epoch: 21/49 Loss: 0.30506110191345215\n",
            "Epoch: 22/49 Loss: 0.2981624901294708\n",
            "Epoch: 23/49 Loss: 0.29158854484558105\n",
            "Epoch: 24/49 Loss: 0.2853103280067444\n",
            "Epoch: 25/49 Loss: 0.27930304408073425\n",
            "Epoch: 26/49 Loss: 0.2735445499420166\n",
            "Epoch: 27/49 Loss: 0.2680158317089081\n",
            "Epoch: 28/49 Loss: 0.26270005106925964\n",
            "Epoch: 29/49 Loss: 0.2575823664665222\n",
            "Epoch: 30/49 Loss: 0.25264933705329895\n",
            "Epoch: 31/49 Loss: 0.24788936972618103\n",
            "Epoch: 32/49 Loss: 0.24329166114330292\n",
            "Epoch: 33/49 Loss: 0.23884664475917816\n",
            "Epoch: 34/49 Loss: 0.23454585671424866\n",
            "Epoch: 35/49 Loss: 0.23038141429424286\n",
            "Epoch: 36/49 Loss: 0.22634631395339966\n",
            "Epoch: 37/49 Loss: 0.22243395447731018\n",
            "Epoch: 38/49 Loss: 0.2186385691165924\n",
            "Epoch: 39/49 Loss: 0.21495485305786133\n",
            "Epoch: 40/49 Loss: 0.21137763559818268\n",
            "Epoch: 41/49 Loss: 0.20790255069732666\n",
            "Epoch: 42/49 Loss: 0.20452527701854706\n",
            "Epoch: 43/49 Loss: 0.20124195516109467\n",
            "Epoch: 44/49 Loss: 0.19804900884628296\n",
            "Epoch: 45/49 Loss: 0.19494293630123138\n",
            "Epoch: 46/49 Loss: 0.1919206976890564\n",
            "Epoch: 47/49 Loss: 0.1889793425798416\n",
            "Epoch: 48/49 Loss: 0.1861160844564438\n",
            "Epoch: 49/49 Loss: 0.1833283007144928\n"
          ]
        }
      ]
    },
    {
      "cell_type": "markdown",
      "metadata": {
        "id": "1dYK0nqsQT2U"
      },
      "source": [
        "### Visualizando gráfico de perda durante o treinamento"
      ]
    },
    {
      "cell_type": "code",
      "metadata": {
        "ExecuteTime": {
          "end_time": "2018-08-20T21:03:52.026752Z",
          "start_time": "2018-08-20T21:03:51.756518Z"
        },
        "id": "LIyUI6AHQT2V",
        "colab": {
          "base_uri": "https://localhost:8080/",
          "height": 297
        },
        "outputId": "f8371ada-aaa1-43c7-a239-01f1b206b60d"
      },
      "source": [
        "plt.plot(epochs, loss_history)\n",
        "plt.xlabel('época')"
      ],
      "execution_count": 14,
      "outputs": [
        {
          "output_type": "execute_result",
          "data": {
            "text/plain": [
              "Text(0.5, 0, 'época')"
            ]
          },
          "metadata": {},
          "execution_count": 14
        },
        {
          "output_type": "display_data",
          "data": {
            "text/plain": [
              "<Figure size 432x288 with 1 Axes>"
            ],
            "image/png": "[encoded data removed]"
          },
          "metadata": {
            "needs_background": "light"
          }
        }
      ]
    },
    {
      "cell_type": "markdown",
      "metadata": {
        "id": "rLL-GQlKQT2Y"
      },
      "source": [
        "### Visualização usual da perda, somente no final de cada minibatch"
      ]
    },
    {
      "cell_type": "code",
      "metadata": {
        "ExecuteTime": {
          "end_time": "2018-08-20T21:03:55.246851Z",
          "start_time": "2018-08-20T21:03:54.994428Z"
        },
        "id": "w38EtNxhQT2Z",
        "colab": {
          "base_uri": "https://localhost:8080/",
          "height": 297
        },
        "outputId": "29b16297-8d5d-4d6b-9ea0-d5b099f4f3bc"
      },
      "source": [
        "n_batches_train = len(loader_train)\n",
        "plt.plot(epochs[::n_batches_train], loss_history[::n_batches_train])\n",
        "plt.xlabel('época')"
      ],
      "execution_count": 15,
      "outputs": [
        {
          "output_type": "execute_result",
          "data": {
            "text/plain": [
              "Text(0.5, 0, 'época')"
            ]
          },
          "metadata": {},
          "execution_count": 15
        },
        {
          "output_type": "display_data",
          "data": {
            "text/plain": [
              "<Figure size 432x288 with 1 Axes>"
            ],
            "image/png": "[encoded data removed]"
          },
          "metadata": {
            "needs_background": "light"
          }
        }
      ]
    },
    {
      "cell_type": "code",
      "metadata": {
        "ExecuteTime": {
          "end_time": "2018-08-20T21:03:48.786969Z",
          "start_time": "2018-08-20T21:03:48.781787Z"
        },
        "id": "PiuMsjYtQT2R"
      },
      "source": [
        "# Assert do histórico de losses\n",
        "target_loss_epoch_end = np.array([\n",
        "    1.1979684829711914,\n",
        "    0.867622971534729,\n",
        "    0.7226786613464355,\n",
        "    0.6381281018257141,\n",
        "    0.5809749960899353,\n",
        "    0.5387411713600159,\n",
        "    0.5056464076042175,\n",
        "    0.4786270558834076,\n",
        "    0.4558936357498169,\n",
        "    0.4363219141960144,\n",
        "    0.4191650450229645,\n",
        "    0.4039044976234436,\n",
        "    0.3901679515838623,\n",
        "    0.3776799440383911,\n",
        "    0.3662314713001251,\n",
        "    0.35566139221191406,\n",
        "    0.34584277868270874,\n",
        "    0.33667415380477905,\n",
        "    0.32807353138923645,\n",
        "    0.31997355818748474,\n",
        "    0.312318354845047,\n",
        "    0.3050611615180969,\n",
        "    0.29816246032714844,\n",
        "    0.29158851504325867,\n",
        "    0.28531041741371155,\n",
        "    0.2793029546737671,\n",
        "    0.273544579744339,\n",
        "    0.2680158317089081,\n",
        "    0.26270008087158203,\n",
        "    0.2575823664665222,\n",
        "    0.25264936685562134,\n",
        "    0.24788929522037506,\n",
        "    0.24329163134098053,\n",
        "    0.23884665966033936,\n",
        "    0.23454584181308746,\n",
        "    0.23038141429424286,\n",
        "    0.22634628415107727,\n",
        "    0.22243399918079376,\n",
        "    0.2186385989189148,\n",
        "    0.21495483815670013,\n",
        "    0.21137762069702148,\n",
        "    0.20790249109268188,\n",
        "    0.20452524721622467,\n",
        "    0.20124195516109467,\n",
        "    0.19804897904396057,\n",
        "    0.1949428766965866,\n",
        "    0.19192075729370117,\n",
        "    0.188979372382164,\n",
        "    0.18611609935760498,\n",
        "    0.1833282858133316])\n",
        "\n",
        "assert np.allclose(np.array(loss_epoch_end), target_loss_epoch_end, atol=1e-6)"
      ],
      "execution_count": 16,
      "outputs": []
    },
    {
      "cell_type": "markdown",
      "metadata": {
        "id": "fptnTktx_1rh"
      },
      "source": [
        "## Exercício \n",
        "\n",
        "Escreva um código que responda às seguintes perguntas:\n",
        "\n",
        "Qual é a amostra classificada corretamente, com maior probabilidade?\n",
        "\n",
        "Qual é a amostra classificada erradamente, com maior probabilidade?\n",
        "\n",
        "Qual é a amostra classificada corretamente, com menor probabilidade?\n",
        "\n",
        "Qual é a amostra classificada erradamente, com menor probabilidade?"
      ]
    },
    {
      "cell_type": "code",
      "metadata": {
        "id": "IzH8iMGt_1Rr"
      },
      "source": [
        "# Escreva o código aqui:\n",
        "loader_eval = DataLoader(dataset_train, batch_size=len(dataset_train), shuffle=False)\n",
        "\n",
        "x, y = next(loader_eval)\n",
        "logits = model(x.view(-1, 28 * 28))\n",
        "\n",
        "exp_logits = torch.exp(logits)\n",
        "sum_exp_logits = torch.sum(exp_logits, dim=1, keepdim=True)\n",
        "softmax = (exp_logits / sum_exp_logits).detach()\n",
        "\n",
        "y_pred = torch.argmax(softmax, dim=1)\n",
        "y_proba = softmax.gather(-1, y_pred.view(-1, 1)).ravel()\n",
        "\n",
        "corret_preditions = (y == y_pred)\n",
        "wrong_predictions = (y != y_pred)"
      ],
      "execution_count": 17,
      "outputs": []
    },
    {
      "cell_type": "code",
      "source": [
        "def plot_image_and_proba(images, probas, idx, title):\n",
        "    plt.figure(figsize=(16, 8))\n",
        "    x_labels = list(range(10))\n",
        "    plt.subplot(121)\n",
        "    plt.imshow(images[idx][0])\n",
        "    plt.subplot(122)\n",
        "    plt.bar(x_labels, probas[idx])\n",
        "    plt.xticks(x_labels)\n",
        "    plt.suptitle(title)\n",
        "    plt.show()"
      ],
      "metadata": {
        "id": "GPBpNRFgXfLz"
      },
      "execution_count": 18,
      "outputs": []
    },
    {
      "cell_type": "code",
      "source": [
        "# Qual é a amostra classificada corretamente, com maior probabilidade?\n",
        "\n",
        "mask = corret_preditions\n",
        "idx = torch.argmax(y_proba[mask])\n",
        "\n",
        "title = 'Predita: {} | Probabilidate: {:.4f} | Correta: {}'.format(\n",
        "    y_pred[mask][idx],\n",
        "    y_proba[mask][idx],\n",
        "    y[mask][idx],\n",
        ")\n",
        "plot_image_and_proba(x[mask], softmax[mask], idx, title)"
      ],
      "metadata": {
        "colab": {
          "base_uri": "https://localhost:8080/",
          "height": 540
        },
        "id": "bvVwVUWhVKfi",
        "outputId": "e5d03a2c-22f7-4c2b-b531-c4867a50436c"
      },
      "execution_count": 19,
      "outputs": [
        {
          "output_type": "display_data",
          "data": {
            "text/plain": [
              "<Figure size 1152x576 with 2 Axes>"
            ],
            "image/png": "[encoded data removed]"
          },
          "metadata": {
            "needs_background": "light"
          }
        }
      ]
    },
    {
      "cell_type": "code",
      "source": [
        "# Qual é a amostra classificada erradamente, com maior probabilidade?\n",
        "\n",
        "mask = wrong_predictions\n",
        "idx = torch.argmax(y_proba[mask])\n",
        "\n",
        "title = 'Predita: {} | Probabilidate: {:.4f} | Correta: {}'.format(\n",
        "    y_pred[mask][idx],\n",
        "    y_proba[mask][idx],\n",
        "    y[mask][idx],\n",
        ")\n",
        "plot_image_and_proba(x[mask], softmax[mask], idx, title)"
      ],
      "metadata": {
        "colab": {
          "base_uri": "https://localhost:8080/",
          "height": 540
        },
        "id": "x8GKvoFnY83Z",
        "outputId": "285c9724-eb30-473a-de9c-5cc1a8adb595"
      },
      "execution_count": 20,
      "outputs": [
        {
          "output_type": "display_data",
          "data": {
            "text/plain": [
              "<Figure size 1152x576 with 2 Axes>"
            ],
            "image/png": "[encoded data removed]"
          },
          "metadata": {
            "needs_background": "light"
          }
        }
      ]
    },
    {
      "cell_type": "code",
      "source": [
        "# Qual é a amostra classificada corretamente, com menor probabilidade?\n",
        "\n",
        "mask = corret_preditions\n",
        "idx = torch.argmin(y_proba[mask])\n",
        "\n",
        "title = 'Predita: {} | Probabilidate: {:.4f} | Correta: {}'.format(\n",
        "    y_pred[mask][idx],\n",
        "    y_proba[mask][idx],\n",
        "    y[mask][idx],\n",
        ")\n",
        "plot_image_and_proba(x[mask], softmax[mask], idx, title)"
      ],
      "metadata": {
        "colab": {
          "base_uri": "https://localhost:8080/",
          "height": 540
        },
        "id": "ESCf9vcmbdon",
        "outputId": "fbbde6b8-240e-402e-8e2e-1586f98ebcfb"
      },
      "execution_count": 21,
      "outputs": [
        {
          "output_type": "display_data",
          "data": {
            "text/plain": [
              "<Figure size 1152x576 with 2 Axes>"
            ],
            "image/png": "[encoded data removed]"
          },
          "metadata": {
            "needs_background": "light"
          }
        }
      ]
    },
    {
      "cell_type": "code",
      "source": [
        "# Qual é a amostra classificada erradamente, com menor probabilidade?\n",
        "\n",
        "mask = wrong_predictions\n",
        "idx = torch.argmin(y_proba[mask])\n",
        "\n",
        "title = 'Predita: {} | Probabilidate: {:.4f} | Correta: {}'.format(\n",
        "    y_pred[mask][idx],\n",
        "    y_proba[mask][idx],\n",
        "    y[mask][idx],\n",
        ")\n",
        "plot_image_and_proba(x[mask], softmax[mask], idx, title)"
      ],
      "metadata": {
        "colab": {
          "base_uri": "https://localhost:8080/",
          "height": 540
        },
        "id": "6ddgYSMAUoc_",
        "outputId": "5605edb7-304c-4d81-ef4b-241098c72118"
      },
      "execution_count": 22,
      "outputs": [
        {
          "output_type": "display_data",
          "data": {
            "text/plain": [
              "<Figure size 1152x576 with 2 Axes>"
            ],
            "image/png": "[encoded data removed]"
          },
          "metadata": {
            "needs_background": "light"
          }
        }
      ]
    },
    {
      "cell_type": "markdown",
      "metadata": {
        "id": "0xmj1GWXUoNs"
      },
      "source": [
        "## Exercício Bonus\n",
        "\n",
        "Implemente um dataloader que aceite como parâmetro de entrada a distribuição probabilidade das classes que deverão compor um batch.\n",
        "Por exemplo, se a distribuição de probabilidade passada como entrada for:\n",
        "\n",
        "`[0.01, 0.01, 0.72, 0.2, 0.01, 0.01, 0.01, 0.01, 0.01, 0.01]`\n",
        "\n",
        "Em média, 72% dos exemplos do batch deverão ser da classe 2, 20% deverão ser da classe 3, e os demais deverão ser das outras classes.\n",
        "\n",
        "Mostre também que sua implementação está correta.\n"
      ]
    }
  ]
}