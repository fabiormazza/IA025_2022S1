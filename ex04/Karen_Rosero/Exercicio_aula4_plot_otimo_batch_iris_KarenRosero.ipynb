{
  "nbformat": 4,
  "nbformat_minor": 0,
  "metadata": {
    "colab": {
      "name": "Exercicio_aula4_plot_otimo_batch_iris_KarenRosero.ipynb",
      "provenance": [],
      "collapsed_sections": [],
      "include_colab_link": true
    },
    "kernelspec": {
      "name": "python3",
      "display_name": "Python 3"
    },
    "language_info": {
      "name": "python"
    }
  },
  "cells": [
    {
      "cell_type": "markdown",
      "metadata": {
        "id": "view-in-github",
        "colab_type": "text"
      },
      "source": [
        "<a href=\"https://colab.research.google.com/github/unicamp-dl/IA025_2022S1/blob/main/ex04/Karen_Rosero/Exercicio_aula4_plot_otimo_batch_iris_KarenRosero.ipynb\" target=\"_parent\"><img src=\"https://colab.research.google.com/assets/colab-badge.svg\" alt=\"Open In Colab\"/></a>"
      ]
    },
    {
      "cell_type": "markdown",
      "source": [
        "*Nome*: Karen Rosero"
      ],
      "metadata": {
        "id": "OuUGV9Mka-_m"
      }
    },
    {
      "cell_type": "code",
      "execution_count": null,
      "metadata": {
        "id": "dCHgSQLCl-cT"
      },
      "outputs": [],
      "source": [
        "import numpy as np\n",
        "import torch\n",
        "from torch.utils.data import TensorDataset\n",
        "from torch.utils.data import DataLoader\n",
        "\n",
        "from torchvision import transforms\n",
        "\n",
        "from sklearn.datasets import load_iris\n",
        "%matplotlib inline\n",
        "import matplotlib.pyplot as plt"
      ]
    },
    {
      "cell_type": "code",
      "source": [
        "iris = load_iris()\n",
        "data = iris.data[iris.target==1,::2]  # comprimento das sépalas e pétalas, indices 0 e 2\n",
        "\n",
        "x_data = data[:,0:1]\n",
        "target = data[:,1:2]\n",
        "n_samples = x_data.shape[0]\n",
        "\n",
        "print('dimensões de x_data:', x_data.shape)\n",
        "print('dimensões de target:', target.shape)"
      ],
      "metadata": {
        "colab": {
          "base_uri": "https://localhost:8080/"
        },
        "id": "3tq5F1rPmDSm",
        "outputId": "246932b0-366d-4a92-9c61-5dba511e359d"
      },
      "execution_count": null,
      "outputs": [
        {
          "output_type": "stream",
          "name": "stdout",
          "text": [
            "dimensões de x_data: (50, 1)\n",
            "dimensões de target: (50, 1)\n"
          ]
        }
      ]
    },
    {
      "cell_type": "code",
      "source": [
        "x_train = torch.FloatTensor(x_data)\n",
        "y_train = torch.FloatTensor(target)\n",
        "xt_min = x_train.min()\n",
        "xt_max = x_train.max()\n",
        "x_train_n = (x_train - xt_min)/(xt_max - xt_min)\n",
        "\n",
        "yt_min = y_train.min()\n",
        "yt_max = y_train.max()\n",
        "y_train_n = (y_train - yt_min)/(yt_max - yt_min)"
      ],
      "metadata": {
        "id": "UoDwmWyRmKAC"
      },
      "execution_count": null,
      "outputs": []
    },
    {
      "cell_type": "code",
      "source": [
        "x_train_bias = torch.cat([torch.ones(size=(n_samples,1)), x_train_n], dim=1)\n",
        "print(x_train_bias.shape)"
      ],
      "metadata": {
        "colab": {
          "base_uri": "https://localhost:8080/"
        },
        "id": "808SexYanRHA",
        "outputId": "846fcb7c-fc57-4881-8cc5-40d075d28b2e"
      },
      "execution_count": null,
      "outputs": [
        {
          "output_type": "stream",
          "name": "stdout",
          "text": [
            "torch.Size([50, 2])\n"
          ]
        }
      ]
    },
    {
      "cell_type": "code",
      "source": [
        "dataset = TensorDataset(x_train_bias, y_train_n)"
      ],
      "metadata": {
        "id": "28YsXH5jmZAZ"
      },
      "execution_count": null,
      "outputs": []
    },
    {
      "cell_type": "code",
      "source": [
        "data_loader = DataLoader(dataset, \n",
        "                         batch_size=10, # tamanho do mini-batch de dados\n",
        "                         shuffle=True) # se for True, embaralha os dados no inicio de cada iteração"
      ],
      "metadata": {
        "id": "xhHiL5Tkmwex"
      },
      "execution_count": null,
      "outputs": []
    },
    {
      "cell_type": "markdown",
      "source": [
        "Solução ótima"
      ],
      "metadata": {
        "id": "pYVneGRYneXZ"
      }
    },
    {
      "cell_type": "code",
      "source": [
        "x_bias, y = next(iter(data_loader))"
      ],
      "metadata": {
        "id": "Ra0wXQHSnkCt"
      },
      "execution_count": null,
      "outputs": []
    },
    {
      "cell_type": "code",
      "source": [
        "w_opt = (torch.inverse(x_bias.t().mm(x_bias)).mm(x_bias.t())).mm(y)\n",
        "print(w_opt.t(), w_opt.shape)"
      ],
      "metadata": {
        "colab": {
          "base_uri": "https://localhost:8080/"
        },
        "id": "3vVTJ_Z5mx6K",
        "outputId": "c4b7ead3-1505-46bd-da06-29c36f8c5b54"
      },
      "execution_count": null,
      "outputs": [
        {
          "output_type": "stream",
          "name": "stdout",
          "text": [
            "tensor([[0.5131, 0.3848]]) torch.Size([2, 1])\n"
          ]
        }
      ]
    },
    {
      "cell_type": "markdown",
      "source": [
        "# Exercício é codificar a próxima célula:"
      ],
      "metadata": {
        "id": "FIxIOUmSa3mQ"
      }
    },
    {
      "cell_type": "code",
      "source": [
        "# colocar aqui um laço para \n",
        "# calcular os valores ótimos associados a cada batch\n",
        "# é esperado um gráfico parecido com o gráfico\n",
        "\n",
        "w_list = []\n",
        "epochs = 1000\n",
        "\n",
        "for i in range(epochs):\n",
        "  for x_bias, y in data_loader:\n",
        "      #print(x_bias, y)\n",
        "      w_opt_e = (torch.inverse(x_bias.t().mm(x_bias)).mm(x_bias.t())).mm(y)\n",
        "      #print(w_opt_batch)\n",
        "      w_list.append(w_opt_e.t())    "
      ],
      "metadata": {
        "id": "mw7E0q8Jobkh"
      },
      "execution_count": null,
      "outputs": []
    },
    {
      "cell_type": "code",
      "source": [
        "# obtenho um valor ótimo de cada batch de cada época, então\n",
        "# vou obter 5 valores ótimos associados para cada epoca\n",
        "# se tenho 1500 épocas, por isso meu vetor vai ter 5000 valores\n",
        "print(len(w_list)) "
      ],
      "metadata": {
        "colab": {
          "base_uri": "https://localhost:8080/"
        },
        "id": "kD7pWcX-nr8a",
        "outputId": "3d77f347-94bf-4b2c-dc08-65b672c8fdf8"
      },
      "execution_count": null,
      "outputs": [
        {
          "output_type": "stream",
          "name": "stdout",
          "text": [
            "5000\n"
          ]
        }
      ]
    },
    {
      "cell_type": "code",
      "source": [
        "w_opt = torch.cat(w_list)\n",
        "plt.scatter(w_opt[:,0], w_opt[:,1])"
      ],
      "metadata": {
        "colab": {
          "base_uri": "https://localhost:8080/",
          "height": 282
        },
        "id": "k6yGFZi8lCLb",
        "outputId": "9eb764dd-f1d7-49c1-ce61-c45e25b9db51"
      },
      "execution_count": null,
      "outputs": [
        {
          "output_type": "execute_result",
          "data": {
            "text/plain": [
              "<matplotlib.collections.PathCollection at 0x7f7344120410>"
            ]
          },
          "metadata": {},
          "execution_count": 51
        },
        {
          "output_type": "display_data",
          "data": {
            "text/plain": [
              "<Figure size 432x288 with 1 Axes>"
            ],
            "image/png": "[encoded data removed]"
          },
          "metadata": {
            "needs_background": "light"
          }
        }
      ]
    }
  ]
}