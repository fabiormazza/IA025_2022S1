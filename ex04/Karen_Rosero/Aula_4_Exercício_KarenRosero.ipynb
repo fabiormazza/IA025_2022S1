{
  "nbformat": 4,
  "nbformat_minor": 0,
  "metadata": {
    "anaconda-cloud": {},
    "kernelspec": {
      "display_name": "Python 3",
      "language": "python",
      "name": "python3"
    },
    "language_info": {
      "codemirror_mode": {
        "name": "ipython",
        "version": 3
      },
      "file_extension": ".py",
      "mimetype": "text/x-python",
      "name": "python",
      "nbconvert_exporter": "python",
      "pygments_lexer": "ipython3",
      "version": "3.6.5"
    },
    "toc": {
      "nav_menu": {
        "height": "318px",
        "width": "252px"
      },
      "number_sections": true,
      "sideBar": true,
      "skip_h1_title": false,
      "toc_cell": false,
      "toc_position": {},
      "toc_section_display": "block",
      "toc_window_display": false
    },
    "colab": {
      "name": "Aula 4 - Exercício - KarenRosero",
      "provenance": [],
      "collapsed_sections": [],
      "include_colab_link": true
    }
  },
  "cells": [
    {
      "cell_type": "markdown",
      "metadata": {
        "id": "view-in-github",
        "colab_type": "text"
      },
      "source": [
        "<a href=\"https://colab.research.google.com/github/unicamp-dl/IA025_2022S1/blob/main/ex04/Karen_Rosero/Aula_4_Exerc%C3%ADcio_KarenRosero.ipynb\" target=\"_parent\"><img src=\"https://colab.research.google.com/assets/colab-badge.svg\" alt=\"Open In Colab\"/></a>"
      ]
    },
    {
      "cell_type": "markdown",
      "metadata": {
        "id": "J3R2-_YuQT1r"
      },
      "source": [
        "# Regressão Softmax com dados do MNIST utilizando gradiente descendente estocástico por minibatches"
      ]
    },
    {
      "cell_type": "markdown",
      "metadata": {
        "id": "WkfGTqMVQT1u"
      },
      "source": [
        "Este exercicío consiste em treinar um modelo de uma única camada linear no MNIST **sem** usar as seguintes funções do pytorch:\n",
        "\n",
        "- torch.nn.Linear\n",
        "- torch.nn.CrossEntropyLoss\n",
        "- torch.nn.NLLLoss\n",
        "- torch.nn.LogSoftmax\n",
        "- torch.optim.SGD\n",
        "- torch.utils.data.Dataloader"
      ]
    },
    {
      "cell_type": "markdown",
      "source": [
        "Peguei dicas da implementação de algumas funções dos notebooks de Larissa Santesso e Gabriel Lopes. Agradeço pelo aporte. "
      ],
      "metadata": {
        "id": "D-DPpbg_CnIb"
      }
    },
    {
      "cell_type": "markdown",
      "metadata": {
        "id": "wFNf4RPxQT1w"
      },
      "source": [
        "## Importação das bibliotecas"
      ]
    },
    {
      "cell_type": "code",
      "metadata": {
        "ExecuteTime": {
          "end_time": "2018-08-21T14:08:14.033692Z",
          "start_time": "2018-08-21T14:08:11.179981Z"
        },
        "id": "-fLUSHaCQT1x"
      },
      "source": [
        "%matplotlib inline\n",
        "import numpy as np\n",
        "import matplotlib.pyplot as plt\n",
        "import random\n",
        "import torch\n",
        "import torchvision\n",
        "from torchvision.datasets import MNIST\n",
        "from math import ceil"
      ],
      "execution_count": null,
      "outputs": []
    },
    {
      "cell_type": "markdown",
      "source": [
        "## Fixando as seeds"
      ],
      "metadata": {
        "id": "7_Po22b5ykhK"
      }
    },
    {
      "cell_type": "code",
      "source": [
        "random.seed(123)\n",
        "np.random.seed(123)\n",
        "torch.manual_seed(123)"
      ],
      "metadata": {
        "id": "y-7WWWgLyoRq",
        "colab": {
          "base_uri": "https://localhost:8080/"
        },
        "outputId": "21106819-5578-4ac8-820e-b737e5ab50fa"
      },
      "execution_count": null,
      "outputs": [
        {
          "output_type": "execute_result",
          "data": {
            "text/plain": [
              "<torch._C.Generator at 0x7f1b52eaffd0>"
            ]
          },
          "metadata": {},
          "execution_count": 2
        }
      ]
    },
    {
      "cell_type": "markdown",
      "metadata": {
        "id": "jEMUsfJpQT11"
      },
      "source": [
        "## Dataset e dataloader"
      ]
    },
    {
      "cell_type": "markdown",
      "metadata": {
        "id": "vHoQjDs_QT12"
      },
      "source": [
        "### Definição do tamanho do minibatch"
      ]
    },
    {
      "cell_type": "code",
      "metadata": {
        "ExecuteTime": {
          "end_time": "2018-08-21T14:08:20.282474Z",
          "start_time": "2018-08-21T14:08:20.275450Z"
        },
        "id": "tEQYUr4TQT13"
      },
      "source": [
        "batch_size = 50"
      ],
      "execution_count": null,
      "outputs": []
    },
    {
      "cell_type": "markdown",
      "metadata": {
        "id": "dc7Rv_2BQT16"
      },
      "source": [
        "### Carregamento, criação dataset e do dataloader"
      ]
    },
    {
      "cell_type": "code",
      "metadata": {
        "ExecuteTime": {
          "end_time": "2018-08-21T14:10:45.430605Z",
          "start_time": "2018-08-21T14:10:04.953051Z"
        },
        "id": "G0dEKCn-QT17",
        "colab": {
          "base_uri": "https://localhost:8080/"
        },
        "outputId": "f23d3761-0c95-463c-dab1-1401f4051ad9"
      },
      "source": [
        "dataset_dir = '../data/'\n",
        "\n",
        "dataset_train_full = MNIST(dataset_dir, train=True, download=True,\n",
        "                           transform=torchvision.transforms.ToTensor())\n",
        "print(dataset_train_full.data.shape)\n",
        "print(dataset_train_full.targets.shape)"
      ],
      "execution_count": null,
      "outputs": [
        {
          "output_type": "stream",
          "name": "stdout",
          "text": [
            "torch.Size([60000, 28, 28])\n",
            "torch.Size([60000])\n"
          ]
        }
      ]
    },
    {
      "cell_type": "markdown",
      "metadata": {
        "id": "_rOy9ntrQT2D"
      },
      "source": [
        "### Usando apenas 1000 amostras do MNIST\n",
        "\n",
        "Neste exercício utilizaremos 1000 amostras de treinamento."
      ]
    },
    {
      "cell_type": "code",
      "metadata": {
        "id": "WNF2XjLBWWe7"
      },
      "source": [
        "indices = torch.randperm(len(dataset_train_full))[:1000]\n",
        "dataset_train = torch.utils.data.Subset(dataset_train_full, indices)"
      ],
      "execution_count": null,
      "outputs": []
    },
    {
      "cell_type": "code",
      "metadata": {
        "id": "aSNLD2JyA2e-"
      },
      "source": [
        "# Escreva aqui o equivalente do código abaixo:\n",
        "# loader_train = torch.utils.data.DataLoader(dataset_train, batch_size=batch_size, shuffle=False)\n",
        "\n",
        "class KDataLoader():\n",
        "    def __init__(self, dataset_train=dataset_train, batch_size=batch_size, shuffle=True):\n",
        "      self.batch_size = batch_size\n",
        "      self.idx = 0\n",
        "      if shuffle:\n",
        "          self.dataset_train = list(dataset_train)\n",
        "          random.shuffle(self.dataset_train)\n",
        "      else:\n",
        "          self.dataset_train = list(dataset_train)\n",
        "      \n",
        "      self.n_batch = int(ceil(len(self.dataset_train)/self.batch_size))\n",
        "        \n",
        "    def __len__(self):\n",
        "      return self.n_batch\n",
        "\n",
        "    def __iter__(self):\n",
        "      self.idx = 0\n",
        "      return self\n",
        "\n",
        "    def __next__(self):\n",
        "      if self.batch_size + self.idx > len(self.dataset_train):\n",
        "          self.batch_size = len(self.dataset_train) - self.idx\n",
        "          if self.idx >= len(self.dataset_train):\n",
        "              raise StopIteration\n",
        "      for idx_b in range(self.batch_size):\n",
        "          x, y = self.dataset_train[idx_b + self.idx]\n",
        "          y = torch.tensor([y])\n",
        "          if idx_b == 0:   #primeiro batch não concateno \n",
        "              b_x = x\n",
        "              b_y = y\n",
        "          else:\n",
        "              b_x = torch.cat((b_x, x))\n",
        "              b_y = torch.cat((b_y, y))\n",
        "      self.idx += batch_size\n",
        "      return b_x, b_y\n",
        "\n",
        "loader_train = KDataLoader(dataset_train, batch_size=batch_size, shuffle=False)      "
      ],
      "execution_count": null,
      "outputs": []
    },
    {
      "cell_type": "code",
      "metadata": {
        "ExecuteTime": {
          "end_time": "2018-08-21T13:30:35.209157Z",
          "start_time": "2018-08-21T13:30:34.757103Z"
        },
        "id": "w52KGYlIQT2A",
        "colab": {
          "base_uri": "https://localhost:8080/"
        },
        "outputId": "901fbdcd-020b-43d6-c0d4-ec0ca362ce22"
      },
      "source": [
        "print('Número de minibatches de trenamento:', len(loader_train))\n",
        "\n",
        "x_train, y_train = next(iter(loader_train))\n",
        "print(\"\\nDimensões dos dados de um minibatch:\", x_train.size())\n",
        "print(\"Valores mínimo e máximo dos pixels: \", torch.min(x_train), torch.max(x_train))\n",
        "print(\"Tipo dos dados das imagens:         \", type(x_train))\n",
        "print(\"Tipo das classes das imagens:       \", type(y_train))"
      ],
      "execution_count": null,
      "outputs": [
        {
          "output_type": "stream",
          "name": "stdout",
          "text": [
            "Número de minibatches de trenamento: 20\n",
            "\n",
            "Dimensões dos dados de um minibatch: torch.Size([50, 28, 28])\n",
            "Valores mínimo e máximo dos pixels:  tensor(0.) tensor(1.)\n",
            "Tipo dos dados das imagens:          <class 'torch.Tensor'>\n",
            "Tipo das classes das imagens:        <class 'torch.Tensor'>\n"
          ]
        }
      ]
    },
    {
      "cell_type": "markdown",
      "metadata": {
        "id": "BQA9Zg7GQT2G"
      },
      "source": [
        "## Modelo"
      ]
    },
    {
      "cell_type": "code",
      "metadata": {
        "ExecuteTime": {
          "end_time": "2018-08-20T21:03:10.802708Z",
          "start_time": "2018-08-20T21:03:10.793287Z"
        },
        "id": "_8Eg4h_kQT2H"
      },
      "source": [
        "# Escreva aqui o codigo para criar um modelo cujo o equivalente é: \n",
        "# model = torch.nn.Linear(28*28, 10)\n",
        "# model.load_state_dict(dict(weight=torch.zeros(model.weight.shape), bias=torch.zeros(model.bias.shape)))\n",
        "\n",
        "class Model():\n",
        "    def __init__(self, input_vector: int, output_vector: int):\n",
        "        self.weights = torch.zeros(output_vector, input_vector, requires_grad=True)\n",
        "        self.bias = torch.zeros(output_vector, requires_grad=True)\n",
        "\n",
        "    def __call__(self,in_v):    \n",
        "        y_pred = torch.matmul(in_v,torch.t(self.weights))+self.bias.unsqueeze(0)\n",
        "        return y_pred\n",
        "    \n",
        "    def parameters(self):\n",
        "        return self.weights, self.bias\n",
        "\n",
        "model = Model(28*28,10)"
      ],
      "execution_count": null,
      "outputs": []
    },
    {
      "cell_type": "markdown",
      "metadata": {
        "id": "0NHQB4wGQT2K"
      },
      "source": [
        "## Treinamento"
      ]
    },
    {
      "cell_type": "markdown",
      "metadata": {
        "id": "nqs2JhJoQT2L"
      },
      "source": [
        "### Inicialização dos parâmetros"
      ]
    },
    {
      "cell_type": "code",
      "metadata": {
        "ExecuteTime": {
          "end_time": "2018-08-20T21:03:14.146259Z",
          "start_time": "2018-08-20T21:03:14.139515Z"
        },
        "id": "oZuYEkn_QT2M"
      },
      "source": [
        "n_epochs = 50\n",
        "lr = 0.1"
      ],
      "execution_count": null,
      "outputs": []
    },
    {
      "cell_type": "markdown",
      "metadata": {
        "id": "tGeMCRw5kQMU"
      },
      "source": [
        "## Definição da Loss\n",
        "\n"
      ]
    },
    {
      "cell_type": "markdown",
      "source": [
        "CrossEntropyLoss = $\\dfrac{-\\sum(-z_{y}+\\log(\\sum_{j}exp(z_{j})))}{N}$"
      ],
      "metadata": {
        "id": "Z0yi7kAGYGaF"
      }
    },
    {
      "cell_type": "code",
      "metadata": {
        "id": "XcqFzpSTkYtk"
      },
      "source": [
        "# Escreva aqui o equivalente de:\n",
        "# criterion = torch.nn.CrossEntropyLoss()\n",
        "# baseado na solução do Notebook de Larissa Santesso\n",
        "\n",
        "class CrossEntropyLoss:\n",
        "    def __init__(self):\n",
        "        self.loss = 0\n",
        "\n",
        "    def __call__(self, predict, targets):  \n",
        "        log_sum_1 = torch.log(torch.sum(torch.exp(predict), dim=1, keepdim=True))\n",
        "        pred = predict.gather(dim=1, index= targets.unsqueeze(dim=1)).squeeze(dim=1)\n",
        "        num = -pred + log_sum_1\n",
        "        loss_total = torch.mean(num)\n",
        "        return loss_total\n",
        "\n",
        "criterion = CrossEntropyLoss()"
      ],
      "execution_count": null,
      "outputs": []
    },
    {
      "cell_type": "markdown",
      "source": [
        "# Definição do Optimizer"
      ],
      "metadata": {
        "id": "01BDueU2x4ox"
      }
    },
    {
      "cell_type": "code",
      "source": [
        "# Escreva aqui o equivalente de:\n",
        "# optimizer = torch.optim.SGD(model.parameters(), lr)\n",
        "\n",
        "class SGD_Opt():\n",
        "    def __init__(self, parameters:tuple, learning_rate: float):\n",
        "        self.parameters = parameters\n",
        "        self.learning_rate = learning_rate\n",
        "\n",
        "    def step(self):\n",
        "        for prm in self.parameters:\n",
        "            prm.data = prm.data - self.learning_rate*prm.grad\n",
        "\n",
        "    def zero_grad(self):\n",
        "        for prm in self.parameters:\n",
        "            prm.grad = torch.zeros_like(prm.data)    \n",
        "\n",
        "optimizer = SGD_Opt(model.parameters(), lr)"
      ],
      "metadata": {
        "id": "tIlnR_Z8x85O"
      },
      "execution_count": null,
      "outputs": []
    },
    {
      "cell_type": "markdown",
      "metadata": {
        "id": "pmXarXeIQT2O"
      },
      "source": [
        "### Laço de treinamento dos parâmetros"
      ]
    },
    {
      "cell_type": "code",
      "metadata": {
        "ExecuteTime": {
          "end_time": "2018-08-20T21:03:40.796410Z",
          "start_time": "2018-08-20T21:03:39.771981Z"
        },
        "id": "L5T_jZZPQT2P",
        "colab": {
          "base_uri": "https://localhost:8080/"
        },
        "outputId": "ad99a9b1-de89-4831-dc04-262877e3901a"
      },
      "source": [
        "epochs = []\n",
        "loss_history = []\n",
        "loss_epoch_end = []\n",
        "total_trained_samples = 0\n",
        "for i in range(n_epochs):\n",
        "    #print(\"epoca\")\n",
        "    # Substitua aqui o loader_train de acordo com sua implementação do dataloader.\n",
        "    loader_train = KDataLoader(dataset_train, batch_size=50, shuffle=False)      \n",
        "    for x_train, y_train in loader_train:\n",
        "        #print('x_train', x_train.shape, y_train.shape)\n",
        "        #print('y_train', y_train.shape)\n",
        "        # Transforma a entrada para uma dimensão\n",
        "        inputs = x_train.view(-1, 28 * 28)\n",
        "        #print(\"input\",inputs.shape)\n",
        "        # predict da rede\n",
        "        outputs = model(inputs)\n",
        "\n",
        "        # calcula a perda\n",
        "        loss = criterion(outputs, y_train)\n",
        "        #print(\"loss\", loss.shape, loss)\n",
        "\n",
        "        # zero, backpropagation, ajusta parâmetros pelo gradiente descendente\n",
        "        # Escreva aqui o código cujo o resultado é equivalente às 3 linhas abaixo:\n",
        "        optimizer.zero_grad()\n",
        "        loss.backward()\n",
        "        optimizer.step()\n",
        "\n",
        "        total_trained_samples += x_train.size(0)\n",
        "        epochs.append(total_trained_samples / len(dataset_train))\n",
        "        loss_history.append(loss.item())\n",
        "\n",
        "    loss_epoch_end.append(loss.item())\n",
        "    print(f'Epoch: {i:d}/{n_epochs - 1:d} Loss: {loss.item()}')\n"
      ],
      "execution_count": null,
      "outputs": [
        {
          "output_type": "stream",
          "name": "stdout",
          "text": [
            "Epoch: 0/49 Loss: 1.197968602180481\n",
            "Epoch: 1/49 Loss: 0.8676231503486633\n",
            "Epoch: 2/49 Loss: 0.7226787805557251\n",
            "Epoch: 3/49 Loss: 0.6381281614303589\n",
            "Epoch: 4/49 Loss: 0.5809751152992249\n",
            "Epoch: 5/49 Loss: 0.5387412309646606\n",
            "Epoch: 6/49 Loss: 0.5056464076042175\n",
            "Epoch: 7/49 Loss: 0.47862714529037476\n",
            "Epoch: 8/49 Loss: 0.45589369535446167\n",
            "Epoch: 9/49 Loss: 0.4363219738006592\n",
            "Epoch: 10/49 Loss: 0.4191649854183197\n",
            "Epoch: 11/49 Loss: 0.40390461683273315\n",
            "Epoch: 12/49 Loss: 0.39016813039779663\n",
            "Epoch: 13/49 Loss: 0.37768006324768066\n",
            "Epoch: 14/49 Loss: 0.3662315309047699\n",
            "Epoch: 15/49 Loss: 0.3556614816188812\n",
            "Epoch: 16/49 Loss: 0.34584280848503113\n",
            "Epoch: 17/49 Loss: 0.33667421340942383\n",
            "Epoch: 18/49 Loss: 0.3280736207962036\n",
            "Epoch: 19/49 Loss: 0.3199736475944519\n",
            "Epoch: 20/49 Loss: 0.31231844425201416\n",
            "Epoch: 21/49 Loss: 0.3050612211227417\n",
            "Epoch: 22/49 Loss: 0.2981624901294708\n",
            "Epoch: 23/49 Loss: 0.2915886342525482\n",
            "Epoch: 24/49 Loss: 0.28531041741371155\n",
            "Epoch: 25/49 Loss: 0.27930301427841187\n",
            "Epoch: 26/49 Loss: 0.273544579744339\n",
            "Epoch: 27/49 Loss: 0.26801598072052\n",
            "Epoch: 28/49 Loss: 0.2627001702785492\n",
            "Epoch: 29/49 Loss: 0.257582426071167\n",
            "Epoch: 30/49 Loss: 0.2526494860649109\n",
            "Epoch: 31/49 Loss: 0.2478894740343094\n",
            "Epoch: 32/49 Loss: 0.2432917058467865\n",
            "Epoch: 33/49 Loss: 0.23884667456150055\n",
            "Epoch: 34/49 Loss: 0.23454594612121582\n",
            "Epoch: 35/49 Loss: 0.2303815484046936\n",
            "Epoch: 36/49 Loss: 0.22634634375572205\n",
            "Epoch: 37/49 Loss: 0.22243405878543854\n",
            "Epoch: 38/49 Loss: 0.21863871812820435\n",
            "Epoch: 39/49 Loss: 0.21495498716831207\n",
            "Epoch: 40/49 Loss: 0.21137773990631104\n",
            "Epoch: 41/49 Loss: 0.20790264010429382\n",
            "Epoch: 42/49 Loss: 0.2045253962278366\n",
            "Epoch: 43/49 Loss: 0.20124204456806183\n",
            "Epoch: 44/49 Loss: 0.19804906845092773\n",
            "Epoch: 45/49 Loss: 0.19494298100471497\n",
            "Epoch: 46/49 Loss: 0.19192083179950714\n",
            "Epoch: 47/49 Loss: 0.18897952139377594\n",
            "Epoch: 48/49 Loss: 0.18611620366573334\n",
            "Epoch: 49/49 Loss: 0.18332836031913757\n"
          ]
        }
      ]
    },
    {
      "cell_type": "markdown",
      "metadata": {
        "id": "1dYK0nqsQT2U"
      },
      "source": [
        "### Visualizando gráfico de perda durante o treinamento"
      ]
    },
    {
      "cell_type": "code",
      "metadata": {
        "ExecuteTime": {
          "end_time": "2018-08-20T21:03:52.026752Z",
          "start_time": "2018-08-20T21:03:51.756518Z"
        },
        "id": "LIyUI6AHQT2V",
        "colab": {
          "base_uri": "https://localhost:8080/",
          "height": 298
        },
        "outputId": "7f984830-9188-4e06-b608-4b2854653625"
      },
      "source": [
        "plt.plot(epochs, loss_history)\n",
        "plt.xlabel('época')"
      ],
      "execution_count": null,
      "outputs": [
        {
          "output_type": "execute_result",
          "data": {
            "text/plain": [
              "Text(0.5, 0, 'época')"
            ]
          },
          "metadata": {},
          "execution_count": 13
        },
        {
          "output_type": "display_data",
          "data": {
            "text/plain": [
              "<Figure size 432x288 with 1 Axes>"
            ],
            "image/png": "[encoded data removed]"
          },
          "metadata": {
            "needs_background": "light"
          }
        }
      ]
    },
    {
      "cell_type": "markdown",
      "metadata": {
        "id": "rLL-GQlKQT2Y"
      },
      "source": [
        "### Visualização usual da perda, somente no final de cada minibatch"
      ]
    },
    {
      "cell_type": "code",
      "metadata": {
        "ExecuteTime": {
          "end_time": "2018-08-20T21:03:55.246851Z",
          "start_time": "2018-08-20T21:03:54.994428Z"
        },
        "id": "w38EtNxhQT2Z",
        "colab": {
          "base_uri": "https://localhost:8080/",
          "height": 298
        },
        "outputId": "035c5183-8c80-432b-fa54-7e6f155cc740"
      },
      "source": [
        "n_batches_train = len(loader_train)\n",
        "plt.plot(epochs[::n_batches_train], loss_history[::n_batches_train])\n",
        "plt.xlabel('época')"
      ],
      "execution_count": null,
      "outputs": [
        {
          "output_type": "execute_result",
          "data": {
            "text/plain": [
              "Text(0.5, 0, 'época')"
            ]
          },
          "metadata": {},
          "execution_count": 14
        },
        {
          "output_type": "display_data",
          "data": {
            "text/plain": [
              "<Figure size 432x288 with 1 Axes>"
            ],
            "image/png": "[encoded data removed]"
          },
          "metadata": {
            "needs_background": "light"
          }
        }
      ]
    },
    {
      "cell_type": "code",
      "metadata": {
        "ExecuteTime": {
          "end_time": "2018-08-20T21:03:48.786969Z",
          "start_time": "2018-08-20T21:03:48.781787Z"
        },
        "id": "PiuMsjYtQT2R"
      },
      "source": [
        "# Assert do histórico de losses\n",
        "target_loss_epoch_end = np.array([\n",
        "    1.1979684829711914,\n",
        "    0.867622971534729,\n",
        "    0.7226786613464355,\n",
        "    0.6381281018257141,\n",
        "    0.5809749960899353,\n",
        "    0.5387411713600159,\n",
        "    0.5056464076042175,\n",
        "    0.4786270558834076,\n",
        "    0.4558936357498169,\n",
        "    0.4363219141960144,\n",
        "    0.4191650450229645,\n",
        "    0.4039044976234436,\n",
        "    0.3901679515838623,\n",
        "    0.3776799440383911,\n",
        "    0.3662314713001251,\n",
        "    0.35566139221191406,\n",
        "    0.34584277868270874,\n",
        "    0.33667415380477905,\n",
        "    0.32807353138923645,\n",
        "    0.31997355818748474,\n",
        "    0.312318354845047,\n",
        "    0.3050611615180969,\n",
        "    0.29816246032714844,\n",
        "    0.29158851504325867,\n",
        "    0.28531041741371155,\n",
        "    0.2793029546737671,\n",
        "    0.273544579744339,\n",
        "    0.2680158317089081,\n",
        "    0.26270008087158203,\n",
        "    0.2575823664665222,\n",
        "    0.25264936685562134,\n",
        "    0.24788929522037506,\n",
        "    0.24329163134098053,\n",
        "    0.23884665966033936,\n",
        "    0.23454584181308746,\n",
        "    0.23038141429424286,\n",
        "    0.22634628415107727,\n",
        "    0.22243399918079376,\n",
        "    0.2186385989189148,\n",
        "    0.21495483815670013,\n",
        "    0.21137762069702148,\n",
        "    0.20790249109268188,\n",
        "    0.20452524721622467,\n",
        "    0.20124195516109467,\n",
        "    0.19804897904396057,\n",
        "    0.1949428766965866,\n",
        "    0.19192075729370117,\n",
        "    0.188979372382164,\n",
        "    0.18611609935760498,\n",
        "    0.1833282858133316])\n",
        "\n",
        "assert np.allclose(np.array(loss_epoch_end), target_loss_epoch_end, atol=1e-6)"
      ],
      "execution_count": null,
      "outputs": []
    },
    {
      "cell_type": "markdown",
      "metadata": {
        "id": "fptnTktx_1rh"
      },
      "source": [
        "## Exercício \n",
        "\n",
        "Escreva um código que responda às seguintes perguntas:\n",
        "\n",
        "Qual é a amostra classificada corretamente, com maior probabilidade?\n",
        "\n",
        "Qual é a amostra classificada erradamente, com maior probabilidade?\n",
        "\n",
        "Qual é a amostra classificada corretamente, com menor probabilidade?\n",
        "\n",
        "Qual é a amostra classificada erradamente, com menor probabilidade?"
      ]
    },
    {
      "cell_type": "code",
      "source": [
        "dataset_dir = '../data/'\n",
        "\n",
        "dataset_test_full = MNIST(dataset_dir, train=False, download=True,\n",
        "                           transform=torchvision.transforms.ToTensor())"
      ],
      "metadata": {
        "id": "SowlzXK51W8N"
      },
      "execution_count": null,
      "outputs": []
    },
    {
      "cell_type": "code",
      "source": [
        "indices_2 = torch.randperm(len(dataset_test_full))[:1000]\n",
        "dataset_2 = torch.utils.data.Subset(dataset_test_full, indices_2)"
      ],
      "metadata": {
        "id": "y9LZEIFb1Z9k"
      },
      "execution_count": null,
      "outputs": []
    },
    {
      "cell_type": "code",
      "metadata": {
        "id": "IzH8iMGt_1Rr"
      },
      "source": [
        "loader2 = KDataLoader(dataset_2, batch_size=1000, shuffle=False) \n",
        "x_test, y_test = next(iter(loader2))\n",
        "x_test.shape, y_test.shape"
      ],
      "execution_count": null,
      "outputs": []
    },
    {
      "cell_type": "code",
      "source": [
        "predicted = model(x_test.view(-1, 28 * 28))\n",
        "print(predicted.shape)\n",
        "print('Exemplo de saída predita:',predicted[0].detach().numpy())"
      ],
      "metadata": {
        "colab": {
          "base_uri": "https://localhost:8080/"
        },
        "id": "ThrJeDoX1wgX",
        "outputId": "6f005039-9a60-499f-a799-14d9825418af"
      },
      "execution_count": null,
      "outputs": [
        {
          "output_type": "stream",
          "name": "stdout",
          "text": [
            "torch.Size([1000, 10])\n",
            "Exemplo de saída predita: [-2.0532587 -1.0199149 -3.6389837  1.5762388 -0.1769077  1.2000287\n",
            " -2.9737525  1.7013202  2.2785833  3.1063194]\n"
          ]
        }
      ]
    },
    {
      "cell_type": "code",
      "source": [
        "# Computo camada softmax das saídas preditas\n",
        "sum1 = torch.sum(torch.exp(predicted), dim=1, keepdim=True)\n",
        "prob = (torch.exp(predicted)/sum1)\n",
        "print(prob.shape)\n",
        "print('Exemplo de probabilidades de uma amostra:',prob[0].detach().numpy())"
      ],
      "metadata": {
        "colab": {
          "base_uri": "https://localhost:8080/"
        },
        "id": "m3n-IVH-2dwA",
        "outputId": "26e2b365-a8fa-4ad3-cc7b-e60e779760f3"
      },
      "execution_count": null,
      "outputs": [
        {
          "output_type": "stream",
          "name": "stdout",
          "text": [
            "torch.Size([1000, 10])\n",
            "Exemplo de probabilidades de uma amostra: [0.0027218  0.00764948 0.00055742 0.1025952  0.01777236 0.0704273\n",
            " 0.00108415 0.11626505 0.2070863  0.47384098]\n"
          ]
        }
      ]
    },
    {
      "cell_type": "code",
      "source": [
        "# Extraindo a classe correspondente à maior probabilidade de cada amostra\n",
        "classe_pred = torch.argmax(prob, axis = 1)\n",
        "# Amostras que foram classificadas corretamente \n",
        "correto = np.where(classe_pred.numpy()==y_test.numpy())\n",
        "# Das amostras classificadas corretamente, qual é a maior probabilidade correspondente\n",
        "probs_corretas = prob[correto, classe_pred[correto]]\n",
        "s_prob_max1 = torch.argmax(probs_corretas) \n",
        "prob_max1 = torch.max(probs_corretas)\n",
        "print('Amostra classificada corretamente com maior probabilidade:', s_prob_max1.numpy(), ' Probabilidade:', prob_max1.detach().numpy())\n",
        "errado = np.where(classe_pred.numpy()!=y_test.numpy())\n",
        "probs_erradas = prob[errado, classe_pred[errado]]\n",
        "s_prob_max2 = torch.argmax(probs_erradas) \n",
        "prob_max2 = torch.max(probs_erradas)\n",
        "print('Amostra classificada erradamente com maior probabilidade:', s_prob_max2.numpy(), ' Probabilidade:', prob_max2.detach().numpy())\n",
        "s_prob_min1 = torch.argmin(probs_corretas) \n",
        "prob_min1 = torch.min(probs_corretas)\n",
        "print('Amostra classificada corretamente com menor probabilidade:', s_prob_min1.numpy(), ' Probabilidade:', prob_min1.detach().numpy())\n",
        "s_prob_min2 = torch.argmin(probs_erradas) \n",
        "prob_min2 = torch.min(probs_erradas)\n",
        "print('Amostra classificada erradamente com menor probabilidade:', s_prob_min2.numpy(), ' Probabilidade:', prob_min2.detach().numpy())"
      ],
      "metadata": {
        "colab": {
          "base_uri": "https://localhost:8080/"
        },
        "id": "a18nzi3333WR",
        "outputId": "f25de5b6-db97-4859-d268-17e9c0fbb429"
      },
      "execution_count": null,
      "outputs": [
        {
          "output_type": "stream",
          "name": "stdout",
          "text": [
            "Amostra classificada corretamente com maior probabilidade: 151  Probabilidade: 0.99995136\n",
            "Amostra classificada erradamente com maior probabilidade: 3  Probabilidade: 0.9970908\n",
            "Amostra classificada corretamente com menor probabilidade: 326  Probabilidade: 0.23923074\n",
            "Amostra classificada erradamente com menor probabilidade: 66  Probabilidade: 0.25418633\n"
          ]
        }
      ]
    },
    {
      "cell_type": "markdown",
      "metadata": {
        "id": "0xmj1GWXUoNs"
      },
      "source": [
        "## Exercício Bonus\n",
        "\n",
        "Implemente um dataloader que aceite como parâmetro de entrada a distribuição probabilidade das classes que deverão compor um batch.\n",
        "Por exemplo, se a distribuição de probabilidade passada como entrada for:\n",
        "\n",
        "`[0.01, 0.01, 0.72, 0.2, 0.01, 0.01, 0.01, 0.01, 0.01, 0.01]`\n",
        "\n",
        "Em média, 72% dos exemplos do batch deverão ser da classe 2, 20% deverão ser da classe 3, e os demais deverão ser das outras classes.\n",
        "\n",
        "Mostre também que sua implementação está correta.\n"
      ]
    }
  ]
}