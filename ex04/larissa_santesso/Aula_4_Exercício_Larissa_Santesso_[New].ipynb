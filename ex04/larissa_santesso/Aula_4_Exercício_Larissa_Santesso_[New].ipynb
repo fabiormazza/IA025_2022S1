{
  "nbformat": 4,
  "nbformat_minor": 0,
  "metadata": {
    "anaconda-cloud": {},
    "kernelspec": {
      "display_name": "Python 3",
      "language": "python",
      "name": "python3"
    },
    "language_info": {
      "codemirror_mode": {
        "name": "ipython",
        "version": 3
      },
      "file_extension": ".py",
      "mimetype": "text/x-python",
      "name": "python",
      "nbconvert_exporter": "python",
      "pygments_lexer": "ipython3",
      "version": "3.6.5"
    },
    "toc": {
      "nav_menu": {
        "height": "318px",
        "width": "252px"
      },
      "number_sections": true,
      "sideBar": true,
      "skip_h1_title": false,
      "toc_cell": false,
      "toc_position": {},
      "toc_section_display": "block",
      "toc_window_display": false
    },
    "colab": {
      "name": "Aula 4 - Exercício - Larissa Santesso [New]",
      "provenance": [],
      "collapsed_sections": [],
      "include_colab_link": true
    },
    "widgets": {
      "application/vnd.jupyter.widget-state+json": {
        "aeb252a5be9b46e08c2b683a35b1a08e": {
          "model_module": "@jupyter-widgets/controls",
          "model_name": "HBoxModel",
          "model_module_version": "1.5.0",
          "state": {
            "_dom_classes": [],
            "_model_module": "@jupyter-widgets/controls",
            "_model_module_version": "1.5.0",
            "_model_name": "HBoxModel",
            "_view_count": null,
            "_view_module": "@jupyter-widgets/controls",
            "_view_module_version": "1.5.0",
            "_view_name": "HBoxView",
            "box_style": "",
            "children": [
              "IPY_MODEL_f37baa822c8843478e8caf0fa10ed0ec",
              "IPY_MODEL_d33645466b6d4dc7b046d28533fe9040",
              "IPY_MODEL_52ceb858d86242d2a1f14806cd944ea3"
            ],
            "layout": "IPY_MODEL_c29a0af1491e43ea8f26f38f934984b5"
          }
        },
        "f37baa822c8843478e8caf0fa10ed0ec": {
          "model_module": "@jupyter-widgets/controls",
          "model_name": "HTMLModel",
          "model_module_version": "1.5.0",
          "state": {
            "_dom_classes": [],
            "_model_module": "@jupyter-widgets/controls",
            "_model_module_version": "1.5.0",
            "_model_name": "HTMLModel",
            "_view_count": null,
            "_view_module": "@jupyter-widgets/controls",
            "_view_module_version": "1.5.0",
            "_view_name": "HTMLView",
            "description": "",
            "description_tooltip": null,
            "layout": "IPY_MODEL_c2877783f32b4000a6331564cf1840b8",
            "placeholder": "​",
            "style": "IPY_MODEL_4c2deca59870482d82357b1259011e2d",
            "value": ""
          }
        },
        "d33645466b6d4dc7b046d28533fe9040": {
          "model_module": "@jupyter-widgets/controls",
          "model_name": "FloatProgressModel",
          "model_module_version": "1.5.0",
          "state": {
            "_dom_classes": [],
            "_model_module": "@jupyter-widgets/controls",
            "_model_module_version": "1.5.0",
            "_model_name": "FloatProgressModel",
            "_view_count": null,
            "_view_module": "@jupyter-widgets/controls",
            "_view_module_version": "1.5.0",
            "_view_name": "ProgressView",
            "bar_style": "success",
            "description": "",
            "description_tooltip": null,
            "layout": "IPY_MODEL_4fbef5fa91cc458780b55316f4f4e372",
            "max": 9912422,
            "min": 0,
            "orientation": "horizontal",
            "style": "IPY_MODEL_3aa6690017b74a50a9ee8abe7f1b9294",
            "value": 9912422
          }
        },
        "52ceb858d86242d2a1f14806cd944ea3": {
          "model_module": "@jupyter-widgets/controls",
          "model_name": "HTMLModel",
          "model_module_version": "1.5.0",
          "state": {
            "_dom_classes": [],
            "_model_module": "@jupyter-widgets/controls",
            "_model_module_version": "1.5.0",
            "_model_name": "HTMLModel",
            "_view_count": null,
            "_view_module": "@jupyter-widgets/controls",
            "_view_module_version": "1.5.0",
            "_view_name": "HTMLView",
            "description": "",
            "description_tooltip": null,
            "layout": "IPY_MODEL_2f934095778d44cba3e99b8554af11b0",
            "placeholder": "​",
            "style": "IPY_MODEL_733af4e941734b928d143a5e46346df1",
            "value": " 9913344/? [00:00&lt;00:00, 32398309.49it/s]"
          }
        },
        "c29a0af1491e43ea8f26f38f934984b5": {
          "model_module": "@jupyter-widgets/base",
          "model_name": "LayoutModel",
          "model_module_version": "1.2.0",
          "state": {
            "_model_module": "@jupyter-widgets/base",
            "_model_module_version": "1.2.0",
            "_model_name": "LayoutModel",
            "_view_count": null,
            "_view_module": "@jupyter-widgets/base",
            "_view_module_version": "1.2.0",
            "_view_name": "LayoutView",
            "align_content": null,
            "align_items": null,
            "align_self": null,
            "border": null,
            "bottom": null,
            "display": null,
            "flex": null,
            "flex_flow": null,
            "grid_area": null,
            "grid_auto_columns": null,
            "grid_auto_flow": null,
            "grid_auto_rows": null,
            "grid_column": null,
            "grid_gap": null,
            "grid_row": null,
            "grid_template_areas": null,
            "grid_template_columns": null,
            "grid_template_rows": null,
            "height": null,
            "justify_content": null,
            "justify_items": null,
            "left": null,
            "margin": null,
            "max_height": null,
            "max_width": null,
            "min_height": null,
            "min_width": null,
            "object_fit": null,
            "object_position": null,
            "order": null,
            "overflow": null,
            "overflow_x": null,
            "overflow_y": null,
            "padding": null,
            "right": null,
            "top": null,
            "visibility": null,
            "width": null
          }
        },
        "c2877783f32b4000a6331564cf1840b8": {
          "model_module": "@jupyter-widgets/base",
          "model_name": "LayoutModel",
          "model_module_version": "1.2.0",
          "state": {
            "_model_module": "@jupyter-widgets/base",
            "_model_module_version": "1.2.0",
            "_model_name": "LayoutModel",
            "_view_count": null,
            "_view_module": "@jupyter-widgets/base",
            "_view_module_version": "1.2.0",
            "_view_name": "LayoutView",
            "align_content": null,
            "align_items": null,
            "align_self": null,
            "border": null,
            "bottom": null,
            "display": null,
            "flex": null,
            "flex_flow": null,
            "grid_area": null,
            "grid_auto_columns": null,
            "grid_auto_flow": null,
            "grid_auto_rows": null,
            "grid_column": null,
            "grid_gap": null,
            "grid_row": null,
            "grid_template_areas": null,
            "grid_template_columns": null,
            "grid_template_rows": null,
            "height": null,
            "justify_content": null,
            "justify_items": null,
            "left": null,
            "margin": null,
            "max_height": null,
            "max_width": null,
            "min_height": null,
            "min_width": null,
            "object_fit": null,
            "object_position": null,
            "order": null,
            "overflow": null,
            "overflow_x": null,
            "overflow_y": null,
            "padding": null,
            "right": null,
            "top": null,
            "visibility": null,
            "width": null
          }
        },
        "4c2deca59870482d82357b1259011e2d": {
          "model_module": "@jupyter-widgets/controls",
          "model_name": "DescriptionStyleModel",
          "model_module_version": "1.5.0",
          "state": {
            "_model_module": "@jupyter-widgets/controls",
            "_model_module_version": "1.5.0",
            "_model_name": "DescriptionStyleModel",
            "_view_count": null,
            "_view_module": "@jupyter-widgets/base",
            "_view_module_version": "1.2.0",
            "_view_name": "StyleView",
            "description_width": ""
          }
        },
        "4fbef5fa91cc458780b55316f4f4e372": {
          "model_module": "@jupyter-widgets/base",
          "model_name": "LayoutModel",
          "model_module_version": "1.2.0",
          "state": {
            "_model_module": "@jupyter-widgets/base",
            "_model_module_version": "1.2.0",
            "_model_name": "LayoutModel",
            "_view_count": null,
            "_view_module": "@jupyter-widgets/base",
            "_view_module_version": "1.2.0",
            "_view_name": "LayoutView",
            "align_content": null,
            "align_items": null,
            "align_self": null,
            "border": null,
            "bottom": null,
            "display": null,
            "flex": null,
            "flex_flow": null,
            "grid_area": null,
            "grid_auto_columns": null,
            "grid_auto_flow": null,
            "grid_auto_rows": null,
            "grid_column": null,
            "grid_gap": null,
            "grid_row": null,
            "grid_template_areas": null,
            "grid_template_columns": null,
            "grid_template_rows": null,
            "height": null,
            "justify_content": null,
            "justify_items": null,
            "left": null,
            "margin": null,
            "max_height": null,
            "max_width": null,
            "min_height": null,
            "min_width": null,
            "object_fit": null,
            "object_position": null,
            "order": null,
            "overflow": null,
            "overflow_x": null,
            "overflow_y": null,
            "padding": null,
            "right": null,
            "top": null,
            "visibility": null,
            "width": null
          }
        },
        "3aa6690017b74a50a9ee8abe7f1b9294": {
          "model_module": "@jupyter-widgets/controls",
          "model_name": "ProgressStyleModel",
          "model_module_version": "1.5.0",
          "state": {
            "_model_module": "@jupyter-widgets/controls",
            "_model_module_version": "1.5.0",
            "_model_name": "ProgressStyleModel",
            "_view_count": null,
            "_view_module": "@jupyter-widgets/base",
            "_view_module_version": "1.2.0",
            "_view_name": "StyleView",
            "bar_color": null,
            "description_width": ""
          }
        },
        "2f934095778d44cba3e99b8554af11b0": {
          "model_module": "@jupyter-widgets/base",
          "model_name": "LayoutModel",
          "model_module_version": "1.2.0",
          "state": {
            "_model_module": "@jupyter-widgets/base",
            "_model_module_version": "1.2.0",
            "_model_name": "LayoutModel",
            "_view_count": null,
            "_view_module": "@jupyter-widgets/base",
            "_view_module_version": "1.2.0",
            "_view_name": "LayoutView",
            "align_content": null,
            "align_items": null,
            "align_self": null,
            "border": null,
            "bottom": null,
            "display": null,
            "flex": null,
            "flex_flow": null,
            "grid_area": null,
            "grid_auto_columns": null,
            "grid_auto_flow": null,
            "grid_auto_rows": null,
            "grid_column": null,
            "grid_gap": null,
            "grid_row": null,
            "grid_template_areas": null,
            "grid_template_columns": null,
            "grid_template_rows": null,
            "height": null,
            "justify_content": null,
            "justify_items": null,
            "left": null,
            "margin": null,
            "max_height": null,
            "max_width": null,
            "min_height": null,
            "min_width": null,
            "object_fit": null,
            "object_position": null,
            "order": null,
            "overflow": null,
            "overflow_x": null,
            "overflow_y": null,
            "padding": null,
            "right": null,
            "top": null,
            "visibility": null,
            "width": null
          }
        },
        "733af4e941734b928d143a5e46346df1": {
          "model_module": "@jupyter-widgets/controls",
          "model_name": "DescriptionStyleModel",
          "model_module_version": "1.5.0",
          "state": {
            "_model_module": "@jupyter-widgets/controls",
            "_model_module_version": "1.5.0",
            "_model_name": "DescriptionStyleModel",
            "_view_count": null,
            "_view_module": "@jupyter-widgets/base",
            "_view_module_version": "1.2.0",
            "_view_name": "StyleView",
            "description_width": ""
          }
        },
        "606cf87d9f1047f49f6f8d24d00a0cda": {
          "model_module": "@jupyter-widgets/controls",
          "model_name": "HBoxModel",
          "model_module_version": "1.5.0",
          "state": {
            "_dom_classes": [],
            "_model_module": "@jupyter-widgets/controls",
            "_model_module_version": "1.5.0",
            "_model_name": "HBoxModel",
            "_view_count": null,
            "_view_module": "@jupyter-widgets/controls",
            "_view_module_version": "1.5.0",
            "_view_name": "HBoxView",
            "box_style": "",
            "children": [
              "IPY_MODEL_34e6a11be2b243368665108c312f0bd0",
              "IPY_MODEL_f1edcd7652de47dfa92354bd893d8cbf",
              "IPY_MODEL_11d1e758a66d4a29ac2302b12b39ad94"
            ],
            "layout": "IPY_MODEL_2b022e3574f54b6da9c1d35fa3aa0f7b"
          }
        },
        "34e6a11be2b243368665108c312f0bd0": {
          "model_module": "@jupyter-widgets/controls",
          "model_name": "HTMLModel",
          "model_module_version": "1.5.0",
          "state": {
            "_dom_classes": [],
            "_model_module": "@jupyter-widgets/controls",
            "_model_module_version": "1.5.0",
            "_model_name": "HTMLModel",
            "_view_count": null,
            "_view_module": "@jupyter-widgets/controls",
            "_view_module_version": "1.5.0",
            "_view_name": "HTMLView",
            "description": "",
            "description_tooltip": null,
            "layout": "IPY_MODEL_3c848b218dd94b1f8919ff2b0edf2b43",
            "placeholder": "​",
            "style": "IPY_MODEL_b5b56b9805ca4c7394ba135748741c02",
            "value": ""
          }
        },
        "f1edcd7652de47dfa92354bd893d8cbf": {
          "model_module": "@jupyter-widgets/controls",
          "model_name": "FloatProgressModel",
          "model_module_version": "1.5.0",
          "state": {
            "_dom_classes": [],
            "_model_module": "@jupyter-widgets/controls",
            "_model_module_version": "1.5.0",
            "_model_name": "FloatProgressModel",
            "_view_count": null,
            "_view_module": "@jupyter-widgets/controls",
            "_view_module_version": "1.5.0",
            "_view_name": "ProgressView",
            "bar_style": "success",
            "description": "",
            "description_tooltip": null,
            "layout": "IPY_MODEL_cfe8472f8f444c5db846f6599b476d3b",
            "max": 28881,
            "min": 0,
            "orientation": "horizontal",
            "style": "IPY_MODEL_9b17e3ef3947483cb6678189118cf8d4",
            "value": 28881
          }
        },
        "11d1e758a66d4a29ac2302b12b39ad94": {
          "model_module": "@jupyter-widgets/controls",
          "model_name": "HTMLModel",
          "model_module_version": "1.5.0",
          "state": {
            "_dom_classes": [],
            "_model_module": "@jupyter-widgets/controls",
            "_model_module_version": "1.5.0",
            "_model_name": "HTMLModel",
            "_view_count": null,
            "_view_module": "@jupyter-widgets/controls",
            "_view_module_version": "1.5.0",
            "_view_name": "HTMLView",
            "description": "",
            "description_tooltip": null,
            "layout": "IPY_MODEL_ac16bec3ed1041818673e70f0314a78b",
            "placeholder": "​",
            "style": "IPY_MODEL_74899ef20d0c47518e83abb8232472cc",
            "value": " 29696/? [00:00&lt;00:00, 688981.37it/s]"
          }
        },
        "2b022e3574f54b6da9c1d35fa3aa0f7b": {
          "model_module": "@jupyter-widgets/base",
          "model_name": "LayoutModel",
          "model_module_version": "1.2.0",
          "state": {
            "_model_module": "@jupyter-widgets/base",
            "_model_module_version": "1.2.0",
            "_model_name": "LayoutModel",
            "_view_count": null,
            "_view_module": "@jupyter-widgets/base",
            "_view_module_version": "1.2.0",
            "_view_name": "LayoutView",
            "align_content": null,
            "align_items": null,
            "align_self": null,
            "border": null,
            "bottom": null,
            "display": null,
            "flex": null,
            "flex_flow": null,
            "grid_area": null,
            "grid_auto_columns": null,
            "grid_auto_flow": null,
            "grid_auto_rows": null,
            "grid_column": null,
            "grid_gap": null,
            "grid_row": null,
            "grid_template_areas": null,
            "grid_template_columns": null,
            "grid_template_rows": null,
            "height": null,
            "justify_content": null,
            "justify_items": null,
            "left": null,
            "margin": null,
            "max_height": null,
            "max_width": null,
            "min_height": null,
            "min_width": null,
            "object_fit": null,
            "object_position": null,
            "order": null,
            "overflow": null,
            "overflow_x": null,
            "overflow_y": null,
            "padding": null,
            "right": null,
            "top": null,
            "visibility": null,
            "width": null
          }
        },
        "3c848b218dd94b1f8919ff2b0edf2b43": {
          "model_module": "@jupyter-widgets/base",
          "model_name": "LayoutModel",
          "model_module_version": "1.2.0",
          "state": {
            "_model_module": "@jupyter-widgets/base",
            "_model_module_version": "1.2.0",
            "_model_name": "LayoutModel",
            "_view_count": null,
            "_view_module": "@jupyter-widgets/base",
            "_view_module_version": "1.2.0",
            "_view_name": "LayoutView",
            "align_content": null,
            "align_items": null,
            "align_self": null,
            "border": null,
            "bottom": null,
            "display": null,
            "flex": null,
            "flex_flow": null,
            "grid_area": null,
            "grid_auto_columns": null,
            "grid_auto_flow": null,
            "grid_auto_rows": null,
            "grid_column": null,
            "grid_gap": null,
            "grid_row": null,
            "grid_template_areas": null,
            "grid_template_columns": null,
            "grid_template_rows": null,
            "height": null,
            "justify_content": null,
            "justify_items": null,
            "left": null,
            "margin": null,
            "max_height": null,
            "max_width": null,
            "min_height": null,
            "min_width": null,
            "object_fit": null,
            "object_position": null,
            "order": null,
            "overflow": null,
            "overflow_x": null,
            "overflow_y": null,
            "padding": null,
            "right": null,
            "top": null,
            "visibility": null,
            "width": null
          }
        },
        "b5b56b9805ca4c7394ba135748741c02": {
          "model_module": "@jupyter-widgets/controls",
          "model_name": "DescriptionStyleModel",
          "model_module_version": "1.5.0",
          "state": {
            "_model_module": "@jupyter-widgets/controls",
            "_model_module_version": "1.5.0",
            "_model_name": "DescriptionStyleModel",
            "_view_count": null,
            "_view_module": "@jupyter-widgets/base",
            "_view_module_version": "1.2.0",
            "_view_name": "StyleView",
            "description_width": ""
          }
        },
        "cfe8472f8f444c5db846f6599b476d3b": {
          "model_module": "@jupyter-widgets/base",
          "model_name": "LayoutModel",
          "model_module_version": "1.2.0",
          "state": {
            "_model_module": "@jupyter-widgets/base",
            "_model_module_version": "1.2.0",
            "_model_name": "LayoutModel",
            "_view_count": null,
            "_view_module": "@jupyter-widgets/base",
            "_view_module_version": "1.2.0",
            "_view_name": "LayoutView",
            "align_content": null,
            "align_items": null,
            "align_self": null,
            "border": null,
            "bottom": null,
            "display": null,
            "flex": null,
            "flex_flow": null,
            "grid_area": null,
            "grid_auto_columns": null,
            "grid_auto_flow": null,
            "grid_auto_rows": null,
            "grid_column": null,
            "grid_gap": null,
            "grid_row": null,
            "grid_template_areas": null,
            "grid_template_columns": null,
            "grid_template_rows": null,
            "height": null,
            "justify_content": null,
            "justify_items": null,
            "left": null,
            "margin": null,
            "max_height": null,
            "max_width": null,
            "min_height": null,
            "min_width": null,
            "object_fit": null,
            "object_position": null,
            "order": null,
            "overflow": null,
            "overflow_x": null,
            "overflow_y": null,
            "padding": null,
            "right": null,
            "top": null,
            "visibility": null,
            "width": null
          }
        },
        "9b17e3ef3947483cb6678189118cf8d4": {
          "model_module": "@jupyter-widgets/controls",
          "model_name": "ProgressStyleModel",
          "model_module_version": "1.5.0",
          "state": {
            "_model_module": "@jupyter-widgets/controls",
            "_model_module_version": "1.5.0",
            "_model_name": "ProgressStyleModel",
            "_view_count": null,
            "_view_module": "@jupyter-widgets/base",
            "_view_module_version": "1.2.0",
            "_view_name": "StyleView",
            "bar_color": null,
            "description_width": ""
          }
        },
        "ac16bec3ed1041818673e70f0314a78b": {
          "model_module": "@jupyter-widgets/base",
          "model_name": "LayoutModel",
          "model_module_version": "1.2.0",
          "state": {
            "_model_module": "@jupyter-widgets/base",
            "_model_module_version": "1.2.0",
            "_model_name": "LayoutModel",
            "_view_count": null,
            "_view_module": "@jupyter-widgets/base",
            "_view_module_version": "1.2.0",
            "_view_name": "LayoutView",
            "align_content": null,
            "align_items": null,
            "align_self": null,
            "border": null,
            "bottom": null,
            "display": null,
            "flex": null,
            "flex_flow": null,
            "grid_area": null,
            "grid_auto_columns": null,
            "grid_auto_flow": null,
            "grid_auto_rows": null,
            "grid_column": null,
            "grid_gap": null,
            "grid_row": null,
            "grid_template_areas": null,
            "grid_template_columns": null,
            "grid_template_rows": null,
            "height": null,
            "justify_content": null,
            "justify_items": null,
            "left": null,
            "margin": null,
            "max_height": null,
            "max_width": null,
            "min_height": null,
            "min_width": null,
            "object_fit": null,
            "object_position": null,
            "order": null,
            "overflow": null,
            "overflow_x": null,
            "overflow_y": null,
            "padding": null,
            "right": null,
            "top": null,
            "visibility": null,
            "width": null
          }
        },
        "74899ef20d0c47518e83abb8232472cc": {
          "model_module": "@jupyter-widgets/controls",
          "model_name": "DescriptionStyleModel",
          "model_module_version": "1.5.0",
          "state": {
            "_model_module": "@jupyter-widgets/controls",
            "_model_module_version": "1.5.0",
            "_model_name": "DescriptionStyleModel",
            "_view_count": null,
            "_view_module": "@jupyter-widgets/base",
            "_view_module_version": "1.2.0",
            "_view_name": "StyleView",
            "description_width": ""
          }
        },
        "a305d6989d4547d6ad4f36816fa3b1c6": {
          "model_module": "@jupyter-widgets/controls",
          "model_name": "HBoxModel",
          "model_module_version": "1.5.0",
          "state": {
            "_dom_classes": [],
            "_model_module": "@jupyter-widgets/controls",
            "_model_module_version": "1.5.0",
            "_model_name": "HBoxModel",
            "_view_count": null,
            "_view_module": "@jupyter-widgets/controls",
            "_view_module_version": "1.5.0",
            "_view_name": "HBoxView",
            "box_style": "",
            "children": [
              "IPY_MODEL_355fb2877ee5469b849394a04b7c2798",
              "IPY_MODEL_7c190101b90c4146b7458f8d13a5b125",
              "IPY_MODEL_3123a1015f1149de83f6eaeae0edddb6"
            ],
            "layout": "IPY_MODEL_e6a9d9cfce98444aa416d67e34f795d0"
          }
        },
        "355fb2877ee5469b849394a04b7c2798": {
          "model_module": "@jupyter-widgets/controls",
          "model_name": "HTMLModel",
          "model_module_version": "1.5.0",
          "state": {
            "_dom_classes": [],
            "_model_module": "@jupyter-widgets/controls",
            "_model_module_version": "1.5.0",
            "_model_name": "HTMLModel",
            "_view_count": null,
            "_view_module": "@jupyter-widgets/controls",
            "_view_module_version": "1.5.0",
            "_view_name": "HTMLView",
            "description": "",
            "description_tooltip": null,
            "layout": "IPY_MODEL_1c0c0cc2c1cb426487ac4c3aff06f702",
            "placeholder": "​",
            "style": "IPY_MODEL_6f534a993c27415ca201e26595432f29",
            "value": ""
          }
        },
        "7c190101b90c4146b7458f8d13a5b125": {
          "model_module": "@jupyter-widgets/controls",
          "model_name": "FloatProgressModel",
          "model_module_version": "1.5.0",
          "state": {
            "_dom_classes": [],
            "_model_module": "@jupyter-widgets/controls",
            "_model_module_version": "1.5.0",
            "_model_name": "FloatProgressModel",
            "_view_count": null,
            "_view_module": "@jupyter-widgets/controls",
            "_view_module_version": "1.5.0",
            "_view_name": "ProgressView",
            "bar_style": "success",
            "description": "",
            "description_tooltip": null,
            "layout": "IPY_MODEL_d44bcfbc9ece45fda1bff3b1c23ac6e4",
            "max": 1648877,
            "min": 0,
            "orientation": "horizontal",
            "style": "IPY_MODEL_9c04cc3ff22b4b13823b9c99c51672ba",
            "value": 1648877
          }
        },
        "3123a1015f1149de83f6eaeae0edddb6": {
          "model_module": "@jupyter-widgets/controls",
          "model_name": "HTMLModel",
          "model_module_version": "1.5.0",
          "state": {
            "_dom_classes": [],
            "_model_module": "@jupyter-widgets/controls",
            "_model_module_version": "1.5.0",
            "_model_name": "HTMLModel",
            "_view_count": null,
            "_view_module": "@jupyter-widgets/controls",
            "_view_module_version": "1.5.0",
            "_view_name": "HTMLView",
            "description": "",
            "description_tooltip": null,
            "layout": "IPY_MODEL_f412be26165e4a33b5ebc3625521fc2f",
            "placeholder": "​",
            "style": "IPY_MODEL_1017dc8a8f5544bc90114eb522729f0c",
            "value": " 1649664/? [00:00&lt;00:00, 21800147.18it/s]"
          }
        },
        "e6a9d9cfce98444aa416d67e34f795d0": {
          "model_module": "@jupyter-widgets/base",
          "model_name": "LayoutModel",
          "model_module_version": "1.2.0",
          "state": {
            "_model_module": "@jupyter-widgets/base",
            "_model_module_version": "1.2.0",
            "_model_name": "LayoutModel",
            "_view_count": null,
            "_view_module": "@jupyter-widgets/base",
            "_view_module_version": "1.2.0",
            "_view_name": "LayoutView",
            "align_content": null,
            "align_items": null,
            "align_self": null,
            "border": null,
            "bottom": null,
            "display": null,
            "flex": null,
            "flex_flow": null,
            "grid_area": null,
            "grid_auto_columns": null,
            "grid_auto_flow": null,
            "grid_auto_rows": null,
            "grid_column": null,
            "grid_gap": null,
            "grid_row": null,
            "grid_template_areas": null,
            "grid_template_columns": null,
            "grid_template_rows": null,
            "height": null,
            "justify_content": null,
            "justify_items": null,
            "left": null,
            "margin": null,
            "max_height": null,
            "max_width": null,
            "min_height": null,
            "min_width": null,
            "object_fit": null,
            "object_position": null,
            "order": null,
            "overflow": null,
            "overflow_x": null,
            "overflow_y": null,
            "padding": null,
            "right": null,
            "top": null,
            "visibility": null,
            "width": null
          }
        },
        "1c0c0cc2c1cb426487ac4c3aff06f702": {
          "model_module": "@jupyter-widgets/base",
          "model_name": "LayoutModel",
          "model_module_version": "1.2.0",
          "state": {
            "_model_module": "@jupyter-widgets/base",
            "_model_module_version": "1.2.0",
            "_model_name": "LayoutModel",
            "_view_count": null,
            "_view_module": "@jupyter-widgets/base",
            "_view_module_version": "1.2.0",
            "_view_name": "LayoutView",
            "align_content": null,
            "align_items": null,
            "align_self": null,
            "border": null,
            "bottom": null,
            "display": null,
            "flex": null,
            "flex_flow": null,
            "grid_area": null,
            "grid_auto_columns": null,
            "grid_auto_flow": null,
            "grid_auto_rows": null,
            "grid_column": null,
            "grid_gap": null,
            "grid_row": null,
            "grid_template_areas": null,
            "grid_template_columns": null,
            "grid_template_rows": null,
            "height": null,
            "justify_content": null,
            "justify_items": null,
            "left": null,
            "margin": null,
            "max_height": null,
            "max_width": null,
            "min_height": null,
            "min_width": null,
            "object_fit": null,
            "object_position": null,
            "order": null,
            "overflow": null,
            "overflow_x": null,
            "overflow_y": null,
            "padding": null,
            "right": null,
            "top": null,
            "visibility": null,
            "width": null
          }
        },
        "6f534a993c27415ca201e26595432f29": {
          "model_module": "@jupyter-widgets/controls",
          "model_name": "DescriptionStyleModel",
          "model_module_version": "1.5.0",
          "state": {
            "_model_module": "@jupyter-widgets/controls",
            "_model_module_version": "1.5.0",
            "_model_name": "DescriptionStyleModel",
            "_view_count": null,
            "_view_module": "@jupyter-widgets/base",
            "_view_module_version": "1.2.0",
            "_view_name": "StyleView",
            "description_width": ""
          }
        },
        "d44bcfbc9ece45fda1bff3b1c23ac6e4": {
          "model_module": "@jupyter-widgets/base",
          "model_name": "LayoutModel",
          "model_module_version": "1.2.0",
          "state": {
            "_model_module": "@jupyter-widgets/base",
            "_model_module_version": "1.2.0",
            "_model_name": "LayoutModel",
            "_view_count": null,
            "_view_module": "@jupyter-widgets/base",
            "_view_module_version": "1.2.0",
            "_view_name": "LayoutView",
            "align_content": null,
            "align_items": null,
            "align_self": null,
            "border": null,
            "bottom": null,
            "display": null,
            "flex": null,
            "flex_flow": null,
            "grid_area": null,
            "grid_auto_columns": null,
            "grid_auto_flow": null,
            "grid_auto_rows": null,
            "grid_column": null,
            "grid_gap": null,
            "grid_row": null,
            "grid_template_areas": null,
            "grid_template_columns": null,
            "grid_template_rows": null,
            "height": null,
            "justify_content": null,
            "justify_items": null,
            "left": null,
            "margin": null,
            "max_height": null,
            "max_width": null,
            "min_height": null,
            "min_width": null,
            "object_fit": null,
            "object_position": null,
            "order": null,
            "overflow": null,
            "overflow_x": null,
            "overflow_y": null,
            "padding": null,
            "right": null,
            "top": null,
            "visibility": null,
            "width": null
          }
        },
        "9c04cc3ff22b4b13823b9c99c51672ba": {
          "model_module": "@jupyter-widgets/controls",
          "model_name": "ProgressStyleModel",
          "model_module_version": "1.5.0",
          "state": {
            "_model_module": "@jupyter-widgets/controls",
            "_model_module_version": "1.5.0",
            "_model_name": "ProgressStyleModel",
            "_view_count": null,
            "_view_module": "@jupyter-widgets/base",
            "_view_module_version": "1.2.0",
            "_view_name": "StyleView",
            "bar_color": null,
            "description_width": ""
          }
        },
        "f412be26165e4a33b5ebc3625521fc2f": {
          "model_module": "@jupyter-widgets/base",
          "model_name": "LayoutModel",
          "model_module_version": "1.2.0",
          "state": {
            "_model_module": "@jupyter-widgets/base",
            "_model_module_version": "1.2.0",
            "_model_name": "LayoutModel",
            "_view_count": null,
            "_view_module": "@jupyter-widgets/base",
            "_view_module_version": "1.2.0",
            "_view_name": "LayoutView",
            "align_content": null,
            "align_items": null,
            "align_self": null,
            "border": null,
            "bottom": null,
            "display": null,
            "flex": null,
            "flex_flow": null,
            "grid_area": null,
            "grid_auto_columns": null,
            "grid_auto_flow": null,
            "grid_auto_rows": null,
            "grid_column": null,
            "grid_gap": null,
            "grid_row": null,
            "grid_template_areas": null,
            "grid_template_columns": null,
            "grid_template_rows": null,
            "height": null,
            "justify_content": null,
            "justify_items": null,
            "left": null,
            "margin": null,
            "max_height": null,
            "max_width": null,
            "min_height": null,
            "min_width": null,
            "object_fit": null,
            "object_position": null,
            "order": null,
            "overflow": null,
            "overflow_x": null,
            "overflow_y": null,
            "padding": null,
            "right": null,
            "top": null,
            "visibility": null,
            "width": null
          }
        },
        "1017dc8a8f5544bc90114eb522729f0c": {
          "model_module": "@jupyter-widgets/controls",
          "model_name": "DescriptionStyleModel",
          "model_module_version": "1.5.0",
          "state": {
            "_model_module": "@jupyter-widgets/controls",
            "_model_module_version": "1.5.0",
            "_model_name": "DescriptionStyleModel",
            "_view_count": null,
            "_view_module": "@jupyter-widgets/base",
            "_view_module_version": "1.2.0",
            "_view_name": "StyleView",
            "description_width": ""
          }
        },
        "c87c201af67047c89455af1fe5915193": {
          "model_module": "@jupyter-widgets/controls",
          "model_name": "HBoxModel",
          "model_module_version": "1.5.0",
          "state": {
            "_dom_classes": [],
            "_model_module": "@jupyter-widgets/controls",
            "_model_module_version": "1.5.0",
            "_model_name": "HBoxModel",
            "_view_count": null,
            "_view_module": "@jupyter-widgets/controls",
            "_view_module_version": "1.5.0",
            "_view_name": "HBoxView",
            "box_style": "",
            "children": [
              "IPY_MODEL_2486e06ce89645c290bface92f6be574",
              "IPY_MODEL_0c5cde0da63b4f03a70cc813cf631c15",
              "IPY_MODEL_c3585e34ed724925b856df5dd9136d9f"
            ],
            "layout": "IPY_MODEL_ef48373a3f5d43df817133a20a7174c4"
          }
        },
        "2486e06ce89645c290bface92f6be574": {
          "model_module": "@jupyter-widgets/controls",
          "model_name": "HTMLModel",
          "model_module_version": "1.5.0",
          "state": {
            "_dom_classes": [],
            "_model_module": "@jupyter-widgets/controls",
            "_model_module_version": "1.5.0",
            "_model_name": "HTMLModel",
            "_view_count": null,
            "_view_module": "@jupyter-widgets/controls",
            "_view_module_version": "1.5.0",
            "_view_name": "HTMLView",
            "description": "",
            "description_tooltip": null,
            "layout": "IPY_MODEL_a0d247a3c1cb46f8aae47d2f83c75949",
            "placeholder": "​",
            "style": "IPY_MODEL_03c7d59563514e988e72b56203a3c533",
            "value": ""
          }
        },
        "0c5cde0da63b4f03a70cc813cf631c15": {
          "model_module": "@jupyter-widgets/controls",
          "model_name": "FloatProgressModel",
          "model_module_version": "1.5.0",
          "state": {
            "_dom_classes": [],
            "_model_module": "@jupyter-widgets/controls",
            "_model_module_version": "1.5.0",
            "_model_name": "FloatProgressModel",
            "_view_count": null,
            "_view_module": "@jupyter-widgets/controls",
            "_view_module_version": "1.5.0",
            "_view_name": "ProgressView",
            "bar_style": "success",
            "description": "",
            "description_tooltip": null,
            "layout": "IPY_MODEL_9b7282f3bb7b43ffae2a8973183c13ad",
            "max": 4542,
            "min": 0,
            "orientation": "horizontal",
            "style": "IPY_MODEL_133af4533ad14e7c87c1e9c8d8b17fcd",
            "value": 4542
          }
        },
        "c3585e34ed724925b856df5dd9136d9f": {
          "model_module": "@jupyter-widgets/controls",
          "model_name": "HTMLModel",
          "model_module_version": "1.5.0",
          "state": {
            "_dom_classes": [],
            "_model_module": "@jupyter-widgets/controls",
            "_model_module_version": "1.5.0",
            "_model_name": "HTMLModel",
            "_view_count": null,
            "_view_module": "@jupyter-widgets/controls",
            "_view_module_version": "1.5.0",
            "_view_name": "HTMLView",
            "description": "",
            "description_tooltip": null,
            "layout": "IPY_MODEL_3c323ca9734a4fb7bdbdb2f5252064a9",
            "placeholder": "​",
            "style": "IPY_MODEL_fcc0f4f4aa1742e8b673380f4bf3767c",
            "value": " 5120/? [00:00&lt;00:00, 107120.31it/s]"
          }
        },
        "ef48373a3f5d43df817133a20a7174c4": {
          "model_module": "@jupyter-widgets/base",
          "model_name": "LayoutModel",
          "model_module_version": "1.2.0",
          "state": {
            "_model_module": "@jupyter-widgets/base",
            "_model_module_version": "1.2.0",
            "_model_name": "LayoutModel",
            "_view_count": null,
            "_view_module": "@jupyter-widgets/base",
            "_view_module_version": "1.2.0",
            "_view_name": "LayoutView",
            "align_content": null,
            "align_items": null,
            "align_self": null,
            "border": null,
            "bottom": null,
            "display": null,
            "flex": null,
            "flex_flow": null,
            "grid_area": null,
            "grid_auto_columns": null,
            "grid_auto_flow": null,
            "grid_auto_rows": null,
            "grid_column": null,
            "grid_gap": null,
            "grid_row": null,
            "grid_template_areas": null,
            "grid_template_columns": null,
            "grid_template_rows": null,
            "height": null,
            "justify_content": null,
            "justify_items": null,
            "left": null,
            "margin": null,
            "max_height": null,
            "max_width": null,
            "min_height": null,
            "min_width": null,
            "object_fit": null,
            "object_position": null,
            "order": null,
            "overflow": null,
            "overflow_x": null,
            "overflow_y": null,
            "padding": null,
            "right": null,
            "top": null,
            "visibility": null,
            "width": null
          }
        },
        "a0d247a3c1cb46f8aae47d2f83c75949": {
          "model_module": "@jupyter-widgets/base",
          "model_name": "LayoutModel",
          "model_module_version": "1.2.0",
          "state": {
            "_model_module": "@jupyter-widgets/base",
            "_model_module_version": "1.2.0",
            "_model_name": "LayoutModel",
            "_view_count": null,
            "_view_module": "@jupyter-widgets/base",
            "_view_module_version": "1.2.0",
            "_view_name": "LayoutView",
            "align_content": null,
            "align_items": null,
            "align_self": null,
            "border": null,
            "bottom": null,
            "display": null,
            "flex": null,
            "flex_flow": null,
            "grid_area": null,
            "grid_auto_columns": null,
            "grid_auto_flow": null,
            "grid_auto_rows": null,
            "grid_column": null,
            "grid_gap": null,
            "grid_row": null,
            "grid_template_areas": null,
            "grid_template_columns": null,
            "grid_template_rows": null,
            "height": null,
            "justify_content": null,
            "justify_items": null,
            "left": null,
            "margin": null,
            "max_height": null,
            "max_width": null,
            "min_height": null,
            "min_width": null,
            "object_fit": null,
            "object_position": null,
            "order": null,
            "overflow": null,
            "overflow_x": null,
            "overflow_y": null,
            "padding": null,
            "right": null,
            "top": null,
            "visibility": null,
            "width": null
          }
        },
        "03c7d59563514e988e72b56203a3c533": {
          "model_module": "@jupyter-widgets/controls",
          "model_name": "DescriptionStyleModel",
          "model_module_version": "1.5.0",
          "state": {
            "_model_module": "@jupyter-widgets/controls",
            "_model_module_version": "1.5.0",
            "_model_name": "DescriptionStyleModel",
            "_view_count": null,
            "_view_module": "@jupyter-widgets/base",
            "_view_module_version": "1.2.0",
            "_view_name": "StyleView",
            "description_width": ""
          }
        },
        "9b7282f3bb7b43ffae2a8973183c13ad": {
          "model_module": "@jupyter-widgets/base",
          "model_name": "LayoutModel",
          "model_module_version": "1.2.0",
          "state": {
            "_model_module": "@jupyter-widgets/base",
            "_model_module_version": "1.2.0",
            "_model_name": "LayoutModel",
            "_view_count": null,
            "_view_module": "@jupyter-widgets/base",
            "_view_module_version": "1.2.0",
            "_view_name": "LayoutView",
            "align_content": null,
            "align_items": null,
            "align_self": null,
            "border": null,
            "bottom": null,
            "display": null,
            "flex": null,
            "flex_flow": null,
            "grid_area": null,
            "grid_auto_columns": null,
            "grid_auto_flow": null,
            "grid_auto_rows": null,
            "grid_column": null,
            "grid_gap": null,
            "grid_row": null,
            "grid_template_areas": null,
            "grid_template_columns": null,
            "grid_template_rows": null,
            "height": null,
            "justify_content": null,
            "justify_items": null,
            "left": null,
            "margin": null,
            "max_height": null,
            "max_width": null,
            "min_height": null,
            "min_width": null,
            "object_fit": null,
            "object_position": null,
            "order": null,
            "overflow": null,
            "overflow_x": null,
            "overflow_y": null,
            "padding": null,
            "right": null,
            "top": null,
            "visibility": null,
            "width": null
          }
        },
        "133af4533ad14e7c87c1e9c8d8b17fcd": {
          "model_module": "@jupyter-widgets/controls",
          "model_name": "ProgressStyleModel",
          "model_module_version": "1.5.0",
          "state": {
            "_model_module": "@jupyter-widgets/controls",
            "_model_module_version": "1.5.0",
            "_model_name": "ProgressStyleModel",
            "_view_count": null,
            "_view_module": "@jupyter-widgets/base",
            "_view_module_version": "1.2.0",
            "_view_name": "StyleView",
            "bar_color": null,
            "description_width": ""
          }
        },
        "3c323ca9734a4fb7bdbdb2f5252064a9": {
          "model_module": "@jupyter-widgets/base",
          "model_name": "LayoutModel",
          "model_module_version": "1.2.0",
          "state": {
            "_model_module": "@jupyter-widgets/base",
            "_model_module_version": "1.2.0",
            "_model_name": "LayoutModel",
            "_view_count": null,
            "_view_module": "@jupyter-widgets/base",
            "_view_module_version": "1.2.0",
            "_view_name": "LayoutView",
            "align_content": null,
            "align_items": null,
            "align_self": null,
            "border": null,
            "bottom": null,
            "display": null,
            "flex": null,
            "flex_flow": null,
            "grid_area": null,
            "grid_auto_columns": null,
            "grid_auto_flow": null,
            "grid_auto_rows": null,
            "grid_column": null,
            "grid_gap": null,
            "grid_row": null,
            "grid_template_areas": null,
            "grid_template_columns": null,
            "grid_template_rows": null,
            "height": null,
            "justify_content": null,
            "justify_items": null,
            "left": null,
            "margin": null,
            "max_height": null,
            "max_width": null,
            "min_height": null,
            "min_width": null,
            "object_fit": null,
            "object_position": null,
            "order": null,
            "overflow": null,
            "overflow_x": null,
            "overflow_y": null,
            "padding": null,
            "right": null,
            "top": null,
            "visibility": null,
            "width": null
          }
        },
        "fcc0f4f4aa1742e8b673380f4bf3767c": {
          "model_module": "@jupyter-widgets/controls",
          "model_name": "DescriptionStyleModel",
          "model_module_version": "1.5.0",
          "state": {
            "_model_module": "@jupyter-widgets/controls",
            "_model_module_version": "1.5.0",
            "_model_name": "DescriptionStyleModel",
            "_view_count": null,
            "_view_module": "@jupyter-widgets/base",
            "_view_module_version": "1.2.0",
            "_view_name": "StyleView",
            "description_width": ""
          }
        }
      }
    }
  },
  "cells": [
    {
      "cell_type": "markdown",
      "metadata": {
        "id": "view-in-github",
        "colab_type": "text"
      },
      "source": [
        "<a href=\"https://colab.research.google.com/github/unicamp-dl/IA025_2022S1/blob/main/ex04/larissa_santesso/Aula_4_Exerc%C3%ADcio_Larissa_Santesso_%5BNew%5D.ipynb\" target=\"_parent\"><img src=\"https://colab.research.google.com/assets/colab-badge.svg\" alt=\"Open In Colab\"/></a>"
      ]
    },
    {
      "cell_type": "markdown",
      "metadata": {
        "id": "J3R2-_YuQT1r"
      },
      "source": [
        "# Regressão Softmax com dados do MNIST utilizando gradiente descendente estocástico por minibatches"
      ]
    },
    {
      "cell_type": "markdown",
      "metadata": {
        "id": "WkfGTqMVQT1u"
      },
      "source": [
        "Este exercicío consiste em treinar um modelo de uma única camada linear no MNIST **sem** usar as seguintes funções do pytorch:\n",
        "\n",
        "- torch.nn.Linear\n",
        "- torch.nn.CrossEntropyLoss\n",
        "- torch.nn.NLLLoss\n",
        "- torch.nn.LogSoftmax\n",
        "- torch.optim.SGD\n",
        "- torch.utils.data.Dataloader"
      ]
    },
    {
      "cell_type": "markdown",
      "metadata": {
        "id": "wFNf4RPxQT1w"
      },
      "source": [
        "## Importação das bibliotecas"
      ]
    },
    {
      "cell_type": "code",
      "metadata": {
        "ExecuteTime": {
          "end_time": "2018-08-21T14:08:14.033692Z",
          "start_time": "2018-08-21T14:08:11.179981Z"
        },
        "id": "-fLUSHaCQT1x"
      },
      "source": [
        "%matplotlib inline\n",
        "import numpy as np\n",
        "import matplotlib.pyplot as plt\n",
        "import random\n",
        "import torch\n",
        "import torchvision\n",
        "from torchvision.datasets import MNIST"
      ],
      "execution_count": 1,
      "outputs": []
    },
    {
      "cell_type": "markdown",
      "source": [
        "## Fixando as seeds"
      ],
      "metadata": {
        "id": "7_Po22b5ykhK"
      }
    },
    {
      "cell_type": "code",
      "source": [
        "random.seed(123)\n",
        "np.random.seed(123)\n",
        "torch.manual_seed(123)"
      ],
      "metadata": {
        "id": "y-7WWWgLyoRq",
        "colab": {
          "base_uri": "https://localhost:8080/"
        },
        "outputId": "2d1c7054-75f5-4547-97d1-2844a569da65"
      },
      "execution_count": 2,
      "outputs": [
        {
          "output_type": "execute_result",
          "data": {
            "text/plain": [
              "<torch._C.Generator at 0x7f9e622d88b0>"
            ]
          },
          "metadata": {},
          "execution_count": 2
        }
      ]
    },
    {
      "cell_type": "markdown",
      "metadata": {
        "id": "jEMUsfJpQT11"
      },
      "source": [
        "## Dataset e dataloader"
      ]
    },
    {
      "cell_type": "markdown",
      "metadata": {
        "id": "vHoQjDs_QT12"
      },
      "source": [
        "### Definição do tamanho do minibatch"
      ]
    },
    {
      "cell_type": "code",
      "metadata": {
        "ExecuteTime": {
          "end_time": "2018-08-21T14:08:20.282474Z",
          "start_time": "2018-08-21T14:08:20.275450Z"
        },
        "id": "tEQYUr4TQT13"
      },
      "source": [
        "batch_size = 50"
      ],
      "execution_count": 3,
      "outputs": []
    },
    {
      "cell_type": "markdown",
      "metadata": {
        "id": "dc7Rv_2BQT16"
      },
      "source": [
        "### Carregamento, criação dataset e do dataloader"
      ]
    },
    {
      "cell_type": "code",
      "metadata": {
        "ExecuteTime": {
          "end_time": "2018-08-21T14:10:45.430605Z",
          "start_time": "2018-08-21T14:10:04.953051Z"
        },
        "id": "G0dEKCn-QT17",
        "colab": {
          "base_uri": "https://localhost:8080/",
          "height": 458,
          "referenced_widgets": [
            "aeb252a5be9b46e08c2b683a35b1a08e",
            "f37baa822c8843478e8caf0fa10ed0ec",
            "d33645466b6d4dc7b046d28533fe9040",
            "52ceb858d86242d2a1f14806cd944ea3",
            "c29a0af1491e43ea8f26f38f934984b5",
            "c2877783f32b4000a6331564cf1840b8",
            "4c2deca59870482d82357b1259011e2d",
            "4fbef5fa91cc458780b55316f4f4e372",
            "3aa6690017b74a50a9ee8abe7f1b9294",
            "2f934095778d44cba3e99b8554af11b0",
            "733af4e941734b928d143a5e46346df1",
            "606cf87d9f1047f49f6f8d24d00a0cda",
            "34e6a11be2b243368665108c312f0bd0",
            "f1edcd7652de47dfa92354bd893d8cbf",
            "11d1e758a66d4a29ac2302b12b39ad94",
            "2b022e3574f54b6da9c1d35fa3aa0f7b",
            "3c848b218dd94b1f8919ff2b0edf2b43",
            "b5b56b9805ca4c7394ba135748741c02",
            "cfe8472f8f444c5db846f6599b476d3b",
            "9b17e3ef3947483cb6678189118cf8d4",
            "ac16bec3ed1041818673e70f0314a78b",
            "74899ef20d0c47518e83abb8232472cc",
            "a305d6989d4547d6ad4f36816fa3b1c6",
            "355fb2877ee5469b849394a04b7c2798",
            "7c190101b90c4146b7458f8d13a5b125",
            "3123a1015f1149de83f6eaeae0edddb6",
            "e6a9d9cfce98444aa416d67e34f795d0",
            "1c0c0cc2c1cb426487ac4c3aff06f702",
            "6f534a993c27415ca201e26595432f29",
            "d44bcfbc9ece45fda1bff3b1c23ac6e4",
            "9c04cc3ff22b4b13823b9c99c51672ba",
            "f412be26165e4a33b5ebc3625521fc2f",
            "1017dc8a8f5544bc90114eb522729f0c",
            "c87c201af67047c89455af1fe5915193",
            "2486e06ce89645c290bface92f6be574",
            "0c5cde0da63b4f03a70cc813cf631c15",
            "c3585e34ed724925b856df5dd9136d9f",
            "ef48373a3f5d43df817133a20a7174c4",
            "a0d247a3c1cb46f8aae47d2f83c75949",
            "03c7d59563514e988e72b56203a3c533",
            "9b7282f3bb7b43ffae2a8973183c13ad",
            "133af4533ad14e7c87c1e9c8d8b17fcd",
            "3c323ca9734a4fb7bdbdb2f5252064a9",
            "fcc0f4f4aa1742e8b673380f4bf3767c"
          ]
        },
        "outputId": "18708147-a6c8-49dc-e9c4-307d1e090a96"
      },
      "source": [
        "dataset_dir = '../data/'\n",
        "\n",
        "dataset_train_full = MNIST(dataset_dir, train=True, download=True,\n",
        "                           transform=torchvision.transforms.ToTensor())\n",
        "print(dataset_train_full.data.shape)\n",
        "print(dataset_train_full.targets.shape)"
      ],
      "execution_count": 4,
      "outputs": [
        {
          "output_type": "stream",
          "name": "stdout",
          "text": [
            "Downloading http://yann.lecun.com/exdb/mnist/train-images-idx3-ubyte.gz\n",
            "Downloading http://yann.lecun.com/exdb/mnist/train-images-idx3-ubyte.gz to ../data/MNIST/raw/train-images-idx3-ubyte.gz\n"
          ]
        },
        {
          "output_type": "display_data",
          "data": {
            "text/plain": [
              "  0%|          | 0/9912422 [00:00<?, ?it/s]"
            ],
            "application/vnd.jupyter.widget-view+json": {
              "version_major": 2,
              "version_minor": 0,
              "model_id": "aeb252a5be9b46e08c2b683a35b1a08e"
            }
          },
          "metadata": {}
        },
        {
          "output_type": "stream",
          "name": "stdout",
          "text": [
            "Extracting ../data/MNIST/raw/train-images-idx3-ubyte.gz to ../data/MNIST/raw\n",
            "\n",
            "Downloading http://yann.lecun.com/exdb/mnist/train-labels-idx1-ubyte.gz\n",
            "Downloading http://yann.lecun.com/exdb/mnist/train-labels-idx1-ubyte.gz to ../data/MNIST/raw/train-labels-idx1-ubyte.gz\n"
          ]
        },
        {
          "output_type": "display_data",
          "data": {
            "text/plain": [
              "  0%|          | 0/28881 [00:00<?, ?it/s]"
            ],
            "application/vnd.jupyter.widget-view+json": {
              "version_major": 2,
              "version_minor": 0,
              "model_id": "606cf87d9f1047f49f6f8d24d00a0cda"
            }
          },
          "metadata": {}
        },
        {
          "output_type": "stream",
          "name": "stdout",
          "text": [
            "Extracting ../data/MNIST/raw/train-labels-idx1-ubyte.gz to ../data/MNIST/raw\n",
            "\n",
            "Downloading http://yann.lecun.com/exdb/mnist/t10k-images-idx3-ubyte.gz\n",
            "Downloading http://yann.lecun.com/exdb/mnist/t10k-images-idx3-ubyte.gz to ../data/MNIST/raw/t10k-images-idx3-ubyte.gz\n"
          ]
        },
        {
          "output_type": "display_data",
          "data": {
            "text/plain": [
              "  0%|          | 0/1648877 [00:00<?, ?it/s]"
            ],
            "application/vnd.jupyter.widget-view+json": {
              "version_major": 2,
              "version_minor": 0,
              "model_id": "a305d6989d4547d6ad4f36816fa3b1c6"
            }
          },
          "metadata": {}
        },
        {
          "output_type": "stream",
          "name": "stdout",
          "text": [
            "Extracting ../data/MNIST/raw/t10k-images-idx3-ubyte.gz to ../data/MNIST/raw\n",
            "\n",
            "Downloading http://yann.lecun.com/exdb/mnist/t10k-labels-idx1-ubyte.gz\n",
            "Downloading http://yann.lecun.com/exdb/mnist/t10k-labels-idx1-ubyte.gz to ../data/MNIST/raw/t10k-labels-idx1-ubyte.gz\n"
          ]
        },
        {
          "output_type": "display_data",
          "data": {
            "text/plain": [
              "  0%|          | 0/4542 [00:00<?, ?it/s]"
            ],
            "application/vnd.jupyter.widget-view+json": {
              "version_major": 2,
              "version_minor": 0,
              "model_id": "c87c201af67047c89455af1fe5915193"
            }
          },
          "metadata": {}
        },
        {
          "output_type": "stream",
          "name": "stdout",
          "text": [
            "Extracting ../data/MNIST/raw/t10k-labels-idx1-ubyte.gz to ../data/MNIST/raw\n",
            "\n",
            "torch.Size([60000, 28, 28])\n",
            "torch.Size([60000])\n"
          ]
        }
      ]
    },
    {
      "cell_type": "markdown",
      "metadata": {
        "id": "_rOy9ntrQT2D"
      },
      "source": [
        "### Usando apenas 1000 amostras do MNIST\n",
        "\n",
        "Neste exercício utilizaremos 1000 amostras de treinamento."
      ]
    },
    {
      "cell_type": "code",
      "metadata": {
        "id": "WNF2XjLBWWe7"
      },
      "source": [
        "indices = torch.randperm(len(dataset_train_full))[:1000]\n",
        "dataset_train = torch.utils.data.Subset(dataset_train_full, indices)"
      ],
      "execution_count": 5,
      "outputs": []
    },
    {
      "cell_type": "code",
      "source": [
        "len(dataset_train)"
      ],
      "metadata": {
        "colab": {
          "base_uri": "https://localhost:8080/"
        },
        "id": "eROs5WqOEciE",
        "outputId": "01497c05-f9f8-4a49-b8bf-bfb5992a7390"
      },
      "execution_count": 6,
      "outputs": [
        {
          "output_type": "execute_result",
          "data": {
            "text/plain": [
              "1000"
            ]
          },
          "metadata": {},
          "execution_count": 6
        }
      ]
    },
    {
      "cell_type": "code",
      "source": [
        "x, y = dataset_train[0]\n",
        "x.shape"
      ],
      "metadata": {
        "colab": {
          "base_uri": "https://localhost:8080/"
        },
        "id": "kCcSRy_WFSUP",
        "outputId": "6d7604ca-64e7-4296-9d9c-d1ba3b8976c4"
      },
      "execution_count": 7,
      "outputs": [
        {
          "output_type": "execute_result",
          "data": {
            "text/plain": [
              "torch.Size([1, 28, 28])"
            ]
          },
          "metadata": {},
          "execution_count": 7
        }
      ]
    },
    {
      "cell_type": "code",
      "metadata": {
        "id": "aSNLD2JyA2e-"
      },
      "source": [
        "# Escreva aqui o equivalente do código abaixo:\n",
        "# loader_train = torch.utils.data.DataLoader(dataset_train, batch_size=batch_size, shuffle=False)\n",
        "\n",
        "class DataLoader:\n",
        "    def __init__(self, x=x, batch_size=batch_size, shuffle=True):\n",
        "        self.x = list(x)\n",
        "        self.batch_size = batch_size\n",
        "\n",
        "        # inicializando o index toda vez que chama a função\n",
        "        self.index = 0\n",
        "\n",
        "        # salvando o tamanho do dataloader antes de descompactar\n",
        "        # (len(self.x) % self.batch_size > 0) será igual a 1 se houver algum resto na divisão\n",
        "        self.length = len(self.x)//self.batch_size + (len(self.x) % self.batch_size > 0) \n",
        "        \n",
        "        if shuffle==True:\n",
        "            random.shuffle(self.x)\n",
        "\n",
        "        # é preciso descompactar as listas para conseguir pegar x e y separadamente depois\n",
        "        self.x = list(zip(*self.x)) \n",
        "        self.x[0] = torch.stack(self.x[0],dim=0)  \n",
        "        self.x[1] = torch.tensor(self.x[1]).long()\n",
        "\n",
        "    def __len__(self):\n",
        "        return self.length\n",
        "\n",
        "    def __iter__(self):\n",
        "        #inicializando o index em zero toda vez que aplicar iter no dataloader\n",
        "        self.index = 0\n",
        "        return self\n",
        "\n",
        "    def __next__(self): \n",
        "        # enquanto o index do dataloader for menor que o tamanho total dele mesmo\n",
        "        # o item a ser retornado será o x e o y do batch relacionado àquele index\n",
        "        if self.index < len(self):\n",
        "            item1 = self.x[0][self.index*self.batch_size:self.index*self.batch_size+self.batch_size]\n",
        "            item2 = self.x[1][self.index*self.batch_size:self.index*self.batch_size+self.batch_size]\n",
        "            self.index += 1\n",
        "            return item1,item2\n",
        "\n",
        "        # se já percorreu todo o dataloader, irá parar a iteração.\n",
        "        else:\n",
        "            raise StopIteration\n",
        "\n",
        "loader_train = DataLoader(dataset_train, batch_size=50, shuffle=False)"
      ],
      "execution_count": 8,
      "outputs": []
    },
    {
      "cell_type": "code",
      "metadata": {
        "ExecuteTime": {
          "end_time": "2018-08-21T13:30:35.209157Z",
          "start_time": "2018-08-21T13:30:34.757103Z"
        },
        "id": "w52KGYlIQT2A",
        "colab": {
          "base_uri": "https://localhost:8080/"
        },
        "outputId": "1c5e7dcf-de6f-4d78-b79c-600ce2afa937"
      },
      "source": [
        "print('Número de minibatches de trenamento:', len(loader_train))\n",
        "\n",
        "x_train, y_train = next(iter(loader_train))\n",
        "print(\"\\nDimensões dos dados de um minibatch:\", x_train.size())\n",
        "print(\"Valores mínimo e máximo dos pixels: \", torch.min(x_train), torch.max(x_train))\n",
        "print(\"Tipo dos dados das imagens:         \", type(x_train))\n",
        "print(\"Tipo das classes das imagens:       \", type(y_train))"
      ],
      "execution_count": 9,
      "outputs": [
        {
          "output_type": "stream",
          "name": "stdout",
          "text": [
            "Número de minibatches de trenamento: 20\n",
            "\n",
            "Dimensões dos dados de um minibatch: torch.Size([50, 1, 28, 28])\n",
            "Valores mínimo e máximo dos pixels:  tensor(0.) tensor(1.)\n",
            "Tipo dos dados das imagens:          <class 'torch.Tensor'>\n",
            "Tipo das classes das imagens:        <class 'torch.Tensor'>\n"
          ]
        }
      ]
    },
    {
      "cell_type": "code",
      "source": [
        "x_train.dtype, x_train.shape, y_train.dtype, y_train.shape"
      ],
      "metadata": {
        "colab": {
          "base_uri": "https://localhost:8080/"
        },
        "id": "P7RZgnK6aTUY",
        "outputId": "584b4481-dcb9-4871-cc76-7094b5119156"
      },
      "execution_count": 10,
      "outputs": [
        {
          "output_type": "execute_result",
          "data": {
            "text/plain": [
              "(torch.float32, torch.Size([50, 1, 28, 28]), torch.int64, torch.Size([50]))"
            ]
          },
          "metadata": {},
          "execution_count": 10
        }
      ]
    },
    {
      "cell_type": "markdown",
      "metadata": {
        "id": "BQA9Zg7GQT2G"
      },
      "source": [
        "## Modelo"
      ]
    },
    {
      "cell_type": "code",
      "metadata": {
        "ExecuteTime": {
          "end_time": "2018-08-20T21:03:10.802708Z",
          "start_time": "2018-08-20T21:03:10.793287Z"
        },
        "id": "_8Eg4h_kQT2H"
      },
      "source": [
        "# Escreva aqui o codigo para criar um modelo cujo o equivalente é: \n",
        "# model = torch.nn.Linear(28*28, 10)\n",
        "# model.load_state_dict(dict(weight=torch.zeros(model.weight.shape), bias=torch.zeros(model.bias.shape)))\n",
        "\n",
        "class Model():\n",
        "    def __init__(self, n_in: int, n_out: int):\n",
        "        self.weights = torch.zeros(n_out,n_in, requires_grad=True)\n",
        "        self.bias = torch.zeros(n_out, requires_grad=True)\n",
        "\n",
        "    def __call__(self,x):    \n",
        "        y_pred = x.mm(torch.t(self.weights))+self.bias.unsqueeze(0)\n",
        "        return y_pred\n",
        "    \n",
        "    def parameters(self):\n",
        "        return self.weights, self.bias\n",
        "\n",
        "model = Model(28*28,10)"
      ],
      "execution_count": 11,
      "outputs": []
    },
    {
      "cell_type": "markdown",
      "metadata": {
        "id": "0NHQB4wGQT2K"
      },
      "source": [
        "## Treinamento"
      ]
    },
    {
      "cell_type": "markdown",
      "metadata": {
        "id": "nqs2JhJoQT2L"
      },
      "source": [
        "### Inicialização dos parâmetros"
      ]
    },
    {
      "cell_type": "code",
      "metadata": {
        "ExecuteTime": {
          "end_time": "2018-08-20T21:03:14.146259Z",
          "start_time": "2018-08-20T21:03:14.139515Z"
        },
        "id": "oZuYEkn_QT2M"
      },
      "source": [
        "n_epochs = 50\n",
        "lr = 0.1"
      ],
      "execution_count": 12,
      "outputs": []
    },
    {
      "cell_type": "markdown",
      "metadata": {
        "id": "tGeMCRw5kQMU"
      },
      "source": [
        "## Definição da Loss\n",
        "\n"
      ]
    },
    {
      "cell_type": "code",
      "metadata": {
        "id": "XcqFzpSTkYtk"
      },
      "source": [
        "# Escreva aqui o equivalente de:\n",
        "# criterion = torch.nn.CrossEntropyLoss()\n",
        "\n",
        "class CrossEntropyLoss:\n",
        "    def __init__(self):\n",
        "        self.loss = 0\n",
        "\n",
        "    def __call__(self,outputs, targets):   \n",
        "        exp_x = torch.exp(outputs)\n",
        "        sum_x = torch.sum(exp_x, dim=1, keepdim=True)\n",
        "\n",
        "        batch_size = outputs.shape[0]\n",
        "        outputs = torch.log(exp_x/sum_x)\n",
        "        outputs = outputs[range(batch_size), targets]\n",
        "\n",
        "        return -torch.sum(outputs)/batch_size\n",
        "\n",
        "criterion = CrossEntropyLoss()"
      ],
      "execution_count": 13,
      "outputs": []
    },
    {
      "cell_type": "markdown",
      "source": [
        "# Definição do Optimizer"
      ],
      "metadata": {
        "id": "01BDueU2x4ox"
      }
    },
    {
      "cell_type": "code",
      "source": [
        "# Escreva aqui o equivalente de:\n",
        "# optimizer = torch.optim.SGD(model.parameters(), lr)\n",
        "\n",
        "class SGD():\n",
        "    def __init__(self, parameters: tuple, learning_rate: float):\n",
        "        self.parameters = parameters\n",
        "        self.lr = learning_rate\n",
        "        \n",
        "\n",
        "    def step(self):\n",
        "        for parameter in self.parameters:\n",
        "            parameter.data = (parameter.data - self.lr * parameter.grad).detach()\n",
        "\n",
        "    def zero_grad(self):\n",
        "        for parameter in self.parameters:\n",
        "            parameter.grad = torch.zeros_like(parameter.data) # ideia baseada do notebook de Pedro Gengo: torch.zeros_like\n",
        "\n",
        "optimizer = SGD(model.parameters(), lr)"
      ],
      "metadata": {
        "id": "tIlnR_Z8x85O"
      },
      "execution_count": 14,
      "outputs": []
    },
    {
      "cell_type": "markdown",
      "metadata": {
        "id": "pmXarXeIQT2O"
      },
      "source": [
        "### Laço de treinamento dos parâmetros"
      ]
    },
    {
      "cell_type": "code",
      "metadata": {
        "ExecuteTime": {
          "end_time": "2018-08-20T21:03:40.796410Z",
          "start_time": "2018-08-20T21:03:39.771981Z"
        },
        "id": "L5T_jZZPQT2P",
        "colab": {
          "base_uri": "https://localhost:8080/"
        },
        "outputId": "a90dcbe2-60cb-479a-8c75-769532f30813"
      },
      "source": [
        "epochs = []\n",
        "loss_history = []\n",
        "loss_epoch_end = []\n",
        "total_trained_samples = 0\n",
        "for i in range(n_epochs):\n",
        "    # Substitua aqui o loader_train de acordo com sua implementação do dataloader.\n",
        "    loader_train = DataLoader(dataset_train, batch_size=50, shuffle=False)\n",
        "    for x_train, y_train in loader_train:\n",
        "        # Transforma a entrada para uma dimensão\n",
        "        inputs = x_train.view(-1, 28 * 28)\n",
        "        # predict da rede\n",
        "        outputs = model(inputs)\n",
        "\n",
        "        # calcula a perda\n",
        "        loss = criterion(outputs, y_train)\n",
        "\n",
        "        # zero, backpropagation, ajusta parâmetros pelo gradiente descendente\n",
        "        # Escreva aqui o código cujo o resultado é equivalente às 3 linhas abaixo:\n",
        "        # optimizer.zero_grad()\n",
        "        # loss.backward()\n",
        "        # optimizer.step()\n",
        "        \n",
        "        optimizer.zero_grad()\n",
        "        loss.backward()\n",
        "        optimizer.step()\n",
        "\n",
        "        total_trained_samples += x_train.size(0)\n",
        "        epochs.append(total_trained_samples / len(dataset_train))\n",
        "        loss_history.append(loss.item())\n",
        "\n",
        "    loss_epoch_end.append(loss.item())\n",
        "    print(f'Epoch: {i:d}/{n_epochs - 1:d} Loss: {loss.item()}')\n"
      ],
      "execution_count": 15,
      "outputs": [
        {
          "output_type": "stream",
          "name": "stdout",
          "text": [
            "Epoch: 0/49 Loss: 1.1979684829711914\n",
            "Epoch: 1/49 Loss: 0.867622971534729\n",
            "Epoch: 2/49 Loss: 0.7226786017417908\n",
            "Epoch: 3/49 Loss: 0.6381281614303589\n",
            "Epoch: 4/49 Loss: 0.5809750556945801\n",
            "Epoch: 5/49 Loss: 0.5387411713600159\n",
            "Epoch: 6/49 Loss: 0.5056463479995728\n",
            "Epoch: 7/49 Loss: 0.4786270558834076\n",
            "Epoch: 8/49 Loss: 0.4558936655521393\n",
            "Epoch: 9/49 Loss: 0.43632185459136963\n",
            "Epoch: 10/49 Loss: 0.4191650152206421\n",
            "Epoch: 11/49 Loss: 0.4039044976234436\n",
            "Epoch: 12/49 Loss: 0.39016804099082947\n",
            "Epoch: 13/49 Loss: 0.3776799142360687\n",
            "Epoch: 14/49 Loss: 0.3662314713001251\n",
            "Epoch: 15/49 Loss: 0.35566139221191406\n",
            "Epoch: 16/49 Loss: 0.34584280848503113\n",
            "Epoch: 17/49 Loss: 0.33667415380477905\n",
            "Epoch: 18/49 Loss: 0.32807353138923645\n",
            "Epoch: 19/49 Loss: 0.31997358798980713\n",
            "Epoch: 20/49 Loss: 0.3123182952404022\n",
            "Epoch: 21/49 Loss: 0.30506113171577454\n",
            "Epoch: 22/49 Loss: 0.29816243052482605\n",
            "Epoch: 23/49 Loss: 0.29158854484558105\n",
            "Epoch: 24/49 Loss: 0.28531038761138916\n",
            "Epoch: 25/49 Loss: 0.27930301427841187\n",
            "Epoch: 26/49 Loss: 0.2735444903373718\n",
            "Epoch: 27/49 Loss: 0.2680158317089081\n",
            "Epoch: 28/49 Loss: 0.26270002126693726\n",
            "Epoch: 29/49 Loss: 0.2575823664665222\n",
            "Epoch: 30/49 Loss: 0.2526493966579437\n",
            "Epoch: 31/49 Loss: 0.24788932502269745\n",
            "Epoch: 32/49 Loss: 0.24329160153865814\n",
            "Epoch: 33/49 Loss: 0.23884662985801697\n",
            "Epoch: 34/49 Loss: 0.23454585671424866\n",
            "Epoch: 35/49 Loss: 0.23038139939308167\n",
            "Epoch: 36/49 Loss: 0.22634631395339966\n",
            "Epoch: 37/49 Loss: 0.22243396937847137\n",
            "Epoch: 38/49 Loss: 0.218638613820076\n",
            "Epoch: 39/49 Loss: 0.21495483815670013\n",
            "Epoch: 40/49 Loss: 0.2113776057958603\n",
            "Epoch: 41/49 Loss: 0.20790252089500427\n",
            "Epoch: 42/49 Loss: 0.20452524721622467\n",
            "Epoch: 43/49 Loss: 0.20124197006225586\n",
            "Epoch: 44/49 Loss: 0.19804897904396057\n",
            "Epoch: 45/49 Loss: 0.19494295120239258\n",
            "Epoch: 46/49 Loss: 0.1919206976890564\n",
            "Epoch: 47/49 Loss: 0.188979372382164\n",
            "Epoch: 48/49 Loss: 0.18611609935760498\n",
            "Epoch: 49/49 Loss: 0.1833283007144928\n"
          ]
        }
      ]
    },
    {
      "cell_type": "markdown",
      "metadata": {
        "id": "1dYK0nqsQT2U"
      },
      "source": [
        "### Visualizando gráfico de perda durante o treinamento"
      ]
    },
    {
      "cell_type": "code",
      "metadata": {
        "ExecuteTime": {
          "end_time": "2018-08-20T21:03:52.026752Z",
          "start_time": "2018-08-20T21:03:51.756518Z"
        },
        "id": "LIyUI6AHQT2V",
        "colab": {
          "base_uri": "https://localhost:8080/",
          "height": 298
        },
        "outputId": "8bff4329-9069-4f28-c37f-8819c24b60fa"
      },
      "source": [
        "plt.plot(epochs, loss_history)\n",
        "plt.xlabel('época')"
      ],
      "execution_count": 16,
      "outputs": [
        {
          "output_type": "execute_result",
          "data": {
            "text/plain": [
              "Text(0.5, 0, 'época')"
            ]
          },
          "metadata": {},
          "execution_count": 16
        },
        {
          "output_type": "display_data",
          "data": {
            "text/plain": [
              "<Figure size 432x288 with 1 Axes>"
            ],
            "image/png": "[encoded data removed]"
          },
          "metadata": {
            "needs_background": "light"
          }
        }
      ]
    },
    {
      "cell_type": "markdown",
      "metadata": {
        "id": "rLL-GQlKQT2Y"
      },
      "source": [
        "### Visualização usual da perda, somente no final de cada minibatch"
      ]
    },
    {
      "cell_type": "code",
      "metadata": {
        "ExecuteTime": {
          "end_time": "2018-08-20T21:03:55.246851Z",
          "start_time": "2018-08-20T21:03:54.994428Z"
        },
        "id": "w38EtNxhQT2Z",
        "colab": {
          "base_uri": "https://localhost:8080/",
          "height": 298
        },
        "outputId": "801036aa-45d9-4929-93b8-a0ffec26e075"
      },
      "source": [
        "n_batches_train = len(loader_train)\n",
        "plt.plot(epochs[::n_batches_train], loss_history[::n_batches_train])\n",
        "plt.xlabel('época')"
      ],
      "execution_count": 17,
      "outputs": [
        {
          "output_type": "execute_result",
          "data": {
            "text/plain": [
              "Text(0.5, 0, 'época')"
            ]
          },
          "metadata": {},
          "execution_count": 17
        },
        {
          "output_type": "display_data",
          "data": {
            "text/plain": [
              "<Figure size 432x288 with 1 Axes>"
            ],
            "image/png": "[encoded data removed]"
          },
          "metadata": {
            "needs_background": "light"
          }
        }
      ]
    },
    {
      "cell_type": "code",
      "metadata": {
        "ExecuteTime": {
          "end_time": "2018-08-20T21:03:48.786969Z",
          "start_time": "2018-08-20T21:03:48.781787Z"
        },
        "id": "PiuMsjYtQT2R"
      },
      "source": [
        "# Assert do histórico de losses\n",
        "target_loss_epoch_end = np.array([\n",
        "    1.1979684829711914,\n",
        "    0.867622971534729,\n",
        "    0.7226786613464355,\n",
        "    0.6381281018257141,\n",
        "    0.5809749960899353,\n",
        "    0.5387411713600159,\n",
        "    0.5056464076042175,\n",
        "    0.4786270558834076,\n",
        "    0.4558936357498169,\n",
        "    0.4363219141960144,\n",
        "    0.4191650450229645,\n",
        "    0.4039044976234436,\n",
        "    0.3901679515838623,\n",
        "    0.3776799440383911,\n",
        "    0.3662314713001251,\n",
        "    0.35566139221191406,\n",
        "    0.34584277868270874,\n",
        "    0.33667415380477905,\n",
        "    0.32807353138923645,\n",
        "    0.31997355818748474,\n",
        "    0.312318354845047,\n",
        "    0.3050611615180969,\n",
        "    0.29816246032714844,\n",
        "    0.29158851504325867,\n",
        "    0.28531041741371155,\n",
        "    0.2793029546737671,\n",
        "    0.273544579744339,\n",
        "    0.2680158317089081,\n",
        "    0.26270008087158203,\n",
        "    0.2575823664665222,\n",
        "    0.25264936685562134,\n",
        "    0.24788929522037506,\n",
        "    0.24329163134098053,\n",
        "    0.23884665966033936,\n",
        "    0.23454584181308746,\n",
        "    0.23038141429424286,\n",
        "    0.22634628415107727,\n",
        "    0.22243399918079376,\n",
        "    0.2186385989189148,\n",
        "    0.21495483815670013,\n",
        "    0.21137762069702148,\n",
        "    0.20790249109268188,\n",
        "    0.20452524721622467,\n",
        "    0.20124195516109467,\n",
        "    0.19804897904396057,\n",
        "    0.1949428766965866,\n",
        "    0.19192075729370117,\n",
        "    0.188979372382164,\n",
        "    0.18611609935760498,\n",
        "    0.1833282858133316])\n",
        "\n",
        "assert np.allclose(np.array(loss_epoch_end), target_loss_epoch_end, atol=1e-6)"
      ],
      "execution_count": 18,
      "outputs": []
    },
    {
      "cell_type": "markdown",
      "metadata": {
        "id": "fptnTktx_1rh"
      },
      "source": [
        "## Exercício \n",
        "\n",
        "Escreva um código que responda às seguintes perguntas:\n",
        "\n",
        "Qual é a amostra classificada corretamente, com maior probabilidade?\n",
        "\n",
        "Qual é a amostra classificada erradamente, com maior probabilidade?\n",
        "\n",
        "Qual é a amostra classificada corretamente, com menor probabilidade?\n",
        "\n",
        "Qual é a amostra classificada erradamente, com menor probabilidade?"
      ]
    },
    {
      "cell_type": "code",
      "source": [
        "loader_train = DataLoader(dataset_train, batch_size=len(dataset_train), shuffle=False) \n",
        "# o loader_train terá  em um batch só todo o conjunto de treino"
      ],
      "metadata": {
        "id": "iimoxUBzqqQ-"
      },
      "execution_count": 19,
      "outputs": []
    },
    {
      "cell_type": "code",
      "metadata": {
        "id": "IzH8iMGt_1Rr",
        "colab": {
          "base_uri": "https://localhost:8080/"
        },
        "outputId": "64272040-e02b-4aca-a737-48d40961051c"
      },
      "source": [
        "# Escreva o código aqui:\n",
        "\n",
        "for x, y in loader_train:\n",
        "    inputs = x.view(-1, 28 * 28)\n",
        "    # predict da rede\n",
        "    outputs = model(inputs)\n",
        "    # calculando as probabilidades com softmax:\n",
        "    exp_x = torch.exp(outputs)\n",
        "    sum_x = torch.sum(exp_x, dim=1, keepdim=True)\n",
        "    prob = (exp_x/sum_x).detach().numpy()\n",
        "\n",
        "    # pred será um vetor contendo as classes com a probabilidade máxima, ou seja, as classes preditas pelo modelo\n",
        "    pred = np.argmax(prob, axis = 1)\n",
        "\n",
        "    \n",
        "    correct = np.where(pred==y.numpy())[0]  # vetor contendo os index das amostras que foram classificadas corretamente\n",
        "    wrong = np.where(pred!=y.numpy())[0] # vetor contendo os index das amostras que foram classificadas erradamente\n",
        "\n",
        "    # Qual é a amostra classificada corretamente, com maior probabilidade?\n",
        "    prob1 = np.argmax(prob[correct,pred[correct]]) \n",
        "    # prob1 será o index da amostra com a maior probabilidade do vetor: prob[[correct],y[correct]]\n",
        "    # o index da amostra do conjunto todo será correct[prob1]\n",
        "    print(f\"Amostra classificada corretamente com maior probabilidade = \\033[1m{correct[prob1]}\\033[0m com probabilidade = \\033[1m{prob[correct, y[correct]][prob1]}\\033[0m\")\n",
        "\n",
        "    # Qual é a amostra classificada erradamente, com maior probabilidade?\n",
        "    prob2 = np.argmax(prob[wrong,pred[wrong]])\n",
        "    # prob2 será o index da amostra com a maior probabilidade do vetor: prob[wrong,y[wrong]]\n",
        "    # o index da amostra do conjunto todo será wrong[prob2]\n",
        "    print(f\"Amostra classificada erradamente com maior probabilidade = \\033[1m{wrong[prob2]}\\033[0m com probabilidade = \\033[1m{prob[wrong,y[wrong]][prob2]}\\033[0m\")\n",
        "\n",
        "    # Qual é a amostra classificada corretamente, com menor probabilidade?\n",
        "    prob3 = np.argmin(prob[correct,pred[correct]])\n",
        "    # prob3 será o index da amostra com a menor probabilidade do vetor: prob[correct,y[correct]]\n",
        "    # o index da amostra do conjunto todo será correct[prob3]\n",
        "    print(f\"Amostra classificada corretamente com menor probabilidade = \\033[1m{correct[prob3]}\\033[0m com probabilidade = \\033[1m{prob[correct,y[correct]][prob3]}\\033[0m\")\n",
        "\n",
        "    # Qual é a amostra classificada erradamente, com menor probabilidade?\n",
        "    prob4 = np.argmin(prob[wrong,pred[wrong]])\n",
        "    # prob4 será o index da amostra com a menor probabilidade do vetor: prob[wrong,y[wrong]]\n",
        "    # o index da amostra do conjunto todo será wrong[prob4]\n",
        "    print(f\"Amostra classificada erradamente com menor probabilidade = \\033[1m{wrong[prob4]}\\033[0m com probabilidade = \\033[1m{prob[wrong,y[wrong]][prob4]}\\033[0m\")"
      ],
      "execution_count": 23,
      "outputs": [
        {
          "output_type": "stream",
          "name": "stdout",
          "text": [
            "Amostra classificada corretamente com maior probabilidade = \u001b[1m183\u001b[0m com probabilidade = \u001b[1m0.9999896883964539\u001b[0m\n",
            "Amostra classificada erradamente com maior probabilidade = \u001b[1m271\u001b[0m com probabilidade = \u001b[1m0.09108582884073257\u001b[0m\n",
            "Amostra classificada corretamente com menor probabilidade = \u001b[1m532\u001b[0m com probabilidade = \u001b[1m0.33532676100730896\u001b[0m\n",
            "Amostra classificada erradamente com menor probabilidade = \u001b[1m68\u001b[0m com probabilidade = \u001b[1m0.039028704166412354\u001b[0m\n"
          ]
        }
      ]
    },
    {
      "cell_type": "code",
      "source": [
        "pred.shape, pred"
      ],
      "metadata": {
        "colab": {
          "base_uri": "https://localhost:8080/"
        },
        "id": "LWqt72aabz2Y",
        "outputId": "0266a018-66bd-4f0a-e4a4-87403eaef8b0"
      },
      "execution_count": 24,
      "outputs": [
        {
          "output_type": "execute_result",
          "data": {
            "text/plain": [
              "((1000,),\n",
              " array([1, 3, 1, 8, 3, 4, 0, 0, 9, 5, 3, 3, 6, 4, 0, 8, 0, 8, 9, 6, 8, 1,\n",
              "        6, 7, 9, 8, 2, 0, 8, 0, 7, 2, 2, 4, 0, 1, 3, 3, 9, 3, 3, 8, 0, 1,\n",
              "        3, 7, 8, 3, 3, 9, 3, 8, 7, 7, 6, 2, 7, 6, 1, 0, 8, 4, 6, 6, 1, 6,\n",
              "        1, 0, 8, 2, 7, 7, 3, 9, 1, 7, 1, 2, 7, 3, 2, 1, 0, 4, 0, 1, 6, 1,\n",
              "        3, 7, 3, 1, 1, 0, 0, 7, 3, 1, 7, 2, 8, 4, 1, 2, 1, 3, 1, 3, 5, 6,\n",
              "        2, 9, 3, 0, 4, 5, 0, 8, 9, 0, 0, 7, 4, 2, 3, 3, 4, 6, 3, 7, 7, 3,\n",
              "        4, 9, 3, 0, 9, 7, 1, 0, 3, 5, 8, 8, 8, 8, 2, 7, 8, 4, 5, 8, 4, 8,\n",
              "        3, 8, 2, 6, 9, 5, 8, 3, 7, 1, 2, 6, 7, 5, 7, 5, 7, 1, 8, 9, 2, 3,\n",
              "        6, 9, 3, 1, 7, 8, 9, 2, 3, 6, 4, 7, 1, 4, 8, 9, 6, 5, 4, 6, 7, 0,\n",
              "        4, 8, 6, 5, 1, 4, 3, 2, 4, 3, 5, 6, 9, 9, 5, 8, 7, 0, 1, 8, 2, 5,\n",
              "        1, 3, 7, 9, 9, 5, 1, 7, 2, 1, 5, 9, 1, 4, 8, 8, 1, 8, 4, 7, 8, 2,\n",
              "        3, 8, 5, 6, 3, 4, 7, 7, 1, 4, 4, 4, 5, 9, 1, 9, 1, 0, 5, 7, 0, 5,\n",
              "        9, 1, 8, 5, 0, 4, 7, 8, 3, 8, 2, 3, 1, 2, 8, 9, 7, 9, 1, 7, 0, 3,\n",
              "        0, 4, 0, 3, 5, 2, 9, 6, 2, 3, 6, 8, 8, 2, 1, 0, 8, 0, 3, 8, 0, 6,\n",
              "        4, 7, 1, 9, 6, 5, 6, 7, 2, 8, 1, 9, 3, 2, 1, 9, 5, 0, 6, 6, 2, 7,\n",
              "        7, 0, 7, 0, 3, 7, 9, 1, 6, 1, 4, 0, 9, 1, 7, 3, 3, 1, 1, 3, 7, 8,\n",
              "        9, 3, 1, 7, 6, 7, 6, 9, 5, 0, 4, 0, 2, 7, 5, 0, 1, 3, 6, 8, 6, 7,\n",
              "        6, 9, 5, 7, 9, 6, 4, 2, 0, 5, 7, 7, 9, 6, 4, 8, 7, 6, 2, 2, 2, 3,\n",
              "        2, 1, 8, 0, 3, 0, 3, 5, 0, 0, 3, 8, 1, 7, 3, 3, 8, 0, 3, 0, 1, 9,\n",
              "        1, 9, 5, 2, 2, 9, 7, 6, 0, 4, 9, 8, 7, 4, 2, 9, 3, 4, 1, 3, 4, 1,\n",
              "        5, 9, 5, 0, 3, 4, 2, 3, 4, 8, 9, 2, 2, 4, 5, 9, 7, 6, 8, 5, 4, 8,\n",
              "        8, 8, 1, 6, 0, 8, 9, 6, 8, 8, 4, 7, 5, 3, 1, 9, 1, 3, 5, 4, 5, 3,\n",
              "        5, 0, 4, 8, 7, 1, 7, 6, 8, 4, 0, 0, 9, 9, 6, 3, 5, 4, 7, 0, 0, 8,\n",
              "        7, 9, 1, 4, 3, 8, 9, 8, 3, 6, 9, 2, 6, 8, 0, 9, 1, 5, 3, 0, 8, 9,\n",
              "        4, 7, 7, 1, 2, 7, 4, 3, 3, 9, 1, 8, 3, 5, 6, 3, 4, 2, 4, 6, 7, 5,\n",
              "        2, 8, 2, 2, 7, 5, 2, 1, 4, 5, 3, 8, 0, 6, 8, 5, 1, 7, 0, 6, 5, 2,\n",
              "        9, 4, 5, 9, 4, 2, 7, 4, 1, 3, 4, 2, 6, 0, 2, 4, 9, 2, 3, 2, 0, 5,\n",
              "        9, 2, 2, 9, 4, 7, 6, 8, 9, 9, 6, 6, 1, 0, 2, 4, 9, 3, 7, 3, 6, 1,\n",
              "        3, 9, 4, 5, 2, 0, 8, 4, 7, 0, 1, 2, 2, 3, 1, 0, 0, 0, 9, 3, 2, 0,\n",
              "        6, 1, 5, 9, 3, 8, 0, 7, 6, 7, 7, 6, 6, 7, 3, 2, 5, 9, 2, 6, 5, 2,\n",
              "        8, 9, 7, 1, 3, 2, 2, 2, 5, 6, 2, 4, 8, 7, 7, 2, 2, 0, 5, 7, 1, 6,\n",
              "        6, 7, 0, 1, 3, 9, 4, 0, 6, 1, 0, 4, 5, 0, 6, 8, 9, 2, 2, 3, 7, 3,\n",
              "        7, 8, 2, 4, 3, 9, 5, 8, 1, 2, 2, 4, 5, 4, 1, 3, 2, 5, 1, 0, 8, 9,\n",
              "        0, 4, 9, 8, 7, 1, 0, 6, 1, 6, 1, 2, 7, 1, 9, 8, 3, 2, 6, 9, 2, 9,\n",
              "        1, 9, 2, 2, 2, 9, 6, 3, 1, 0, 5, 6, 1, 6, 1, 2, 5, 1, 4, 8, 9, 7,\n",
              "        9, 5, 0, 1, 1, 8, 2, 4, 0, 5, 3, 3, 4, 3, 7, 1, 6, 2, 7, 6, 1, 1,\n",
              "        8, 5, 4, 7, 2, 5, 3, 9, 2, 0, 6, 1, 7, 9, 5, 9, 8, 3, 8, 4, 2, 1,\n",
              "        4, 2, 2, 8, 2, 3, 1, 5, 9, 3, 1, 9, 0, 9, 9, 5, 1, 6, 1, 2, 6, 1,\n",
              "        9, 2, 8, 9, 7, 8, 6, 1, 6, 6, 8, 1, 7, 0, 3, 9, 3, 1, 6, 3, 9, 2,\n",
              "        6, 4, 5, 4, 1, 7, 1, 3, 1, 8, 3, 8, 7, 2, 7, 0, 6, 4, 6, 2, 9, 8,\n",
              "        5, 4, 4, 9, 7, 0, 6, 6, 9, 9, 4, 6, 8, 1, 1, 4, 7, 9, 4, 1, 8, 2,\n",
              "        8, 4, 5, 7, 1, 0, 5, 7, 6, 4, 3, 0, 6, 1, 5, 9, 7, 1, 8, 1, 4, 9,\n",
              "        2, 0, 7, 5, 1, 5, 0, 7, 9, 1, 5, 3, 3, 4, 8, 2, 8, 7, 7, 0, 8, 6,\n",
              "        0, 9, 0, 8, 6, 8, 7, 7, 7, 2, 6, 6, 1, 3, 2, 9, 1, 3, 6, 8, 2, 8,\n",
              "        1, 5, 4, 6, 9, 1, 0, 6, 9, 1, 5, 5, 6, 8, 1, 8, 1, 9, 9, 4, 5, 4,\n",
              "        0, 3, 9, 2, 4, 0, 3, 9, 9, 8]))"
            ]
          },
          "metadata": {},
          "execution_count": 24
        }
      ]
    },
    {
      "cell_type": "code",
      "source": [
        "correct.shape, correct"
      ],
      "metadata": {
        "colab": {
          "base_uri": "https://localhost:8080/"
        },
        "id": "bF_b7kq7cH64",
        "outputId": "d14639f5-2b28-4a34-f412-d686716fbd5d"
      },
      "execution_count": 25,
      "outputs": [
        {
          "output_type": "execute_result",
          "data": {
            "text/plain": [
              "((967,),\n",
              " array([  0,   1,   2,   3,   4,   5,   6,   7,   8,   9,  10,  11,  12,\n",
              "         13,  14,  15,  16,  17,  18,  19,  20,  21,  22,  23,  24,  25,\n",
              "         26,  27,  28,  29,  30,  31,  32,  33,  34,  35,  36,  37,  39,\n",
              "         40,  41,  42,  43,  44,  45,  46,  47,  48,  49,  50,  51,  52,\n",
              "         53,  54,  55,  56,  57,  58,  59,  60,  61,  62,  63,  64,  65,\n",
              "         66,  67,  69,  70,  71,  72,  73,  74,  75,  76,  77,  78,  79,\n",
              "         80,  81,  82,  83,  84,  85,  86,  87,  88,  89,  90,  91,  92,\n",
              "         93,  94,  95,  96,  97,  98,  99, 100, 101, 102, 103, 104, 105,\n",
              "        106, 107, 108, 109, 110, 111, 112, 113, 114, 115, 116, 117, 118,\n",
              "        119, 120, 121, 122, 123, 124, 125, 126, 127, 128, 129, 130, 131,\n",
              "        132, 133, 134, 135, 136, 137, 138, 139, 140, 141, 142, 143, 144,\n",
              "        145, 146, 147, 148, 149, 151, 152, 153, 154, 155, 156, 157, 158,\n",
              "        159, 160, 161, 162, 163, 164, 165, 166, 167, 168, 169, 170, 171,\n",
              "        172, 173, 174, 175, 176, 177, 178, 179, 180, 181, 183, 184, 185,\n",
              "        186, 187, 188, 189, 190, 191, 192, 194, 195, 196, 197, 198, 199,\n",
              "        200, 201, 202, 203, 204, 205, 206, 207, 208, 209, 210, 211, 213,\n",
              "        214, 215, 216, 217, 218, 219, 221, 222, 223, 224, 226, 227, 228,\n",
              "        229, 230, 231, 232, 233, 234, 235, 236, 238, 239, 240, 241, 242,\n",
              "        243, 245, 246, 247, 248, 249, 250, 251, 252, 253, 254, 255, 256,\n",
              "        257, 258, 259, 260, 261, 262, 263, 264, 265, 266, 267, 268, 269,\n",
              "        270, 272, 273, 274, 275, 276, 277, 278, 280, 281, 282, 283, 284,\n",
              "        285, 286, 287, 288, 289, 290, 291, 292, 293, 294, 295, 296, 297,\n",
              "        298, 299, 300, 301, 302, 303, 304, 305, 306, 307, 308, 309, 310,\n",
              "        311, 312, 313, 314, 315, 316, 317, 318, 319, 320, 321, 322, 323,\n",
              "        324, 325, 326, 327, 328, 329, 330, 331, 332, 333, 335, 336, 337,\n",
              "        338, 340, 341, 342, 343, 344, 345, 346, 347, 348, 349, 350, 351,\n",
              "        352, 353, 354, 355, 356, 357, 358, 359, 360, 361, 362, 363, 364,\n",
              "        365, 366, 367, 368, 369, 370, 371, 372, 373, 374, 375, 376, 377,\n",
              "        378, 379, 380, 381, 382, 383, 384, 385, 386, 387, 388, 389, 390,\n",
              "        391, 392, 393, 394, 395, 396, 397, 398, 399, 400, 401, 402, 403,\n",
              "        404, 405, 406, 407, 408, 410, 411, 412, 413, 414, 415, 416, 417,\n",
              "        418, 419, 420, 421, 422, 423, 424, 425, 426, 427, 428, 429, 430,\n",
              "        431, 432, 433, 434, 435, 436, 437, 438, 439, 441, 442, 443, 444,\n",
              "        445, 446, 447, 448, 449, 450, 451, 452, 453, 454, 455, 456, 457,\n",
              "        458, 459, 460, 461, 462, 463, 464, 465, 466, 468, 469, 470, 471,\n",
              "        472, 473, 474, 475, 476, 477, 478, 479, 480, 481, 482, 483, 484,\n",
              "        485, 486, 487, 488, 489, 490, 491, 492, 493, 494, 495, 496, 497,\n",
              "        498, 499, 500, 501, 502, 503, 504, 505, 506, 507, 508, 509, 510,\n",
              "        511, 512, 513, 514, 515, 516, 517, 518, 519, 520, 521, 522, 523,\n",
              "        524, 525, 526, 527, 528, 529, 530, 531, 532, 533, 534, 535, 536,\n",
              "        537, 538, 539, 540, 541, 542, 543, 544, 545, 546, 547, 548, 549,\n",
              "        550, 551, 552, 553, 554, 555, 556, 557, 558, 559, 561, 562, 563,\n",
              "        564, 565, 566, 567, 568, 569, 570, 571, 572, 573, 574, 575, 576,\n",
              "        577, 578, 579, 580, 581, 582, 584, 585, 586, 587, 588, 589, 590,\n",
              "        591, 592, 593, 594, 595, 596, 597, 598, 599, 600, 601, 602, 603,\n",
              "        604, 605, 606, 607, 608, 610, 611, 612, 613, 614, 615, 616, 617,\n",
              "        618, 619, 620, 621, 622, 623, 624, 625, 626, 627, 628, 629, 630,\n",
              "        631, 632, 633, 634, 635, 636, 637, 638, 639, 640, 641, 642, 643,\n",
              "        644, 645, 646, 647, 648, 649, 650, 651, 652, 653, 654, 655, 656,\n",
              "        657, 658, 659, 660, 661, 662, 663, 664, 665, 666, 667, 668, 669,\n",
              "        670, 671, 673, 674, 675, 676, 677, 678, 679, 680, 681, 682, 683,\n",
              "        684, 685, 686, 687, 688, 689, 690, 691, 692, 693, 694, 695, 696,\n",
              "        697, 698, 699, 700, 701, 702, 703, 704, 705, 706, 707, 708, 709,\n",
              "        710, 711, 712, 713, 714, 715, 716, 717, 718, 719, 720, 721, 722,\n",
              "        724, 725, 726, 727, 728, 730, 731, 732, 733, 734, 735, 736, 737,\n",
              "        738, 739, 740, 741, 742, 743, 744, 745, 746, 747, 748, 749, 750,\n",
              "        751, 752, 753, 754, 755, 756, 757, 758, 759, 760, 762, 763, 764,\n",
              "        765, 766, 767, 768, 769, 770, 771, 772, 773, 774, 775, 776, 777,\n",
              "        778, 779, 780, 781, 782, 783, 784, 785, 786, 787, 788, 789, 790,\n",
              "        791, 792, 793, 794, 795, 796, 797, 798, 799, 800, 801, 802, 803,\n",
              "        804, 805, 806, 807, 808, 809, 811, 812, 813, 814, 815, 816, 817,\n",
              "        818, 819, 820, 821, 822, 823, 824, 825, 826, 827, 828, 829, 830,\n",
              "        832, 833, 835, 836, 837, 838, 839, 840, 841, 842, 843, 844, 845,\n",
              "        846, 847, 848, 849, 850, 851, 852, 853, 854, 856, 857, 858, 859,\n",
              "        860, 861, 862, 863, 864, 865, 866, 867, 868, 869, 870, 871, 872,\n",
              "        874, 875, 876, 877, 878, 879, 880, 881, 882, 883, 884, 885, 886,\n",
              "        887, 888, 889, 890, 891, 892, 893, 894, 895, 896, 897, 898, 899,\n",
              "        900, 901, 902, 903, 904, 905, 906, 907, 908, 909, 910, 911, 912,\n",
              "        913, 914, 915, 916, 917, 918, 919, 920, 921, 922, 923, 924, 925,\n",
              "        926, 927, 928, 929, 930, 932, 933, 934, 935, 936, 937, 938, 939,\n",
              "        940, 941, 942, 943, 945, 946, 947, 948, 949, 950, 951, 952, 953,\n",
              "        954, 955, 956, 957, 958, 959, 960, 961, 962, 963, 964, 965, 966,\n",
              "        968, 969, 970, 971, 972, 973, 974, 975, 976, 977, 978, 979, 980,\n",
              "        981, 983, 984, 985, 986, 987, 988, 989, 990, 991, 992, 993, 994,\n",
              "        995, 996, 997, 998, 999]))"
            ]
          },
          "metadata": {},
          "execution_count": 25
        }
      ]
    },
    {
      "cell_type": "code",
      "source": [
        "wrong.shape, wrong"
      ],
      "metadata": {
        "colab": {
          "base_uri": "https://localhost:8080/"
        },
        "id": "SCR3t3Kickl9",
        "outputId": "31601a16-455b-4ea5-d033-fad65b906a96"
      },
      "execution_count": 26,
      "outputs": [
        {
          "output_type": "execute_result",
          "data": {
            "text/plain": [
              "((33,), array([ 38,  68, 150, 182, 193, 212, 220, 225, 237, 244, 271, 279, 334,\n",
              "        339, 409, 440, 467, 560, 583, 609, 672, 723, 729, 761, 810, 831,\n",
              "        834, 855, 873, 931, 944, 967, 982]))"
            ]
          },
          "metadata": {},
          "execution_count": 26
        }
      ]
    },
    {
      "cell_type": "code",
      "source": [
        "prob[correct,y[correct]].shape, prob[correct,y[correct]]"
      ],
      "metadata": {
        "colab": {
          "base_uri": "https://localhost:8080/"
        },
        "id": "Lh_mPDyddN8V",
        "outputId": "43fa0b9c-7a44-47a0-e0ca-617d1d4600fb"
      },
      "execution_count": 27,
      "outputs": [
        {
          "output_type": "execute_result",
          "data": {
            "text/plain": [
              "((967,), array([0.9556815 , 0.9437638 , 0.9907506 , 0.91281337, 0.94140095,\n",
              "        0.9247087 , 0.9991128 , 0.8893706 , 0.932841  , 0.62552017,\n",
              "        0.9364046 , 0.8816171 , 0.87165105, 0.9674332 , 0.8877755 ,\n",
              "        0.9288944 , 0.88816005, 0.9275219 , 0.97737813, 0.8250302 ,\n",
              "        0.67874867, 0.9214793 , 0.9969046 , 0.47126502, 0.75969607,\n",
              "        0.9045347 , 0.9999024 , 0.9930889 , 0.53266937, 0.75404215,\n",
              "        0.9517636 , 0.9854048 , 0.58600724, 0.8872376 , 0.99044436,\n",
              "        0.97453314, 0.5718511 , 0.9898625 , 0.8783435 , 0.97429407,\n",
              "        0.47435933, 0.8700171 , 0.9864552 , 0.90719056, 0.9763088 ,\n",
              "        0.9962824 , 0.8228521 , 0.7937413 , 0.9983301 , 0.8223848 ,\n",
              "        0.93989974, 0.78980505, 0.9833053 , 0.9878377 , 0.9793798 ,\n",
              "        0.94534624, 0.9701688 , 0.95370364, 0.99310005, 0.958023  ,\n",
              "        0.5489822 , 0.98804724, 0.9884925 , 0.9719826 , 0.79259896,\n",
              "        0.99126375, 0.79610366, 0.99982125, 0.67364115, 0.9868437 ,\n",
              "        0.9353028 , 0.98467535, 0.9451597 , 0.9850627 , 0.90652937,\n",
              "        0.9863988 , 0.9909337 , 0.95153135, 0.952343  , 0.9630793 ,\n",
              "        0.98553145, 0.90293515, 0.7331391 , 0.9527635 , 0.8236242 ,\n",
              "        0.8880851 , 0.86018187, 0.6846102 , 0.39186347, 0.8586447 ,\n",
              "        0.95864767, 0.9339783 , 0.9708021 , 0.92502725, 0.8039511 ,\n",
              "        0.98051035, 0.95655686, 0.9605391 , 0.9837458 , 0.87474936,\n",
              "        0.9292922 , 0.9797456 , 0.9826232 , 0.9493225 , 0.9360301 ,\n",
              "        0.9805366 , 0.9916963 , 0.9604642 , 0.8116044 , 0.8787195 ,\n",
              "        0.9891861 , 0.99528074, 0.97800314, 0.8869103 , 0.9984877 ,\n",
              "        0.80493903, 0.9804831 , 0.97207797, 0.99962115, 0.81940114,\n",
              "        0.9491149 , 0.81462204, 0.9815831 , 0.78290915, 0.7914199 ,\n",
              "        0.8951987 , 0.993588  , 0.92098236, 0.47770506, 0.9059995 ,\n",
              "        0.5527054 , 0.9148057 , 0.95113593, 0.96535933, 0.9299579 ,\n",
              "        0.9311248 , 0.97866654, 0.94942427, 0.9747099 , 0.9777645 ,\n",
              "        0.80642843, 0.7242399 , 0.98434985, 0.9784524 , 0.846223  ,\n",
              "        0.6863299 , 0.4714753 , 0.93712884, 0.6585042 , 0.91154975,\n",
              "        0.4820933 , 0.9623317 , 0.9824589 , 0.8909345 , 0.9893506 ,\n",
              "        0.8041912 , 0.6718397 , 0.961633  , 0.9968877 , 0.7176614 ,\n",
              "        0.9521866 , 0.33811694, 0.9310134 , 0.99656206, 0.75046104,\n",
              "        0.94621193, 0.9962787 , 0.9822147 , 0.97805595, 0.59882295,\n",
              "        0.94339395, 0.97420543, 0.7846914 , 0.98629355, 0.95421255,\n",
              "        0.7193037 , 0.9765025 , 0.6786508 , 0.9111162 , 0.9999897 ,\n",
              "        0.5132202 , 0.9857015 , 0.92432463, 0.8836664 , 0.9759861 ,\n",
              "        0.7543694 , 0.8664906 , 0.95148766, 0.91102076, 0.9666206 ,\n",
              "        0.9485758 , 0.9420024 , 0.9348348 , 0.9925288 , 0.9800111 ,\n",
              "        0.6786185 , 0.97923344, 0.99012554, 0.9616615 , 0.92594147,\n",
              "        0.9969826 , 0.95295054, 0.99483347, 0.715687  , 0.9889982 ,\n",
              "        0.816941  , 0.98000365, 0.9849302 , 0.9854018 , 0.8816826 ,\n",
              "        0.958157  , 0.9818116 , 0.98950577, 0.94997156, 0.8102693 ,\n",
              "        0.9842044 , 0.85818195, 0.9605787 , 0.83619505, 0.98014015,\n",
              "        0.82024163, 0.97755843, 0.8743152 , 0.87146395, 0.9030822 ,\n",
              "        0.8366466 , 0.98662543, 0.976364  , 0.96751744, 0.66148096,\n",
              "        0.99713767, 0.9917203 , 0.9847269 , 0.4557392 , 0.72475594,\n",
              "        0.9712162 , 0.5329955 , 0.8343008 , 0.9192945 , 0.9968736 ,\n",
              "        0.90554535, 0.9721415 , 0.8975529 , 0.75142634, 0.8235777 ,\n",
              "        0.9724719 , 0.8890042 , 0.790946  , 0.9802728 , 0.95820504,\n",
              "        0.9095828 , 0.999236  , 0.8863185 , 0.93434536, 0.99395263,\n",
              "        0.992929  , 0.61541975, 0.93754804, 0.85879457, 0.926995  ,\n",
              "        0.99203205, 0.915858  , 0.8539276 , 0.99939716, 0.9775862 ,\n",
              "        0.9067613 , 0.8957344 , 0.8845497 , 0.43736732, 0.99477655,\n",
              "        0.9775912 , 0.99979323, 0.9329782 , 0.8146656 , 0.95823014,\n",
              "        0.9808502 , 0.99960065, 0.92222106, 0.97309446, 0.7739009 ,\n",
              "        0.9885635 , 0.9845501 , 0.97313285, 0.96984   , 0.926973  ,\n",
              "        0.83782744, 0.9579552 , 0.99495345, 0.9216042 , 0.96420074,\n",
              "        0.9561116 , 0.69682944, 0.9967911 , 0.99586135, 0.9733386 ,\n",
              "        0.99246067, 0.84035146, 0.83034414, 0.9500873 , 0.9822445 ,\n",
              "        0.8810633 , 0.9005413 , 0.963969  , 0.97841245, 0.90714335,\n",
              "        0.84766114, 0.9352919 , 0.9334297 , 0.9691732 , 0.9423074 ,\n",
              "        0.87061125, 0.64817667, 0.9279406 , 0.9949558 , 0.99067205,\n",
              "        0.99122334, 0.99289674, 0.8541955 , 0.97539437, 0.9926605 ,\n",
              "        0.99657494, 0.92432564, 0.7142556 , 0.8508843 , 0.9670363 ,\n",
              "        0.99589676, 0.73322123, 0.99416554, 0.9189186 , 0.9621555 ,\n",
              "        0.96571   , 0.91161364, 0.9375491 , 0.9919208 , 0.8262439 ,\n",
              "        0.9988602 , 0.9654627 , 0.8498503 , 0.9635953 , 0.9960886 ,\n",
              "        0.9690883 , 0.96362424, 0.92193615, 0.9960678 , 0.99559414,\n",
              "        0.9875537 , 0.971126  , 0.9904826 , 0.7722685 , 0.9959944 ,\n",
              "        0.9812494 , 0.6632199 , 0.90332043, 0.9786353 , 0.97177523,\n",
              "        0.9882234 , 0.8797262 , 0.96959025, 0.6566893 , 0.99813735,\n",
              "        0.8656358 , 0.8803643 , 0.9426962 , 0.98248535, 0.988307  ,\n",
              "        0.95744276, 0.9186897 , 0.993757  , 0.9981135 , 0.7347702 ,\n",
              "        0.964586  , 0.96317387, 0.7906236 , 0.91175085, 0.79399896,\n",
              "        0.8881849 , 0.9974001 , 0.9963425 , 0.99826974, 0.64884526,\n",
              "        0.99901867, 0.9374293 , 0.9999729 , 0.9734899 , 0.88112766,\n",
              "        0.94693494, 0.9625253 , 0.99660766, 0.6490229 , 0.7508283 ,\n",
              "        0.9939669 , 0.98386115, 0.999309  , 0.9875618 , 0.79462886,\n",
              "        0.90814185, 0.6773617 , 0.49520105, 0.9754745 , 0.65964246,\n",
              "        0.9803633 , 0.88069576, 0.94794005, 0.6026026 , 0.8378099 ,\n",
              "        0.908325  , 0.79661626, 0.99852586, 0.830933  , 0.9400319 ,\n",
              "        0.9260978 , 0.9993421 , 0.9924777 , 0.9059089 , 0.7647448 ,\n",
              "        0.9568004 , 0.96519476, 0.7648313 , 0.65059954, 0.99363804,\n",
              "        0.9557234 , 0.9591282 , 0.42036903, 0.6637794 , 0.89069647,\n",
              "        0.9814821 , 0.6205367 , 0.9276997 , 0.7782257 , 0.9890902 ,\n",
              "        0.99955785, 0.84477246, 0.9886107 , 0.9810629 , 0.98569506,\n",
              "        0.9710736 , 0.9993262 , 0.9986844 , 0.7851886 , 0.866272  ,\n",
              "        0.87149394, 0.99348634, 0.9061146 , 0.7851678 , 0.89694816,\n",
              "        0.9974776 , 0.95772535, 0.88115567, 0.98217815, 0.8246331 ,\n",
              "        0.8187514 , 0.97256565, 0.9993532 , 0.51938313, 0.72064054,\n",
              "        0.9819647 , 0.7139074 , 0.662652  , 0.47721994, 0.9846684 ,\n",
              "        0.8626711 , 0.97473764, 0.9853728 , 0.83010614, 0.6283297 ,\n",
              "        0.59077704, 0.98505396, 0.9956901 , 0.9499239 , 0.983778  ,\n",
              "        0.9290778 , 0.73505205, 0.93178046, 0.7340605 , 0.99326885,\n",
              "        0.41706157, 0.9602244 , 0.9941643 , 0.9536445 , 0.98344904,\n",
              "        0.98527575, 0.9570494 , 0.97520024, 0.6273851 , 0.4686935 ,\n",
              "        0.7612003 , 0.9943128 , 0.943625  , 0.9501065 , 0.9994743 ,\n",
              "        0.47699416, 0.9443598 , 0.88777304, 0.994724  , 0.92894876,\n",
              "        0.6766617 , 0.90478116, 0.641146  , 0.96387684, 0.96513987,\n",
              "        0.9999488 , 0.6303751 , 0.8235337 , 0.99892896, 0.9477429 ,\n",
              "        0.98250324, 0.9822132 , 0.5375378 , 0.99157435, 0.6223771 ,\n",
              "        0.8910684 , 0.88118964, 0.8782799 , 0.502875  , 0.983327  ,\n",
              "        0.33532676, 0.8159747 , 0.9965088 , 0.951464  , 0.9450716 ,\n",
              "        0.97193325, 0.9774802 , 0.81461805, 0.9992873 , 0.8312962 ,\n",
              "        0.633619  , 0.9911369 , 0.9039201 , 0.75608605, 0.87622935,\n",
              "        0.9881011 , 0.67146635, 0.70121735, 0.99934345, 0.48237827,\n",
              "        0.9789396 , 0.8453505 , 0.7944285 , 0.96845585, 0.33636016,\n",
              "        0.9887694 , 0.9174331 , 0.8397775 , 0.9020978 , 0.9922014 ,\n",
              "        0.9731483 , 0.9834621 , 0.8189314 , 0.98026943, 0.9949545 ,\n",
              "        0.99956745, 0.98566395, 0.9041782 , 0.95484394, 0.9171787 ,\n",
              "        0.8934373 , 0.43252313, 0.8828421 , 0.75044304, 0.96322   ,\n",
              "        0.9996226 , 0.69338626, 0.9083993 , 0.9064278 , 0.78510916,\n",
              "        0.99412894, 0.91286385, 0.69190896, 0.97616506, 0.89865583,\n",
              "        0.91935897, 0.99116194, 0.9679552 , 0.8900519 , 0.926111  ,\n",
              "        0.70411223, 0.96183676, 0.85707456, 0.9889184 , 0.9409297 ,\n",
              "        0.9474973 , 0.96581084, 0.86565   , 0.97227484, 0.9859936 ,\n",
              "        0.92245036, 0.9612408 , 0.914812  , 0.76151395, 0.9930202 ,\n",
              "        0.6500222 , 0.93129945, 0.99817467, 0.99748373, 0.98953956,\n",
              "        0.93342566, 0.9795248 , 0.74764305, 0.945309  , 0.7779794 ,\n",
              "        0.9937954 , 0.9535794 , 0.7602036 , 0.99797374, 0.9777609 ,\n",
              "        0.999101  , 0.8840229 , 0.9965533 , 0.9999171 , 0.97573334,\n",
              "        0.96510124, 0.8603155 , 0.9655932 , 0.9515626 , 0.97216743,\n",
              "        0.9964189 , 0.6860937 , 0.9946771 , 0.74168503, 0.9714844 ,\n",
              "        0.934363  , 0.96426797, 0.98953706, 0.9554292 , 0.8227971 ,\n",
              "        0.8895738 , 0.8669088 , 0.8446041 , 0.91490775, 0.97195685,\n",
              "        0.9399703 , 0.77579063, 0.7870544 , 0.97302485, 0.79591095,\n",
              "        0.8880853 , 0.9250887 , 0.9781177 , 0.4773722 , 0.9941518 ,\n",
              "        0.82983965, 0.9979505 , 0.9919039 , 0.93276894, 0.7231194 ,\n",
              "        0.61086166, 0.98893523, 0.65624255, 0.7466332 , 0.9930376 ,\n",
              "        0.98978525, 0.80343145, 0.9391059 , 0.99084705, 0.99615175,\n",
              "        0.96598345, 0.9159986 , 0.9124653 , 0.9958918 , 0.96551645,\n",
              "        0.66782266, 0.97735137, 0.79215187, 0.9974041 , 0.9764013 ,\n",
              "        0.96459633, 0.7543795 , 0.8904365 , 0.9990496 , 0.79355776,\n",
              "        0.93352616, 0.999136  , 0.86080855, 0.690427  , 0.9733049 ,\n",
              "        0.9334777 , 0.9974209 , 0.9334906 , 0.99277085, 0.94145906,\n",
              "        0.57286114, 0.7893237 , 0.90149343, 0.99067265, 0.87860596,\n",
              "        0.99865794, 0.97826207, 0.97280216, 0.9749209 , 0.85892284,\n",
              "        0.78556603, 0.9741845 , 0.8527023 , 0.9876203 , 0.996473  ,\n",
              "        0.7663966 , 0.9907281 , 0.98189497, 0.6178245 , 0.99985087,\n",
              "        0.6299776 , 0.9811239 , 0.67904735, 0.9877548 , 0.98745984,\n",
              "        0.99085295, 0.9837636 , 0.984624  , 0.9234427 , 0.9853459 ,\n",
              "        0.9657178 , 0.8663997 , 0.9938977 , 0.9531046 , 0.9387478 ,\n",
              "        0.9814349 , 0.9941016 , 0.9256603 , 0.5959174 , 0.4846182 ,\n",
              "        0.43006808, 0.9904778 , 0.9514562 , 0.96972525, 0.9894485 ,\n",
              "        0.8952234 , 0.80675125, 0.94937414, 0.9922649 , 0.99014294,\n",
              "        0.9437743 , 0.99931   , 0.88957   , 0.9824908 , 0.9980767 ,\n",
              "        0.861236  , 0.9642867 , 0.98015994, 0.9121236 , 0.99604446,\n",
              "        0.97470295, 0.95162994, 0.88114715, 0.89638627, 0.95733184,\n",
              "        0.90933454, 0.68567103, 0.46986222, 0.8913697 , 0.8035089 ,\n",
              "        0.9689201 , 0.87919307, 0.9289207 , 0.89186805, 0.9362217 ,\n",
              "        0.96076715, 0.9736125 , 0.9810635 , 0.89331156, 0.67930675,\n",
              "        0.98666567, 0.9733571 , 0.9522631 , 0.9808542 , 0.99286073,\n",
              "        0.99218225, 0.88583726, 0.9509395 , 0.8535228 , 0.83670545,\n",
              "        0.6582389 , 0.97322506, 0.86821795, 0.88329303, 0.8219011 ,\n",
              "        0.8109427 , 0.94495887, 0.9815023 , 0.9361389 , 0.982997  ,\n",
              "        0.48266196, 0.9258472 , 0.89276004, 0.80386716, 0.924246  ,\n",
              "        0.9781419 , 0.9793467 , 0.97640395, 0.9762519 , 0.92813456,\n",
              "        0.91297424, 0.41381466, 0.89076644, 0.8630927 , 0.92004305,\n",
              "        0.988714  , 0.53205246, 0.89590275, 0.5748942 , 0.50204396,\n",
              "        0.8606781 , 0.9701417 , 0.6591008 , 0.8261003 , 0.75907964,\n",
              "        0.97263044, 0.92775714, 0.96369576, 0.95213103, 0.99503815,\n",
              "        0.9903569 , 0.9662356 , 0.48121408, 0.9377212 , 0.7082323 ,\n",
              "        0.97359425, 0.96332973, 0.98393685, 0.917479  , 0.9910925 ,\n",
              "        0.9560537 , 0.99677604, 0.996731  , 0.7544491 , 0.7481306 ,\n",
              "        0.9706737 , 0.98875755, 0.9628767 , 0.88650423, 0.9862468 ,\n",
              "        0.9392163 , 0.9260868 , 0.9463428 , 0.6234592 , 0.86941904,\n",
              "        0.8957848 , 0.95719546, 0.7800808 , 0.97658163, 0.68364215,\n",
              "        0.8809674 , 0.9927507 , 0.8873819 , 0.9611742 , 0.9921352 ,\n",
              "        0.990278  , 0.99755245, 0.9876232 , 0.6889672 , 0.8541139 ,\n",
              "        0.98169994, 0.6758288 , 0.9884702 , 0.9827706 , 0.9438209 ,\n",
              "        0.6391753 , 0.95424086, 0.5220788 , 0.9945043 , 0.9764457 ,\n",
              "        0.9071899 , 0.97978324, 0.9963863 , 0.91068506, 0.9886354 ,\n",
              "        0.96733284, 0.9641019 , 0.9194658 , 0.98532504, 0.93824536,\n",
              "        0.9587861 , 0.5274129 , 0.99978167, 0.8151863 , 0.69884044,\n",
              "        0.8813019 , 0.9293784 , 0.43754444, 0.99451077, 0.43946576,\n",
              "        0.9982182 , 0.89981014, 0.95927894, 0.94567394, 0.98306686,\n",
              "        0.9921568 , 0.967112  , 0.99768186, 0.82508284, 0.9916802 ,\n",
              "        0.9775761 , 0.9948837 , 0.9775294 , 0.96744776, 0.9560793 ,\n",
              "        0.55538696, 0.76888305, 0.3489375 , 0.6374655 , 0.96294445,\n",
              "        0.9740992 , 0.9206645 , 0.874466  , 0.72430027, 0.85904795,\n",
              "        0.9998299 , 0.9918144 , 0.8064553 , 0.7307318 , 0.9720497 ,\n",
              "        0.83087057, 0.9634861 , 0.9958469 , 0.9381203 , 0.9968949 ,\n",
              "        0.99505496, 0.9660132 , 0.9096213 , 0.89330864, 0.98325825,\n",
              "        0.9123556 , 0.8029187 , 0.8182424 , 0.973947  , 0.8455052 ,\n",
              "        0.95730627, 0.9548417 , 0.92059094, 0.94540733, 0.99954355,\n",
              "        0.9742028 , 0.98488146, 0.9692175 , 0.9532683 , 0.894276  ,\n",
              "        0.98626804, 0.97783774, 0.902187  , 0.9481939 , 0.8836818 ,\n",
              "        0.9141235 , 0.977773  , 0.9994952 , 0.98273754, 0.987104  ,\n",
              "        0.9737412 , 0.83147067, 0.8531816 , 0.76180106, 0.7699229 ,\n",
              "        0.58422667, 0.9737225 , 0.8179411 , 0.8541789 , 0.98883706,\n",
              "        0.91219866, 0.5224399 , 0.727088  , 0.98976207, 0.9705251 ,\n",
              "        0.9631725 , 0.93358403, 0.99374247, 0.939067  , 0.7021366 ,\n",
              "        0.9659515 , 0.44311967], dtype=float32))"
            ]
          },
          "metadata": {},
          "execution_count": 27
        }
      ]
    },
    {
      "cell_type": "markdown",
      "metadata": {
        "id": "0xmj1GWXUoNs"
      },
      "source": [
        "## Exercício Bonus\n",
        "\n",
        "Implemente um dataloader que aceite como parâmetro de entrada a distribuição probabilidade das classes que deverão compor um batch.\n",
        "Por exemplo, se a distribuição de probabilidade passada como entrada for:\n",
        "\n",
        "`[0.01, 0.01, 0.72, 0.2, 0.01, 0.01, 0.01, 0.01, 0.01, 0.01]`\n",
        "\n",
        "Em média, 72% dos exemplos do batch deverão ser da classe 2, 20% deverão ser da classe 3, e os demais deverão ser das outras classes.\n",
        "\n",
        "Mostre também que sua implementação está correta.\n"
      ]
    },
    {
      "cell_type": "code",
      "source": [
        "# Em desenvolvimento"
      ],
      "metadata": {
        "id": "HTJ5rQ8zcHin"
      },
      "execution_count": null,
      "outputs": []
    }
  ]
}