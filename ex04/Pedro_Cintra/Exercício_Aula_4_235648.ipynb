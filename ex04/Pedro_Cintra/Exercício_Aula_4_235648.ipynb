{
  "nbformat": 4,
  "nbformat_minor": 0,
  "metadata": {
    "anaconda-cloud": {},
    "kernelspec": {
      "display_name": "Python 3",
      "language": "python",
      "name": "python3"
    },
    "language_info": {
      "codemirror_mode": {
        "name": "ipython",
        "version": 3
      },
      "file_extension": ".py",
      "mimetype": "text/x-python",
      "name": "python",
      "nbconvert_exporter": "python",
      "pygments_lexer": "ipython3",
      "version": "3.6.5"
    },
    "toc": {
      "nav_menu": {
        "height": "318px",
        "width": "252px"
      },
      "number_sections": true,
      "sideBar": true,
      "skip_h1_title": false,
      "toc_cell": false,
      "toc_position": {},
      "toc_section_display": "block",
      "toc_window_display": false
    },
    "colab": {
      "name": "Aula 4 - Exercício_235648",
      "provenance": [],
      "collapsed_sections": [],
      "include_colab_link": true
    }
  },
  "cells": [
    {
      "cell_type": "markdown",
      "metadata": {
        "id": "view-in-github",
        "colab_type": "text"
      },
      "source": [
        "<a href=\"https://colab.research.google.com/github/unicamp-dl/IA025_2022S1/blob/main/ex04/Pedro_Cintra/Exerc%C3%ADcio_Aula_4_235648.ipynb\" target=\"_parent\"><img src=\"https://colab.research.google.com/assets/colab-badge.svg\" alt=\"Open In Colab\"/></a>"
      ]
    },
    {
      "cell_type": "markdown",
      "metadata": {
        "id": "J3R2-_YuQT1r"
      },
      "source": [
        "# Regressão Softmax com dados do MNIST utilizando gradiente descendente estocástico por minibatches"
      ]
    },
    {
      "cell_type": "markdown",
      "metadata": {
        "id": "WkfGTqMVQT1u"
      },
      "source": [
        "Este exercicío consiste em treinar um modelo de uma única camada linear no MNIST **sem** usar as seguintes funções do pytorch:\n",
        "\n",
        "- torch.nn.Linear\n",
        "- torch.nn.CrossEntropyLoss\n",
        "- torch.nn.NLLLoss\n",
        "- torch.nn.LogSoftmax\n",
        "- torch.optim.SGD\n",
        "- torch.utils.data.Dataloader"
      ]
    },
    {
      "cell_type": "markdown",
      "metadata": {
        "id": "wFNf4RPxQT1w"
      },
      "source": [
        "## Importação das bibliotecas"
      ]
    },
    {
      "cell_type": "code",
      "metadata": {
        "ExecuteTime": {
          "end_time": "2018-08-21T14:08:14.033692Z",
          "start_time": "2018-08-21T14:08:11.179981Z"
        },
        "id": "-fLUSHaCQT1x"
      },
      "source": [
        "%matplotlib inline\n",
        "import numpy as np\n",
        "import matplotlib.pyplot as plt\n",
        "import random\n",
        "import torch\n",
        "import torchvision\n",
        "from torchvision.datasets import MNIST"
      ],
      "execution_count": 1,
      "outputs": []
    },
    {
      "cell_type": "markdown",
      "source": [
        "## Fixando as seeds"
      ],
      "metadata": {
        "id": "7_Po22b5ykhK"
      }
    },
    {
      "cell_type": "code",
      "source": [
        "random.seed(123)\n",
        "np.random.seed(123)\n",
        "torch.manual_seed(123)"
      ],
      "metadata": {
        "id": "y-7WWWgLyoRq",
        "colab": {
          "base_uri": "https://localhost:8080/"
        },
        "outputId": "e3f8760a-88e8-4c7f-e7a1-52954b3912f2"
      },
      "execution_count": 2,
      "outputs": [
        {
          "output_type": "execute_result",
          "data": {
            "text/plain": [
              "<torch._C.Generator at 0x7f64112b1750>"
            ]
          },
          "metadata": {},
          "execution_count": 2
        }
      ]
    },
    {
      "cell_type": "markdown",
      "metadata": {
        "id": "jEMUsfJpQT11"
      },
      "source": [
        "## Dataset e dataloader"
      ]
    },
    {
      "cell_type": "markdown",
      "metadata": {
        "id": "vHoQjDs_QT12"
      },
      "source": [
        "### Definição do tamanho do minibatch"
      ]
    },
    {
      "cell_type": "code",
      "metadata": {
        "ExecuteTime": {
          "end_time": "2018-08-21T14:08:20.282474Z",
          "start_time": "2018-08-21T14:08:20.275450Z"
        },
        "id": "tEQYUr4TQT13"
      },
      "source": [
        "batch_size = 50"
      ],
      "execution_count": 3,
      "outputs": []
    },
    {
      "cell_type": "markdown",
      "metadata": {
        "id": "dc7Rv_2BQT16"
      },
      "source": [
        "### Carregamento, criação dataset e do dataloader"
      ]
    },
    {
      "cell_type": "code",
      "metadata": {
        "ExecuteTime": {
          "end_time": "2018-08-21T14:10:45.430605Z",
          "start_time": "2018-08-21T14:10:04.953051Z"
        },
        "id": "G0dEKCn-QT17",
        "colab": {
          "base_uri": "https://localhost:8080/"
        },
        "outputId": "5bc6faef-4e04-425e-a7cd-988e963be7bb"
      },
      "source": [
        "dataset_dir = '../data/'\n",
        "\n",
        "dataset_train_full = MNIST(dataset_dir, train=True, download=True,\n",
        "                           transform=torchvision.transforms.ToTensor())\n",
        "print(dataset_train_full.data.shape)\n",
        "print(dataset_train_full.targets.shape)"
      ],
      "execution_count": 4,
      "outputs": [
        {
          "output_type": "stream",
          "name": "stdout",
          "text": [
            "torch.Size([60000, 28, 28])\n",
            "torch.Size([60000])\n"
          ]
        }
      ]
    },
    {
      "cell_type": "markdown",
      "metadata": {
        "id": "_rOy9ntrQT2D"
      },
      "source": [
        "### Usando apenas 1000 amostras do MNIST\n",
        "\n",
        "Neste exercício utilizaremos 1000 amostras de treinamento."
      ]
    },
    {
      "cell_type": "code",
      "metadata": {
        "id": "WNF2XjLBWWe7"
      },
      "source": [
        "indices = torch.randperm(len(dataset_train_full))[:1000]\n",
        "dataset_train = torch.utils.data.Subset(dataset_train_full, indices)"
      ],
      "execution_count": 5,
      "outputs": []
    },
    {
      "cell_type": "code",
      "metadata": {
        "id": "aSNLD2JyA2e-"
      },
      "source": [
        "# Escreva aqui o equivalente do código abaixo:\n",
        "# loader_train = torch.utils.data.DataLoader(dataset_train, batch_size=batch_size, shuffle=False)\n",
        "class DataLoader:\n",
        "  def __init__(self, dataset, batch_size=batch_size, shuffle=False):\n",
        "    self.dataset = list(dataset)\n",
        "    self.batch_size = batch_size\n",
        "    self.length = len(self.dataset)//self.batch_size + (len(self.dataset) % self.batch_size > 0)\n",
        "    if shuffle == True:\n",
        "      random.shuffle(self.dataset)\n",
        "\n",
        "    self.data = list(zip(*self.dataset))\n",
        "    self.data[0] = torch.stack(self.data[0], dim=0)\n",
        "    self.data[1] = torch.tensor(self.data[1]).long()\n",
        "\n",
        "  def __len__(self):\n",
        "    return self.length\n",
        "\n",
        "  def __iter__(self):\n",
        "    self.index = 0\n",
        "    return self\n",
        "\n",
        "  def __next__(self): \n",
        "    if self.index < len(self):\n",
        "      item1 = self.data[0][self.index*self.batch_size : self.index*self.batch_size+self.batch_size]\n",
        "      item2 = self.data[1][self.index*self.batch_size : self.index*self.batch_size+self.batch_size]\n",
        "      self.index += 1\n",
        "      return item1, item2\n",
        "    else:\n",
        "      raise StopIteration\n",
        "\n",
        "loader_train = DataLoader(dataset_train, batch_size=batch_size, shuffle=True)"
      ],
      "execution_count": 6,
      "outputs": []
    },
    {
      "cell_type": "code",
      "metadata": {
        "ExecuteTime": {
          "end_time": "2018-08-21T13:30:35.209157Z",
          "start_time": "2018-08-21T13:30:34.757103Z"
        },
        "id": "w52KGYlIQT2A",
        "colab": {
          "base_uri": "https://localhost:8080/"
        },
        "outputId": "b9d05a69-d10a-4434-b71c-96e7cd80449b"
      },
      "source": [
        "print('Número de minibatches de trenamento:', len(loader_train))\n",
        "\n",
        "x_train, y_train = next(iter(loader_train))\n",
        "print(\"\\nDimensões dos dados de um minibatch:\", x_train.size())\n",
        "print(\"Valores mínimo e máximo dos pixels: \", torch.min(x_train), torch.max(x_train))\n",
        "print(\"Tipo dos dados das imagens:         \", type(x_train))\n",
        "print(\"Tipo das classes das imagens:       \", type(y_train))"
      ],
      "execution_count": 7,
      "outputs": [
        {
          "output_type": "stream",
          "name": "stdout",
          "text": [
            "Número de minibatches de trenamento: 20\n",
            "\n",
            "Dimensões dos dados de um minibatch: torch.Size([50, 1, 28, 28])\n",
            "Valores mínimo e máximo dos pixels:  tensor(0.) tensor(1.)\n",
            "Tipo dos dados das imagens:          <class 'torch.Tensor'>\n",
            "Tipo das classes das imagens:        <class 'torch.Tensor'>\n"
          ]
        }
      ]
    },
    {
      "cell_type": "markdown",
      "metadata": {
        "id": "BQA9Zg7GQT2G"
      },
      "source": [
        "## Modelo"
      ]
    },
    {
      "cell_type": "code",
      "metadata": {
        "ExecuteTime": {
          "end_time": "2018-08-20T21:03:10.802708Z",
          "start_time": "2018-08-20T21:03:10.793287Z"
        },
        "id": "_8Eg4h_kQT2H"
      },
      "source": [
        "# Escreva aqui o codigo para criar um modelo cujo o equivalente é: \n",
        "# model = torch.nn.Linear(28*28, 10)\n",
        "# model.load_state_dict(dict(weight=torch.zeros(model.weight.shape), bias=torch.zeros(model.bias.shape)))\n",
        "\n",
        "class Model():\n",
        "  def __init__(self, n_in: int, n_out: int):\n",
        "    self.w = torch.zeros(n_out, n_in, requires_grad = True)\n",
        "    self.b = torch.zeros(n_out, requires_grad = True)\n",
        "  \n",
        "  def __call__(self, x):\n",
        "    y_pred = x.mm(torch.t(self.w)) + self.b.unsqueeze(0)\n",
        "    return y_pred\n",
        "\n",
        "  def parameters(self):\n",
        "    return self.w , self.b"
      ],
      "execution_count": 8,
      "outputs": []
    },
    {
      "cell_type": "code",
      "source": [
        "model = Model(28*28,10)"
      ],
      "metadata": {
        "id": "sJ_XDlT0UdIw"
      },
      "execution_count": 9,
      "outputs": []
    },
    {
      "cell_type": "markdown",
      "metadata": {
        "id": "0NHQB4wGQT2K"
      },
      "source": [
        "## Treinamento"
      ]
    },
    {
      "cell_type": "markdown",
      "metadata": {
        "id": "nqs2JhJoQT2L"
      },
      "source": [
        "### Inicialização dos parâmetros"
      ]
    },
    {
      "cell_type": "code",
      "metadata": {
        "ExecuteTime": {
          "end_time": "2018-08-20T21:03:14.146259Z",
          "start_time": "2018-08-20T21:03:14.139515Z"
        },
        "id": "oZuYEkn_QT2M"
      },
      "source": [
        "n_epochs = 50\n",
        "lr = 0.1"
      ],
      "execution_count": 10,
      "outputs": []
    },
    {
      "cell_type": "markdown",
      "metadata": {
        "id": "tGeMCRw5kQMU"
      },
      "source": [
        "## Definição da Loss\n",
        "\n"
      ]
    },
    {
      "cell_type": "markdown",
      "source": [
        "\\begin{align}\n",
        "\\mathcal{L}_{\\mathrm{CE}} = \\frac{1}{N} \\sum_{i=1}^N y_i \\log(\\hat{y}_i) + (1-y_i) \\log(1 - \\hat{y}_i)\n",
        "\\end{align}"
      ],
      "metadata": {
        "id": "x8s5L31vSD9k"
      }
    },
    {
      "cell_type": "code",
      "metadata": {
        "id": "XcqFzpSTkYtk"
      },
      "source": [
        "# Escreva aqui o equivalente de:\n",
        "# criterion = torch.nn.CrossEntropyLoss()\n",
        "\n",
        "class CrossEntropyLoss:\n",
        "  def __init__(self):\n",
        "    self.loss = 0\n",
        "\n",
        "  def __call__(self,outputs, targets):   \n",
        "    log_sum = torch.log(torch.sum(torch.exp(outputs), dim=1, keepdim=True))\n",
        "    logits = outputs.gather(dim=1, index=targets.unsqueeze(dim=1))\n",
        "    loss = torch.mean(-logits + log_sum)\n",
        "    return loss\n",
        "\n",
        "criterion = CrossEntropyLoss()"
      ],
      "execution_count": 11,
      "outputs": []
    },
    {
      "cell_type": "markdown",
      "source": [
        "# Definição do Optimizer"
      ],
      "metadata": {
        "id": "01BDueU2x4ox"
      }
    },
    {
      "cell_type": "code",
      "source": [
        "# Escreva aqui o equivalente de:\n",
        "# optimizer = torch.optim.SGD(model.parameters(), lr)\n",
        "\n",
        "class SGD():\n",
        "  def __init__(self, parameters: tuple, learning_rate: float):\n",
        "    self.parameters = parameters\n",
        "    self.learning_rate = learning_rate\n",
        "\n",
        "  def step(self):\n",
        "    for parameter in self.parameters:\n",
        "      parameter.data -= self.learning_rate * parameter.grad\n",
        "\n",
        "  def zero_grad(self):\n",
        "    for parameter in self.parameters:\n",
        "      parameter.grad = torch.zeros_like(parameter.data)\n",
        "\n",
        "optimizer = SGD(model.parameters(), lr)"
      ],
      "metadata": {
        "id": "tIlnR_Z8x85O"
      },
      "execution_count": 12,
      "outputs": []
    },
    {
      "cell_type": "markdown",
      "metadata": {
        "id": "pmXarXeIQT2O"
      },
      "source": [
        "### Laço de treinamento dos parâmetros"
      ]
    },
    {
      "cell_type": "code",
      "metadata": {
        "ExecuteTime": {
          "end_time": "2018-08-20T21:03:40.796410Z",
          "start_time": "2018-08-20T21:03:39.771981Z"
        },
        "id": "L5T_jZZPQT2P",
        "colab": {
          "base_uri": "https://localhost:8080/"
        },
        "outputId": "63d21b7e-a3b9-421a-f076-7b2009ba65c8"
      },
      "source": [
        "epochs = []\n",
        "loss_history = []\n",
        "loss_epoch_end = []\n",
        "total_trained_samples = 0\n",
        "for i in range(n_epochs):\n",
        "  # Substitua aqui o loader_train de acordo com sua implementação do dataloader.\n",
        "  for x_train, y_train in loader_train:\n",
        "    # Transforma a entrada para uma dimensão\n",
        "    inputs = x_train.view(-1, 28 * 28)\n",
        "    # predict da rede\n",
        "    outputs = model(inputs)\n",
        "\n",
        "    # calcula a perda\n",
        "    loss = criterion(outputs, y_train)\n",
        "\n",
        "    # zero, backpropagation, ajusta parâmetros pelo gradiente descendente\n",
        "    # Escreva aqui o código cujo o resultado é equivalente às 3 linhas abaixo:\n",
        "    optimizer.zero_grad()\n",
        "    loss.backward()\n",
        "    optimizer.step()\n",
        "\n",
        "    total_trained_samples += x_train.size(0)\n",
        "    epochs.append(total_trained_samples / len(dataset_train))\n",
        "    loss_history.append(loss.item())\n",
        "\n",
        "  loss_epoch_end.append(loss.item())\n",
        "  print(f'Epoch: {i:d}/{n_epochs - 1:d} Loss: {loss.item()}')"
      ],
      "execution_count": 13,
      "outputs": [
        {
          "output_type": "stream",
          "name": "stdout",
          "text": [
            "Epoch: 0/49 Loss: 1.192114233970642\n",
            "Epoch: 1/49 Loss: 0.845406711101532\n",
            "Epoch: 2/49 Loss: 0.6862918138504028\n",
            "Epoch: 3/49 Loss: 0.591030478477478\n",
            "Epoch: 4/49 Loss: 0.5264343619346619\n",
            "Epoch: 5/49 Loss: 0.4792432487010956\n",
            "Epoch: 6/49 Loss: 0.4429571032524109\n",
            "Epoch: 7/49 Loss: 0.4139827787876129\n",
            "Epoch: 8/49 Loss: 0.3901655673980713\n",
            "Epoch: 9/49 Loss: 0.37013280391693115\n",
            "Epoch: 10/49 Loss: 0.3529672920703888\n",
            "Epoch: 11/49 Loss: 0.338032066822052\n",
            "Epoch: 12/49 Loss: 0.32487013936042786\n",
            "Epoch: 13/49 Loss: 0.3131446838378906\n",
            "Epoch: 14/49 Loss: 0.3026018440723419\n",
            "Epoch: 15/49 Loss: 0.2930459678173065\n",
            "Epoch: 16/49 Loss: 0.28432419896125793\n",
            "Epoch: 17/49 Loss: 0.27631473541259766\n",
            "Epoch: 18/49 Loss: 0.26891955733299255\n",
            "Epoch: 19/49 Loss: 0.2620587646961212\n",
            "Epoch: 20/49 Loss: 0.25566619634628296\n",
            "Epoch: 21/49 Loss: 0.24968692660331726\n",
            "Epoch: 22/49 Loss: 0.244074746966362\n",
            "Epoch: 23/49 Loss: 0.2387906312942505\n",
            "Epoch: 24/49 Loss: 0.23380114138126373\n",
            "Epoch: 25/49 Loss: 0.22907741367816925\n",
            "Epoch: 26/49 Loss: 0.22459478676319122\n",
            "Epoch: 27/49 Loss: 0.22033153474330902\n",
            "Epoch: 28/49 Loss: 0.2162688970565796\n",
            "Epoch: 29/49 Loss: 0.21239006519317627\n",
            "Epoch: 30/49 Loss: 0.20868049561977386\n",
            "Epoch: 31/49 Loss: 0.20512722432613373\n",
            "Epoch: 32/49 Loss: 0.20171840488910675\n",
            "Epoch: 33/49 Loss: 0.1984439492225647\n",
            "Epoch: 34/49 Loss: 0.19529438018798828\n",
            "Epoch: 35/49 Loss: 0.19226130843162537\n",
            "Epoch: 36/49 Loss: 0.18933729827404022\n",
            "Epoch: 37/49 Loss: 0.18651524186134338\n",
            "Epoch: 38/49 Loss: 0.18378913402557373\n",
            "Epoch: 39/49 Loss: 0.18115317821502686\n",
            "Epoch: 40/49 Loss: 0.17860209941864014\n",
            "Epoch: 41/49 Loss: 0.17613117396831512\n",
            "Epoch: 42/49 Loss: 0.17373600602149963\n",
            "Epoch: 43/49 Loss: 0.17141258716583252\n",
            "Epoch: 44/49 Loss: 0.16915704309940338\n",
            "Epoch: 45/49 Loss: 0.16696621477603912\n",
            "Epoch: 46/49 Loss: 0.16483666002750397\n",
            "Epoch: 47/49 Loss: 0.16276545822620392\n",
            "Epoch: 48/49 Loss: 0.1607498973608017\n",
            "Epoch: 49/49 Loss: 0.15878738462924957\n"
          ]
        }
      ]
    },
    {
      "cell_type": "markdown",
      "metadata": {
        "id": "1dYK0nqsQT2U"
      },
      "source": [
        "### Visualizando gráfico de perda durante o treinamento"
      ]
    },
    {
      "cell_type": "code",
      "metadata": {
        "ExecuteTime": {
          "end_time": "2018-08-20T21:03:52.026752Z",
          "start_time": "2018-08-20T21:03:51.756518Z"
        },
        "id": "LIyUI6AHQT2V",
        "colab": {
          "base_uri": "https://localhost:8080/",
          "height": 298
        },
        "outputId": "6475bcd6-3edf-4dd7-a287-f5bbede22e14"
      },
      "source": [
        "plt.plot(epochs, loss_history)\n",
        "plt.xlabel('época')"
      ],
      "execution_count": 14,
      "outputs": [
        {
          "output_type": "execute_result",
          "data": {
            "text/plain": [
              "Text(0.5, 0, 'época')"
            ]
          },
          "metadata": {},
          "execution_count": 14
        },
        {
          "output_type": "display_data",
          "data": {
            "text/plain": [
              "<Figure size 432x288 with 1 Axes>"
            ],
            "image/png": "[encoded data removed]"
          },
          "metadata": {
            "needs_background": "light"
          }
        }
      ]
    },
    {
      "cell_type": "markdown",
      "metadata": {
        "id": "rLL-GQlKQT2Y"
      },
      "source": [
        "### Visualização usual da perda, somente no final de cada minibatch"
      ]
    },
    {
      "cell_type": "code",
      "metadata": {
        "ExecuteTime": {
          "end_time": "2018-08-20T21:03:55.246851Z",
          "start_time": "2018-08-20T21:03:54.994428Z"
        },
        "id": "w38EtNxhQT2Z",
        "colab": {
          "base_uri": "https://localhost:8080/",
          "height": 298
        },
        "outputId": "5505e632-40cb-417c-ee0b-3419a94a9052"
      },
      "source": [
        "n_batches_train = len(loader_train)\n",
        "plt.plot(epochs[::n_batches_train], loss_history[::n_batches_train])\n",
        "plt.xlabel('época')"
      ],
      "execution_count": 15,
      "outputs": [
        {
          "output_type": "execute_result",
          "data": {
            "text/plain": [
              "Text(0.5, 0, 'época')"
            ]
          },
          "metadata": {},
          "execution_count": 15
        },
        {
          "output_type": "display_data",
          "data": {
            "text/plain": [
              "<Figure size 432x288 with 1 Axes>"
            ],
            "image/png": "[encoded data removed]"
          },
          "metadata": {
            "needs_background": "light"
          }
        }
      ]
    },
    {
      "cell_type": "code",
      "metadata": {
        "ExecuteTime": {
          "end_time": "2018-08-20T21:03:48.786969Z",
          "start_time": "2018-08-20T21:03:48.781787Z"
        },
        "id": "PiuMsjYtQT2R"
      },
      "source": [
        "# Assert do histórico de losses\n",
        "target_loss_epoch_end = np.array([\n",
        "    1.1979684829711914,\n",
        "    0.867622971534729,\n",
        "    0.7226786613464355,\n",
        "    0.6381281018257141,\n",
        "    0.5809749960899353,\n",
        "    0.5387411713600159,\n",
        "    0.5056464076042175,\n",
        "    0.4786270558834076,\n",
        "    0.4558936357498169,\n",
        "    0.4363219141960144,\n",
        "    0.4191650450229645,\n",
        "    0.4039044976234436,\n",
        "    0.3901679515838623,\n",
        "    0.3776799440383911,\n",
        "    0.3662314713001251,\n",
        "    0.35566139221191406,\n",
        "    0.34584277868270874,\n",
        "    0.33667415380477905,\n",
        "    0.32807353138923645,\n",
        "    0.31997355818748474,\n",
        "    0.312318354845047,\n",
        "    0.3050611615180969,\n",
        "    0.29816246032714844,\n",
        "    0.29158851504325867,\n",
        "    0.28531041741371155,\n",
        "    0.2793029546737671,\n",
        "    0.273544579744339,\n",
        "    0.2680158317089081,\n",
        "    0.26270008087158203,\n",
        "    0.2575823664665222,\n",
        "    0.25264936685562134,\n",
        "    0.24788929522037506,\n",
        "    0.24329163134098053,\n",
        "    0.23884665966033936,\n",
        "    0.23454584181308746,\n",
        "    0.23038141429424286,\n",
        "    0.22634628415107727,\n",
        "    0.22243399918079376,\n",
        "    0.2186385989189148,\n",
        "    0.21495483815670013,\n",
        "    0.21137762069702148,\n",
        "    0.20790249109268188,\n",
        "    0.20452524721622467,\n",
        "    0.20124195516109467,\n",
        "    0.19804897904396057,\n",
        "    0.1949428766965866,\n",
        "    0.19192075729370117,\n",
        "    0.188979372382164,\n",
        "    0.18611609935760498,\n",
        "    0.1833282858133316])\n",
        "\n",
        "assert np.allclose(np.array(loss_epoch_end), target_loss_epoch_end, atol=1e-6)"
      ],
      "execution_count": null,
      "outputs": []
    },
    {
      "cell_type": "markdown",
      "metadata": {
        "id": "fptnTktx_1rh"
      },
      "source": [
        "## Exercício \n",
        "\n",
        "Escreva um código que responda às seguintes perguntas:\n",
        "\n",
        "Qual é a amostra classificada corretamente, com maior probabilidade?\n",
        "\n",
        "Qual é a amostra classificada erradamente, com maior probabilidade?\n",
        "\n",
        "Qual é a amostra classificada corretamente, com menor probabilidade?\n",
        "\n",
        "Qual é a amostra classificada erradamente, com menor probabilidade?"
      ]
    },
    {
      "cell_type": "code",
      "metadata": {
        "id": "IzH8iMGt_1Rr"
      },
      "source": [
        "# Escreva o código aqui:\n",
        "# Inspirado na solução do Matheus Xavier para visualizar melhor os casos desejados\n",
        "loader_eval = DataLoader(dataset_train, batch_size=len(dataset_train), shuffle=False)\n",
        "\n",
        "x, y = next(iter(loader_eval))\n",
        "logits = model(x.view(-1, 28 * 28))\n",
        "\n",
        "exp_logits = torch.exp(logits)\n",
        "sum_exp_logits = torch.sum(exp_logits, dim=1, keepdim=True)\n",
        "softmax = (exp_logits / sum_exp_logits).detach()\n",
        "\n",
        "y_pred = torch.argmax(softmax, dim=1)\n",
        "y_proba = softmax.gather(-1, y_pred.view(-1, 1)).ravel()\n",
        "\n",
        "corret_preditions = (y == y_pred)\n",
        "wrong_predictions = (y != y_pred)"
      ],
      "execution_count": 17,
      "outputs": []
    },
    {
      "cell_type": "code",
      "source": [
        "def plot_image_and_proba(images, probas, idx, title):\n",
        "    plt.figure(figsize=(12, 6))\n",
        "    x_labels = list(range(10))\n",
        "    plt.subplot(121)\n",
        "    plt.axis('off')\n",
        "    plt.imshow(images[idx][0], cmap = 'binary')\n",
        "    plt.subplot(122)\n",
        "    plt.ylabel('Probabilidade', fontsize = 14)\n",
        "    plt.xlabel('Classe', fontsize = 14)\n",
        "    plt.bar(x_labels, probas[idx])\n",
        "    for i in range(10):\n",
        "      plt.text(x_labels[i], 1.01*probas[idx][i], f'{probas[idx][i]:.2f}', ha = 'center')\n",
        "    plt.xticks(x_labels)\n",
        "    plt.suptitle(title, fontsize = 16)\n",
        "    plt.show()"
      ],
      "metadata": {
        "id": "44aTa3RFWMrm"
      },
      "execution_count": 18,
      "outputs": []
    },
    {
      "cell_type": "code",
      "source": [
        "# Qual é a amostra classificada corretamente, com maior probabilidade?\n",
        "\n",
        "mask = corret_preditions\n",
        "idx = torch.argmax(y_proba[mask])\n",
        "\n",
        "title = 'Previsão: {} | Probabilidade: {:.3f} % | Gabarito: {}'.format(\n",
        "    y_pred[mask][idx],\n",
        "    100*y_proba[mask][idx],\n",
        "    y[mask][idx])\n",
        "plot_image_and_proba(x[mask], softmax[mask], idx, title)"
      ],
      "metadata": {
        "colab": {
          "base_uri": "https://localhost:8080/",
          "height": 435
        },
        "id": "EqBvFqCMWOlO",
        "outputId": "20d48330-42fc-4bd8-9805-6bcd7b3ddedd"
      },
      "execution_count": 19,
      "outputs": [
        {
          "output_type": "display_data",
          "data": {
            "text/plain": [
              "<Figure size 864x432 with 2 Axes>"
            ],
            "image/png": "[encoded data removed]"
          },
          "metadata": {
            "needs_background": "light"
          }
        }
      ]
    },
    {
      "cell_type": "code",
      "source": [
        "# Qual é a amostra classificada erradamente, com maior probabilidade?\n",
        "\n",
        "mask = wrong_predictions\n",
        "idx = torch.argmax(y_proba[mask])\n",
        "\n",
        "title = 'Previsão: {} | Probabilidade: {:.3f} % | Gabarito: {}'.format(\n",
        "    y_pred[mask][idx],\n",
        "    100*y_proba[mask][idx],\n",
        "    y[mask][idx])\n",
        "plot_image_and_proba(x[mask], softmax[mask], idx, title)"
      ],
      "metadata": {
        "colab": {
          "base_uri": "https://localhost:8080/",
          "height": 435
        },
        "id": "y136PgP3WO9m",
        "outputId": "a1af1292-d4d2-4a32-a5a5-8e5f971f9246"
      },
      "execution_count": 20,
      "outputs": [
        {
          "output_type": "display_data",
          "data": {
            "text/plain": [
              "<Figure size 864x432 with 2 Axes>"
            ],
            "image/png": "[encoded data removed]"
          },
          "metadata": {
            "needs_background": "light"
          }
        }
      ]
    },
    {
      "cell_type": "code",
      "source": [
        "# Qual é a amostra classificada corretamente, com menor probabilidade?\n",
        "\n",
        "mask = corret_preditions\n",
        "idx = torch.argmin(y_proba[mask])\n",
        "\n",
        "title = 'Previsão: {} | Probabilidade: {:.3f} % | Gabarito: {}'.format(\n",
        "    y_pred[mask][idx],\n",
        "    100*y_proba[mask][idx],\n",
        "    y[mask][idx])\n",
        "plot_image_and_proba(x[mask], softmax[mask], idx, title)"
      ],
      "metadata": {
        "colab": {
          "base_uri": "https://localhost:8080/",
          "height": 435
        },
        "id": "90NyV8bHWRJH",
        "outputId": "b08224f1-4350-4847-a445-a993e7812efe"
      },
      "execution_count": 21,
      "outputs": [
        {
          "output_type": "display_data",
          "data": {
            "text/plain": [
              "<Figure size 864x432 with 2 Axes>"
            ],
            "image/png": "[encoded data removed]"
          },
          "metadata": {
            "needs_background": "light"
          }
        }
      ]
    },
    {
      "cell_type": "code",
      "source": [
        "# Qual é a amostra classificada erradamente, com menor probabilidade?\n",
        "\n",
        "mask = wrong_predictions\n",
        "idx = torch.argmin(y_proba[mask])\n",
        "\n",
        "title = 'Previsão: {} | Probabilidade: {:.3f} % | Gabarito: {}'.format(\n",
        "    y_pred[mask][idx],\n",
        "    100*y_proba[mask][idx],\n",
        "    y[mask][idx])\n",
        "plot_image_and_proba(x[mask], softmax[mask], idx, title)"
      ],
      "metadata": {
        "colab": {
          "base_uri": "https://localhost:8080/",
          "height": 435
        },
        "id": "T0GiVnusWT_x",
        "outputId": "b40662bb-d3f2-400c-cd24-7b4341af340e"
      },
      "execution_count": 22,
      "outputs": [
        {
          "output_type": "display_data",
          "data": {
            "text/plain": [
              "<Figure size 864x432 with 2 Axes>"
            ],
            "image/png": "[encoded data removed]"
          },
          "metadata": {
            "needs_background": "light"
          }
        }
      ]
    },
    {
      "cell_type": "markdown",
      "metadata": {
        "id": "0xmj1GWXUoNs"
      },
      "source": [
        "## Exercício Bonus\n",
        "\n",
        "Implemente um dataloader que aceite como parâmetro de entrada a distribuição probabilidade das classes que deverão compor um batch.\n",
        "Por exemplo, se a distribuição de probabilidade passada como entrada for:\n",
        "\n",
        "`[0.01, 0.01, 0.72, 0.2, 0.01, 0.01, 0.01, 0.01, 0.01, 0.01]`\n",
        "\n",
        "Em média, 72% dos exemplos do batch deverão ser da classe 2, 20% deverão ser da classe 3, e os demais deverão ser das outras classes.\n",
        "\n",
        "Mostre também que sua implementação está correta.\n"
      ]
    }
  ]
}