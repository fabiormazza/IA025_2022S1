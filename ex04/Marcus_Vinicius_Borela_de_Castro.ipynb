{
  "nbformat": 4,
  "nbformat_minor": 0,
  "metadata": {
    "anaconda-cloud": {},
    "kernelspec": {
      "display_name": "Python 3",
      "language": "python",
      "name": "python3"
    },
    "language_info": {
      "codemirror_mode": {
        "name": "ipython",
        "version": 3
      },
      "file_extension": ".py",
      "mimetype": "text/x-python",
      "name": "python",
      "nbconvert_exporter": "python",
      "pygments_lexer": "ipython3",
      "version": "3.6.5"
    },
    "toc": {
      "nav_menu": {
        "height": "318px",
        "width": "252px"
      },
      "number_sections": true,
      "sideBar": true,
      "skip_h1_title": false,
      "toc_cell": false,
      "toc_position": {},
      "toc_section_display": "block",
      "toc_window_display": false
    },
    "colab": {
      "name": "Aula 4 - Exercício - Marcus Vinicius Borela de Castro",
      "provenance": [],
      "collapsed_sections": [
        "9JUry0HLg8xG",
        "7_Po22b5ykhK",
        "0NHQB4wGQT2K",
        "pmXarXeIQT2O",
        "fptnTktx_1rh",
        "0xmj1GWXUoNs",
        "FPuA14YE69zU",
        "sCOz1A5I8HZ5",
        "TcodjfwgPHub",
        "WpcYdUGOSvPY",
        "uhe9h15uS69Z",
        "0u1vslxUKwSG",
        "GEPduLkW8XEK"
      ],
      "include_colab_link": true
    },
    "widgets": {
      "application/vnd.jupyter.widget-state+json": {
        "e1ccb0cc89f8491ca214bc77bd06bd08": {
          "model_module": "@jupyter-widgets/controls",
          "model_name": "HBoxModel",
          "model_module_version": "1.5.0",
          "state": {
            "_dom_classes": [],
            "_model_module": "@jupyter-widgets/controls",
            "_model_module_version": "1.5.0",
            "_model_name": "HBoxModel",
            "_view_count": null,
            "_view_module": "@jupyter-widgets/controls",
            "_view_module_version": "1.5.0",
            "_view_name": "HBoxView",
            "box_style": "",
            "children": [
              "IPY_MODEL_7e92fe65fa8f456aaa6f364b69f836c5",
              "IPY_MODEL_e81b681faa1e4e1f816cbc27d7eb15f3",
              "IPY_MODEL_47871ff916614d449b8221cde061e59f"
            ],
            "layout": "IPY_MODEL_23d6dc3cb03d4ac1a323ee6c130b424d"
          }
        },
        "7e92fe65fa8f456aaa6f364b69f836c5": {
          "model_module": "@jupyter-widgets/controls",
          "model_name": "HTMLModel",
          "model_module_version": "1.5.0",
          "state": {
            "_dom_classes": [],
            "_model_module": "@jupyter-widgets/controls",
            "_model_module_version": "1.5.0",
            "_model_name": "HTMLModel",
            "_view_count": null,
            "_view_module": "@jupyter-widgets/controls",
            "_view_module_version": "1.5.0",
            "_view_name": "HTMLView",
            "description": "",
            "description_tooltip": null,
            "layout": "IPY_MODEL_130f522a02304c7284b9ddab247e6461",
            "placeholder": "​",
            "style": "IPY_MODEL_504da04411a74035939645b869326b5d",
            "value": ""
          }
        },
        "e81b681faa1e4e1f816cbc27d7eb15f3": {
          "model_module": "@jupyter-widgets/controls",
          "model_name": "FloatProgressModel",
          "model_module_version": "1.5.0",
          "state": {
            "_dom_classes": [],
            "_model_module": "@jupyter-widgets/controls",
            "_model_module_version": "1.5.0",
            "_model_name": "FloatProgressModel",
            "_view_count": null,
            "_view_module": "@jupyter-widgets/controls",
            "_view_module_version": "1.5.0",
            "_view_name": "ProgressView",
            "bar_style": "success",
            "description": "",
            "description_tooltip": null,
            "layout": "IPY_MODEL_ef0ecf51d66d4040aca2365339798364",
            "max": 9912422,
            "min": 0,
            "orientation": "horizontal",
            "style": "IPY_MODEL_56168027e9eb46809bbec2fe80f95321",
            "value": 9912422
          }
        },
        "47871ff916614d449b8221cde061e59f": {
          "model_module": "@jupyter-widgets/controls",
          "model_name": "HTMLModel",
          "model_module_version": "1.5.0",
          "state": {
            "_dom_classes": [],
            "_model_module": "@jupyter-widgets/controls",
            "_model_module_version": "1.5.0",
            "_model_name": "HTMLModel",
            "_view_count": null,
            "_view_module": "@jupyter-widgets/controls",
            "_view_module_version": "1.5.0",
            "_view_name": "HTMLView",
            "description": "",
            "description_tooltip": null,
            "layout": "IPY_MODEL_ef27e1ae30f848d9963475d55cd44f43",
            "placeholder": "​",
            "style": "IPY_MODEL_28b30bafb2ba4ce894426d69ec59bfad",
            "value": " 9913344/? [00:00&lt;00:00, 41632604.13it/s]"
          }
        },
        "23d6dc3cb03d4ac1a323ee6c130b424d": {
          "model_module": "@jupyter-widgets/base",
          "model_name": "LayoutModel",
          "model_module_version": "1.2.0",
          "state": {
            "_model_module": "@jupyter-widgets/base",
            "_model_module_version": "1.2.0",
            "_model_name": "LayoutModel",
            "_view_count": null,
            "_view_module": "@jupyter-widgets/base",
            "_view_module_version": "1.2.0",
            "_view_name": "LayoutView",
            "align_content": null,
            "align_items": null,
            "align_self": null,
            "border": null,
            "bottom": null,
            "display": null,
            "flex": null,
            "flex_flow": null,
            "grid_area": null,
            "grid_auto_columns": null,
            "grid_auto_flow": null,
            "grid_auto_rows": null,
            "grid_column": null,
            "grid_gap": null,
            "grid_row": null,
            "grid_template_areas": null,
            "grid_template_columns": null,
            "grid_template_rows": null,
            "height": null,
            "justify_content": null,
            "justify_items": null,
            "left": null,
            "margin": null,
            "max_height": null,
            "max_width": null,
            "min_height": null,
            "min_width": null,
            "object_fit": null,
            "object_position": null,
            "order": null,
            "overflow": null,
            "overflow_x": null,
            "overflow_y": null,
            "padding": null,
            "right": null,
            "top": null,
            "visibility": null,
            "width": null
          }
        },
        "130f522a02304c7284b9ddab247e6461": {
          "model_module": "@jupyter-widgets/base",
          "model_name": "LayoutModel",
          "model_module_version": "1.2.0",
          "state": {
            "_model_module": "@jupyter-widgets/base",
            "_model_module_version": "1.2.0",
            "_model_name": "LayoutModel",
            "_view_count": null,
            "_view_module": "@jupyter-widgets/base",
            "_view_module_version": "1.2.0",
            "_view_name": "LayoutView",
            "align_content": null,
            "align_items": null,
            "align_self": null,
            "border": null,
            "bottom": null,
            "display": null,
            "flex": null,
            "flex_flow": null,
            "grid_area": null,
            "grid_auto_columns": null,
            "grid_auto_flow": null,
            "grid_auto_rows": null,
            "grid_column": null,
            "grid_gap": null,
            "grid_row": null,
            "grid_template_areas": null,
            "grid_template_columns": null,
            "grid_template_rows": null,
            "height": null,
            "justify_content": null,
            "justify_items": null,
            "left": null,
            "margin": null,
            "max_height": null,
            "max_width": null,
            "min_height": null,
            "min_width": null,
            "object_fit": null,
            "object_position": null,
            "order": null,
            "overflow": null,
            "overflow_x": null,
            "overflow_y": null,
            "padding": null,
            "right": null,
            "top": null,
            "visibility": null,
            "width": null
          }
        },
        "504da04411a74035939645b869326b5d": {
          "model_module": "@jupyter-widgets/controls",
          "model_name": "DescriptionStyleModel",
          "model_module_version": "1.5.0",
          "state": {
            "_model_module": "@jupyter-widgets/controls",
            "_model_module_version": "1.5.0",
            "_model_name": "DescriptionStyleModel",
            "_view_count": null,
            "_view_module": "@jupyter-widgets/base",
            "_view_module_version": "1.2.0",
            "_view_name": "StyleView",
            "description_width": ""
          }
        },
        "ef0ecf51d66d4040aca2365339798364": {
          "model_module": "@jupyter-widgets/base",
          "model_name": "LayoutModel",
          "model_module_version": "1.2.0",
          "state": {
            "_model_module": "@jupyter-widgets/base",
            "_model_module_version": "1.2.0",
            "_model_name": "LayoutModel",
            "_view_count": null,
            "_view_module": "@jupyter-widgets/base",
            "_view_module_version": "1.2.0",
            "_view_name": "LayoutView",
            "align_content": null,
            "align_items": null,
            "align_self": null,
            "border": null,
            "bottom": null,
            "display": null,
            "flex": null,
            "flex_flow": null,
            "grid_area": null,
            "grid_auto_columns": null,
            "grid_auto_flow": null,
            "grid_auto_rows": null,
            "grid_column": null,
            "grid_gap": null,
            "grid_row": null,
            "grid_template_areas": null,
            "grid_template_columns": null,
            "grid_template_rows": null,
            "height": null,
            "justify_content": null,
            "justify_items": null,
            "left": null,
            "margin": null,
            "max_height": null,
            "max_width": null,
            "min_height": null,
            "min_width": null,
            "object_fit": null,
            "object_position": null,
            "order": null,
            "overflow": null,
            "overflow_x": null,
            "overflow_y": null,
            "padding": null,
            "right": null,
            "top": null,
            "visibility": null,
            "width": null
          }
        },
        "56168027e9eb46809bbec2fe80f95321": {
          "model_module": "@jupyter-widgets/controls",
          "model_name": "ProgressStyleModel",
          "model_module_version": "1.5.0",
          "state": {
            "_model_module": "@jupyter-widgets/controls",
            "_model_module_version": "1.5.0",
            "_model_name": "ProgressStyleModel",
            "_view_count": null,
            "_view_module": "@jupyter-widgets/base",
            "_view_module_version": "1.2.0",
            "_view_name": "StyleView",
            "bar_color": null,
            "description_width": ""
          }
        },
        "ef27e1ae30f848d9963475d55cd44f43": {
          "model_module": "@jupyter-widgets/base",
          "model_name": "LayoutModel",
          "model_module_version": "1.2.0",
          "state": {
            "_model_module": "@jupyter-widgets/base",
            "_model_module_version": "1.2.0",
            "_model_name": "LayoutModel",
            "_view_count": null,
            "_view_module": "@jupyter-widgets/base",
            "_view_module_version": "1.2.0",
            "_view_name": "LayoutView",
            "align_content": null,
            "align_items": null,
            "align_self": null,
            "border": null,
            "bottom": null,
            "display": null,
            "flex": null,
            "flex_flow": null,
            "grid_area": null,
            "grid_auto_columns": null,
            "grid_auto_flow": null,
            "grid_auto_rows": null,
            "grid_column": null,
            "grid_gap": null,
            "grid_row": null,
            "grid_template_areas": null,
            "grid_template_columns": null,
            "grid_template_rows": null,
            "height": null,
            "justify_content": null,
            "justify_items": null,
            "left": null,
            "margin": null,
            "max_height": null,
            "max_width": null,
            "min_height": null,
            "min_width": null,
            "object_fit": null,
            "object_position": null,
            "order": null,
            "overflow": null,
            "overflow_x": null,
            "overflow_y": null,
            "padding": null,
            "right": null,
            "top": null,
            "visibility": null,
            "width": null
          }
        },
        "28b30bafb2ba4ce894426d69ec59bfad": {
          "model_module": "@jupyter-widgets/controls",
          "model_name": "DescriptionStyleModel",
          "model_module_version": "1.5.0",
          "state": {
            "_model_module": "@jupyter-widgets/controls",
            "_model_module_version": "1.5.0",
            "_model_name": "DescriptionStyleModel",
            "_view_count": null,
            "_view_module": "@jupyter-widgets/base",
            "_view_module_version": "1.2.0",
            "_view_name": "StyleView",
            "description_width": ""
          }
        },
        "4dc79040f4064d2897c1a12eaf3d6623": {
          "model_module": "@jupyter-widgets/controls",
          "model_name": "HBoxModel",
          "model_module_version": "1.5.0",
          "state": {
            "_dom_classes": [],
            "_model_module": "@jupyter-widgets/controls",
            "_model_module_version": "1.5.0",
            "_model_name": "HBoxModel",
            "_view_count": null,
            "_view_module": "@jupyter-widgets/controls",
            "_view_module_version": "1.5.0",
            "_view_name": "HBoxView",
            "box_style": "",
            "children": [
              "IPY_MODEL_8743792f4fe246d29ca56b07267f2f3d",
              "IPY_MODEL_879cfd47df8745929665191ff93f8389",
              "IPY_MODEL_1e3653ec0f0e4ea49b564a00800bb305"
            ],
            "layout": "IPY_MODEL_1614027d257445dd803b4d04de0782dc"
          }
        },
        "8743792f4fe246d29ca56b07267f2f3d": {
          "model_module": "@jupyter-widgets/controls",
          "model_name": "HTMLModel",
          "model_module_version": "1.5.0",
          "state": {
            "_dom_classes": [],
            "_model_module": "@jupyter-widgets/controls",
            "_model_module_version": "1.5.0",
            "_model_name": "HTMLModel",
            "_view_count": null,
            "_view_module": "@jupyter-widgets/controls",
            "_view_module_version": "1.5.0",
            "_view_name": "HTMLView",
            "description": "",
            "description_tooltip": null,
            "layout": "IPY_MODEL_1329d85a25f749efab28b2d08530b8ac",
            "placeholder": "​",
            "style": "IPY_MODEL_1ad4d0f190d44fc683f727427932e969",
            "value": ""
          }
        },
        "879cfd47df8745929665191ff93f8389": {
          "model_module": "@jupyter-widgets/controls",
          "model_name": "FloatProgressModel",
          "model_module_version": "1.5.0",
          "state": {
            "_dom_classes": [],
            "_model_module": "@jupyter-widgets/controls",
            "_model_module_version": "1.5.0",
            "_model_name": "FloatProgressModel",
            "_view_count": null,
            "_view_module": "@jupyter-widgets/controls",
            "_view_module_version": "1.5.0",
            "_view_name": "ProgressView",
            "bar_style": "success",
            "description": "",
            "description_tooltip": null,
            "layout": "IPY_MODEL_0d4dffe712ac462d8660c63a4cadc7f3",
            "max": 28881,
            "min": 0,
            "orientation": "horizontal",
            "style": "IPY_MODEL_700fec4272b74822965dad526f186ddf",
            "value": 28881
          }
        },
        "1e3653ec0f0e4ea49b564a00800bb305": {
          "model_module": "@jupyter-widgets/controls",
          "model_name": "HTMLModel",
          "model_module_version": "1.5.0",
          "state": {
            "_dom_classes": [],
            "_model_module": "@jupyter-widgets/controls",
            "_model_module_version": "1.5.0",
            "_model_name": "HTMLModel",
            "_view_count": null,
            "_view_module": "@jupyter-widgets/controls",
            "_view_module_version": "1.5.0",
            "_view_name": "HTMLView",
            "description": "",
            "description_tooltip": null,
            "layout": "IPY_MODEL_2bcb62bd67784d3a8da655d8e2507dd5",
            "placeholder": "​",
            "style": "IPY_MODEL_62ffc60149004316a3c7530f02f08d67",
            "value": " 29696/? [00:00&lt;00:00, 775796.02it/s]"
          }
        },
        "1614027d257445dd803b4d04de0782dc": {
          "model_module": "@jupyter-widgets/base",
          "model_name": "LayoutModel",
          "model_module_version": "1.2.0",
          "state": {
            "_model_module": "@jupyter-widgets/base",
            "_model_module_version": "1.2.0",
            "_model_name": "LayoutModel",
            "_view_count": null,
            "_view_module": "@jupyter-widgets/base",
            "_view_module_version": "1.2.0",
            "_view_name": "LayoutView",
            "align_content": null,
            "align_items": null,
            "align_self": null,
            "border": null,
            "bottom": null,
            "display": null,
            "flex": null,
            "flex_flow": null,
            "grid_area": null,
            "grid_auto_columns": null,
            "grid_auto_flow": null,
            "grid_auto_rows": null,
            "grid_column": null,
            "grid_gap": null,
            "grid_row": null,
            "grid_template_areas": null,
            "grid_template_columns": null,
            "grid_template_rows": null,
            "height": null,
            "justify_content": null,
            "justify_items": null,
            "left": null,
            "margin": null,
            "max_height": null,
            "max_width": null,
            "min_height": null,
            "min_width": null,
            "object_fit": null,
            "object_position": null,
            "order": null,
            "overflow": null,
            "overflow_x": null,
            "overflow_y": null,
            "padding": null,
            "right": null,
            "top": null,
            "visibility": null,
            "width": null
          }
        },
        "1329d85a25f749efab28b2d08530b8ac": {
          "model_module": "@jupyter-widgets/base",
          "model_name": "LayoutModel",
          "model_module_version": "1.2.0",
          "state": {
            "_model_module": "@jupyter-widgets/base",
            "_model_module_version": "1.2.0",
            "_model_name": "LayoutModel",
            "_view_count": null,
            "_view_module": "@jupyter-widgets/base",
            "_view_module_version": "1.2.0",
            "_view_name": "LayoutView",
            "align_content": null,
            "align_items": null,
            "align_self": null,
            "border": null,
            "bottom": null,
            "display": null,
            "flex": null,
            "flex_flow": null,
            "grid_area": null,
            "grid_auto_columns": null,
            "grid_auto_flow": null,
            "grid_auto_rows": null,
            "grid_column": null,
            "grid_gap": null,
            "grid_row": null,
            "grid_template_areas": null,
            "grid_template_columns": null,
            "grid_template_rows": null,
            "height": null,
            "justify_content": null,
            "justify_items": null,
            "left": null,
            "margin": null,
            "max_height": null,
            "max_width": null,
            "min_height": null,
            "min_width": null,
            "object_fit": null,
            "object_position": null,
            "order": null,
            "overflow": null,
            "overflow_x": null,
            "overflow_y": null,
            "padding": null,
            "right": null,
            "top": null,
            "visibility": null,
            "width": null
          }
        },
        "1ad4d0f190d44fc683f727427932e969": {
          "model_module": "@jupyter-widgets/controls",
          "model_name": "DescriptionStyleModel",
          "model_module_version": "1.5.0",
          "state": {
            "_model_module": "@jupyter-widgets/controls",
            "_model_module_version": "1.5.0",
            "_model_name": "DescriptionStyleModel",
            "_view_count": null,
            "_view_module": "@jupyter-widgets/base",
            "_view_module_version": "1.2.0",
            "_view_name": "StyleView",
            "description_width": ""
          }
        },
        "0d4dffe712ac462d8660c63a4cadc7f3": {
          "model_module": "@jupyter-widgets/base",
          "model_name": "LayoutModel",
          "model_module_version": "1.2.0",
          "state": {
            "_model_module": "@jupyter-widgets/base",
            "_model_module_version": "1.2.0",
            "_model_name": "LayoutModel",
            "_view_count": null,
            "_view_module": "@jupyter-widgets/base",
            "_view_module_version": "1.2.0",
            "_view_name": "LayoutView",
            "align_content": null,
            "align_items": null,
            "align_self": null,
            "border": null,
            "bottom": null,
            "display": null,
            "flex": null,
            "flex_flow": null,
            "grid_area": null,
            "grid_auto_columns": null,
            "grid_auto_flow": null,
            "grid_auto_rows": null,
            "grid_column": null,
            "grid_gap": null,
            "grid_row": null,
            "grid_template_areas": null,
            "grid_template_columns": null,
            "grid_template_rows": null,
            "height": null,
            "justify_content": null,
            "justify_items": null,
            "left": null,
            "margin": null,
            "max_height": null,
            "max_width": null,
            "min_height": null,
            "min_width": null,
            "object_fit": null,
            "object_position": null,
            "order": null,
            "overflow": null,
            "overflow_x": null,
            "overflow_y": null,
            "padding": null,
            "right": null,
            "top": null,
            "visibility": null,
            "width": null
          }
        },
        "700fec4272b74822965dad526f186ddf": {
          "model_module": "@jupyter-widgets/controls",
          "model_name": "ProgressStyleModel",
          "model_module_version": "1.5.0",
          "state": {
            "_model_module": "@jupyter-widgets/controls",
            "_model_module_version": "1.5.0",
            "_model_name": "ProgressStyleModel",
            "_view_count": null,
            "_view_module": "@jupyter-widgets/base",
            "_view_module_version": "1.2.0",
            "_view_name": "StyleView",
            "bar_color": null,
            "description_width": ""
          }
        },
        "2bcb62bd67784d3a8da655d8e2507dd5": {
          "model_module": "@jupyter-widgets/base",
          "model_name": "LayoutModel",
          "model_module_version": "1.2.0",
          "state": {
            "_model_module": "@jupyter-widgets/base",
            "_model_module_version": "1.2.0",
            "_model_name": "LayoutModel",
            "_view_count": null,
            "_view_module": "@jupyter-widgets/base",
            "_view_module_version": "1.2.0",
            "_view_name": "LayoutView",
            "align_content": null,
            "align_items": null,
            "align_self": null,
            "border": null,
            "bottom": null,
            "display": null,
            "flex": null,
            "flex_flow": null,
            "grid_area": null,
            "grid_auto_columns": null,
            "grid_auto_flow": null,
            "grid_auto_rows": null,
            "grid_column": null,
            "grid_gap": null,
            "grid_row": null,
            "grid_template_areas": null,
            "grid_template_columns": null,
            "grid_template_rows": null,
            "height": null,
            "justify_content": null,
            "justify_items": null,
            "left": null,
            "margin": null,
            "max_height": null,
            "max_width": null,
            "min_height": null,
            "min_width": null,
            "object_fit": null,
            "object_position": null,
            "order": null,
            "overflow": null,
            "overflow_x": null,
            "overflow_y": null,
            "padding": null,
            "right": null,
            "top": null,
            "visibility": null,
            "width": null
          }
        },
        "62ffc60149004316a3c7530f02f08d67": {
          "model_module": "@jupyter-widgets/controls",
          "model_name": "DescriptionStyleModel",
          "model_module_version": "1.5.0",
          "state": {
            "_model_module": "@jupyter-widgets/controls",
            "_model_module_version": "1.5.0",
            "_model_name": "DescriptionStyleModel",
            "_view_count": null,
            "_view_module": "@jupyter-widgets/base",
            "_view_module_version": "1.2.0",
            "_view_name": "StyleView",
            "description_width": ""
          }
        },
        "1fffe0f58e164a3eafcd3a3c4501ce60": {
          "model_module": "@jupyter-widgets/controls",
          "model_name": "HBoxModel",
          "model_module_version": "1.5.0",
          "state": {
            "_dom_classes": [],
            "_model_module": "@jupyter-widgets/controls",
            "_model_module_version": "1.5.0",
            "_model_name": "HBoxModel",
            "_view_count": null,
            "_view_module": "@jupyter-widgets/controls",
            "_view_module_version": "1.5.0",
            "_view_name": "HBoxView",
            "box_style": "",
            "children": [
              "IPY_MODEL_07b32723b5e144909d530bb96f1bcd8d",
              "IPY_MODEL_f7dee4b9fb9344c2b6e90d0edee091f7",
              "IPY_MODEL_b7d4c02057f54a3398826bd38acab276"
            ],
            "layout": "IPY_MODEL_0a8a9155ceb1475ba497b2d9428b1bf8"
          }
        },
        "07b32723b5e144909d530bb96f1bcd8d": {
          "model_module": "@jupyter-widgets/controls",
          "model_name": "HTMLModel",
          "model_module_version": "1.5.0",
          "state": {
            "_dom_classes": [],
            "_model_module": "@jupyter-widgets/controls",
            "_model_module_version": "1.5.0",
            "_model_name": "HTMLModel",
            "_view_count": null,
            "_view_module": "@jupyter-widgets/controls",
            "_view_module_version": "1.5.0",
            "_view_name": "HTMLView",
            "description": "",
            "description_tooltip": null,
            "layout": "IPY_MODEL_1a3076dc953d456d8fe1e7b9c04c8835",
            "placeholder": "​",
            "style": "IPY_MODEL_75927a01f28c439b9a15b382c55f8824",
            "value": ""
          }
        },
        "f7dee4b9fb9344c2b6e90d0edee091f7": {
          "model_module": "@jupyter-widgets/controls",
          "model_name": "FloatProgressModel",
          "model_module_version": "1.5.0",
          "state": {
            "_dom_classes": [],
            "_model_module": "@jupyter-widgets/controls",
            "_model_module_version": "1.5.0",
            "_model_name": "FloatProgressModel",
            "_view_count": null,
            "_view_module": "@jupyter-widgets/controls",
            "_view_module_version": "1.5.0",
            "_view_name": "ProgressView",
            "bar_style": "success",
            "description": "",
            "description_tooltip": null,
            "layout": "IPY_MODEL_7bf2c960f56b41009a1263aae90c396e",
            "max": 1648877,
            "min": 0,
            "orientation": "horizontal",
            "style": "IPY_MODEL_c7169cf12d9d481680560f67bd644081",
            "value": 1648877
          }
        },
        "b7d4c02057f54a3398826bd38acab276": {
          "model_module": "@jupyter-widgets/controls",
          "model_name": "HTMLModel",
          "model_module_version": "1.5.0",
          "state": {
            "_dom_classes": [],
            "_model_module": "@jupyter-widgets/controls",
            "_model_module_version": "1.5.0",
            "_model_name": "HTMLModel",
            "_view_count": null,
            "_view_module": "@jupyter-widgets/controls",
            "_view_module_version": "1.5.0",
            "_view_name": "HTMLView",
            "description": "",
            "description_tooltip": null,
            "layout": "IPY_MODEL_b3cc0f122c4b4728a7bac457bc699305",
            "placeholder": "​",
            "style": "IPY_MODEL_1320bf1e7a5a4d4a9a13524da16105a3",
            "value": " 1649664/? [00:00&lt;00:00, 17758913.38it/s]"
          }
        },
        "0a8a9155ceb1475ba497b2d9428b1bf8": {
          "model_module": "@jupyter-widgets/base",
          "model_name": "LayoutModel",
          "model_module_version": "1.2.0",
          "state": {
            "_model_module": "@jupyter-widgets/base",
            "_model_module_version": "1.2.0",
            "_model_name": "LayoutModel",
            "_view_count": null,
            "_view_module": "@jupyter-widgets/base",
            "_view_module_version": "1.2.0",
            "_view_name": "LayoutView",
            "align_content": null,
            "align_items": null,
            "align_self": null,
            "border": null,
            "bottom": null,
            "display": null,
            "flex": null,
            "flex_flow": null,
            "grid_area": null,
            "grid_auto_columns": null,
            "grid_auto_flow": null,
            "grid_auto_rows": null,
            "grid_column": null,
            "grid_gap": null,
            "grid_row": null,
            "grid_template_areas": null,
            "grid_template_columns": null,
            "grid_template_rows": null,
            "height": null,
            "justify_content": null,
            "justify_items": null,
            "left": null,
            "margin": null,
            "max_height": null,
            "max_width": null,
            "min_height": null,
            "min_width": null,
            "object_fit": null,
            "object_position": null,
            "order": null,
            "overflow": null,
            "overflow_x": null,
            "overflow_y": null,
            "padding": null,
            "right": null,
            "top": null,
            "visibility": null,
            "width": null
          }
        },
        "1a3076dc953d456d8fe1e7b9c04c8835": {
          "model_module": "@jupyter-widgets/base",
          "model_name": "LayoutModel",
          "model_module_version": "1.2.0",
          "state": {
            "_model_module": "@jupyter-widgets/base",
            "_model_module_version": "1.2.0",
            "_model_name": "LayoutModel",
            "_view_count": null,
            "_view_module": "@jupyter-widgets/base",
            "_view_module_version": "1.2.0",
            "_view_name": "LayoutView",
            "align_content": null,
            "align_items": null,
            "align_self": null,
            "border": null,
            "bottom": null,
            "display": null,
            "flex": null,
            "flex_flow": null,
            "grid_area": null,
            "grid_auto_columns": null,
            "grid_auto_flow": null,
            "grid_auto_rows": null,
            "grid_column": null,
            "grid_gap": null,
            "grid_row": null,
            "grid_template_areas": null,
            "grid_template_columns": null,
            "grid_template_rows": null,
            "height": null,
            "justify_content": null,
            "justify_items": null,
            "left": null,
            "margin": null,
            "max_height": null,
            "max_width": null,
            "min_height": null,
            "min_width": null,
            "object_fit": null,
            "object_position": null,
            "order": null,
            "overflow": null,
            "overflow_x": null,
            "overflow_y": null,
            "padding": null,
            "right": null,
            "top": null,
            "visibility": null,
            "width": null
          }
        },
        "75927a01f28c439b9a15b382c55f8824": {
          "model_module": "@jupyter-widgets/controls",
          "model_name": "DescriptionStyleModel",
          "model_module_version": "1.5.0",
          "state": {
            "_model_module": "@jupyter-widgets/controls",
            "_model_module_version": "1.5.0",
            "_model_name": "DescriptionStyleModel",
            "_view_count": null,
            "_view_module": "@jupyter-widgets/base",
            "_view_module_version": "1.2.0",
            "_view_name": "StyleView",
            "description_width": ""
          }
        },
        "7bf2c960f56b41009a1263aae90c396e": {
          "model_module": "@jupyter-widgets/base",
          "model_name": "LayoutModel",
          "model_module_version": "1.2.0",
          "state": {
            "_model_module": "@jupyter-widgets/base",
            "_model_module_version": "1.2.0",
            "_model_name": "LayoutModel",
            "_view_count": null,
            "_view_module": "@jupyter-widgets/base",
            "_view_module_version": "1.2.0",
            "_view_name": "LayoutView",
            "align_content": null,
            "align_items": null,
            "align_self": null,
            "border": null,
            "bottom": null,
            "display": null,
            "flex": null,
            "flex_flow": null,
            "grid_area": null,
            "grid_auto_columns": null,
            "grid_auto_flow": null,
            "grid_auto_rows": null,
            "grid_column": null,
            "grid_gap": null,
            "grid_row": null,
            "grid_template_areas": null,
            "grid_template_columns": null,
            "grid_template_rows": null,
            "height": null,
            "justify_content": null,
            "justify_items": null,
            "left": null,
            "margin": null,
            "max_height": null,
            "max_width": null,
            "min_height": null,
            "min_width": null,
            "object_fit": null,
            "object_position": null,
            "order": null,
            "overflow": null,
            "overflow_x": null,
            "overflow_y": null,
            "padding": null,
            "right": null,
            "top": null,
            "visibility": null,
            "width": null
          }
        },
        "c7169cf12d9d481680560f67bd644081": {
          "model_module": "@jupyter-widgets/controls",
          "model_name": "ProgressStyleModel",
          "model_module_version": "1.5.0",
          "state": {
            "_model_module": "@jupyter-widgets/controls",
            "_model_module_version": "1.5.0",
            "_model_name": "ProgressStyleModel",
            "_view_count": null,
            "_view_module": "@jupyter-widgets/base",
            "_view_module_version": "1.2.0",
            "_view_name": "StyleView",
            "bar_color": null,
            "description_width": ""
          }
        },
        "b3cc0f122c4b4728a7bac457bc699305": {
          "model_module": "@jupyter-widgets/base",
          "model_name": "LayoutModel",
          "model_module_version": "1.2.0",
          "state": {
            "_model_module": "@jupyter-widgets/base",
            "_model_module_version": "1.2.0",
            "_model_name": "LayoutModel",
            "_view_count": null,
            "_view_module": "@jupyter-widgets/base",
            "_view_module_version": "1.2.0",
            "_view_name": "LayoutView",
            "align_content": null,
            "align_items": null,
            "align_self": null,
            "border": null,
            "bottom": null,
            "display": null,
            "flex": null,
            "flex_flow": null,
            "grid_area": null,
            "grid_auto_columns": null,
            "grid_auto_flow": null,
            "grid_auto_rows": null,
            "grid_column": null,
            "grid_gap": null,
            "grid_row": null,
            "grid_template_areas": null,
            "grid_template_columns": null,
            "grid_template_rows": null,
            "height": null,
            "justify_content": null,
            "justify_items": null,
            "left": null,
            "margin": null,
            "max_height": null,
            "max_width": null,
            "min_height": null,
            "min_width": null,
            "object_fit": null,
            "object_position": null,
            "order": null,
            "overflow": null,
            "overflow_x": null,
            "overflow_y": null,
            "padding": null,
            "right": null,
            "top": null,
            "visibility": null,
            "width": null
          }
        },
        "1320bf1e7a5a4d4a9a13524da16105a3": {
          "model_module": "@jupyter-widgets/controls",
          "model_name": "DescriptionStyleModel",
          "model_module_version": "1.5.0",
          "state": {
            "_model_module": "@jupyter-widgets/controls",
            "_model_module_version": "1.5.0",
            "_model_name": "DescriptionStyleModel",
            "_view_count": null,
            "_view_module": "@jupyter-widgets/base",
            "_view_module_version": "1.2.0",
            "_view_name": "StyleView",
            "description_width": ""
          }
        },
        "3ca74d786a094aaeb26057b39a90c2d4": {
          "model_module": "@jupyter-widgets/controls",
          "model_name": "HBoxModel",
          "model_module_version": "1.5.0",
          "state": {
            "_dom_classes": [],
            "_model_module": "@jupyter-widgets/controls",
            "_model_module_version": "1.5.0",
            "_model_name": "HBoxModel",
            "_view_count": null,
            "_view_module": "@jupyter-widgets/controls",
            "_view_module_version": "1.5.0",
            "_view_name": "HBoxView",
            "box_style": "",
            "children": [
              "IPY_MODEL_839f4ae9ff5247dfaf93526e2b3fd79d",
              "IPY_MODEL_7955a8d8177d49e38f14b9a9d3cc8389",
              "IPY_MODEL_a43afbce90684585b3f9688adefe4c73"
            ],
            "layout": "IPY_MODEL_3a6a63e27915499fb08eea8459430e52"
          }
        },
        "839f4ae9ff5247dfaf93526e2b3fd79d": {
          "model_module": "@jupyter-widgets/controls",
          "model_name": "HTMLModel",
          "model_module_version": "1.5.0",
          "state": {
            "_dom_classes": [],
            "_model_module": "@jupyter-widgets/controls",
            "_model_module_version": "1.5.0",
            "_model_name": "HTMLModel",
            "_view_count": null,
            "_view_module": "@jupyter-widgets/controls",
            "_view_module_version": "1.5.0",
            "_view_name": "HTMLView",
            "description": "",
            "description_tooltip": null,
            "layout": "IPY_MODEL_30636793eb9d43758b237ff0f16754a5",
            "placeholder": "​",
            "style": "IPY_MODEL_04581630c6124f2781432059a1219d33",
            "value": ""
          }
        },
        "7955a8d8177d49e38f14b9a9d3cc8389": {
          "model_module": "@jupyter-widgets/controls",
          "model_name": "FloatProgressModel",
          "model_module_version": "1.5.0",
          "state": {
            "_dom_classes": [],
            "_model_module": "@jupyter-widgets/controls",
            "_model_module_version": "1.5.0",
            "_model_name": "FloatProgressModel",
            "_view_count": null,
            "_view_module": "@jupyter-widgets/controls",
            "_view_module_version": "1.5.0",
            "_view_name": "ProgressView",
            "bar_style": "success",
            "description": "",
            "description_tooltip": null,
            "layout": "IPY_MODEL_46bc1f14367b42a888647c205fffa501",
            "max": 4542,
            "min": 0,
            "orientation": "horizontal",
            "style": "IPY_MODEL_7c493aa9feb24b93b26c78d16ee6e478",
            "value": 4542
          }
        },
        "a43afbce90684585b3f9688adefe4c73": {
          "model_module": "@jupyter-widgets/controls",
          "model_name": "HTMLModel",
          "model_module_version": "1.5.0",
          "state": {
            "_dom_classes": [],
            "_model_module": "@jupyter-widgets/controls",
            "_model_module_version": "1.5.0",
            "_model_name": "HTMLModel",
            "_view_count": null,
            "_view_module": "@jupyter-widgets/controls",
            "_view_module_version": "1.5.0",
            "_view_name": "HTMLView",
            "description": "",
            "description_tooltip": null,
            "layout": "IPY_MODEL_abcf170029b944e4ab899a3bd3618b4d",
            "placeholder": "​",
            "style": "IPY_MODEL_00d6dc7854b9471d97c856c8f74350ca",
            "value": " 5120/? [00:00&lt;00:00, 140949.84it/s]"
          }
        },
        "3a6a63e27915499fb08eea8459430e52": {
          "model_module": "@jupyter-widgets/base",
          "model_name": "LayoutModel",
          "model_module_version": "1.2.0",
          "state": {
            "_model_module": "@jupyter-widgets/base",
            "_model_module_version": "1.2.0",
            "_model_name": "LayoutModel",
            "_view_count": null,
            "_view_module": "@jupyter-widgets/base",
            "_view_module_version": "1.2.0",
            "_view_name": "LayoutView",
            "align_content": null,
            "align_items": null,
            "align_self": null,
            "border": null,
            "bottom": null,
            "display": null,
            "flex": null,
            "flex_flow": null,
            "grid_area": null,
            "grid_auto_columns": null,
            "grid_auto_flow": null,
            "grid_auto_rows": null,
            "grid_column": null,
            "grid_gap": null,
            "grid_row": null,
            "grid_template_areas": null,
            "grid_template_columns": null,
            "grid_template_rows": null,
            "height": null,
            "justify_content": null,
            "justify_items": null,
            "left": null,
            "margin": null,
            "max_height": null,
            "max_width": null,
            "min_height": null,
            "min_width": null,
            "object_fit": null,
            "object_position": null,
            "order": null,
            "overflow": null,
            "overflow_x": null,
            "overflow_y": null,
            "padding": null,
            "right": null,
            "top": null,
            "visibility": null,
            "width": null
          }
        },
        "30636793eb9d43758b237ff0f16754a5": {
          "model_module": "@jupyter-widgets/base",
          "model_name": "LayoutModel",
          "model_module_version": "1.2.0",
          "state": {
            "_model_module": "@jupyter-widgets/base",
            "_model_module_version": "1.2.0",
            "_model_name": "LayoutModel",
            "_view_count": null,
            "_view_module": "@jupyter-widgets/base",
            "_view_module_version": "1.2.0",
            "_view_name": "LayoutView",
            "align_content": null,
            "align_items": null,
            "align_self": null,
            "border": null,
            "bottom": null,
            "display": null,
            "flex": null,
            "flex_flow": null,
            "grid_area": null,
            "grid_auto_columns": null,
            "grid_auto_flow": null,
            "grid_auto_rows": null,
            "grid_column": null,
            "grid_gap": null,
            "grid_row": null,
            "grid_template_areas": null,
            "grid_template_columns": null,
            "grid_template_rows": null,
            "height": null,
            "justify_content": null,
            "justify_items": null,
            "left": null,
            "margin": null,
            "max_height": null,
            "max_width": null,
            "min_height": null,
            "min_width": null,
            "object_fit": null,
            "object_position": null,
            "order": null,
            "overflow": null,
            "overflow_x": null,
            "overflow_y": null,
            "padding": null,
            "right": null,
            "top": null,
            "visibility": null,
            "width": null
          }
        },
        "04581630c6124f2781432059a1219d33": {
          "model_module": "@jupyter-widgets/controls",
          "model_name": "DescriptionStyleModel",
          "model_module_version": "1.5.0",
          "state": {
            "_model_module": "@jupyter-widgets/controls",
            "_model_module_version": "1.5.0",
            "_model_name": "DescriptionStyleModel",
            "_view_count": null,
            "_view_module": "@jupyter-widgets/base",
            "_view_module_version": "1.2.0",
            "_view_name": "StyleView",
            "description_width": ""
          }
        },
        "46bc1f14367b42a888647c205fffa501": {
          "model_module": "@jupyter-widgets/base",
          "model_name": "LayoutModel",
          "model_module_version": "1.2.0",
          "state": {
            "_model_module": "@jupyter-widgets/base",
            "_model_module_version": "1.2.0",
            "_model_name": "LayoutModel",
            "_view_count": null,
            "_view_module": "@jupyter-widgets/base",
            "_view_module_version": "1.2.0",
            "_view_name": "LayoutView",
            "align_content": null,
            "align_items": null,
            "align_self": null,
            "border": null,
            "bottom": null,
            "display": null,
            "flex": null,
            "flex_flow": null,
            "grid_area": null,
            "grid_auto_columns": null,
            "grid_auto_flow": null,
            "grid_auto_rows": null,
            "grid_column": null,
            "grid_gap": null,
            "grid_row": null,
            "grid_template_areas": null,
            "grid_template_columns": null,
            "grid_template_rows": null,
            "height": null,
            "justify_content": null,
            "justify_items": null,
            "left": null,
            "margin": null,
            "max_height": null,
            "max_width": null,
            "min_height": null,
            "min_width": null,
            "object_fit": null,
            "object_position": null,
            "order": null,
            "overflow": null,
            "overflow_x": null,
            "overflow_y": null,
            "padding": null,
            "right": null,
            "top": null,
            "visibility": null,
            "width": null
          }
        },
        "7c493aa9feb24b93b26c78d16ee6e478": {
          "model_module": "@jupyter-widgets/controls",
          "model_name": "ProgressStyleModel",
          "model_module_version": "1.5.0",
          "state": {
            "_model_module": "@jupyter-widgets/controls",
            "_model_module_version": "1.5.0",
            "_model_name": "ProgressStyleModel",
            "_view_count": null,
            "_view_module": "@jupyter-widgets/base",
            "_view_module_version": "1.2.0",
            "_view_name": "StyleView",
            "bar_color": null,
            "description_width": ""
          }
        },
        "abcf170029b944e4ab899a3bd3618b4d": {
          "model_module": "@jupyter-widgets/base",
          "model_name": "LayoutModel",
          "model_module_version": "1.2.0",
          "state": {
            "_model_module": "@jupyter-widgets/base",
            "_model_module_version": "1.2.0",
            "_model_name": "LayoutModel",
            "_view_count": null,
            "_view_module": "@jupyter-widgets/base",
            "_view_module_version": "1.2.0",
            "_view_name": "LayoutView",
            "align_content": null,
            "align_items": null,
            "align_self": null,
            "border": null,
            "bottom": null,
            "display": null,
            "flex": null,
            "flex_flow": null,
            "grid_area": null,
            "grid_auto_columns": null,
            "grid_auto_flow": null,
            "grid_auto_rows": null,
            "grid_column": null,
            "grid_gap": null,
            "grid_row": null,
            "grid_template_areas": null,
            "grid_template_columns": null,
            "grid_template_rows": null,
            "height": null,
            "justify_content": null,
            "justify_items": null,
            "left": null,
            "margin": null,
            "max_height": null,
            "max_width": null,
            "min_height": null,
            "min_width": null,
            "object_fit": null,
            "object_position": null,
            "order": null,
            "overflow": null,
            "overflow_x": null,
            "overflow_y": null,
            "padding": null,
            "right": null,
            "top": null,
            "visibility": null,
            "width": null
          }
        },
        "00d6dc7854b9471d97c856c8f74350ca": {
          "model_module": "@jupyter-widgets/controls",
          "model_name": "DescriptionStyleModel",
          "model_module_version": "1.5.0",
          "state": {
            "_model_module": "@jupyter-widgets/controls",
            "_model_module_version": "1.5.0",
            "_model_name": "DescriptionStyleModel",
            "_view_count": null,
            "_view_module": "@jupyter-widgets/base",
            "_view_module_version": "1.2.0",
            "_view_name": "StyleView",
            "description_width": ""
          }
        }
      }
    }
  },
  "cells": [
    {
      "cell_type": "markdown",
      "metadata": {
        "id": "view-in-github",
        "colab_type": "text"
      },
      "source": [
        "<a href=\"https://colab.research.google.com/github/unicamp-dl/IA025_2022S1/blob/main/ex04/Marcus_Vinicius_Borela_de_Castro.ipynb\" target=\"_parent\"><img src=\"https://colab.research.google.com/assets/colab-badge.svg\" alt=\"Open In Colab\"/></a>"
      ]
    },
    {
      "cell_type": "markdown",
      "source": [
        "# Notebook de referência \n",
        "\n",
        "Nome: Marcus Vinicius Borela de Castro"
      ],
      "metadata": {
        "id": "9JUry0HLg8xG"
      }
    },
    {
      "cell_type": "markdown",
      "metadata": {
        "id": "J3R2-_YuQT1r"
      },
      "source": [
        "# Regressão Softmax com dados do MNIST utilizando gradiente descendente estocástico por minibatches"
      ]
    },
    {
      "cell_type": "markdown",
      "metadata": {
        "id": "WkfGTqMVQT1u"
      },
      "source": [
        "Este exercicío consiste em treinar um modelo de uma única camada linear no MNIST **sem** usar as seguintes funções do pytorch:\n",
        "\n",
        "- torch.nn.Linear\n",
        "- torch.nn.CrossEntropyLoss\n",
        "- torch.nn.NLLLoss\n",
        "- torch.nn.LogSoftmax\n",
        "- torch.optim.SGD\n",
        "- torch.utils.data.Dataloader"
      ]
    },
    {
      "cell_type": "markdown",
      "metadata": {
        "id": "wFNf4RPxQT1w"
      },
      "source": [
        "## Importação das bibliotecas"
      ]
    },
    {
      "cell_type": "code",
      "metadata": {
        "ExecuteTime": {
          "end_time": "2018-08-21T14:08:14.033692Z",
          "start_time": "2018-08-21T14:08:11.179981Z"
        },
        "id": "-fLUSHaCQT1x"
      },
      "source": [
        "%matplotlib inline\n",
        "import numpy as np\n",
        "import matplotlib.pyplot as plt\n",
        "import random\n",
        "import torch\n",
        "import torchvision\n",
        "from torchvision.datasets import MNIST"
      ],
      "execution_count": 1,
      "outputs": []
    },
    {
      "cell_type": "code",
      "source": [
        "import math"
      ],
      "metadata": {
        "id": "vSZ024oYrbip"
      },
      "execution_count": 2,
      "outputs": []
    },
    {
      "cell_type": "markdown",
      "source": [
        "## Fixando as seeds"
      ],
      "metadata": {
        "id": "7_Po22b5ykhK"
      }
    },
    {
      "cell_type": "code",
      "metadata": {
        "id": "bkETIyWGkbOf"
      },
      "source": [
        "def inicializa_seed(num_semente:int=123):\n",
        "  \"\"\"\n",
        "  É recomendado reiniciar as seeds antes de inicializar o modelo, pois assim\n",
        "  garantimos que os pesos vao ser sempre os mesmos.\n",
        "  fontes de apoio: \n",
        "      http://nlp.seas.harvard.edu/2018/04/03/attention.html\n",
        "      https://github.com/CyberZHG/torch-multi-head-attention/blob/master/torch_multi_head_attention/multi_head_attention.py#L15\n",
        "  \"\"\"\n",
        "  random.seed(num_semente)\n",
        "  np.random.seed(num_semente)\n",
        "  torch.manual_seed(num_semente)\n",
        "  #torch.cuda.manual_seed(num_semente)\n",
        "  #Cuda algorithms\n",
        "  #torch.backends.cudnn.deterministic = True "
      ],
      "execution_count": 3,
      "outputs": []
    },
    {
      "cell_type": "code",
      "metadata": {
        "id": "ViMcw_kVkbOf"
      },
      "source": [
        "inicializa_seed(123)"
      ],
      "execution_count": 4,
      "outputs": []
    },
    {
      "cell_type": "markdown",
      "metadata": {
        "id": "jEMUsfJpQT11"
      },
      "source": [
        "## Dataset e dataloader"
      ]
    },
    {
      "cell_type": "markdown",
      "metadata": {
        "id": "vHoQjDs_QT12"
      },
      "source": [
        "### Definição do tamanho do minibatch"
      ]
    },
    {
      "cell_type": "code",
      "metadata": {
        "ExecuteTime": {
          "end_time": "2018-08-21T14:08:20.282474Z",
          "start_time": "2018-08-21T14:08:20.275450Z"
        },
        "id": "tEQYUr4TQT13"
      },
      "source": [
        "batch_size = 50"
      ],
      "execution_count": 5,
      "outputs": []
    },
    {
      "cell_type": "markdown",
      "metadata": {
        "id": "dc7Rv_2BQT16"
      },
      "source": [
        "### Carregamento, criação dataset e do dataloader"
      ]
    },
    {
      "cell_type": "code",
      "metadata": {
        "ExecuteTime": {
          "end_time": "2018-08-21T14:10:45.430605Z",
          "start_time": "2018-08-21T14:10:04.953051Z"
        },
        "id": "G0dEKCn-QT17",
        "colab": {
          "base_uri": "https://localhost:8080/",
          "height": 422,
          "referenced_widgets": [
            "e1ccb0cc89f8491ca214bc77bd06bd08",
            "7e92fe65fa8f456aaa6f364b69f836c5",
            "e81b681faa1e4e1f816cbc27d7eb15f3",
            "47871ff916614d449b8221cde061e59f",
            "23d6dc3cb03d4ac1a323ee6c130b424d",
            "130f522a02304c7284b9ddab247e6461",
            "504da04411a74035939645b869326b5d",
            "ef0ecf51d66d4040aca2365339798364",
            "56168027e9eb46809bbec2fe80f95321",
            "ef27e1ae30f848d9963475d55cd44f43",
            "28b30bafb2ba4ce894426d69ec59bfad",
            "4dc79040f4064d2897c1a12eaf3d6623",
            "8743792f4fe246d29ca56b07267f2f3d",
            "879cfd47df8745929665191ff93f8389",
            "1e3653ec0f0e4ea49b564a00800bb305",
            "1614027d257445dd803b4d04de0782dc",
            "1329d85a25f749efab28b2d08530b8ac",
            "1ad4d0f190d44fc683f727427932e969",
            "0d4dffe712ac462d8660c63a4cadc7f3",
            "700fec4272b74822965dad526f186ddf",
            "2bcb62bd67784d3a8da655d8e2507dd5",
            "62ffc60149004316a3c7530f02f08d67",
            "1fffe0f58e164a3eafcd3a3c4501ce60",
            "07b32723b5e144909d530bb96f1bcd8d",
            "f7dee4b9fb9344c2b6e90d0edee091f7",
            "b7d4c02057f54a3398826bd38acab276",
            "0a8a9155ceb1475ba497b2d9428b1bf8",
            "1a3076dc953d456d8fe1e7b9c04c8835",
            "75927a01f28c439b9a15b382c55f8824",
            "7bf2c960f56b41009a1263aae90c396e",
            "c7169cf12d9d481680560f67bd644081",
            "b3cc0f122c4b4728a7bac457bc699305",
            "1320bf1e7a5a4d4a9a13524da16105a3",
            "3ca74d786a094aaeb26057b39a90c2d4",
            "839f4ae9ff5247dfaf93526e2b3fd79d",
            "7955a8d8177d49e38f14b9a9d3cc8389",
            "a43afbce90684585b3f9688adefe4c73",
            "3a6a63e27915499fb08eea8459430e52",
            "30636793eb9d43758b237ff0f16754a5",
            "04581630c6124f2781432059a1219d33",
            "46bc1f14367b42a888647c205fffa501",
            "7c493aa9feb24b93b26c78d16ee6e478",
            "abcf170029b944e4ab899a3bd3618b4d",
            "00d6dc7854b9471d97c856c8f74350ca"
          ]
        },
        "outputId": "c67cde44-ae25-45bb-bb30-71849bd35e45"
      },
      "source": [
        "dataset_dir = '../data/'\n",
        "\n",
        "dataset_train_full = MNIST(dataset_dir, train=True, download=True,\n",
        "                           transform=torchvision.transforms.ToTensor())"
      ],
      "execution_count": 6,
      "outputs": [
        {
          "output_type": "stream",
          "name": "stdout",
          "text": [
            "Downloading http://yann.lecun.com/exdb/mnist/train-images-idx3-ubyte.gz\n",
            "Downloading http://yann.lecun.com/exdb/mnist/train-images-idx3-ubyte.gz to ../data/MNIST/raw/train-images-idx3-ubyte.gz\n"
          ]
        },
        {
          "output_type": "display_data",
          "data": {
            "text/plain": [
              "  0%|          | 0/9912422 [00:00<?, ?it/s]"
            ],
            "application/vnd.jupyter.widget-view+json": {
              "version_major": 2,
              "version_minor": 0,
              "model_id": "e1ccb0cc89f8491ca214bc77bd06bd08"
            }
          },
          "metadata": {}
        },
        {
          "output_type": "stream",
          "name": "stdout",
          "text": [
            "Extracting ../data/MNIST/raw/train-images-idx3-ubyte.gz to ../data/MNIST/raw\n",
            "\n",
            "Downloading http://yann.lecun.com/exdb/mnist/train-labels-idx1-ubyte.gz\n",
            "Downloading http://yann.lecun.com/exdb/mnist/train-labels-idx1-ubyte.gz to ../data/MNIST/raw/train-labels-idx1-ubyte.gz\n"
          ]
        },
        {
          "output_type": "display_data",
          "data": {
            "text/plain": [
              "  0%|          | 0/28881 [00:00<?, ?it/s]"
            ],
            "application/vnd.jupyter.widget-view+json": {
              "version_major": 2,
              "version_minor": 0,
              "model_id": "4dc79040f4064d2897c1a12eaf3d6623"
            }
          },
          "metadata": {}
        },
        {
          "output_type": "stream",
          "name": "stdout",
          "text": [
            "Extracting ../data/MNIST/raw/train-labels-idx1-ubyte.gz to ../data/MNIST/raw\n",
            "\n",
            "Downloading http://yann.lecun.com/exdb/mnist/t10k-images-idx3-ubyte.gz\n",
            "Downloading http://yann.lecun.com/exdb/mnist/t10k-images-idx3-ubyte.gz to ../data/MNIST/raw/t10k-images-idx3-ubyte.gz\n"
          ]
        },
        {
          "output_type": "display_data",
          "data": {
            "text/plain": [
              "  0%|          | 0/1648877 [00:00<?, ?it/s]"
            ],
            "application/vnd.jupyter.widget-view+json": {
              "version_major": 2,
              "version_minor": 0,
              "model_id": "1fffe0f58e164a3eafcd3a3c4501ce60"
            }
          },
          "metadata": {}
        },
        {
          "output_type": "stream",
          "name": "stdout",
          "text": [
            "Extracting ../data/MNIST/raw/t10k-images-idx3-ubyte.gz to ../data/MNIST/raw\n",
            "\n",
            "Downloading http://yann.lecun.com/exdb/mnist/t10k-labels-idx1-ubyte.gz\n",
            "Downloading http://yann.lecun.com/exdb/mnist/t10k-labels-idx1-ubyte.gz to ../data/MNIST/raw/t10k-labels-idx1-ubyte.gz\n"
          ]
        },
        {
          "output_type": "display_data",
          "data": {
            "text/plain": [
              "  0%|          | 0/4542 [00:00<?, ?it/s]"
            ],
            "application/vnd.jupyter.widget-view+json": {
              "version_major": 2,
              "version_minor": 0,
              "model_id": "3ca74d786a094aaeb26057b39a90c2d4"
            }
          },
          "metadata": {}
        },
        {
          "output_type": "stream",
          "name": "stdout",
          "text": [
            "Extracting ../data/MNIST/raw/t10k-labels-idx1-ubyte.gz to ../data/MNIST/raw\n",
            "\n"
          ]
        }
      ]
    },
    {
      "cell_type": "code",
      "source": [
        "print(f\"dataset_train_full.data.shape: {dataset_train_full.data.shape}\")\n",
        "print(f\"dataset_train_full.targets.shape: {dataset_train_full.targets.shape}\")"
      ],
      "metadata": {
        "colab": {
          "base_uri": "https://localhost:8080/"
        },
        "id": "PUIb6wTLjHqt",
        "outputId": "18b4e0b5-0aef-4a21-fd61-eb033ccbb7e1"
      },
      "execution_count": 7,
      "outputs": [
        {
          "output_type": "stream",
          "name": "stdout",
          "text": [
            "dataset_train_full.data.shape: torch.Size([60000, 28, 28])\n",
            "dataset_train_full.targets.shape: torch.Size([60000])\n"
          ]
        }
      ]
    },
    {
      "cell_type": "markdown",
      "metadata": {
        "id": "_rOy9ntrQT2D"
      },
      "source": [
        "### Usando apenas 1000 amostras do MNIST\n",
        "\n",
        "Neste exercício utilizaremos 1000 amostras de treinamento."
      ]
    },
    {
      "cell_type": "code",
      "metadata": {
        "id": "WNF2XjLBWWe7"
      },
      "source": [
        "indices = torch.randperm(len(dataset_train_full))[:1000]\n",
        "dataset_train = torch.utils.data.Subset(dataset_train_full, indices)"
      ],
      "execution_count": 8,
      "outputs": []
    },
    {
      "cell_type": "code",
      "source": [
        "len(indices), indices[:10], indices[-10:]"
      ],
      "metadata": {
        "colab": {
          "base_uri": "https://localhost:8080/"
        },
        "id": "ZZx0K0z7jiKV",
        "outputId": "e7f5094c-c349-4e38-9f2f-baca69bd15bb"
      },
      "execution_count": 9,
      "outputs": [
        {
          "output_type": "execute_result",
          "data": {
            "text/plain": [
              "(1000,\n",
              " tensor([12382, 10826, 20070, 40629, 44540, 35142, 35700, 47452, 27771, 56203]),\n",
              " tensor([31785, 13673, 19403, 13490, 10607, 48755, 58183,  2763, 14662, 30383]))"
            ]
          },
          "metadata": {},
          "execution_count": 9
        }
      ]
    },
    {
      "cell_type": "code",
      "source": [
        "type(dataset_train)"
      ],
      "metadata": {
        "colab": {
          "base_uri": "https://localhost:8080/"
        },
        "id": "dr5Z73fGkHAm",
        "outputId": "b3acdd2e-f16a-4a13-d1a9-b47f9fef73b8"
      },
      "execution_count": 10,
      "outputs": [
        {
          "output_type": "execute_result",
          "data": {
            "text/plain": [
              "torch.utils.data.dataset.Subset"
            ]
          },
          "metadata": {},
          "execution_count": 10
        }
      ]
    },
    {
      "cell_type": "code",
      "source": [
        "dataset_train.dataset.data.shape"
      ],
      "metadata": {
        "colab": {
          "base_uri": "https://localhost:8080/"
        },
        "id": "mG28a_E9lqR0",
        "outputId": "fd7022a4-8fb5-4d90-bdad-9ae191373e5b"
      },
      "execution_count": 11,
      "outputs": [
        {
          "output_type": "execute_result",
          "data": {
            "text/plain": [
              "torch.Size([60000, 28, 28])"
            ]
          },
          "metadata": {},
          "execution_count": 11
        }
      ]
    },
    {
      "cell_type": "code",
      "source": [
        "dataset_train.indices[:10]"
      ],
      "metadata": {
        "colab": {
          "base_uri": "https://localhost:8080/"
        },
        "id": "wDJFqdbcmoUT",
        "outputId": "0f08137a-88d7-4400-bf95-7dd5ff9c82ee"
      },
      "execution_count": 12,
      "outputs": [
        {
          "output_type": "execute_result",
          "data": {
            "text/plain": [
              "tensor([12382, 10826, 20070, 40629, 44540, 35142, 35700, 47452, 27771, 56203])"
            ]
          },
          "metadata": {},
          "execution_count": 12
        }
      ]
    },
    {
      "cell_type": "code",
      "source": [
        "dataset_train.dataset.data[12382].shape"
      ],
      "metadata": {
        "colab": {
          "base_uri": "https://localhost:8080/"
        },
        "id": "VROC6Sdbm0Y5",
        "outputId": "546fb078-1b01-40bb-e5f6-4d7bee089fd1"
      },
      "execution_count": 13,
      "outputs": [
        {
          "output_type": "execute_result",
          "data": {
            "text/plain": [
              "torch.Size([28, 28])"
            ]
          },
          "metadata": {},
          "execution_count": 13
        }
      ]
    },
    {
      "cell_type": "code",
      "source": [
        "tuple(dataset_train.dataset.data[12382].shape)"
      ],
      "metadata": {
        "colab": {
          "base_uri": "https://localhost:8080/"
        },
        "id": "L4PtmAbCy1bQ",
        "outputId": "126823d2-b475-497d-f0a5-21e94a27525f"
      },
      "execution_count": 14,
      "outputs": [
        {
          "output_type": "execute_result",
          "data": {
            "text/plain": [
              "(28, 28)"
            ]
          },
          "metadata": {},
          "execution_count": 14
        }
      ]
    },
    {
      "cell_type": "code",
      "source": [
        "tuple(dataset_train.dataset.data[12382].shape)[0]"
      ],
      "metadata": {
        "colab": {
          "base_uri": "https://localhost:8080/"
        },
        "id": "T9vf0TFQzRRx",
        "outputId": "c8fc724d-bc0f-41f9-857d-e717ba7ab04d"
      },
      "execution_count": 15,
      "outputs": [
        {
          "output_type": "execute_result",
          "data": {
            "text/plain": [
              "28"
            ]
          },
          "metadata": {},
          "execution_count": 15
        }
      ]
    },
    {
      "cell_type": "code",
      "source": [
        "dataset_train.dataset.data[12382][:2,:]"
      ],
      "metadata": {
        "colab": {
          "base_uri": "https://localhost:8080/"
        },
        "id": "3_AeUYinodqB",
        "outputId": "dc365adc-2904-4b94-90ba-b998d98262fa"
      },
      "execution_count": 16,
      "outputs": [
        {
          "output_type": "execute_result",
          "data": {
            "text/plain": [
              "tensor([[0, 0, 0, 0, 0, 0, 0, 0, 0, 0, 0, 0, 0, 0, 0, 0, 0, 0, 0, 0, 0, 0, 0, 0,\n",
              "         0, 0, 0, 0],\n",
              "        [0, 0, 0, 0, 0, 0, 0, 0, 0, 0, 0, 0, 0, 0, 0, 0, 0, 0, 0, 0, 0, 0, 0, 0,\n",
              "         0, 0, 0, 0]], dtype=torch.uint8)"
            ]
          },
          "metadata": {},
          "execution_count": 16
        }
      ]
    },
    {
      "cell_type": "code",
      "source": [
        "dataset_train.dataset.targets.shape, dataset_train.dataset.targets[12382]"
      ],
      "metadata": {
        "colab": {
          "base_uri": "https://localhost:8080/"
        },
        "id": "sbE83njjnKg6",
        "outputId": "2fd11ff8-442b-48ff-c798-a62110ba85d1"
      },
      "execution_count": 17,
      "outputs": [
        {
          "output_type": "execute_result",
          "data": {
            "text/plain": [
              "(torch.Size([60000]), tensor(1))"
            ]
          },
          "metadata": {},
          "execution_count": 17
        }
      ]
    },
    {
      "cell_type": "code",
      "source": [
        "dataset_train.indices[10:15]"
      ],
      "metadata": {
        "colab": {
          "base_uri": "https://localhost:8080/"
        },
        "id": "rsNqx81i0Abb",
        "outputId": "f06baa86-3ed6-430e-dec2-227e21622174"
      },
      "execution_count": 18,
      "outputs": [
        {
          "output_type": "execute_result",
          "data": {
            "text/plain": [
              "tensor([11341, 48038, 52806, 29207, 27788])"
            ]
          },
          "metadata": {},
          "execution_count": 18
        }
      ]
    },
    {
      "cell_type": "code",
      "source": [
        "print(len(dataset_train))"
      ],
      "metadata": {
        "colab": {
          "base_uri": "https://localhost:8080/"
        },
        "id": "hbcwsKNFnj-W",
        "outputId": "31bc0497-2b1f-4476-95ef-d957f4151561"
      },
      "execution_count": 19,
      "outputs": [
        {
          "output_type": "stream",
          "name": "stdout",
          "text": [
            "1000\n"
          ]
        }
      ]
    },
    {
      "cell_type": "code",
      "source": [
        "dataset_train[0][1]"
      ],
      "metadata": {
        "colab": {
          "base_uri": "https://localhost:8080/"
        },
        "id": "4QND234InpJR",
        "outputId": "95a93b9d-0698-4b26-9f37-1039ba86eb2a"
      },
      "execution_count": 20,
      "outputs": [
        {
          "output_type": "execute_result",
          "data": {
            "text/plain": [
              "1"
            ]
          },
          "metadata": {},
          "execution_count": 20
        }
      ]
    },
    {
      "cell_type": "code",
      "source": [
        "dataset_train[0][0].shape"
      ],
      "metadata": {
        "colab": {
          "base_uri": "https://localhost:8080/"
        },
        "id": "frNv1ktPomlZ",
        "outputId": "d57be837-736f-44bd-c2a1-f14fd0d29ac7"
      },
      "execution_count": 21,
      "outputs": [
        {
          "output_type": "execute_result",
          "data": {
            "text/plain": [
              "torch.Size([1, 28, 28])"
            ]
          },
          "metadata": {},
          "execution_count": 21
        }
      ]
    },
    {
      "cell_type": "code",
      "source": [
        "dataset_train[0][0][0][:2,:]"
      ],
      "metadata": {
        "colab": {
          "base_uri": "https://localhost:8080/"
        },
        "id": "uciPSCQJox3h",
        "outputId": "a2a2d14c-9954-4da4-f100-6382d1a30b4a"
      },
      "execution_count": 22,
      "outputs": [
        {
          "output_type": "execute_result",
          "data": {
            "text/plain": [
              "tensor([[0., 0., 0., 0., 0., 0., 0., 0., 0., 0., 0., 0., 0., 0., 0., 0., 0., 0., 0., 0., 0., 0., 0., 0.,\n",
              "         0., 0., 0., 0.],\n",
              "        [0., 0., 0., 0., 0., 0., 0., 0., 0., 0., 0., 0., 0., 0., 0., 0., 0., 0., 0., 0., 0., 0., 0., 0.,\n",
              "         0., 0., 0., 0.]])"
            ]
          },
          "metadata": {},
          "execution_count": 22
        }
      ]
    },
    {
      "cell_type": "code",
      "source": [
        "data, label = dataset_train[0]"
      ],
      "metadata": {
        "id": "Zq3d_9FKxhbb"
      },
      "execution_count": 23,
      "outputs": []
    },
    {
      "cell_type": "code",
      "source": [
        "data.shape, label"
      ],
      "metadata": {
        "colab": {
          "base_uri": "https://localhost:8080/"
        },
        "id": "y2dIdaGn0auY",
        "outputId": "8d338c59-749a-4c22-a394-4f671dbed9d8"
      },
      "execution_count": 24,
      "outputs": [
        {
          "output_type": "execute_result",
          "data": {
            "text/plain": [
              "(torch.Size([1, 28, 28]), 1)"
            ]
          },
          "metadata": {},
          "execution_count": 24
        }
      ]
    },
    {
      "cell_type": "code",
      "source": [
        "type(data)"
      ],
      "metadata": {
        "colab": {
          "base_uri": "https://localhost:8080/"
        },
        "id": "GYB1VqaS5oxM",
        "outputId": "13f8019c-4243-47f7-f454-c70acb3f90a5"
      },
      "execution_count": 25,
      "outputs": [
        {
          "output_type": "execute_result",
          "data": {
            "text/plain": [
              "torch.Tensor"
            ]
          },
          "metadata": {},
          "execution_count": 25
        }
      ]
    },
    {
      "cell_type": "code",
      "metadata": {
        "id": "aSNLD2JyA2e-"
      },
      "source": [
        "# Escreva aqui o equivalente do código abaixo:\n",
        "# loader_train = torch.utils.data.DataLoader(dataset_train, batch_size=batch_size, shuffle=False)"
      ],
      "execution_count": 26,
      "outputs": []
    },
    {
      "cell_type": "code",
      "source": [
        "class MeuDataLoader():\n",
        "\n",
        "  def __init__(self, subdataset:torch.utils.data.dataset.Subset, batch_size:int=batch_size, shuffle:bool=False, verbose:bool=False):\n",
        "    self.subdataset = subdataset\n",
        "    self.batch_size = batch_size\n",
        "    self.shuffle = shuffle\n",
        "    self.verbose = verbose\n",
        "    self.posicao_leitura = 0\n",
        "    self.tamanho = math.ceil(len(dataset_train)/self.batch_size)\n",
        "    self.image_size = tuple(self.subdataset.dataset.data[0].shape)\n",
        "    if self.verbose:\n",
        "      print(f\"Inicializado MeuDataLoader batch_size: {self.batch_size} shuffle: {self.shuffle}  image_size: {self.image_size} tamanho: {self.tamanho} \")\n",
        "\n",
        "  def __iter__(self):\n",
        "      self.posicao_leitura = 0\n",
        "      return self\n",
        "\n",
        "  def __next__(self):\n",
        "    # peguei dica em https://discuss.pytorch.org/t/batch-sample-from-the-dataset/42461/2 \n",
        "    if self.verbose: print(f\" next self.posicao_leitura: {self.posicao_leitura} self.posicao_leitura+self.batch_size: {self.posicao_leitura + self.batch_size} self.tamanho*self.batch_size: {self.tamanho *  self.batch_size}\")\n",
        "    if (self.posicao_leitura + self.batch_size) > (self.tamanho *  self.batch_size):\n",
        "      raise StopIteration()\n",
        "    batch_labels = torch.empty((self.batch_size, 1), dtype=int)    \n",
        "    batch_data = torch.empty((self.batch_size, self.image_size[0], self.image_size[1]), requires_grad=True)\n",
        "    if self.verbose:\n",
        "      print(f\"proximos {self.batch_size} a partir de {self.posicao_leitura}\")\n",
        "      print(f\"batch_labels.shape = {batch_labels.shape}\")\n",
        "      print(f\"batch_data.shape = {batch_data.shape}\")\n",
        "    batch_labels = None\n",
        "    batch_data = None      \n",
        "    for i, data_idx in enumerate(range(self.posicao_leitura, self.posicao_leitura + self.batch_size)):\n",
        "      if self.verbose and i in (0, batch_size-1):\n",
        "        print(f\"for - i:{i} data_idx:{data_idx}\")\n",
        "      data, label = self.subdataset[data_idx]\n",
        "      if i == 0:\n",
        "        batch_data = data\n",
        "        batch_labels = torch.tensor([label])\n",
        "      else:      \n",
        "        batch_data = torch.cat((batch_data, data))\n",
        "        batch_labels = torch.cat((batch_labels, torch.tensor([label])))\n",
        "      # batch_data[i] = data\n",
        "      # batch_labels[i] = label\n",
        "    self.posicao_leitura += self.batch_size\n",
        "    if self.verbose: print(f\" final next self.posicao_leitura: {self.posicao_leitura}\")\n",
        "    \n",
        "    return batch_data, batch_labels\n",
        "\n",
        "  def __len__(self):\n",
        "    return self.tamanho"
      ],
      "metadata": {
        "id": "UCiNEd9F1eSp"
      },
      "execution_count": 27,
      "outputs": []
    },
    {
      "cell_type": "code",
      "source": [
        "loader_train = MeuDataLoader(dataset_train, batch_size=batch_size, shuffle=False, verbose=True)\n"
      ],
      "metadata": {
        "colab": {
          "base_uri": "https://localhost:8080/"
        },
        "id": "pmIBfXjhpcQQ",
        "outputId": "3c988ea9-a399-4ff8-9a54-0f4b523396d0"
      },
      "execution_count": 28,
      "outputs": [
        {
          "output_type": "stream",
          "name": "stdout",
          "text": [
            "Inicializado MeuDataLoader batch_size: 50 shuffle: False  image_size: (28, 28) tamanho: 20 \n"
          ]
        }
      ]
    },
    {
      "cell_type": "code",
      "metadata": {
        "ExecuteTime": {
          "end_time": "2018-08-21T13:30:35.209157Z",
          "start_time": "2018-08-21T13:30:34.757103Z"
        },
        "id": "w52KGYlIQT2A",
        "colab": {
          "base_uri": "https://localhost:8080/"
        },
        "outputId": "06bf828a-be38-48bc-f12a-75ba1e8b7cde"
      },
      "source": [
        "print('Número de minibatches de trenamento:', len(loader_train))\n"
      ],
      "execution_count": 29,
      "outputs": [
        {
          "output_type": "stream",
          "name": "stdout",
          "text": [
            "Número de minibatches de trenamento: 20\n"
          ]
        }
      ]
    },
    {
      "cell_type": "code",
      "source": [
        "x_train, y_train = next(iter(loader_train))"
      ],
      "metadata": {
        "colab": {
          "base_uri": "https://localhost:8080/"
        },
        "id": "qwaP9uWYqWa4",
        "outputId": "10af2456-3314-4334-c54b-d5d26e8c3154"
      },
      "execution_count": 30,
      "outputs": [
        {
          "output_type": "stream",
          "name": "stdout",
          "text": [
            " next self.posicao_leitura: 0 self.posicao_leitura+self.batch_size: 50 self.tamanho*self.batch_size: 1000\n",
            "proximos 50 a partir de 0\n",
            "batch_labels.shape = torch.Size([50, 1])\n",
            "batch_data.shape = torch.Size([50, 28, 28])\n",
            "for - i:0 data_idx:0\n",
            "for - i:49 data_idx:49\n",
            " final next self.posicao_leitura: 50\n"
          ]
        }
      ]
    },
    {
      "cell_type": "code",
      "source": [
        "print(f\"\\nDimensões dos dados de um minibatch: x_train.size() {x_train.size()} y_train.size() {y_train.size()} \")\n",
        "print(\"Valores mínimo e máximo dos pixels: \", torch.min(x_train), torch.max(x_train))\n",
        "print(\"Tipo dos dados das imagens:         \", type(x_train))\n",
        "print(\"Tipo das classes das imagens:       \", type(y_train))"
      ],
      "metadata": {
        "colab": {
          "base_uri": "https://localhost:8080/"
        },
        "id": "KLj0Sp0HDCNc",
        "outputId": "9e86870e-1b65-426d-8193-d9da79c5b03f"
      },
      "execution_count": 31,
      "outputs": [
        {
          "output_type": "stream",
          "name": "stdout",
          "text": [
            "\n",
            "Dimensões dos dados de um minibatch: x_train.size() torch.Size([50, 28, 28]) y_train.size() torch.Size([50]) \n",
            "Valores mínimo e máximo dos pixels:  tensor(0.) tensor(1.)\n",
            "Tipo dos dados das imagens:          <class 'torch.Tensor'>\n",
            "Tipo das classes das imagens:        <class 'torch.Tensor'>\n"
          ]
        }
      ]
    },
    {
      "cell_type": "code",
      "source": [
        "for tt in y_train:\n",
        "  print(tt.item())\n",
        "  break"
      ],
      "metadata": {
        "colab": {
          "base_uri": "https://localhost:8080/"
        },
        "id": "fGUs2FccQj3E",
        "outputId": "32e88013-f026-4924-cf61-fd7c36166ca3"
      },
      "execution_count": 32,
      "outputs": [
        {
          "output_type": "stream",
          "name": "stdout",
          "text": [
            "1\n"
          ]
        }
      ]
    },
    {
      "cell_type": "markdown",
      "metadata": {
        "id": "BQA9Zg7GQT2G"
      },
      "source": [
        "## Modelo"
      ]
    },
    {
      "cell_type": "code",
      "metadata": {
        "ExecuteTime": {
          "end_time": "2018-08-20T21:03:10.802708Z",
          "start_time": "2018-08-20T21:03:10.793287Z"
        },
        "id": "_8Eg4h_kQT2H"
      },
      "source": [
        "# Escreva aqui o codigo para criar um modelo cujo o equivalente é: \n",
        "# model = torch.nn.Linear(28*28, 10)\n",
        "# model.load_state_dict(dict(weight=torch.zeros(model.weight.shape), bias=torch.zeros(model.bias.shape)))"
      ],
      "execution_count": 33,
      "outputs": []
    },
    {
      "cell_type": "code",
      "source": [
        "  device = torch.device('cuda:0' if torch.cuda.is_available() else 'cpu')\n",
        "  if torch.cuda.is_available(): print(torch. cuda. get_device_name(device))  "
      ],
      "metadata": {
        "id": "1pXK-HIukyqj"
      },
      "execution_count": 34,
      "outputs": []
    },
    {
      "cell_type": "code",
      "source": [
        "class MeuLinear(): \n",
        "  def __init__(self, num_entrada:int, num_saida:int):\n",
        "    # inicializando com zeros\n",
        "    # como em model.load_state_dict(dict(weight=torch.zeros(model.weight.shape), bias=torch.zeros(model.bias.shape)))\n",
        "    # super().__init__()\n",
        "    self.pesos = torch.zeros((num_entrada, num_saida), requires_grad=True) # .to(device)\n",
        "    self.bias = torch.zeros((1, num_saida), requires_grad=True) # .to(device)\n",
        "    #torch.nn.init.kaiming_uniform_(self.pesos, a=math.sqrt(5))\n",
        "    #torch.nn.init.kaiming_uniform_(self.bias, a=math.sqrt(5))\n",
        "  \n",
        "  def __call__(self, entrada:torch.Tensor):\n",
        "    return torch.mm(entrada, self.pesos) + self.bias  \n",
        "  \n",
        "  def parameters(self)->list:\n",
        "    return [self.pesos, self.bias]"
      ],
      "metadata": {
        "id": "FbQPB2i74F6c"
      },
      "execution_count": 35,
      "outputs": []
    },
    {
      "cell_type": "markdown",
      "metadata": {
        "id": "0NHQB4wGQT2K"
      },
      "source": [
        "## Treinamento"
      ]
    },
    {
      "cell_type": "markdown",
      "metadata": {
        "id": "tGeMCRw5kQMU"
      },
      "source": [
        "## Definição da Loss\n",
        "\n"
      ]
    },
    {
      "cell_type": "markdown",
      "source": [
        "![image.png](data:image/png;base64,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)"
      ],
      "metadata": {
        "id": "m1I1VwnA7Bez"
      }
    },
    {
      "cell_type": "code",
      "source": [
        "class MinhaCrossEntropyLoss():\n",
        "  \"\"\"\n",
        "  Exemplos\n",
        "   classes_reais: y_train: tensor([[1],[3],[1],...])\n",
        "   logitos_classes_previstas: tensor([[0., 0., 0., 0., 0., 0., 0., 0., 0., 0.],\n",
        "                                      [0., 0., 0., 0., 0., 0., 0., 0., 0., 0.],\n",
        "                                      (...)\n",
        "                                      [0., 0., 0., 0., 0., 0., 0., 0., 0., 0.]], grad_fn=<AddBackward0>)                                     \n",
        "  \"\"\"\n",
        "  def __init__(self, verbose:bool=False):\n",
        "    self.verbose = verbose\n",
        "\n",
        "  def __call__(self, logitos_classes_previstas:torch.Tensor, classes_reais:torch.Tensor):\n",
        "    assert logitos_classes_previstas.shape[0] == classes_reais.shape[0], f\"Número de registros (dimensão 0) não batem logitos_classes_previstas.shape: {logitos_classes_previstas.shape} e classes_reais.shape: {classes_reais.shape} \"  \n",
        "    #calculo de softmax por amostra\n",
        "    # softmax_sobre_logitos_classes_previstas_por_amostra = f.softmax(logitos_classes_previstas,1)\n",
        "    #calculo de exp(z) \n",
        "    exp_logitos = torch.exp(logitos_classes_previstas)\n",
        "    if self.verbose: print(f\"exp_logitos[:3]: {exp_logitos[:3]}\")\n",
        "    soma_exp_logitos = exp_logitos.sum(dim=1)\n",
        "    if self.verbose: print(f\"soma_exp_logitos[:3]: {soma_exp_logitos[:3]}\")\n",
        "    log_soma_exp_logitos = torch.log(soma_exp_logitos)\n",
        "    if self.verbose: print(f\"log_soma_exp_logitos[:3]: {log_soma_exp_logitos[:3]} log_soma_exp_logitos.shape: {log_soma_exp_logitos.shape}\")\n",
        "\n",
        "    logito_classe_prevista = logitos_classes_previstas.gather(dim=1, index= classes_reais.unsqueeze(dim=1))\n",
        "    logito_classe_prevista = logito_classe_prevista.squeeze(dim=1)\n",
        "    if self.verbose: print(f\"logito_classe_prevista[:3]: {logito_classe_prevista[:3]} logito_classe_prevista.shape: {logito_classe_prevista.shape}\")\n",
        "\n",
        "\n",
        "    loss_por_amostra = -logito_classe_prevista + log_soma_exp_logitos\n",
        "    if self.verbose: print(f\"loss_por_amostra[:3]: {loss_por_amostra[:3]} loss_por_amostra.shape: {loss_por_amostra.shape}\")\n",
        "\n",
        "    loss = torch.mean(loss_por_amostra)\n",
        "    if self.verbose: print(f\"loss: {loss}  loss.shape: {loss.shape}\")\n",
        "\n",
        "    return loss"
      ],
      "metadata": {
        "id": "j0sfm74ubPWq"
      },
      "execution_count": 36,
      "outputs": []
    },
    {
      "cell_type": "markdown",
      "source": [
        "# Definição do Optimizer"
      ],
      "metadata": {
        "id": "01BDueU2x4ox"
      }
    },
    {
      "cell_type": "code",
      "source": [
        "# Escreva aqui o equivalente de:\n",
        "# optimizer = torch.optim.SGD(model.parameters(), lr)\n",
        "\n",
        "class MeuOtimizadorSGD():\n",
        "  def __init__(self, lista_parametros:list, lr:float, verbose:bool=False):\n",
        "    self.lista_parametros=lista_parametros\n",
        "    self.lr = lr\n",
        "    self.verbose = verbose\n",
        "    print(f\"iniciando MeuOtimizadorSGD self.lr {self.lr} self.lista_parametros:{self.lista_parametros} \")\n",
        "\n",
        "  def step(self):\n",
        "    for parameter in self.lista_parametros:\n",
        "      if self.verbose: print(f\":: step - antes parameter.data.sum(): {parameter.data.sum()}, parameter.grad.sum(): {parameter.grad.sum()}\")\n",
        "      parameter.data = parameter.data - self.lr * parameter.grad\n",
        "      if self.verbose: print(f\":: step - depois parameter.data.sum(): {parameter.data.sum()}, parameter.grad.sum(): {parameter.grad.sum()}\")\n",
        "  \n",
        "  def zero_grad(self):\n",
        "    for parameter in self.lista_parametros:\n",
        "      # if self.verbose: print(f\"parameter: {parameter}, parameter.grad.sum(): {parameter.grad.sum()} :: zero_grad\")\n",
        "      parameter.grad = torch.zeros_like(parameter.data)"
      ],
      "metadata": {
        "id": "lyzk0mYcWAFZ"
      },
      "execution_count": 37,
      "outputs": []
    },
    {
      "cell_type": "markdown",
      "metadata": {
        "id": "pmXarXeIQT2O"
      },
      "source": [
        "### Laço de treinamento dos parâmetros"
      ]
    },
    {
      "cell_type": "markdown",
      "metadata": {
        "id": "nqs2JhJoQT2L"
      },
      "source": [
        "### Inicialização dos parâmetros"
      ]
    },
    {
      "cell_type": "code",
      "source": [
        "model = MeuLinear(28*28,10)\n"
      ],
      "metadata": {
        "id": "nuiLdOvbX2wV"
      },
      "execution_count": 38,
      "outputs": []
    },
    {
      "cell_type": "code",
      "source": [
        "loader_train = MeuDataLoader(dataset_train, batch_size=batch_size, shuffle=False, verbose=False)"
      ],
      "metadata": {
        "id": "Y0o5EL_6YGaV"
      },
      "execution_count": 39,
      "outputs": []
    },
    {
      "cell_type": "code",
      "metadata": {
        "id": "XcqFzpSTkYtk"
      },
      "source": [
        "criterion = MinhaCrossEntropyLoss(verbose=False)\n",
        "# criterion = CrossEntropyLoss()"
      ],
      "execution_count": 40,
      "outputs": []
    },
    {
      "cell_type": "code",
      "metadata": {
        "ExecuteTime": {
          "end_time": "2018-08-20T21:03:14.146259Z",
          "start_time": "2018-08-20T21:03:14.139515Z"
        },
        "id": "oZuYEkn_QT2M"
      },
      "source": [
        "n_epochs = 50\n",
        "lr = 0.1"
      ],
      "execution_count": 41,
      "outputs": []
    },
    {
      "cell_type": "code",
      "source": [
        "optimizer = MeuOtimizadorSGD(model.parameters(), lr, verbose=False)\n"
      ],
      "metadata": {
        "colab": {
          "base_uri": "https://localhost:8080/"
        },
        "id": "1Cy0VZzFkZGs",
        "outputId": "378950f6-18f0-4d2f-8397-94cc0b4f208c"
      },
      "execution_count": 42,
      "outputs": [
        {
          "output_type": "stream",
          "name": "stdout",
          "text": [
            "iniciando MeuOtimizadorSGD self.lr 0.1 self.lista_parametros:[tensor([[0., 0., 0.,  ..., 0., 0., 0.],\n",
            "        [0., 0., 0.,  ..., 0., 0., 0.],\n",
            "        [0., 0., 0.,  ..., 0., 0., 0.],\n",
            "        ...,\n",
            "        [0., 0., 0.,  ..., 0., 0., 0.],\n",
            "        [0., 0., 0.,  ..., 0., 0., 0.],\n",
            "        [0., 0., 0.,  ..., 0., 0., 0.]], requires_grad=True), tensor([[0., 0., 0., 0., 0., 0., 0., 0., 0., 0.]], requires_grad=True)] \n"
          ]
        }
      ]
    },
    {
      "cell_type": "code",
      "source": [
        "epochs = []\n",
        "loss_history = []\n",
        "loss_epoch_end = []\n",
        "total_trained_samples = 0"
      ],
      "metadata": {
        "id": "2TEbz7XOY4JM"
      },
      "execution_count": 43,
      "outputs": []
    },
    {
      "cell_type": "code",
      "source": [
        "for i in range(n_epochs):\n",
        "    # Substitua aqui o loader_train de acordo com sua implementação do dataloader.\n",
        "    for ndx, (x_train, y_train) in enumerate(loader_train):\n",
        "        # Transforma a entrada para uma dimensão \n",
        "        # De   torch.Size([50, 28, 28])\n",
        "        # para torch.Size([50, 784])\n",
        "\n",
        "        # x = x_train.to(device)\n",
        "        # y = y_train.to(device)\n",
        "        inputs = x_train.view(-1, 28 * 28)\n",
        "        \n",
        "        # predict da rede\n",
        "        outputs = model(inputs)\n",
        "        # print(f\"\\nndx {ndx} outputs[:3] previstos: {outputs[:3]}\")\n",
        "        # print(f\"y_train[:3]: {y_train[:3]}\")\n",
        "        \n",
        "        # calcula a perda\n",
        "        loss = criterion(outputs, y_train)\n",
        "        # print(f\"loss: {loss}\")\n",
        "        # zero, backpropagation, ajusta parâmetros pelo gradiente descendente\n",
        "        # Escreva aqui o código cujo o resultado é equivalente às 3 linhas abaixo:\n",
        "        # zera os gradientes do passo anterior\n",
        "        optimizer.zero_grad()\n",
        "        loss.backward()\n",
        "        optimizer.step()\n",
        "\n",
        "        total_trained_samples += x_train.size(0)\n",
        "        epochs.append(total_trained_samples / len(dataset_train))\n",
        "        loss_history.append(loss.item())\n",
        "    loss_epoch_end.append(loss.item())\n",
        "    print(f'Epoch: {i:d}/{n_epochs - 1:d} Loss: {loss.item()}')\n"
      ],
      "metadata": {
        "colab": {
          "base_uri": "https://localhost:8080/"
        },
        "id": "cwV_pD0F66Jy",
        "outputId": "75fbc556-5ccb-4acd-f92d-2c01f6757f35"
      },
      "execution_count": 44,
      "outputs": [
        {
          "output_type": "stream",
          "name": "stdout",
          "text": [
            "Epoch: 0/49 Loss: 1.1979684829711914\n",
            "Epoch: 1/49 Loss: 0.867622971534729\n",
            "Epoch: 2/49 Loss: 0.7226786613464355\n",
            "Epoch: 3/49 Loss: 0.6381281018257141\n",
            "Epoch: 4/49 Loss: 0.5809750556945801\n",
            "Epoch: 5/49 Loss: 0.5387411713600159\n",
            "Epoch: 6/49 Loss: 0.5056463479995728\n",
            "Epoch: 7/49 Loss: 0.47862708568573\n",
            "Epoch: 8/49 Loss: 0.4558936655521393\n",
            "Epoch: 9/49 Loss: 0.4363219141960144\n",
            "Epoch: 10/49 Loss: 0.4191650152206421\n",
            "Epoch: 11/49 Loss: 0.403904527425766\n",
            "Epoch: 12/49 Loss: 0.39016804099082947\n",
            "Epoch: 13/49 Loss: 0.3776799738407135\n",
            "Epoch: 14/49 Loss: 0.3662315011024475\n",
            "Epoch: 15/49 Loss: 0.35566142201423645\n",
            "Epoch: 16/49 Loss: 0.34584280848503113\n",
            "Epoch: 17/49 Loss: 0.33667415380477905\n",
            "Epoch: 18/49 Loss: 0.3280735909938812\n",
            "Epoch: 19/49 Loss: 0.31997358798980713\n",
            "Epoch: 20/49 Loss: 0.3123184144496918\n",
            "Epoch: 21/49 Loss: 0.30506110191345215\n",
            "Epoch: 22/49 Loss: 0.2981624901294708\n",
            "Epoch: 23/49 Loss: 0.29158854484558105\n",
            "Epoch: 24/49 Loss: 0.2853103280067444\n",
            "Epoch: 25/49 Loss: 0.27930304408073425\n",
            "Epoch: 26/49 Loss: 0.2735445499420166\n",
            "Epoch: 27/49 Loss: 0.2680158317089081\n",
            "Epoch: 28/49 Loss: 0.26270005106925964\n",
            "Epoch: 29/49 Loss: 0.2575823664665222\n",
            "Epoch: 30/49 Loss: 0.25264933705329895\n",
            "Epoch: 31/49 Loss: 0.24788936972618103\n",
            "Epoch: 32/49 Loss: 0.24329166114330292\n",
            "Epoch: 33/49 Loss: 0.23884664475917816\n",
            "Epoch: 34/49 Loss: 0.23454585671424866\n",
            "Epoch: 35/49 Loss: 0.23038141429424286\n",
            "Epoch: 36/49 Loss: 0.22634631395339966\n",
            "Epoch: 37/49 Loss: 0.22243395447731018\n",
            "Epoch: 38/49 Loss: 0.2186385691165924\n",
            "Epoch: 39/49 Loss: 0.21495485305786133\n",
            "Epoch: 40/49 Loss: 0.21137763559818268\n",
            "Epoch: 41/49 Loss: 0.20790255069732666\n",
            "Epoch: 42/49 Loss: 0.20452527701854706\n",
            "Epoch: 43/49 Loss: 0.20124195516109467\n",
            "Epoch: 44/49 Loss: 0.19804900884628296\n",
            "Epoch: 45/49 Loss: 0.19494293630123138\n",
            "Epoch: 46/49 Loss: 0.1919206976890564\n",
            "Epoch: 47/49 Loss: 0.1889793425798416\n",
            "Epoch: 48/49 Loss: 0.1861160844564438\n",
            "Epoch: 49/49 Loss: 0.1833283007144928\n"
          ]
        }
      ]
    },
    {
      "cell_type": "markdown",
      "metadata": {
        "id": "1dYK0nqsQT2U"
      },
      "source": [
        "### Visualizando gráfico de perda durante o treinamento"
      ]
    },
    {
      "cell_type": "code",
      "metadata": {
        "ExecuteTime": {
          "end_time": "2018-08-20T21:03:52.026752Z",
          "start_time": "2018-08-20T21:03:51.756518Z"
        },
        "id": "LIyUI6AHQT2V",
        "colab": {
          "base_uri": "https://localhost:8080/",
          "height": 298
        },
        "outputId": "4da7d492-341c-4bc1-f2dc-6c0a0c82c2f3"
      },
      "source": [
        "plt.plot(epochs, loss_history)\n",
        "plt.xlabel('época')"
      ],
      "execution_count": 45,
      "outputs": [
        {
          "output_type": "execute_result",
          "data": {
            "text/plain": [
              "Text(0.5, 0, 'época')"
            ]
          },
          "metadata": {},
          "execution_count": 45
        },
        {
          "output_type": "display_data",
          "data": {
            "text/plain": [
              "<Figure size 432x288 with 1 Axes>"
            ],
            "image/png": "[encoded data removed]"
          },
          "metadata": {
            "needs_background": "light"
          }
        }
      ]
    },
    {
      "cell_type": "markdown",
      "metadata": {
        "id": "rLL-GQlKQT2Y"
      },
      "source": [
        "### Visualização usual da perda, somente no final de cada minibatch"
      ]
    },
    {
      "cell_type": "code",
      "metadata": {
        "ExecuteTime": {
          "end_time": "2018-08-20T21:03:55.246851Z",
          "start_time": "2018-08-20T21:03:54.994428Z"
        },
        "id": "w38EtNxhQT2Z",
        "colab": {
          "base_uri": "https://localhost:8080/",
          "height": 298
        },
        "outputId": "040b48dc-7297-4c5c-85af-0190eeb08bde"
      },
      "source": [
        "n_batches_train = len(loader_train)\n",
        "plt.plot(epochs[::n_batches_train], loss_history[::n_batches_train])\n",
        "plt.xlabel('época')"
      ],
      "execution_count": 46,
      "outputs": [
        {
          "output_type": "execute_result",
          "data": {
            "text/plain": [
              "Text(0.5, 0, 'época')"
            ]
          },
          "metadata": {},
          "execution_count": 46
        },
        {
          "output_type": "display_data",
          "data": {
            "text/plain": [
              "<Figure size 432x288 with 1 Axes>"
            ],
            "image/png": "[encoded data removed]"
          },
          "metadata": {
            "needs_background": "light"
          }
        }
      ]
    },
    {
      "cell_type": "code",
      "metadata": {
        "ExecuteTime": {
          "end_time": "2018-08-20T21:03:48.786969Z",
          "start_time": "2018-08-20T21:03:48.781787Z"
        },
        "id": "PiuMsjYtQT2R"
      },
      "source": [
        "# Assert do histórico de losses\n",
        "target_loss_epoch_end = np.array([\n",
        "    1.1979684829711914,\n",
        "    0.867622971534729,\n",
        "    0.7226786613464355,\n",
        "    0.6381281018257141,\n",
        "    0.5809749960899353,\n",
        "    0.5387411713600159,\n",
        "    0.5056464076042175,\n",
        "    0.4786270558834076,\n",
        "    0.4558936357498169,\n",
        "    0.4363219141960144,\n",
        "    0.4191650450229645,\n",
        "    0.4039044976234436,\n",
        "    0.3901679515838623,\n",
        "    0.3776799440383911,\n",
        "    0.3662314713001251,\n",
        "    0.35566139221191406,\n",
        "    0.34584277868270874,\n",
        "    0.33667415380477905,\n",
        "    0.32807353138923645,\n",
        "    0.31997355818748474,\n",
        "    0.312318354845047,\n",
        "    0.3050611615180969,\n",
        "    0.29816246032714844,\n",
        "    0.29158851504325867,\n",
        "    0.28531041741371155,\n",
        "    0.2793029546737671,\n",
        "    0.273544579744339,\n",
        "    0.2680158317089081,\n",
        "    0.26270008087158203,\n",
        "    0.2575823664665222,\n",
        "    0.25264936685562134,\n",
        "    0.24788929522037506,\n",
        "    0.24329163134098053,\n",
        "    0.23884665966033936,\n",
        "    0.23454584181308746,\n",
        "    0.23038141429424286,\n",
        "    0.22634628415107727,\n",
        "    0.22243399918079376,\n",
        "    0.2186385989189148,\n",
        "    0.21495483815670013,\n",
        "    0.21137762069702148,\n",
        "    0.20790249109268188,\n",
        "    0.20452524721622467,\n",
        "    0.20124195516109467,\n",
        "    0.19804897904396057,\n",
        "    0.1949428766965866,\n",
        "    0.19192075729370117,\n",
        "    0.188979372382164,\n",
        "    0.18611609935760498,\n",
        "    0.1833282858133316])\n",
        "\n",
        "assert np.allclose(np.array(loss_epoch_end), target_loss_epoch_end, atol=1e-6)"
      ],
      "execution_count": 47,
      "outputs": []
    },
    {
      "cell_type": "markdown",
      "metadata": {
        "id": "fptnTktx_1rh"
      },
      "source": [
        "## Exercício \n",
        "\n",
        "Escreva um código que responda às seguintes perguntas:\n",
        "\n",
        "Qual é a amostra classificada corretamente, com maior probabilidade?\n",
        "\n",
        "Qual é a amostra classificada erradamente, com maior probabilidade?\n",
        "\n",
        "Qual é a amostra classificada corretamente, com menor probabilidade?\n",
        "\n",
        "Qual é a amostra classificada erradamente, com menor probabilidade?"
      ]
    },
    {
      "cell_type": "code",
      "source": [
        "from torch.nn import functional as f"
      ],
      "metadata": {
        "id": "ePADwheNCA__"
      },
      "execution_count": 48,
      "outputs": []
    },
    {
      "cell_type": "code",
      "metadata": {
        "id": "IzH8iMGt_1Rr"
      },
      "source": [
        "class AnaliseAmostra():\n",
        "  def __init__(self, logitos_classes_previstas, classes_reais, verbose:bool=False):\n",
        "    self.verbose = verbose\n",
        "    num_classes = logitos_classes_previstas.shape[-1]\n",
        "    num_amostras = logitos_classes_previstas.shape[0]\n",
        "    classes_reais_onehot = torch.eye(num_classes)[classes_reais] #.to(device)\n",
        "    #calculo de softmax por amostra\n",
        "    softmax_sobre_logitos_classes_previstas_por_amostra = f.softmax(logitos_classes_previstas,1)\n",
        "    if self.verbose: print(f\"classes_reais[:3]: {classes_reais[:3]}\")\n",
        "    if self.verbose: print(f\"classes_reais_onehot[:3]: {classes_reais_onehot[:3]}\")\n",
        "    if self.verbose: print(f\"softmax_sobre_logitos_classes_previstas_por_amostra[:3]: {softmax_sobre_logitos_classes_previstas_por_amostra[:3]}\")\n",
        "    (prob_classe_prevista, classe_prevista) = torch.topk(softmax_sobre_logitos_classes_previstas_por_amostra, 1)\n",
        "    # remover última dimensão: passar de [num_amostras, 1] para [num_amostras]\n",
        "    prob_classe_prevista = prob_classe_prevista.squeeze()\n",
        "    classe_prevista = classe_prevista.squeeze()    \n",
        "    if self.verbose: print(f\"prob_classe_prevista[:3]: {prob_classe_prevista[:3]}\")\n",
        "    if self.verbose: print(f\"classe_prevista[:3]: {classe_prevista[:3]}\")\n",
        "    acertou = classe_prevista == classes_reais\n",
        "    if self.verbose: print(f\"acertou[:3]: {acertou[:3]}\")\n",
        "    self.prob_acertos = torch.mul(acertou, prob_classe_prevista)\n",
        "    if self.verbose: print(f\"self.prob_acertos[:3]: {self.prob_acertos[:3]}\")\n",
        "    self.prob_erros = torch.mul(~acertou, prob_classe_prevista)\n",
        "    if self.verbose: print(f\"self.prob_erros[:3]: {self.prob_erros[:3]}\")\n",
        "\n",
        "  def corretas_com_mais_certeza(self, qtd_amostra:int):\n",
        "    \"\"\"\n",
        "    Retorna as amostras corretas com mais certeza \n",
        "       (maior probabilidade)\n",
        "    \"\"\"\n",
        "    (_, amostras) = torch.topk(self.prob_acertos, k=qtd_amostra, largest=True)\n",
        "    return amostras\n",
        "\n",
        "  def corretas_com_menos_certeza(self, qtd_amostra:int):\n",
        "    \"\"\"\n",
        "    Retorna as amostras corretas com menos certeza \n",
        "       (menor probabilidade)\n",
        "    \"\"\"\n",
        "    (_, amostras) = torch.topk(self.prob_acertos, k=qtd_amostra, largest=False)\n",
        "    return amostras\n",
        "\n",
        "  def incorretas_com_mais_certeza(self, qtd_amostra:int):\n",
        "    \"\"\"\n",
        "    Retorna as amostras incorretas com mais certeza \n",
        "       (maior probabilidade)\n",
        "    \"\"\"\n",
        "    (_, amostras) = torch.topk(self.prob_erros, k=qtd_amostra, largest=True)\n",
        "    return amostras\n",
        "\n",
        "  def incorretas_com_menos_certeza(self, qtd_amostra:int):\n",
        "    \"\"\"\n",
        "    Retorna as amostras incorretas com menos certeza \n",
        "       (menor probabilidade)\n",
        "    \"\"\"\n",
        "    (_, amostras) = torch.topk(self.prob_erros, k=qtd_amostra, largest=False)\n",
        "    return amostras\n"
      ],
      "execution_count": 49,
      "outputs": []
    },
    {
      "cell_type": "code",
      "metadata": {
        "ExecuteTime": {
          "end_time": "2018-08-21T14:10:45.430605Z",
          "start_time": "2018-08-21T14:10:04.953051Z"
        },
        "id": "4ZxSSIHA7i76"
      },
      "source": [
        "dataset_dir = '../data/'\n",
        "\n",
        "dataset_test_full = MNIST(dataset_dir, train=False, download=True,\n",
        "                           transform=torchvision.transforms.ToTensor())"
      ],
      "execution_count": 50,
      "outputs": []
    },
    {
      "cell_type": "code",
      "source": [
        "print(f\"dataset_test_full.data.shape: {dataset_test_full.data.shape}\")\n",
        "print(f\"dataset_test_full.targets.shape: {dataset_test_full.targets.shape}\")"
      ],
      "metadata": {
        "colab": {
          "base_uri": "https://localhost:8080/"
        },
        "outputId": "67c86c2f-6d3f-4a70-9c24-a59ac2c5d93e",
        "id": "DYVJegqE7i77"
      },
      "execution_count": 51,
      "outputs": [
        {
          "output_type": "stream",
          "name": "stdout",
          "text": [
            "dataset_test_full.data.shape: torch.Size([10000, 28, 28])\n",
            "dataset_test_full.targets.shape: torch.Size([10000])\n"
          ]
        }
      ]
    },
    {
      "cell_type": "code",
      "metadata": {
        "id": "5enGaJOy7i78"
      },
      "source": [
        "indices_test = torch.randperm(len(dataset_test_full))[:1000]\n",
        "dataset_test = torch.utils.data.Subset(dataset_test_full, indices_test)"
      ],
      "execution_count": 52,
      "outputs": []
    },
    {
      "cell_type": "code",
      "source": [
        "loader_test= MeuDataLoader(dataset_test, batch_size=1000, shuffle=False, verbose=False)"
      ],
      "metadata": {
        "id": "tX6cmlKV8QSS"
      },
      "execution_count": 53,
      "outputs": []
    },
    {
      "cell_type": "code",
      "source": [
        "x_test, y_test = next(iter(loader_test))\n"
      ],
      "metadata": {
        "id": "L1s-89hE74PC"
      },
      "execution_count": 54,
      "outputs": []
    },
    {
      "cell_type": "code",
      "source": [
        "y_predicted = model(x_test.view(-1, 28 * 28))"
      ],
      "metadata": {
        "id": "qLasTarj8eqh"
      },
      "execution_count": 55,
      "outputs": []
    },
    {
      "cell_type": "code",
      "source": [
        "analises = AnaliseAmostra(y_predicted, y_test, True)"
      ],
      "metadata": {
        "colab": {
          "base_uri": "https://localhost:8080/"
        },
        "id": "J09kKbpwEEDz",
        "outputId": "c233808e-b017-45da-8c34-f137d65bb1b3"
      },
      "execution_count": 56,
      "outputs": [
        {
          "output_type": "stream",
          "name": "stdout",
          "text": [
            "classes_reais[:3]: tensor([9, 0, 7])\n",
            "classes_reais_onehot[:3]: tensor([[0., 0., 0., 0., 0., 0., 0., 0., 0., 1.],\n",
            "        [1., 0., 0., 0., 0., 0., 0., 0., 0., 0.],\n",
            "        [0., 0., 0., 0., 0., 0., 0., 1., 0., 0.]])\n",
            "softmax_sobre_logitos_classes_previstas_por_amostra[:3]: tensor([[2.7218e-03, 7.6495e-03, 5.5742e-04, 1.0260e-01, 1.7772e-02, 7.0427e-02,\n",
            "         1.0841e-03, 1.1627e-01, 2.0709e-01, 4.7384e-01],\n",
            "        [5.3346e-01, 4.2376e-05, 9.9750e-03, 2.5265e-03, 1.3514e-03, 4.2603e-01,\n",
            "         2.2578e-02, 1.3803e-03, 7.4441e-04, 1.9094e-03],\n",
            "        [6.9601e-04, 1.2862e-04, 4.7398e-04, 3.3232e-04, 8.4474e-04, 4.0461e-03,\n",
            "         6.3532e-05, 8.4637e-01, 6.0794e-04, 1.4644e-01]],\n",
            "       grad_fn=<SliceBackward0>)\n",
            "prob_classe_prevista[:3]: tensor([0.4738, 0.5335, 0.8464], grad_fn=<SliceBackward0>)\n",
            "classe_prevista[:3]: tensor([9, 0, 7])\n",
            "acertou[:3]: tensor([True, True, True])\n",
            "self.prob_acertos[:3]: tensor([0.4738, 0.5335, 0.8464], grad_fn=<SliceBackward0>)\n",
            "self.prob_erros[:3]: tensor([0., 0., 0.], grad_fn=<SliceBackward0>)\n"
          ]
        }
      ]
    },
    {
      "cell_type": "code",
      "source": [
        "analises.corretas_com_mais_certeza(10)"
      ],
      "metadata": {
        "colab": {
          "base_uri": "https://localhost:8080/"
        },
        "id": "SXseSa_YPOlk",
        "outputId": "b20925d1-3b80-41fa-a17c-f7a05231cb41"
      },
      "execution_count": 57,
      "outputs": [
        {
          "output_type": "execute_result",
          "data": {
            "text/plain": [
              "tensor([177, 381, 337, 356, 179, 350, 210, 124, 615, 339])"
            ]
          },
          "metadata": {},
          "execution_count": 57
        }
      ]
    },
    {
      "cell_type": "code",
      "source": [
        "incorretas_com_mais_certeza = analises.incorretas_com_mais_certeza(10)\n",
        "incorretas_com_mais_certeza"
      ],
      "metadata": {
        "colab": {
          "base_uri": "https://localhost:8080/"
        },
        "id": "hRvOa5oZPVob",
        "outputId": "1a0be241-26f5-4f45-8264-46b657e9a293"
      },
      "execution_count": 58,
      "outputs": [
        {
          "output_type": "execute_result",
          "data": {
            "text/plain": [
              "tensor([ 59, 275, 605, 628, 885,  68, 568, 946, 769, 985])"
            ]
          },
          "metadata": {},
          "execution_count": 58
        }
      ]
    },
    {
      "cell_type": "markdown",
      "metadata": {
        "id": "0xmj1GWXUoNs"
      },
      "source": [
        "## Exercício Bonus\n",
        "\n",
        "Implemente um dataloader que aceite como parâmetro de entrada a distribuição probabilidade das classes que deverão compor um batch.\n",
        "Por exemplo, se a distribuição de probabilidade passada como entrada for:\n",
        "\n",
        "`[0.01, 0.01, 0.72, 0.2, 0.01, 0.01, 0.01, 0.01, 0.01, 0.01]`\n",
        "\n",
        "Em média, 72% dos exemplos do batch deverão ser da classe 2, 20% deverão ser da classe 3, e os demais deverão ser das outras classes.\n",
        "\n",
        "Mostre também que sua implementação está correta.\n"
      ]
    },
    {
      "cell_type": "markdown",
      "source": [
        "Trabalhando com os 60 mil registros"
      ],
      "metadata": {
        "id": "NYYmB-N1x7c0"
      }
    },
    {
      "cell_type": "code",
      "source": [
        "print(f\"dataset_train_full.data.shape: {dataset_train_full.data.shape}\")\n",
        "print(f\"dataset_train_full.targets.shape: {dataset_train_full.targets.shape}\")"
      ],
      "metadata": {
        "colab": {
          "base_uri": "https://localhost:8080/"
        },
        "id": "UB1Xdec9x7tT",
        "outputId": "4d962779-ba78-4d82-8c04-7f2dd7616979"
      },
      "execution_count": 62,
      "outputs": [
        {
          "output_type": "stream",
          "name": "stdout",
          "text": [
            "dataset_train_full.data.shape: torch.Size([60000, 28, 28])\n",
            "dataset_train_full.targets.shape: torch.Size([60000])\n"
          ]
        }
      ]
    },
    {
      "cell_type": "code",
      "source": [
        "dataset_train_full.targets[:10]"
      ],
      "metadata": {
        "colab": {
          "base_uri": "https://localhost:8080/"
        },
        "id": "_ZaawPDvyCxL",
        "outputId": "a634f7d6-d0c3-4502-b2c4-13b246fcf7b2"
      },
      "execution_count": 63,
      "outputs": [
        {
          "output_type": "execute_result",
          "data": {
            "text/plain": [
              "tensor([5, 0, 4, 1, 9, 2, 1, 3, 1, 4])"
            ]
          },
          "metadata": {},
          "execution_count": 63
        }
      ]
    },
    {
      "cell_type": "code",
      "source": [
        "dataset_train_full.data[:2]"
      ],
      "metadata": {
        "colab": {
          "base_uri": "https://localhost:8080/"
        },
        "id": "D-mUnb-ByHNb",
        "outputId": "53fe3570-01d2-482d-9e1d-2503649fa023"
      },
      "execution_count": 64,
      "outputs": [
        {
          "output_type": "execute_result",
          "data": {
            "text/plain": [
              "tensor([[[0, 0, 0,  ..., 0, 0, 0],\n",
              "         [0, 0, 0,  ..., 0, 0, 0],\n",
              "         [0, 0, 0,  ..., 0, 0, 0],\n",
              "         ...,\n",
              "         [0, 0, 0,  ..., 0, 0, 0],\n",
              "         [0, 0, 0,  ..., 0, 0, 0],\n",
              "         [0, 0, 0,  ..., 0, 0, 0]],\n",
              "\n",
              "        [[0, 0, 0,  ..., 0, 0, 0],\n",
              "         [0, 0, 0,  ..., 0, 0, 0],\n",
              "         [0, 0, 0,  ..., 0, 0, 0],\n",
              "         ...,\n",
              "         [0, 0, 0,  ..., 0, 0, 0],\n",
              "         [0, 0, 0,  ..., 0, 0, 0],\n",
              "         [0, 0, 0,  ..., 0, 0, 0]]], dtype=torch.uint8)"
            ]
          },
          "metadata": {},
          "execution_count": 64
        }
      ]
    },
    {
      "cell_type": "code",
      "source": [
        "dataset_train_full"
      ],
      "metadata": {
        "colab": {
          "base_uri": "https://localhost:8080/"
        },
        "id": "uPppaD4AyR21",
        "outputId": "1d81cd48-cb12-4ec9-eddb-00a25dd1f49d"
      },
      "execution_count": 65,
      "outputs": [
        {
          "output_type": "execute_result",
          "data": {
            "text/plain": [
              "Dataset MNIST\n",
              "    Number of datapoints: 60000\n",
              "    Root location: ../data/\n",
              "    Split: Train\n",
              "    StandardTransform\n",
              "Transform: ToTensor()"
            ]
          },
          "metadata": {},
          "execution_count": 65
        }
      ]
    },
    {
      "cell_type": "code",
      "source": [
        "num_amostras = len(dataset_train_full.data); num_amostras"
      ],
      "metadata": {
        "colab": {
          "base_uri": "https://localhost:8080/"
        },
        "id": "2k3AxnbsycHD",
        "outputId": "86a647a2-14cf-4192-dc27-bfda3780d00d"
      },
      "execution_count": null,
      "outputs": [
        {
          "output_type": "execute_result",
          "data": {
            "text/plain": [
              "60000"
            ]
          },
          "metadata": {},
          "execution_count": 67
        }
      ]
    },
    {
      "cell_type": "code",
      "source": [
        "weights = torch.tensor([0.01, 0.01, 0.72, 0.2, 0.01, 0.01, 0.01, 0.01, 0.01, 0.01])\n",
        "weights"
      ],
      "metadata": {
        "colab": {
          "base_uri": "https://localhost:8080/"
        },
        "id": "ozgKZmeZxiaD",
        "outputId": "01169ad7-96b7-45d9-942d-bd2a9bad5834"
      },
      "execution_count": null,
      "outputs": [
        {
          "output_type": "execute_result",
          "data": {
            "text/plain": [
              "tensor([0.0100, 0.0100, 0.7200, 0.2000, 0.0100, 0.0100, 0.0100, 0.0100, 0.0100,\n",
              "        0.0100])"
            ]
          },
          "metadata": {},
          "execution_count": 101
        }
      ]
    },
    {
      "cell_type": "markdown",
      "source": [
        "### Experimentações"
      ],
      "metadata": {
        "id": "FPuA14YE69zU"
      }
    },
    {
      "cell_type": "markdown",
      "source": [
        "Experimentando orch.distributions.categorical.Categorical"
      ],
      "metadata": {
        "id": "EFsFg0g05MLM"
      }
    },
    {
      "cell_type": "code",
      "source": [
        "from torch.distributions.categorical import Categorical"
      ],
      "metadata": {
        "id": "myx8jqow2PQf"
      },
      "execution_count": 96,
      "outputs": []
    },
    {
      "cell_type": "code",
      "source": [
        "distribuicao = Categorical(probs=weights, logits=None, validate_args=None)"
      ],
      "metadata": {
        "id": "NIJACMMc2SUO"
      },
      "execution_count": 102,
      "outputs": []
    },
    {
      "cell_type": "code",
      "source": [
        "batch_amostras = distribuicao.sample_n(100)"
      ],
      "metadata": {
        "colab": {
          "base_uri": "https://localhost:8080/"
        },
        "id": "53SNHAQu2vq3",
        "outputId": "473c3ee9-d67b-4360-9b4e-c9b8e9d6d4a8"
      },
      "execution_count": 104,
      "outputs": [
        {
          "output_type": "stream",
          "name": "stderr",
          "text": [
            "/usr/local/lib/python3.7/dist-packages/torch/distributions/distribution.py:159: UserWarning: sample_n will be deprecated. Use .sample((n,)) instead\n",
            "  warnings.warn('sample_n will be deprecated. Use .sample((n,)) instead', UserWarning)\n"
          ]
        }
      ]
    },
    {
      "cell_type": "code",
      "source": [
        "output, inverse_indices, counts = torch.unique(\n",
        "batch_amostras, sorted=True, return_inverse=True, return_counts=True)"
      ],
      "metadata": {
        "id": "WPoh2Yzc3fKv"
      },
      "execution_count": 111,
      "outputs": []
    },
    {
      "cell_type": "code",
      "source": [
        "output, inverse_indices, counts/100"
      ],
      "metadata": {
        "colab": {
          "base_uri": "https://localhost:8080/"
        },
        "id": "BpD5pmrW3wXO",
        "outputId": "31018bbd-7990-433a-a57c-979f6c8f0e67"
      },
      "execution_count": 113,
      "outputs": [
        {
          "output_type": "execute_result",
          "data": {
            "text/plain": [
              "(tensor([0, 1, 2, 3, 4, 5, 7, 8, 9]),\n",
              " tensor([3, 2, 2, 2, 7, 2, 2, 2, 2, 2, 3, 2, 2, 2, 3, 3, 2, 2, 2, 2, 2, 2, 3, 2,\n",
              "         2, 2, 2, 2, 3, 3, 2, 2, 8, 2, 3, 2, 0, 2, 2, 2, 1, 3, 2, 2, 2, 2, 2, 2,\n",
              "         2, 2, 2, 2, 3, 2, 2, 3, 1, 6, 3, 2, 2, 2, 2, 2, 2, 2, 2, 2, 3, 2, 2, 3,\n",
              "         3, 2, 2, 3, 5, 3, 2, 2, 5, 3, 2, 2, 2, 2, 3, 2, 3, 3, 1, 4, 2, 2, 2, 1,\n",
              "         3, 2, 2, 3]),\n",
              " tensor([0.0100, 0.0400, 0.6600, 0.2300, 0.0100, 0.0200, 0.0100, 0.0100, 0.0100]))"
            ]
          },
          "metadata": {},
          "execution_count": 113
        }
      ]
    },
    {
      "cell_type": "markdown",
      "source": [
        "Experimentando torch.multinomial"
      ],
      "metadata": {
        "id": "QVlBN70U5IGk"
      }
    },
    {
      "cell_type": "code",
      "source": [
        "dist = torch.multinomial(weights, 100, replacement=True)"
      ],
      "metadata": {
        "id": "HL-AYjat354e"
      },
      "execution_count": 115,
      "outputs": []
    },
    {
      "cell_type": "code",
      "source": [
        "output, inverse_indices, counts = torch.unique(\n",
        "dist, sorted=True, return_inverse=True, return_counts=True)"
      ],
      "metadata": {
        "id": "CPMYfA9Q46Z9"
      },
      "execution_count": 116,
      "outputs": []
    },
    {
      "cell_type": "code",
      "source": [
        "output, inverse_indices, counts/100"
      ],
      "metadata": {
        "colab": {
          "base_uri": "https://localhost:8080/"
        },
        "id": "BkGwA3rT47BM",
        "outputId": "87d496b3-52cd-43da-8454-a22177e73eae"
      },
      "execution_count": 117,
      "outputs": [
        {
          "output_type": "execute_result",
          "data": {
            "text/plain": [
              "(tensor([0, 1, 2, 3, 5, 6, 7, 8]),\n",
              " tensor([3, 3, 2, 3, 2, 2, 3, 2, 0, 2, 3, 2, 2, 2, 2, 3, 2, 2, 2, 2, 3, 2, 3, 2,\n",
              "         6, 5, 3, 0, 2, 3, 2, 1, 2, 2, 2, 2, 2, 4, 2, 2, 2, 2, 2, 3, 2, 2, 3, 2,\n",
              "         2, 2, 2, 2, 2, 2, 1, 2, 2, 2, 2, 2, 3, 2, 3, 3, 3, 2, 7, 2, 2, 2, 2, 2,\n",
              "         2, 2, 2, 3, 2, 2, 2, 2, 2, 2, 3, 2, 2, 2, 2, 2, 0, 3, 2, 3, 2, 2, 2, 2,\n",
              "         2, 2, 2, 5]),\n",
              " tensor([0.0300, 0.0200, 0.7000, 0.2000, 0.0100, 0.0200, 0.0100, 0.0100]))"
            ]
          },
          "metadata": {},
          "execution_count": 117
        }
      ]
    },
    {
      "cell_type": "markdown",
      "source": [
        "Experimentando WeightedRandomSampler"
      ],
      "metadata": {
        "id": "TryLheMQ5Egs"
      }
    },
    {
      "cell_type": "code",
      "source": [
        "from torch.utils.data import WeightedRandomSampler"
      ],
      "metadata": {
        "id": "ebDA2xQ3xdgL"
      },
      "execution_count": 59,
      "outputs": []
    },
    {
      "cell_type": "code",
      "source": [
        "list(WeightedRandomSampler(weights, 5, replacement=True))"
      ],
      "metadata": {
        "colab": {
          "base_uri": "https://localhost:8080/"
        },
        "id": "0g30Chj5xDvU",
        "outputId": "e0ebfb2d-26f6-4722-954e-72abe438155d"
      },
      "execution_count": 71,
      "outputs": [
        {
          "output_type": "execute_result",
          "data": {
            "text/plain": [
              "[2, 2, 2, 2, 2]"
            ]
          },
          "metadata": {},
          "execution_count": 71
        }
      ]
    },
    {
      "cell_type": "code",
      "source": [
        " indices_num_classe = np.array(list(WeightedRandomSampler(weights, 100, replacement=True)))"
      ],
      "metadata": {
        "id": "isEqul5sxD9s"
      },
      "execution_count": 91,
      "outputs": []
    },
    {
      "cell_type": "code",
      "source": [
        "indices_num_classe[:10]"
      ],
      "metadata": {
        "colab": {
          "base_uri": "https://localhost:8080/"
        },
        "id": "I41sBVnny6hL",
        "outputId": "e6a7abde-fe05-4f1e-913a-07cea23bec43"
      },
      "execution_count": 92,
      "outputs": [
        {
          "output_type": "execute_result",
          "data": {
            "text/plain": [
              "array([3, 3, 1, 3, 2, 1, 2, 2, 2, 1])"
            ]
          },
          "metadata": {},
          "execution_count": 92
        }
      ]
    },
    {
      "cell_type": "markdown",
      "source": [
        "### Definição da classe"
      ],
      "metadata": {
        "id": "sCOz1A5I8HZ5"
      }
    },
    {
      "cell_type": "code",
      "source": [
        "class MeuImbalancedDataLoader():\n",
        "\n",
        "  def __init__(self, subdataset:torch.utils.data.dataset.Subset, weights:torch.Tensor, batch_size:int=batch_size,  shuffle:bool=False, verbose:bool=False):\n",
        "    \"\"\"\n",
        "      São 10 classes (dígitos). Seus valores em labels vão de 0 a 9.\n",
        "      \n",
        "      Definir array com números entre 1 e num_classes conforme probabilidade passada no array weights - indices_num_classe.\n",
        "      De forma que a cada num_batches sejam considerados os pesos\n",
        "      Exemplo:\n",
        "        [0,1,3,4,4,4,5,9,6,9,...] cujo tamanho é o número de amostras\n",
        "\n",
        "      O tamanho do batch deve ser tal que o número de elementos da classe com menor probabilidade tenha pelo menos 1 elemento.\n",
        "\n",
        "      Inicializar indice_proxima_amostra = 0 (próxima posição a ser lida em indices_num_classe)\n",
        "      \n",
        "      Criar um dicionário ultimo_lido_num_classe (keys= números das classes) com ponteiro para último lido. Inicializar com -1.\n",
        "      Exemplo:\n",
        "        [0, -1, -1, 3, -1, 5, -1, 2, -1, 1, 10] cujo tamanho é o número de classes\n",
        "    \"\"\"\n",
        "    self.weights = weights\n",
        "    assert len(weights)==1, \"weights deve ser um tensor com apenas uma dimensão\"\n",
        "    self.num_classes = self.weights.size[0] \n",
        "    ###  parei aqui\n",
        "\n",
        "  def __next__(self):\n",
        "    \"\"\"\n",
        "    Pegar próximos tamanho_batch:\n",
        "      Se não conseguir gerar por falta em alguma classe, gerar exception: StopIteration()\n",
        "\n",
        "      Concatenar tamanho_batch:\n",
        "        definir a proxima_classe (indices_num_classe[indice_proxima_amostra])\n",
        "        obter das amostras a próxima amostra da proxima_classe\n",
        "          definir proximo_indice_amostra como sendo o índice em y superior a ultimo_lido_num_classe[proxima_classe] cujo valor seja proxima_classe\n",
        "          Se não conseguir: gerar exception: StopIteration()\n",
        "          pegar em x o registro de índice proximo_indice_amostra\n",
        "        concatenar até alcançar tamanho_bach\n",
        "    \"\"\"\n",
        "\n",
        "  def __iter__(self):\n",
        "    \"\"\"\n",
        "     Inicializar dicionário ultimo_lido_num_classe (keys= números das classes) com ponteiro para último lido == -1.\n",
        "    \"\"\"\n",
        "  def __len__(self):\n",
        "    \"\"\"\n",
        "    \"\"\""
      ],
      "metadata": {
        "id": "OybgwwZ59o5k"
      },
      "execution_count": null,
      "outputs": []
    },
    {
      "cell_type": "markdown",
      "source": [
        "## Rascunhos "
      ],
      "metadata": {
        "id": "TcodjfwgPHub"
      }
    },
    {
      "cell_type": "markdown",
      "source": [
        "### Analise das amostras"
      ],
      "metadata": {
        "id": "WpcYdUGOSvPY"
      }
    },
    {
      "cell_type": "code",
      "source": [
        "logitos_classes_previstas = y_predicted\n",
        "classes_reais = y_test"
      ],
      "metadata": {
        "id": "QXfWy1diHSrx"
      },
      "execution_count": null,
      "outputs": []
    },
    {
      "cell_type": "code",
      "source": [
        "    num_classes = logitos_classes_previstas.shape[-1]\n",
        "    num_amostras = logitos_classes_previstas.shape[0]\n",
        "    classes_reais_onehot = torch.eye(num_classes)[classes_reais] #.to(device)\n",
        "    #calculo de softmax por amostra\n",
        "    softmax_sobre_logitos_classes_previstas_por_amostra = f.softmax(logitos_classes_previstas,1)\n",
        "    # probabilidade_previsao = torch.mul(softmax_sobre_logitos_classes_previstas_por_amostra, classes_reais_onehot)\n",
        "    print(f\"classes_reais[:3]: {classes_reais[:3]}\")\n",
        "    print(f\"classes_reais_onehot[:3]: {classes_reais_onehot[:3]}\")\n",
        "    print(f\"softmax_sobre_logitos_classes_previstas_por_amostra[:3]: {softmax_sobre_logitos_classes_previstas_por_amostra[:3]}\")\n",
        "    # print(f\"probabilidade_previsao[:3]: {probabilidade_previsao[:3]}\n",
        "    # (probabilidade_previsao, )   torch.topk(probabilidade_previsao, 1)\n",
        "    (probabilidade_previsao, classe_prevista) = torch.topk(softmax_sobre_logitos_classes_previstas_por_amostra, 1)\n",
        "# remover última dimensão: passar de [num_amostras, 1] para [num_amostras]\n",
        "    prob_classe_prevista = prob_classe_prevista.squeeze()\n",
        "    classe_prevista = classe_prevista.squeeze()    \n",
        "    print(f\"prob_classe_prevista[:3]: {prob_classe_prevista[:3]}\")\n",
        "    print(f\"classe_prevista[:3]: {classe_prevista[:3]}\")\n",
        "    acertou = classe_prevista == classes_reais\n",
        "    print(f\"acertou[:3]: {acertou[:3]}\")\n",
        "    prob_acertos = torch.mul(acertou, prob_classe_prevista)\n",
        "    print(f\"prob_acertos[:3]: {prob_acertos[:3]}\")\n",
        "    prob_erros = torch.mul(~acertou, prob_classe_prevista)\n",
        "    print(f\"prob_erros[:3]: {prob_erros[:3]}\")\n"
      ],
      "metadata": {
        "colab": {
          "base_uri": "https://localhost:8080/"
        },
        "id": "RbAnRtvWEQxs",
        "outputId": "5ea17018-6099-412a-93fa-2d295b25207f"
      },
      "execution_count": null,
      "outputs": [
        {
          "output_type": "stream",
          "name": "stdout",
          "text": [
            "classes_reais[:3]: tensor([3, 3, 3])\n",
            "classes_reais_onehot[:3]: tensor([[0., 0., 0., 1., 0., 0., 0., 0., 0., 0.],\n",
            "        [0., 0., 0., 1., 0., 0., 0., 0., 0., 0.],\n",
            "        [0., 0., 0., 1., 0., 0., 0., 0., 0., 0.]])\n",
            "softmax_sobre_logitos_classes_previstas_por_amostra[:3]: tensor([[3.8546e-06, 3.0551e-03, 1.6681e-03, 3.3064e-03, 8.2782e-01, 1.2521e-03,\n",
            "         1.8511e-03, 1.1929e-01, 3.9415e-03, 3.7813e-02],\n",
            "        [1.3891e-04, 3.2202e-05, 2.2989e-02, 9.3894e-01, 2.3499e-04, 1.0469e-03,\n",
            "         1.2225e-04, 1.8290e-06, 3.6385e-02, 1.0459e-04],\n",
            "        [1.5378e-03, 2.5596e-04, 1.1215e-01, 8.3060e-01, 8.3326e-05, 1.9912e-02,\n",
            "         3.5956e-04, 5.0905e-04, 3.4504e-02, 9.4141e-05]],\n",
            "       grad_fn=<SliceBackward0>)\n"
          ]
        }
      ]
    },
    {
      "cell_type": "code",
      "source": [
        ""
      ],
      "metadata": {
        "id": "1O3e6steNYj9"
      },
      "execution_count": null,
      "outputs": []
    },
    {
      "cell_type": "code",
      "source": [
        "(_, amostras) = torch.topk(prob_acertos, k=20, largest=True)"
      ],
      "metadata": {
        "id": "Xn2geHYENLXn"
      },
      "execution_count": null,
      "outputs": []
    },
    {
      "cell_type": "code",
      "source": [
        "amostras"
      ],
      "metadata": {
        "colab": {
          "base_uri": "https://localhost:8080/"
        },
        "id": "14H8QdmpNPlt",
        "outputId": "ace47589-8459-4ca9-8cfb-c4bcd528c83a"
      },
      "execution_count": null,
      "outputs": [
        {
          "output_type": "execute_result",
          "data": {
            "text/plain": [
              "tensor([458,  80, 579,  75, 348, 347, 575, 430, 589, 391, 206, 934, 892, 364,\n",
              "        864, 716, 968, 807,  27, 886])"
            ]
          },
          "metadata": {},
          "execution_count": 195
        }
      ]
    },
    {
      "cell_type": "code",
      "source": [
        "prob_acertos[458]"
      ],
      "metadata": {
        "colab": {
          "base_uri": "https://localhost:8080/"
        },
        "id": "PYuKTiPrOUq0",
        "outputId": "cbbc8401-fcc8-45dd-ff9d-c841772962c2"
      },
      "execution_count": null,
      "outputs": [
        {
          "output_type": "execute_result",
          "data": {
            "text/plain": [
              "tensor(1.0000, grad_fn=<SelectBackward0>)"
            ]
          },
          "metadata": {},
          "execution_count": 196
        }
      ]
    },
    {
      "cell_type": "code",
      "source": [
        "(_, amostras_corretas_menos_certas) = torch.topk(prob_acertos, k=20, largest=False)"
      ],
      "metadata": {
        "id": "xzzt3E1MN1f0"
      },
      "execution_count": null,
      "outputs": []
    },
    {
      "cell_type": "code",
      "source": [
        "amostras_corretas_menos_certas"
      ],
      "metadata": {
        "colab": {
          "base_uri": "https://localhost:8080/"
        },
        "id": "D39kR8-EN9CE",
        "outputId": "66738081-b01d-4413-e265-fe16bda0b1eb"
      },
      "execution_count": null,
      "outputs": [
        {
          "output_type": "execute_result",
          "data": {
            "text/plain": [
              "tensor([607, 868, 201, 737, 405, 736, 205, 423, 182, 727, 185, 177, 722, 885,\n",
              "        172, 433, 893, 905, 157, 402])"
            ]
          },
          "metadata": {},
          "execution_count": 191
        }
      ]
    },
    {
      "cell_type": "code",
      "source": [
        "prob_acertos[402]"
      ],
      "metadata": {
        "colab": {
          "base_uri": "https://localhost:8080/"
        },
        "id": "OsZLd8BjOACV",
        "outputId": "f375331a-ffdb-469f-97c3-8a2cc740f0be"
      },
      "execution_count": null,
      "outputs": [
        {
          "output_type": "execute_result",
          "data": {
            "text/plain": [
              "tensor(0., grad_fn=<SelectBackward0>)"
            ]
          },
          "metadata": {},
          "execution_count": 193
        }
      ]
    },
    {
      "cell_type": "code",
      "source": [
        "acertou.shape, prob_classe_prevista.shape"
      ],
      "metadata": {
        "colab": {
          "base_uri": "https://localhost:8080/"
        },
        "id": "jJSKZoUaKuN2",
        "outputId": "b324a846-4122-42f8-cfb9-8a48ed70fc07"
      },
      "execution_count": null,
      "outputs": [
        {
          "output_type": "execute_result",
          "data": {
            "text/plain": [
              "(torch.Size([1000]), torch.Size([1000]))"
            ]
          },
          "metadata": {},
          "execution_count": 173
        }
      ]
    },
    {
      "cell_type": "code",
      "source": [
        "# remover última dimensão: passar de [num_amostras, 1] para [num_amostras]\n",
        "prob_classe_prevista = prob_classe_prevista.squeeze()\n",
        "classe_prevista = classe_prevista.squeeze()"
      ],
      "metadata": {
        "id": "ytE6_96aHczx"
      },
      "execution_count": null,
      "outputs": []
    },
    {
      "cell_type": "code",
      "source": [
        "prob_classe_prevista.shape"
      ],
      "metadata": {
        "colab": {
          "base_uri": "https://localhost:8080/"
        },
        "id": "7hpNYuJVI9uv",
        "outputId": "4e97012f-3735-4d38-c4f8-ef92e77ba9d6"
      },
      "execution_count": null,
      "outputs": [
        {
          "output_type": "execute_result",
          "data": {
            "text/plain": [
              "torch.Size([1000, 1])"
            ]
          },
          "metadata": {},
          "execution_count": 161
        }
      ]
    },
    {
      "cell_type": "markdown",
      "source": [
        "### crossentropy a partir dos logitos"
      ],
      "metadata": {
        "id": "uhe9h15uS69Z"
      }
    },
    {
      "cell_type": "markdown",
      "source": [
        "![image.png](data:image/png;base64,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)"
      ],
      "metadata": {
        "id": "sjKMQUSyTuo5"
      }
    },
    {
      "cell_type": "code",
      "source": [
        "logitos_classes_previstas = y_predicted\n",
        "classes_reais = y_test\n",
        "print(f\"logitos_classes_previstas[:3]: {logitos_classes_previstas[:3]} logitos_classes_previstas.shape: {logitos_classes_previstas.shape}\")\n",
        "print(f\"classes_reais[:3]: {classes_reais[:3]} classes_reais.shape: {classes_reais.shape}\")"
      ],
      "metadata": {
        "colab": {
          "base_uri": "https://localhost:8080/"
        },
        "id": "h3qlGp-yTEmQ",
        "outputId": "2fa1dd02-3100-46c0-af3b-6d8af970a1ca"
      },
      "execution_count": null,
      "outputs": [
        {
          "output_type": "stream",
          "name": "stdout",
          "text": [
            "logitos_classes_previstas[:3]: tensor([[-2.0532, -1.0199, -3.6390,  1.5763, -0.1769,  1.2001, -2.9737,  1.7014,\n",
            "          2.2786,  3.1064],\n",
            "        [ 4.6302, -4.8104,  0.6509, -0.7223, -1.3480,  4.4053,  1.4678, -1.3268,\n",
            "         -1.9443, -1.0024],\n",
            "        [-0.9065, -2.5950, -1.2907, -1.6458, -0.7128,  0.8536, -3.3003,  6.1968,\n",
            "         -1.0418,  4.4425]], grad_fn=<SliceBackward0>) logitos_classes_previstas.shape: torch.Size([1000, 10])\n",
            "classes_reais[:3]: tensor([9, 0, 7]) classes_reais.shape: torch.Size([1000])\n"
          ]
        }
      ]
    },
    {
      "cell_type": "code",
      "source": [
        "num_classes = logitos_classes_previstas.shape[-1]\n",
        "classes_reais_onehot = torch.eye(num_classes)[classes_reais] #.to(device)\n",
        "\n",
        "#calculo de softmax por amostra\n",
        "# softmax_sobre_logitos_classes_previstas_por_amostra = f.softmax(logitos_classes_previstas,1)\n",
        "#calculo de exp(z) \n",
        "exp_logitos = torch.exp(logitos_classes_previstas)\n",
        "print(f\"exp_logitos[:3]: {exp_logitos[:3]}\")\n",
        "soma_exp_logitos = exp_logitos.sum(dim=1)\n",
        "print(f\"soma_exp_logitos[:3]: {soma_exp_logitos[:3]}\")\n",
        "log_soma_exp_logitos = torch.log(soma_exp_logitos)\n",
        "print(f\"log_soma_exp_logitos[:3]: {log_soma_exp_logitos[:3]} log_soma_exp_logitos.shape: {log_soma_exp_logitos.shape}\")\n"
      ],
      "metadata": {
        "colab": {
          "base_uri": "https://localhost:8080/"
        },
        "id": "0GvdS9WbS6tQ",
        "outputId": "ce22b020-6575-4c95-decc-7e3abf310ee8"
      },
      "execution_count": null,
      "outputs": [
        {
          "output_type": "stream",
          "name": "stdout",
          "text": [
            "exp_logitos[:3]: tensor([[1.2832e-01, 3.6064e-01, 2.6280e-02, 4.8369e+00, 8.3788e-01, 3.3203e+00,\n",
            "         5.1113e-02, 5.4814e+00, 9.7632e+00, 2.2339e+01],\n",
            "        [1.0254e+02, 8.1450e-03, 1.9173e+00, 4.8562e-01, 2.5975e-01, 8.1886e+01,\n",
            "         4.3397e+00, 2.6531e-01, 1.4308e-01, 3.6701e-01],\n",
            "        [4.0393e-01, 7.4646e-02, 2.7508e-01, 1.9287e-01, 4.9025e-01, 2.3481e+00,\n",
            "         3.6871e-02, 4.9119e+02, 3.5282e-01, 8.4987e+01]],\n",
            "       grad_fn=<SliceBackward0>)\n",
            "soma_exp_logitos[:3]: tensor([ 47.1454, 192.2078, 580.3519], grad_fn=<SliceBackward0>)\n",
            "log_soma_exp_logitos[:3]: tensor([3.8532, 5.2586, 6.3636], grad_fn=<SliceBackward0>) log_soma_exp_logitos.shape: torch.Size([1000])\n"
          ]
        }
      ]
    },
    {
      "cell_type": "code",
      "source": [
        "logitos_classes_previstas[0:2].gather(dim=1, index= torch.Tensor([[3],[2]]).long())"
      ],
      "metadata": {
        "id": "svphf67gZs0y"
      },
      "execution_count": null,
      "outputs": []
    },
    {
      "cell_type": "code",
      "source": [
        "classes_reais.unsqueeze(dim=1)[:3]"
      ],
      "metadata": {
        "colab": {
          "base_uri": "https://localhost:8080/"
        },
        "id": "O59bniMOZ_jN",
        "outputId": "db23e280-19ba-45bb-900d-354eac5804dd"
      },
      "execution_count": null,
      "outputs": [
        {
          "output_type": "execute_result",
          "data": {
            "text/plain": [
              "tensor([[9],\n",
              "        [0],\n",
              "        [7]])"
            ]
          },
          "metadata": {},
          "execution_count": 98
        }
      ]
    },
    {
      "cell_type": "code",
      "source": [
        "logitos_classes_previstas[0:2].gather(dim=1, index= classes_reais.unsqueeze(dim=1)[:2])"
      ],
      "metadata": {
        "colab": {
          "base_uri": "https://localhost:8080/"
        },
        "id": "YG6slAexaK9q",
        "outputId": "dda2b987-f9a0-47cc-d10d-333b02f2fc0b"
      },
      "execution_count": null,
      "outputs": [
        {
          "output_type": "execute_result",
          "data": {
            "text/plain": [
              "tensor([[3.1064],\n",
              "        [4.6302]], grad_fn=<GatherBackward0>)"
            ]
          },
          "metadata": {},
          "execution_count": 99
        }
      ]
    },
    {
      "cell_type": "code",
      "source": [
        "logito_classe_prevista = logitos_classes_previstas.gather(dim=1, index= classes_reais.unsqueeze(dim=1))\n",
        "logito_classe_prevista = logito_classe_prevista.squeeze(dim=1)\n",
        "print(f\"logito_classe_prevista[:3]: {logito_classe_prevista[:3]} logito_classe_prevista.shape: {logito_classe_prevista.shape}\")"
      ],
      "metadata": {
        "colab": {
          "base_uri": "https://localhost:8080/"
        },
        "id": "DYW54tbBaY3T",
        "outputId": "899f0a02-0d66-469b-eec6-20efc69f1799"
      },
      "execution_count": null,
      "outputs": [
        {
          "output_type": "stream",
          "name": "stdout",
          "text": [
            "logito_classe_prevista[:3]: tensor([3.1064, 4.6302, 6.1968], grad_fn=<SliceBackward0>) logito_classe_prevista.shape: torch.Size([1000])\n"
          ]
        }
      ]
    },
    {
      "cell_type": "code",
      "source": [
        "loss_por_amostra = logito_classe_prevista + log_soma_exp_logitos\n",
        "print(f\"loss_por_amostra[:3]: {loss_por_amostra[:3]} loss_por_amostra.shape: {loss_por_amostra.shape}\")\n"
      ],
      "metadata": {
        "colab": {
          "base_uri": "https://localhost:8080/"
        },
        "id": "_hYPk_aPWaRW",
        "outputId": "4ca7b588-3716-41cc-d8c0-20a3f9f3e6ae"
      },
      "execution_count": null,
      "outputs": [
        {
          "output_type": "stream",
          "name": "stdout",
          "text": [
            "loss_por_amostra[:3]: tensor([ 6.9596,  9.8888, 12.5605], grad_fn=<SliceBackward0>) loss_por_amostra.shape: torch.Size([1000])\n"
          ]
        }
      ]
    },
    {
      "cell_type": "code",
      "source": [
        "loss = torch.mean(loss_por_amostra)\n",
        "print(f\"loss: {loss}  loss.shape: {loss.shape}\")\n"
      ],
      "metadata": {
        "colab": {
          "base_uri": "https://localhost:8080/"
        },
        "id": "LfPhuPcGVXSO",
        "outputId": "b691e29f-0271-43d7-d825-d6538496c7a1"
      },
      "execution_count": null,
      "outputs": [
        {
          "output_type": "stream",
          "name": "stdout",
          "text": [
            "loss: 13.048205375671387  loss.shape: torch.Size([])\n"
          ]
        }
      ]
    },
    {
      "cell_type": "code",
      "source": [
        "logitos_classes_previstas[0], logitos_classes_previstas[1], logitos_classes_previstas[0:2]"
      ],
      "metadata": {
        "colab": {
          "base_uri": "https://localhost:8080/"
        },
        "id": "SMih4IwtXfj1",
        "outputId": "9eba794a-03cc-4bc6-d832-498ba5b7baf0"
      },
      "execution_count": null,
      "outputs": [
        {
          "output_type": "execute_result",
          "data": {
            "text/plain": [
              "(tensor([-2.0532, -1.0199, -3.6390,  1.5763, -0.1769,  1.2001, -2.9737,  1.7014,\n",
              "          2.2786,  3.1064], grad_fn=<SelectBackward0>),\n",
              " tensor([ 4.6302, -4.8104,  0.6509, -0.7223, -1.3480,  4.4053,  1.4678, -1.3268,\n",
              "         -1.9443, -1.0024], grad_fn=<SelectBackward0>),\n",
              " tensor([[-2.0532, -1.0199, -3.6390,  1.5763, -0.1769,  1.2001, -2.9737,  1.7014,\n",
              "           2.2786,  3.1064],\n",
              "         [ 4.6302, -4.8104,  0.6509, -0.7223, -1.3480,  4.4053,  1.4678, -1.3268,\n",
              "          -1.9443, -1.0024]], grad_fn=<SliceBackward0>))"
            ]
          },
          "metadata": {},
          "execution_count": 86
        }
      ]
    },
    {
      "cell_type": "code",
      "source": [
        "logitos_classes_previstas[0,3]"
      ],
      "metadata": {
        "colab": {
          "base_uri": "https://localhost:8080/"
        },
        "id": "9M_ol8KEXnKV",
        "outputId": "e9e7ab11-bbcf-4f2c-8bf6-17e66678d371"
      },
      "execution_count": null,
      "outputs": [
        {
          "output_type": "execute_result",
          "data": {
            "text/plain": [
              "tensor(1.5763, grad_fn=<SelectBackward0>)"
            ]
          },
          "metadata": {},
          "execution_count": 80
        }
      ]
    },
    {
      "cell_type": "code",
      "source": [
        "logitos_classes_previstas[0:2,[3,2]]"
      ],
      "metadata": {
        "colab": {
          "base_uri": "https://localhost:8080/"
        },
        "id": "0EcZWdzoX2F8",
        "outputId": "04988e8f-4104-4b28-ca4a-2ab175528db7"
      },
      "execution_count": null,
      "outputs": [
        {
          "output_type": "execute_result",
          "data": {
            "text/plain": [
              "tensor([[ 1.5763, -3.6390],\n",
              "        [-0.7223,  0.6509]], grad_fn=<IndexBackward0>)"
            ]
          },
          "metadata": {},
          "execution_count": 84
        }
      ]
    },
    {
      "cell_type": "code",
      "source": [
        "logitos_classes_previstas[0:2,[[3],[2]]]"
      ],
      "metadata": {
        "colab": {
          "base_uri": "https://localhost:8080/"
        },
        "id": "SOLrj4VWYMc9",
        "outputId": "06f8c453-1852-47df-eddc-b1d1b2627715"
      },
      "execution_count": null,
      "outputs": [
        {
          "output_type": "execute_result",
          "data": {
            "text/plain": [
              "tensor([[[ 1.5763],\n",
              "         [-3.6390]],\n",
              "\n",
              "        [[-0.7223],\n",
              "         [ 0.6509]]], grad_fn=<IndexBackward0>)"
            ]
          },
          "metadata": {},
          "execution_count": 85
        }
      ]
    },
    {
      "cell_type": "code",
      "source": [
        "logitos_classes_previstas[0:2].gather(dim=1, index= torch.Tensor([[3],[2]]).long())"
      ],
      "metadata": {
        "colab": {
          "base_uri": "https://localhost:8080/"
        },
        "id": "NW5_Efo4YgN8",
        "outputId": "71852895-fbff-429f-b586-521689f470fa"
      },
      "execution_count": null,
      "outputs": [
        {
          "output_type": "execute_result",
          "data": {
            "text/plain": [
              "tensor([[1.5763],\n",
              "        [0.6509]], grad_fn=<GatherBackward0>)"
            ]
          },
          "metadata": {},
          "execution_count": 94
        }
      ]
    },
    {
      "cell_type": "code",
      "source": [
        "logitos_classes_previstas[0:2].gather(dim=1, index= torch.Tensor([3, 2]).long())"
      ],
      "metadata": {
        "colab": {
          "base_uri": "https://localhost:8080/",
          "height": 171
        },
        "id": "Qkmq23vAZ10c",
        "outputId": "837643dc-c089-492c-eaa1-8701f5c9eeba"
      },
      "execution_count": null,
      "outputs": [
        {
          "output_type": "error",
          "ename": "RuntimeError",
          "evalue": "ignored",
          "traceback": [
            "\u001b[0;31m---------------------------------------------------------------------------\u001b[0m",
            "\u001b[0;31mRuntimeError\u001b[0m                              Traceback (most recent call last)",
            "\u001b[0;32m<ipython-input-95-d91ab8d2cddf>\u001b[0m in \u001b[0;36m<module>\u001b[0;34m()\u001b[0m\n\u001b[0;32m----> 1\u001b[0;31m \u001b[0mlogitos_classes_previstas\u001b[0m\u001b[0;34m[\u001b[0m\u001b[0;36m0\u001b[0m\u001b[0;34m:\u001b[0m\u001b[0;36m2\u001b[0m\u001b[0;34m]\u001b[0m\u001b[0;34m.\u001b[0m\u001b[0mgather\u001b[0m\u001b[0;34m(\u001b[0m\u001b[0mdim\u001b[0m\u001b[0;34m=\u001b[0m\u001b[0;36m1\u001b[0m\u001b[0;34m,\u001b[0m \u001b[0mindex\u001b[0m\u001b[0;34m=\u001b[0m \u001b[0mtorch\u001b[0m\u001b[0;34m.\u001b[0m\u001b[0mTensor\u001b[0m\u001b[0;34m(\u001b[0m\u001b[0;34m[\u001b[0m\u001b[0;36m3\u001b[0m\u001b[0;34m,\u001b[0m \u001b[0;36m2\u001b[0m\u001b[0;34m]\u001b[0m\u001b[0;34m)\u001b[0m\u001b[0;34m.\u001b[0m\u001b[0mlong\u001b[0m\u001b[0;34m(\u001b[0m\u001b[0;34m)\u001b[0m\u001b[0;34m)\u001b[0m\u001b[0;34m\u001b[0m\u001b[0;34m\u001b[0m\u001b[0m\n\u001b[0m",
            "\u001b[0;31mRuntimeError\u001b[0m: Index tensor must have the same number of dimensions as input tensor"
          ]
        }
      ]
    },
    {
      "cell_type": "markdown",
      "source": [
        "### outros"
      ],
      "metadata": {
        "id": "0u1vslxUKwSG"
      }
    },
    {
      "cell_type": "code",
      "source": [
        "outputs.shape[1]"
      ],
      "metadata": {
        "colab": {
          "base_uri": "https://localhost:8080/"
        },
        "id": "BMizAf121tTH",
        "outputId": "cada013e-6624-49a8-a1a9-a1cbac392f32"
      },
      "execution_count": null,
      "outputs": [
        {
          "output_type": "execute_result",
          "data": {
            "text/plain": [
              "10"
            ]
          },
          "metadata": {},
          "execution_count": 57
        }
      ]
    },
    {
      "cell_type": "code",
      "source": [
        "outputs.shape"
      ],
      "metadata": {
        "colab": {
          "base_uri": "https://localhost:8080/"
        },
        "id": "yNkKqe721ueO",
        "outputId": "31d50efd-8b86-4395-919e-11b0f5e17f57"
      },
      "execution_count": null,
      "outputs": [
        {
          "output_type": "execute_result",
          "data": {
            "text/plain": [
              "torch.Size([50, 10])"
            ]
          },
          "metadata": {},
          "execution_count": 58
        }
      ]
    },
    {
      "cell_type": "code",
      "source": [
        "y_train[:3]"
      ],
      "metadata": {
        "colab": {
          "base_uri": "https://localhost:8080/"
        },
        "id": "c4jVt8zP14jO",
        "outputId": "fd9edd9c-ff4e-4365-aa78-40d699754734"
      },
      "execution_count": null,
      "outputs": [
        {
          "output_type": "execute_result",
          "data": {
            "text/plain": [
              "tensor([6, 8, 7])"
            ]
          },
          "metadata": {},
          "execution_count": 59
        }
      ]
    },
    {
      "cell_type": "code",
      "source": [
        "torch.eye(outputs.shape[-1])[y]"
      ],
      "metadata": {
        "colab": {
          "base_uri": "https://localhost:8080/"
        },
        "id": "RIcToplM0iZ4",
        "outputId": "9a9fa23f-7a98-429b-81ef-4b265b2afc7b"
      },
      "execution_count": null,
      "outputs": [
        {
          "output_type": "execute_result",
          "data": {
            "text/plain": [
              "tensor([[0., 0., 0., 0., 0., 0., 1., 0., 0., 0.],\n",
              "        [0., 0., 0., 0., 0., 0., 0., 0., 1., 0.],\n",
              "        [0., 0., 0., 0., 0., 0., 0., 1., 0., 0.],\n",
              "        [0., 0., 0., 0., 0., 0., 0., 1., 0., 0.],\n",
              "        [0., 0., 0., 0., 0., 0., 0., 1., 0., 0.],\n",
              "        [0., 0., 1., 0., 0., 0., 0., 0., 0., 0.],\n",
              "        [0., 0., 0., 0., 0., 0., 1., 0., 0., 0.],\n",
              "        [0., 0., 0., 0., 0., 0., 1., 0., 0., 0.],\n",
              "        [0., 1., 0., 0., 0., 0., 0., 0., 0., 0.],\n",
              "        [0., 0., 0., 1., 0., 0., 0., 0., 0., 0.],\n",
              "        [0., 0., 1., 0., 0., 0., 0., 0., 0., 0.],\n",
              "        [0., 0., 0., 0., 0., 0., 0., 0., 0., 1.],\n",
              "        [0., 1., 0., 0., 0., 0., 0., 0., 0., 0.],\n",
              "        [0., 0., 0., 1., 0., 0., 0., 0., 0., 0.],\n",
              "        [0., 0., 0., 0., 0., 0., 1., 0., 0., 0.],\n",
              "        [0., 0., 0., 0., 0., 0., 0., 0., 1., 0.],\n",
              "        [0., 0., 1., 0., 0., 0., 0., 0., 0., 0.],\n",
              "        [0., 0., 0., 0., 0., 0., 0., 1., 0., 0.],\n",
              "        [0., 1., 0., 0., 0., 0., 0., 0., 0., 0.],\n",
              "        [0., 0., 0., 0., 0., 1., 0., 0., 0., 0.],\n",
              "        [0., 0., 0., 0., 1., 0., 0., 0., 0., 0.],\n",
              "        [0., 0., 0., 0., 0., 0., 1., 0., 0., 0.],\n",
              "        [0., 0., 0., 0., 0., 0., 0., 0., 0., 1.],\n",
              "        [0., 1., 0., 0., 0., 0., 0., 0., 0., 0.],\n",
              "        [1., 0., 0., 0., 0., 0., 0., 0., 0., 0.],\n",
              "        [0., 0., 0., 0., 0., 0., 1., 0., 0., 0.],\n",
              "        [0., 0., 0., 0., 0., 0., 0., 0., 0., 1.],\n",
              "        [0., 1., 0., 0., 0., 0., 0., 0., 0., 0.],\n",
              "        [0., 0., 0., 0., 0., 1., 0., 0., 0., 0.],\n",
              "        [0., 0., 0., 0., 0., 1., 0., 0., 0., 0.],\n",
              "        [0., 0., 0., 0., 0., 0., 1., 0., 0., 0.],\n",
              "        [0., 0., 0., 0., 0., 0., 0., 0., 1., 0.],\n",
              "        [0., 0., 1., 0., 0., 0., 0., 0., 0., 0.],\n",
              "        [0., 0., 0., 0., 0., 0., 0., 0., 1., 0.],\n",
              "        [0., 1., 0., 0., 0., 0., 0., 0., 0., 0.],\n",
              "        [0., 0., 0., 0., 0., 0., 0., 0., 0., 1.],\n",
              "        [0., 0., 0., 0., 0., 0., 0., 0., 0., 1.],\n",
              "        [0., 0., 0., 0., 1., 0., 0., 0., 0., 0.],\n",
              "        [0., 0., 0., 0., 0., 1., 0., 0., 0., 0.],\n",
              "        [0., 0., 0., 0., 1., 0., 0., 0., 0., 0.],\n",
              "        [1., 0., 0., 0., 0., 0., 0., 0., 0., 0.],\n",
              "        [0., 0., 0., 1., 0., 0., 0., 0., 0., 0.],\n",
              "        [0., 0., 0., 0., 0., 0., 0., 0., 0., 1.],\n",
              "        [0., 0., 1., 0., 0., 0., 0., 0., 0., 0.],\n",
              "        [0., 0., 0., 0., 1., 0., 0., 0., 0., 0.],\n",
              "        [1., 0., 0., 0., 0., 0., 0., 0., 0., 0.],\n",
              "        [0., 0., 0., 1., 0., 0., 0., 0., 0., 0.],\n",
              "        [0., 0., 0., 0., 0., 0., 0., 0., 0., 1.],\n",
              "        [0., 0., 0., 0., 0., 0., 0., 0., 0., 1.],\n",
              "        [0., 0., 0., 0., 0., 0., 0., 0., 1., 0.]])"
            ]
          },
          "metadata": {},
          "execution_count": 60
        }
      ]
    },
    {
      "cell_type": "code",
      "source": [
        "outputs[:4]"
      ],
      "metadata": {
        "colab": {
          "base_uri": "https://localhost:8080/"
        },
        "id": "If_6GAZ_mfYD",
        "outputId": "38adb23f-1513-4f3d-f40b-19c7af1674bd"
      },
      "execution_count": null,
      "outputs": [
        {
          "output_type": "execute_result",
          "data": {
            "text/plain": [
              "tensor([[0., 0., 0., 0., 0., 0., 0., 0., 0., 0.],\n",
              "        [0., 0., 0., 0., 0., 0., 0., 0., 0., 0.],\n",
              "        [0., 0., 0., 0., 0., 0., 0., 0., 0., 0.],\n",
              "        [0., 0., 0., 0., 0., 0., 0., 0., 0., 0.]], device='cuda:0',\n",
              "       grad_fn=<SliceBackward0>)"
            ]
          },
          "metadata": {},
          "execution_count": 61
        }
      ]
    },
    {
      "cell_type": "code",
      "source": [
        "y_train[:3]"
      ],
      "metadata": {
        "colab": {
          "base_uri": "https://localhost:8080/"
        },
        "id": "jrJXbSNwmu3N",
        "outputId": "26ecc73f-a04f-429a-a0d2-12adef3b7e5b"
      },
      "execution_count": null,
      "outputs": [
        {
          "output_type": "execute_result",
          "data": {
            "text/plain": [
              "tensor([6, 8, 7])"
            ]
          },
          "metadata": {},
          "execution_count": 62
        }
      ]
    },
    {
      "cell_type": "code",
      "source": [
        "t = torch.tensor([[0., 1., 2., 3., 0., 0., 0., 0., 0., 0.],[0., 1., 2., 3., 0., 0., 0., 0., 0., 0.]])"
      ],
      "metadata": {
        "id": "jGnA42jRbvib"
      },
      "execution_count": null,
      "outputs": []
    },
    {
      "cell_type": "code",
      "source": [
        "x_train.shape"
      ],
      "metadata": {
        "colab": {
          "base_uri": "https://localhost:8080/"
        },
        "id": "qoigfuu4curR",
        "outputId": "0e321490-9ee6-4f88-a577-f5980ab1e356"
      },
      "execution_count": null,
      "outputs": [
        {
          "output_type": "execute_result",
          "data": {
            "text/plain": [
              "torch.Size([50, 28, 28])"
            ]
          },
          "metadata": {},
          "execution_count": 64
        }
      ]
    },
    {
      "cell_type": "code",
      "source": [
        "x_train.view(-1, 28 * 28).shape"
      ],
      "metadata": {
        "colab": {
          "base_uri": "https://localhost:8080/"
        },
        "id": "a_uaH2-Ejfq3",
        "outputId": "8ff3a2f9-3125-41c7-dc1e-72ea71ebea99"
      },
      "execution_count": null,
      "outputs": [
        {
          "output_type": "execute_result",
          "data": {
            "text/plain": [
              "torch.Size([50, 784])"
            ]
          },
          "metadata": {},
          "execution_count": 65
        }
      ]
    },
    {
      "cell_type": "code",
      "source": [
        "t[0][2]"
      ],
      "metadata": {
        "colab": {
          "base_uri": "https://localhost:8080/"
        },
        "id": "bV2RPXCSb0vf",
        "outputId": "f1628970-17da-4af4-fd2e-93e22f08e1d7"
      },
      "execution_count": null,
      "outputs": [
        {
          "output_type": "execute_result",
          "data": {
            "text/plain": [
              "tensor(2.)"
            ]
          },
          "metadata": {},
          "execution_count": 66
        }
      ]
    },
    {
      "cell_type": "code",
      "source": [
        "y_train[1].item()"
      ],
      "metadata": {
        "colab": {
          "base_uri": "https://localhost:8080/"
        },
        "id": "UQaOD3bBdbxw",
        "outputId": "a5748760-8590-4a0a-f7a9-2d2f3166fc1c"
      },
      "execution_count": null,
      "outputs": [
        {
          "output_type": "execute_result",
          "data": {
            "text/plain": [
              "8"
            ]
          },
          "metadata": {},
          "execution_count": 67
        }
      ]
    },
    {
      "cell_type": "markdown",
      "source": [
        "## Dúvidas"
      ],
      "metadata": {
        "id": "GEPduLkW8XEK"
      }
    },
    {
      "cell_type": "markdown",
      "source": [
        "\n",
        "\n",
        "Não estava aprendendo (diminuindo o custo):\n",
        "\n",
        "   quando ponho na gpu to(device) \n",
        "\n",
        "   atribuindo direto para x(i) (ou usando +=)\n",
        "\n",
        "   fórmula não matricial de custo"
      ],
      "metadata": {
        "id": "DH1-kDtlPQPk"
      }
    },
    {
      "cell_type": "code",
      "source": [
        ""
      ],
      "metadata": {
        "id": "xG1Av4QYPb66"
      },
      "execution_count": null,
      "outputs": []
    }
  ]
}