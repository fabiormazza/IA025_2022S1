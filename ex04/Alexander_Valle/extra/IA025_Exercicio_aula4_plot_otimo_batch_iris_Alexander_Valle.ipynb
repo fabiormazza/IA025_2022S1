{
  "nbformat": 4,
  "nbformat_minor": 0,
  "metadata": {
    "colab": {
      "name": "IA025_Exercicio_aula4_plot_otimo_batch_iris_Alexander_Valle.ipynb",
      "provenance": [],
      "collapsed_sections": [],
      "include_colab_link": true
    },
    "kernelspec": {
      "name": "python3",
      "display_name": "Python 3"
    },
    "language_info": {
      "name": "python"
    }
  },
  "cells": [
    {
      "cell_type": "markdown",
      "metadata": {
        "id": "view-in-github",
        "colab_type": "text"
      },
      "source": [
        "<a href=\"https://colab.research.google.com/github/unicamp-dl/IA025_2022S1/blob/main/ex04/Alexander_Valle/extra/IA025_Exercicio_aula4_plot_otimo_batch_iris_Alexander_Valle.ipynb\" target=\"_parent\"><img src=\"https://colab.research.google.com/assets/colab-badge.svg\" alt=\"Open In Colab\"/></a>"
      ]
    },
    {
      "cell_type": "markdown",
      "source": [
        "Nome: Rolan Alexander Valle Rey Sánchez\n",
        "ra:230254"
      ],
      "metadata": {
        "id": "OuUGV9Mka-_m"
      }
    },
    {
      "cell_type": "code",
      "execution_count": null,
      "metadata": {
        "id": "dCHgSQLCl-cT"
      },
      "outputs": [],
      "source": [
        "import numpy as np\n",
        "import torch\n",
        "from torch.utils.data import TensorDataset\n",
        "from torch.utils.data import DataLoader\n",
        "from torchvision import transforms\n",
        "\n",
        "from sklearn.datasets import load_iris\n",
        "%matplotlib inline\n",
        "import matplotlib.pyplot as plt"
      ]
    },
    {
      "cell_type": "code",
      "source": [
        "iris = load_iris()\n",
        "data = iris.data[iris.target==1,::2]  # comprimento das sépalas e pétalas, indices 0 e 2\n",
        "\n",
        "x_data = data[:,0:1]\n",
        "target = data[:,1:2]\n",
        "n_samples = x_data.shape[0]\n",
        "\n",
        "print('dimensões de x_data:', x_data.shape)\n",
        "print('dimensões de target:', target.shape)"
      ],
      "metadata": {
        "colab": {
          "base_uri": "https://localhost:8080/"
        },
        "id": "3tq5F1rPmDSm",
        "outputId": "9d721928-5703-4c9c-95ee-d7e0acfe347f"
      },
      "execution_count": null,
      "outputs": [
        {
          "output_type": "stream",
          "name": "stdout",
          "text": [
            "dimensões de x_data: (50, 1)\n",
            "dimensões de target: (50, 1)\n"
          ]
        }
      ]
    },
    {
      "cell_type": "code",
      "source": [
        "x_train = torch.FloatTensor(x_data)\n",
        "y_train = torch.FloatTensor(target)\n",
        "xt_min = x_train.min()\n",
        "xt_max = x_train.max()\n",
        "x_train_n = (x_train - xt_min)/(xt_max - xt_min)\n",
        "\n",
        "yt_min = y_train.min()\n",
        "yt_max = y_train.max()\n",
        "y_train_n = (y_train - yt_min)/(yt_max - yt_min)"
      ],
      "metadata": {
        "id": "UoDwmWyRmKAC"
      },
      "execution_count": null,
      "outputs": []
    },
    {
      "cell_type": "code",
      "source": [
        "x_train_bias = torch.cat([torch.ones(size=(n_samples,1)), x_train_n], dim=1)\n",
        "print(x_train_bias.shape)"
      ],
      "metadata": {
        "colab": {
          "base_uri": "https://localhost:8080/"
        },
        "id": "808SexYanRHA",
        "outputId": "9123a992-6d8d-4789-ce7e-588c735298f6"
      },
      "execution_count": null,
      "outputs": [
        {
          "output_type": "stream",
          "name": "stdout",
          "text": [
            "torch.Size([50, 2])\n"
          ]
        }
      ]
    },
    {
      "cell_type": "code",
      "source": [
        "dataset = TensorDataset(x_train_bias, y_train_n)"
      ],
      "metadata": {
        "id": "28YsXH5jmZAZ"
      },
      "execution_count": null,
      "outputs": []
    },
    {
      "cell_type": "code",
      "source": [
        "\n",
        "data_loader = DataLoader(dataset, \n",
        "                         batch_size=10, # tamanho do mini-batch de dados\n",
        "                         shuffle=True) # se for True, embaralha os dados no inicio de cada iteração"
      ],
      "metadata": {
        "id": "xhHiL5Tkmwex"
      },
      "execution_count": null,
      "outputs": []
    },
    {
      "cell_type": "markdown",
      "source": [
        "Solução ótima"
      ],
      "metadata": {
        "id": "pYVneGRYneXZ"
      }
    },
    {
      "cell_type": "code",
      "source": [
        "x_bias, y = next(iter(data_loader))\n"
      ],
      "metadata": {
        "id": "Ra0wXQHSnkCt"
      },
      "execution_count": null,
      "outputs": []
    },
    {
      "cell_type": "code",
      "source": [
        "w_opt = (torch.inverse(x_bias.t().mm(x_bias)).mm(x_bias.t())).mm(y)\n",
        "print(w_opt.t(), w_opt.shape)"
      ],
      "metadata": {
        "colab": {
          "base_uri": "https://localhost:8080/"
        },
        "id": "3vVTJ_Z5mx6K",
        "outputId": "4d56934c-3337-4f2d-8b7e-6340abd57f50"
      },
      "execution_count": null,
      "outputs": [
        {
          "output_type": "stream",
          "name": "stdout",
          "text": [
            "tensor([[0.2158, 0.7894]]) torch.Size([2, 1])\n"
          ]
        }
      ]
    },
    {
      "cell_type": "markdown",
      "source": [
        "# Exercício é codificar a próxima célula:"
      ],
      "metadata": {
        "id": "FIxIOUmSa3mQ"
      }
    },
    {
      "cell_type": "code",
      "source": [
        "# colocar aqui um laço para \n",
        "# calcular os valores ótimos associados a cada batch\n",
        "# é esperado um gráfico parecido com o gráfico\n",
        "\n",
        "#train_loader = data.DataLoader(data.TensorDataset(X, Y), batch_size=16, …)\n",
        "# taking ispiration from https://discuss.pytorch.org/t/an-alternative-of-using-a-dataloader-in-a-for-loop/75823\n",
        "n_epochs=2500\n",
        "wlist=torch.Tensor([])\n",
        "for epoch in range(n_epochs):\n",
        "    x_bias, y = next(iter(data_loader))\n",
        "    w_opt = (torch.inverse(x_bias.t().mm(x_bias)).mm(x_bias.t())).mm(y)\n",
        "    wlist = torch.cat((wlist, w_opt.t()), dim=0)"
      ],
      "metadata": {
        "id": "mw7E0q8Jobkh"
      },
      "execution_count": null,
      "outputs": []
    },
    {
      "cell_type": "code",
      "source": [
        "#w_opt = torch.cat(wlist)\n",
        "w_opt = wlist\n",
        "plt.scatter(w_opt[:,0], w_opt[:,1])"
      ],
      "metadata": {
        "colab": {
          "base_uri": "https://localhost:8080/",
          "height": 282
        },
        "id": "7VMsCiGP1xpI",
        "outputId": "ac89a04d-08da-490d-f9ae-5bbad73d9f03"
      },
      "execution_count": null,
      "outputs": [
        {
          "output_type": "execute_result",
          "data": {
            "text/plain": [
              "<matplotlib.collections.PathCollection at 0x7f4472db4fd0>"
            ]
          },
          "metadata": {},
          "execution_count": 97
        },
        {
          "output_type": "display_data",
          "data": {
            "text/plain": [
              "<Figure size 432x288 with 1 Axes>"
            ],
            "image/png": "[encoded data removed]"
          },
          "metadata": {
            "needs_background": "light"
          }
        }
      ]
    },
    {
      "cell_type": "code",
      "source": [
        "#w_opt = torch.cat(wlist)\n",
        "#plt.scatter(w_opt[:,0], w_opt[:,1])"
      ],
      "metadata": {
        "colab": {
          "base_uri": "https://localhost:8080/",
          "height": 282
        },
        "id": "9GfFlSfbpni2",
        "outputId": "fa25befd-aae8-4eea-e5bd-785bf42381fa"
      },
      "execution_count": null,
      "outputs": [
        {
          "output_type": "execute_result",
          "data": {
            "text/plain": [
              "<matplotlib.collections.PathCollection at 0x7f3c2b4ba990>"
            ]
          },
          "metadata": {},
          "execution_count": 28
        },
        {
          "output_type": "display_data",
          "data": {
            "text/plain": [
              "<Figure size 432x288 with 1 Axes>"
            ],
            "image/png": "[encoded data removed]"
          },
          "metadata": {
            "needs_background": "light"
          }
        }
      ]
    },
    {
      "cell_type": "code",
      "source": [
        ""
      ],
      "metadata": {
        "id": "GsFwwva_rpd9"
      },
      "execution_count": null,
      "outputs": []
    }
  ]
}