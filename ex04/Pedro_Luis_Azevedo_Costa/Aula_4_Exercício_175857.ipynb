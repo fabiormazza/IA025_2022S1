{
  "nbformat": 4,
  "nbformat_minor": 0,
  "metadata": {
    "anaconda-cloud": {},
    "kernelspec": {
      "display_name": "Python 3",
      "language": "python",
      "name": "python3"
    },
    "language_info": {
      "codemirror_mode": {
        "name": "ipython",
        "version": 3
      },
      "file_extension": ".py",
      "mimetype": "text/x-python",
      "name": "python",
      "nbconvert_exporter": "python",
      "pygments_lexer": "ipython3",
      "version": "3.6.5"
    },
    "toc": {
      "nav_menu": {
        "height": "318px",
        "width": "252px"
      },
      "number_sections": true,
      "sideBar": true,
      "skip_h1_title": false,
      "toc_cell": false,
      "toc_position": {},
      "toc_section_display": "block",
      "toc_window_display": false
    },
    "colab": {
      "name": "Aula 4 - Exercício - 175857",
      "provenance": [],
      "collapsed_sections": [],
      "include_colab_link": true
    }
  },
  "cells": [
    {
      "cell_type": "markdown",
      "metadata": {
        "id": "view-in-github",
        "colab_type": "text"
      },
      "source": [
        "<a href=\"https://colab.research.google.com/github/unicamp-dl/IA025_2022S1/blob/main/ex04/Pedro_Luis_Azevedo_Costa/Aula_4_Exerc%C3%ADcio_175857.ipynb\" target=\"_parent\"><img src=\"https://colab.research.google.com/assets/colab-badge.svg\" alt=\"Open In Colab\"/></a>"
      ]
    },
    {
      "cell_type": "markdown",
      "metadata": {
        "id": "J3R2-_YuQT1r"
      },
      "source": [
        "# Regressão Softmax com dados do MNIST utilizando gradiente descendente estocástico por minibatches"
      ]
    },
    {
      "cell_type": "markdown",
      "metadata": {
        "id": "WkfGTqMVQT1u"
      },
      "source": [
        "Este exercicío consiste em treinar um modelo de uma única camada linear no MNIST **sem** usar as seguintes funções do pytorch:\n",
        "\n",
        "- torch.nn.Linear\n",
        "- torch.nn.CrossEntropyLoss\n",
        "- torch.nn.NLLLoss\n",
        "- torch.nn.LogSoftmax\n",
        "- torch.optim.SGD\n",
        "- torch.utils.data.Dataloader"
      ]
    },
    {
      "cell_type": "markdown",
      "metadata": {
        "id": "wFNf4RPxQT1w"
      },
      "source": [
        "## Importação das bibliotecas"
      ]
    },
    {
      "cell_type": "code",
      "metadata": {
        "ExecuteTime": {
          "end_time": "2018-08-21T14:08:14.033692Z",
          "start_time": "2018-08-21T14:08:11.179981Z"
        },
        "id": "-fLUSHaCQT1x"
      },
      "source": [
        "%matplotlib inline\n",
        "import numpy as np\n",
        "import matplotlib.pyplot as plt\n",
        "import random\n",
        "import torch\n",
        "import torchvision\n",
        "from torchvision.datasets import MNIST"
      ],
      "execution_count": 49,
      "outputs": []
    },
    {
      "cell_type": "markdown",
      "source": [
        "## Fixando as seeds"
      ],
      "metadata": {
        "id": "7_Po22b5ykhK"
      }
    },
    {
      "cell_type": "code",
      "source": [
        "random.seed(123)\n",
        "np.random.seed(123)\n",
        "torch.manual_seed(123)"
      ],
      "metadata": {
        "id": "y-7WWWgLyoRq",
        "colab": {
          "base_uri": "https://localhost:8080/"
        },
        "outputId": "6cee2d4f-6bc7-45f9-dffc-f3c06d54b674"
      },
      "execution_count": 50,
      "outputs": [
        {
          "output_type": "execute_result",
          "data": {
            "text/plain": [
              "<torch._C.Generator at 0x7f2a99f3a9b0>"
            ]
          },
          "metadata": {},
          "execution_count": 50
        }
      ]
    },
    {
      "cell_type": "markdown",
      "metadata": {
        "id": "jEMUsfJpQT11"
      },
      "source": [
        "## Dataset e dataloader"
      ]
    },
    {
      "cell_type": "markdown",
      "metadata": {
        "id": "vHoQjDs_QT12"
      },
      "source": [
        "### Definição do tamanho do minibatch"
      ]
    },
    {
      "cell_type": "code",
      "metadata": {
        "ExecuteTime": {
          "end_time": "2018-08-21T14:08:20.282474Z",
          "start_time": "2018-08-21T14:08:20.275450Z"
        },
        "id": "tEQYUr4TQT13"
      },
      "source": [
        "batch_size = 50"
      ],
      "execution_count": 51,
      "outputs": []
    },
    {
      "cell_type": "markdown",
      "metadata": {
        "id": "dc7Rv_2BQT16"
      },
      "source": [
        "### Carregamento, criação dataset e do dataloader"
      ]
    },
    {
      "cell_type": "code",
      "metadata": {
        "ExecuteTime": {
          "end_time": "2018-08-21T14:10:45.430605Z",
          "start_time": "2018-08-21T14:10:04.953051Z"
        },
        "id": "G0dEKCn-QT17",
        "colab": {
          "base_uri": "https://localhost:8080/"
        },
        "outputId": "6e1ef381-4e81-4921-976f-3d2a2386d3c9"
      },
      "source": [
        "dataset_dir = '../data/'\n",
        "\n",
        "dataset_train_full = MNIST(dataset_dir, train=True, download=True,\n",
        "                           transform=torchvision.transforms.ToTensor())\n",
        "print(dataset_train_full.data.shape)\n",
        "print(dataset_train_full.targets.shape)"
      ],
      "execution_count": 52,
      "outputs": [
        {
          "output_type": "stream",
          "name": "stdout",
          "text": [
            "torch.Size([60000, 28, 28])\n",
            "torch.Size([60000])\n"
          ]
        }
      ]
    },
    {
      "cell_type": "markdown",
      "metadata": {
        "id": "_rOy9ntrQT2D"
      },
      "source": [
        "### Usando apenas 1000 amostras do MNIST\n",
        "\n",
        "Neste exercício utilizaremos 1000 amostras de treinamento."
      ]
    },
    {
      "cell_type": "code",
      "metadata": {
        "id": "WNF2XjLBWWe7"
      },
      "source": [
        "indices = torch.randperm(len(dataset_train_full))[:1000]\n",
        "dataset_train = torch.utils.data.Subset(dataset_train_full, indices)\n",
        "\n"
      ],
      "execution_count": 53,
      "outputs": []
    },
    {
      "cell_type": "code",
      "source": [
        "len(list(dataset_train))"
      ],
      "metadata": {
        "colab": {
          "base_uri": "https://localhost:8080/"
        },
        "id": "-YcpJ5UBK7yA",
        "outputId": "ee45f7b2-ca86-41c8-9e43-b32793961d5c"
      },
      "execution_count": 54,
      "outputs": [
        {
          "output_type": "execute_result",
          "data": {
            "text/plain": [
              "1000"
            ]
          },
          "metadata": {},
          "execution_count": 54
        }
      ]
    },
    {
      "cell_type": "code",
      "source": [
        "def sample_subset(subset, idx_ini, n_samples):\n",
        "\n",
        "      ## Nesta parte do código me inspirei na solucao da Larissa Santesso\n",
        "      filtered_subset = subset[idx_ini:idx_ini + n_samples]\n",
        "      filtered_subset = list(zip(*filtered_subset)) \n",
        "      filtered_subset[0] = torch.stack(filtered_subset[0],dim=0)\n",
        "      filtered_subset[1] = torch.tensor(filtered_subset[1]).long()\n",
        "      return filtered_subset[0], filtered_subset[1]\n",
        "\n",
        "                  \n",
        "\n",
        "x_train_test, y_target_test = sample_subset(list(dataset_train), 10, 1)\n",
        "\n",
        "x_train_test\n"
      ],
      "metadata": {
        "id": "320oeqK5bcKO",
        "colab": {
          "base_uri": "https://localhost:8080/"
        },
        "outputId": "439c8aca-52e2-414b-c8e0-6f0fa38df445"
      },
      "execution_count": 55,
      "outputs": [
        {
          "output_type": "execute_result",
          "data": {
            "text/plain": [
              "tensor([[[[0.0000, 0.0000, 0.0000, 0.0000, 0.0000, 0.0000, 0.0000, 0.0000,\n",
              "           0.0000, 0.0000, 0.0000, 0.0000, 0.0000, 0.0000, 0.0000, 0.0000,\n",
              "           0.0000, 0.0000, 0.0000, 0.0000, 0.0000, 0.0000, 0.0000, 0.0000,\n",
              "           0.0000, 0.0000, 0.0000, 0.0000],\n",
              "          [0.0000, 0.0000, 0.0000, 0.0000, 0.0000, 0.0000, 0.0000, 0.0000,\n",
              "           0.0000, 0.0000, 0.0000, 0.0000, 0.0000, 0.0000, 0.0000, 0.0000,\n",
              "           0.0000, 0.0000, 0.0000, 0.0000, 0.0000, 0.0000, 0.0000, 0.0000,\n",
              "           0.0000, 0.0000, 0.0000, 0.0000],\n",
              "          [0.0000, 0.0000, 0.0000, 0.0000, 0.0000, 0.0000, 0.0000, 0.0000,\n",
              "           0.0000, 0.0000, 0.0000, 0.0000, 0.0000, 0.0000, 0.0000, 0.0000,\n",
              "           0.0000, 0.0000, 0.0000, 0.0000, 0.0000, 0.0000, 0.0000, 0.0000,\n",
              "           0.0000, 0.0000, 0.0000, 0.0000],\n",
              "          [0.0000, 0.0000, 0.0000, 0.0000, 0.0000, 0.0000, 0.0000, 0.0000,\n",
              "           0.0000, 0.0000, 0.0000, 0.0000, 0.0000, 0.0000, 0.0000, 0.0000,\n",
              "           0.0000, 0.0000, 0.0000, 0.0000, 0.0000, 0.0000, 0.0000, 0.0000,\n",
              "           0.0000, 0.0000, 0.0000, 0.0000],\n",
              "          [0.0000, 0.0000, 0.0000, 0.0000, 0.0000, 0.0000, 0.0000, 0.0000,\n",
              "           0.0000, 0.0000, 0.0902, 0.5922, 1.0000, 0.9961, 0.9961, 0.8667,\n",
              "           0.1333, 0.0078, 0.0000, 0.0000, 0.0000, 0.0000, 0.0000, 0.0000,\n",
              "           0.0000, 0.0000, 0.0000, 0.0000],\n",
              "          [0.0000, 0.0000, 0.0000, 0.0000, 0.0000, 0.0000, 0.0000, 0.0000,\n",
              "           0.0000, 0.0902, 0.8275, 0.9922, 0.9922, 0.9922, 0.9922, 0.9922,\n",
              "           0.9922, 0.4549, 0.0000, 0.0000, 0.0000, 0.0000, 0.0000, 0.0000,\n",
              "           0.0000, 0.0000, 0.0000, 0.0000],\n",
              "          [0.0000, 0.0000, 0.0000, 0.0000, 0.0000, 0.0000, 0.0000, 0.0000,\n",
              "           0.0588, 0.8235, 0.9922, 0.9922, 0.9412, 0.5725, 0.5529, 0.9412,\n",
              "           0.9922, 0.8549, 0.0941, 0.0000, 0.0000, 0.0000, 0.0000, 0.0000,\n",
              "           0.0000, 0.0000, 0.0000, 0.0000],\n",
              "          [0.0000, 0.0000, 0.0000, 0.0000, 0.0000, 0.0000, 0.0000, 0.0000,\n",
              "           0.0431, 0.7059, 0.8235, 0.4118, 0.1294, 0.0000, 0.0000, 0.2706,\n",
              "           0.9922, 0.9922, 0.4863, 0.0157, 0.0000, 0.0000, 0.0000, 0.0000,\n",
              "           0.0000, 0.0000, 0.0000, 0.0000],\n",
              "          [0.0000, 0.0000, 0.0000, 0.0000, 0.0000, 0.0000, 0.0000, 0.0000,\n",
              "           0.0000, 0.0000, 0.0000, 0.0000, 0.0000, 0.0000, 0.0000, 0.2706,\n",
              "           0.9922, 0.9922, 0.9529, 0.1255, 0.0000, 0.0000, 0.0000, 0.0000,\n",
              "           0.0000, 0.0000, 0.0000, 0.0000],\n",
              "          [0.0000, 0.0000, 0.0000, 0.0000, 0.0000, 0.0000, 0.0000, 0.0000,\n",
              "           0.0000, 0.0000, 0.0000, 0.0000, 0.0000, 0.0000, 0.0000, 0.3412,\n",
              "           0.9922, 0.9922, 0.5804, 0.0000, 0.0000, 0.0000, 0.0000, 0.0000,\n",
              "           0.0000, 0.0000, 0.0000, 0.0000],\n",
              "          [0.0000, 0.0000, 0.0000, 0.0000, 0.0000, 0.0000, 0.0000, 0.0000,\n",
              "           0.0000, 0.0000, 0.0000, 0.0000, 0.0000, 0.0000, 0.1647, 0.9137,\n",
              "           0.9922, 0.9373, 0.1412, 0.0000, 0.0000, 0.0000, 0.0000, 0.0000,\n",
              "           0.0000, 0.0000, 0.0000, 0.0000],\n",
              "          [0.0000, 0.0000, 0.0000, 0.0000, 0.0000, 0.0000, 0.0000, 0.0000,\n",
              "           0.0000, 0.0000, 0.0000, 0.0353, 0.1961, 0.1961, 0.6275, 0.9922,\n",
              "           0.9922, 0.5804, 0.0000, 0.0000, 0.0000, 0.0000, 0.0000, 0.0000,\n",
              "           0.0000, 0.0000, 0.0000, 0.0000],\n",
              "          [0.0000, 0.0000, 0.0000, 0.0000, 0.0000, 0.0000, 0.0000, 0.0000,\n",
              "           0.0000, 0.0275, 0.5294, 0.7529, 0.9922, 0.9922, 0.9922, 0.9922,\n",
              "           0.5451, 0.0588, 0.0000, 0.0000, 0.0000, 0.0000, 0.0000, 0.0000,\n",
              "           0.0000, 0.0000, 0.0000, 0.0000],\n",
              "          [0.0000, 0.0000, 0.0000, 0.0000, 0.0000, 0.0000, 0.0000, 0.0000,\n",
              "           0.0000, 0.1255, 0.9922, 0.9922, 0.9922, 0.9922, 0.9922, 0.9922,\n",
              "           0.9137, 0.5020, 0.0000, 0.0000, 0.0000, 0.0000, 0.0000, 0.0000,\n",
              "           0.0000, 0.0000, 0.0000, 0.0000],\n",
              "          [0.0000, 0.0000, 0.0000, 0.0000, 0.0000, 0.0000, 0.0000, 0.0000,\n",
              "           0.0000, 0.0902, 0.8941, 0.9922, 0.8078, 0.6157, 0.3608, 0.7255,\n",
              "           0.9333, 0.9176, 0.5882, 0.0392, 0.0000, 0.0000, 0.0000, 0.0000,\n",
              "           0.0000, 0.0000, 0.0000, 0.0000],\n",
              "          [0.0000, 0.0000, 0.0000, 0.0000, 0.0000, 0.0000, 0.0000, 0.0000,\n",
              "           0.0000, 0.0000, 0.1373, 0.2157, 0.0706, 0.0000, 0.0000, 0.0000,\n",
              "           0.3137, 0.9373, 0.9922, 0.6314, 0.1804, 0.0000, 0.0000, 0.0000,\n",
              "           0.0000, 0.0000, 0.0000, 0.0000],\n",
              "          [0.0000, 0.0000, 0.0000, 0.0000, 0.0000, 0.0000, 0.0000, 0.0000,\n",
              "           0.0000, 0.0000, 0.0000, 0.0000, 0.0000, 0.0000, 0.0000, 0.0000,\n",
              "           0.0000, 0.4118, 0.9922, 0.9922, 0.6039, 0.0000, 0.0000, 0.0000,\n",
              "           0.0000, 0.0000, 0.0000, 0.0000],\n",
              "          [0.0000, 0.0000, 0.0000, 0.0000, 0.0000, 0.0000, 0.0000, 0.0000,\n",
              "           0.0000, 0.0000, 0.0000, 0.0000, 0.0000, 0.0000, 0.0000, 0.0000,\n",
              "           0.0000, 0.2118, 0.9373, 0.9922, 0.9294, 0.0784, 0.0000, 0.0000,\n",
              "           0.0000, 0.0000, 0.0000, 0.0000],\n",
              "          [0.0000, 0.0000, 0.0000, 0.0000, 0.0000, 0.0000, 0.0000, 0.0000,\n",
              "           0.0000, 0.0000, 0.0000, 0.0000, 0.0000, 0.0000, 0.0000, 0.0000,\n",
              "           0.0000, 0.0000, 0.8275, 0.9922, 0.9922, 0.0941, 0.0000, 0.0000,\n",
              "           0.0000, 0.0000, 0.0000, 0.0000],\n",
              "          [0.0000, 0.0000, 0.0000, 0.0000, 0.0000, 0.0000, 0.0000, 0.0000,\n",
              "           0.0863, 0.5765, 0.3333, 0.0000, 0.0000, 0.0000, 0.0000, 0.0000,\n",
              "           0.0000, 0.2824, 0.9725, 0.9922, 0.8392, 0.0588, 0.0000, 0.0000,\n",
              "           0.0000, 0.0000, 0.0000, 0.0000],\n",
              "          [0.0000, 0.0000, 0.0000, 0.0000, 0.0000, 0.0000, 0.0000, 0.0000,\n",
              "           0.5373, 0.9922, 0.9804, 0.7451, 0.0000, 0.0000, 0.0000, 0.0000,\n",
              "           0.0000, 0.5176, 0.9922, 0.9922, 0.4039, 0.0000, 0.0000, 0.0000,\n",
              "           0.0000, 0.0000, 0.0000, 0.0000],\n",
              "          [0.0000, 0.0000, 0.0000, 0.0000, 0.0000, 0.0000, 0.0000, 0.0000,\n",
              "           0.3725, 0.9922, 0.9922, 0.8980, 0.4392, 0.4392, 0.4392, 0.3216,\n",
              "           0.4902, 0.9804, 0.9922, 0.6157, 0.0667, 0.0000, 0.0000, 0.0000,\n",
              "           0.0000, 0.0000, 0.0000, 0.0000],\n",
              "          [0.0000, 0.0000, 0.0000, 0.0000, 0.0000, 0.0000, 0.0000, 0.0000,\n",
              "           0.0549, 0.5882, 0.9922, 0.9922, 0.9922, 0.9922, 0.9922, 0.9804,\n",
              "           0.9843, 0.9922, 0.4431, 0.0078, 0.0000, 0.0000, 0.0000, 0.0000,\n",
              "           0.0000, 0.0000, 0.0000, 0.0000],\n",
              "          [0.0000, 0.0000, 0.0000, 0.0000, 0.0000, 0.0000, 0.0000, 0.0000,\n",
              "           0.0000, 0.0039, 0.3333, 0.5882, 0.9922, 0.9922, 0.9922, 0.9922,\n",
              "           0.6118, 0.1137, 0.0039, 0.0000, 0.0000, 0.0000, 0.0000, 0.0000,\n",
              "           0.0000, 0.0000, 0.0000, 0.0000],\n",
              "          [0.0000, 0.0000, 0.0000, 0.0000, 0.0000, 0.0000, 0.0000, 0.0000,\n",
              "           0.0000, 0.0000, 0.0000, 0.0000, 0.0000, 0.0000, 0.0000, 0.0000,\n",
              "           0.0000, 0.0000, 0.0000, 0.0000, 0.0000, 0.0000, 0.0000, 0.0000,\n",
              "           0.0000, 0.0000, 0.0000, 0.0000],\n",
              "          [0.0000, 0.0000, 0.0000, 0.0000, 0.0000, 0.0000, 0.0000, 0.0000,\n",
              "           0.0000, 0.0000, 0.0000, 0.0000, 0.0000, 0.0000, 0.0000, 0.0000,\n",
              "           0.0000, 0.0000, 0.0000, 0.0000, 0.0000, 0.0000, 0.0000, 0.0000,\n",
              "           0.0000, 0.0000, 0.0000, 0.0000],\n",
              "          [0.0000, 0.0000, 0.0000, 0.0000, 0.0000, 0.0000, 0.0000, 0.0000,\n",
              "           0.0000, 0.0000, 0.0000, 0.0000, 0.0000, 0.0000, 0.0000, 0.0000,\n",
              "           0.0000, 0.0000, 0.0000, 0.0000, 0.0000, 0.0000, 0.0000, 0.0000,\n",
              "           0.0000, 0.0000, 0.0000, 0.0000],\n",
              "          [0.0000, 0.0000, 0.0000, 0.0000, 0.0000, 0.0000, 0.0000, 0.0000,\n",
              "           0.0000, 0.0000, 0.0000, 0.0000, 0.0000, 0.0000, 0.0000, 0.0000,\n",
              "           0.0000, 0.0000, 0.0000, 0.0000, 0.0000, 0.0000, 0.0000, 0.0000,\n",
              "           0.0000, 0.0000, 0.0000, 0.0000]]]])"
            ]
          },
          "metadata": {},
          "execution_count": 55
        }
      ]
    },
    {
      "cell_type": "code",
      "metadata": {
        "id": "aSNLD2JyA2e-"
      },
      "source": [
        "from typing import Counter\n",
        "# Escreva aqui o equivalente do código abaixo:\n",
        "# loader_train = torch.utils.data.DataLoader(dataset_train, batch_size=batch_size, shuffle=False)\n",
        "\n",
        "class DataLoader():\n",
        "    def __init__(self, dataset, batch_size, shuffle):\n",
        "        self.dataset = list(dataset)\n",
        "        self.batch_size = batch_size\n",
        "        self.shuffle = shuffle\n",
        "        self.index_counter = 0\n",
        "        self.n_batches = int(len(self.dataset)/self.batch_size)\n",
        "    \n",
        "    def __len__(self):\n",
        "        return self.n_batches\n",
        "    \n",
        "    def __iter__(self):\n",
        "        self.index_counter = 0\n",
        "        return self\n",
        "    def __next__(self):\n",
        "        if self.index_counter >= len(self.dataset)/self.batch_size:\n",
        "            raise StopIteration\n",
        "        else:\n",
        "            sample_data, sample_target = sample_subset(self.dataset, self.index_counter*self.batch_size, self.batch_size)\n",
        "            self.index_counter += 1\n",
        "            return sample_data, sample_target\n",
        "\n",
        "loader_train = DataLoader(dataset_train, batch_size=batch_size, shuffle=False)\n"
      ],
      "execution_count": 56,
      "outputs": []
    },
    {
      "cell_type": "code",
      "metadata": {
        "ExecuteTime": {
          "end_time": "2018-08-21T13:30:35.209157Z",
          "start_time": "2018-08-21T13:30:34.757103Z"
        },
        "id": "w52KGYlIQT2A",
        "colab": {
          "base_uri": "https://localhost:8080/"
        },
        "outputId": "bbab882a-cc0c-4864-9e74-6d2f89cb958e"
      },
      "source": [
        "print('Número de minibatches de trenamento:', len(loader_train))\n",
        "\n",
        "x_train, y_train = next(iter(loader_train))\n",
        "print(\"\\nDimensões dos dados de um minibatch:\", x_train.size())\n",
        "print(\"Valores mínimo e máximo dos pixels: \", torch.min(x_train), torch.max(x_train))\n",
        "print(\"Tipo dos dados das imagens:         \", type(x_train))\n",
        "print(\"Tipo das classes das imagens:       \", type(y_train))"
      ],
      "execution_count": 57,
      "outputs": [
        {
          "output_type": "stream",
          "name": "stdout",
          "text": [
            "Número de minibatches de trenamento: 20\n",
            "\n",
            "Dimensões dos dados de um minibatch: torch.Size([50, 1, 28, 28])\n",
            "Valores mínimo e máximo dos pixels:  tensor(0.) tensor(1.)\n",
            "Tipo dos dados das imagens:          <class 'torch.Tensor'>\n",
            "Tipo das classes das imagens:        <class 'torch.Tensor'>\n"
          ]
        }
      ]
    },
    {
      "cell_type": "markdown",
      "metadata": {
        "id": "BQA9Zg7GQT2G"
      },
      "source": [
        "## Modelo"
      ]
    },
    {
      "cell_type": "code",
      "metadata": {
        "ExecuteTime": {
          "end_time": "2018-08-20T21:03:10.802708Z",
          "start_time": "2018-08-20T21:03:10.793287Z"
        },
        "id": "_8Eg4h_kQT2H",
        "colab": {
          "base_uri": "https://localhost:8080/"
        },
        "outputId": "24651cc6-5bc2-4a92-a740-5c1161b4b98c"
      },
      "source": [
        "# Escreva aqui o codigo para criar um modelo cujo o equivalente é: \n",
        "# model = torch.nn.Linear(28*28, 10)\n",
        "# model.load_state_dict(dict(weight=torch.zeros(model.weight.shape), bias=torch.zeros(model.bias.shape)))\n",
        "\n",
        "class Linear():\n",
        "    def __init__(self, n_in, n_out):\n",
        "        self.n_in = n_in\n",
        "        self.n_out = n_out\n",
        "        self.weight = torch.zeros(n_out, n_in, requires_grad=True)\n",
        "        self.bias = torch.zeros(n_out, requires_grad=True)\n",
        "    \n",
        "    def __call__(self, input):\n",
        "        output = torch.matmul(input, self.weight.T) + self.bias\n",
        "        return output\n",
        "\n",
        "    def parameters(self):\n",
        "        return [self.weight, self.bias]\n",
        "\n",
        "model = Linear(28*28, 10)\n",
        "input = torch.zeros([50, 28*28])\n",
        "\n",
        "x = model(input)\n",
        "print(x.shape)\n",
        "    \n",
        "\n"
      ],
      "execution_count": 58,
      "outputs": [
        {
          "output_type": "stream",
          "name": "stdout",
          "text": [
            "torch.Size([50, 10])\n"
          ]
        }
      ]
    },
    {
      "cell_type": "markdown",
      "metadata": {
        "id": "0NHQB4wGQT2K"
      },
      "source": [
        "## Treinamento"
      ]
    },
    {
      "cell_type": "markdown",
      "metadata": {
        "id": "nqs2JhJoQT2L"
      },
      "source": [
        "### Inicialização dos parâmetros"
      ]
    },
    {
      "cell_type": "code",
      "metadata": {
        "ExecuteTime": {
          "end_time": "2018-08-20T21:03:14.146259Z",
          "start_time": "2018-08-20T21:03:14.139515Z"
        },
        "id": "oZuYEkn_QT2M"
      },
      "source": [
        "n_epochs = 50\n",
        "lr = 0.1"
      ],
      "execution_count": 59,
      "outputs": []
    },
    {
      "cell_type": "markdown",
      "metadata": {
        "id": "tGeMCRw5kQMU"
      },
      "source": [
        "## Definição da Loss\n",
        "\n"
      ]
    },
    {
      "cell_type": "code",
      "metadata": {
        "id": "XcqFzpSTkYtk",
        "colab": {
          "base_uri": "https://localhost:8080/"
        },
        "outputId": "9c8a9e5f-024a-488e-ca4b-6572568d07a4"
      },
      "source": [
        "# Escreva aqui o equivalente de:\n",
        "# criterion = torch.nn.CrossEntropyLoss()\n",
        "\n",
        "\n",
        "\n",
        "\n",
        "\n",
        "\n",
        "\n",
        "\n",
        "def criterion(pred, target):\n",
        "\n",
        "    exp = torch.exp(pred)\n",
        "    sum = exp.sum(axis=1) \n",
        "    log = torch.log(sum)\n",
        "    z_y = pred[range(len(exp)), target]\n",
        "    H = (-z_y + log).sum()/len(exp)\n",
        "    return H\n",
        "\n",
        "\n",
        "model = Linear(28*28, 10)\n",
        "\n",
        "\n",
        "inputs = x_train.view(-1, 28 * 28)\n",
        "# predict da rede\n",
        "outputs = model(inputs)\n",
        "\n",
        "# calcula a perda\n",
        "loss = criterion(outputs, y_train)\n",
        "loss\n"
      ],
      "execution_count": 60,
      "outputs": [
        {
          "output_type": "execute_result",
          "data": {
            "text/plain": [
              "tensor(2.3026, grad_fn=<DivBackward0>)"
            ]
          },
          "metadata": {},
          "execution_count": 60
        }
      ]
    },
    {
      "cell_type": "markdown",
      "source": [
        "# Definição do Optimizer"
      ],
      "metadata": {
        "id": "01BDueU2x4ox"
      }
    },
    {
      "cell_type": "code",
      "source": [
        "# Escreva aqui o equivalente de:\n",
        "# optimizer = torch.optim.SGD(model.parameters(), lr)\n",
        "\n",
        "class SGD():\n",
        "    def __init__(self, parameters, lr):\n",
        "        print(parameters)\n",
        "        self.parameters = parameters\n",
        "        self.lr = lr\n",
        "\n",
        "    def step(self):\n",
        "        for parameter in self.parameters:\n",
        "            parameter.data = parameter.data - self.lr * parameter.grad\n",
        "        return\n",
        "\n",
        "    def zero_grad(self):\n",
        "        for parameter in self.parameters:\n",
        "            parameter.grad = torch.zeros(parameter.data.shape)\n",
        "        return\n",
        "\n",
        "    \n",
        "optimizer = SGD(model.parameters(), lr)"
      ],
      "metadata": {
        "id": "tIlnR_Z8x85O",
        "colab": {
          "base_uri": "https://localhost:8080/"
        },
        "outputId": "8cd46fe2-2b2a-4b7b-cc60-3dcff71f9cce"
      },
      "execution_count": 61,
      "outputs": [
        {
          "output_type": "stream",
          "name": "stdout",
          "text": [
            "[tensor([[0., 0., 0.,  ..., 0., 0., 0.],\n",
            "        [0., 0., 0.,  ..., 0., 0., 0.],\n",
            "        [0., 0., 0.,  ..., 0., 0., 0.],\n",
            "        ...,\n",
            "        [0., 0., 0.,  ..., 0., 0., 0.],\n",
            "        [0., 0., 0.,  ..., 0., 0., 0.],\n",
            "        [0., 0., 0.,  ..., 0., 0., 0.]], requires_grad=True), tensor([0., 0., 0., 0., 0., 0., 0., 0., 0., 0.], requires_grad=True)]\n"
          ]
        }
      ]
    },
    {
      "cell_type": "markdown",
      "metadata": {
        "id": "pmXarXeIQT2O"
      },
      "source": [
        "### Laço de treinamento dos parâmetros"
      ]
    },
    {
      "cell_type": "code",
      "metadata": {
        "ExecuteTime": {
          "end_time": "2018-08-20T21:03:40.796410Z",
          "start_time": "2018-08-20T21:03:39.771981Z"
        },
        "id": "L5T_jZZPQT2P",
        "colab": {
          "base_uri": "https://localhost:8080/"
        },
        "outputId": "9f0ba4ba-7623-47a2-a41b-921dea76fd83"
      },
      "source": [
        "epochs = []\n",
        "loss_history = []\n",
        "loss_epoch_end = []\n",
        "total_trained_samples = 0\n",
        "for i in range(n_epochs):\n",
        "    # Substitua aqui o loader_train de acordo com sua implementação do dataloader.\n",
        "    for x_train, y_train in loader_train:\n",
        "        # Transforma a entrada para uma dimensão\n",
        "        inputs = x_train.view(-1, 28 * 28)\n",
        "        # predict da rede\n",
        "        outputs = model(inputs)\n",
        "\n",
        "        # calcula a perda\n",
        "        loss = criterion(outputs, y_train)\n",
        "\n",
        "        # zero, backpropagation, ajusta parâmetros pelo gradiente descendente\n",
        "        # Escreva aqui o código cujo o resultado é equivalente às 3 linhas abaixo:\n",
        "        optimizer.zero_grad()\n",
        "        loss.backward()\n",
        "        optimizer.step()\n",
        "\n",
        "        total_trained_samples += x_train.size(0)\n",
        "        epochs.append(total_trained_samples / len(dataset_train))\n",
        "        loss_history.append(loss.item())\n",
        "\n",
        "    loss_epoch_end.append(loss.item())\n",
        "    print(f'Epoch: {i:d}/{n_epochs - 1:d} Loss: {loss.item()}')\n"
      ],
      "execution_count": 62,
      "outputs": [
        {
          "output_type": "stream",
          "name": "stdout",
          "text": [
            "Epoch: 0/49 Loss: 1.1979684829711914\n",
            "Epoch: 1/49 Loss: 0.867622971534729\n",
            "Epoch: 2/49 Loss: 0.7226786613464355\n",
            "Epoch: 3/49 Loss: 0.6381281018257141\n",
            "Epoch: 4/49 Loss: 0.5809750556945801\n",
            "Epoch: 5/49 Loss: 0.5387411713600159\n",
            "Epoch: 6/49 Loss: 0.5056463479995728\n",
            "Epoch: 7/49 Loss: 0.47862708568573\n",
            "Epoch: 8/49 Loss: 0.4558936655521393\n",
            "Epoch: 9/49 Loss: 0.4363219141960144\n",
            "Epoch: 10/49 Loss: 0.4191650152206421\n",
            "Epoch: 11/49 Loss: 0.403904527425766\n",
            "Epoch: 12/49 Loss: 0.39016804099082947\n",
            "Epoch: 13/49 Loss: 0.3776799738407135\n",
            "Epoch: 14/49 Loss: 0.3662315011024475\n",
            "Epoch: 15/49 Loss: 0.35566142201423645\n",
            "Epoch: 16/49 Loss: 0.34584280848503113\n",
            "Epoch: 17/49 Loss: 0.33667415380477905\n",
            "Epoch: 18/49 Loss: 0.3280735909938812\n",
            "Epoch: 19/49 Loss: 0.31997358798980713\n",
            "Epoch: 20/49 Loss: 0.3123184144496918\n",
            "Epoch: 21/49 Loss: 0.30506110191345215\n",
            "Epoch: 22/49 Loss: 0.2981624901294708\n",
            "Epoch: 23/49 Loss: 0.29158854484558105\n",
            "Epoch: 24/49 Loss: 0.2853103280067444\n",
            "Epoch: 25/49 Loss: 0.27930304408073425\n",
            "Epoch: 26/49 Loss: 0.2735445499420166\n",
            "Epoch: 27/49 Loss: 0.2680158317089081\n",
            "Epoch: 28/49 Loss: 0.26270005106925964\n",
            "Epoch: 29/49 Loss: 0.2575823664665222\n",
            "Epoch: 30/49 Loss: 0.25264933705329895\n",
            "Epoch: 31/49 Loss: 0.24788936972618103\n",
            "Epoch: 32/49 Loss: 0.24329166114330292\n",
            "Epoch: 33/49 Loss: 0.23884664475917816\n",
            "Epoch: 34/49 Loss: 0.23454585671424866\n",
            "Epoch: 35/49 Loss: 0.23038141429424286\n",
            "Epoch: 36/49 Loss: 0.22634631395339966\n",
            "Epoch: 37/49 Loss: 0.22243395447731018\n",
            "Epoch: 38/49 Loss: 0.2186385691165924\n",
            "Epoch: 39/49 Loss: 0.21495485305786133\n",
            "Epoch: 40/49 Loss: 0.21137763559818268\n",
            "Epoch: 41/49 Loss: 0.20790255069732666\n",
            "Epoch: 42/49 Loss: 0.20452527701854706\n",
            "Epoch: 43/49 Loss: 0.20124195516109467\n",
            "Epoch: 44/49 Loss: 0.19804900884628296\n",
            "Epoch: 45/49 Loss: 0.19494293630123138\n",
            "Epoch: 46/49 Loss: 0.1919206976890564\n",
            "Epoch: 47/49 Loss: 0.1889793425798416\n",
            "Epoch: 48/49 Loss: 0.1861160844564438\n",
            "Epoch: 49/49 Loss: 0.1833283007144928\n"
          ]
        }
      ]
    },
    {
      "cell_type": "markdown",
      "metadata": {
        "id": "1dYK0nqsQT2U"
      },
      "source": [
        "### Visualizando gráfico de perda durante o treinamento"
      ]
    },
    {
      "cell_type": "code",
      "metadata": {
        "ExecuteTime": {
          "end_time": "2018-08-20T21:03:52.026752Z",
          "start_time": "2018-08-20T21:03:51.756518Z"
        },
        "id": "LIyUI6AHQT2V",
        "colab": {
          "base_uri": "https://localhost:8080/",
          "height": 297
        },
        "outputId": "7a379c41-ff04-423e-e6b4-a14cfb108d22"
      },
      "source": [
        "plt.plot(epochs, loss_history)\n",
        "plt.xlabel('época')"
      ],
      "execution_count": 63,
      "outputs": [
        {
          "output_type": "execute_result",
          "data": {
            "text/plain": [
              "Text(0.5, 0, 'época')"
            ]
          },
          "metadata": {},
          "execution_count": 63
        },
        {
          "output_type": "display_data",
          "data": {
            "text/plain": [
              "<Figure size 432x288 with 1 Axes>"
            ],
            "image/png": "[encoded data removed]"
          },
          "metadata": {
            "needs_background": "light"
          }
        }
      ]
    },
    {
      "cell_type": "markdown",
      "metadata": {
        "id": "rLL-GQlKQT2Y"
      },
      "source": [
        "### Visualização usual da perda, somente no final de cada minibatch"
      ]
    },
    {
      "cell_type": "code",
      "metadata": {
        "ExecuteTime": {
          "end_time": "2018-08-20T21:03:55.246851Z",
          "start_time": "2018-08-20T21:03:54.994428Z"
        },
        "id": "w38EtNxhQT2Z",
        "colab": {
          "base_uri": "https://localhost:8080/",
          "height": 297
        },
        "outputId": "fe786c2c-dd10-46f1-e60b-af5f93db252b"
      },
      "source": [
        "n_batches_train = len(loader_train)\n",
        "plt.plot(epochs[::n_batches_train], loss_history[::n_batches_train])\n",
        "plt.xlabel('época')"
      ],
      "execution_count": 64,
      "outputs": [
        {
          "output_type": "execute_result",
          "data": {
            "text/plain": [
              "Text(0.5, 0, 'época')"
            ]
          },
          "metadata": {},
          "execution_count": 64
        },
        {
          "output_type": "display_data",
          "data": {
            "text/plain": [
              "<Figure size 432x288 with 1 Axes>"
            ],
            "image/png": "[encoded data removed]"
          },
          "metadata": {
            "needs_background": "light"
          }
        }
      ]
    },
    {
      "cell_type": "code",
      "metadata": {
        "ExecuteTime": {
          "end_time": "2018-08-20T21:03:48.786969Z",
          "start_time": "2018-08-20T21:03:48.781787Z"
        },
        "id": "PiuMsjYtQT2R"
      },
      "source": [
        "# Assert do histórico de losses\n",
        "target_loss_epoch_end = np.array([\n",
        "    1.1979684829711914,\n",
        "    0.867622971534729,\n",
        "    0.7226786613464355,\n",
        "    0.6381281018257141,\n",
        "    0.5809749960899353,\n",
        "    0.5387411713600159,\n",
        "    0.5056464076042175,\n",
        "    0.4786270558834076,\n",
        "    0.4558936357498169,\n",
        "    0.4363219141960144,\n",
        "    0.4191650450229645,\n",
        "    0.4039044976234436,\n",
        "    0.3901679515838623,\n",
        "    0.3776799440383911,\n",
        "    0.3662314713001251,\n",
        "    0.35566139221191406,\n",
        "    0.34584277868270874,\n",
        "    0.33667415380477905,\n",
        "    0.32807353138923645,\n",
        "    0.31997355818748474,\n",
        "    0.312318354845047,\n",
        "    0.3050611615180969,\n",
        "    0.29816246032714844,\n",
        "    0.29158851504325867,\n",
        "    0.28531041741371155,\n",
        "    0.2793029546737671,\n",
        "    0.273544579744339,\n",
        "    0.2680158317089081,\n",
        "    0.26270008087158203,\n",
        "    0.2575823664665222,\n",
        "    0.25264936685562134,\n",
        "    0.24788929522037506,\n",
        "    0.24329163134098053,\n",
        "    0.23884665966033936,\n",
        "    0.23454584181308746,\n",
        "    0.23038141429424286,\n",
        "    0.22634628415107727,\n",
        "    0.22243399918079376,\n",
        "    0.2186385989189148,\n",
        "    0.21495483815670013,\n",
        "    0.21137762069702148,\n",
        "    0.20790249109268188,\n",
        "    0.20452524721622467,\n",
        "    0.20124195516109467,\n",
        "    0.19804897904396057,\n",
        "    0.1949428766965866,\n",
        "    0.19192075729370117,\n",
        "    0.188979372382164,\n",
        "    0.18611609935760498,\n",
        "    0.1833282858133316])\n",
        "\n",
        "assert np.allclose(np.array(loss_epoch_end), target_loss_epoch_end, atol=1e-6)"
      ],
      "execution_count": 65,
      "outputs": []
    },
    {
      "cell_type": "markdown",
      "metadata": {
        "id": "fptnTktx_1rh"
      },
      "source": [
        "## Exercício \n",
        "\n",
        "Escreva um código que responda às seguintes perguntas:\n",
        "\n",
        "Qual é a amostra classificada corretamente, com maior probabilidade?\n",
        "\n",
        "Qual é a amostra classificada erradamente, com maior probabilidade?\n",
        "\n",
        "Qual é a amostra classificada corretamente, com menor probabilidade?\n",
        "\n",
        "Qual é a amostra classificada erradamente, com menor probabilidade?"
      ]
    },
    {
      "cell_type": "code",
      "metadata": {
        "id": "IzH8iMGt_1Rr",
        "colab": {
          "base_uri": "https://localhost:8080/"
        },
        "outputId": "7b12bdef-3398-4406-9487-57623abc42df"
      },
      "source": [
        "# Escreva o código aqui:\n",
        "x_train_full = torch.Tensor([])\n",
        "y_train_full = torch.Tensor([])\n",
        "for x_train_join, y_train_join in loader_train:\n",
        "    x_train_full = torch.cat((x_train_full, x_train_join))\n",
        "    y_train_full = torch.cat((y_train_full, y_train_join))\n",
        "\n",
        "inputs = x_train_full.view(-1, 28 * 28)\n",
        "outputs = model(inputs)\n",
        "\n",
        "\n",
        "\n",
        "logit_exp = torch.exp(outputs)\n",
        "logit_sum = logit_exp.sum(axis=1)\n",
        "logit = (logit_exp.T/logit_sum).T\n",
        "\n",
        "max_correct = {\"val\": 0, \"index\": 0}\n",
        "max_wrong = {\"val\": 0, \"index\": 0}\n",
        "min_correct = {\"val\": 1, \"index\": 0}\n",
        "min_wrong = {\"val\": 1, \"index\": 0}\n",
        "for index, train in enumerate(logit):\n",
        "    correct_index = y_train_full[index].item()\n",
        "    max_value = train.max()\n",
        "    min_value = train.min()\n",
        "    max_index = (train == max_value).nonzero(as_tuple=False)[0][0].item()\n",
        "\n",
        "    # Amostra correta\n",
        "    if max_index == correct_index:\n",
        "        # maior probabilidade\n",
        "        if max_value > max_correct[\"val\"]:\n",
        "            max_correct[\"val\"] = max_value\n",
        "            max_correct[\"index\"] = index\n",
        "        # menor probabilidade\n",
        "        if max_value < min_correct[\"val\"]:\n",
        "            min_correct[\"val\"] = max_value\n",
        "            min_correct[\"index\"] = index\n",
        "    # Amostra errada\n",
        "    else:\n",
        "        # maior probabilidade\n",
        "        if max_value > max_wrong[\"val\"]:\n",
        "            max_wrong[\"val\"] = max_value\n",
        "            max_wrong[\"index\"] = index\n",
        "        # menor probabilidade\n",
        "        if max_value < min_wrong[\"val\"]:\n",
        "            min_wrong[\"val\"] = max_value\n",
        "            min_wrong[\"index\"] = index\n",
        "\n",
        "\n",
        "\n",
        "\n",
        "print(max_correct)\n",
        "print(min_correct)\n",
        "print(max_wrong)\n",
        "print(min_wrong)"
      ],
      "execution_count": 66,
      "outputs": [
        {
          "output_type": "stream",
          "name": "stdout",
          "text": [
            "{'val': tensor(1.0000, grad_fn=<MaxBackward1>), 'index': 183}\n",
            "{'val': tensor(0.3353, grad_fn=<MaxBackward1>), 'index': 532}\n",
            "{'val': tensor(0.8530, grad_fn=<MaxBackward1>), 'index': 271}\n",
            "{'val': tensor(0.2892, grad_fn=<MaxBackward1>), 'index': 68}\n"
          ]
        }
      ]
    },
    {
      "cell_type": "code",
      "source": [
        "# Amostra classificada corretamente com a maior probabilidade\n",
        "plt.imshow(x_train_full[max_correct[\"index\"]].numpy().reshape(28,28), cmap=\"gray\")\n",
        "\n",
        "print(\"Probabilidade: \", max_correct[\"val\"].item())"
      ],
      "metadata": {
        "id": "N2-MvqqYrWJt",
        "colab": {
          "base_uri": "https://localhost:8080/",
          "height": 282
        },
        "outputId": "85d9737c-6cf3-4fc2-929a-a52ab9d4a3f7"
      },
      "execution_count": 67,
      "outputs": [
        {
          "output_type": "stream",
          "name": "stdout",
          "text": [
            "Probabilidade:  0.9999896883964539\n"
          ]
        },
        {
          "output_type": "display_data",
          "data": {
            "text/plain": [
              "<Figure size 432x288 with 1 Axes>"
            ],
            "image/png": "[encoded data removed]"
          },
          "metadata": {
            "needs_background": "light"
          }
        }
      ]
    },
    {
      "cell_type": "code",
      "source": [
        "# Amostra classificada corretamente com a menor probabilidade\n",
        "plt.imshow(x_train_full[min_correct[\"index\"]].numpy().reshape(28,28), cmap=\"gray\")\n",
        "\n",
        "print(\"Probabilidade: \", min_correct[\"val\"].item())"
      ],
      "metadata": {
        "colab": {
          "base_uri": "https://localhost:8080/",
          "height": 282
        },
        "id": "LZ9CrEDVfb0Q",
        "outputId": "52604e1e-be7e-4f6d-f5e6-bbd1ec4e3eaa"
      },
      "execution_count": 68,
      "outputs": [
        {
          "output_type": "stream",
          "name": "stdout",
          "text": [
            "Probabilidade:  0.33532655239105225\n"
          ]
        },
        {
          "output_type": "display_data",
          "data": {
            "text/plain": [
              "<Figure size 432x288 with 1 Axes>"
            ],
            "image/png": "[encoded data removed]"
          },
          "metadata": {
            "needs_background": "light"
          }
        }
      ]
    },
    {
      "cell_type": "code",
      "source": [
        "# Amostra classificada erradamente com a maior probabilidade\n",
        "plt.imshow(x_train_full[max_wrong[\"index\"]].numpy().reshape(28,28), cmap=\"gray\")\n",
        "\n",
        "print(\"Probabilidade: \", max_wrong[\"val\"].item())"
      ],
      "metadata": {
        "colab": {
          "base_uri": "https://localhost:8080/",
          "height": 282
        },
        "id": "5WjCjOBLfmWn",
        "outputId": "cf8ddfc2-4317-49ff-d48a-54347c898cfc"
      },
      "execution_count": 69,
      "outputs": [
        {
          "output_type": "stream",
          "name": "stdout",
          "text": [
            "Probabilidade:  0.853049635887146\n"
          ]
        },
        {
          "output_type": "display_data",
          "data": {
            "text/plain": [
              "<Figure size 432x288 with 1 Axes>"
            ],
            "image/png": "[encoded data removed]"
          },
          "metadata": {
            "needs_background": "light"
          }
        }
      ]
    },
    {
      "cell_type": "code",
      "source": [
        "# Amostra classificada erradamente com a menor probabilidade\n",
        "plt.imshow(x_train_full[min_wrong[\"index\"]].numpy().reshape(28,28), cmap=\"gray\")\n",
        "\n",
        "print(\"Probabilidade: \", min_wrong[\"val\"].item())"
      ],
      "metadata": {
        "colab": {
          "base_uri": "https://localhost:8080/",
          "height": 282
        },
        "id": "yU-sAKnxf9DQ",
        "outputId": "842f9786-2144-477f-bcda-dec0cddfaffc"
      },
      "execution_count": 70,
      "outputs": [
        {
          "output_type": "stream",
          "name": "stdout",
          "text": [
            "Probabilidade:  0.28921395540237427\n"
          ]
        },
        {
          "output_type": "display_data",
          "data": {
            "text/plain": [
              "<Figure size 432x288 with 1 Axes>"
            ],
            "image/png": "[encoded data removed]"
          },
          "metadata": {
            "needs_background": "light"
          }
        }
      ]
    },
    {
      "cell_type": "markdown",
      "metadata": {
        "id": "0xmj1GWXUoNs"
      },
      "source": [
        "## Exercício Bonus\n",
        "\n",
        "Implemente um dataloader que aceite como parâmetro de entrada a distribuição probabilidade das classes que deverão compor um batch.\n",
        "Por exemplo, se a distribuição de probabilidade passada como entrada for:\n",
        "\n",
        "`[0.01, 0.01, 0.72, 0.2, 0.01, 0.01, 0.01, 0.01, 0.01, 0.01]`\n",
        "\n",
        "Em média, 72% dos exemplos do batch deverão ser da classe 2, 20% deverão ser da classe 3, e os demais deverão ser das outras classes.\n",
        "\n",
        "Mostre também que sua implementação está correta.\n"
      ]
    }
  ]
}