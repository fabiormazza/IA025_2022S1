{
  "cells": [
    {
      "cell_type": "markdown",
      "metadata": {
        "id": "view-in-github",
        "colab_type": "text"
      },
      "source": [
        "<a href=\"https://colab.research.google.com/github/unicamp-dl/IA025_2022S1/blob/main/ex09/larissa_santesso/Aula_9_Exerc%C3%ADcio_Larissa_Santesso.ipynb\" target=\"_parent\"><img src=\"https://colab.research.google.com/assets/colab-badge.svg\" alt=\"Open In Colab\"/></a>"
      ]
    },
    {
      "cell_type": "code",
      "execution_count": null,
      "metadata": {
        "colab": {
          "base_uri": "https://localhost:8080/"
        },
        "id": "jOdQB41_4ZxG",
        "outputId": "25ca28e1-02e1-481c-8407-4a6783f3291f"
      },
      "outputs": [
        {
          "name": "stdout",
          "output_type": "stream",
          "text": [
            "Meu nome é Larissa Antonelli Santesso\n"
          ]
        }
      ],
      "source": [
        "nome = \"Larissa Antonelli Santesso\"\n",
        "print(f'Meu nome é {nome}')"
      ]
    },
    {
      "cell_type": "code",
      "execution_count": null,
      "metadata": {
        "colab": {
          "base_uri": "https://localhost:8080/"
        },
        "id": "nAytoDJGEg77",
        "outputId": "e4939beb-34d0-41a8-c1e9-ab3370e1f24b"
      },
      "outputs": [
        {
          "output_type": "stream",
          "name": "stdout",
          "text": [
            "Mounted at /content/gdrive\n"
          ]
        }
      ],
      "source": [
        "from google.colab import drive\n",
        "drive.mount('/content/gdrive')"
      ]
    },
    {
      "cell_type": "markdown",
      "metadata": {
        "id": "2IbuChoAPMEn"
      },
      "source": [
        "#  Exercício: Modelo de Linguagem com auto-atenção"
      ]
    },
    {
      "cell_type": "markdown",
      "metadata": {
        "id": "p_DBb0-Klwf2"
      },
      "source": [
        "Este exercício é similar ao da Aula 8, mas iremos agora treinar uma rede neural com **duas camadas** de auto-atenção **causais** para prever a próxima palavra de um texto, data as palavras anteriores como entrada. \n",
        "\n",
        "Iremos também trabalhar com sequencias de tamanho variável.\n",
        "\n",
        "Na camada de auto-atenção, não se esqueça de implementar:\n",
        "- Embeddings de posição\n",
        "- Projeções lineares (WQ, WK, WV, WO)\n",
        "- Conexões residuais\n",
        "- Camada de feed forward (2-layer MLP)\n",
        "\n",
        "\n",
        "O dataset usado neste exercício (BrWaC) possui um tamanho razoável e você vai precisar rodar seus experimentos com GPU.\n",
        "\n",
        "Alguns conselhos úteis:\n",
        "- **ATENÇÃO:** o dataset é bem grande. Não dê comando de imprimí-lo.\n",
        "- Durante a depuração, faça seu dataset ficar bem pequeno, para que a depuração seja mais rápida e não precise de GPU. Somente ligue a GPU quando o seu laço de treinamento já está funcionando\n",
        "- Não deixe para fazer esse exercício na véspera. Ele é trabalhoso."
      ]
    },
    {
      "cell_type": "code",
      "execution_count": null,
      "metadata": {
        "colab": {
          "base_uri": "https://localhost:8080/"
        },
        "id": "3twP0YJC4jmJ",
        "outputId": "c8c551ee-371b-4f7c-f92a-116fd7d9a572"
      },
      "outputs": [
        {
          "output_type": "stream",
          "name": "stdout",
          "text": [
            "Looking in indexes: https://pypi.org/simple, https://us-python.pkg.dev/colab-wheels/public/simple/\n",
            "Collecting transformers\n",
            "  Downloading transformers-4.19.2-py3-none-any.whl (4.2 MB)\n",
            "\u001b[K     |████████████████████████████████| 4.2 MB 33.6 MB/s \n",
            "\u001b[?25hCollecting tokenizers!=0.11.3,<0.13,>=0.11.1\n",
            "  Downloading tokenizers-0.12.1-cp37-cp37m-manylinux_2_12_x86_64.manylinux2010_x86_64.whl (6.6 MB)\n",
            "\u001b[K     |████████████████████████████████| 6.6 MB 58.2 MB/s \n",
            "\u001b[?25hRequirement already satisfied: requests in /usr/local/lib/python3.7/dist-packages (from transformers) (2.23.0)\n",
            "Collecting huggingface-hub<1.0,>=0.1.0\n",
            "  Downloading huggingface_hub-0.7.0-py3-none-any.whl (86 kB)\n",
            "\u001b[K     |████████████████████████████████| 86 kB 6.5 MB/s \n",
            "\u001b[?25hRequirement already satisfied: filelock in /usr/local/lib/python3.7/dist-packages (from transformers) (3.7.0)\n",
            "Requirement already satisfied: packaging>=20.0 in /usr/local/lib/python3.7/dist-packages (from transformers) (21.3)\n",
            "Requirement already satisfied: regex!=2019.12.17 in /usr/local/lib/python3.7/dist-packages (from transformers) (2019.12.20)\n",
            "Requirement already satisfied: tqdm>=4.27 in /usr/local/lib/python3.7/dist-packages (from transformers) (4.64.0)\n",
            "Requirement already satisfied: importlib-metadata in /usr/local/lib/python3.7/dist-packages (from transformers) (4.11.4)\n",
            "Collecting pyyaml>=5.1\n",
            "  Downloading PyYAML-6.0-cp37-cp37m-manylinux_2_5_x86_64.manylinux1_x86_64.manylinux_2_12_x86_64.manylinux2010_x86_64.whl (596 kB)\n",
            "\u001b[K     |████████████████████████████████| 596 kB 67.0 MB/s \n",
            "\u001b[?25hRequirement already satisfied: numpy>=1.17 in /usr/local/lib/python3.7/dist-packages (from transformers) (1.21.6)\n",
            "Requirement already satisfied: typing-extensions>=3.7.4.3 in /usr/local/lib/python3.7/dist-packages (from huggingface-hub<1.0,>=0.1.0->transformers) (4.2.0)\n",
            "Requirement already satisfied: pyparsing!=3.0.5,>=2.0.2 in /usr/local/lib/python3.7/dist-packages (from packaging>=20.0->transformers) (3.0.9)\n",
            "Requirement already satisfied: zipp>=0.5 in /usr/local/lib/python3.7/dist-packages (from importlib-metadata->transformers) (3.8.0)\n",
            "Requirement already satisfied: idna<3,>=2.5 in /usr/local/lib/python3.7/dist-packages (from requests->transformers) (2.10)\n",
            "Requirement already satisfied: certifi>=2017.4.17 in /usr/local/lib/python3.7/dist-packages (from requests->transformers) (2022.5.18.1)\n",
            "Requirement already satisfied: chardet<4,>=3.0.2 in /usr/local/lib/python3.7/dist-packages (from requests->transformers) (3.0.4)\n",
            "Requirement already satisfied: urllib3!=1.25.0,!=1.25.1,<1.26,>=1.21.1 in /usr/local/lib/python3.7/dist-packages (from requests->transformers) (1.24.3)\n",
            "Installing collected packages: pyyaml, tokenizers, huggingface-hub, transformers\n",
            "  Attempting uninstall: pyyaml\n",
            "    Found existing installation: PyYAML 3.13\n",
            "    Uninstalling PyYAML-3.13:\n",
            "      Successfully uninstalled PyYAML-3.13\n",
            "Successfully installed huggingface-hub-0.7.0 pyyaml-6.0 tokenizers-0.12.1 transformers-4.19.2\n"
          ]
        }
      ],
      "source": [
        "# iremos utilizar a biblioteca dos transformers para ter acesso ao tokenizador do BERT.\n",
        "!pip install transformers"
      ]
    },
    {
      "cell_type": "markdown",
      "metadata": {
        "id": "YnyhJZtTRNMx"
      },
      "source": [
        "## Importação dos pacotes"
      ]
    },
    {
      "cell_type": "code",
      "execution_count": null,
      "metadata": {
        "id": "qlIOVCajPWcU"
      },
      "outputs": [],
      "source": [
        "import collections\n",
        "import itertools\n",
        "import functools\n",
        "import math\n",
        "import random\n",
        "\n",
        "import torch\n",
        "import torch.nn as nn\n",
        "import numpy as np\n",
        "from torch.utils.data import DataLoader\n",
        "from tqdm import tqdm_notebook\n"
      ]
    },
    {
      "cell_type": "code",
      "execution_count": null,
      "metadata": {
        "colab": {
          "base_uri": "https://localhost:8080/"
        },
        "id": "w9f3PfifAwpU",
        "outputId": "68f62b35-57e0-4b75-a142-ad0c056f1d59"
      },
      "outputs": [
        {
          "output_type": "stream",
          "name": "stdout",
          "text": [
            "Wed Jun  1 12:44:56 2022       \n",
            "+-----------------------------------------------------------------------------+\n",
            "| NVIDIA-SMI 460.32.03    Driver Version: 460.32.03    CUDA Version: 11.2     |\n",
            "|-------------------------------+----------------------+----------------------+\n",
            "| GPU  Name        Persistence-M| Bus-Id        Disp.A | Volatile Uncorr. ECC |\n",
            "| Fan  Temp  Perf  Pwr:Usage/Cap|         Memory-Usage | GPU-Util  Compute M. |\n",
            "|                               |                      |               MIG M. |\n",
            "|===============================+======================+======================|\n",
            "|   0  Tesla T4            Off  | 00000000:00:04.0 Off |                    0 |\n",
            "| N/A   34C    P8     8W /  70W |      0MiB / 15109MiB |      0%      Default |\n",
            "|                               |                      |                  N/A |\n",
            "+-------------------------------+----------------------+----------------------+\n",
            "                                                                               \n",
            "+-----------------------------------------------------------------------------+\n",
            "| Processes:                                                                  |\n",
            "|  GPU   GI   CI        PID   Type   Process name                  GPU Memory |\n",
            "|        ID   ID                                                   Usage      |\n",
            "|=============================================================================|\n",
            "|  No running processes found                                                 |\n",
            "+-----------------------------------------------------------------------------+\n"
          ]
        }
      ],
      "source": [
        "# Check which GPU we are using\n",
        "!nvidia-smi"
      ]
    },
    {
      "cell_type": "code",
      "execution_count": null,
      "metadata": {
        "colab": {
          "base_uri": "https://localhost:8080/"
        },
        "id": "whTCe2i7AtoV",
        "outputId": "ed0d12ec-8945-4df6-89bf-28c59c273c11"
      },
      "outputs": [
        {
          "output_type": "stream",
          "name": "stdout",
          "text": [
            "Using cuda:0\n"
          ]
        }
      ],
      "source": [
        "if torch.cuda.is_available(): \n",
        "   dev = \"cuda:0\"\n",
        "else: \n",
        "   dev = \"cpu\"\n",
        "device = torch.device(dev)\n",
        "print('Using {}'.format(device))"
      ]
    },
    {
      "cell_type": "markdown",
      "metadata": {
        "id": "9ZfxgV2DUk58"
      },
      "source": [
        "## Implementação do MyDataset"
      ]
    },
    {
      "cell_type": "markdown",
      "metadata": {
        "id": "n3aNsOi0yaIJ"
      },
      "source": [
        "Mais sobre` batch_encode_plus`: https://huggingface.co/docs/transformers/internal/tokenization_utils#transformers.tokenization_utils_base.PreTrainedTokenizerBase.batch_encode_plus"
      ]
    },
    {
      "cell_type": "code",
      "execution_count": null,
      "metadata": {
        "id": "P6Fh1-166lQs"
      },
      "outputs": [],
      "source": [
        "from typing import List\n",
        "\n",
        "\n",
        "def tokenize(text: str, tokenizer):\n",
        "    # Recomenda-se usar o tokenizer.batch_encode_plus pois é mais rápido.\n",
        "    return tokenizer.batch_encode_plus(text, return_tensors='pt', add_special_tokens= False,  padding=\"longest\").input_ids\n",
        "\n",
        "\n",
        "class MyDataset():\n",
        "    def __init__(self, texts: List[str], tokenizer, max_seq_length: int, data_type=\"train\", iter_texts=1000, i_init=0):\n",
        "        path = \"/content/gdrive/MyDrive/Colab Notebooks/modelos_Aula09/dataset_02/\"\n",
        "        self.tokens_ids =[]\n",
        "        for i in range(i_init,len(texts), iter_texts):\n",
        "            # Ideia de salvar os dados para aproveitar melhor a RAM baseada no exercício da Aula 08 do aluno Patrick Ferreira\n",
        "            try:\n",
        "                self.load_x = np.load(path+\"x_\"+ str(i) + \"_\"+ str(i+iter_texts) +\"_\" + data_type + \".npy\", mmap_mode=\"r\", allow_pickle=True)\n",
        "                self.tokens_ids.append(torch.tensor(self.load_x))\n",
        "                print(str(i) + \" to \"+ str(i+iter_texts)+\" lines loaded\")\n",
        "\n",
        "            except Exception as e:\n",
        "                output_tokenize = tokenize(texts[i:i+iter_texts], tokenizer)\n",
        "                output_tokenize = torch.nn.functional.pad(output_tokenize, (0,max((max_seq_length-int(output_tokenize.shape[1]),1))))\n",
        "                self.tokens_ids =[]\n",
        "                shape_iter = output_tokenize.shape[1]\n",
        "                for j in range(0,shape_iter-1, max_seq_length-1):    # Ideia do slicing baseada no notebook do Pedro Gengo   \n",
        "                    if (j + max_seq_length) < int(shape_iter):\n",
        "                        batch_seq = output_tokenize[:,j:j+max_seq_length]\n",
        "\n",
        "                    else:\n",
        "                        batch_seq = output_tokenize[:,-max_seq_length:]\n",
        "                    \n",
        "                    batch_seq = batch_seq[torch.sum(batch_seq, dim=1)!=0]\n",
        "                    self.tokens_ids.extend(torch.cat([torch.tensor(tokenizer.cls_token_id).long().repeat(batch_seq.shape[0])[:, None],batch_seq], axis=1))\n",
        "                \n",
        "                self.tokens_ids = torch.stack(self.tokens_ids)\n",
        "                \n",
        "                print(f\"Saving: {i} to {i+iter_texts} lines - shape ={self.tokens_ids.shape}\")\n",
        "                np.save(path+\"x_\"+ str(i) + \"_\"+ str(i+iter_texts) + \"_\" + data_type + \".npy\", np.array(self.tokens_ids))\n",
        "\n",
        "        try:\n",
        "            self.tokens_ids = torch.vstack(self.tokens_ids)\n",
        "        \n",
        "        except:\n",
        "            print(\"Don't need to stack tensor\")\n",
        "        \n",
        "        #self.targets_ids = torch.nn.functional.pad(self.tokens_ids[:,1:], (0,max_seq_length+1-self.tokens_ids[:,1:].shape[1]))\n",
        "\n",
        "    def __len__(self):\n",
        "\n",
        "        return len(self.tokens_ids)\n",
        "\n",
        "    def __getitem__(self, idx):\n",
        "        return self.tokens_ids[idx,:-1].long(), self.tokens_ids[idx,1:].long()"
      ]
    },
    {
      "cell_type": "markdown",
      "metadata": {
        "id": "wew-gFbWeBTq"
      },
      "source": [
        "## Testando se a implementação do MyDataset está correta"
      ]
    },
    {
      "cell_type": "code",
      "execution_count": null,
      "metadata": {
        "id": "J_lLQSTckYtS",
        "colab": {
          "base_uri": "https://localhost:8080/",
          "height": 177,
          "referenced_widgets": [
            "7d23adb093294b75b9d5896a9932073d",
            "98cc1d4e59dc4ad4b0affbccff6fee8b",
            "52ac32d7d55749ac8c44c3d10c7abbaa",
            "c10efb534b0b47caab37e236795ecfcc",
            "4444255756fa4b5ea07222f832bcfe0f",
            "b82eb120f6f04eb49b1db2ac593d1075",
            "f779461a3321424290b1e4490877187e",
            "d979295daaf34824a76a62c72ceac99b",
            "481d62a657d545a0b7cd97f6a27c7ca4",
            "79c98b8941eb4e7a9252f85027a6e043",
            "168655977827439f901555a3882e2411",
            "f553a1ab608042ffade61b6429fa5aa7",
            "86bb17c39b4c46d3bb28cfe08d185543",
            "3249fce9aa184ade90673341c838d5b8",
            "4a6d7ee1e4dc44dfaaa522a6c3c5a705",
            "35e395bbb9094fb484f91d742474d72c",
            "e2491ca2b52e41abbe7d8c7b347d5ccd",
            "128296599b844824971fe7e04760b760",
            "9e368e97c1774913b7a76a0714be93ab",
            "79dce15876d64581a98947b4aef91b35",
            "fda6bcf37da6477aa8f65b026d32f13a",
            "0dbed9c633d64073977c8cc8ccab247b",
            "08ff448b318e45d9b88d6794d849cd78",
            "8c4fc7be47b543c49f4fc47e0488b446",
            "a4d9a7a6129442d889c664d628d5402a",
            "dc71bcaa7120429a9783a6f7abdb4bee",
            "e1f26833d84a4c4a9f02ec76dff651b4",
            "05ccd0223c2b4225b41ebd7aa198a29b",
            "07251e7486f544a2b00e4df1aae6bffa",
            "892b7c08fd2d46b69fbcabcf02894988",
            "7f215b6306614f7c91c1621ccc121b1d",
            "998446df37ba429c887469f112b82066",
            "77e01ae1bb7e4b20bb94608df60445b5",
            "7be7bb1ba04c4d7889f5ef05763fbe86",
            "86a2d1591cbe44ea912202c361bdadf1",
            "52bb8398b49642b08c79cbc5589f8e83",
            "8e272375f37c4063ba56f3b4e19365e2",
            "9d586efb31d04245acb0c96248bc3f38",
            "929f6ca7681e461e818c5de25fe2b09f",
            "c3188d5dbe304e59ac8b753b9a7ac4a0",
            "61d9c7230d254eaa907c5644dc734c85",
            "b722d07f5d254470b90a28c999dc0b5f",
            "123bf4287228437d9bea3aadb60cee41",
            "5225da8f12da4859b1b360567584de6e",
            "c7dfff0560bd4434a0edd61bdee37f04",
            "01f37a945b164a4bb957e3f8e7971b67",
            "75d4c01bee9c4bbc9ad184fe4dcb9a21",
            "ff263c6dc79b4c0c9fedff67a35db2f2",
            "49e5916c579b4c86bcf531e81eb7241a",
            "9614e9ec678e468089c14018d559125c",
            "cdf0930c22134501a6348554ed4e248d",
            "a7734ea53b5d44f8816f6ab90c7fe854",
            "15868f262d3c45bfa2d285a4b5f22995",
            "298823d641b243e6b15c311326d3a8e2",
            "f3fabb6733da46debf9bd6c61afc56d5"
          ]
        },
        "outputId": "2c580d44-a4e9-4a3f-add4-4b86d37104cc"
      },
      "outputs": [
        {
          "output_type": "display_data",
          "data": {
            "text/plain": [
              "Downloading:   0%|          | 0.00/205k [00:00<?, ?B/s]"
            ],
            "application/vnd.jupyter.widget-view+json": {
              "version_major": 2,
              "version_minor": 0,
              "model_id": "7d23adb093294b75b9d5896a9932073d"
            }
          },
          "metadata": {}
        },
        {
          "output_type": "display_data",
          "data": {
            "text/plain": [
              "Downloading:   0%|          | 0.00/2.00 [00:00<?, ?B/s]"
            ],
            "application/vnd.jupyter.widget-view+json": {
              "version_major": 2,
              "version_minor": 0,
              "model_id": "f553a1ab608042ffade61b6429fa5aa7"
            }
          },
          "metadata": {}
        },
        {
          "output_type": "display_data",
          "data": {
            "text/plain": [
              "Downloading:   0%|          | 0.00/112 [00:00<?, ?B/s]"
            ],
            "application/vnd.jupyter.widget-view+json": {
              "version_major": 2,
              "version_minor": 0,
              "model_id": "08ff448b318e45d9b88d6794d849cd78"
            }
          },
          "metadata": {}
        },
        {
          "output_type": "display_data",
          "data": {
            "text/plain": [
              "Downloading:   0%|          | 0.00/43.0 [00:00<?, ?B/s]"
            ],
            "application/vnd.jupyter.widget-view+json": {
              "version_major": 2,
              "version_minor": 0,
              "model_id": "7be7bb1ba04c4d7889f5ef05763fbe86"
            }
          },
          "metadata": {}
        },
        {
          "output_type": "display_data",
          "data": {
            "text/plain": [
              "Downloading:   0%|          | 0.00/647 [00:00<?, ?B/s]"
            ],
            "application/vnd.jupyter.widget-view+json": {
              "version_major": 2,
              "version_minor": 0,
              "model_id": "c7dfff0560bd4434a0edd61bdee37f04"
            }
          },
          "metadata": {}
        }
      ],
      "source": [
        "from transformers import BertTokenizer\n",
        "\n",
        "tokenizer = BertTokenizer.from_pretrained(\"neuralmind/bert-base-portuguese-cased\")"
      ]
    },
    {
      "cell_type": "code",
      "execution_count": null,
      "metadata": {
        "colab": {
          "base_uri": "https://localhost:8080/",
          "height": 246,
          "referenced_widgets": [
            "808222214af941c893294da96a772bee",
            "256a05b035cf4a8f9026c40c40fa2533",
            "6b5a5a4f60d24620a0d3f0e71e247feb",
            "8618356df359482e9ac05904028f7a6b",
            "79b3bb230afd40edbbbb088dd65d8cd8",
            "f38445c2cd384a5aa1e8f0ef8bd78af5",
            "fa92cd199c5748c29a0c6ab07306c5bf",
            "66d13388a75e4b859306f27cba04d811",
            "8157b5198bc64f0498de31adb83adadc",
            "ebbf26f106404d35b83492c3771ebc94",
            "c8b7aad8114b43a18e773bde64168426",
            "821f9feae43647d086e0a0837b2e6d06",
            "a9c85083f7914ab0a2bdaa1242d003f2",
            "434fbe96891943b49d237a2addff4c17",
            "db0a162ee68f4a239e42a2c04b145680",
            "61636a51e79d4d31afa127d5f88ee96f",
            "0c6a9589cf4b48e49cbf14654ad727e0",
            "30a1a8b11f694c3d992e13d5db8fbbf9",
            "4449d2ab3153428287f56670d9cf862c",
            "0fe10e810ab14298b6268f9c600bf6a1",
            "3a8b7e55cf2b4cd6adc506ae6f7f78c7",
            "f2bdc3a338dd4e27a8c9de7770eaef06",
            "bf85a3de3dd3477fa686844d9a661a15",
            "318bcef4a3494900b015b1c1172a2f68",
            "d90c277107c04d26ac2bbb259ce9302a",
            "c66af7b29ee540c295f59aa1403f2f6c",
            "15d869d0525e42d997b8bec90f263805",
            "ee35fefddff0489394481f0548cda87c",
            "29afa218da0547409216e581ff86d90f",
            "188f5509eaa14ef5a150656a31510a4e",
            "a8fe031081964e2f99d1901af1c7fdb0",
            "026da411b2e24e58a5bcf486f509c190",
            "13f67f3e57b84f47879d2d49e409a82c",
            "1c7ed902ba19455194c9bd72405f2ebd",
            "5e5cb419a27b4a2ebd43964ca44efcf1",
            "df088b4fe5be4bdcbc6111d5fa4b2e3f",
            "7a443a1dad7f4d88a44b9f9db50c534b",
            "e1a9eaeea65d46208652ecb49f68434a",
            "40b991bbe3474b7384c8b404710cb883",
            "76712bd22ec14118b74d8dc7dd586857",
            "dedd452453a942dfb1ab83a82fb51be1",
            "2f5eb3f6d1bb44999e1529834fa348f7",
            "c88ff51b761a4e6bb8d07d27eec12ed0",
            "a0c561b4fa5a479a8198d97c8b7c2315",
            "eb6fc5c62cfb4b58b0be787f8829ebc1",
            "576576a4bcee48cf9aae481235ecae4e",
            "240928fe31894a9e87fddb9526c44552",
            "6d28bb02b56d4cdf821d3714308f7427",
            "c5f0ba1405f64f7f808b9b982bfd3081",
            "e264487111dc44f38704b5d05ceda1d4",
            "498f310ce5794ffdbf62421623d92393",
            "cfd09cc242584f89940d9b15792d8d71",
            "511221767f3f4780a7a9828ce76f1a30",
            "c16618845876426b9d2afc1a1344fec8",
            "747769302bed441e8634bbabe31d9083"
          ]
        },
        "outputId": "80a8271b-3fa9-4b93-d028-a60c9e2bbb56",
        "id": "cyV34ojQ8hAu"
      },
      "outputs": [
        {
          "output_type": "display_data",
          "data": {
            "text/plain": [
              "Downloading:   0%|          | 0.00/205k [00:00<?, ?B/s]"
            ],
            "application/vnd.jupyter.widget-view+json": {
              "version_major": 2,
              "version_minor": 0,
              "model_id": "808222214af941c893294da96a772bee"
            }
          },
          "metadata": {}
        },
        {
          "output_type": "display_data",
          "data": {
            "text/plain": [
              "Downloading:   0%|          | 0.00/2.00 [00:00<?, ?B/s]"
            ],
            "application/vnd.jupyter.widget-view+json": {
              "version_major": 2,
              "version_minor": 0,
              "model_id": "821f9feae43647d086e0a0837b2e6d06"
            }
          },
          "metadata": {}
        },
        {
          "output_type": "display_data",
          "data": {
            "text/plain": [
              "Downloading:   0%|          | 0.00/112 [00:00<?, ?B/s]"
            ],
            "application/vnd.jupyter.widget-view+json": {
              "version_major": 2,
              "version_minor": 0,
              "model_id": "bf85a3de3dd3477fa686844d9a661a15"
            }
          },
          "metadata": {}
        },
        {
          "output_type": "display_data",
          "data": {
            "text/plain": [
              "Downloading:   0%|          | 0.00/43.0 [00:00<?, ?B/s]"
            ],
            "application/vnd.jupyter.widget-view+json": {
              "version_major": 2,
              "version_minor": 0,
              "model_id": "1c7ed902ba19455194c9bd72405f2ebd"
            }
          },
          "metadata": {}
        },
        {
          "output_type": "display_data",
          "data": {
            "text/plain": [
              "Downloading:   0%|          | 0.00/647 [00:00<?, ?B/s]"
            ],
            "application/vnd.jupyter.widget-view+json": {
              "version_major": 2,
              "version_minor": 0,
              "model_id": "eb6fc5c62cfb4b58b0be787f8829ebc1"
            }
          },
          "metadata": {}
        },
        {
          "output_type": "stream",
          "name": "stdout",
          "text": [
            "Saving: 0 to 1000 lines - shape =torch.Size([2, 10])\n",
            "Don't need to stack tensor\n",
            "Passou no assert de tamanho do dataset.\n",
            "Passou no assert de dataset.\n"
          ]
        }
      ],
      "source": [
        "from transformers import BertTokenizer\n",
        "\n",
        "tokenizer = BertTokenizer.from_pretrained(\"neuralmind/bert-base-portuguese-cased\")\n",
        "\n",
        "dummy_texts = ['Eu gosto de correr', 'Ela gosta muito de comer pizza']\n",
        "\n",
        "dummy_dataset = MyDataset(texts=dummy_texts, tokenizer=tokenizer, max_seq_length=9)\n",
        "dummy_loader = DataLoader(dummy_dataset, batch_size=6, shuffle=False)\n",
        "assert len(dummy_dataset) == 2\n",
        "print('Passou no assert de tamanho do dataset.')\n",
        "\n",
        "first_batch_input, first_batch_target = next(iter(dummy_loader))\n",
        "\n",
        "correct_first_batch_input = torch.LongTensor(\n",
        "    [[  101,  3396, 10303,   125, 13239,     0,     0,     0,     0],\n",
        "     [  101,  1660,  5971,   785,   125,  1847, 13779, 15616,     0]])\n",
        "\n",
        "correct_first_batch_target = torch.LongTensor(\n",
        "    [[ 3396, 10303,   125, 13239,     0,     0,     0,     0,     0],\n",
        "     [ 1660,  5971,   785,   125,  1847, 13779, 15616,     0,     0]])\n",
        "\n",
        "assert torch.equal(first_batch_input, correct_first_batch_input)\n",
        "assert torch.equal(first_batch_target, correct_first_batch_target)\n",
        "\n",
        "print('Passou no assert de dataset.')"
      ]
    },
    {
      "cell_type": "code",
      "source": [
        "len(dummy_dataset)"
      ],
      "metadata": {
        "colab": {
          "base_uri": "https://localhost:8080/"
        },
        "id": "RvZlKCyGUnEn",
        "outputId": "27640b10-cd52-484f-ad40-c4bc55b795e7"
      },
      "execution_count": null,
      "outputs": [
        {
          "output_type": "execute_result",
          "data": {
            "text/plain": [
              "2"
            ]
          },
          "metadata": {},
          "execution_count": 10
        }
      ]
    },
    {
      "cell_type": "code",
      "source": [
        "first_batch_input, correct_first_batch_input"
      ],
      "metadata": {
        "colab": {
          "base_uri": "https://localhost:8080/"
        },
        "id": "AVtui4nzShTD",
        "outputId": "5cf4f588-930f-4d1b-dc5b-e30290e7c10e"
      },
      "execution_count": null,
      "outputs": [
        {
          "output_type": "execute_result",
          "data": {
            "text/plain": [
              "(tensor([[  101,  3396, 10303,   125, 13239,     0,     0,     0,     0],\n",
              "         [  101,  1660,  5971,   785,   125,  1847, 13779, 15616,     0]]),\n",
              " tensor([[  101,  3396, 10303,   125, 13239,     0,     0,     0,     0],\n",
              "         [  101,  1660,  5971,   785,   125,  1847, 13779, 15616,     0]]))"
            ]
          },
          "metadata": {},
          "execution_count": 8
        }
      ]
    },
    {
      "cell_type": "code",
      "source": [
        "first_batch_target, correct_first_batch_target"
      ],
      "metadata": {
        "colab": {
          "base_uri": "https://localhost:8080/"
        },
        "id": "KaOPWb1Pjj_E",
        "outputId": "d58b027b-7240-4608-ce80-9462829b24da"
      },
      "execution_count": null,
      "outputs": [
        {
          "output_type": "execute_result",
          "data": {
            "text/plain": [
              "(tensor([[ 3396, 10303,   125, 13239,     0,     0,     0,     0,     0],\n",
              "         [ 1660,  5971,   785,   125,  1847, 13779, 15616,     0,     0]]),\n",
              " tensor([[ 3396, 10303,   125, 13239,     0,     0,     0,     0,     0],\n",
              "         [ 1660,  5971,   785,   125,  1847, 13779, 15616,     0,     0]]))"
            ]
          },
          "metadata": {},
          "execution_count": 9
        }
      ]
    },
    {
      "cell_type": "code",
      "source": [
        "dummy_dataset = MyDataset(texts=dummy_texts, tokenizer=tokenizer, max_seq_length=3)\n",
        "dummy_loader = DataLoader(dummy_dataset, batch_size=1, shuffle=False)\n",
        "\n",
        "next(iter(dummy_loader))"
      ],
      "metadata": {
        "colab": {
          "base_uri": "https://localhost:8080/"
        },
        "id": "8rZdkVWEiIr1",
        "outputId": "9828e29a-b5d4-4ec4-c9dd-6170bbb2b70e"
      },
      "execution_count": null,
      "outputs": [
        {
          "output_type": "stream",
          "name": "stdout",
          "text": [
            "Saving: 0 to 1000 lines - shape =torch.Size([6, 4])\n",
            "Don't need to stack tensor\n"
          ]
        },
        {
          "output_type": "execute_result",
          "data": {
            "text/plain": [
              "[tensor([[  101,  3396, 10303]]), tensor([[ 3396, 10303,   125]])]"
            ]
          },
          "metadata": {},
          "execution_count": 12
        }
      ]
    },
    {
      "cell_type": "code",
      "source": [
        "dummy_loader = DataLoader(dummy_dataset, batch_size=10, shuffle=False)\n",
        "\n",
        "next(iter(dummy_loader))"
      ],
      "metadata": {
        "colab": {
          "base_uri": "https://localhost:8080/"
        },
        "id": "_i3HRDiHWoKG",
        "outputId": "3064ba7e-cf4a-48d2-c624-c9cb772bf659"
      },
      "execution_count": null,
      "outputs": [
        {
          "output_type": "execute_result",
          "data": {
            "text/plain": [
              "[tensor([[  101,  3396, 10303],\n",
              "         [  101,  1660,  5971],\n",
              "         [  101,   125, 13239],\n",
              "         [  101,   785,   125],\n",
              "         [  101,  1847, 13779],\n",
              "         [  101, 13779, 15616]]), tensor([[ 3396, 10303,   125],\n",
              "         [ 1660,  5971,   785],\n",
              "         [  125, 13239,     0],\n",
              "         [  785,   125,  1847],\n",
              "         [ 1847, 13779, 15616],\n",
              "         [13779, 15616,     0]])]"
            ]
          },
          "metadata": {},
          "execution_count": 13
        }
      ]
    },
    {
      "cell_type": "markdown",
      "metadata": {
        "id": "4LfrHHouleJ0"
      },
      "source": [
        "# Carregamento do dataset "
      ]
    },
    {
      "cell_type": "markdown",
      "metadata": {
        "id": "V2vFWjsSkmop"
      },
      "source": [
        "Iremos usar uma pequena amostra do dataset [BrWaC](https://www.inf.ufrgs.br/pln/wiki/index.php?title=BrWaC) para treinar e avaliar nosso modelo de linguagem."
      ]
    },
    {
      "cell_type": "code",
      "execution_count": null,
      "metadata": {
        "colab": {
          "base_uri": "https://localhost:8080/"
        },
        "id": "vGlN1WqrXPA6",
        "outputId": "218423af-6b9c-4ae4-a042-183941a6021f"
      },
      "outputs": [
        {
          "output_type": "stream",
          "name": "stdout",
          "text": [
            "--2022-06-02 01:07:14--  https://storage.googleapis.com/unicamp-dl/ia025a_2022s1/aula9/sample-1gb.txt\n",
            "Resolving storage.googleapis.com (storage.googleapis.com)... 142.251.10.128, 142.251.12.128, 142.250.4.128, ...\n",
            "Connecting to storage.googleapis.com (storage.googleapis.com)|142.251.10.128|:443... connected.\n",
            "HTTP request sent, awaiting response... 200 OK\n",
            "Length: 1230909256 (1.1G) [text/plain]\n",
            "Saving to: ‘sample-1gb.txt’\n",
            "\n",
            "sample-1gb.txt      100%[===================>]   1.15G   271MB/s    in 4.6s    \n",
            "\n",
            "2022-06-02 01:07:19 (253 MB/s) - ‘sample-1gb.txt’ saved [1230909256/1230909256]\n",
            "\n"
          ]
        }
      ],
      "source": [
        "!wget -nc https://storage.googleapis.com/unicamp-dl/ia025a_2022s1/aula9/sample-1gb.txt"
      ]
    },
    {
      "cell_type": "markdown",
      "source": [
        "## Salvando o dataset em uma pasta da Drive"
      ],
      "metadata": {
        "id": "VDMe0UAfPvtx"
      }
    },
    {
      "cell_type": "code",
      "execution_count": null,
      "metadata": {
        "colab": {
          "base_uri": "https://localhost:8080/",
          "height": 1000
        },
        "id": "zD7giuVMkdsR",
        "outputId": "fe0745a9-3d38-412a-e5d6-6fc9b5cb86fc"
      },
      "outputs": [
        {
          "output_type": "stream",
          "name": "stdout",
          "text": [
            "Read 250000 lines.\n",
            "Saving: 0 to 1000 lines - shape =torch.Size([146206, 10])\n",
            "Saving: 1000 to 2000 lines - shape =torch.Size([141545, 10])\n",
            "Saving: 2000 to 3000 lines - shape =torch.Size([163703, 10])\n",
            "Saving: 3000 to 4000 lines - shape =torch.Size([155262, 10])\n",
            "Saving: 4000 to 5000 lines - shape =torch.Size([129348, 10])\n",
            "Saving: 5000 to 6000 lines - shape =torch.Size([155825, 10])\n",
            "Saving: 6000 to 7000 lines - shape =torch.Size([149484, 10])\n",
            "Saving: 7000 to 8000 lines - shape =torch.Size([125598, 10])\n",
            "Saving: 8000 to 9000 lines - shape =torch.Size([163068, 10])\n",
            "Saving: 9000 to 10000 lines - shape =torch.Size([155652, 10])\n",
            "Saving: 10000 to 11000 lines - shape =torch.Size([142067, 10])\n",
            "Saving: 11000 to 12000 lines - shape =torch.Size([134900, 10])\n",
            "Saving: 12000 to 13000 lines - shape =torch.Size([134037, 10])\n",
            "Saving: 13000 to 14000 lines - shape =torch.Size([126941, 10])\n",
            "Saving: 14000 to 15000 lines - shape =torch.Size([149434, 10])\n",
            "Saving: 15000 to 16000 lines - shape =torch.Size([133529, 10])\n",
            "Saving: 16000 to 17000 lines - shape =torch.Size([121449, 10])\n",
            "Saving: 17000 to 18000 lines - shape =torch.Size([135380, 10])\n",
            "Saving: 18000 to 19000 lines - shape =torch.Size([126441, 10])\n",
            "Saving: 19000 to 20000 lines - shape =torch.Size([130937, 10])\n",
            "Saving: 20000 to 21000 lines - shape =torch.Size([142689, 10])\n",
            "Saving: 21000 to 22000 lines - shape =torch.Size([120051, 10])\n",
            "Saving: 22000 to 23000 lines - shape =torch.Size([162809, 10])\n",
            "Saving: 23000 to 24000 lines - shape =torch.Size([142682, 10])\n",
            "Saving: 24000 to 25000 lines - shape =torch.Size([140737, 10])\n",
            "Saving: 25000 to 26000 lines - shape =torch.Size([138549, 10])\n",
            "Saving: 26000 to 27000 lines - shape =torch.Size([131150, 10])\n",
            "Saving: 27000 to 28000 lines - shape =torch.Size([120546, 10])\n",
            "Saving: 28000 to 29000 lines - shape =torch.Size([134114, 10])\n",
            "Saving: 29000 to 30000 lines - shape =torch.Size([146077, 10])\n",
            "Saving: 30000 to 31000 lines - shape =torch.Size([140448, 10])\n",
            "Saving: 31000 to 32000 lines - shape =torch.Size([149581, 10])\n",
            "Saving: 32000 to 33000 lines - shape =torch.Size([136026, 10])\n",
            "Saving: 33000 to 34000 lines - shape =torch.Size([149577, 10])\n",
            "Saving: 34000 to 35000 lines - shape =torch.Size([130504, 10])\n",
            "Saving: 35000 to 36000 lines - shape =torch.Size([123725, 10])\n",
            "Saving: 36000 to 37000 lines - shape =torch.Size([134797, 10])\n",
            "Saving: 37000 to 38000 lines - shape =torch.Size([134633, 10])\n",
            "Saving: 38000 to 39000 lines - shape =torch.Size([137624, 10])\n",
            "Saving: 39000 to 40000 lines - shape =torch.Size([132907, 10])\n",
            "Saving: 40000 to 41000 lines - shape =torch.Size([138540, 10])\n",
            "Saving: 41000 to 42000 lines - shape =torch.Size([128542, 10])\n",
            "Saving: 42000 to 43000 lines - shape =torch.Size([129916, 10])\n",
            "Saving: 43000 to 44000 lines - shape =torch.Size([130741, 10])\n",
            "Saving: 44000 to 45000 lines - shape =torch.Size([147641, 10])\n",
            "Saving: 45000 to 46000 lines - shape =torch.Size([124999, 10])\n",
            "Saving: 46000 to 47000 lines - shape =torch.Size([132030, 10])\n",
            "Saving: 47000 to 48000 lines - shape =torch.Size([157109, 10])\n",
            "Saving: 48000 to 49000 lines - shape =torch.Size([147115, 10])\n",
            "Saving: 49000 to 50000 lines - shape =torch.Size([149491, 10])\n",
            "Saving: 50000 to 51000 lines - shape =torch.Size([153818, 10])\n",
            "Saving: 51000 to 52000 lines - shape =torch.Size([140805, 10])\n",
            "Saving: 52000 to 53000 lines - shape =torch.Size([132979, 10])\n",
            "Saving: 53000 to 54000 lines - shape =torch.Size([132596, 10])\n",
            "Saving: 54000 to 55000 lines - shape =torch.Size([129139, 10])\n",
            "Saving: 55000 to 56000 lines - shape =torch.Size([143641, 10])\n",
            "Saving: 56000 to 57000 lines - shape =torch.Size([156686, 10])\n",
            "Saving: 57000 to 58000 lines - shape =torch.Size([153994, 10])\n",
            "Saving: 58000 to 59000 lines - shape =torch.Size([113979, 10])\n",
            "Saving: 59000 to 60000 lines - shape =torch.Size([164137, 10])\n",
            "Saving: 60000 to 61000 lines - shape =torch.Size([146562, 10])\n",
            "Saving: 61000 to 62000 lines - shape =torch.Size([147849, 10])\n",
            "Saving: 62000 to 63000 lines - shape =torch.Size([136847, 10])\n",
            "Saving: 63000 to 64000 lines - shape =torch.Size([142160, 10])\n",
            "Saving: 64000 to 65000 lines - shape =torch.Size([147065, 10])\n",
            "Saving: 65000 to 66000 lines - shape =torch.Size([124432, 10])\n",
            "Saving: 66000 to 67000 lines - shape =torch.Size([137589, 10])\n",
            "Saving: 67000 to 68000 lines - shape =torch.Size([135913, 10])\n",
            "Saving: 68000 to 69000 lines - shape =torch.Size([155157, 10])\n",
            "Saving: 69000 to 70000 lines - shape =torch.Size([132611, 10])\n",
            "Saving: 70000 to 71000 lines - shape =torch.Size([138642, 10])\n",
            "Saving: 71000 to 72000 lines - shape =torch.Size([139172, 10])\n",
            "Saving: 72000 to 73000 lines - shape =torch.Size([129248, 10])\n",
            "Saving: 73000 to 74000 lines - shape =torch.Size([127486, 10])\n",
            "Saving: 74000 to 75000 lines - shape =torch.Size([134504, 10])\n",
            "Saving: 75000 to 76000 lines - shape =torch.Size([143540, 10])\n",
            "Saving: 76000 to 77000 lines - shape =torch.Size([135407, 10])\n",
            "Saving: 77000 to 78000 lines - shape =torch.Size([148307, 10])\n",
            "Saving: 78000 to 79000 lines - shape =torch.Size([144570, 10])\n",
            "Saving: 79000 to 80000 lines - shape =torch.Size([141841, 10])\n",
            "Saving: 80000 to 81000 lines - shape =torch.Size([141707, 10])\n",
            "Saving: 81000 to 82000 lines - shape =torch.Size([147681, 10])\n",
            "Saving: 82000 to 83000 lines - shape =torch.Size([142474, 10])\n",
            "Saving: 83000 to 84000 lines - shape =torch.Size([141881, 10])\n",
            "Saving: 84000 to 85000 lines - shape =torch.Size([142814, 10])\n",
            "Saving: 85000 to 86000 lines - shape =torch.Size([148667, 10])\n",
            "Saving: 86000 to 87000 lines - shape =torch.Size([134697, 10])\n",
            "Saving: 87000 to 88000 lines - shape =torch.Size([144714, 10])\n",
            "Saving: 88000 to 89000 lines - shape =torch.Size([134544, 10])\n",
            "Saving: 89000 to 90000 lines - shape =torch.Size([146164, 10])\n",
            "Saving: 90000 to 91000 lines - shape =torch.Size([126832, 10])\n",
            "Saving: 91000 to 92000 lines - shape =torch.Size([157331, 10])\n",
            "Saving: 92000 to 93000 lines - shape =torch.Size([160864, 10])\n",
            "Saving: 93000 to 94000 lines - shape =torch.Size([140584, 10])\n",
            "Saving: 94000 to 95000 lines - shape =torch.Size([131068, 10])\n",
            "Saving: 95000 to 96000 lines - shape =torch.Size([145231, 10])\n",
            "Saving: 96000 to 97000 lines - shape =torch.Size([130532, 10])\n",
            "Saving: 97000 to 98000 lines - shape =torch.Size([140529, 10])\n",
            "Saving: 98000 to 99000 lines - shape =torch.Size([144559, 10])\n",
            "Saving: 99000 to 100000 lines - shape =torch.Size([159616, 10])\n",
            "Saving: 100000 to 101000 lines - shape =torch.Size([142864, 10])\n",
            "Saving: 101000 to 102000 lines - shape =torch.Size([143481, 10])\n",
            "Saving: 102000 to 103000 lines - shape =torch.Size([147961, 10])\n",
            "Saving: 103000 to 104000 lines - shape =torch.Size([164420, 10])\n",
            "Saving: 104000 to 105000 lines - shape =torch.Size([119359, 10])\n",
            "Saving: 105000 to 106000 lines - shape =torch.Size([162161, 10])\n",
            "Saving: 106000 to 107000 lines - shape =torch.Size([137347, 10])\n",
            "Saving: 107000 to 108000 lines - shape =torch.Size([142014, 10])\n",
            "Saving: 108000 to 109000 lines - shape =torch.Size([130040, 10])\n",
            "Saving: 109000 to 110000 lines - shape =torch.Size([152605, 10])\n",
            "Saving: 110000 to 111000 lines - shape =torch.Size([128690, 10])\n",
            "Saving: 111000 to 112000 lines - shape =torch.Size([154281, 10])\n",
            "Saving: 112000 to 113000 lines - shape =torch.Size([135925, 10])\n",
            "Saving: 113000 to 114000 lines - shape =torch.Size([150914, 10])\n",
            "Saving: 114000 to 115000 lines - shape =torch.Size([144594, 10])\n",
            "Saving: 115000 to 116000 lines - shape =torch.Size([136177, 10])\n",
            "Saving: 116000 to 117000 lines - shape =torch.Size([133383, 10])\n",
            "Saving: 117000 to 118000 lines - shape =torch.Size([139771, 10])\n",
            "Saving: 118000 to 119000 lines - shape =torch.Size([127320, 10])\n",
            "Saving: 119000 to 120000 lines - shape =torch.Size([120617, 10])\n",
            "Saving: 120000 to 121000 lines - shape =torch.Size([147030, 10])\n",
            "Saving: 121000 to 122000 lines - shape =torch.Size([137008, 10])\n",
            "Saving: 122000 to 123000 lines - shape =torch.Size([127501, 10])\n",
            "Saving: 123000 to 124000 lines - shape =torch.Size([129236, 10])\n",
            "Saving: 124000 to 125000 lines - shape =torch.Size([131417, 10])\n",
            "Saving: 125000 to 126000 lines - shape =torch.Size([141009, 10])\n",
            "Saving: 126000 to 127000 lines - shape =torch.Size([155854, 10])\n",
            "Saving: 127000 to 128000 lines - shape =torch.Size([147072, 10])\n",
            "Saving: 128000 to 129000 lines - shape =torch.Size([127661, 10])\n",
            "Saving: 129000 to 130000 lines - shape =torch.Size([140816, 10])\n",
            "Saving: 130000 to 131000 lines - shape =torch.Size([142303, 10])\n",
            "Saving: 131000 to 132000 lines - shape =torch.Size([140957, 10])\n",
            "Saving: 132000 to 133000 lines - shape =torch.Size([126804, 10])\n",
            "Saving: 133000 to 134000 lines - shape =torch.Size([135639, 10])\n",
            "Saving: 134000 to 135000 lines - shape =torch.Size([147847, 10])\n",
            "Saving: 135000 to 136000 lines - shape =torch.Size([104224, 10])\n",
            "Saving: 136000 to 137000 lines - shape =torch.Size([125480, 10])\n",
            "Saving: 137000 to 138000 lines - shape =torch.Size([163764, 10])\n",
            "Saving: 138000 to 139000 lines - shape =torch.Size([142735, 10])\n",
            "Saving: 139000 to 140000 lines - shape =torch.Size([146790, 10])\n",
            "Saving: 140000 to 141000 lines - shape =torch.Size([133274, 10])\n",
            "Saving: 141000 to 142000 lines - shape =torch.Size([125303, 10])\n",
            "Saving: 142000 to 143000 lines - shape =torch.Size([127669, 10])\n",
            "Saving: 143000 to 144000 lines - shape =torch.Size([139279, 10])\n",
            "Saving: 144000 to 145000 lines - shape =torch.Size([138628, 10])\n",
            "Saving: 145000 to 146000 lines - shape =torch.Size([131625, 10])\n",
            "Saving: 146000 to 147000 lines - shape =torch.Size([130380, 10])\n",
            "Saving: 147000 to 148000 lines - shape =torch.Size([137456, 10])\n",
            "Saving: 148000 to 149000 lines - shape =torch.Size([121052, 10])\n",
            "Saving: 149000 to 150000 lines - shape =torch.Size([148410, 10])\n",
            "Saving: 150000 to 151000 lines - shape =torch.Size([122559, 10])\n",
            "Saving: 151000 to 152000 lines - shape =torch.Size([152407, 10])\n",
            "Saving: 152000 to 153000 lines - shape =torch.Size([162135, 10])\n",
            "Saving: 153000 to 154000 lines - shape =torch.Size([135374, 10])\n",
            "Saving: 154000 to 155000 lines - shape =torch.Size([137964, 10])\n",
            "Saving: 155000 to 156000 lines - shape =torch.Size([149858, 10])\n",
            "Saving: 156000 to 157000 lines - shape =torch.Size([140353, 10])\n",
            "Saving: 157000 to 158000 lines - shape =torch.Size([148496, 10])\n",
            "Saving: 158000 to 159000 lines - shape =torch.Size([139060, 10])\n",
            "Saving: 159000 to 160000 lines - shape =torch.Size([143915, 10])\n",
            "Saving: 160000 to 161000 lines - shape =torch.Size([150896, 10])\n",
            "Saving: 161000 to 162000 lines - shape =torch.Size([146437, 10])\n",
            "Saving: 162000 to 163000 lines - shape =torch.Size([153907, 10])\n",
            "Saving: 163000 to 164000 lines - shape =torch.Size([128806, 10])\n",
            "Saving: 164000 to 165000 lines - shape =torch.Size([162977, 10])\n",
            "Saving: 165000 to 166000 lines - shape =torch.Size([140914, 10])\n",
            "Saving: 166000 to 167000 lines - shape =torch.Size([127155, 10])\n",
            "Saving: 167000 to 168000 lines - shape =torch.Size([137708, 10])\n",
            "Saving: 168000 to 169000 lines - shape =torch.Size([128121, 10])\n",
            "Saving: 169000 to 170000 lines - shape =torch.Size([133058, 10])\n",
            "Saving: 170000 to 171000 lines - shape =torch.Size([136130, 10])\n",
            "Saving: 171000 to 172000 lines - shape =torch.Size([153660, 10])\n",
            "Saving: 172000 to 173000 lines - shape =torch.Size([134096, 10])\n",
            "Saving: 173000 to 174000 lines - shape =torch.Size([139311, 10])\n",
            "Saving: 174000 to 175000 lines - shape =torch.Size([132661, 10])\n",
            "Saving: 175000 to 176000 lines - shape =torch.Size([144725, 10])\n",
            "Saving: 176000 to 177000 lines - shape =torch.Size([147369, 10])\n",
            "Saving: 177000 to 178000 lines - shape =torch.Size([151633, 10])\n",
            "Saving: 178000 to 179000 lines - shape =torch.Size([182048, 10])\n",
            "Saving: 179000 to 180000 lines - shape =torch.Size([127676, 10])\n",
            "Saving: 180000 to 181000 lines - shape =torch.Size([131891, 10])\n",
            "Saving: 181000 to 182000 lines - shape =torch.Size([165464, 10])\n",
            "Saving: 182000 to 183000 lines - shape =torch.Size([127744, 10])\n",
            "Saving: 183000 to 184000 lines - shape =torch.Size([126120, 10])\n",
            "Saving: 184000 to 185000 lines - shape =torch.Size([133106, 10])\n",
            "Saving: 185000 to 186000 lines - shape =torch.Size([152530, 10])\n",
            "Saving: 186000 to 187000 lines - shape =torch.Size([146019, 10])\n",
            "Saving: 187000 to 188000 lines - shape =torch.Size([141968, 10])\n",
            "Saving: 188000 to 189000 lines - shape =torch.Size([142766, 10])\n",
            "Saving: 189000 to 190000 lines - shape =torch.Size([165003, 10])\n",
            "Saving: 190000 to 191000 lines - shape =torch.Size([137509, 10])\n",
            "Saving: 191000 to 192000 lines - shape =torch.Size([126053, 10])\n",
            "Saving: 192000 to 193000 lines - shape =torch.Size([145279, 10])\n",
            "Saving: 193000 to 194000 lines - shape =torch.Size([131067, 10])\n",
            "Saving: 194000 to 195000 lines - shape =torch.Size([132020, 10])\n",
            "Saving: 195000 to 196000 lines - shape =torch.Size([139335, 10])\n",
            "Saving: 196000 to 197000 lines - shape =torch.Size([145400, 10])\n",
            "Saving: 197000 to 198000 lines - shape =torch.Size([138757, 10])\n",
            "Saving: 198000 to 199000 lines - shape =torch.Size([140425, 10])\n",
            "Saving: 199000 to 200000 lines - shape =torch.Size([159853, 10])\n",
            "Saving: 200000 to 201000 lines - shape =torch.Size([119849, 10])\n",
            "Saving: 201000 to 202000 lines - shape =torch.Size([133987, 10])\n",
            "Saving: 202000 to 203000 lines - shape =torch.Size([137832, 10])\n"
          ]
        },
        {
          "output_type": "error",
          "ename": "KeyboardInterrupt",
          "evalue": "ignored",
          "traceback": [
            "\u001b[0;31m---------------------------------------------------------------------------\u001b[0m",
            "\u001b[0;31mFileNotFoundError\u001b[0m                         Traceback (most recent call last)",
            "\u001b[0;32m<ipython-input-4-a450b935b905>\u001b[0m in \u001b[0;36m__init__\u001b[0;34m(self, texts, tokenizer, max_seq_length, data_type, iter_texts, i_init)\u001b[0m\n\u001b[1;32m     15\u001b[0m             \u001b[0;32mtry\u001b[0m\u001b[0;34m:\u001b[0m\u001b[0;34m\u001b[0m\u001b[0;34m\u001b[0m\u001b[0m\n\u001b[0;32m---> 16\u001b[0;31m                 \u001b[0mself\u001b[0m\u001b[0;34m.\u001b[0m\u001b[0mload_x\u001b[0m \u001b[0;34m=\u001b[0m \u001b[0mnp\u001b[0m\u001b[0;34m.\u001b[0m\u001b[0mload\u001b[0m\u001b[0;34m(\u001b[0m\u001b[0mpath\u001b[0m\u001b[0;34m+\u001b[0m\u001b[0;34m\"x_\"\u001b[0m\u001b[0;34m+\u001b[0m \u001b[0mstr\u001b[0m\u001b[0;34m(\u001b[0m\u001b[0mi\u001b[0m\u001b[0;34m)\u001b[0m \u001b[0;34m+\u001b[0m \u001b[0;34m\"_\"\u001b[0m\u001b[0;34m+\u001b[0m \u001b[0mstr\u001b[0m\u001b[0;34m(\u001b[0m\u001b[0mi\u001b[0m\u001b[0;34m+\u001b[0m\u001b[0miter_texts\u001b[0m\u001b[0;34m)\u001b[0m \u001b[0;34m+\u001b[0m\u001b[0;34m\"_\"\u001b[0m \u001b[0;34m+\u001b[0m \u001b[0mdata_type\u001b[0m \u001b[0;34m+\u001b[0m \u001b[0;34m\".npy\"\u001b[0m\u001b[0;34m,\u001b[0m \u001b[0mmmap_mode\u001b[0m\u001b[0;34m=\u001b[0m\u001b[0;34m\"r\"\u001b[0m\u001b[0;34m,\u001b[0m \u001b[0mallow_pickle\u001b[0m\u001b[0;34m=\u001b[0m\u001b[0;32mTrue\u001b[0m\u001b[0;34m)\u001b[0m\u001b[0;34m\u001b[0m\u001b[0;34m\u001b[0m\u001b[0m\n\u001b[0m\u001b[1;32m     17\u001b[0m                 \u001b[0mself\u001b[0m\u001b[0;34m.\u001b[0m\u001b[0mtokens_ids\u001b[0m\u001b[0;34m.\u001b[0m\u001b[0mappend\u001b[0m\u001b[0;34m(\u001b[0m\u001b[0mtorch\u001b[0m\u001b[0;34m.\u001b[0m\u001b[0mtensor\u001b[0m\u001b[0;34m(\u001b[0m\u001b[0mself\u001b[0m\u001b[0;34m.\u001b[0m\u001b[0mload_x\u001b[0m\u001b[0;34m)\u001b[0m\u001b[0;34m)\u001b[0m\u001b[0;34m\u001b[0m\u001b[0;34m\u001b[0m\u001b[0m\n",
            "\u001b[0;32m/usr/local/lib/python3.7/dist-packages/numpy/lib/npyio.py\u001b[0m in \u001b[0;36mload\u001b[0;34m(file, mmap_mode, allow_pickle, fix_imports, encoding)\u001b[0m\n\u001b[1;32m    416\u001b[0m         \u001b[0;32melse\u001b[0m\u001b[0;34m:\u001b[0m\u001b[0;34m\u001b[0m\u001b[0;34m\u001b[0m\u001b[0m\n\u001b[0;32m--> 417\u001b[0;31m             \u001b[0mfid\u001b[0m \u001b[0;34m=\u001b[0m \u001b[0mstack\u001b[0m\u001b[0;34m.\u001b[0m\u001b[0menter_context\u001b[0m\u001b[0;34m(\u001b[0m\u001b[0mopen\u001b[0m\u001b[0;34m(\u001b[0m\u001b[0mos_fspath\u001b[0m\u001b[0;34m(\u001b[0m\u001b[0mfile\u001b[0m\u001b[0;34m)\u001b[0m\u001b[0;34m,\u001b[0m \u001b[0;34m\"rb\"\u001b[0m\u001b[0;34m)\u001b[0m\u001b[0;34m)\u001b[0m\u001b[0;34m\u001b[0m\u001b[0;34m\u001b[0m\u001b[0m\n\u001b[0m\u001b[1;32m    418\u001b[0m             \u001b[0mown_fid\u001b[0m \u001b[0;34m=\u001b[0m \u001b[0;32mTrue\u001b[0m\u001b[0;34m\u001b[0m\u001b[0;34m\u001b[0m\u001b[0m\n",
            "\u001b[0;31mFileNotFoundError\u001b[0m: [Errno 2] No such file or directory: '/content/gdrive/MyDrive/Colab Notebooks/modelos_Aula09/dataset_02/x_203000_204000_train.npy'",
            "\nDuring handling of the above exception, another exception occurred:\n",
            "\u001b[0;31mKeyboardInterrupt\u001b[0m                         Traceback (most recent call last)",
            "\u001b[0;32m<ipython-input-6-fc377022c0b0>\u001b[0m in \u001b[0;36m<module>\u001b[0;34m()\u001b[0m\n\u001b[1;32m     18\u001b[0m \u001b[0mtest_texts\u001b[0m \u001b[0;34m=\u001b[0m \u001b[0mtexts\u001b[0m\u001b[0;34m[\u001b[0m\u001b[0;34m-\u001b[0m\u001b[0mtest_examples\u001b[0m\u001b[0;34m:\u001b[0m\u001b[0;34m]\u001b[0m\u001b[0;34m\u001b[0m\u001b[0;34m\u001b[0m\u001b[0m\n\u001b[1;32m     19\u001b[0m \u001b[0;34m\u001b[0m\u001b[0m\n\u001b[0;32m---> 20\u001b[0;31m \u001b[0mtraining_dataset\u001b[0m \u001b[0;34m=\u001b[0m \u001b[0mMyDataset\u001b[0m\u001b[0;34m(\u001b[0m\u001b[0mtexts\u001b[0m\u001b[0;34m=\u001b[0m\u001b[0mtraining_texts\u001b[0m\u001b[0;34m,\u001b[0m \u001b[0mtokenizer\u001b[0m\u001b[0;34m=\u001b[0m\u001b[0mtokenizer\u001b[0m\u001b[0;34m,\u001b[0m \u001b[0mmax_seq_length\u001b[0m\u001b[0;34m=\u001b[0m\u001b[0mmax_seq_length\u001b[0m\u001b[0;34m)\u001b[0m\u001b[0;34m\u001b[0m\u001b[0;34m\u001b[0m\u001b[0m\n\u001b[0m\u001b[1;32m     21\u001b[0m \u001b[0mvalid_dataset\u001b[0m \u001b[0;34m=\u001b[0m \u001b[0mMyDataset\u001b[0m\u001b[0;34m(\u001b[0m\u001b[0mtexts\u001b[0m\u001b[0;34m=\u001b[0m\u001b[0mvalid_texts\u001b[0m\u001b[0;34m,\u001b[0m \u001b[0mtokenizer\u001b[0m\u001b[0;34m=\u001b[0m\u001b[0mtokenizer\u001b[0m\u001b[0;34m,\u001b[0m \u001b[0mmax_seq_length\u001b[0m\u001b[0;34m=\u001b[0m\u001b[0mmax_seq_length\u001b[0m\u001b[0;34m,\u001b[0m \u001b[0mdata_type\u001b[0m\u001b[0;34m=\u001b[0m\u001b[0;34m\"val\"\u001b[0m\u001b[0;34m,\u001b[0m \u001b[0miter_texts\u001b[0m\u001b[0;34m=\u001b[0m\u001b[0;36m100\u001b[0m\u001b[0;34m)\u001b[0m\u001b[0;34m\u001b[0m\u001b[0;34m\u001b[0m\u001b[0m\n\u001b[1;32m     22\u001b[0m \u001b[0mtest_dataset\u001b[0m \u001b[0;34m=\u001b[0m \u001b[0mMyDataset\u001b[0m\u001b[0;34m(\u001b[0m\u001b[0mtexts\u001b[0m\u001b[0;34m=\u001b[0m\u001b[0mtest_texts\u001b[0m\u001b[0;34m,\u001b[0m \u001b[0mtokenizer\u001b[0m\u001b[0;34m=\u001b[0m\u001b[0mtokenizer\u001b[0m\u001b[0;34m,\u001b[0m \u001b[0mmax_seq_length\u001b[0m\u001b[0;34m=\u001b[0m\u001b[0mmax_seq_length\u001b[0m\u001b[0;34m,\u001b[0m \u001b[0mdata_type\u001b[0m\u001b[0;34m=\u001b[0m\u001b[0;34m\"test\"\u001b[0m\u001b[0;34m,\u001b[0m \u001b[0miter_texts\u001b[0m\u001b[0;34m=\u001b[0m\u001b[0;36m100\u001b[0m\u001b[0;34m)\u001b[0m\u001b[0;34m\u001b[0m\u001b[0;34m\u001b[0m\u001b[0m\n",
            "\u001b[0;32m<ipython-input-4-a450b935b905>\u001b[0m in \u001b[0;36m__init__\u001b[0;34m(self, texts, tokenizer, max_seq_length, data_type, iter_texts, i_init)\u001b[0m\n\u001b[1;32m     19\u001b[0m \u001b[0;34m\u001b[0m\u001b[0m\n\u001b[1;32m     20\u001b[0m             \u001b[0;32mexcept\u001b[0m \u001b[0mException\u001b[0m \u001b[0;32mas\u001b[0m \u001b[0me\u001b[0m\u001b[0;34m:\u001b[0m\u001b[0;34m\u001b[0m\u001b[0;34m\u001b[0m\u001b[0m\n\u001b[0;32m---> 21\u001b[0;31m                 \u001b[0moutput_tokenize\u001b[0m \u001b[0;34m=\u001b[0m \u001b[0mtokenize\u001b[0m\u001b[0;34m(\u001b[0m\u001b[0mtexts\u001b[0m\u001b[0;34m[\u001b[0m\u001b[0mi\u001b[0m\u001b[0;34m:\u001b[0m\u001b[0mi\u001b[0m\u001b[0;34m+\u001b[0m\u001b[0miter_texts\u001b[0m\u001b[0;34m]\u001b[0m\u001b[0;34m,\u001b[0m \u001b[0mtokenizer\u001b[0m\u001b[0;34m)\u001b[0m\u001b[0;34m\u001b[0m\u001b[0;34m\u001b[0m\u001b[0m\n\u001b[0m\u001b[1;32m     22\u001b[0m                 \u001b[0moutput_tokenize\u001b[0m \u001b[0;34m=\u001b[0m \u001b[0mtorch\u001b[0m\u001b[0;34m.\u001b[0m\u001b[0mnn\u001b[0m\u001b[0;34m.\u001b[0m\u001b[0mfunctional\u001b[0m\u001b[0;34m.\u001b[0m\u001b[0mpad\u001b[0m\u001b[0;34m(\u001b[0m\u001b[0moutput_tokenize\u001b[0m\u001b[0;34m,\u001b[0m \u001b[0;34m(\u001b[0m\u001b[0;36m0\u001b[0m\u001b[0;34m,\u001b[0m\u001b[0mmax\u001b[0m\u001b[0;34m(\u001b[0m\u001b[0;34m(\u001b[0m\u001b[0mmax_seq_length\u001b[0m\u001b[0;34m-\u001b[0m\u001b[0mint\u001b[0m\u001b[0;34m(\u001b[0m\u001b[0moutput_tokenize\u001b[0m\u001b[0;34m.\u001b[0m\u001b[0mshape\u001b[0m\u001b[0;34m[\u001b[0m\u001b[0;36m1\u001b[0m\u001b[0;34m]\u001b[0m\u001b[0;34m)\u001b[0m\u001b[0;34m,\u001b[0m\u001b[0;36m1\u001b[0m\u001b[0;34m)\u001b[0m\u001b[0;34m)\u001b[0m\u001b[0;34m)\u001b[0m\u001b[0;34m)\u001b[0m\u001b[0;34m\u001b[0m\u001b[0;34m\u001b[0m\u001b[0m\n\u001b[1;32m     23\u001b[0m                 \u001b[0mself\u001b[0m\u001b[0;34m.\u001b[0m\u001b[0mtokens_ids\u001b[0m \u001b[0;34m=\u001b[0m\u001b[0;34m[\u001b[0m\u001b[0;34m]\u001b[0m\u001b[0;34m\u001b[0m\u001b[0;34m\u001b[0m\u001b[0m\n",
            "\u001b[0;32m<ipython-input-4-a450b935b905>\u001b[0m in \u001b[0;36mtokenize\u001b[0;34m(text, tokenizer)\u001b[0m\n\u001b[1;32m      4\u001b[0m \u001b[0;32mdef\u001b[0m \u001b[0mtokenize\u001b[0m\u001b[0;34m(\u001b[0m\u001b[0mtext\u001b[0m\u001b[0;34m:\u001b[0m \u001b[0mstr\u001b[0m\u001b[0;34m,\u001b[0m \u001b[0mtokenizer\u001b[0m\u001b[0;34m)\u001b[0m\u001b[0;34m:\u001b[0m\u001b[0;34m\u001b[0m\u001b[0;34m\u001b[0m\u001b[0m\n\u001b[1;32m      5\u001b[0m     \u001b[0;31m# Recomenda-se usar o tokenizer.batch_encode_plus pois é mais rápido.\u001b[0m\u001b[0;34m\u001b[0m\u001b[0;34m\u001b[0m\u001b[0;34m\u001b[0m\u001b[0m\n\u001b[0;32m----> 6\u001b[0;31m     \u001b[0;32mreturn\u001b[0m \u001b[0mtokenizer\u001b[0m\u001b[0;34m.\u001b[0m\u001b[0mbatch_encode_plus\u001b[0m\u001b[0;34m(\u001b[0m\u001b[0mtext\u001b[0m\u001b[0;34m,\u001b[0m \u001b[0mreturn_tensors\u001b[0m\u001b[0;34m=\u001b[0m\u001b[0;34m'pt'\u001b[0m\u001b[0;34m,\u001b[0m \u001b[0madd_special_tokens\u001b[0m\u001b[0;34m=\u001b[0m \u001b[0;32mFalse\u001b[0m\u001b[0;34m,\u001b[0m  \u001b[0mpadding\u001b[0m\u001b[0;34m=\u001b[0m\u001b[0;34m\"longest\"\u001b[0m\u001b[0;34m)\u001b[0m\u001b[0;34m.\u001b[0m\u001b[0minput_ids\u001b[0m\u001b[0;34m\u001b[0m\u001b[0;34m\u001b[0m\u001b[0m\n\u001b[0m\u001b[1;32m      7\u001b[0m \u001b[0;34m\u001b[0m\u001b[0m\n\u001b[1;32m      8\u001b[0m \u001b[0;34m\u001b[0m\u001b[0m\n",
            "\u001b[0;32m/usr/local/lib/python3.7/dist-packages/transformers/tokenization_utils_base.py\u001b[0m in \u001b[0;36mbatch_encode_plus\u001b[0;34m(self, batch_text_or_text_pairs, add_special_tokens, padding, truncation, max_length, stride, is_split_into_words, pad_to_multiple_of, return_tensors, return_token_type_ids, return_attention_mask, return_overflowing_tokens, return_special_tokens_mask, return_offsets_mapping, return_length, verbose, **kwargs)\u001b[0m\n\u001b[1;32m   2683\u001b[0m             \u001b[0mreturn_length\u001b[0m\u001b[0;34m=\u001b[0m\u001b[0mreturn_length\u001b[0m\u001b[0;34m,\u001b[0m\u001b[0;34m\u001b[0m\u001b[0;34m\u001b[0m\u001b[0m\n\u001b[1;32m   2684\u001b[0m             \u001b[0mverbose\u001b[0m\u001b[0;34m=\u001b[0m\u001b[0mverbose\u001b[0m\u001b[0;34m,\u001b[0m\u001b[0;34m\u001b[0m\u001b[0;34m\u001b[0m\u001b[0m\n\u001b[0;32m-> 2685\u001b[0;31m             \u001b[0;34m**\u001b[0m\u001b[0mkwargs\u001b[0m\u001b[0;34m,\u001b[0m\u001b[0;34m\u001b[0m\u001b[0;34m\u001b[0m\u001b[0m\n\u001b[0m\u001b[1;32m   2686\u001b[0m         )\n\u001b[1;32m   2687\u001b[0m \u001b[0;34m\u001b[0m\u001b[0m\n",
            "\u001b[0;32m/usr/local/lib/python3.7/dist-packages/transformers/tokenization_utils.py\u001b[0m in \u001b[0;36m_batch_encode_plus\u001b[0;34m(self, batch_text_or_text_pairs, add_special_tokens, padding_strategy, truncation_strategy, max_length, stride, is_split_into_words, pad_to_multiple_of, return_tensors, return_token_type_ids, return_attention_mask, return_overflowing_tokens, return_special_tokens_mask, return_offsets_mapping, return_length, verbose, **kwargs)\u001b[0m\n\u001b[1;32m    728\u001b[0m                 \u001b[0mids\u001b[0m\u001b[0;34m,\u001b[0m \u001b[0mpair_ids\u001b[0m \u001b[0;34m=\u001b[0m \u001b[0mids_or_pair_ids\u001b[0m\u001b[0;34m\u001b[0m\u001b[0;34m\u001b[0m\u001b[0m\n\u001b[1;32m    729\u001b[0m \u001b[0;34m\u001b[0m\u001b[0m\n\u001b[0;32m--> 730\u001b[0;31m             \u001b[0mfirst_ids\u001b[0m \u001b[0;34m=\u001b[0m \u001b[0mget_input_ids\u001b[0m\u001b[0;34m(\u001b[0m\u001b[0mids\u001b[0m\u001b[0;34m)\u001b[0m\u001b[0;34m\u001b[0m\u001b[0;34m\u001b[0m\u001b[0m\n\u001b[0m\u001b[1;32m    731\u001b[0m             \u001b[0msecond_ids\u001b[0m \u001b[0;34m=\u001b[0m \u001b[0mget_input_ids\u001b[0m\u001b[0;34m(\u001b[0m\u001b[0mpair_ids\u001b[0m\u001b[0;34m)\u001b[0m \u001b[0;32mif\u001b[0m \u001b[0mpair_ids\u001b[0m \u001b[0;32mis\u001b[0m \u001b[0;32mnot\u001b[0m \u001b[0;32mNone\u001b[0m \u001b[0;32melse\u001b[0m \u001b[0;32mNone\u001b[0m\u001b[0;34m\u001b[0m\u001b[0;34m\u001b[0m\u001b[0m\n\u001b[1;32m    732\u001b[0m             \u001b[0minput_ids\u001b[0m\u001b[0;34m.\u001b[0m\u001b[0mappend\u001b[0m\u001b[0;34m(\u001b[0m\u001b[0;34m(\u001b[0m\u001b[0mfirst_ids\u001b[0m\u001b[0;34m,\u001b[0m \u001b[0msecond_ids\u001b[0m\u001b[0;34m)\u001b[0m\u001b[0;34m)\u001b[0m\u001b[0;34m\u001b[0m\u001b[0;34m\u001b[0m\u001b[0m\n",
            "\u001b[0;32m/usr/local/lib/python3.7/dist-packages/transformers/tokenization_utils.py\u001b[0m in \u001b[0;36mget_input_ids\u001b[0;34m(text)\u001b[0m\n\u001b[1;32m    695\u001b[0m         \u001b[0;32mdef\u001b[0m \u001b[0mget_input_ids\u001b[0m\u001b[0;34m(\u001b[0m\u001b[0mtext\u001b[0m\u001b[0;34m)\u001b[0m\u001b[0;34m:\u001b[0m\u001b[0;34m\u001b[0m\u001b[0;34m\u001b[0m\u001b[0m\n\u001b[1;32m    696\u001b[0m             \u001b[0;32mif\u001b[0m \u001b[0misinstance\u001b[0m\u001b[0;34m(\u001b[0m\u001b[0mtext\u001b[0m\u001b[0;34m,\u001b[0m \u001b[0mstr\u001b[0m\u001b[0;34m)\u001b[0m\u001b[0;34m:\u001b[0m\u001b[0;34m\u001b[0m\u001b[0;34m\u001b[0m\u001b[0m\n\u001b[0;32m--> 697\u001b[0;31m                 \u001b[0mtokens\u001b[0m \u001b[0;34m=\u001b[0m \u001b[0mself\u001b[0m\u001b[0;34m.\u001b[0m\u001b[0mtokenize\u001b[0m\u001b[0;34m(\u001b[0m\u001b[0mtext\u001b[0m\u001b[0;34m,\u001b[0m \u001b[0;34m**\u001b[0m\u001b[0mkwargs\u001b[0m\u001b[0;34m)\u001b[0m\u001b[0;34m\u001b[0m\u001b[0;34m\u001b[0m\u001b[0m\n\u001b[0m\u001b[1;32m    698\u001b[0m                 \u001b[0;32mreturn\u001b[0m \u001b[0mself\u001b[0m\u001b[0;34m.\u001b[0m\u001b[0mconvert_tokens_to_ids\u001b[0m\u001b[0;34m(\u001b[0m\u001b[0mtokens\u001b[0m\u001b[0;34m)\u001b[0m\u001b[0;34m\u001b[0m\u001b[0;34m\u001b[0m\u001b[0m\n\u001b[1;32m    699\u001b[0m             \u001b[0;32melif\u001b[0m \u001b[0misinstance\u001b[0m\u001b[0;34m(\u001b[0m\u001b[0mtext\u001b[0m\u001b[0;34m,\u001b[0m \u001b[0;34m(\u001b[0m\u001b[0mlist\u001b[0m\u001b[0;34m,\u001b[0m \u001b[0mtuple\u001b[0m\u001b[0;34m)\u001b[0m\u001b[0;34m)\u001b[0m \u001b[0;32mand\u001b[0m \u001b[0mlen\u001b[0m\u001b[0;34m(\u001b[0m\u001b[0mtext\u001b[0m\u001b[0;34m)\u001b[0m \u001b[0;34m>\u001b[0m \u001b[0;36m0\u001b[0m \u001b[0;32mand\u001b[0m \u001b[0misinstance\u001b[0m\u001b[0;34m(\u001b[0m\u001b[0mtext\u001b[0m\u001b[0;34m[\u001b[0m\u001b[0;36m0\u001b[0m\u001b[0;34m]\u001b[0m\u001b[0;34m,\u001b[0m \u001b[0mstr\u001b[0m\u001b[0;34m)\u001b[0m\u001b[0;34m:\u001b[0m\u001b[0;34m\u001b[0m\u001b[0;34m\u001b[0m\u001b[0m\n",
            "\u001b[0;32m/usr/local/lib/python3.7/dist-packages/transformers/tokenization_utils.py\u001b[0m in \u001b[0;36mtokenize\u001b[0;34m(self, text, **kwargs)\u001b[0m\n\u001b[1;32m    514\u001b[0m \u001b[0;34m\u001b[0m\u001b[0m\n\u001b[1;32m    515\u001b[0m         \u001b[0mno_split_token\u001b[0m \u001b[0;34m=\u001b[0m \u001b[0mset\u001b[0m\u001b[0;34m(\u001b[0m\u001b[0mself\u001b[0m\u001b[0;34m.\u001b[0m\u001b[0munique_no_split_tokens\u001b[0m\u001b[0;34m)\u001b[0m\u001b[0;34m\u001b[0m\u001b[0;34m\u001b[0m\u001b[0m\n\u001b[0;32m--> 516\u001b[0;31m         \u001b[0mtokens\u001b[0m \u001b[0;34m=\u001b[0m \u001b[0mself\u001b[0m\u001b[0;34m.\u001b[0m\u001b[0mtokens_trie\u001b[0m\u001b[0;34m.\u001b[0m\u001b[0msplit\u001b[0m\u001b[0;34m(\u001b[0m\u001b[0mtext\u001b[0m\u001b[0;34m)\u001b[0m\u001b[0;34m\u001b[0m\u001b[0;34m\u001b[0m\u001b[0m\n\u001b[0m\u001b[1;32m    517\u001b[0m         \u001b[0;31m# [\"This is something\", \"<special_token_1>\", \"  else\"]\u001b[0m\u001b[0;34m\u001b[0m\u001b[0;34m\u001b[0m\u001b[0;34m\u001b[0m\u001b[0m\n\u001b[1;32m    518\u001b[0m         \u001b[0;32mfor\u001b[0m \u001b[0mi\u001b[0m\u001b[0;34m,\u001b[0m \u001b[0mtoken\u001b[0m \u001b[0;32min\u001b[0m \u001b[0menumerate\u001b[0m\u001b[0;34m(\u001b[0m\u001b[0mtokens\u001b[0m\u001b[0;34m)\u001b[0m\u001b[0;34m:\u001b[0m\u001b[0;34m\u001b[0m\u001b[0;34m\u001b[0m\u001b[0m\n",
            "\u001b[0;32m/usr/local/lib/python3.7/dist-packages/transformers/tokenization_utils.py\u001b[0m in \u001b[0;36msplit\u001b[0;34m(self, text)\u001b[0m\n\u001b[1;32m    143\u001b[0m             \u001b[0;31m# If we look at \"lowball\", we're going to match \"l\" (add it to states), \"o\", \"w\", then\u001b[0m\u001b[0;34m\u001b[0m\u001b[0;34m\u001b[0m\u001b[0;34m\u001b[0m\u001b[0m\n\u001b[1;32m    144\u001b[0m             \u001b[0;31m# fail on \"b\", we need to remove 0 from the valid states.\u001b[0m\u001b[0;34m\u001b[0m\u001b[0;34m\u001b[0m\u001b[0;34m\u001b[0m\u001b[0m\n\u001b[0;32m--> 145\u001b[0;31m             \u001b[0mto_remove\u001b[0m \u001b[0;34m=\u001b[0m \u001b[0mset\u001b[0m\u001b[0;34m(\u001b[0m\u001b[0;34m)\u001b[0m\u001b[0;34m\u001b[0m\u001b[0;34m\u001b[0m\u001b[0m\n\u001b[0m\u001b[1;32m    146\u001b[0m             \u001b[0;31m# Whenever we found a match, we need to drop everything\u001b[0m\u001b[0;34m\u001b[0m\u001b[0;34m\u001b[0m\u001b[0;34m\u001b[0m\u001b[0m\n\u001b[1;32m    147\u001b[0m             \u001b[0;31m# this is a greedy algorithm, it will match on the first found token\u001b[0m\u001b[0;34m\u001b[0m\u001b[0;34m\u001b[0m\u001b[0;34m\u001b[0m\u001b[0m\n",
            "\u001b[0;31mKeyboardInterrupt\u001b[0m: "
          ]
        }
      ],
      "source": [
        "# Load datasets\n",
        "max_seq_length = 9\n",
        "\n",
        "train_examples = 500\n",
        "valid_examples = 100\n",
        "test_examples = 100\n",
        "\n",
        "texts = open('sample-1gb.txt').readlines()\n",
        "\n",
        "print(f'Read {len(texts)} lines.')\n",
        "\n",
        "#max_lines = train_examples + valid_examples + test_examples\n",
        "#print(f'Truncating to {max_lines} lines.')\n",
        "#texts = texts[:max_lines]  \n",
        "\n",
        "training_texts = texts[:-(valid_examples + test_examples)]\n",
        "valid_texts = texts[-(valid_examples + test_examples):-test_examples]\n",
        "test_texts = texts[-test_examples:]\n",
        "\n",
        "training_dataset = MyDataset(texts=training_texts, tokenizer=tokenizer, max_seq_length=max_seq_length)\n",
        "valid_dataset = MyDataset(texts=valid_texts, tokenizer=tokenizer, max_seq_length=max_seq_length, data_type=\"val\", iter_texts=100)\n",
        "test_dataset = MyDataset(texts=test_texts, tokenizer=tokenizer, max_seq_length=max_seq_length, data_type=\"test\", iter_texts=100)"
      ]
    },
    {
      "cell_type": "code",
      "execution_count": null,
      "metadata": {
        "colab": {
          "base_uri": "https://localhost:8080/"
        },
        "outputId": "85ed522c-a84f-48ac-c5a4-a3e05962472d",
        "id": "nqSN4lr9E5wT"
      },
      "outputs": [
        {
          "output_type": "stream",
          "name": "stdout",
          "text": [
            "Saving: 0 to 100 lines - shape =torch.Size([16597, 10])\n",
            "Don't need to stack tensor\n",
            "Saving: 0 to 100 lines - shape =torch.Size([9337, 10])\n",
            "Don't need to stack tensor\n"
          ]
        }
      ],
      "source": [
        "# Load datasets\n",
        "\n",
        "valid_dataset = MyDataset(texts=valid_texts, tokenizer=tokenizer, max_seq_length=max_seq_length, data_type=\"val\", iter_texts=100)\n",
        "test_dataset = MyDataset(texts=test_texts, tokenizer=tokenizer, max_seq_length=max_seq_length, data_type=\"test\", iter_texts=100)"
      ]
    },
    {
      "cell_type": "markdown",
      "source": [
        "## Carregando Dataset salvo na pasta do Drive"
      ],
      "metadata": {
        "id": "t7EfB_n7PqhW"
      }
    },
    {
      "cell_type": "code",
      "execution_count": null,
      "metadata": {
        "colab": {
          "base_uri": "https://localhost:8080/"
        },
        "outputId": "0fcf0c78-3099-41b6-97e0-69037eb863c3",
        "id": "QSvbquSu8272"
      },
      "outputs": [
        {
          "output_type": "stream",
          "name": "stdout",
          "text": [
            "Read 250000 lines.\n",
            "0 to 1000 lines loaded\n",
            "1000 to 2000 lines loaded\n",
            "2000 to 3000 lines loaded\n",
            "3000 to 4000 lines loaded\n",
            "4000 to 5000 lines loaded\n",
            "5000 to 6000 lines loaded\n",
            "6000 to 7000 lines loaded\n",
            "7000 to 8000 lines loaded\n",
            "8000 to 9000 lines loaded\n",
            "9000 to 10000 lines loaded\n",
            "10000 to 11000 lines loaded\n",
            "11000 to 12000 lines loaded\n",
            "12000 to 13000 lines loaded\n",
            "13000 to 14000 lines loaded\n",
            "14000 to 15000 lines loaded\n",
            "15000 to 16000 lines loaded\n",
            "16000 to 17000 lines loaded\n",
            "17000 to 18000 lines loaded\n",
            "18000 to 19000 lines loaded\n",
            "19000 to 20000 lines loaded\n",
            "20000 to 21000 lines loaded\n",
            "21000 to 22000 lines loaded\n",
            "22000 to 23000 lines loaded\n",
            "23000 to 24000 lines loaded\n",
            "24000 to 25000 lines loaded\n",
            "25000 to 26000 lines loaded\n",
            "26000 to 27000 lines loaded\n",
            "27000 to 28000 lines loaded\n",
            "28000 to 29000 lines loaded\n",
            "29000 to 30000 lines loaded\n",
            "30000 to 31000 lines loaded\n",
            "31000 to 32000 lines loaded\n",
            "32000 to 33000 lines loaded\n",
            "33000 to 34000 lines loaded\n",
            "34000 to 35000 lines loaded\n",
            "35000 to 36000 lines loaded\n",
            "36000 to 37000 lines loaded\n",
            "37000 to 38000 lines loaded\n",
            "38000 to 39000 lines loaded\n",
            "39000 to 40000 lines loaded\n",
            "40000 to 41000 lines loaded\n",
            "41000 to 42000 lines loaded\n",
            "42000 to 43000 lines loaded\n",
            "43000 to 44000 lines loaded\n",
            "44000 to 45000 lines loaded\n",
            "45000 to 46000 lines loaded\n",
            "46000 to 47000 lines loaded\n",
            "47000 to 48000 lines loaded\n",
            "48000 to 49000 lines loaded\n",
            "49000 to 50000 lines loaded\n",
            "50000 to 51000 lines loaded\n",
            "51000 to 52000 lines loaded\n",
            "52000 to 53000 lines loaded\n",
            "53000 to 54000 lines loaded\n",
            "54000 to 55000 lines loaded\n",
            "55000 to 56000 lines loaded\n",
            "56000 to 57000 lines loaded\n",
            "57000 to 58000 lines loaded\n",
            "58000 to 59000 lines loaded\n",
            "59000 to 60000 lines loaded\n",
            "60000 to 61000 lines loaded\n",
            "61000 to 62000 lines loaded\n",
            "62000 to 63000 lines loaded\n",
            "63000 to 64000 lines loaded\n",
            "64000 to 65000 lines loaded\n",
            "65000 to 66000 lines loaded\n",
            "66000 to 67000 lines loaded\n",
            "67000 to 68000 lines loaded\n",
            "68000 to 69000 lines loaded\n",
            "69000 to 70000 lines loaded\n",
            "70000 to 71000 lines loaded\n",
            "71000 to 72000 lines loaded\n",
            "72000 to 73000 lines loaded\n",
            "73000 to 74000 lines loaded\n",
            "74000 to 75000 lines loaded\n",
            "75000 to 76000 lines loaded\n",
            "76000 to 77000 lines loaded\n",
            "77000 to 78000 lines loaded\n",
            "78000 to 79000 lines loaded\n",
            "79000 to 80000 lines loaded\n",
            "80000 to 81000 lines loaded\n",
            "81000 to 82000 lines loaded\n",
            "82000 to 83000 lines loaded\n",
            "83000 to 84000 lines loaded\n",
            "84000 to 85000 lines loaded\n",
            "85000 to 86000 lines loaded\n",
            "86000 to 87000 lines loaded\n",
            "87000 to 88000 lines loaded\n",
            "88000 to 89000 lines loaded\n",
            "89000 to 90000 lines loaded\n",
            "90000 to 91000 lines loaded\n",
            "91000 to 92000 lines loaded\n",
            "92000 to 93000 lines loaded\n",
            "93000 to 94000 lines loaded\n",
            "94000 to 95000 lines loaded\n",
            "95000 to 96000 lines loaded\n",
            "96000 to 97000 lines loaded\n",
            "97000 to 98000 lines loaded\n",
            "98000 to 99000 lines loaded\n",
            "99000 to 100000 lines loaded\n",
            "100000 to 101000 lines loaded\n",
            "101000 to 102000 lines loaded\n",
            "102000 to 103000 lines loaded\n",
            "103000 to 104000 lines loaded\n",
            "104000 to 105000 lines loaded\n",
            "105000 to 106000 lines loaded\n",
            "106000 to 107000 lines loaded\n",
            "107000 to 108000 lines loaded\n",
            "108000 to 109000 lines loaded\n",
            "109000 to 110000 lines loaded\n",
            "110000 to 111000 lines loaded\n",
            "111000 to 112000 lines loaded\n",
            "112000 to 113000 lines loaded\n",
            "113000 to 114000 lines loaded\n",
            "114000 to 115000 lines loaded\n",
            "115000 to 116000 lines loaded\n",
            "116000 to 117000 lines loaded\n",
            "117000 to 118000 lines loaded\n",
            "118000 to 119000 lines loaded\n",
            "119000 to 120000 lines loaded\n",
            "120000 to 121000 lines loaded\n",
            "121000 to 122000 lines loaded\n",
            "122000 to 123000 lines loaded\n",
            "123000 to 124000 lines loaded\n",
            "124000 to 125000 lines loaded\n",
            "125000 to 126000 lines loaded\n",
            "126000 to 127000 lines loaded\n",
            "127000 to 128000 lines loaded\n",
            "128000 to 129000 lines loaded\n",
            "129000 to 130000 lines loaded\n",
            "130000 to 131000 lines loaded\n",
            "131000 to 132000 lines loaded\n",
            "132000 to 133000 lines loaded\n",
            "133000 to 134000 lines loaded\n",
            "134000 to 135000 lines loaded\n",
            "135000 to 136000 lines loaded\n",
            "136000 to 137000 lines loaded\n",
            "137000 to 138000 lines loaded\n",
            "138000 to 139000 lines loaded\n",
            "139000 to 140000 lines loaded\n",
            "140000 to 141000 lines loaded\n",
            "141000 to 142000 lines loaded\n",
            "142000 to 143000 lines loaded\n",
            "143000 to 144000 lines loaded\n",
            "144000 to 145000 lines loaded\n",
            "145000 to 146000 lines loaded\n",
            "146000 to 147000 lines loaded\n",
            "147000 to 148000 lines loaded\n",
            "148000 to 149000 lines loaded\n",
            "149000 to 150000 lines loaded\n",
            "150000 to 151000 lines loaded\n",
            "151000 to 152000 lines loaded\n",
            "152000 to 153000 lines loaded\n",
            "153000 to 154000 lines loaded\n",
            "154000 to 155000 lines loaded\n",
            "155000 to 156000 lines loaded\n",
            "156000 to 157000 lines loaded\n",
            "157000 to 158000 lines loaded\n",
            "158000 to 159000 lines loaded\n",
            "159000 to 160000 lines loaded\n",
            "160000 to 161000 lines loaded\n",
            "161000 to 162000 lines loaded\n",
            "162000 to 163000 lines loaded\n",
            "163000 to 164000 lines loaded\n",
            "164000 to 165000 lines loaded\n",
            "165000 to 166000 lines loaded\n",
            "166000 to 167000 lines loaded\n",
            "167000 to 168000 lines loaded\n",
            "168000 to 169000 lines loaded\n",
            "169000 to 170000 lines loaded\n",
            "170000 to 171000 lines loaded\n",
            "171000 to 172000 lines loaded\n",
            "172000 to 173000 lines loaded\n",
            "173000 to 174000 lines loaded\n",
            "174000 to 175000 lines loaded\n",
            "175000 to 176000 lines loaded\n",
            "176000 to 177000 lines loaded\n",
            "177000 to 178000 lines loaded\n",
            "178000 to 179000 lines loaded\n",
            "179000 to 180000 lines loaded\n",
            "180000 to 181000 lines loaded\n",
            "181000 to 182000 lines loaded\n",
            "182000 to 183000 lines loaded\n",
            "183000 to 184000 lines loaded\n",
            "184000 to 185000 lines loaded\n",
            "185000 to 186000 lines loaded\n",
            "186000 to 187000 lines loaded\n",
            "187000 to 188000 lines loaded\n",
            "188000 to 189000 lines loaded\n",
            "189000 to 190000 lines loaded\n",
            "190000 to 191000 lines loaded\n",
            "191000 to 192000 lines loaded\n",
            "192000 to 193000 lines loaded\n",
            "193000 to 194000 lines loaded\n",
            "194000 to 195000 lines loaded\n",
            "195000 to 196000 lines loaded\n",
            "196000 to 197000 lines loaded\n",
            "197000 to 198000 lines loaded\n",
            "198000 to 199000 lines loaded\n",
            "199000 to 200000 lines loaded\n",
            "0 to 100 lines loaded\n",
            "0 to 100 lines loaded\n"
          ]
        }
      ],
      "source": [
        "# Load datasets\n",
        "max_seq_length = 9\n",
        "\n",
        "train_examples = 500\n",
        "valid_examples = 100\n",
        "test_examples = 100\n",
        "\n",
        "texts = open('sample-1gb.txt').readlines()\n",
        "\n",
        "print(f'Read {len(texts)} lines.')\n",
        "\n",
        "#max_lines = train_examples + valid_examples + test_examples\n",
        "#print(f'Truncating to {max_lines} lines.')\n",
        "#texts = texts[:max_lines]  \n",
        "\n",
        "training_texts = texts[:-(valid_examples + test_examples)]\n",
        "valid_texts = texts[-(valid_examples + test_examples):-test_examples]\n",
        "test_texts = texts[-test_examples:]\n",
        "\n",
        "training_dataset = MyDataset(texts=training_texts[:200000], tokenizer=tokenizer, max_seq_length=max_seq_length)\n",
        "valid_dataset = MyDataset(texts=valid_texts, tokenizer=tokenizer, max_seq_length=max_seq_length, data_type=\"val\", iter_texts=valid_examples)\n",
        "test_dataset = MyDataset(texts=test_texts, tokenizer=tokenizer, max_seq_length=max_seq_length, data_type=\"test\", iter_texts=test_examples)"
      ]
    },
    {
      "cell_type": "code",
      "source": [
        "training_dataset[0]"
      ],
      "metadata": {
        "colab": {
          "base_uri": "https://localhost:8080/"
        },
        "id": "KaLXR51JBhco",
        "outputId": "0351c440-472a-422e-d4b5-cb8354582e7d"
      },
      "execution_count": null,
      "outputs": [
        {
          "output_type": "execute_result",
          "data": {
            "text/plain": [
              "(tensor([  101, 20100,  2308,  3074,  1089,   481,   117,   146,  1189]),\n",
              " tensor([20100,  2308,  3074,  1089,   481,   117,   146,  1189,   125]))"
            ]
          },
          "metadata": {},
          "execution_count": 9
        }
      ]
    },
    {
      "cell_type": "code",
      "execution_count": null,
      "metadata": {
        "colab": {
          "base_uri": "https://localhost:8080/"
        },
        "id": "KCSGJ5m7py4c",
        "outputId": "da27d6e2-42a0-4121-c7d0-8800bf73a18e"
      },
      "outputs": [
        {
          "output_type": "stream",
          "name": "stdout",
          "text": [
            "training examples: 28057186\n",
            "valid examples: 16597\n",
            "test examples: 9337\n"
          ]
        }
      ],
      "source": [
        "print(f'training examples: {len(training_dataset)}')\n",
        "print(f'valid examples: {len(valid_dataset)}')\n",
        "print(f'test examples: {len(test_dataset)}')"
      ]
    },
    {
      "cell_type": "markdown",
      "source": [
        "# Arquitetura do modelo"
      ],
      "metadata": {
        "id": "WgdO2IM8hpmS"
      }
    },
    {
      "cell_type": "code",
      "execution_count": null,
      "metadata": {
        "id": "zkJ_XyI5t1Y0"
      },
      "outputs": [],
      "source": [
        "class MultiHeadAttention(torch.nn.Module):\n",
        "    def __init__(self, dim: int, n_heads: int):\n",
        "        \"\"\"\n",
        "        Implements the Multi-Head Self-attention.\"\n",
        "\n",
        "        Args:on.\n",
        "            dim (int): Dimension of the embedding layer for each word in the context.\n",
        "            n_heads (int): number of heads.\n",
        "            mask(bool): if applies mask or not\n",
        "        \"\"\"\n",
        "        super(MultiHeadAttention, self).__init__()\n",
        "        \n",
        "        self.dim = dim\n",
        "        self.n_heads = n_heads\n",
        "\n",
        "        self.W_q = nn.Linear(dim, dim, bias = False)    # shape = (D, D)\n",
        "        self.W_k = nn.Linear(dim, dim, bias = False)    # shape = (D, D)   \n",
        "        self.W_v = nn.Linear(dim, dim, bias = False)    # shape = (D, D)\n",
        "        self.W_o = nn.Linear(dim, dim, bias = False)    # shape = (D, D)\n",
        "\n",
        "    def attention(self, q, k, v, mask=None):\n",
        "        scores = torch.bmm(q, k.transpose(1,2)) #shape: (B*H, L, D/H) * (B*H, D/H, L) = (B*H, L, L)\n",
        "        scores = scores/math.sqrt(self.dim) # scale by 1/sqrt(D)\n",
        "\n",
        "        if mask is not None:\n",
        "            # retornando escores para o shape (B, H, L, L) para aplicar a mascara\n",
        "            scores = scores.view(self.batch_size, self.n_heads, self.context_size, self.context_size).masked_fill(mask == 0, float('-inf'))\n",
        "\n",
        "        # retornando escores para o shape (B*H, L, L) para seguir os cálculos\n",
        "        scores = scores.view(self.batch_size*self.n_heads, self.context_size, self.context_size)\n",
        "        \n",
        "        probs = torch.nn.functional.softmax(scores, dim=-1) # shape:   (B*H, L, L)\n",
        "        out = torch.bmm(probs, v).view(self.batch_size, self.n_heads, self.context_size, int(self.dim/self.n_heads)) # shape:   (B, H, L, D/H)\n",
        "\n",
        "        return out\n",
        "\n",
        "    def forward(self, inputs, mask):\n",
        "        self.batch_size = inputs.shape[0]   # shape = B\n",
        "        self.context_size = inputs.shape[1] # shape = L\n",
        "\n",
        "        q = self.W_q(inputs).reshape(self.batch_size, self.context_size, self.n_heads, self.dim//self.n_heads)  # shape = (B, L, H, D/H)\n",
        "        k = self.W_k(inputs).reshape(self.batch_size, self.context_size, self.n_heads, self.dim//self.n_heads)  # shape = (B, L, H, D/H)\n",
        "        v = self.W_v(inputs).reshape(self.batch_size, self.context_size, self.n_heads, self.dim//self.n_heads)  # shape = (B, L, H, D/H)\n",
        "\n",
        "        # Changing shapes for: (B, H, L, D/H)\n",
        "        q = q.transpose(1,2).contiguous().view(int(self.batch_size*self.n_heads), self.context_size, self.dim//self.n_heads) # shape = (B*H, L, D/H) \n",
        "        k = k.transpose(1,2).contiguous().view(int(self.batch_size*self.n_heads), self.context_size, self.dim//self.n_heads) # shape = (B*H, L, D/H) \n",
        "        v = v.transpose(1,2).contiguous().view(int(self.batch_size*self.n_heads), self.context_size, self.dim//self.n_heads) # shape = (B*H, L, D/H) \n",
        "\n",
        "        E = self.attention(q, k, v, mask)  # shape = (B, H, L, D/H)\n",
        "        E = E.transpose(1,2).contiguous() # shape = (B, L, H, D/H)\n",
        "        \n",
        "        E = E.reshape(self.batch_size, self.context_size, self.dim) # shape = (B, L, D)\n",
        "\n",
        "        E = self.W_o(E)  # shape = (B, L, D)\n",
        "\n",
        "        return E"
      ]
    },
    {
      "cell_type": "code",
      "execution_count": null,
      "metadata": {
        "id": "hGaAjYDfWdd1"
      },
      "outputs": [],
      "source": [
        "from collections import OrderedDict\n",
        "\n",
        "class LanguageModel(torch.nn.Module):\n",
        "\n",
        "    def __init__(self, vocab_size: int, max_seq_length: int, dim: int, n_layers: int, pad_token_id: int):\n",
        "        \"\"\"\n",
        "        Implements the Self-attention, decoder-only.\"\n",
        "\n",
        "        Args:\n",
        "            vocab_size (int): Size of the input vocabulary.\n",
        "            max_seq_length (int): Size of the sequence to consider as context for prediction.\n",
        "            dim (int): Dimension of the embedding layer for each word in the context.\n",
        "            n_layers (int): number of self-attention layers.\n",
        "            pad_token_id (int): id of the pad token that will be ignored in the attention.\n",
        "        \"\"\"\n",
        "        super(LanguageModel, self).__init__()\n",
        "\n",
        "        self.context_size = max_seq_length\n",
        "        self.dim = dim\n",
        "        self.n_heads = 4\n",
        "        self.pad_token_id = pad_token_id\n",
        "\n",
        "        # Embedding of the words\n",
        "        self.embeddings_C = nn.Embedding(vocab_size, self.dim, padding_idx=self.pad_token_id) # Ideia de adicionar padding_idx baseada no notebook de Edmar Rodrigues\n",
        "\n",
        "        # Embedding of the words positions\n",
        "        self.embeddings_P = nn.Embedding(self.context_size, self.dim)\n",
        "\n",
        "        # Multi-Head Attention\n",
        "        self.layers_attention = nn.ModuleList([\n",
        "            MultiHeadAttention(self.dim, self.n_heads)\n",
        "            for _ in range(n_layers)])\n",
        "\n",
        "        # Linear layer\n",
        "        hidden_size = 2048\n",
        "        self.feed_forward = nn.Sequential(OrderedDict([\n",
        "            ('dense1', nn.Linear(self.dim, hidden_size)),\n",
        "            ('relu1',  nn.ReLU()),\n",
        "            ('dense2', nn.Linear(hidden_size, self.dim)),\n",
        "            ('drop1',  nn.Dropout(p=0.1))]))\n",
        "\n",
        "        # Dropout\n",
        "        self.dropout = nn.Dropout(p=0.1)\n",
        "\n",
        "        # Output layer\n",
        "        self.dense = nn.Linear(self.dim, vocab_size, bias = False)\n",
        "\n",
        "\n",
        "    def forward(self, inputs):\n",
        "        \"\"\"\n",
        "        Args:\n",
        "            inputs is a LongTensor of shape (batch_size, max_seq_length)\n",
        "            \n",
        "        Returns:\n",
        "            logits of shape (batch_size, max_seq_length, vocab_size)\n",
        "        \"\"\"\n",
        "        embeds = self.embeddings_C(inputs) # embeds shape: (B, L, D)\n",
        "        # self.embeddings_P.weight shape: (L, D)\n",
        "\n",
        "        X = embeds + self.embeddings_P.weight # X shape: (B, L, D) \n",
        "        X = self.dropout(X)\n",
        "\n",
        "        pad_mask = (inputs != self.pad_token_id).unsqueeze(1).unsqueeze(2) # shape: (B, 1, 1,  L)\n",
        "        causal_mask = torch.tril(torch.ones((self.context_size, self.context_size))).bool().to(device) # shape: (L, L)\n",
        "        mask_padc = pad_mask & causal_mask  # (B, 1, L, L)\n",
        "\n",
        "        for layer in self.layers_attention:\n",
        "            # X shape: (B, L, D)\n",
        "            out = layer(X, mask = mask_padc)\n",
        "            out = torch.nn.functional.dropout(out, p=0.1)\n",
        "            out = torch.nn.functional.layer_norm((out+X), out.shape[-1:]) # shape = (B, L, D)\n",
        "            X = out \n",
        " \n",
        "        out_ff = self.feed_forward(out) \n",
        "        out_ff = torch.nn.functional.layer_norm(out+out_ff, out.shape[-1:])\n",
        "        \n",
        "        logits = self.dense(out_ff) # logits shape: (B, L, V)\n",
        "\n",
        "        return logits"
      ]
    },
    {
      "cell_type": "markdown",
      "source": [
        "## Exemplo da criação da máscara de padding e \"no peak\":"
      ],
      "metadata": {
        "id": "1kUBvcY0CZvk"
      }
    },
    {
      "cell_type": "code",
      "source": [
        "t1 = torch.tril(torch.ones((9, 9))).bool()\n",
        "t1"
      ],
      "metadata": {
        "colab": {
          "base_uri": "https://localhost:8080/"
        },
        "outputId": "a8fb5058-921e-46ce-fad8-514a248147dd",
        "id": "_L8joQOekRfc"
      },
      "execution_count": null,
      "outputs": [
        {
          "output_type": "execute_result",
          "data": {
            "text/plain": [
              "tensor([[ True, False, False, False, False, False, False, False, False],\n",
              "        [ True,  True, False, False, False, False, False, False, False],\n",
              "        [ True,  True,  True, False, False, False, False, False, False],\n",
              "        [ True,  True,  True,  True, False, False, False, False, False],\n",
              "        [ True,  True,  True,  True,  True, False, False, False, False],\n",
              "        [ True,  True,  True,  True,  True,  True, False, False, False],\n",
              "        [ True,  True,  True,  True,  True,  True,  True, False, False],\n",
              "        [ True,  True,  True,  True,  True,  True,  True,  True, False],\n",
              "        [ True,  True,  True,  True,  True,  True,  True,  True,  True]])"
            ]
          },
          "metadata": {},
          "execution_count": 22
        }
      ]
    },
    {
      "cell_type": "code",
      "source": [
        "t2 = torch.tensor([[True, True, True, True, True, True, False, False, False],\n",
        "                  [True, True, True, True, True, True, True, True, True],\n",
        "                  [True, True, True, True, True, True, True, True, False], \n",
        "                  [True, True, True, True, True, True, True, False, False],\n",
        "                  [True, True, True, True, False, False,False, False, False]]).unsqueeze(1).unsqueeze(2)\n",
        "t2"
      ],
      "metadata": {
        "colab": {
          "base_uri": "https://localhost:8080/"
        },
        "id": "IsyNjvZOkSlz",
        "outputId": "c26fb9ab-035a-49db-ccb3-c93147c0b0fc"
      },
      "execution_count": null,
      "outputs": [
        {
          "output_type": "execute_result",
          "data": {
            "text/plain": [
              "tensor([[[[ True,  True,  True,  True,  True,  True, False, False, False]]],\n",
              "\n",
              "\n",
              "        [[[ True,  True,  True,  True,  True,  True,  True,  True,  True]]],\n",
              "\n",
              "\n",
              "        [[[ True,  True,  True,  True,  True,  True,  True,  True, False]]],\n",
              "\n",
              "\n",
              "        [[[ True,  True,  True,  True,  True,  True,  True, False, False]]],\n",
              "\n",
              "\n",
              "        [[[ True,  True,  True,  True, False, False, False, False, False]]]])"
            ]
          },
          "metadata": {},
          "execution_count": 23
        }
      ]
    },
    {
      "cell_type": "code",
      "source": [
        "t1.shape"
      ],
      "metadata": {
        "colab": {
          "base_uri": "https://localhost:8080/"
        },
        "id": "j8n8qwIIlH3E",
        "outputId": "b3b205a7-9a55-49cf-8c2d-1e610fc1e5a0"
      },
      "execution_count": null,
      "outputs": [
        {
          "output_type": "execute_result",
          "data": {
            "text/plain": [
              "torch.Size([9, 9])"
            ]
          },
          "metadata": {},
          "execution_count": 24
        }
      ]
    },
    {
      "cell_type": "code",
      "source": [
        "t2.shape"
      ],
      "metadata": {
        "colab": {
          "base_uri": "https://localhost:8080/"
        },
        "id": "6_ry16dClI9s",
        "outputId": "0d7bc0ac-7d88-44c7-a03a-54c6decbd200"
      },
      "execution_count": null,
      "outputs": [
        {
          "output_type": "execute_result",
          "data": {
            "text/plain": [
              "torch.Size([5, 1, 1, 9])"
            ]
          },
          "metadata": {},
          "execution_count": 25
        }
      ]
    },
    {
      "cell_type": "code",
      "source": [
        "t1_t2 = t1&t2"
      ],
      "metadata": {
        "id": "KBOqB9MBCvq7"
      },
      "execution_count": null,
      "outputs": []
    },
    {
      "cell_type": "code",
      "source": [
        "(t1_t2).shape"
      ],
      "metadata": {
        "colab": {
          "base_uri": "https://localhost:8080/"
        },
        "id": "p1l1T9sclKxT",
        "outputId": "eca28437-882b-4d91-e6f4-17c8e23032a2"
      },
      "execution_count": null,
      "outputs": [
        {
          "output_type": "execute_result",
          "data": {
            "text/plain": [
              "torch.Size([5, 1, 9, 9])"
            ]
          },
          "metadata": {},
          "execution_count": 27
        }
      ]
    },
    {
      "cell_type": "markdown",
      "metadata": {
        "id": "Rm6_PTH2i98e"
      },
      "source": [
        "## Teste o modelo com um exemplo"
      ]
    },
    {
      "cell_type": "code",
      "execution_count": null,
      "metadata": {
        "colab": {
          "base_uri": "https://localhost:8080/"
        },
        "id": "RwnxfZlrZoT_",
        "outputId": "119b159e-a62d-48a1-801a-b3077ec85628"
      },
      "outputs": [
        {
          "output_type": "stream",
          "name": "stdout",
          "text": [
            "sample_input.shape: torch.Size([5, 9])\n",
            "sample_output.shape: torch.Size([5, 9, 29794])\n"
          ]
        }
      ],
      "source": [
        "model = LanguageModel(\n",
        "    vocab_size=tokenizer.vocab_size,\n",
        "    max_seq_length=max_seq_length,\n",
        "    dim=256,\n",
        "    n_layers=2,\n",
        "    pad_token_id=tokenizer.pad_token_id,\n",
        ").to(device)\n",
        "\n",
        "sample_input, _ = next(iter(DataLoader(training_dataset, batch_size=5)))\n",
        "sample_input = sample_input.to(device)\n",
        "sample_output = model(sample_input)\n",
        "print(f'sample_input.shape: {sample_input.shape}')\n",
        "print(f'sample_output.shape: {sample_output.shape}')"
      ]
    },
    {
      "cell_type": "code",
      "execution_count": null,
      "metadata": {
        "colab": {
          "base_uri": "https://localhost:8080/"
        },
        "id": "I3Vh6B-VkA01",
        "outputId": "6a341f56-553c-4496-86c9-d414d9654098"
      },
      "outputs": [
        {
          "output_type": "stream",
          "name": "stdout",
          "text": [
            "Number of model parameters: 16832000\n"
          ]
        }
      ],
      "source": [
        "num_params = sum(p.numel() for p in model.parameters() if p.requires_grad)\n",
        "print(f'Number of model parameters: {num_params}')"
      ]
    },
    {
      "cell_type": "markdown",
      "metadata": {
        "id": "8nhbUVsYnVAp"
      },
      "source": [
        "## Assert da Perplexidade\n"
      ]
    },
    {
      "cell_type": "code",
      "source": [
        "random.seed(123)\n",
        "np.random.seed(123)\n",
        "torch.manual_seed(123)"
      ],
      "metadata": {
        "colab": {
          "base_uri": "https://localhost:8080/"
        },
        "id": "lB6tNEvb7WvZ",
        "outputId": "5d1679db-1599-41db-9464-75dde9d8bd8d"
      },
      "execution_count": null,
      "outputs": [
        {
          "output_type": "execute_result",
          "data": {
            "text/plain": [
              "<torch._C.Generator at 0x7fd70d5be690>"
            ]
          },
          "metadata": {},
          "execution_count": 13
        }
      ]
    },
    {
      "cell_type": "code",
      "execution_count": null,
      "metadata": {
        "id": "gbMP8VAUncfX",
        "colab": {
          "base_uri": "https://localhost:8080/"
        },
        "outputId": "bce97372-617c-4c32-fc27-ad19f62b0c4b"
      },
      "outputs": [
        {
          "output_type": "stream",
          "name": "stdout",
          "text": [
            "my perplexity:              35754\n",
            "correct initial perplexity: 29794\n",
            "Passou o no assert da perplexidade\n"
          ]
        }
      ],
      "source": [
        "random.seed(123)\n",
        "np.random.seed(123)\n",
        "torch.manual_seed(123)\n",
        "\n",
        "\n",
        "def perplexity(logits, target, ignore_token_id: int):\n",
        "    \"\"\"\n",
        "    Computes the perplexity.\n",
        "\n",
        "    Args:\n",
        "        logits: a FloatTensor of shape (batch_size, seq_len, vocab_size)\n",
        "        target: a LongTensor of shape (batch_size, seq_len)\n",
        "\n",
        "    Returns:\n",
        "        A float corresponding to the perplexity\n",
        "    \"\"\"\n",
        "    logits = logits.reshape(-1, logits.shape[-1])\n",
        "    target = target.reshape(-1)\n",
        "    loss = nn.functional.cross_entropy(logits, target, reduction='mean', ignore_index=ignore_token_id)\n",
        "    return torch.exp(loss)\n",
        "\n",
        "\n",
        "n_examples = 1000\n",
        "\n",
        "train_input_ids, train_target_ids = next(iter(DataLoader(training_dataset, batch_size=n_examples)))\n",
        "train_input_ids = train_input_ids.to(device)\n",
        "train_target_ids = train_target_ids.to(device)\n",
        "\n",
        "logits = model(train_input_ids)\n",
        "\n",
        "my_perplexity = perplexity(logits=logits, target=train_target_ids, ignore_token_id=tokenizer.pad_token_id)\n",
        "\n",
        "print(f'my perplexity:              {int(my_perplexity)}')\n",
        "print(f'correct initial perplexity: {tokenizer.vocab_size}')\n",
        "\n",
        "assert math.isclose(my_perplexity, tokenizer.vocab_size, abs_tol=7000)\n",
        "print('Passou o no assert da perplexidade')"
      ]
    },
    {
      "cell_type": "markdown",
      "metadata": {
        "id": "KiJtrsqPnE_l"
      },
      "source": [
        "## Laço de Treinamento e Validação"
      ]
    },
    {
      "cell_type": "code",
      "execution_count": null,
      "metadata": {
        "colab": {
          "base_uri": "https://localhost:8080/"
        },
        "id": "zIMSaY-UUGUE",
        "outputId": "39f948b0-8998-4c04-d94d-855d3d7e02fe"
      },
      "outputs": [
        {
          "output_type": "stream",
          "name": "stdout",
          "text": [
            "0 steps; 0 examples so far; train ppl: 35009.01, valid ppl: 30210.37\n",
            "10000 steps; 5120000 examples so far; train ppl: 399.04, valid ppl: 289.10\n",
            "20000 steps; 10240000 examples so far; train ppl: 252.42, valid ppl: 247.12\n",
            "30000 steps; 15360000 examples so far; train ppl: 225.62, valid ppl: 228.75\n",
            "40000 steps; 20480000 examples so far; train ppl: 211.64, valid ppl: 216.81\n",
            "50000 steps; 25600000 examples so far; train ppl: 202.54, valid ppl: 208.66\n",
            "60000 steps; 30720000 examples so far; train ppl: 195.10, valid ppl: 203.36\n",
            "70000 steps; 35840000 examples so far; train ppl: 189.97, valid ppl: 198.47\n",
            "80000 steps; 40960000 examples so far; train ppl: 186.36, valid ppl: 194.96\n",
            "90000 steps; 46080000 examples so far; train ppl: 183.23, valid ppl: 192.18\n",
            "100000 steps; 51200000 examples so far; train ppl: 180.72, valid ppl: 189.18\n",
            "110000 steps; 56320000 examples so far; train ppl: 178.21, valid ppl: 186.51\n",
            "120000 steps; 61440000 examples so far; train ppl: 174.87, valid ppl: 184.99\n",
            "130000 steps; 66560000 examples so far; train ppl: 173.66, valid ppl: 183.30\n",
            "140000 steps; 71680000 examples so far; train ppl: 172.36, valid ppl: 181.40\n",
            "150000 steps; 76800000 examples so far; train ppl: 170.94, valid ppl: 179.92\n"
          ]
        }
      ],
      "source": [
        "max_examples = 150_000_000\n",
        "eval_every_steps = 10000\n",
        "lr = 3e-4\n",
        "compare=float('inf')\n",
        "\n",
        "model = LanguageModel(\n",
        "    vocab_size=tokenizer.vocab_size,\n",
        "    max_seq_length=max_seq_length,\n",
        "    dim=256,\n",
        "    n_layers=2,\n",
        "    pad_token_id=tokenizer.pad_token_id,\n",
        ").to(device)\n",
        "\n",
        "train_loader = DataLoader(training_dataset, batch_size=512, shuffle=True, drop_last=True)\n",
        "validation_loader = DataLoader(valid_dataset, batch_size=512)\n",
        "\n",
        "optimizer = torch.optim.Adam(model.parameters(), lr=lr)\n",
        "\n",
        "\n",
        "def train_step(input_ids, target_ids):\n",
        "    model.train()\n",
        "    model.zero_grad()\n",
        "    logits = model(input_ids)\n",
        "    logits = logits.reshape(-1, logits.shape[-1])\n",
        "    target_ids = target_ids.reshape(-1)\n",
        "    loss = nn.functional.cross_entropy(logits, target_ids, ignore_index=model.pad_token_id)\n",
        "    loss.backward()\n",
        "    optimizer.step()\n",
        "\n",
        "    return loss.item()\n",
        "\n",
        "\n",
        "def validation_step(input_ids, target_ids):\n",
        "    model.eval()\n",
        "    logits = model(input_ids)\n",
        "    logits = logits.reshape(-1, logits.shape[-1])\n",
        "    target_ids = target_ids.reshape(-1)\n",
        "    loss = nn.functional.cross_entropy(logits, target_ids, ignore_index=model.pad_token_id)\n",
        "    return loss.item()\n",
        "\n",
        "\n",
        "train_losses = []\n",
        "n_examples = 0\n",
        "step = 0\n",
        "while n_examples < max_examples:\n",
        "    for train_input_ids, train_target_ids in train_loader:\n",
        "        loss = train_step(train_input_ids.to(device), train_target_ids.to(device)) \n",
        "        train_losses.append(loss)\n",
        "        \n",
        "        if step % eval_every_steps == 0:\n",
        "            train_ppl = np.exp(np.average(train_losses))\n",
        "\n",
        "            with torch.no_grad():\n",
        "                valid_ppl = np.exp(np.average([\n",
        "                    validation_step(val_input_ids.to(device), val_target_ids.to(device))\n",
        "                    for val_input_ids, val_target_ids in validation_loader]))\n",
        "\n",
        "            if valid_ppl<compare:\n",
        "                compare=valid_ppl\n",
        "                torch.save(model, \"/content/gdrive/MyDrive/Colab Notebooks/modelos_Aula09/\"+\"model_v7.pt\")\n",
        "                with open(\"/content/gdrive/MyDrive/Colab Notebooks/modelos_Aula09/\"+\"valid_ppl_model_v7.txt\", 'w') as f:\n",
        "                    f.write(\"%s\\n\" % valid_ppl)\n",
        "                f.close()\n",
        "                \n",
        "            print(f'{step} steps; {n_examples} examples so far; train ppl: {train_ppl:.2f}, valid ppl: {valid_ppl:.2f}')\n",
        "            train_losses = []\n",
        "\n",
        "        n_examples += len(train_input_ids)  # Increment of batch size\n",
        "        step += 1\n",
        "        if n_examples >= max_examples:\n",
        "            break"
      ]
    },
    {
      "cell_type": "code",
      "source": [
        "with open(\"/content/gdrive/MyDrive/Colab Notebooks/modelos_Aula09/\"+\"valid_ppl_model_v7.txt\") as f:\n",
        "    txt = list(f)\n",
        "    compare = float(txt[-1])\n",
        "    f.close()\n",
        "\n",
        "model = torch.load(\"/content/gdrive/MyDrive/Colab Notebooks/modelos_Aula09/\"+\"model_v7.pt\")\n",
        "model.to(device)"
      ],
      "metadata": {
        "id": "M1UDy0v9rWfV",
        "colab": {
          "base_uri": "https://localhost:8080/"
        },
        "outputId": "ca191eb3-913a-443c-b7d7-8b720fa59c59"
      },
      "execution_count": null,
      "outputs": [
        {
          "output_type": "execute_result",
          "data": {
            "text/plain": [
              "LanguageModel(\n",
              "  (embeddings_C): Embedding(29794, 256, padding_idx=0)\n",
              "  (embeddings_P): Embedding(9, 256)\n",
              "  (layers_attention): ModuleList(\n",
              "    (0): MultiHeadAttention(\n",
              "      (W_q): Linear(in_features=256, out_features=256, bias=False)\n",
              "      (W_k): Linear(in_features=256, out_features=256, bias=False)\n",
              "      (W_v): Linear(in_features=256, out_features=256, bias=False)\n",
              "      (W_o): Linear(in_features=256, out_features=256, bias=False)\n",
              "    )\n",
              "    (1): MultiHeadAttention(\n",
              "      (W_q): Linear(in_features=256, out_features=256, bias=False)\n",
              "      (W_k): Linear(in_features=256, out_features=256, bias=False)\n",
              "      (W_v): Linear(in_features=256, out_features=256, bias=False)\n",
              "      (W_o): Linear(in_features=256, out_features=256, bias=False)\n",
              "    )\n",
              "  )\n",
              "  (feed_forward): Sequential(\n",
              "    (dense1): Linear(in_features=256, out_features=2048, bias=True)\n",
              "    (relu1): ReLU()\n",
              "    (dense2): Linear(in_features=2048, out_features=256, bias=True)\n",
              "    (drop1): Dropout(p=0.1, inplace=False)\n",
              "  )\n",
              "  (dropout): Dropout(p=0.1, inplace=False)\n",
              "  (dense): Linear(in_features=256, out_features=29794, bias=False)\n",
              ")"
            ]
          },
          "metadata": {},
          "execution_count": 22
        }
      ]
    },
    {
      "cell_type": "markdown",
      "metadata": {
        "id": "VgdNymJdNPXP"
      },
      "source": [
        "## Avaliação final no dataset de teste\n",
        "\n",
        "\n",
        "Bonus: o modelo com menor perplexidade no dataset de testes ganhará 0.5 ponto na nota final."
      ]
    },
    {
      "cell_type": "code",
      "execution_count": null,
      "metadata": {
        "colab": {
          "base_uri": "https://localhost:8080/"
        },
        "id": "nxN5YytzZ7Tn",
        "outputId": "83160e64-95e4-400d-df25-68f53f922430"
      },
      "outputs": [
        {
          "output_type": "stream",
          "name": "stdout",
          "text": [
            "test perplexity: 148.8549941960566\n"
          ]
        }
      ],
      "source": [
        "test_loader = DataLoader(test_dataset, batch_size=64)\n",
        "\n",
        "def validation_step(input_ids, target_ids):\n",
        "    model.eval()\n",
        "    logits = model(input_ids)\n",
        "    logits = logits.reshape(-1, logits.shape[-1])\n",
        "    target_ids = target_ids.reshape(-1)\n",
        "    loss = nn.functional.cross_entropy(logits, target_ids, ignore_index=model.pad_token_id)\n",
        "    return loss.item()\n",
        "    \n",
        "with torch.no_grad():\n",
        "    test_ppl = np.exp(np.average([\n",
        "        validation_step(test_input_ids.to(device), test_target_ids.to(device))\n",
        "        for test_input_ids, test_target_ids in test_loader\n",
        "    ]))\n",
        "\n",
        "print(f'test perplexity: {test_ppl}')"
      ]
    },
    {
      "cell_type": "markdown",
      "metadata": {
        "id": "BHvEs8mPszy_"
      },
      "source": [
        "## Teste seu modelo com uma sentença\n",
        "\n",
        "Escolha uma sentença gerada pelo modelo que ache interessante."
      ]
    },
    {
      "cell_type": "code",
      "execution_count": null,
      "metadata": {
        "id": "7QQ-1x0ADpf9"
      },
      "outputs": [],
      "source": [
        "def tokenize(text: str, tokenizer):\n",
        "\n",
        "    return tokenizer.encode_plus(text, return_tensors=None, add_special_tokens= False).input_ids"
      ]
    },
    {
      "cell_type": "code",
      "execution_count": null,
      "metadata": {
        "colab": {
          "base_uri": "https://localhost:8080/"
        },
        "id": "-CFElf4tsytW",
        "outputId": "163bfe6d-73fb-4dec-c39c-f233110f1d8a"
      },
      "outputs": [
        {
          "output_type": "stream",
          "name": "stdout",
          "text": [
            "Eu gosto de comer pizza pois me faz com\n",
            "Eu gosto de comer pizza pois me faz com que\n",
            "Eu gosto de comer pizza pois me faz com que a\n",
            "Eu gosto de comer pizza pois me faz com que a gente\n",
            "Eu gosto de comer pizza pois me faz com que a gente não\n",
            "Eu gosto de comer pizza pois me faz com que a gente não tem\n",
            "Eu gosto de comer pizza pois me faz com que a gente não tem que\n",
            "Eu gosto de comer pizza pois me faz com que a gente não tem que se\n",
            "Eu gosto de comer pizza pois me faz com que a gente não tem que se possa\n",
            "Eu gosto de comer pizza pois me faz com que a gente não tem que se possa fazer\n",
            "Eu gosto de comer pizza pois me faz com que a gente não tem que se possa fazer.\n",
            "Eu gosto de comer pizza pois me faz com que a gente não tem que se possa fazer. O\n",
            "Eu gosto de comer pizza pois me faz com que a gente não tem que se possa fazer. O que\n",
            "Eu gosto de comer pizza pois me faz com que a gente não tem que se possa fazer. O que é\n",
            "Eu gosto de comer pizza pois me faz com que a gente não tem que se possa fazer. O que é um\n",
            "Eu gosto de comer pizza pois me faz com que a gente não tem que se possa fazer. O que é um que\n",
            "Eu gosto de comer pizza pois me faz com que a gente não tem que se possa fazer. O que é um que,\n",
            "Eu gosto de comer pizza pois me faz com que a gente não tem que se possa fazer. O que é um que, para\n",
            "Eu gosto de comer pizza pois me faz com que a gente não tem que se possa fazer. O que é um que, para que\n",
            "Eu gosto de comer pizza pois me faz com que a gente não tem que se possa fazer. O que é um que, para que o\n"
          ]
        }
      ],
      "source": [
        "prompt = 'Eu gosto de comer pizza pois me faz'\n",
        "max_output_tokens = 20\n",
        "model.eval()\n",
        "\n",
        "for _ in range(max_output_tokens):\n",
        "    input_ids = tokenize(text=prompt, tokenizer=tokenizer)\n",
        "    input_ids_truncated = input_ids[-max_seq_length:]  # Usamos apenas os últimos <max_seq_length> tokens como entrada para o modelo.\n",
        "    logits = model(torch.LongTensor([input_ids_truncated]).to(device))\n",
        "    logits = logits[:, -1, :]  # Usamos apenas o ultimo token da sequencia\n",
        "    # Ao usarmos o argmax, a saída do modelo em cada passo é o token de maior probabilidade.\n",
        "    # Isso se chama decodificação gulosa (greedy decoding).\n",
        "    predicted_id = torch.argmax(logits).item()\n",
        "    input_ids += [predicted_id]  # Concatenamos a entrada com o token escolhido nesse passo.\n",
        "    prompt = tokenizer.decode(input_ids)\n",
        "    print(prompt)"
      ]
    },
    {
      "cell_type": "code",
      "execution_count": null,
      "metadata": {
        "colab": {
          "base_uri": "https://localhost:8080/"
        },
        "outputId": "588bd77b-acdb-415d-e90b-55fcefbf88cd",
        "id": "2cfMjZS--fDg"
      },
      "outputs": [
        {
          "output_type": "stream",
          "name": "stdout",
          "text": [
            "Temos que pensar no futuro e guardar o que aprendemos na sua\n",
            "Temos que pensar no futuro e guardar o que aprendemos na sua vida\n",
            "Temos que pensar no futuro e guardar o que aprendemos na sua vida.\n",
            "Temos que pensar no futuro e guardar o que aprendemos na sua vida. O\n",
            "Temos que pensar no futuro e guardar o que aprendemos na sua vida. O que\n",
            "Temos que pensar no futuro e guardar o que aprendemos na sua vida. O que é\n",
            "Temos que pensar no futuro e guardar o que aprendemos na sua vida. O que é o\n",
            "Temos que pensar no futuro e guardar o que aprendemos na sua vida. O que é o que\n",
            "Temos que pensar no futuro e guardar o que aprendemos na sua vida. O que é o que mais\n",
            "Temos que pensar no futuro e guardar o que aprendemos na sua vida. O que é o que mais se\n",
            "Temos que pensar no futuro e guardar o que aprendemos na sua vida. O que é o que mais se pode\n",
            "Temos que pensar no futuro e guardar o que aprendemos na sua vida. O que é o que mais se pode se\n",
            "Temos que pensar no futuro e guardar o que aprendemos na sua vida. O que é o que mais se pode se fazer\n",
            "Temos que pensar no futuro e guardar o que aprendemos na sua vida. O que é o que mais se pode se fazer.\n",
            "Temos que pensar no futuro e guardar o que aprendemos na sua vida. O que é o que mais se pode se fazer..\n",
            "Temos que pensar no futuro e guardar o que aprendemos na sua vida. O que é o que mais se pode se fazer...\n",
            "Temos que pensar no futuro e guardar o que aprendemos na sua vida. O que é o que mais se pode se fazer....\n",
            "Temos que pensar no futuro e guardar o que aprendemos na sua vida. O que é o que mais se pode se fazer.....\n",
            "Temos que pensar no futuro e guardar o que aprendemos na sua vida. O que é o que mais se pode se fazer......\n",
            "Temos que pensar no futuro e guardar o que aprendemos na sua vida. O que é o que mais se pode se fazer.......\n"
          ]
        }
      ],
      "source": [
        "prompt = \"Temos que pensar no futuro e guardar o que aprendemos na\"\n",
        "max_output_tokens = 20\n",
        "model.eval()\n",
        "\n",
        "for _ in range(max_output_tokens):\n",
        "    input_ids = tokenize(text=prompt, tokenizer=tokenizer)\n",
        "    input_ids_truncated = input_ids[-max_seq_length:]  # Usamos apenas os últimos <max_seq_length> tokens como entrada para o modelo.\n",
        "    logits = model(torch.LongTensor([input_ids_truncated]).to(device))\n",
        "    logits = logits[:, -1, :]  # Usamos apenas o ultimo token da sequencia\n",
        "    # Ao usarmos o argmax, a saída do modelo em cada passo é o token de maior probabilidade.\n",
        "    # Isso se chama decodificação gulosa (greedy decoding).\n",
        "    predicted_id = torch.argmax(logits).item()\n",
        "    input_ids += [predicted_id]  # Concatenamos a entrada com o token escolhido nesse passo.\n",
        "    prompt = tokenizer.decode(input_ids)\n",
        "    print(prompt)"
      ]
    },
    {
      "cell_type": "markdown",
      "metadata": {
        "id": "nGdxlXhGq7Ua"
      },
      "source": [
        "## Bonus 1\n",
        "Quem conseguir a menor perplexidade no dataset de testes ganha 0.5 ponto na média final.\n",
        "\n",
        "## Bonus 2\n",
        "Qual é a complexidade (em notação O-grande) da função de geração de texto acima?\n",
        "\n",
        "Quem responder corretamente a pergunta acima e deixar a função com menor complexidade ganha 0.5 ponto na média final."
      ]
    }
  ],
  "metadata": {
    "colab": {
      "collapsed_sections": [
        "VDMe0UAfPvtx",
        "1kUBvcY0CZvk"
      ],
      "name": "Aula 9 - Exercício - Larissa Santesso",
      "provenance": [],
      "include_colab_link": true
    },
    "kernelspec": {
      "display_name": "Python 3",
      "name": "python3"
    },
    "widgets": {
      "application/vnd.jupyter.widget-state+json": {
        "7d23adb093294b75b9d5896a9932073d": {
          "model_module": "@jupyter-widgets/controls",
          "model_name": "HBoxModel",
          "model_module_version": "1.5.0",
          "state": {
            "_dom_classes": [],
            "_model_module": "@jupyter-widgets/controls",
            "_model_module_version": "1.5.0",
            "_model_name": "HBoxModel",
            "_view_count": null,
            "_view_module": "@jupyter-widgets/controls",
            "_view_module_version": "1.5.0",
            "_view_name": "HBoxView",
            "box_style": "",
            "children": [
              "IPY_MODEL_98cc1d4e59dc4ad4b0affbccff6fee8b",
              "IPY_MODEL_52ac32d7d55749ac8c44c3d10c7abbaa",
              "IPY_MODEL_c10efb534b0b47caab37e236795ecfcc"
            ],
            "layout": "IPY_MODEL_4444255756fa4b5ea07222f832bcfe0f"
          }
        },
        "98cc1d4e59dc4ad4b0affbccff6fee8b": {
          "model_module": "@jupyter-widgets/controls",
          "model_name": "HTMLModel",
          "model_module_version": "1.5.0",
          "state": {
            "_dom_classes": [],
            "_model_module": "@jupyter-widgets/controls",
            "_model_module_version": "1.5.0",
            "_model_name": "HTMLModel",
            "_view_count": null,
            "_view_module": "@jupyter-widgets/controls",
            "_view_module_version": "1.5.0",
            "_view_name": "HTMLView",
            "description": "",
            "description_tooltip": null,
            "layout": "IPY_MODEL_b82eb120f6f04eb49b1db2ac593d1075",
            "placeholder": "​",
            "style": "IPY_MODEL_f779461a3321424290b1e4490877187e",
            "value": "Downloading: 100%"
          }
        },
        "52ac32d7d55749ac8c44c3d10c7abbaa": {
          "model_module": "@jupyter-widgets/controls",
          "model_name": "FloatProgressModel",
          "model_module_version": "1.5.0",
          "state": {
            "_dom_classes": [],
            "_model_module": "@jupyter-widgets/controls",
            "_model_module_version": "1.5.0",
            "_model_name": "FloatProgressModel",
            "_view_count": null,
            "_view_module": "@jupyter-widgets/controls",
            "_view_module_version": "1.5.0",
            "_view_name": "ProgressView",
            "bar_style": "success",
            "description": "",
            "description_tooltip": null,
            "layout": "IPY_MODEL_d979295daaf34824a76a62c72ceac99b",
            "max": 209528,
            "min": 0,
            "orientation": "horizontal",
            "style": "IPY_MODEL_481d62a657d545a0b7cd97f6a27c7ca4",
            "value": 209528
          }
        },
        "c10efb534b0b47caab37e236795ecfcc": {
          "model_module": "@jupyter-widgets/controls",
          "model_name": "HTMLModel",
          "model_module_version": "1.5.0",
          "state": {
            "_dom_classes": [],
            "_model_module": "@jupyter-widgets/controls",
            "_model_module_version": "1.5.0",
            "_model_name": "HTMLModel",
            "_view_count": null,
            "_view_module": "@jupyter-widgets/controls",
            "_view_module_version": "1.5.0",
            "_view_name": "HTMLView",
            "description": "",
            "description_tooltip": null,
            "layout": "IPY_MODEL_79c98b8941eb4e7a9252f85027a6e043",
            "placeholder": "​",
            "style": "IPY_MODEL_168655977827439f901555a3882e2411",
            "value": " 205k/205k [00:00&lt;00:00, 2.15MB/s]"
          }
        },
        "4444255756fa4b5ea07222f832bcfe0f": {
          "model_module": "@jupyter-widgets/base",
          "model_name": "LayoutModel",
          "model_module_version": "1.2.0",
          "state": {
            "_model_module": "@jupyter-widgets/base",
            "_model_module_version": "1.2.0",
            "_model_name": "LayoutModel",
            "_view_count": null,
            "_view_module": "@jupyter-widgets/base",
            "_view_module_version": "1.2.0",
            "_view_name": "LayoutView",
            "align_content": null,
            "align_items": null,
            "align_self": null,
            "border": null,
            "bottom": null,
            "display": null,
            "flex": null,
            "flex_flow": null,
            "grid_area": null,
            "grid_auto_columns": null,
            "grid_auto_flow": null,
            "grid_auto_rows": null,
            "grid_column": null,
            "grid_gap": null,
            "grid_row": null,
            "grid_template_areas": null,
            "grid_template_columns": null,
            "grid_template_rows": null,
            "height": null,
            "justify_content": null,
            "justify_items": null,
            "left": null,
            "margin": null,
            "max_height": null,
            "max_width": null,
            "min_height": null,
            "min_width": null,
            "object_fit": null,
            "object_position": null,
            "order": null,
            "overflow": null,
            "overflow_x": null,
            "overflow_y": null,
            "padding": null,
            "right": null,
            "top": null,
            "visibility": null,
            "width": null
          }
        },
        "b82eb120f6f04eb49b1db2ac593d1075": {
          "model_module": "@jupyter-widgets/base",
          "model_name": "LayoutModel",
          "model_module_version": "1.2.0",
          "state": {
            "_model_module": "@jupyter-widgets/base",
            "_model_module_version": "1.2.0",
            "_model_name": "LayoutModel",
            "_view_count": null,
            "_view_module": "@jupyter-widgets/base",
            "_view_module_version": "1.2.0",
            "_view_name": "LayoutView",
            "align_content": null,
            "align_items": null,
            "align_self": null,
            "border": null,
            "bottom": null,
            "display": null,
            "flex": null,
            "flex_flow": null,
            "grid_area": null,
            "grid_auto_columns": null,
            "grid_auto_flow": null,
            "grid_auto_rows": null,
            "grid_column": null,
            "grid_gap": null,
            "grid_row": null,
            "grid_template_areas": null,
            "grid_template_columns": null,
            "grid_template_rows": null,
            "height": null,
            "justify_content": null,
            "justify_items": null,
            "left": null,
            "margin": null,
            "max_height": null,
            "max_width": null,
            "min_height": null,
            "min_width": null,
            "object_fit": null,
            "object_position": null,
            "order": null,
            "overflow": null,
            "overflow_x": null,
            "overflow_y": null,
            "padding": null,
            "right": null,
            "top": null,
            "visibility": null,
            "width": null
          }
        },
        "f779461a3321424290b1e4490877187e": {
          "model_module": "@jupyter-widgets/controls",
          "model_name": "DescriptionStyleModel",
          "model_module_version": "1.5.0",
          "state": {
            "_model_module": "@jupyter-widgets/controls",
            "_model_module_version": "1.5.0",
            "_model_name": "DescriptionStyleModel",
            "_view_count": null,
            "_view_module": "@jupyter-widgets/base",
            "_view_module_version": "1.2.0",
            "_view_name": "StyleView",
            "description_width": ""
          }
        },
        "d979295daaf34824a76a62c72ceac99b": {
          "model_module": "@jupyter-widgets/base",
          "model_name": "LayoutModel",
          "model_module_version": "1.2.0",
          "state": {
            "_model_module": "@jupyter-widgets/base",
            "_model_module_version": "1.2.0",
            "_model_name": "LayoutModel",
            "_view_count": null,
            "_view_module": "@jupyter-widgets/base",
            "_view_module_version": "1.2.0",
            "_view_name": "LayoutView",
            "align_content": null,
            "align_items": null,
            "align_self": null,
            "border": null,
            "bottom": null,
            "display": null,
            "flex": null,
            "flex_flow": null,
            "grid_area": null,
            "grid_auto_columns": null,
            "grid_auto_flow": null,
            "grid_auto_rows": null,
            "grid_column": null,
            "grid_gap": null,
            "grid_row": null,
            "grid_template_areas": null,
            "grid_template_columns": null,
            "grid_template_rows": null,
            "height": null,
            "justify_content": null,
            "justify_items": null,
            "left": null,
            "margin": null,
            "max_height": null,
            "max_width": null,
            "min_height": null,
            "min_width": null,
            "object_fit": null,
            "object_position": null,
            "order": null,
            "overflow": null,
            "overflow_x": null,
            "overflow_y": null,
            "padding": null,
            "right": null,
            "top": null,
            "visibility": null,
            "width": null
          }
        },
        "481d62a657d545a0b7cd97f6a27c7ca4": {
          "model_module": "@jupyter-widgets/controls",
          "model_name": "ProgressStyleModel",
          "model_module_version": "1.5.0",
          "state": {
            "_model_module": "@jupyter-widgets/controls",
            "_model_module_version": "1.5.0",
            "_model_name": "ProgressStyleModel",
            "_view_count": null,
            "_view_module": "@jupyter-widgets/base",
            "_view_module_version": "1.2.0",
            "_view_name": "StyleView",
            "bar_color": null,
            "description_width": ""
          }
        },
        "79c98b8941eb4e7a9252f85027a6e043": {
          "model_module": "@jupyter-widgets/base",
          "model_name": "LayoutModel",
          "model_module_version": "1.2.0",
          "state": {
            "_model_module": "@jupyter-widgets/base",
            "_model_module_version": "1.2.0",
            "_model_name": "LayoutModel",
            "_view_count": null,
            "_view_module": "@jupyter-widgets/base",
            "_view_module_version": "1.2.0",
            "_view_name": "LayoutView",
            "align_content": null,
            "align_items": null,
            "align_self": null,
            "border": null,
            "bottom": null,
            "display": null,
            "flex": null,
            "flex_flow": null,
            "grid_area": null,
            "grid_auto_columns": null,
            "grid_auto_flow": null,
            "grid_auto_rows": null,
            "grid_column": null,
            "grid_gap": null,
            "grid_row": null,
            "grid_template_areas": null,
            "grid_template_columns": null,
            "grid_template_rows": null,
            "height": null,
            "justify_content": null,
            "justify_items": null,
            "left": null,
            "margin": null,
            "max_height": null,
            "max_width": null,
            "min_height": null,
            "min_width": null,
            "object_fit": null,
            "object_position": null,
            "order": null,
            "overflow": null,
            "overflow_x": null,
            "overflow_y": null,
            "padding": null,
            "right": null,
            "top": null,
            "visibility": null,
            "width": null
          }
        },
        "168655977827439f901555a3882e2411": {
          "model_module": "@jupyter-widgets/controls",
          "model_name": "DescriptionStyleModel",
          "model_module_version": "1.5.0",
          "state": {
            "_model_module": "@jupyter-widgets/controls",
            "_model_module_version": "1.5.0",
            "_model_name": "DescriptionStyleModel",
            "_view_count": null,
            "_view_module": "@jupyter-widgets/base",
            "_view_module_version": "1.2.0",
            "_view_name": "StyleView",
            "description_width": ""
          }
        },
        "f553a1ab608042ffade61b6429fa5aa7": {
          "model_module": "@jupyter-widgets/controls",
          "model_name": "HBoxModel",
          "model_module_version": "1.5.0",
          "state": {
            "_dom_classes": [],
            "_model_module": "@jupyter-widgets/controls",
            "_model_module_version": "1.5.0",
            "_model_name": "HBoxModel",
            "_view_count": null,
            "_view_module": "@jupyter-widgets/controls",
            "_view_module_version": "1.5.0",
            "_view_name": "HBoxView",
            "box_style": "",
            "children": [
              "IPY_MODEL_86bb17c39b4c46d3bb28cfe08d185543",
              "IPY_MODEL_3249fce9aa184ade90673341c838d5b8",
              "IPY_MODEL_4a6d7ee1e4dc44dfaaa522a6c3c5a705"
            ],
            "layout": "IPY_MODEL_35e395bbb9094fb484f91d742474d72c"
          }
        },
        "86bb17c39b4c46d3bb28cfe08d185543": {
          "model_module": "@jupyter-widgets/controls",
          "model_name": "HTMLModel",
          "model_module_version": "1.5.0",
          "state": {
            "_dom_classes": [],
            "_model_module": "@jupyter-widgets/controls",
            "_model_module_version": "1.5.0",
            "_model_name": "HTMLModel",
            "_view_count": null,
            "_view_module": "@jupyter-widgets/controls",
            "_view_module_version": "1.5.0",
            "_view_name": "HTMLView",
            "description": "",
            "description_tooltip": null,
            "layout": "IPY_MODEL_e2491ca2b52e41abbe7d8c7b347d5ccd",
            "placeholder": "​",
            "style": "IPY_MODEL_128296599b844824971fe7e04760b760",
            "value": "Downloading: 100%"
          }
        },
        "3249fce9aa184ade90673341c838d5b8": {
          "model_module": "@jupyter-widgets/controls",
          "model_name": "FloatProgressModel",
          "model_module_version": "1.5.0",
          "state": {
            "_dom_classes": [],
            "_model_module": "@jupyter-widgets/controls",
            "_model_module_version": "1.5.0",
            "_model_name": "FloatProgressModel",
            "_view_count": null,
            "_view_module": "@jupyter-widgets/controls",
            "_view_module_version": "1.5.0",
            "_view_name": "ProgressView",
            "bar_style": "success",
            "description": "",
            "description_tooltip": null,
            "layout": "IPY_MODEL_9e368e97c1774913b7a76a0714be93ab",
            "max": 2,
            "min": 0,
            "orientation": "horizontal",
            "style": "IPY_MODEL_79dce15876d64581a98947b4aef91b35",
            "value": 2
          }
        },
        "4a6d7ee1e4dc44dfaaa522a6c3c5a705": {
          "model_module": "@jupyter-widgets/controls",
          "model_name": "HTMLModel",
          "model_module_version": "1.5.0",
          "state": {
            "_dom_classes": [],
            "_model_module": "@jupyter-widgets/controls",
            "_model_module_version": "1.5.0",
            "_model_name": "HTMLModel",
            "_view_count": null,
            "_view_module": "@jupyter-widgets/controls",
            "_view_module_version": "1.5.0",
            "_view_name": "HTMLView",
            "description": "",
            "description_tooltip": null,
            "layout": "IPY_MODEL_fda6bcf37da6477aa8f65b026d32f13a",
            "placeholder": "​",
            "style": "IPY_MODEL_0dbed9c633d64073977c8cc8ccab247b",
            "value": " 2.00/2.00 [00:00&lt;00:00, 20.3B/s]"
          }
        },
        "35e395bbb9094fb484f91d742474d72c": {
          "model_module": "@jupyter-widgets/base",
          "model_name": "LayoutModel",
          "model_module_version": "1.2.0",
          "state": {
            "_model_module": "@jupyter-widgets/base",
            "_model_module_version": "1.2.0",
            "_model_name": "LayoutModel",
            "_view_count": null,
            "_view_module": "@jupyter-widgets/base",
            "_view_module_version": "1.2.0",
            "_view_name": "LayoutView",
            "align_content": null,
            "align_items": null,
            "align_self": null,
            "border": null,
            "bottom": null,
            "display": null,
            "flex": null,
            "flex_flow": null,
            "grid_area": null,
            "grid_auto_columns": null,
            "grid_auto_flow": null,
            "grid_auto_rows": null,
            "grid_column": null,
            "grid_gap": null,
            "grid_row": null,
            "grid_template_areas": null,
            "grid_template_columns": null,
            "grid_template_rows": null,
            "height": null,
            "justify_content": null,
            "justify_items": null,
            "left": null,
            "margin": null,
            "max_height": null,
            "max_width": null,
            "min_height": null,
            "min_width": null,
            "object_fit": null,
            "object_position": null,
            "order": null,
            "overflow": null,
            "overflow_x": null,
            "overflow_y": null,
            "padding": null,
            "right": null,
            "top": null,
            "visibility": null,
            "width": null
          }
        },
        "e2491ca2b52e41abbe7d8c7b347d5ccd": {
          "model_module": "@jupyter-widgets/base",
          "model_name": "LayoutModel",
          "model_module_version": "1.2.0",
          "state": {
            "_model_module": "@jupyter-widgets/base",
            "_model_module_version": "1.2.0",
            "_model_name": "LayoutModel",
            "_view_count": null,
            "_view_module": "@jupyter-widgets/base",
            "_view_module_version": "1.2.0",
            "_view_name": "LayoutView",
            "align_content": null,
            "align_items": null,
            "align_self": null,
            "border": null,
            "bottom": null,
            "display": null,
            "flex": null,
            "flex_flow": null,
            "grid_area": null,
            "grid_auto_columns": null,
            "grid_auto_flow": null,
            "grid_auto_rows": null,
            "grid_column": null,
            "grid_gap": null,
            "grid_row": null,
            "grid_template_areas": null,
            "grid_template_columns": null,
            "grid_template_rows": null,
            "height": null,
            "justify_content": null,
            "justify_items": null,
            "left": null,
            "margin": null,
            "max_height": null,
            "max_width": null,
            "min_height": null,
            "min_width": null,
            "object_fit": null,
            "object_position": null,
            "order": null,
            "overflow": null,
            "overflow_x": null,
            "overflow_y": null,
            "padding": null,
            "right": null,
            "top": null,
            "visibility": null,
            "width": null
          }
        },
        "128296599b844824971fe7e04760b760": {
          "model_module": "@jupyter-widgets/controls",
          "model_name": "DescriptionStyleModel",
          "model_module_version": "1.5.0",
          "state": {
            "_model_module": "@jupyter-widgets/controls",
            "_model_module_version": "1.5.0",
            "_model_name": "DescriptionStyleModel",
            "_view_count": null,
            "_view_module": "@jupyter-widgets/base",
            "_view_module_version": "1.2.0",
            "_view_name": "StyleView",
            "description_width": ""
          }
        },
        "9e368e97c1774913b7a76a0714be93ab": {
          "model_module": "@jupyter-widgets/base",
          "model_name": "LayoutModel",
          "model_module_version": "1.2.0",
          "state": {
            "_model_module": "@jupyter-widgets/base",
            "_model_module_version": "1.2.0",
            "_model_name": "LayoutModel",
            "_view_count": null,
            "_view_module": "@jupyter-widgets/base",
            "_view_module_version": "1.2.0",
            "_view_name": "LayoutView",
            "align_content": null,
            "align_items": null,
            "align_self": null,
            "border": null,
            "bottom": null,
            "display": null,
            "flex": null,
            "flex_flow": null,
            "grid_area": null,
            "grid_auto_columns": null,
            "grid_auto_flow": null,
            "grid_auto_rows": null,
            "grid_column": null,
            "grid_gap": null,
            "grid_row": null,
            "grid_template_areas": null,
            "grid_template_columns": null,
            "grid_template_rows": null,
            "height": null,
            "justify_content": null,
            "justify_items": null,
            "left": null,
            "margin": null,
            "max_height": null,
            "max_width": null,
            "min_height": null,
            "min_width": null,
            "object_fit": null,
            "object_position": null,
            "order": null,
            "overflow": null,
            "overflow_x": null,
            "overflow_y": null,
            "padding": null,
            "right": null,
            "top": null,
            "visibility": null,
            "width": null
          }
        },
        "79dce15876d64581a98947b4aef91b35": {
          "model_module": "@jupyter-widgets/controls",
          "model_name": "ProgressStyleModel",
          "model_module_version": "1.5.0",
          "state": {
            "_model_module": "@jupyter-widgets/controls",
            "_model_module_version": "1.5.0",
            "_model_name": "ProgressStyleModel",
            "_view_count": null,
            "_view_module": "@jupyter-widgets/base",
            "_view_module_version": "1.2.0",
            "_view_name": "StyleView",
            "bar_color": null,
            "description_width": ""
          }
        },
        "fda6bcf37da6477aa8f65b026d32f13a": {
          "model_module": "@jupyter-widgets/base",
          "model_name": "LayoutModel",
          "model_module_version": "1.2.0",
          "state": {
            "_model_module": "@jupyter-widgets/base",
            "_model_module_version": "1.2.0",
            "_model_name": "LayoutModel",
            "_view_count": null,
            "_view_module": "@jupyter-widgets/base",
            "_view_module_version": "1.2.0",
            "_view_name": "LayoutView",
            "align_content": null,
            "align_items": null,
            "align_self": null,
            "border": null,
            "bottom": null,
            "display": null,
            "flex": null,
            "flex_flow": null,
            "grid_area": null,
            "grid_auto_columns": null,
            "grid_auto_flow": null,
            "grid_auto_rows": null,
            "grid_column": null,
            "grid_gap": null,
            "grid_row": null,
            "grid_template_areas": null,
            "grid_template_columns": null,
            "grid_template_rows": null,
            "height": null,
            "justify_content": null,
            "justify_items": null,
            "left": null,
            "margin": null,
            "max_height": null,
            "max_width": null,
            "min_height": null,
            "min_width": null,
            "object_fit": null,
            "object_position": null,
            "order": null,
            "overflow": null,
            "overflow_x": null,
            "overflow_y": null,
            "padding": null,
            "right": null,
            "top": null,
            "visibility": null,
            "width": null
          }
        },
        "0dbed9c633d64073977c8cc8ccab247b": {
          "model_module": "@jupyter-widgets/controls",
          "model_name": "DescriptionStyleModel",
          "model_module_version": "1.5.0",
          "state": {
            "_model_module": "@jupyter-widgets/controls",
            "_model_module_version": "1.5.0",
            "_model_name": "DescriptionStyleModel",
            "_view_count": null,
            "_view_module": "@jupyter-widgets/base",
            "_view_module_version": "1.2.0",
            "_view_name": "StyleView",
            "description_width": ""
          }
        },
        "08ff448b318e45d9b88d6794d849cd78": {
          "model_module": "@jupyter-widgets/controls",
          "model_name": "HBoxModel",
          "model_module_version": "1.5.0",
          "state": {
            "_dom_classes": [],
            "_model_module": "@jupyter-widgets/controls",
            "_model_module_version": "1.5.0",
            "_model_name": "HBoxModel",
            "_view_count": null,
            "_view_module": "@jupyter-widgets/controls",
            "_view_module_version": "1.5.0",
            "_view_name": "HBoxView",
            "box_style": "",
            "children": [
              "IPY_MODEL_8c4fc7be47b543c49f4fc47e0488b446",
              "IPY_MODEL_a4d9a7a6129442d889c664d628d5402a",
              "IPY_MODEL_dc71bcaa7120429a9783a6f7abdb4bee"
            ],
            "layout": "IPY_MODEL_e1f26833d84a4c4a9f02ec76dff651b4"
          }
        },
        "8c4fc7be47b543c49f4fc47e0488b446": {
          "model_module": "@jupyter-widgets/controls",
          "model_name": "HTMLModel",
          "model_module_version": "1.5.0",
          "state": {
            "_dom_classes": [],
            "_model_module": "@jupyter-widgets/controls",
            "_model_module_version": "1.5.0",
            "_model_name": "HTMLModel",
            "_view_count": null,
            "_view_module": "@jupyter-widgets/controls",
            "_view_module_version": "1.5.0",
            "_view_name": "HTMLView",
            "description": "",
            "description_tooltip": null,
            "layout": "IPY_MODEL_05ccd0223c2b4225b41ebd7aa198a29b",
            "placeholder": "​",
            "style": "IPY_MODEL_07251e7486f544a2b00e4df1aae6bffa",
            "value": "Downloading: 100%"
          }
        },
        "a4d9a7a6129442d889c664d628d5402a": {
          "model_module": "@jupyter-widgets/controls",
          "model_name": "FloatProgressModel",
          "model_module_version": "1.5.0",
          "state": {
            "_dom_classes": [],
            "_model_module": "@jupyter-widgets/controls",
            "_model_module_version": "1.5.0",
            "_model_name": "FloatProgressModel",
            "_view_count": null,
            "_view_module": "@jupyter-widgets/controls",
            "_view_module_version": "1.5.0",
            "_view_name": "ProgressView",
            "bar_style": "success",
            "description": "",
            "description_tooltip": null,
            "layout": "IPY_MODEL_892b7c08fd2d46b69fbcabcf02894988",
            "max": 112,
            "min": 0,
            "orientation": "horizontal",
            "style": "IPY_MODEL_7f215b6306614f7c91c1621ccc121b1d",
            "value": 112
          }
        },
        "dc71bcaa7120429a9783a6f7abdb4bee": {
          "model_module": "@jupyter-widgets/controls",
          "model_name": "HTMLModel",
          "model_module_version": "1.5.0",
          "state": {
            "_dom_classes": [],
            "_model_module": "@jupyter-widgets/controls",
            "_model_module_version": "1.5.0",
            "_model_name": "HTMLModel",
            "_view_count": null,
            "_view_module": "@jupyter-widgets/controls",
            "_view_module_version": "1.5.0",
            "_view_name": "HTMLView",
            "description": "",
            "description_tooltip": null,
            "layout": "IPY_MODEL_998446df37ba429c887469f112b82066",
            "placeholder": "​",
            "style": "IPY_MODEL_77e01ae1bb7e4b20bb94608df60445b5",
            "value": " 112/112 [00:00&lt;00:00, 2.13kB/s]"
          }
        },
        "e1f26833d84a4c4a9f02ec76dff651b4": {
          "model_module": "@jupyter-widgets/base",
          "model_name": "LayoutModel",
          "model_module_version": "1.2.0",
          "state": {
            "_model_module": "@jupyter-widgets/base",
            "_model_module_version": "1.2.0",
            "_model_name": "LayoutModel",
            "_view_count": null,
            "_view_module": "@jupyter-widgets/base",
            "_view_module_version": "1.2.0",
            "_view_name": "LayoutView",
            "align_content": null,
            "align_items": null,
            "align_self": null,
            "border": null,
            "bottom": null,
            "display": null,
            "flex": null,
            "flex_flow": null,
            "grid_area": null,
            "grid_auto_columns": null,
            "grid_auto_flow": null,
            "grid_auto_rows": null,
            "grid_column": null,
            "grid_gap": null,
            "grid_row": null,
            "grid_template_areas": null,
            "grid_template_columns": null,
            "grid_template_rows": null,
            "height": null,
            "justify_content": null,
            "justify_items": null,
            "left": null,
            "margin": null,
            "max_height": null,
            "max_width": null,
            "min_height": null,
            "min_width": null,
            "object_fit": null,
            "object_position": null,
            "order": null,
            "overflow": null,
            "overflow_x": null,
            "overflow_y": null,
            "padding": null,
            "right": null,
            "top": null,
            "visibility": null,
            "width": null
          }
        },
        "05ccd0223c2b4225b41ebd7aa198a29b": {
          "model_module": "@jupyter-widgets/base",
          "model_name": "LayoutModel",
          "model_module_version": "1.2.0",
          "state": {
            "_model_module": "@jupyter-widgets/base",
            "_model_module_version": "1.2.0",
            "_model_name": "LayoutModel",
            "_view_count": null,
            "_view_module": "@jupyter-widgets/base",
            "_view_module_version": "1.2.0",
            "_view_name": "LayoutView",
            "align_content": null,
            "align_items": null,
            "align_self": null,
            "border": null,
            "bottom": null,
            "display": null,
            "flex": null,
            "flex_flow": null,
            "grid_area": null,
            "grid_auto_columns": null,
            "grid_auto_flow": null,
            "grid_auto_rows": null,
            "grid_column": null,
            "grid_gap": null,
            "grid_row": null,
            "grid_template_areas": null,
            "grid_template_columns": null,
            "grid_template_rows": null,
            "height": null,
            "justify_content": null,
            "justify_items": null,
            "left": null,
            "margin": null,
            "max_height": null,
            "max_width": null,
            "min_height": null,
            "min_width": null,
            "object_fit": null,
            "object_position": null,
            "order": null,
            "overflow": null,
            "overflow_x": null,
            "overflow_y": null,
            "padding": null,
            "right": null,
            "top": null,
            "visibility": null,
            "width": null
          }
        },
        "07251e7486f544a2b00e4df1aae6bffa": {
          "model_module": "@jupyter-widgets/controls",
          "model_name": "DescriptionStyleModel",
          "model_module_version": "1.5.0",
          "state": {
            "_model_module": "@jupyter-widgets/controls",
            "_model_module_version": "1.5.0",
            "_model_name": "DescriptionStyleModel",
            "_view_count": null,
            "_view_module": "@jupyter-widgets/base",
            "_view_module_version": "1.2.0",
            "_view_name": "StyleView",
            "description_width": ""
          }
        },
        "892b7c08fd2d46b69fbcabcf02894988": {
          "model_module": "@jupyter-widgets/base",
          "model_name": "LayoutModel",
          "model_module_version": "1.2.0",
          "state": {
            "_model_module": "@jupyter-widgets/base",
            "_model_module_version": "1.2.0",
            "_model_name": "LayoutModel",
            "_view_count": null,
            "_view_module": "@jupyter-widgets/base",
            "_view_module_version": "1.2.0",
            "_view_name": "LayoutView",
            "align_content": null,
            "align_items": null,
            "align_self": null,
            "border": null,
            "bottom": null,
            "display": null,
            "flex": null,
            "flex_flow": null,
            "grid_area": null,
            "grid_auto_columns": null,
            "grid_auto_flow": null,
            "grid_auto_rows": null,
            "grid_column": null,
            "grid_gap": null,
            "grid_row": null,
            "grid_template_areas": null,
            "grid_template_columns": null,
            "grid_template_rows": null,
            "height": null,
            "justify_content": null,
            "justify_items": null,
            "left": null,
            "margin": null,
            "max_height": null,
            "max_width": null,
            "min_height": null,
            "min_width": null,
            "object_fit": null,
            "object_position": null,
            "order": null,
            "overflow": null,
            "overflow_x": null,
            "overflow_y": null,
            "padding": null,
            "right": null,
            "top": null,
            "visibility": null,
            "width": null
          }
        },
        "7f215b6306614f7c91c1621ccc121b1d": {
          "model_module": "@jupyter-widgets/controls",
          "model_name": "ProgressStyleModel",
          "model_module_version": "1.5.0",
          "state": {
            "_model_module": "@jupyter-widgets/controls",
            "_model_module_version": "1.5.0",
            "_model_name": "ProgressStyleModel",
            "_view_count": null,
            "_view_module": "@jupyter-widgets/base",
            "_view_module_version": "1.2.0",
            "_view_name": "StyleView",
            "bar_color": null,
            "description_width": ""
          }
        },
        "998446df37ba429c887469f112b82066": {
          "model_module": "@jupyter-widgets/base",
          "model_name": "LayoutModel",
          "model_module_version": "1.2.0",
          "state": {
            "_model_module": "@jupyter-widgets/base",
            "_model_module_version": "1.2.0",
            "_model_name": "LayoutModel",
            "_view_count": null,
            "_view_module": "@jupyter-widgets/base",
            "_view_module_version": "1.2.0",
            "_view_name": "LayoutView",
            "align_content": null,
            "align_items": null,
            "align_self": null,
            "border": null,
            "bottom": null,
            "display": null,
            "flex": null,
            "flex_flow": null,
            "grid_area": null,
            "grid_auto_columns": null,
            "grid_auto_flow": null,
            "grid_auto_rows": null,
            "grid_column": null,
            "grid_gap": null,
            "grid_row": null,
            "grid_template_areas": null,
            "grid_template_columns": null,
            "grid_template_rows": null,
            "height": null,
            "justify_content": null,
            "justify_items": null,
            "left": null,
            "margin": null,
            "max_height": null,
            "max_width": null,
            "min_height": null,
            "min_width": null,
            "object_fit": null,
            "object_position": null,
            "order": null,
            "overflow": null,
            "overflow_x": null,
            "overflow_y": null,
            "padding": null,
            "right": null,
            "top": null,
            "visibility": null,
            "width": null
          }
        },
        "77e01ae1bb7e4b20bb94608df60445b5": {
          "model_module": "@jupyter-widgets/controls",
          "model_name": "DescriptionStyleModel",
          "model_module_version": "1.5.0",
          "state": {
            "_model_module": "@jupyter-widgets/controls",
            "_model_module_version": "1.5.0",
            "_model_name": "DescriptionStyleModel",
            "_view_count": null,
            "_view_module": "@jupyter-widgets/base",
            "_view_module_version": "1.2.0",
            "_view_name": "StyleView",
            "description_width": ""
          }
        },
        "7be7bb1ba04c4d7889f5ef05763fbe86": {
          "model_module": "@jupyter-widgets/controls",
          "model_name": "HBoxModel",
          "model_module_version": "1.5.0",
          "state": {
            "_dom_classes": [],
            "_model_module": "@jupyter-widgets/controls",
            "_model_module_version": "1.5.0",
            "_model_name": "HBoxModel",
            "_view_count": null,
            "_view_module": "@jupyter-widgets/controls",
            "_view_module_version": "1.5.0",
            "_view_name": "HBoxView",
            "box_style": "",
            "children": [
              "IPY_MODEL_86a2d1591cbe44ea912202c361bdadf1",
              "IPY_MODEL_52bb8398b49642b08c79cbc5589f8e83",
              "IPY_MODEL_8e272375f37c4063ba56f3b4e19365e2"
            ],
            "layout": "IPY_MODEL_9d586efb31d04245acb0c96248bc3f38"
          }
        },
        "86a2d1591cbe44ea912202c361bdadf1": {
          "model_module": "@jupyter-widgets/controls",
          "model_name": "HTMLModel",
          "model_module_version": "1.5.0",
          "state": {
            "_dom_classes": [],
            "_model_module": "@jupyter-widgets/controls",
            "_model_module_version": "1.5.0",
            "_model_name": "HTMLModel",
            "_view_count": null,
            "_view_module": "@jupyter-widgets/controls",
            "_view_module_version": "1.5.0",
            "_view_name": "HTMLView",
            "description": "",
            "description_tooltip": null,
            "layout": "IPY_MODEL_929f6ca7681e461e818c5de25fe2b09f",
            "placeholder": "​",
            "style": "IPY_MODEL_c3188d5dbe304e59ac8b753b9a7ac4a0",
            "value": "Downloading: 100%"
          }
        },
        "52bb8398b49642b08c79cbc5589f8e83": {
          "model_module": "@jupyter-widgets/controls",
          "model_name": "FloatProgressModel",
          "model_module_version": "1.5.0",
          "state": {
            "_dom_classes": [],
            "_model_module": "@jupyter-widgets/controls",
            "_model_module_version": "1.5.0",
            "_model_name": "FloatProgressModel",
            "_view_count": null,
            "_view_module": "@jupyter-widgets/controls",
            "_view_module_version": "1.5.0",
            "_view_name": "ProgressView",
            "bar_style": "success",
            "description": "",
            "description_tooltip": null,
            "layout": "IPY_MODEL_61d9c7230d254eaa907c5644dc734c85",
            "max": 43,
            "min": 0,
            "orientation": "horizontal",
            "style": "IPY_MODEL_b722d07f5d254470b90a28c999dc0b5f",
            "value": 43
          }
        },
        "8e272375f37c4063ba56f3b4e19365e2": {
          "model_module": "@jupyter-widgets/controls",
          "model_name": "HTMLModel",
          "model_module_version": "1.5.0",
          "state": {
            "_dom_classes": [],
            "_model_module": "@jupyter-widgets/controls",
            "_model_module_version": "1.5.0",
            "_model_name": "HTMLModel",
            "_view_count": null,
            "_view_module": "@jupyter-widgets/controls",
            "_view_module_version": "1.5.0",
            "_view_name": "HTMLView",
            "description": "",
            "description_tooltip": null,
            "layout": "IPY_MODEL_123bf4287228437d9bea3aadb60cee41",
            "placeholder": "​",
            "style": "IPY_MODEL_5225da8f12da4859b1b360567584de6e",
            "value": " 43.0/43.0 [00:00&lt;00:00, 656B/s]"
          }
        },
        "9d586efb31d04245acb0c96248bc3f38": {
          "model_module": "@jupyter-widgets/base",
          "model_name": "LayoutModel",
          "model_module_version": "1.2.0",
          "state": {
            "_model_module": "@jupyter-widgets/base",
            "_model_module_version": "1.2.0",
            "_model_name": "LayoutModel",
            "_view_count": null,
            "_view_module": "@jupyter-widgets/base",
            "_view_module_version": "1.2.0",
            "_view_name": "LayoutView",
            "align_content": null,
            "align_items": null,
            "align_self": null,
            "border": null,
            "bottom": null,
            "display": null,
            "flex": null,
            "flex_flow": null,
            "grid_area": null,
            "grid_auto_columns": null,
            "grid_auto_flow": null,
            "grid_auto_rows": null,
            "grid_column": null,
            "grid_gap": null,
            "grid_row": null,
            "grid_template_areas": null,
            "grid_template_columns": null,
            "grid_template_rows": null,
            "height": null,
            "justify_content": null,
            "justify_items": null,
            "left": null,
            "margin": null,
            "max_height": null,
            "max_width": null,
            "min_height": null,
            "min_width": null,
            "object_fit": null,
            "object_position": null,
            "order": null,
            "overflow": null,
            "overflow_x": null,
            "overflow_y": null,
            "padding": null,
            "right": null,
            "top": null,
            "visibility": null,
            "width": null
          }
        },
        "929f6ca7681e461e818c5de25fe2b09f": {
          "model_module": "@jupyter-widgets/base",
          "model_name": "LayoutModel",
          "model_module_version": "1.2.0",
          "state": {
            "_model_module": "@jupyter-widgets/base",
            "_model_module_version": "1.2.0",
            "_model_name": "LayoutModel",
            "_view_count": null,
            "_view_module": "@jupyter-widgets/base",
            "_view_module_version": "1.2.0",
            "_view_name": "LayoutView",
            "align_content": null,
            "align_items": null,
            "align_self": null,
            "border": null,
            "bottom": null,
            "display": null,
            "flex": null,
            "flex_flow": null,
            "grid_area": null,
            "grid_auto_columns": null,
            "grid_auto_flow": null,
            "grid_auto_rows": null,
            "grid_column": null,
            "grid_gap": null,
            "grid_row": null,
            "grid_template_areas": null,
            "grid_template_columns": null,
            "grid_template_rows": null,
            "height": null,
            "justify_content": null,
            "justify_items": null,
            "left": null,
            "margin": null,
            "max_height": null,
            "max_width": null,
            "min_height": null,
            "min_width": null,
            "object_fit": null,
            "object_position": null,
            "order": null,
            "overflow": null,
            "overflow_x": null,
            "overflow_y": null,
            "padding": null,
            "right": null,
            "top": null,
            "visibility": null,
            "width": null
          }
        },
        "c3188d5dbe304e59ac8b753b9a7ac4a0": {
          "model_module": "@jupyter-widgets/controls",
          "model_name": "DescriptionStyleModel",
          "model_module_version": "1.5.0",
          "state": {
            "_model_module": "@jupyter-widgets/controls",
            "_model_module_version": "1.5.0",
            "_model_name": "DescriptionStyleModel",
            "_view_count": null,
            "_view_module": "@jupyter-widgets/base",
            "_view_module_version": "1.2.0",
            "_view_name": "StyleView",
            "description_width": ""
          }
        },
        "61d9c7230d254eaa907c5644dc734c85": {
          "model_module": "@jupyter-widgets/base",
          "model_name": "LayoutModel",
          "model_module_version": "1.2.0",
          "state": {
            "_model_module": "@jupyter-widgets/base",
            "_model_module_version": "1.2.0",
            "_model_name": "LayoutModel",
            "_view_count": null,
            "_view_module": "@jupyter-widgets/base",
            "_view_module_version": "1.2.0",
            "_view_name": "LayoutView",
            "align_content": null,
            "align_items": null,
            "align_self": null,
            "border": null,
            "bottom": null,
            "display": null,
            "flex": null,
            "flex_flow": null,
            "grid_area": null,
            "grid_auto_columns": null,
            "grid_auto_flow": null,
            "grid_auto_rows": null,
            "grid_column": null,
            "grid_gap": null,
            "grid_row": null,
            "grid_template_areas": null,
            "grid_template_columns": null,
            "grid_template_rows": null,
            "height": null,
            "justify_content": null,
            "justify_items": null,
            "left": null,
            "margin": null,
            "max_height": null,
            "max_width": null,
            "min_height": null,
            "min_width": null,
            "object_fit": null,
            "object_position": null,
            "order": null,
            "overflow": null,
            "overflow_x": null,
            "overflow_y": null,
            "padding": null,
            "right": null,
            "top": null,
            "visibility": null,
            "width": null
          }
        },
        "b722d07f5d254470b90a28c999dc0b5f": {
          "model_module": "@jupyter-widgets/controls",
          "model_name": "ProgressStyleModel",
          "model_module_version": "1.5.0",
          "state": {
            "_model_module": "@jupyter-widgets/controls",
            "_model_module_version": "1.5.0",
            "_model_name": "ProgressStyleModel",
            "_view_count": null,
            "_view_module": "@jupyter-widgets/base",
            "_view_module_version": "1.2.0",
            "_view_name": "StyleView",
            "bar_color": null,
            "description_width": ""
          }
        },
        "123bf4287228437d9bea3aadb60cee41": {
          "model_module": "@jupyter-widgets/base",
          "model_name": "LayoutModel",
          "model_module_version": "1.2.0",
          "state": {
            "_model_module": "@jupyter-widgets/base",
            "_model_module_version": "1.2.0",
            "_model_name": "LayoutModel",
            "_view_count": null,
            "_view_module": "@jupyter-widgets/base",
            "_view_module_version": "1.2.0",
            "_view_name": "LayoutView",
            "align_content": null,
            "align_items": null,
            "align_self": null,
            "border": null,
            "bottom": null,
            "display": null,
            "flex": null,
            "flex_flow": null,
            "grid_area": null,
            "grid_auto_columns": null,
            "grid_auto_flow": null,
            "grid_auto_rows": null,
            "grid_column": null,
            "grid_gap": null,
            "grid_row": null,
            "grid_template_areas": null,
            "grid_template_columns": null,
            "grid_template_rows": null,
            "height": null,
            "justify_content": null,
            "justify_items": null,
            "left": null,
            "margin": null,
            "max_height": null,
            "max_width": null,
            "min_height": null,
            "min_width": null,
            "object_fit": null,
            "object_position": null,
            "order": null,
            "overflow": null,
            "overflow_x": null,
            "overflow_y": null,
            "padding": null,
            "right": null,
            "top": null,
            "visibility": null,
            "width": null
          }
        },
        "5225da8f12da4859b1b360567584de6e": {
          "model_module": "@jupyter-widgets/controls",
          "model_name": "DescriptionStyleModel",
          "model_module_version": "1.5.0",
          "state": {
            "_model_module": "@jupyter-widgets/controls",
            "_model_module_version": "1.5.0",
            "_model_name": "DescriptionStyleModel",
            "_view_count": null,
            "_view_module": "@jupyter-widgets/base",
            "_view_module_version": "1.2.0",
            "_view_name": "StyleView",
            "description_width": ""
          }
        },
        "c7dfff0560bd4434a0edd61bdee37f04": {
          "model_module": "@jupyter-widgets/controls",
          "model_name": "HBoxModel",
          "model_module_version": "1.5.0",
          "state": {
            "_dom_classes": [],
            "_model_module": "@jupyter-widgets/controls",
            "_model_module_version": "1.5.0",
            "_model_name": "HBoxModel",
            "_view_count": null,
            "_view_module": "@jupyter-widgets/controls",
            "_view_module_version": "1.5.0",
            "_view_name": "HBoxView",
            "box_style": "",
            "children": [
              "IPY_MODEL_01f37a945b164a4bb957e3f8e7971b67",
              "IPY_MODEL_75d4c01bee9c4bbc9ad184fe4dcb9a21",
              "IPY_MODEL_ff263c6dc79b4c0c9fedff67a35db2f2"
            ],
            "layout": "IPY_MODEL_49e5916c579b4c86bcf531e81eb7241a"
          }
        },
        "01f37a945b164a4bb957e3f8e7971b67": {
          "model_module": "@jupyter-widgets/controls",
          "model_name": "HTMLModel",
          "model_module_version": "1.5.0",
          "state": {
            "_dom_classes": [],
            "_model_module": "@jupyter-widgets/controls",
            "_model_module_version": "1.5.0",
            "_model_name": "HTMLModel",
            "_view_count": null,
            "_view_module": "@jupyter-widgets/controls",
            "_view_module_version": "1.5.0",
            "_view_name": "HTMLView",
            "description": "",
            "description_tooltip": null,
            "layout": "IPY_MODEL_9614e9ec678e468089c14018d559125c",
            "placeholder": "​",
            "style": "IPY_MODEL_cdf0930c22134501a6348554ed4e248d",
            "value": "Downloading: 100%"
          }
        },
        "75d4c01bee9c4bbc9ad184fe4dcb9a21": {
          "model_module": "@jupyter-widgets/controls",
          "model_name": "FloatProgressModel",
          "model_module_version": "1.5.0",
          "state": {
            "_dom_classes": [],
            "_model_module": "@jupyter-widgets/controls",
            "_model_module_version": "1.5.0",
            "_model_name": "FloatProgressModel",
            "_view_count": null,
            "_view_module": "@jupyter-widgets/controls",
            "_view_module_version": "1.5.0",
            "_view_name": "ProgressView",
            "bar_style": "success",
            "description": "",
            "description_tooltip": null,
            "layout": "IPY_MODEL_a7734ea53b5d44f8816f6ab90c7fe854",
            "max": 647,
            "min": 0,
            "orientation": "horizontal",
            "style": "IPY_MODEL_15868f262d3c45bfa2d285a4b5f22995",
            "value": 647
          }
        },
        "ff263c6dc79b4c0c9fedff67a35db2f2": {
          "model_module": "@jupyter-widgets/controls",
          "model_name": "HTMLModel",
          "model_module_version": "1.5.0",
          "state": {
            "_dom_classes": [],
            "_model_module": "@jupyter-widgets/controls",
            "_model_module_version": "1.5.0",
            "_model_name": "HTMLModel",
            "_view_count": null,
            "_view_module": "@jupyter-widgets/controls",
            "_view_module_version": "1.5.0",
            "_view_name": "HTMLView",
            "description": "",
            "description_tooltip": null,
            "layout": "IPY_MODEL_298823d641b243e6b15c311326d3a8e2",
            "placeholder": "​",
            "style": "IPY_MODEL_f3fabb6733da46debf9bd6c61afc56d5",
            "value": " 647/647 [00:00&lt;00:00, 5.20kB/s]"
          }
        },
        "49e5916c579b4c86bcf531e81eb7241a": {
          "model_module": "@jupyter-widgets/base",
          "model_name": "LayoutModel",
          "model_module_version": "1.2.0",
          "state": {
            "_model_module": "@jupyter-widgets/base",
            "_model_module_version": "1.2.0",
            "_model_name": "LayoutModel",
            "_view_count": null,
            "_view_module": "@jupyter-widgets/base",
            "_view_module_version": "1.2.0",
            "_view_name": "LayoutView",
            "align_content": null,
            "align_items": null,
            "align_self": null,
            "border": null,
            "bottom": null,
            "display": null,
            "flex": null,
            "flex_flow": null,
            "grid_area": null,
            "grid_auto_columns": null,
            "grid_auto_flow": null,
            "grid_auto_rows": null,
            "grid_column": null,
            "grid_gap": null,
            "grid_row": null,
            "grid_template_areas": null,
            "grid_template_columns": null,
            "grid_template_rows": null,
            "height": null,
            "justify_content": null,
            "justify_items": null,
            "left": null,
            "margin": null,
            "max_height": null,
            "max_width": null,
            "min_height": null,
            "min_width": null,
            "object_fit": null,
            "object_position": null,
            "order": null,
            "overflow": null,
            "overflow_x": null,
            "overflow_y": null,
            "padding": null,
            "right": null,
            "top": null,
            "visibility": null,
            "width": null
          }
        },
        "9614e9ec678e468089c14018d559125c": {
          "model_module": "@jupyter-widgets/base",
          "model_name": "LayoutModel",
          "model_module_version": "1.2.0",
          "state": {
            "_model_module": "@jupyter-widgets/base",
            "_model_module_version": "1.2.0",
            "_model_name": "LayoutModel",
            "_view_count": null,
            "_view_module": "@jupyter-widgets/base",
            "_view_module_version": "1.2.0",
            "_view_name": "LayoutView",
            "align_content": null,
            "align_items": null,
            "align_self": null,
            "border": null,
            "bottom": null,
            "display": null,
            "flex": null,
            "flex_flow": null,
            "grid_area": null,
            "grid_auto_columns": null,
            "grid_auto_flow": null,
            "grid_auto_rows": null,
            "grid_column": null,
            "grid_gap": null,
            "grid_row": null,
            "grid_template_areas": null,
            "grid_template_columns": null,
            "grid_template_rows": null,
            "height": null,
            "justify_content": null,
            "justify_items": null,
            "left": null,
            "margin": null,
            "max_height": null,
            "max_width": null,
            "min_height": null,
            "min_width": null,
            "object_fit": null,
            "object_position": null,
            "order": null,
            "overflow": null,
            "overflow_x": null,
            "overflow_y": null,
            "padding": null,
            "right": null,
            "top": null,
            "visibility": null,
            "width": null
          }
        },
        "cdf0930c22134501a6348554ed4e248d": {
          "model_module": "@jupyter-widgets/controls",
          "model_name": "DescriptionStyleModel",
          "model_module_version": "1.5.0",
          "state": {
            "_model_module": "@jupyter-widgets/controls",
            "_model_module_version": "1.5.0",
            "_model_name": "DescriptionStyleModel",
            "_view_count": null,
            "_view_module": "@jupyter-widgets/base",
            "_view_module_version": "1.2.0",
            "_view_name": "StyleView",
            "description_width": ""
          }
        },
        "a7734ea53b5d44f8816f6ab90c7fe854": {
          "model_module": "@jupyter-widgets/base",
          "model_name": "LayoutModel",
          "model_module_version": "1.2.0",
          "state": {
            "_model_module": "@jupyter-widgets/base",
            "_model_module_version": "1.2.0",
            "_model_name": "LayoutModel",
            "_view_count": null,
            "_view_module": "@jupyter-widgets/base",
            "_view_module_version": "1.2.0",
            "_view_name": "LayoutView",
            "align_content": null,
            "align_items": null,
            "align_self": null,
            "border": null,
            "bottom": null,
            "display": null,
            "flex": null,
            "flex_flow": null,
            "grid_area": null,
            "grid_auto_columns": null,
            "grid_auto_flow": null,
            "grid_auto_rows": null,
            "grid_column": null,
            "grid_gap": null,
            "grid_row": null,
            "grid_template_areas": null,
            "grid_template_columns": null,
            "grid_template_rows": null,
            "height": null,
            "justify_content": null,
            "justify_items": null,
            "left": null,
            "margin": null,
            "max_height": null,
            "max_width": null,
            "min_height": null,
            "min_width": null,
            "object_fit": null,
            "object_position": null,
            "order": null,
            "overflow": null,
            "overflow_x": null,
            "overflow_y": null,
            "padding": null,
            "right": null,
            "top": null,
            "visibility": null,
            "width": null
          }
        },
        "15868f262d3c45bfa2d285a4b5f22995": {
          "model_module": "@jupyter-widgets/controls",
          "model_name": "ProgressStyleModel",
          "model_module_version": "1.5.0",
          "state": {
            "_model_module": "@jupyter-widgets/controls",
            "_model_module_version": "1.5.0",
            "_model_name": "ProgressStyleModel",
            "_view_count": null,
            "_view_module": "@jupyter-widgets/base",
            "_view_module_version": "1.2.0",
            "_view_name": "StyleView",
            "bar_color": null,
            "description_width": ""
          }
        },
        "298823d641b243e6b15c311326d3a8e2": {
          "model_module": "@jupyter-widgets/base",
          "model_name": "LayoutModel",
          "model_module_version": "1.2.0",
          "state": {
            "_model_module": "@jupyter-widgets/base",
            "_model_module_version": "1.2.0",
            "_model_name": "LayoutModel",
            "_view_count": null,
            "_view_module": "@jupyter-widgets/base",
            "_view_module_version": "1.2.0",
            "_view_name": "LayoutView",
            "align_content": null,
            "align_items": null,
            "align_self": null,
            "border": null,
            "bottom": null,
            "display": null,
            "flex": null,
            "flex_flow": null,
            "grid_area": null,
            "grid_auto_columns": null,
            "grid_auto_flow": null,
            "grid_auto_rows": null,
            "grid_column": null,
            "grid_gap": null,
            "grid_row": null,
            "grid_template_areas": null,
            "grid_template_columns": null,
            "grid_template_rows": null,
            "height": null,
            "justify_content": null,
            "justify_items": null,
            "left": null,
            "margin": null,
            "max_height": null,
            "max_width": null,
            "min_height": null,
            "min_width": null,
            "object_fit": null,
            "object_position": null,
            "order": null,
            "overflow": null,
            "overflow_x": null,
            "overflow_y": null,
            "padding": null,
            "right": null,
            "top": null,
            "visibility": null,
            "width": null
          }
        },
        "f3fabb6733da46debf9bd6c61afc56d5": {
          "model_module": "@jupyter-widgets/controls",
          "model_name": "DescriptionStyleModel",
          "model_module_version": "1.5.0",
          "state": {
            "_model_module": "@jupyter-widgets/controls",
            "_model_module_version": "1.5.0",
            "_model_name": "DescriptionStyleModel",
            "_view_count": null,
            "_view_module": "@jupyter-widgets/base",
            "_view_module_version": "1.2.0",
            "_view_name": "StyleView",
            "description_width": ""
          }
        },
        "808222214af941c893294da96a772bee": {
          "model_module": "@jupyter-widgets/controls",
          "model_name": "HBoxModel",
          "model_module_version": "1.5.0",
          "state": {
            "_dom_classes": [],
            "_model_module": "@jupyter-widgets/controls",
            "_model_module_version": "1.5.0",
            "_model_name": "HBoxModel",
            "_view_count": null,
            "_view_module": "@jupyter-widgets/controls",
            "_view_module_version": "1.5.0",
            "_view_name": "HBoxView",
            "box_style": "",
            "children": [
              "IPY_MODEL_256a05b035cf4a8f9026c40c40fa2533",
              "IPY_MODEL_6b5a5a4f60d24620a0d3f0e71e247feb",
              "IPY_MODEL_8618356df359482e9ac05904028f7a6b"
            ],
            "layout": "IPY_MODEL_79b3bb230afd40edbbbb088dd65d8cd8"
          }
        },
        "256a05b035cf4a8f9026c40c40fa2533": {
          "model_module": "@jupyter-widgets/controls",
          "model_name": "HTMLModel",
          "model_module_version": "1.5.0",
          "state": {
            "_dom_classes": [],
            "_model_module": "@jupyter-widgets/controls",
            "_model_module_version": "1.5.0",
            "_model_name": "HTMLModel",
            "_view_count": null,
            "_view_module": "@jupyter-widgets/controls",
            "_view_module_version": "1.5.0",
            "_view_name": "HTMLView",
            "description": "",
            "description_tooltip": null,
            "layout": "IPY_MODEL_f38445c2cd384a5aa1e8f0ef8bd78af5",
            "placeholder": "​",
            "style": "IPY_MODEL_fa92cd199c5748c29a0c6ab07306c5bf",
            "value": "Downloading: 100%"
          }
        },
        "6b5a5a4f60d24620a0d3f0e71e247feb": {
          "model_module": "@jupyter-widgets/controls",
          "model_name": "FloatProgressModel",
          "model_module_version": "1.5.0",
          "state": {
            "_dom_classes": [],
            "_model_module": "@jupyter-widgets/controls",
            "_model_module_version": "1.5.0",
            "_model_name": "FloatProgressModel",
            "_view_count": null,
            "_view_module": "@jupyter-widgets/controls",
            "_view_module_version": "1.5.0",
            "_view_name": "ProgressView",
            "bar_style": "success",
            "description": "",
            "description_tooltip": null,
            "layout": "IPY_MODEL_66d13388a75e4b859306f27cba04d811",
            "max": 209528,
            "min": 0,
            "orientation": "horizontal",
            "style": "IPY_MODEL_8157b5198bc64f0498de31adb83adadc",
            "value": 209528
          }
        },
        "8618356df359482e9ac05904028f7a6b": {
          "model_module": "@jupyter-widgets/controls",
          "model_name": "HTMLModel",
          "model_module_version": "1.5.0",
          "state": {
            "_dom_classes": [],
            "_model_module": "@jupyter-widgets/controls",
            "_model_module_version": "1.5.0",
            "_model_name": "HTMLModel",
            "_view_count": null,
            "_view_module": "@jupyter-widgets/controls",
            "_view_module_version": "1.5.0",
            "_view_name": "HTMLView",
            "description": "",
            "description_tooltip": null,
            "layout": "IPY_MODEL_ebbf26f106404d35b83492c3771ebc94",
            "placeholder": "​",
            "style": "IPY_MODEL_c8b7aad8114b43a18e773bde64168426",
            "value": " 205k/205k [00:00&lt;00:00, 273kB/s]"
          }
        },
        "79b3bb230afd40edbbbb088dd65d8cd8": {
          "model_module": "@jupyter-widgets/base",
          "model_name": "LayoutModel",
          "model_module_version": "1.2.0",
          "state": {
            "_model_module": "@jupyter-widgets/base",
            "_model_module_version": "1.2.0",
            "_model_name": "LayoutModel",
            "_view_count": null,
            "_view_module": "@jupyter-widgets/base",
            "_view_module_version": "1.2.0",
            "_view_name": "LayoutView",
            "align_content": null,
            "align_items": null,
            "align_self": null,
            "border": null,
            "bottom": null,
            "display": null,
            "flex": null,
            "flex_flow": null,
            "grid_area": null,
            "grid_auto_columns": null,
            "grid_auto_flow": null,
            "grid_auto_rows": null,
            "grid_column": null,
            "grid_gap": null,
            "grid_row": null,
            "grid_template_areas": null,
            "grid_template_columns": null,
            "grid_template_rows": null,
            "height": null,
            "justify_content": null,
            "justify_items": null,
            "left": null,
            "margin": null,
            "max_height": null,
            "max_width": null,
            "min_height": null,
            "min_width": null,
            "object_fit": null,
            "object_position": null,
            "order": null,
            "overflow": null,
            "overflow_x": null,
            "overflow_y": null,
            "padding": null,
            "right": null,
            "top": null,
            "visibility": null,
            "width": null
          }
        },
        "f38445c2cd384a5aa1e8f0ef8bd78af5": {
          "model_module": "@jupyter-widgets/base",
          "model_name": "LayoutModel",
          "model_module_version": "1.2.0",
          "state": {
            "_model_module": "@jupyter-widgets/base",
            "_model_module_version": "1.2.0",
            "_model_name": "LayoutModel",
            "_view_count": null,
            "_view_module": "@jupyter-widgets/base",
            "_view_module_version": "1.2.0",
            "_view_name": "LayoutView",
            "align_content": null,
            "align_items": null,
            "align_self": null,
            "border": null,
            "bottom": null,
            "display": null,
            "flex": null,
            "flex_flow": null,
            "grid_area": null,
            "grid_auto_columns": null,
            "grid_auto_flow": null,
            "grid_auto_rows": null,
            "grid_column": null,
            "grid_gap": null,
            "grid_row": null,
            "grid_template_areas": null,
            "grid_template_columns": null,
            "grid_template_rows": null,
            "height": null,
            "justify_content": null,
            "justify_items": null,
            "left": null,
            "margin": null,
            "max_height": null,
            "max_width": null,
            "min_height": null,
            "min_width": null,
            "object_fit": null,
            "object_position": null,
            "order": null,
            "overflow": null,
            "overflow_x": null,
            "overflow_y": null,
            "padding": null,
            "right": null,
            "top": null,
            "visibility": null,
            "width": null
          }
        },
        "fa92cd199c5748c29a0c6ab07306c5bf": {
          "model_module": "@jupyter-widgets/controls",
          "model_name": "DescriptionStyleModel",
          "model_module_version": "1.5.0",
          "state": {
            "_model_module": "@jupyter-widgets/controls",
            "_model_module_version": "1.5.0",
            "_model_name": "DescriptionStyleModel",
            "_view_count": null,
            "_view_module": "@jupyter-widgets/base",
            "_view_module_version": "1.2.0",
            "_view_name": "StyleView",
            "description_width": ""
          }
        },
        "66d13388a75e4b859306f27cba04d811": {
          "model_module": "@jupyter-widgets/base",
          "model_name": "LayoutModel",
          "model_module_version": "1.2.0",
          "state": {
            "_model_module": "@jupyter-widgets/base",
            "_model_module_version": "1.2.0",
            "_model_name": "LayoutModel",
            "_view_count": null,
            "_view_module": "@jupyter-widgets/base",
            "_view_module_version": "1.2.0",
            "_view_name": "LayoutView",
            "align_content": null,
            "align_items": null,
            "align_self": null,
            "border": null,
            "bottom": null,
            "display": null,
            "flex": null,
            "flex_flow": null,
            "grid_area": null,
            "grid_auto_columns": null,
            "grid_auto_flow": null,
            "grid_auto_rows": null,
            "grid_column": null,
            "grid_gap": null,
            "grid_row": null,
            "grid_template_areas": null,
            "grid_template_columns": null,
            "grid_template_rows": null,
            "height": null,
            "justify_content": null,
            "justify_items": null,
            "left": null,
            "margin": null,
            "max_height": null,
            "max_width": null,
            "min_height": null,
            "min_width": null,
            "object_fit": null,
            "object_position": null,
            "order": null,
            "overflow": null,
            "overflow_x": null,
            "overflow_y": null,
            "padding": null,
            "right": null,
            "top": null,
            "visibility": null,
            "width": null
          }
        },
        "8157b5198bc64f0498de31adb83adadc": {
          "model_module": "@jupyter-widgets/controls",
          "model_name": "ProgressStyleModel",
          "model_module_version": "1.5.0",
          "state": {
            "_model_module": "@jupyter-widgets/controls",
            "_model_module_version": "1.5.0",
            "_model_name": "ProgressStyleModel",
            "_view_count": null,
            "_view_module": "@jupyter-widgets/base",
            "_view_module_version": "1.2.0",
            "_view_name": "StyleView",
            "bar_color": null,
            "description_width": ""
          }
        },
        "ebbf26f106404d35b83492c3771ebc94": {
          "model_module": "@jupyter-widgets/base",
          "model_name": "LayoutModel",
          "model_module_version": "1.2.0",
          "state": {
            "_model_module": "@jupyter-widgets/base",
            "_model_module_version": "1.2.0",
            "_model_name": "LayoutModel",
            "_view_count": null,
            "_view_module": "@jupyter-widgets/base",
            "_view_module_version": "1.2.0",
            "_view_name": "LayoutView",
            "align_content": null,
            "align_items": null,
            "align_self": null,
            "border": null,
            "bottom": null,
            "display": null,
            "flex": null,
            "flex_flow": null,
            "grid_area": null,
            "grid_auto_columns": null,
            "grid_auto_flow": null,
            "grid_auto_rows": null,
            "grid_column": null,
            "grid_gap": null,
            "grid_row": null,
            "grid_template_areas": null,
            "grid_template_columns": null,
            "grid_template_rows": null,
            "height": null,
            "justify_content": null,
            "justify_items": null,
            "left": null,
            "margin": null,
            "max_height": null,
            "max_width": null,
            "min_height": null,
            "min_width": null,
            "object_fit": null,
            "object_position": null,
            "order": null,
            "overflow": null,
            "overflow_x": null,
            "overflow_y": null,
            "padding": null,
            "right": null,
            "top": null,
            "visibility": null,
            "width": null
          }
        },
        "c8b7aad8114b43a18e773bde64168426": {
          "model_module": "@jupyter-widgets/controls",
          "model_name": "DescriptionStyleModel",
          "model_module_version": "1.5.0",
          "state": {
            "_model_module": "@jupyter-widgets/controls",
            "_model_module_version": "1.5.0",
            "_model_name": "DescriptionStyleModel",
            "_view_count": null,
            "_view_module": "@jupyter-widgets/base",
            "_view_module_version": "1.2.0",
            "_view_name": "StyleView",
            "description_width": ""
          }
        },
        "821f9feae43647d086e0a0837b2e6d06": {
          "model_module": "@jupyter-widgets/controls",
          "model_name": "HBoxModel",
          "model_module_version": "1.5.0",
          "state": {
            "_dom_classes": [],
            "_model_module": "@jupyter-widgets/controls",
            "_model_module_version": "1.5.0",
            "_model_name": "HBoxModel",
            "_view_count": null,
            "_view_module": "@jupyter-widgets/controls",
            "_view_module_version": "1.5.0",
            "_view_name": "HBoxView",
            "box_style": "",
            "children": [
              "IPY_MODEL_a9c85083f7914ab0a2bdaa1242d003f2",
              "IPY_MODEL_434fbe96891943b49d237a2addff4c17",
              "IPY_MODEL_db0a162ee68f4a239e42a2c04b145680"
            ],
            "layout": "IPY_MODEL_61636a51e79d4d31afa127d5f88ee96f"
          }
        },
        "a9c85083f7914ab0a2bdaa1242d003f2": {
          "model_module": "@jupyter-widgets/controls",
          "model_name": "HTMLModel",
          "model_module_version": "1.5.0",
          "state": {
            "_dom_classes": [],
            "_model_module": "@jupyter-widgets/controls",
            "_model_module_version": "1.5.0",
            "_model_name": "HTMLModel",
            "_view_count": null,
            "_view_module": "@jupyter-widgets/controls",
            "_view_module_version": "1.5.0",
            "_view_name": "HTMLView",
            "description": "",
            "description_tooltip": null,
            "layout": "IPY_MODEL_0c6a9589cf4b48e49cbf14654ad727e0",
            "placeholder": "​",
            "style": "IPY_MODEL_30a1a8b11f694c3d992e13d5db8fbbf9",
            "value": "Downloading: 100%"
          }
        },
        "434fbe96891943b49d237a2addff4c17": {
          "model_module": "@jupyter-widgets/controls",
          "model_name": "FloatProgressModel",
          "model_module_version": "1.5.0",
          "state": {
            "_dom_classes": [],
            "_model_module": "@jupyter-widgets/controls",
            "_model_module_version": "1.5.0",
            "_model_name": "FloatProgressModel",
            "_view_count": null,
            "_view_module": "@jupyter-widgets/controls",
            "_view_module_version": "1.5.0",
            "_view_name": "ProgressView",
            "bar_style": "success",
            "description": "",
            "description_tooltip": null,
            "layout": "IPY_MODEL_4449d2ab3153428287f56670d9cf862c",
            "max": 2,
            "min": 0,
            "orientation": "horizontal",
            "style": "IPY_MODEL_0fe10e810ab14298b6268f9c600bf6a1",
            "value": 2
          }
        },
        "db0a162ee68f4a239e42a2c04b145680": {
          "model_module": "@jupyter-widgets/controls",
          "model_name": "HTMLModel",
          "model_module_version": "1.5.0",
          "state": {
            "_dom_classes": [],
            "_model_module": "@jupyter-widgets/controls",
            "_model_module_version": "1.5.0",
            "_model_name": "HTMLModel",
            "_view_count": null,
            "_view_module": "@jupyter-widgets/controls",
            "_view_module_version": "1.5.0",
            "_view_name": "HTMLView",
            "description": "",
            "description_tooltip": null,
            "layout": "IPY_MODEL_3a8b7e55cf2b4cd6adc506ae6f7f78c7",
            "placeholder": "​",
            "style": "IPY_MODEL_f2bdc3a338dd4e27a8c9de7770eaef06",
            "value": " 2.00/2.00 [00:00&lt;00:00, 61.2B/s]"
          }
        },
        "61636a51e79d4d31afa127d5f88ee96f": {
          "model_module": "@jupyter-widgets/base",
          "model_name": "LayoutModel",
          "model_module_version": "1.2.0",
          "state": {
            "_model_module": "@jupyter-widgets/base",
            "_model_module_version": "1.2.0",
            "_model_name": "LayoutModel",
            "_view_count": null,
            "_view_module": "@jupyter-widgets/base",
            "_view_module_version": "1.2.0",
            "_view_name": "LayoutView",
            "align_content": null,
            "align_items": null,
            "align_self": null,
            "border": null,
            "bottom": null,
            "display": null,
            "flex": null,
            "flex_flow": null,
            "grid_area": null,
            "grid_auto_columns": null,
            "grid_auto_flow": null,
            "grid_auto_rows": null,
            "grid_column": null,
            "grid_gap": null,
            "grid_row": null,
            "grid_template_areas": null,
            "grid_template_columns": null,
            "grid_template_rows": null,
            "height": null,
            "justify_content": null,
            "justify_items": null,
            "left": null,
            "margin": null,
            "max_height": null,
            "max_width": null,
            "min_height": null,
            "min_width": null,
            "object_fit": null,
            "object_position": null,
            "order": null,
            "overflow": null,
            "overflow_x": null,
            "overflow_y": null,
            "padding": null,
            "right": null,
            "top": null,
            "visibility": null,
            "width": null
          }
        },
        "0c6a9589cf4b48e49cbf14654ad727e0": {
          "model_module": "@jupyter-widgets/base",
          "model_name": "LayoutModel",
          "model_module_version": "1.2.0",
          "state": {
            "_model_module": "@jupyter-widgets/base",
            "_model_module_version": "1.2.0",
            "_model_name": "LayoutModel",
            "_view_count": null,
            "_view_module": "@jupyter-widgets/base",
            "_view_module_version": "1.2.0",
            "_view_name": "LayoutView",
            "align_content": null,
            "align_items": null,
            "align_self": null,
            "border": null,
            "bottom": null,
            "display": null,
            "flex": null,
            "flex_flow": null,
            "grid_area": null,
            "grid_auto_columns": null,
            "grid_auto_flow": null,
            "grid_auto_rows": null,
            "grid_column": null,
            "grid_gap": null,
            "grid_row": null,
            "grid_template_areas": null,
            "grid_template_columns": null,
            "grid_template_rows": null,
            "height": null,
            "justify_content": null,
            "justify_items": null,
            "left": null,
            "margin": null,
            "max_height": null,
            "max_width": null,
            "min_height": null,
            "min_width": null,
            "object_fit": null,
            "object_position": null,
            "order": null,
            "overflow": null,
            "overflow_x": null,
            "overflow_y": null,
            "padding": null,
            "right": null,
            "top": null,
            "visibility": null,
            "width": null
          }
        },
        "30a1a8b11f694c3d992e13d5db8fbbf9": {
          "model_module": "@jupyter-widgets/controls",
          "model_name": "DescriptionStyleModel",
          "model_module_version": "1.5.0",
          "state": {
            "_model_module": "@jupyter-widgets/controls",
            "_model_module_version": "1.5.0",
            "_model_name": "DescriptionStyleModel",
            "_view_count": null,
            "_view_module": "@jupyter-widgets/base",
            "_view_module_version": "1.2.0",
            "_view_name": "StyleView",
            "description_width": ""
          }
        },
        "4449d2ab3153428287f56670d9cf862c": {
          "model_module": "@jupyter-widgets/base",
          "model_name": "LayoutModel",
          "model_module_version": "1.2.0",
          "state": {
            "_model_module": "@jupyter-widgets/base",
            "_model_module_version": "1.2.0",
            "_model_name": "LayoutModel",
            "_view_count": null,
            "_view_module": "@jupyter-widgets/base",
            "_view_module_version": "1.2.0",
            "_view_name": "LayoutView",
            "align_content": null,
            "align_items": null,
            "align_self": null,
            "border": null,
            "bottom": null,
            "display": null,
            "flex": null,
            "flex_flow": null,
            "grid_area": null,
            "grid_auto_columns": null,
            "grid_auto_flow": null,
            "grid_auto_rows": null,
            "grid_column": null,
            "grid_gap": null,
            "grid_row": null,
            "grid_template_areas": null,
            "grid_template_columns": null,
            "grid_template_rows": null,
            "height": null,
            "justify_content": null,
            "justify_items": null,
            "left": null,
            "margin": null,
            "max_height": null,
            "max_width": null,
            "min_height": null,
            "min_width": null,
            "object_fit": null,
            "object_position": null,
            "order": null,
            "overflow": null,
            "overflow_x": null,
            "overflow_y": null,
            "padding": null,
            "right": null,
            "top": null,
            "visibility": null,
            "width": null
          }
        },
        "0fe10e810ab14298b6268f9c600bf6a1": {
          "model_module": "@jupyter-widgets/controls",
          "model_name": "ProgressStyleModel",
          "model_module_version": "1.5.0",
          "state": {
            "_model_module": "@jupyter-widgets/controls",
            "_model_module_version": "1.5.0",
            "_model_name": "ProgressStyleModel",
            "_view_count": null,
            "_view_module": "@jupyter-widgets/base",
            "_view_module_version": "1.2.0",
            "_view_name": "StyleView",
            "bar_color": null,
            "description_width": ""
          }
        },
        "3a8b7e55cf2b4cd6adc506ae6f7f78c7": {
          "model_module": "@jupyter-widgets/base",
          "model_name": "LayoutModel",
          "model_module_version": "1.2.0",
          "state": {
            "_model_module": "@jupyter-widgets/base",
            "_model_module_version": "1.2.0",
            "_model_name": "LayoutModel",
            "_view_count": null,
            "_view_module": "@jupyter-widgets/base",
            "_view_module_version": "1.2.0",
            "_view_name": "LayoutView",
            "align_content": null,
            "align_items": null,
            "align_self": null,
            "border": null,
            "bottom": null,
            "display": null,
            "flex": null,
            "flex_flow": null,
            "grid_area": null,
            "grid_auto_columns": null,
            "grid_auto_flow": null,
            "grid_auto_rows": null,
            "grid_column": null,
            "grid_gap": null,
            "grid_row": null,
            "grid_template_areas": null,
            "grid_template_columns": null,
            "grid_template_rows": null,
            "height": null,
            "justify_content": null,
            "justify_items": null,
            "left": null,
            "margin": null,
            "max_height": null,
            "max_width": null,
            "min_height": null,
            "min_width": null,
            "object_fit": null,
            "object_position": null,
            "order": null,
            "overflow": null,
            "overflow_x": null,
            "overflow_y": null,
            "padding": null,
            "right": null,
            "top": null,
            "visibility": null,
            "width": null
          }
        },
        "f2bdc3a338dd4e27a8c9de7770eaef06": {
          "model_module": "@jupyter-widgets/controls",
          "model_name": "DescriptionStyleModel",
          "model_module_version": "1.5.0",
          "state": {
            "_model_module": "@jupyter-widgets/controls",
            "_model_module_version": "1.5.0",
            "_model_name": "DescriptionStyleModel",
            "_view_count": null,
            "_view_module": "@jupyter-widgets/base",
            "_view_module_version": "1.2.0",
            "_view_name": "StyleView",
            "description_width": ""
          }
        },
        "bf85a3de3dd3477fa686844d9a661a15": {
          "model_module": "@jupyter-widgets/controls",
          "model_name": "HBoxModel",
          "model_module_version": "1.5.0",
          "state": {
            "_dom_classes": [],
            "_model_module": "@jupyter-widgets/controls",
            "_model_module_version": "1.5.0",
            "_model_name": "HBoxModel",
            "_view_count": null,
            "_view_module": "@jupyter-widgets/controls",
            "_view_module_version": "1.5.0",
            "_view_name": "HBoxView",
            "box_style": "",
            "children": [
              "IPY_MODEL_318bcef4a3494900b015b1c1172a2f68",
              "IPY_MODEL_d90c277107c04d26ac2bbb259ce9302a",
              "IPY_MODEL_c66af7b29ee540c295f59aa1403f2f6c"
            ],
            "layout": "IPY_MODEL_15d869d0525e42d997b8bec90f263805"
          }
        },
        "318bcef4a3494900b015b1c1172a2f68": {
          "model_module": "@jupyter-widgets/controls",
          "model_name": "HTMLModel",
          "model_module_version": "1.5.0",
          "state": {
            "_dom_classes": [],
            "_model_module": "@jupyter-widgets/controls",
            "_model_module_version": "1.5.0",
            "_model_name": "HTMLModel",
            "_view_count": null,
            "_view_module": "@jupyter-widgets/controls",
            "_view_module_version": "1.5.0",
            "_view_name": "HTMLView",
            "description": "",
            "description_tooltip": null,
            "layout": "IPY_MODEL_ee35fefddff0489394481f0548cda87c",
            "placeholder": "​",
            "style": "IPY_MODEL_29afa218da0547409216e581ff86d90f",
            "value": "Downloading: 100%"
          }
        },
        "d90c277107c04d26ac2bbb259ce9302a": {
          "model_module": "@jupyter-widgets/controls",
          "model_name": "FloatProgressModel",
          "model_module_version": "1.5.0",
          "state": {
            "_dom_classes": [],
            "_model_module": "@jupyter-widgets/controls",
            "_model_module_version": "1.5.0",
            "_model_name": "FloatProgressModel",
            "_view_count": null,
            "_view_module": "@jupyter-widgets/controls",
            "_view_module_version": "1.5.0",
            "_view_name": "ProgressView",
            "bar_style": "success",
            "description": "",
            "description_tooltip": null,
            "layout": "IPY_MODEL_188f5509eaa14ef5a150656a31510a4e",
            "max": 112,
            "min": 0,
            "orientation": "horizontal",
            "style": "IPY_MODEL_a8fe031081964e2f99d1901af1c7fdb0",
            "value": 112
          }
        },
        "c66af7b29ee540c295f59aa1403f2f6c": {
          "model_module": "@jupyter-widgets/controls",
          "model_name": "HTMLModel",
          "model_module_version": "1.5.0",
          "state": {
            "_dom_classes": [],
            "_model_module": "@jupyter-widgets/controls",
            "_model_module_version": "1.5.0",
            "_model_name": "HTMLModel",
            "_view_count": null,
            "_view_module": "@jupyter-widgets/controls",
            "_view_module_version": "1.5.0",
            "_view_name": "HTMLView",
            "description": "",
            "description_tooltip": null,
            "layout": "IPY_MODEL_026da411b2e24e58a5bcf486f509c190",
            "placeholder": "​",
            "style": "IPY_MODEL_13f67f3e57b84f47879d2d49e409a82c",
            "value": " 112/112 [00:00&lt;00:00, 3.40kB/s]"
          }
        },
        "15d869d0525e42d997b8bec90f263805": {
          "model_module": "@jupyter-widgets/base",
          "model_name": "LayoutModel",
          "model_module_version": "1.2.0",
          "state": {
            "_model_module": "@jupyter-widgets/base",
            "_model_module_version": "1.2.0",
            "_model_name": "LayoutModel",
            "_view_count": null,
            "_view_module": "@jupyter-widgets/base",
            "_view_module_version": "1.2.0",
            "_view_name": "LayoutView",
            "align_content": null,
            "align_items": null,
            "align_self": null,
            "border": null,
            "bottom": null,
            "display": null,
            "flex": null,
            "flex_flow": null,
            "grid_area": null,
            "grid_auto_columns": null,
            "grid_auto_flow": null,
            "grid_auto_rows": null,
            "grid_column": null,
            "grid_gap": null,
            "grid_row": null,
            "grid_template_areas": null,
            "grid_template_columns": null,
            "grid_template_rows": null,
            "height": null,
            "justify_content": null,
            "justify_items": null,
            "left": null,
            "margin": null,
            "max_height": null,
            "max_width": null,
            "min_height": null,
            "min_width": null,
            "object_fit": null,
            "object_position": null,
            "order": null,
            "overflow": null,
            "overflow_x": null,
            "overflow_y": null,
            "padding": null,
            "right": null,
            "top": null,
            "visibility": null,
            "width": null
          }
        },
        "ee35fefddff0489394481f0548cda87c": {
          "model_module": "@jupyter-widgets/base",
          "model_name": "LayoutModel",
          "model_module_version": "1.2.0",
          "state": {
            "_model_module": "@jupyter-widgets/base",
            "_model_module_version": "1.2.0",
            "_model_name": "LayoutModel",
            "_view_count": null,
            "_view_module": "@jupyter-widgets/base",
            "_view_module_version": "1.2.0",
            "_view_name": "LayoutView",
            "align_content": null,
            "align_items": null,
            "align_self": null,
            "border": null,
            "bottom": null,
            "display": null,
            "flex": null,
            "flex_flow": null,
            "grid_area": null,
            "grid_auto_columns": null,
            "grid_auto_flow": null,
            "grid_auto_rows": null,
            "grid_column": null,
            "grid_gap": null,
            "grid_row": null,
            "grid_template_areas": null,
            "grid_template_columns": null,
            "grid_template_rows": null,
            "height": null,
            "justify_content": null,
            "justify_items": null,
            "left": null,
            "margin": null,
            "max_height": null,
            "max_width": null,
            "min_height": null,
            "min_width": null,
            "object_fit": null,
            "object_position": null,
            "order": null,
            "overflow": null,
            "overflow_x": null,
            "overflow_y": null,
            "padding": null,
            "right": null,
            "top": null,
            "visibility": null,
            "width": null
          }
        },
        "29afa218da0547409216e581ff86d90f": {
          "model_module": "@jupyter-widgets/controls",
          "model_name": "DescriptionStyleModel",
          "model_module_version": "1.5.0",
          "state": {
            "_model_module": "@jupyter-widgets/controls",
            "_model_module_version": "1.5.0",
            "_model_name": "DescriptionStyleModel",
            "_view_count": null,
            "_view_module": "@jupyter-widgets/base",
            "_view_module_version": "1.2.0",
            "_view_name": "StyleView",
            "description_width": ""
          }
        },
        "188f5509eaa14ef5a150656a31510a4e": {
          "model_module": "@jupyter-widgets/base",
          "model_name": "LayoutModel",
          "model_module_version": "1.2.0",
          "state": {
            "_model_module": "@jupyter-widgets/base",
            "_model_module_version": "1.2.0",
            "_model_name": "LayoutModel",
            "_view_count": null,
            "_view_module": "@jupyter-widgets/base",
            "_view_module_version": "1.2.0",
            "_view_name": "LayoutView",
            "align_content": null,
            "align_items": null,
            "align_self": null,
            "border": null,
            "bottom": null,
            "display": null,
            "flex": null,
            "flex_flow": null,
            "grid_area": null,
            "grid_auto_columns": null,
            "grid_auto_flow": null,
            "grid_auto_rows": null,
            "grid_column": null,
            "grid_gap": null,
            "grid_row": null,
            "grid_template_areas": null,
            "grid_template_columns": null,
            "grid_template_rows": null,
            "height": null,
            "justify_content": null,
            "justify_items": null,
            "left": null,
            "margin": null,
            "max_height": null,
            "max_width": null,
            "min_height": null,
            "min_width": null,
            "object_fit": null,
            "object_position": null,
            "order": null,
            "overflow": null,
            "overflow_x": null,
            "overflow_y": null,
            "padding": null,
            "right": null,
            "top": null,
            "visibility": null,
            "width": null
          }
        },
        "a8fe031081964e2f99d1901af1c7fdb0": {
          "model_module": "@jupyter-widgets/controls",
          "model_name": "ProgressStyleModel",
          "model_module_version": "1.5.0",
          "state": {
            "_model_module": "@jupyter-widgets/controls",
            "_model_module_version": "1.5.0",
            "_model_name": "ProgressStyleModel",
            "_view_count": null,
            "_view_module": "@jupyter-widgets/base",
            "_view_module_version": "1.2.0",
            "_view_name": "StyleView",
            "bar_color": null,
            "description_width": ""
          }
        },
        "026da411b2e24e58a5bcf486f509c190": {
          "model_module": "@jupyter-widgets/base",
          "model_name": "LayoutModel",
          "model_module_version": "1.2.0",
          "state": {
            "_model_module": "@jupyter-widgets/base",
            "_model_module_version": "1.2.0",
            "_model_name": "LayoutModel",
            "_view_count": null,
            "_view_module": "@jupyter-widgets/base",
            "_view_module_version": "1.2.0",
            "_view_name": "LayoutView",
            "align_content": null,
            "align_items": null,
            "align_self": null,
            "border": null,
            "bottom": null,
            "display": null,
            "flex": null,
            "flex_flow": null,
            "grid_area": null,
            "grid_auto_columns": null,
            "grid_auto_flow": null,
            "grid_auto_rows": null,
            "grid_column": null,
            "grid_gap": null,
            "grid_row": null,
            "grid_template_areas": null,
            "grid_template_columns": null,
            "grid_template_rows": null,
            "height": null,
            "justify_content": null,
            "justify_items": null,
            "left": null,
            "margin": null,
            "max_height": null,
            "max_width": null,
            "min_height": null,
            "min_width": null,
            "object_fit": null,
            "object_position": null,
            "order": null,
            "overflow": null,
            "overflow_x": null,
            "overflow_y": null,
            "padding": null,
            "right": null,
            "top": null,
            "visibility": null,
            "width": null
          }
        },
        "13f67f3e57b84f47879d2d49e409a82c": {
          "model_module": "@jupyter-widgets/controls",
          "model_name": "DescriptionStyleModel",
          "model_module_version": "1.5.0",
          "state": {
            "_model_module": "@jupyter-widgets/controls",
            "_model_module_version": "1.5.0",
            "_model_name": "DescriptionStyleModel",
            "_view_count": null,
            "_view_module": "@jupyter-widgets/base",
            "_view_module_version": "1.2.0",
            "_view_name": "StyleView",
            "description_width": ""
          }
        },
        "1c7ed902ba19455194c9bd72405f2ebd": {
          "model_module": "@jupyter-widgets/controls",
          "model_name": "HBoxModel",
          "model_module_version": "1.5.0",
          "state": {
            "_dom_classes": [],
            "_model_module": "@jupyter-widgets/controls",
            "_model_module_version": "1.5.0",
            "_model_name": "HBoxModel",
            "_view_count": null,
            "_view_module": "@jupyter-widgets/controls",
            "_view_module_version": "1.5.0",
            "_view_name": "HBoxView",
            "box_style": "",
            "children": [
              "IPY_MODEL_5e5cb419a27b4a2ebd43964ca44efcf1",
              "IPY_MODEL_df088b4fe5be4bdcbc6111d5fa4b2e3f",
              "IPY_MODEL_7a443a1dad7f4d88a44b9f9db50c534b"
            ],
            "layout": "IPY_MODEL_e1a9eaeea65d46208652ecb49f68434a"
          }
        },
        "5e5cb419a27b4a2ebd43964ca44efcf1": {
          "model_module": "@jupyter-widgets/controls",
          "model_name": "HTMLModel",
          "model_module_version": "1.5.0",
          "state": {
            "_dom_classes": [],
            "_model_module": "@jupyter-widgets/controls",
            "_model_module_version": "1.5.0",
            "_model_name": "HTMLModel",
            "_view_count": null,
            "_view_module": "@jupyter-widgets/controls",
            "_view_module_version": "1.5.0",
            "_view_name": "HTMLView",
            "description": "",
            "description_tooltip": null,
            "layout": "IPY_MODEL_40b991bbe3474b7384c8b404710cb883",
            "placeholder": "​",
            "style": "IPY_MODEL_76712bd22ec14118b74d8dc7dd586857",
            "value": "Downloading: 100%"
          }
        },
        "df088b4fe5be4bdcbc6111d5fa4b2e3f": {
          "model_module": "@jupyter-widgets/controls",
          "model_name": "FloatProgressModel",
          "model_module_version": "1.5.0",
          "state": {
            "_dom_classes": [],
            "_model_module": "@jupyter-widgets/controls",
            "_model_module_version": "1.5.0",
            "_model_name": "FloatProgressModel",
            "_view_count": null,
            "_view_module": "@jupyter-widgets/controls",
            "_view_module_version": "1.5.0",
            "_view_name": "ProgressView",
            "bar_style": "success",
            "description": "",
            "description_tooltip": null,
            "layout": "IPY_MODEL_dedd452453a942dfb1ab83a82fb51be1",
            "max": 43,
            "min": 0,
            "orientation": "horizontal",
            "style": "IPY_MODEL_2f5eb3f6d1bb44999e1529834fa348f7",
            "value": 43
          }
        },
        "7a443a1dad7f4d88a44b9f9db50c534b": {
          "model_module": "@jupyter-widgets/controls",
          "model_name": "HTMLModel",
          "model_module_version": "1.5.0",
          "state": {
            "_dom_classes": [],
            "_model_module": "@jupyter-widgets/controls",
            "_model_module_version": "1.5.0",
            "_model_name": "HTMLModel",
            "_view_count": null,
            "_view_module": "@jupyter-widgets/controls",
            "_view_module_version": "1.5.0",
            "_view_name": "HTMLView",
            "description": "",
            "description_tooltip": null,
            "layout": "IPY_MODEL_c88ff51b761a4e6bb8d07d27eec12ed0",
            "placeholder": "​",
            "style": "IPY_MODEL_a0c561b4fa5a479a8198d97c8b7c2315",
            "value": " 43.0/43.0 [00:00&lt;00:00, 1.33kB/s]"
          }
        },
        "e1a9eaeea65d46208652ecb49f68434a": {
          "model_module": "@jupyter-widgets/base",
          "model_name": "LayoutModel",
          "model_module_version": "1.2.0",
          "state": {
            "_model_module": "@jupyter-widgets/base",
            "_model_module_version": "1.2.0",
            "_model_name": "LayoutModel",
            "_view_count": null,
            "_view_module": "@jupyter-widgets/base",
            "_view_module_version": "1.2.0",
            "_view_name": "LayoutView",
            "align_content": null,
            "align_items": null,
            "align_self": null,
            "border": null,
            "bottom": null,
            "display": null,
            "flex": null,
            "flex_flow": null,
            "grid_area": null,
            "grid_auto_columns": null,
            "grid_auto_flow": null,
            "grid_auto_rows": null,
            "grid_column": null,
            "grid_gap": null,
            "grid_row": null,
            "grid_template_areas": null,
            "grid_template_columns": null,
            "grid_template_rows": null,
            "height": null,
            "justify_content": null,
            "justify_items": null,
            "left": null,
            "margin": null,
            "max_height": null,
            "max_width": null,
            "min_height": null,
            "min_width": null,
            "object_fit": null,
            "object_position": null,
            "order": null,
            "overflow": null,
            "overflow_x": null,
            "overflow_y": null,
            "padding": null,
            "right": null,
            "top": null,
            "visibility": null,
            "width": null
          }
        },
        "40b991bbe3474b7384c8b404710cb883": {
          "model_module": "@jupyter-widgets/base",
          "model_name": "LayoutModel",
          "model_module_version": "1.2.0",
          "state": {
            "_model_module": "@jupyter-widgets/base",
            "_model_module_version": "1.2.0",
            "_model_name": "LayoutModel",
            "_view_count": null,
            "_view_module": "@jupyter-widgets/base",
            "_view_module_version": "1.2.0",
            "_view_name": "LayoutView",
            "align_content": null,
            "align_items": null,
            "align_self": null,
            "border": null,
            "bottom": null,
            "display": null,
            "flex": null,
            "flex_flow": null,
            "grid_area": null,
            "grid_auto_columns": null,
            "grid_auto_flow": null,
            "grid_auto_rows": null,
            "grid_column": null,
            "grid_gap": null,
            "grid_row": null,
            "grid_template_areas": null,
            "grid_template_columns": null,
            "grid_template_rows": null,
            "height": null,
            "justify_content": null,
            "justify_items": null,
            "left": null,
            "margin": null,
            "max_height": null,
            "max_width": null,
            "min_height": null,
            "min_width": null,
            "object_fit": null,
            "object_position": null,
            "order": null,
            "overflow": null,
            "overflow_x": null,
            "overflow_y": null,
            "padding": null,
            "right": null,
            "top": null,
            "visibility": null,
            "width": null
          }
        },
        "76712bd22ec14118b74d8dc7dd586857": {
          "model_module": "@jupyter-widgets/controls",
          "model_name": "DescriptionStyleModel",
          "model_module_version": "1.5.0",
          "state": {
            "_model_module": "@jupyter-widgets/controls",
            "_model_module_version": "1.5.0",
            "_model_name": "DescriptionStyleModel",
            "_view_count": null,
            "_view_module": "@jupyter-widgets/base",
            "_view_module_version": "1.2.0",
            "_view_name": "StyleView",
            "description_width": ""
          }
        },
        "dedd452453a942dfb1ab83a82fb51be1": {
          "model_module": "@jupyter-widgets/base",
          "model_name": "LayoutModel",
          "model_module_version": "1.2.0",
          "state": {
            "_model_module": "@jupyter-widgets/base",
            "_model_module_version": "1.2.0",
            "_model_name": "LayoutModel",
            "_view_count": null,
            "_view_module": "@jupyter-widgets/base",
            "_view_module_version": "1.2.0",
            "_view_name": "LayoutView",
            "align_content": null,
            "align_items": null,
            "align_self": null,
            "border": null,
            "bottom": null,
            "display": null,
            "flex": null,
            "flex_flow": null,
            "grid_area": null,
            "grid_auto_columns": null,
            "grid_auto_flow": null,
            "grid_auto_rows": null,
            "grid_column": null,
            "grid_gap": null,
            "grid_row": null,
            "grid_template_areas": null,
            "grid_template_columns": null,
            "grid_template_rows": null,
            "height": null,
            "justify_content": null,
            "justify_items": null,
            "left": null,
            "margin": null,
            "max_height": null,
            "max_width": null,
            "min_height": null,
            "min_width": null,
            "object_fit": null,
            "object_position": null,
            "order": null,
            "overflow": null,
            "overflow_x": null,
            "overflow_y": null,
            "padding": null,
            "right": null,
            "top": null,
            "visibility": null,
            "width": null
          }
        },
        "2f5eb3f6d1bb44999e1529834fa348f7": {
          "model_module": "@jupyter-widgets/controls",
          "model_name": "ProgressStyleModel",
          "model_module_version": "1.5.0",
          "state": {
            "_model_module": "@jupyter-widgets/controls",
            "_model_module_version": "1.5.0",
            "_model_name": "ProgressStyleModel",
            "_view_count": null,
            "_view_module": "@jupyter-widgets/base",
            "_view_module_version": "1.2.0",
            "_view_name": "StyleView",
            "bar_color": null,
            "description_width": ""
          }
        },
        "c88ff51b761a4e6bb8d07d27eec12ed0": {
          "model_module": "@jupyter-widgets/base",
          "model_name": "LayoutModel",
          "model_module_version": "1.2.0",
          "state": {
            "_model_module": "@jupyter-widgets/base",
            "_model_module_version": "1.2.0",
            "_model_name": "LayoutModel",
            "_view_count": null,
            "_view_module": "@jupyter-widgets/base",
            "_view_module_version": "1.2.0",
            "_view_name": "LayoutView",
            "align_content": null,
            "align_items": null,
            "align_self": null,
            "border": null,
            "bottom": null,
            "display": null,
            "flex": null,
            "flex_flow": null,
            "grid_area": null,
            "grid_auto_columns": null,
            "grid_auto_flow": null,
            "grid_auto_rows": null,
            "grid_column": null,
            "grid_gap": null,
            "grid_row": null,
            "grid_template_areas": null,
            "grid_template_columns": null,
            "grid_template_rows": null,
            "height": null,
            "justify_content": null,
            "justify_items": null,
            "left": null,
            "margin": null,
            "max_height": null,
            "max_width": null,
            "min_height": null,
            "min_width": null,
            "object_fit": null,
            "object_position": null,
            "order": null,
            "overflow": null,
            "overflow_x": null,
            "overflow_y": null,
            "padding": null,
            "right": null,
            "top": null,
            "visibility": null,
            "width": null
          }
        },
        "a0c561b4fa5a479a8198d97c8b7c2315": {
          "model_module": "@jupyter-widgets/controls",
          "model_name": "DescriptionStyleModel",
          "model_module_version": "1.5.0",
          "state": {
            "_model_module": "@jupyter-widgets/controls",
            "_model_module_version": "1.5.0",
            "_model_name": "DescriptionStyleModel",
            "_view_count": null,
            "_view_module": "@jupyter-widgets/base",
            "_view_module_version": "1.2.0",
            "_view_name": "StyleView",
            "description_width": ""
          }
        },
        "eb6fc5c62cfb4b58b0be787f8829ebc1": {
          "model_module": "@jupyter-widgets/controls",
          "model_name": "HBoxModel",
          "model_module_version": "1.5.0",
          "state": {
            "_dom_classes": [],
            "_model_module": "@jupyter-widgets/controls",
            "_model_module_version": "1.5.0",
            "_model_name": "HBoxModel",
            "_view_count": null,
            "_view_module": "@jupyter-widgets/controls",
            "_view_module_version": "1.5.0",
            "_view_name": "HBoxView",
            "box_style": "",
            "children": [
              "IPY_MODEL_576576a4bcee48cf9aae481235ecae4e",
              "IPY_MODEL_240928fe31894a9e87fddb9526c44552",
              "IPY_MODEL_6d28bb02b56d4cdf821d3714308f7427"
            ],
            "layout": "IPY_MODEL_c5f0ba1405f64f7f808b9b982bfd3081"
          }
        },
        "576576a4bcee48cf9aae481235ecae4e": {
          "model_module": "@jupyter-widgets/controls",
          "model_name": "HTMLModel",
          "model_module_version": "1.5.0",
          "state": {
            "_dom_classes": [],
            "_model_module": "@jupyter-widgets/controls",
            "_model_module_version": "1.5.0",
            "_model_name": "HTMLModel",
            "_view_count": null,
            "_view_module": "@jupyter-widgets/controls",
            "_view_module_version": "1.5.0",
            "_view_name": "HTMLView",
            "description": "",
            "description_tooltip": null,
            "layout": "IPY_MODEL_e264487111dc44f38704b5d05ceda1d4",
            "placeholder": "​",
            "style": "IPY_MODEL_498f310ce5794ffdbf62421623d92393",
            "value": "Downloading: 100%"
          }
        },
        "240928fe31894a9e87fddb9526c44552": {
          "model_module": "@jupyter-widgets/controls",
          "model_name": "FloatProgressModel",
          "model_module_version": "1.5.0",
          "state": {
            "_dom_classes": [],
            "_model_module": "@jupyter-widgets/controls",
            "_model_module_version": "1.5.0",
            "_model_name": "FloatProgressModel",
            "_view_count": null,
            "_view_module": "@jupyter-widgets/controls",
            "_view_module_version": "1.5.0",
            "_view_name": "ProgressView",
            "bar_style": "success",
            "description": "",
            "description_tooltip": null,
            "layout": "IPY_MODEL_cfd09cc242584f89940d9b15792d8d71",
            "max": 647,
            "min": 0,
            "orientation": "horizontal",
            "style": "IPY_MODEL_511221767f3f4780a7a9828ce76f1a30",
            "value": 647
          }
        },
        "6d28bb02b56d4cdf821d3714308f7427": {
          "model_module": "@jupyter-widgets/controls",
          "model_name": "HTMLModel",
          "model_module_version": "1.5.0",
          "state": {
            "_dom_classes": [],
            "_model_module": "@jupyter-widgets/controls",
            "_model_module_version": "1.5.0",
            "_model_name": "HTMLModel",
            "_view_count": null,
            "_view_module": "@jupyter-widgets/controls",
            "_view_module_version": "1.5.0",
            "_view_name": "HTMLView",
            "description": "",
            "description_tooltip": null,
            "layout": "IPY_MODEL_c16618845876426b9d2afc1a1344fec8",
            "placeholder": "​",
            "style": "IPY_MODEL_747769302bed441e8634bbabe31d9083",
            "value": " 647/647 [00:00&lt;00:00, 16.9kB/s]"
          }
        },
        "c5f0ba1405f64f7f808b9b982bfd3081": {
          "model_module": "@jupyter-widgets/base",
          "model_name": "LayoutModel",
          "model_module_version": "1.2.0",
          "state": {
            "_model_module": "@jupyter-widgets/base",
            "_model_module_version": "1.2.0",
            "_model_name": "LayoutModel",
            "_view_count": null,
            "_view_module": "@jupyter-widgets/base",
            "_view_module_version": "1.2.0",
            "_view_name": "LayoutView",
            "align_content": null,
            "align_items": null,
            "align_self": null,
            "border": null,
            "bottom": null,
            "display": null,
            "flex": null,
            "flex_flow": null,
            "grid_area": null,
            "grid_auto_columns": null,
            "grid_auto_flow": null,
            "grid_auto_rows": null,
            "grid_column": null,
            "grid_gap": null,
            "grid_row": null,
            "grid_template_areas": null,
            "grid_template_columns": null,
            "grid_template_rows": null,
            "height": null,
            "justify_content": null,
            "justify_items": null,
            "left": null,
            "margin": null,
            "max_height": null,
            "max_width": null,
            "min_height": null,
            "min_width": null,
            "object_fit": null,
            "object_position": null,
            "order": null,
            "overflow": null,
            "overflow_x": null,
            "overflow_y": null,
            "padding": null,
            "right": null,
            "top": null,
            "visibility": null,
            "width": null
          }
        },
        "e264487111dc44f38704b5d05ceda1d4": {
          "model_module": "@jupyter-widgets/base",
          "model_name": "LayoutModel",
          "model_module_version": "1.2.0",
          "state": {
            "_model_module": "@jupyter-widgets/base",
            "_model_module_version": "1.2.0",
            "_model_name": "LayoutModel",
            "_view_count": null,
            "_view_module": "@jupyter-widgets/base",
            "_view_module_version": "1.2.0",
            "_view_name": "LayoutView",
            "align_content": null,
            "align_items": null,
            "align_self": null,
            "border": null,
            "bottom": null,
            "display": null,
            "flex": null,
            "flex_flow": null,
            "grid_area": null,
            "grid_auto_columns": null,
            "grid_auto_flow": null,
            "grid_auto_rows": null,
            "grid_column": null,
            "grid_gap": null,
            "grid_row": null,
            "grid_template_areas": null,
            "grid_template_columns": null,
            "grid_template_rows": null,
            "height": null,
            "justify_content": null,
            "justify_items": null,
            "left": null,
            "margin": null,
            "max_height": null,
            "max_width": null,
            "min_height": null,
            "min_width": null,
            "object_fit": null,
            "object_position": null,
            "order": null,
            "overflow": null,
            "overflow_x": null,
            "overflow_y": null,
            "padding": null,
            "right": null,
            "top": null,
            "visibility": null,
            "width": null
          }
        },
        "498f310ce5794ffdbf62421623d92393": {
          "model_module": "@jupyter-widgets/controls",
          "model_name": "DescriptionStyleModel",
          "model_module_version": "1.5.0",
          "state": {
            "_model_module": "@jupyter-widgets/controls",
            "_model_module_version": "1.5.0",
            "_model_name": "DescriptionStyleModel",
            "_view_count": null,
            "_view_module": "@jupyter-widgets/base",
            "_view_module_version": "1.2.0",
            "_view_name": "StyleView",
            "description_width": ""
          }
        },
        "cfd09cc242584f89940d9b15792d8d71": {
          "model_module": "@jupyter-widgets/base",
          "model_name": "LayoutModel",
          "model_module_version": "1.2.0",
          "state": {
            "_model_module": "@jupyter-widgets/base",
            "_model_module_version": "1.2.0",
            "_model_name": "LayoutModel",
            "_view_count": null,
            "_view_module": "@jupyter-widgets/base",
            "_view_module_version": "1.2.0",
            "_view_name": "LayoutView",
            "align_content": null,
            "align_items": null,
            "align_self": null,
            "border": null,
            "bottom": null,
            "display": null,
            "flex": null,
            "flex_flow": null,
            "grid_area": null,
            "grid_auto_columns": null,
            "grid_auto_flow": null,
            "grid_auto_rows": null,
            "grid_column": null,
            "grid_gap": null,
            "grid_row": null,
            "grid_template_areas": null,
            "grid_template_columns": null,
            "grid_template_rows": null,
            "height": null,
            "justify_content": null,
            "justify_items": null,
            "left": null,
            "margin": null,
            "max_height": null,
            "max_width": null,
            "min_height": null,
            "min_width": null,
            "object_fit": null,
            "object_position": null,
            "order": null,
            "overflow": null,
            "overflow_x": null,
            "overflow_y": null,
            "padding": null,
            "right": null,
            "top": null,
            "visibility": null,
            "width": null
          }
        },
        "511221767f3f4780a7a9828ce76f1a30": {
          "model_module": "@jupyter-widgets/controls",
          "model_name": "ProgressStyleModel",
          "model_module_version": "1.5.0",
          "state": {
            "_model_module": "@jupyter-widgets/controls",
            "_model_module_version": "1.5.0",
            "_model_name": "ProgressStyleModel",
            "_view_count": null,
            "_view_module": "@jupyter-widgets/base",
            "_view_module_version": "1.2.0",
            "_view_name": "StyleView",
            "bar_color": null,
            "description_width": ""
          }
        },
        "c16618845876426b9d2afc1a1344fec8": {
          "model_module": "@jupyter-widgets/base",
          "model_name": "LayoutModel",
          "model_module_version": "1.2.0",
          "state": {
            "_model_module": "@jupyter-widgets/base",
            "_model_module_version": "1.2.0",
            "_model_name": "LayoutModel",
            "_view_count": null,
            "_view_module": "@jupyter-widgets/base",
            "_view_module_version": "1.2.0",
            "_view_name": "LayoutView",
            "align_content": null,
            "align_items": null,
            "align_self": null,
            "border": null,
            "bottom": null,
            "display": null,
            "flex": null,
            "flex_flow": null,
            "grid_area": null,
            "grid_auto_columns": null,
            "grid_auto_flow": null,
            "grid_auto_rows": null,
            "grid_column": null,
            "grid_gap": null,
            "grid_row": null,
            "grid_template_areas": null,
            "grid_template_columns": null,
            "grid_template_rows": null,
            "height": null,
            "justify_content": null,
            "justify_items": null,
            "left": null,
            "margin": null,
            "max_height": null,
            "max_width": null,
            "min_height": null,
            "min_width": null,
            "object_fit": null,
            "object_position": null,
            "order": null,
            "overflow": null,
            "overflow_x": null,
            "overflow_y": null,
            "padding": null,
            "right": null,
            "top": null,
            "visibility": null,
            "width": null
          }
        },
        "747769302bed441e8634bbabe31d9083": {
          "model_module": "@jupyter-widgets/controls",
          "model_name": "DescriptionStyleModel",
          "model_module_version": "1.5.0",
          "state": {
            "_model_module": "@jupyter-widgets/controls",
            "_model_module_version": "1.5.0",
            "_model_name": "DescriptionStyleModel",
            "_view_count": null,
            "_view_module": "@jupyter-widgets/base",
            "_view_module_version": "1.2.0",
            "_view_name": "StyleView",
            "description_width": ""
          }
        }
      }
    },
    "accelerator": "GPU"
  },
  "nbformat": 4,
  "nbformat_minor": 0
}